{
 "cells": [
  {
   "cell_type": "markdown",
   "metadata": {},
   "source": [
    "**Цель исследования** - изучить рынок российского кинопроката и исследовать фильмы, которые государственную поддержку.\n",
    "\n",
    "**Этапы проекта**:\n",
    "\n",
    "- **Шаг 1. Получение данных о российском кинопрокате**\n",
    "- **Шаг 2. Предобработка полученных данных:**\n",
    "\n",
    "    1) Проверка типов \\n",
    "    2) Устранение пропусков \\n",
    "    3) Устранение явных и неявных дубликатов \\n",
    "    4) Устранение некорректных категориальных значений \\n",
    "    5) Устранение некорректных количественных значений \\n",
    "    6) Добавление новых столбцов\n",
    "\n",
    "\n",
    "- **Шаг 3. Исследовательский анализ данных**\n",
    "- **Шаг 4. Исследование фильмов, которые получили государственную поддержку**\n",
    "- **Шаг 5. Общий вывод**"
   ]
  },
  {
   "cell_type": "markdown",
   "metadata": {
    "id": "sIfNaMOxgFyK"
   },
   "source": [
    "# Исследование данных о российском кинопрокате\n",
    "\n"
   ]
  },
  {
   "cell_type": "markdown",
   "metadata": {
    "id": "3bSlkCsbgFyL"
   },
   "source": [
    "## Шаг 1. Откройте файлы с данными и объедините их в один датафрейм. \n",
    "\n",
    "Объедините данные таким образом, чтобы все объекты из датасета `mkrf_movies` обязательно вошли в получившийся датафрейм. \n",
    "\n",
    "<div id=\"accordion\">\n",
    "    <div class=\"card\">\n",
    "        <div class=\"card-header\" id=\"headingThree\">\n",
    "            <button class=\"btn btn-link collapsed\" data-toggle=\"collapse\" data-target=\"#collapseHint_0\" aria-expanded=\"false\" aria-controls=\"collapseHint_0\">Подсказка</button>\n",
    "        </div>\n",
    "        <div id=\"collapseHint_0\" class=\"collapse\" aria-labelledby=\"headingThree\" data-parent=\"#accordion\">\n",
    "            <div class=\"card-body\">\n",
    "Обратите внимание на тип данных столбца, по которому будете соединять датафреймы. Тип данных этих столбцов должен быть одинаковым в обоих датафреймах.\n",
    "            </div>\n",
    "        </div>\n",
    "    </div>\n",
    "</div>"
   ]
  },
  {
   "cell_type": "code",
   "execution_count": 1,
   "metadata": {},
   "outputs": [],
   "source": [
    "import pandas as pd\n",
    "import seaborn as sns\n",
    "import matplotlib.pyplot as plt"
   ]
  },
  {
   "cell_type": "code",
   "execution_count": 2,
   "metadata": {
    "id": "dw87FlzMgFyM"
   },
   "outputs": [],
   "source": [
    "# Получим данные о прокатных удостоверениях безопасным способом при помощи конструкции try-except\n",
    "try:\n",
    "    mkrf_movies = pd.read_csv('/datasets/mkrf_movies.csv')\n",
    "except:\n",
    "    mkrf_movies = pd.read_csv('https://code.s3.yandex.net/datasets/mkrf_movies.csv')"
   ]
  },
  {
   "cell_type": "code",
   "execution_count": 3,
   "metadata": {},
   "outputs": [],
   "source": [
    "# Получим данные о прокате в российских кинотеатрах безопасным способом при помощи конструкции try-except\n",
    "try:\n",
    "    mkrf_shows = pd.read_csv('/datasets/mkrf_shows.csv')\n",
    "except:\n",
    "    mkrf_shows = pd.read_csv('https://code.s3.yandex.net/datasets/mkrf_shows.csv')"
   ]
  },
  {
   "cell_type": "code",
   "execution_count": 4,
   "metadata": {},
   "outputs": [],
   "source": [
    "# Изменим тип данных в столбце puNumber на object для того, чтобы успешно объединить оба датафрейма по этому столбцу\n",
    "# Оставшиеся несовпадения типов обработаем на этапе предобработки данных\n",
    "mkrf_movies = mkrf_movies.astype({'puNumber': 'str'})\n",
    "mkrf_shows = mkrf_shows.astype({'puNumber': 'str'})\n",
    "data = mkrf_movies.merge(mkrf_shows, how='outer')"
   ]
  },
  {
   "cell_type": "code",
   "execution_count": 5,
   "metadata": {},
   "outputs": [
    {
     "data": {
      "text/html": [
       "<div>\n",
       "<style scoped>\n",
       "    .dataframe tbody tr th:only-of-type {\n",
       "        vertical-align: middle;\n",
       "    }\n",
       "\n",
       "    .dataframe tbody tr th {\n",
       "        vertical-align: top;\n",
       "    }\n",
       "\n",
       "    .dataframe thead th {\n",
       "        text-align: right;\n",
       "    }\n",
       "</style>\n",
       "<table border=\"1\" class=\"dataframe\">\n",
       "  <thead>\n",
       "    <tr style=\"text-align: right;\">\n",
       "      <th></th>\n",
       "      <th>title</th>\n",
       "      <th>puNumber</th>\n",
       "      <th>show_start_date</th>\n",
       "      <th>type</th>\n",
       "      <th>film_studio</th>\n",
       "      <th>production_country</th>\n",
       "      <th>director</th>\n",
       "      <th>producer</th>\n",
       "      <th>age_restriction</th>\n",
       "      <th>refundable_support</th>\n",
       "      <th>nonrefundable_support</th>\n",
       "      <th>budget</th>\n",
       "      <th>financing_source</th>\n",
       "      <th>ratings</th>\n",
       "      <th>genres</th>\n",
       "      <th>box_office</th>\n",
       "    </tr>\n",
       "  </thead>\n",
       "  <tbody>\n",
       "    <tr>\n",
       "      <th>0</th>\n",
       "      <td>Открытый простор</td>\n",
       "      <td>221048915</td>\n",
       "      <td>2015-11-27T12:00:00.000Z</td>\n",
       "      <td>Художественный</td>\n",
       "      <td>Тачстоун Пикчерз, Кобальт Пикчерз, Бикон Пикче...</td>\n",
       "      <td>США</td>\n",
       "      <td>Кевин Костнер</td>\n",
       "      <td>Дэвид Валдес, Кевин Костнер, Джейк Эбертс</td>\n",
       "      <td>«18+» - запрещено для детей</td>\n",
       "      <td>NaN</td>\n",
       "      <td>NaN</td>\n",
       "      <td>NaN</td>\n",
       "      <td>NaN</td>\n",
       "      <td>7.2</td>\n",
       "      <td>боевик,драма,мелодрама</td>\n",
       "      <td>NaN</td>\n",
       "    </tr>\n",
       "    <tr>\n",
       "      <th>1</th>\n",
       "      <td>Особо важное задание</td>\n",
       "      <td>111013716</td>\n",
       "      <td>2016-09-13T12:00:00.000Z</td>\n",
       "      <td>Художественный</td>\n",
       "      <td>Киностудия \"Мосфильм\"</td>\n",
       "      <td>СССР</td>\n",
       "      <td>Е.Матвеев</td>\n",
       "      <td>NaN</td>\n",
       "      <td>«6+» - для детей старше 6 лет</td>\n",
       "      <td>NaN</td>\n",
       "      <td>NaN</td>\n",
       "      <td>NaN</td>\n",
       "      <td>NaN</td>\n",
       "      <td>6.6</td>\n",
       "      <td>драма,военный</td>\n",
       "      <td>NaN</td>\n",
       "    </tr>\n",
       "    <tr>\n",
       "      <th>2</th>\n",
       "      <td>Особо опасен</td>\n",
       "      <td>221038416</td>\n",
       "      <td>2016-10-10T12:00:00.000Z</td>\n",
       "      <td>Художественный</td>\n",
       "      <td>Юниверсал Пикчерз, Кикстарт Продакшнз, Марк Пл...</td>\n",
       "      <td>США</td>\n",
       "      <td>Тимур Бекмамбетов</td>\n",
       "      <td>Джим Лемли, Джейсон Нетер, Марк Е.Платт, Яйн Смит</td>\n",
       "      <td>«18+» - запрещено для детей</td>\n",
       "      <td>NaN</td>\n",
       "      <td>NaN</td>\n",
       "      <td>NaN</td>\n",
       "      <td>NaN</td>\n",
       "      <td>6.8</td>\n",
       "      <td>фантастика,боевик,триллер</td>\n",
       "      <td>NaN</td>\n",
       "    </tr>\n",
       "    <tr>\n",
       "      <th>3</th>\n",
       "      <td>Особо опасен</td>\n",
       "      <td>221026916</td>\n",
       "      <td>2016-06-10T12:00:00.000Z</td>\n",
       "      <td>Художественный</td>\n",
       "      <td>Юниверсал Пикчерз, Кикстарт Продакшнз, Марк Пл...</td>\n",
       "      <td>США</td>\n",
       "      <td>Тимур Бекмамбетов</td>\n",
       "      <td>Джим Лемли, Джейсон Нетер, Марк Е.Платт, Яйн Смит</td>\n",
       "      <td>«18+» - запрещено для детей</td>\n",
       "      <td>NaN</td>\n",
       "      <td>NaN</td>\n",
       "      <td>NaN</td>\n",
       "      <td>NaN</td>\n",
       "      <td>6.8</td>\n",
       "      <td>фантастика,боевик,триллер</td>\n",
       "      <td>NaN</td>\n",
       "    </tr>\n",
       "    <tr>\n",
       "      <th>4</th>\n",
       "      <td>Особо опасен</td>\n",
       "      <td>221030815</td>\n",
       "      <td>2015-07-29T12:00:00.000Z</td>\n",
       "      <td>Художественный</td>\n",
       "      <td>Юниверсал Пикчерз, Кикстарт Продакшнз, Марк Пл...</td>\n",
       "      <td>США</td>\n",
       "      <td>Тимур Бекмамбетов</td>\n",
       "      <td>Джим Лемли, Джейсон Нетер, Марк Е.Платт, Яйн Смит</td>\n",
       "      <td>«18+» - запрещено для детей</td>\n",
       "      <td>NaN</td>\n",
       "      <td>NaN</td>\n",
       "      <td>NaN</td>\n",
       "      <td>NaN</td>\n",
       "      <td>6.8</td>\n",
       "      <td>фантастика,боевик,триллер</td>\n",
       "      <td>NaN</td>\n",
       "    </tr>\n",
       "  </tbody>\n",
       "</table>\n",
       "</div>"
      ],
      "text/plain": [
       "                  title   puNumber           show_start_date            type  \\\n",
       "0      Открытый простор  221048915  2015-11-27T12:00:00.000Z  Художественный   \n",
       "1  Особо важное задание  111013716  2016-09-13T12:00:00.000Z  Художественный   \n",
       "2          Особо опасен  221038416  2016-10-10T12:00:00.000Z  Художественный   \n",
       "3          Особо опасен  221026916  2016-06-10T12:00:00.000Z  Художественный   \n",
       "4          Особо опасен  221030815  2015-07-29T12:00:00.000Z  Художественный   \n",
       "\n",
       "                                         film_studio production_country  \\\n",
       "0  Тачстоун Пикчерз, Кобальт Пикчерз, Бикон Пикче...                США   \n",
       "1                              Киностудия \"Мосфильм\"               СССР   \n",
       "2  Юниверсал Пикчерз, Кикстарт Продакшнз, Марк Пл...                США   \n",
       "3  Юниверсал Пикчерз, Кикстарт Продакшнз, Марк Пл...                США   \n",
       "4  Юниверсал Пикчерз, Кикстарт Продакшнз, Марк Пл...                США   \n",
       "\n",
       "            director                                           producer  \\\n",
       "0      Кевин Костнер          Дэвид Валдес, Кевин Костнер, Джейк Эбертс   \n",
       "1          Е.Матвеев                                                NaN   \n",
       "2  Тимур Бекмамбетов  Джим Лемли, Джейсон Нетер, Марк Е.Платт, Яйн Смит   \n",
       "3  Тимур Бекмамбетов  Джим Лемли, Джейсон Нетер, Марк Е.Платт, Яйн Смит   \n",
       "4  Тимур Бекмамбетов  Джим Лемли, Джейсон Нетер, Марк Е.Платт, Яйн Смит   \n",
       "\n",
       "                 age_restriction  refundable_support  nonrefundable_support  \\\n",
       "0    «18+» - запрещено для детей                 NaN                    NaN   \n",
       "1  «6+» - для детей старше 6 лет                 NaN                    NaN   \n",
       "2    «18+» - запрещено для детей                 NaN                    NaN   \n",
       "3    «18+» - запрещено для детей                 NaN                    NaN   \n",
       "4    «18+» - запрещено для детей                 NaN                    NaN   \n",
       "\n",
       "   budget financing_source ratings                     genres  box_office  \n",
       "0     NaN              NaN     7.2     боевик,драма,мелодрама         NaN  \n",
       "1     NaN              NaN     6.6              драма,военный         NaN  \n",
       "2     NaN              NaN     6.8  фантастика,боевик,триллер         NaN  \n",
       "3     NaN              NaN     6.8  фантастика,боевик,триллер         NaN  \n",
       "4     NaN              NaN     6.8  фантастика,боевик,триллер         NaN  "
      ]
     },
     "execution_count": 5,
     "metadata": {},
     "output_type": "execute_result"
    }
   ],
   "source": [
    "data.head()"
   ]
  },
  {
   "cell_type": "code",
   "execution_count": 6,
   "metadata": {},
   "outputs": [
    {
     "name": "stdout",
     "output_type": "stream",
     "text": [
      "<class 'pandas.core.frame.DataFrame'>\n",
      "Int64Index: 7486 entries, 0 to 7485\n",
      "Data columns (total 16 columns):\n",
      " #   Column                 Non-Null Count  Dtype  \n",
      "---  ------                 --------------  -----  \n",
      " 0   title                  7486 non-null   object \n",
      " 1   puNumber               7486 non-null   object \n",
      " 2   show_start_date        7486 non-null   object \n",
      " 3   type                   7486 non-null   object \n",
      " 4   film_studio            7468 non-null   object \n",
      " 5   production_country     7484 non-null   object \n",
      " 6   director               7477 non-null   object \n",
      " 7   producer               6918 non-null   object \n",
      " 8   age_restriction        7486 non-null   object \n",
      " 9   refundable_support     332 non-null    float64\n",
      " 10  nonrefundable_support  332 non-null    float64\n",
      " 11  budget                 332 non-null    float64\n",
      " 12  financing_source       332 non-null    object \n",
      " 13  ratings                6519 non-null   object \n",
      " 14  genres                 6510 non-null   object \n",
      " 15  box_office             3158 non-null   float64\n",
      "dtypes: float64(4), object(12)\n",
      "memory usage: 994.2+ KB\n"
     ]
    }
   ],
   "source": [
    "data.info()"
   ]
  },
  {
   "cell_type": "markdown",
   "metadata": {},
   "source": [
    "Благодаря выводу метода `info()` можно заметить:\n",
    "* большое количество пропусков в данных, особенно в столбцах `refundable_support`, `nonrefundable_support`, `budget`, `financing_source`\n",
    "* несоответствие типов данных в столбцах `puNumber`, `show_start_date`, `ratings`\n",
    "* нарушение правила хорошего стиля в названии столбца `puNumber`\n",
    "\n",
    "Все эти проблемы обработаем на следующем этапе - предобработке данных"
   ]
  },
  {
   "cell_type": "markdown",
   "metadata": {
    "id": "KLDGpPG0gFyM"
   },
   "source": [
    "## Шаг 2. Предобработка данных"
   ]
  },
  {
   "cell_type": "code",
   "execution_count": 7,
   "metadata": {},
   "outputs": [
    {
     "data": {
      "text/plain": [
       "Index(['title', 'puNumber', 'show_start_date', 'type', 'film_studio',\n",
       "       'production_country', 'director', 'producer', 'age_restriction',\n",
       "       'refundable_support', 'nonrefundable_support', 'budget',\n",
       "       'financing_source', 'ratings', 'genres', 'box_office'],\n",
       "      dtype='object')"
      ]
     },
     "execution_count": 7,
     "metadata": {},
     "output_type": "execute_result"
    }
   ],
   "source": [
    "# Переименуем названия столбцов в соответствии с правилами хорошего стиля\n",
    "data.columns"
   ]
  },
  {
   "cell_type": "code",
   "execution_count": 9,
   "metadata": {},
   "outputs": [
    {
     "data": {
      "text/html": [
       "<div>\n",
       "<style scoped>\n",
       "    .dataframe tbody tr th:only-of-type {\n",
       "        vertical-align: middle;\n",
       "    }\n",
       "\n",
       "    .dataframe tbody tr th {\n",
       "        vertical-align: top;\n",
       "    }\n",
       "\n",
       "    .dataframe thead th {\n",
       "        text-align: right;\n",
       "    }\n",
       "</style>\n",
       "<table border=\"1\" class=\"dataframe\">\n",
       "  <thead>\n",
       "    <tr style=\"text-align: right;\">\n",
       "      <th></th>\n",
       "      <th>title</th>\n",
       "      <th>puNumber</th>\n",
       "      <th>show_start_date</th>\n",
       "      <th>type</th>\n",
       "      <th>film_studio</th>\n",
       "      <th>production_country</th>\n",
       "      <th>director</th>\n",
       "      <th>producer</th>\n",
       "      <th>age_restriction</th>\n",
       "      <th>refundable_support</th>\n",
       "      <th>nonrefundable_support</th>\n",
       "      <th>budget</th>\n",
       "      <th>financing_source</th>\n",
       "      <th>ratings</th>\n",
       "      <th>genres</th>\n",
       "      <th>box_office</th>\n",
       "    </tr>\n",
       "  </thead>\n",
       "  <tbody>\n",
       "    <tr>\n",
       "      <th>1797</th>\n",
       "      <td>Курбан-роман. (История с жертвой)</td>\n",
       "      <td>нет</td>\n",
       "      <td>2014-05-15T12:00:00.000Z</td>\n",
       "      <td>Художественный</td>\n",
       "      <td>ФОНД \"ИННОВАЦИЯ\"</td>\n",
       "      <td>Россия</td>\n",
       "      <td>С.Юзеев</td>\n",
       "      <td>М.Галицкая</td>\n",
       "      <td>«12+» - для детей старше 12 лет</td>\n",
       "      <td>NaN</td>\n",
       "      <td>NaN</td>\n",
       "      <td>NaN</td>\n",
       "      <td>NaN</td>\n",
       "      <td>NaN</td>\n",
       "      <td>NaN</td>\n",
       "      <td>NaN</td>\n",
       "    </tr>\n",
       "  </tbody>\n",
       "</table>\n",
       "</div>"
      ],
      "text/plain": [
       "                                  title puNumber           show_start_date  \\\n",
       "1797  Курбан-роман. (История с жертвой)      нет  2014-05-15T12:00:00.000Z   \n",
       "\n",
       "                type       film_studio production_country director  \\\n",
       "1797  Художественный  ФОНД \"ИННОВАЦИЯ\"             Россия  С.Юзеев   \n",
       "\n",
       "        producer                  age_restriction  refundable_support  \\\n",
       "1797  М.Галицкая  «12+» - для детей старше 12 лет                 NaN   \n",
       "\n",
       "      nonrefundable_support  budget financing_source ratings genres  \\\n",
       "1797                    NaN     NaN              NaN     NaN    NaN   \n",
       "\n",
       "      box_office  \n",
       "1797         NaN  "
      ]
     },
     "execution_count": 9,
     "metadata": {},
     "output_type": "execute_result"
    }
   ],
   "source": [
    "# check\n",
    "data[data.puNumber == 'нет']"
   ]
  },
  {
   "cell_type": "code",
   "execution_count": 11,
   "metadata": {},
   "outputs": [],
   "source": [
    "# Удалим единственную строку c pu_number равным 'нет'\n",
    "data = data[data.puNumber != 'нет']"
   ]
  },
  {
   "cell_type": "code",
   "execution_count": 12,
   "metadata": {},
   "outputs": [
    {
     "data": {
      "text/plain": [
       "array(['1.0', '1.1', '1.2', '1.3', '1.4', '1.5', '1.6', '1.7', '1.8',\n",
       "       '1.9', '19%', '2.1', '2.4', '2.5', '2.6', '2.7', '2.8', '2.9',\n",
       "       '28%', '3.0', '3.1', '3.2', '3.3', '3.4', '3.5', '3.6', '3.7',\n",
       "       '3.8', '3.9', '4.0', '4.1', '4.2', '4.3', '4.4', '4.5', '4.6',\n",
       "       '4.7', '4.8', '4.9', '5.0', '5.1', '5.2', '5.3', '5.4', '5.5',\n",
       "       '5.6', '5.7', '5.8', '5.9', '6.0', '6.1', '6.2', '6.3', '6.4',\n",
       "       '6.5', '6.6', '6.7', '6.8', '6.9', '62%', '64%', '7.0', '7.1',\n",
       "       '7.2', '7.3', '7.4', '7.5', '7.6', '7.7', '7.8', '7.9', '79%',\n",
       "       '8.0', '8.1', '8.2', '8.3', '8.4', '8.5', '8.6', '8.7', '8.8',\n",
       "       '8.9', '83%', '88%', '89%', '9.0', '9.1', '9.2', '90%', '91%',\n",
       "       '94%', '97%', '98%', '99%', nan], dtype=object)"
      ]
     },
     "execution_count": 12,
     "metadata": {},
     "output_type": "execute_result"
    }
   ],
   "source": [
    "# check\n",
    "data.ratings.sort_values().unique()"
   ]
  },
  {
   "cell_type": "code",
   "execution_count": 13,
   "metadata": {},
   "outputs": [
    {
     "name": "stderr",
     "output_type": "stream",
     "text": [
      "/opt/conda/lib/python3.9/site-packages/pandas/core/indexing.py:1676: SettingWithCopyWarning: \n",
      "A value is trying to be set on a copy of a slice from a DataFrame.\n",
      "Try using .loc[row_indexer,col_indexer] = value instead\n",
      "\n",
      "See the caveats in the documentation: https://pandas.pydata.org/pandas-docs/stable/user_guide/indexing.html#returning-a-view-versus-a-copy\n",
      "  self._setitem_single_column(ilocs[0], value, pi)\n"
     ]
    }
   ],
   "source": [
    "# Перед тем как преобразовывать типы данных исправим некорректные значения рейтингов\n",
    "idxs = (~data.ratings.isna()) & (data.ratings.str.contains('%'))\n",
    "data.loc[idxs, 'ratings'] = data.loc[idxs, 'ratings'].str.replace('%', '').apply(lambda x: x[:1] + '.' + x[1:])"
   ]
  },
  {
   "cell_type": "code",
   "execution_count": 14,
   "metadata": {},
   "outputs": [
    {
     "data": {
      "text/plain": [
       "array(['1.0', '1.1', '1.2', '1.3', '1.4', '1.5', '1.6', '1.7', '1.8',\n",
       "       '1.9', '2.1', '2.4', '2.5', '2.6', '2.7', '2.8', '2.9', '3.0',\n",
       "       '3.1', '3.2', '3.3', '3.4', '3.5', '3.6', '3.7', '3.8', '3.9',\n",
       "       '4.0', '4.1', '4.2', '4.3', '4.4', '4.5', '4.6', '4.7', '4.8',\n",
       "       '4.9', '5.0', '5.1', '5.2', '5.3', '5.4', '5.5', '5.6', '5.7',\n",
       "       '5.8', '5.9', '6.0', '6.1', '6.2', '6.3', '6.4', '6.5', '6.6',\n",
       "       '6.7', '6.8', '6.9', '7.0', '7.1', '7.2', '7.3', '7.4', '7.5',\n",
       "       '7.6', '7.7', '7.8', '7.9', '8.0', '8.1', '8.2', '8.3', '8.4',\n",
       "       '8.5', '8.6', '8.7', '8.8', '8.9', '9.0', '9.1', '9.2', '9.4',\n",
       "       '9.7', '9.8', '9.9', nan], dtype=object)"
      ]
     },
     "execution_count": 14,
     "metadata": {},
     "output_type": "execute_result"
    }
   ],
   "source": [
    "# check\n",
    "data.ratings.sort_values().unique()"
   ]
  },
  {
   "cell_type": "code",
   "execution_count": 15,
   "metadata": {},
   "outputs": [
    {
     "data": {
      "text/html": [
       "<div>\n",
       "<style scoped>\n",
       "    .dataframe tbody tr th:only-of-type {\n",
       "        vertical-align: middle;\n",
       "    }\n",
       "\n",
       "    .dataframe tbody tr th {\n",
       "        vertical-align: top;\n",
       "    }\n",
       "\n",
       "    .dataframe thead th {\n",
       "        text-align: right;\n",
       "    }\n",
       "</style>\n",
       "<table border=\"1\" class=\"dataframe\">\n",
       "  <thead>\n",
       "    <tr style=\"text-align: right;\">\n",
       "      <th></th>\n",
       "      <th>title</th>\n",
       "      <th>puNumber</th>\n",
       "      <th>show_start_date</th>\n",
       "      <th>type</th>\n",
       "      <th>film_studio</th>\n",
       "      <th>production_country</th>\n",
       "      <th>director</th>\n",
       "      <th>producer</th>\n",
       "      <th>age_restriction</th>\n",
       "      <th>refundable_support</th>\n",
       "      <th>nonrefundable_support</th>\n",
       "      <th>budget</th>\n",
       "      <th>financing_source</th>\n",
       "      <th>ratings</th>\n",
       "      <th>genres</th>\n",
       "      <th>box_office</th>\n",
       "    </tr>\n",
       "  </thead>\n",
       "  <tbody>\n",
       "    <tr>\n",
       "      <th>7247</th>\n",
       "      <td>Дело Коллини</td>\n",
       "      <td>121027219</td>\n",
       "      <td>2019-09-19T12:00:00.000Z</td>\n",
       "      <td>Художественный</td>\n",
       "      <td>Константин Филм, Глобал Скрин, Севен Пикчерз Сван</td>\n",
       "      <td>2019</td>\n",
       "      <td>Марко Кройцпайнтнер</td>\n",
       "      <td>Мартин Московиц, Кристоф Мюллер, Марсель Хартг...</td>\n",
       "      <td>«16+» - для детей старше 16 лет</td>\n",
       "      <td>NaN</td>\n",
       "      <td>NaN</td>\n",
       "      <td>NaN</td>\n",
       "      <td>NaN</td>\n",
       "      <td>7.4</td>\n",
       "      <td>детектив,драма,криминал</td>\n",
       "      <td>NaN</td>\n",
       "    </tr>\n",
       "  </tbody>\n",
       "</table>\n",
       "</div>"
      ],
      "text/plain": [
       "             title   puNumber           show_start_date             type  \\\n",
       "7247  Дело Коллини  121027219  2019-09-19T12:00:00.000Z   Художественный   \n",
       "\n",
       "                                            film_studio production_country  \\\n",
       "7247  Константин Филм, Глобал Скрин, Севен Пикчерз Сван               2019   \n",
       "\n",
       "                 director                                           producer  \\\n",
       "7247  Марко Кройцпайнтнер  Мартин Московиц, Кристоф Мюллер, Марсель Хартг...   \n",
       "\n",
       "                      age_restriction  refundable_support  \\\n",
       "7247  «16+» - для детей старше 16 лет                 NaN   \n",
       "\n",
       "      nonrefundable_support  budget financing_source ratings  \\\n",
       "7247                    NaN     NaN              NaN     7.4   \n",
       "\n",
       "                       genres  box_office  \n",
       "7247  детектив,драма,криминал         NaN  "
      ]
     },
     "execution_count": 15,
     "metadata": {},
     "output_type": "execute_result"
    }
   ],
   "source": [
    "# check\n",
    "data.loc[data.production_country == '2019']"
   ]
  },
  {
   "cell_type": "code",
   "execution_count": 16,
   "metadata": {},
   "outputs": [
    {
     "name": "stderr",
     "output_type": "stream",
     "text": [
      "/opt/conda/lib/python3.9/site-packages/pandas/core/indexing.py:1720: SettingWithCopyWarning: \n",
      "A value is trying to be set on a copy of a slice from a DataFrame.\n",
      "Try using .loc[row_indexer,col_indexer] = value instead\n",
      "\n",
      "See the caveats in the documentation: https://pandas.pydata.org/pandas-docs/stable/user_guide/indexing.html#returning-a-view-versus-a-copy\n",
      "  self._setitem_single_column(loc, value, pi)\n"
     ]
    }
   ],
   "source": [
    "# Исправим найденную опечатку\n",
    "data.loc[data.production_country == '2019', 'production_country'] = 'Германия'"
   ]
  },
  {
   "cell_type": "markdown",
   "metadata": {
    "id": "ssWwKXsxgFyO"
   },
   "source": [
    "### Шаг 2.1. Проверьте типы данных\n",
    "\n",
    "- Проверьте типы данных в датафрейме и преобразуйте их там, где это необходимо."
   ]
  },
  {
   "cell_type": "code",
   "execution_count": 18,
   "metadata": {
    "id": "kVGSplJOgFyO"
   },
   "outputs": [],
   "source": [
    "# Преобразуем несоответсвующие типы данных\n",
    "data = data.astype({\n",
    "    'puNumber': 'int64',\n",
    "    'show_start_date': 'datetime64[ns]',\n",
    "    'ratings': 'float64'\n",
    "})"
   ]
  },
  {
   "cell_type": "code",
   "execution_count": 19,
   "metadata": {},
   "outputs": [
    {
     "data": {
      "text/plain": [
       "title                            object\n",
       "puNumber                          int64\n",
       "show_start_date          datetime64[ns]\n",
       "type                             object\n",
       "film_studio                      object\n",
       "production_country               object\n",
       "director                         object\n",
       "producer                         object\n",
       "age_restriction                  object\n",
       "refundable_support              float64\n",
       "nonrefundable_support           float64\n",
       "budget                          float64\n",
       "financing_source                 object\n",
       "ratings                         float64\n",
       "genres                           object\n",
       "box_office                      float64\n",
       "dtype: object"
      ]
     },
     "execution_count": 19,
     "metadata": {},
     "output_type": "execute_result"
    }
   ],
   "source": [
    "# check\n",
    "data.dtypes"
   ]
  },
  {
   "cell_type": "markdown",
   "metadata": {
    "id": "i0MOLbF-gFyP"
   },
   "source": [
    "### Шаг 2.2. Изучите пропуски в датафрейме\n",
    "\n",
    "- Объясните, почему заполнили пропуски определённым образом или почему не стали этого делать."
   ]
  },
  {
   "cell_type": "code",
   "execution_count": 20,
   "metadata": {
    "id": "8MJD_lkngFyP"
   },
   "outputs": [
    {
     "data": {
      "text/plain": [
       "title                       0\n",
       "puNumber                    0\n",
       "show_start_date             0\n",
       "type                        0\n",
       "film_studio                18\n",
       "production_country          2\n",
       "director                    9\n",
       "producer                  568\n",
       "age_restriction             0\n",
       "refundable_support       7153\n",
       "nonrefundable_support    7153\n",
       "budget                   7153\n",
       "financing_source         7153\n",
       "ratings                   966\n",
       "genres                    975\n",
       "box_office               4327\n",
       "dtype: int64"
      ]
     },
     "execution_count": 20,
     "metadata": {},
     "output_type": "execute_result"
    }
   ],
   "source": [
    "# Определим столбцы с пропусками и посчитаем количество пропущенных значений для каждого столбца\n",
    "data.isna().sum()"
   ]
  },
  {
   "cell_type": "markdown",
   "metadata": {},
   "source": [
    "Различают следующие 3 механизма формирования пропусков:\n",
    "1. **MCAR**. Механизм формирования пропусков, при котором вероятность пропуска для каждой записи набора одинакова. Столбцы, которые имеют такой механизм формирования пропусков:\n",
    "    - `film_studio`\n",
    "    - `production_country`\n",
    "    - `director`\n",
    "    - `producer`\n",
    "    - `refundable_support`\n",
    "    - `nonrefundable_support`\n",
    "    - `budget`\n",
    "    - `financing_source`\n",
    "\n",
    "\n",
    "2. **MAR**. Механизм формирования пропусков, при котором вероятность пропуска может быть определена на основе другой имеющейся в наборе данных информации, не содержащей пропуски.\n",
    "      \n",
    "3. **MNAR**. Механизм формирования пропусков, при котором вероятность пропуска могла бы быть описана на основе других атрибутов, но информация по этим атрибутам в наборе данных отсутствует. Столбцы, которые имеют такой механизм формирования пропусков:\n",
    "    - `ratings`\n",
    "    - `genres`\n",
    "    - `box_office`\n",
    "    \n",
    "\n",
    "- `film_studio`: В данном столбце пропущено всего 18 значений. Иногда так случается, что у фильма может отсутствовать студия производства. Удалим строки с такими пропусками.\n",
    "- `production_country`: В данном столбце пропущено всего 2 значения. Проведя дополнительное исследование, можно выяснить, что в обоих случаях пропущенное значение - `Россия`\n",
    "- `director`: В данном столбце пропущено  всего 9 значений. Иногда так случается, что у фильма может отсутствовать кинорежиссёр. Удалим строки с такими пропусками.\n",
    "- `producer`: В данном столбце пропущено 568 значений. Иногда так случается, что у фильма может отсутствовать кинопродюсер. Оставим данный столбец без изменений, так как количество пропусков достаточно велико.\n",
    "- `refundable_support`, `nonrefundable_support`, `budget`, `financing_source`: в данных столбцах отсутствуют более 95% значений. Из-за такого большого количества пропусков мы не можем заполнить их средним или медианным значениями, так как такая замена пропущенных значений может сильно исказить распределения значений в столбце. Оставим данный столбец без изменений.\n",
    "- `genres`: Пропущенные значения в данном столбце могут зависить от очень большого количества скрытых переменных, которых нет в наших данных. Из-за этого у нас нет возможности их восстановить. Оставим данный столбец без изменений.\n",
    "- `ratings`: Пропущенные значения в данном столбце могут зависить от очень большого количества скрытых переменных, которых нет в наших данных. Из-за этого у нас нет возможности их восстановить. Оставим данный столбец без изменений.\n",
    "- `box_office`: Пропущенные значения в данном столбце означают, что фильм не был показан в российских кинотеатрах. Оставим данный столбец без изменений."
   ]
  },
  {
   "cell_type": "code",
   "execution_count": 21,
   "metadata": {},
   "outputs": [
    {
     "data": {
      "text/html": [
       "<div>\n",
       "<style scoped>\n",
       "    .dataframe tbody tr th:only-of-type {\n",
       "        vertical-align: middle;\n",
       "    }\n",
       "\n",
       "    .dataframe tbody tr th {\n",
       "        vertical-align: top;\n",
       "    }\n",
       "\n",
       "    .dataframe thead th {\n",
       "        text-align: right;\n",
       "    }\n",
       "</style>\n",
       "<table border=\"1\" class=\"dataframe\">\n",
       "  <thead>\n",
       "    <tr style=\"text-align: right;\">\n",
       "      <th></th>\n",
       "      <th>title</th>\n",
       "      <th>puNumber</th>\n",
       "      <th>show_start_date</th>\n",
       "      <th>type</th>\n",
       "      <th>film_studio</th>\n",
       "      <th>production_country</th>\n",
       "      <th>director</th>\n",
       "      <th>producer</th>\n",
       "      <th>age_restriction</th>\n",
       "      <th>refundable_support</th>\n",
       "      <th>nonrefundable_support</th>\n",
       "      <th>budget</th>\n",
       "      <th>financing_source</th>\n",
       "      <th>ratings</th>\n",
       "      <th>genres</th>\n",
       "      <th>box_office</th>\n",
       "    </tr>\n",
       "  </thead>\n",
       "  <tbody>\n",
       "    <tr>\n",
       "      <th>3186</th>\n",
       "      <td>Детский юмористический киножурнал \"Ералаш. Ну ...</td>\n",
       "      <td>111001216</td>\n",
       "      <td>2016-02-09 12:00:00</td>\n",
       "      <td>Художественный</td>\n",
       "      <td>ООО \"Продюсерский центр ЕРАЛАШ\"</td>\n",
       "      <td>NaN</td>\n",
       "      <td>Р.Светлов, И.Магитон, А.Арутюнян, Л.Мирский, А...</td>\n",
       "      <td>ООО \"Продюсерский центр ЕРАЛАШ\"</td>\n",
       "      <td>«0+» - для любой зрительской аудитории</td>\n",
       "      <td>NaN</td>\n",
       "      <td>NaN</td>\n",
       "      <td>NaN</td>\n",
       "      <td>NaN</td>\n",
       "      <td>7.2</td>\n",
       "      <td>детский,комедия</td>\n",
       "      <td>194527.0</td>\n",
       "    </tr>\n",
       "    <tr>\n",
       "      <th>4441</th>\n",
       "      <td>Мульт личности. Выпуск 5</td>\n",
       "      <td>214000410</td>\n",
       "      <td>2010-01-25 12:00:00</td>\n",
       "      <td>Художественный</td>\n",
       "      <td>NaN</td>\n",
       "      <td>NaN</td>\n",
       "      <td>NaN</td>\n",
       "      <td>NaN</td>\n",
       "      <td>«0+» - для любой зрительской аудитории</td>\n",
       "      <td>NaN</td>\n",
       "      <td>NaN</td>\n",
       "      <td>NaN</td>\n",
       "      <td>NaN</td>\n",
       "      <td>4.0</td>\n",
       "      <td>мультфильм,комедия</td>\n",
       "      <td>NaN</td>\n",
       "    </tr>\n",
       "  </tbody>\n",
       "</table>\n",
       "</div>"
      ],
      "text/plain": [
       "                                                  title   puNumber  \\\n",
       "3186  Детский юмористический киножурнал \"Ералаш. Ну ...  111001216   \n",
       "4441                           Мульт личности. Выпуск 5  214000410   \n",
       "\n",
       "         show_start_date            type                      film_studio  \\\n",
       "3186 2016-02-09 12:00:00  Художественный  ООО \"Продюсерский центр ЕРАЛАШ\"   \n",
       "4441 2010-01-25 12:00:00  Художественный                              NaN   \n",
       "\n",
       "     production_country                                           director  \\\n",
       "3186                NaN  Р.Светлов, И.Магитон, А.Арутюнян, Л.Мирский, А...   \n",
       "4441                NaN                                                NaN   \n",
       "\n",
       "                             producer                         age_restriction  \\\n",
       "3186  ООО \"Продюсерский центр ЕРАЛАШ\"  «0+» - для любой зрительской аудитории   \n",
       "4441                              NaN  «0+» - для любой зрительской аудитории   \n",
       "\n",
       "      refundable_support  nonrefundable_support  budget financing_source  \\\n",
       "3186                 NaN                    NaN     NaN              NaN   \n",
       "4441                 NaN                    NaN     NaN              NaN   \n",
       "\n",
       "      ratings              genres  box_office  \n",
       "3186      7.2     детский,комедия    194527.0  \n",
       "4441      4.0  мультфильм,комедия         NaN  "
      ]
     },
     "execution_count": 21,
     "metadata": {},
     "output_type": "execute_result"
    }
   ],
   "source": [
    "data[data.production_country.isna()]"
   ]
  },
  {
   "cell_type": "code",
   "execution_count": 22,
   "metadata": {},
   "outputs": [],
   "source": [
    "data.loc[data.production_country.isna(), 'production_country'] = 'Россия'\n",
    "data.dropna(subset=['film_studio'], inplace=True)\n",
    "data.dropna(subset=['director'], inplace=True)"
   ]
  },
  {
   "cell_type": "markdown",
   "metadata": {
    "id": "4c6k1t9ygFyQ"
   },
   "source": [
    "### Шаг 2.3. Изучите дубликаты в датафрейме\n",
    "- Проверьте, есть ли в данных дубликаты. Опишите причины, которые могли повлиять на появление дублей."
   ]
  },
  {
   "cell_type": "code",
   "execution_count": 23,
   "metadata": {},
   "outputs": [],
   "source": [
    "# Функция для устранения неявных дубликатов\n",
    "def replace_substrings(column_to_change, substrings):\n",
    "    for old_substring, new_substring in substrings.items():\n",
    "        column_to_change = column_to_change.str.replace(old_substring, new_substring, regex=True)\n",
    "        \n",
    "    return column_to_change"
   ]
  },
  {
   "cell_type": "code",
   "execution_count": 27,
   "metadata": {
    "id": "aKck8RIdgFyQ"
   },
   "outputs": [
    {
     "data": {
      "text/plain": [
       "221154310    2\n",
       "221054410    2\n",
       "122001411    1\n",
       "121021217    1\n",
       "121017119    1\n",
       "114002716    1\n",
       "121012718    1\n",
       "121017111    1\n",
       "221010710    1\n",
       "121013013    1\n",
       "Name: puNumber, dtype: int64"
      ]
     },
     "execution_count": 27,
     "metadata": {},
     "output_type": "execute_result"
    }
   ],
   "source": [
    "# check\n",
    "data.puNumber.value_counts().head(10)"
   ]
  },
  {
   "cell_type": "code",
   "execution_count": 28,
   "metadata": {},
   "outputs": [
    {
     "data": {
      "text/html": [
       "<div>\n",
       "<style scoped>\n",
       "    .dataframe tbody tr th:only-of-type {\n",
       "        vertical-align: middle;\n",
       "    }\n",
       "\n",
       "    .dataframe tbody tr th {\n",
       "        vertical-align: top;\n",
       "    }\n",
       "\n",
       "    .dataframe thead th {\n",
       "        text-align: right;\n",
       "    }\n",
       "</style>\n",
       "<table border=\"1\" class=\"dataframe\">\n",
       "  <thead>\n",
       "    <tr style=\"text-align: right;\">\n",
       "      <th></th>\n",
       "      <th>title</th>\n",
       "      <th>puNumber</th>\n",
       "      <th>show_start_date</th>\n",
       "      <th>type</th>\n",
       "      <th>film_studio</th>\n",
       "      <th>production_country</th>\n",
       "      <th>director</th>\n",
       "      <th>producer</th>\n",
       "      <th>age_restriction</th>\n",
       "      <th>refundable_support</th>\n",
       "      <th>nonrefundable_support</th>\n",
       "      <th>budget</th>\n",
       "      <th>financing_source</th>\n",
       "      <th>ratings</th>\n",
       "      <th>genres</th>\n",
       "      <th>box_office</th>\n",
       "    </tr>\n",
       "  </thead>\n",
       "  <tbody>\n",
       "    <tr>\n",
       "      <th>4638</th>\n",
       "      <td>Как жениться и остаться холостым</td>\n",
       "      <td>221154310</td>\n",
       "      <td>2010-12-17 12:00:00</td>\n",
       "      <td>Художественный</td>\n",
       "      <td>Ше Вам, Скрипт Ассосье, Тэ Фэ 1 Фильм Продюксь...</td>\n",
       "      <td>Франция</td>\n",
       "      <td>Эрик Лартиго</td>\n",
       "      <td>Амандин Било, Алан Шаба</td>\n",
       "      <td>«16+» - для детей старше 16 лет</td>\n",
       "      <td>NaN</td>\n",
       "      <td>NaN</td>\n",
       "      <td>NaN</td>\n",
       "      <td>NaN</td>\n",
       "      <td>7.0</td>\n",
       "      <td>мелодрама,комедия</td>\n",
       "      <td>NaN</td>\n",
       "    </tr>\n",
       "    <tr>\n",
       "      <th>4639</th>\n",
       "      <td>Иоанна - женщина на папском престоле /По роман...</td>\n",
       "      <td>221154310</td>\n",
       "      <td>2010-12-17 12:00:00</td>\n",
       "      <td>Художественный</td>\n",
       "      <td>Константин Фильм, А Эр Ди Дегето Фильм, Дюне ...</td>\n",
       "      <td>Германия - Великобритания - Италия - Испания</td>\n",
       "      <td>Зенке Вортманн</td>\n",
       "      <td>Оливер Бербен, Дорис Д.Хайнце, Фарук Элтан</td>\n",
       "      <td>«16+» - для детей старше 16 лет</td>\n",
       "      <td>NaN</td>\n",
       "      <td>NaN</td>\n",
       "      <td>NaN</td>\n",
       "      <td>NaN</td>\n",
       "      <td>7.6</td>\n",
       "      <td>драма,мелодрама,история</td>\n",
       "      <td>NaN</td>\n",
       "    </tr>\n",
       "  </tbody>\n",
       "</table>\n",
       "</div>"
      ],
      "text/plain": [
       "                                                  title   puNumber  \\\n",
       "4638                   Как жениться и остаться холостым  221154310   \n",
       "4639  Иоанна - женщина на папском престоле /По роман...  221154310   \n",
       "\n",
       "         show_start_date            type  \\\n",
       "4638 2010-12-17 12:00:00  Художественный   \n",
       "4639 2010-12-17 12:00:00  Художественный   \n",
       "\n",
       "                                            film_studio  \\\n",
       "4638  Ше Вам, Скрипт Ассосье, Тэ Фэ 1 Фильм Продюксь...   \n",
       "4639   Константин Фильм, А Эр Ди Дегето Фильм, Дюне ...   \n",
       "\n",
       "                                production_country        director  \\\n",
       "4638                                       Франция    Эрик Лартиго   \n",
       "4639  Германия - Великобритания - Италия - Испания  Зенке Вортманн   \n",
       "\n",
       "                                        producer  \\\n",
       "4638                     Амандин Било, Алан Шаба   \n",
       "4639  Оливер Бербен, Дорис Д.Хайнце, Фарук Элтан   \n",
       "\n",
       "                      age_restriction  refundable_support  \\\n",
       "4638  «16+» - для детей старше 16 лет                 NaN   \n",
       "4639  «16+» - для детей старше 16 лет                 NaN   \n",
       "\n",
       "      nonrefundable_support  budget financing_source  ratings  \\\n",
       "4638                    NaN     NaN              NaN      7.0   \n",
       "4639                    NaN     NaN              NaN      7.6   \n",
       "\n",
       "                       genres  box_office  \n",
       "4638        мелодрама,комедия         NaN  \n",
       "4639  драма,мелодрама,история         NaN  "
      ]
     },
     "execution_count": 28,
     "metadata": {},
     "output_type": "execute_result"
    }
   ],
   "source": [
    "# check\n",
    "data[data.puNumber == 221154310]"
   ]
  },
  {
   "cell_type": "code",
   "execution_count": 29,
   "metadata": {},
   "outputs": [
    {
     "data": {
      "text/html": [
       "<div>\n",
       "<style scoped>\n",
       "    .dataframe tbody tr th:only-of-type {\n",
       "        vertical-align: middle;\n",
       "    }\n",
       "\n",
       "    .dataframe tbody tr th {\n",
       "        vertical-align: top;\n",
       "    }\n",
       "\n",
       "    .dataframe thead th {\n",
       "        text-align: right;\n",
       "    }\n",
       "</style>\n",
       "<table border=\"1\" class=\"dataframe\">\n",
       "  <thead>\n",
       "    <tr style=\"text-align: right;\">\n",
       "      <th></th>\n",
       "      <th>title</th>\n",
       "      <th>puNumber</th>\n",
       "      <th>show_start_date</th>\n",
       "      <th>type</th>\n",
       "      <th>film_studio</th>\n",
       "      <th>production_country</th>\n",
       "      <th>director</th>\n",
       "      <th>producer</th>\n",
       "      <th>age_restriction</th>\n",
       "      <th>refundable_support</th>\n",
       "      <th>nonrefundable_support</th>\n",
       "      <th>budget</th>\n",
       "      <th>financing_source</th>\n",
       "      <th>ratings</th>\n",
       "      <th>genres</th>\n",
       "      <th>box_office</th>\n",
       "    </tr>\n",
       "  </thead>\n",
       "  <tbody>\n",
       "    <tr>\n",
       "      <th>5067</th>\n",
       "      <td>Анализируй это!</td>\n",
       "      <td>221054410</td>\n",
       "      <td>2010-05-25 12:00:00</td>\n",
       "      <td>Художественный</td>\n",
       "      <td>Уорнер Бразерс, Вилладж Роудшоу Филмз ЛТД</td>\n",
       "      <td>США-Австралия</td>\n",
       "      <td>ХЭрольд Рэмис</td>\n",
       "      <td>Джейн Розенталь, Пола Уейнстейн</td>\n",
       "      <td>«16+» - для детей старше 16 лет</td>\n",
       "      <td>NaN</td>\n",
       "      <td>NaN</td>\n",
       "      <td>NaN</td>\n",
       "      <td>NaN</td>\n",
       "      <td>7.4</td>\n",
       "      <td>комедия,криминал</td>\n",
       "      <td>NaN</td>\n",
       "    </tr>\n",
       "    <tr>\n",
       "      <th>5068</th>\n",
       "      <td>Анализируй то!</td>\n",
       "      <td>221054410</td>\n",
       "      <td>2010-05-25 12:00:00</td>\n",
       "      <td>Художественный</td>\n",
       "      <td>Уорнер Бразерс, Виллидж Роадшоу Пикчерз, Эн-Пи...</td>\n",
       "      <td>США</td>\n",
       "      <td>Гарольд Реймис</td>\n",
       "      <td>Джейн Розенталь, Паул Уэйнстейн</td>\n",
       "      <td>«12+» - для детей старше 12 лет</td>\n",
       "      <td>NaN</td>\n",
       "      <td>NaN</td>\n",
       "      <td>NaN</td>\n",
       "      <td>NaN</td>\n",
       "      <td>6.8</td>\n",
       "      <td>комедия,криминал</td>\n",
       "      <td>NaN</td>\n",
       "    </tr>\n",
       "  </tbody>\n",
       "</table>\n",
       "</div>"
      ],
      "text/plain": [
       "                title   puNumber     show_start_date            type  \\\n",
       "5067  Анализируй это!  221054410 2010-05-25 12:00:00  Художественный   \n",
       "5068   Анализируй то!  221054410 2010-05-25 12:00:00  Художественный   \n",
       "\n",
       "                                            film_studio production_country  \\\n",
       "5067          Уорнер Бразерс, Вилладж Роудшоу Филмз ЛТД      США-Австралия   \n",
       "5068  Уорнер Бразерс, Виллидж Роадшоу Пикчерз, Эн-Пи...                США   \n",
       "\n",
       "            director                         producer  \\\n",
       "5067   ХЭрольд Рэмис  Джейн Розенталь, Пола Уейнстейн   \n",
       "5068  Гарольд Реймис  Джейн Розенталь, Паул Уэйнстейн   \n",
       "\n",
       "                      age_restriction  refundable_support  \\\n",
       "5067  «16+» - для детей старше 16 лет                 NaN   \n",
       "5068  «12+» - для детей старше 12 лет                 NaN   \n",
       "\n",
       "      nonrefundable_support  budget financing_source  ratings  \\\n",
       "5067                    NaN     NaN              NaN      7.4   \n",
       "5068                    NaN     NaN              NaN      6.8   \n",
       "\n",
       "                genres  box_office  \n",
       "5067  комедия,криминал         NaN  \n",
       "5068  комедия,криминал         NaN  "
      ]
     },
     "execution_count": 29,
     "metadata": {},
     "output_type": "execute_result"
    }
   ],
   "source": [
    "# check\n",
    "data[data.puNumber == 221054410]"
   ]
  },
  {
   "cell_type": "markdown",
   "metadata": {},
   "source": [
    "В условии проекта сказано, что у одного фильма может быть несколько прокатных удостоверений. Оставим эти дубликаты без изменений"
   ]
  },
  {
   "cell_type": "code",
   "execution_count": 30,
   "metadata": {},
   "outputs": [
    {
     "data": {
      "text/plain": [
       "Художественный                4514\n",
       " Художественный               1384\n",
       "Анимационный                   828\n",
       "Прочие                         401\n",
       "Документальный                 280\n",
       "Научно-популярный               50\n",
       "Музыкально-развлекательный       1\n",
       " Анимационный                    1\n",
       "Name: type, dtype: int64"
      ]
     },
     "execution_count": 30,
     "metadata": {},
     "output_type": "execute_result"
    }
   ],
   "source": [
    "# check\n",
    "data.type.value_counts()"
   ]
  },
  {
   "cell_type": "code",
   "execution_count": 31,
   "metadata": {},
   "outputs": [],
   "source": [
    "data.type = data.type.str.strip()"
   ]
  },
  {
   "cell_type": "code",
   "execution_count": 32,
   "metadata": {
    "scrolled": true
   },
   "outputs": [
    {
     "data": {
      "text/plain": [
       "Художественный                5898\n",
       "Анимационный                   829\n",
       "Прочие                         401\n",
       "Документальный                 280\n",
       "Научно-популярный               50\n",
       "Музыкально-развлекательный       1\n",
       "Name: type, dtype: int64"
      ]
     },
     "execution_count": 32,
     "metadata": {},
     "output_type": "execute_result"
    }
   ],
   "source": [
    "# check\n",
    "data.type.value_counts()"
   ]
  },
  {
   "cell_type": "code",
   "execution_count": 34,
   "metadata": {},
   "outputs": [
    {
     "data": {
      "text/plain": [
       " константин фильм, а эр ди дегето фильм, дюне филис, икури филмз, медуза фильм, у эф а интернэшнл филм энд ти ви продуцион, юниверсум филм     3\n",
       " ооо \"таббак\"                                                                                                                                  3\n",
       "2003 продюксьон, уорнер бразерс, тапиока продюксьон, тф1 фильм продюксьон, канал +, центр националь де ля синематографи                        2\n",
       "24 май продюксьон, франс 2 синема                                                                                                              2\n",
       "2дэ3дэ анимейшн, комета фильм, ирис продакшнз, валкинг зе дог                                                                                  2\n",
       "                                                                                                                                              ..\n",
       "юниверсал пикчерз,стубер продакшнз,рилейтивити медиа, мамбо фильм продакшнз                                                                    3\n",
       "юниверсал пикчерс                                                                                                                              2\n",
       "юниверсал пикчерс, энонимас контент, уоркинг тайтл                                                                                             3\n",
       "юфилм, твинпикс                                                                                                                                2\n",
       "юфилм, эрольд энд фэмили, мк2 продакшнз                                                                                                        2\n",
       "Name: film_studio, Length: 898, dtype: int64"
      ]
     },
     "execution_count": 34,
     "metadata": {},
     "output_type": "execute_result"
    }
   ],
   "source": [
    "# check\n",
    "data.film_studio = data.film_studio.dropna().apply(lambda x: x.lower())\n",
    "data.film_studio.value_counts().loc[lambda x: x > 1].sort_index()"
   ]
  },
  {
   "cell_type": "code",
   "execution_count": 35,
   "metadata": {},
   "outputs": [],
   "source": [
    "data.film_studio = replace_substrings(data.film_studio, {\n",
    "    'анимаккорд лтд.': 'анимаккорд лтд',\n",
    "    'анимаккорд лтд., ооо студия \"анимаккорд\"': 'анимаккорд лтд, ооо студия \"анимаккорд\"',\n",
    "    'ао \"тпо \"киностудия им. м.горького\"': 'ао \"тпо \"киностудия им.м.горького\"',\n",
    "    'артс алианс медиа': 'артс альянс медиа',\n",
    "    'дримуоркс анимейшн, пацификдэйт имейджес': 'дримуоркс анимейшн, пацифик дэйт имейджес',\n",
    "    'дримуоркс анимэйшн': 'дримуоркс анимейшн',\n",
    "    'киностудия \"мосфильм\" ': 'киностудия \"мосфильм\"',\n",
    "    'коламбиа пикчерз, хэппи медисон продакшнз': 'коламбиа пикчерз, хэппи мэдисон продакшнз',\n",
    "    'миллениум филм, нью имидж филмз, юниверсал пикчерз':\n",
    "    'миллениум филмз, нью имейдж филмз, юниверсал пикчерз',\n",
    "    'миллениум филмз, нью имидж филмз': 'миллениум филмз, нью имейдж филмз',\n",
    "    'миллениум филмз, ню имейдж филмз, рог марбл': 'миллениум филмз, нью имейдж филмз, рог марбл',\n",
    "    'но трэйс кэмпинг, карамел филм, дон кармоди продакшнз, инферно пикчерз инк':\n",
    "    'ноу трэйс кэмпинг, карамэл филм, дон кармоди продакшнз, инферно пикчерз инк',\n",
    "    'ооо \"мульт в кино\" ': 'ооо \"мульт в кино\"',\n",
    "    'ооо \"нон-стоп продакшн\" ': 'ооо \"нон-стоп продакшн\"',\n",
    "    'ооо \"продюсерский центр \"молодежные инициативы\"': 'ооо \"продюсерский центр \"молодёжные инициативы\"',\n",
    "})"
   ]
  },
  {
   "cell_type": "code",
   "execution_count": 36,
   "metadata": {},
   "outputs": [
    {
     "data": {
      "text/plain": [
       " константин фильм, а эр ди дегето фильм, дюне филис, икури филмз, медуза фильм, у эф а интернэшнл филм энд ти ви продуцион, юниверсум филм     3\n",
       " ооо \"таббак\"                                                                                                                                  3\n",
       "2003 продюксьон, уорнер бразерс, тапиока продюксьон, тф1 фильм продюксьон, канал +, центр националь де ля синематографи                        2\n",
       "24 май продюксьон, франс 2 синема                                                                                                              2\n",
       "2дэ3дэ анимейшн, комета фильм, ирис продакшнз, валкинг зе дог                                                                                  2\n",
       "                                                                                                                                              ..\n",
       "юниверсал пикчерз,стубер продакшнз,рилейтивити медиа, мамбо фильм продакшнз                                                                    3\n",
       "юниверсал пикчерс                                                                                                                              2\n",
       "юниверсал пикчерс, энонимас контент, уоркинг тайтл                                                                                             3\n",
       "юфилм, твинпикс                                                                                                                                2\n",
       "юфилм, эрольд энд фэмили, мк2 продакшнз                                                                                                        2\n",
       "Name: film_studio, Length: 887, dtype: int64"
      ]
     },
     "execution_count": 36,
     "metadata": {},
     "output_type": "execute_result"
    }
   ],
   "source": [
    "# check\n",
    "data.film_studio.value_counts().loc[lambda x: x > 1].sort_index()"
   ]
  },
  {
   "cell_type": "code",
   "execution_count": 37,
   "metadata": {},
   "outputs": [
    {
     "data": {
      "text/plain": [
       " ссср                                                  2\n",
       " ссср                                                  1\n",
       " ссср                                                  1\n",
       "cша                                                    1\n",
       "австралия                                             50\n",
       "                                                      ..\n",
       "япония, великобритания                                 1\n",
       "япония, великобритания, австрия, германия, ю.корея     1\n",
       "япония, сша                                            1\n",
       "япония-великобритания                                  2\n",
       "япония-сша-франция                                     1\n",
       "Name: production_country, Length: 948, dtype: int64"
      ]
     },
     "execution_count": 37,
     "metadata": {},
     "output_type": "execute_result"
    }
   ],
   "source": [
    "# check\n",
    "data.production_country = data.production_country.dropna().apply(lambda x: x.lower())\n",
    "data.production_country.value_counts().sort_index()"
   ]
  },
  {
   "cell_type": "code",
   "execution_count": 38,
   "metadata": {},
   "outputs": [],
   "source": [
    "data.production_country = replace_substrings(data.production_country, {\n",
    "    ' ': '',\n",
    "    '-': ',',\n",
    "    ' ссср': 'ссср',\n",
    "    ' ссср ': 'ссср',\n",
    "    ' ссср   ': 'ссср',\n",
    "    'багамскиеострова': 'багамские острова',\n",
    "    'белоруссия': 'беларусь',\n",
    "    'бенльгия': 'бельгия',\n",
    "    'боснияигерцеговина': 'босния и герцеговина',\n",
    "    'германия,,': 'германия,',\n",
    "    'западныйберлин': 'западный берлин',\n",
    "    'изриль': 'израиль',\n",
    "    'к;анада': 'канада',\n",
    "    'каймановыострова': 'каймановы острова',\n",
    "    'княжествоандорра': 'княжество андорра',\n",
    "    'н.зеландия': 'новая зеландия',\n",
    "    'новаязеландия': 'новая зеландия',\n",
    "    'норвения': 'норвегия',\n",
    "    'порртугалия': 'португалия',\n",
    "    'объединенныеарабскиеэмираты': 'оаэ',\n",
    "    'пуэрто,рико': 'пуэрто-рико',\n",
    "    'пуэрторико': 'пуэрто-рико',\n",
    "    'республикаармения': 'республика армения',\n",
    "    'республикабеларусь': 'республика беларусь',\n",
    "    'республикаказахстан': 'республика казахстан',\n",
    "    'республикакипр': 'республика кипр',\n",
    "    'республикакорея': 'республика корея',\n",
    "    'республикаузбекистан': 'республика узбекистан',\n",
    "    'сща': 'сша',\n",
    "    'чешскаяреспублика': 'чешская республика',\n",
    "    'шри,ланка': 'шри-ланка',\n",
    "    'ю.корея': 'южная корея',\n",
    "    'южнаякорея': 'южная корея',\n",
    "})"
   ]
  },
  {
   "cell_type": "code",
   "execution_count": 39,
   "metadata": {},
   "outputs": [
    {
     "data": {
      "text/plain": [
       "cша                                        1\n",
       "австралия                                 50\n",
       "австралия,великобритания                   1\n",
       "австралия,великобритания,бельгия,индия     1\n",
       "австралия,германия                         2\n",
       "                                          ..\n",
       "япония,канада                              2\n",
       "япония,кнр,южная корея                     2\n",
       "япония,сша                                 2\n",
       "япония,сша,франция                         1\n",
       "япония,франция,сша,южная корея,турция      1\n",
       "Name: production_country, Length: 804, dtype: int64"
      ]
     },
     "execution_count": 39,
     "metadata": {},
     "output_type": "execute_result"
    }
   ],
   "source": [
    "# check\n",
    "data.production_country.value_counts().sort_index()"
   ]
  },
  {
   "cell_type": "code",
   "execution_count": 40,
   "metadata": {},
   "outputs": [
    {
     "data": {
      "text/plain": [
       "а.аббасов           2\n",
       "а.аксененко         7\n",
       "а.алов, в.наумов    4\n",
       "а.амбросьев         2\n",
       "а.андрианов         2\n",
       "                   ..\n",
       "ю.фетинг            2\n",
       "ю.чулюкин           2\n",
       "юнг куюн парк       2\n",
       "я.лапшин            3\n",
       "ёлкин туйчиев       2\n",
       "Name: director, Length: 1240, dtype: int64"
      ]
     },
     "execution_count": 40,
     "metadata": {},
     "output_type": "execute_result"
    }
   ],
   "source": [
    "# check\n",
    "data.director = data.director.dropna().apply(lambda x: x.lower())\n",
    "data.director.value_counts().loc[lambda x: x > 1].sort_index()"
   ]
  },
  {
   "cell_type": "code",
   "execution_count": 41,
   "metadata": {},
   "outputs": [],
   "source": [
    "data.director = replace_substrings(data.director, {\n",
    "    'анн фонтейн': 'анн фонтен',\n",
    "    'вольфганг петерсон': 'вольфганг петерсен',\n",
    "    'грэг макгиливрэй': 'грэг макгилливрэй',\n",
    "    'джон майкл макдонах': 'джон майкл макдона',\n",
    "    'дрейк доремус': 'дрейк доримус',\n",
    "    'дэвид йетс': 'дэвид йейтс',\n",
    "    'дэвид слейд': 'дэвид слэйд',\n",
    "    'жан-марк валли': 'жан-марк валле',\n",
    "    'ижинио страффи': 'иджинио страффи',\n",
    "    'к.оганесян': 'к.оганисян',\n",
    "    'кеннет брэна': 'кеннет брана',\n",
    "    'ким ки-дук': 'ким ки дук',\n",
    "    'майкл дауз': 'майкл даус',\n",
    "    'о.семёнова ': 'о.семёнова',\n",
    "    'оливье ассаяс': 'оливье ассайас',\n",
    "    'питер хаймс': 'питер хайамс',\n",
    "    'пол фейг': 'пол фиг',\n",
    "    'роджер мишелл': 'роджер мичелл',\n",
    "    'спайк джонз': 'спайк джонc',\n",
    "    'спайк джонс': 'спайк джонc', # эти строки не равны\n",
    "    'тим бартон': 'тим бёртон',\n",
    "    'тим бертон': 'тим бёртон',\n",
    "    'уолт беккер': 'уолт бекер',\n",
    "    'франк гастамбиде': 'франк гастамбид',\n",
    "    'хаум коллет-серра': 'жауме кольет-серра',\n",
    "    'хауме коллет-серра': 'жауме кольет-серра',\n",
    "    'хауме кольет-серра': 'жауме кольет-серра',\n",
    "    'энди тэннант': 'энди теннант',\n",
    "    'энди фикман':'энди фикмен',\n",
    "})"
   ]
  },
  {
   "cell_type": "code",
   "execution_count": 42,
   "metadata": {},
   "outputs": [
    {
     "data": {
      "text/plain": [
       "а.аббасов           2\n",
       "а.аксененко         7\n",
       "а.алов, в.наумов    4\n",
       "а.амбросьев         2\n",
       "а.андрианов         2\n",
       "                   ..\n",
       "ю.фетинг            2\n",
       "ю.чулюкин           2\n",
       "юнг куюн парк       2\n",
       "я.лапшин            3\n",
       "ёлкин туйчиев       2\n",
       "Name: director, Length: 1213, dtype: int64"
      ]
     },
     "execution_count": 42,
     "metadata": {},
     "output_type": "execute_result"
    }
   ],
   "source": [
    "# check\n",
    "data.director.value_counts().loc[lambda x: x > 1].sort_index()"
   ]
  },
  {
   "cell_type": "code",
   "execution_count": 43,
   "metadata": {},
   "outputs": [
    {
     "data": {
      "text/plain": [
       "а.аболс                                 2\n",
       "а.белов                                 2\n",
       "а.берденников                           2\n",
       "а.боярский, с.сельянов                  3\n",
       "а.васильев                              2\n",
       "                                       ..\n",
       "ю.софронова                             4\n",
       "ю.тарханова                             2\n",
       "юнгки ли                                2\n",
       "я.трофимова                             2\n",
       "яна бол, жан гуссен, эмели кристианс    2\n",
       "Name: producer, Length: 867, dtype: int64"
      ]
     },
     "execution_count": 43,
     "metadata": {},
     "output_type": "execute_result"
    }
   ],
   "source": [
    "# check\n",
    "data.producer = data.producer.dropna().apply(lambda x: x.lower())\n",
    "data.producer.value_counts().loc[lambda x: x > 1].sort_index()"
   ]
  },
  {
   "cell_type": "code",
   "execution_count": 44,
   "metadata": {},
   "outputs": [],
   "source": [
    "data.producer = replace_substrings(data.producer, {\n",
    "    'ален аттал': 'ален атталь',\n",
    "    'ален аттальь': 'ален атталь',\n",
    "    'ален атталььь': 'ален атталь',\n",
    "    'бэйзил айваник': 'бэзил айваник',\n",
    "    'марти бауэн': 'мартин бауэн',\n",
    "    'джоэл силвер': 'джоэл сильвер',\n",
    "    'дональд ди лайн': 'дональд де лайн',\n",
    "    'дрю феллман': 'дрю фелмэн',\n",
    "    'дрю фелман': 'дрю фелмэн',\n",
    "    'дуг дейвисон': 'дуг дэвисон',\n",
    "    'кевин фейги': 'кевин файги',\n",
    "    'кевин фейдж': 'кевин файги',\n",
    "    'кевин фейджи': 'кевин файги', \n",
    "    'кевин файгии': 'кевин файги',\n",
    "    'ковент-гарден': 'ковент гарден',\n",
    "    'кристиан арнольд-бьютел': 'кристиан арнольд-бютел',\n",
    "    'нил эйч моритц': 'нил эйч мориц',\n",
    "    'о.компанец': 'о.капанец',\n",
    "    'сирил кольбо-жюстин': 'cирил колбо-жустин',\n",
    "    'скотт мойзер': 'скотт мойсер',\n",
    "    'тим биван': 'тим беван',\n",
    "    'тим бивен': 'тим беван',\n",
    "    'уилл фаррел': 'уилл фаррелл',\n",
    "    'фабрис гольдштейн': 'фабрис голдштейн',\n",
    "    'финола дуайер': 'финола двайер',\n",
    "})"
   ]
  },
  {
   "cell_type": "code",
   "execution_count": 45,
   "metadata": {},
   "outputs": [
    {
     "data": {
      "text/plain": [
       "cирил колбо-жустин, сидони дюма         2\n",
       "а.аболс                                 2\n",
       "а.белов                                 2\n",
       "а.берденников                           2\n",
       "а.боярский, с.сельянов                  3\n",
       "                                       ..\n",
       "ю.софронова                             4\n",
       "ю.тарханова                             2\n",
       "юнгки ли                                2\n",
       "я.трофимова                             2\n",
       "яна бол, жан гуссен, эмели кристианс    2\n",
       "Name: producer, Length: 858, dtype: int64"
      ]
     },
     "execution_count": 45,
     "metadata": {},
     "output_type": "execute_result"
    }
   ],
   "source": [
    "# check\n",
    "data.producer.value_counts().loc[lambda x: x > 1].sort_index()"
   ]
  },
  {
   "cell_type": "code",
   "execution_count": 46,
   "metadata": {},
   "outputs": [
    {
     "data": {
      "text/plain": [
       "«0+» - для любой зрительской аудитории     804\n",
       "«12+» - для детей старше 12 лет           1583\n",
       "«16+» - для детей старше 16 лет           2848\n",
       "«18+» - запрещено для детей               1601\n",
       "«6+» - для детей старше 6 лет              623\n",
       "Name: age_restriction, dtype: int64"
      ]
     },
     "execution_count": 46,
     "metadata": {},
     "output_type": "execute_result"
    }
   ],
   "source": [
    "# check\n",
    "data.age_restriction = data.age_restriction.dropna().apply(lambda x: x.lower())\n",
    "data.age_restriction.value_counts().sort_index()"
   ]
  },
  {
   "cell_type": "code",
   "execution_count": 47,
   "metadata": {},
   "outputs": [
    {
     "data": {
      "text/plain": [
       "аниме,мультфильм                2\n",
       "аниме,мультфильм,боевик        11\n",
       "аниме,мультфильм,детектив       2\n",
       "аниме,мультфильм,драма          7\n",
       "аниме,мультфильм,комедия        2\n",
       "                               ..\n",
       "фэнтези,триллер,драма          12\n",
       "фэнтези,триллер,мелодрама       4\n",
       "фэнтези,триллер,приключения     4\n",
       "фэнтези,ужасы                   1\n",
       "фэнтези,ужасы,триллер           1\n",
       "Name: genres, Length: 741, dtype: int64"
      ]
     },
     "execution_count": 47,
     "metadata": {},
     "output_type": "execute_result"
    }
   ],
   "source": [
    "# check\n",
    "data.genres = data.genres.dropna().apply(lambda x: x.lower())\n",
    "data.genres.value_counts().sort_index()"
   ]
  },
  {
   "cell_type": "markdown",
   "metadata": {},
   "source": [
    "Проверим наличие полных дубликатов"
   ]
  },
  {
   "cell_type": "code",
   "execution_count": 48,
   "metadata": {},
   "outputs": [
    {
     "data": {
      "text/plain": [
       "0"
      ]
     },
     "execution_count": 48,
     "metadata": {},
     "output_type": "execute_result"
    }
   ],
   "source": [
    "# check\n",
    "data.duplicated().sum()"
   ]
  },
  {
   "cell_type": "markdown",
   "metadata": {},
   "source": [
    "Проверим наличие дубликатов по подмножеству столбцов `title`, `pu_number`, `show_start_date`, `ratings`"
   ]
  },
  {
   "cell_type": "code",
   "execution_count": 50,
   "metadata": {},
   "outputs": [
    {
     "data": {
      "text/plain": [
       "0"
      ]
     },
     "execution_count": 50,
     "metadata": {},
     "output_type": "execute_result"
    }
   ],
   "source": [
    "# check\n",
    "data.duplicated(subset=['title', 'puNumber', 'show_start_date', 'ratings']).sum()"
   ]
  },
  {
   "cell_type": "markdown",
   "metadata": {
    "id": "52fOPrEBgFyQ"
   },
   "source": [
    "### Шаг 2.4. Изучите категориальные значения\n",
    "\n",
    "- Посмотрите, какая общая проблема встречается почти во всех категориальных столбцах;\n",
    "- Исправьте проблемные значения в поле `type`.\n",
    "\n",
    "<div id=\"accordion\">\n",
    "    <div class=\"card\">\n",
    "        <div class=\"card-header\" id=\"headingThree\">\n",
    "            <button class=\"btn btn-link collapsed\" data-toggle=\"collapse\" data-target=\"#collapseHint_1\" aria-expanded=\"false\" aria-controls=\"collapseHint_1\">Подсказка</button>\n",
    "        </div>\n",
    "        <div id=\"collapseHint_1\" class=\"collapse\" aria-labelledby=\"headingThree\" data-parent=\"#accordion\">\n",
    "            <div class=\"card-body\">\n",
    "В поле <code>type</code> есть несколько значений, у которых появился пробел в начале строки. Самый простой способ их «починить» -- использовать метод <a href=\"https://pandas.pydata.org/docs/reference/api/pandas.Series.str.strip.html#pandas.Series.str.strip\">.str.strip</a>. Этот метод удаляет все пробелы, которые встречаются в начале и в конце строки. Применяют его таким образом:<br>\n",
    "<code>df['type'].str.strip()</code>\n",
    "            </div>\n",
    "        </div>\n",
    "    </div>\n",
    "</div>"
   ]
  },
  {
   "cell_type": "markdown",
   "metadata": {},
   "source": [
    "В столбцах `type`, `film_studio` и `production_country` мы обнаружили общую проблему - есть несколько значений, у которых появился пробел в начале или в конце строки. Данную задачу мы решили на предыдущем этапе во время удаления неявных дубликатов."
   ]
  },
  {
   "cell_type": "markdown",
   "metadata": {
    "id": "XFSN5lrEgFyR"
   },
   "source": [
    "### Шаг 2.5. Проверьте количественные значения\n",
    "\n",
    "- Проверьте, обнаружились ли в таких столбцах подозрительные данные. Как с такими данными лучше поступить?\n",
    "\n",
    "<div id=\"accordion\">\n",
    "    <div class=\"card\">\n",
    "        <div class=\"card-header\" id=\"headingThree\">\n",
    "            <button class=\"btn btn-link collapsed\" data-toggle=\"collapse\" data-target=\"#collapseHint_budget\" aria-expanded=\"false\" aria-controls=\"collapseHint_budget\">Подсказка</button>\n",
    "        </div>\n",
    "        <div id=\"collapseHint_budget\" class=\"collapse\" aria-labelledby=\"headingThree\" data-parent=\"#accordion\">\n",
    "            <div class=\"card-body\">\n",
    "Обратите внимание на описание столбца <code>budget</code>. Как этот столбец соотносится с двумя другими: <code>refundable_support</code> и <code>nonrefundable_support</code>?\n",
    "            </div>\n",
    "        </div>\n",
    "    </div>\n",
    "</div>"
   ]
  },
  {
   "cell_type": "markdown",
   "metadata": {},
   "source": [
    "Мы уже убрали подозрительные данные в столбцах `pu_number` и `ratings` на этапе предобработки данных. Изучим столбцы, в которых `budget` меньше суммы `refundable_support` и `nonrefundable_support`"
   ]
  },
  {
   "cell_type": "code",
   "execution_count": 51,
   "metadata": {},
   "outputs": [
    {
     "data": {
      "text/html": [
       "<div>\n",
       "<style scoped>\n",
       "    .dataframe tbody tr th:only-of-type {\n",
       "        vertical-align: middle;\n",
       "    }\n",
       "\n",
       "    .dataframe tbody tr th {\n",
       "        vertical-align: top;\n",
       "    }\n",
       "\n",
       "    .dataframe thead th {\n",
       "        text-align: right;\n",
       "    }\n",
       "</style>\n",
       "<table border=\"1\" class=\"dataframe\">\n",
       "  <thead>\n",
       "    <tr style=\"text-align: right;\">\n",
       "      <th></th>\n",
       "      <th>title</th>\n",
       "      <th>puNumber</th>\n",
       "      <th>show_start_date</th>\n",
       "      <th>type</th>\n",
       "      <th>film_studio</th>\n",
       "      <th>production_country</th>\n",
       "      <th>director</th>\n",
       "      <th>producer</th>\n",
       "      <th>age_restriction</th>\n",
       "      <th>refundable_support</th>\n",
       "      <th>nonrefundable_support</th>\n",
       "      <th>budget</th>\n",
       "      <th>financing_source</th>\n",
       "      <th>ratings</th>\n",
       "      <th>genres</th>\n",
       "      <th>box_office</th>\n",
       "    </tr>\n",
       "  </thead>\n",
       "  <tbody>\n",
       "    <tr>\n",
       "      <th>2053</th>\n",
       "      <td>14+</td>\n",
       "      <td>111023614</td>\n",
       "      <td>2014-12-19 12:00:00</td>\n",
       "      <td>Художественный</td>\n",
       "      <td>ооо киностудия  \"сентябрь\"</td>\n",
       "      <td>россия</td>\n",
       "      <td>а.зайцев</td>\n",
       "      <td>о.гранина, а.зайцев</td>\n",
       "      <td>«16+» - для детей старше 16 лет</td>\n",
       "      <td>0.0</td>\n",
       "      <td>23000000.0</td>\n",
       "      <td>0.0</td>\n",
       "      <td>Министерство культуры, Фонд кино</td>\n",
       "      <td>6.6</td>\n",
       "      <td>мелодрама</td>\n",
       "      <td>1.023402e+07</td>\n",
       "    </tr>\n",
       "    <tr>\n",
       "      <th>2058</th>\n",
       "      <td>Дуxless 2</td>\n",
       "      <td>111000415</td>\n",
       "      <td>2015-01-26 12:00:00</td>\n",
       "      <td>Художественный</td>\n",
       "      <td>ооо \"киностудия \"слово\", ооо \"арт пикчерс студия\"</td>\n",
       "      <td>россия</td>\n",
       "      <td>р.прыгунов</td>\n",
       "      <td>п.ануров, ф.бондарчук, д.рудовский</td>\n",
       "      <td>«16+» - для детей старше 16 лет</td>\n",
       "      <td>0.0</td>\n",
       "      <td>75000000.0</td>\n",
       "      <td>0.0</td>\n",
       "      <td>Фонд кино</td>\n",
       "      <td>6.6</td>\n",
       "      <td>драма</td>\n",
       "      <td>4.461635e+08</td>\n",
       "    </tr>\n",
       "    <tr>\n",
       "      <th>2472</th>\n",
       "      <td>Воин (2015)</td>\n",
       "      <td>111017315</td>\n",
       "      <td>2015-09-28 12:00:00</td>\n",
       "      <td>Художественный</td>\n",
       "      <td>ооо \"форпост продакшн\", ооо \"арт пикчерс студия\"</td>\n",
       "      <td>россия</td>\n",
       "      <td>а.андрианов</td>\n",
       "      <td>ооо \"арт пикчерс студия\"</td>\n",
       "      <td>«12+» - для детей старше 12 лет</td>\n",
       "      <td>10000000.0</td>\n",
       "      <td>70000000.0</td>\n",
       "      <td>0.0</td>\n",
       "      <td>Фонд кино</td>\n",
       "      <td>7.8</td>\n",
       "      <td>боевик,драма,криминал</td>\n",
       "      <td>1.965724e+08</td>\n",
       "    </tr>\n",
       "    <tr>\n",
       "      <th>2532</th>\n",
       "      <td>Бармен.</td>\n",
       "      <td>111009615</td>\n",
       "      <td>2015-05-26 12:00:00</td>\n",
       "      <td>Художественный</td>\n",
       "      <td>ао \"вайт медиа\", ооо \"арт пикчерс студия\"</td>\n",
       "      <td>россия</td>\n",
       "      <td>д.штурманова</td>\n",
       "      <td>т.вайнштейн</td>\n",
       "      <td>«16+» - для детей старше 16 лет</td>\n",
       "      <td>20000000.0</td>\n",
       "      <td>0.0</td>\n",
       "      <td>0.0</td>\n",
       "      <td>Фонд кино</td>\n",
       "      <td>6.2</td>\n",
       "      <td>комедия,фэнтези</td>\n",
       "      <td>6.741897e+07</td>\n",
       "    </tr>\n",
       "    <tr>\n",
       "      <th>2615</th>\n",
       "      <td>Савва. Сердце воина</td>\n",
       "      <td>114001715</td>\n",
       "      <td>2015-07-21 12:00:00</td>\n",
       "      <td>Анимационный</td>\n",
       "      <td>ооо \"глюкоза продакшн\", ооо \"арт пикчерс студия\"</td>\n",
       "      <td>россия</td>\n",
       "      <td>м.фадеев</td>\n",
       "      <td>а.чистяков</td>\n",
       "      <td>«6+» - для детей старше 6 лет</td>\n",
       "      <td>60000000.0</td>\n",
       "      <td>100000000.0</td>\n",
       "      <td>0.0</td>\n",
       "      <td>Фонд кино</td>\n",
       "      <td>4.6</td>\n",
       "      <td>мультфильм,приключения,фэнтези</td>\n",
       "      <td>1.844876e+08</td>\n",
       "    </tr>\n",
       "    <tr>\n",
       "      <th>2684</th>\n",
       "      <td>Тряпичный союз</td>\n",
       "      <td>111010215</td>\n",
       "      <td>2015-06-08 12:00:00</td>\n",
       "      <td>Художественный</td>\n",
       "      <td>ооо \"кинокомпания \"коктебель\"</td>\n",
       "      <td>россия</td>\n",
       "      <td>м.местецкий</td>\n",
       "      <td>р.борисевич, а.кушаев</td>\n",
       "      <td>«18+» - запрещено для детей</td>\n",
       "      <td>0.0</td>\n",
       "      <td>59000000.0</td>\n",
       "      <td>0.0</td>\n",
       "      <td>Фонд кино</td>\n",
       "      <td>6.3</td>\n",
       "      <td>комедия,драма</td>\n",
       "      <td>1.957739e+06</td>\n",
       "    </tr>\n",
       "    <tr>\n",
       "      <th>2788</th>\n",
       "      <td>Срочно выйду замуж</td>\n",
       "      <td>111017115</td>\n",
       "      <td>2015-09-30 12:00:00</td>\n",
       "      <td>Художественный</td>\n",
       "      <td>ао \"вайт медиа\", ооо \"арт пикчерс студия\"</td>\n",
       "      <td>россия</td>\n",
       "      <td>с чекалов</td>\n",
       "      <td>ф.бондарчук, т.вайнштейн, д.рудовский</td>\n",
       "      <td>«16+» - для детей старше 16 лет</td>\n",
       "      <td>0.0</td>\n",
       "      <td>35000000.0</td>\n",
       "      <td>0.0</td>\n",
       "      <td>Фонд кино</td>\n",
       "      <td>5.1</td>\n",
       "      <td>комедия,мелодрама</td>\n",
       "      <td>7.293778e+07</td>\n",
       "    </tr>\n",
       "    <tr>\n",
       "      <th>2874</th>\n",
       "      <td>Помню - не помню!</td>\n",
       "      <td>111004916</td>\n",
       "      <td>2016-03-01 12:00:00</td>\n",
       "      <td>Художественный</td>\n",
       "      <td>ооо \"кинофирма\"</td>\n",
       "      <td>россия</td>\n",
       "      <td>в.ровенский</td>\n",
       "      <td>ооо \"кинофирма\"</td>\n",
       "      <td>«12+» - для детей старше 12 лет</td>\n",
       "      <td>0.0</td>\n",
       "      <td>6000000.0</td>\n",
       "      <td>0.0</td>\n",
       "      <td>Министерство культуры</td>\n",
       "      <td>4.3</td>\n",
       "      <td>комедия</td>\n",
       "      <td>1.536293e+07</td>\n",
       "    </tr>\n",
       "    <tr>\n",
       "      <th>3047</th>\n",
       "      <td>Любовь с ограничениями</td>\n",
       "      <td>111008216</td>\n",
       "      <td>2016-04-29 12:00:00</td>\n",
       "      <td>Художественный</td>\n",
       "      <td>ао \"вайт медиа\", ооо \"арт пикчерс студия\"</td>\n",
       "      <td>россия</td>\n",
       "      <td>д.тюрин</td>\n",
       "      <td>ф.бондарчук, т.вайнштейн, д.рудовский</td>\n",
       "      <td>«16+» - для детей старше 16 лет</td>\n",
       "      <td>19000000.0</td>\n",
       "      <td>51000000.0</td>\n",
       "      <td>0.0</td>\n",
       "      <td>Фонд кино</td>\n",
       "      <td>6.3</td>\n",
       "      <td>комедия,мелодрама</td>\n",
       "      <td>7.029905e+07</td>\n",
       "    </tr>\n",
       "    <tr>\n",
       "      <th>3565</th>\n",
       "      <td>Притяжение (2016)</td>\n",
       "      <td>111018116</td>\n",
       "      <td>2016-12-16 12:00:00</td>\n",
       "      <td>Художественный</td>\n",
       "      <td>ооо \"водород 2011\",  ооо \"арт пикчерс студия\"</td>\n",
       "      <td>россия</td>\n",
       "      <td>ф.бондарчук</td>\n",
       "      <td>ооо \"арт пикчерс студия\"</td>\n",
       "      <td>«12+» - для детей старше 12 лет</td>\n",
       "      <td>0.0</td>\n",
       "      <td>250000000.0</td>\n",
       "      <td>0.0</td>\n",
       "      <td>Фонд кино</td>\n",
       "      <td>5.6</td>\n",
       "      <td>фантастика</td>\n",
       "      <td>1.038321e+09</td>\n",
       "    </tr>\n",
       "    <tr>\n",
       "      <th>3675</th>\n",
       "      <td>Чудо-юдо</td>\n",
       "      <td>114001817</td>\n",
       "      <td>2017-06-27 12:00:00</td>\n",
       "      <td>Анимационный</td>\n",
       "      <td>ооо \"кинофирма\"</td>\n",
       "      <td>россия</td>\n",
       "      <td>а.лукичев</td>\n",
       "      <td>ооо \"кинофирма\"</td>\n",
       "      <td>«6+» - для детей старше 6 лет</td>\n",
       "      <td>20000000.0</td>\n",
       "      <td>20000000.0</td>\n",
       "      <td>0.0</td>\n",
       "      <td>Фонд кино</td>\n",
       "      <td>5.2</td>\n",
       "      <td>мультфильм,фэнтези,семейный</td>\n",
       "      <td>5.510801e+07</td>\n",
       "    </tr>\n",
       "    <tr>\n",
       "      <th>3739</th>\n",
       "      <td>Мифы</td>\n",
       "      <td>111004317</td>\n",
       "      <td>2017-06-07 12:00:00</td>\n",
       "      <td>Художественный</td>\n",
       "      <td>ооо \"хайпфилм\", ооо \"арт пикчерс студия\"</td>\n",
       "      <td>россия</td>\n",
       "      <td>а.молочников</td>\n",
       "      <td>ф.бондарчук, д.рудовский, и.стюарт, м.османн, ...</td>\n",
       "      <td>«16+» - для детей старше 16 лет</td>\n",
       "      <td>25000000.0</td>\n",
       "      <td>20000000.0</td>\n",
       "      <td>0.0</td>\n",
       "      <td>Фонд кино</td>\n",
       "      <td>4.8</td>\n",
       "      <td>комедия</td>\n",
       "      <td>5.045195e+07</td>\n",
       "    </tr>\n",
       "    <tr>\n",
       "      <th>5673</th>\n",
       "      <td>Селфи</td>\n",
       "      <td>111012117</td>\n",
       "      <td>2018-02-01 12:00:00</td>\n",
       "      <td>Художественный</td>\n",
       "      <td>ооо \"киностудия \"слово\", ооо \"арт пикчерс студия\"</td>\n",
       "      <td>россия</td>\n",
       "      <td>н.хомерики</td>\n",
       "      <td>п.ануров, ф.бондарчук, д.рудовский</td>\n",
       "      <td>«16+» - для детей старше 16 лет</td>\n",
       "      <td>20000000.0</td>\n",
       "      <td>40000000.0</td>\n",
       "      <td>0.0</td>\n",
       "      <td>Фонд кино</td>\n",
       "      <td>5.8</td>\n",
       "      <td>триллер,драма</td>\n",
       "      <td>2.251964e+08</td>\n",
       "    </tr>\n",
       "    <tr>\n",
       "      <th>5806</th>\n",
       "      <td>Два хвоста</td>\n",
       "      <td>114001018</td>\n",
       "      <td>2018-05-31 12:00:00</td>\n",
       "      <td>Анимационный</td>\n",
       "      <td>ооо \"лицензионные бренды\"</td>\n",
       "      <td>россия</td>\n",
       "      <td>в.ровенский, н.лопато, в.азеев</td>\n",
       "      <td>ооо \"лицензионные бренды\"</td>\n",
       "      <td>«6+» - для детей старше 6 лет</td>\n",
       "      <td>10000000.0</td>\n",
       "      <td>60000000.0</td>\n",
       "      <td>0.0</td>\n",
       "      <td>Фонд кино</td>\n",
       "      <td>5.0</td>\n",
       "      <td>мультфильм,детский</td>\n",
       "      <td>1.065143e+08</td>\n",
       "    </tr>\n",
       "    <tr>\n",
       "      <th>6008</th>\n",
       "      <td>Принцесса и дракон</td>\n",
       "      <td>114003018</td>\n",
       "      <td>2018-08-23 12:00:00</td>\n",
       "      <td>Анимационный</td>\n",
       "      <td>ооо \"лицензионные бренды\"</td>\n",
       "      <td>россия</td>\n",
       "      <td>м.нефедова</td>\n",
       "      <td>ооо \"лицензионные бренды\"</td>\n",
       "      <td>«6+» - для детей старше 6 лет</td>\n",
       "      <td>40000000.0</td>\n",
       "      <td>40000000.0</td>\n",
       "      <td>0.0</td>\n",
       "      <td>Фонд кино</td>\n",
       "      <td>5.2</td>\n",
       "      <td>мультфильм,фэнтези,детский</td>\n",
       "      <td>8.336633e+07</td>\n",
       "    </tr>\n",
       "    <tr>\n",
       "      <th>6323</th>\n",
       "      <td>Баба Яга</td>\n",
       "      <td>114006518</td>\n",
       "      <td>2018-11-08 12:00:00</td>\n",
       "      <td>Анимационный</td>\n",
       "      <td>ооо \"арт пикчерс студия\"</td>\n",
       "      <td>россия</td>\n",
       "      <td>в.саков</td>\n",
       "      <td>ооо \"арт пикчерс студия\", ооо \"криэйтив анимэй...</td>\n",
       "      <td>«6+» - для детей старше 6 лет</td>\n",
       "      <td>0.0</td>\n",
       "      <td>138969465.0</td>\n",
       "      <td>0.0</td>\n",
       "      <td>Фонд кино</td>\n",
       "      <td>NaN</td>\n",
       "      <td>NaN</td>\n",
       "      <td>1.334699e+06</td>\n",
       "    </tr>\n",
       "    <tr>\n",
       "      <th>6823</th>\n",
       "      <td>Большое путешествие</td>\n",
       "      <td>114002419</td>\n",
       "      <td>2019-04-20 12:00:00</td>\n",
       "      <td>Анимационный</td>\n",
       "      <td>ооо \"лицензионные бренды\"</td>\n",
       "      <td>россия</td>\n",
       "      <td>н.лопато, в.ровенский</td>\n",
       "      <td>ооо \"лицензионные бренды\"</td>\n",
       "      <td>«6+» - для детей старше 6 лет</td>\n",
       "      <td>60000000.0</td>\n",
       "      <td>120000000.0</td>\n",
       "      <td>0.0</td>\n",
       "      <td>Фонд кино</td>\n",
       "      <td>6.2</td>\n",
       "      <td>мультфильм,комедия,приключения</td>\n",
       "      <td>1.476068e+08</td>\n",
       "    </tr>\n",
       "  </tbody>\n",
       "</table>\n",
       "</div>"
      ],
      "text/plain": [
       "                       title   puNumber     show_start_date            type  \\\n",
       "2053                     14+  111023614 2014-12-19 12:00:00  Художественный   \n",
       "2058               Дуxless 2  111000415 2015-01-26 12:00:00  Художественный   \n",
       "2472             Воин (2015)  111017315 2015-09-28 12:00:00  Художественный   \n",
       "2532                 Бармен.  111009615 2015-05-26 12:00:00  Художественный   \n",
       "2615     Савва. Сердце воина  114001715 2015-07-21 12:00:00    Анимационный   \n",
       "2684          Тряпичный союз  111010215 2015-06-08 12:00:00  Художественный   \n",
       "2788      Срочно выйду замуж  111017115 2015-09-30 12:00:00  Художественный   \n",
       "2874       Помню - не помню!  111004916 2016-03-01 12:00:00  Художественный   \n",
       "3047  Любовь с ограничениями  111008216 2016-04-29 12:00:00  Художественный   \n",
       "3565       Притяжение (2016)  111018116 2016-12-16 12:00:00  Художественный   \n",
       "3675                Чудо-юдо  114001817 2017-06-27 12:00:00    Анимационный   \n",
       "3739                    Мифы  111004317 2017-06-07 12:00:00  Художественный   \n",
       "5673                   Селфи  111012117 2018-02-01 12:00:00  Художественный   \n",
       "5806              Два хвоста  114001018 2018-05-31 12:00:00    Анимационный   \n",
       "6008      Принцесса и дракон  114003018 2018-08-23 12:00:00    Анимационный   \n",
       "6323                Баба Яга  114006518 2018-11-08 12:00:00    Анимационный   \n",
       "6823     Большое путешествие  114002419 2019-04-20 12:00:00    Анимационный   \n",
       "\n",
       "                                            film_studio production_country  \\\n",
       "2053                         ооо киностудия  \"сентябрь\"             россия   \n",
       "2058  ооо \"киностудия \"слово\", ооо \"арт пикчерс студия\"             россия   \n",
       "2472   ооо \"форпост продакшн\", ооо \"арт пикчерс студия\"             россия   \n",
       "2532          ао \"вайт медиа\", ооо \"арт пикчерс студия\"             россия   \n",
       "2615   ооо \"глюкоза продакшн\", ооо \"арт пикчерс студия\"             россия   \n",
       "2684                      ооо \"кинокомпания \"коктебель\"             россия   \n",
       "2788          ао \"вайт медиа\", ооо \"арт пикчерс студия\"             россия   \n",
       "2874                                    ооо \"кинофирма\"             россия   \n",
       "3047          ао \"вайт медиа\", ооо \"арт пикчерс студия\"             россия   \n",
       "3565      ооо \"водород 2011\",  ооо \"арт пикчерс студия\"             россия   \n",
       "3675                                    ооо \"кинофирма\"             россия   \n",
       "3739           ооо \"хайпфилм\", ооо \"арт пикчерс студия\"             россия   \n",
       "5673  ооо \"киностудия \"слово\", ооо \"арт пикчерс студия\"             россия   \n",
       "5806                          ооо \"лицензионные бренды\"             россия   \n",
       "6008                          ооо \"лицензионные бренды\"             россия   \n",
       "6323                           ооо \"арт пикчерс студия\"             россия   \n",
       "6823                          ооо \"лицензионные бренды\"             россия   \n",
       "\n",
       "                            director  \\\n",
       "2053                        а.зайцев   \n",
       "2058                      р.прыгунов   \n",
       "2472                     а.андрианов   \n",
       "2532                    д.штурманова   \n",
       "2615                        м.фадеев   \n",
       "2684                     м.местецкий   \n",
       "2788                       с чекалов   \n",
       "2874                     в.ровенский   \n",
       "3047                         д.тюрин   \n",
       "3565                     ф.бондарчук   \n",
       "3675                       а.лукичев   \n",
       "3739                    а.молочников   \n",
       "5673                      н.хомерики   \n",
       "5806  в.ровенский, н.лопато, в.азеев   \n",
       "6008                      м.нефедова   \n",
       "6323                         в.саков   \n",
       "6823           н.лопато, в.ровенский   \n",
       "\n",
       "                                               producer  \\\n",
       "2053                                о.гранина, а.зайцев   \n",
       "2058                 п.ануров, ф.бондарчук, д.рудовский   \n",
       "2472                           ооо \"арт пикчерс студия\"   \n",
       "2532                                        т.вайнштейн   \n",
       "2615                                         а.чистяков   \n",
       "2684                              р.борисевич, а.кушаев   \n",
       "2788              ф.бондарчук, т.вайнштейн, д.рудовский   \n",
       "2874                                    ооо \"кинофирма\"   \n",
       "3047              ф.бондарчук, т.вайнштейн, д.рудовский   \n",
       "3565                           ооо \"арт пикчерс студия\"   \n",
       "3675                                    ооо \"кинофирма\"   \n",
       "3739  ф.бондарчук, д.рудовский, и.стюарт, м.османн, ...   \n",
       "5673                 п.ануров, ф.бондарчук, д.рудовский   \n",
       "5806                          ооо \"лицензионные бренды\"   \n",
       "6008                          ооо \"лицензионные бренды\"   \n",
       "6323  ооо \"арт пикчерс студия\", ооо \"криэйтив анимэй...   \n",
       "6823                          ооо \"лицензионные бренды\"   \n",
       "\n",
       "                      age_restriction  refundable_support  \\\n",
       "2053  «16+» - для детей старше 16 лет                 0.0   \n",
       "2058  «16+» - для детей старше 16 лет                 0.0   \n",
       "2472  «12+» - для детей старше 12 лет          10000000.0   \n",
       "2532  «16+» - для детей старше 16 лет          20000000.0   \n",
       "2615    «6+» - для детей старше 6 лет          60000000.0   \n",
       "2684      «18+» - запрещено для детей                 0.0   \n",
       "2788  «16+» - для детей старше 16 лет                 0.0   \n",
       "2874  «12+» - для детей старше 12 лет                 0.0   \n",
       "3047  «16+» - для детей старше 16 лет          19000000.0   \n",
       "3565  «12+» - для детей старше 12 лет                 0.0   \n",
       "3675    «6+» - для детей старше 6 лет          20000000.0   \n",
       "3739  «16+» - для детей старше 16 лет          25000000.0   \n",
       "5673  «16+» - для детей старше 16 лет          20000000.0   \n",
       "5806    «6+» - для детей старше 6 лет          10000000.0   \n",
       "6008    «6+» - для детей старше 6 лет          40000000.0   \n",
       "6323    «6+» - для детей старше 6 лет                 0.0   \n",
       "6823    «6+» - для детей старше 6 лет          60000000.0   \n",
       "\n",
       "      nonrefundable_support  budget                  financing_source  \\\n",
       "2053             23000000.0     0.0  Министерство культуры, Фонд кино   \n",
       "2058             75000000.0     0.0                         Фонд кино   \n",
       "2472             70000000.0     0.0                         Фонд кино   \n",
       "2532                    0.0     0.0                         Фонд кино   \n",
       "2615            100000000.0     0.0                         Фонд кино   \n",
       "2684             59000000.0     0.0                         Фонд кино   \n",
       "2788             35000000.0     0.0                         Фонд кино   \n",
       "2874              6000000.0     0.0             Министерство культуры   \n",
       "3047             51000000.0     0.0                         Фонд кино   \n",
       "3565            250000000.0     0.0                         Фонд кино   \n",
       "3675             20000000.0     0.0                         Фонд кино   \n",
       "3739             20000000.0     0.0                         Фонд кино   \n",
       "5673             40000000.0     0.0                         Фонд кино   \n",
       "5806             60000000.0     0.0                         Фонд кино   \n",
       "6008             40000000.0     0.0                         Фонд кино   \n",
       "6323            138969465.0     0.0                         Фонд кино   \n",
       "6823            120000000.0     0.0                         Фонд кино   \n",
       "\n",
       "      ratings                          genres    box_office  \n",
       "2053      6.6                       мелодрама  1.023402e+07  \n",
       "2058      6.6                           драма  4.461635e+08  \n",
       "2472      7.8           боевик,драма,криминал  1.965724e+08  \n",
       "2532      6.2                 комедия,фэнтези  6.741897e+07  \n",
       "2615      4.6  мультфильм,приключения,фэнтези  1.844876e+08  \n",
       "2684      6.3                   комедия,драма  1.957739e+06  \n",
       "2788      5.1               комедия,мелодрама  7.293778e+07  \n",
       "2874      4.3                         комедия  1.536293e+07  \n",
       "3047      6.3               комедия,мелодрама  7.029905e+07  \n",
       "3565      5.6                      фантастика  1.038321e+09  \n",
       "3675      5.2     мультфильм,фэнтези,семейный  5.510801e+07  \n",
       "3739      4.8                         комедия  5.045195e+07  \n",
       "5673      5.8                   триллер,драма  2.251964e+08  \n",
       "5806      5.0              мультфильм,детский  1.065143e+08  \n",
       "6008      5.2      мультфильм,фэнтези,детский  8.336633e+07  \n",
       "6323      NaN                             NaN  1.334699e+06  \n",
       "6823      6.2  мультфильм,комедия,приключения  1.476068e+08  "
      ]
     },
     "execution_count": 51,
     "metadata": {},
     "output_type": "execute_result"
    }
   ],
   "source": [
    "# check\n",
    "data.loc[data.budget < data.refundable_support + data.nonrefundable_support]"
   ]
  },
  {
   "cell_type": "code",
   "execution_count": 52,
   "metadata": {},
   "outputs": [],
   "source": [
    "# Приравняем budget сумме refundable_support и nonrefundable_support\n",
    "data.loc[data.budget < data.refundable_support + data.nonrefundable_support, 'budget'] = \\\n",
    "    data.refundable_support + data.nonrefundable_support"
   ]
  },
  {
   "cell_type": "code",
   "execution_count": 53,
   "metadata": {},
   "outputs": [
    {
     "data": {
      "text/html": [
       "<div>\n",
       "<style scoped>\n",
       "    .dataframe tbody tr th:only-of-type {\n",
       "        vertical-align: middle;\n",
       "    }\n",
       "\n",
       "    .dataframe tbody tr th {\n",
       "        vertical-align: top;\n",
       "    }\n",
       "\n",
       "    .dataframe thead th {\n",
       "        text-align: right;\n",
       "    }\n",
       "</style>\n",
       "<table border=\"1\" class=\"dataframe\">\n",
       "  <thead>\n",
       "    <tr style=\"text-align: right;\">\n",
       "      <th></th>\n",
       "      <th>title</th>\n",
       "      <th>puNumber</th>\n",
       "      <th>show_start_date</th>\n",
       "      <th>type</th>\n",
       "      <th>film_studio</th>\n",
       "      <th>production_country</th>\n",
       "      <th>director</th>\n",
       "      <th>producer</th>\n",
       "      <th>age_restriction</th>\n",
       "      <th>refundable_support</th>\n",
       "      <th>nonrefundable_support</th>\n",
       "      <th>budget</th>\n",
       "      <th>financing_source</th>\n",
       "      <th>ratings</th>\n",
       "      <th>genres</th>\n",
       "      <th>box_office</th>\n",
       "    </tr>\n",
       "  </thead>\n",
       "  <tbody>\n",
       "  </tbody>\n",
       "</table>\n",
       "</div>"
      ],
      "text/plain": [
       "Empty DataFrame\n",
       "Columns: [title, puNumber, show_start_date, type, film_studio, production_country, director, producer, age_restriction, refundable_support, nonrefundable_support, budget, financing_source, ratings, genres, box_office]\n",
       "Index: []"
      ]
     },
     "execution_count": 53,
     "metadata": {},
     "output_type": "execute_result"
    }
   ],
   "source": [
    "# check\n",
    "data.loc[data.budget < data.refundable_support + data.nonrefundable_support]"
   ]
  },
  {
   "cell_type": "markdown",
   "metadata": {},
   "source": [
    "Проанализируем аномальные значения в столбцах `refundable_support`, `nonrefundable_support`, `budget`, `ratings` и `box_office`.\n",
    "Удалим аномальные значения, которые не входят в размах, равный межквартильному размаху умноженному на `1.5`. Будем использовать следующие формулы:\n",
    "\n",
    "**`Q1 - 1.5 * (Q3 - Q1) = 2.5 * Q1 - 1.5 * Q3`** \\\n",
    "**`Q3 + 1.5 * (Q3 - Q1) = 2.5 * Q3 - 1.5 * Q1`**, где **`Q1`** и **`Q3`** - первый и третий квартили"
   ]
  },
  {
   "cell_type": "code",
   "execution_count": 54,
   "metadata": {},
   "outputs": [
    {
     "data": {
      "text/plain": [
       "count    3.320000e+02\n",
       "mean     1.186446e+07\n",
       "std      2.491656e+07\n",
       "min      0.000000e+00\n",
       "25%      0.000000e+00\n",
       "50%      0.000000e+00\n",
       "75%      1.500000e+07\n",
       "max      1.800000e+08\n",
       "Name: refundable_support, dtype: float64"
      ]
     },
     "metadata": {},
     "output_type": "display_data"
    },
    {
     "data": {
      "image/png": "[encoded data removed]",
      "text/plain": [
       "<Figure size 1008x432 with 1 Axes>"
      ]
     },
     "metadata": {
      "needs_background": "light"
     },
     "output_type": "display_data"
    },
    {
     "data": {
      "text/plain": [
       "count    2.920000e+02\n",
       "mean     4.179138e+07\n",
       "std      4.512286e+07\n",
       "min      0.000000e+00\n",
       "25%      2.500000e+07\n",
       "50%      3.000000e+07\n",
       "75%      4.000000e+07\n",
       "max      4.000000e+08\n",
       "Name: nonrefundable_support, dtype: float64"
      ]
     },
     "metadata": {},
     "output_type": "display_data"
    },
    {
     "data": {
      "image/png": "[encoded data removed]",
      "text/plain": [
       "<Figure size 1008x432 with 1 Axes>"
      ]
     },
     "metadata": {
      "needs_background": "light"
     },
     "output_type": "display_data"
    },
    {
     "data": {
      "text/plain": [
       "count    2.600000e+02\n",
       "mean     8.118035e+07\n",
       "std      7.700790e+07\n",
       "min      6.000000e+06\n",
       "25%      4.059414e+07\n",
       "50%      5.826288e+07\n",
       "75%      9.015919e+07\n",
       "max      7.799420e+08\n",
       "Name: budget, dtype: float64"
      ]
     },
     "metadata": {},
     "output_type": "display_data"
    },
    {
     "data": {
      "image/png": "[encoded data removed]",
      "text/plain": [
       "<Figure size 1008x432 with 1 Axes>"
      ]
     },
     "metadata": {
      "needs_background": "light"
     },
     "output_type": "display_data"
    },
    {
     "data": {
      "text/plain": [
       "count    6421.000000\n",
       "mean        6.493942\n",
       "std         1.110729\n",
       "min         1.000000\n",
       "25%         5.900000\n",
       "50%         6.600000\n",
       "75%         7.200000\n",
       "max         9.900000\n",
       "Name: ratings, dtype: float64"
      ]
     },
     "metadata": {},
     "output_type": "display_data"
    },
    {
     "data": {
      "image/png": "[encoded data removed]",
      "text/plain": [
       "<Figure size 1008x432 with 1 Axes>"
      ]
     },
     "metadata": {
      "needs_background": "light"
     },
     "output_type": "display_data"
    },
    {
     "data": {
      "text/plain": [
       "count    2.970000e+03\n",
       "mean     7.148198e+07\n",
       "std      2.310698e+08\n",
       "min      0.000000e+00\n",
       "25%      8.623900e+04\n",
       "50%      2.227061e+06\n",
       "75%      2.081388e+07\n",
       "max      3.073569e+09\n",
       "Name: box_office, dtype: float64"
      ]
     },
     "metadata": {},
     "output_type": "display_data"
    },
    {
     "data": {
      "image/png": "[encoded data removed]",
      "text/plain": [
       "<Figure size 1008x432 with 1 Axes>"
      ]
     },
     "metadata": {
      "needs_background": "light"
     },
     "output_type": "display_data"
    }
   ],
   "source": [
    "for column in ['refundable_support', 'nonrefundable_support', 'budget', 'ratings', 'box_office']:\n",
    "    display(data.loc[~data[column].isna(), column].describe())\n",
    "    Q1 = data.loc[~data[column].isna(), column].describe()['25%']\n",
    "    Q3 = data.loc[~data[column].isna(), column].describe()['75%']\n",
    "    data.loc[~data[column].isna(), column].plot(kind='box',\n",
    "                                                title=column + '_boxplot',\n",
    "                                                ylim=(3 * Q1 - 2 * Q3, 3 * Q3 - 2 * Q1),\n",
    "                                                figsize=(14, 6),\n",
    "                                                grid=True);\n",
    "    plt.show()\n",
    "    \n",
    "\n",
    "    data = data[(data[column].isna()) |\n",
    "                (((2.5 * Q1 - 1.5 * Q3) <= data[column]) & (data[column] <= (2.5 * Q3 - 1.5 * Q1)))]"
   ]
  },
  {
   "cell_type": "markdown",
   "metadata": {
    "id": "Eu6oWp2CgFyS"
   },
   "source": [
    "### Шаг 2.6. Добавьте новые столбцы"
   ]
  },
  {
   "cell_type": "markdown",
   "metadata": {
    "id": "7GgW-UpAgFyS"
   },
   "source": [
    "- Создайте столбец с информацией о годе проката. Выделите год из даты премьеры фильма."
   ]
  },
  {
   "cell_type": "code",
   "execution_count": 55,
   "metadata": {
    "id": "I-yd1DkWgFyT"
   },
   "outputs": [],
   "source": [
    "data['show_start_year'] = data['show_start_date'].dt.year"
   ]
  },
  {
   "cell_type": "code",
   "execution_count": 56,
   "metadata": {},
   "outputs": [
    {
     "data": {
      "text/plain": [
       "0       2015\n",
       "1       2016\n",
       "2       2016\n",
       "3       2016\n",
       "4       2015\n",
       "        ... \n",
       "7481    2019\n",
       "7482    2019\n",
       "7483    2019\n",
       "7484    2019\n",
       "7485    2019\n",
       "Name: show_start_year, Length: 6670, dtype: int64"
      ]
     },
     "execution_count": 56,
     "metadata": {},
     "output_type": "execute_result"
    }
   ],
   "source": [
    "# check\n",
    "data.show_start_year"
   ]
  },
  {
   "cell_type": "markdown",
   "metadata": {
    "id": "nFTDLDYOgFyT"
   },
   "source": [
    "- Создайте два столбца: с именем и фамилией главного режиссёра и основным жанром фильма. В столбцы войдут первые значения из списка режиссёров и жанров соответственно.\n",
    "\n",
    "<div id=\"accordion\">\n",
    "    <div class=\"card\">\n",
    "        <div class=\"card-header\" id=\"headingThree\">\n",
    "            <button class=\"btn btn-link collapsed\" data-toggle=\"collapse\" data-target=\"#collapseHint_2\" aria-expanded=\"false\" aria-controls=\"collapseHint_2\">Подсказка</button>\n",
    "        </div>\n",
    "        <div id=\"collapseHint_2\" class=\"collapse\" aria-labelledby=\"headingThree\" data-parent=\"#accordion\">\n",
    "            <div class=\"card-body\">\n",
    "Чтобы создать такие столбцы, лучше всего использовать собственную функцию. Эту функцию можно применить к двум столбцам сразу. \n",
    "            </div>\n",
    "        </div>\n",
    "    </div>\n",
    "</div>"
   ]
  },
  {
   "cell_type": "code",
   "execution_count": 57,
   "metadata": {},
   "outputs": [],
   "source": [
    "def split_names(string):\n",
    "    return string.split(',')[0]"
   ]
  },
  {
   "cell_type": "code",
   "execution_count": 58,
   "metadata": {},
   "outputs": [],
   "source": [
    "data['main_director'] = data[~data.director.isna()].director.apply(split_names)\n",
    "data['main_genre'] = data[~data.genres.isna()].genres.apply(split_names)"
   ]
  },
  {
   "cell_type": "code",
   "execution_count": 59,
   "metadata": {},
   "outputs": [
    {
     "data": {
      "text/plain": [
       "0           кевин костнер\n",
       "1               е.матвеев\n",
       "2       тимур бекмамбетов\n",
       "3       тимур бекмамбетов\n",
       "4       тимур бекмамбетов\n",
       "5            в.абдрашитов\n",
       "6               в.меньшов\n",
       "7           джон туртурро\n",
       "8            эрик беснард\n",
       "9                 в.титов\n",
       "10          пол грингросс\n",
       "11          м.туманишвили\n",
       "12           клинт иствуд\n",
       "13    фернанду мейрелльеш\n",
       "14            майк фиггис\n",
       "15             а.салтыков\n",
       "16              г.данелия\n",
       "17              а.смирнов\n",
       "18              ю.чулюкин\n",
       "19       в.краснопольский\n",
       "20             м.чиаурели\n",
       "21        лассе халлстрем\n",
       "22               л.гайдай\n",
       "23            в.чеботарев\n",
       "24               в.азаров\n",
       "25          боривой земан\n",
       "26           эндрю никкол\n",
       "27            г.мыльников\n",
       "28          джонатан кинг\n",
       "29           в.абдрашитов\n",
       "Name: main_director, dtype: object"
      ]
     },
     "execution_count": 59,
     "metadata": {},
     "output_type": "execute_result"
    }
   ],
   "source": [
    "# check\n",
    "data['main_director'].head(30)"
   ]
  },
  {
   "cell_type": "code",
   "execution_count": 60,
   "metadata": {},
   "outputs": [
    {
     "data": {
      "text/plain": [
       "Художественный                5253\n",
       "Анимационный                   691\n",
       "Прочие                         399\n",
       "Документальный                 277\n",
       "Научно-популярный               49\n",
       "Музыкально-развлекательный       1\n",
       "Name: type, dtype: int64"
      ]
     },
     "execution_count": 60,
     "metadata": {},
     "output_type": "execute_result"
    }
   ],
   "source": [
    "# check\n",
    "data.type.value_counts()"
   ]
  },
  {
   "cell_type": "code",
   "execution_count": 61,
   "metadata": {
    "id": "PnXKIVdFgFyR"
   },
   "outputs": [],
   "source": [
    "data.type = data.type.str.strip()"
   ]
  },
  {
   "cell_type": "code",
   "execution_count": 62,
   "metadata": {},
   "outputs": [
    {
     "data": {
      "text/plain": [
       "драма              1618\n",
       "комедия             580\n",
       "боевик              528\n",
       "триллер             480\n",
       "ужасы               474\n",
       "мультфильм          409\n",
       "мелодрама           364\n",
       "фантастика          320\n",
       "фэнтези             305\n",
       "документальный      217\n",
       "аниме                71\n",
       "мюзикл               57\n",
       "детектив             49\n",
       "приключения          47\n",
       "военный              39\n",
       "криминал             36\n",
       "биография            27\n",
       "семейный             26\n",
       "детский              24\n",
       "история              17\n",
       "короткометражка      12\n",
       "концерт               8\n",
       "музыка                7\n",
       "вестерн               6\n",
       "спорт                 6\n",
       "для взрослых          3\n",
       "фильм-нуар            1\n",
       "реальное тв           1\n",
       "Name: main_genre, dtype: int64"
      ]
     },
     "execution_count": 62,
     "metadata": {},
     "output_type": "execute_result"
    }
   ],
   "source": [
    "# check\n",
    "data['main_genre'].value_counts()"
   ]
  },
  {
   "cell_type": "markdown",
   "metadata": {
    "id": "1FsCXHwdgFyU"
   },
   "source": [
    "- Посчитайте, какую долю от общего бюджета фильма составляет государственная поддержка."
   ]
  },
  {
   "cell_type": "code",
   "execution_count": 63,
   "metadata": {
    "id": "LV6qFuZLgFyV"
   },
   "outputs": [],
   "source": [
    "data['government_support_pct'] = (data.refundable_support + data.nonrefundable_support) / data.budget"
   ]
  },
  {
   "cell_type": "code",
   "execution_count": 64,
   "metadata": {},
   "outputs": [
    {
     "data": {
      "text/plain": [
       "1281    0.333703\n",
       "1448    0.700000\n",
       "1524    0.690095\n",
       "1792    0.624764\n",
       "1854    0.482160\n",
       "1871    0.539407\n",
       "1912    0.700000\n",
       "1991    0.689474\n",
       "1997    0.352728\n",
       "2014    0.373782\n",
       "2053    1.000000\n",
       "2084    0.501212\n",
       "2106    0.629630\n",
       "2108    0.657024\n",
       "2109    0.666569\n",
       "2143    0.409759\n",
       "2150    0.668963\n",
       "2166    0.679945\n",
       "2169    0.697674\n",
       "2265    0.700000\n",
       "Name: government_support_pct, dtype: float64"
      ]
     },
     "execution_count": 64,
     "metadata": {},
     "output_type": "execute_result"
    }
   ],
   "source": [
    "# check\n",
    "data.government_support_pct.dropna().head(20)"
   ]
  },
  {
   "cell_type": "markdown",
   "metadata": {
    "id": "6t4EukPLgFyV"
   },
   "source": [
    "## Шаг 3. Проведите исследовательский анализ данных\n"
   ]
  },
  {
   "cell_type": "markdown",
   "metadata": {
    "id": "vAH8WCzugFyV"
   },
   "source": [
    "- Посмотрите, сколько фильмов выходило в прокат каждый год. Обратите внимание, что данные о прокате в кинотеатрах известны не для всех фильмов. Посчитайте, какую долю составляют фильмы с указанной информацией о прокате в кинотеатрах."
   ]
  },
  {
   "cell_type": "markdown",
   "metadata": {
    "id": "BEOdcIrIgFyW"
   },
   "source": [
    "- Изучите, как менялась динамика проката по годам. В каком году сумма сборов была минимальной? А максимальной?"
   ]
  },
  {
   "cell_type": "code",
   "execution_count": 65,
   "metadata": {
    "id": "tfEhofYvgFyX"
   },
   "outputs": [
    {
     "data": {
      "text/plain": [
       "show_start_year\n",
       "2010    957\n",
       "2011    599\n",
       "2012    573\n",
       "2013    606\n",
       "2014    768\n",
       "2015    572\n",
       "2016    668\n",
       "2017    397\n",
       "2018    737\n",
       "2019    793\n",
       "Name: title, dtype: int64"
      ]
     },
     "execution_count": 65,
     "metadata": {},
     "output_type": "execute_result"
    }
   ],
   "source": [
    "# Количество фильмов выходивших в прокат каждый год\n",
    "films_per_year = data.groupby('show_start_year').title.count()\n",
    "films_per_year"
   ]
  },
  {
   "cell_type": "code",
   "execution_count": 66,
   "metadata": {},
   "outputs": [
    {
     "data": {
      "image/png": "[encoded data removed]",
      "text/plain": [
       "<Figure size 1008x432 with 1 Axes>"
      ]
     },
     "metadata": {
      "needs_background": "light"
     },
     "output_type": "display_data"
    }
   ],
   "source": [
    "films_per_year.plot(kind='bar', title='Films per year', ylabel='number_of_films_per_year', figsize=(14, 6), grid=True);"
   ]
  },
  {
   "cell_type": "code",
   "execution_count": 67,
   "metadata": {},
   "outputs": [
    {
     "data": {
      "text/plain": [
       "show_start_year\n",
       "2010    0.102403\n",
       "2011    0.170284\n",
       "2012    0.200698\n",
       "2013    0.285479\n",
       "2014    0.326823\n",
       "2015    0.589161\n",
       "2016    0.570359\n",
       "2017    0.647355\n",
       "2018    0.464043\n",
       "2019    0.508197\n",
       "Name: title, dtype: float64"
      ]
     },
     "execution_count": 67,
     "metadata": {},
     "output_type": "execute_result"
    }
   ],
   "source": [
    "# Доля фильмов с указанной информацией о прокате в кинотеатрах\n",
    "shows_pct = data[~data.box_office.isna()].groupby('show_start_year').title.count() \\\n",
    "            / data.groupby('show_start_year').title.count()\n",
    "shows_pct"
   ]
  },
  {
   "cell_type": "code",
   "execution_count": 68,
   "metadata": {},
   "outputs": [
    {
     "data": {
      "image/png": "[encoded data removed]",
      "text/plain": [
       "<Figure size 1008x432 with 1 Axes>"
      ]
     },
     "metadata": {
      "needs_background": "light"
     },
     "output_type": "display_data"
    }
   ],
   "source": [
    "shows_pct.plot(title='Film cinema rental dynamics by years', ylabel='cinema_rental_pct', figsize=(14, 6), grid=True);"
   ]
  },
  {
   "cell_type": "code",
   "execution_count": 69,
   "metadata": {},
   "outputs": [
    {
     "name": "stdout",
     "output_type": "stream",
     "text": [
      "В 2010 году сумма сборов была минимальной - 2379220.0\n",
      "В 2018 году сумма сборов была максимальной - 3112075515.0\n"
     ]
    }
   ],
   "source": [
    "box_office_sum = data.pivot_table(index='show_start_year', values='box_office', aggfunc='sum')\n",
    "print(f'В {box_office_sum.idxmin()[0]} году сумма сборов была минимальной - {box_office_sum.min()[0].round()}')\n",
    "print(f'В {box_office_sum.idxmax()[0]} году сумма сборов была максимальной - {box_office_sum.max()[0].round()}')"
   ]
  },
  {
   "cell_type": "markdown",
   "metadata": {
    "id": "G-7qS-N-gFyY"
   },
   "source": [
    "- С помощью сводной таблицы посчитайте среднюю и медианную сумму сборов для каждого года."
   ]
  },
  {
   "cell_type": "code",
   "execution_count": 70,
   "metadata": {
    "id": "jmp-rgg9gFyY",
    "scrolled": false
   },
   "outputs": [
    {
     "data": {
      "text/html": [
       "<div>\n",
       "<style scoped>\n",
       "    .dataframe tbody tr th:only-of-type {\n",
       "        vertical-align: middle;\n",
       "    }\n",
       "\n",
       "    .dataframe tbody tr th {\n",
       "        vertical-align: top;\n",
       "    }\n",
       "\n",
       "    .dataframe thead tr th {\n",
       "        text-align: left;\n",
       "    }\n",
       "\n",
       "    .dataframe thead tr:last-of-type th {\n",
       "        text-align: right;\n",
       "    }\n",
       "</style>\n",
       "<table border=\"1\" class=\"dataframe\">\n",
       "  <thead>\n",
       "    <tr>\n",
       "      <th></th>\n",
       "      <th>mean</th>\n",
       "      <th>median</th>\n",
       "    </tr>\n",
       "    <tr>\n",
       "      <th></th>\n",
       "      <th>box_office</th>\n",
       "      <th>box_office</th>\n",
       "    </tr>\n",
       "    <tr>\n",
       "      <th>show_start_year</th>\n",
       "      <th></th>\n",
       "      <th></th>\n",
       "    </tr>\n",
       "  </thead>\n",
       "  <tbody>\n",
       "    <tr>\n",
       "      <th>2010</th>\n",
       "      <td>24278.0</td>\n",
       "      <td>1624.0</td>\n",
       "    </tr>\n",
       "    <tr>\n",
       "      <th>2011</th>\n",
       "      <td>137372.0</td>\n",
       "      <td>3042.0</td>\n",
       "    </tr>\n",
       "    <tr>\n",
       "      <th>2012</th>\n",
       "      <td>58798.0</td>\n",
       "      <td>6000.0</td>\n",
       "    </tr>\n",
       "    <tr>\n",
       "      <th>2013</th>\n",
       "      <td>51609.0</td>\n",
       "      <td>3075.0</td>\n",
       "    </tr>\n",
       "    <tr>\n",
       "      <th>2014</th>\n",
       "      <td>1781816.0</td>\n",
       "      <td>14650.0</td>\n",
       "    </tr>\n",
       "    <tr>\n",
       "      <th>2015</th>\n",
       "      <td>7721259.0</td>\n",
       "      <td>2009311.0</td>\n",
       "    </tr>\n",
       "    <tr>\n",
       "      <th>2016</th>\n",
       "      <td>6203273.0</td>\n",
       "      <td>1561646.0</td>\n",
       "    </tr>\n",
       "    <tr>\n",
       "      <th>2017</th>\n",
       "      <td>9951745.0</td>\n",
       "      <td>4728000.0</td>\n",
       "    </tr>\n",
       "    <tr>\n",
       "      <th>2018</th>\n",
       "      <td>9099636.0</td>\n",
       "      <td>4493547.0</td>\n",
       "    </tr>\n",
       "    <tr>\n",
       "      <th>2019</th>\n",
       "      <td>7421525.0</td>\n",
       "      <td>2617932.0</td>\n",
       "    </tr>\n",
       "  </tbody>\n",
       "</table>\n",
       "</div>"
      ],
      "text/plain": [
       "                      mean     median\n",
       "                box_office box_office\n",
       "show_start_year                      \n",
       "2010               24278.0     1624.0\n",
       "2011              137372.0     3042.0\n",
       "2012               58798.0     6000.0\n",
       "2013               51609.0     3075.0\n",
       "2014             1781816.0    14650.0\n",
       "2015             7721259.0  2009311.0\n",
       "2016             6203273.0  1561646.0\n",
       "2017             9951745.0  4728000.0\n",
       "2018             9099636.0  4493547.0\n",
       "2019             7421525.0  2617932.0"
      ]
     },
     "execution_count": 70,
     "metadata": {},
     "output_type": "execute_result"
    }
   ],
   "source": [
    "box_office_stats = data.pivot_table(index='show_start_year', values='box_office', aggfunc=['mean', 'median']).round()\n",
    "box_office_stats"
   ]
  },
  {
   "cell_type": "code",
   "execution_count": 71,
   "metadata": {},
   "outputs": [
    {
     "data": {
      "image/png": "[encoded data removed]",
      "text/plain": [
       "<Figure size 1008x432 with 1 Axes>"
      ]
     },
     "metadata": {
      "needs_background": "light"
     },
     "output_type": "display_data"
    }
   ],
   "source": [
    "box_office_stats.plot(title='Box office mean and median', alpha=0.75, figsize=(14, 6), grid=True,);"
   ]
  },
  {
   "cell_type": "markdown",
   "metadata": {},
   "source": [
    "Практически с каждым годом растёт среднее и медианное значение сборов в рублях. Даже несмотря на то, что мы отчистили столбец `box_office` от аномальных значений, можно пронаблюдать влияние больших значений на среднее распределения и его отличие от медианного значения."
   ]
  },
  {
   "cell_type": "markdown",
   "metadata": {
    "id": "Ok89WFwJgFyZ"
   },
   "source": [
    "- Определите, влияет ли возрастное ограничение аудитории («6+», «12+», «16+», «18+» и т. д.) на сборы фильма в прокате в период с 2015 по 2019 год? Фильмы с каким возрастным ограничением собрали больше всего денег в прокате? Меняется ли картина в зависимости от года? Если да, предположите, с чем это может быть связано."
   ]
  },
  {
   "cell_type": "code",
   "execution_count": 72,
   "metadata": {
    "id": "jsSbEqfjgFya"
   },
   "outputs": [
    {
     "data": {
      "text/html": [
       "<div>\n",
       "<style scoped>\n",
       "    .dataframe tbody tr th:only-of-type {\n",
       "        vertical-align: middle;\n",
       "    }\n",
       "\n",
       "    .dataframe tbody tr th {\n",
       "        vertical-align: top;\n",
       "    }\n",
       "\n",
       "    .dataframe thead th {\n",
       "        text-align: right;\n",
       "    }\n",
       "</style>\n",
       "<table border=\"1\" class=\"dataframe\">\n",
       "  <thead>\n",
       "    <tr style=\"text-align: right;\">\n",
       "      <th>age_restriction</th>\n",
       "      <th>«0+» - для любой зрительской аудитории</th>\n",
       "      <th>«12+» - для детей старше 12 лет</th>\n",
       "      <th>«16+» - для детей старше 16 лет</th>\n",
       "      <th>«18+» - запрещено для детей</th>\n",
       "      <th>«6+» - для детей старше 6 лет</th>\n",
       "    </tr>\n",
       "    <tr>\n",
       "      <th>show_start_year</th>\n",
       "      <th></th>\n",
       "      <th></th>\n",
       "      <th></th>\n",
       "      <th></th>\n",
       "      <th></th>\n",
       "    </tr>\n",
       "  </thead>\n",
       "  <tbody>\n",
       "    <tr>\n",
       "      <th>2015</th>\n",
       "      <td>3.629889e+06</td>\n",
       "      <td>5.867828e+06</td>\n",
       "      <td>7.684977e+06</td>\n",
       "      <td>9.876361e+06</td>\n",
       "      <td>6.982062e+06</td>\n",
       "    </tr>\n",
       "    <tr>\n",
       "      <th>2016</th>\n",
       "      <td>2.076954e+06</td>\n",
       "      <td>5.267177e+06</td>\n",
       "      <td>7.055074e+06</td>\n",
       "      <td>8.034519e+06</td>\n",
       "      <td>3.584332e+06</td>\n",
       "    </tr>\n",
       "    <tr>\n",
       "      <th>2017</th>\n",
       "      <td>1.156037e+07</td>\n",
       "      <td>1.036203e+07</td>\n",
       "      <td>9.922326e+06</td>\n",
       "      <td>9.684367e+06</td>\n",
       "      <td>1.086585e+07</td>\n",
       "    </tr>\n",
       "    <tr>\n",
       "      <th>2018</th>\n",
       "      <td>6.489800e+06</td>\n",
       "      <td>4.893457e+06</td>\n",
       "      <td>9.670036e+06</td>\n",
       "      <td>9.954736e+06</td>\n",
       "      <td>8.930943e+06</td>\n",
       "    </tr>\n",
       "    <tr>\n",
       "      <th>2019</th>\n",
       "      <td>5.915356e+06</td>\n",
       "      <td>5.942485e+06</td>\n",
       "      <td>6.236116e+06</td>\n",
       "      <td>8.628461e+06</td>\n",
       "      <td>9.268969e+06</td>\n",
       "    </tr>\n",
       "  </tbody>\n",
       "</table>\n",
       "</div>"
      ],
      "text/plain": [
       "age_restriction  «0+» - для любой зрительской аудитории  \\\n",
       "show_start_year                                           \n",
       "2015                                       3.629889e+06   \n",
       "2016                                       2.076954e+06   \n",
       "2017                                       1.156037e+07   \n",
       "2018                                       6.489800e+06   \n",
       "2019                                       5.915356e+06   \n",
       "\n",
       "age_restriction  «12+» - для детей старше 12 лет  \\\n",
       "show_start_year                                    \n",
       "2015                                5.867828e+06   \n",
       "2016                                5.267177e+06   \n",
       "2017                                1.036203e+07   \n",
       "2018                                4.893457e+06   \n",
       "2019                                5.942485e+06   \n",
       "\n",
       "age_restriction  «16+» - для детей старше 16 лет  «18+» - запрещено для детей  \\\n",
       "show_start_year                                                                 \n",
       "2015                                7.684977e+06                 9.876361e+06   \n",
       "2016                                7.055074e+06                 8.034519e+06   \n",
       "2017                                9.922326e+06                 9.684367e+06   \n",
       "2018                                9.670036e+06                 9.954736e+06   \n",
       "2019                                6.236116e+06                 8.628461e+06   \n",
       "\n",
       "age_restriction  «6+» - для детей старше 6 лет  \n",
       "show_start_year                                 \n",
       "2015                              6.982062e+06  \n",
       "2016                              3.584332e+06  \n",
       "2017                              1.086585e+07  \n",
       "2018                              8.930943e+06  \n",
       "2019                              9.268969e+06  "
      ]
     },
     "execution_count": 72,
     "metadata": {},
     "output_type": "execute_result"
    }
   ],
   "source": [
    "# Изучим влияние возрастного ограничения аудитории на средние сборы одного фильма в прокате в период с 2015 по 2019 год \n",
    "year_pivot = data[data.show_start_year >= 2015].pivot_table(index='show_start_year',\n",
    "                                                            columns='age_restriction',\n",
    "                                                            values='box_office',\n",
    "                                                            aggfunc='mean')\n",
    "year_pivot"
   ]
  },
  {
   "cell_type": "code",
   "execution_count": 73,
   "metadata": {},
   "outputs": [
    {
     "data": {
      "image/png": "[encoded data removed]",
      "text/plain": [
       "<Figure size 432x288 with 2 Axes>"
      ]
     },
     "metadata": {
      "needs_background": "light"
     },
     "output_type": "display_data"
    }
   ],
   "source": [
    "sns.heatmap(year_pivot);"
   ]
  },
  {
   "cell_type": "markdown",
   "metadata": {},
   "source": [
    "Можно заметить, что средние значения сборов в рублях с одного фильма сильно различаются в зависимости от года и возрастного ограничения. Особенно интересны возрастные ограничения `6+` и `12+`. Наибольший средний сбор можно наблюдать в `2017` году у фильмов с ограничением `6+`. Как мы увидим далее суммарные сборы за год имеют совсем другое распределение значений нежели средние сборы с одного фильма."
   ]
  },
  {
   "cell_type": "code",
   "execution_count": 74,
   "metadata": {},
   "outputs": [
    {
     "data": {
      "text/plain": [
       "age_restriction\n",
       "«0+» - для любой зрительской аудитории    2.720264e+08\n",
       "«12+» - для детей старше 12 лет           1.409556e+09\n",
       "«16+» - для детей старше 16 лет           4.740184e+09\n",
       "«18+» - запрещено для детей               5.807684e+09\n",
       "«6+» - для детей старше 6 лет             1.396609e+09\n",
       "Name: box_office, dtype: float64"
      ]
     },
     "execution_count": 74,
     "metadata": {},
     "output_type": "execute_result"
    }
   ],
   "source": [
    "# Изучим влияние возрастного ограничения аудитории на суммарные сборы всех фильмов в прокате за все годы, начиная с 2015\n",
    "box_sum = data[data.show_start_year >= 2015].groupby('age_restriction').box_office.sum()\n",
    "box_sum"
   ]
  },
  {
   "cell_type": "code",
   "execution_count": 75,
   "metadata": {},
   "outputs": [
    {
     "data": {
      "text/plain": [
       "'«18+» - запрещено для детей'"
      ]
     },
     "execution_count": 75,
     "metadata": {},
     "output_type": "execute_result"
    }
   ],
   "source": [
    "# Узнаем фильмы с каким возрастным ограничением собрали больше всего денег в прокате\n",
    "box_sum.idxmax()"
   ]
  },
  {
   "cell_type": "code",
   "execution_count": 76,
   "metadata": {},
   "outputs": [
    {
     "data": {
      "text/html": [
       "<div>\n",
       "<style scoped>\n",
       "    .dataframe tbody tr th:only-of-type {\n",
       "        vertical-align: middle;\n",
       "    }\n",
       "\n",
       "    .dataframe tbody tr th {\n",
       "        vertical-align: top;\n",
       "    }\n",
       "\n",
       "    .dataframe thead th {\n",
       "        text-align: right;\n",
       "    }\n",
       "</style>\n",
       "<table border=\"1\" class=\"dataframe\">\n",
       "  <thead>\n",
       "    <tr style=\"text-align: right;\">\n",
       "      <th>age_restriction</th>\n",
       "      <th>«0+» - для любой зрительской аудитории</th>\n",
       "      <th>«12+» - для детей старше 12 лет</th>\n",
       "      <th>«16+» - для детей старше 16 лет</th>\n",
       "      <th>«18+» - запрещено для детей</th>\n",
       "      <th>«6+» - для детей старше 6 лет</th>\n",
       "    </tr>\n",
       "    <tr>\n",
       "      <th>show_start_year</th>\n",
       "      <th></th>\n",
       "      <th></th>\n",
       "      <th></th>\n",
       "      <th></th>\n",
       "      <th></th>\n",
       "    </tr>\n",
       "  </thead>\n",
       "  <tbody>\n",
       "    <tr>\n",
       "      <th>2015</th>\n",
       "      <td>1.197863e+08</td>\n",
       "      <td>2.523166e+08</td>\n",
       "      <td>9.759921e+08</td>\n",
       "      <td>1.086400e+09</td>\n",
       "      <td>1.675695e+08</td>\n",
       "    </tr>\n",
       "    <tr>\n",
       "      <th>2016</th>\n",
       "      <td>7.892424e+07</td>\n",
       "      <td>2.791604e+08</td>\n",
       "      <td>8.959944e+08</td>\n",
       "      <td>9.480733e+08</td>\n",
       "      <td>1.612949e+08</td>\n",
       "    </tr>\n",
       "    <tr>\n",
       "      <th>2017</th>\n",
       "      <td>2.312074e+07</td>\n",
       "      <td>2.901369e+08</td>\n",
       "      <td>8.830870e+08</td>\n",
       "      <td>1.133071e+09</td>\n",
       "      <td>2.281829e+08</td>\n",
       "    </tr>\n",
       "    <tr>\n",
       "      <th>2018</th>\n",
       "      <td>3.244900e+07</td>\n",
       "      <td>1.957383e+08</td>\n",
       "      <td>1.112054e+09</td>\n",
       "      <td>1.423527e+09</td>\n",
       "      <td>3.483068e+08</td>\n",
       "    </tr>\n",
       "    <tr>\n",
       "      <th>2019</th>\n",
       "      <td>1.774607e+07</td>\n",
       "      <td>3.922040e+08</td>\n",
       "      <td>8.730562e+08</td>\n",
       "      <td>1.216613e+09</td>\n",
       "      <td>4.912554e+08</td>\n",
       "    </tr>\n",
       "  </tbody>\n",
       "</table>\n",
       "</div>"
      ],
      "text/plain": [
       "age_restriction  «0+» - для любой зрительской аудитории  \\\n",
       "show_start_year                                           \n",
       "2015                                       1.197863e+08   \n",
       "2016                                       7.892424e+07   \n",
       "2017                                       2.312074e+07   \n",
       "2018                                       3.244900e+07   \n",
       "2019                                       1.774607e+07   \n",
       "\n",
       "age_restriction  «12+» - для детей старше 12 лет  \\\n",
       "show_start_year                                    \n",
       "2015                                2.523166e+08   \n",
       "2016                                2.791604e+08   \n",
       "2017                                2.901369e+08   \n",
       "2018                                1.957383e+08   \n",
       "2019                                3.922040e+08   \n",
       "\n",
       "age_restriction  «16+» - для детей старше 16 лет  «18+» - запрещено для детей  \\\n",
       "show_start_year                                                                 \n",
       "2015                                9.759921e+08                 1.086400e+09   \n",
       "2016                                8.959944e+08                 9.480733e+08   \n",
       "2017                                8.830870e+08                 1.133071e+09   \n",
       "2018                                1.112054e+09                 1.423527e+09   \n",
       "2019                                8.730562e+08                 1.216613e+09   \n",
       "\n",
       "age_restriction  «6+» - для детей старше 6 лет  \n",
       "show_start_year                                 \n",
       "2015                              1.675695e+08  \n",
       "2016                              1.612949e+08  \n",
       "2017                              2.281829e+08  \n",
       "2018                              3.483068e+08  \n",
       "2019                              4.912554e+08  "
      ]
     },
     "execution_count": 76,
     "metadata": {},
     "output_type": "execute_result"
    }
   ],
   "source": [
    "# Изучим влияние возрастного ограничения аудитории на суммарные сборы всех фильмов в прокате по годам, начиная с 2015\n",
    "box_sum_pivot = data[data.show_start_year >= 2015].pivot_table(index='show_start_year',\n",
    "                                                               columns='age_restriction',\n",
    "                                                               values='box_office',\n",
    "                                                               aggfunc='sum')\n",
    "box_sum_pivot"
   ]
  },
  {
   "cell_type": "code",
   "execution_count": 77,
   "metadata": {},
   "outputs": [
    {
     "data": {
      "image/png": "[encoded data removed]",
      "text/plain": [
       "<Figure size 1008x432 with 1 Axes>"
      ]
     },
     "metadata": {
      "needs_background": "light"
     },
     "output_type": "display_data"
    },
    {
     "data": {
      "image/png": "[encoded data removed]",
      "text/plain": [
       "<Figure size 1008x432 with 1 Axes>"
      ]
     },
     "metadata": {
      "needs_background": "light"
     },
     "output_type": "display_data"
    },
    {
     "data": {
      "image/png": "[encoded data removed]",
      "text/plain": [
       "<Figure size 1008x432 with 1 Axes>"
      ]
     },
     "metadata": {
      "needs_background": "light"
     },
     "output_type": "display_data"
    },
    {
     "data": {
      "image/png": "[encoded data removed]",
      "text/plain": [
       "<Figure size 1008x432 with 1 Axes>"
      ]
     },
     "metadata": {
      "needs_background": "light"
     },
     "output_type": "display_data"
    },
    {
     "data": {
      "image/png": "[encoded data removed]",
      "text/plain": [
       "<Figure size 1008x432 with 1 Axes>"
      ]
     },
     "metadata": {
      "needs_background": "light"
     },
     "output_type": "display_data"
    }
   ],
   "source": [
    "for year in data['show_start_year'].unique():\n",
    "    if year >= 2015:\n",
    "        box_sum_pivot.loc[year].plot(kind='bar', title=year, ylabel='total_box_sum', figsize=(14, 6), grid=True)\n",
    "        plt.show()"
   ]
  },
  {
   "cell_type": "markdown",
   "metadata": {},
   "source": [
    "Можно заметить, что суммарные значения сборов в рублях за год сильно различаются в зависимости от года и возрастного ограничения. Особенно интересны возрастные ограничения `6+`, `12+` и `16+`. Наибольший суммарный сбор можно наблюдать в `2017` году у фильмов с ограничением `16+`."
   ]
  },
  {
   "cell_type": "markdown",
   "metadata": {},
   "source": [
    "# Промежуточный вывод"
   ]
  },
  {
   "cell_type": "markdown",
   "metadata": {},
   "source": [
    "- Практически с каждым годом растёт процент фильмов, показанных в кинотеатрах. \n",
    "- В 2010 году сумма сборов была минимальной - **2428654.0**\n",
    "- В 2018 году сумма сборов была максимальной - **49668403134.0**\n",
    "- Можно сформулировать гипотезу о том, что возрастное ограничение аудитории влияет на сборы фильма в прокате в период с 2015 по 2019 год. Причём фильмы с возрастным ограничением **16+** собрали больше всего денег в прокате\n",
    "- Можно сформулировать гипотезу о том, что суммарные сборы зависят от возрастного ограничения аудитории и меняются с каждым годом"
   ]
  },
  {
   "cell_type": "markdown",
   "metadata": {
    "id": "l_Kg6Ku4gFya"
   },
   "source": [
    "## Шаг 4. Исследуйте фильмы, которые получили государственную поддержку\n",
    "\n",
    "На этом этапе нет конкретных инструкций и заданий — поищите интересные закономерности в данных. Посмотрите, сколько выделяют средств на поддержку кино. Проверьте, хорошо ли окупаются такие фильмы, какой у них рейтинг."
   ]
  },
  {
   "cell_type": "code",
   "execution_count": 78,
   "metadata": {},
   "outputs": [
    {
     "name": "stdout",
     "output_type": "stream",
     "text": [
      "Пропуски в столбцах refundable_support и nonrefundable_support возникают одновременно\n"
     ]
    }
   ],
   "source": [
    "# Проверим одновременно ли возникают пропуски в столбцах refundable_support и nonrefundable_support\n",
    "if data.refundable_support.isna().eq(data.nonrefundable_support.isna()).all():\n",
    "    print('Пропуски в столбцах refundable_support и nonrefundable_support возникают одновременно')\n",
    "else:\n",
    "    print('Пропуски в столбцах refundable_support и nonrefundable_support возникают не одновременно')"
   ]
  },
  {
   "cell_type": "code",
   "execution_count": 79,
   "metadata": {},
   "outputs": [
    {
     "name": "stdout",
     "output_type": "stream",
     "text": [
      "Процент пропусков в столбцах refundable_support и nonrefundable_support: 0.9727\n"
     ]
    }
   ],
   "source": [
    "print('Процент пропусков в столбцах refundable_support и nonrefundable_support:',\n",
    "      (data.refundable_support.isna().sum() / data.shape[0]).round(4))"
   ]
  },
  {
   "cell_type": "code",
   "execution_count": 80,
   "metadata": {
    "id": "W9QKpjUdgFyb"
   },
   "outputs": [
    {
     "data": {
      "image/png": "[encoded data removed]",
      "text/plain": [
       "<Figure size 1008x432 with 1 Axes>"
      ]
     },
     "metadata": {
      "needs_background": "light"
     },
     "output_type": "display_data"
    }
   ],
   "source": [
    "ax = data.refundable_support.plot(kind='hist',\n",
    "                                  title='Government support histograms',\n",
    "                                  bins=18,\n",
    "                                  alpha=0.6,\n",
    "                                  figsize=(14, 6),\n",
    "                                  grid=True,\n",
    "                                  legend=True);\n",
    "\n",
    "\n",
    "data.nonrefundable_support.plot(kind='hist',\n",
    "                                bins=18,\n",
    "                                alpha=0.6,\n",
    "                                ax=ax,\n",
    "                                grid=True,\n",
    "                                legend=True);"
   ]
  },
  {
   "cell_type": "code",
   "execution_count": 81,
   "metadata": {},
   "outputs": [
    {
     "data": {
      "text/plain": [
       "count         182.0\n",
       "mean      2346154.0\n",
       "std       6460499.0\n",
       "min             0.0\n",
       "25%             0.0\n",
       "50%             0.0\n",
       "75%             0.0\n",
       "max      30000000.0\n",
       "Name: refundable_support, dtype: float64"
      ]
     },
     "metadata": {},
     "output_type": "display_data"
    },
    {
     "data": {
      "image/png": "[encoded data removed]",
      "text/plain": [
       "<Figure size 1008x432 with 1 Axes>"
      ]
     },
     "metadata": {
      "needs_background": "light"
     },
     "output_type": "display_data"
    },
    {
     "data": {
      "text/plain": [
       "count         182.0\n",
       "mean     28546728.0\n",
       "std       9251244.0\n",
       "min       3000000.0\n",
       "25%      25000000.0\n",
       "50%      27250000.0\n",
       "75%      30750000.0\n",
       "max      60000000.0\n",
       "Name: nonrefundable_support, dtype: float64"
      ]
     },
     "metadata": {},
     "output_type": "display_data"
    },
    {
     "data": {
      "image/png": "[encoded data removed]",
      "text/plain": [
       "<Figure size 1008x432 with 1 Axes>"
      ]
     },
     "metadata": {
      "needs_background": "light"
     },
     "output_type": "display_data"
    }
   ],
   "source": [
    "display(data.refundable_support.describe().round())\n",
    "data.refundable_support.plot(kind='box',\n",
    "                             title='Refundable support boxplot',\n",
    "                             ylim=(-5000000, 80000000),\n",
    "                             figsize=(14, 6),\n",
    "                             grid=True);\n",
    "plt.show()\n",
    "\n",
    "display(data.nonrefundable_support.describe().round())\n",
    "data.nonrefundable_support.plot(kind='box',\n",
    "                                title='Nonrefundable support boxplot',\n",
    "                                ylim=(-5000000, 80000000),\n",
    "                                figsize=(14, 6),\n",
    "                                grid=True);\n",
    "plt.show()"
   ]
  },
  {
   "cell_type": "code",
   "execution_count": 82,
   "metadata": {},
   "outputs": [
    {
     "data": {
      "text/plain": [
       "Художественный    177\n",
       "Анимационный        4\n",
       "Документальный      1\n",
       "Name: type, dtype: int64"
      ]
     },
     "execution_count": 82,
     "metadata": {},
     "output_type": "execute_result"
    }
   ],
   "source": [
    "# check\n",
    "data.loc[~data.refundable_support.isna(), 'type'].value_counts()"
   ]
  },
  {
   "cell_type": "code",
   "execution_count": 83,
   "metadata": {},
   "outputs": [
    {
     "data": {
      "text/plain": [
       "россия                                    172\n",
       "россия,грузия                               1\n",
       "россия,франция,латвия                       1\n",
       "россия,словакия,чехия                       1\n",
       "россия,латвия,чешская республика            1\n",
       "россия,италия                               1\n",
       "россия,германия,великобритания              1\n",
       "россия,украина,польша                       1\n",
       "россия,бельгия,финляндия                    1\n",
       "россия,германия,казахстан,польша,китай      1\n",
       "россия,армения                              1\n",
       "Name: production_country, dtype: int64"
      ]
     },
     "execution_count": 83,
     "metadata": {},
     "output_type": "execute_result"
    }
   ],
   "source": [
    "# check\n",
    "data.loc[~data.refundable_support.isna(), 'production_country'].value_counts()"
   ]
  },
  {
   "cell_type": "code",
   "execution_count": 84,
   "metadata": {},
   "outputs": [
    {
     "data": {
      "image/png": "[encoded data removed]",
      "text/plain": [
       "<Figure size 1008x432 with 1 Axes>"
      ]
     },
     "metadata": {
      "needs_background": "light"
     },
     "output_type": "display_data"
    }
   ],
   "source": [
    "(\n",
    "    data\n",
    "    .loc[~data.refundable_support.isna()]\n",
    "    .groupby('age_restriction')['title']\n",
    "    .count()\n",
    "    .plot(kind='bar',\n",
    "          title='Films with government support by age restriction',\n",
    "          figsize=(14, 6),\n",
    "          grid=True)\n",
    ");"
   ]
  },
  {
   "cell_type": "code",
   "execution_count": 85,
   "metadata": {},
   "outputs": [
    {
     "data": {
      "text/plain": [
       "count    170.000000\n",
       "mean       0.116650\n",
       "std        0.248432\n",
       "min        0.000017\n",
       "25%        0.007372\n",
       "50%        0.028344\n",
       "75%        0.130076\n",
       "max        2.560489\n",
       "Name: return_on_investment, dtype: float64"
      ]
     },
     "metadata": {},
     "output_type": "display_data"
    },
    {
     "data": {
      "image/png": "[encoded data removed]",
      "text/plain": [
       "<Figure size 1008x432 with 1 Axes>"
      ]
     },
     "metadata": {
      "needs_background": "light"
     },
     "output_type": "display_data"
    }
   ],
   "source": [
    "# Отфильтруем строки, в которых есть государственная поддержка и известны сборы в рублях и бюджет\n",
    "# Посчитаем окупаемость в виде частного сборов в рублях и бюджета\n",
    "data['return_on_investment'] = (\n",
    "    data\n",
    "    .dropna(subset=['refundable_support', 'box_office', 'budget'])\n",
    "    .apply(lambda row: row['box_office'] / row['budget'], axis=1)\n",
    ")\n",
    "\n",
    "display(data.return_on_investment.describe())\n",
    "data.return_on_investment.plot(kind='box',\n",
    "                               title='Nonrefundable support boxplot',\n",
    "                               ylim=(-0.25, 3),\n",
    "                               figsize=(14, 6),\n",
    "                               grid=True);"
   ]
  },
  {
   "cell_type": "code",
   "execution_count": 86,
   "metadata": {},
   "outputs": [
    {
     "name": "stdout",
     "output_type": "stream",
     "text": [
      "Средняя окупаемость фильма с государственной поддержкой: 0.11664980755806686\n",
      "Медианная окупаемость фильма с государственной поддержкой: 0.028343942677804296\n"
     ]
    }
   ],
   "source": [
    "print(f'Средняя окупаемость фильма с государственной поддержкой: {data.return_on_investment.mean()}')\n",
    "print(f'Медианная окупаемость фильма с государственной поддержкой: {data.return_on_investment.median()}')"
   ]
  },
  {
   "cell_type": "code",
   "execution_count": 87,
   "metadata": {},
   "outputs": [
    {
     "data": {
      "image/png": "[encoded data removed]",
      "text/plain": [
       "<Figure size 1008x432 with 1 Axes>"
      ]
     },
     "metadata": {
      "needs_background": "light"
     },
     "output_type": "display_data"
    }
   ],
   "source": [
    "# Сравним распределения рейтингов у фильмов с государственной поддержкой и без неё\n",
    "ax = data.loc[data.refundable_support.isna(), 'ratings'].plot(kind='hist',\n",
    "                                                              title='Film Ratings',\n",
    "                                                              density=True,\n",
    "                                                              bins=20,\n",
    "                                                              alpha=0.6,\n",
    "                                                              figsize=(14, 6),\n",
    "                                                              grid=True,\n",
    "                                                              legend=True);\n",
    "\n",
    "data.loc[~data.refundable_support.isna(), 'ratings'].plot(kind='hist',\n",
    "                                                          density=True,\n",
    "                                                          bins=20,\n",
    "                                                          alpha=0.6,\n",
    "                                                          ax=ax,\n",
    "                                                          grid=True,\n",
    "                                                          label='ratings with support',\n",
    "                                                          legend=True);"
   ]
  },
  {
   "cell_type": "code",
   "execution_count": 88,
   "metadata": {},
   "outputs": [
    {
     "name": "stdout",
     "output_type": "stream",
     "text": [
      "Средний рейтинг фильмов без государственной поддержки: 6.60660326574556\n",
      "Средний рейтинг фильмов c государственной поддержкой: 6.154761904761905\n"
     ]
    }
   ],
   "source": [
    "print('Средний рейтинг фильмов без государственной поддержки:', data.loc[data.refundable_support.isna(), 'ratings'].mean())\n",
    "print('Средний рейтинг фильмов c государственной поддержкой:', data.loc[~data.refundable_support.isna(), 'ratings'].mean())"
   ]
  },
  {
   "cell_type": "markdown",
   "metadata": {},
   "source": [
    "Промежуточные выводы:\n",
    "- Более `95%` процентов всех фильмов не имеют государственной поддержки\n",
    "- В среднем объём невозвратных средств превышает объём возвратных средств\n",
    "- Большая часть фильмов с государственной поддержкой имеют нулевой объём возвратных средств\n",
    "- Большая часть фильмов, имеющих государственную поддержку, являются художественными фильмами, произведёнными в России\n",
    "- Ограничение по возрасту у фильмов с государственной поддержкой как правило либо `12+`, либо `16+`\n",
    "- В среднем фильмы с государственной поддержкой не окупаются. А также имеют рейтинг ниже, чем фильмы без государственной поддержки"
   ]
  },
  {
   "cell_type": "markdown",
   "metadata": {
    "id": "V2gYwMcPgFyd"
   },
   "source": [
    "## Шаг 5. Напишите общий вывод\n",
    "\n",
    "* **Получение данных**:\n",
    "    - Мы получили данные из двух различных источников безопасным способом при помощи конструкции try-except\n",
    "    - Затем мы объединили их в один датафрейм по общему столбцу `puNumber`\n",
    "    - В данных мы обнаружили ряд проблем, которые обработали на следующем этапе - предобработке данных\n",
    "\n",
    "* **Предобработка данных**:\n",
    "    - Мы переименовали названия столбцов в соответствии с правилами хорошего стиля\n",
    "    - Исправили некорректные значения рейтингов\n",
    "    - Преобразовали несоответсвующие типы данных \n",
    "    - Изучили и устранили пропуски в датафрейме\n",
    "    - Устранили явные и неявные дубликаты\n",
    "    - Проверили количественные значения, а именно строки, в которых сумма объёмов возвратных и невозвратных средств государственной поддержки превышает общий бюджет\n",
    "    - Добавили новые столбцы:\n",
    "    \n",
    "        — столбец с информацией о годе проката \\\n",
    "        — столбец с именем и фамилией главного режиссёра \\\n",
    "        — столбец с основным жанром фильма \\\n",
    "        — столбец с долей государственной поддержки от общего бюджета\n",
    "        \n",
    "\n",
    "* **Исследовательский анализ данных**:\n",
    "    - Мы проианализировали сколько фильмов выходило в прокат каждый год, а также долю фильмов с указанной информацией о прокате в кинотеатрах\n",
    "    - Пронаблюдали, что практически с каждым годом растёт процент фильмов, показанных в кинотеатрах.\n",
    "    - В 2010 году сумма сборов была минимальной - 2428654.0\n",
    "    - В 2018 году сумма сборов была максимальной - 49668403134.0\n",
    "    - С помощью сводной таблицы посчитали среднюю и медианную сумму сборов для каждого года\n",
    "    - Сформулировали гипотезу о том, что возрастное ограничение аудитории влияет на сборы фильма в прокате в период с 2015 по 2019 год.\n",
    "    - Выяснили, что фильмы с возрастным ограничением 16+ собрали больше всего денег в прокате\n",
    "    - Сформулировали гипотезу о том, что суммарные сборы зависят от возрастного ограничения аудитории и меняются с каждым годом\n",
    "\n",
    "* **Исследование фильмов с государственной поддержкой**:\n",
    "    - Более 95% процентов всех фильмов не имеют государственной поддержки\n",
    "    - В среднем объём невозвратных средств превышает объём возвратных средств\n",
    "    - Большая часть фильмов с государственной поддержкой имеют нулевой объём возвратных средств\n",
    "    - Большая часть фильмов, имеющих государственную поддержку, являются художественными фильмами, произведёнными в России\n",
    "    - Ограничение по возрасту у фильмов с государственной поддержкой как правило либо 12+, либо 16+\n",
    "    - В среднем фильмы с государственной поддержкой не окупаются. А также имеют рейтинг ниже, чем фильмы без государственной поддержки\n"
   ]
  },
  {
   "cell_type": "markdown",
   "metadata": {},
   "source": [
    "**Резюме по проекту**\n",
    "\n",
    "В целом, у тебя вышла достойная работа, я вижу, что ты осмыленно подходишь к выполнению исследований, подробно разбираешь этапы анализа, а это очень важно. Особенно хочу отметить интерпретацию результатов, мне очень понравилось, что ты добавляешь рассуждения в сравнении с реальной ситуацией, находишь, примеры и на них демонстрируешь полученные результаты.\n",
    "\n",
    "Однако, есть ряд замечаний, которые я попрошу тебя поправить:\n",
    "- доработать проверку на дубликаты;\n",
    "- указать основную проблему категориальных столбцов;\n",
    "- провести поиск аномальных значений для количественных столбцов;\n",
    "- добавить вывод по итогам исследования медианы и среднего по суммам сборов;\n",
    "- добавить вывод по итогам анализа влияния возрастного ограничения аудитории на суммы сборов.\n",
    "\n",
    "Также, пожалуйста, обрати внимание на остальные блоки, там я оставила небольшие рекомендации. Возвращаю проект обратно для ознакомления с комментариями и внесения корректировок. Если у тебя возникнут вопросы, я с радостью на них отвечу.\n",
    "\n",
    "Успехов с выполнением!"
   ]
  },
  {
   "cell_type": "markdown",
   "metadata": {},
   "source": [
    "***\n",
    "**Резюме по итогам ревью**\n",
    "\n",
    "Спасибо за внимание к моим комментариям! Молодец, что подробно проработал все замечания и рекомендации.\n",
    "Других замечаний у меня нет, работу принимаю. Но обрати внимание на мое замечание относительно удаления выбросов.\n",
    "\n",
    "Удачи тебе с будущими проектами!"
   ]
  }
 ],
 "metadata": {
  "ExecuteTimeLog": [
   {
    "duration": 537,
    "start_time": "2021-07-07T10:12:08.634Z"
   },
   {
    "duration": 206,
    "start_time": "2021-07-07T10:12:30.191Z"
   },
   {
    "duration": 227,
    "start_time": "2021-07-07T10:12:33.078Z"
   },
   {
    "duration": 153,
    "start_time": "2021-07-07T10:13:42.146Z"
   },
   {
    "duration": 233,
    "start_time": "2021-07-07T10:30:09.252Z"
   },
   {
    "duration": 19,
    "start_time": "2021-07-07T10:30:15.577Z"
   },
   {
    "duration": 18,
    "start_time": "2021-07-07T10:30:57.348Z"
   },
   {
    "duration": 19,
    "start_time": "2021-07-07T10:31:17.452Z"
   },
   {
    "duration": 21,
    "start_time": "2021-07-07T10:31:32.227Z"
   },
   {
    "duration": 27,
    "start_time": "2021-07-07T10:32:06.588Z"
   },
   {
    "duration": 23,
    "start_time": "2021-07-07T10:32:43.645Z"
   },
   {
    "duration": 24,
    "start_time": "2021-07-07T10:33:06.948Z"
   },
   {
    "duration": 7,
    "start_time": "2021-07-07T10:33:28.558Z"
   },
   {
    "duration": 23,
    "start_time": "2021-07-07T10:33:43.761Z"
   },
   {
    "duration": 28,
    "start_time": "2021-07-07T10:34:13.466Z"
   },
   {
    "duration": 23,
    "start_time": "2021-07-07T10:35:56.187Z"
   },
   {
    "duration": 6,
    "start_time": "2021-07-07T10:36:48.182Z"
   },
   {
    "duration": 14,
    "start_time": "2021-07-07T10:37:49.641Z"
   },
   {
    "duration": 6,
    "start_time": "2021-07-07T10:38:06.694Z"
   },
   {
    "duration": 6,
    "start_time": "2021-07-07T10:38:13.493Z"
   },
   {
    "duration": 19,
    "start_time": "2021-07-07T10:38:44.056Z"
   },
   {
    "duration": 186,
    "start_time": "2021-07-07T10:48:35.618Z"
   },
   {
    "duration": 24,
    "start_time": "2021-07-07T10:48:51.498Z"
   },
   {
    "duration": 20,
    "start_time": "2021-07-07T10:48:59.415Z"
   },
   {
    "duration": 20,
    "start_time": "2021-07-07T10:53:02.195Z"
   },
   {
    "duration": 188,
    "start_time": "2021-07-07T10:54:40.486Z"
   },
   {
    "duration": 115,
    "start_time": "2021-07-07T10:54:52.552Z"
   },
   {
    "duration": 214,
    "start_time": "2021-07-07T10:54:56.354Z"
   },
   {
    "duration": 47,
    "start_time": "2021-07-07T10:54:58.282Z"
   },
   {
    "duration": 217,
    "start_time": "2021-07-07T10:59:16.075Z"
   },
   {
    "duration": 51,
    "start_time": "2021-07-07T10:59:16.243Z"
   },
   {
    "duration": 578,
    "start_time": "2021-07-07T10:59:18.774Z"
   },
   {
    "duration": 161,
    "start_time": "2021-07-07T10:59:21.238Z"
   },
   {
    "duration": 59,
    "start_time": "2021-07-07T10:59:21.453Z"
   },
   {
    "duration": 3,
    "start_time": "2021-07-07T11:02:10.786Z"
   },
   {
    "duration": 13,
    "start_time": "2021-07-07T11:07:07.722Z"
   },
   {
    "duration": 26,
    "start_time": "2021-07-07T11:07:17.958Z"
   },
   {
    "duration": 22,
    "start_time": "2021-07-07T11:08:17.939Z"
   },
   {
    "duration": 212,
    "start_time": "2021-07-07T11:08:19.665Z"
   },
   {
    "duration": 21,
    "start_time": "2021-07-07T11:08:29.945Z"
   },
   {
    "duration": 31,
    "start_time": "2021-07-07T11:08:38.899Z"
   },
   {
    "duration": 23,
    "start_time": "2021-07-07T11:08:54.527Z"
   },
   {
    "duration": 8,
    "start_time": "2021-07-07T11:18:55.974Z"
   },
   {
    "duration": 7,
    "start_time": "2021-07-07T11:19:03.639Z"
   },
   {
    "duration": 7,
    "start_time": "2021-07-07T11:19:06.444Z"
   },
   {
    "duration": 578,
    "start_time": "2021-07-07T12:09:59.576Z"
   },
   {
    "duration": 195,
    "start_time": "2021-07-07T12:10:00.156Z"
   },
   {
    "duration": 115,
    "start_time": "2021-07-07T12:10:00.353Z"
   },
   {
    "duration": 3,
    "start_time": "2021-07-07T12:10:00.470Z"
   },
   {
    "duration": 32,
    "start_time": "2021-07-07T12:10:00.474Z"
   },
   {
    "duration": 23,
    "start_time": "2021-07-07T12:10:00.508Z"
   },
   {
    "duration": 19,
    "start_time": "2021-07-07T12:10:00.533Z"
   },
   {
    "duration": 44,
    "start_time": "2021-07-07T12:10:00.553Z"
   },
   {
    "duration": 7,
    "start_time": "2021-07-07T12:10:00.600Z"
   },
   {
    "duration": 7,
    "start_time": "2021-07-07T12:19:45.761Z"
   },
   {
    "duration": 21,
    "start_time": "2021-07-07T12:21:35.482Z"
   },
   {
    "duration": 21,
    "start_time": "2021-07-07T12:29:23.569Z"
   },
   {
    "duration": 525,
    "start_time": "2021-07-07T12:29:44.542Z"
   },
   {
    "duration": 214,
    "start_time": "2021-07-07T12:29:45.069Z"
   },
   {
    "duration": 92,
    "start_time": "2021-07-07T12:29:45.285Z"
   },
   {
    "duration": 3,
    "start_time": "2021-07-07T12:29:45.379Z"
   },
   {
    "duration": 28,
    "start_time": "2021-07-07T12:29:45.384Z"
   },
   {
    "duration": 23,
    "start_time": "2021-07-07T12:29:45.413Z"
   },
   {
    "duration": 21,
    "start_time": "2021-07-07T12:29:45.437Z"
   },
   {
    "duration": 41,
    "start_time": "2021-07-07T12:29:45.460Z"
   },
   {
    "duration": 7,
    "start_time": "2021-07-07T12:29:45.502Z"
   },
   {
    "duration": 20,
    "start_time": "2021-07-07T12:29:45.511Z"
   },
   {
    "duration": 12,
    "start_time": "2021-07-07T12:34:02.800Z"
   },
   {
    "duration": 7,
    "start_time": "2021-07-07T12:35:10.479Z"
   },
   {
    "duration": 8,
    "start_time": "2021-07-07T12:35:22.440Z"
   },
   {
    "duration": 6,
    "start_time": "2021-07-07T12:35:35.649Z"
   },
   {
    "duration": 6,
    "start_time": "2021-07-07T12:35:43.107Z"
   },
   {
    "duration": 22,
    "start_time": "2021-07-07T12:38:03.029Z"
   },
   {
    "duration": 10,
    "start_time": "2021-07-07T12:38:06.592Z"
   },
   {
    "duration": 563,
    "start_time": "2021-07-07T12:38:46.493Z"
   },
   {
    "duration": 265,
    "start_time": "2021-07-07T12:38:47.058Z"
   },
   {
    "duration": 94,
    "start_time": "2021-07-07T12:38:47.325Z"
   },
   {
    "duration": 3,
    "start_time": "2021-07-07T12:38:47.422Z"
   },
   {
    "duration": 30,
    "start_time": "2021-07-07T12:38:47.427Z"
   },
   {
    "duration": 16,
    "start_time": "2021-07-07T12:38:53.305Z"
   },
   {
    "duration": 10,
    "start_time": "2021-07-07T12:38:53.499Z"
   },
   {
    "duration": 8,
    "start_time": "2021-07-07T12:39:48.161Z"
   },
   {
    "duration": 27,
    "start_time": "2021-07-07T12:41:17.629Z"
   },
   {
    "duration": 17,
    "start_time": "2021-07-07T12:41:17.867Z"
   },
   {
    "duration": 21,
    "start_time": "2021-07-07T12:41:19.310Z"
   },
   {
    "duration": 7,
    "start_time": "2021-07-07T12:41:19.544Z"
   },
   {
    "duration": 20,
    "start_time": "2021-07-07T12:41:20.504Z"
   },
   {
    "duration": 554,
    "start_time": "2021-07-07T12:56:23.696Z"
   },
   {
    "duration": 200,
    "start_time": "2021-07-07T12:56:25.234Z"
   },
   {
    "duration": 119,
    "start_time": "2021-07-07T12:56:25.480Z"
   },
   {
    "duration": 4,
    "start_time": "2021-07-07T12:56:25.762Z"
   },
   {
    "duration": 26,
    "start_time": "2021-07-07T12:56:27.172Z"
   },
   {
    "duration": 12,
    "start_time": "2021-07-07T12:56:29.051Z"
   },
   {
    "duration": 10,
    "start_time": "2021-07-07T12:56:29.291Z"
   },
   {
    "duration": 8,
    "start_time": "2021-07-07T12:56:29.623Z"
   },
   {
    "duration": 28,
    "start_time": "2021-07-07T12:56:32.137Z"
   },
   {
    "duration": 19,
    "start_time": "2021-07-07T12:56:39.785Z"
   },
   {
    "duration": 20,
    "start_time": "2021-07-07T12:56:44.297Z"
   },
   {
    "duration": 7,
    "start_time": "2021-07-07T12:56:45.392Z"
   },
   {
    "duration": 23,
    "start_time": "2021-07-07T12:56:46.615Z"
   },
   {
    "duration": 4,
    "start_time": "2021-07-07T12:57:06.625Z"
   },
   {
    "duration": 32,
    "start_time": "2021-07-07T12:57:36.690Z"
   },
   {
    "duration": 18,
    "start_time": "2021-07-07T12:58:00.149Z"
   },
   {
    "duration": 15,
    "start_time": "2021-07-07T12:59:16.793Z"
   },
   {
    "duration": 7,
    "start_time": "2021-07-07T13:19:22.624Z"
   },
   {
    "duration": 6,
    "start_time": "2021-07-07T14:17:33.527Z"
   },
   {
    "duration": 9,
    "start_time": "2021-07-07T14:17:48.409Z"
   },
   {
    "duration": 8,
    "start_time": "2021-07-07T14:20:13.060Z"
   },
   {
    "duration": 8,
    "start_time": "2021-07-07T14:20:37.957Z"
   },
   {
    "duration": 8,
    "start_time": "2021-07-07T14:20:47.470Z"
   },
   {
    "duration": 9,
    "start_time": "2021-07-07T14:20:54.503Z"
   },
   {
    "duration": 10,
    "start_time": "2021-07-07T14:28:57.763Z"
   },
   {
    "duration": 3,
    "start_time": "2021-07-07T14:30:23.377Z"
   },
   {
    "duration": 3,
    "start_time": "2021-07-07T14:30:36.489Z"
   },
   {
    "duration": 103,
    "start_time": "2021-07-07T14:30:52.351Z"
   },
   {
    "duration": 8,
    "start_time": "2021-07-07T14:30:54.763Z"
   },
   {
    "duration": 8,
    "start_time": "2021-07-07T14:31:29.301Z"
   },
   {
    "duration": 13,
    "start_time": "2021-07-07T14:31:44.516Z"
   },
   {
    "duration": 7,
    "start_time": "2021-07-07T14:33:10.972Z"
   },
   {
    "duration": 11,
    "start_time": "2021-07-07T14:33:27.780Z"
   },
   {
    "duration": 8,
    "start_time": "2021-07-07T14:34:44.588Z"
   },
   {
    "duration": 57,
    "start_time": "2021-07-07T14:35:59.042Z"
   },
   {
    "duration": 3,
    "start_time": "2021-07-07T14:36:28.168Z"
   },
   {
    "duration": 5,
    "start_time": "2021-07-07T14:36:46.254Z"
   },
   {
    "duration": 4,
    "start_time": "2021-07-07T14:36:52.714Z"
   },
   {
    "duration": 3,
    "start_time": "2021-07-07T14:36:56.612Z"
   },
   {
    "duration": 4,
    "start_time": "2021-07-07T14:36:57.049Z"
   },
   {
    "duration": 3,
    "start_time": "2021-07-07T14:39:21.214Z"
   },
   {
    "duration": 7,
    "start_time": "2021-07-07T14:39:52.406Z"
   },
   {
    "duration": 11,
    "start_time": "2021-07-07T14:39:58.576Z"
   },
   {
    "duration": 9,
    "start_time": "2021-07-07T14:40:26.301Z"
   },
   {
    "duration": 10,
    "start_time": "2021-07-07T14:40:31.704Z"
   },
   {
    "duration": 11,
    "start_time": "2021-07-07T14:40:36.249Z"
   },
   {
    "duration": 10,
    "start_time": "2021-07-07T14:40:39.783Z"
   },
   {
    "duration": 9,
    "start_time": "2021-07-07T14:40:48.558Z"
   },
   {
    "duration": 10,
    "start_time": "2021-07-07T14:40:57.143Z"
   },
   {
    "duration": 9,
    "start_time": "2021-07-07T14:41:06.074Z"
   },
   {
    "duration": 4324,
    "start_time": "2021-07-07T14:41:22.004Z"
   },
   {
    "duration": 11,
    "start_time": "2021-07-07T14:41:33.392Z"
   },
   {
    "duration": 9,
    "start_time": "2021-07-07T14:41:39.288Z"
   },
   {
    "duration": 569,
    "start_time": "2021-07-07T14:42:14.387Z"
   },
   {
    "duration": 197,
    "start_time": "2021-07-07T14:42:14.959Z"
   },
   {
    "duration": 84,
    "start_time": "2021-07-07T14:42:16.052Z"
   },
   {
    "duration": 4,
    "start_time": "2021-07-07T14:42:16.900Z"
   },
   {
    "duration": 27,
    "start_time": "2021-07-07T14:42:19.898Z"
   },
   {
    "duration": 12,
    "start_time": "2021-07-07T14:42:21.577Z"
   },
   {
    "duration": 9,
    "start_time": "2021-07-07T14:42:21.813Z"
   },
   {
    "duration": 9,
    "start_time": "2021-07-07T14:42:22.569Z"
   },
   {
    "duration": 29,
    "start_time": "2021-07-07T14:42:25.837Z"
   },
   {
    "duration": 20,
    "start_time": "2021-07-07T14:42:27.003Z"
   },
   {
    "duration": 21,
    "start_time": "2021-07-07T14:42:28.767Z"
   },
   {
    "duration": 7,
    "start_time": "2021-07-07T14:42:29.838Z"
   },
   {
    "duration": 4,
    "start_time": "2021-07-07T14:43:25.493Z"
   },
   {
    "duration": 7,
    "start_time": "2021-07-07T14:43:26.573Z"
   },
   {
    "duration": 10,
    "start_time": "2021-07-07T14:43:31.639Z"
   },
   {
    "duration": 9,
    "start_time": "2021-07-07T14:43:32.046Z"
   },
   {
    "duration": 10,
    "start_time": "2021-07-07T14:43:33.301Z"
   },
   {
    "duration": 12,
    "start_time": "2021-07-07T14:43:33.658Z"
   },
   {
    "duration": 8,
    "start_time": "2021-07-07T14:43:34.552Z"
   },
   {
    "duration": 9,
    "start_time": "2021-07-07T14:43:35.058Z"
   },
   {
    "duration": 12,
    "start_time": "2021-07-07T14:43:35.914Z"
   },
   {
    "duration": 17,
    "start_time": "2021-07-07T14:45:34.368Z"
   },
   {
    "duration": 512,
    "start_time": "2021-07-07T14:51:58.236Z"
   },
   {
    "duration": 223,
    "start_time": "2021-07-07T14:51:58.750Z"
   },
   {
    "duration": 93,
    "start_time": "2021-07-07T14:51:58.977Z"
   },
   {
    "duration": 4,
    "start_time": "2021-07-07T14:51:59.071Z"
   },
   {
    "duration": 37,
    "start_time": "2021-07-07T14:51:59.077Z"
   },
   {
    "duration": 18,
    "start_time": "2021-07-07T14:51:59.116Z"
   },
   {
    "duration": 10,
    "start_time": "2021-07-07T14:51:59.137Z"
   },
   {
    "duration": 8,
    "start_time": "2021-07-07T14:51:59.149Z"
   },
   {
    "duration": 54,
    "start_time": "2021-07-07T14:51:59.158Z"
   },
   {
    "duration": 18,
    "start_time": "2021-07-07T14:51:59.213Z"
   },
   {
    "duration": 22,
    "start_time": "2021-07-07T14:51:59.232Z"
   },
   {
    "duration": 36,
    "start_time": "2021-07-07T14:51:59.255Z"
   },
   {
    "duration": 7,
    "start_time": "2021-07-07T14:51:59.293Z"
   },
   {
    "duration": 10,
    "start_time": "2021-07-07T14:51:59.302Z"
   },
   {
    "duration": 9,
    "start_time": "2021-07-07T14:51:59.313Z"
   },
   {
    "duration": 11,
    "start_time": "2021-07-07T14:51:59.324Z"
   },
   {
    "duration": 8,
    "start_time": "2021-07-07T14:51:59.337Z"
   },
   {
    "duration": 46,
    "start_time": "2021-07-07T14:51:59.347Z"
   },
   {
    "duration": 22,
    "start_time": "2021-07-07T14:51:59.395Z"
   },
   {
    "duration": 24,
    "start_time": "2021-07-07T14:57:32.911Z"
   },
   {
    "duration": 7,
    "start_time": "2021-07-07T14:58:22.070Z"
   },
   {
    "duration": 4,
    "start_time": "2021-07-07T14:59:11.239Z"
   },
   {
    "duration": 25,
    "start_time": "2021-07-07T15:07:22.208Z"
   },
   {
    "duration": 16,
    "start_time": "2021-07-07T15:08:25.560Z"
   },
   {
    "duration": 15,
    "start_time": "2021-07-07T15:08:40.647Z"
   },
   {
    "duration": 14,
    "start_time": "2021-07-07T15:08:46.669Z"
   },
   {
    "duration": 533,
    "start_time": "2021-07-07T15:18:07.440Z"
   },
   {
    "duration": 173,
    "start_time": "2021-07-07T15:18:07.974Z"
   },
   {
    "duration": 84,
    "start_time": "2021-07-07T15:18:08.149Z"
   },
   {
    "duration": 3,
    "start_time": "2021-07-07T15:18:08.235Z"
   },
   {
    "duration": 30,
    "start_time": "2021-07-07T15:18:08.240Z"
   },
   {
    "duration": 22,
    "start_time": "2021-07-07T15:18:08.272Z"
   },
   {
    "duration": 11,
    "start_time": "2021-07-07T15:18:08.295Z"
   },
   {
    "duration": 11,
    "start_time": "2021-07-07T15:18:08.309Z"
   },
   {
    "duration": 40,
    "start_time": "2021-07-07T15:18:08.322Z"
   },
   {
    "duration": 42,
    "start_time": "2021-07-07T15:18:08.364Z"
   },
   {
    "duration": 22,
    "start_time": "2021-07-07T15:18:08.408Z"
   },
   {
    "duration": 5,
    "start_time": "2021-07-07T15:18:08.432Z"
   },
   {
    "duration": 13,
    "start_time": "2021-07-07T15:18:08.439Z"
   },
   {
    "duration": 9,
    "start_time": "2021-07-07T15:18:08.454Z"
   },
   {
    "duration": 32,
    "start_time": "2021-07-07T15:18:08.465Z"
   },
   {
    "duration": 10,
    "start_time": "2021-07-07T15:18:08.501Z"
   },
   {
    "duration": 7,
    "start_time": "2021-07-07T15:18:08.513Z"
   },
   {
    "duration": 11,
    "start_time": "2021-07-07T15:18:08.521Z"
   },
   {
    "duration": 17,
    "start_time": "2021-07-07T15:18:08.534Z"
   },
   {
    "duration": 44,
    "start_time": "2021-07-07T15:18:08.553Z"
   },
   {
    "duration": 22,
    "start_time": "2021-07-07T15:18:08.599Z"
   },
   {
    "duration": 61,
    "start_time": "2021-07-07T15:18:08.622Z"
   },
   {
    "duration": 7,
    "start_time": "2021-07-07T15:18:39.457Z"
   },
   {
    "duration": 5,
    "start_time": "2021-07-07T16:05:17.020Z"
   },
   {
    "duration": 5,
    "start_time": "2021-07-07T16:51:28.794Z"
   },
   {
    "duration": 546,
    "start_time": "2021-07-07T16:52:26.306Z"
   },
   {
    "duration": 203,
    "start_time": "2021-07-07T16:52:27.523Z"
   },
   {
    "duration": 85,
    "start_time": "2021-07-07T16:52:27.736Z"
   },
   {
    "duration": 4,
    "start_time": "2021-07-07T16:52:27.899Z"
   },
   {
    "duration": 25,
    "start_time": "2021-07-07T16:52:28.674Z"
   },
   {
    "duration": 8,
    "start_time": "2021-07-07T16:52:32.956Z"
   },
   {
    "duration": 18,
    "start_time": "2021-07-07T16:52:35.616Z"
   },
   {
    "duration": 6,
    "start_time": "2021-07-07T16:52:36.913Z"
   },
   {
    "duration": 11,
    "start_time": "2021-07-07T16:52:40.258Z"
   },
   {
    "duration": 10,
    "start_time": "2021-07-07T16:52:46.251Z"
   },
   {
    "duration": 8,
    "start_time": "2021-07-07T16:52:47.182Z"
   },
   {
    "duration": 27,
    "start_time": "2021-07-07T16:53:20.391Z"
   },
   {
    "duration": 20,
    "start_time": "2021-07-07T16:53:22.022Z"
   },
   {
    "duration": 23,
    "start_time": "2021-07-07T16:53:23.690Z"
   },
   {
    "duration": 8,
    "start_time": "2021-07-07T16:53:24.261Z"
   },
   {
    "duration": 4,
    "start_time": "2021-07-07T16:53:38.733Z"
   },
   {
    "duration": 7,
    "start_time": "2021-07-07T16:53:40.445Z"
   },
   {
    "duration": 11,
    "start_time": "2021-07-07T16:53:41.348Z"
   },
   {
    "duration": 13,
    "start_time": "2021-07-07T16:53:45.250Z"
   },
   {
    "duration": 12,
    "start_time": "2021-07-07T16:53:45.467Z"
   },
   {
    "duration": 4,
    "start_time": "2021-07-07T16:55:32.704Z"
   },
   {
    "duration": 12,
    "start_time": "2021-07-07T16:55:49.012Z"
   },
   {
    "duration": 18,
    "start_time": "2021-07-07T16:55:49.547Z"
   },
   {
    "duration": 611,
    "start_time": "2021-07-07T16:58:35.156Z"
   },
   {
    "duration": 200,
    "start_time": "2021-07-07T16:58:35.770Z"
   },
   {
    "duration": 86,
    "start_time": "2021-07-07T16:58:35.972Z"
   },
   {
    "duration": 3,
    "start_time": "2021-07-07T16:58:36.060Z"
   },
   {
    "duration": 27,
    "start_time": "2021-07-07T16:58:36.065Z"
   },
   {
    "duration": 8,
    "start_time": "2021-07-07T16:58:36.094Z"
   },
   {
    "duration": 17,
    "start_time": "2021-07-07T16:58:36.103Z"
   },
   {
    "duration": 5,
    "start_time": "2021-07-07T16:58:36.123Z"
   },
   {
    "duration": 11,
    "start_time": "2021-07-07T16:58:36.130Z"
   },
   {
    "duration": 7,
    "start_time": "2021-07-07T16:58:36.143Z"
   },
   {
    "duration": 37,
    "start_time": "2021-07-07T16:58:36.152Z"
   },
   {
    "duration": 27,
    "start_time": "2021-07-07T16:58:36.191Z"
   },
   {
    "duration": 19,
    "start_time": "2021-07-07T16:58:36.219Z"
   },
   {
    "duration": 49,
    "start_time": "2021-07-07T16:58:36.240Z"
   },
   {
    "duration": 6,
    "start_time": "2021-07-07T16:58:36.291Z"
   },
   {
    "duration": 3,
    "start_time": "2021-07-07T16:58:36.299Z"
   },
   {
    "duration": 13,
    "start_time": "2021-07-07T16:58:36.304Z"
   },
   {
    "duration": 10,
    "start_time": "2021-07-07T16:58:36.319Z"
   },
   {
    "duration": 10,
    "start_time": "2021-07-07T16:58:36.331Z"
   },
   {
    "duration": 44,
    "start_time": "2021-07-07T16:58:36.343Z"
   },
   {
    "duration": 4,
    "start_time": "2021-07-07T16:58:36.388Z"
   },
   {
    "duration": 13,
    "start_time": "2021-07-07T16:58:36.394Z"
   },
   {
    "duration": 16,
    "start_time": "2021-07-07T16:58:36.410Z"
   },
   {
    "duration": 8,
    "start_time": "2021-07-07T17:02:31.629Z"
   },
   {
    "duration": 8,
    "start_time": "2021-07-07T17:02:34.308Z"
   },
   {
    "duration": 6,
    "start_time": "2021-07-07T17:05:13.483Z"
   },
   {
    "duration": 17,
    "start_time": "2021-07-07T17:05:20.606Z"
   },
   {
    "duration": 7,
    "start_time": "2021-07-07T17:05:34.638Z"
   },
   {
    "duration": 3,
    "start_time": "2021-07-07T17:06:31.883Z"
   },
   {
    "duration": 570,
    "start_time": "2021-07-07T17:06:37.165Z"
   },
   {
    "duration": 174,
    "start_time": "2021-07-07T17:06:37.737Z"
   },
   {
    "duration": 47,
    "start_time": "2021-07-07T17:06:37.913Z"
   },
   {
    "duration": 3,
    "start_time": "2021-07-07T17:06:37.962Z"
   },
   {
    "duration": 27,
    "start_time": "2021-07-07T17:06:37.967Z"
   },
   {
    "duration": 7,
    "start_time": "2021-07-07T17:06:37.996Z"
   },
   {
    "duration": 16,
    "start_time": "2021-07-07T17:06:38.005Z"
   },
   {
    "duration": 6,
    "start_time": "2021-07-07T17:06:38.024Z"
   },
   {
    "duration": 12,
    "start_time": "2021-07-07T17:06:38.031Z"
   },
   {
    "duration": 41,
    "start_time": "2021-07-07T17:06:38.045Z"
   },
   {
    "duration": 8,
    "start_time": "2021-07-07T17:06:38.088Z"
   },
   {
    "duration": 26,
    "start_time": "2021-07-07T17:06:38.098Z"
   },
   {
    "duration": 17,
    "start_time": "2021-07-07T17:06:38.126Z"
   },
   {
    "duration": 43,
    "start_time": "2021-07-07T17:06:38.144Z"
   },
   {
    "duration": 6,
    "start_time": "2021-07-07T17:06:38.188Z"
   },
   {
    "duration": 5,
    "start_time": "2021-07-07T17:06:38.195Z"
   },
   {
    "duration": 9,
    "start_time": "2021-07-07T17:06:38.201Z"
   },
   {
    "duration": 12,
    "start_time": "2021-07-07T17:06:38.212Z"
   },
   {
    "duration": 11,
    "start_time": "2021-07-07T17:06:38.226Z"
   },
   {
    "duration": 47,
    "start_time": "2021-07-07T17:06:38.239Z"
   },
   {
    "duration": 4,
    "start_time": "2021-07-07T17:06:38.288Z"
   },
   {
    "duration": 13,
    "start_time": "2021-07-07T17:06:38.293Z"
   },
   {
    "duration": 5,
    "start_time": "2021-07-07T17:06:38.309Z"
   },
   {
    "duration": 18,
    "start_time": "2021-07-07T17:06:38.325Z"
   },
   {
    "duration": 20,
    "start_time": "2021-07-07T17:07:02.805Z"
   },
   {
    "duration": 19,
    "start_time": "2021-07-07T17:07:08.527Z"
   },
   {
    "duration": 19,
    "start_time": "2021-07-07T17:07:12.758Z"
   },
   {
    "duration": 22,
    "start_time": "2021-07-07T17:07:17.497Z"
   },
   {
    "duration": 19,
    "start_time": "2021-07-07T17:07:19.645Z"
   },
   {
    "duration": 10,
    "start_time": "2021-07-07T17:07:34.239Z"
   },
   {
    "duration": 17,
    "start_time": "2021-07-07T17:07:54.144Z"
   },
   {
    "duration": 14,
    "start_time": "2021-07-07T17:08:14.357Z"
   },
   {
    "duration": 616,
    "start_time": "2021-07-07T17:08:45.254Z"
   },
   {
    "duration": 178,
    "start_time": "2021-07-07T17:08:45.872Z"
   },
   {
    "duration": 60,
    "start_time": "2021-07-07T17:08:46.054Z"
   },
   {
    "duration": 3,
    "start_time": "2021-07-07T17:08:46.116Z"
   },
   {
    "duration": 26,
    "start_time": "2021-07-07T17:08:46.121Z"
   },
   {
    "duration": 7,
    "start_time": "2021-07-07T17:08:46.149Z"
   },
   {
    "duration": 17,
    "start_time": "2021-07-07T17:08:46.158Z"
   },
   {
    "duration": 14,
    "start_time": "2021-07-07T17:08:46.176Z"
   },
   {
    "duration": 17,
    "start_time": "2021-07-07T17:08:46.193Z"
   },
   {
    "duration": 9,
    "start_time": "2021-07-07T17:08:46.211Z"
   },
   {
    "duration": 21,
    "start_time": "2021-07-07T17:08:46.221Z"
   },
   {
    "duration": 49,
    "start_time": "2021-07-07T17:08:46.244Z"
   },
   {
    "duration": 24,
    "start_time": "2021-07-07T17:08:46.295Z"
   },
   {
    "duration": 22,
    "start_time": "2021-07-07T17:08:46.321Z"
   },
   {
    "duration": 6,
    "start_time": "2021-07-07T17:08:46.345Z"
   },
   {
    "duration": 5,
    "start_time": "2021-07-07T17:08:46.353Z"
   },
   {
    "duration": 13,
    "start_time": "2021-07-07T17:08:46.386Z"
   },
   {
    "duration": 12,
    "start_time": "2021-07-07T17:08:46.402Z"
   },
   {
    "duration": 10,
    "start_time": "2021-07-07T17:08:46.415Z"
   },
   {
    "duration": 7,
    "start_time": "2021-07-07T17:08:46.427Z"
   },
   {
    "duration": 8,
    "start_time": "2021-07-07T17:08:46.435Z"
   },
   {
    "duration": 68,
    "start_time": "2021-07-07T17:08:46.446Z"
   },
   {
    "duration": 13,
    "start_time": "2021-07-07T17:08:46.516Z"
   },
   {
    "duration": 78,
    "start_time": "2021-07-07T17:08:46.530Z"
   },
   {
    "duration": 40,
    "start_time": "2021-07-07T17:09:08.185Z"
   },
   {
    "duration": 16,
    "start_time": "2021-07-07T17:09:19.324Z"
   },
   {
    "duration": 21,
    "start_time": "2021-07-07T17:09:23.290Z"
   },
   {
    "duration": 13,
    "start_time": "2021-07-07T17:09:54.812Z"
   },
   {
    "duration": 13,
    "start_time": "2021-07-07T17:10:02.039Z"
   },
   {
    "duration": 10,
    "start_time": "2021-07-07T17:10:29.632Z"
   },
   {
    "duration": 13,
    "start_time": "2021-07-07T17:10:52.372Z"
   },
   {
    "duration": 13,
    "start_time": "2021-07-07T17:11:17.270Z"
   },
   {
    "duration": 13,
    "start_time": "2021-07-07T17:14:59.284Z"
   },
   {
    "duration": 547,
    "start_time": "2021-07-07T17:18:52.403Z"
   },
   {
    "duration": 163,
    "start_time": "2021-07-07T17:18:52.952Z"
   },
   {
    "duration": 44,
    "start_time": "2021-07-07T17:18:53.117Z"
   },
   {
    "duration": 3,
    "start_time": "2021-07-07T17:18:53.162Z"
   },
   {
    "duration": 26,
    "start_time": "2021-07-07T17:18:53.167Z"
   },
   {
    "duration": 6,
    "start_time": "2021-07-07T17:18:53.195Z"
   },
   {
    "duration": 15,
    "start_time": "2021-07-07T17:18:53.203Z"
   },
   {
    "duration": 5,
    "start_time": "2021-07-07T17:18:53.220Z"
   },
   {
    "duration": 11,
    "start_time": "2021-07-07T17:18:53.228Z"
   },
   {
    "duration": 9,
    "start_time": "2021-07-07T17:18:53.241Z"
   },
   {
    "duration": 41,
    "start_time": "2021-07-07T17:18:53.252Z"
   },
   {
    "duration": 33,
    "start_time": "2021-07-07T17:18:53.295Z"
   },
   {
    "duration": 19,
    "start_time": "2021-07-07T17:18:53.330Z"
   },
   {
    "duration": 49,
    "start_time": "2021-07-07T17:18:53.350Z"
   },
   {
    "duration": 5,
    "start_time": "2021-07-07T17:18:53.401Z"
   },
   {
    "duration": 5,
    "start_time": "2021-07-07T17:18:53.408Z"
   },
   {
    "duration": 11,
    "start_time": "2021-07-07T17:18:53.414Z"
   },
   {
    "duration": 9,
    "start_time": "2021-07-07T17:18:53.427Z"
   },
   {
    "duration": 10,
    "start_time": "2021-07-07T17:18:53.437Z"
   },
   {
    "duration": 39,
    "start_time": "2021-07-07T17:18:53.448Z"
   },
   {
    "duration": 26,
    "start_time": "2021-07-07T17:18:55.799Z"
   },
   {
    "duration": 598,
    "start_time": "2021-07-07T17:20:17.862Z"
   },
   {
    "duration": 161,
    "start_time": "2021-07-07T17:20:18.462Z"
   },
   {
    "duration": 45,
    "start_time": "2021-07-07T17:20:18.626Z"
   },
   {
    "duration": 4,
    "start_time": "2021-07-07T17:20:18.673Z"
   },
   {
    "duration": 38,
    "start_time": "2021-07-07T17:20:26.877Z"
   },
   {
    "duration": 7,
    "start_time": "2021-07-07T17:20:37.405Z"
   },
   {
    "duration": 19,
    "start_time": "2021-07-07T17:20:51.534Z"
   },
   {
    "duration": 5,
    "start_time": "2021-07-07T17:20:57.228Z"
   },
   {
    "duration": 7,
    "start_time": "2021-07-07T17:21:08.235Z"
   },
   {
    "duration": 19,
    "start_time": "2021-07-07T17:21:42.158Z"
   },
   {
    "duration": 14,
    "start_time": "2021-07-07T17:21:50.225Z"
   },
   {
    "duration": 22,
    "start_time": "2021-07-07T17:22:54.104Z"
   },
   {
    "duration": 5,
    "start_time": "2021-07-07T17:22:56.371Z"
   },
   {
    "duration": 14,
    "start_time": "2021-07-07T17:22:58.316Z"
   },
   {
    "duration": 5,
    "start_time": "2021-07-07T17:22:58.493Z"
   },
   {
    "duration": 35,
    "start_time": "2021-07-07T17:22:59.666Z"
   },
   {
    "duration": 6,
    "start_time": "2021-07-07T17:23:02.410Z"
   },
   {
    "duration": 611,
    "start_time": "2021-07-07T17:24:59.664Z"
   },
   {
    "duration": 178,
    "start_time": "2021-07-07T17:25:01.945Z"
   },
   {
    "duration": 47,
    "start_time": "2021-07-07T17:25:02.125Z"
   },
   {
    "duration": 2,
    "start_time": "2021-07-07T17:25:07.903Z"
   },
   {
    "duration": 254,
    "start_time": "2021-07-07T17:25:08.232Z"
   },
   {
    "duration": 182,
    "start_time": "2021-07-07T17:25:08.671Z"
   },
   {
    "duration": 6,
    "start_time": "2021-07-07T17:25:13.104Z"
   },
   {
    "duration": 36,
    "start_time": "2021-07-07T17:25:13.662Z"
   },
   {
    "duration": 7,
    "start_time": "2021-07-07T17:25:14.528Z"
   },
   {
    "duration": 24,
    "start_time": "2021-07-07T17:25:27.982Z"
   },
   {
    "duration": 3,
    "start_time": "2021-07-07T17:25:48.982Z"
   },
   {
    "duration": 165,
    "start_time": "2021-07-07T17:25:48.987Z"
   },
   {
    "duration": 50,
    "start_time": "2021-07-07T17:25:49.154Z"
   },
   {
    "duration": 4,
    "start_time": "2021-07-07T17:25:49.206Z"
   },
   {
    "duration": 26,
    "start_time": "2021-07-07T17:25:49.212Z"
   },
   {
    "duration": 7,
    "start_time": "2021-07-07T17:25:49.240Z"
   },
   {
    "duration": 16,
    "start_time": "2021-07-07T17:25:49.249Z"
   },
   {
    "duration": 22,
    "start_time": "2021-07-07T17:25:49.266Z"
   },
   {
    "duration": 16,
    "start_time": "2021-07-07T17:25:49.291Z"
   },
   {
    "duration": 9,
    "start_time": "2021-07-07T17:25:49.309Z"
   },
   {
    "duration": 7,
    "start_time": "2021-07-07T17:25:49.319Z"
   },
   {
    "duration": 28,
    "start_time": "2021-07-07T17:25:49.328Z"
   },
   {
    "duration": 44,
    "start_time": "2021-07-07T17:25:49.357Z"
   },
   {
    "duration": 22,
    "start_time": "2021-07-07T17:25:49.403Z"
   },
   {
    "duration": 7,
    "start_time": "2021-07-07T17:25:49.427Z"
   },
   {
    "duration": 3,
    "start_time": "2021-07-07T17:25:49.436Z"
   },
   {
    "duration": 44,
    "start_time": "2021-07-07T17:25:49.441Z"
   },
   {
    "duration": 12,
    "start_time": "2021-07-07T17:25:49.488Z"
   },
   {
    "duration": 13,
    "start_time": "2021-07-07T17:25:49.502Z"
   },
   {
    "duration": 10,
    "start_time": "2021-07-07T17:25:49.516Z"
   },
   {
    "duration": 62,
    "start_time": "2021-07-07T17:25:49.527Z"
   },
   {
    "duration": 26,
    "start_time": "2021-07-07T17:26:51.809Z"
   },
   {
    "duration": 26,
    "start_time": "2021-07-07T17:26:55.759Z"
   },
   {
    "duration": 26,
    "start_time": "2021-07-07T17:27:04.501Z"
   },
   {
    "duration": 25,
    "start_time": "2021-07-07T17:28:24.859Z"
   },
   {
    "duration": 21,
    "start_time": "2021-07-07T17:28:55.250Z"
   },
   {
    "duration": 21,
    "start_time": "2021-07-07T17:28:58.885Z"
   },
   {
    "duration": 7,
    "start_time": "2021-07-07T17:45:40.972Z"
   },
   {
    "duration": 13,
    "start_time": "2021-07-07T17:45:42.529Z"
   },
   {
    "duration": 27,
    "start_time": "2021-07-07T17:45:51.026Z"
   },
   {
    "duration": 518,
    "start_time": "2021-07-07T17:46:15.532Z"
   },
   {
    "duration": 235,
    "start_time": "2021-07-07T17:46:16.053Z"
   },
   {
    "duration": 80,
    "start_time": "2021-07-07T17:46:16.292Z"
   },
   {
    "duration": 5,
    "start_time": "2021-07-07T17:46:16.373Z"
   },
   {
    "duration": 26,
    "start_time": "2021-07-07T17:46:16.380Z"
   },
   {
    "duration": 7,
    "start_time": "2021-07-07T17:46:16.408Z"
   },
   {
    "duration": 16,
    "start_time": "2021-07-07T17:46:16.418Z"
   },
   {
    "duration": 5,
    "start_time": "2021-07-07T17:46:16.436Z"
   },
   {
    "duration": 13,
    "start_time": "2021-07-07T17:46:16.442Z"
   },
   {
    "duration": 35,
    "start_time": "2021-07-07T17:46:16.456Z"
   },
   {
    "duration": 8,
    "start_time": "2021-07-07T17:46:16.493Z"
   },
   {
    "duration": 28,
    "start_time": "2021-07-07T17:46:16.502Z"
   },
   {
    "duration": 17,
    "start_time": "2021-07-07T17:46:16.532Z"
   },
   {
    "duration": 44,
    "start_time": "2021-07-07T17:46:16.551Z"
   },
   {
    "duration": 6,
    "start_time": "2021-07-07T17:46:16.597Z"
   },
   {
    "duration": 4,
    "start_time": "2021-07-07T17:46:16.605Z"
   },
   {
    "duration": 9,
    "start_time": "2021-07-07T17:46:16.610Z"
   },
   {
    "duration": 9,
    "start_time": "2021-07-07T17:46:16.621Z"
   },
   {
    "duration": 10,
    "start_time": "2021-07-07T17:46:16.632Z"
   },
   {
    "duration": 43,
    "start_time": "2021-07-07T17:46:16.644Z"
   },
   {
    "duration": 26,
    "start_time": "2021-07-07T17:46:16.689Z"
   },
   {
    "duration": 19,
    "start_time": "2021-07-07T17:46:16.718Z"
   },
   {
    "duration": 8,
    "start_time": "2021-07-07T17:46:16.738Z"
   },
   {
    "duration": 43,
    "start_time": "2021-07-07T17:46:16.747Z"
   },
   {
    "duration": 19,
    "start_time": "2021-07-07T17:46:16.791Z"
   },
   {
    "duration": 9,
    "start_time": "2021-07-07T17:46:16.812Z"
   },
   {
    "duration": 60,
    "start_time": "2021-07-07T17:46:16.822Z"
   },
   {
    "duration": -8,
    "start_time": "2021-07-07T17:46:16.892Z"
   },
   {
    "duration": 12,
    "start_time": "2021-07-07T17:48:47.707Z"
   },
   {
    "duration": 553,
    "start_time": "2021-07-07T18:10:09.350Z"
   },
   {
    "duration": 230,
    "start_time": "2021-07-07T18:10:09.905Z"
   },
   {
    "duration": 97,
    "start_time": "2021-07-07T18:10:10.137Z"
   },
   {
    "duration": 5,
    "start_time": "2021-07-07T18:10:10.236Z"
   },
   {
    "duration": 29,
    "start_time": "2021-07-07T18:10:10.242Z"
   },
   {
    "duration": 7,
    "start_time": "2021-07-07T18:10:10.272Z"
   },
   {
    "duration": 15,
    "start_time": "2021-07-07T18:10:10.281Z"
   },
   {
    "duration": 4,
    "start_time": "2021-07-07T18:10:10.299Z"
   },
   {
    "duration": 14,
    "start_time": "2021-07-07T18:10:10.305Z"
   },
   {
    "duration": 8,
    "start_time": "2021-07-07T18:10:10.321Z"
   },
   {
    "duration": 8,
    "start_time": "2021-07-07T18:10:10.331Z"
   },
   {
    "duration": 56,
    "start_time": "2021-07-07T18:10:10.341Z"
   },
   {
    "duration": 19,
    "start_time": "2021-07-07T18:10:10.399Z"
   },
   {
    "duration": 23,
    "start_time": "2021-07-07T18:10:10.419Z"
   },
   {
    "duration": 6,
    "start_time": "2021-07-07T18:10:10.444Z"
   },
   {
    "duration": 9,
    "start_time": "2021-07-07T18:10:10.451Z"
   },
   {
    "duration": 30,
    "start_time": "2021-07-07T18:10:10.462Z"
   },
   {
    "duration": 9,
    "start_time": "2021-07-07T18:10:10.494Z"
   },
   {
    "duration": 14,
    "start_time": "2021-07-07T18:10:10.505Z"
   },
   {
    "duration": 7,
    "start_time": "2021-07-07T18:10:10.521Z"
   },
   {
    "duration": 26,
    "start_time": "2021-07-07T18:10:10.530Z"
   },
   {
    "duration": 44,
    "start_time": "2021-07-07T18:10:10.558Z"
   },
   {
    "duration": 7,
    "start_time": "2021-07-07T18:10:10.605Z"
   },
   {
    "duration": 11,
    "start_time": "2021-07-07T18:10:10.614Z"
   },
   {
    "duration": 19,
    "start_time": "2021-07-07T18:10:10.626Z"
   },
   {
    "duration": 44,
    "start_time": "2021-07-07T18:10:10.646Z"
   },
   {
    "duration": 516,
    "start_time": "2021-07-07T18:14:00.826Z"
   },
   {
    "duration": 230,
    "start_time": "2021-07-07T18:14:01.344Z"
   },
   {
    "duration": 105,
    "start_time": "2021-07-07T18:14:01.576Z"
   },
   {
    "duration": 5,
    "start_time": "2021-07-07T18:14:01.683Z"
   },
   {
    "duration": 46,
    "start_time": "2021-07-07T18:14:01.690Z"
   },
   {
    "duration": 7,
    "start_time": "2021-07-07T18:14:01.738Z"
   },
   {
    "duration": 20,
    "start_time": "2021-07-07T18:14:01.747Z"
   },
   {
    "duration": 16,
    "start_time": "2021-07-07T18:14:01.769Z"
   },
   {
    "duration": 14,
    "start_time": "2021-07-07T18:14:01.787Z"
   },
   {
    "duration": 15,
    "start_time": "2021-07-07T18:14:01.803Z"
   },
   {
    "duration": 12,
    "start_time": "2021-07-07T18:14:01.820Z"
   },
   {
    "duration": 35,
    "start_time": "2021-07-07T18:14:01.833Z"
   },
   {
    "duration": 31,
    "start_time": "2021-07-07T18:14:01.869Z"
   },
   {
    "duration": 37,
    "start_time": "2021-07-07T18:14:01.902Z"
   },
   {
    "duration": 8,
    "start_time": "2021-07-07T18:14:01.942Z"
   },
   {
    "duration": 16,
    "start_time": "2021-07-07T18:14:01.952Z"
   },
   {
    "duration": 13,
    "start_time": "2021-07-07T18:14:01.970Z"
   },
   {
    "duration": 32,
    "start_time": "2021-07-07T18:14:01.985Z"
   },
   {
    "duration": 11,
    "start_time": "2021-07-07T18:14:02.019Z"
   },
   {
    "duration": 22,
    "start_time": "2021-07-07T18:14:02.031Z"
   },
   {
    "duration": 27,
    "start_time": "2021-07-07T18:14:02.055Z"
   },
   {
    "duration": 18,
    "start_time": "2021-07-07T18:14:02.084Z"
   },
   {
    "duration": 18,
    "start_time": "2021-07-07T18:14:02.106Z"
   },
   {
    "duration": 11,
    "start_time": "2021-07-07T18:14:02.126Z"
   },
   {
    "duration": 21,
    "start_time": "2021-07-07T18:14:02.138Z"
   },
   {
    "duration": 32,
    "start_time": "2021-07-07T18:14:02.161Z"
   },
   {
    "duration": 28,
    "start_time": "2021-07-07T18:14:44.295Z"
   },
   {
    "duration": 6,
    "start_time": "2021-07-07T18:15:05.834Z"
   },
   {
    "duration": 511,
    "start_time": "2021-07-07T18:15:41.541Z"
   },
   {
    "duration": 183,
    "start_time": "2021-07-07T18:15:42.054Z"
   },
   {
    "duration": 50,
    "start_time": "2021-07-07T18:15:42.239Z"
   },
   {
    "duration": 5,
    "start_time": "2021-07-07T18:15:42.291Z"
   },
   {
    "duration": 48,
    "start_time": "2021-07-07T18:15:42.297Z"
   },
   {
    "duration": 8,
    "start_time": "2021-07-07T18:15:42.346Z"
   },
   {
    "duration": 17,
    "start_time": "2021-07-07T18:15:42.356Z"
   },
   {
    "duration": 15,
    "start_time": "2021-07-07T18:15:42.375Z"
   },
   {
    "duration": 12,
    "start_time": "2021-07-07T18:15:42.392Z"
   },
   {
    "duration": 7,
    "start_time": "2021-07-07T18:15:42.406Z"
   },
   {
    "duration": 7,
    "start_time": "2021-07-07T18:15:42.415Z"
   },
   {
    "duration": 29,
    "start_time": "2021-07-07T18:15:42.423Z"
   },
   {
    "duration": 43,
    "start_time": "2021-07-07T18:15:42.453Z"
   },
   {
    "duration": 18,
    "start_time": "2021-07-07T18:15:42.497Z"
   },
   {
    "duration": 6,
    "start_time": "2021-07-07T18:15:42.516Z"
   },
   {
    "duration": 3,
    "start_time": "2021-07-07T18:15:42.523Z"
   },
   {
    "duration": 18,
    "start_time": "2021-07-07T18:15:42.528Z"
   },
   {
    "duration": 10,
    "start_time": "2021-07-07T18:15:42.547Z"
   },
   {
    "duration": 36,
    "start_time": "2021-07-07T18:15:42.559Z"
   },
   {
    "duration": 8,
    "start_time": "2021-07-07T18:15:42.597Z"
   },
   {
    "duration": 28,
    "start_time": "2021-07-07T18:15:42.606Z"
   },
   {
    "duration": 52,
    "start_time": "2021-07-07T18:15:42.635Z"
   },
   {
    "duration": 7,
    "start_time": "2021-07-07T18:15:42.690Z"
   },
   {
    "duration": 10,
    "start_time": "2021-07-07T18:15:42.699Z"
   },
   {
    "duration": 19,
    "start_time": "2021-07-07T18:15:42.711Z"
   },
   {
    "duration": 9,
    "start_time": "2021-07-07T18:15:42.732Z"
   },
   {
    "duration": 5,
    "start_time": "2021-07-07T18:15:42.743Z"
   },
   {
    "duration": 1450,
    "start_time": "2021-07-07T18:15:51.984Z"
   },
   {
    "duration": 161,
    "start_time": "2021-07-07T18:15:53.435Z"
   },
   {
    "duration": 124,
    "start_time": "2021-07-07T18:15:53.598Z"
   },
   {
    "duration": 5,
    "start_time": "2021-07-07T18:15:53.724Z"
   },
   {
    "duration": 34,
    "start_time": "2021-07-07T18:15:53.730Z"
   },
   {
    "duration": 7,
    "start_time": "2021-07-07T18:15:53.765Z"
   },
   {
    "duration": 15,
    "start_time": "2021-07-07T18:15:53.773Z"
   },
   {
    "duration": 5,
    "start_time": "2021-07-07T18:15:53.791Z"
   },
   {
    "duration": 19,
    "start_time": "2021-07-07T18:15:53.798Z"
   },
   {
    "duration": 9,
    "start_time": "2021-07-07T18:15:53.818Z"
   },
   {
    "duration": 19,
    "start_time": "2021-07-07T18:15:53.828Z"
   },
   {
    "duration": 27,
    "start_time": "2021-07-07T18:15:53.848Z"
   },
   {
    "duration": 16,
    "start_time": "2021-07-07T18:15:53.884Z"
   },
   {
    "duration": 29,
    "start_time": "2021-07-07T18:15:53.901Z"
   },
   {
    "duration": 5,
    "start_time": "2021-07-07T18:15:53.932Z"
   },
   {
    "duration": 15,
    "start_time": "2021-07-07T18:15:53.939Z"
   },
   {
    "duration": 13,
    "start_time": "2021-07-07T18:15:53.956Z"
   },
   {
    "duration": 20,
    "start_time": "2021-07-07T18:15:53.971Z"
   },
   {
    "duration": 14,
    "start_time": "2021-07-07T18:15:53.992Z"
   },
   {
    "duration": 9,
    "start_time": "2021-07-07T18:15:54.009Z"
   },
   {
    "duration": 28,
    "start_time": "2021-07-07T18:15:54.020Z"
   },
   {
    "duration": 50,
    "start_time": "2021-07-07T18:15:54.051Z"
   },
   {
    "duration": 8,
    "start_time": "2021-07-07T18:15:54.105Z"
   },
   {
    "duration": 11,
    "start_time": "2021-07-07T18:15:54.115Z"
   },
   {
    "duration": 20,
    "start_time": "2021-07-07T18:15:54.128Z"
   },
   {
    "duration": 13,
    "start_time": "2021-07-07T18:15:54.184Z"
   },
   {
    "duration": 7,
    "start_time": "2021-07-07T18:15:54.199Z"
   },
   {
    "duration": 7,
    "start_time": "2021-07-07T18:17:08.042Z"
   },
   {
    "duration": 8,
    "start_time": "2021-07-07T18:17:21.008Z"
   },
   {
    "duration": 7,
    "start_time": "2021-07-07T18:17:29.003Z"
   },
   {
    "duration": 8,
    "start_time": "2021-07-07T18:17:32.492Z"
   },
   {
    "duration": 9,
    "start_time": "2021-07-07T18:17:41.758Z"
   },
   {
    "duration": 255,
    "start_time": "2021-07-07T18:20:20.897Z"
   },
   {
    "duration": 173,
    "start_time": "2021-07-07T18:20:26.636Z"
   },
   {
    "duration": 7,
    "start_time": "2021-07-07T18:21:47.164Z"
   },
   {
    "duration": 254,
    "start_time": "2021-07-07T18:23:08.703Z"
   },
   {
    "duration": 21,
    "start_time": "2021-07-07T18:23:22.506Z"
   },
   {
    "duration": 315,
    "start_time": "2021-07-07T18:25:54.801Z"
   },
   {
    "duration": 34,
    "start_time": "2021-07-07T18:26:51.817Z"
   },
   {
    "duration": 327,
    "start_time": "2021-07-07T18:26:56.147Z"
   },
   {
    "duration": 342,
    "start_time": "2021-07-07T18:27:15.887Z"
   },
   {
    "duration": 302,
    "start_time": "2021-07-07T18:28:18.569Z"
   },
   {
    "duration": 226,
    "start_time": "2021-07-07T18:29:20.879Z"
   },
   {
    "duration": 207,
    "start_time": "2021-07-07T18:29:58.114Z"
   },
   {
    "duration": 140,
    "start_time": "2021-07-07T18:32:04.372Z"
   },
   {
    "duration": 158,
    "start_time": "2021-07-07T18:32:32.508Z"
   },
   {
    "duration": 145,
    "start_time": "2021-07-07T18:32:41.365Z"
   },
   {
    "duration": 132,
    "start_time": "2021-07-07T18:32:45.199Z"
   },
   {
    "duration": 11,
    "start_time": "2021-07-07T18:35:24.679Z"
   },
   {
    "duration": 268,
    "start_time": "2021-07-07T18:36:16.145Z"
   },
   {
    "duration": 227,
    "start_time": "2021-07-07T18:37:04.918Z"
   },
   {
    "duration": 3,
    "start_time": "2021-07-07T18:37:33.012Z"
   },
   {
    "duration": 671,
    "start_time": "2021-07-07T18:37:38.295Z"
   },
   {
    "duration": 54,
    "start_time": "2021-07-07T18:37:53.406Z"
   },
   {
    "duration": 631,
    "start_time": "2021-07-07T18:37:56.463Z"
   },
   {
    "duration": 19,
    "start_time": "2021-07-07T18:39:40.535Z"
   },
   {
    "duration": 20,
    "start_time": "2021-07-07T18:40:12.236Z"
   },
   {
    "duration": 633,
    "start_time": "2021-07-07T18:42:00.398Z"
   },
   {
    "duration": 218,
    "start_time": "2021-07-07T18:42:01.033Z"
   },
   {
    "duration": 49,
    "start_time": "2021-07-07T18:42:01.253Z"
   },
   {
    "duration": 5,
    "start_time": "2021-07-07T18:42:01.303Z"
   },
   {
    "duration": 27,
    "start_time": "2021-07-07T18:42:01.310Z"
   },
   {
    "duration": 8,
    "start_time": "2021-07-07T18:42:01.339Z"
   },
   {
    "duration": 20,
    "start_time": "2021-07-07T18:42:01.348Z"
   },
   {
    "duration": 6,
    "start_time": "2021-07-07T18:42:01.386Z"
   },
   {
    "duration": 16,
    "start_time": "2021-07-07T18:42:01.394Z"
   },
   {
    "duration": 9,
    "start_time": "2021-07-07T18:42:01.411Z"
   },
   {
    "duration": 11,
    "start_time": "2021-07-07T18:42:01.421Z"
   },
   {
    "duration": 31,
    "start_time": "2021-07-07T18:42:01.434Z"
   },
   {
    "duration": 18,
    "start_time": "2021-07-07T18:42:01.485Z"
   },
   {
    "duration": 23,
    "start_time": "2021-07-07T18:42:01.505Z"
   },
   {
    "duration": 6,
    "start_time": "2021-07-07T18:42:01.530Z"
   },
   {
    "duration": 10,
    "start_time": "2021-07-07T18:42:01.538Z"
   },
   {
    "duration": 13,
    "start_time": "2021-07-07T18:42:01.550Z"
   },
   {
    "duration": 24,
    "start_time": "2021-07-07T18:42:01.564Z"
   },
   {
    "duration": 20,
    "start_time": "2021-07-07T18:42:01.590Z"
   },
   {
    "duration": 8,
    "start_time": "2021-07-07T18:42:01.611Z"
   },
   {
    "duration": 31,
    "start_time": "2021-07-07T18:42:01.620Z"
   },
   {
    "duration": 39,
    "start_time": "2021-07-07T18:42:01.653Z"
   },
   {
    "duration": 8,
    "start_time": "2021-07-07T18:42:01.696Z"
   },
   {
    "duration": 13,
    "start_time": "2021-07-07T18:42:01.705Z"
   },
   {
    "duration": 20,
    "start_time": "2021-07-07T18:42:01.720Z"
   },
   {
    "duration": 12,
    "start_time": "2021-07-07T18:42:01.741Z"
   },
   {
    "duration": 35,
    "start_time": "2021-07-07T18:42:01.755Z"
   },
   {
    "duration": 14,
    "start_time": "2021-07-07T18:42:01.792Z"
   },
   {
    "duration": 188,
    "start_time": "2021-07-07T18:42:01.808Z"
   },
   {
    "duration": 19,
    "start_time": "2021-07-07T18:42:01.998Z"
   },
   {
    "duration": 175,
    "start_time": "2021-07-07T18:42:02.019Z"
   },
   {
    "duration": 134,
    "start_time": "2021-07-07T18:42:02.196Z"
   },
   {
    "duration": 10,
    "start_time": "2021-07-07T18:42:02.331Z"
   },
   {
    "duration": 19,
    "start_time": "2021-07-07T18:42:02.343Z"
   },
   {
    "duration": 628,
    "start_time": "2021-07-07T18:46:30.701Z"
   },
   {
    "duration": 183,
    "start_time": "2021-07-07T18:46:31.331Z"
   },
   {
    "duration": 48,
    "start_time": "2021-07-07T18:46:31.516Z"
   },
   {
    "duration": 5,
    "start_time": "2021-07-07T18:46:31.566Z"
   },
   {
    "duration": 28,
    "start_time": "2021-07-07T18:46:31.572Z"
   },
   {
    "duration": 8,
    "start_time": "2021-07-07T18:46:31.602Z"
   },
   {
    "duration": 19,
    "start_time": "2021-07-07T18:46:31.611Z"
   },
   {
    "duration": 6,
    "start_time": "2021-07-07T18:46:31.633Z"
   },
   {
    "duration": 17,
    "start_time": "2021-07-07T18:46:31.642Z"
   },
   {
    "duration": 10,
    "start_time": "2021-07-07T18:46:31.684Z"
   },
   {
    "duration": 9,
    "start_time": "2021-07-07T18:46:31.695Z"
   },
   {
    "duration": 28,
    "start_time": "2021-07-07T18:46:31.705Z"
   },
   {
    "duration": 18,
    "start_time": "2021-07-07T18:46:31.735Z"
   },
   {
    "duration": 48,
    "start_time": "2021-07-07T18:46:31.755Z"
   },
   {
    "duration": 6,
    "start_time": "2021-07-07T18:46:31.804Z"
   },
   {
    "duration": 4,
    "start_time": "2021-07-07T18:46:31.812Z"
   },
   {
    "duration": 9,
    "start_time": "2021-07-07T18:46:31.817Z"
   },
   {
    "duration": 10,
    "start_time": "2021-07-07T18:46:31.827Z"
   },
   {
    "duration": 12,
    "start_time": "2021-07-07T18:46:31.838Z"
   },
   {
    "duration": 39,
    "start_time": "2021-07-07T18:46:31.851Z"
   },
   {
    "duration": 24,
    "start_time": "2021-07-07T18:46:31.892Z"
   },
   {
    "duration": 15,
    "start_time": "2021-07-07T18:46:31.918Z"
   },
   {
    "duration": 7,
    "start_time": "2021-07-07T18:46:31.936Z"
   },
   {
    "duration": 8,
    "start_time": "2021-07-07T18:46:31.944Z"
   },
   {
    "duration": 19,
    "start_time": "2021-07-07T18:46:31.984Z"
   },
   {
    "duration": 10,
    "start_time": "2021-07-07T18:46:32.004Z"
   },
   {
    "duration": 5,
    "start_time": "2021-07-07T18:46:32.016Z"
   },
   {
    "duration": 9,
    "start_time": "2021-07-07T18:46:32.023Z"
   },
   {
    "duration": 199,
    "start_time": "2021-07-07T18:46:32.033Z"
   },
   {
    "duration": 19,
    "start_time": "2021-07-07T18:46:32.234Z"
   },
   {
    "duration": 159,
    "start_time": "2021-07-07T18:46:32.255Z"
   },
   {
    "duration": 134,
    "start_time": "2021-07-07T18:46:32.416Z"
   },
   {
    "duration": 10,
    "start_time": "2021-07-07T18:46:32.552Z"
   },
   {
    "duration": 34,
    "start_time": "2021-07-07T18:46:32.563Z"
   },
   {
    "duration": 1039,
    "start_time": "2021-07-08T08:41:09.419Z"
   },
   {
    "duration": 333,
    "start_time": "2021-07-08T08:41:10.459Z"
   },
   {
    "duration": 173,
    "start_time": "2021-07-08T08:41:10.794Z"
   },
   {
    "duration": 5,
    "start_time": "2021-07-08T08:41:10.968Z"
   },
   {
    "duration": 25,
    "start_time": "2021-07-08T08:41:10.975Z"
   },
   {
    "duration": 9,
    "start_time": "2021-07-08T08:41:11.002Z"
   },
   {
    "duration": 18,
    "start_time": "2021-07-08T08:41:11.013Z"
   },
   {
    "duration": 6,
    "start_time": "2021-07-08T08:41:11.033Z"
   },
   {
    "duration": 44,
    "start_time": "2021-07-08T08:41:11.042Z"
   },
   {
    "duration": 10,
    "start_time": "2021-07-08T08:41:11.088Z"
   },
   {
    "duration": 9,
    "start_time": "2021-07-08T08:41:11.100Z"
   },
   {
    "duration": 27,
    "start_time": "2021-07-08T08:41:11.111Z"
   },
   {
    "duration": 46,
    "start_time": "2021-07-08T08:41:11.140Z"
   },
   {
    "duration": 17,
    "start_time": "2021-07-08T08:41:11.187Z"
   },
   {
    "duration": 6,
    "start_time": "2021-07-08T08:41:11.206Z"
   },
   {
    "duration": 5,
    "start_time": "2021-07-08T08:41:11.213Z"
   },
   {
    "duration": 10,
    "start_time": "2021-07-08T08:41:11.219Z"
   },
   {
    "duration": 9,
    "start_time": "2021-07-08T08:41:11.230Z"
   },
   {
    "duration": 45,
    "start_time": "2021-07-08T08:41:11.241Z"
   },
   {
    "duration": 7,
    "start_time": "2021-07-08T08:41:11.287Z"
   },
   {
    "duration": 24,
    "start_time": "2021-07-08T08:41:11.296Z"
   },
   {
    "duration": 16,
    "start_time": "2021-07-08T08:41:11.322Z"
   },
   {
    "duration": 7,
    "start_time": "2021-07-08T08:41:11.341Z"
   },
   {
    "duration": 41,
    "start_time": "2021-07-08T08:41:11.349Z"
   },
   {
    "duration": 17,
    "start_time": "2021-07-08T08:41:11.391Z"
   },
   {
    "duration": 9,
    "start_time": "2021-07-08T08:41:11.410Z"
   },
   {
    "duration": 5,
    "start_time": "2021-07-08T08:41:11.421Z"
   },
   {
    "duration": 6,
    "start_time": "2021-07-08T08:41:11.428Z"
   },
   {
    "duration": 198,
    "start_time": "2021-07-08T08:41:11.435Z"
   },
   {
    "duration": 18,
    "start_time": "2021-07-08T08:41:11.635Z"
   },
   {
    "duration": 155,
    "start_time": "2021-07-08T08:41:11.655Z"
   },
   {
    "duration": 138,
    "start_time": "2021-07-08T08:41:11.811Z"
   },
   {
    "duration": 10,
    "start_time": "2021-07-08T08:41:11.950Z"
   },
   {
    "duration": 29,
    "start_time": "2021-07-08T08:41:11.961Z"
   },
   {
    "duration": 171,
    "start_time": "2021-07-08T08:47:44.522Z"
   },
   {
    "duration": 124,
    "start_time": "2021-07-08T08:47:46.872Z"
   },
   {
    "duration": 191,
    "start_time": "2021-07-08T08:47:58.148Z"
   },
   {
    "duration": 191,
    "start_time": "2021-07-08T08:48:07.412Z"
   },
   {
    "duration": 261,
    "start_time": "2021-07-08T08:48:10.385Z"
   },
   {
    "duration": 255,
    "start_time": "2021-07-08T08:48:14.494Z"
   },
   {
    "duration": 219,
    "start_time": "2021-07-08T08:48:22.752Z"
   },
   {
    "duration": 173,
    "start_time": "2021-07-08T08:49:06.395Z"
   },
   {
    "duration": 180,
    "start_time": "2021-07-08T08:49:21.011Z"
   },
   {
    "duration": 6,
    "start_time": "2021-07-08T08:50:31.697Z"
   },
   {
    "duration": 10,
    "start_time": "2021-07-08T08:50:47.394Z"
   },
   {
    "duration": 11,
    "start_time": "2021-07-08T08:53:49.332Z"
   },
   {
    "duration": 171,
    "start_time": "2021-07-08T08:54:28.408Z"
   },
   {
    "duration": 636,
    "start_time": "2021-07-08T09:02:48.385Z"
   },
   {
    "duration": 227,
    "start_time": "2021-07-08T09:02:49.023Z"
   },
   {
    "duration": 104,
    "start_time": "2021-07-08T09:02:49.252Z"
   },
   {
    "duration": 5,
    "start_time": "2021-07-08T09:02:49.358Z"
   },
   {
    "duration": 27,
    "start_time": "2021-07-08T09:02:49.365Z"
   },
   {
    "duration": 8,
    "start_time": "2021-07-08T09:02:49.394Z"
   },
   {
    "duration": 18,
    "start_time": "2021-07-08T09:02:49.404Z"
   },
   {
    "duration": 6,
    "start_time": "2021-07-08T09:02:49.424Z"
   },
   {
    "duration": 11,
    "start_time": "2021-07-08T09:02:49.433Z"
   },
   {
    "duration": 13,
    "start_time": "2021-07-08T09:02:49.485Z"
   },
   {
    "duration": 9,
    "start_time": "2021-07-08T09:02:49.500Z"
   },
   {
    "duration": 38,
    "start_time": "2021-07-08T09:02:49.511Z"
   },
   {
    "duration": 42,
    "start_time": "2021-07-08T09:02:49.551Z"
   },
   {
    "duration": 21,
    "start_time": "2021-07-08T09:02:49.594Z"
   },
   {
    "duration": 6,
    "start_time": "2021-07-08T09:02:49.616Z"
   },
   {
    "duration": 3,
    "start_time": "2021-07-08T09:02:49.623Z"
   },
   {
    "duration": 9,
    "start_time": "2021-07-08T09:02:49.628Z"
   },
   {
    "duration": 52,
    "start_time": "2021-07-08T09:02:49.638Z"
   },
   {
    "duration": 11,
    "start_time": "2021-07-08T09:02:49.692Z"
   },
   {
    "duration": 8,
    "start_time": "2021-07-08T09:02:49.704Z"
   },
   {
    "duration": 27,
    "start_time": "2021-07-08T09:02:49.713Z"
   },
   {
    "duration": 59,
    "start_time": "2021-07-08T09:02:49.741Z"
   },
   {
    "duration": 8,
    "start_time": "2021-07-08T09:02:49.803Z"
   },
   {
    "duration": 14,
    "start_time": "2021-07-08T09:02:49.813Z"
   },
   {
    "duration": 20,
    "start_time": "2021-07-08T09:02:49.829Z"
   },
   {
    "duration": 44,
    "start_time": "2021-07-08T09:02:49.851Z"
   },
   {
    "duration": 14,
    "start_time": "2021-07-08T09:02:49.896Z"
   },
   {
    "duration": 221,
    "start_time": "2021-07-08T09:02:49.912Z"
   },
   {
    "duration": 6,
    "start_time": "2021-07-08T09:02:50.134Z"
   },
   {
    "duration": 206,
    "start_time": "2021-07-08T09:02:50.142Z"
   },
   {
    "duration": 19,
    "start_time": "2021-07-08T09:02:50.350Z"
   },
   {
    "duration": 21,
    "start_time": "2021-07-08T09:02:50.370Z"
   },
   {
    "duration": 20,
    "start_time": "2021-07-08T09:02:50.393Z"
   },
   {
    "duration": 5,
    "start_time": "2021-07-08T09:02:50.414Z"
   },
   {
    "duration": 5,
    "start_time": "2021-07-08T09:03:34.173Z"
   },
   {
    "duration": 6,
    "start_time": "2021-07-08T09:04:49.062Z"
   },
   {
    "duration": 9,
    "start_time": "2021-07-08T09:04:50.118Z"
   },
   {
    "duration": 14,
    "start_time": "2021-07-08T09:04:58.512Z"
   },
   {
    "duration": 9,
    "start_time": "2021-07-08T09:05:10.988Z"
   },
   {
    "duration": 11,
    "start_time": "2021-07-08T09:05:11.743Z"
   },
   {
    "duration": 7,
    "start_time": "2021-07-08T09:05:25.677Z"
   },
   {
    "duration": 13,
    "start_time": "2021-07-08T09:05:47.189Z"
   },
   {
    "duration": 13,
    "start_time": "2021-07-08T09:05:54.755Z"
   },
   {
    "duration": 4,
    "start_time": "2021-07-08T09:06:29.189Z"
   },
   {
    "duration": 244,
    "start_time": "2021-07-08T09:06:29.195Z"
   },
   {
    "duration": 91,
    "start_time": "2021-07-08T09:06:29.441Z"
   },
   {
    "duration": 4,
    "start_time": "2021-07-08T09:06:29.534Z"
   },
   {
    "duration": 28,
    "start_time": "2021-07-08T09:06:29.540Z"
   },
   {
    "duration": 6,
    "start_time": "2021-07-08T09:06:29.570Z"
   },
   {
    "duration": 18,
    "start_time": "2021-07-08T09:06:29.578Z"
   },
   {
    "duration": 5,
    "start_time": "2021-07-08T09:06:29.597Z"
   },
   {
    "duration": 13,
    "start_time": "2021-07-08T09:06:29.605Z"
   },
   {
    "duration": 8,
    "start_time": "2021-07-08T09:06:29.620Z"
   },
   {
    "duration": 7,
    "start_time": "2021-07-08T09:06:29.630Z"
   },
   {
    "duration": 63,
    "start_time": "2021-07-08T09:06:29.639Z"
   },
   {
    "duration": 17,
    "start_time": "2021-07-08T09:06:29.704Z"
   },
   {
    "duration": 20,
    "start_time": "2021-07-08T09:06:29.723Z"
   },
   {
    "duration": 6,
    "start_time": "2021-07-08T09:06:29.745Z"
   },
   {
    "duration": 3,
    "start_time": "2021-07-08T09:06:29.752Z"
   },
   {
    "duration": 7,
    "start_time": "2021-07-08T09:06:29.785Z"
   },
   {
    "duration": 11,
    "start_time": "2021-07-08T09:06:29.794Z"
   },
   {
    "duration": 15,
    "start_time": "2021-07-08T09:06:29.807Z"
   },
   {
    "duration": 8,
    "start_time": "2021-07-08T09:06:29.823Z"
   },
   {
    "duration": 70,
    "start_time": "2021-07-08T09:06:29.832Z"
   },
   {
    "duration": 17,
    "start_time": "2021-07-08T09:06:29.903Z"
   },
   {
    "duration": 9,
    "start_time": "2021-07-08T09:06:29.921Z"
   },
   {
    "duration": 9,
    "start_time": "2021-07-08T09:06:29.932Z"
   },
   {
    "duration": 57,
    "start_time": "2021-07-08T09:06:29.942Z"
   },
   {
    "duration": 11,
    "start_time": "2021-07-08T09:06:30.001Z"
   },
   {
    "duration": 19,
    "start_time": "2021-07-08T09:06:30.016Z"
   },
   {
    "duration": 217,
    "start_time": "2021-07-08T09:06:30.037Z"
   },
   {
    "duration": 6,
    "start_time": "2021-07-08T09:06:30.255Z"
   },
   {
    "duration": 205,
    "start_time": "2021-07-08T09:06:30.263Z"
   },
   {
    "duration": 27,
    "start_time": "2021-07-08T09:06:30.470Z"
   },
   {
    "duration": 11,
    "start_time": "2021-07-08T09:06:30.500Z"
   },
   {
    "duration": 31,
    "start_time": "2021-07-08T09:06:30.513Z"
   },
   {
    "duration": 18,
    "start_time": "2021-07-08T09:06:30.546Z"
   },
   {
    "duration": 11,
    "start_time": "2021-07-08T09:06:30.566Z"
   },
   {
    "duration": 19,
    "start_time": "2021-07-08T09:06:30.579Z"
   },
   {
    "duration": 20,
    "start_time": "2021-07-08T09:06:49.466Z"
   },
   {
    "duration": 9,
    "start_time": "2021-07-08T09:06:51.994Z"
   },
   {
    "duration": 20,
    "start_time": "2021-07-08T09:06:52.273Z"
   },
   {
    "duration": 246,
    "start_time": "2021-07-08T09:10:21.272Z"
   },
   {
    "duration": 84,
    "start_time": "2021-07-08T09:10:21.436Z"
   },
   {
    "duration": 7,
    "start_time": "2021-07-08T09:10:37.608Z"
   },
   {
    "duration": 189,
    "start_time": "2021-07-08T09:10:38.573Z"
   },
   {
    "duration": 185,
    "start_time": "2021-07-08T09:10:53.181Z"
   },
   {
    "duration": 11,
    "start_time": "2021-07-08T09:10:59.549Z"
   },
   {
    "duration": 42,
    "start_time": "2021-07-08T09:10:59.709Z"
   },
   {
    "duration": 12,
    "start_time": "2021-07-08T09:11:02.857Z"
   },
   {
    "duration": 28,
    "start_time": "2021-07-08T09:11:10.062Z"
   },
   {
    "duration": 249,
    "start_time": "2021-07-08T09:11:37.388Z"
   },
   {
    "duration": 232,
    "start_time": "2021-07-08T09:11:49.485Z"
   },
   {
    "duration": 453,
    "start_time": "2021-07-08T09:12:01.546Z"
   },
   {
    "duration": 440,
    "start_time": "2021-07-08T09:12:12.347Z"
   },
   {
    "duration": 213,
    "start_time": "2021-07-08T09:13:32.196Z"
   },
   {
    "duration": 172,
    "start_time": "2021-07-08T09:14:07.400Z"
   },
   {
    "duration": 185,
    "start_time": "2021-07-08T09:14:14.905Z"
   },
   {
    "duration": 209,
    "start_time": "2021-07-08T09:14:40.109Z"
   },
   {
    "duration": 201,
    "start_time": "2021-07-08T09:14:54.506Z"
   },
   {
    "duration": 622,
    "start_time": "2021-07-08T09:18:14.497Z"
   },
   {
    "duration": 220,
    "start_time": "2021-07-08T09:18:15.121Z"
   },
   {
    "duration": 79,
    "start_time": "2021-07-08T09:18:15.343Z"
   },
   {
    "duration": 4,
    "start_time": "2021-07-08T09:18:15.425Z"
   },
   {
    "duration": 24,
    "start_time": "2021-07-08T09:18:15.431Z"
   },
   {
    "duration": 8,
    "start_time": "2021-07-08T09:18:15.457Z"
   },
   {
    "duration": 16,
    "start_time": "2021-07-08T09:18:15.466Z"
   },
   {
    "duration": 5,
    "start_time": "2021-07-08T09:18:15.484Z"
   },
   {
    "duration": 10,
    "start_time": "2021-07-08T09:18:15.493Z"
   },
   {
    "duration": 8,
    "start_time": "2021-07-08T09:18:15.504Z"
   },
   {
    "duration": 7,
    "start_time": "2021-07-08T09:18:15.513Z"
   },
   {
    "duration": 26,
    "start_time": "2021-07-08T09:18:15.522Z"
   },
   {
    "duration": 49,
    "start_time": "2021-07-08T09:18:15.550Z"
   },
   {
    "duration": 21,
    "start_time": "2021-07-08T09:18:15.601Z"
   },
   {
    "duration": 8,
    "start_time": "2021-07-08T09:18:15.624Z"
   },
   {
    "duration": 3,
    "start_time": "2021-07-08T09:18:15.634Z"
   },
   {
    "duration": 8,
    "start_time": "2021-07-08T09:18:15.639Z"
   },
   {
    "duration": 45,
    "start_time": "2021-07-08T09:18:15.649Z"
   },
   {
    "duration": 13,
    "start_time": "2021-07-08T09:18:15.696Z"
   },
   {
    "duration": 10,
    "start_time": "2021-07-08T09:18:15.711Z"
   },
   {
    "duration": 64,
    "start_time": "2021-07-08T09:18:15.722Z"
   },
   {
    "duration": 19,
    "start_time": "2021-07-08T09:18:15.788Z"
   },
   {
    "duration": 9,
    "start_time": "2021-07-08T09:18:15.809Z"
   },
   {
    "duration": 9,
    "start_time": "2021-07-08T09:18:15.820Z"
   },
   {
    "duration": 18,
    "start_time": "2021-07-08T09:18:15.831Z"
   },
   {
    "duration": 43,
    "start_time": "2021-07-08T09:18:15.851Z"
   },
   {
    "duration": 12,
    "start_time": "2021-07-08T09:18:15.897Z"
   },
   {
    "duration": 219,
    "start_time": "2021-07-08T09:18:15.911Z"
   },
   {
    "duration": 8,
    "start_time": "2021-07-08T09:18:16.132Z"
   },
   {
    "duration": 199,
    "start_time": "2021-07-08T09:18:16.141Z"
   },
   {
    "duration": 18,
    "start_time": "2021-07-08T09:18:16.341Z"
   },
   {
    "duration": 24,
    "start_time": "2021-07-08T09:18:16.361Z"
   },
   {
    "duration": 24,
    "start_time": "2021-07-08T09:18:16.387Z"
   },
   {
    "duration": 211,
    "start_time": "2021-07-08T09:18:16.413Z"
   },
   {
    "duration": 18,
    "start_time": "2021-07-08T09:18:16.626Z"
   },
   {
    "duration": 596,
    "start_time": "2021-07-08T10:06:33.623Z"
   },
   {
    "duration": 181,
    "start_time": "2021-07-08T10:06:34.221Z"
   },
   {
    "duration": 176,
    "start_time": "2021-07-08T10:06:34.635Z"
   },
   {
    "duration": 239,
    "start_time": "2021-07-08T10:06:55.572Z"
   },
   {
    "duration": 6,
    "start_time": "2021-07-08T10:06:57.687Z"
   },
   {
    "duration": 4,
    "start_time": "2021-07-08T10:07:03.956Z"
   },
   {
    "duration": 4,
    "start_time": "2021-07-08T10:07:10.376Z"
   },
   {
    "duration": 4,
    "start_time": "2021-07-08T10:17:19.889Z"
   },
   {
    "duration": 3,
    "start_time": "2021-07-08T10:19:19.407Z"
   },
   {
    "duration": 197,
    "start_time": "2021-07-08T10:19:19.412Z"
   },
   {
    "duration": 127,
    "start_time": "2021-07-08T10:19:19.611Z"
   },
   {
    "duration": 4,
    "start_time": "2021-07-08T10:19:19.740Z"
   },
   {
    "duration": 27,
    "start_time": "2021-07-08T10:19:19.746Z"
   },
   {
    "duration": 7,
    "start_time": "2021-07-08T10:19:19.775Z"
   },
   {
    "duration": 30,
    "start_time": "2021-07-08T10:19:19.784Z"
   },
   {
    "duration": 7,
    "start_time": "2021-07-08T10:19:19.817Z"
   },
   {
    "duration": 26,
    "start_time": "2021-07-08T10:19:19.826Z"
   },
   {
    "duration": 18,
    "start_time": "2021-07-08T10:19:19.854Z"
   },
   {
    "duration": 14,
    "start_time": "2021-07-08T10:19:19.874Z"
   },
   {
    "duration": 48,
    "start_time": "2021-07-08T10:19:19.890Z"
   },
   {
    "duration": 17,
    "start_time": "2021-07-08T10:19:19.940Z"
   },
   {
    "duration": 38,
    "start_time": "2021-07-08T10:19:19.959Z"
   },
   {
    "duration": 8,
    "start_time": "2021-07-08T10:19:19.999Z"
   },
   {
    "duration": 15,
    "start_time": "2021-07-08T10:19:20.009Z"
   },
   {
    "duration": 22,
    "start_time": "2021-07-08T10:19:20.026Z"
   },
   {
    "duration": 10,
    "start_time": "2021-07-08T10:19:20.050Z"
   },
   {
    "duration": 10,
    "start_time": "2021-07-08T10:19:20.062Z"
   },
   {
    "duration": 20,
    "start_time": "2021-07-08T10:19:20.073Z"
   },
   {
    "duration": 29,
    "start_time": "2021-07-08T10:19:20.095Z"
   },
   {
    "duration": 17,
    "start_time": "2021-07-08T10:19:20.126Z"
   },
   {
    "duration": 40,
    "start_time": "2021-07-08T10:19:20.146Z"
   },
   {
    "duration": 15,
    "start_time": "2021-07-08T10:19:20.189Z"
   },
   {
    "duration": 19,
    "start_time": "2021-07-08T10:19:20.206Z"
   },
   {
    "duration": 10,
    "start_time": "2021-07-08T10:19:20.226Z"
   },
   {
    "duration": 11,
    "start_time": "2021-07-08T10:19:20.238Z"
   },
   {
    "duration": 297,
    "start_time": "2021-07-08T10:19:20.250Z"
   },
   {
    "duration": 6,
    "start_time": "2021-07-08T10:19:20.549Z"
   },
   {
    "duration": 191,
    "start_time": "2021-07-08T10:19:20.557Z"
   },
   {
    "duration": 19,
    "start_time": "2021-07-08T10:19:20.750Z"
   },
   {
    "duration": 20,
    "start_time": "2021-07-08T10:19:20.771Z"
   },
   {
    "duration": 15,
    "start_time": "2021-07-08T10:19:20.793Z"
   },
   {
    "duration": 222,
    "start_time": "2021-07-08T10:19:20.809Z"
   },
   {
    "duration": 20,
    "start_time": "2021-07-08T10:19:21.033Z"
   },
   {
    "duration": 27,
    "start_time": "2021-07-08T10:45:04.055Z"
   },
   {
    "duration": 8,
    "start_time": "2021-07-08T10:45:08.478Z"
   },
   {
    "duration": 8,
    "start_time": "2021-07-08T10:45:31.982Z"
   },
   {
    "duration": 10,
    "start_time": "2021-07-08T10:46:01.221Z"
   },
   {
    "duration": 17,
    "start_time": "2021-07-08T10:46:40.011Z"
   },
   {
    "duration": 193,
    "start_time": "2021-07-08T10:48:19.471Z"
   },
   {
    "duration": 225,
    "start_time": "2021-07-08T10:49:26.480Z"
   },
   {
    "duration": 204,
    "start_time": "2021-07-08T10:49:59.992Z"
   },
   {
    "duration": 435,
    "start_time": "2021-07-08T10:50:06.779Z"
   },
   {
    "duration": 199,
    "start_time": "2021-07-08T10:50:14.891Z"
   },
   {
    "duration": 204,
    "start_time": "2021-07-08T10:50:18.501Z"
   },
   {
    "duration": 244,
    "start_time": "2021-07-08T10:50:23.359Z"
   },
   {
    "duration": 192,
    "start_time": "2021-07-08T10:50:29.135Z"
   },
   {
    "duration": 218,
    "start_time": "2021-07-08T10:50:33.092Z"
   },
   {
    "duration": 207,
    "start_time": "2021-07-08T10:52:45.381Z"
   },
   {
    "duration": 5,
    "start_time": "2021-07-08T10:53:34.641Z"
   },
   {
    "duration": 196,
    "start_time": "2021-07-08T10:53:41.478Z"
   },
   {
    "duration": 43,
    "start_time": "2021-07-08T10:53:50.335Z"
   },
   {
    "duration": 32,
    "start_time": "2021-07-08T10:53:55.294Z"
   },
   {
    "duration": 55,
    "start_time": "2021-07-08T10:54:09.675Z"
   },
   {
    "duration": 16,
    "start_time": "2021-07-08T10:54:12.260Z"
   },
   {
    "duration": 15,
    "start_time": "2021-07-08T10:54:49.150Z"
   },
   {
    "duration": 20,
    "start_time": "2021-07-08T10:56:07.596Z"
   },
   {
    "duration": 16,
    "start_time": "2021-07-08T10:58:26.276Z"
   },
   {
    "duration": 22,
    "start_time": "2021-07-08T10:59:00.486Z"
   },
   {
    "duration": 18,
    "start_time": "2021-07-08T11:02:09.653Z"
   },
   {
    "duration": 10,
    "start_time": "2021-07-08T11:03:44.331Z"
   },
   {
    "duration": 10,
    "start_time": "2021-07-08T11:03:54.055Z"
   },
   {
    "duration": 12,
    "start_time": "2021-07-08T11:04:41.967Z"
   },
   {
    "duration": 24,
    "start_time": "2021-07-08T11:07:30.732Z"
   },
   {
    "duration": 6,
    "start_time": "2021-07-08T11:07:37.364Z"
   },
   {
    "duration": 16,
    "start_time": "2021-07-08T11:08:01.819Z"
   },
   {
    "duration": 17,
    "start_time": "2021-07-08T11:09:47.488Z"
   },
   {
    "duration": 246,
    "start_time": "2021-07-08T11:10:00.830Z"
   },
   {
    "duration": 18,
    "start_time": "2021-07-08T11:13:55.195Z"
   },
   {
    "duration": 204,
    "start_time": "2021-07-08T11:14:04.951Z"
   },
   {
    "duration": 19,
    "start_time": "2021-07-08T11:15:10.613Z"
   },
   {
    "duration": 680,
    "start_time": "2021-07-08T11:16:25.793Z"
   },
   {
    "duration": 451,
    "start_time": "2021-07-08T11:16:40.313Z"
   },
   {
    "duration": 469,
    "start_time": "2021-07-08T11:17:21.286Z"
   },
   {
    "duration": 20,
    "start_time": "2021-07-08T11:19:12.554Z"
   },
   {
    "duration": 35,
    "start_time": "2021-07-08T11:20:05.484Z"
   },
   {
    "duration": 53,
    "start_time": "2021-07-08T11:21:40.050Z"
   },
   {
    "duration": 13,
    "start_time": "2021-07-08T11:22:26.059Z"
   },
   {
    "duration": 19,
    "start_time": "2021-07-08T11:22:47.419Z"
   },
   {
    "duration": 25,
    "start_time": "2021-07-08T11:23:19.958Z"
   },
   {
    "duration": 29,
    "start_time": "2021-07-08T11:23:25.415Z"
   },
   {
    "duration": 10,
    "start_time": "2021-07-08T11:24:45.138Z"
   },
   {
    "duration": 19,
    "start_time": "2021-07-08T11:24:54.498Z"
   },
   {
    "duration": 12,
    "start_time": "2021-07-08T11:25:32.225Z"
   },
   {
    "duration": 19,
    "start_time": "2021-07-08T11:25:37.092Z"
   },
   {
    "duration": 17,
    "start_time": "2021-07-08T11:25:58.116Z"
   },
   {
    "duration": 15,
    "start_time": "2021-07-08T11:26:02.258Z"
   },
   {
    "duration": 8,
    "start_time": "2021-07-08T11:26:59.682Z"
   },
   {
    "duration": 184,
    "start_time": "2021-07-08T11:27:21.894Z"
   },
   {
    "duration": 8,
    "start_time": "2021-07-08T11:27:23.824Z"
   },
   {
    "duration": 202,
    "start_time": "2021-07-08T11:27:23.962Z"
   },
   {
    "duration": 360,
    "start_time": "2021-07-08T11:28:33.215Z"
   },
   {
    "duration": 231,
    "start_time": "2021-07-08T11:32:05.542Z"
   },
   {
    "duration": 607,
    "start_time": "2021-07-08T11:36:27.854Z"
   },
   {
    "duration": 241,
    "start_time": "2021-07-08T11:36:28.463Z"
   },
   {
    "duration": 67,
    "start_time": "2021-07-08T11:36:28.709Z"
   },
   {
    "duration": 5,
    "start_time": "2021-07-08T11:36:28.778Z"
   },
   {
    "duration": 32,
    "start_time": "2021-07-08T11:36:28.784Z"
   },
   {
    "duration": 11,
    "start_time": "2021-07-08T11:36:28.819Z"
   },
   {
    "duration": 20,
    "start_time": "2021-07-08T11:36:28.834Z"
   },
   {
    "duration": 36,
    "start_time": "2021-07-08T11:36:28.857Z"
   },
   {
    "duration": 16,
    "start_time": "2021-07-08T11:36:28.895Z"
   },
   {
    "duration": 14,
    "start_time": "2021-07-08T11:36:28.913Z"
   },
   {
    "duration": 9,
    "start_time": "2021-07-08T11:36:28.930Z"
   },
   {
    "duration": 55,
    "start_time": "2021-07-08T11:36:28.941Z"
   },
   {
    "duration": 27,
    "start_time": "2021-07-08T11:36:28.999Z"
   },
   {
    "duration": 30,
    "start_time": "2021-07-08T11:36:29.028Z"
   },
   {
    "duration": 31,
    "start_time": "2021-07-08T11:36:29.060Z"
   },
   {
    "duration": 3,
    "start_time": "2021-07-08T11:36:29.093Z"
   },
   {
    "duration": 12,
    "start_time": "2021-07-08T11:36:29.099Z"
   },
   {
    "duration": 11,
    "start_time": "2021-07-08T11:36:29.112Z"
   },
   {
    "duration": 12,
    "start_time": "2021-07-08T11:36:29.125Z"
   },
   {
    "duration": 9,
    "start_time": "2021-07-08T11:36:29.139Z"
   },
   {
    "duration": 31,
    "start_time": "2021-07-08T11:36:29.191Z"
   },
   {
    "duration": 17,
    "start_time": "2021-07-08T11:36:29.226Z"
   },
   {
    "duration": 7,
    "start_time": "2021-07-08T11:36:29.245Z"
   },
   {
    "duration": 10,
    "start_time": "2021-07-08T11:36:29.254Z"
   },
   {
    "duration": 30,
    "start_time": "2021-07-08T11:36:29.292Z"
   },
   {
    "duration": 11,
    "start_time": "2021-07-08T11:36:29.324Z"
   },
   {
    "duration": 11,
    "start_time": "2021-07-08T11:36:29.337Z"
   },
   {
    "duration": 230,
    "start_time": "2021-07-08T11:36:29.349Z"
   },
   {
    "duration": 13,
    "start_time": "2021-07-08T11:36:29.588Z"
   },
   {
    "duration": 205,
    "start_time": "2021-07-08T11:36:29.603Z"
   },
   {
    "duration": 20,
    "start_time": "2021-07-08T11:36:29.810Z"
   },
   {
    "duration": 9,
    "start_time": "2021-07-08T11:36:29.832Z"
   },
   {
    "duration": 16,
    "start_time": "2021-07-08T11:36:29.843Z"
   },
   {
    "duration": 283,
    "start_time": "2021-07-08T11:36:29.861Z"
   },
   {
    "duration": 50,
    "start_time": "2021-07-08T11:36:30.146Z"
   },
   {
    "duration": 14,
    "start_time": "2021-07-08T11:36:30.198Z"
   },
   {
    "duration": 11,
    "start_time": "2021-07-08T11:36:30.214Z"
   },
   {
    "duration": 245,
    "start_time": "2021-07-08T11:36:30.227Z"
   },
   {
    "duration": 439,
    "start_time": "2021-07-08T11:36:30.474Z"
   },
   {
    "duration": 210,
    "start_time": "2021-07-08T11:36:30.915Z"
   },
   {
    "duration": 15,
    "start_time": "2021-07-08T11:36:31.127Z"
   },
   {
    "duration": 17,
    "start_time": "2021-07-08T11:38:20.451Z"
   },
   {
    "duration": 642,
    "start_time": "2021-07-08T11:46:17.881Z"
   },
   {
    "duration": 210,
    "start_time": "2021-07-08T11:46:18.525Z"
   },
   {
    "duration": 104,
    "start_time": "2021-07-08T11:46:18.741Z"
   },
   {
    "duration": 8,
    "start_time": "2021-07-08T11:46:18.847Z"
   },
   {
    "duration": 25,
    "start_time": "2021-07-08T11:46:18.857Z"
   },
   {
    "duration": 14,
    "start_time": "2021-07-08T11:46:18.884Z"
   },
   {
    "duration": 22,
    "start_time": "2021-07-08T11:46:18.900Z"
   },
   {
    "duration": 5,
    "start_time": "2021-07-08T11:46:18.924Z"
   },
   {
    "duration": 13,
    "start_time": "2021-07-08T11:46:18.931Z"
   },
   {
    "duration": 45,
    "start_time": "2021-07-08T11:46:18.946Z"
   },
   {
    "duration": 12,
    "start_time": "2021-07-08T11:46:18.993Z"
   },
   {
    "duration": 38,
    "start_time": "2021-07-08T11:46:19.006Z"
   },
   {
    "duration": 50,
    "start_time": "2021-07-08T11:46:19.046Z"
   },
   {
    "duration": 29,
    "start_time": "2021-07-08T11:46:19.099Z"
   },
   {
    "duration": 7,
    "start_time": "2021-07-08T11:46:19.130Z"
   },
   {
    "duration": 3,
    "start_time": "2021-07-08T11:46:19.139Z"
   },
   {
    "duration": 11,
    "start_time": "2021-07-08T11:46:19.144Z"
   },
   {
    "duration": 40,
    "start_time": "2021-07-08T11:46:19.157Z"
   },
   {
    "duration": 15,
    "start_time": "2021-07-08T11:46:19.199Z"
   },
   {
    "duration": 10,
    "start_time": "2021-07-08T11:46:19.217Z"
   },
   {
    "duration": 68,
    "start_time": "2021-07-08T11:46:19.230Z"
   },
   {
    "duration": 17,
    "start_time": "2021-07-08T11:46:19.301Z"
   },
   {
    "duration": 7,
    "start_time": "2021-07-08T11:46:19.321Z"
   },
   {
    "duration": 11,
    "start_time": "2021-07-08T11:46:19.330Z"
   },
   {
    "duration": 59,
    "start_time": "2021-07-08T11:46:19.343Z"
   },
   {
    "duration": 17,
    "start_time": "2021-07-08T11:46:19.405Z"
   },
   {
    "duration": 16,
    "start_time": "2021-07-08T11:46:19.424Z"
   },
   {
    "duration": 252,
    "start_time": "2021-07-08T11:46:19.443Z"
   },
   {
    "duration": 9,
    "start_time": "2021-07-08T11:46:19.697Z"
   },
   {
    "duration": 224,
    "start_time": "2021-07-08T11:46:19.708Z"
   },
   {
    "duration": 21,
    "start_time": "2021-07-08T11:46:19.934Z"
   },
   {
    "duration": 9,
    "start_time": "2021-07-08T11:46:19.956Z"
   },
   {
    "duration": 32,
    "start_time": "2021-07-08T11:46:19.967Z"
   },
   {
    "duration": 288,
    "start_time": "2021-07-08T11:46:20.004Z"
   },
   {
    "duration": 23,
    "start_time": "2021-07-08T11:46:20.300Z"
   },
   {
    "duration": 11,
    "start_time": "2021-07-08T11:46:20.325Z"
   },
   {
    "duration": 11,
    "start_time": "2021-07-08T11:46:20.339Z"
   },
   {
    "duration": 259,
    "start_time": "2021-07-08T11:46:20.352Z"
   },
   {
    "duration": 438,
    "start_time": "2021-07-08T11:46:20.613Z"
   },
   {
    "duration": 207,
    "start_time": "2021-07-08T11:46:21.054Z"
   },
   {
    "duration": 27,
    "start_time": "2021-07-08T11:46:21.262Z"
   },
   {
    "duration": 19,
    "start_time": "2021-07-08T11:46:21.291Z"
   },
   {
    "duration": 820,
    "start_time": "2021-07-08T11:49:01.655Z"
   },
   {
    "duration": 372,
    "start_time": "2021-07-08T11:49:02.478Z"
   },
   {
    "duration": 98,
    "start_time": "2021-07-08T11:49:02.853Z"
   },
   {
    "duration": 6,
    "start_time": "2021-07-08T11:49:02.953Z"
   },
   {
    "duration": 39,
    "start_time": "2021-07-08T11:49:02.960Z"
   },
   {
    "duration": 9,
    "start_time": "2021-07-08T11:49:03.003Z"
   },
   {
    "duration": 23,
    "start_time": "2021-07-08T11:49:03.014Z"
   },
   {
    "duration": 6,
    "start_time": "2021-07-08T11:49:03.041Z"
   },
   {
    "duration": 20,
    "start_time": "2021-07-08T11:49:03.049Z"
   },
   {
    "duration": 18,
    "start_time": "2021-07-08T11:49:03.084Z"
   },
   {
    "duration": 14,
    "start_time": "2021-07-08T11:49:03.104Z"
   },
   {
    "duration": 39,
    "start_time": "2021-07-08T11:49:03.119Z"
   },
   {
    "duration": 38,
    "start_time": "2021-07-08T11:49:03.160Z"
   },
   {
    "duration": 26,
    "start_time": "2021-07-08T11:49:03.200Z"
   },
   {
    "duration": 7,
    "start_time": "2021-07-08T11:49:03.227Z"
   },
   {
    "duration": 4,
    "start_time": "2021-07-08T11:49:03.236Z"
   },
   {
    "duration": 15,
    "start_time": "2021-07-08T11:49:03.243Z"
   },
   {
    "duration": 21,
    "start_time": "2021-07-08T11:49:03.285Z"
   },
   {
    "duration": 17,
    "start_time": "2021-07-08T11:49:03.309Z"
   },
   {
    "duration": 10,
    "start_time": "2021-07-08T11:49:03.328Z"
   },
   {
    "duration": 65,
    "start_time": "2021-07-08T11:49:03.340Z"
   },
   {
    "duration": 18,
    "start_time": "2021-07-08T11:49:03.407Z"
   },
   {
    "duration": 8,
    "start_time": "2021-07-08T11:49:03.428Z"
   },
   {
    "duration": 15,
    "start_time": "2021-07-08T11:49:03.438Z"
   },
   {
    "duration": 40,
    "start_time": "2021-07-08T11:49:03.455Z"
   },
   {
    "duration": 12,
    "start_time": "2021-07-08T11:49:03.497Z"
   },
   {
    "duration": 29,
    "start_time": "2021-07-08T11:49:03.511Z"
   },
   {
    "duration": 285,
    "start_time": "2021-07-08T11:49:03.542Z"
   },
   {
    "duration": 8,
    "start_time": "2021-07-08T11:49:03.829Z"
   },
   {
    "duration": 227,
    "start_time": "2021-07-08T11:49:03.838Z"
   },
   {
    "duration": 40,
    "start_time": "2021-07-08T11:49:04.066Z"
   },
   {
    "duration": 10,
    "start_time": "2021-07-08T11:49:04.108Z"
   },
   {
    "duration": 26,
    "start_time": "2021-07-08T11:49:04.121Z"
   },
   {
    "duration": 290,
    "start_time": "2021-07-08T11:49:04.149Z"
   },
   {
    "duration": 26,
    "start_time": "2021-07-08T11:49:04.441Z"
   },
   {
    "duration": 31,
    "start_time": "2021-07-08T11:49:04.470Z"
   },
   {
    "duration": 14,
    "start_time": "2021-07-08T11:49:04.503Z"
   },
   {
    "duration": 259,
    "start_time": "2021-07-08T11:49:04.521Z"
   },
   {
    "duration": 480,
    "start_time": "2021-07-08T11:49:04.782Z"
   },
   {
    "duration": 225,
    "start_time": "2021-07-08T11:49:05.264Z"
   },
   {
    "duration": 22,
    "start_time": "2021-07-08T11:49:05.491Z"
   },
   {
    "duration": 24,
    "start_time": "2021-07-08T11:49:05.515Z"
   },
   {
    "duration": 634,
    "start_time": "2021-07-08T11:52:24.960Z"
   },
   {
    "duration": 199,
    "start_time": "2021-07-08T11:52:25.599Z"
   },
   {
    "duration": 106,
    "start_time": "2021-07-08T11:52:25.803Z"
   },
   {
    "duration": 7,
    "start_time": "2021-07-08T11:52:25.911Z"
   },
   {
    "duration": 29,
    "start_time": "2021-07-08T11:52:25.920Z"
   },
   {
    "duration": 7,
    "start_time": "2021-07-08T11:52:25.951Z"
   },
   {
    "duration": 26,
    "start_time": "2021-07-08T11:52:25.961Z"
   },
   {
    "duration": 11,
    "start_time": "2021-07-08T11:52:25.990Z"
   },
   {
    "duration": 29,
    "start_time": "2021-07-08T11:52:26.005Z"
   },
   {
    "duration": 9,
    "start_time": "2021-07-08T11:52:26.036Z"
   },
   {
    "duration": 8,
    "start_time": "2021-07-08T11:52:26.047Z"
   },
   {
    "duration": 63,
    "start_time": "2021-07-08T11:52:26.057Z"
   },
   {
    "duration": 17,
    "start_time": "2021-07-08T11:52:26.122Z"
   },
   {
    "duration": 43,
    "start_time": "2021-07-08T11:52:26.142Z"
   },
   {
    "duration": 17,
    "start_time": "2021-07-08T11:52:26.187Z"
   },
   {
    "duration": 5,
    "start_time": "2021-07-08T11:52:26.206Z"
   },
   {
    "duration": 12,
    "start_time": "2021-07-08T11:52:26.212Z"
   },
   {
    "duration": 11,
    "start_time": "2021-07-08T11:52:26.226Z"
   },
   {
    "duration": 12,
    "start_time": "2021-07-08T11:52:26.238Z"
   },
   {
    "duration": 38,
    "start_time": "2021-07-08T11:52:26.252Z"
   },
   {
    "duration": 40,
    "start_time": "2021-07-08T11:52:26.292Z"
   },
   {
    "duration": 17,
    "start_time": "2021-07-08T11:52:26.336Z"
   },
   {
    "duration": 39,
    "start_time": "2021-07-08T11:52:26.355Z"
   },
   {
    "duration": 11,
    "start_time": "2021-07-08T11:52:26.395Z"
   },
   {
    "duration": 23,
    "start_time": "2021-07-08T11:52:26.408Z"
   },
   {
    "duration": 12,
    "start_time": "2021-07-08T11:52:26.432Z"
   },
   {
    "duration": 41,
    "start_time": "2021-07-08T11:52:26.446Z"
   },
   {
    "duration": 215,
    "start_time": "2021-07-08T11:52:26.493Z"
   },
   {
    "duration": 8,
    "start_time": "2021-07-08T11:52:26.710Z"
   },
   {
    "duration": 228,
    "start_time": "2021-07-08T11:52:26.720Z"
   },
   {
    "duration": 18,
    "start_time": "2021-07-08T11:52:26.950Z"
   },
   {
    "duration": 35,
    "start_time": "2021-07-08T11:52:26.969Z"
   },
   {
    "duration": 23,
    "start_time": "2021-07-08T11:52:27.006Z"
   },
   {
    "duration": 258,
    "start_time": "2021-07-08T11:52:27.030Z"
   },
   {
    "duration": 24,
    "start_time": "2021-07-08T11:52:27.290Z"
   },
   {
    "duration": 12,
    "start_time": "2021-07-08T11:52:27.316Z"
   },
   {
    "duration": 10,
    "start_time": "2021-07-08T11:52:27.329Z"
   },
   {
    "duration": 298,
    "start_time": "2021-07-08T11:52:27.341Z"
   },
   {
    "duration": 436,
    "start_time": "2021-07-08T11:52:27.641Z"
   },
   {
    "duration": 216,
    "start_time": "2021-07-08T11:52:28.079Z"
   },
   {
    "duration": 20,
    "start_time": "2021-07-08T11:52:28.297Z"
   },
   {
    "duration": 17,
    "start_time": "2021-07-08T11:52:28.319Z"
   },
   {
    "duration": 50,
    "start_time": "2023-04-12T17:39:56.927Z"
   },
   {
    "duration": 821,
    "start_time": "2023-04-12T17:40:07.605Z"
   },
   {
    "duration": 200,
    "start_time": "2023-04-12T17:40:08.895Z"
   },
   {
    "duration": 78,
    "start_time": "2023-04-12T17:40:38.009Z"
   },
   {
    "duration": 118,
    "start_time": "2023-04-12T17:40:40.420Z"
   },
   {
    "duration": 14,
    "start_time": "2023-04-12T17:40:53.817Z"
   },
   {
    "duration": 8,
    "start_time": "2023-04-12T17:40:57.475Z"
   },
   {
    "duration": 88,
    "start_time": "2023-04-12T17:41:10.569Z"
   },
   {
    "duration": 40,
    "start_time": "2023-04-12T17:41:10.878Z"
   },
   {
    "duration": 22,
    "start_time": "2023-04-12T17:41:11.130Z"
   },
   {
    "duration": 3,
    "start_time": "2023-04-12T17:41:51.564Z"
   },
   {
    "duration": 89,
    "start_time": "2023-04-12T17:41:51.817Z"
   },
   {
    "duration": 39,
    "start_time": "2023-04-12T17:41:52.122Z"
   },
   {
    "duration": 22,
    "start_time": "2023-04-12T17:41:53.918Z"
   },
   {
    "duration": 10,
    "start_time": "2023-04-12T17:41:57.658Z"
   },
   {
    "duration": 5,
    "start_time": "2023-04-12T17:42:45.583Z"
   },
   {
    "duration": 4,
    "start_time": "2023-04-12T17:42:45.856Z"
   },
   {
    "duration": 42,
    "start_time": "2023-04-12T17:42:54.416Z"
   },
   {
    "duration": 6,
    "start_time": "2023-04-12T17:42:57.539Z"
   },
   {
    "duration": 17,
    "start_time": "2023-04-12T17:43:02.497Z"
   },
   {
    "duration": 13,
    "start_time": "2023-04-12T17:43:06.225Z"
   },
   {
    "duration": 356,
    "start_time": "2023-04-12T17:47:11.725Z"
   },
   {
    "duration": 0,
    "start_time": "2023-04-12T17:47:12.083Z"
   },
   {
    "duration": 404,
    "start_time": "2023-04-12T17:47:19.616Z"
   },
   {
    "duration": 15,
    "start_time": "2023-04-12T17:47:20.228Z"
   },
   {
    "duration": 6,
    "start_time": "2023-04-12T17:47:45.217Z"
   },
   {
    "duration": 10,
    "start_time": "2023-04-12T17:47:52.274Z"
   },
   {
    "duration": 674,
    "start_time": "2023-04-12T17:48:07.668Z"
   },
   {
    "duration": 88,
    "start_time": "2023-04-12T17:48:08.344Z"
   },
   {
    "duration": 39,
    "start_time": "2023-04-12T17:48:09.047Z"
   },
   {
    "duration": 393,
    "start_time": "2023-04-12T17:48:10.112Z"
   },
   {
    "duration": 353,
    "start_time": "2023-04-12T17:48:33.176Z"
   },
   {
    "duration": 17,
    "start_time": "2023-04-12T17:48:57.657Z"
   },
   {
    "duration": 10,
    "start_time": "2023-04-12T17:49:57.723Z"
   },
   {
    "duration": 13,
    "start_time": "2023-04-12T17:50:01.157Z"
   },
   {
    "duration": 11,
    "start_time": "2023-04-12T17:50:06.449Z"
   },
   {
    "duration": 11,
    "start_time": "2023-04-12T17:50:07.286Z"
   },
   {
    "duration": 15,
    "start_time": "2023-04-12T17:50:24.107Z"
   },
   {
    "duration": 8,
    "start_time": "2023-04-12T17:51:16.444Z"
   },
   {
    "duration": 12,
    "start_time": "2023-04-12T17:51:36.958Z"
   },
   {
    "duration": 22,
    "start_time": "2023-04-12T17:51:40.495Z"
   },
   {
    "duration": 16,
    "start_time": "2023-04-12T17:51:46.380Z"
   },
   {
    "duration": 19,
    "start_time": "2023-04-12T17:53:42.594Z"
   },
   {
    "duration": 17,
    "start_time": "2023-04-12T17:53:45.200Z"
   },
   {
    "duration": 11,
    "start_time": "2023-04-12T17:53:54.069Z"
   },
   {
    "duration": 16,
    "start_time": "2023-04-12T17:53:57.368Z"
   },
   {
    "duration": 15,
    "start_time": "2023-04-12T17:54:07.906Z"
   },
   {
    "duration": 11,
    "start_time": "2023-04-12T17:54:14.852Z"
   },
   {
    "duration": 5,
    "start_time": "2023-04-12T17:54:26.938Z"
   },
   {
    "duration": 10,
    "start_time": "2023-04-12T17:54:28.860Z"
   },
   {
    "duration": 16,
    "start_time": "2023-04-12T17:54:31.842Z"
   },
   {
    "duration": 15,
    "start_time": "2023-04-12T17:54:44.772Z"
   },
   {
    "duration": 4,
    "start_time": "2023-04-12T17:54:49.406Z"
   },
   {
    "duration": 4,
    "start_time": "2023-04-12T17:55:11.329Z"
   },
   {
    "duration": 5,
    "start_time": "2023-04-12T17:55:11.643Z"
   },
   {
    "duration": 4,
    "start_time": "2023-04-12T17:55:12.012Z"
   },
   {
    "duration": 3,
    "start_time": "2023-04-12T17:57:11.000Z"
   },
   {
    "duration": 79,
    "start_time": "2023-04-12T17:57:11.311Z"
   },
   {
    "duration": 38,
    "start_time": "2023-04-12T17:57:11.756Z"
   },
   {
    "duration": 5,
    "start_time": "2023-04-12T17:57:12.178Z"
   },
   {
    "duration": 17,
    "start_time": "2023-04-12T17:57:12.533Z"
   },
   {
    "duration": 18,
    "start_time": "2023-04-12T17:57:28.027Z"
   },
   {
    "duration": 15,
    "start_time": "2023-04-12T17:57:32.091Z"
   },
   {
    "duration": 19,
    "start_time": "2023-04-12T17:57:36.930Z"
   },
   {
    "duration": 18,
    "start_time": "2023-04-12T17:57:51.200Z"
   },
   {
    "duration": 16,
    "start_time": "2023-04-12T17:58:14.058Z"
   },
   {
    "duration": 6,
    "start_time": "2023-04-12T18:01:23.027Z"
   },
   {
    "duration": 12,
    "start_time": "2023-04-12T18:02:33.100Z"
   },
   {
    "duration": 5,
    "start_time": "2023-04-12T18:03:08.084Z"
   },
   {
    "duration": 6,
    "start_time": "2023-04-12T18:03:43.176Z"
   },
   {
    "duration": 6,
    "start_time": "2023-04-12T18:03:50.190Z"
   },
   {
    "duration": 7,
    "start_time": "2023-04-12T18:03:54.903Z"
   },
   {
    "duration": 5,
    "start_time": "2023-04-12T18:04:03.638Z"
   },
   {
    "duration": 5,
    "start_time": "2023-04-12T18:04:16.329Z"
   },
   {
    "duration": 7,
    "start_time": "2023-04-12T18:04:24.819Z"
   },
   {
    "duration": 5,
    "start_time": "2023-04-12T18:04:32.466Z"
   },
   {
    "duration": 6,
    "start_time": "2023-04-12T18:04:51.075Z"
   },
   {
    "duration": 6,
    "start_time": "2023-04-12T18:05:07.709Z"
   },
   {
    "duration": 4,
    "start_time": "2023-04-12T18:05:29.660Z"
   },
   {
    "duration": 15,
    "start_time": "2023-04-12T18:10:27.441Z"
   },
   {
    "duration": 6,
    "start_time": "2023-04-12T18:10:28.155Z"
   },
   {
    "duration": 17,
    "start_time": "2023-04-12T18:13:34.561Z"
   },
   {
    "duration": 18,
    "start_time": "2023-04-12T18:13:48.376Z"
   },
   {
    "duration": 17,
    "start_time": "2023-04-12T18:13:51.687Z"
   },
   {
    "duration": 5,
    "start_time": "2023-04-12T18:16:17.105Z"
   },
   {
    "duration": 6,
    "start_time": "2023-04-12T18:18:04.322Z"
   },
   {
    "duration": 1391,
    "start_time": "2023-04-12T18:18:52.356Z"
   },
   {
    "duration": 18,
    "start_time": "2023-04-12T18:19:26.872Z"
   },
   {
    "duration": 17,
    "start_time": "2023-04-12T18:20:42.719Z"
   },
   {
    "duration": 31,
    "start_time": "2023-04-12T18:21:00.275Z"
   },
   {
    "duration": 24,
    "start_time": "2023-04-12T18:21:11.896Z"
   },
   {
    "duration": 25,
    "start_time": "2023-04-12T18:21:20.512Z"
   },
   {
    "duration": 32,
    "start_time": "2023-04-12T18:21:38.500Z"
   },
   {
    "duration": 39,
    "start_time": "2023-04-12T18:21:45.339Z"
   },
   {
    "duration": 11,
    "start_time": "2023-04-12T18:22:26.811Z"
   },
   {
    "duration": 10,
    "start_time": "2023-04-12T18:22:36.216Z"
   },
   {
    "duration": 13,
    "start_time": "2023-04-12T18:23:20.702Z"
   },
   {
    "duration": 5,
    "start_time": "2023-04-12T18:23:33.047Z"
   },
   {
    "duration": 1402,
    "start_time": "2023-04-12T18:24:33.705Z"
   },
   {
    "duration": 106,
    "start_time": "2023-04-12T18:24:37.732Z"
   },
   {
    "duration": 11,
    "start_time": "2023-04-12T18:24:43.082Z"
   },
   {
    "duration": 11,
    "start_time": "2023-04-12T18:25:12.893Z"
   },
   {
    "duration": 48,
    "start_time": "2023-04-12T18:26:09.105Z"
   },
   {
    "duration": 1092,
    "start_time": "2023-04-12T18:26:18.223Z"
   },
   {
    "duration": 14,
    "start_time": "2023-04-12T18:26:23.038Z"
   },
   {
    "duration": 772,
    "start_time": "2023-04-12T18:26:35.340Z"
   },
   {
    "duration": 95,
    "start_time": "2023-04-12T18:26:36.115Z"
   },
   {
    "duration": 38,
    "start_time": "2023-04-12T18:26:36.212Z"
   },
   {
    "duration": 21,
    "start_time": "2023-04-12T18:26:36.252Z"
   },
   {
    "duration": 19,
    "start_time": "2023-04-12T18:26:36.275Z"
   },
   {
    "duration": 17,
    "start_time": "2023-04-12T18:26:36.296Z"
   },
   {
    "duration": 5,
    "start_time": "2023-04-12T18:26:36.315Z"
   },
   {
    "duration": 5,
    "start_time": "2023-04-12T18:26:36.341Z"
   },
   {
    "duration": 16,
    "start_time": "2023-04-12T18:26:38.463Z"
   },
   {
    "duration": 6,
    "start_time": "2023-04-12T18:26:56.946Z"
   },
   {
    "duration": 4,
    "start_time": "2023-04-12T18:27:37.780Z"
   },
   {
    "duration": 6,
    "start_time": "2023-04-12T18:27:48.157Z"
   },
   {
    "duration": 16,
    "start_time": "2023-04-12T18:27:51.859Z"
   },
   {
    "duration": 655,
    "start_time": "2023-04-12T18:28:05.341Z"
   },
   {
    "duration": 93,
    "start_time": "2023-04-12T18:28:05.998Z"
   },
   {
    "duration": 39,
    "start_time": "2023-04-12T18:28:06.092Z"
   },
   {
    "duration": 22,
    "start_time": "2023-04-12T18:28:06.133Z"
   },
   {
    "duration": 22,
    "start_time": "2023-04-12T18:28:06.157Z"
   },
   {
    "duration": 21,
    "start_time": "2023-04-12T18:28:06.180Z"
   },
   {
    "duration": 26,
    "start_time": "2023-04-12T18:28:06.203Z"
   },
   {
    "duration": 7,
    "start_time": "2023-04-12T18:28:18.539Z"
   },
   {
    "duration": 5,
    "start_time": "2023-04-12T18:28:19.086Z"
   },
   {
    "duration": 11,
    "start_time": "2023-04-12T18:28:44.570Z"
   },
   {
    "duration": 12,
    "start_time": "2023-04-12T18:29:13.787Z"
   },
   {
    "duration": 6,
    "start_time": "2023-04-12T18:29:14.447Z"
   },
   {
    "duration": 710,
    "start_time": "2023-04-12T18:29:34.187Z"
   },
   {
    "duration": 2783,
    "start_time": "2023-04-12T18:30:04.732Z"
   },
   {
    "duration": 611,
    "start_time": "2023-04-12T18:30:14.076Z"
   },
   {
    "duration": 85,
    "start_time": "2023-04-12T18:30:14.689Z"
   },
   {
    "duration": 39,
    "start_time": "2023-04-12T18:30:14.776Z"
   },
   {
    "duration": 19,
    "start_time": "2023-04-12T18:30:14.817Z"
   },
   {
    "duration": 21,
    "start_time": "2023-04-12T18:30:14.838Z"
   },
   {
    "duration": 21,
    "start_time": "2023-04-12T18:30:17.767Z"
   },
   {
    "duration": 78,
    "start_time": "2023-04-12T18:31:25.520Z"
   },
   {
    "duration": 675,
    "start_time": "2023-04-12T18:31:32.581Z"
   },
   {
    "duration": 89,
    "start_time": "2023-04-12T18:31:33.258Z"
   },
   {
    "duration": 39,
    "start_time": "2023-04-12T18:31:33.349Z"
   },
   {
    "duration": 19,
    "start_time": "2023-04-12T18:31:33.390Z"
   },
   {
    "duration": 30,
    "start_time": "2023-04-12T18:31:33.410Z"
   },
   {
    "duration": 41,
    "start_time": "2023-04-12T18:31:33.442Z"
   },
   {
    "duration": 7,
    "start_time": "2023-04-12T18:31:33.485Z"
   },
   {
    "duration": 32,
    "start_time": "2023-04-12T18:31:33.494Z"
   },
   {
    "duration": 21,
    "start_time": "2023-04-12T18:31:33.528Z"
   },
   {
    "duration": 21,
    "start_time": "2023-04-12T18:31:33.551Z"
   },
   {
    "duration": 5,
    "start_time": "2023-04-12T18:31:35.430Z"
   },
   {
    "duration": 24,
    "start_time": "2023-04-12T18:31:35.953Z"
   },
   {
    "duration": 14,
    "start_time": "2023-04-12T18:32:07.723Z"
   },
   {
    "duration": 6,
    "start_time": "2023-04-12T18:32:44.686Z"
   },
   {
    "duration": 11,
    "start_time": "2023-04-12T18:32:46.800Z"
   },
   {
    "duration": 10,
    "start_time": "2023-04-12T18:32:51.184Z"
   },
   {
    "duration": 686,
    "start_time": "2023-04-12T18:32:57.514Z"
   },
   {
    "duration": 97,
    "start_time": "2023-04-12T18:32:58.202Z"
   },
   {
    "duration": 40,
    "start_time": "2023-04-12T18:32:58.301Z"
   },
   {
    "duration": 22,
    "start_time": "2023-04-12T18:32:58.351Z"
   },
   {
    "duration": 24,
    "start_time": "2023-04-12T18:32:58.375Z"
   },
   {
    "duration": 21,
    "start_time": "2023-04-12T18:32:58.402Z"
   },
   {
    "duration": 11,
    "start_time": "2023-04-12T18:32:58.425Z"
   },
   {
    "duration": 48,
    "start_time": "2023-04-12T18:32:58.444Z"
   },
   {
    "duration": 41,
    "start_time": "2023-04-12T18:32:58.494Z"
   },
   {
    "duration": 28,
    "start_time": "2023-04-12T18:32:58.539Z"
   },
   {
    "duration": 19,
    "start_time": "2023-04-12T18:33:01.406Z"
   },
   {
    "duration": 7,
    "start_time": "2023-04-12T18:33:06.770Z"
   },
   {
    "duration": 19,
    "start_time": "2023-04-12T18:33:09.846Z"
   },
   {
    "duration": 16,
    "start_time": "2023-04-12T18:33:45.347Z"
   },
   {
    "duration": 13,
    "start_time": "2023-04-12T18:34:20.756Z"
   },
   {
    "duration": 81,
    "start_time": "2023-04-12T18:35:02.168Z"
   },
   {
    "duration": 6,
    "start_time": "2023-04-12T18:35:12.093Z"
   },
   {
    "duration": 6,
    "start_time": "2023-04-12T18:35:12.970Z"
   },
   {
    "duration": 705,
    "start_time": "2023-04-12T18:35:22.716Z"
   },
   {
    "duration": 100,
    "start_time": "2023-04-12T18:35:23.423Z"
   },
   {
    "duration": 46,
    "start_time": "2023-04-12T18:35:23.524Z"
   },
   {
    "duration": 40,
    "start_time": "2023-04-12T18:35:23.573Z"
   },
   {
    "duration": 42,
    "start_time": "2023-04-12T18:35:23.615Z"
   },
   {
    "duration": 92,
    "start_time": "2023-04-12T18:35:23.659Z"
   },
   {
    "duration": 102,
    "start_time": "2023-04-12T18:35:23.757Z"
   },
   {
    "duration": 10,
    "start_time": "2023-04-12T18:35:26.914Z"
   },
   {
    "duration": 13,
    "start_time": "2023-04-12T18:35:29.052Z"
   },
   {
    "duration": 111,
    "start_time": "2023-04-12T18:35:30.576Z"
   },
   {
    "duration": 13,
    "start_time": "2023-04-12T18:35:59.886Z"
   },
   {
    "duration": 16,
    "start_time": "2023-04-12T18:36:00.367Z"
   },
   {
    "duration": 76,
    "start_time": "2023-04-12T18:37:37.307Z"
   },
   {
    "duration": 18,
    "start_time": "2023-04-12T18:37:42.255Z"
   },
   {
    "duration": 13,
    "start_time": "2023-04-12T18:37:50.354Z"
   },
   {
    "duration": 11,
    "start_time": "2023-04-12T18:37:51.983Z"
   },
   {
    "duration": 688,
    "start_time": "2023-04-12T18:37:57.158Z"
   },
   {
    "duration": 101,
    "start_time": "2023-04-12T18:37:57.853Z"
   },
   {
    "duration": 38,
    "start_time": "2023-04-12T18:37:57.957Z"
   },
   {
    "duration": 21,
    "start_time": "2023-04-12T18:37:57.998Z"
   },
   {
    "duration": 28,
    "start_time": "2023-04-12T18:37:58.021Z"
   },
   {
    "duration": 19,
    "start_time": "2023-04-12T18:37:58.053Z"
   },
   {
    "duration": 16,
    "start_time": "2023-04-12T18:37:58.074Z"
   },
   {
    "duration": 26,
    "start_time": "2023-04-12T18:37:58.092Z"
   },
   {
    "duration": 19,
    "start_time": "2023-04-12T18:38:00.636Z"
   },
   {
    "duration": 9,
    "start_time": "2023-04-12T18:38:00.970Z"
   },
   {
    "duration": 11,
    "start_time": "2023-04-12T18:39:09.689Z"
   },
   {
    "duration": 9,
    "start_time": "2023-04-12T18:39:10.792Z"
   },
   {
    "duration": 5,
    "start_time": "2023-04-12T18:39:24.996Z"
   },
   {
    "duration": 682,
    "start_time": "2023-04-12T18:39:38.453Z"
   },
   {
    "duration": 90,
    "start_time": "2023-04-12T18:39:39.136Z"
   },
   {
    "duration": 39,
    "start_time": "2023-04-12T18:39:39.228Z"
   },
   {
    "duration": 19,
    "start_time": "2023-04-12T18:39:39.269Z"
   },
   {
    "duration": 20,
    "start_time": "2023-04-12T18:39:39.290Z"
   },
   {
    "duration": 15,
    "start_time": "2023-04-12T18:39:39.312Z"
   },
   {
    "duration": 14,
    "start_time": "2023-04-12T18:39:39.328Z"
   },
   {
    "duration": 8,
    "start_time": "2023-04-12T18:39:43.118Z"
   },
   {
    "duration": 10,
    "start_time": "2023-04-12T18:39:44.891Z"
   },
   {
    "duration": 9,
    "start_time": "2023-04-12T18:39:47.403Z"
   },
   {
    "duration": 901,
    "start_time": "2023-04-12T18:40:12.444Z"
   },
   {
    "duration": 88,
    "start_time": "2023-04-12T18:40:13.347Z"
   },
   {
    "duration": 41,
    "start_time": "2023-04-12T18:40:13.437Z"
   },
   {
    "duration": 18,
    "start_time": "2023-04-12T18:40:13.480Z"
   },
   {
    "duration": 19,
    "start_time": "2023-04-12T18:40:13.500Z"
   },
   {
    "duration": 25,
    "start_time": "2023-04-12T18:40:13.521Z"
   },
   {
    "duration": 5,
    "start_time": "2023-04-12T18:40:13.548Z"
   },
   {
    "duration": 6,
    "start_time": "2023-04-12T18:40:15.497Z"
   },
   {
    "duration": 11,
    "start_time": "2023-04-12T18:40:15.818Z"
   },
   {
    "duration": 12,
    "start_time": "2023-04-12T18:40:16.275Z"
   },
   {
    "duration": 9,
    "start_time": "2023-04-12T18:40:17.445Z"
   },
   {
    "duration": 6,
    "start_time": "2023-04-12T18:40:36.145Z"
   },
   {
    "duration": 4,
    "start_time": "2023-04-12T18:40:47.176Z"
   },
   {
    "duration": 11,
    "start_time": "2023-04-12T18:43:39.892Z"
   },
   {
    "duration": 10,
    "start_time": "2023-04-12T18:43:40.235Z"
   },
   {
    "duration": 73,
    "start_time": "2023-04-12T18:43:42.949Z"
   },
   {
    "duration": 5,
    "start_time": "2023-04-12T18:43:58.670Z"
   },
   {
    "duration": 10,
    "start_time": "2023-04-12T18:44:11.278Z"
   },
   {
    "duration": 13,
    "start_time": "2023-04-12T18:44:11.675Z"
   },
   {
    "duration": 4,
    "start_time": "2023-04-12T18:44:12.734Z"
   },
   {
    "duration": 10,
    "start_time": "2023-04-12T18:44:16.071Z"
   },
   {
    "duration": 655,
    "start_time": "2023-04-12T18:44:29.034Z"
   },
   {
    "duration": 87,
    "start_time": "2023-04-12T18:44:29.691Z"
   },
   {
    "duration": 39,
    "start_time": "2023-04-12T18:44:29.780Z"
   },
   {
    "duration": 19,
    "start_time": "2023-04-12T18:44:29.822Z"
   },
   {
    "duration": 21,
    "start_time": "2023-04-12T18:44:29.844Z"
   },
   {
    "duration": 17,
    "start_time": "2023-04-12T18:44:29.866Z"
   },
   {
    "duration": 5,
    "start_time": "2023-04-12T18:44:29.884Z"
   },
   {
    "duration": 19,
    "start_time": "2023-04-12T18:44:29.890Z"
   },
   {
    "duration": 8,
    "start_time": "2023-04-12T18:44:31.044Z"
   },
   {
    "duration": 11,
    "start_time": "2023-04-12T18:44:31.323Z"
   },
   {
    "duration": 8,
    "start_time": "2023-04-12T18:44:31.971Z"
   },
   {
    "duration": 7,
    "start_time": "2023-04-12T18:44:33.459Z"
   },
   {
    "duration": 19,
    "start_time": "2023-04-12T18:44:35.263Z"
   },
   {
    "duration": 4,
    "start_time": "2023-04-12T18:44:57.560Z"
   },
   {
    "duration": 5,
    "start_time": "2023-04-12T18:45:06.105Z"
   },
   {
    "duration": 6,
    "start_time": "2023-04-12T18:45:21.777Z"
   },
   {
    "duration": 72,
    "start_time": "2023-04-12T18:45:48.783Z"
   },
   {
    "duration": 9,
    "start_time": "2023-04-12T18:46:14.225Z"
   },
   {
    "duration": 13,
    "start_time": "2023-04-12T18:46:59.369Z"
   },
   {
    "duration": 10,
    "start_time": "2023-04-12T18:46:59.765Z"
   },
   {
    "duration": 620,
    "start_time": "2023-04-12T18:47:11.486Z"
   },
   {
    "duration": 88,
    "start_time": "2023-04-12T18:47:12.108Z"
   },
   {
    "duration": 39,
    "start_time": "2023-04-12T18:47:12.198Z"
   },
   {
    "duration": 18,
    "start_time": "2023-04-12T18:47:12.238Z"
   },
   {
    "duration": 20,
    "start_time": "2023-04-12T18:47:12.258Z"
   },
   {
    "duration": 48,
    "start_time": "2023-04-12T18:47:12.279Z"
   },
   {
    "duration": 9,
    "start_time": "2023-04-12T18:47:12.329Z"
   },
   {
    "duration": 26,
    "start_time": "2023-04-12T18:47:12.339Z"
   },
   {
    "duration": 8,
    "start_time": "2023-04-12T18:47:15.894Z"
   },
   {
    "duration": 12,
    "start_time": "2023-04-12T18:47:16.483Z"
   },
   {
    "duration": 10,
    "start_time": "2023-04-12T18:47:19.545Z"
   },
   {
    "duration": 9,
    "start_time": "2023-04-12T18:47:20.478Z"
   },
   {
    "duration": 6,
    "start_time": "2023-04-12T18:47:26.074Z"
   },
   {
    "duration": 11,
    "start_time": "2023-04-12T18:47:26.950Z"
   },
   {
    "duration": 3,
    "start_time": "2023-04-12T18:47:37.570Z"
   },
   {
    "duration": 86,
    "start_time": "2023-04-12T18:47:51.653Z"
   },
   {
    "duration": 10,
    "start_time": "2023-04-12T18:48:13.273Z"
   },
   {
    "duration": 8,
    "start_time": "2023-04-12T18:48:13.608Z"
   },
   {
    "duration": 642,
    "start_time": "2023-04-12T19:04:13.962Z"
   },
   {
    "duration": 86,
    "start_time": "2023-04-12T19:04:14.607Z"
   },
   {
    "duration": 40,
    "start_time": "2023-04-12T19:04:14.695Z"
   },
   {
    "duration": 20,
    "start_time": "2023-04-12T19:04:14.737Z"
   },
   {
    "duration": 20,
    "start_time": "2023-04-12T19:04:14.759Z"
   },
   {
    "duration": 17,
    "start_time": "2023-04-12T19:04:14.781Z"
   },
   {
    "duration": 5,
    "start_time": "2023-04-12T19:04:14.799Z"
   },
   {
    "duration": 40,
    "start_time": "2023-04-12T19:04:14.806Z"
   },
   {
    "duration": 69,
    "start_time": "2023-04-12T19:04:16.323Z"
   },
   {
    "duration": 17,
    "start_time": "2023-04-12T19:04:21.976Z"
   },
   {
    "duration": 13,
    "start_time": "2023-04-12T19:04:32.958Z"
   },
   {
    "duration": 12,
    "start_time": "2023-04-12T19:04:37.396Z"
   },
   {
    "duration": 21,
    "start_time": "2023-04-12T19:04:55.214Z"
   },
   {
    "duration": 15,
    "start_time": "2023-04-12T19:04:59.611Z"
   },
   {
    "duration": 15,
    "start_time": "2023-04-12T19:05:28.840Z"
   },
   {
    "duration": 22,
    "start_time": "2023-04-12T19:05:31.435Z"
   },
   {
    "duration": 11,
    "start_time": "2023-04-12T19:05:43.296Z"
   },
   {
    "duration": 10,
    "start_time": "2023-04-12T19:05:57.821Z"
   },
   {
    "duration": 12,
    "start_time": "2023-04-12T19:06:33.387Z"
   },
   {
    "duration": 17,
    "start_time": "2023-04-12T19:07:13.907Z"
   },
   {
    "duration": 15,
    "start_time": "2023-04-12T19:07:16.855Z"
   },
   {
    "duration": 15,
    "start_time": "2023-04-12T19:07:22.564Z"
   },
   {
    "duration": 663,
    "start_time": "2023-04-12T19:07:27.183Z"
   },
   {
    "duration": 95,
    "start_time": "2023-04-12T19:07:27.848Z"
   },
   {
    "duration": 55,
    "start_time": "2023-04-12T19:07:27.946Z"
   },
   {
    "duration": 21,
    "start_time": "2023-04-12T19:07:28.003Z"
   },
   {
    "duration": 24,
    "start_time": "2023-04-12T19:07:28.026Z"
   },
   {
    "duration": 43,
    "start_time": "2023-04-12T19:07:28.052Z"
   },
   {
    "duration": 6,
    "start_time": "2023-04-12T19:07:28.096Z"
   },
   {
    "duration": 29,
    "start_time": "2023-04-12T19:07:28.103Z"
   },
   {
    "duration": 15,
    "start_time": "2023-04-12T19:07:35.721Z"
   },
   {
    "duration": 15,
    "start_time": "2023-04-12T19:08:12.159Z"
   },
   {
    "duration": 681,
    "start_time": "2023-04-12T19:08:18.604Z"
   },
   {
    "duration": 88,
    "start_time": "2023-04-12T19:08:19.289Z"
   },
   {
    "duration": 39,
    "start_time": "2023-04-12T19:08:19.379Z"
   },
   {
    "duration": 20,
    "start_time": "2023-04-12T19:08:19.420Z"
   },
   {
    "duration": 21,
    "start_time": "2023-04-12T19:08:19.442Z"
   },
   {
    "duration": 17,
    "start_time": "2023-04-12T19:08:19.465Z"
   },
   {
    "duration": 23,
    "start_time": "2023-04-12T19:08:19.483Z"
   },
   {
    "duration": 22,
    "start_time": "2023-04-12T19:08:19.508Z"
   },
   {
    "duration": 17,
    "start_time": "2023-04-12T19:08:21.090Z"
   },
   {
    "duration": 16,
    "start_time": "2023-04-12T19:08:25.870Z"
   },
   {
    "duration": 653,
    "start_time": "2023-04-12T19:08:29.470Z"
   },
   {
    "duration": 96,
    "start_time": "2023-04-12T19:08:30.125Z"
   },
   {
    "duration": 45,
    "start_time": "2023-04-12T19:08:30.223Z"
   },
   {
    "duration": 161,
    "start_time": "2023-04-12T19:08:30.271Z"
   },
   {
    "duration": 91,
    "start_time": "2023-04-12T19:08:30.434Z"
   },
   {
    "duration": 172,
    "start_time": "2023-04-12T19:08:30.527Z"
   },
   {
    "duration": 68,
    "start_time": "2023-04-12T19:08:30.701Z"
   },
   {
    "duration": 71,
    "start_time": "2023-04-12T19:08:30.771Z"
   },
   {
    "duration": 19,
    "start_time": "2023-04-12T19:08:32.088Z"
   },
   {
    "duration": 52,
    "start_time": "2023-04-12T19:09:02.092Z"
   },
   {
    "duration": 675,
    "start_time": "2023-04-12T19:09:07.621Z"
   },
   {
    "duration": 88,
    "start_time": "2023-04-12T19:09:08.298Z"
   },
   {
    "duration": 39,
    "start_time": "2023-04-12T19:09:08.387Z"
   },
   {
    "duration": 38,
    "start_time": "2023-04-12T19:09:08.428Z"
   },
   {
    "duration": 59,
    "start_time": "2023-04-12T19:09:08.469Z"
   },
   {
    "duration": 28,
    "start_time": "2023-04-12T19:09:08.530Z"
   },
   {
    "duration": 9,
    "start_time": "2023-04-12T19:09:08.560Z"
   },
   {
    "duration": 17,
    "start_time": "2023-04-12T19:09:08.571Z"
   },
   {
    "duration": 16,
    "start_time": "2023-04-12T19:09:15.635Z"
   },
   {
    "duration": 673,
    "start_time": "2023-04-12T19:09:24.901Z"
   },
   {
    "duration": 90,
    "start_time": "2023-04-12T19:09:25.576Z"
   },
   {
    "duration": 40,
    "start_time": "2023-04-12T19:09:25.668Z"
   },
   {
    "duration": 21,
    "start_time": "2023-04-12T19:09:25.710Z"
   },
   {
    "duration": 29,
    "start_time": "2023-04-12T19:09:25.734Z"
   },
   {
    "duration": 17,
    "start_time": "2023-04-12T19:09:25.765Z"
   },
   {
    "duration": 6,
    "start_time": "2023-04-12T19:09:25.784Z"
   },
   {
    "duration": 11,
    "start_time": "2023-04-12T19:09:25.791Z"
   },
   {
    "duration": 15,
    "start_time": "2023-04-12T19:09:30.956Z"
   },
   {
    "duration": 14,
    "start_time": "2023-04-12T19:09:39.609Z"
   },
   {
    "duration": 18,
    "start_time": "2023-04-12T19:10:05.489Z"
   },
   {
    "duration": 16,
    "start_time": "2023-04-12T19:10:06.055Z"
   },
   {
    "duration": 13,
    "start_time": "2023-04-12T19:10:10.158Z"
   },
   {
    "duration": 641,
    "start_time": "2023-04-12T19:10:14.869Z"
   },
   {
    "duration": 85,
    "start_time": "2023-04-12T19:10:15.513Z"
   },
   {
    "duration": 39,
    "start_time": "2023-04-12T19:10:15.599Z"
   },
   {
    "duration": 23,
    "start_time": "2023-04-12T19:10:15.640Z"
   },
   {
    "duration": 26,
    "start_time": "2023-04-12T19:10:15.665Z"
   },
   {
    "duration": 17,
    "start_time": "2023-04-12T19:10:15.693Z"
   },
   {
    "duration": 5,
    "start_time": "2023-04-12T19:10:15.712Z"
   },
   {
    "duration": 11,
    "start_time": "2023-04-12T19:10:15.742Z"
   },
   {
    "duration": 12,
    "start_time": "2023-04-12T19:10:18.260Z"
   },
   {
    "duration": 13,
    "start_time": "2023-04-12T19:10:21.847Z"
   },
   {
    "duration": 12,
    "start_time": "2023-04-12T19:10:25.105Z"
   },
   {
    "duration": 13,
    "start_time": "2023-04-12T19:10:26.899Z"
   },
   {
    "duration": 640,
    "start_time": "2023-04-12T19:10:41.960Z"
   },
   {
    "duration": 88,
    "start_time": "2023-04-12T19:10:42.602Z"
   },
   {
    "duration": 39,
    "start_time": "2023-04-12T19:10:42.693Z"
   },
   {
    "duration": 21,
    "start_time": "2023-04-12T19:10:42.734Z"
   },
   {
    "duration": 29,
    "start_time": "2023-04-12T19:10:42.756Z"
   },
   {
    "duration": 20,
    "start_time": "2023-04-12T19:10:42.787Z"
   },
   {
    "duration": 11,
    "start_time": "2023-04-12T19:10:42.809Z"
   },
   {
    "duration": 26,
    "start_time": "2023-04-12T19:10:42.842Z"
   },
   {
    "duration": 74,
    "start_time": "2023-04-12T19:10:51.869Z"
   },
   {
    "duration": 12,
    "start_time": "2023-04-12T19:10:54.260Z"
   },
   {
    "duration": 5,
    "start_time": "2023-04-12T19:10:56.411Z"
   },
   {
    "duration": 6,
    "start_time": "2023-04-12T19:10:59.767Z"
   },
   {
    "duration": 5,
    "start_time": "2023-04-12T19:11:04.684Z"
   },
   {
    "duration": 4,
    "start_time": "2023-04-12T19:12:00.108Z"
   },
   {
    "duration": 4,
    "start_time": "2023-04-12T19:12:02.682Z"
   },
   {
    "duration": 6,
    "start_time": "2023-04-12T19:12:09.574Z"
   },
   {
    "duration": 9,
    "start_time": "2023-04-12T19:12:27.001Z"
   },
   {
    "duration": 7,
    "start_time": "2023-04-12T19:12:54.058Z"
   },
   {
    "duration": 673,
    "start_time": "2023-04-12T19:13:17.413Z"
   },
   {
    "duration": 89,
    "start_time": "2023-04-12T19:13:18.088Z"
   },
   {
    "duration": 38,
    "start_time": "2023-04-12T19:13:18.179Z"
   },
   {
    "duration": 18,
    "start_time": "2023-04-12T19:13:18.219Z"
   },
   {
    "duration": 37,
    "start_time": "2023-04-12T19:13:18.239Z"
   },
   {
    "duration": 25,
    "start_time": "2023-04-12T19:13:18.278Z"
   },
   {
    "duration": 19,
    "start_time": "2023-04-12T19:13:18.306Z"
   },
   {
    "duration": 9,
    "start_time": "2023-04-12T19:13:19.375Z"
   },
   {
    "duration": 11,
    "start_time": "2023-04-12T19:13:19.654Z"
   },
   {
    "duration": 9,
    "start_time": "2023-04-12T19:13:20.260Z"
   },
   {
    "duration": 19,
    "start_time": "2023-04-12T19:13:28.894Z"
   },
   {
    "duration": 7,
    "start_time": "2023-04-12T19:13:29.454Z"
   },
   {
    "duration": 27,
    "start_time": "2023-04-12T19:13:34.553Z"
   },
   {
    "duration": 11,
    "start_time": "2023-04-12T19:13:53.158Z"
   },
   {
    "duration": 25,
    "start_time": "2023-04-12T19:24:38.052Z"
   },
   {
    "duration": 11,
    "start_time": "2023-04-12T19:25:59.036Z"
   },
   {
    "duration": 78,
    "start_time": "2023-04-12T19:28:20.955Z"
   },
   {
    "duration": 40,
    "start_time": "2023-04-12T19:28:47.342Z"
   },
   {
    "duration": 23,
    "start_time": "2023-04-12T19:29:29.998Z"
   },
   {
    "duration": 13,
    "start_time": "2023-04-12T19:29:52.191Z"
   },
   {
    "duration": 15,
    "start_time": "2023-04-12T19:30:55.417Z"
   },
   {
    "duration": 8,
    "start_time": "2023-04-12T19:31:03.281Z"
   },
   {
    "duration": 649,
    "start_time": "2023-04-12T19:31:09.953Z"
   },
   {
    "duration": 85,
    "start_time": "2023-04-12T19:31:10.604Z"
   },
   {
    "duration": 39,
    "start_time": "2023-04-12T19:31:10.691Z"
   },
   {
    "duration": 18,
    "start_time": "2023-04-12T19:31:10.731Z"
   },
   {
    "duration": 18,
    "start_time": "2023-04-12T19:31:10.751Z"
   },
   {
    "duration": 14,
    "start_time": "2023-04-12T19:31:10.771Z"
   },
   {
    "duration": 5,
    "start_time": "2023-04-12T19:31:10.786Z"
   },
   {
    "duration": 24,
    "start_time": "2023-04-12T19:31:10.793Z"
   },
   {
    "duration": 24,
    "start_time": "2023-04-12T19:31:10.818Z"
   },
   {
    "duration": 8,
    "start_time": "2023-04-12T19:31:10.844Z"
   },
   {
    "duration": 19,
    "start_time": "2023-04-12T19:31:10.854Z"
   },
   {
    "duration": 6,
    "start_time": "2023-04-12T19:31:10.875Z"
   },
   {
    "duration": 28,
    "start_time": "2023-04-12T19:31:10.882Z"
   },
   {
    "duration": 32,
    "start_time": "2023-04-12T19:31:10.913Z"
   },
   {
    "duration": 24,
    "start_time": "2023-04-12T19:31:10.946Z"
   },
   {
    "duration": 26,
    "start_time": "2023-04-12T19:31:13.169Z"
   },
   {
    "duration": 14,
    "start_time": "2023-04-12T19:31:14.092Z"
   },
   {
    "duration": 12,
    "start_time": "2023-04-12T19:32:00.302Z"
   },
   {
    "duration": 657,
    "start_time": "2023-04-12T19:32:08.911Z"
   },
   {
    "duration": 83,
    "start_time": "2023-04-12T19:32:09.570Z"
   },
   {
    "duration": 38,
    "start_time": "2023-04-12T19:32:09.655Z"
   },
   {
    "duration": 19,
    "start_time": "2023-04-12T19:32:09.695Z"
   },
   {
    "duration": 19,
    "start_time": "2023-04-12T19:32:09.716Z"
   },
   {
    "duration": 16,
    "start_time": "2023-04-12T19:32:09.737Z"
   },
   {
    "duration": 10,
    "start_time": "2023-04-12T19:32:09.754Z"
   },
   {
    "duration": 19,
    "start_time": "2023-04-12T19:32:09.765Z"
   },
   {
    "duration": 29,
    "start_time": "2023-04-12T19:32:09.786Z"
   },
   {
    "duration": 34,
    "start_time": "2023-04-12T19:32:09.818Z"
   },
   {
    "duration": 45,
    "start_time": "2023-04-12T19:32:09.854Z"
   },
   {
    "duration": 7,
    "start_time": "2023-04-12T19:32:09.901Z"
   },
   {
    "duration": 21,
    "start_time": "2023-04-12T19:32:09.909Z"
   },
   {
    "duration": 13,
    "start_time": "2023-04-12T19:32:09.931Z"
   },
   {
    "duration": 14,
    "start_time": "2023-04-12T19:32:51.332Z"
   },
   {
    "duration": 11,
    "start_time": "2023-04-12T19:32:56.772Z"
   },
   {
    "duration": 645,
    "start_time": "2023-04-12T19:33:03.633Z"
   },
   {
    "duration": 85,
    "start_time": "2023-04-12T19:33:04.279Z"
   },
   {
    "duration": 128,
    "start_time": "2023-04-12T19:33:04.365Z"
   },
   {
    "duration": 18,
    "start_time": "2023-04-12T19:33:04.495Z"
   },
   {
    "duration": 21,
    "start_time": "2023-04-12T19:33:04.515Z"
   },
   {
    "duration": 26,
    "start_time": "2023-04-12T19:33:04.537Z"
   },
   {
    "duration": 6,
    "start_time": "2023-04-12T19:33:04.565Z"
   },
   {
    "duration": 20,
    "start_time": "2023-04-12T19:33:04.573Z"
   },
   {
    "duration": 30,
    "start_time": "2023-04-12T19:33:04.595Z"
   },
   {
    "duration": 24,
    "start_time": "2023-04-12T19:33:04.628Z"
   },
   {
    "duration": 36,
    "start_time": "2023-04-12T19:33:04.654Z"
   },
   {
    "duration": 8,
    "start_time": "2023-04-12T19:33:04.691Z"
   },
   {
    "duration": 45,
    "start_time": "2023-04-12T19:33:04.700Z"
   },
   {
    "duration": 10,
    "start_time": "2023-04-12T19:33:04.747Z"
   },
   {
    "duration": 34,
    "start_time": "2023-04-12T19:33:11.231Z"
   },
   {
    "duration": 13,
    "start_time": "2023-04-12T19:33:16.567Z"
   },
   {
    "duration": 13,
    "start_time": "2023-04-12T19:35:08.589Z"
   },
   {
    "duration": 741,
    "start_time": "2023-04-12T19:35:16.153Z"
   },
   {
    "duration": 91,
    "start_time": "2023-04-12T19:35:16.896Z"
   },
   {
    "duration": 41,
    "start_time": "2023-04-12T19:35:16.989Z"
   },
   {
    "duration": 22,
    "start_time": "2023-04-12T19:35:17.031Z"
   },
   {
    "duration": 24,
    "start_time": "2023-04-12T19:35:17.056Z"
   },
   {
    "duration": 24,
    "start_time": "2023-04-12T19:35:17.082Z"
   },
   {
    "duration": 5,
    "start_time": "2023-04-12T19:35:17.108Z"
   },
   {
    "duration": 17,
    "start_time": "2023-04-12T19:35:17.114Z"
   },
   {
    "duration": 22,
    "start_time": "2023-04-12T19:35:17.132Z"
   },
   {
    "duration": 14,
    "start_time": "2023-04-12T19:35:17.156Z"
   },
   {
    "duration": 19,
    "start_time": "2023-04-12T19:35:17.172Z"
   },
   {
    "duration": 8,
    "start_time": "2023-04-12T19:35:17.193Z"
   },
   {
    "duration": 51,
    "start_time": "2023-04-12T19:35:17.203Z"
   },
   {
    "duration": 12,
    "start_time": "2023-04-12T19:35:17.257Z"
   },
   {
    "duration": 13,
    "start_time": "2023-04-12T19:35:19.191Z"
   },
   {
    "duration": 28,
    "start_time": "2023-04-12T19:35:22.191Z"
   },
   {
    "duration": 17,
    "start_time": "2023-04-12T19:35:39.056Z"
   },
   {
    "duration": 16,
    "start_time": "2023-04-12T19:36:02.551Z"
   },
   {
    "duration": 13,
    "start_time": "2023-04-12T19:36:09.151Z"
   },
   {
    "duration": 12,
    "start_time": "2023-04-12T19:36:17.226Z"
   },
   {
    "duration": 14,
    "start_time": "2023-04-12T19:37:01.211Z"
   },
   {
    "duration": 10,
    "start_time": "2023-04-12T19:37:01.697Z"
   },
   {
    "duration": 32,
    "start_time": "2023-04-12T19:37:21.764Z"
   },
   {
    "duration": 15,
    "start_time": "2023-04-12T19:39:26.492Z"
   },
   {
    "duration": 28,
    "start_time": "2023-04-12T19:39:27.280Z"
   },
   {
    "duration": 23,
    "start_time": "2023-04-12T19:39:51.392Z"
   },
   {
    "duration": 28,
    "start_time": "2023-04-12T19:39:53.860Z"
   },
   {
    "duration": 25,
    "start_time": "2023-04-12T19:43:48.394Z"
   },
   {
    "duration": 22,
    "start_time": "2023-04-12T19:44:04.495Z"
   },
   {
    "duration": 25,
    "start_time": "2023-04-12T19:44:42.912Z"
   },
   {
    "duration": 21,
    "start_time": "2023-04-12T19:45:14.087Z"
   },
   {
    "duration": 7,
    "start_time": "2023-04-12T19:47:36.040Z"
   },
   {
    "duration": 13,
    "start_time": "2023-04-12T19:47:45.622Z"
   },
   {
    "duration": 10,
    "start_time": "2023-04-12T19:48:20.586Z"
   },
   {
    "duration": 9,
    "start_time": "2023-04-12T19:48:27.617Z"
   },
   {
    "duration": 11,
    "start_time": "2023-04-12T19:48:35.198Z"
   },
   {
    "duration": 7,
    "start_time": "2023-04-12T19:48:44.390Z"
   },
   {
    "duration": 8,
    "start_time": "2023-04-12T19:48:55.707Z"
   },
   {
    "duration": 10,
    "start_time": "2023-04-12T19:49:15.768Z"
   },
   {
    "duration": 83,
    "start_time": "2023-04-12T19:49:21.977Z"
   },
   {
    "duration": 10,
    "start_time": "2023-04-12T19:49:25.229Z"
   },
   {
    "duration": 11,
    "start_time": "2023-04-12T19:49:43.991Z"
   },
   {
    "duration": 12,
    "start_time": "2023-04-12T19:49:47.905Z"
   },
   {
    "duration": 12,
    "start_time": "2023-04-12T19:49:52.771Z"
   },
   {
    "duration": 13,
    "start_time": "2023-04-12T19:49:54.476Z"
   },
   {
    "duration": 25,
    "start_time": "2023-04-12T19:50:26.409Z"
   },
   {
    "duration": 1137,
    "start_time": "2023-04-12T19:52:26.642Z"
   },
   {
    "duration": 85,
    "start_time": "2023-04-12T19:52:35.270Z"
   },
   {
    "duration": 661,
    "start_time": "2023-04-12T19:52:45.570Z"
   },
   {
    "duration": 98,
    "start_time": "2023-04-12T19:52:46.234Z"
   },
   {
    "duration": 40,
    "start_time": "2023-04-12T19:52:46.334Z"
   },
   {
    "duration": 23,
    "start_time": "2023-04-12T19:52:46.376Z"
   },
   {
    "duration": 35,
    "start_time": "2023-04-12T19:52:46.402Z"
   },
   {
    "duration": 42,
    "start_time": "2023-04-12T19:52:46.439Z"
   },
   {
    "duration": 32,
    "start_time": "2023-04-12T19:52:46.483Z"
   },
   {
    "duration": 41,
    "start_time": "2023-04-12T19:52:46.517Z"
   },
   {
    "duration": 78,
    "start_time": "2023-04-12T19:52:46.561Z"
   },
   {
    "duration": 83,
    "start_time": "2023-04-12T19:52:46.642Z"
   },
   {
    "duration": 64,
    "start_time": "2023-04-12T19:52:46.728Z"
   },
   {
    "duration": 9,
    "start_time": "2023-04-12T19:52:46.795Z"
   },
   {
    "duration": 22,
    "start_time": "2023-04-12T19:52:46.806Z"
   },
   {
    "duration": 33,
    "start_time": "2023-04-12T19:52:46.833Z"
   },
   {
    "duration": 43,
    "start_time": "2023-04-12T19:52:46.868Z"
   },
   {
    "duration": 39,
    "start_time": "2023-04-12T19:52:46.913Z"
   },
   {
    "duration": 22,
    "start_time": "2023-04-12T19:52:46.955Z"
   },
   {
    "duration": 92,
    "start_time": "2023-04-12T19:52:46.979Z"
   },
   {
    "duration": 93,
    "start_time": "2023-04-12T19:52:55.170Z"
   },
   {
    "duration": 12,
    "start_time": "2023-04-12T19:53:14.956Z"
   },
   {
    "duration": 103,
    "start_time": "2023-04-12T19:53:20.731Z"
   },
   {
    "duration": 94,
    "start_time": "2023-04-12T19:53:37.850Z"
   },
   {
    "duration": 30,
    "start_time": "2023-04-12T19:53:43.921Z"
   },
   {
    "duration": 29,
    "start_time": "2023-04-12T19:55:38.274Z"
   },
   {
    "duration": 790,
    "start_time": "2023-04-12T19:56:16.538Z"
   },
   {
    "duration": 105,
    "start_time": "2023-04-12T19:56:17.331Z"
   },
   {
    "duration": 42,
    "start_time": "2023-04-12T19:56:17.440Z"
   },
   {
    "duration": 31,
    "start_time": "2023-04-12T19:56:17.485Z"
   },
   {
    "duration": 30,
    "start_time": "2023-04-12T19:56:17.518Z"
   },
   {
    "duration": 46,
    "start_time": "2023-04-12T19:56:17.551Z"
   },
   {
    "duration": 20,
    "start_time": "2023-04-12T19:56:17.600Z"
   },
   {
    "duration": 36,
    "start_time": "2023-04-12T19:56:17.622Z"
   },
   {
    "duration": 18,
    "start_time": "2023-04-12T19:56:17.661Z"
   },
   {
    "duration": 12,
    "start_time": "2023-04-12T19:56:17.682Z"
   },
   {
    "duration": 33,
    "start_time": "2023-04-12T19:56:17.696Z"
   },
   {
    "duration": 8,
    "start_time": "2023-04-12T19:56:17.743Z"
   },
   {
    "duration": 45,
    "start_time": "2023-04-12T19:56:17.753Z"
   },
   {
    "duration": 18,
    "start_time": "2023-04-12T19:56:17.801Z"
   },
   {
    "duration": 43,
    "start_time": "2023-04-12T19:56:17.842Z"
   },
   {
    "duration": 25,
    "start_time": "2023-04-12T19:56:17.888Z"
   },
   {
    "duration": 41,
    "start_time": "2023-04-12T19:56:17.916Z"
   },
   {
    "duration": 44,
    "start_time": "2023-04-12T19:56:20.972Z"
   },
   {
    "duration": 42,
    "start_time": "2023-04-12T19:56:38.933Z"
   },
   {
    "duration": 34,
    "start_time": "2023-04-12T19:56:51.253Z"
   },
   {
    "duration": 44,
    "start_time": "2023-04-12T19:56:56.446Z"
   },
   {
    "duration": 44,
    "start_time": "2023-04-12T19:57:36.480Z"
   },
   {
    "duration": 979,
    "start_time": "2023-04-12T19:58:44.198Z"
   },
   {
    "duration": 125,
    "start_time": "2023-04-12T19:58:45.180Z"
   },
   {
    "duration": 41,
    "start_time": "2023-04-12T19:58:45.307Z"
   },
   {
    "duration": 30,
    "start_time": "2023-04-12T19:58:45.352Z"
   },
   {
    "duration": 34,
    "start_time": "2023-04-12T19:58:45.385Z"
   },
   {
    "duration": 46,
    "start_time": "2023-04-12T19:58:45.421Z"
   },
   {
    "duration": 8,
    "start_time": "2023-04-12T19:58:45.470Z"
   },
   {
    "duration": 20,
    "start_time": "2023-04-12T19:58:45.480Z"
   },
   {
    "duration": 55,
    "start_time": "2023-04-12T19:58:45.503Z"
   },
   {
    "duration": 20,
    "start_time": "2023-04-12T19:58:45.561Z"
   },
   {
    "duration": 39,
    "start_time": "2023-04-12T19:58:45.583Z"
   },
   {
    "duration": 45,
    "start_time": "2023-04-12T19:58:45.626Z"
   },
   {
    "duration": 34,
    "start_time": "2023-04-12T19:58:46.755Z"
   },
   {
    "duration": 20,
    "start_time": "2023-04-12T19:58:48.587Z"
   },
   {
    "duration": 46,
    "start_time": "2023-04-12T19:58:51.947Z"
   },
   {
    "duration": 27,
    "start_time": "2023-04-12T19:58:54.320Z"
   },
   {
    "duration": 19,
    "start_time": "2023-04-12T19:58:55.032Z"
   },
   {
    "duration": 8,
    "start_time": "2023-04-12T19:58:57.360Z"
   },
   {
    "duration": 13,
    "start_time": "2023-04-12T20:00:44.125Z"
   },
   {
    "duration": 11,
    "start_time": "2023-04-12T20:00:44.556Z"
   },
   {
    "duration": 5,
    "start_time": "2023-04-12T20:00:46.687Z"
   },
   {
    "duration": 10,
    "start_time": "2023-04-12T20:01:14.526Z"
   },
   {
    "duration": 4,
    "start_time": "2023-04-12T20:01:15.328Z"
   },
   {
    "duration": 7,
    "start_time": "2023-04-12T20:02:18.395Z"
   },
   {
    "duration": 93,
    "start_time": "2023-04-12T20:02:18.717Z"
   },
   {
    "duration": 5,
    "start_time": "2023-04-12T20:02:18.959Z"
   },
   {
    "duration": 19,
    "start_time": "2023-04-12T20:02:33.272Z"
   },
   {
    "duration": 15,
    "start_time": "2023-04-12T20:02:37.873Z"
   },
   {
    "duration": 9,
    "start_time": "2023-04-12T20:02:55.066Z"
   },
   {
    "duration": 13,
    "start_time": "2023-04-12T20:02:59.657Z"
   },
   {
    "duration": 13,
    "start_time": "2023-04-12T20:03:03.256Z"
   },
   {
    "duration": 746,
    "start_time": "2023-04-12T20:03:09.556Z"
   },
   {
    "duration": 100,
    "start_time": "2023-04-12T20:03:10.305Z"
   },
   {
    "duration": 39,
    "start_time": "2023-04-12T20:03:10.407Z"
   },
   {
    "duration": 19,
    "start_time": "2023-04-12T20:03:10.448Z"
   },
   {
    "duration": 20,
    "start_time": "2023-04-12T20:03:10.469Z"
   },
   {
    "duration": 18,
    "start_time": "2023-04-12T20:03:10.491Z"
   },
   {
    "duration": 32,
    "start_time": "2023-04-12T20:03:10.510Z"
   },
   {
    "duration": 10,
    "start_time": "2023-04-12T20:03:10.544Z"
   },
   {
    "duration": 12,
    "start_time": "2023-04-12T20:03:10.556Z"
   },
   {
    "duration": 23,
    "start_time": "2023-04-12T20:03:10.569Z"
   },
   {
    "duration": 27,
    "start_time": "2023-04-12T20:03:10.593Z"
   },
   {
    "duration": 19,
    "start_time": "2023-04-12T20:03:10.622Z"
   },
   {
    "duration": 32,
    "start_time": "2023-04-12T20:03:10.644Z"
   },
   {
    "duration": 15,
    "start_time": "2023-04-12T20:03:10.678Z"
   },
   {
    "duration": 51,
    "start_time": "2023-04-12T20:03:10.695Z"
   },
   {
    "duration": 15,
    "start_time": "2023-04-12T20:03:10.748Z"
   },
   {
    "duration": 10,
    "start_time": "2023-04-12T20:03:12.182Z"
   },
   {
    "duration": 5,
    "start_time": "2023-04-12T20:03:12.821Z"
   },
   {
    "duration": 6,
    "start_time": "2023-04-12T20:03:13.682Z"
   },
   {
    "duration": 5,
    "start_time": "2023-04-12T20:03:14.742Z"
   },
   {
    "duration": 83,
    "start_time": "2023-04-12T20:04:40.706Z"
   },
   {
    "duration": 717,
    "start_time": "2023-04-12T20:04:46.719Z"
   },
   {
    "duration": 89,
    "start_time": "2023-04-12T20:04:47.438Z"
   },
   {
    "duration": 39,
    "start_time": "2023-04-12T20:04:47.529Z"
   },
   {
    "duration": 23,
    "start_time": "2023-04-12T20:04:47.570Z"
   },
   {
    "duration": 22,
    "start_time": "2023-04-12T20:04:47.595Z"
   },
   {
    "duration": 37,
    "start_time": "2023-04-12T20:04:47.619Z"
   },
   {
    "duration": 19,
    "start_time": "2023-04-12T20:04:47.658Z"
   },
   {
    "duration": 30,
    "start_time": "2023-04-12T20:04:47.678Z"
   },
   {
    "duration": 43,
    "start_time": "2023-04-12T20:04:47.710Z"
   },
   {
    "duration": 47,
    "start_time": "2023-04-12T20:04:47.756Z"
   },
   {
    "duration": 39,
    "start_time": "2023-04-12T20:04:47.806Z"
   },
   {
    "duration": 16,
    "start_time": "2023-04-12T20:04:47.847Z"
   },
   {
    "duration": 61,
    "start_time": "2023-04-12T20:04:47.864Z"
   },
   {
    "duration": 56,
    "start_time": "2023-04-12T20:04:47.926Z"
   },
   {
    "duration": 59,
    "start_time": "2023-04-12T20:04:47.984Z"
   },
   {
    "duration": 76,
    "start_time": "2023-04-12T20:04:48.045Z"
   },
   {
    "duration": 41,
    "start_time": "2023-04-12T20:04:48.123Z"
   },
   {
    "duration": 22,
    "start_time": "2023-04-12T20:04:48.166Z"
   },
   {
    "duration": 7,
    "start_time": "2023-04-12T20:04:51.769Z"
   },
   {
    "duration": 4,
    "start_time": "2023-04-12T20:04:57.325Z"
   },
   {
    "duration": 10,
    "start_time": "2023-04-12T20:06:01.054Z"
   },
   {
    "duration": 30,
    "start_time": "2023-04-12T20:06:19.611Z"
   },
   {
    "duration": 34,
    "start_time": "2023-04-12T20:06:24.172Z"
   },
   {
    "duration": 11,
    "start_time": "2023-04-12T20:06:38.834Z"
   },
   {
    "duration": 158,
    "start_time": "2023-04-12T20:06:45.509Z"
   },
   {
    "duration": 1527,
    "start_time": "2023-04-12T20:06:52.876Z"
   },
   {
    "duration": 528,
    "start_time": "2023-04-12T20:06:57.823Z"
   },
   {
    "duration": 262,
    "start_time": "2023-04-12T20:07:01.170Z"
   },
   {
    "duration": 311,
    "start_time": "2023-04-12T20:07:18.112Z"
   },
   {
    "duration": 298,
    "start_time": "2023-04-12T20:07:31.217Z"
   },
   {
    "duration": 319,
    "start_time": "2023-04-12T20:07:35.628Z"
   },
   {
    "duration": 207,
    "start_time": "2023-04-12T20:07:39.606Z"
   },
   {
    "duration": 26,
    "start_time": "2023-04-12T20:08:00.411Z"
   },
   {
    "duration": 28,
    "start_time": "2023-04-12T20:08:23.738Z"
   },
   {
    "duration": 40,
    "start_time": "2023-04-12T20:08:37.910Z"
   },
   {
    "duration": 79,
    "start_time": "2023-04-12T20:08:56.042Z"
   },
   {
    "duration": 27,
    "start_time": "2023-04-12T20:08:57.781Z"
   },
   {
    "duration": 31,
    "start_time": "2023-04-12T20:10:06.103Z"
   },
   {
    "duration": 720,
    "start_time": "2023-04-12T20:11:30.074Z"
   },
   {
    "duration": 93,
    "start_time": "2023-04-12T20:11:30.796Z"
   },
   {
    "duration": 39,
    "start_time": "2023-04-12T20:11:30.892Z"
   },
   {
    "duration": 49,
    "start_time": "2023-04-12T20:11:30.934Z"
   },
   {
    "duration": 69,
    "start_time": "2023-04-12T20:11:30.986Z"
   },
   {
    "duration": 48,
    "start_time": "2023-04-12T20:11:31.057Z"
   },
   {
    "duration": 68,
    "start_time": "2023-04-12T20:11:31.107Z"
   },
   {
    "duration": 71,
    "start_time": "2023-04-12T20:11:31.177Z"
   },
   {
    "duration": 72,
    "start_time": "2023-04-12T20:11:31.251Z"
   },
   {
    "duration": 32,
    "start_time": "2023-04-12T20:11:31.326Z"
   },
   {
    "duration": 83,
    "start_time": "2023-04-12T20:11:31.360Z"
   },
   {
    "duration": 150,
    "start_time": "2023-04-12T20:11:31.445Z"
   },
   {
    "duration": 98,
    "start_time": "2023-04-12T20:11:31.598Z"
   },
   {
    "duration": 90,
    "start_time": "2023-04-12T20:11:31.697Z"
   },
   {
    "duration": 109,
    "start_time": "2023-04-12T20:11:31.789Z"
   },
   {
    "duration": 12,
    "start_time": "2023-04-12T20:11:40.363Z"
   },
   {
    "duration": 40,
    "start_time": "2023-04-12T20:11:40.600Z"
   },
   {
    "duration": 20,
    "start_time": "2023-04-12T20:11:40.990Z"
   },
   {
    "duration": 15,
    "start_time": "2023-04-12T20:11:41.510Z"
   },
   {
    "duration": 5,
    "start_time": "2023-04-12T20:11:42.520Z"
   },
   {
    "duration": 8,
    "start_time": "2023-04-12T20:11:45.036Z"
   },
   {
    "duration": 5,
    "start_time": "2023-04-12T20:11:57.967Z"
   },
   {
    "duration": 14,
    "start_time": "2023-04-12T20:12:16.032Z"
   },
   {
    "duration": 27,
    "start_time": "2023-04-12T20:12:33.197Z"
   },
   {
    "duration": 21,
    "start_time": "2023-04-12T20:13:46.441Z"
   },
   {
    "duration": 1445,
    "start_time": "2023-04-12T20:13:58.959Z"
   },
   {
    "duration": 1740,
    "start_time": "2023-04-12T20:14:07.716Z"
   },
   {
    "duration": 9,
    "start_time": "2023-04-12T20:14:22.163Z"
   },
   {
    "duration": 17,
    "start_time": "2023-04-12T20:14:38.331Z"
   },
   {
    "duration": 12,
    "start_time": "2023-04-12T20:16:52.261Z"
   },
   {
    "duration": 17,
    "start_time": "2023-04-12T20:16:57.734Z"
   },
   {
    "duration": 17,
    "start_time": "2023-04-12T20:17:08.461Z"
   },
   {
    "duration": 29,
    "start_time": "2023-04-12T20:17:56.770Z"
   },
   {
    "duration": 25,
    "start_time": "2023-04-12T20:18:00.850Z"
   },
   {
    "duration": 6,
    "start_time": "2023-04-12T20:18:07.882Z"
   },
   {
    "duration": 15,
    "start_time": "2023-04-12T20:18:12.961Z"
   },
   {
    "duration": 14,
    "start_time": "2023-04-12T20:18:20.863Z"
   },
   {
    "duration": 38,
    "start_time": "2023-04-12T20:18:37.925Z"
   },
   {
    "duration": 32,
    "start_time": "2023-04-12T20:23:53.759Z"
   },
   {
    "duration": 208,
    "start_time": "2023-04-12T20:24:06.463Z"
   },
   {
    "duration": 49,
    "start_time": "2023-04-15T11:02:09.071Z"
   },
   {
    "duration": 905,
    "start_time": "2023-04-15T11:02:12.030Z"
   },
   {
    "duration": 282,
    "start_time": "2023-04-15T11:02:12.946Z"
   },
   {
    "duration": 59,
    "start_time": "2023-04-15T11:02:13.230Z"
   },
   {
    "duration": 17,
    "start_time": "2023-04-15T11:02:13.291Z"
   },
   {
    "duration": 20,
    "start_time": "2023-04-15T11:02:13.310Z"
   },
   {
    "duration": 21,
    "start_time": "2023-04-15T11:02:13.331Z"
   },
   {
    "duration": 5,
    "start_time": "2023-04-15T11:02:13.354Z"
   },
   {
    "duration": 21,
    "start_time": "2023-04-15T11:02:13.361Z"
   },
   {
    "duration": 13,
    "start_time": "2023-04-15T11:02:13.384Z"
   },
   {
    "duration": 9,
    "start_time": "2023-04-15T11:02:13.400Z"
   },
   {
    "duration": 34,
    "start_time": "2023-04-15T11:02:13.411Z"
   },
   {
    "duration": 13,
    "start_time": "2023-04-15T11:02:13.446Z"
   },
   {
    "duration": 21,
    "start_time": "2023-04-15T11:02:13.460Z"
   },
   {
    "duration": 16,
    "start_time": "2023-04-15T11:02:13.483Z"
   },
   {
    "duration": 40,
    "start_time": "2023-04-15T11:02:13.501Z"
   },
   {
    "duration": 22,
    "start_time": "2023-04-15T11:02:13.543Z"
   },
   {
    "duration": 12,
    "start_time": "2023-04-15T11:02:13.567Z"
   },
   {
    "duration": 17,
    "start_time": "2023-04-15T11:02:13.580Z"
   },
   {
    "duration": 17,
    "start_time": "2023-04-15T11:02:13.599Z"
   },
   {
    "duration": 49,
    "start_time": "2023-04-15T11:02:13.618Z"
   },
   {
    "duration": 4,
    "start_time": "2023-04-15T11:02:13.668Z"
   },
   {
    "duration": 9,
    "start_time": "2023-04-15T11:02:14.804Z"
   },
   {
    "duration": 6,
    "start_time": "2023-04-15T11:03:13.817Z"
   },
   {
    "duration": 20,
    "start_time": "2023-04-15T11:03:21.291Z"
   },
   {
    "duration": 21,
    "start_time": "2023-04-15T11:05:16.067Z"
   },
   {
    "duration": 18,
    "start_time": "2023-04-15T12:02:13.483Z"
   },
   {
    "duration": 6,
    "start_time": "2023-04-15T12:14:36.436Z"
   },
   {
    "duration": 7,
    "start_time": "2023-04-15T12:14:41.552Z"
   },
   {
    "duration": 25,
    "start_time": "2023-04-15T12:27:58.968Z"
   },
   {
    "duration": 10,
    "start_time": "2023-04-15T12:28:03.281Z"
   },
   {
    "duration": 22,
    "start_time": "2023-04-15T12:28:29.580Z"
   },
   {
    "duration": 10,
    "start_time": "2023-04-15T12:28:36.102Z"
   },
   {
    "duration": 11,
    "start_time": "2023-04-15T12:28:44.652Z"
   },
   {
    "duration": 21,
    "start_time": "2023-04-15T12:29:17.860Z"
   },
   {
    "duration": 5,
    "start_time": "2023-04-15T12:29:32.900Z"
   },
   {
    "duration": 6,
    "start_time": "2023-04-15T12:29:38.279Z"
   },
   {
    "duration": 30,
    "start_time": "2023-04-15T12:29:43.311Z"
   },
   {
    "duration": 27,
    "start_time": "2023-04-15T12:30:57.267Z"
   },
   {
    "duration": 36,
    "start_time": "2023-04-15T12:31:09.874Z"
   },
   {
    "duration": 31,
    "start_time": "2023-04-15T12:32:32.764Z"
   },
   {
    "duration": 4,
    "start_time": "2023-04-15T12:32:53.499Z"
   },
   {
    "duration": 17,
    "start_time": "2023-04-15T12:44:03.996Z"
   },
   {
    "duration": 26,
    "start_time": "2023-04-15T12:44:12.610Z"
   },
   {
    "duration": 15,
    "start_time": "2023-04-15T12:44:20.662Z"
   },
   {
    "duration": 9,
    "start_time": "2023-04-15T12:44:43.861Z"
   },
   {
    "duration": 8,
    "start_time": "2023-04-15T12:44:57.301Z"
   },
   {
    "duration": 18,
    "start_time": "2023-04-15T12:45:14.454Z"
   },
   {
    "duration": 7,
    "start_time": "2023-04-15T12:46:19.957Z"
   },
   {
    "duration": 12,
    "start_time": "2023-04-15T12:46:28.552Z"
   },
   {
    "duration": 11,
    "start_time": "2023-04-15T12:46:31.586Z"
   },
   {
    "duration": 46,
    "start_time": "2023-04-15T12:46:35.244Z"
   },
   {
    "duration": 15,
    "start_time": "2023-04-15T12:46:39.139Z"
   },
   {
    "duration": 10,
    "start_time": "2023-04-15T12:46:42.675Z"
   },
   {
    "duration": 9,
    "start_time": "2023-04-15T12:46:43.997Z"
   },
   {
    "duration": 16,
    "start_time": "2023-04-15T12:46:51.100Z"
   },
   {
    "duration": 15,
    "start_time": "2023-04-15T12:47:04.872Z"
   },
   {
    "duration": 8,
    "start_time": "2023-04-15T12:47:38.651Z"
   },
   {
    "duration": 5,
    "start_time": "2023-04-15T12:47:51.769Z"
   },
   {
    "duration": 9,
    "start_time": "2023-04-15T12:47:59.650Z"
   },
   {
    "duration": 14,
    "start_time": "2023-04-15T12:48:09.716Z"
   },
   {
    "duration": 7,
    "start_time": "2023-04-15T12:49:00.989Z"
   },
   {
    "duration": 14,
    "start_time": "2023-04-15T12:49:01.377Z"
   },
   {
    "duration": 6,
    "start_time": "2023-04-15T12:49:10.385Z"
   },
   {
    "duration": 6,
    "start_time": "2023-04-15T12:51:37.005Z"
   },
   {
    "duration": 4,
    "start_time": "2023-04-15T12:51:37.471Z"
   },
   {
    "duration": 8,
    "start_time": "2023-04-15T12:51:40.064Z"
   },
   {
    "duration": 8,
    "start_time": "2023-04-15T12:52:10.153Z"
   },
   {
    "duration": 6,
    "start_time": "2023-04-15T12:52:21.554Z"
   },
   {
    "duration": 6,
    "start_time": "2023-04-15T12:52:32.875Z"
   },
   {
    "duration": 8,
    "start_time": "2023-04-15T12:52:36.302Z"
   },
   {
    "duration": 6,
    "start_time": "2023-04-15T12:52:43.890Z"
   },
   {
    "duration": 11,
    "start_time": "2023-04-15T12:52:46.957Z"
   },
   {
    "duration": 38,
    "start_time": "2023-04-15T12:53:45.573Z"
   },
   {
    "duration": 16,
    "start_time": "2023-04-15T12:54:18.006Z"
   },
   {
    "duration": 26,
    "start_time": "2023-04-15T12:55:02.825Z"
   },
   {
    "duration": 13,
    "start_time": "2023-04-15T12:55:09.590Z"
   },
   {
    "duration": 14,
    "start_time": "2023-04-15T12:55:39.752Z"
   },
   {
    "duration": 37,
    "start_time": "2023-04-15T12:55:57.982Z"
   },
   {
    "duration": 10,
    "start_time": "2023-04-15T12:56:00.454Z"
   },
   {
    "duration": 24,
    "start_time": "2023-04-15T12:56:04.332Z"
   },
   {
    "duration": 6,
    "start_time": "2023-04-15T12:56:13.931Z"
   },
   {
    "duration": 18,
    "start_time": "2023-04-15T12:56:16.801Z"
   },
   {
    "duration": 23,
    "start_time": "2023-04-15T12:56:31.276Z"
   },
   {
    "duration": 71,
    "start_time": "2023-04-15T12:56:44.399Z"
   },
   {
    "duration": 23,
    "start_time": "2023-04-15T12:56:52.522Z"
   },
   {
    "duration": 9,
    "start_time": "2023-04-15T12:57:04.402Z"
   },
   {
    "duration": 18,
    "start_time": "2023-04-15T12:57:14.711Z"
   },
   {
    "duration": 20,
    "start_time": "2023-04-15T12:57:37.154Z"
   },
   {
    "duration": 23,
    "start_time": "2023-04-15T12:58:28.773Z"
   },
   {
    "duration": 26,
    "start_time": "2023-04-15T12:58:32.883Z"
   },
   {
    "duration": 20,
    "start_time": "2023-04-15T12:58:42.820Z"
   },
   {
    "duration": 25,
    "start_time": "2023-04-15T12:58:46.939Z"
   },
   {
    "duration": 8,
    "start_time": "2023-04-15T12:59:22.057Z"
   },
   {
    "duration": 18,
    "start_time": "2023-04-15T12:59:26.292Z"
   },
   {
    "duration": 21,
    "start_time": "2023-04-15T13:00:05.647Z"
   },
   {
    "duration": 85,
    "start_time": "2023-04-15T13:01:08.835Z"
   },
   {
    "duration": 13,
    "start_time": "2023-04-15T13:02:27.291Z"
   },
   {
    "duration": 9,
    "start_time": "2023-04-15T13:02:46.735Z"
   },
   {
    "duration": 18,
    "start_time": "2023-04-15T13:03:07.277Z"
   },
   {
    "duration": 14,
    "start_time": "2023-04-15T13:03:43.020Z"
   },
   {
    "duration": 26,
    "start_time": "2023-04-15T13:05:12.426Z"
   },
   {
    "duration": 4,
    "start_time": "2023-04-15T13:05:15.453Z"
   },
   {
    "duration": 12,
    "start_time": "2023-04-15T13:05:19.827Z"
   },
   {
    "duration": 15,
    "start_time": "2023-04-15T13:05:27.012Z"
   },
   {
    "duration": 15,
    "start_time": "2023-04-15T13:05:43.961Z"
   },
   {
    "duration": 23,
    "start_time": "2023-04-15T13:18:13.052Z"
   },
   {
    "duration": 53,
    "start_time": "2023-04-15T13:23:55.931Z"
   },
   {
    "duration": 23,
    "start_time": "2023-04-15T13:23:56.294Z"
   },
   {
    "duration": 44,
    "start_time": "2023-04-15T13:24:26.272Z"
   },
   {
    "duration": 31,
    "start_time": "2023-04-15T13:24:27.735Z"
   },
   {
    "duration": 797,
    "start_time": "2023-04-15T13:26:00.733Z"
   },
   {
    "duration": 337,
    "start_time": "2023-04-15T13:26:01.533Z"
   },
   {
    "duration": 50,
    "start_time": "2023-04-15T13:26:01.872Z"
   },
   {
    "duration": 37,
    "start_time": "2023-04-15T13:26:01.926Z"
   },
   {
    "duration": 37,
    "start_time": "2023-04-15T13:26:01.967Z"
   },
   {
    "duration": 50,
    "start_time": "2023-04-15T13:26:02.007Z"
   },
   {
    "duration": 17,
    "start_time": "2023-04-15T13:26:02.064Z"
   },
   {
    "duration": 44,
    "start_time": "2023-04-15T13:26:02.084Z"
   },
   {
    "duration": 55,
    "start_time": "2023-04-15T13:26:02.130Z"
   },
   {
    "duration": 15,
    "start_time": "2023-04-15T13:26:02.192Z"
   },
   {
    "duration": 54,
    "start_time": "2023-04-15T13:26:02.210Z"
   },
   {
    "duration": 16,
    "start_time": "2023-04-15T13:26:02.267Z"
   },
   {
    "duration": 86,
    "start_time": "2023-04-15T13:26:02.291Z"
   },
   {
    "duration": 7,
    "start_time": "2023-04-15T13:26:02.386Z"
   },
   {
    "duration": 41,
    "start_time": "2023-04-15T13:26:02.396Z"
   },
   {
    "duration": 35,
    "start_time": "2023-04-15T13:26:02.440Z"
   },
   {
    "duration": 43,
    "start_time": "2023-04-15T13:26:02.479Z"
   },
   {
    "duration": 32,
    "start_time": "2023-04-15T13:26:02.525Z"
   },
   {
    "duration": 19,
    "start_time": "2023-04-15T13:26:02.562Z"
   },
   {
    "duration": 6,
    "start_time": "2023-04-15T13:26:02.584Z"
   },
   {
    "duration": 11,
    "start_time": "2023-04-15T13:26:02.594Z"
   },
   {
    "duration": 37,
    "start_time": "2023-04-15T13:26:02.614Z"
   },
   {
    "duration": 15,
    "start_time": "2023-04-15T13:26:02.654Z"
   },
   {
    "duration": 26,
    "start_time": "2023-04-15T13:26:02.671Z"
   },
   {
    "duration": 13,
    "start_time": "2023-04-15T13:26:02.701Z"
   },
   {
    "duration": 38,
    "start_time": "2023-04-15T13:26:02.717Z"
   },
   {
    "duration": 19,
    "start_time": "2023-04-15T13:26:02.758Z"
   },
   {
    "duration": 8,
    "start_time": "2023-04-15T13:26:02.783Z"
   },
   {
    "duration": 11,
    "start_time": "2023-04-15T13:26:02.794Z"
   },
   {
    "duration": 71,
    "start_time": "2023-04-15T13:26:02.808Z"
   },
   {
    "duration": 67,
    "start_time": "2023-04-15T13:26:03.533Z"
   },
   {
    "duration": 27,
    "start_time": "2023-04-15T13:26:03.926Z"
   },
   {
    "duration": 59,
    "start_time": "2023-04-15T13:27:11.029Z"
   },
   {
    "duration": 27,
    "start_time": "2023-04-15T13:27:11.455Z"
   },
   {
    "duration": 766,
    "start_time": "2023-04-15T13:27:18.814Z"
   },
   {
    "duration": 106,
    "start_time": "2023-04-15T13:27:19.587Z"
   },
   {
    "duration": 34,
    "start_time": "2023-04-15T13:27:19.696Z"
   },
   {
    "duration": 32,
    "start_time": "2023-04-15T13:27:19.733Z"
   },
   {
    "duration": 42,
    "start_time": "2023-04-15T13:27:19.772Z"
   },
   {
    "duration": 34,
    "start_time": "2023-04-15T13:27:19.820Z"
   },
   {
    "duration": 13,
    "start_time": "2023-04-15T13:27:19.873Z"
   },
   {
    "duration": 17,
    "start_time": "2023-04-15T13:27:19.888Z"
   },
   {
    "duration": 26,
    "start_time": "2023-04-15T13:27:19.909Z"
   },
   {
    "duration": 22,
    "start_time": "2023-04-15T13:27:19.943Z"
   },
   {
    "duration": 31,
    "start_time": "2023-04-15T13:27:19.970Z"
   },
   {
    "duration": 9,
    "start_time": "2023-04-15T13:27:20.007Z"
   },
   {
    "duration": 32,
    "start_time": "2023-04-15T13:27:20.021Z"
   },
   {
    "duration": 8,
    "start_time": "2023-04-15T13:27:20.061Z"
   },
   {
    "duration": 30,
    "start_time": "2023-04-15T13:27:20.076Z"
   },
   {
    "duration": 18,
    "start_time": "2023-04-15T13:27:20.112Z"
   },
   {
    "duration": 39,
    "start_time": "2023-04-15T13:27:20.136Z"
   },
   {
    "duration": 21,
    "start_time": "2023-04-15T13:27:20.181Z"
   },
   {
    "duration": 14,
    "start_time": "2023-04-15T13:27:20.204Z"
   },
   {
    "duration": 21,
    "start_time": "2023-04-15T13:27:20.220Z"
   },
   {
    "duration": 16,
    "start_time": "2023-04-15T13:27:20.244Z"
   },
   {
    "duration": 37,
    "start_time": "2023-04-15T13:27:20.273Z"
   },
   {
    "duration": 10,
    "start_time": "2023-04-15T13:27:20.313Z"
   },
   {
    "duration": 22,
    "start_time": "2023-04-15T13:27:20.329Z"
   },
   {
    "duration": 13,
    "start_time": "2023-04-15T13:27:20.357Z"
   },
   {
    "duration": 28,
    "start_time": "2023-04-15T13:27:20.377Z"
   },
   {
    "duration": 8,
    "start_time": "2023-04-15T13:27:20.408Z"
   },
   {
    "duration": 13,
    "start_time": "2023-04-15T13:27:20.418Z"
   },
   {
    "duration": 27,
    "start_time": "2023-04-15T13:27:20.434Z"
   },
   {
    "duration": 66,
    "start_time": "2023-04-15T13:27:20.465Z"
   },
   {
    "duration": 62,
    "start_time": "2023-04-15T13:27:20.533Z"
   },
   {
    "duration": 25,
    "start_time": "2023-04-15T13:27:20.601Z"
   },
   {
    "duration": 85,
    "start_time": "2023-04-15T13:27:21.259Z"
   },
   {
    "duration": 33,
    "start_time": "2023-04-15T13:27:21.566Z"
   },
   {
    "duration": 77,
    "start_time": "2023-04-15T13:31:21.456Z"
   },
   {
    "duration": 93,
    "start_time": "2023-04-15T13:31:33.728Z"
   },
   {
    "duration": 24,
    "start_time": "2023-04-15T13:31:34.079Z"
   },
   {
    "duration": 84,
    "start_time": "2023-04-15T13:35:11.487Z"
   },
   {
    "duration": 16,
    "start_time": "2023-04-15T13:35:13.022Z"
   },
   {
    "duration": 75,
    "start_time": "2023-04-15T13:36:01.516Z"
   },
   {
    "duration": 16,
    "start_time": "2023-04-15T13:36:01.786Z"
   },
   {
    "duration": 618,
    "start_time": "2023-04-15T13:36:09.355Z"
   },
   {
    "duration": 278,
    "start_time": "2023-04-15T13:36:09.976Z"
   },
   {
    "duration": 14,
    "start_time": "2023-04-15T13:36:10.256Z"
   },
   {
    "duration": 17,
    "start_time": "2023-04-15T13:36:10.272Z"
   },
   {
    "duration": 17,
    "start_time": "2023-04-15T13:36:10.291Z"
   },
   {
    "duration": 15,
    "start_time": "2023-04-15T13:36:10.310Z"
   },
   {
    "duration": 10,
    "start_time": "2023-04-15T13:36:10.327Z"
   },
   {
    "duration": 13,
    "start_time": "2023-04-15T13:36:10.342Z"
   },
   {
    "duration": 35,
    "start_time": "2023-04-15T13:36:10.356Z"
   },
   {
    "duration": 14,
    "start_time": "2023-04-15T13:36:10.396Z"
   },
   {
    "duration": 34,
    "start_time": "2023-04-15T13:36:10.411Z"
   },
   {
    "duration": 10,
    "start_time": "2023-04-15T13:36:10.448Z"
   },
   {
    "duration": 41,
    "start_time": "2023-04-15T13:36:10.460Z"
   },
   {
    "duration": 10,
    "start_time": "2023-04-15T13:36:10.503Z"
   },
   {
    "duration": 28,
    "start_time": "2023-04-15T13:36:10.515Z"
   },
   {
    "duration": 26,
    "start_time": "2023-04-15T13:36:10.544Z"
   },
   {
    "duration": 32,
    "start_time": "2023-04-15T13:36:10.571Z"
   },
   {
    "duration": 13,
    "start_time": "2023-04-15T13:36:10.604Z"
   },
   {
    "duration": 33,
    "start_time": "2023-04-15T13:36:10.618Z"
   },
   {
    "duration": 14,
    "start_time": "2023-04-15T13:36:10.656Z"
   },
   {
    "duration": 5,
    "start_time": "2023-04-15T13:36:10.672Z"
   },
   {
    "duration": 20,
    "start_time": "2023-04-15T13:36:10.679Z"
   },
   {
    "duration": 7,
    "start_time": "2023-04-15T13:36:10.701Z"
   },
   {
    "duration": 19,
    "start_time": "2023-04-15T13:36:10.709Z"
   },
   {
    "duration": 17,
    "start_time": "2023-04-15T13:36:10.735Z"
   },
   {
    "duration": 15,
    "start_time": "2023-04-15T13:36:10.754Z"
   },
   {
    "duration": 8,
    "start_time": "2023-04-15T13:36:10.770Z"
   },
   {
    "duration": 4,
    "start_time": "2023-04-15T13:36:10.781Z"
   },
   {
    "duration": 12,
    "start_time": "2023-04-15T13:36:10.786Z"
   },
   {
    "duration": 75,
    "start_time": "2023-04-15T13:36:10.800Z"
   },
   {
    "duration": 91,
    "start_time": "2023-04-15T13:36:10.876Z"
   },
   {
    "duration": 16,
    "start_time": "2023-04-15T13:36:10.969Z"
   },
   {
    "duration": 81,
    "start_time": "2023-04-15T13:36:11.718Z"
   },
   {
    "duration": 24,
    "start_time": "2023-04-15T13:36:12.064Z"
   },
   {
    "duration": 743,
    "start_time": "2023-04-15T13:36:52.365Z"
   },
   {
    "duration": 101,
    "start_time": "2023-04-15T13:36:53.112Z"
   },
   {
    "duration": 40,
    "start_time": "2023-04-15T13:36:53.215Z"
   },
   {
    "duration": 16,
    "start_time": "2023-04-15T13:36:53.257Z"
   },
   {
    "duration": 29,
    "start_time": "2023-04-15T13:36:53.275Z"
   },
   {
    "duration": 26,
    "start_time": "2023-04-15T13:36:53.307Z"
   },
   {
    "duration": 23,
    "start_time": "2023-04-15T13:36:53.335Z"
   },
   {
    "duration": 42,
    "start_time": "2023-04-15T13:36:53.360Z"
   },
   {
    "duration": 46,
    "start_time": "2023-04-15T13:36:53.404Z"
   },
   {
    "duration": 37,
    "start_time": "2023-04-15T13:36:53.454Z"
   },
   {
    "duration": 31,
    "start_time": "2023-04-15T13:36:53.492Z"
   },
   {
    "duration": 8,
    "start_time": "2023-04-15T13:36:53.525Z"
   },
   {
    "duration": 46,
    "start_time": "2023-04-15T13:36:53.535Z"
   },
   {
    "duration": 13,
    "start_time": "2023-04-15T13:36:53.583Z"
   },
   {
    "duration": 17,
    "start_time": "2023-04-15T13:36:53.597Z"
   },
   {
    "duration": 21,
    "start_time": "2023-04-15T13:36:53.616Z"
   },
   {
    "duration": 57,
    "start_time": "2023-04-15T13:36:53.639Z"
   },
   {
    "duration": 12,
    "start_time": "2023-04-15T13:36:53.697Z"
   },
   {
    "duration": 16,
    "start_time": "2023-04-15T13:36:53.711Z"
   },
   {
    "duration": 4,
    "start_time": "2023-04-15T13:36:53.729Z"
   },
   {
    "duration": 21,
    "start_time": "2023-04-15T13:36:53.734Z"
   },
   {
    "duration": 19,
    "start_time": "2023-04-15T13:36:53.758Z"
   },
   {
    "duration": 22,
    "start_time": "2023-04-15T13:36:53.779Z"
   },
   {
    "duration": 17,
    "start_time": "2023-04-15T13:36:53.803Z"
   },
   {
    "duration": 12,
    "start_time": "2023-04-15T13:36:53.822Z"
   },
   {
    "duration": 20,
    "start_time": "2023-04-15T13:36:53.836Z"
   },
   {
    "duration": 8,
    "start_time": "2023-04-15T13:36:53.858Z"
   },
   {
    "duration": 8,
    "start_time": "2023-04-15T13:36:53.869Z"
   },
   {
    "duration": 17,
    "start_time": "2023-04-15T13:36:53.878Z"
   },
   {
    "duration": 55,
    "start_time": "2023-04-15T13:36:53.897Z"
   },
   {
    "duration": 47,
    "start_time": "2023-04-15T13:36:54.455Z"
   },
   {
    "duration": 16,
    "start_time": "2023-04-15T13:36:54.794Z"
   },
   {
    "duration": 86,
    "start_time": "2023-04-15T13:36:58.946Z"
   },
   {
    "duration": 17,
    "start_time": "2023-04-15T13:36:59.683Z"
   },
   {
    "duration": 661,
    "start_time": "2023-04-15T13:37:27.355Z"
   },
   {
    "duration": 95,
    "start_time": "2023-04-15T13:37:28.018Z"
   },
   {
    "duration": 41,
    "start_time": "2023-04-15T13:37:28.115Z"
   },
   {
    "duration": 17,
    "start_time": "2023-04-15T13:37:28.158Z"
   },
   {
    "duration": 21,
    "start_time": "2023-04-15T13:37:28.178Z"
   },
   {
    "duration": 18,
    "start_time": "2023-04-15T13:37:28.200Z"
   },
   {
    "duration": 17,
    "start_time": "2023-04-15T13:37:28.220Z"
   },
   {
    "duration": 16,
    "start_time": "2023-04-15T13:37:28.242Z"
   },
   {
    "duration": 16,
    "start_time": "2023-04-15T13:37:28.261Z"
   },
   {
    "duration": 12,
    "start_time": "2023-04-15T13:37:28.280Z"
   },
   {
    "duration": 18,
    "start_time": "2023-04-15T13:37:28.293Z"
   },
   {
    "duration": 12,
    "start_time": "2023-04-15T13:37:28.339Z"
   },
   {
    "duration": 35,
    "start_time": "2023-04-15T13:37:28.353Z"
   },
   {
    "duration": 5,
    "start_time": "2023-04-15T13:37:28.391Z"
   },
   {
    "duration": 42,
    "start_time": "2023-04-15T13:37:28.398Z"
   },
   {
    "duration": 18,
    "start_time": "2023-04-15T13:37:28.443Z"
   },
   {
    "duration": 27,
    "start_time": "2023-04-15T13:37:28.463Z"
   },
   {
    "duration": 13,
    "start_time": "2023-04-15T13:37:28.492Z"
   },
   {
    "duration": 46,
    "start_time": "2023-04-15T13:37:28.507Z"
   },
   {
    "duration": 4,
    "start_time": "2023-04-15T13:37:28.556Z"
   },
   {
    "duration": 6,
    "start_time": "2023-04-15T13:37:28.562Z"
   },
   {
    "duration": 16,
    "start_time": "2023-04-15T13:37:28.569Z"
   },
   {
    "duration": 4,
    "start_time": "2023-04-15T13:37:28.587Z"
   },
   {
    "duration": 9,
    "start_time": "2023-04-15T13:37:28.593Z"
   },
   {
    "duration": 33,
    "start_time": "2023-04-15T13:37:28.604Z"
   },
   {
    "duration": 28,
    "start_time": "2023-04-15T13:37:28.640Z"
   },
   {
    "duration": 6,
    "start_time": "2023-04-15T13:37:28.669Z"
   },
   {
    "duration": 4,
    "start_time": "2023-04-15T13:37:28.677Z"
   },
   {
    "duration": 7,
    "start_time": "2023-04-15T13:37:28.683Z"
   },
   {
    "duration": 51,
    "start_time": "2023-04-15T13:37:28.691Z"
   },
   {
    "duration": 100,
    "start_time": "2023-04-15T13:37:29.010Z"
   },
   {
    "duration": 22,
    "start_time": "2023-04-15T13:37:30.551Z"
   },
   {
    "duration": 698,
    "start_time": "2023-04-15T13:37:51.100Z"
   },
   {
    "duration": 78,
    "start_time": "2023-04-15T13:37:51.801Z"
   },
   {
    "duration": 30,
    "start_time": "2023-04-15T13:37:51.880Z"
   },
   {
    "duration": 17,
    "start_time": "2023-04-15T13:37:51.912Z"
   },
   {
    "duration": 26,
    "start_time": "2023-04-15T13:37:51.932Z"
   },
   {
    "duration": 15,
    "start_time": "2023-04-15T13:37:51.961Z"
   },
   {
    "duration": 5,
    "start_time": "2023-04-15T13:37:51.978Z"
   },
   {
    "duration": 12,
    "start_time": "2023-04-15T13:37:51.985Z"
   },
   {
    "duration": 10,
    "start_time": "2023-04-15T13:37:51.999Z"
   },
   {
    "duration": 33,
    "start_time": "2023-04-15T13:37:52.011Z"
   },
   {
    "duration": 31,
    "start_time": "2023-04-15T13:37:52.047Z"
   },
   {
    "duration": 7,
    "start_time": "2023-04-15T13:37:52.079Z"
   },
   {
    "duration": 16,
    "start_time": "2023-04-15T13:37:52.087Z"
   },
   {
    "duration": 20,
    "start_time": "2023-04-15T13:37:52.106Z"
   },
   {
    "duration": 35,
    "start_time": "2023-04-15T13:37:52.128Z"
   },
   {
    "duration": 15,
    "start_time": "2023-04-15T13:37:52.165Z"
   },
   {
    "duration": 30,
    "start_time": "2023-04-15T13:37:52.182Z"
   },
   {
    "duration": 21,
    "start_time": "2023-04-15T13:37:52.214Z"
   },
   {
    "duration": 18,
    "start_time": "2023-04-15T13:37:52.242Z"
   },
   {
    "duration": 15,
    "start_time": "2023-04-15T13:37:52.263Z"
   },
   {
    "duration": 41,
    "start_time": "2023-04-15T13:37:52.280Z"
   },
   {
    "duration": 18,
    "start_time": "2023-04-15T13:37:52.322Z"
   },
   {
    "duration": 28,
    "start_time": "2023-04-15T13:37:52.342Z"
   },
   {
    "duration": 30,
    "start_time": "2023-04-15T13:37:52.372Z"
   },
   {
    "duration": 11,
    "start_time": "2023-04-15T13:37:52.404Z"
   },
   {
    "duration": 20,
    "start_time": "2023-04-15T13:37:52.417Z"
   },
   {
    "duration": 9,
    "start_time": "2023-04-15T13:37:52.438Z"
   },
   {
    "duration": 11,
    "start_time": "2023-04-15T13:37:52.449Z"
   },
   {
    "duration": 16,
    "start_time": "2023-04-15T13:37:52.463Z"
   },
   {
    "duration": 55,
    "start_time": "2023-04-15T13:37:52.484Z"
   },
   {
    "duration": 93,
    "start_time": "2023-04-15T13:37:53.222Z"
   },
   {
    "duration": 23,
    "start_time": "2023-04-15T13:37:53.634Z"
   },
   {
    "duration": 7,
    "start_time": "2023-04-15T13:39:36.003Z"
   },
   {
    "duration": 14,
    "start_time": "2023-04-15T13:39:36.512Z"
   },
   {
    "duration": 613,
    "start_time": "2023-04-15T13:39:43.122Z"
   },
   {
    "duration": 92,
    "start_time": "2023-04-15T13:39:43.738Z"
   },
   {
    "duration": 41,
    "start_time": "2023-04-15T13:39:43.832Z"
   },
   {
    "duration": 16,
    "start_time": "2023-04-15T13:39:43.874Z"
   },
   {
    "duration": 17,
    "start_time": "2023-04-15T13:39:43.892Z"
   },
   {
    "duration": 14,
    "start_time": "2023-04-15T13:39:43.910Z"
   },
   {
    "duration": 4,
    "start_time": "2023-04-15T13:39:43.925Z"
   },
   {
    "duration": 34,
    "start_time": "2023-04-15T13:39:43.930Z"
   },
   {
    "duration": 15,
    "start_time": "2023-04-15T13:39:43.968Z"
   },
   {
    "duration": 15,
    "start_time": "2023-04-15T13:39:43.985Z"
   },
   {
    "duration": 28,
    "start_time": "2023-04-15T13:39:44.002Z"
   },
   {
    "duration": 11,
    "start_time": "2023-04-15T13:39:44.032Z"
   },
   {
    "duration": 27,
    "start_time": "2023-04-15T13:39:44.044Z"
   },
   {
    "duration": 4,
    "start_time": "2023-04-15T13:39:44.075Z"
   },
   {
    "duration": 28,
    "start_time": "2023-04-15T13:39:44.080Z"
   },
   {
    "duration": 9,
    "start_time": "2023-04-15T13:39:44.109Z"
   },
   {
    "duration": 37,
    "start_time": "2023-04-15T13:39:44.119Z"
   },
   {
    "duration": 14,
    "start_time": "2023-04-15T13:39:44.161Z"
   },
   {
    "duration": 8,
    "start_time": "2023-04-15T13:39:44.176Z"
   },
   {
    "duration": 6,
    "start_time": "2023-04-15T13:39:44.185Z"
   },
   {
    "duration": 7,
    "start_time": "2023-04-15T13:39:44.193Z"
   },
   {
    "duration": 23,
    "start_time": "2023-04-15T13:39:44.202Z"
   },
   {
    "duration": 10,
    "start_time": "2023-04-15T13:39:44.238Z"
   },
   {
    "duration": 27,
    "start_time": "2023-04-15T13:39:44.250Z"
   },
   {
    "duration": 7,
    "start_time": "2023-04-15T13:39:44.280Z"
   },
   {
    "duration": 25,
    "start_time": "2023-04-15T13:39:44.289Z"
   },
   {
    "duration": 8,
    "start_time": "2023-04-15T13:39:44.316Z"
   },
   {
    "duration": 12,
    "start_time": "2023-04-15T13:39:44.335Z"
   },
   {
    "duration": 6,
    "start_time": "2023-04-15T13:39:44.361Z"
   },
   {
    "duration": 14,
    "start_time": "2023-04-15T13:39:44.369Z"
   },
   {
    "duration": 15,
    "start_time": "2023-04-15T13:39:48.187Z"
   },
   {
    "duration": 10,
    "start_time": "2023-04-15T13:39:49.559Z"
   },
   {
    "duration": 15,
    "start_time": "2023-04-15T13:39:51.217Z"
   },
   {
    "duration": 9,
    "start_time": "2023-04-15T13:40:28.884Z"
   },
   {
    "duration": 12,
    "start_time": "2023-04-15T13:40:29.214Z"
   },
   {
    "duration": 643,
    "start_time": "2023-04-15T13:41:03.024Z"
   },
   {
    "duration": 77,
    "start_time": "2023-04-15T13:41:03.668Z"
   },
   {
    "duration": 37,
    "start_time": "2023-04-15T13:41:03.747Z"
   },
   {
    "duration": 17,
    "start_time": "2023-04-15T13:41:03.786Z"
   },
   {
    "duration": 18,
    "start_time": "2023-04-15T13:41:03.804Z"
   },
   {
    "duration": 19,
    "start_time": "2023-04-15T13:41:03.823Z"
   },
   {
    "duration": 7,
    "start_time": "2023-04-15T13:41:03.844Z"
   },
   {
    "duration": 22,
    "start_time": "2023-04-15T13:41:03.852Z"
   },
   {
    "duration": 9,
    "start_time": "2023-04-15T13:41:03.875Z"
   },
   {
    "duration": 15,
    "start_time": "2023-04-15T13:41:03.887Z"
   },
   {
    "duration": 32,
    "start_time": "2023-04-15T13:41:03.903Z"
   },
   {
    "duration": 13,
    "start_time": "2023-04-15T13:41:03.937Z"
   },
   {
    "duration": 40,
    "start_time": "2023-04-15T13:41:03.951Z"
   },
   {
    "duration": 13,
    "start_time": "2023-04-15T13:41:03.993Z"
   },
   {
    "duration": 25,
    "start_time": "2023-04-15T13:41:04.007Z"
   },
   {
    "duration": 15,
    "start_time": "2023-04-15T13:41:04.033Z"
   },
   {
    "duration": 29,
    "start_time": "2023-04-15T13:41:04.052Z"
   },
   {
    "duration": 24,
    "start_time": "2023-04-15T13:41:04.082Z"
   },
   {
    "duration": 11,
    "start_time": "2023-04-15T13:41:04.107Z"
   },
   {
    "duration": 8,
    "start_time": "2023-04-15T13:41:04.119Z"
   },
   {
    "duration": 20,
    "start_time": "2023-04-15T13:41:04.129Z"
   },
   {
    "duration": 29,
    "start_time": "2023-04-15T13:41:04.150Z"
   },
   {
    "duration": 6,
    "start_time": "2023-04-15T13:41:04.181Z"
   },
   {
    "duration": 11,
    "start_time": "2023-04-15T13:41:04.188Z"
   },
   {
    "duration": 5,
    "start_time": "2023-04-15T13:41:04.200Z"
   },
   {
    "duration": 18,
    "start_time": "2023-04-15T13:41:04.207Z"
   },
   {
    "duration": 10,
    "start_time": "2023-04-15T13:41:04.227Z"
   },
   {
    "duration": 10,
    "start_time": "2023-04-15T13:41:04.247Z"
   },
   {
    "duration": 13,
    "start_time": "2023-04-15T13:41:04.258Z"
   },
   {
    "duration": 16,
    "start_time": "2023-04-15T13:41:04.272Z"
   },
   {
    "duration": 23,
    "start_time": "2023-04-15T13:41:10.530Z"
   },
   {
    "duration": 15,
    "start_time": "2023-04-15T13:41:10.882Z"
   },
   {
    "duration": 23,
    "start_time": "2023-04-15T13:42:09.995Z"
   },
   {
    "duration": 19,
    "start_time": "2023-04-15T13:42:10.226Z"
   },
   {
    "duration": 68,
    "start_time": "2023-04-15T13:44:34.488Z"
   },
   {
    "duration": 23,
    "start_time": "2023-04-15T13:44:43.588Z"
   },
   {
    "duration": 16,
    "start_time": "2023-04-15T13:44:43.955Z"
   },
   {
    "duration": 40,
    "start_time": "2023-04-15T13:46:22.160Z"
   },
   {
    "duration": 16,
    "start_time": "2023-04-15T13:46:22.387Z"
   },
   {
    "duration": 33,
    "start_time": "2023-04-15T13:46:49.007Z"
   },
   {
    "duration": 13,
    "start_time": "2023-04-15T13:46:49.372Z"
   },
   {
    "duration": 19,
    "start_time": "2023-04-15T13:51:25.480Z"
   },
   {
    "duration": 41,
    "start_time": "2023-04-15T13:51:36.876Z"
   },
   {
    "duration": 13,
    "start_time": "2023-04-15T13:51:37.483Z"
   },
   {
    "duration": 56,
    "start_time": "2023-04-15T13:54:57.457Z"
   },
   {
    "duration": 12,
    "start_time": "2023-04-15T13:54:57.853Z"
   },
   {
    "duration": 50,
    "start_time": "2023-04-15T13:55:47.333Z"
   },
   {
    "duration": 14,
    "start_time": "2023-04-15T13:55:47.715Z"
   },
   {
    "duration": 57,
    "start_time": "2023-04-15T13:56:18.636Z"
   },
   {
    "duration": 18,
    "start_time": "2023-04-15T13:56:18.827Z"
   },
   {
    "duration": 50,
    "start_time": "2023-04-15T13:58:42.653Z"
   },
   {
    "duration": 13,
    "start_time": "2023-04-15T13:58:42.794Z"
   },
   {
    "duration": 65,
    "start_time": "2023-04-15T13:58:54.691Z"
   },
   {
    "duration": 55,
    "start_time": "2023-04-15T13:59:11.859Z"
   },
   {
    "duration": 13,
    "start_time": "2023-04-15T13:59:11.998Z"
   },
   {
    "duration": 65,
    "start_time": "2023-04-15T13:59:45.000Z"
   },
   {
    "duration": 14,
    "start_time": "2023-04-15T13:59:45.245Z"
   },
   {
    "duration": 70,
    "start_time": "2023-04-15T14:00:41.855Z"
   },
   {
    "duration": 13,
    "start_time": "2023-04-15T14:00:42.288Z"
   },
   {
    "duration": 73,
    "start_time": "2023-04-15T14:01:34.646Z"
   },
   {
    "duration": 12,
    "start_time": "2023-04-15T14:01:34.896Z"
   },
   {
    "duration": 156,
    "start_time": "2023-04-15T14:02:45.805Z"
   },
   {
    "duration": 13,
    "start_time": "2023-04-15T14:02:46.089Z"
   },
   {
    "duration": 81,
    "start_time": "2023-04-15T14:02:53.867Z"
   },
   {
    "duration": 87,
    "start_time": "2023-04-15T14:03:14.502Z"
   },
   {
    "duration": 14,
    "start_time": "2023-04-15T14:03:14.615Z"
   },
   {
    "duration": 80,
    "start_time": "2023-04-15T14:21:35.287Z"
   },
   {
    "duration": 13,
    "start_time": "2023-04-15T14:21:35.474Z"
   },
   {
    "duration": 87,
    "start_time": "2023-04-15T14:21:58.628Z"
   },
   {
    "duration": 13,
    "start_time": "2023-04-15T14:21:58.849Z"
   },
   {
    "duration": 91,
    "start_time": "2023-04-15T14:23:03.975Z"
   },
   {
    "duration": 12,
    "start_time": "2023-04-15T14:23:04.091Z"
   },
   {
    "duration": 114,
    "start_time": "2023-04-15T14:23:58.763Z"
   },
   {
    "duration": 14,
    "start_time": "2023-04-15T14:23:58.903Z"
   },
   {
    "duration": 100,
    "start_time": "2023-04-15T14:24:21.039Z"
   },
   {
    "duration": 14,
    "start_time": "2023-04-15T14:24:21.306Z"
   },
   {
    "duration": 127,
    "start_time": "2023-04-15T14:25:02.041Z"
   },
   {
    "duration": 17,
    "start_time": "2023-04-15T14:25:02.712Z"
   },
   {
    "duration": 120,
    "start_time": "2023-04-15T14:25:13.951Z"
   },
   {
    "duration": 98,
    "start_time": "2023-04-15T14:25:27.814Z"
   },
   {
    "duration": 100,
    "start_time": "2023-04-15T14:25:47.241Z"
   },
   {
    "duration": 103,
    "start_time": "2023-04-15T14:26:43.872Z"
   },
   {
    "duration": 105,
    "start_time": "2023-04-15T14:26:46.503Z"
   },
   {
    "duration": 106,
    "start_time": "2023-04-15T14:27:37.981Z"
   },
   {
    "duration": 102,
    "start_time": "2023-04-15T14:27:41.275Z"
   },
   {
    "duration": 102,
    "start_time": "2023-04-15T14:27:43.878Z"
   },
   {
    "duration": 101,
    "start_time": "2023-04-15T14:28:46.989Z"
   },
   {
    "duration": 108,
    "start_time": "2023-04-15T14:29:01.155Z"
   },
   {
    "duration": 198,
    "start_time": "2023-04-15T14:29:30.053Z"
   },
   {
    "duration": 113,
    "start_time": "2023-04-15T14:29:46.258Z"
   },
   {
    "duration": 19,
    "start_time": "2023-04-15T14:29:49.171Z"
   },
   {
    "duration": 117,
    "start_time": "2023-04-15T14:31:20.550Z"
   },
   {
    "duration": 156,
    "start_time": "2023-04-15T14:32:05.324Z"
   },
   {
    "duration": 4,
    "start_time": "2023-04-15T14:32:09.970Z"
   },
   {
    "duration": 87,
    "start_time": "2023-04-15T14:32:09.976Z"
   },
   {
    "duration": 38,
    "start_time": "2023-04-15T14:32:10.065Z"
   },
   {
    "duration": 17,
    "start_time": "2023-04-15T14:32:10.105Z"
   },
   {
    "duration": 24,
    "start_time": "2023-04-15T14:32:10.124Z"
   },
   {
    "duration": 19,
    "start_time": "2023-04-15T14:32:10.149Z"
   },
   {
    "duration": 5,
    "start_time": "2023-04-15T14:32:10.170Z"
   },
   {
    "duration": 17,
    "start_time": "2023-04-15T14:32:10.176Z"
   },
   {
    "duration": 17,
    "start_time": "2023-04-15T14:32:10.195Z"
   },
   {
    "duration": 33,
    "start_time": "2023-04-15T14:32:10.216Z"
   },
   {
    "duration": 23,
    "start_time": "2023-04-15T14:32:10.251Z"
   },
   {
    "duration": 7,
    "start_time": "2023-04-15T14:32:10.276Z"
   },
   {
    "duration": 13,
    "start_time": "2023-04-15T14:32:10.285Z"
   },
   {
    "duration": 4,
    "start_time": "2023-04-15T14:32:10.300Z"
   },
   {
    "duration": 48,
    "start_time": "2023-04-15T14:32:10.306Z"
   },
   {
    "duration": 11,
    "start_time": "2023-04-15T14:32:10.356Z"
   },
   {
    "duration": 28,
    "start_time": "2023-04-15T14:32:10.368Z"
   },
   {
    "duration": 38,
    "start_time": "2023-04-15T14:32:10.398Z"
   },
   {
    "duration": 12,
    "start_time": "2023-04-15T14:32:10.439Z"
   },
   {
    "duration": 5,
    "start_time": "2023-04-15T14:32:10.452Z"
   },
   {
    "duration": 13,
    "start_time": "2023-04-15T14:32:10.458Z"
   },
   {
    "duration": 18,
    "start_time": "2023-04-15T14:32:10.473Z"
   },
   {
    "duration": 5,
    "start_time": "2023-04-15T14:32:10.493Z"
   },
   {
    "duration": 13,
    "start_time": "2023-04-15T14:32:10.500Z"
   },
   {
    "duration": 27,
    "start_time": "2023-04-15T14:32:10.514Z"
   },
   {
    "duration": 16,
    "start_time": "2023-04-15T14:32:10.542Z"
   },
   {
    "duration": 8,
    "start_time": "2023-04-15T14:32:10.560Z"
   },
   {
    "duration": 5,
    "start_time": "2023-04-15T14:32:10.572Z"
   },
   {
    "duration": 10,
    "start_time": "2023-04-15T14:32:10.579Z"
   },
   {
    "duration": 48,
    "start_time": "2023-04-15T14:32:10.590Z"
   },
   {
    "duration": 212,
    "start_time": "2023-04-15T14:32:10.642Z"
   },
   {
    "duration": 167,
    "start_time": "2023-04-15T14:32:12.457Z"
   },
   {
    "duration": 116,
    "start_time": "2023-04-15T14:32:17.699Z"
   },
   {
    "duration": 184,
    "start_time": "2023-04-15T14:33:17.998Z"
   },
   {
    "duration": 2,
    "start_time": "2023-04-15T14:33:21.973Z"
   },
   {
    "duration": 578,
    "start_time": "2023-04-15T14:33:31.249Z"
   },
   {
    "duration": 90,
    "start_time": "2023-04-15T14:33:31.829Z"
   },
   {
    "duration": 32,
    "start_time": "2023-04-15T14:33:31.921Z"
   },
   {
    "duration": 21,
    "start_time": "2023-04-15T14:33:31.955Z"
   },
   {
    "duration": 22,
    "start_time": "2023-04-15T14:33:31.978Z"
   },
   {
    "duration": 16,
    "start_time": "2023-04-15T14:33:32.002Z"
   },
   {
    "duration": 5,
    "start_time": "2023-04-15T14:33:32.019Z"
   },
   {
    "duration": 16,
    "start_time": "2023-04-15T14:33:32.026Z"
   },
   {
    "duration": 21,
    "start_time": "2023-04-15T14:33:32.044Z"
   },
   {
    "duration": 10,
    "start_time": "2023-04-15T14:33:32.067Z"
   },
   {
    "duration": 18,
    "start_time": "2023-04-15T14:33:32.079Z"
   },
   {
    "duration": 6,
    "start_time": "2023-04-15T14:33:32.099Z"
   },
   {
    "duration": 42,
    "start_time": "2023-04-15T14:33:32.106Z"
   },
   {
    "duration": 4,
    "start_time": "2023-04-15T14:33:32.152Z"
   },
   {
    "duration": 24,
    "start_time": "2023-04-15T14:33:32.158Z"
   },
   {
    "duration": 12,
    "start_time": "2023-04-15T14:33:32.183Z"
   },
   {
    "duration": 48,
    "start_time": "2023-04-15T14:33:32.197Z"
   },
   {
    "duration": 19,
    "start_time": "2023-04-15T14:33:32.247Z"
   },
   {
    "duration": 13,
    "start_time": "2023-04-15T14:33:32.268Z"
   },
   {
    "duration": 5,
    "start_time": "2023-04-15T14:33:32.283Z"
   },
   {
    "duration": 7,
    "start_time": "2023-04-15T14:33:32.290Z"
   },
   {
    "duration": 45,
    "start_time": "2023-04-15T14:33:32.299Z"
   },
   {
    "duration": 5,
    "start_time": "2023-04-15T14:33:32.346Z"
   },
   {
    "duration": 10,
    "start_time": "2023-04-15T14:33:32.353Z"
   },
   {
    "duration": 10,
    "start_time": "2023-04-15T14:33:32.365Z"
   },
   {
    "duration": 18,
    "start_time": "2023-04-15T14:33:32.377Z"
   },
   {
    "duration": 9,
    "start_time": "2023-04-15T14:33:32.397Z"
   },
   {
    "duration": 5,
    "start_time": "2023-04-15T14:33:32.436Z"
   },
   {
    "duration": 7,
    "start_time": "2023-04-15T14:33:32.444Z"
   },
   {
    "duration": 58,
    "start_time": "2023-04-15T14:33:32.453Z"
   },
   {
    "duration": 14,
    "start_time": "2023-04-15T14:33:33.524Z"
   },
   {
    "duration": 110,
    "start_time": "2023-04-15T14:33:34.490Z"
   },
   {
    "duration": 13,
    "start_time": "2023-04-15T14:33:35.343Z"
   },
   {
    "duration": 13,
    "start_time": "2023-04-15T14:34:39.966Z"
   },
   {
    "duration": 145,
    "start_time": "2023-04-15T14:34:42.328Z"
   },
   {
    "duration": 15,
    "start_time": "2023-04-15T14:34:42.970Z"
   },
   {
    "duration": 24,
    "start_time": "2023-04-15T14:35:04.295Z"
   },
   {
    "duration": 122,
    "start_time": "2023-04-15T14:35:11.925Z"
   },
   {
    "duration": 21,
    "start_time": "2023-04-15T14:35:31.753Z"
   },
   {
    "duration": 12,
    "start_time": "2023-04-15T14:35:39.670Z"
   },
   {
    "duration": 20,
    "start_time": "2023-04-15T14:35:44.156Z"
   },
   {
    "duration": 12,
    "start_time": "2023-04-15T14:35:53.971Z"
   },
   {
    "duration": 28,
    "start_time": "2023-04-15T14:36:04.720Z"
   },
   {
    "duration": 11,
    "start_time": "2023-04-15T14:36:13.792Z"
   },
   {
    "duration": 9,
    "start_time": "2023-04-15T14:36:21.571Z"
   },
   {
    "duration": 689,
    "start_time": "2023-04-15T14:36:33.995Z"
   },
   {
    "duration": 93,
    "start_time": "2023-04-15T14:36:34.687Z"
   },
   {
    "duration": 134,
    "start_time": "2023-04-15T14:36:34.783Z"
   },
   {
    "duration": 41,
    "start_time": "2023-04-15T14:36:34.920Z"
   },
   {
    "duration": 39,
    "start_time": "2023-04-15T14:36:34.967Z"
   },
   {
    "duration": 20,
    "start_time": "2023-04-15T14:36:35.009Z"
   },
   {
    "duration": 9,
    "start_time": "2023-04-15T14:36:35.031Z"
   },
   {
    "duration": 20,
    "start_time": "2023-04-15T14:36:35.042Z"
   },
   {
    "duration": 30,
    "start_time": "2023-04-15T14:36:35.064Z"
   },
   {
    "duration": 11,
    "start_time": "2023-04-15T14:36:35.097Z"
   },
   {
    "duration": 22,
    "start_time": "2023-04-15T14:36:35.110Z"
   },
   {
    "duration": 6,
    "start_time": "2023-04-15T14:36:35.136Z"
   },
   {
    "duration": 23,
    "start_time": "2023-04-15T14:36:35.144Z"
   },
   {
    "duration": 8,
    "start_time": "2023-04-15T14:36:35.169Z"
   },
   {
    "duration": 21,
    "start_time": "2023-04-15T14:36:35.182Z"
   },
   {
    "duration": 32,
    "start_time": "2023-04-15T14:36:35.205Z"
   },
   {
    "duration": 37,
    "start_time": "2023-04-15T14:36:35.239Z"
   },
   {
    "duration": 17,
    "start_time": "2023-04-15T14:36:35.277Z"
   },
   {
    "duration": 25,
    "start_time": "2023-04-15T14:36:35.296Z"
   },
   {
    "duration": 15,
    "start_time": "2023-04-15T14:36:35.324Z"
   },
   {
    "duration": 17,
    "start_time": "2023-04-15T14:36:35.342Z"
   },
   {
    "duration": 25,
    "start_time": "2023-04-15T14:36:35.364Z"
   },
   {
    "duration": 8,
    "start_time": "2023-04-15T14:36:35.392Z"
   },
   {
    "duration": 13,
    "start_time": "2023-04-15T14:36:35.401Z"
   },
   {
    "duration": 659,
    "start_time": "2023-04-15T14:36:40.581Z"
   },
   {
    "duration": 85,
    "start_time": "2023-04-15T14:36:41.242Z"
   },
   {
    "duration": 39,
    "start_time": "2023-04-15T14:36:41.328Z"
   },
   {
    "duration": 18,
    "start_time": "2023-04-15T14:36:41.369Z"
   },
   {
    "duration": 18,
    "start_time": "2023-04-15T14:36:41.388Z"
   },
   {
    "duration": 32,
    "start_time": "2023-04-15T14:36:41.408Z"
   },
   {
    "duration": 11,
    "start_time": "2023-04-15T14:36:41.442Z"
   },
   {
    "duration": 10,
    "start_time": "2023-04-15T14:36:41.455Z"
   },
   {
    "duration": 14,
    "start_time": "2023-04-15T14:36:41.467Z"
   },
   {
    "duration": 9,
    "start_time": "2023-04-15T14:36:41.484Z"
   },
   {
    "duration": 21,
    "start_time": "2023-04-15T14:36:41.495Z"
   },
   {
    "duration": 5,
    "start_time": "2023-04-15T14:36:41.519Z"
   },
   {
    "duration": 24,
    "start_time": "2023-04-15T14:36:41.537Z"
   },
   {
    "duration": 4,
    "start_time": "2023-04-15T14:36:41.563Z"
   },
   {
    "duration": 17,
    "start_time": "2023-04-15T14:36:41.569Z"
   },
   {
    "duration": 11,
    "start_time": "2023-04-15T14:36:41.588Z"
   },
   {
    "duration": 52,
    "start_time": "2023-04-15T14:36:41.601Z"
   },
   {
    "duration": 17,
    "start_time": "2023-04-15T14:36:41.657Z"
   },
   {
    "duration": 8,
    "start_time": "2023-04-15T14:36:41.676Z"
   },
   {
    "duration": 4,
    "start_time": "2023-04-15T14:36:41.686Z"
   },
   {
    "duration": 6,
    "start_time": "2023-04-15T14:36:41.691Z"
   },
   {
    "duration": 41,
    "start_time": "2023-04-15T14:36:41.699Z"
   },
   {
    "duration": 6,
    "start_time": "2023-04-15T14:36:41.748Z"
   },
   {
    "duration": 25,
    "start_time": "2023-04-15T14:36:41.755Z"
   },
   {
    "duration": 6,
    "start_time": "2023-04-15T14:36:41.782Z"
   },
   {
    "duration": 17,
    "start_time": "2023-04-15T14:36:41.790Z"
   },
   {
    "duration": 6,
    "start_time": "2023-04-15T14:36:41.809Z"
   },
   {
    "duration": 8,
    "start_time": "2023-04-15T14:36:41.819Z"
   },
   {
    "duration": 20,
    "start_time": "2023-04-15T14:36:41.829Z"
   },
   {
    "duration": 18,
    "start_time": "2023-04-15T14:36:41.852Z"
   },
   {
    "duration": 125,
    "start_time": "2023-04-15T14:36:41.891Z"
   },
   {
    "duration": 28,
    "start_time": "2023-04-15T14:36:42.020Z"
   },
   {
    "duration": 15,
    "start_time": "2023-04-15T14:36:59.485Z"
   },
   {
    "duration": 8,
    "start_time": "2023-04-15T14:38:12.997Z"
   },
   {
    "duration": 8,
    "start_time": "2023-04-15T14:38:19.380Z"
   },
   {
    "duration": 4,
    "start_time": "2023-04-15T14:39:05.880Z"
   },
   {
    "duration": 10,
    "start_time": "2023-04-15T14:39:12.281Z"
   },
   {
    "duration": 5,
    "start_time": "2023-04-15T14:39:16.069Z"
   },
   {
    "duration": 8,
    "start_time": "2023-04-15T14:39:16.577Z"
   },
   {
    "duration": 11,
    "start_time": "2023-04-15T14:40:01.334Z"
   },
   {
    "duration": 11,
    "start_time": "2023-04-15T14:40:06.969Z"
   },
   {
    "duration": 143,
    "start_time": "2023-04-15T14:40:32.134Z"
   },
   {
    "duration": 594,
    "start_time": "2023-04-15T14:40:55.343Z"
   },
   {
    "duration": 75,
    "start_time": "2023-04-15T14:40:55.939Z"
   },
   {
    "duration": 40,
    "start_time": "2023-04-15T14:40:56.016Z"
   },
   {
    "duration": 17,
    "start_time": "2023-04-15T14:40:56.058Z"
   },
   {
    "duration": 20,
    "start_time": "2023-04-15T14:40:56.077Z"
   },
   {
    "duration": 16,
    "start_time": "2023-04-15T14:40:56.099Z"
   },
   {
    "duration": 12,
    "start_time": "2023-04-15T14:40:56.116Z"
   },
   {
    "duration": 20,
    "start_time": "2023-04-15T14:40:56.129Z"
   },
   {
    "duration": 9,
    "start_time": "2023-04-15T14:40:56.151Z"
   },
   {
    "duration": 12,
    "start_time": "2023-04-15T14:40:56.162Z"
   },
   {
    "duration": 17,
    "start_time": "2023-04-15T14:40:56.176Z"
   },
   {
    "duration": 6,
    "start_time": "2023-04-15T14:40:56.194Z"
   },
   {
    "duration": 13,
    "start_time": "2023-04-15T14:40:56.202Z"
   },
   {
    "duration": 11,
    "start_time": "2023-04-15T14:40:56.236Z"
   },
   {
    "duration": 40,
    "start_time": "2023-04-15T14:40:56.249Z"
   },
   {
    "duration": 12,
    "start_time": "2023-04-15T14:40:56.291Z"
   },
   {
    "duration": 27,
    "start_time": "2023-04-15T14:40:56.305Z"
   },
   {
    "duration": 20,
    "start_time": "2023-04-15T14:40:56.333Z"
   },
   {
    "duration": 8,
    "start_time": "2023-04-15T14:40:56.354Z"
   },
   {
    "duration": 4,
    "start_time": "2023-04-15T14:40:56.363Z"
   },
   {
    "duration": 8,
    "start_time": "2023-04-15T14:40:56.368Z"
   },
   {
    "duration": 17,
    "start_time": "2023-04-15T14:40:56.378Z"
   },
   {
    "duration": 15,
    "start_time": "2023-04-15T14:40:56.396Z"
   },
   {
    "duration": 14,
    "start_time": "2023-04-15T14:40:56.412Z"
   },
   {
    "duration": 15,
    "start_time": "2023-04-15T14:40:56.427Z"
   },
   {
    "duration": 14,
    "start_time": "2023-04-15T14:40:56.443Z"
   },
   {
    "duration": 48,
    "start_time": "2023-04-15T14:40:56.458Z"
   },
   {
    "duration": 10,
    "start_time": "2023-04-15T14:40:56.509Z"
   },
   {
    "duration": 35,
    "start_time": "2023-04-15T14:40:56.520Z"
   },
   {
    "duration": 28,
    "start_time": "2023-04-15T14:40:56.557Z"
   },
   {
    "duration": 147,
    "start_time": "2023-04-15T14:40:59.719Z"
   },
   {
    "duration": 100,
    "start_time": "2023-04-15T14:42:34.232Z"
   },
   {
    "duration": 585,
    "start_time": "2023-04-15T14:43:10.970Z"
   },
   {
    "duration": 20,
    "start_time": "2023-04-15T14:43:26.496Z"
   },
   {
    "duration": 24,
    "start_time": "2023-04-15T14:44:44.122Z"
   },
   {
    "duration": 20,
    "start_time": "2023-04-15T14:44:57.078Z"
   },
   {
    "duration": 8,
    "start_time": "2023-04-15T14:45:18.225Z"
   },
   {
    "duration": 22,
    "start_time": "2023-04-15T14:45:24.471Z"
   },
   {
    "duration": 4,
    "start_time": "2023-04-15T14:46:01.832Z"
   },
   {
    "duration": 27,
    "start_time": "2023-04-15T14:46:04.907Z"
   },
   {
    "duration": 6,
    "start_time": "2023-04-15T14:46:26.211Z"
   },
   {
    "duration": 22,
    "start_time": "2023-04-15T14:46:29.883Z"
   },
   {
    "duration": 4,
    "start_time": "2023-04-15T14:46:42.333Z"
   },
   {
    "duration": 21,
    "start_time": "2023-04-15T14:46:45.121Z"
   },
   {
    "duration": 15,
    "start_time": "2023-04-15T14:47:24.876Z"
   },
   {
    "duration": 13,
    "start_time": "2023-04-15T14:47:51.107Z"
   },
   {
    "duration": 14,
    "start_time": "2023-04-15T14:48:37.793Z"
   },
   {
    "duration": 13,
    "start_time": "2023-04-15T14:49:04.123Z"
   },
   {
    "duration": 20,
    "start_time": "2023-04-15T14:49:23.383Z"
   },
   {
    "duration": 18,
    "start_time": "2023-04-15T14:49:39.394Z"
   },
   {
    "duration": 18,
    "start_time": "2023-04-15T14:49:47.461Z"
   },
   {
    "duration": 19,
    "start_time": "2023-04-15T14:50:00.539Z"
   },
   {
    "duration": 21,
    "start_time": "2023-04-15T14:50:10.160Z"
   },
   {
    "duration": 30,
    "start_time": "2023-04-15T14:50:13.040Z"
   },
   {
    "duration": 4,
    "start_time": "2023-04-15T14:50:18.909Z"
   },
   {
    "duration": 20,
    "start_time": "2023-04-15T14:50:24.827Z"
   },
   {
    "duration": 8,
    "start_time": "2023-04-15T14:50:49.802Z"
   },
   {
    "duration": 10,
    "start_time": "2023-04-15T14:51:03.499Z"
   },
   {
    "duration": 13,
    "start_time": "2023-04-15T14:51:24.886Z"
   },
   {
    "duration": 8,
    "start_time": "2023-04-15T14:51:28.177Z"
   },
   {
    "duration": 23,
    "start_time": "2023-04-15T14:51:30.180Z"
   },
   {
    "duration": 21,
    "start_time": "2023-04-15T14:51:35.186Z"
   },
   {
    "duration": 13,
    "start_time": "2023-04-15T14:51:50.406Z"
   },
   {
    "duration": 19,
    "start_time": "2023-04-15T14:51:54.387Z"
   },
   {
    "duration": 8,
    "start_time": "2023-04-15T14:52:09.519Z"
   },
   {
    "duration": 9,
    "start_time": "2023-04-15T14:52:17.310Z"
   },
   {
    "duration": 13,
    "start_time": "2023-04-15T14:52:22.928Z"
   },
   {
    "duration": 13,
    "start_time": "2023-04-15T14:52:29.423Z"
   },
   {
    "duration": 14,
    "start_time": "2023-04-15T14:52:34.643Z"
   },
   {
    "duration": 25,
    "start_time": "2023-04-15T14:52:42.207Z"
   },
   {
    "duration": 19,
    "start_time": "2023-04-15T14:53:03.727Z"
   },
   {
    "duration": 21,
    "start_time": "2023-04-15T14:53:26.351Z"
   },
   {
    "duration": 5,
    "start_time": "2023-04-15T14:54:05.408Z"
   },
   {
    "duration": 23,
    "start_time": "2023-04-15T14:54:08.691Z"
   },
   {
    "duration": 6,
    "start_time": "2023-04-15T14:54:50.787Z"
   },
   {
    "duration": 21,
    "start_time": "2023-04-15T14:54:53.706Z"
   },
   {
    "duration": 6,
    "start_time": "2023-04-15T14:55:11.911Z"
   },
   {
    "duration": 22,
    "start_time": "2023-04-15T14:55:14.801Z"
   },
   {
    "duration": 7,
    "start_time": "2023-04-15T14:56:28.908Z"
   },
   {
    "duration": 46,
    "start_time": "2023-04-15T14:57:12.749Z"
   },
   {
    "duration": 87,
    "start_time": "2023-04-15T14:57:17.815Z"
   },
   {
    "duration": 5,
    "start_time": "2023-04-15T14:57:46.122Z"
   },
   {
    "duration": 19,
    "start_time": "2023-04-15T14:57:49.668Z"
   },
   {
    "duration": 5,
    "start_time": "2023-04-15T14:58:05.090Z"
   },
   {
    "duration": 20,
    "start_time": "2023-04-15T14:58:07.699Z"
   },
   {
    "duration": 6,
    "start_time": "2023-04-15T14:58:41.028Z"
   },
   {
    "duration": 21,
    "start_time": "2023-04-15T14:58:44.298Z"
   },
   {
    "duration": 62,
    "start_time": "2023-04-15T15:03:33.376Z"
   },
   {
    "duration": 6,
    "start_time": "2023-04-15T15:03:40.817Z"
   },
   {
    "duration": 14,
    "start_time": "2023-04-15T15:03:48.395Z"
   },
   {
    "duration": 12,
    "start_time": "2023-04-15T15:03:56.198Z"
   },
   {
    "duration": 10,
    "start_time": "2023-04-15T15:04:23.230Z"
   },
   {
    "duration": 9,
    "start_time": "2023-04-15T15:04:44.240Z"
   },
   {
    "duration": 8,
    "start_time": "2023-04-15T15:04:54.822Z"
   },
   {
    "duration": 7,
    "start_time": "2023-04-15T15:05:32.994Z"
   },
   {
    "duration": 6,
    "start_time": "2023-04-15T15:05:43.669Z"
   },
   {
    "duration": 10,
    "start_time": "2023-04-15T15:06:00.248Z"
   },
   {
    "duration": 14,
    "start_time": "2023-04-15T15:06:32.802Z"
   },
   {
    "duration": 15,
    "start_time": "2023-04-15T15:06:36.454Z"
   },
   {
    "duration": 7,
    "start_time": "2023-04-15T15:08:16.395Z"
   },
   {
    "duration": 19,
    "start_time": "2023-04-15T15:08:19.696Z"
   },
   {
    "duration": 6,
    "start_time": "2023-04-15T15:10:52.281Z"
   },
   {
    "duration": 19,
    "start_time": "2023-04-15T15:10:54.979Z"
   },
   {
    "duration": 10,
    "start_time": "2023-04-15T15:12:33.452Z"
   },
   {
    "duration": 21,
    "start_time": "2023-04-15T15:12:35.796Z"
   },
   {
    "duration": 49,
    "start_time": "2023-04-15T15:13:08.992Z"
   },
   {
    "duration": 6,
    "start_time": "2023-04-15T15:13:13.302Z"
   },
   {
    "duration": 28,
    "start_time": "2023-04-15T15:13:15.833Z"
   },
   {
    "duration": 21,
    "start_time": "2023-04-15T15:14:35.488Z"
   },
   {
    "duration": 7,
    "start_time": "2023-04-15T15:14:36.748Z"
   },
   {
    "duration": 23,
    "start_time": "2023-04-15T15:14:37.151Z"
   },
   {
    "duration": 10,
    "start_time": "2023-04-15T15:14:47.359Z"
   },
   {
    "duration": 29,
    "start_time": "2023-04-15T15:14:48.484Z"
   },
   {
    "duration": 7,
    "start_time": "2023-04-15T15:15:43.451Z"
   },
   {
    "duration": 20,
    "start_time": "2023-04-15T15:15:43.645Z"
   },
   {
    "duration": 7,
    "start_time": "2023-04-15T15:18:59.828Z"
   },
   {
    "duration": 21,
    "start_time": "2023-04-15T15:19:00.099Z"
   },
   {
    "duration": 9,
    "start_time": "2023-04-15T15:19:46.456Z"
   },
   {
    "duration": 30,
    "start_time": "2023-04-15T15:19:46.624Z"
   },
   {
    "duration": 10,
    "start_time": "2023-04-15T15:19:51.733Z"
   },
   {
    "duration": 24,
    "start_time": "2023-04-15T15:19:51.987Z"
   },
   {
    "duration": 9,
    "start_time": "2023-04-15T15:21:53.537Z"
   },
   {
    "duration": 20,
    "start_time": "2023-04-15T15:21:53.868Z"
   },
   {
    "duration": 8,
    "start_time": "2023-04-15T15:22:03.099Z"
   },
   {
    "duration": 12,
    "start_time": "2023-04-15T15:22:07.675Z"
   },
   {
    "duration": 19,
    "start_time": "2023-04-15T15:22:09.061Z"
   },
   {
    "duration": 13,
    "start_time": "2023-04-15T15:22:15.784Z"
   },
   {
    "duration": 8,
    "start_time": "2023-04-15T15:23:54.633Z"
   },
   {
    "duration": 212,
    "start_time": "2023-04-15T15:24:24.141Z"
   },
   {
    "duration": 10,
    "start_time": "2023-04-15T15:24:40.434Z"
   },
   {
    "duration": 7,
    "start_time": "2023-04-15T15:24:42.636Z"
   },
   {
    "duration": 8,
    "start_time": "2023-04-15T15:24:47.834Z"
   },
   {
    "duration": 5,
    "start_time": "2023-04-15T15:24:49.504Z"
   },
   {
    "duration": 446,
    "start_time": "2023-04-15T15:25:02.353Z"
   },
   {
    "duration": 186,
    "start_time": "2023-04-15T15:25:15.556Z"
   },
   {
    "duration": 170,
    "start_time": "2023-04-15T15:25:19.304Z"
   },
   {
    "duration": 202,
    "start_time": "2023-04-15T15:25:27.097Z"
   },
   {
    "duration": 194,
    "start_time": "2023-04-15T15:25:47.379Z"
   },
   {
    "duration": 208,
    "start_time": "2023-04-15T15:25:50.807Z"
   },
   {
    "duration": 219,
    "start_time": "2023-04-15T15:26:13.297Z"
   },
   {
    "duration": 216,
    "start_time": "2023-04-15T15:26:24.613Z"
   },
   {
    "duration": 29,
    "start_time": "2023-04-15T15:27:17.146Z"
   },
   {
    "duration": 31,
    "start_time": "2023-04-15T15:27:19.317Z"
   },
   {
    "duration": 588,
    "start_time": "2023-04-15T15:27:49.359Z"
   },
   {
    "duration": 78,
    "start_time": "2023-04-15T15:27:49.949Z"
   },
   {
    "duration": 44,
    "start_time": "2023-04-15T15:27:50.028Z"
   },
   {
    "duration": 15,
    "start_time": "2023-04-15T15:27:50.074Z"
   },
   {
    "duration": 28,
    "start_time": "2023-04-15T15:27:50.091Z"
   },
   {
    "duration": 14,
    "start_time": "2023-04-15T15:27:50.120Z"
   },
   {
    "duration": 18,
    "start_time": "2023-04-15T15:27:50.135Z"
   },
   {
    "duration": 19,
    "start_time": "2023-04-15T15:27:50.154Z"
   },
   {
    "duration": 9,
    "start_time": "2023-04-15T15:27:50.174Z"
   },
   {
    "duration": 18,
    "start_time": "2023-04-15T15:27:50.185Z"
   },
   {
    "duration": 43,
    "start_time": "2023-04-15T15:27:50.204Z"
   },
   {
    "duration": 7,
    "start_time": "2023-04-15T15:27:50.248Z"
   },
   {
    "duration": 20,
    "start_time": "2023-04-15T15:27:50.256Z"
   },
   {
    "duration": 9,
    "start_time": "2023-04-15T15:27:50.278Z"
   },
   {
    "duration": 15,
    "start_time": "2023-04-15T15:27:50.288Z"
   },
   {
    "duration": 8,
    "start_time": "2023-04-15T15:27:50.305Z"
   },
   {
    "duration": 43,
    "start_time": "2023-04-15T15:27:50.315Z"
   },
   {
    "duration": 16,
    "start_time": "2023-04-15T15:27:50.360Z"
   },
   {
    "duration": 16,
    "start_time": "2023-04-15T15:27:50.378Z"
   },
   {
    "duration": 23,
    "start_time": "2023-04-15T15:27:50.395Z"
   },
   {
    "duration": 34,
    "start_time": "2023-04-15T15:27:50.419Z"
   },
   {
    "duration": 16,
    "start_time": "2023-04-15T15:27:50.459Z"
   },
   {
    "duration": 26,
    "start_time": "2023-04-15T15:27:50.476Z"
   },
   {
    "duration": 59,
    "start_time": "2023-04-15T15:27:50.503Z"
   },
   {
    "duration": 5,
    "start_time": "2023-04-15T15:27:50.568Z"
   },
   {
    "duration": 73,
    "start_time": "2023-04-15T15:27:50.575Z"
   },
   {
    "duration": 46,
    "start_time": "2023-04-15T15:27:50.650Z"
   },
   {
    "duration": 7,
    "start_time": "2023-04-15T15:27:50.697Z"
   },
   {
    "duration": 11,
    "start_time": "2023-04-15T15:27:50.705Z"
   },
   {
    "duration": 9,
    "start_time": "2023-04-15T15:27:50.717Z"
   },
   {
    "duration": 5,
    "start_time": "2023-04-15T15:27:51.881Z"
   },
   {
    "duration": 48,
    "start_time": "2023-04-15T15:27:52.378Z"
   },
   {
    "duration": 25,
    "start_time": "2023-04-15T15:30:27.999Z"
   },
   {
    "duration": 29,
    "start_time": "2023-04-15T15:30:29.335Z"
   },
   {
    "duration": 42,
    "start_time": "2023-04-15T15:30:46.686Z"
   },
   {
    "duration": 32,
    "start_time": "2023-04-15T15:30:48.119Z"
   },
   {
    "duration": 22,
    "start_time": "2023-04-15T15:30:57.867Z"
   },
   {
    "duration": 37,
    "start_time": "2023-04-15T15:31:03.427Z"
   },
   {
    "duration": 713,
    "start_time": "2023-04-15T15:31:12.111Z"
   },
   {
    "duration": 83,
    "start_time": "2023-04-15T15:31:12.826Z"
   },
   {
    "duration": 43,
    "start_time": "2023-04-15T15:31:12.911Z"
   },
   {
    "duration": 23,
    "start_time": "2023-04-15T15:31:12.959Z"
   },
   {
    "duration": 26,
    "start_time": "2023-04-15T15:31:12.984Z"
   },
   {
    "duration": 18,
    "start_time": "2023-04-15T15:31:13.011Z"
   },
   {
    "duration": 23,
    "start_time": "2023-04-15T15:31:13.031Z"
   },
   {
    "duration": 11,
    "start_time": "2023-04-15T15:31:13.056Z"
   },
   {
    "duration": 14,
    "start_time": "2023-04-15T15:31:13.069Z"
   },
   {
    "duration": 24,
    "start_time": "2023-04-15T15:31:13.084Z"
   },
   {
    "duration": 37,
    "start_time": "2023-04-15T15:31:13.110Z"
   },
   {
    "duration": 12,
    "start_time": "2023-04-15T15:31:13.149Z"
   },
   {
    "duration": 28,
    "start_time": "2023-04-15T15:31:13.163Z"
   },
   {
    "duration": 4,
    "start_time": "2023-04-15T15:31:13.194Z"
   },
   {
    "duration": 26,
    "start_time": "2023-04-15T15:31:13.199Z"
   },
   {
    "duration": 12,
    "start_time": "2023-04-15T15:31:13.227Z"
   },
   {
    "duration": 37,
    "start_time": "2023-04-15T15:31:13.244Z"
   },
   {
    "duration": 12,
    "start_time": "2023-04-15T15:31:13.283Z"
   },
   {
    "duration": 9,
    "start_time": "2023-04-15T15:31:13.296Z"
   },
   {
    "duration": 47,
    "start_time": "2023-04-15T15:31:13.306Z"
   },
   {
    "duration": 28,
    "start_time": "2023-04-15T15:31:13.355Z"
   },
   {
    "duration": 35,
    "start_time": "2023-04-15T15:31:13.384Z"
   },
   {
    "duration": 10,
    "start_time": "2023-04-15T15:31:13.420Z"
   },
   {
    "duration": 24,
    "start_time": "2023-04-15T15:31:13.432Z"
   },
   {
    "duration": 6,
    "start_time": "2023-04-15T15:31:13.457Z"
   },
   {
    "duration": 17,
    "start_time": "2023-04-15T15:31:13.465Z"
   },
   {
    "duration": 15,
    "start_time": "2023-04-15T15:31:13.483Z"
   },
   {
    "duration": 6,
    "start_time": "2023-04-15T15:31:13.499Z"
   },
   {
    "duration": 6,
    "start_time": "2023-04-15T15:31:13.507Z"
   },
   {
    "duration": 8,
    "start_time": "2023-04-15T15:31:13.514Z"
   },
   {
    "duration": 82,
    "start_time": "2023-04-15T15:31:16.532Z"
   },
   {
    "duration": 10,
    "start_time": "2023-04-15T15:31:43.659Z"
   },
   {
    "duration": 28,
    "start_time": "2023-04-15T15:31:46.651Z"
   },
   {
    "duration": 7,
    "start_time": "2023-04-15T15:32:05.123Z"
   },
   {
    "duration": 29,
    "start_time": "2023-04-15T15:32:08.354Z"
   },
   {
    "duration": 10,
    "start_time": "2023-04-15T15:33:59.627Z"
   },
   {
    "duration": 27,
    "start_time": "2023-04-15T15:34:01.579Z"
   },
   {
    "duration": 8,
    "start_time": "2023-04-15T15:34:36.155Z"
   },
   {
    "duration": 40,
    "start_time": "2023-04-15T15:34:37.974Z"
   },
   {
    "duration": 40,
    "start_time": "2023-04-15T16:09:52.260Z"
   },
   {
    "duration": 10,
    "start_time": "2023-04-15T16:11:02.690Z"
   },
   {
    "duration": 26,
    "start_time": "2023-04-15T16:11:04.664Z"
   },
   {
    "duration": 6,
    "start_time": "2023-04-15T16:11:26.963Z"
   },
   {
    "duration": 25,
    "start_time": "2023-04-15T16:11:28.691Z"
   },
   {
    "duration": 7,
    "start_time": "2023-04-15T16:19:35.594Z"
   },
   {
    "duration": 25,
    "start_time": "2023-04-15T16:19:37.817Z"
   },
   {
    "duration": 11,
    "start_time": "2023-04-15T16:20:58.426Z"
   },
   {
    "duration": 26,
    "start_time": "2023-04-15T16:21:00.497Z"
   },
   {
    "duration": 8,
    "start_time": "2023-04-15T16:26:11.844Z"
   },
   {
    "duration": 26,
    "start_time": "2023-04-15T16:26:13.800Z"
   },
   {
    "duration": 8,
    "start_time": "2023-04-15T16:26:49.992Z"
   },
   {
    "duration": 26,
    "start_time": "2023-04-15T16:26:51.604Z"
   },
   {
    "duration": 577,
    "start_time": "2023-04-15T16:27:14.491Z"
   },
   {
    "duration": 230,
    "start_time": "2023-04-15T16:27:15.070Z"
   },
   {
    "duration": 40,
    "start_time": "2023-04-15T16:27:15.302Z"
   },
   {
    "duration": 18,
    "start_time": "2023-04-15T16:27:15.344Z"
   },
   {
    "duration": 20,
    "start_time": "2023-04-15T16:27:15.364Z"
   },
   {
    "duration": 16,
    "start_time": "2023-04-15T16:27:15.385Z"
   },
   {
    "duration": 5,
    "start_time": "2023-04-15T16:27:15.402Z"
   },
   {
    "duration": 32,
    "start_time": "2023-04-15T16:27:15.409Z"
   },
   {
    "duration": 14,
    "start_time": "2023-04-15T16:27:15.443Z"
   },
   {
    "duration": 8,
    "start_time": "2023-04-15T16:27:15.459Z"
   },
   {
    "duration": 22,
    "start_time": "2023-04-15T16:27:15.468Z"
   },
   {
    "duration": 7,
    "start_time": "2023-04-15T16:27:15.492Z"
   },
   {
    "duration": 54,
    "start_time": "2023-04-15T16:27:15.501Z"
   },
   {
    "duration": 12,
    "start_time": "2023-04-15T16:27:15.559Z"
   },
   {
    "duration": 17,
    "start_time": "2023-04-15T16:27:15.573Z"
   },
   {
    "duration": 9,
    "start_time": "2023-04-15T16:27:15.591Z"
   },
   {
    "duration": 43,
    "start_time": "2023-04-15T16:27:15.602Z"
   },
   {
    "duration": 12,
    "start_time": "2023-04-15T16:27:15.646Z"
   },
   {
    "duration": 8,
    "start_time": "2023-04-15T16:27:15.659Z"
   },
   {
    "duration": 3,
    "start_time": "2023-04-15T16:27:15.669Z"
   },
   {
    "duration": 6,
    "start_time": "2023-04-15T16:27:15.673Z"
   },
   {
    "duration": 15,
    "start_time": "2023-04-15T16:27:15.681Z"
   },
   {
    "duration": 3,
    "start_time": "2023-04-15T16:27:15.698Z"
   },
   {
    "duration": 11,
    "start_time": "2023-04-15T16:27:15.736Z"
   },
   {
    "duration": 5,
    "start_time": "2023-04-15T16:27:15.749Z"
   },
   {
    "duration": 18,
    "start_time": "2023-04-15T16:27:15.756Z"
   },
   {
    "duration": 15,
    "start_time": "2023-04-15T16:27:15.776Z"
   },
   {
    "duration": 7,
    "start_time": "2023-04-15T16:27:15.793Z"
   },
   {
    "duration": 34,
    "start_time": "2023-04-15T16:27:15.802Z"
   },
   {
    "duration": 6,
    "start_time": "2023-04-15T16:27:15.838Z"
   },
   {
    "duration": 69,
    "start_time": "2023-04-15T16:27:15.846Z"
   },
   {
    "duration": 9,
    "start_time": "2023-04-15T16:27:18.242Z"
   },
   {
    "duration": 31,
    "start_time": "2023-04-15T16:27:20.277Z"
   },
   {
    "duration": 53,
    "start_time": "2023-04-15T16:27:45.100Z"
   },
   {
    "duration": 9,
    "start_time": "2023-04-15T16:27:52.338Z"
   },
   {
    "duration": 36,
    "start_time": "2023-04-15T16:27:54.035Z"
   },
   {
    "duration": 47,
    "start_time": "2023-04-15T16:29:26.500Z"
   },
   {
    "duration": 27,
    "start_time": "2023-04-15T16:29:28.513Z"
   },
   {
    "duration": 9,
    "start_time": "2023-04-15T16:29:37.831Z"
   },
   {
    "duration": 26,
    "start_time": "2023-04-15T16:29:39.999Z"
   },
   {
    "duration": 9,
    "start_time": "2023-04-15T16:32:27.547Z"
   },
   {
    "duration": 30,
    "start_time": "2023-04-15T16:32:29.576Z"
   },
   {
    "duration": 8,
    "start_time": "2023-04-15T16:32:42.382Z"
   },
   {
    "duration": 26,
    "start_time": "2023-04-15T16:32:44.314Z"
   },
   {
    "duration": 15,
    "start_time": "2023-04-15T17:14:08.361Z"
   },
   {
    "duration": 31,
    "start_time": "2023-04-15T17:14:10.150Z"
   },
   {
    "duration": 56,
    "start_time": "2023-04-16T19:42:44.928Z"
   },
   {
    "duration": 716,
    "start_time": "2023-04-16T19:42:48.325Z"
   },
   {
    "duration": 213,
    "start_time": "2023-04-16T19:42:49.043Z"
   },
   {
    "duration": 101,
    "start_time": "2023-04-16T19:42:49.258Z"
   },
   {
    "duration": 21,
    "start_time": "2023-04-16T19:42:49.361Z"
   },
   {
    "duration": 18,
    "start_time": "2023-04-16T19:42:49.384Z"
   },
   {
    "duration": 14,
    "start_time": "2023-04-16T19:42:49.403Z"
   },
   {
    "duration": 8,
    "start_time": "2023-04-16T19:42:49.418Z"
   },
   {
    "duration": 9,
    "start_time": "2023-04-16T19:42:49.428Z"
   },
   {
    "duration": 11,
    "start_time": "2023-04-16T19:42:49.438Z"
   },
   {
    "duration": 7,
    "start_time": "2023-04-16T19:42:49.450Z"
   },
   {
    "duration": 25,
    "start_time": "2023-04-16T19:42:49.458Z"
   },
   {
    "duration": 5,
    "start_time": "2023-04-16T19:42:49.485Z"
   },
   {
    "duration": 16,
    "start_time": "2023-04-16T19:42:49.491Z"
   },
   {
    "duration": 8,
    "start_time": "2023-04-16T19:42:49.509Z"
   },
   {
    "duration": 24,
    "start_time": "2023-04-16T19:42:49.518Z"
   },
   {
    "duration": 7,
    "start_time": "2023-04-16T19:42:49.544Z"
   },
   {
    "duration": 35,
    "start_time": "2023-04-16T19:42:49.553Z"
   },
   {
    "duration": 11,
    "start_time": "2023-04-16T19:42:49.590Z"
   },
   {
    "duration": 24,
    "start_time": "2023-04-16T19:42:49.602Z"
   },
   {
    "duration": 5,
    "start_time": "2023-04-16T19:42:49.627Z"
   },
   {
    "duration": 5,
    "start_time": "2023-04-16T19:42:49.634Z"
   },
   {
    "duration": 14,
    "start_time": "2023-04-16T19:42:49.640Z"
   },
   {
    "duration": 8,
    "start_time": "2023-04-16T19:42:49.656Z"
   },
   {
    "duration": 11,
    "start_time": "2023-04-16T19:42:49.665Z"
   },
   {
    "duration": 16,
    "start_time": "2023-04-16T19:42:49.677Z"
   },
   {
    "duration": 12,
    "start_time": "2023-04-16T19:42:49.695Z"
   },
   {
    "duration": 17,
    "start_time": "2023-04-16T19:42:49.708Z"
   },
   {
    "duration": 7,
    "start_time": "2023-04-16T19:42:49.726Z"
   },
   {
    "duration": 5,
    "start_time": "2023-04-16T19:42:49.734Z"
   },
   {
    "duration": 8,
    "start_time": "2023-04-16T19:42:49.740Z"
   },
   {
    "duration": 74,
    "start_time": "2023-04-16T19:42:49.749Z"
   },
   {
    "duration": 22,
    "start_time": "2023-04-16T19:43:32.024Z"
   },
   {
    "duration": 19,
    "start_time": "2023-04-16T19:43:34.916Z"
   },
   {
    "duration": 5,
    "start_time": "2023-04-16T19:44:04.439Z"
   },
   {
    "duration": 14,
    "start_time": "2023-04-16T19:44:05.394Z"
   },
   {
    "duration": 5,
    "start_time": "2023-04-16T19:44:18.244Z"
   },
   {
    "duration": 18,
    "start_time": "2023-04-16T19:44:19.909Z"
   },
   {
    "duration": 6,
    "start_time": "2023-04-16T19:44:31.305Z"
   },
   {
    "duration": 14,
    "start_time": "2023-04-16T19:44:32.432Z"
   },
   {
    "duration": 6,
    "start_time": "2023-04-16T19:44:39.665Z"
   },
   {
    "duration": 16,
    "start_time": "2023-04-16T19:44:39.951Z"
   },
   {
    "duration": 4,
    "start_time": "2023-04-16T19:44:42.347Z"
   },
   {
    "duration": 17,
    "start_time": "2023-04-16T19:44:42.483Z"
   },
   {
    "duration": 5,
    "start_time": "2023-04-16T19:44:44.716Z"
   },
   {
    "duration": 15,
    "start_time": "2023-04-16T19:44:44.852Z"
   },
   {
    "duration": 5,
    "start_time": "2023-04-16T19:44:47.187Z"
   },
   {
    "duration": 15,
    "start_time": "2023-04-16T19:44:47.320Z"
   },
   {
    "duration": 4,
    "start_time": "2023-04-16T19:45:14.429Z"
   },
   {
    "duration": 15,
    "start_time": "2023-04-16T19:45:14.808Z"
   },
   {
    "duration": 44,
    "start_time": "2023-04-16T19:45:24.055Z"
   },
   {
    "duration": 8,
    "start_time": "2023-04-16T19:45:29.116Z"
   },
   {
    "duration": 5,
    "start_time": "2023-04-16T19:45:40.924Z"
   },
   {
    "duration": 15,
    "start_time": "2023-04-16T19:45:41.224Z"
   },
   {
    "duration": 5,
    "start_time": "2023-04-16T19:46:33.638Z"
   },
   {
    "duration": 16,
    "start_time": "2023-04-16T19:46:33.783Z"
   },
   {
    "duration": 9,
    "start_time": "2023-04-16T19:47:01.568Z"
   },
   {
    "duration": 21,
    "start_time": "2023-04-16T19:47:02.272Z"
   },
   {
    "duration": 6,
    "start_time": "2023-04-16T19:47:14.409Z"
   },
   {
    "duration": 15,
    "start_time": "2023-04-16T19:47:14.499Z"
   },
   {
    "duration": 82,
    "start_time": "2023-04-16T19:47:36.541Z"
   },
   {
    "duration": 21,
    "start_time": "2023-04-16T19:47:36.667Z"
   },
   {
    "duration": 325,
    "start_time": "2023-04-16T19:47:40.621Z"
   },
   {
    "duration": 79,
    "start_time": "2023-04-16T19:48:03.455Z"
   },
   {
    "duration": 15,
    "start_time": "2023-04-16T19:48:03.730Z"
   },
   {
    "duration": 345,
    "start_time": "2023-04-16T19:48:09.609Z"
   },
   {
    "duration": 0,
    "start_time": "2023-04-16T19:48:09.956Z"
   },
   {
    "duration": 80,
    "start_time": "2023-04-16T21:07:43.332Z"
   },
   {
    "duration": 113,
    "start_time": "2023-04-16T21:07:54.864Z"
   },
   {
    "duration": 97,
    "start_time": "2023-04-16T21:08:07.968Z"
   },
   {
    "duration": 34,
    "start_time": "2023-04-16T21:08:14.691Z"
   },
   {
    "duration": 34,
    "start_time": "2023-04-16T21:08:19.559Z"
   },
   {
    "duration": 23,
    "start_time": "2023-04-16T21:09:13.720Z"
   },
   {
    "duration": 14,
    "start_time": "2023-04-16T21:09:14.553Z"
   },
   {
    "duration": 99,
    "start_time": "2023-04-16T21:09:49.591Z"
   },
   {
    "duration": 28,
    "start_time": "2023-04-16T21:09:50.070Z"
   },
   {
    "duration": 18,
    "start_time": "2023-04-16T21:09:50.926Z"
   },
   {
    "duration": 32,
    "start_time": "2023-04-16T21:13:53.279Z"
   },
   {
    "duration": 13,
    "start_time": "2023-04-16T21:13:53.650Z"
   },
   {
    "duration": 28,
    "start_time": "2023-04-16T21:14:20.734Z"
   },
   {
    "duration": 14,
    "start_time": "2023-04-16T21:14:20.943Z"
   },
   {
    "duration": 56,
    "start_time": "2023-04-16T21:14:40.751Z"
   },
   {
    "duration": 17,
    "start_time": "2023-04-16T21:14:41.089Z"
   },
   {
    "duration": 38,
    "start_time": "2023-04-16T21:14:50.624Z"
   },
   {
    "duration": 20,
    "start_time": "2023-04-16T21:14:50.969Z"
   },
   {
    "duration": 42,
    "start_time": "2023-04-16T21:16:03.219Z"
   },
   {
    "duration": 14,
    "start_time": "2023-04-16T21:16:03.443Z"
   },
   {
    "duration": 76,
    "start_time": "2023-04-16T21:16:18.464Z"
   },
   {
    "duration": 18,
    "start_time": "2023-04-16T21:16:18.619Z"
   },
   {
    "duration": 646,
    "start_time": "2023-04-16T21:16:42.365Z"
   },
   {
    "duration": 94,
    "start_time": "2023-04-16T21:16:43.013Z"
   },
   {
    "duration": 39,
    "start_time": "2023-04-16T21:16:43.108Z"
   },
   {
    "duration": 21,
    "start_time": "2023-04-16T21:16:43.149Z"
   },
   {
    "duration": 39,
    "start_time": "2023-04-16T21:16:43.172Z"
   },
   {
    "duration": 18,
    "start_time": "2023-04-16T21:16:43.212Z"
   },
   {
    "duration": 5,
    "start_time": "2023-04-16T21:16:43.232Z"
   },
   {
    "duration": 17,
    "start_time": "2023-04-16T21:16:43.238Z"
   },
   {
    "duration": 24,
    "start_time": "2023-04-16T21:16:43.257Z"
   },
   {
    "duration": 21,
    "start_time": "2023-04-16T21:16:43.282Z"
   },
   {
    "duration": 20,
    "start_time": "2023-04-16T21:16:43.305Z"
   },
   {
    "duration": 6,
    "start_time": "2023-04-16T21:16:43.327Z"
   },
   {
    "duration": 17,
    "start_time": "2023-04-16T21:16:43.335Z"
   },
   {
    "duration": 14,
    "start_time": "2023-04-16T21:16:43.355Z"
   },
   {
    "duration": 35,
    "start_time": "2023-04-16T21:16:43.371Z"
   },
   {
    "duration": 7,
    "start_time": "2023-04-16T21:16:43.408Z"
   },
   {
    "duration": 32,
    "start_time": "2023-04-16T21:16:43.417Z"
   },
   {
    "duration": 11,
    "start_time": "2023-04-16T21:16:43.450Z"
   },
   {
    "duration": 26,
    "start_time": "2023-04-16T21:16:43.463Z"
   },
   {
    "duration": 6,
    "start_time": "2023-04-16T21:16:43.491Z"
   },
   {
    "duration": 7,
    "start_time": "2023-04-16T21:16:43.499Z"
   },
   {
    "duration": 17,
    "start_time": "2023-04-16T21:16:43.508Z"
   },
   {
    "duration": 6,
    "start_time": "2023-04-16T21:16:43.527Z"
   },
   {
    "duration": 17,
    "start_time": "2023-04-16T21:16:43.534Z"
   },
   {
    "duration": 5,
    "start_time": "2023-04-16T21:16:43.553Z"
   },
   {
    "duration": 32,
    "start_time": "2023-04-16T21:16:43.559Z"
   },
   {
    "duration": 18,
    "start_time": "2023-04-16T21:16:43.593Z"
   },
   {
    "duration": 9,
    "start_time": "2023-04-16T21:16:43.613Z"
   },
   {
    "duration": 10,
    "start_time": "2023-04-16T21:16:43.624Z"
   },
   {
    "duration": 30,
    "start_time": "2023-04-16T21:16:43.635Z"
   },
   {
    "duration": 92,
    "start_time": "2023-04-16T21:16:43.666Z"
   },
   {
    "duration": 80,
    "start_time": "2023-04-16T21:16:43.760Z"
   },
   {
    "duration": 23,
    "start_time": "2023-04-16T21:16:43.842Z"
   },
   {
    "duration": 30,
    "start_time": "2023-04-16T21:16:43.866Z"
   },
   {
    "duration": 58,
    "start_time": "2023-04-16T21:16:45.498Z"
   },
   {
    "duration": 24,
    "start_time": "2023-04-16T21:16:46.357Z"
   },
   {
    "duration": 62,
    "start_time": "2023-04-16T21:18:38.051Z"
   },
   {
    "duration": 22,
    "start_time": "2023-04-16T21:18:38.263Z"
   },
   {
    "duration": 47,
    "start_time": "2023-04-16T21:19:25.515Z"
   },
   {
    "duration": 19,
    "start_time": "2023-04-16T21:19:25.759Z"
   },
   {
    "duration": 77,
    "start_time": "2023-04-16T21:19:41.718Z"
   },
   {
    "duration": 15,
    "start_time": "2023-04-16T21:19:42.011Z"
   },
   {
    "duration": 109,
    "start_time": "2023-04-16T21:20:46.109Z"
   },
   {
    "duration": 22,
    "start_time": "2023-04-16T21:20:46.246Z"
   },
   {
    "duration": 105,
    "start_time": "2023-04-16T21:25:13.973Z"
   },
   {
    "duration": 21,
    "start_time": "2023-04-16T21:25:14.261Z"
   },
   {
    "duration": 72,
    "start_time": "2023-04-16T21:25:44.414Z"
   },
   {
    "duration": 13,
    "start_time": "2023-04-16T21:25:44.665Z"
   },
   {
    "duration": 97,
    "start_time": "2023-04-16T21:27:42.917Z"
   },
   {
    "duration": 14,
    "start_time": "2023-04-16T21:27:43.164Z"
   },
   {
    "duration": 131,
    "start_time": "2023-04-16T21:28:22.531Z"
   },
   {
    "duration": 20,
    "start_time": "2023-04-16T21:28:22.798Z"
   },
   {
    "duration": 79,
    "start_time": "2023-04-16T21:28:36.314Z"
   },
   {
    "duration": 20,
    "start_time": "2023-04-16T21:28:36.605Z"
   },
   {
    "duration": 76,
    "start_time": "2023-04-16T21:28:49.226Z"
   },
   {
    "duration": 13,
    "start_time": "2023-04-16T21:28:49.449Z"
   },
   {
    "duration": 83,
    "start_time": "2023-04-16T21:29:02.357Z"
   },
   {
    "duration": 14,
    "start_time": "2023-04-16T21:29:02.610Z"
   },
   {
    "duration": 82,
    "start_time": "2023-04-16T21:29:16.406Z"
   },
   {
    "duration": 19,
    "start_time": "2023-04-16T21:29:16.626Z"
   },
   {
    "duration": 97,
    "start_time": "2023-04-16T21:30:04.557Z"
   },
   {
    "duration": 13,
    "start_time": "2023-04-16T21:30:05.022Z"
   },
   {
    "duration": 104,
    "start_time": "2023-04-16T21:30:27.710Z"
   },
   {
    "duration": 18,
    "start_time": "2023-04-16T21:30:27.962Z"
   },
   {
    "duration": 612,
    "start_time": "2023-04-16T21:30:40.904Z"
   },
   {
    "duration": 81,
    "start_time": "2023-04-16T21:30:41.518Z"
   },
   {
    "duration": 37,
    "start_time": "2023-04-16T21:30:41.601Z"
   },
   {
    "duration": 17,
    "start_time": "2023-04-16T21:30:41.640Z"
   },
   {
    "duration": 16,
    "start_time": "2023-04-16T21:30:41.659Z"
   },
   {
    "duration": 15,
    "start_time": "2023-04-16T21:30:41.677Z"
   },
   {
    "duration": 5,
    "start_time": "2023-04-16T21:30:41.694Z"
   },
   {
    "duration": 9,
    "start_time": "2023-04-16T21:30:41.700Z"
   },
   {
    "duration": 14,
    "start_time": "2023-04-16T21:30:41.710Z"
   },
   {
    "duration": 9,
    "start_time": "2023-04-16T21:30:41.726Z"
   },
   {
    "duration": 40,
    "start_time": "2023-04-16T21:30:41.736Z"
   },
   {
    "duration": 6,
    "start_time": "2023-04-16T21:30:41.778Z"
   },
   {
    "duration": 15,
    "start_time": "2023-04-16T21:30:41.785Z"
   },
   {
    "duration": 8,
    "start_time": "2023-04-16T21:30:41.801Z"
   },
   {
    "duration": 28,
    "start_time": "2023-04-16T21:30:41.810Z"
   },
   {
    "duration": 8,
    "start_time": "2023-04-16T21:30:41.840Z"
   },
   {
    "duration": 41,
    "start_time": "2023-04-16T21:30:41.850Z"
   },
   {
    "duration": 13,
    "start_time": "2023-04-16T21:30:41.895Z"
   },
   {
    "duration": 12,
    "start_time": "2023-04-16T21:30:41.910Z"
   },
   {
    "duration": 7,
    "start_time": "2023-04-16T21:30:41.924Z"
   },
   {
    "duration": 11,
    "start_time": "2023-04-16T21:30:41.932Z"
   },
   {
    "duration": 37,
    "start_time": "2023-04-16T21:30:41.944Z"
   },
   {
    "duration": 10,
    "start_time": "2023-04-16T21:30:41.982Z"
   },
   {
    "duration": 10,
    "start_time": "2023-04-16T21:30:41.994Z"
   },
   {
    "duration": 7,
    "start_time": "2023-04-16T21:30:42.005Z"
   },
   {
    "duration": 12,
    "start_time": "2023-04-16T21:30:42.013Z"
   },
   {
    "duration": 21,
    "start_time": "2023-04-16T21:30:42.027Z"
   },
   {
    "duration": 26,
    "start_time": "2023-04-16T21:30:42.050Z"
   },
   {
    "duration": 6,
    "start_time": "2023-04-16T21:30:42.077Z"
   },
   {
    "duration": 13,
    "start_time": "2023-04-16T21:30:42.084Z"
   },
   {
    "duration": 77,
    "start_time": "2023-04-16T21:30:42.099Z"
   },
   {
    "duration": 74,
    "start_time": "2023-04-16T21:30:42.178Z"
   },
   {
    "duration": 599,
    "start_time": "2023-04-16T21:30:54.248Z"
   },
   {
    "duration": 81,
    "start_time": "2023-04-16T21:30:54.848Z"
   },
   {
    "duration": 38,
    "start_time": "2023-04-16T21:30:54.932Z"
   },
   {
    "duration": 21,
    "start_time": "2023-04-16T21:30:54.973Z"
   },
   {
    "duration": 18,
    "start_time": "2023-04-16T21:30:54.997Z"
   },
   {
    "duration": 28,
    "start_time": "2023-04-16T21:30:55.017Z"
   },
   {
    "duration": 11,
    "start_time": "2023-04-16T21:30:55.046Z"
   },
   {
    "duration": 16,
    "start_time": "2023-04-16T21:30:55.059Z"
   },
   {
    "duration": 14,
    "start_time": "2023-04-16T21:30:55.076Z"
   },
   {
    "duration": 13,
    "start_time": "2023-04-16T21:30:55.093Z"
   },
   {
    "duration": 18,
    "start_time": "2023-04-16T21:30:55.108Z"
   },
   {
    "duration": 6,
    "start_time": "2023-04-16T21:30:55.128Z"
   },
   {
    "duration": 19,
    "start_time": "2023-04-16T21:30:55.135Z"
   },
   {
    "duration": 21,
    "start_time": "2023-04-16T21:30:55.156Z"
   },
   {
    "duration": 27,
    "start_time": "2023-04-16T21:30:55.179Z"
   },
   {
    "duration": 9,
    "start_time": "2023-04-16T21:30:55.208Z"
   },
   {
    "duration": 27,
    "start_time": "2023-04-16T21:30:55.218Z"
   },
   {
    "duration": 13,
    "start_time": "2023-04-16T21:30:55.246Z"
   },
   {
    "duration": 18,
    "start_time": "2023-04-16T21:30:55.261Z"
   },
   {
    "duration": 10,
    "start_time": "2023-04-16T21:30:55.280Z"
   },
   {
    "duration": 10,
    "start_time": "2023-04-16T21:30:55.291Z"
   },
   {
    "duration": 60,
    "start_time": "2023-04-16T21:30:55.303Z"
   },
   {
    "duration": 36,
    "start_time": "2023-04-16T21:30:55.365Z"
   },
   {
    "duration": 27,
    "start_time": "2023-04-16T21:30:55.402Z"
   },
   {
    "duration": 11,
    "start_time": "2023-04-16T21:30:55.431Z"
   },
   {
    "duration": 51,
    "start_time": "2023-04-16T21:30:55.443Z"
   },
   {
    "duration": 17,
    "start_time": "2023-04-16T21:30:55.495Z"
   },
   {
    "duration": 17,
    "start_time": "2023-04-16T21:30:55.515Z"
   },
   {
    "duration": 13,
    "start_time": "2023-04-16T21:30:55.534Z"
   },
   {
    "duration": 20,
    "start_time": "2023-04-16T21:30:55.548Z"
   },
   {
    "duration": 39,
    "start_time": "2023-04-16T21:30:55.569Z"
   },
   {
    "duration": 83,
    "start_time": "2023-04-16T21:30:55.639Z"
   },
   {
    "duration": 33,
    "start_time": "2023-04-16T21:30:55.723Z"
   },
   {
    "duration": 28,
    "start_time": "2023-04-16T21:30:55.771Z"
   },
   {
    "duration": 89,
    "start_time": "2023-04-16T21:31:01.843Z"
   },
   {
    "duration": 14,
    "start_time": "2023-04-16T21:31:02.524Z"
   },
   {
    "duration": 98,
    "start_time": "2023-04-16T21:33:42.407Z"
   },
   {
    "duration": 17,
    "start_time": "2023-04-16T21:33:42.643Z"
   },
   {
    "duration": 97,
    "start_time": "2023-04-16T21:35:17.099Z"
   },
   {
    "duration": 13,
    "start_time": "2023-04-16T21:35:17.308Z"
   },
   {
    "duration": 99,
    "start_time": "2023-04-16T21:35:57.996Z"
   },
   {
    "duration": 14,
    "start_time": "2023-04-16T21:35:58.244Z"
   },
   {
    "duration": 105,
    "start_time": "2023-04-16T21:37:32.996Z"
   },
   {
    "duration": 21,
    "start_time": "2023-04-16T21:37:33.212Z"
   },
   {
    "duration": 126,
    "start_time": "2023-04-16T21:38:11.401Z"
   },
   {
    "duration": 15,
    "start_time": "2023-04-16T21:38:11.569Z"
   },
   {
    "duration": 110,
    "start_time": "2023-04-16T21:38:27.391Z"
   },
   {
    "duration": 14,
    "start_time": "2023-04-16T21:38:27.868Z"
   },
   {
    "duration": 162,
    "start_time": "2023-04-16T21:39:29.428Z"
   },
   {
    "duration": 14,
    "start_time": "2023-04-16T21:39:29.600Z"
   },
   {
    "duration": 162,
    "start_time": "2023-04-16T21:40:25.884Z"
   },
   {
    "duration": 16,
    "start_time": "2023-04-16T21:40:26.164Z"
   },
   {
    "duration": 138,
    "start_time": "2023-04-16T21:40:32.068Z"
   },
   {
    "duration": 16,
    "start_time": "2023-04-16T21:40:32.224Z"
   },
   {
    "duration": 235,
    "start_time": "2023-04-16T21:40:55.628Z"
   },
   {
    "duration": 19,
    "start_time": "2023-04-16T21:40:55.910Z"
   },
   {
    "duration": 137,
    "start_time": "2023-04-16T21:41:07.190Z"
   },
   {
    "duration": 14,
    "start_time": "2023-04-16T21:41:07.406Z"
   },
   {
    "duration": 136,
    "start_time": "2023-04-16T21:42:50.546Z"
   },
   {
    "duration": 16,
    "start_time": "2023-04-16T21:42:50.701Z"
   },
   {
    "duration": 84,
    "start_time": "2023-04-16T21:47:26.096Z"
   },
   {
    "duration": 105,
    "start_time": "2023-04-16T21:48:02.126Z"
   },
   {
    "duration": 110,
    "start_time": "2023-04-16T21:48:15.021Z"
   },
   {
    "duration": 99,
    "start_time": "2023-04-16T21:48:24.698Z"
   },
   {
    "duration": 70,
    "start_time": "2023-04-16T21:48:25.188Z"
   },
   {
    "duration": 104,
    "start_time": "2023-04-16T21:48:25.638Z"
   },
   {
    "duration": 8,
    "start_time": "2023-04-16T21:48:46.163Z"
   },
   {
    "duration": 28,
    "start_time": "2023-04-16T21:48:58.706Z"
   },
   {
    "duration": 96,
    "start_time": "2023-04-16T21:49:05.909Z"
   },
   {
    "duration": 26,
    "start_time": "2023-04-16T21:49:14.267Z"
   },
   {
    "duration": 17,
    "start_time": "2023-04-16T21:49:20.600Z"
   },
   {
    "duration": 122,
    "start_time": "2023-04-16T21:49:21.038Z"
   },
   {
    "duration": 13,
    "start_time": "2023-04-16T21:49:21.505Z"
   },
   {
    "duration": 67,
    "start_time": "2023-04-16T21:49:25.267Z"
   },
   {
    "duration": 7,
    "start_time": "2023-04-16T21:49:36.056Z"
   },
   {
    "duration": 22,
    "start_time": "2023-04-16T21:49:58.093Z"
   },
   {
    "duration": 21,
    "start_time": "2023-04-16T21:50:48.725Z"
   },
   {
    "duration": 16,
    "start_time": "2023-04-16T21:50:52.200Z"
   },
   {
    "duration": 116,
    "start_time": "2023-04-16T21:50:58.079Z"
   },
   {
    "duration": 12,
    "start_time": "2023-04-16T21:50:58.497Z"
   },
   {
    "duration": 45,
    "start_time": "2023-04-16T21:51:06.752Z"
   },
   {
    "duration": 70,
    "start_time": "2023-04-16T21:51:16.306Z"
   },
   {
    "duration": 5,
    "start_time": "2023-04-16T21:51:39.809Z"
   },
   {
    "duration": 26,
    "start_time": "2023-04-16T21:52:06.691Z"
   },
   {
    "duration": 138,
    "start_time": "2023-04-16T21:56:30.865Z"
   },
   {
    "duration": 20,
    "start_time": "2023-04-16T21:56:31.112Z"
   },
   {
    "duration": 22,
    "start_time": "2023-04-16T21:56:41.405Z"
   },
   {
    "duration": 149,
    "start_time": "2023-04-16T21:56:42.962Z"
   },
   {
    "duration": 18,
    "start_time": "2023-04-16T21:56:43.513Z"
   },
   {
    "duration": 555,
    "start_time": "2023-04-16T21:57:21.417Z"
   },
   {
    "duration": 80,
    "start_time": "2023-04-16T21:57:21.973Z"
   },
   {
    "duration": 36,
    "start_time": "2023-04-16T21:57:22.055Z"
   },
   {
    "duration": 15,
    "start_time": "2023-04-16T21:57:22.092Z"
   },
   {
    "duration": 16,
    "start_time": "2023-04-16T21:57:22.109Z"
   },
   {
    "duration": 22,
    "start_time": "2023-04-16T21:57:22.126Z"
   },
   {
    "duration": 12,
    "start_time": "2023-04-16T21:57:22.150Z"
   },
   {
    "duration": 16,
    "start_time": "2023-04-16T21:57:22.163Z"
   },
   {
    "duration": 14,
    "start_time": "2023-04-16T21:57:22.180Z"
   },
   {
    "duration": 11,
    "start_time": "2023-04-16T21:57:22.195Z"
   },
   {
    "duration": 15,
    "start_time": "2023-04-16T21:57:22.207Z"
   },
   {
    "duration": 5,
    "start_time": "2023-04-16T21:57:22.223Z"
   },
   {
    "duration": 43,
    "start_time": "2023-04-16T21:57:22.229Z"
   },
   {
    "duration": 12,
    "start_time": "2023-04-16T21:57:22.275Z"
   },
   {
    "duration": 24,
    "start_time": "2023-04-16T21:57:22.288Z"
   },
   {
    "duration": 8,
    "start_time": "2023-04-16T21:57:22.313Z"
   },
   {
    "duration": 23,
    "start_time": "2023-04-16T21:57:22.322Z"
   },
   {
    "duration": 10,
    "start_time": "2023-04-16T21:57:22.346Z"
   },
   {
    "duration": 15,
    "start_time": "2023-04-16T21:57:22.357Z"
   },
   {
    "duration": 3,
    "start_time": "2023-04-16T21:57:22.374Z"
   },
   {
    "duration": 5,
    "start_time": "2023-04-16T21:57:22.379Z"
   },
   {
    "duration": 15,
    "start_time": "2023-04-16T21:57:22.385Z"
   },
   {
    "duration": 5,
    "start_time": "2023-04-16T21:57:22.402Z"
   },
   {
    "duration": 10,
    "start_time": "2023-04-16T21:57:22.408Z"
   },
   {
    "duration": 6,
    "start_time": "2023-04-16T21:57:22.419Z"
   },
   {
    "duration": 47,
    "start_time": "2023-04-16T21:57:22.426Z"
   },
   {
    "duration": 13,
    "start_time": "2023-04-16T21:57:22.474Z"
   },
   {
    "duration": 13,
    "start_time": "2023-04-16T21:57:22.488Z"
   },
   {
    "duration": 10,
    "start_time": "2023-04-16T21:57:22.502Z"
   },
   {
    "duration": 8,
    "start_time": "2023-04-16T21:57:22.514Z"
   },
   {
    "duration": 51,
    "start_time": "2023-04-16T21:57:22.523Z"
   },
   {
    "duration": 76,
    "start_time": "2023-04-16T21:57:22.576Z"
   },
   {
    "duration": 42,
    "start_time": "2023-04-16T21:57:22.653Z"
   },
   {
    "duration": 20,
    "start_time": "2023-04-16T21:57:22.697Z"
   },
   {
    "duration": 155,
    "start_time": "2023-04-16T21:57:22.718Z"
   },
   {
    "duration": 620,
    "start_time": "2023-04-16T21:57:38.307Z"
   },
   {
    "duration": 85,
    "start_time": "2023-04-16T21:57:38.929Z"
   },
   {
    "duration": 37,
    "start_time": "2023-04-16T21:57:39.016Z"
   },
   {
    "duration": 15,
    "start_time": "2023-04-16T21:57:39.055Z"
   },
   {
    "duration": 19,
    "start_time": "2023-04-16T21:57:39.072Z"
   },
   {
    "duration": 17,
    "start_time": "2023-04-16T21:57:39.092Z"
   },
   {
    "duration": 5,
    "start_time": "2023-04-16T21:57:39.110Z"
   },
   {
    "duration": 9,
    "start_time": "2023-04-16T21:57:39.117Z"
   },
   {
    "duration": 11,
    "start_time": "2023-04-16T21:57:39.127Z"
   },
   {
    "duration": 9,
    "start_time": "2023-04-16T21:57:39.171Z"
   },
   {
    "duration": 16,
    "start_time": "2023-04-16T21:57:39.181Z"
   },
   {
    "duration": 5,
    "start_time": "2023-04-16T21:57:39.198Z"
   },
   {
    "duration": 15,
    "start_time": "2023-04-16T21:57:39.204Z"
   },
   {
    "duration": 11,
    "start_time": "2023-04-16T21:57:39.220Z"
   },
   {
    "duration": 17,
    "start_time": "2023-04-16T21:57:39.232Z"
   },
   {
    "duration": 27,
    "start_time": "2023-04-16T21:57:39.251Z"
   },
   {
    "duration": 19,
    "start_time": "2023-04-16T21:57:39.280Z"
   },
   {
    "duration": 16,
    "start_time": "2023-04-16T21:57:39.301Z"
   },
   {
    "duration": 7,
    "start_time": "2023-04-16T21:57:39.319Z"
   },
   {
    "duration": 3,
    "start_time": "2023-04-16T21:57:39.328Z"
   },
   {
    "duration": 6,
    "start_time": "2023-04-16T21:57:39.333Z"
   },
   {
    "duration": 42,
    "start_time": "2023-04-16T21:57:39.340Z"
   },
   {
    "duration": 8,
    "start_time": "2023-04-16T21:57:39.384Z"
   },
   {
    "duration": 10,
    "start_time": "2023-04-16T21:57:39.393Z"
   },
   {
    "duration": 5,
    "start_time": "2023-04-16T21:57:39.405Z"
   },
   {
    "duration": 14,
    "start_time": "2023-04-16T21:57:39.411Z"
   },
   {
    "duration": 17,
    "start_time": "2023-04-16T21:57:39.426Z"
   },
   {
    "duration": 9,
    "start_time": "2023-04-16T21:57:39.445Z"
   },
   {
    "duration": 4,
    "start_time": "2023-04-16T21:57:39.472Z"
   },
   {
    "duration": 11,
    "start_time": "2023-04-16T21:57:39.478Z"
   },
   {
    "duration": 63,
    "start_time": "2023-04-16T21:57:39.491Z"
   },
   {
    "duration": 84,
    "start_time": "2023-04-16T21:57:39.556Z"
   },
   {
    "duration": 30,
    "start_time": "2023-04-16T21:57:39.642Z"
   },
   {
    "duration": 24,
    "start_time": "2023-04-16T21:57:39.673Z"
   },
   {
    "duration": 173,
    "start_time": "2023-04-16T21:57:39.699Z"
   },
   {
    "duration": 15,
    "start_time": "2023-04-16T21:57:43.847Z"
   },
   {
    "duration": 31,
    "start_time": "2023-04-16T21:57:44.223Z"
   },
   {
    "duration": 146,
    "start_time": "2023-04-16T21:57:48.933Z"
   },
   {
    "duration": 21,
    "start_time": "2023-04-16T21:57:59.346Z"
   },
   {
    "duration": 647,
    "start_time": "2023-04-16T21:58:44.965Z"
   },
   {
    "duration": 89,
    "start_time": "2023-04-16T21:58:45.614Z"
   },
   {
    "duration": 40,
    "start_time": "2023-04-16T21:58:45.704Z"
   },
   {
    "duration": 18,
    "start_time": "2023-04-16T21:58:45.747Z"
   },
   {
    "duration": 17,
    "start_time": "2023-04-16T21:58:45.768Z"
   },
   {
    "duration": 17,
    "start_time": "2023-04-16T21:58:45.787Z"
   },
   {
    "duration": 4,
    "start_time": "2023-04-16T21:58:45.805Z"
   },
   {
    "duration": 10,
    "start_time": "2023-04-16T21:58:45.811Z"
   },
   {
    "duration": 10,
    "start_time": "2023-04-16T21:58:45.823Z"
   },
   {
    "duration": 38,
    "start_time": "2023-04-16T21:58:45.835Z"
   },
   {
    "duration": 16,
    "start_time": "2023-04-16T21:58:45.874Z"
   },
   {
    "duration": 4,
    "start_time": "2023-04-16T21:58:45.892Z"
   },
   {
    "duration": 55,
    "start_time": "2023-04-16T21:58:45.897Z"
   },
   {
    "duration": 14,
    "start_time": "2023-04-16T21:58:45.954Z"
   },
   {
    "duration": 32,
    "start_time": "2023-04-16T21:58:45.970Z"
   },
   {
    "duration": 11,
    "start_time": "2023-04-16T21:58:46.003Z"
   },
   {
    "duration": 30,
    "start_time": "2023-04-16T21:58:46.016Z"
   },
   {
    "duration": 27,
    "start_time": "2023-04-16T21:58:46.048Z"
   },
   {
    "duration": 10,
    "start_time": "2023-04-16T21:58:46.077Z"
   },
   {
    "duration": 8,
    "start_time": "2023-04-16T21:58:46.088Z"
   },
   {
    "duration": 7,
    "start_time": "2023-04-16T21:58:46.098Z"
   },
   {
    "duration": 24,
    "start_time": "2023-04-16T21:58:46.107Z"
   },
   {
    "duration": 6,
    "start_time": "2023-04-16T21:58:46.133Z"
   },
   {
    "duration": 88,
    "start_time": "2023-04-16T21:58:46.141Z"
   },
   {
    "duration": 13,
    "start_time": "2023-04-16T21:58:46.230Z"
   },
   {
    "duration": 14,
    "start_time": "2023-04-16T21:58:46.244Z"
   },
   {
    "duration": 18,
    "start_time": "2023-04-16T21:58:46.259Z"
   },
   {
    "duration": 24,
    "start_time": "2023-04-16T21:58:46.278Z"
   },
   {
    "duration": 7,
    "start_time": "2023-04-16T21:58:46.303Z"
   },
   {
    "duration": 8,
    "start_time": "2023-04-16T21:58:46.311Z"
   },
   {
    "duration": 82,
    "start_time": "2023-04-16T21:58:46.320Z"
   },
   {
    "duration": 86,
    "start_time": "2023-04-16T21:58:46.404Z"
   },
   {
    "duration": 24,
    "start_time": "2023-04-16T21:58:46.492Z"
   },
   {
    "duration": 19,
    "start_time": "2023-04-16T21:58:46.517Z"
   },
   {
    "duration": 178,
    "start_time": "2023-04-16T21:58:46.538Z"
   },
   {
    "duration": 14,
    "start_time": "2023-04-16T21:58:46.717Z"
   },
   {
    "duration": 44,
    "start_time": "2023-04-16T21:58:46.732Z"
   },
   {
    "duration": 5,
    "start_time": "2023-04-16T22:00:41.267Z"
   },
   {
    "duration": 6,
    "start_time": "2023-04-16T22:00:42.197Z"
   },
   {
    "duration": 13,
    "start_time": "2023-04-16T22:00:42.511Z"
   },
   {
    "duration": 13,
    "start_time": "2023-04-16T22:00:43.018Z"
   },
   {
    "duration": 12,
    "start_time": "2023-04-16T22:01:17.665Z"
   },
   {
    "duration": 5,
    "start_time": "2023-04-16T22:01:18.003Z"
   },
   {
    "duration": 42,
    "start_time": "2023-04-16T22:01:38.000Z"
   },
   {
    "duration": 85,
    "start_time": "2023-04-16T22:02:12.659Z"
   },
   {
    "duration": 24,
    "start_time": "2023-04-16T22:02:14.497Z"
   },
   {
    "duration": 17,
    "start_time": "2023-04-16T22:02:37.473Z"
   },
   {
    "duration": 142,
    "start_time": "2023-04-16T22:03:10.500Z"
   },
   {
    "duration": 13,
    "start_time": "2023-04-16T22:03:12.635Z"
   },
   {
    "duration": 26,
    "start_time": "2023-04-16T22:03:22.440Z"
   },
   {
    "duration": 66,
    "start_time": "2023-04-16T22:03:46.424Z"
   },
   {
    "duration": 8,
    "start_time": "2023-04-16T22:03:56.011Z"
   },
   {
    "duration": 23,
    "start_time": "2023-04-16T22:03:59.511Z"
   },
   {
    "duration": 8,
    "start_time": "2023-04-16T22:04:27.236Z"
   },
   {
    "duration": 23,
    "start_time": "2023-04-16T22:04:27.510Z"
   },
   {
    "duration": 4,
    "start_time": "2023-04-16T22:04:56.057Z"
   },
   {
    "duration": 6,
    "start_time": "2023-04-16T22:04:56.458Z"
   },
   {
    "duration": 26,
    "start_time": "2023-04-16T22:05:02.115Z"
   },
   {
    "duration": 9,
    "start_time": "2023-04-16T22:05:05.803Z"
   },
   {
    "duration": 3,
    "start_time": "2023-04-16T22:05:47.156Z"
   },
   {
    "duration": 6,
    "start_time": "2023-04-16T22:05:47.618Z"
   },
   {
    "duration": 13,
    "start_time": "2023-04-16T22:05:47.933Z"
   },
   {
    "duration": 13,
    "start_time": "2023-04-16T22:05:48.204Z"
   },
   {
    "duration": 5,
    "start_time": "2023-04-16T22:05:48.431Z"
   },
   {
    "duration": 12,
    "start_time": "2023-04-16T22:05:48.659Z"
   },
   {
    "duration": 5,
    "start_time": "2023-04-16T22:05:48.907Z"
   },
   {
    "duration": 33,
    "start_time": "2023-04-16T22:05:49.112Z"
   },
   {
    "duration": 75,
    "start_time": "2023-04-16T22:05:49.309Z"
   },
   {
    "duration": 22,
    "start_time": "2023-04-16T22:05:49.514Z"
   },
   {
    "duration": 17,
    "start_time": "2023-04-16T22:05:49.805Z"
   },
   {
    "duration": 126,
    "start_time": "2023-04-16T22:05:50.243Z"
   },
   {
    "duration": 12,
    "start_time": "2023-04-16T22:05:50.821Z"
   },
   {
    "duration": 30,
    "start_time": "2023-04-16T22:05:51.254Z"
   },
   {
    "duration": 8,
    "start_time": "2023-04-16T22:06:13.979Z"
   },
   {
    "duration": 24,
    "start_time": "2023-04-16T22:06:14.997Z"
   },
   {
    "duration": 3,
    "start_time": "2023-04-16T22:06:44.133Z"
   },
   {
    "duration": 8,
    "start_time": "2023-04-16T22:06:48.204Z"
   },
   {
    "duration": 3,
    "start_time": "2023-04-16T22:07:35.874Z"
   },
   {
    "duration": 11,
    "start_time": "2023-04-16T22:07:40.837Z"
   },
   {
    "duration": 51,
    "start_time": "2023-04-16T22:08:11.120Z"
   },
   {
    "duration": 12,
    "start_time": "2023-04-16T22:08:48.428Z"
   },
   {
    "duration": 613,
    "start_time": "2023-04-16T22:08:52.959Z"
   },
   {
    "duration": 97,
    "start_time": "2023-04-16T22:08:53.575Z"
   },
   {
    "duration": 37,
    "start_time": "2023-04-16T22:08:53.674Z"
   },
   {
    "duration": 16,
    "start_time": "2023-04-16T22:08:53.713Z"
   },
   {
    "duration": 20,
    "start_time": "2023-04-16T22:08:53.730Z"
   },
   {
    "duration": 15,
    "start_time": "2023-04-16T22:08:53.751Z"
   },
   {
    "duration": 4,
    "start_time": "2023-04-16T22:08:53.768Z"
   },
   {
    "duration": 9,
    "start_time": "2023-04-16T22:08:53.774Z"
   },
   {
    "duration": 8,
    "start_time": "2023-04-16T22:08:53.784Z"
   },
   {
    "duration": 26,
    "start_time": "2023-04-16T22:08:53.794Z"
   },
   {
    "duration": 22,
    "start_time": "2023-04-16T22:08:53.822Z"
   },
   {
    "duration": 5,
    "start_time": "2023-04-16T22:08:53.846Z"
   },
   {
    "duration": 35,
    "start_time": "2023-04-16T22:08:53.853Z"
   },
   {
    "duration": 11,
    "start_time": "2023-04-16T22:08:53.890Z"
   },
   {
    "duration": 26,
    "start_time": "2023-04-16T22:08:53.903Z"
   },
   {
    "duration": 8,
    "start_time": "2023-04-16T22:08:53.930Z"
   },
   {
    "duration": 20,
    "start_time": "2023-04-16T22:08:53.939Z"
   },
   {
    "duration": 17,
    "start_time": "2023-04-16T22:08:53.960Z"
   },
   {
    "duration": 11,
    "start_time": "2023-04-16T22:08:53.978Z"
   },
   {
    "duration": 3,
    "start_time": "2023-04-16T22:08:53.991Z"
   },
   {
    "duration": 10,
    "start_time": "2023-04-16T22:08:53.995Z"
   },
   {
    "duration": 18,
    "start_time": "2023-04-16T22:08:54.006Z"
   },
   {
    "duration": 6,
    "start_time": "2023-04-16T22:08:54.026Z"
   },
   {
    "duration": 8,
    "start_time": "2023-04-16T22:08:54.034Z"
   },
   {
    "duration": 5,
    "start_time": "2023-04-16T22:08:54.043Z"
   },
   {
    "duration": 24,
    "start_time": "2023-04-16T22:08:54.049Z"
   },
   {
    "duration": 15,
    "start_time": "2023-04-16T22:08:54.074Z"
   },
   {
    "duration": 12,
    "start_time": "2023-04-16T22:08:54.092Z"
   },
   {
    "duration": 13,
    "start_time": "2023-04-16T22:08:57.321Z"
   },
   {
    "duration": 6,
    "start_time": "2023-04-16T22:08:57.706Z"
   },
   {
    "duration": 12,
    "start_time": "2023-04-16T22:08:58.610Z"
   },
   {
    "duration": 5,
    "start_time": "2023-04-16T22:08:59.610Z"
   },
   {
    "duration": 63,
    "start_time": "2023-04-16T22:09:01.452Z"
   },
   {
    "duration": 72,
    "start_time": "2023-04-16T22:09:10.755Z"
   },
   {
    "duration": 23,
    "start_time": "2023-04-16T22:09:12.209Z"
   },
   {
    "duration": 20,
    "start_time": "2023-04-16T22:09:20.604Z"
   },
   {
    "duration": 139,
    "start_time": "2023-04-16T22:09:31.871Z"
   },
   {
    "duration": 15,
    "start_time": "2023-04-16T22:09:32.102Z"
   },
   {
    "duration": 31,
    "start_time": "2023-04-16T22:09:44.242Z"
   },
   {
    "duration": 8,
    "start_time": "2023-04-16T22:09:57.309Z"
   },
   {
    "duration": 28,
    "start_time": "2023-04-16T22:09:57.537Z"
   },
   {
    "duration": 183,
    "start_time": "2023-04-16T22:11:53.963Z"
   },
   {
    "duration": 23,
    "start_time": "2023-04-16T22:11:54.260Z"
   },
   {
    "duration": 12,
    "start_time": "2023-04-16T22:11:58.046Z"
   },
   {
    "duration": 26,
    "start_time": "2023-04-16T22:11:58.272Z"
   },
   {
    "duration": 15,
    "start_time": "2023-04-16T22:13:18.107Z"
   },
   {
    "duration": 23,
    "start_time": "2023-04-16T22:13:18.256Z"
   },
   {
    "duration": 23,
    "start_time": "2023-04-16T22:15:21.325Z"
   },
   {
    "duration": 25,
    "start_time": "2023-04-16T22:15:21.625Z"
   },
   {
    "duration": 28,
    "start_time": "2023-04-16T22:16:45.565Z"
   },
   {
    "duration": 28,
    "start_time": "2023-04-16T22:16:45.712Z"
   },
   {
    "duration": 28,
    "start_time": "2023-04-16T22:17:27.115Z"
   },
   {
    "duration": 26,
    "start_time": "2023-04-16T22:17:27.278Z"
   },
   {
    "duration": 37,
    "start_time": "2023-04-16T22:18:17.621Z"
   },
   {
    "duration": 25,
    "start_time": "2023-04-16T22:18:17.765Z"
   },
   {
    "duration": 40,
    "start_time": "2023-04-16T22:19:24.960Z"
   },
   {
    "duration": 26,
    "start_time": "2023-04-16T22:19:25.211Z"
   },
   {
    "duration": 39,
    "start_time": "2023-04-16T22:20:46.457Z"
   },
   {
    "duration": 25,
    "start_time": "2023-04-16T22:20:46.612Z"
   },
   {
    "duration": 51,
    "start_time": "2023-04-16T22:22:08.170Z"
   },
   {
    "duration": 29,
    "start_time": "2023-04-16T22:22:08.413Z"
   },
   {
    "duration": 55,
    "start_time": "2023-04-16T22:23:09.613Z"
   },
   {
    "duration": 25,
    "start_time": "2023-04-16T22:23:09.768Z"
   },
   {
    "duration": 81,
    "start_time": "2023-04-16T22:26:29.522Z"
   },
   {
    "duration": 27,
    "start_time": "2023-04-16T22:26:29.710Z"
   },
   {
    "duration": 57,
    "start_time": "2023-04-16T22:29:48.416Z"
   },
   {
    "duration": 25,
    "start_time": "2023-04-16T22:29:48.634Z"
   },
   {
    "duration": 92,
    "start_time": "2023-04-16T22:29:53.235Z"
   },
   {
    "duration": 24,
    "start_time": "2023-04-16T22:29:53.367Z"
   },
   {
    "duration": 69,
    "start_time": "2023-04-16T22:30:34.671Z"
   },
   {
    "duration": 25,
    "start_time": "2023-04-16T22:30:34.831Z"
   },
   {
    "duration": 102,
    "start_time": "2023-04-16T22:33:01.706Z"
   },
   {
    "duration": 25,
    "start_time": "2023-04-16T22:33:01.893Z"
   },
   {
    "duration": 80,
    "start_time": "2023-04-16T22:33:29.157Z"
   },
   {
    "duration": 25,
    "start_time": "2023-04-16T22:33:29.273Z"
   },
   {
    "duration": 77,
    "start_time": "2023-04-16T22:34:23.500Z"
   },
   {
    "duration": 26,
    "start_time": "2023-04-16T22:34:23.733Z"
   },
   {
    "duration": 133,
    "start_time": "2023-04-16T22:37:26.578Z"
   },
   {
    "duration": 35,
    "start_time": "2023-04-16T22:37:26.713Z"
   },
   {
    "duration": 90,
    "start_time": "2023-04-16T22:37:38.356Z"
   },
   {
    "duration": 27,
    "start_time": "2023-04-16T22:37:38.930Z"
   },
   {
    "duration": 90,
    "start_time": "2023-04-16T22:37:46.723Z"
   },
   {
    "duration": 27,
    "start_time": "2023-04-16T22:37:46.877Z"
   },
   {
    "duration": 85,
    "start_time": "2023-04-16T22:37:49.946Z"
   },
   {
    "duration": 25,
    "start_time": "2023-04-16T22:37:50.108Z"
   },
   {
    "duration": 83,
    "start_time": "2023-04-16T22:38:03.245Z"
   },
   {
    "duration": 24,
    "start_time": "2023-04-16T22:38:03.388Z"
   },
   {
    "duration": 5,
    "start_time": "2023-04-16T22:38:38.387Z"
   },
   {
    "duration": 88,
    "start_time": "2023-04-16T22:39:02.696Z"
   },
   {
    "duration": 23,
    "start_time": "2023-04-16T22:39:03.019Z"
   },
   {
    "duration": 93,
    "start_time": "2023-04-16T22:40:53.361Z"
   },
   {
    "duration": 23,
    "start_time": "2023-04-16T22:40:53.679Z"
   },
   {
    "duration": 97,
    "start_time": "2023-04-16T22:42:05.537Z"
   },
   {
    "duration": 24,
    "start_time": "2023-04-16T22:42:05.636Z"
   },
   {
    "duration": 143,
    "start_time": "2023-04-16T22:42:47.026Z"
   },
   {
    "duration": 39,
    "start_time": "2023-04-16T22:42:47.938Z"
   },
   {
    "duration": 108,
    "start_time": "2023-04-16T22:44:14.831Z"
   },
   {
    "duration": 27,
    "start_time": "2023-04-16T22:44:15.051Z"
   },
   {
    "duration": 139,
    "start_time": "2023-04-16T22:45:26.891Z"
   },
   {
    "duration": 24,
    "start_time": "2023-04-16T22:45:27.092Z"
   },
   {
    "duration": 129,
    "start_time": "2023-04-16T22:45:56.853Z"
   },
   {
    "duration": 35,
    "start_time": "2023-04-16T22:45:57.027Z"
   },
   {
    "duration": 20,
    "start_time": "2023-04-16T22:46:43.321Z"
   },
   {
    "duration": 35,
    "start_time": "2023-04-16T22:47:00.247Z"
   },
   {
    "duration": 114,
    "start_time": "2023-04-16T22:47:04.311Z"
   },
   {
    "duration": 106,
    "start_time": "2023-04-16T22:47:08.031Z"
   },
   {
    "duration": 10,
    "start_time": "2023-04-16T22:47:22.792Z"
   },
   {
    "duration": 26,
    "start_time": "2023-04-16T22:47:40.949Z"
   },
   {
    "duration": 11,
    "start_time": "2023-04-16T22:47:52.425Z"
   },
   {
    "duration": 12,
    "start_time": "2023-04-16T22:49:27.014Z"
   },
   {
    "duration": 24,
    "start_time": "2023-04-16T22:49:38.566Z"
   },
   {
    "duration": 7,
    "start_time": "2023-04-16T22:49:58.238Z"
   },
   {
    "duration": 17,
    "start_time": "2023-04-16T22:49:58.416Z"
   },
   {
    "duration": 12,
    "start_time": "2023-04-16T22:50:11.237Z"
   },
   {
    "duration": 18,
    "start_time": "2023-04-16T22:50:11.411Z"
   },
   {
    "duration": 21,
    "start_time": "2023-04-16T22:50:21.192Z"
   },
   {
    "duration": 17,
    "start_time": "2023-04-16T22:50:22.595Z"
   },
   {
    "duration": 13,
    "start_time": "2023-04-16T22:50:26.513Z"
   },
   {
    "duration": 28,
    "start_time": "2023-04-16T22:50:26.689Z"
   },
   {
    "duration": 657,
    "start_time": "2023-04-16T22:50:50.366Z"
   },
   {
    "duration": 113,
    "start_time": "2023-04-16T22:50:51.025Z"
   },
   {
    "duration": 54,
    "start_time": "2023-04-16T22:50:51.140Z"
   },
   {
    "duration": 18,
    "start_time": "2023-04-16T22:50:51.196Z"
   },
   {
    "duration": 22,
    "start_time": "2023-04-16T22:50:51.216Z"
   },
   {
    "duration": 17,
    "start_time": "2023-04-16T22:50:51.241Z"
   },
   {
    "duration": 45,
    "start_time": "2023-04-16T22:50:51.261Z"
   },
   {
    "duration": 22,
    "start_time": "2023-04-16T22:50:51.308Z"
   },
   {
    "duration": 27,
    "start_time": "2023-04-16T22:50:51.332Z"
   },
   {
    "duration": 33,
    "start_time": "2023-04-16T22:50:51.361Z"
   },
   {
    "duration": 21,
    "start_time": "2023-04-16T22:50:51.396Z"
   },
   {
    "duration": 6,
    "start_time": "2023-04-16T22:50:51.419Z"
   },
   {
    "duration": 20,
    "start_time": "2023-04-16T22:50:51.427Z"
   },
   {
    "duration": 7,
    "start_time": "2023-04-16T22:50:51.451Z"
   },
   {
    "duration": 36,
    "start_time": "2023-04-16T22:50:51.459Z"
   },
   {
    "duration": 12,
    "start_time": "2023-04-16T22:50:51.497Z"
   },
   {
    "duration": 29,
    "start_time": "2023-04-16T22:50:51.510Z"
   },
   {
    "duration": 41,
    "start_time": "2023-04-16T22:50:51.541Z"
   },
   {
    "duration": 28,
    "start_time": "2023-04-16T22:50:51.583Z"
   },
   {
    "duration": 11,
    "start_time": "2023-04-16T22:50:51.613Z"
   },
   {
    "duration": 10,
    "start_time": "2023-04-16T22:50:51.626Z"
   },
   {
    "duration": 19,
    "start_time": "2023-04-16T22:50:51.637Z"
   },
   {
    "duration": 8,
    "start_time": "2023-04-16T22:50:51.657Z"
   },
   {
    "duration": 24,
    "start_time": "2023-04-16T22:50:51.667Z"
   },
   {
    "duration": 4,
    "start_time": "2023-04-16T22:50:51.693Z"
   },
   {
    "duration": 11,
    "start_time": "2023-04-16T22:50:51.699Z"
   },
   {
    "duration": 18,
    "start_time": "2023-04-16T22:50:51.712Z"
   },
   {
    "duration": 18,
    "start_time": "2023-04-16T22:50:51.731Z"
   },
   {
    "duration": 11,
    "start_time": "2023-04-16T22:50:51.751Z"
   },
   {
    "duration": 29,
    "start_time": "2023-04-16T22:50:51.763Z"
   },
   {
    "duration": 9,
    "start_time": "2023-04-16T22:50:51.794Z"
   },
   {
    "duration": 66,
    "start_time": "2023-04-16T22:50:51.805Z"
   },
   {
    "duration": 106,
    "start_time": "2023-04-16T22:50:51.879Z"
   },
   {
    "duration": 23,
    "start_time": "2023-04-16T22:50:51.987Z"
   },
   {
    "duration": 29,
    "start_time": "2023-04-16T22:50:52.012Z"
   },
   {
    "duration": 175,
    "start_time": "2023-04-16T22:50:52.043Z"
   },
   {
    "duration": 14,
    "start_time": "2023-04-16T22:50:52.220Z"
   },
   {
    "duration": 63,
    "start_time": "2023-04-16T22:50:52.236Z"
   },
   {
    "duration": 151,
    "start_time": "2023-04-16T22:50:52.301Z"
   },
   {
    "duration": 629,
    "start_time": "2023-04-16T22:51:31.702Z"
   },
   {
    "duration": 101,
    "start_time": "2023-04-16T22:51:32.333Z"
   },
   {
    "duration": 54,
    "start_time": "2023-04-16T22:51:32.435Z"
   },
   {
    "duration": 22,
    "start_time": "2023-04-16T22:51:32.494Z"
   },
   {
    "duration": 23,
    "start_time": "2023-04-16T22:51:32.519Z"
   },
   {
    "duration": 46,
    "start_time": "2023-04-16T22:51:32.543Z"
   },
   {
    "duration": 9,
    "start_time": "2023-04-16T22:51:32.598Z"
   },
   {
    "duration": 16,
    "start_time": "2023-04-16T22:51:32.610Z"
   },
   {
    "duration": 16,
    "start_time": "2023-04-16T22:51:32.629Z"
   },
   {
    "duration": 17,
    "start_time": "2023-04-16T22:51:32.647Z"
   },
   {
    "duration": 31,
    "start_time": "2023-04-16T22:51:32.666Z"
   },
   {
    "duration": 13,
    "start_time": "2023-04-16T22:51:32.699Z"
   },
   {
    "duration": 24,
    "start_time": "2023-04-16T22:51:32.715Z"
   },
   {
    "duration": 11,
    "start_time": "2023-04-16T22:51:32.743Z"
   },
   {
    "duration": 24,
    "start_time": "2023-04-16T22:51:32.755Z"
   },
   {
    "duration": 31,
    "start_time": "2023-04-16T22:51:32.783Z"
   },
   {
    "duration": 33,
    "start_time": "2023-04-16T22:51:32.816Z"
   },
   {
    "duration": 42,
    "start_time": "2023-04-16T22:51:32.851Z"
   },
   {
    "duration": 23,
    "start_time": "2023-04-16T22:51:32.896Z"
   },
   {
    "duration": 4,
    "start_time": "2023-04-16T22:51:32.921Z"
   },
   {
    "duration": 11,
    "start_time": "2023-04-16T22:51:32.927Z"
   },
   {
    "duration": 30,
    "start_time": "2023-04-16T22:51:32.940Z"
   },
   {
    "duration": 31,
    "start_time": "2023-04-16T22:51:32.971Z"
   },
   {
    "duration": 43,
    "start_time": "2023-04-16T22:51:33.003Z"
   },
   {
    "duration": 78,
    "start_time": "2023-04-16T22:51:33.048Z"
   },
   {
    "duration": 19,
    "start_time": "2023-04-16T22:51:33.128Z"
   },
   {
    "duration": 20,
    "start_time": "2023-04-16T22:51:33.149Z"
   },
   {
    "duration": 37,
    "start_time": "2023-04-16T22:51:33.171Z"
   },
   {
    "duration": 20,
    "start_time": "2023-04-16T22:51:33.210Z"
   },
   {
    "duration": 15,
    "start_time": "2023-04-16T22:51:33.232Z"
   },
   {
    "duration": 13,
    "start_time": "2023-04-16T22:51:33.249Z"
   },
   {
    "duration": 121,
    "start_time": "2023-04-16T22:51:33.264Z"
   },
   {
    "duration": 100,
    "start_time": "2023-04-16T22:51:33.392Z"
   },
   {
    "duration": 27,
    "start_time": "2023-04-16T22:51:33.494Z"
   },
   {
    "duration": 61,
    "start_time": "2023-04-16T22:51:33.523Z"
   },
   {
    "duration": 171,
    "start_time": "2023-04-16T22:51:33.596Z"
   },
   {
    "duration": 30,
    "start_time": "2023-04-16T22:51:33.769Z"
   },
   {
    "duration": 50,
    "start_time": "2023-04-16T22:51:33.801Z"
   },
   {
    "duration": 169,
    "start_time": "2023-04-16T22:51:33.853Z"
   },
   {
    "duration": 25,
    "start_time": "2023-04-16T22:51:34.024Z"
   },
   {
    "duration": 36,
    "start_time": "2023-04-16T22:51:34.079Z"
   },
   {
    "duration": 21,
    "start_time": "2023-04-16T22:51:58.190Z"
   },
   {
    "duration": 41,
    "start_time": "2023-04-16T22:51:58.344Z"
   },
   {
    "duration": 28,
    "start_time": "2023-04-16T22:52:09.666Z"
   },
   {
    "duration": 23,
    "start_time": "2023-04-16T22:52:09.808Z"
   },
   {
    "duration": 17,
    "start_time": "2023-04-16T22:52:13.386Z"
   },
   {
    "duration": 21,
    "start_time": "2023-04-16T22:52:13.699Z"
   },
   {
    "duration": 95,
    "start_time": "2023-04-16T22:52:56.129Z"
   },
   {
    "duration": 30,
    "start_time": "2023-04-16T22:53:00.967Z"
   },
   {
    "duration": 20,
    "start_time": "2023-04-16T22:53:01.102Z"
   },
   {
    "duration": 30,
    "start_time": "2023-04-16T22:53:09.018Z"
   },
   {
    "duration": 29,
    "start_time": "2023-04-16T22:53:09.141Z"
   },
   {
    "duration": 21,
    "start_time": "2023-04-16T22:53:12.287Z"
   },
   {
    "duration": 18,
    "start_time": "2023-04-16T22:53:12.406Z"
   },
   {
    "duration": 17,
    "start_time": "2023-04-16T22:53:19.535Z"
   },
   {
    "duration": 29,
    "start_time": "2023-04-16T22:53:19.666Z"
   },
   {
    "duration": 20,
    "start_time": "2023-04-16T22:53:31.233Z"
   },
   {
    "duration": 19,
    "start_time": "2023-04-16T22:53:31.692Z"
   },
   {
    "duration": 28,
    "start_time": "2023-04-16T22:53:39.928Z"
   },
   {
    "duration": 28,
    "start_time": "2023-04-16T22:53:40.115Z"
   },
   {
    "duration": 22,
    "start_time": "2023-04-16T22:53:42.806Z"
   },
   {
    "duration": 20,
    "start_time": "2023-04-16T22:53:43.747Z"
   },
   {
    "duration": 20,
    "start_time": "2023-04-16T22:53:45.849Z"
   },
   {
    "duration": 24,
    "start_time": "2023-04-16T22:53:45.991Z"
   },
   {
    "duration": 20,
    "start_time": "2023-04-16T22:53:48.218Z"
   },
   {
    "duration": 29,
    "start_time": "2023-04-16T22:53:48.340Z"
   },
   {
    "duration": 28,
    "start_time": "2023-04-16T22:53:50.607Z"
   },
   {
    "duration": 27,
    "start_time": "2023-04-16T22:53:50.724Z"
   },
   {
    "duration": 20,
    "start_time": "2023-04-16T22:53:52.593Z"
   },
   {
    "duration": 25,
    "start_time": "2023-04-16T22:53:52.730Z"
   },
   {
    "duration": 27,
    "start_time": "2023-04-16T22:53:54.933Z"
   },
   {
    "duration": 29,
    "start_time": "2023-04-16T22:53:55.067Z"
   },
   {
    "duration": 20,
    "start_time": "2023-04-16T22:53:57.448Z"
   },
   {
    "duration": 27,
    "start_time": "2023-04-16T22:53:57.567Z"
   },
   {
    "duration": 20,
    "start_time": "2023-04-16T22:54:01.027Z"
   },
   {
    "duration": 31,
    "start_time": "2023-04-16T22:54:01.169Z"
   },
   {
    "duration": 28,
    "start_time": "2023-04-16T22:54:03.400Z"
   },
   {
    "duration": 17,
    "start_time": "2023-04-16T22:54:03.516Z"
   },
   {
    "duration": 31,
    "start_time": "2023-04-16T22:54:05.666Z"
   },
   {
    "duration": 19,
    "start_time": "2023-04-16T22:54:06.290Z"
   },
   {
    "duration": 19,
    "start_time": "2023-04-16T22:54:08.722Z"
   },
   {
    "duration": 35,
    "start_time": "2023-04-16T22:54:09.054Z"
   },
   {
    "duration": 22,
    "start_time": "2023-04-16T22:54:20.965Z"
   },
   {
    "duration": 19,
    "start_time": "2023-04-16T22:54:21.092Z"
   },
   {
    "duration": 15,
    "start_time": "2023-04-16T22:54:34.640Z"
   },
   {
    "duration": 13,
    "start_time": "2023-04-16T22:54:48.212Z"
   },
   {
    "duration": 14,
    "start_time": "2023-04-16T22:54:48.716Z"
   },
   {
    "duration": 26,
    "start_time": "2023-04-16T22:54:49.267Z"
   },
   {
    "duration": 685,
    "start_time": "2023-04-16T22:55:00.952Z"
   },
   {
    "duration": 94,
    "start_time": "2023-04-16T22:55:01.639Z"
   },
   {
    "duration": 43,
    "start_time": "2023-04-16T22:55:01.735Z"
   },
   {
    "duration": 78,
    "start_time": "2023-04-16T22:55:01.780Z"
   },
   {
    "duration": 54,
    "start_time": "2023-04-16T22:55:01.861Z"
   },
   {
    "duration": 40,
    "start_time": "2023-04-16T22:55:01.917Z"
   },
   {
    "duration": 20,
    "start_time": "2023-04-16T22:55:01.959Z"
   },
   {
    "duration": 49,
    "start_time": "2023-04-16T22:55:01.982Z"
   },
   {
    "duration": 23,
    "start_time": "2023-04-16T22:55:02.032Z"
   },
   {
    "duration": 52,
    "start_time": "2023-04-16T22:55:02.058Z"
   },
   {
    "duration": 39,
    "start_time": "2023-04-16T22:55:02.112Z"
   },
   {
    "duration": 32,
    "start_time": "2023-04-16T22:55:02.152Z"
   },
   {
    "duration": 32,
    "start_time": "2023-04-16T22:55:02.187Z"
   },
   {
    "duration": 40,
    "start_time": "2023-04-16T22:55:02.221Z"
   },
   {
    "duration": 48,
    "start_time": "2023-04-16T22:55:02.263Z"
   },
   {
    "duration": 28,
    "start_time": "2023-04-16T22:55:02.312Z"
   },
   {
    "duration": 49,
    "start_time": "2023-04-16T22:55:02.342Z"
   },
   {
    "duration": 20,
    "start_time": "2023-04-16T22:55:02.392Z"
   },
   {
    "duration": 18,
    "start_time": "2023-04-16T22:55:02.414Z"
   },
   {
    "duration": 12,
    "start_time": "2023-04-16T22:55:02.434Z"
   },
   {
    "duration": 34,
    "start_time": "2023-04-16T22:55:02.447Z"
   },
   {
    "duration": 35,
    "start_time": "2023-04-16T22:55:02.483Z"
   },
   {
    "duration": 24,
    "start_time": "2023-04-16T22:55:02.520Z"
   },
   {
    "duration": 42,
    "start_time": "2023-04-16T22:55:02.545Z"
   },
   {
    "duration": 14,
    "start_time": "2023-04-16T22:55:02.590Z"
   },
   {
    "duration": 13,
    "start_time": "2023-04-16T22:55:02.606Z"
   },
   {
    "duration": 29,
    "start_time": "2023-04-16T22:55:02.620Z"
   },
   {
    "duration": 37,
    "start_time": "2023-04-16T22:55:02.652Z"
   },
   {
    "duration": 15,
    "start_time": "2023-04-16T22:55:02.691Z"
   },
   {
    "duration": 19,
    "start_time": "2023-04-16T22:55:02.708Z"
   },
   {
    "duration": 25,
    "start_time": "2023-04-16T22:55:02.729Z"
   },
   {
    "duration": 86,
    "start_time": "2023-04-16T22:55:02.756Z"
   },
   {
    "duration": 104,
    "start_time": "2023-04-16T22:55:02.844Z"
   },
   {
    "duration": 40,
    "start_time": "2023-04-16T22:55:02.950Z"
   },
   {
    "duration": 31,
    "start_time": "2023-04-16T22:55:02.993Z"
   },
   {
    "duration": 155,
    "start_time": "2023-04-16T22:55:03.026Z"
   },
   {
    "duration": 19,
    "start_time": "2023-04-16T22:55:03.182Z"
   },
   {
    "duration": 51,
    "start_time": "2023-04-16T22:55:03.203Z"
   },
   {
    "duration": 155,
    "start_time": "2023-04-16T22:55:03.256Z"
   },
   {
    "duration": 28,
    "start_time": "2023-04-16T22:55:03.412Z"
   },
   {
    "duration": 52,
    "start_time": "2023-04-16T22:55:03.442Z"
   },
   {
    "duration": 18,
    "start_time": "2023-04-16T22:55:16.839Z"
   },
   {
    "duration": 27,
    "start_time": "2023-04-16T22:55:21.528Z"
   },
   {
    "duration": 21,
    "start_time": "2023-04-16T22:56:15.914Z"
   },
   {
    "duration": 22,
    "start_time": "2023-04-16T22:56:16.023Z"
   },
   {
    "duration": 26,
    "start_time": "2023-04-16T22:58:31.123Z"
   },
   {
    "duration": 35,
    "start_time": "2023-04-16T22:58:31.258Z"
   },
   {
    "duration": 17,
    "start_time": "2023-04-16T23:13:47.408Z"
   },
   {
    "duration": 33,
    "start_time": "2023-04-16T23:18:51.189Z"
   },
   {
    "duration": 17,
    "start_time": "2023-04-16T23:18:51.314Z"
   },
   {
    "duration": 47,
    "start_time": "2023-04-16T23:19:34.062Z"
   },
   {
    "duration": 29,
    "start_time": "2023-04-16T23:19:34.196Z"
   },
   {
    "duration": 79,
    "start_time": "2023-04-16T23:20:45.218Z"
   },
   {
    "duration": 34,
    "start_time": "2023-04-16T23:20:45.377Z"
   },
   {
    "duration": 46,
    "start_time": "2023-04-16T23:21:28.082Z"
   },
   {
    "duration": 18,
    "start_time": "2023-04-16T23:21:28.210Z"
   },
   {
    "duration": 54,
    "start_time": "2023-04-16T23:24:56.497Z"
   },
   {
    "duration": 16,
    "start_time": "2023-04-16T23:24:56.602Z"
   },
   {
    "duration": 55,
    "start_time": "2023-04-16T23:25:11.984Z"
   },
   {
    "duration": 17,
    "start_time": "2023-04-16T23:25:12.116Z"
   },
   {
    "duration": 78,
    "start_time": "2023-04-16T23:26:13.849Z"
   },
   {
    "duration": 21,
    "start_time": "2023-04-16T23:26:13.987Z"
   },
   {
    "duration": 65,
    "start_time": "2023-04-16T23:26:51.485Z"
   },
   {
    "duration": 16,
    "start_time": "2023-04-16T23:26:51.616Z"
   },
   {
    "duration": 76,
    "start_time": "2023-04-16T23:30:28.844Z"
   },
   {
    "duration": 17,
    "start_time": "2023-04-16T23:30:28.949Z"
   },
   {
    "duration": 84,
    "start_time": "2023-04-16T23:31:08.426Z"
   },
   {
    "duration": 17,
    "start_time": "2023-04-16T23:31:08.528Z"
   },
   {
    "duration": 79,
    "start_time": "2023-04-16T23:34:44.415Z"
   },
   {
    "duration": 17,
    "start_time": "2023-04-16T23:34:44.571Z"
   },
   {
    "duration": 81,
    "start_time": "2023-04-16T23:35:36.174Z"
   },
   {
    "duration": 17,
    "start_time": "2023-04-16T23:35:36.302Z"
   },
   {
    "duration": 113,
    "start_time": "2023-04-16T23:37:35.748Z"
   },
   {
    "duration": 23,
    "start_time": "2023-04-16T23:37:35.902Z"
   },
   {
    "duration": 88,
    "start_time": "2023-04-16T23:37:53.172Z"
   },
   {
    "duration": 17,
    "start_time": "2023-04-16T23:37:53.315Z"
   },
   {
    "duration": 107,
    "start_time": "2023-04-16T23:38:36.865Z"
   },
   {
    "duration": 17,
    "start_time": "2023-04-16T23:38:36.979Z"
   },
   {
    "duration": 103,
    "start_time": "2023-04-16T23:39:09.785Z"
   },
   {
    "duration": 18,
    "start_time": "2023-04-16T23:39:09.940Z"
   },
   {
    "duration": 112,
    "start_time": "2023-04-16T23:40:22.003Z"
   },
   {
    "duration": 23,
    "start_time": "2023-04-16T23:40:22.122Z"
   },
   {
    "duration": 9,
    "start_time": "2023-04-16T23:41:17.678Z"
   },
   {
    "duration": 6,
    "start_time": "2023-04-16T23:41:31.401Z"
   },
   {
    "duration": 5,
    "start_time": "2023-04-16T23:41:46.190Z"
   },
   {
    "duration": 6,
    "start_time": "2023-04-16T23:41:49.484Z"
   },
   {
    "duration": 5,
    "start_time": "2023-04-16T23:41:59.730Z"
   },
   {
    "duration": 8,
    "start_time": "2023-04-16T23:42:15.641Z"
   },
   {
    "duration": 7,
    "start_time": "2023-04-16T23:42:41.547Z"
   },
   {
    "duration": 12,
    "start_time": "2023-04-16T23:42:50.789Z"
   },
   {
    "duration": 10,
    "start_time": "2023-04-16T23:43:17.195Z"
   },
   {
    "duration": 15,
    "start_time": "2023-04-16T23:43:18.328Z"
   },
   {
    "duration": 23,
    "start_time": "2023-04-16T23:43:54.674Z"
   },
   {
    "duration": 8,
    "start_time": "2023-04-16T23:44:26.987Z"
   },
   {
    "duration": 91,
    "start_time": "2023-04-16T23:45:48.342Z"
   },
   {
    "duration": 9,
    "start_time": "2023-04-16T23:45:54.397Z"
   },
   {
    "duration": 8,
    "start_time": "2023-04-16T23:46:01.917Z"
   },
   {
    "duration": 7,
    "start_time": "2023-04-16T23:46:17.157Z"
   },
   {
    "duration": 8,
    "start_time": "2023-04-16T23:46:21.118Z"
   },
   {
    "duration": 6,
    "start_time": "2023-04-16T23:51:33.510Z"
   },
   {
    "duration": 5,
    "start_time": "2023-04-16T23:53:32.138Z"
   },
   {
    "duration": 5,
    "start_time": "2023-04-16T23:53:41.724Z"
   },
   {
    "duration": 5,
    "start_time": "2023-04-16T23:53:42.524Z"
   },
   {
    "duration": 8,
    "start_time": "2023-04-16T23:54:35.513Z"
   },
   {
    "duration": 4,
    "start_time": "2023-04-16T23:55:57.535Z"
   },
   {
    "duration": 5,
    "start_time": "2023-04-16T23:56:23.988Z"
   },
   {
    "duration": 6,
    "start_time": "2023-04-16T23:56:32.546Z"
   },
   {
    "duration": 8,
    "start_time": "2023-04-16T23:58:28.487Z"
   },
   {
    "duration": 6,
    "start_time": "2023-04-16T23:58:57.125Z"
   },
   {
    "duration": 8,
    "start_time": "2023-04-16T23:59:47.483Z"
   },
   {
    "duration": 25,
    "start_time": "2023-04-17T00:00:17.093Z"
   },
   {
    "duration": 25,
    "start_time": "2023-04-17T00:00:59.232Z"
   },
   {
    "duration": 24,
    "start_time": "2023-04-17T00:01:18.555Z"
   },
   {
    "duration": 24,
    "start_time": "2023-04-17T00:02:21.243Z"
   },
   {
    "duration": 608,
    "start_time": "2023-04-17T00:02:40.732Z"
   },
   {
    "duration": 90,
    "start_time": "2023-04-17T00:02:41.342Z"
   },
   {
    "duration": 39,
    "start_time": "2023-04-17T00:02:41.433Z"
   },
   {
    "duration": 17,
    "start_time": "2023-04-17T00:02:41.474Z"
   },
   {
    "duration": 19,
    "start_time": "2023-04-17T00:02:41.493Z"
   },
   {
    "duration": 15,
    "start_time": "2023-04-17T00:02:41.514Z"
   },
   {
    "duration": 4,
    "start_time": "2023-04-17T00:02:41.531Z"
   },
   {
    "duration": 37,
    "start_time": "2023-04-17T00:02:41.537Z"
   },
   {
    "duration": 10,
    "start_time": "2023-04-17T00:02:41.575Z"
   },
   {
    "duration": 15,
    "start_time": "2023-04-17T00:02:41.588Z"
   },
   {
    "duration": 41,
    "start_time": "2023-04-17T00:02:41.604Z"
   },
   {
    "duration": 6,
    "start_time": "2023-04-17T00:02:41.647Z"
   },
   {
    "duration": 25,
    "start_time": "2023-04-17T00:02:41.655Z"
   },
   {
    "duration": 22,
    "start_time": "2023-04-17T00:02:41.681Z"
   },
   {
    "duration": 27,
    "start_time": "2023-04-17T00:02:41.704Z"
   },
   {
    "duration": 9,
    "start_time": "2023-04-17T00:02:41.733Z"
   },
   {
    "duration": 29,
    "start_time": "2023-04-17T00:02:41.744Z"
   },
   {
    "duration": 12,
    "start_time": "2023-04-17T00:02:41.774Z"
   },
   {
    "duration": 10,
    "start_time": "2023-04-17T00:02:41.788Z"
   },
   {
    "duration": 4,
    "start_time": "2023-04-17T00:02:41.799Z"
   },
   {
    "duration": 6,
    "start_time": "2023-04-17T00:02:41.804Z"
   },
   {
    "duration": 19,
    "start_time": "2023-04-17T00:02:41.811Z"
   },
   {
    "duration": 7,
    "start_time": "2023-04-17T00:02:41.831Z"
   },
   {
    "duration": 37,
    "start_time": "2023-04-17T00:02:41.839Z"
   },
   {
    "duration": 3,
    "start_time": "2023-04-17T00:02:41.877Z"
   },
   {
    "duration": 10,
    "start_time": "2023-04-17T00:02:41.882Z"
   },
   {
    "duration": 13,
    "start_time": "2023-04-17T00:02:41.894Z"
   },
   {
    "duration": 13,
    "start_time": "2023-04-17T00:02:41.910Z"
   },
   {
    "duration": 23,
    "start_time": "2023-04-17T00:02:41.924Z"
   },
   {
    "duration": 34,
    "start_time": "2023-04-17T00:02:41.949Z"
   },
   {
    "duration": 5,
    "start_time": "2023-04-17T00:02:41.985Z"
   },
   {
    "duration": 71,
    "start_time": "2023-04-17T00:02:41.991Z"
   },
   {
    "duration": 76,
    "start_time": "2023-04-17T00:02:42.065Z"
   },
   {
    "duration": 37,
    "start_time": "2023-04-17T00:02:42.143Z"
   },
   {
    "duration": 22,
    "start_time": "2023-04-17T00:02:42.182Z"
   },
   {
    "duration": 168,
    "start_time": "2023-04-17T00:02:42.206Z"
   },
   {
    "duration": 15,
    "start_time": "2023-04-17T00:02:42.376Z"
   },
   {
    "duration": 42,
    "start_time": "2023-04-17T00:02:42.393Z"
   },
   {
    "duration": 161,
    "start_time": "2023-04-17T00:02:42.436Z"
   },
   {
    "duration": 25,
    "start_time": "2023-04-17T00:02:42.599Z"
   },
   {
    "duration": 57,
    "start_time": "2023-04-17T00:02:42.627Z"
   },
   {
    "duration": 168,
    "start_time": "2023-04-17T00:02:42.686Z"
   },
   {
    "duration": 23,
    "start_time": "2023-04-17T00:02:42.856Z"
   },
   {
    "duration": 12,
    "start_time": "2023-04-17T00:02:42.881Z"
   },
   {
    "duration": 27,
    "start_time": "2023-04-17T00:02:42.895Z"
   },
   {
    "duration": 30,
    "start_time": "2023-04-17T00:02:42.924Z"
   },
   {
    "duration": 10,
    "start_time": "2023-04-17T00:02:42.973Z"
   },
   {
    "duration": 7,
    "start_time": "2023-04-17T00:02:42.985Z"
   },
   {
    "duration": 6,
    "start_time": "2023-04-17T00:02:42.994Z"
   },
   {
    "duration": 9,
    "start_time": "2023-04-17T00:02:43.002Z"
   },
   {
    "duration": 29,
    "start_time": "2023-04-17T00:03:18.256Z"
   },
   {
    "duration": 81,
    "start_time": "2023-04-17T00:03:36.719Z"
   },
   {
    "duration": 25,
    "start_time": "2023-04-17T00:04:07.075Z"
   },
   {
    "duration": 11,
    "start_time": "2023-04-17T00:04:14.189Z"
   },
   {
    "duration": 4,
    "start_time": "2023-04-17T00:04:27.514Z"
   },
   {
    "duration": 9,
    "start_time": "2023-04-17T00:04:34.979Z"
   },
   {
    "duration": 668,
    "start_time": "2023-04-17T00:04:38.647Z"
   },
   {
    "duration": 88,
    "start_time": "2023-04-17T00:04:39.317Z"
   },
   {
    "duration": 38,
    "start_time": "2023-04-17T00:04:39.406Z"
   },
   {
    "duration": 18,
    "start_time": "2023-04-17T00:04:39.446Z"
   },
   {
    "duration": 62,
    "start_time": "2023-04-17T00:04:39.466Z"
   },
   {
    "duration": 66,
    "start_time": "2023-04-17T00:04:39.530Z"
   },
   {
    "duration": 5,
    "start_time": "2023-04-17T00:04:39.597Z"
   },
   {
    "duration": 14,
    "start_time": "2023-04-17T00:04:39.604Z"
   },
   {
    "duration": 23,
    "start_time": "2023-04-17T00:04:39.619Z"
   },
   {
    "duration": 20,
    "start_time": "2023-04-17T00:04:39.644Z"
   },
   {
    "duration": 30,
    "start_time": "2023-04-17T00:04:39.665Z"
   },
   {
    "duration": 5,
    "start_time": "2023-04-17T00:04:39.697Z"
   },
   {
    "duration": 18,
    "start_time": "2023-04-17T00:04:39.703Z"
   },
   {
    "duration": 8,
    "start_time": "2023-04-17T00:04:39.724Z"
   },
   {
    "duration": 21,
    "start_time": "2023-04-17T00:04:39.734Z"
   },
   {
    "duration": 16,
    "start_time": "2023-04-17T00:04:39.756Z"
   },
   {
    "duration": 22,
    "start_time": "2023-04-17T00:04:39.774Z"
   },
   {
    "duration": 13,
    "start_time": "2023-04-17T00:04:39.797Z"
   },
   {
    "duration": 18,
    "start_time": "2023-04-17T00:04:39.812Z"
   },
   {
    "duration": 7,
    "start_time": "2023-04-17T00:04:39.832Z"
   },
   {
    "duration": 9,
    "start_time": "2023-04-17T00:04:39.840Z"
   },
   {
    "duration": 27,
    "start_time": "2023-04-17T00:04:39.851Z"
   },
   {
    "duration": 7,
    "start_time": "2023-04-17T00:04:39.880Z"
   },
   {
    "duration": 9,
    "start_time": "2023-04-17T00:04:39.889Z"
   },
   {
    "duration": 3,
    "start_time": "2023-04-17T00:04:39.900Z"
   },
   {
    "duration": 14,
    "start_time": "2023-04-17T00:04:39.905Z"
   },
   {
    "duration": 14,
    "start_time": "2023-04-17T00:04:39.920Z"
   },
   {
    "duration": 13,
    "start_time": "2023-04-17T00:04:39.936Z"
   },
   {
    "duration": 9,
    "start_time": "2023-04-17T00:04:39.972Z"
   },
   {
    "duration": 17,
    "start_time": "2023-04-17T00:04:39.982Z"
   },
   {
    "duration": 6,
    "start_time": "2023-04-17T00:04:40.001Z"
   },
   {
    "duration": 63,
    "start_time": "2023-04-17T00:04:40.008Z"
   },
   {
    "duration": 100,
    "start_time": "2023-04-17T00:04:40.072Z"
   },
   {
    "duration": 24,
    "start_time": "2023-04-17T00:04:40.173Z"
   },
   {
    "duration": 22,
    "start_time": "2023-04-17T00:04:40.198Z"
   },
   {
    "duration": 180,
    "start_time": "2023-04-17T00:04:40.221Z"
   },
   {
    "duration": 15,
    "start_time": "2023-04-17T00:04:40.402Z"
   },
   {
    "duration": 40,
    "start_time": "2023-04-17T00:04:40.418Z"
   },
   {
    "duration": 162,
    "start_time": "2023-04-17T00:04:40.472Z"
   },
   {
    "duration": 24,
    "start_time": "2023-04-17T00:04:40.636Z"
   },
   {
    "duration": 25,
    "start_time": "2023-04-17T00:04:40.671Z"
   },
   {
    "duration": 153,
    "start_time": "2023-04-17T00:04:40.697Z"
   },
   {
    "duration": 24,
    "start_time": "2023-04-17T00:04:40.852Z"
   },
   {
    "duration": 16,
    "start_time": "2023-04-17T00:04:40.879Z"
   },
   {
    "duration": 21,
    "start_time": "2023-04-17T00:04:40.896Z"
   },
   {
    "duration": 21,
    "start_time": "2023-04-17T00:04:40.919Z"
   },
   {
    "duration": 10,
    "start_time": "2023-04-17T00:04:40.971Z"
   },
   {
    "duration": 57,
    "start_time": "2023-04-17T00:04:40.982Z"
   },
   {
    "duration": 11,
    "start_time": "2023-04-17T00:04:41.041Z"
   },
   {
    "duration": 17,
    "start_time": "2023-04-17T00:04:41.053Z"
   },
   {
    "duration": 23,
    "start_time": "2023-04-17T00:04:42.167Z"
   },
   {
    "duration": 4,
    "start_time": "2023-04-17T00:04:43.376Z"
   },
   {
    "duration": 21,
    "start_time": "2023-04-17T00:05:07.694Z"
   },
   {
    "duration": 5,
    "start_time": "2023-04-17T00:05:59.852Z"
   },
   {
    "duration": 10,
    "start_time": "2023-04-17T00:06:07.193Z"
   },
   {
    "duration": 613,
    "start_time": "2023-04-17T00:06:13.735Z"
   },
   {
    "duration": 88,
    "start_time": "2023-04-17T00:06:14.350Z"
   },
   {
    "duration": 38,
    "start_time": "2023-04-17T00:06:14.440Z"
   },
   {
    "duration": 17,
    "start_time": "2023-04-17T00:06:14.480Z"
   },
   {
    "duration": 18,
    "start_time": "2023-04-17T00:06:14.499Z"
   },
   {
    "duration": 16,
    "start_time": "2023-04-17T00:06:14.518Z"
   },
   {
    "duration": 11,
    "start_time": "2023-04-17T00:06:14.535Z"
   },
   {
    "duration": 29,
    "start_time": "2023-04-17T00:06:14.548Z"
   },
   {
    "duration": 10,
    "start_time": "2023-04-17T00:06:14.579Z"
   },
   {
    "duration": 10,
    "start_time": "2023-04-17T00:06:14.592Z"
   },
   {
    "duration": 17,
    "start_time": "2023-04-17T00:06:14.604Z"
   },
   {
    "duration": 6,
    "start_time": "2023-04-17T00:06:14.622Z"
   },
   {
    "duration": 14,
    "start_time": "2023-04-17T00:06:14.629Z"
   },
   {
    "duration": 30,
    "start_time": "2023-04-17T00:06:14.645Z"
   },
   {
    "duration": 17,
    "start_time": "2023-04-17T00:06:14.677Z"
   },
   {
    "duration": 8,
    "start_time": "2023-04-17T00:06:14.696Z"
   },
   {
    "duration": 31,
    "start_time": "2023-04-17T00:06:14.706Z"
   },
   {
    "duration": 36,
    "start_time": "2023-04-17T00:06:14.739Z"
   },
   {
    "duration": 14,
    "start_time": "2023-04-17T00:06:14.776Z"
   },
   {
    "duration": 11,
    "start_time": "2023-04-17T00:06:14.792Z"
   },
   {
    "duration": 13,
    "start_time": "2023-04-17T00:06:14.804Z"
   },
   {
    "duration": 18,
    "start_time": "2023-04-17T00:06:14.818Z"
   },
   {
    "duration": 9,
    "start_time": "2023-04-17T00:06:14.838Z"
   },
   {
    "duration": 17,
    "start_time": "2023-04-17T00:06:14.849Z"
   },
   {
    "duration": 7,
    "start_time": "2023-04-17T00:06:14.867Z"
   },
   {
    "duration": 10,
    "start_time": "2023-04-17T00:06:14.876Z"
   },
   {
    "duration": 24,
    "start_time": "2023-04-17T00:06:14.889Z"
   },
   {
    "duration": 21,
    "start_time": "2023-04-17T00:06:14.918Z"
   },
   {
    "duration": 12,
    "start_time": "2023-04-17T00:06:14.941Z"
   },
   {
    "duration": 45,
    "start_time": "2023-04-17T00:06:14.954Z"
   },
   {
    "duration": 7,
    "start_time": "2023-04-17T00:06:15.001Z"
   },
   {
    "duration": 118,
    "start_time": "2023-04-17T00:06:15.009Z"
   },
   {
    "duration": 103,
    "start_time": "2023-04-17T00:06:15.129Z"
   },
   {
    "duration": 24,
    "start_time": "2023-04-17T00:06:15.234Z"
   },
   {
    "duration": 29,
    "start_time": "2023-04-17T00:06:15.259Z"
   },
   {
    "duration": 143,
    "start_time": "2023-04-17T00:06:15.289Z"
   },
   {
    "duration": 15,
    "start_time": "2023-04-17T00:06:15.433Z"
   },
   {
    "duration": 46,
    "start_time": "2023-04-17T00:06:15.449Z"
   },
   {
    "duration": 138,
    "start_time": "2023-04-17T00:06:15.497Z"
   },
   {
    "duration": 26,
    "start_time": "2023-04-17T00:06:15.637Z"
   },
   {
    "duration": 32,
    "start_time": "2023-04-17T00:06:15.664Z"
   },
   {
    "duration": 139,
    "start_time": "2023-04-17T00:06:15.698Z"
   },
   {
    "duration": 17,
    "start_time": "2023-04-17T00:06:15.839Z"
   },
   {
    "duration": 23,
    "start_time": "2023-04-17T00:06:15.857Z"
   },
   {
    "duration": 25,
    "start_time": "2023-04-17T00:06:15.882Z"
   },
   {
    "duration": 20,
    "start_time": "2023-04-17T00:06:15.909Z"
   },
   {
    "duration": 9,
    "start_time": "2023-04-17T00:06:15.931Z"
   },
   {
    "duration": 38,
    "start_time": "2023-04-17T00:06:15.942Z"
   },
   {
    "duration": 12,
    "start_time": "2023-04-17T00:06:15.983Z"
   },
   {
    "duration": 13,
    "start_time": "2023-04-17T00:06:15.997Z"
   },
   {
    "duration": 23,
    "start_time": "2023-04-17T00:06:18.287Z"
   },
   {
    "duration": 5,
    "start_time": "2023-04-17T00:06:58.760Z"
   },
   {
    "duration": 9,
    "start_time": "2023-04-17T00:06:59.560Z"
   },
   {
    "duration": 4,
    "start_time": "2023-04-17T00:07:11.731Z"
   },
   {
    "duration": 7,
    "start_time": "2023-04-17T00:07:38.402Z"
   },
   {
    "duration": 3,
    "start_time": "2023-04-17T00:07:41.576Z"
   },
   {
    "duration": 4,
    "start_time": "2023-04-17T00:08:02.987Z"
   },
   {
    "duration": 5,
    "start_time": "2023-04-17T00:08:10.176Z"
   },
   {
    "duration": 5,
    "start_time": "2023-04-17T00:08:23.226Z"
   },
   {
    "duration": 7,
    "start_time": "2023-04-17T00:11:01.620Z"
   },
   {
    "duration": 9,
    "start_time": "2023-04-17T00:11:32.818Z"
   },
   {
    "duration": 71,
    "start_time": "2023-04-17T00:12:20.202Z"
   },
   {
    "duration": 4,
    "start_time": "2023-04-17T00:12:35.479Z"
   },
   {
    "duration": 486,
    "start_time": "2023-04-17T00:13:08.016Z"
   },
   {
    "duration": 9,
    "start_time": "2023-04-17T00:15:21.979Z"
   },
   {
    "duration": 6,
    "start_time": "2023-04-17T00:15:27.697Z"
   },
   {
    "duration": 6,
    "start_time": "2023-04-17T00:15:32.951Z"
   },
   {
    "duration": 6,
    "start_time": "2023-04-17T00:15:44.803Z"
   },
   {
    "duration": 17,
    "start_time": "2023-04-17T00:15:55.317Z"
   },
   {
    "duration": 14,
    "start_time": "2023-04-17T00:16:19.211Z"
   },
   {
    "duration": 23,
    "start_time": "2023-04-17T00:16:31.904Z"
   },
   {
    "duration": 16,
    "start_time": "2023-04-17T00:16:42.222Z"
   },
   {
    "duration": 16,
    "start_time": "2023-04-17T00:16:45.025Z"
   },
   {
    "duration": 24,
    "start_time": "2023-04-17T00:17:25.069Z"
   },
   {
    "duration": 6,
    "start_time": "2023-04-17T00:17:29.665Z"
   },
   {
    "duration": 6,
    "start_time": "2023-04-17T00:17:36.994Z"
   },
   {
    "duration": 8,
    "start_time": "2023-04-17T00:17:45.886Z"
   },
   {
    "duration": 5,
    "start_time": "2023-04-17T00:19:06.311Z"
   },
   {
    "duration": 7,
    "start_time": "2023-04-17T00:19:11.543Z"
   },
   {
    "duration": 28,
    "start_time": "2023-04-17T00:19:21.588Z"
   },
   {
    "duration": 4,
    "start_time": "2023-04-17T00:19:37.330Z"
   },
   {
    "duration": 6,
    "start_time": "2023-04-17T00:19:46.181Z"
   },
   {
    "duration": 9,
    "start_time": "2023-04-17T00:19:55.726Z"
   },
   {
    "duration": 6,
    "start_time": "2023-04-17T00:20:04.931Z"
   },
   {
    "duration": 8,
    "start_time": "2023-04-17T00:20:09.776Z"
   },
   {
    "duration": 5,
    "start_time": "2023-04-17T00:20:13.261Z"
   },
   {
    "duration": 6,
    "start_time": "2023-04-17T00:20:17.560Z"
   },
   {
    "duration": 7,
    "start_time": "2023-04-17T00:20:24.930Z"
   },
   {
    "duration": 6,
    "start_time": "2023-04-17T00:20:39.306Z"
   },
   {
    "duration": 25,
    "start_time": "2023-04-17T00:20:54.403Z"
   },
   {
    "duration": 8,
    "start_time": "2023-04-17T00:21:01.099Z"
   },
   {
    "duration": 6,
    "start_time": "2023-04-17T00:21:18.846Z"
   },
   {
    "duration": 8,
    "start_time": "2023-04-17T00:21:19.160Z"
   },
   {
    "duration": 4,
    "start_time": "2023-04-17T00:21:20.600Z"
   },
   {
    "duration": 8,
    "start_time": "2023-04-17T00:21:21.019Z"
   },
   {
    "duration": 5,
    "start_time": "2023-04-17T00:22:36.451Z"
   },
   {
    "duration": 4,
    "start_time": "2023-04-17T00:22:42.315Z"
   },
   {
    "duration": 5,
    "start_time": "2023-04-17T00:23:08.144Z"
   },
   {
    "duration": 5,
    "start_time": "2023-04-17T00:23:09.984Z"
   },
   {
    "duration": 13,
    "start_time": "2023-04-17T00:23:14.885Z"
   },
   {
    "duration": 7,
    "start_time": "2023-04-17T00:23:18.530Z"
   },
   {
    "duration": 613,
    "start_time": "2023-04-17T00:25:49.550Z"
   },
   {
    "duration": 86,
    "start_time": "2023-04-17T00:25:50.165Z"
   },
   {
    "duration": 37,
    "start_time": "2023-04-17T00:25:50.252Z"
   },
   {
    "duration": 15,
    "start_time": "2023-04-17T00:25:50.291Z"
   },
   {
    "duration": 21,
    "start_time": "2023-04-17T00:25:50.310Z"
   },
   {
    "duration": 6,
    "start_time": "2023-04-17T00:26:01.645Z"
   },
   {
    "duration": 10,
    "start_time": "2023-04-17T00:26:10.206Z"
   },
   {
    "duration": 4,
    "start_time": "2023-04-17T00:26:37.864Z"
   },
   {
    "duration": 630,
    "start_time": "2023-04-17T00:26:43.267Z"
   },
   {
    "duration": 84,
    "start_time": "2023-04-17T00:26:43.898Z"
   },
   {
    "duration": 37,
    "start_time": "2023-04-17T00:26:43.983Z"
   },
   {
    "duration": 15,
    "start_time": "2023-04-17T00:26:44.261Z"
   },
   {
    "duration": 14,
    "start_time": "2023-04-17T00:26:49.505Z"
   },
   {
    "duration": 5,
    "start_time": "2023-04-17T00:26:49.658Z"
   },
   {
    "duration": 10,
    "start_time": "2023-04-17T00:27:04.310Z"
   },
   {
    "duration": 3,
    "start_time": "2023-04-17T00:27:04.431Z"
   },
   {
    "duration": 17,
    "start_time": "2023-04-17T00:27:09.146Z"
   },
   {
    "duration": 4,
    "start_time": "2023-04-17T00:27:09.582Z"
   },
   {
    "duration": 5,
    "start_time": "2023-04-17T00:27:48.069Z"
   },
   {
    "duration": 4,
    "start_time": "2023-04-17T00:28:01.370Z"
   },
   {
    "duration": 5,
    "start_time": "2023-04-17T00:28:10.090Z"
   },
   {
    "duration": 6,
    "start_time": "2023-04-17T00:28:12.964Z"
   },
   {
    "duration": 73,
    "start_time": "2023-04-17T00:28:47.510Z"
   },
   {
    "duration": 6,
    "start_time": "2023-04-17T00:29:34.514Z"
   },
   {
    "duration": 5,
    "start_time": "2023-04-17T00:29:42.779Z"
   },
   {
    "duration": 12,
    "start_time": "2023-04-17T00:29:48.348Z"
   },
   {
    "duration": 12,
    "start_time": "2023-04-17T00:30:00.672Z"
   },
   {
    "duration": 4,
    "start_time": "2023-04-17T00:30:18.405Z"
   },
   {
    "duration": 15,
    "start_time": "2023-04-17T00:31:07.459Z"
   },
   {
    "duration": 5,
    "start_time": "2023-04-17T00:31:09.768Z"
   },
   {
    "duration": 6,
    "start_time": "2023-04-17T00:31:14.780Z"
   },
   {
    "duration": 5,
    "start_time": "2023-04-17T00:31:25.266Z"
   },
   {
    "duration": 13,
    "start_time": "2023-04-17T00:31:33.282Z"
   },
   {
    "duration": 14,
    "start_time": "2023-04-17T00:31:46.683Z"
   },
   {
    "duration": 20,
    "start_time": "2023-04-17T00:32:22.072Z"
   },
   {
    "duration": 4,
    "start_time": "2023-04-17T00:32:22.500Z"
   },
   {
    "duration": 14,
    "start_time": "2023-04-17T00:32:23.721Z"
   },
   {
    "duration": 13,
    "start_time": "2023-04-17T00:32:30.432Z"
   },
   {
    "duration": 94,
    "start_time": "2023-04-17T00:32:45.815Z"
   },
   {
    "duration": 41,
    "start_time": "2023-04-17T00:32:46.022Z"
   },
   {
    "duration": 5,
    "start_time": "2023-04-17T00:32:52.666Z"
   },
   {
    "duration": 5,
    "start_time": "2023-04-17T00:32:58.167Z"
   },
   {
    "duration": 8,
    "start_time": "2023-04-17T00:33:35.844Z"
   },
   {
    "duration": 21,
    "start_time": "2023-04-17T00:33:54.572Z"
   },
   {
    "duration": 19,
    "start_time": "2023-04-17T00:34:07.397Z"
   },
   {
    "duration": 14,
    "start_time": "2023-04-17T00:34:09.963Z"
   },
   {
    "duration": 14,
    "start_time": "2023-04-17T00:34:17.145Z"
   },
   {
    "duration": 2,
    "start_time": "2023-04-17T00:34:31.770Z"
   },
   {
    "duration": 81,
    "start_time": "2023-04-17T00:34:32.056Z"
   },
   {
    "duration": 38,
    "start_time": "2023-04-17T00:34:32.307Z"
   },
   {
    "duration": 21,
    "start_time": "2023-04-17T00:34:33.679Z"
   },
   {
    "duration": 3,
    "start_time": "2023-04-17T00:34:39.979Z"
   },
   {
    "duration": 81,
    "start_time": "2023-04-17T00:34:40.128Z"
   },
   {
    "duration": 37,
    "start_time": "2023-04-17T00:34:40.401Z"
   },
   {
    "duration": 21,
    "start_time": "2023-04-17T00:34:40.683Z"
   },
   {
    "duration": 15,
    "start_time": "2023-04-17T00:34:41.280Z"
   },
   {
    "duration": 14,
    "start_time": "2023-04-17T00:34:42.363Z"
   },
   {
    "duration": 4,
    "start_time": "2023-04-17T00:34:51.785Z"
   },
   {
    "duration": 8,
    "start_time": "2023-04-17T00:34:54.923Z"
   },
   {
    "duration": 9,
    "start_time": "2023-04-17T00:34:57.407Z"
   },
   {
    "duration": 7,
    "start_time": "2023-04-17T00:34:58.247Z"
   },
   {
    "duration": 15,
    "start_time": "2023-04-17T00:35:00.530Z"
   },
   {
    "duration": 6,
    "start_time": "2023-04-17T00:35:01.431Z"
   },
   {
    "duration": 14,
    "start_time": "2023-04-17T00:35:02.880Z"
   },
   {
    "duration": 4,
    "start_time": "2023-04-17T00:35:05.836Z"
   },
   {
    "duration": 13,
    "start_time": "2023-04-17T00:35:21.494Z"
   },
   {
    "duration": 8,
    "start_time": "2023-04-17T00:35:23.689Z"
   },
   {
    "duration": 9,
    "start_time": "2023-04-17T00:35:39.227Z"
   },
   {
    "duration": 4,
    "start_time": "2023-04-17T00:36:00.055Z"
   },
   {
    "duration": 15,
    "start_time": "2023-04-17T00:36:16.150Z"
   },
   {
    "duration": 4,
    "start_time": "2023-04-17T00:36:18.612Z"
   },
   {
    "duration": 8,
    "start_time": "2023-04-17T00:36:19.182Z"
   },
   {
    "duration": 4,
    "start_time": "2023-04-17T00:36:43.525Z"
   },
   {
    "duration": 24,
    "start_time": "2023-04-17T00:36:50.618Z"
   },
   {
    "duration": 3,
    "start_time": "2023-04-17T00:39:07.602Z"
   },
   {
    "duration": 6,
    "start_time": "2023-04-17T00:39:07.980Z"
   },
   {
    "duration": 328,
    "start_time": "2023-04-17T00:39:08.698Z"
   },
   {
    "duration": 16,
    "start_time": "2023-04-17T00:39:09.471Z"
   },
   {
    "duration": 5,
    "start_time": "2023-04-17T00:39:10.107Z"
   },
   {
    "duration": 20,
    "start_time": "2023-04-17T00:39:12.750Z"
   },
   {
    "duration": 6,
    "start_time": "2023-04-17T00:39:13.831Z"
   },
   {
    "duration": 49,
    "start_time": "2023-04-17T00:39:17.801Z"
   },
   {
    "duration": 3,
    "start_time": "2023-04-17T00:39:30.582Z"
   },
   {
    "duration": 129,
    "start_time": "2023-04-17T00:39:30.586Z"
   },
   {
    "duration": 38,
    "start_time": "2023-04-17T00:39:30.718Z"
   },
   {
    "duration": 21,
    "start_time": "2023-04-17T00:39:30.758Z"
   },
   {
    "duration": 40,
    "start_time": "2023-04-17T00:39:30.781Z"
   },
   {
    "duration": 38,
    "start_time": "2023-04-17T00:39:30.822Z"
   },
   {
    "duration": 19,
    "start_time": "2023-04-17T00:39:30.862Z"
   },
   {
    "duration": 36,
    "start_time": "2023-04-17T00:39:30.882Z"
   },
   {
    "duration": 24,
    "start_time": "2023-04-17T00:39:30.920Z"
   },
   {
    "duration": 31,
    "start_time": "2023-04-17T00:39:30.946Z"
   },
   {
    "duration": 73,
    "start_time": "2023-04-17T00:39:30.980Z"
   },
   {
    "duration": 30,
    "start_time": "2023-04-17T00:39:31.055Z"
   },
   {
    "duration": 60,
    "start_time": "2023-04-17T00:39:31.087Z"
   },
   {
    "duration": 37,
    "start_time": "2023-04-17T00:39:31.148Z"
   },
   {
    "duration": 41,
    "start_time": "2023-04-17T00:39:31.186Z"
   },
   {
    "duration": 31,
    "start_time": "2023-04-17T00:39:31.229Z"
   },
   {
    "duration": 45,
    "start_time": "2023-04-17T00:39:31.261Z"
   },
   {
    "duration": 15,
    "start_time": "2023-04-17T00:39:31.308Z"
   },
   {
    "duration": 13,
    "start_time": "2023-04-17T00:39:31.325Z"
   },
   {
    "duration": 14,
    "start_time": "2023-04-17T00:39:31.339Z"
   },
   {
    "duration": 47,
    "start_time": "2023-04-17T00:39:31.355Z"
   },
   {
    "duration": 31,
    "start_time": "2023-04-17T00:39:31.403Z"
   },
   {
    "duration": 42,
    "start_time": "2023-04-17T00:39:31.435Z"
   },
   {
    "duration": 19,
    "start_time": "2023-04-17T00:39:31.479Z"
   },
   {
    "duration": 29,
    "start_time": "2023-04-17T00:39:31.499Z"
   },
   {
    "duration": 64,
    "start_time": "2023-04-17T00:39:31.530Z"
   },
   {
    "duration": 78,
    "start_time": "2023-04-17T00:39:31.595Z"
   },
   {
    "duration": 89,
    "start_time": "2023-04-17T00:39:31.675Z"
   },
   {
    "duration": 21,
    "start_time": "2023-04-17T00:39:31.768Z"
   },
   {
    "duration": 29,
    "start_time": "2023-04-17T00:39:31.791Z"
   },
   {
    "duration": 138,
    "start_time": "2023-04-17T00:39:31.822Z"
   },
   {
    "duration": 15,
    "start_time": "2023-04-17T00:39:31.961Z"
   },
   {
    "duration": 49,
    "start_time": "2023-04-17T00:39:31.977Z"
   },
   {
    "duration": 121,
    "start_time": "2023-04-17T00:39:32.027Z"
   },
   {
    "duration": 28,
    "start_time": "2023-04-17T00:39:32.150Z"
   },
   {
    "duration": 39,
    "start_time": "2023-04-17T00:39:32.180Z"
   },
   {
    "duration": 119,
    "start_time": "2023-04-17T00:39:32.221Z"
   },
   {
    "duration": 16,
    "start_time": "2023-04-17T00:39:32.341Z"
   },
   {
    "duration": 24,
    "start_time": "2023-04-17T00:39:32.358Z"
   },
   {
    "duration": 44,
    "start_time": "2023-04-17T00:39:32.383Z"
   },
   {
    "duration": 20,
    "start_time": "2023-04-17T00:39:32.429Z"
   },
   {
    "duration": 8,
    "start_time": "2023-04-17T00:39:32.451Z"
   },
   {
    "duration": 12,
    "start_time": "2023-04-17T00:39:32.460Z"
   },
   {
    "duration": 5,
    "start_time": "2023-04-17T00:39:32.475Z"
   },
   {
    "duration": 22,
    "start_time": "2023-04-17T00:39:32.482Z"
   },
   {
    "duration": 28,
    "start_time": "2023-04-17T00:39:32.506Z"
   },
   {
    "duration": 7,
    "start_time": "2023-04-17T00:39:32.535Z"
   },
   {
    "duration": 15,
    "start_time": "2023-04-17T00:39:32.544Z"
   },
   {
    "duration": 12,
    "start_time": "2023-04-17T00:39:32.561Z"
   },
   {
    "duration": 15,
    "start_time": "2023-04-17T00:39:32.574Z"
   },
   {
    "duration": 31,
    "start_time": "2023-04-17T00:39:32.591Z"
   },
   {
    "duration": 4,
    "start_time": "2023-04-17T00:39:32.624Z"
   },
   {
    "duration": 22,
    "start_time": "2023-04-17T00:39:32.630Z"
   },
   {
    "duration": 5,
    "start_time": "2023-04-17T00:39:32.654Z"
   },
   {
    "duration": 15,
    "start_time": "2023-04-17T00:39:32.660Z"
   },
   {
    "duration": 6,
    "start_time": "2023-04-17T00:40:57.577Z"
   },
   {
    "duration": 10,
    "start_time": "2023-04-17T00:41:32.735Z"
   },
   {
    "duration": 9,
    "start_time": "2023-04-17T00:41:43.022Z"
   },
   {
    "duration": 19,
    "start_time": "2023-04-17T00:43:38.605Z"
   },
   {
    "duration": 17,
    "start_time": "2023-04-17T00:43:57.496Z"
   },
   {
    "duration": 18,
    "start_time": "2023-04-17T00:44:21.053Z"
   },
   {
    "duration": 22,
    "start_time": "2023-04-17T00:46:46.581Z"
   },
   {
    "duration": 20,
    "start_time": "2023-04-17T00:46:59.907Z"
   },
   {
    "duration": 24,
    "start_time": "2023-04-17T00:49:00.634Z"
   },
   {
    "duration": 24,
    "start_time": "2023-04-17T00:49:35.221Z"
   },
   {
    "duration": 18,
    "start_time": "2023-04-17T00:49:41.187Z"
   },
   {
    "duration": 15,
    "start_time": "2023-04-17T00:49:49.654Z"
   },
   {
    "duration": 22,
    "start_time": "2023-04-17T00:49:54.383Z"
   },
   {
    "duration": 22,
    "start_time": "2023-04-17T00:49:56.809Z"
   },
   {
    "duration": 17,
    "start_time": "2023-04-17T00:49:59.731Z"
   },
   {
    "duration": 21,
    "start_time": "2023-04-17T00:50:22.993Z"
   },
   {
    "duration": 20,
    "start_time": "2023-04-17T00:50:28.171Z"
   },
   {
    "duration": 22,
    "start_time": "2023-04-17T00:50:31.575Z"
   },
   {
    "duration": 21,
    "start_time": "2023-04-17T00:50:34.369Z"
   },
   {
    "duration": 21,
    "start_time": "2023-04-17T00:50:36.452Z"
   },
   {
    "duration": 8,
    "start_time": "2023-04-17T00:51:51.595Z"
   },
   {
    "duration": 5,
    "start_time": "2023-04-17T00:51:54.283Z"
   },
   {
    "duration": 5,
    "start_time": "2023-04-17T00:51:59.349Z"
   },
   {
    "duration": 20,
    "start_time": "2023-04-17T00:54:28.498Z"
   },
   {
    "duration": 20,
    "start_time": "2023-04-17T00:55:10.733Z"
   },
   {
    "duration": 12,
    "start_time": "2023-04-17T00:55:54.571Z"
   },
   {
    "duration": 20,
    "start_time": "2023-04-17T00:56:02.919Z"
   },
   {
    "duration": 492,
    "start_time": "2023-04-17T00:56:25.867Z"
   },
   {
    "duration": 2,
    "start_time": "2023-04-17T00:56:46.245Z"
   },
   {
    "duration": 287,
    "start_time": "2023-04-17T00:56:59.004Z"
   },
   {
    "duration": 318,
    "start_time": "2023-04-17T00:57:05.054Z"
   },
   {
    "duration": 21,
    "start_time": "2023-04-17T00:58:07.371Z"
   },
   {
    "duration": 272,
    "start_time": "2023-04-17T00:58:08.317Z"
   },
   {
    "duration": 60,
    "start_time": "2023-04-17T13:08:15.841Z"
   },
   {
    "duration": 1593,
    "start_time": "2023-04-17T13:08:19.431Z"
   },
   {
    "duration": 281,
    "start_time": "2023-04-17T13:08:21.026Z"
   },
   {
    "duration": 171,
    "start_time": "2023-04-17T13:08:21.309Z"
   },
   {
    "duration": 26,
    "start_time": "2023-04-17T13:08:21.482Z"
   },
   {
    "duration": 22,
    "start_time": "2023-04-17T13:08:21.510Z"
   },
   {
    "duration": 17,
    "start_time": "2023-04-17T13:08:21.533Z"
   },
   {
    "duration": 6,
    "start_time": "2023-04-17T13:08:21.553Z"
   },
   {
    "duration": 35,
    "start_time": "2023-04-17T13:08:21.561Z"
   },
   {
    "duration": 12,
    "start_time": "2023-04-17T13:08:21.598Z"
   },
   {
    "duration": 8,
    "start_time": "2023-04-17T13:08:21.613Z"
   },
   {
    "duration": 30,
    "start_time": "2023-04-17T13:08:21.623Z"
   },
   {
    "duration": 9,
    "start_time": "2023-04-17T13:08:21.655Z"
   },
   {
    "duration": 41,
    "start_time": "2023-04-17T13:08:21.688Z"
   },
   {
    "duration": 13,
    "start_time": "2023-04-17T13:08:21.731Z"
   },
   {
    "duration": 47,
    "start_time": "2023-04-17T13:08:21.745Z"
   },
   {
    "duration": 14,
    "start_time": "2023-04-17T13:08:21.793Z"
   },
   {
    "duration": 20,
    "start_time": "2023-04-17T13:08:21.809Z"
   },
   {
    "duration": 13,
    "start_time": "2023-04-17T13:08:21.831Z"
   },
   {
    "duration": 27,
    "start_time": "2023-04-17T13:08:21.845Z"
   },
   {
    "duration": 10,
    "start_time": "2023-04-17T13:08:21.873Z"
   },
   {
    "duration": 22,
    "start_time": "2023-04-17T13:08:21.885Z"
   },
   {
    "duration": 26,
    "start_time": "2023-04-17T13:08:21.909Z"
   },
   {
    "duration": 20,
    "start_time": "2023-04-17T13:08:21.937Z"
   },
   {
    "duration": 8,
    "start_time": "2023-04-17T13:08:21.959Z"
   },
   {
    "duration": 28,
    "start_time": "2023-04-17T13:08:21.969Z"
   },
   {
    "duration": 14,
    "start_time": "2023-04-17T13:08:21.999Z"
   },
   {
    "duration": 74,
    "start_time": "2023-04-17T13:08:22.015Z"
   },
   {
    "duration": 146,
    "start_time": "2023-04-17T13:08:22.095Z"
   },
   {
    "duration": 27,
    "start_time": "2023-04-17T13:08:22.243Z"
   },
   {
    "duration": 37,
    "start_time": "2023-04-17T13:08:22.272Z"
   },
   {
    "duration": 167,
    "start_time": "2023-04-17T13:08:22.312Z"
   },
   {
    "duration": 19,
    "start_time": "2023-04-17T13:08:22.481Z"
   },
   {
    "duration": 40,
    "start_time": "2023-04-17T13:08:22.501Z"
   },
   {
    "duration": 152,
    "start_time": "2023-04-17T13:08:22.542Z"
   },
   {
    "duration": 26,
    "start_time": "2023-04-17T13:08:22.695Z"
   },
   {
    "duration": 26,
    "start_time": "2023-04-17T13:08:22.723Z"
   },
   {
    "duration": 155,
    "start_time": "2023-04-17T13:08:22.751Z"
   },
   {
    "duration": 19,
    "start_time": "2023-04-17T13:08:22.908Z"
   },
   {
    "duration": 12,
    "start_time": "2023-04-17T13:08:22.929Z"
   },
   {
    "duration": 46,
    "start_time": "2023-04-17T13:08:22.943Z"
   },
   {
    "duration": 22,
    "start_time": "2023-04-17T13:08:22.991Z"
   },
   {
    "duration": 9,
    "start_time": "2023-04-17T13:08:23.015Z"
   },
   {
    "duration": 7,
    "start_time": "2023-04-17T13:08:23.026Z"
   },
   {
    "duration": 7,
    "start_time": "2023-04-17T13:08:23.035Z"
   },
   {
    "duration": 17,
    "start_time": "2023-04-17T13:08:23.044Z"
   },
   {
    "duration": 28,
    "start_time": "2023-04-17T13:08:23.090Z"
   },
   {
    "duration": 6,
    "start_time": "2023-04-17T13:08:23.119Z"
   },
   {
    "duration": 11,
    "start_time": "2023-04-17T13:08:23.127Z"
   },
   {
    "duration": 16,
    "start_time": "2023-04-17T13:08:23.139Z"
   },
   {
    "duration": 6,
    "start_time": "2023-04-17T13:08:23.157Z"
   },
   {
    "duration": 23,
    "start_time": "2023-04-17T13:08:23.190Z"
   },
   {
    "duration": 6,
    "start_time": "2023-04-17T13:08:23.214Z"
   },
   {
    "duration": 13,
    "start_time": "2023-04-17T13:08:23.222Z"
   },
   {
    "duration": 18,
    "start_time": "2023-04-17T13:08:23.237Z"
   },
   {
    "duration": 7,
    "start_time": "2023-04-17T13:08:28.001Z"
   },
   {
    "duration": 55,
    "start_time": "2023-04-17T13:12:52.375Z"
   },
   {
    "duration": 11,
    "start_time": "2023-04-17T13:13:00.280Z"
   },
   {
    "duration": 68,
    "start_time": "2023-04-17T13:13:18.503Z"
   },
   {
    "duration": 12,
    "start_time": "2023-04-17T13:13:25.761Z"
   },
   {
    "duration": 5,
    "start_time": "2023-04-17T13:13:33.567Z"
   },
   {
    "duration": 144,
    "start_time": "2023-04-17T13:13:45.660Z"
   },
   {
    "duration": 137,
    "start_time": "2023-04-17T13:15:29.602Z"
   },
   {
    "duration": 143,
    "start_time": "2023-04-17T13:17:10.912Z"
   },
   {
    "duration": 138,
    "start_time": "2023-04-17T13:17:15.604Z"
   },
   {
    "duration": 245,
    "start_time": "2023-04-17T13:17:31.872Z"
   },
   {
    "duration": 141,
    "start_time": "2023-04-17T13:17:34.357Z"
   },
   {
    "duration": 139,
    "start_time": "2023-04-17T13:17:39.648Z"
   },
   {
    "duration": 143,
    "start_time": "2023-04-17T13:19:10.316Z"
   },
   {
    "duration": 10,
    "start_time": "2023-04-17T13:20:05.760Z"
   },
   {
    "duration": 14,
    "start_time": "2023-04-17T13:20:08.418Z"
   },
   {
    "duration": 18,
    "start_time": "2023-04-17T13:20:13.536Z"
   },
   {
    "duration": 15,
    "start_time": "2023-04-17T13:20:18.743Z"
   },
   {
    "duration": 16,
    "start_time": "2023-04-17T13:20:22.459Z"
   },
   {
    "duration": 14,
    "start_time": "2023-04-17T13:22:06.380Z"
   },
   {
    "duration": 12,
    "start_time": "2023-04-17T13:22:16.225Z"
   },
   {
    "duration": 13,
    "start_time": "2023-04-17T13:22:22.611Z"
   },
   {
    "duration": 16,
    "start_time": "2023-04-17T13:22:43.913Z"
   },
   {
    "duration": 95,
    "start_time": "2023-04-17T13:23:02.211Z"
   },
   {
    "duration": 143,
    "start_time": "2023-04-17T13:44:11.969Z"
   },
   {
    "duration": 13,
    "start_time": "2023-04-17T13:44:12.347Z"
   },
   {
    "duration": 10,
    "start_time": "2023-04-17T14:13:14.412Z"
   },
   {
    "duration": 24,
    "start_time": "2023-04-17T14:13:18.772Z"
   },
   {
    "duration": 403,
    "start_time": "2023-04-17T14:13:19.261Z"
   },
   {
    "duration": 765,
    "start_time": "2023-04-17T14:13:19.666Z"
   },
   {
    "duration": 1152,
    "start_time": "2023-04-17T14:13:26.600Z"
   },
   {
    "duration": 45,
    "start_time": "2023-04-17T14:13:46.606Z"
   },
   {
    "duration": 9,
    "start_time": "2023-04-17T14:13:48.523Z"
   },
   {
    "duration": 224,
    "start_time": "2023-04-17T14:31:56.868Z"
   },
   {
    "duration": 211,
    "start_time": "2023-04-17T14:32:06.600Z"
   },
   {
    "duration": 5,
    "start_time": "2023-04-17T14:32:12.965Z"
   },
   {
    "duration": 218,
    "start_time": "2023-04-17T14:32:23.421Z"
   },
   {
    "duration": 179,
    "start_time": "2023-04-17T14:32:28.200Z"
   },
   {
    "duration": 3,
    "start_time": "2023-04-17T14:32:45.700Z"
   },
   {
    "duration": 326,
    "start_time": "2023-04-17T14:32:50.231Z"
   },
   {
    "duration": 945,
    "start_time": "2023-04-17T14:32:50.634Z"
   },
   {
    "duration": 25,
    "start_time": "2023-04-17T14:34:12.475Z"
   },
   {
    "duration": 319,
    "start_time": "2023-04-17T14:34:12.809Z"
   },
   {
    "duration": 366,
    "start_time": "2023-04-17T14:34:35.154Z"
   },
   {
    "duration": 24,
    "start_time": "2023-04-17T14:34:42.333Z"
   },
   {
    "duration": 341,
    "start_time": "2023-04-17T14:34:42.485Z"
   },
   {
    "duration": 850,
    "start_time": "2023-04-17T14:34:43.300Z"
   },
   {
    "duration": 25,
    "start_time": "2023-04-17T14:35:05.595Z"
   },
   {
    "duration": 356,
    "start_time": "2023-04-17T14:35:05.881Z"
   },
   {
    "duration": 25,
    "start_time": "2023-04-17T14:35:56.593Z"
   },
   {
    "duration": 985,
    "start_time": "2023-04-17T14:36:00.617Z"
   },
   {
    "duration": 858,
    "start_time": "2023-04-17T14:36:06.307Z"
   },
   {
    "duration": 155,
    "start_time": "2023-04-17T16:21:17.830Z"
   },
   {
    "duration": 166,
    "start_time": "2023-04-17T16:21:27.117Z"
   },
   {
    "duration": 238,
    "start_time": "2023-04-17T16:21:32.219Z"
   },
   {
    "duration": 176,
    "start_time": "2023-04-17T16:21:44.298Z"
   },
   {
    "duration": 165,
    "start_time": "2023-04-17T19:30:07.600Z"
   },
   {
    "duration": 171,
    "start_time": "2023-04-17T19:30:12.893Z"
   },
   {
    "duration": 167,
    "start_time": "2023-04-17T19:31:02.592Z"
   },
   {
    "duration": 150,
    "start_time": "2023-04-17T19:31:25.908Z"
   },
   {
    "duration": 126,
    "start_time": "2023-04-17T19:31:31.299Z"
   },
   {
    "duration": 138,
    "start_time": "2023-04-17T19:31:38.644Z"
   },
   {
    "duration": 117,
    "start_time": "2023-04-17T19:31:51.690Z"
   },
   {
    "duration": 113,
    "start_time": "2023-04-17T19:31:54.748Z"
   },
   {
    "duration": 123,
    "start_time": "2023-04-17T19:31:58.330Z"
   },
   {
    "duration": 118,
    "start_time": "2023-04-17T19:32:01.428Z"
   },
   {
    "duration": 207,
    "start_time": "2023-04-17T19:32:19.193Z"
   },
   {
    "duration": 110,
    "start_time": "2023-04-17T19:32:34.699Z"
   },
   {
    "duration": 110,
    "start_time": "2023-04-17T19:32:40.523Z"
   },
   {
    "duration": 108,
    "start_time": "2023-04-17T19:32:42.497Z"
   },
   {
    "duration": 107,
    "start_time": "2023-04-17T19:32:46.215Z"
   },
   {
    "duration": 45,
    "start_time": "2023-04-20T09:06:43.938Z"
   },
   {
    "duration": 1382,
    "start_time": "2023-04-20T09:06:46.930Z"
   },
   {
    "duration": 261,
    "start_time": "2023-04-20T09:06:48.314Z"
   },
   {
    "duration": 84,
    "start_time": "2023-04-20T09:06:48.577Z"
   },
   {
    "duration": 22,
    "start_time": "2023-04-20T09:06:48.663Z"
   },
   {
    "duration": 21,
    "start_time": "2023-04-20T09:06:48.687Z"
   },
   {
    "duration": 16,
    "start_time": "2023-04-20T09:06:48.710Z"
   },
   {
    "duration": 5,
    "start_time": "2023-04-20T09:06:48.728Z"
   },
   {
    "duration": 10,
    "start_time": "2023-04-20T09:06:48.757Z"
   },
   {
    "duration": 20,
    "start_time": "2023-04-20T09:06:48.770Z"
   },
   {
    "duration": 19,
    "start_time": "2023-04-20T09:06:48.794Z"
   },
   {
    "duration": 32,
    "start_time": "2023-04-20T09:06:48.815Z"
   },
   {
    "duration": 10,
    "start_time": "2023-04-20T09:06:48.850Z"
   },
   {
    "duration": 18,
    "start_time": "2023-04-20T09:06:48.862Z"
   },
   {
    "duration": 8,
    "start_time": "2023-04-20T09:06:48.882Z"
   },
   {
    "duration": 23,
    "start_time": "2023-04-20T09:06:48.893Z"
   },
   {
    "duration": 15,
    "start_time": "2023-04-20T09:06:48.918Z"
   },
   {
    "duration": 47,
    "start_time": "2023-04-20T09:06:48.936Z"
   },
   {
    "duration": 8,
    "start_time": "2023-04-20T09:06:48.985Z"
   },
   {
    "duration": 16,
    "start_time": "2023-04-20T09:06:48.996Z"
   },
   {
    "duration": 10,
    "start_time": "2023-04-20T09:06:49.014Z"
   },
   {
    "duration": 32,
    "start_time": "2023-04-20T09:06:49.026Z"
   },
   {
    "duration": 22,
    "start_time": "2023-04-20T09:06:49.060Z"
   },
   {
    "duration": 19,
    "start_time": "2023-04-20T09:06:49.084Z"
   },
   {
    "duration": 12,
    "start_time": "2023-04-20T09:06:49.105Z"
   },
   {
    "duration": 44,
    "start_time": "2023-04-20T09:06:49.118Z"
   },
   {
    "duration": 9,
    "start_time": "2023-04-20T09:06:49.163Z"
   },
   {
    "duration": 75,
    "start_time": "2023-04-20T09:06:49.174Z"
   },
   {
    "duration": 92,
    "start_time": "2023-04-20T09:06:49.254Z"
   },
   {
    "duration": 29,
    "start_time": "2023-04-20T09:06:49.355Z"
   },
   {
    "duration": 26,
    "start_time": "2023-04-20T09:06:49.385Z"
   },
   {
    "duration": 184,
    "start_time": "2023-04-20T09:06:49.413Z"
   },
   {
    "duration": 17,
    "start_time": "2023-04-20T09:06:49.599Z"
   },
   {
    "duration": 54,
    "start_time": "2023-04-20T09:06:49.618Z"
   },
   {
    "duration": 170,
    "start_time": "2023-04-20T09:06:49.675Z"
   },
   {
    "duration": 32,
    "start_time": "2023-04-20T09:06:49.847Z"
   },
   {
    "duration": 30,
    "start_time": "2023-04-20T09:06:49.881Z"
   },
   {
    "duration": 167,
    "start_time": "2023-04-20T09:06:49.913Z"
   },
   {
    "duration": 24,
    "start_time": "2023-04-20T09:06:50.082Z"
   },
   {
    "duration": 16,
    "start_time": "2023-04-20T09:06:50.109Z"
   },
   {
    "duration": 43,
    "start_time": "2023-04-20T09:06:50.127Z"
   },
   {
    "duration": 23,
    "start_time": "2023-04-20T09:06:50.172Z"
   },
   {
    "duration": 10,
    "start_time": "2023-04-20T09:06:50.198Z"
   },
   {
    "duration": 27,
    "start_time": "2023-04-20T09:06:50.209Z"
   },
   {
    "duration": 19,
    "start_time": "2023-04-20T09:06:50.238Z"
   },
   {
    "duration": 20,
    "start_time": "2023-04-20T09:06:50.259Z"
   },
   {
    "duration": 40,
    "start_time": "2023-04-20T09:06:50.281Z"
   },
   {
    "duration": 14,
    "start_time": "2023-04-20T09:06:50.323Z"
   },
   {
    "duration": 13,
    "start_time": "2023-04-20T09:06:50.340Z"
   },
   {
    "duration": 10,
    "start_time": "2023-04-20T09:06:50.355Z"
   },
   {
    "duration": 19,
    "start_time": "2023-04-20T09:06:50.367Z"
   },
   {
    "duration": 47,
    "start_time": "2023-04-20T09:06:50.387Z"
   },
   {
    "duration": 7,
    "start_time": "2023-04-20T09:06:50.437Z"
   },
   {
    "duration": 20,
    "start_time": "2023-04-20T09:06:50.446Z"
   },
   {
    "duration": 17,
    "start_time": "2023-04-20T09:06:50.468Z"
   },
   {
    "duration": 12,
    "start_time": "2023-04-20T09:06:50.487Z"
   },
   {
    "duration": 20,
    "start_time": "2023-04-20T09:06:50.501Z"
   },
   {
    "duration": 15,
    "start_time": "2023-04-20T09:06:50.523Z"
   },
   {
    "duration": 141,
    "start_time": "2023-04-20T09:06:50.540Z"
   },
   {
    "duration": 12,
    "start_time": "2023-04-20T09:06:50.683Z"
   },
   {
    "duration": 28,
    "start_time": "2023-04-20T09:06:50.697Z"
   },
   {
    "duration": 36,
    "start_time": "2023-04-20T09:06:50.727Z"
   },
   {
    "duration": 337,
    "start_time": "2023-04-20T09:06:50.765Z"
   },
   {
    "duration": 22,
    "start_time": "2023-04-20T09:06:51.104Z"
   },
   {
    "duration": 797,
    "start_time": "2023-04-20T09:06:51.127Z"
   },
   {
    "duration": 4,
    "start_time": "2023-04-20T09:06:51.926Z"
   },
   {
    "duration": 152,
    "start_time": "2023-04-20T09:06:51.931Z"
   },
   {
    "duration": 200,
    "start_time": "2023-04-20T09:06:52.084Z"
   },
   {
    "duration": 8,
    "start_time": "2023-04-20T09:06:52.732Z"
   },
   {
    "duration": 9,
    "start_time": "2023-04-20T09:07:08.760Z"
   },
   {
    "duration": 8,
    "start_time": "2023-04-20T09:07:29.936Z"
   },
   {
    "duration": 134,
    "start_time": "2023-04-20T09:08:11.943Z"
   },
   {
    "duration": 746,
    "start_time": "2023-04-20T09:08:26.882Z"
   },
   {
    "duration": 190,
    "start_time": "2023-04-20T09:08:37.334Z"
   },
   {
    "duration": 155,
    "start_time": "2023-04-20T09:11:02.668Z"
   },
   {
    "duration": 3,
    "start_time": "2023-04-20T09:11:09.852Z"
   },
   {
    "duration": 95,
    "start_time": "2023-04-20T09:11:09.856Z"
   },
   {
    "duration": 39,
    "start_time": "2023-04-20T09:11:09.953Z"
   },
   {
    "duration": 22,
    "start_time": "2023-04-20T09:11:09.994Z"
   },
   {
    "duration": 16,
    "start_time": "2023-04-20T09:11:10.018Z"
   },
   {
    "duration": 22,
    "start_time": "2023-04-20T09:11:10.036Z"
   },
   {
    "duration": 6,
    "start_time": "2023-04-20T09:11:10.059Z"
   },
   {
    "duration": 9,
    "start_time": "2023-04-20T09:11:10.067Z"
   },
   {
    "duration": 13,
    "start_time": "2023-04-20T09:11:10.077Z"
   },
   {
    "duration": 11,
    "start_time": "2023-04-20T09:11:10.092Z"
   },
   {
    "duration": 22,
    "start_time": "2023-04-20T09:11:10.105Z"
   },
   {
    "duration": 20,
    "start_time": "2023-04-20T09:11:10.128Z"
   },
   {
    "duration": 21,
    "start_time": "2023-04-20T09:11:10.149Z"
   },
   {
    "duration": 5,
    "start_time": "2023-04-20T09:11:10.172Z"
   },
   {
    "duration": 19,
    "start_time": "2023-04-20T09:11:10.179Z"
   },
   {
    "duration": 9,
    "start_time": "2023-04-20T09:11:10.201Z"
   },
   {
    "duration": 21,
    "start_time": "2023-04-20T09:11:10.212Z"
   },
   {
    "duration": 4,
    "start_time": "2023-04-20T09:11:10.256Z"
   },
   {
    "duration": 11,
    "start_time": "2023-04-20T09:11:10.262Z"
   },
   {
    "duration": 3,
    "start_time": "2023-04-20T09:11:10.274Z"
   },
   {
    "duration": 17,
    "start_time": "2023-04-20T09:11:10.279Z"
   },
   {
    "duration": 33,
    "start_time": "2023-04-20T09:11:10.299Z"
   },
   {
    "duration": 17,
    "start_time": "2023-04-20T09:11:10.333Z"
   },
   {
    "duration": 11,
    "start_time": "2023-04-20T09:11:10.352Z"
   },
   {
    "duration": 13,
    "start_time": "2023-04-20T09:11:10.365Z"
   },
   {
    "duration": 9,
    "start_time": "2023-04-20T09:11:10.380Z"
   },
   {
    "duration": 40,
    "start_time": "2023-04-20T09:11:10.390Z"
   },
   {
    "duration": 94,
    "start_time": "2023-04-20T09:11:10.432Z"
   },
   {
    "duration": 33,
    "start_time": "2023-04-20T09:11:10.531Z"
   },
   {
    "duration": 23,
    "start_time": "2023-04-20T09:11:10.566Z"
   },
   {
    "duration": 148,
    "start_time": "2023-04-20T09:11:10.591Z"
   },
   {
    "duration": 22,
    "start_time": "2023-04-20T09:11:10.741Z"
   },
   {
    "duration": 34,
    "start_time": "2023-04-20T09:11:10.765Z"
   },
   {
    "duration": 162,
    "start_time": "2023-04-20T09:11:10.802Z"
   },
   {
    "duration": 23,
    "start_time": "2023-04-20T09:11:10.966Z"
   },
   {
    "duration": 26,
    "start_time": "2023-04-20T09:11:10.990Z"
   },
   {
    "duration": 133,
    "start_time": "2023-04-20T09:11:11.018Z"
   },
   {
    "duration": 68,
    "start_time": "2023-04-20T09:11:11.155Z"
   },
   {
    "duration": 55,
    "start_time": "2023-04-20T09:11:11.225Z"
   },
   {
    "duration": 60,
    "start_time": "2023-04-20T09:11:11.282Z"
   },
   {
    "duration": 22,
    "start_time": "2023-04-20T09:11:11.344Z"
   },
   {
    "duration": 8,
    "start_time": "2023-04-20T09:11:11.368Z"
   },
   {
    "duration": 14,
    "start_time": "2023-04-20T09:11:11.378Z"
   },
   {
    "duration": 28,
    "start_time": "2023-04-20T09:11:11.394Z"
   },
   {
    "duration": 26,
    "start_time": "2023-04-20T09:11:11.424Z"
   },
   {
    "duration": 33,
    "start_time": "2023-04-20T09:11:11.452Z"
   },
   {
    "duration": 5,
    "start_time": "2023-04-20T09:11:11.487Z"
   },
   {
    "duration": 12,
    "start_time": "2023-04-20T09:11:11.494Z"
   },
   {
    "duration": 7,
    "start_time": "2023-04-20T09:11:11.508Z"
   },
   {
    "duration": 18,
    "start_time": "2023-04-20T09:11:11.517Z"
   },
   {
    "duration": 22,
    "start_time": "2023-04-20T09:11:11.537Z"
   },
   {
    "duration": 5,
    "start_time": "2023-04-20T09:11:11.560Z"
   },
   {
    "duration": 7,
    "start_time": "2023-04-20T09:11:11.567Z"
   },
   {
    "duration": 5,
    "start_time": "2023-04-20T09:11:11.576Z"
   },
   {
    "duration": 9,
    "start_time": "2023-04-20T09:11:11.582Z"
   },
   {
    "duration": 19,
    "start_time": "2023-04-20T09:11:11.593Z"
   },
   {
    "duration": 27,
    "start_time": "2023-04-20T09:11:11.613Z"
   },
   {
    "duration": 122,
    "start_time": "2023-04-20T09:11:11.642Z"
   },
   {
    "duration": 13,
    "start_time": "2023-04-20T09:11:11.765Z"
   },
   {
    "duration": 21,
    "start_time": "2023-04-20T09:11:11.779Z"
   },
   {
    "duration": 21,
    "start_time": "2023-04-20T09:11:11.802Z"
   },
   {
    "duration": 357,
    "start_time": "2023-04-20T09:11:11.825Z"
   },
   {
    "duration": 27,
    "start_time": "2023-04-20T09:11:12.184Z"
   },
   {
    "duration": 871,
    "start_time": "2023-04-20T09:11:12.213Z"
   },
   {
    "duration": 5,
    "start_time": "2023-04-20T09:11:13.085Z"
   },
   {
    "duration": 190,
    "start_time": "2023-04-20T09:11:13.901Z"
   },
   {
    "duration": 136,
    "start_time": "2023-04-20T09:11:29.087Z"
   },
   {
    "duration": 148,
    "start_time": "2023-04-20T09:11:39.539Z"
   },
   {
    "duration": 148,
    "start_time": "2023-04-20T09:11:57.303Z"
   },
   {
    "duration": 155,
    "start_time": "2023-04-20T09:12:03.595Z"
   },
   {
    "duration": 138,
    "start_time": "2023-04-20T09:12:07.103Z"
   },
   {
    "duration": 233,
    "start_time": "2023-04-20T09:12:21.152Z"
   },
   {
    "duration": 152,
    "start_time": "2023-04-20T09:12:28.966Z"
   },
   {
    "duration": 166,
    "start_time": "2023-04-20T09:12:34.845Z"
   },
   {
    "duration": 148,
    "start_time": "2023-04-20T09:12:51.813Z"
   },
   {
    "duration": 139,
    "start_time": "2023-04-20T09:12:55.171Z"
   },
   {
    "duration": 144,
    "start_time": "2023-04-20T09:13:22.347Z"
   },
   {
    "duration": 156,
    "start_time": "2023-04-20T09:13:50.302Z"
   },
   {
    "duration": 137,
    "start_time": "2023-04-20T09:14:04.770Z"
   },
   {
    "duration": 148,
    "start_time": "2023-04-20T09:14:44.900Z"
   },
   {
    "duration": 155,
    "start_time": "2023-04-20T09:14:48.397Z"
   },
   {
    "duration": 159,
    "start_time": "2023-04-20T09:15:03.250Z"
   },
   {
    "duration": 234,
    "start_time": "2023-04-20T09:15:07.046Z"
   },
   {
    "duration": 169,
    "start_time": "2023-04-20T09:15:11.167Z"
   },
   {
    "duration": 136,
    "start_time": "2023-04-20T09:15:35.922Z"
   },
   {
    "duration": 154,
    "start_time": "2023-04-20T09:15:42.759Z"
   },
   {
    "duration": 189,
    "start_time": "2023-04-20T09:15:53.780Z"
   },
   {
    "duration": 142,
    "start_time": "2023-04-20T09:15:56.704Z"
   },
   {
    "duration": 95,
    "start_time": "2023-04-20T09:15:57.605Z"
   },
   {
    "duration": 97,
    "start_time": "2023-04-20T09:16:00.685Z"
   },
   {
    "duration": 91,
    "start_time": "2023-04-20T09:16:12.838Z"
   },
   {
    "duration": 9,
    "start_time": "2023-04-20T09:16:19.166Z"
   },
   {
    "duration": 10,
    "start_time": "2023-04-20T09:16:24.567Z"
   },
   {
    "duration": 155,
    "start_time": "2023-04-20T09:16:55.302Z"
   },
   {
    "duration": 206,
    "start_time": "2023-04-20T09:17:01.024Z"
   },
   {
    "duration": 250,
    "start_time": "2023-04-20T09:17:17.359Z"
   },
   {
    "duration": 163,
    "start_time": "2023-04-20T09:17:21.530Z"
   },
   {
    "duration": 163,
    "start_time": "2023-04-20T09:17:27.614Z"
   },
   {
    "duration": 171,
    "start_time": "2023-04-20T09:17:33.153Z"
   },
   {
    "duration": 155,
    "start_time": "2023-04-20T09:17:36.761Z"
   },
   {
    "duration": 107,
    "start_time": "2023-04-20T09:30:15.227Z"
   },
   {
    "duration": 211,
    "start_time": "2023-04-20T09:30:24.519Z"
   },
   {
    "duration": 308,
    "start_time": "2023-04-20T09:30:34.537Z"
   },
   {
    "duration": 193,
    "start_time": "2023-04-20T09:30:50.870Z"
   },
   {
    "duration": 140,
    "start_time": "2023-04-20T09:34:15.662Z"
   },
   {
    "duration": 251,
    "start_time": "2023-04-20T09:34:34.789Z"
   },
   {
    "duration": 128,
    "start_time": "2023-04-20T09:34:40.570Z"
   },
   {
    "duration": 153,
    "start_time": "2023-04-20T09:34:43.750Z"
   },
   {
    "duration": 165,
    "start_time": "2023-04-20T09:34:46.951Z"
   },
   {
    "duration": 149,
    "start_time": "2023-04-20T09:34:54.168Z"
   },
   {
    "duration": 156,
    "start_time": "2023-04-20T09:34:57.348Z"
   },
   {
    "duration": 136,
    "start_time": "2023-04-20T09:35:05.111Z"
   },
   {
    "duration": 185,
    "start_time": "2023-04-20T10:05:14.651Z"
   },
   {
    "duration": 147,
    "start_time": "2023-04-20T10:05:22.760Z"
   },
   {
    "duration": 182,
    "start_time": "2023-04-20T10:05:32.568Z"
   },
   {
    "duration": 152,
    "start_time": "2023-04-20T10:05:38.962Z"
   },
   {
    "duration": 220,
    "start_time": "2023-04-20T10:07:02.567Z"
   },
   {
    "duration": 188,
    "start_time": "2023-04-20T10:07:08.400Z"
   },
   {
    "duration": 392,
    "start_time": "2023-04-20T10:07:14.072Z"
   },
   {
    "duration": 220,
    "start_time": "2023-04-20T10:07:24.786Z"
   },
   {
    "duration": 260,
    "start_time": "2023-04-20T10:07:48.625Z"
   },
   {
    "duration": 269,
    "start_time": "2023-04-20T10:08:03.892Z"
   },
   {
    "duration": 216,
    "start_time": "2023-04-20T10:08:24.674Z"
   },
   {
    "duration": 283,
    "start_time": "2023-04-20T10:08:28.828Z"
   },
   {
    "duration": 129,
    "start_time": "2023-04-20T10:08:45.523Z"
   },
   {
    "duration": 214,
    "start_time": "2023-04-20T10:09:06.408Z"
   },
   {
    "duration": 322,
    "start_time": "2023-04-20T10:09:13.988Z"
   },
   {
    "duration": 187,
    "start_time": "2023-04-20T10:09:29.503Z"
   },
   {
    "duration": 119,
    "start_time": "2023-04-20T10:10:36.601Z"
   },
   {
    "duration": 235,
    "start_time": "2023-04-20T10:10:59.707Z"
   },
   {
    "duration": 119,
    "start_time": "2023-04-20T10:11:02.760Z"
   },
   {
    "duration": 14,
    "start_time": "2023-04-20T10:11:54.609Z"
   },
   {
    "duration": 155,
    "start_time": "2023-04-20T10:12:22.674Z"
   },
   {
    "duration": 140,
    "start_time": "2023-04-20T10:12:39.093Z"
   },
   {
    "duration": 163,
    "start_time": "2023-04-20T10:12:47.276Z"
   },
   {
    "duration": 205,
    "start_time": "2023-04-20T10:12:57.830Z"
   },
   {
    "duration": 216,
    "start_time": "2023-04-20T10:13:05.002Z"
   },
   {
    "duration": 218,
    "start_time": "2023-04-20T10:13:24.912Z"
   },
   {
    "duration": 227,
    "start_time": "2023-04-20T10:13:38.987Z"
   },
   {
    "duration": 194,
    "start_time": "2023-04-20T10:13:42.299Z"
   },
   {
    "duration": 349,
    "start_time": "2023-04-20T10:13:44.649Z"
   },
   {
    "duration": 215,
    "start_time": "2023-04-20T10:13:51.993Z"
   },
   {
    "duration": 61,
    "start_time": "2023-04-20T10:14:08.048Z"
   },
   {
    "duration": 284,
    "start_time": "2023-04-20T10:14:12.266Z"
   },
   {
    "duration": 219,
    "start_time": "2023-04-20T10:14:15.689Z"
   },
   {
    "duration": 241,
    "start_time": "2023-04-20T10:14:20.938Z"
   },
   {
    "duration": 216,
    "start_time": "2023-04-20T10:14:26.692Z"
   },
   {
    "duration": 278,
    "start_time": "2023-04-20T10:14:49.220Z"
   },
   {
    "duration": 240,
    "start_time": "2023-04-20T10:14:56.875Z"
   },
   {
    "duration": 256,
    "start_time": "2023-04-20T10:15:11.433Z"
   },
   {
    "duration": 382,
    "start_time": "2023-04-20T10:15:19.694Z"
   },
   {
    "duration": 294,
    "start_time": "2023-04-20T10:15:41.099Z"
   },
   {
    "duration": 14,
    "start_time": "2023-04-20T10:16:51.909Z"
   },
   {
    "duration": 40,
    "start_time": "2023-04-20T10:17:04.649Z"
   },
   {
    "duration": 34,
    "start_time": "2023-04-20T10:17:28.600Z"
   },
   {
    "duration": 5,
    "start_time": "2023-04-20T10:49:44.148Z"
   },
   {
    "duration": 4,
    "start_time": "2023-04-20T10:50:37.665Z"
   },
   {
    "duration": 4,
    "start_time": "2023-04-20T10:50:47.791Z"
   },
   {
    "duration": 3,
    "start_time": "2023-04-20T10:50:56.440Z"
   },
   {
    "duration": 5,
    "start_time": "2023-04-20T10:51:00.565Z"
   },
   {
    "duration": 5,
    "start_time": "2023-04-20T10:51:03.479Z"
   },
   {
    "duration": 4,
    "start_time": "2023-04-20T10:51:07.209Z"
   },
   {
    "duration": 7,
    "start_time": "2023-04-20T10:51:17.258Z"
   },
   {
    "duration": 5,
    "start_time": "2023-04-20T10:51:41.738Z"
   },
   {
    "duration": 42,
    "start_time": "2023-04-20T10:55:35.841Z"
   },
   {
    "duration": 40,
    "start_time": "2023-04-20T10:55:41.072Z"
   },
   {
    "duration": 5,
    "start_time": "2023-04-20T10:55:53.876Z"
   },
   {
    "duration": 32,
    "start_time": "2023-04-20T10:56:19.711Z"
   },
   {
    "duration": 47,
    "start_time": "2023-04-20T10:57:33.867Z"
   },
   {
    "duration": 17,
    "start_time": "2023-04-20T10:57:40.554Z"
   },
   {
    "duration": 16,
    "start_time": "2023-04-20T10:57:47.390Z"
   },
   {
    "duration": 11,
    "start_time": "2023-04-20T10:58:09.355Z"
   },
   {
    "duration": 26,
    "start_time": "2023-04-20T11:00:57.567Z"
   },
   {
    "duration": 11,
    "start_time": "2023-04-20T11:01:14.346Z"
   },
   {
    "duration": 11,
    "start_time": "2023-04-20T11:03:02.806Z"
   },
   {
    "duration": 6,
    "start_time": "2023-04-20T11:03:14.391Z"
   },
   {
    "duration": 10,
    "start_time": "2023-04-20T11:03:26.323Z"
   },
   {
    "duration": 9,
    "start_time": "2023-04-20T11:05:04.126Z"
   },
   {
    "duration": 6,
    "start_time": "2023-04-20T11:05:16.329Z"
   },
   {
    "duration": 7,
    "start_time": "2023-04-20T11:06:00.308Z"
   },
   {
    "duration": 6,
    "start_time": "2023-04-20T11:06:58.867Z"
   },
   {
    "duration": 7,
    "start_time": "2023-04-20T11:08:11.503Z"
   },
   {
    "duration": 7,
    "start_time": "2023-04-20T11:08:24.350Z"
   },
   {
    "duration": 6,
    "start_time": "2023-04-20T11:08:27.936Z"
   },
   {
    "duration": 46,
    "start_time": "2023-04-20T11:10:11.304Z"
   },
   {
    "duration": 5,
    "start_time": "2023-04-20T11:10:17.024Z"
   },
   {
    "duration": 5,
    "start_time": "2023-04-20T11:10:30.381Z"
   },
   {
    "duration": 6,
    "start_time": "2023-04-20T11:11:12.645Z"
   },
   {
    "duration": 59,
    "start_time": "2023-04-20T11:12:07.390Z"
   },
   {
    "duration": 5,
    "start_time": "2023-04-20T11:12:11.339Z"
   },
   {
    "duration": 6,
    "start_time": "2023-04-20T11:13:48.097Z"
   },
   {
    "duration": 5,
    "start_time": "2023-04-20T11:13:56.149Z"
   },
   {
    "duration": 4,
    "start_time": "2023-04-20T11:14:02.299Z"
   },
   {
    "duration": 239,
    "start_time": "2023-04-20T11:14:08.504Z"
   },
   {
    "duration": 275,
    "start_time": "2023-04-20T11:14:10.631Z"
   },
   {
    "duration": 45,
    "start_time": "2023-04-20T11:16:31.216Z"
   },
   {
    "duration": 937,
    "start_time": "2023-04-20T11:17:25.229Z"
   },
   {
    "duration": 790,
    "start_time": "2023-04-20T11:17:41.201Z"
   },
   {
    "duration": 7,
    "start_time": "2023-04-20T11:17:44.945Z"
   },
   {
    "duration": 31,
    "start_time": "2023-04-20T11:17:59.004Z"
   },
   {
    "duration": 13,
    "start_time": "2023-04-20T11:18:12.227Z"
   },
   {
    "duration": 52,
    "start_time": "2023-04-20T11:18:19.609Z"
   },
   {
    "duration": 8,
    "start_time": "2023-04-20T11:18:35.754Z"
   },
   {
    "duration": 8,
    "start_time": "2023-04-20T11:18:52.596Z"
   },
   {
    "duration": 10,
    "start_time": "2023-04-20T11:19:00.355Z"
   },
   {
    "duration": 9,
    "start_time": "2023-04-20T11:19:09.042Z"
   },
   {
    "duration": 9,
    "start_time": "2023-04-20T11:19:34.718Z"
   },
   {
    "duration": 1060,
    "start_time": "2023-04-20T11:20:19.861Z"
   },
   {
    "duration": 313,
    "start_time": "2023-04-20T11:20:48.279Z"
   },
   {
    "duration": 403,
    "start_time": "2023-04-20T11:20:57.709Z"
   },
   {
    "duration": 10,
    "start_time": "2023-04-20T11:21:02.781Z"
   },
   {
    "duration": 9,
    "start_time": "2023-04-20T11:21:04.682Z"
   },
   {
    "duration": 23,
    "start_time": "2023-04-20T11:21:12.456Z"
   },
   {
    "duration": 17,
    "start_time": "2023-04-20T11:22:05.894Z"
   },
   {
    "duration": 7,
    "start_time": "2023-04-20T11:22:12.932Z"
   },
   {
    "duration": 500,
    "start_time": "2023-04-20T11:24:19.850Z"
   },
   {
    "duration": 171,
    "start_time": "2023-04-20T11:24:28.412Z"
   },
   {
    "duration": 73,
    "start_time": "2023-04-20T11:24:53.519Z"
   },
   {
    "duration": 196,
    "start_time": "2023-04-20T11:24:59.490Z"
   },
   {
    "duration": 225,
    "start_time": "2023-04-20T11:25:02.107Z"
   },
   {
    "duration": 187,
    "start_time": "2023-04-20T11:25:11.452Z"
   },
   {
    "duration": 7,
    "start_time": "2023-04-20T11:28:36.189Z"
   },
   {
    "duration": 9,
    "start_time": "2023-04-20T11:29:06.221Z"
   },
   {
    "duration": 13,
    "start_time": "2023-04-20T11:29:21.093Z"
   },
   {
    "duration": 8,
    "start_time": "2023-04-20T11:29:27.387Z"
   },
   {
    "duration": 46,
    "start_time": "2023-04-20T11:30:36.979Z"
   },
   {
    "duration": 30,
    "start_time": "2023-04-20T11:30:40.202Z"
   },
   {
    "duration": 708,
    "start_time": "2023-04-20T11:31:23.081Z"
   },
   {
    "duration": 796,
    "start_time": "2023-04-20T11:32:28.510Z"
   },
   {
    "duration": 73,
    "start_time": "2023-04-20T11:32:41.850Z"
   },
   {
    "duration": 14,
    "start_time": "2023-04-20T11:32:45.891Z"
   },
   {
    "duration": 18,
    "start_time": "2023-04-20T11:34:43.984Z"
   },
   {
    "duration": 15,
    "start_time": "2023-04-20T11:34:51.629Z"
   },
   {
    "duration": 30,
    "start_time": "2023-04-20T11:35:05.586Z"
   },
   {
    "duration": 206,
    "start_time": "2023-04-20T11:35:10.302Z"
   },
   {
    "duration": 343,
    "start_time": "2023-04-20T11:35:19.286Z"
   },
   {
    "duration": 305,
    "start_time": "2023-04-20T11:35:37.727Z"
   },
   {
    "duration": 307,
    "start_time": "2023-04-20T11:35:43.786Z"
   },
   {
    "duration": 147,
    "start_time": "2023-04-20T11:36:10.548Z"
   },
   {
    "duration": 171,
    "start_time": "2023-04-20T11:36:14.835Z"
   },
   {
    "duration": 149,
    "start_time": "2023-04-20T11:36:39.940Z"
   },
   {
    "duration": 155,
    "start_time": "2023-04-20T11:36:44.520Z"
   },
   {
    "duration": 158,
    "start_time": "2023-04-20T11:36:51.676Z"
   },
   {
    "duration": 149,
    "start_time": "2023-04-20T11:37:20.596Z"
   },
   {
    "duration": 140,
    "start_time": "2023-04-20T11:37:26.182Z"
   },
   {
    "duration": 4,
    "start_time": "2023-04-20T11:38:27.493Z"
   },
   {
    "duration": 5,
    "start_time": "2023-04-20T11:38:34.135Z"
   },
   {
    "duration": 5,
    "start_time": "2023-04-20T11:38:39.228Z"
   },
   {
    "duration": 53,
    "start_time": "2023-04-20T11:39:16.553Z"
   },
   {
    "duration": 42,
    "start_time": "2023-04-20T11:41:48.304Z"
   },
   {
    "duration": 11,
    "start_time": "2023-04-20T11:41:54.554Z"
   },
   {
    "duration": 8,
    "start_time": "2023-04-20T11:41:57.152Z"
   },
   {
    "duration": 34,
    "start_time": "2023-04-20T11:42:12.842Z"
   },
   {
    "duration": 163,
    "start_time": "2023-04-20T11:42:21.603Z"
   },
   {
    "duration": 181,
    "start_time": "2023-04-20T11:42:27.377Z"
   },
   {
    "duration": 161,
    "start_time": "2023-04-20T11:42:30.832Z"
   },
   {
    "duration": 263,
    "start_time": "2023-04-20T11:42:33.952Z"
   },
   {
    "duration": 163,
    "start_time": "2023-04-20T11:42:51.770Z"
   },
   {
    "duration": 212,
    "start_time": "2023-04-20T11:43:34.225Z"
   },
   {
    "duration": 184,
    "start_time": "2023-04-20T11:44:24.703Z"
   },
   {
    "duration": 212,
    "start_time": "2023-04-20T11:44:37.622Z"
   },
   {
    "duration": 49,
    "start_time": "2023-04-20T11:45:23.360Z"
   },
   {
    "duration": 216,
    "start_time": "2023-04-20T11:45:25.669Z"
   },
   {
    "duration": 228,
    "start_time": "2023-04-20T11:45:29.614Z"
   },
   {
    "duration": 50,
    "start_time": "2023-04-20T11:46:14.389Z"
   },
   {
    "duration": 221,
    "start_time": "2023-04-20T11:46:16.467Z"
   },
   {
    "duration": 236,
    "start_time": "2023-04-20T11:46:58.163Z"
   },
   {
    "duration": 346,
    "start_time": "2023-04-20T11:47:38.339Z"
   },
   {
    "duration": 160,
    "start_time": "2023-04-20T11:47:57.454Z"
   },
   {
    "duration": 227,
    "start_time": "2023-04-20T11:48:11.938Z"
   },
   {
    "duration": 239,
    "start_time": "2023-04-20T11:48:20.577Z"
   },
   {
    "duration": 276,
    "start_time": "2023-04-20T11:48:42.698Z"
   },
   {
    "duration": 248,
    "start_time": "2023-04-20T11:48:47.632Z"
   },
   {
    "duration": 238,
    "start_time": "2023-04-20T11:48:58.578Z"
   },
   {
    "duration": 246,
    "start_time": "2023-04-20T11:49:04.237Z"
   },
   {
    "duration": 6,
    "start_time": "2023-04-20T11:49:11.870Z"
   },
   {
    "duration": 9,
    "start_time": "2023-04-20T11:49:26.154Z"
   },
   {
    "duration": 7,
    "start_time": "2023-04-20T11:50:13.611Z"
   },
   {
    "duration": 224,
    "start_time": "2023-04-20T11:50:25.985Z"
   },
   {
    "duration": 6,
    "start_time": "2023-04-20T11:56:34.522Z"
   },
   {
    "duration": 1151,
    "start_time": "2023-04-20T11:56:40.047Z"
   },
   {
    "duration": 88,
    "start_time": "2023-04-20T11:56:41.200Z"
   },
   {
    "duration": 39,
    "start_time": "2023-04-20T11:56:41.289Z"
   },
   {
    "duration": 23,
    "start_time": "2023-04-20T11:56:41.330Z"
   },
   {
    "duration": 19,
    "start_time": "2023-04-20T11:56:41.355Z"
   },
   {
    "duration": 15,
    "start_time": "2023-04-20T11:56:41.376Z"
   },
   {
    "duration": 5,
    "start_time": "2023-04-20T11:56:41.392Z"
   },
   {
    "duration": 24,
    "start_time": "2023-04-20T11:56:41.398Z"
   },
   {
    "duration": 9,
    "start_time": "2023-04-20T11:56:41.424Z"
   },
   {
    "duration": 24,
    "start_time": "2023-04-20T11:56:41.435Z"
   },
   {
    "duration": 20,
    "start_time": "2023-04-20T11:56:41.461Z"
   },
   {
    "duration": 6,
    "start_time": "2023-04-20T11:56:41.483Z"
   },
   {
    "duration": 16,
    "start_time": "2023-04-20T11:56:41.491Z"
   },
   {
    "duration": 9,
    "start_time": "2023-04-20T11:56:41.508Z"
   },
   {
    "duration": 43,
    "start_time": "2023-04-20T11:56:41.519Z"
   },
   {
    "duration": 10,
    "start_time": "2023-04-20T11:56:41.564Z"
   },
   {
    "duration": 18,
    "start_time": "2023-04-20T11:56:41.576Z"
   },
   {
    "duration": 11,
    "start_time": "2023-04-20T11:56:41.596Z"
   },
   {
    "duration": 10,
    "start_time": "2023-04-20T11:56:41.609Z"
   },
   {
    "duration": 4,
    "start_time": "2023-04-20T11:56:41.621Z"
   },
   {
    "duration": 8,
    "start_time": "2023-04-20T11:56:41.656Z"
   },
   {
    "duration": 20,
    "start_time": "2023-04-20T11:56:41.665Z"
   },
   {
    "duration": 16,
    "start_time": "2023-04-20T11:56:41.686Z"
   },
   {
    "duration": 7,
    "start_time": "2023-04-20T11:56:41.704Z"
   },
   {
    "duration": 44,
    "start_time": "2023-04-20T11:56:41.713Z"
   },
   {
    "duration": 6,
    "start_time": "2023-04-20T11:56:41.759Z"
   },
   {
    "duration": 51,
    "start_time": "2023-04-20T11:56:41.767Z"
   },
   {
    "duration": 88,
    "start_time": "2023-04-20T11:56:41.821Z"
   },
   {
    "duration": 27,
    "start_time": "2023-04-20T11:56:41.911Z"
   },
   {
    "duration": 40,
    "start_time": "2023-04-20T11:56:41.939Z"
   },
   {
    "duration": 157,
    "start_time": "2023-04-20T11:56:41.980Z"
   },
   {
    "duration": 26,
    "start_time": "2023-04-20T11:56:42.139Z"
   },
   {
    "duration": 31,
    "start_time": "2023-04-20T11:56:42.167Z"
   },
   {
    "duration": 156,
    "start_time": "2023-04-20T11:56:42.201Z"
   },
   {
    "duration": 23,
    "start_time": "2023-04-20T11:56:42.358Z"
   },
   {
    "duration": 25,
    "start_time": "2023-04-20T11:56:42.383Z"
   },
   {
    "duration": 131,
    "start_time": "2023-04-20T11:56:42.410Z"
   },
   {
    "duration": 25,
    "start_time": "2023-04-20T11:56:42.542Z"
   },
   {
    "duration": 11,
    "start_time": "2023-04-20T11:56:42.568Z"
   },
   {
    "duration": 29,
    "start_time": "2023-04-20T11:56:42.581Z"
   },
   {
    "duration": 17,
    "start_time": "2023-04-20T11:56:42.612Z"
   },
   {
    "duration": 26,
    "start_time": "2023-04-20T11:56:42.631Z"
   },
   {
    "duration": 5,
    "start_time": "2023-04-20T11:56:45.550Z"
   },
   {
    "duration": 6,
    "start_time": "2023-04-20T11:56:59.270Z"
   },
   {
    "duration": 6,
    "start_time": "2023-04-20T11:57:27.781Z"
   },
   {
    "duration": 6,
    "start_time": "2023-04-20T11:57:51.184Z"
   },
   {
    "duration": 1173,
    "start_time": "2023-04-20T11:57:54.598Z"
   },
   {
    "duration": 86,
    "start_time": "2023-04-20T11:57:55.773Z"
   },
   {
    "duration": 39,
    "start_time": "2023-04-20T11:57:55.861Z"
   },
   {
    "duration": 23,
    "start_time": "2023-04-20T11:57:55.902Z"
   },
   {
    "duration": 19,
    "start_time": "2023-04-20T11:57:55.927Z"
   },
   {
    "duration": 19,
    "start_time": "2023-04-20T11:57:55.948Z"
   },
   {
    "duration": 13,
    "start_time": "2023-04-20T11:57:55.969Z"
   },
   {
    "duration": 14,
    "start_time": "2023-04-20T11:57:55.983Z"
   },
   {
    "duration": 10,
    "start_time": "2023-04-20T11:57:55.999Z"
   },
   {
    "duration": 9,
    "start_time": "2023-04-20T11:57:56.013Z"
   },
   {
    "duration": 40,
    "start_time": "2023-04-20T11:57:56.024Z"
   },
   {
    "duration": 5,
    "start_time": "2023-04-20T11:57:56.066Z"
   },
   {
    "duration": 17,
    "start_time": "2023-04-20T11:57:56.073Z"
   },
   {
    "duration": 6,
    "start_time": "2023-04-20T11:57:56.092Z"
   },
   {
    "duration": 41,
    "start_time": "2023-04-20T11:57:56.100Z"
   },
   {
    "duration": 21,
    "start_time": "2023-04-20T11:57:56.143Z"
   },
   {
    "duration": 22,
    "start_time": "2023-04-20T11:57:56.166Z"
   },
   {
    "duration": 16,
    "start_time": "2023-04-20T11:57:56.190Z"
   },
   {
    "duration": 18,
    "start_time": "2023-04-20T11:57:56.207Z"
   },
   {
    "duration": 3,
    "start_time": "2023-04-20T11:57:56.227Z"
   },
   {
    "duration": 9,
    "start_time": "2023-04-20T11:57:56.231Z"
   },
   {
    "duration": 35,
    "start_time": "2023-04-20T11:57:56.241Z"
   },
   {
    "duration": 17,
    "start_time": "2023-04-20T11:57:56.278Z"
   },
   {
    "duration": 9,
    "start_time": "2023-04-20T11:58:00.962Z"
   },
   {
    "duration": 7,
    "start_time": "2023-04-20T11:58:01.393Z"
   },
   {
    "duration": 6,
    "start_time": "2023-04-20T11:58:01.897Z"
   },
   {
    "duration": 5,
    "start_time": "2023-04-20T11:58:46.826Z"
   },
   {
    "duration": 12,
    "start_time": "2023-04-20T11:58:47.103Z"
   },
   {
    "duration": 49,
    "start_time": "2023-04-20T12:20:29.398Z"
   },
   {
    "duration": 56,
    "start_time": "2023-04-20T12:20:33.166Z"
   },
   {
    "duration": 70,
    "start_time": "2023-04-20T12:20:37.319Z"
   },
   {
    "duration": 103,
    "start_time": "2023-04-20T12:20:48.530Z"
   },
   {
    "duration": 1073,
    "start_time": "2023-04-20T12:20:55.304Z"
   },
   {
    "duration": 85,
    "start_time": "2023-04-20T12:20:56.379Z"
   },
   {
    "duration": 39,
    "start_time": "2023-04-20T12:20:56.466Z"
   },
   {
    "duration": 21,
    "start_time": "2023-04-20T12:20:56.507Z"
   },
   {
    "duration": 20,
    "start_time": "2023-04-20T12:20:56.529Z"
   },
   {
    "duration": 17,
    "start_time": "2023-04-20T12:20:56.550Z"
   },
   {
    "duration": 5,
    "start_time": "2023-04-20T12:20:56.569Z"
   },
   {
    "duration": 19,
    "start_time": "2023-04-20T12:20:56.576Z"
   },
   {
    "duration": 36,
    "start_time": "2023-04-20T12:20:56.597Z"
   },
   {
    "duration": 24,
    "start_time": "2023-04-20T12:20:56.635Z"
   },
   {
    "duration": 21,
    "start_time": "2023-04-20T12:20:56.661Z"
   },
   {
    "duration": 5,
    "start_time": "2023-04-20T12:20:56.684Z"
   },
   {
    "duration": 36,
    "start_time": "2023-04-20T12:20:56.691Z"
   },
   {
    "duration": 10,
    "start_time": "2023-04-20T12:20:56.728Z"
   },
   {
    "duration": 17,
    "start_time": "2023-04-20T12:20:56.739Z"
   },
   {
    "duration": 15,
    "start_time": "2023-04-20T12:20:56.757Z"
   },
   {
    "duration": 19,
    "start_time": "2023-04-20T12:20:56.774Z"
   },
   {
    "duration": 5,
    "start_time": "2023-04-20T12:20:56.794Z"
   },
   {
    "duration": 10,
    "start_time": "2023-04-20T12:20:56.801Z"
   },
   {
    "duration": 6,
    "start_time": "2023-04-20T12:20:56.813Z"
   },
   {
    "duration": 7,
    "start_time": "2023-04-20T12:20:56.821Z"
   },
   {
    "duration": 32,
    "start_time": "2023-04-20T12:20:56.830Z"
   },
   {
    "duration": 14,
    "start_time": "2023-04-20T12:20:56.863Z"
   },
   {
    "duration": 13,
    "start_time": "2023-04-20T12:20:56.879Z"
   },
   {
    "duration": 14,
    "start_time": "2023-04-20T12:20:56.894Z"
   },
   {
    "duration": 10,
    "start_time": "2023-04-20T12:20:56.909Z"
   },
   {
    "duration": 41,
    "start_time": "2023-04-20T12:20:56.920Z"
   },
   {
    "duration": 71,
    "start_time": "2023-04-20T12:20:56.976Z"
   },
   {
    "duration": 23,
    "start_time": "2023-04-20T12:20:57.055Z"
   },
   {
    "duration": 18,
    "start_time": "2023-04-20T12:20:57.079Z"
   },
   {
    "duration": 140,
    "start_time": "2023-04-20T12:20:57.099Z"
   },
   {
    "duration": 20,
    "start_time": "2023-04-20T12:20:57.241Z"
   },
   {
    "duration": 28,
    "start_time": "2023-04-20T12:20:57.263Z"
   },
   {
    "duration": 141,
    "start_time": "2023-04-20T12:20:57.293Z"
   },
   {
    "duration": 31,
    "start_time": "2023-04-20T12:20:57.435Z"
   },
   {
    "duration": 27,
    "start_time": "2023-04-20T12:20:57.468Z"
   },
   {
    "duration": 136,
    "start_time": "2023-04-20T12:20:57.498Z"
   },
   {
    "duration": 26,
    "start_time": "2023-04-20T12:20:57.635Z"
   },
   {
    "duration": 13,
    "start_time": "2023-04-20T12:20:57.663Z"
   },
   {
    "duration": 18,
    "start_time": "2023-04-20T12:20:57.677Z"
   },
   {
    "duration": 22,
    "start_time": "2023-04-20T12:20:57.696Z"
   },
   {
    "duration": 39,
    "start_time": "2023-04-20T12:20:57.720Z"
   },
   {
    "duration": 5,
    "start_time": "2023-04-20T12:20:57.761Z"
   },
   {
    "duration": 27,
    "start_time": "2023-04-20T12:20:57.768Z"
   },
   {
    "duration": 6,
    "start_time": "2023-04-20T12:20:57.796Z"
   },
   {
    "duration": 12,
    "start_time": "2023-04-20T12:20:57.804Z"
   },
   {
    "duration": 8,
    "start_time": "2023-04-20T12:20:57.818Z"
   },
   {
    "duration": 31,
    "start_time": "2023-04-20T12:20:57.828Z"
   },
   {
    "duration": 19,
    "start_time": "2023-04-20T12:20:57.861Z"
   },
   {
    "duration": 5,
    "start_time": "2023-04-20T12:20:57.882Z"
   },
   {
    "duration": 8,
    "start_time": "2023-04-20T12:20:57.888Z"
   },
   {
    "duration": 4,
    "start_time": "2023-04-20T12:20:57.898Z"
   },
   {
    "duration": 6,
    "start_time": "2023-04-20T12:20:57.904Z"
   },
   {
    "duration": 7,
    "start_time": "2023-04-20T12:20:57.911Z"
   },
   {
    "duration": 13,
    "start_time": "2023-04-20T12:21:00.157Z"
   },
   {
    "duration": 3,
    "start_time": "2023-04-20T12:42:00.395Z"
   },
   {
    "duration": 3,
    "start_time": "2023-04-20T12:42:08.503Z"
   },
   {
    "duration": 1106,
    "start_time": "2023-04-20T12:42:11.603Z"
   },
   {
    "duration": 85,
    "start_time": "2023-04-20T12:42:12.711Z"
   },
   {
    "duration": 50,
    "start_time": "2023-04-20T12:42:19.719Z"
   },
   {
    "duration": 89,
    "start_time": "2023-04-20T12:51:28.694Z"
   },
   {
    "duration": 1068,
    "start_time": "2023-04-20T12:51:33.708Z"
   },
   {
    "duration": 81,
    "start_time": "2023-04-20T12:51:34.778Z"
   },
   {
    "duration": 38,
    "start_time": "2023-04-20T12:51:34.860Z"
   },
   {
    "duration": 21,
    "start_time": "2023-04-20T12:51:34.901Z"
   },
   {
    "duration": 18,
    "start_time": "2023-04-20T12:51:34.923Z"
   },
   {
    "duration": 16,
    "start_time": "2023-04-20T12:51:34.943Z"
   },
   {
    "duration": 5,
    "start_time": "2023-04-20T12:51:34.961Z"
   },
   {
    "duration": 10,
    "start_time": "2023-04-20T12:51:34.968Z"
   },
   {
    "duration": 10,
    "start_time": "2023-04-20T12:51:34.979Z"
   },
   {
    "duration": 7,
    "start_time": "2023-04-20T12:51:34.990Z"
   },
   {
    "duration": 15,
    "start_time": "2023-04-20T12:51:34.999Z"
   },
   {
    "duration": 5,
    "start_time": "2023-04-20T12:51:35.015Z"
   },
   {
    "duration": 42,
    "start_time": "2023-04-20T12:51:35.023Z"
   },
   {
    "duration": 9,
    "start_time": "2023-04-20T12:51:35.066Z"
   },
   {
    "duration": 15,
    "start_time": "2023-04-20T12:51:35.076Z"
   },
   {
    "duration": 8,
    "start_time": "2023-04-20T12:51:35.093Z"
   },
   {
    "duration": 16,
    "start_time": "2023-04-20T12:51:35.102Z"
   },
   {
    "duration": 7,
    "start_time": "2023-04-20T12:51:35.119Z"
   },
   {
    "duration": 36,
    "start_time": "2023-04-20T12:51:35.127Z"
   },
   {
    "duration": 3,
    "start_time": "2023-04-20T12:51:35.164Z"
   },
   {
    "duration": 7,
    "start_time": "2023-04-20T12:51:35.168Z"
   },
   {
    "duration": 14,
    "start_time": "2023-04-20T12:51:35.176Z"
   },
   {
    "duration": 13,
    "start_time": "2023-04-20T12:51:35.192Z"
   },
   {
    "duration": 8,
    "start_time": "2023-04-20T12:51:35.207Z"
   },
   {
    "duration": 19,
    "start_time": "2023-04-20T12:51:35.217Z"
   },
   {
    "duration": 6,
    "start_time": "2023-04-20T12:51:35.256Z"
   },
   {
    "duration": 51,
    "start_time": "2023-04-20T12:51:35.263Z"
   },
   {
    "duration": 72,
    "start_time": "2023-04-20T12:51:35.315Z"
   },
   {
    "duration": 23,
    "start_time": "2023-04-20T12:51:35.389Z"
   },
   {
    "duration": 42,
    "start_time": "2023-04-20T12:51:35.414Z"
   },
   {
    "duration": 139,
    "start_time": "2023-04-20T12:51:35.459Z"
   },
   {
    "duration": 14,
    "start_time": "2023-04-20T12:51:35.600Z"
   },
   {
    "duration": 44,
    "start_time": "2023-04-20T12:51:35.616Z"
   },
   {
    "duration": 128,
    "start_time": "2023-04-20T12:51:35.662Z"
   },
   {
    "duration": 21,
    "start_time": "2023-04-20T12:51:35.792Z"
   },
   {
    "duration": 41,
    "start_time": "2023-04-20T12:51:35.815Z"
   },
   {
    "duration": 118,
    "start_time": "2023-04-20T12:51:35.858Z"
   },
   {
    "duration": 18,
    "start_time": "2023-04-20T12:51:35.978Z"
   },
   {
    "duration": 13,
    "start_time": "2023-04-20T12:51:35.998Z"
   },
   {
    "duration": 41,
    "start_time": "2023-04-20T12:51:36.015Z"
   },
   {
    "duration": 19,
    "start_time": "2023-04-20T12:51:36.058Z"
   },
   {
    "duration": 8,
    "start_time": "2023-04-20T12:51:36.079Z"
   },
   {
    "duration": 5,
    "start_time": "2023-04-20T12:51:36.089Z"
   },
   {
    "duration": 26,
    "start_time": "2023-04-20T12:51:36.095Z"
   },
   {
    "duration": 33,
    "start_time": "2023-04-20T12:51:36.123Z"
   },
   {
    "duration": 5,
    "start_time": "2023-04-20T12:51:41.520Z"
   },
   {
    "duration": 5,
    "start_time": "2023-04-20T12:51:44.478Z"
   },
   {
    "duration": 27,
    "start_time": "2023-04-20T12:51:55.371Z"
   },
   {
    "duration": 24,
    "start_time": "2023-04-20T12:52:09.818Z"
   },
   {
    "duration": 7,
    "start_time": "2023-04-20T12:52:21.583Z"
   },
   {
    "duration": 6,
    "start_time": "2023-04-20T12:54:34.482Z"
   },
   {
    "duration": 18,
    "start_time": "2023-04-20T13:09:27.420Z"
   },
   {
    "duration": 15,
    "start_time": "2023-04-20T13:09:29.375Z"
   },
   {
    "duration": 22,
    "start_time": "2023-04-20T13:09:33.104Z"
   },
   {
    "duration": 5,
    "start_time": "2023-04-20T13:10:26.359Z"
   },
   {
    "duration": 9,
    "start_time": "2023-04-20T13:10:29.469Z"
   },
   {
    "duration": 10,
    "start_time": "2023-04-20T13:10:57.882Z"
   },
   {
    "duration": 9,
    "start_time": "2023-04-20T13:10:58.771Z"
   },
   {
    "duration": 18,
    "start_time": "2023-04-20T13:11:15.286Z"
   },
   {
    "duration": 5,
    "start_time": "2023-04-20T13:11:25.401Z"
   },
   {
    "duration": 14,
    "start_time": "2023-04-20T13:11:26.475Z"
   },
   {
    "duration": 21,
    "start_time": "2023-04-20T13:11:39.352Z"
   },
   {
    "duration": 4,
    "start_time": "2023-04-20T13:11:51.592Z"
   },
   {
    "duration": 9,
    "start_time": "2023-04-20T13:12:35.385Z"
   },
   {
    "duration": 1098,
    "start_time": "2023-04-20T13:12:40.414Z"
   },
   {
    "duration": 91,
    "start_time": "2023-04-20T13:12:41.514Z"
   },
   {
    "duration": 39,
    "start_time": "2023-04-20T13:12:41.607Z"
   },
   {
    "duration": 26,
    "start_time": "2023-04-20T13:12:41.649Z"
   },
   {
    "duration": 19,
    "start_time": "2023-04-20T13:12:41.677Z"
   },
   {
    "duration": 16,
    "start_time": "2023-04-20T13:12:41.698Z"
   },
   {
    "duration": 8,
    "start_time": "2023-04-20T13:12:41.715Z"
   },
   {
    "duration": 17,
    "start_time": "2023-04-20T13:12:41.724Z"
   },
   {
    "duration": 21,
    "start_time": "2023-04-20T13:12:41.755Z"
   },
   {
    "duration": 13,
    "start_time": "2023-04-20T13:12:41.779Z"
   },
   {
    "duration": 17,
    "start_time": "2023-04-20T13:12:41.794Z"
   },
   {
    "duration": 17,
    "start_time": "2023-04-20T13:12:43.306Z"
   },
   {
    "duration": 8,
    "start_time": "2023-04-20T13:12:43.969Z"
   },
   {
    "duration": 14,
    "start_time": "2023-04-20T13:12:44.633Z"
   },
   {
    "duration": 4,
    "start_time": "2023-04-20T13:12:48.743Z"
   },
   {
    "duration": 17,
    "start_time": "2023-04-20T13:13:03.574Z"
   },
   {
    "duration": 10,
    "start_time": "2023-04-20T13:13:16.375Z"
   },
   {
    "duration": 5,
    "start_time": "2023-04-20T13:13:19.509Z"
   },
   {
    "duration": 11,
    "start_time": "2023-04-20T13:13:34.648Z"
   },
   {
    "duration": 17,
    "start_time": "2023-04-20T13:13:48.349Z"
   },
   {
    "duration": 4,
    "start_time": "2023-04-20T13:13:49.765Z"
   },
   {
    "duration": 10,
    "start_time": "2023-04-20T13:13:50.775Z"
   },
   {
    "duration": 4,
    "start_time": "2023-04-20T13:21:03.279Z"
   },
   {
    "duration": 107,
    "start_time": "2023-04-20T13:21:03.723Z"
   },
   {
    "duration": 4,
    "start_time": "2023-04-20T13:21:03.945Z"
   },
   {
    "duration": 9,
    "start_time": "2023-04-20T13:21:13.593Z"
   },
   {
    "duration": 4,
    "start_time": "2023-04-20T13:21:13.945Z"
   },
   {
    "duration": 8,
    "start_time": "2023-04-20T13:21:29.622Z"
   },
   {
    "duration": 3,
    "start_time": "2023-04-20T13:21:31.536Z"
   },
   {
    "duration": 13,
    "start_time": "2023-04-20T13:21:39.510Z"
   },
   {
    "duration": 8,
    "start_time": "2023-04-20T13:21:44.618Z"
   },
   {
    "duration": 5,
    "start_time": "2023-04-20T13:21:45.122Z"
   },
   {
    "duration": 9,
    "start_time": "2023-04-20T13:21:45.806Z"
   },
   {
    "duration": 5,
    "start_time": "2023-04-20T13:21:46.401Z"
   },
   {
    "duration": 10,
    "start_time": "2023-04-20T13:21:58.110Z"
   },
   {
    "duration": 12,
    "start_time": "2023-04-20T13:22:14.825Z"
   },
   {
    "duration": 11,
    "start_time": "2023-04-20T13:24:47.756Z"
   },
   {
    "duration": 12,
    "start_time": "2023-04-20T13:24:48.051Z"
   },
   {
    "duration": 4,
    "start_time": "2023-04-20T13:25:45.419Z"
   },
   {
    "duration": 4,
    "start_time": "2023-04-20T13:26:02.671Z"
   },
   {
    "duration": 6,
    "start_time": "2023-04-20T13:26:03.610Z"
   },
   {
    "duration": 17,
    "start_time": "2023-04-20T13:26:08.029Z"
   },
   {
    "duration": 6,
    "start_time": "2023-04-20T13:27:43.622Z"
   },
   {
    "duration": 6,
    "start_time": "2023-04-20T13:27:51.614Z"
   },
   {
    "duration": 5,
    "start_time": "2023-04-20T13:27:52.043Z"
   },
   {
    "duration": 56,
    "start_time": "2023-04-20T13:27:56.426Z"
   },
   {
    "duration": 69,
    "start_time": "2023-04-20T13:28:10.062Z"
   },
   {
    "duration": 30,
    "start_time": "2023-04-20T13:28:44.660Z"
   },
   {
    "duration": 69,
    "start_time": "2023-04-20T13:29:08.855Z"
   },
   {
    "duration": 23,
    "start_time": "2023-04-20T13:29:09.170Z"
   },
   {
    "duration": 28,
    "start_time": "2023-04-20T13:29:17.314Z"
   },
   {
    "duration": 69,
    "start_time": "2023-04-20T13:29:17.759Z"
   },
   {
    "duration": 21,
    "start_time": "2023-04-20T13:29:18.314Z"
   },
   {
    "duration": 18,
    "start_time": "2023-04-20T13:29:18.724Z"
   },
   {
    "duration": 122,
    "start_time": "2023-04-20T13:29:20.325Z"
   },
   {
    "duration": 13,
    "start_time": "2023-04-20T13:29:32.947Z"
   },
   {
    "duration": 29,
    "start_time": "2023-04-20T13:29:36.677Z"
   },
   {
    "duration": 118,
    "start_time": "2023-04-20T13:29:39.323Z"
   },
   {
    "duration": 102,
    "start_time": "2023-04-20T13:29:52.731Z"
   },
   {
    "duration": 17,
    "start_time": "2023-04-20T13:29:53.426Z"
   },
   {
    "duration": 13,
    "start_time": "2023-04-20T13:30:00.027Z"
   },
   {
    "duration": 18,
    "start_time": "2023-04-20T13:30:03.176Z"
   },
   {
    "duration": 24,
    "start_time": "2023-04-20T13:30:10.421Z"
   },
   {
    "duration": 8,
    "start_time": "2023-04-20T13:30:11.509Z"
   },
   {
    "duration": 6,
    "start_time": "2023-04-20T13:30:51.006Z"
   },
   {
    "duration": 17,
    "start_time": "2023-04-20T13:57:25.750Z"
   },
   {
    "duration": 12,
    "start_time": "2023-04-20T13:57:26.227Z"
   },
   {
    "duration": 6,
    "start_time": "2023-04-20T13:58:50.273Z"
   },
   {
    "duration": 16,
    "start_time": "2023-04-20T13:58:50.525Z"
   },
   {
    "duration": 6,
    "start_time": "2023-04-20T13:58:50.974Z"
   },
   {
    "duration": 1150,
    "start_time": "2023-04-20T13:58:58.053Z"
   },
   {
    "duration": 82,
    "start_time": "2023-04-20T13:58:59.205Z"
   },
   {
    "duration": 39,
    "start_time": "2023-04-20T13:58:59.288Z"
   },
   {
    "duration": 20,
    "start_time": "2023-04-20T13:58:59.329Z"
   },
   {
    "duration": 18,
    "start_time": "2023-04-20T13:58:59.351Z"
   },
   {
    "duration": 14,
    "start_time": "2023-04-20T13:58:59.370Z"
   },
   {
    "duration": 4,
    "start_time": "2023-04-20T13:58:59.385Z"
   },
   {
    "duration": 16,
    "start_time": "2023-04-20T13:58:59.391Z"
   },
   {
    "duration": 6,
    "start_time": "2023-04-20T13:58:59.409Z"
   },
   {
    "duration": 45,
    "start_time": "2023-04-20T13:58:59.418Z"
   },
   {
    "duration": 5,
    "start_time": "2023-04-20T13:58:59.465Z"
   },
   {
    "duration": 116,
    "start_time": "2023-04-20T13:58:59.472Z"
   },
   {
    "duration": 0,
    "start_time": "2023-04-20T13:58:59.591Z"
   },
   {
    "duration": 0,
    "start_time": "2023-04-20T13:58:59.592Z"
   },
   {
    "duration": 0,
    "start_time": "2023-04-20T13:58:59.593Z"
   },
   {
    "duration": 0,
    "start_time": "2023-04-20T13:58:59.594Z"
   },
   {
    "duration": 0,
    "start_time": "2023-04-20T13:58:59.595Z"
   },
   {
    "duration": 0,
    "start_time": "2023-04-20T13:58:59.596Z"
   },
   {
    "duration": 0,
    "start_time": "2023-04-20T13:58:59.597Z"
   },
   {
    "duration": 0,
    "start_time": "2023-04-20T13:58:59.598Z"
   },
   {
    "duration": 0,
    "start_time": "2023-04-20T13:58:59.599Z"
   },
   {
    "duration": 0,
    "start_time": "2023-04-20T13:58:59.600Z"
   },
   {
    "duration": 0,
    "start_time": "2023-04-20T13:58:59.601Z"
   },
   {
    "duration": 0,
    "start_time": "2023-04-20T13:58:59.602Z"
   },
   {
    "duration": 0,
    "start_time": "2023-04-20T13:58:59.604Z"
   },
   {
    "duration": 0,
    "start_time": "2023-04-20T13:58:59.605Z"
   },
   {
    "duration": 0,
    "start_time": "2023-04-20T13:58:59.606Z"
   },
   {
    "duration": 0,
    "start_time": "2023-04-20T13:58:59.607Z"
   },
   {
    "duration": 0,
    "start_time": "2023-04-20T13:58:59.608Z"
   },
   {
    "duration": 0,
    "start_time": "2023-04-20T13:58:59.609Z"
   },
   {
    "duration": 0,
    "start_time": "2023-04-20T13:58:59.610Z"
   },
   {
    "duration": 0,
    "start_time": "2023-04-20T13:58:59.611Z"
   },
   {
    "duration": 0,
    "start_time": "2023-04-20T13:58:59.612Z"
   },
   {
    "duration": 0,
    "start_time": "2023-04-20T13:58:59.614Z"
   },
   {
    "duration": 0,
    "start_time": "2023-04-20T13:58:59.614Z"
   },
   {
    "duration": 0,
    "start_time": "2023-04-20T13:58:59.656Z"
   },
   {
    "duration": 0,
    "start_time": "2023-04-20T13:58:59.657Z"
   },
   {
    "duration": 0,
    "start_time": "2023-04-20T13:58:59.658Z"
   },
   {
    "duration": 0,
    "start_time": "2023-04-20T13:58:59.659Z"
   },
   {
    "duration": 0,
    "start_time": "2023-04-20T13:58:59.661Z"
   },
   {
    "duration": 8,
    "start_time": "2023-04-20T13:59:03.585Z"
   },
   {
    "duration": 10,
    "start_time": "2023-04-20T13:59:04.391Z"
   },
   {
    "duration": 11,
    "start_time": "2023-04-20T13:59:05.353Z"
   },
   {
    "duration": 10,
    "start_time": "2023-04-20T13:59:20.281Z"
   },
   {
    "duration": 12,
    "start_time": "2023-04-20T13:59:20.981Z"
   },
   {
    "duration": 11,
    "start_time": "2023-04-20T13:59:21.280Z"
   },
   {
    "duration": 5,
    "start_time": "2023-04-20T13:59:55.595Z"
   },
   {
    "duration": 9,
    "start_time": "2023-04-20T13:59:55.940Z"
   },
   {
    "duration": 11,
    "start_time": "2023-04-20T13:59:57.471Z"
   },
   {
    "duration": 7,
    "start_time": "2023-04-20T13:59:58.033Z"
   },
   {
    "duration": 9,
    "start_time": "2023-04-20T13:59:59.848Z"
   },
   {
    "duration": 6,
    "start_time": "2023-04-20T14:00:00.317Z"
   },
   {
    "duration": 12,
    "start_time": "2023-04-20T14:00:01.632Z"
   },
   {
    "duration": 5,
    "start_time": "2023-04-20T14:00:02.430Z"
   },
   {
    "duration": 14,
    "start_time": "2023-04-20T14:00:11.367Z"
   },
   {
    "duration": 6,
    "start_time": "2023-04-20T14:00:11.626Z"
   },
   {
    "duration": 9,
    "start_time": "2023-04-20T14:00:13.024Z"
   },
   {
    "duration": 16,
    "start_time": "2023-04-20T14:00:18.178Z"
   },
   {
    "duration": 17,
    "start_time": "2023-04-20T14:00:33.922Z"
   },
   {
    "duration": 6,
    "start_time": "2023-04-20T14:00:39.306Z"
   },
   {
    "duration": 8,
    "start_time": "2023-04-20T14:00:39.818Z"
   },
   {
    "duration": 15,
    "start_time": "2023-04-20T14:00:51.292Z"
   },
   {
    "duration": 16,
    "start_time": "2023-04-20T14:00:55.536Z"
   },
   {
    "duration": 4,
    "start_time": "2023-04-20T14:00:56.192Z"
   },
   {
    "duration": 6,
    "start_time": "2023-04-20T14:01:01.984Z"
   },
   {
    "duration": 11,
    "start_time": "2023-04-20T14:02:00.036Z"
   },
   {
    "duration": 8,
    "start_time": "2023-04-20T14:02:00.393Z"
   },
   {
    "duration": 1108,
    "start_time": "2023-04-20T14:02:20.880Z"
   },
   {
    "duration": 80,
    "start_time": "2023-04-20T14:02:21.989Z"
   },
   {
    "duration": 39,
    "start_time": "2023-04-20T14:02:22.071Z"
   },
   {
    "duration": 21,
    "start_time": "2023-04-20T14:02:22.950Z"
   },
   {
    "duration": 29,
    "start_time": "2023-04-20T14:02:24.189Z"
   },
   {
    "duration": 15,
    "start_time": "2023-04-20T14:02:24.909Z"
   },
   {
    "duration": 5,
    "start_time": "2023-04-20T14:02:26.716Z"
   },
   {
    "duration": 18,
    "start_time": "2023-04-20T14:02:28.168Z"
   },
   {
    "duration": 7,
    "start_time": "2023-04-20T14:02:30.016Z"
   },
   {
    "duration": 5,
    "start_time": "2023-04-20T14:02:30.845Z"
   },
   {
    "duration": 6,
    "start_time": "2023-04-20T14:02:31.372Z"
   },
   {
    "duration": 6,
    "start_time": "2023-04-20T14:02:31.928Z"
   },
   {
    "duration": 8,
    "start_time": "2023-04-20T14:02:35.036Z"
   },
   {
    "duration": 6,
    "start_time": "2023-04-20T14:02:35.561Z"
   },
   {
    "duration": 9,
    "start_time": "2023-04-20T14:02:38.756Z"
   },
   {
    "duration": 7,
    "start_time": "2023-04-20T14:02:40.201Z"
   },
   {
    "duration": 18,
    "start_time": "2023-04-20T14:02:41.964Z"
   },
   {
    "duration": 4,
    "start_time": "2023-04-20T14:02:44.663Z"
   },
   {
    "duration": 9,
    "start_time": "2023-04-20T14:03:05.608Z"
   },
   {
    "duration": 4,
    "start_time": "2023-04-20T14:03:06.145Z"
   },
   {
    "duration": 13,
    "start_time": "2023-04-20T14:03:12.368Z"
   },
   {
    "duration": 5,
    "start_time": "2023-04-20T14:03:12.672Z"
   },
   {
    "duration": 9,
    "start_time": "2023-04-20T14:03:14.364Z"
   },
   {
    "duration": 17,
    "start_time": "2023-04-20T14:03:16.328Z"
   },
   {
    "duration": 12,
    "start_time": "2023-04-20T14:03:17.188Z"
   },
   {
    "duration": 3,
    "start_time": "2023-04-20T14:03:19.916Z"
   },
   {
    "duration": 6,
    "start_time": "2023-04-20T14:03:20.448Z"
   },
   {
    "duration": 18,
    "start_time": "2023-04-20T14:03:22.382Z"
   },
   {
    "duration": 16,
    "start_time": "2023-04-20T14:03:23.044Z"
   },
   {
    "duration": 6,
    "start_time": "2023-04-20T14:03:29.752Z"
   },
   {
    "duration": 6,
    "start_time": "2023-04-20T14:03:38.072Z"
   },
   {
    "duration": 5,
    "start_time": "2023-04-20T14:03:38.537Z"
   },
   {
    "duration": 6,
    "start_time": "2023-04-20T14:03:39.028Z"
   },
   {
    "duration": 49,
    "start_time": "2023-04-20T14:03:40.712Z"
   },
   {
    "duration": 70,
    "start_time": "2023-04-20T14:03:41.673Z"
   },
   {
    "duration": 25,
    "start_time": "2023-04-20T14:03:42.305Z"
   },
   {
    "duration": 19,
    "start_time": "2023-04-20T14:03:43.176Z"
   },
   {
    "duration": 119,
    "start_time": "2023-04-20T14:03:43.744Z"
   },
   {
    "duration": 21,
    "start_time": "2023-04-20T14:03:44.252Z"
   },
   {
    "duration": 31,
    "start_time": "2023-04-20T14:03:45.028Z"
   },
   {
    "duration": 114,
    "start_time": "2023-04-20T14:03:45.768Z"
   },
   {
    "duration": 29,
    "start_time": "2023-04-20T14:03:46.536Z"
   },
   {
    "duration": 25,
    "start_time": "2023-04-20T14:03:47.516Z"
   },
   {
    "duration": 111,
    "start_time": "2023-04-20T14:03:47.976Z"
   },
   {
    "duration": 18,
    "start_time": "2023-04-20T14:03:49.029Z"
   },
   {
    "duration": 12,
    "start_time": "2023-04-20T14:03:49.506Z"
   },
   {
    "duration": 24,
    "start_time": "2023-04-20T14:03:50.412Z"
   },
   {
    "duration": 29,
    "start_time": "2023-04-20T14:03:51.248Z"
   },
   {
    "duration": 10,
    "start_time": "2023-04-20T14:03:52.167Z"
   },
   {
    "duration": 6,
    "start_time": "2023-04-20T14:04:27.325Z"
   },
   {
    "duration": 96,
    "start_time": "2023-04-20T14:04:28.584Z"
   },
   {
    "duration": 6,
    "start_time": "2023-04-20T14:05:12.676Z"
   },
   {
    "duration": 10,
    "start_time": "2023-04-20T14:05:12.880Z"
   },
   {
    "duration": 3,
    "start_time": "2023-04-20T14:05:18.684Z"
   },
   {
    "duration": 6,
    "start_time": "2023-04-20T14:05:19.460Z"
   },
   {
    "duration": 3,
    "start_time": "2023-04-20T14:06:20.372Z"
   },
   {
    "duration": 20,
    "start_time": "2023-04-20T14:06:27.140Z"
   },
   {
    "duration": 5,
    "start_time": "2023-04-20T14:06:28.672Z"
   },
   {
    "duration": 6,
    "start_time": "2023-04-20T14:06:40.352Z"
   },
   {
    "duration": 4,
    "start_time": "2023-04-20T14:06:49.417Z"
   },
   {
    "duration": 6,
    "start_time": "2023-04-20T14:06:52.336Z"
   },
   {
    "duration": 6,
    "start_time": "2023-04-20T14:07:01.133Z"
   },
   {
    "duration": 14,
    "start_time": "2023-04-20T14:07:17.724Z"
   },
   {
    "duration": 5,
    "start_time": "2023-04-20T14:07:19.124Z"
   },
   {
    "duration": 11,
    "start_time": "2023-04-20T14:07:19.928Z"
   },
   {
    "duration": 7,
    "start_time": "2023-04-20T14:08:45.348Z"
   },
   {
    "duration": 8,
    "start_time": "2023-04-20T14:09:08.892Z"
   },
   {
    "duration": 9,
    "start_time": "2023-04-20T14:09:57.896Z"
   },
   {
    "duration": 13,
    "start_time": "2023-04-20T14:10:11.695Z"
   },
   {
    "duration": 4,
    "start_time": "2023-04-20T14:11:15.069Z"
   },
   {
    "duration": 14,
    "start_time": "2023-04-20T14:11:32.945Z"
   },
   {
    "duration": 9,
    "start_time": "2023-04-20T14:11:48.592Z"
   },
   {
    "duration": 176,
    "start_time": "2023-04-20T14:11:59.468Z"
   },
   {
    "duration": 194,
    "start_time": "2023-04-20T14:12:24.221Z"
   },
   {
    "duration": 166,
    "start_time": "2023-04-20T14:12:34.276Z"
   },
   {
    "duration": 57,
    "start_time": "2023-04-20T14:12:37.445Z"
   },
   {
    "duration": 160,
    "start_time": "2023-04-20T14:12:39.653Z"
   },
   {
    "duration": 157,
    "start_time": "2023-04-20T14:12:45.904Z"
   },
   {
    "duration": 167,
    "start_time": "2023-04-20T14:13:01.440Z"
   },
   {
    "duration": 6,
    "start_time": "2023-04-20T14:13:08.857Z"
   },
   {
    "duration": 178,
    "start_time": "2023-04-20T14:13:09.328Z"
   },
   {
    "duration": 11,
    "start_time": "2023-04-20T14:13:22.281Z"
   },
   {
    "duration": 129,
    "start_time": "2023-04-20T14:13:27.565Z"
   },
   {
    "duration": 227,
    "start_time": "2023-04-20T14:13:51.445Z"
   },
   {
    "duration": 13,
    "start_time": "2023-04-20T14:13:55.237Z"
   },
   {
    "duration": 21,
    "start_time": "2023-04-20T14:14:40.718Z"
   },
   {
    "duration": 23,
    "start_time": "2023-04-20T14:15:11.646Z"
   },
   {
    "duration": 28,
    "start_time": "2023-04-20T14:18:24.555Z"
   },
   {
    "duration": 849,
    "start_time": "2023-04-20T14:18:37.525Z"
   },
   {
    "duration": 159,
    "start_time": "2023-04-20T14:18:48.889Z"
   },
   {
    "duration": 24,
    "start_time": "2023-04-20T14:20:04.625Z"
   },
   {
    "duration": 22,
    "start_time": "2023-04-20T14:20:33.029Z"
   },
   {
    "duration": 914,
    "start_time": "2023-04-20T14:20:35.865Z"
   },
   {
    "duration": 53,
    "start_time": "2023-04-20T14:22:01.935Z"
   },
   {
    "duration": 8,
    "start_time": "2023-04-20T14:22:04.725Z"
   },
   {
    "duration": 10,
    "start_time": "2023-04-20T14:22:14.948Z"
   },
   {
    "duration": 14,
    "start_time": "2023-04-20T14:24:00.725Z"
   },
   {
    "duration": 9,
    "start_time": "2023-04-20T14:24:15.388Z"
   },
   {
    "duration": 4,
    "start_time": "2023-04-20T14:24:35.736Z"
   },
   {
    "duration": 5,
    "start_time": "2023-04-20T14:26:05.808Z"
   },
   {
    "duration": 25,
    "start_time": "2023-04-20T14:26:06.356Z"
   },
   {
    "duration": 1072,
    "start_time": "2023-04-20T14:26:08.743Z"
   },
   {
    "duration": 4,
    "start_time": "2023-04-20T14:28:07.127Z"
   },
   {
    "duration": 909,
    "start_time": "2023-04-20T14:30:56.078Z"
   },
   {
    "duration": 55,
    "start_time": "2023-04-20T14:32:04.855Z"
   },
   {
    "duration": 5876,
    "start_time": "2023-04-20T14:32:11.857Z"
   },
   {
    "duration": 63,
    "start_time": "2023-04-20T14:32:35.610Z"
   },
   {
    "duration": 70,
    "start_time": "2023-04-20T14:32:39.585Z"
   },
   {
    "duration": 1186,
    "start_time": "2023-04-20T14:33:01.207Z"
   },
   {
    "duration": 4,
    "start_time": "2023-04-20T14:33:30.279Z"
   },
   {
    "duration": 5,
    "start_time": "2023-04-20T14:33:36.229Z"
   },
   {
    "duration": 18,
    "start_time": "2023-04-20T14:36:14.382Z"
   },
   {
    "duration": 59,
    "start_time": "2023-04-20T14:36:27.417Z"
   },
   {
    "duration": 8,
    "start_time": "2023-04-20T14:39:00.324Z"
   },
   {
    "duration": 8,
    "start_time": "2023-04-20T14:39:06.029Z"
   },
   {
    "duration": 9,
    "start_time": "2023-04-20T14:39:23.085Z"
   },
   {
    "duration": 16,
    "start_time": "2023-04-20T14:39:53.573Z"
   },
   {
    "duration": 9,
    "start_time": "2023-04-20T14:40:42.184Z"
   },
   {
    "duration": 11,
    "start_time": "2023-04-20T14:40:47.643Z"
   },
   {
    "duration": 7,
    "start_time": "2023-04-20T14:41:06.687Z"
   },
   {
    "duration": 5,
    "start_time": "2023-04-20T14:46:18.133Z"
   },
   {
    "duration": 5,
    "start_time": "2023-04-20T14:46:22.376Z"
   },
   {
    "duration": 232,
    "start_time": "2023-04-20T14:46:24.998Z"
   },
   {
    "duration": 315,
    "start_time": "2023-04-20T14:46:52.344Z"
   },
   {
    "duration": 277,
    "start_time": "2023-04-20T14:46:55.397Z"
   },
   {
    "duration": 7,
    "start_time": "2023-04-20T14:46:59.440Z"
   },
   {
    "duration": 6,
    "start_time": "2023-04-20T14:47:01.287Z"
   },
   {
    "duration": 194,
    "start_time": "2023-04-20T14:47:08.410Z"
   },
   {
    "duration": 224,
    "start_time": "2023-04-20T14:47:37.703Z"
   },
   {
    "duration": 238,
    "start_time": "2023-04-20T14:48:05.300Z"
   },
   {
    "duration": 282,
    "start_time": "2023-04-20T14:48:06.229Z"
   },
   {
    "duration": 7,
    "start_time": "2023-04-20T14:48:06.646Z"
   },
   {
    "duration": 7,
    "start_time": "2023-04-20T14:48:08.388Z"
   },
   {
    "duration": 184,
    "start_time": "2023-04-20T14:48:09.600Z"
   },
   {
    "duration": 206,
    "start_time": "2023-04-20T14:48:26.996Z"
   },
   {
    "duration": 13,
    "start_time": "2023-04-20T14:48:52.206Z"
   },
   {
    "duration": 135,
    "start_time": "2023-04-20T14:48:55.030Z"
   },
   {
    "duration": 5,
    "start_time": "2023-04-20T14:48:55.340Z"
   },
   {
    "duration": 338,
    "start_time": "2023-04-20T14:48:56.409Z"
   },
   {
    "duration": 7,
    "start_time": "2023-04-20T14:48:57.501Z"
   },
   {
    "duration": 5,
    "start_time": "2023-04-20T14:51:08.128Z"
   },
   {
    "duration": 8,
    "start_time": "2023-04-20T14:51:37.699Z"
   },
   {
    "duration": 6,
    "start_time": "2023-04-20T14:51:38.299Z"
   },
   {
    "duration": 1229,
    "start_time": "2023-04-20T14:51:46.141Z"
   },
   {
    "duration": 108,
    "start_time": "2023-04-20T14:51:47.373Z"
   },
   {
    "duration": 40,
    "start_time": "2023-04-20T14:51:47.483Z"
   },
   {
    "duration": 24,
    "start_time": "2023-04-20T14:51:47.525Z"
   },
   {
    "duration": 31,
    "start_time": "2023-04-20T14:51:47.551Z"
   },
   {
    "duration": 17,
    "start_time": "2023-04-20T14:51:47.584Z"
   },
   {
    "duration": 5,
    "start_time": "2023-04-20T14:51:47.603Z"
   },
   {
    "duration": 20,
    "start_time": "2023-04-20T14:51:47.609Z"
   },
   {
    "duration": 34,
    "start_time": "2023-04-20T14:51:47.631Z"
   },
   {
    "duration": 6,
    "start_time": "2023-04-20T14:51:49.073Z"
   },
   {
    "duration": 7,
    "start_time": "2023-04-20T14:51:49.838Z"
   },
   {
    "duration": 8,
    "start_time": "2023-04-20T14:51:53.028Z"
   },
   {
    "duration": 7,
    "start_time": "2023-04-20T14:51:53.430Z"
   },
   {
    "duration": 5,
    "start_time": "2023-04-20T14:51:58.581Z"
   },
   {
    "duration": 6,
    "start_time": "2023-04-20T14:51:58.774Z"
   },
   {
    "duration": 9,
    "start_time": "2023-04-20T14:52:00.520Z"
   },
   {
    "duration": 11,
    "start_time": "2023-04-20T14:52:00.917Z"
   },
   {
    "duration": 1099,
    "start_time": "2023-04-20T14:52:05.090Z"
   },
   {
    "duration": 91,
    "start_time": "2023-04-20T14:52:06.191Z"
   },
   {
    "duration": 39,
    "start_time": "2023-04-20T14:52:06.284Z"
   },
   {
    "duration": 21,
    "start_time": "2023-04-20T14:52:06.325Z"
   },
   {
    "duration": 23,
    "start_time": "2023-04-20T14:52:06.347Z"
   },
   {
    "duration": 15,
    "start_time": "2023-04-20T14:52:06.803Z"
   },
   {
    "duration": 4,
    "start_time": "2023-04-20T14:52:09.048Z"
   },
   {
    "duration": 20,
    "start_time": "2023-04-20T14:52:10.621Z"
   },
   {
    "duration": 6,
    "start_time": "2023-04-20T14:52:11.978Z"
   },
   {
    "duration": 6,
    "start_time": "2023-04-20T14:52:12.301Z"
   },
   {
    "duration": 7,
    "start_time": "2023-04-20T14:52:12.902Z"
   },
   {
    "duration": 6,
    "start_time": "2023-04-20T14:52:13.206Z"
   },
   {
    "duration": 9,
    "start_time": "2023-04-20T14:52:13.511Z"
   },
   {
    "duration": 10,
    "start_time": "2023-04-20T14:52:14.270Z"
   },
   {
    "duration": 1147,
    "start_time": "2023-04-20T14:52:21.170Z"
   },
   {
    "duration": 92,
    "start_time": "2023-04-20T14:52:22.319Z"
   },
   {
    "duration": 39,
    "start_time": "2023-04-20T14:52:22.412Z"
   },
   {
    "duration": 25,
    "start_time": "2023-04-20T14:52:22.453Z"
   },
   {
    "duration": 22,
    "start_time": "2023-04-20T14:52:22.480Z"
   },
   {
    "duration": 17,
    "start_time": "2023-04-20T14:52:22.504Z"
   },
   {
    "duration": 5,
    "start_time": "2023-04-20T14:52:23.841Z"
   },
   {
    "duration": 16,
    "start_time": "2023-04-20T14:52:24.370Z"
   },
   {
    "duration": 13,
    "start_time": "2023-04-20T14:52:24.855Z"
   },
   {
    "duration": 6,
    "start_time": "2023-04-20T14:52:25.693Z"
   },
   {
    "duration": 5,
    "start_time": "2023-04-20T14:52:26.236Z"
   },
   {
    "duration": 5,
    "start_time": "2023-04-20T14:52:27.093Z"
   },
   {
    "duration": 15,
    "start_time": "2023-04-20T14:52:27.649Z"
   },
   {
    "duration": 1131,
    "start_time": "2023-04-20T14:52:37.076Z"
   },
   {
    "duration": 88,
    "start_time": "2023-04-20T14:52:38.210Z"
   },
   {
    "duration": 39,
    "start_time": "2023-04-20T14:52:38.299Z"
   },
   {
    "duration": 25,
    "start_time": "2023-04-20T14:52:38.339Z"
   },
   {
    "duration": 26,
    "start_time": "2023-04-20T14:52:38.368Z"
   },
   {
    "duration": 16,
    "start_time": "2023-04-20T14:52:38.396Z"
   },
   {
    "duration": 5,
    "start_time": "2023-04-20T14:52:38.414Z"
   },
   {
    "duration": 29,
    "start_time": "2023-04-20T14:52:38.420Z"
   },
   {
    "duration": 14,
    "start_time": "2023-04-20T14:52:38.451Z"
   },
   {
    "duration": 6,
    "start_time": "2023-04-20T14:52:38.467Z"
   },
   {
    "duration": 5,
    "start_time": "2023-04-20T14:52:38.475Z"
   },
   {
    "duration": 20,
    "start_time": "2023-04-20T14:52:38.482Z"
   },
   {
    "duration": 10,
    "start_time": "2023-04-20T14:52:40.129Z"
   },
   {
    "duration": 9,
    "start_time": "2023-04-20T14:52:40.897Z"
   },
   {
    "duration": 7,
    "start_time": "2023-04-20T14:52:41.339Z"
   },
   {
    "duration": 15,
    "start_time": "2023-04-20T14:52:43.298Z"
   },
   {
    "duration": 4,
    "start_time": "2023-04-20T14:52:43.706Z"
   },
   {
    "duration": 13,
    "start_time": "2023-04-20T14:52:45.804Z"
   },
   {
    "duration": 18,
    "start_time": "2023-04-20T14:52:46.052Z"
   },
   {
    "duration": 10,
    "start_time": "2023-04-20T14:53:02.636Z"
   },
   {
    "duration": 17,
    "start_time": "2023-04-20T14:53:04.021Z"
   },
   {
    "duration": 20,
    "start_time": "2023-04-20T14:53:04.772Z"
   },
   {
    "duration": 3,
    "start_time": "2023-04-20T14:53:06.943Z"
   },
   {
    "duration": 7,
    "start_time": "2023-04-20T14:53:08.077Z"
   },
   {
    "duration": 4,
    "start_time": "2023-04-20T14:53:08.622Z"
   },
   {
    "duration": 15,
    "start_time": "2023-04-20T14:53:09.202Z"
   },
   {
    "duration": 15,
    "start_time": "2023-04-20T14:53:12.378Z"
   },
   {
    "duration": 10,
    "start_time": "2023-04-20T14:53:33.892Z"
   },
   {
    "duration": 111,
    "start_time": "2023-04-20T14:53:34.326Z"
   },
   {
    "duration": 7,
    "start_time": "2023-04-20T14:53:34.614Z"
   },
   {
    "duration": 1171,
    "start_time": "2023-04-20T14:53:41.277Z"
   },
   {
    "duration": 96,
    "start_time": "2023-04-20T14:53:42.450Z"
   },
   {
    "duration": 41,
    "start_time": "2023-04-20T14:53:42.547Z"
   },
   {
    "duration": 25,
    "start_time": "2023-04-20T14:53:42.590Z"
   },
   {
    "duration": 20,
    "start_time": "2023-04-20T14:53:42.617Z"
   },
   {
    "duration": 14,
    "start_time": "2023-04-20T14:53:42.639Z"
   },
   {
    "duration": 18,
    "start_time": "2023-04-20T14:53:42.655Z"
   },
   {
    "duration": 25,
    "start_time": "2023-04-20T14:53:42.676Z"
   },
   {
    "duration": 7,
    "start_time": "2023-04-20T14:53:42.703Z"
   },
   {
    "duration": 10,
    "start_time": "2023-04-20T14:53:42.712Z"
   },
   {
    "duration": 11,
    "start_time": "2023-04-20T14:53:43.425Z"
   },
   {
    "duration": 11,
    "start_time": "2023-04-20T14:53:44.101Z"
   },
   {
    "duration": 22,
    "start_time": "2023-04-20T14:53:44.651Z"
   },
   {
    "duration": 5,
    "start_time": "2023-04-20T14:53:45.277Z"
   },
   {
    "duration": 13,
    "start_time": "2023-04-20T14:53:46.229Z"
   },
   {
    "duration": 5,
    "start_time": "2023-04-20T14:53:48.029Z"
   },
   {
    "duration": 10,
    "start_time": "2023-04-20T14:53:49.070Z"
   },
   {
    "duration": 18,
    "start_time": "2023-04-20T14:53:50.298Z"
   },
   {
    "duration": 13,
    "start_time": "2023-04-20T14:53:50.839Z"
   },
   {
    "duration": 3,
    "start_time": "2023-04-20T14:53:52.036Z"
   },
   {
    "duration": 7,
    "start_time": "2023-04-20T14:53:52.744Z"
   },
   {
    "duration": 17,
    "start_time": "2023-04-20T14:53:53.216Z"
   },
   {
    "duration": 16,
    "start_time": "2023-04-20T14:53:53.817Z"
   },
   {
    "duration": 7,
    "start_time": "2023-04-20T14:53:55.017Z"
   },
   {
    "duration": 9,
    "start_time": "2023-04-20T14:53:55.550Z"
   },
   {
    "duration": 6,
    "start_time": "2023-04-20T14:53:56.018Z"
   },
   {
    "duration": 59,
    "start_time": "2023-04-20T14:53:56.709Z"
   },
   {
    "duration": 74,
    "start_time": "2023-04-20T14:53:58.077Z"
   },
   {
    "duration": 22,
    "start_time": "2023-04-20T14:53:58.697Z"
   },
   {
    "duration": 19,
    "start_time": "2023-04-20T14:53:59.217Z"
   },
   {
    "duration": 143,
    "start_time": "2023-04-20T14:53:59.899Z"
   },
   {
    "duration": 23,
    "start_time": "2023-04-20T14:54:00.549Z"
   },
   {
    "duration": 34,
    "start_time": "2023-04-20T14:54:01.382Z"
   },
   {
    "duration": 147,
    "start_time": "2023-04-20T14:54:02.373Z"
   },
   {
    "duration": 35,
    "start_time": "2023-04-20T14:54:03.012Z"
   },
   {
    "duration": 27,
    "start_time": "2023-04-20T14:54:03.802Z"
   },
   {
    "duration": 120,
    "start_time": "2023-04-20T14:54:04.601Z"
   },
   {
    "duration": 9,
    "start_time": "2023-04-20T14:54:29.374Z"
   },
   {
    "duration": 13,
    "start_time": "2023-04-20T14:54:29.903Z"
   },
   {
    "duration": 9,
    "start_time": "2023-04-20T14:54:33.705Z"
   },
   {
    "duration": 12,
    "start_time": "2023-04-20T14:54:34.647Z"
   },
   {
    "duration": 14,
    "start_time": "2023-04-20T14:54:35.077Z"
   },
   {
    "duration": 3,
    "start_time": "2023-04-20T14:54:36.129Z"
   },
   {
    "duration": 6,
    "start_time": "2023-04-20T14:54:36.747Z"
   },
   {
    "duration": 15,
    "start_time": "2023-04-20T14:54:37.976Z"
   },
   {
    "duration": 16,
    "start_time": "2023-04-20T14:54:38.577Z"
   },
   {
    "duration": 6,
    "start_time": "2023-04-20T14:54:40.984Z"
   },
   {
    "duration": 7,
    "start_time": "2023-04-20T14:54:41.277Z"
   },
   {
    "duration": 7,
    "start_time": "2023-04-20T14:54:41.730Z"
   },
   {
    "duration": 29,
    "start_time": "2023-04-20T14:54:42.381Z"
   },
   {
    "duration": 80,
    "start_time": "2023-04-20T14:54:42.942Z"
   },
   {
    "duration": 27,
    "start_time": "2023-04-20T14:54:43.401Z"
   },
   {
    "duration": 18,
    "start_time": "2023-04-20T14:54:43.830Z"
   },
   {
    "duration": 130,
    "start_time": "2023-04-20T14:54:44.233Z"
   },
   {
    "duration": 15,
    "start_time": "2023-04-20T14:54:44.679Z"
   },
   {
    "duration": 40,
    "start_time": "2023-04-20T14:54:45.174Z"
   },
   {
    "duration": 124,
    "start_time": "2023-04-20T14:54:45.671Z"
   },
   {
    "duration": 22,
    "start_time": "2023-04-20T14:54:46.225Z"
   },
   {
    "duration": 26,
    "start_time": "2023-04-20T14:54:46.823Z"
   },
   {
    "duration": 147,
    "start_time": "2023-04-20T14:54:47.428Z"
   },
   {
    "duration": 19,
    "start_time": "2023-04-20T14:54:48.075Z"
   },
   {
    "duration": 17,
    "start_time": "2023-04-20T14:54:48.659Z"
   },
   {
    "duration": 16,
    "start_time": "2023-04-20T14:54:49.274Z"
   },
   {
    "duration": 46,
    "start_time": "2023-04-20T14:54:50.050Z"
   },
   {
    "duration": 8,
    "start_time": "2023-04-20T14:54:51.434Z"
   },
   {
    "duration": 5,
    "start_time": "2023-04-20T14:54:58.491Z"
   },
   {
    "duration": 24,
    "start_time": "2023-04-20T14:55:08.217Z"
   },
   {
    "duration": 9,
    "start_time": "2023-04-20T14:55:08.559Z"
   },
   {
    "duration": 9,
    "start_time": "2023-04-20T14:55:09.282Z"
   },
   {
    "duration": 4,
    "start_time": "2023-04-20T14:55:10.552Z"
   },
   {
    "duration": 5,
    "start_time": "2023-04-20T14:55:11.125Z"
   },
   {
    "duration": 3,
    "start_time": "2023-04-20T14:55:11.892Z"
   },
   {
    "duration": 19,
    "start_time": "2023-04-20T14:55:12.482Z"
   },
   {
    "duration": 5,
    "start_time": "2023-04-20T14:55:13.060Z"
   },
   {
    "duration": 6,
    "start_time": "2023-04-20T14:55:13.518Z"
   },
   {
    "duration": 7,
    "start_time": "2023-04-20T14:55:14.142Z"
   },
   {
    "duration": 7,
    "start_time": "2023-04-20T14:55:14.698Z"
   },
   {
    "duration": 4,
    "start_time": "2023-04-20T14:55:16.299Z"
   },
   {
    "duration": 6,
    "start_time": "2023-04-20T14:55:16.522Z"
   },
   {
    "duration": 9,
    "start_time": "2023-04-20T14:55:17.602Z"
   },
   {
    "duration": 6,
    "start_time": "2023-04-20T14:55:22.501Z"
   },
   {
    "duration": 186,
    "start_time": "2023-04-20T14:55:23.185Z"
   },
   {
    "duration": 15,
    "start_time": "2023-04-20T14:55:24.004Z"
   },
   {
    "duration": 10,
    "start_time": "2023-04-20T14:55:52.842Z"
   },
   {
    "duration": 5,
    "start_time": "2023-04-20T14:55:55.770Z"
   },
   {
    "duration": 23,
    "start_time": "2023-04-20T14:55:56.470Z"
   },
   {
    "duration": 4,
    "start_time": "2023-04-20T14:56:55.306Z"
   },
   {
    "duration": 4,
    "start_time": "2023-04-20T14:56:59.725Z"
   },
   {
    "duration": 4,
    "start_time": "2023-04-20T14:57:04.937Z"
   },
   {
    "duration": 4,
    "start_time": "2023-04-20T14:57:10.571Z"
   },
   {
    "duration": 53,
    "start_time": "2023-04-20T14:57:13.697Z"
   },
   {
    "duration": 8,
    "start_time": "2023-04-20T14:57:15.462Z"
   },
   {
    "duration": 3,
    "start_time": "2023-04-20T14:57:43.209Z"
   },
   {
    "duration": 263,
    "start_time": "2023-04-20T14:57:47.938Z"
   },
   {
    "duration": 270,
    "start_time": "2023-04-20T14:57:56.348Z"
   },
   {
    "duration": 7,
    "start_time": "2023-04-20T14:58:00.182Z"
   },
   {
    "duration": 7,
    "start_time": "2023-04-20T14:58:00.613Z"
   },
   {
    "duration": 186,
    "start_time": "2023-04-20T14:58:01.322Z"
   },
   {
    "duration": 175,
    "start_time": "2023-04-20T14:58:02.096Z"
   },
   {
    "duration": 6,
    "start_time": "2023-04-20T14:58:03.024Z"
   },
   {
    "duration": 1382,
    "start_time": "2023-04-21T13:24:36.367Z"
   },
   {
    "duration": 345,
    "start_time": "2023-04-21T13:24:37.751Z"
   },
   {
    "duration": 161,
    "start_time": "2023-04-21T13:24:38.097Z"
   },
   {
    "duration": 21,
    "start_time": "2023-04-21T13:24:42.759Z"
   },
   {
    "duration": 19,
    "start_time": "2023-04-21T13:24:45.047Z"
   },
   {
    "duration": 191,
    "start_time": "2023-04-21T15:23:35.777Z"
   },
   {
    "duration": 48,
    "start_time": "2023-04-21T15:31:55.739Z"
   },
   {
    "duration": 9,
    "start_time": "2023-04-21T15:31:59.817Z"
   },
   {
    "duration": 1518,
    "start_time": "2023-04-21T15:32:03.043Z"
   },
   {
    "duration": 207,
    "start_time": "2023-04-21T15:32:04.563Z"
   },
   {
    "duration": 131,
    "start_time": "2023-04-21T15:32:04.772Z"
   },
   {
    "duration": 27,
    "start_time": "2023-04-21T15:32:04.906Z"
   },
   {
    "duration": 32,
    "start_time": "2023-04-21T15:32:04.935Z"
   },
   {
    "duration": 22,
    "start_time": "2023-04-21T15:32:04.969Z"
   },
   {
    "duration": 5,
    "start_time": "2023-04-21T15:32:04.993Z"
   },
   {
    "duration": 45,
    "start_time": "2023-04-21T15:32:05.000Z"
   },
   {
    "duration": 38,
    "start_time": "2023-04-21T15:32:05.047Z"
   },
   {
    "duration": 49,
    "start_time": "2023-04-21T15:32:05.087Z"
   },
   {
    "duration": 24,
    "start_time": "2023-04-21T15:32:05.139Z"
   },
   {
    "duration": 33,
    "start_time": "2023-04-21T15:32:05.165Z"
   },
   {
    "duration": 55,
    "start_time": "2023-04-21T15:32:05.201Z"
   },
   {
    "duration": 72,
    "start_time": "2023-04-21T15:32:05.258Z"
   },
   {
    "duration": 42,
    "start_time": "2023-04-21T15:32:05.332Z"
   },
   {
    "duration": 123,
    "start_time": "2023-04-21T15:32:05.376Z"
   },
   {
    "duration": 117,
    "start_time": "2023-04-21T15:32:05.502Z"
   },
   {
    "duration": 5,
    "start_time": "2023-04-21T15:32:15.489Z"
   },
   {
    "duration": 5,
    "start_time": "2023-04-21T15:32:18.856Z"
   },
   {
    "duration": 6,
    "start_time": "2023-04-21T15:32:24.746Z"
   },
   {
    "duration": 7,
    "start_time": "2023-04-21T15:32:27.352Z"
   },
   {
    "duration": 6,
    "start_time": "2023-04-21T15:32:33.371Z"
   },
   {
    "duration": 4,
    "start_time": "2023-04-21T15:32:36.299Z"
   },
   {
    "duration": 5,
    "start_time": "2023-04-21T15:32:39.159Z"
   },
   {
    "duration": 6,
    "start_time": "2023-04-21T15:33:02.139Z"
   },
   {
    "duration": 5,
    "start_time": "2023-04-21T15:33:10.188Z"
   },
   {
    "duration": 5,
    "start_time": "2023-04-21T15:33:17.592Z"
   },
   {
    "duration": 5,
    "start_time": "2023-04-21T15:33:21.922Z"
   },
   {
    "duration": 100,
    "start_time": "2023-04-21T15:33:29.600Z"
   },
   {
    "duration": 6,
    "start_time": "2023-04-21T15:33:35.839Z"
   },
   {
    "duration": 5,
    "start_time": "2023-04-21T15:33:37.880Z"
   },
   {
    "duration": 7,
    "start_time": "2023-04-21T15:36:46.320Z"
   },
   {
    "duration": 8,
    "start_time": "2023-04-21T15:37:05.375Z"
   },
   {
    "duration": 11,
    "start_time": "2023-04-21T15:37:19.324Z"
   },
   {
    "duration": 48,
    "start_time": "2023-04-21T15:38:55.162Z"
   },
   {
    "duration": 9,
    "start_time": "2023-04-21T15:39:00.195Z"
   },
   {
    "duration": 79,
    "start_time": "2023-04-21T15:39:15.910Z"
   },
   {
    "duration": 17,
    "start_time": "2023-04-21T15:39:18.942Z"
   },
   {
    "duration": 145,
    "start_time": "2023-04-21T15:39:24.796Z"
   },
   {
    "duration": 162,
    "start_time": "2023-04-21T15:39:53.118Z"
   },
   {
    "duration": 164,
    "start_time": "2023-04-21T15:39:55.207Z"
   },
   {
    "duration": 9,
    "start_time": "2023-04-21T15:41:17.880Z"
   },
   {
    "duration": 11,
    "start_time": "2023-04-21T15:41:20.491Z"
   },
   {
    "duration": 10,
    "start_time": "2023-04-21T15:41:53.825Z"
   },
   {
    "duration": 168,
    "start_time": "2023-04-21T15:42:11.648Z"
   },
   {
    "duration": 11,
    "start_time": "2023-04-21T15:47:31.819Z"
   },
   {
    "duration": 4,
    "start_time": "2023-04-21T15:47:58.451Z"
   },
   {
    "duration": 4,
    "start_time": "2023-04-21T15:48:02.319Z"
   },
   {
    "duration": 13,
    "start_time": "2023-04-21T15:48:58.935Z"
   },
   {
    "duration": 14,
    "start_time": "2023-04-21T15:49:05.143Z"
   },
   {
    "duration": 4,
    "start_time": "2023-04-21T15:49:05.628Z"
   },
   {
    "duration": 13,
    "start_time": "2023-04-21T15:49:13.578Z"
   },
   {
    "duration": 14,
    "start_time": "2023-04-21T15:49:34.317Z"
   },
   {
    "duration": 1305,
    "start_time": "2023-04-21T15:49:38.548Z"
   },
   {
    "duration": 96,
    "start_time": "2023-04-21T15:49:39.855Z"
   },
   {
    "duration": 52,
    "start_time": "2023-04-21T15:49:39.954Z"
   },
   {
    "duration": 104,
    "start_time": "2023-04-21T15:49:40.009Z"
   },
   {
    "duration": 27,
    "start_time": "2023-04-21T15:49:40.115Z"
   },
   {
    "duration": 45,
    "start_time": "2023-04-21T15:49:40.144Z"
   },
   {
    "duration": 10,
    "start_time": "2023-04-21T15:49:40.191Z"
   },
   {
    "duration": 28,
    "start_time": "2023-04-21T15:49:40.203Z"
   },
   {
    "duration": 29,
    "start_time": "2023-04-21T15:49:40.233Z"
   },
   {
    "duration": 18,
    "start_time": "2023-04-21T15:49:40.264Z"
   },
   {
    "duration": 22,
    "start_time": "2023-04-21T15:49:40.284Z"
   },
   {
    "duration": 27,
    "start_time": "2023-04-21T15:49:40.308Z"
   },
   {
    "duration": 30,
    "start_time": "2023-04-21T15:49:40.337Z"
   },
   {
    "duration": 42,
    "start_time": "2023-04-21T15:49:40.369Z"
   },
   {
    "duration": 32,
    "start_time": "2023-04-21T15:49:40.412Z"
   },
   {
    "duration": 20,
    "start_time": "2023-04-21T15:49:40.446Z"
   },
   {
    "duration": 19,
    "start_time": "2023-04-21T15:49:40.468Z"
   },
   {
    "duration": 36,
    "start_time": "2023-04-21T15:49:40.489Z"
   },
   {
    "duration": 33,
    "start_time": "2023-04-21T15:49:40.527Z"
   },
   {
    "duration": 10,
    "start_time": "2023-04-21T15:49:40.562Z"
   },
   {
    "duration": 17,
    "start_time": "2023-04-21T15:49:40.574Z"
   },
   {
    "duration": 21,
    "start_time": "2023-04-21T15:49:40.593Z"
   },
   {
    "duration": 26,
    "start_time": "2023-04-21T15:49:40.616Z"
   },
   {
    "duration": 21,
    "start_time": "2023-04-21T15:49:40.644Z"
   },
   {
    "duration": 25,
    "start_time": "2023-04-21T15:49:40.667Z"
   },
   {
    "duration": 56,
    "start_time": "2023-04-21T15:49:40.694Z"
   },
   {
    "duration": 87,
    "start_time": "2023-04-21T15:49:40.752Z"
   },
   {
    "duration": 111,
    "start_time": "2023-04-21T15:49:40.843Z"
   },
   {
    "duration": 26,
    "start_time": "2023-04-21T15:49:40.956Z"
   },
   {
    "duration": 24,
    "start_time": "2023-04-21T15:49:40.984Z"
   },
   {
    "duration": 171,
    "start_time": "2023-04-21T15:49:41.042Z"
   },
   {
    "duration": 28,
    "start_time": "2023-04-21T15:49:41.215Z"
   },
   {
    "duration": 41,
    "start_time": "2023-04-21T15:49:41.246Z"
   },
   {
    "duration": 175,
    "start_time": "2023-04-21T15:49:41.289Z"
   },
   {
    "duration": 31,
    "start_time": "2023-04-21T15:49:41.467Z"
   },
   {
    "duration": 62,
    "start_time": "2023-04-21T15:49:41.500Z"
   },
   {
    "duration": 162,
    "start_time": "2023-04-21T15:49:41.564Z"
   },
   {
    "duration": 28,
    "start_time": "2023-04-21T15:49:41.728Z"
   },
   {
    "duration": 15,
    "start_time": "2023-04-21T15:49:41.759Z"
   },
   {
    "duration": 26,
    "start_time": "2023-04-21T15:49:41.776Z"
   },
   {
    "duration": 57,
    "start_time": "2023-04-21T15:49:41.804Z"
   },
   {
    "duration": 11,
    "start_time": "2023-04-21T15:49:41.863Z"
   },
   {
    "duration": 35,
    "start_time": "2023-04-21T15:49:41.877Z"
   },
   {
    "duration": 27,
    "start_time": "2023-04-21T15:49:41.914Z"
   },
   {
    "duration": 18,
    "start_time": "2023-04-21T15:49:41.944Z"
   },
   {
    "duration": 197,
    "start_time": "2023-04-21T15:49:41.964Z"
   },
   {
    "duration": 6,
    "start_time": "2023-04-21T15:49:42.163Z"
   },
   {
    "duration": 4,
    "start_time": "2023-04-21T15:49:45.864Z"
   },
   {
    "duration": 19,
    "start_time": "2023-04-21T15:49:46.264Z"
   },
   {
    "duration": 5,
    "start_time": "2023-04-21T15:49:46.979Z"
   },
   {
    "duration": 171,
    "start_time": "2023-04-21T15:50:27.636Z"
   },
   {
    "duration": 173,
    "start_time": "2023-04-21T15:50:42.824Z"
   },
   {
    "duration": 169,
    "start_time": "2023-04-21T15:52:26.179Z"
   },
   {
    "duration": 29,
    "start_time": "2023-04-21T15:54:01.208Z"
   },
   {
    "duration": 1388,
    "start_time": "2023-04-21T15:54:14.593Z"
   },
   {
    "duration": 122,
    "start_time": "2023-04-21T15:54:15.985Z"
   },
   {
    "duration": 56,
    "start_time": "2023-04-21T15:54:16.110Z"
   },
   {
    "duration": 40,
    "start_time": "2023-04-21T15:54:16.169Z"
   },
   {
    "duration": 51,
    "start_time": "2023-04-21T15:54:16.212Z"
   },
   {
    "duration": 39,
    "start_time": "2023-04-21T15:54:16.269Z"
   },
   {
    "duration": 24,
    "start_time": "2023-04-21T15:54:16.310Z"
   },
   {
    "duration": 49,
    "start_time": "2023-04-21T15:54:16.337Z"
   },
   {
    "duration": 10,
    "start_time": "2023-04-21T15:54:16.388Z"
   },
   {
    "duration": 37,
    "start_time": "2023-04-21T15:54:16.402Z"
   },
   {
    "duration": 35,
    "start_time": "2023-04-21T15:54:16.442Z"
   },
   {
    "duration": 58,
    "start_time": "2023-04-21T15:54:16.479Z"
   },
   {
    "duration": 47,
    "start_time": "2023-04-21T15:54:16.540Z"
   },
   {
    "duration": 25,
    "start_time": "2023-04-21T15:54:16.589Z"
   },
   {
    "duration": 44,
    "start_time": "2023-04-21T15:54:16.617Z"
   },
   {
    "duration": 37,
    "start_time": "2023-04-21T15:54:16.664Z"
   },
   {
    "duration": 20,
    "start_time": "2023-04-21T15:54:16.703Z"
   },
   {
    "duration": 25,
    "start_time": "2023-04-21T15:54:16.725Z"
   },
   {
    "duration": 30,
    "start_time": "2023-04-21T15:54:16.753Z"
   },
   {
    "duration": 17,
    "start_time": "2023-04-21T15:54:16.786Z"
   },
   {
    "duration": 45,
    "start_time": "2023-04-21T15:54:16.805Z"
   },
   {
    "duration": 33,
    "start_time": "2023-04-21T15:54:16.853Z"
   },
   {
    "duration": 25,
    "start_time": "2023-04-21T15:54:16.888Z"
   },
   {
    "duration": 33,
    "start_time": "2023-04-21T15:54:16.915Z"
   },
   {
    "duration": 16,
    "start_time": "2023-04-21T15:54:16.950Z"
   },
   {
    "duration": 14,
    "start_time": "2023-04-21T15:54:16.969Z"
   },
   {
    "duration": 53,
    "start_time": "2023-04-21T15:54:16.985Z"
   },
   {
    "duration": 88,
    "start_time": "2023-04-21T15:54:17.090Z"
   },
   {
    "duration": 28,
    "start_time": "2023-04-21T15:54:17.180Z"
   },
   {
    "duration": 49,
    "start_time": "2023-04-21T15:54:17.210Z"
   },
   {
    "duration": 182,
    "start_time": "2023-04-21T15:54:17.261Z"
   },
   {
    "duration": 18,
    "start_time": "2023-04-21T15:54:17.445Z"
   },
   {
    "duration": 49,
    "start_time": "2023-04-21T15:54:17.465Z"
   },
   {
    "duration": 185,
    "start_time": "2023-04-21T15:54:17.517Z"
   },
   {
    "duration": 47,
    "start_time": "2023-04-21T15:54:17.705Z"
   },
   {
    "duration": 36,
    "start_time": "2023-04-21T15:54:17.755Z"
   },
   {
    "duration": 178,
    "start_time": "2023-04-21T15:54:17.793Z"
   },
   {
    "duration": 24,
    "start_time": "2023-04-21T15:54:17.973Z"
   },
   {
    "duration": 17,
    "start_time": "2023-04-21T15:54:17.999Z"
   },
   {
    "duration": 23,
    "start_time": "2023-04-21T15:54:18.042Z"
   },
   {
    "duration": 32,
    "start_time": "2023-04-21T15:54:18.067Z"
   },
   {
    "duration": 41,
    "start_time": "2023-04-21T15:54:18.101Z"
   },
   {
    "duration": 68,
    "start_time": "2023-04-21T15:54:18.144Z"
   },
   {
    "duration": 11,
    "start_time": "2023-04-21T15:54:18.214Z"
   },
   {
    "duration": 20,
    "start_time": "2023-04-21T15:54:18.227Z"
   },
   {
    "duration": 192,
    "start_time": "2023-04-21T15:54:18.249Z"
   },
   {
    "duration": 17,
    "start_time": "2023-04-21T15:54:18.443Z"
   },
   {
    "duration": 190,
    "start_time": "2023-04-21T15:54:18.462Z"
   },
   {
    "duration": 5,
    "start_time": "2023-04-21T15:54:20.600Z"
   },
   {
    "duration": 16,
    "start_time": "2023-04-21T15:54:21.105Z"
   },
   {
    "duration": 4,
    "start_time": "2023-04-21T15:54:21.506Z"
   },
   {
    "duration": 165,
    "start_time": "2023-04-21T15:56:40.878Z"
   },
   {
    "duration": 184,
    "start_time": "2023-04-21T15:56:41.759Z"
   },
   {
    "duration": 19,
    "start_time": "2023-04-21T15:57:03.177Z"
   },
   {
    "duration": 16,
    "start_time": "2023-04-21T15:57:48.076Z"
   },
   {
    "duration": 167,
    "start_time": "2023-04-21T15:57:48.626Z"
   },
   {
    "duration": 194,
    "start_time": "2023-04-21T15:57:53.430Z"
   },
   {
    "duration": 1412,
    "start_time": "2023-04-21T15:57:59.682Z"
   },
   {
    "duration": 104,
    "start_time": "2023-04-21T15:58:01.097Z"
   },
   {
    "duration": 43,
    "start_time": "2023-04-21T15:58:01.203Z"
   },
   {
    "duration": 81,
    "start_time": "2023-04-21T15:58:01.250Z"
   },
   {
    "duration": 52,
    "start_time": "2023-04-21T15:58:01.334Z"
   },
   {
    "duration": 52,
    "start_time": "2023-04-21T15:58:01.388Z"
   },
   {
    "duration": 104,
    "start_time": "2023-04-21T15:58:01.442Z"
   },
   {
    "duration": 58,
    "start_time": "2023-04-21T15:58:01.548Z"
   },
   {
    "duration": 25,
    "start_time": "2023-04-21T15:58:01.608Z"
   },
   {
    "duration": 56,
    "start_time": "2023-04-21T15:58:01.636Z"
   },
   {
    "duration": 29,
    "start_time": "2023-04-21T15:58:01.694Z"
   },
   {
    "duration": 51,
    "start_time": "2023-04-21T15:58:01.725Z"
   },
   {
    "duration": 59,
    "start_time": "2023-04-21T15:58:01.779Z"
   },
   {
    "duration": 23,
    "start_time": "2023-04-21T15:58:01.840Z"
   },
   {
    "duration": 35,
    "start_time": "2023-04-21T15:58:01.865Z"
   },
   {
    "duration": 8,
    "start_time": "2023-04-21T15:58:01.903Z"
   },
   {
    "duration": 48,
    "start_time": "2023-04-21T15:58:01.913Z"
   },
   {
    "duration": 66,
    "start_time": "2023-04-21T15:58:01.963Z"
   },
   {
    "duration": 43,
    "start_time": "2023-04-21T15:58:02.031Z"
   },
   {
    "duration": 21,
    "start_time": "2023-04-21T15:58:02.079Z"
   },
   {
    "duration": 17,
    "start_time": "2023-04-21T15:58:02.103Z"
   },
   {
    "duration": 42,
    "start_time": "2023-04-21T15:58:02.122Z"
   },
   {
    "duration": 85,
    "start_time": "2023-04-21T15:58:02.167Z"
   },
   {
    "duration": 23,
    "start_time": "2023-04-21T15:58:02.254Z"
   },
   {
    "duration": 20,
    "start_time": "2023-04-21T15:58:02.280Z"
   },
   {
    "duration": 24,
    "start_time": "2023-04-21T15:58:02.302Z"
   },
   {
    "duration": 104,
    "start_time": "2023-04-21T15:58:02.327Z"
   },
   {
    "duration": 164,
    "start_time": "2023-04-21T15:58:02.436Z"
   },
   {
    "duration": 46,
    "start_time": "2023-04-21T15:58:02.602Z"
   },
   {
    "duration": 37,
    "start_time": "2023-04-21T15:58:02.650Z"
   },
   {
    "duration": 227,
    "start_time": "2023-04-21T15:58:02.689Z"
   },
   {
    "duration": 31,
    "start_time": "2023-04-21T15:58:02.919Z"
   },
   {
    "duration": 72,
    "start_time": "2023-04-21T15:58:02.953Z"
   },
   {
    "duration": 187,
    "start_time": "2023-04-21T15:58:03.027Z"
   },
   {
    "duration": 47,
    "start_time": "2023-04-21T15:58:03.216Z"
   },
   {
    "duration": 36,
    "start_time": "2023-04-21T15:58:03.265Z"
   },
   {
    "duration": 175,
    "start_time": "2023-04-21T15:58:03.304Z"
   },
   {
    "duration": 21,
    "start_time": "2023-04-21T15:58:03.481Z"
   },
   {
    "duration": 37,
    "start_time": "2023-04-21T15:58:03.504Z"
   },
   {
    "duration": 28,
    "start_time": "2023-04-21T15:58:03.544Z"
   },
   {
    "duration": 28,
    "start_time": "2023-04-21T15:58:03.574Z"
   },
   {
    "duration": 38,
    "start_time": "2023-04-21T15:58:03.604Z"
   },
   {
    "duration": 44,
    "start_time": "2023-04-21T15:58:03.644Z"
   },
   {
    "duration": 29,
    "start_time": "2023-04-21T15:58:03.690Z"
   },
   {
    "duration": 25,
    "start_time": "2023-04-21T15:58:03.721Z"
   },
   {
    "duration": 197,
    "start_time": "2023-04-21T15:58:09.163Z"
   },
   {
    "duration": 18,
    "start_time": "2023-04-21T15:58:10.075Z"
   },
   {
    "duration": 172,
    "start_time": "2023-04-21T15:58:10.816Z"
   },
   {
    "duration": 1372,
    "start_time": "2023-04-21T15:58:26.205Z"
   },
   {
    "duration": 98,
    "start_time": "2023-04-21T15:58:27.579Z"
   },
   {
    "duration": 40,
    "start_time": "2023-04-21T15:58:27.679Z"
   },
   {
    "duration": 31,
    "start_time": "2023-04-21T15:58:27.722Z"
   },
   {
    "duration": 24,
    "start_time": "2023-04-21T15:58:27.756Z"
   },
   {
    "duration": 32,
    "start_time": "2023-04-21T15:58:27.782Z"
   },
   {
    "duration": 28,
    "start_time": "2023-04-21T15:58:27.816Z"
   },
   {
    "duration": 23,
    "start_time": "2023-04-21T15:58:27.846Z"
   },
   {
    "duration": 9,
    "start_time": "2023-04-21T15:58:27.871Z"
   },
   {
    "duration": 19,
    "start_time": "2023-04-21T15:58:27.883Z"
   },
   {
    "duration": 22,
    "start_time": "2023-04-21T15:58:27.904Z"
   },
   {
    "duration": 11,
    "start_time": "2023-04-21T15:58:27.928Z"
   },
   {
    "duration": 28,
    "start_time": "2023-04-21T15:58:27.941Z"
   },
   {
    "duration": 13,
    "start_time": "2023-04-21T15:58:27.972Z"
   },
   {
    "duration": 24,
    "start_time": "2023-04-21T15:58:27.987Z"
   },
   {
    "duration": 25,
    "start_time": "2023-04-21T15:58:28.014Z"
   },
   {
    "duration": 40,
    "start_time": "2023-04-21T15:58:28.041Z"
   },
   {
    "duration": 26,
    "start_time": "2023-04-21T15:58:28.083Z"
   },
   {
    "duration": 33,
    "start_time": "2023-04-21T15:58:28.111Z"
   },
   {
    "duration": 8,
    "start_time": "2023-04-21T15:58:28.146Z"
   },
   {
    "duration": 12,
    "start_time": "2023-04-21T15:58:28.156Z"
   },
   {
    "duration": 46,
    "start_time": "2023-04-21T15:58:28.171Z"
   },
   {
    "duration": 23,
    "start_time": "2023-04-21T15:58:28.219Z"
   },
   {
    "duration": 20,
    "start_time": "2023-04-21T15:58:28.243Z"
   },
   {
    "duration": 11,
    "start_time": "2023-04-21T15:58:28.264Z"
   },
   {
    "duration": 16,
    "start_time": "2023-04-21T15:58:28.277Z"
   },
   {
    "duration": 46,
    "start_time": "2023-04-21T15:58:28.295Z"
   },
   {
    "duration": 176,
    "start_time": "2023-04-21T15:58:28.380Z"
   },
   {
    "duration": 40,
    "start_time": "2023-04-21T15:58:28.559Z"
   },
   {
    "duration": 69,
    "start_time": "2023-04-21T15:58:28.602Z"
   },
   {
    "duration": 304,
    "start_time": "2023-04-21T15:58:28.674Z"
   },
   {
    "duration": 20,
    "start_time": "2023-04-21T15:58:28.980Z"
   },
   {
    "duration": 78,
    "start_time": "2023-04-21T15:58:29.003Z"
   },
   {
    "duration": 190,
    "start_time": "2023-04-21T15:58:29.084Z"
   },
   {
    "duration": 28,
    "start_time": "2023-04-21T15:58:29.276Z"
   },
   {
    "duration": 60,
    "start_time": "2023-04-21T15:58:29.306Z"
   },
   {
    "duration": 160,
    "start_time": "2023-04-21T15:58:29.368Z"
   },
   {
    "duration": 28,
    "start_time": "2023-04-21T15:58:29.530Z"
   },
   {
    "duration": 18,
    "start_time": "2023-04-21T15:58:29.560Z"
   },
   {
    "duration": 24,
    "start_time": "2023-04-21T15:58:29.580Z"
   },
   {
    "duration": 29,
    "start_time": "2023-04-21T15:58:29.641Z"
   },
   {
    "duration": 10,
    "start_time": "2023-04-21T15:58:29.672Z"
   },
   {
    "duration": 28,
    "start_time": "2023-04-21T15:58:29.685Z"
   },
   {
    "duration": 34,
    "start_time": "2023-04-21T15:58:29.715Z"
   },
   {
    "duration": 22,
    "start_time": "2023-04-21T15:58:29.752Z"
   },
   {
    "duration": 205,
    "start_time": "2023-04-21T15:58:36.794Z"
   },
   {
    "duration": 19,
    "start_time": "2023-04-21T15:58:37.645Z"
   },
   {
    "duration": 193,
    "start_time": "2023-04-21T15:58:38.434Z"
   },
   {
    "duration": 17,
    "start_time": "2023-04-21T15:58:39.181Z"
   },
   {
    "duration": 112,
    "start_time": "2023-04-21T15:59:01.159Z"
   },
   {
    "duration": 159,
    "start_time": "2023-04-21T15:59:30.811Z"
   },
   {
    "duration": 145,
    "start_time": "2023-04-21T15:59:49.916Z"
   },
   {
    "duration": 159,
    "start_time": "2023-04-21T15:59:53.530Z"
   },
   {
    "duration": 1382,
    "start_time": "2023-04-21T16:00:11.526Z"
   },
   {
    "duration": 98,
    "start_time": "2023-04-21T16:00:12.911Z"
   },
   {
    "duration": 41,
    "start_time": "2023-04-21T16:00:13.011Z"
   },
   {
    "duration": 28,
    "start_time": "2023-04-21T16:00:13.054Z"
   },
   {
    "duration": 29,
    "start_time": "2023-04-21T16:00:13.085Z"
   },
   {
    "duration": 32,
    "start_time": "2023-04-21T16:00:13.116Z"
   },
   {
    "duration": 25,
    "start_time": "2023-04-21T16:00:13.151Z"
   },
   {
    "duration": 38,
    "start_time": "2023-04-21T16:00:13.179Z"
   },
   {
    "duration": 12,
    "start_time": "2023-04-21T16:00:13.220Z"
   },
   {
    "duration": 22,
    "start_time": "2023-04-21T16:00:13.235Z"
   },
   {
    "duration": 57,
    "start_time": "2023-04-21T16:00:13.260Z"
   },
   {
    "duration": 40,
    "start_time": "2023-04-21T16:00:13.320Z"
   },
   {
    "duration": 47,
    "start_time": "2023-04-21T16:00:13.363Z"
   },
   {
    "duration": 44,
    "start_time": "2023-04-21T16:00:13.413Z"
   },
   {
    "duration": 35,
    "start_time": "2023-04-21T16:00:13.459Z"
   },
   {
    "duration": 19,
    "start_time": "2023-04-21T16:00:13.496Z"
   },
   {
    "duration": 21,
    "start_time": "2023-04-21T16:00:13.517Z"
   },
   {
    "duration": 57,
    "start_time": "2023-04-21T16:00:13.540Z"
   },
   {
    "duration": 78,
    "start_time": "2023-04-21T16:00:13.599Z"
   },
   {
    "duration": 42,
    "start_time": "2023-04-21T16:00:13.680Z"
   },
   {
    "duration": 25,
    "start_time": "2023-04-21T16:00:13.724Z"
   },
   {
    "duration": 35,
    "start_time": "2023-04-21T16:00:13.752Z"
   },
   {
    "duration": 56,
    "start_time": "2023-04-21T16:00:13.789Z"
   },
   {
    "duration": 35,
    "start_time": "2023-04-21T16:00:13.847Z"
   },
   {
    "duration": 39,
    "start_time": "2023-04-21T16:00:13.884Z"
   },
   {
    "duration": 30,
    "start_time": "2023-04-21T16:00:13.925Z"
   },
   {
    "duration": 126,
    "start_time": "2023-04-21T16:00:13.957Z"
   },
   {
    "duration": 117,
    "start_time": "2023-04-21T16:00:14.089Z"
   },
   {
    "duration": 43,
    "start_time": "2023-04-21T16:00:14.209Z"
   },
   {
    "duration": 33,
    "start_time": "2023-04-21T16:00:14.255Z"
   },
   {
    "duration": 198,
    "start_time": "2023-04-21T16:00:14.290Z"
   },
   {
    "duration": 18,
    "start_time": "2023-04-21T16:00:14.489Z"
   },
   {
    "duration": 72,
    "start_time": "2023-04-21T16:00:14.510Z"
   },
   {
    "duration": 178,
    "start_time": "2023-04-21T16:00:14.584Z"
   },
   {
    "duration": 31,
    "start_time": "2023-04-21T16:00:14.764Z"
   },
   {
    "duration": 54,
    "start_time": "2023-04-21T16:00:14.797Z"
   },
   {
    "duration": 155,
    "start_time": "2023-04-21T16:00:14.854Z"
   },
   {
    "duration": 33,
    "start_time": "2023-04-21T16:00:15.011Z"
   },
   {
    "duration": 64,
    "start_time": "2023-04-21T16:00:15.046Z"
   },
   {
    "duration": 144,
    "start_time": "2023-04-21T16:00:15.114Z"
   },
   {
    "duration": 104,
    "start_time": "2023-04-21T16:00:15.261Z"
   },
   {
    "duration": 10,
    "start_time": "2023-04-21T16:00:15.368Z"
   },
   {
    "duration": 64,
    "start_time": "2023-04-21T16:00:15.380Z"
   },
   {
    "duration": 37,
    "start_time": "2023-04-21T16:00:15.447Z"
   },
   {
    "duration": 76,
    "start_time": "2023-04-21T16:00:15.487Z"
   },
   {
    "duration": 204,
    "start_time": "2023-04-21T16:00:15.566Z"
   },
   {
    "duration": 16,
    "start_time": "2023-04-21T16:00:15.772Z"
   },
   {
    "duration": 200,
    "start_time": "2023-04-21T16:00:15.790Z"
   },
   {
    "duration": 21,
    "start_time": "2023-04-21T16:00:15.993Z"
   },
   {
    "duration": 165,
    "start_time": "2023-04-21T16:00:19.916Z"
   },
   {
    "duration": 155,
    "start_time": "2023-04-21T16:00:39.570Z"
   },
   {
    "duration": 3,
    "start_time": "2023-04-21T16:00:48.560Z"
   },
   {
    "duration": 126,
    "start_time": "2023-04-21T16:00:48.565Z"
   },
   {
    "duration": 40,
    "start_time": "2023-04-21T16:00:48.693Z"
   },
   {
    "duration": 32,
    "start_time": "2023-04-21T16:00:48.736Z"
   },
   {
    "duration": 19,
    "start_time": "2023-04-21T16:00:48.771Z"
   },
   {
    "duration": 20,
    "start_time": "2023-04-21T16:00:48.792Z"
   },
   {
    "duration": 5,
    "start_time": "2023-04-21T16:00:48.814Z"
   },
   {
    "duration": 31,
    "start_time": "2023-04-21T16:00:48.843Z"
   },
   {
    "duration": 9,
    "start_time": "2023-04-21T16:00:48.876Z"
   },
   {
    "duration": 16,
    "start_time": "2023-04-21T16:00:48.887Z"
   },
   {
    "duration": 11,
    "start_time": "2023-04-21T16:00:48.907Z"
   },
   {
    "duration": 28,
    "start_time": "2023-04-21T16:00:48.920Z"
   },
   {
    "duration": 34,
    "start_time": "2023-04-21T16:00:48.951Z"
   },
   {
    "duration": 16,
    "start_time": "2023-04-21T16:00:48.987Z"
   },
   {
    "duration": 20,
    "start_time": "2023-04-21T16:00:49.005Z"
   },
   {
    "duration": 6,
    "start_time": "2023-04-21T16:00:49.027Z"
   },
   {
    "duration": 19,
    "start_time": "2023-04-21T16:00:49.035Z"
   },
   {
    "duration": 30,
    "start_time": "2023-04-21T16:00:49.057Z"
   },
   {
    "duration": 20,
    "start_time": "2023-04-21T16:00:49.088Z"
   },
   {
    "duration": 5,
    "start_time": "2023-04-21T16:00:49.110Z"
   },
   {
    "duration": 15,
    "start_time": "2023-04-21T16:00:49.117Z"
   },
   {
    "duration": 25,
    "start_time": "2023-04-21T16:00:49.135Z"
   },
   {
    "duration": 20,
    "start_time": "2023-04-21T16:00:49.162Z"
   },
   {
    "duration": 19,
    "start_time": "2023-04-21T16:00:49.184Z"
   },
   {
    "duration": 9,
    "start_time": "2023-04-21T16:00:49.205Z"
   },
   {
    "duration": 25,
    "start_time": "2023-04-21T16:00:49.216Z"
   },
   {
    "duration": 40,
    "start_time": "2023-04-21T16:00:49.243Z"
   },
   {
    "duration": 131,
    "start_time": "2023-04-21T16:00:49.286Z"
   },
   {
    "duration": 44,
    "start_time": "2023-04-21T16:00:49.422Z"
   },
   {
    "duration": 23,
    "start_time": "2023-04-21T16:00:49.469Z"
   },
   {
    "duration": 193,
    "start_time": "2023-04-21T16:00:49.494Z"
   },
   {
    "duration": 16,
    "start_time": "2023-04-21T16:00:49.689Z"
   },
   {
    "duration": 64,
    "start_time": "2023-04-21T16:00:49.707Z"
   },
   {
    "duration": 160,
    "start_time": "2023-04-21T16:00:49.774Z"
   },
   {
    "duration": 39,
    "start_time": "2023-04-21T16:00:49.936Z"
   },
   {
    "duration": 28,
    "start_time": "2023-04-21T16:00:49.977Z"
   },
   {
    "duration": 178,
    "start_time": "2023-04-21T16:00:50.008Z"
   },
   {
    "duration": 22,
    "start_time": "2023-04-21T16:00:50.188Z"
   },
   {
    "duration": 60,
    "start_time": "2023-04-21T16:00:50.212Z"
   },
   {
    "duration": 30,
    "start_time": "2023-04-21T16:00:50.274Z"
   },
   {
    "duration": 31,
    "start_time": "2023-04-21T16:00:50.305Z"
   },
   {
    "duration": 14,
    "start_time": "2023-04-21T16:00:50.338Z"
   },
   {
    "duration": 53,
    "start_time": "2023-04-21T16:00:50.354Z"
   },
   {
    "duration": 30,
    "start_time": "2023-04-21T16:00:50.409Z"
   },
   {
    "duration": 35,
    "start_time": "2023-04-21T16:00:50.442Z"
   },
   {
    "duration": 158,
    "start_time": "2023-04-21T16:00:52.894Z"
   },
   {
    "duration": 18,
    "start_time": "2023-04-21T16:00:55.136Z"
   },
   {
    "duration": 163,
    "start_time": "2023-04-21T16:00:57.428Z"
   },
   {
    "duration": 6,
    "start_time": "2023-04-21T16:01:15.805Z"
   },
   {
    "duration": 1261,
    "start_time": "2023-04-21T16:01:23.397Z"
   },
   {
    "duration": 100,
    "start_time": "2023-04-21T16:01:24.660Z"
   },
   {
    "duration": 41,
    "start_time": "2023-04-21T16:01:24.762Z"
   },
   {
    "duration": 27,
    "start_time": "2023-04-21T16:01:24.805Z"
   },
   {
    "duration": 36,
    "start_time": "2023-04-21T16:01:24.834Z"
   },
   {
    "duration": 26,
    "start_time": "2023-04-21T16:01:24.872Z"
   },
   {
    "duration": 7,
    "start_time": "2023-04-21T16:01:24.900Z"
   },
   {
    "duration": 38,
    "start_time": "2023-04-21T16:01:24.909Z"
   },
   {
    "duration": 6,
    "start_time": "2023-04-21T16:01:24.949Z"
   },
   {
    "duration": 34,
    "start_time": "2023-04-21T16:01:24.958Z"
   },
   {
    "duration": 14,
    "start_time": "2023-04-21T16:01:24.994Z"
   },
   {
    "duration": 26,
    "start_time": "2023-04-21T16:01:25.010Z"
   },
   {
    "duration": 24,
    "start_time": "2023-04-21T16:01:25.038Z"
   },
   {
    "duration": 9,
    "start_time": "2023-04-21T16:01:25.064Z"
   },
   {
    "duration": 32,
    "start_time": "2023-04-21T16:01:25.075Z"
   },
   {
    "duration": 10,
    "start_time": "2023-04-21T16:01:25.108Z"
   },
   {
    "duration": 25,
    "start_time": "2023-04-21T16:01:25.120Z"
   },
   {
    "duration": 22,
    "start_time": "2023-04-21T16:01:25.146Z"
   },
   {
    "duration": 19,
    "start_time": "2023-04-21T16:01:25.170Z"
   },
   {
    "duration": 4,
    "start_time": "2023-04-21T16:01:25.192Z"
   },
   {
    "duration": 14,
    "start_time": "2023-04-21T16:01:25.198Z"
   },
   {
    "duration": 40,
    "start_time": "2023-04-21T16:01:25.215Z"
   },
   {
    "duration": 21,
    "start_time": "2023-04-21T16:01:25.258Z"
   },
   {
    "duration": 11,
    "start_time": "2023-04-21T16:01:25.281Z"
   },
   {
    "duration": 10,
    "start_time": "2023-04-21T16:01:25.295Z"
   },
   {
    "duration": 22,
    "start_time": "2023-04-21T16:01:25.307Z"
   },
   {
    "duration": 65,
    "start_time": "2023-04-21T16:01:25.342Z"
   },
   {
    "duration": 110,
    "start_time": "2023-04-21T16:01:25.412Z"
   },
   {
    "duration": 36,
    "start_time": "2023-04-21T16:01:25.525Z"
   },
   {
    "duration": 23,
    "start_time": "2023-04-21T16:01:25.563Z"
   },
   {
    "duration": 191,
    "start_time": "2023-04-21T16:01:25.589Z"
   },
   {
    "duration": 17,
    "start_time": "2023-04-21T16:01:25.782Z"
   },
   {
    "duration": 54,
    "start_time": "2023-04-21T16:01:25.801Z"
   },
   {
    "duration": 185,
    "start_time": "2023-04-21T16:01:25.857Z"
   },
   {
    "duration": 32,
    "start_time": "2023-04-21T16:01:26.045Z"
   },
   {
    "duration": 35,
    "start_time": "2023-04-21T16:01:26.079Z"
   },
   {
    "duration": 161,
    "start_time": "2023-04-21T16:01:26.142Z"
   },
   {
    "duration": 30,
    "start_time": "2023-04-21T16:01:26.305Z"
   },
   {
    "duration": 16,
    "start_time": "2023-04-21T16:01:26.342Z"
   },
   {
    "duration": 39,
    "start_time": "2023-04-21T16:01:26.361Z"
   },
   {
    "duration": 49,
    "start_time": "2023-04-21T16:01:26.402Z"
   },
   {
    "duration": 10,
    "start_time": "2023-04-21T16:01:26.453Z"
   },
   {
    "duration": 42,
    "start_time": "2023-04-21T16:01:26.464Z"
   },
   {
    "duration": 11,
    "start_time": "2023-04-21T16:01:26.508Z"
   },
   {
    "duration": 36,
    "start_time": "2023-04-21T16:01:26.521Z"
   },
   {
    "duration": 179,
    "start_time": "2023-04-21T16:01:28.623Z"
   },
   {
    "duration": 16,
    "start_time": "2023-04-21T16:01:32.037Z"
   },
   {
    "duration": 5,
    "start_time": "2023-04-21T16:01:32.447Z"
   },
   {
    "duration": 5,
    "start_time": "2023-04-21T16:01:50.622Z"
   },
   {
    "duration": 189,
    "start_time": "2023-04-21T16:02:00.539Z"
   },
   {
    "duration": 5,
    "start_time": "2023-04-21T16:02:21.859Z"
   },
   {
    "duration": 6,
    "start_time": "2023-04-21T16:02:24.938Z"
   },
   {
    "duration": 37,
    "start_time": "2023-04-21T16:02:36.665Z"
   },
   {
    "duration": 33,
    "start_time": "2023-04-21T16:02:42.676Z"
   },
   {
    "duration": 15,
    "start_time": "2023-04-21T16:02:56.006Z"
   },
   {
    "duration": 10,
    "start_time": "2023-04-21T16:03:01.509Z"
   },
   {
    "duration": 30,
    "start_time": "2023-04-21T16:03:08.577Z"
   },
   {
    "duration": 795,
    "start_time": "2023-04-21T16:03:19.416Z"
   },
   {
    "duration": 152,
    "start_time": "2023-04-21T16:03:25.404Z"
   },
   {
    "duration": 1281,
    "start_time": "2023-04-21T16:03:41.402Z"
   },
   {
    "duration": 100,
    "start_time": "2023-04-21T16:03:42.686Z"
   },
   {
    "duration": 41,
    "start_time": "2023-04-21T16:03:42.788Z"
   },
   {
    "duration": 28,
    "start_time": "2023-04-21T16:03:42.831Z"
   },
   {
    "duration": 23,
    "start_time": "2023-04-21T16:03:42.861Z"
   },
   {
    "duration": 19,
    "start_time": "2023-04-21T16:03:42.885Z"
   },
   {
    "duration": 37,
    "start_time": "2023-04-21T16:03:42.906Z"
   },
   {
    "duration": 31,
    "start_time": "2023-04-21T16:03:42.946Z"
   },
   {
    "duration": 7,
    "start_time": "2023-04-21T16:03:42.979Z"
   },
   {
    "duration": 10,
    "start_time": "2023-04-21T16:03:42.990Z"
   },
   {
    "duration": 14,
    "start_time": "2023-04-21T16:03:43.002Z"
   },
   {
    "duration": 29,
    "start_time": "2023-04-21T16:03:43.018Z"
   },
   {
    "duration": 22,
    "start_time": "2023-04-21T16:03:43.049Z"
   },
   {
    "duration": 9,
    "start_time": "2023-04-21T16:03:43.073Z"
   },
   {
    "duration": 21,
    "start_time": "2023-04-21T16:03:43.084Z"
   },
   {
    "duration": 10,
    "start_time": "2023-04-21T16:03:43.107Z"
   },
   {
    "duration": 28,
    "start_time": "2023-04-21T16:03:43.119Z"
   },
   {
    "duration": 43,
    "start_time": "2023-04-21T16:03:43.148Z"
   },
   {
    "duration": 36,
    "start_time": "2023-04-21T16:03:43.194Z"
   },
   {
    "duration": 14,
    "start_time": "2023-04-21T16:03:43.232Z"
   },
   {
    "duration": 23,
    "start_time": "2023-04-21T16:03:43.249Z"
   },
   {
    "duration": 25,
    "start_time": "2023-04-21T16:03:43.274Z"
   },
   {
    "duration": 27,
    "start_time": "2023-04-21T16:03:43.302Z"
   },
   {
    "duration": 19,
    "start_time": "2023-04-21T16:03:43.332Z"
   },
   {
    "duration": 12,
    "start_time": "2023-04-21T16:03:43.353Z"
   },
   {
    "duration": 16,
    "start_time": "2023-04-21T16:03:43.368Z"
   },
   {
    "duration": 42,
    "start_time": "2023-04-21T16:03:43.385Z"
   },
   {
    "duration": 100,
    "start_time": "2023-04-21T16:03:43.458Z"
   },
   {
    "duration": 32,
    "start_time": "2023-04-21T16:03:43.560Z"
   },
   {
    "duration": 47,
    "start_time": "2023-04-21T16:03:43.595Z"
   },
   {
    "duration": 179,
    "start_time": "2023-04-21T16:03:43.645Z"
   },
   {
    "duration": 25,
    "start_time": "2023-04-21T16:03:43.827Z"
   },
   {
    "duration": 34,
    "start_time": "2023-04-21T16:03:43.854Z"
   },
   {
    "duration": 174,
    "start_time": "2023-04-21T16:03:43.890Z"
   },
   {
    "duration": 27,
    "start_time": "2023-04-21T16:03:44.066Z"
   },
   {
    "duration": 51,
    "start_time": "2023-04-21T16:03:44.095Z"
   },
   {
    "duration": 208,
    "start_time": "2023-04-21T16:03:44.148Z"
   },
   {
    "duration": 20,
    "start_time": "2023-04-21T16:03:44.358Z"
   },
   {
    "duration": 20,
    "start_time": "2023-04-21T16:03:44.380Z"
   },
   {
    "duration": 44,
    "start_time": "2023-04-21T16:03:44.402Z"
   },
   {
    "duration": 31,
    "start_time": "2023-04-21T16:03:44.448Z"
   },
   {
    "duration": 10,
    "start_time": "2023-04-21T16:03:44.481Z"
   },
   {
    "duration": 57,
    "start_time": "2023-04-21T16:03:44.492Z"
   },
   {
    "duration": 16,
    "start_time": "2023-04-21T16:03:44.551Z"
   },
   {
    "duration": 23,
    "start_time": "2023-04-21T16:03:44.569Z"
   },
   {
    "duration": 218,
    "start_time": "2023-04-21T16:03:44.594Z"
   },
   {
    "duration": 167,
    "start_time": "2023-04-21T16:03:44.814Z"
   },
   {
    "duration": 17,
    "start_time": "2023-04-21T16:03:44.982Z"
   },
   {
    "duration": 179,
    "start_time": "2023-04-21T16:03:45.001Z"
   },
   {
    "duration": 117,
    "start_time": "2023-04-21T16:06:47.949Z"
   },
   {
    "duration": 262,
    "start_time": "2023-04-21T16:07:06.054Z"
   },
   {
    "duration": 221,
    "start_time": "2023-04-21T16:07:18.913Z"
   },
   {
    "duration": 889,
    "start_time": "2023-04-21T16:07:42.648Z"
   },
   {
    "duration": 1274,
    "start_time": "2023-04-21T16:07:52.680Z"
   },
   {
    "duration": 99,
    "start_time": "2023-04-21T16:07:53.957Z"
   },
   {
    "duration": 40,
    "start_time": "2023-04-21T16:07:54.058Z"
   },
   {
    "duration": 28,
    "start_time": "2023-04-21T16:07:54.101Z"
   },
   {
    "duration": 23,
    "start_time": "2023-04-21T16:07:54.131Z"
   },
   {
    "duration": 18,
    "start_time": "2023-04-21T16:07:54.155Z"
   },
   {
    "duration": 5,
    "start_time": "2023-04-21T16:07:54.175Z"
   },
   {
    "duration": 29,
    "start_time": "2023-04-21T16:07:54.182Z"
   },
   {
    "duration": 9,
    "start_time": "2023-04-21T16:07:54.213Z"
   },
   {
    "duration": 12,
    "start_time": "2023-04-21T16:07:54.240Z"
   },
   {
    "duration": 20,
    "start_time": "2023-04-21T16:07:54.253Z"
   },
   {
    "duration": 16,
    "start_time": "2023-04-21T16:07:54.275Z"
   },
   {
    "duration": 132,
    "start_time": "2023-04-21T16:07:54.293Z"
   },
   {
    "duration": 15,
    "start_time": "2023-04-21T16:07:54.427Z"
   },
   {
    "duration": 18,
    "start_time": "2023-04-21T16:07:54.443Z"
   },
   {
    "duration": 6,
    "start_time": "2023-04-21T16:07:54.463Z"
   },
   {
    "duration": 19,
    "start_time": "2023-04-21T16:07:54.471Z"
   },
   {
    "duration": 34,
    "start_time": "2023-04-21T16:07:54.492Z"
   },
   {
    "duration": 31,
    "start_time": "2023-04-21T16:07:54.528Z"
   },
   {
    "duration": 6,
    "start_time": "2023-04-21T16:07:54.561Z"
   },
   {
    "duration": 17,
    "start_time": "2023-04-21T16:07:54.569Z"
   },
   {
    "duration": 25,
    "start_time": "2023-04-21T16:07:54.588Z"
   },
   {
    "duration": 26,
    "start_time": "2023-04-21T16:07:54.615Z"
   },
   {
    "duration": 12,
    "start_time": "2023-04-21T16:07:54.643Z"
   },
   {
    "duration": 14,
    "start_time": "2023-04-21T16:07:54.657Z"
   },
   {
    "duration": 14,
    "start_time": "2023-04-21T16:07:54.673Z"
   },
   {
    "duration": 62,
    "start_time": "2023-04-21T16:07:54.689Z"
   },
   {
    "duration": 89,
    "start_time": "2023-04-21T16:07:54.755Z"
   },
   {
    "duration": 27,
    "start_time": "2023-04-21T16:07:54.846Z"
   },
   {
    "duration": 32,
    "start_time": "2023-04-21T16:07:54.875Z"
   },
   {
    "duration": 165,
    "start_time": "2023-04-21T16:07:54.909Z"
   },
   {
    "duration": 15,
    "start_time": "2023-04-21T16:07:55.076Z"
   },
   {
    "duration": 53,
    "start_time": "2023-04-21T16:07:55.093Z"
   },
   {
    "duration": 154,
    "start_time": "2023-04-21T16:07:55.148Z"
   },
   {
    "duration": 40,
    "start_time": "2023-04-21T16:07:55.304Z"
   },
   {
    "duration": 35,
    "start_time": "2023-04-21T16:07:55.347Z"
   },
   {
    "duration": 157,
    "start_time": "2023-04-21T16:07:55.384Z"
   },
   {
    "duration": 21,
    "start_time": "2023-04-21T16:07:55.543Z"
   },
   {
    "duration": 14,
    "start_time": "2023-04-21T16:07:55.565Z"
   },
   {
    "duration": 56,
    "start_time": "2023-04-21T16:07:55.580Z"
   },
   {
    "duration": 32,
    "start_time": "2023-04-21T16:07:55.638Z"
   },
   {
    "duration": 10,
    "start_time": "2023-04-21T16:07:55.672Z"
   },
   {
    "duration": 32,
    "start_time": "2023-04-21T16:07:55.684Z"
   },
   {
    "duration": 26,
    "start_time": "2023-04-21T16:07:55.718Z"
   },
   {
    "duration": 58,
    "start_time": "2023-04-21T16:07:55.747Z"
   },
   {
    "duration": 776,
    "start_time": "2023-04-21T16:07:57.436Z"
   },
   {
    "duration": 99,
    "start_time": "2023-04-21T16:08:12.437Z"
   },
   {
    "duration": 895,
    "start_time": "2023-04-21T16:08:25.719Z"
   },
   {
    "duration": 731,
    "start_time": "2023-04-21T16:08:44.048Z"
   },
   {
    "duration": 759,
    "start_time": "2023-04-21T16:08:48.628Z"
   },
   {
    "duration": 928,
    "start_time": "2023-04-21T16:09:47.337Z"
   },
   {
    "duration": 745,
    "start_time": "2023-04-21T16:10:34.778Z"
   },
   {
    "duration": 1319,
    "start_time": "2023-04-21T16:10:43.256Z"
   },
   {
    "duration": 99,
    "start_time": "2023-04-21T16:10:44.578Z"
   },
   {
    "duration": 41,
    "start_time": "2023-04-21T16:10:44.679Z"
   },
   {
    "duration": 26,
    "start_time": "2023-04-21T16:10:44.722Z"
   },
   {
    "duration": 22,
    "start_time": "2023-04-21T16:10:44.750Z"
   },
   {
    "duration": 19,
    "start_time": "2023-04-21T16:10:44.774Z"
   },
   {
    "duration": 15,
    "start_time": "2023-04-21T16:10:44.795Z"
   },
   {
    "duration": 49,
    "start_time": "2023-04-21T16:10:44.812Z"
   },
   {
    "duration": 11,
    "start_time": "2023-04-21T16:10:44.863Z"
   },
   {
    "duration": 32,
    "start_time": "2023-04-21T16:10:44.877Z"
   },
   {
    "duration": 29,
    "start_time": "2023-04-21T16:10:44.911Z"
   },
   {
    "duration": 43,
    "start_time": "2023-04-21T16:10:44.941Z"
   },
   {
    "duration": 58,
    "start_time": "2023-04-21T16:10:44.987Z"
   },
   {
    "duration": 24,
    "start_time": "2023-04-21T16:10:45.048Z"
   },
   {
    "duration": 33,
    "start_time": "2023-04-21T16:10:45.074Z"
   },
   {
    "duration": 14,
    "start_time": "2023-04-21T16:10:45.109Z"
   },
   {
    "duration": 26,
    "start_time": "2023-04-21T16:10:45.124Z"
   },
   {
    "duration": 28,
    "start_time": "2023-04-21T16:10:45.152Z"
   },
   {
    "duration": 43,
    "start_time": "2023-04-21T16:10:45.182Z"
   },
   {
    "duration": 11,
    "start_time": "2023-04-21T16:10:45.227Z"
   },
   {
    "duration": 22,
    "start_time": "2023-04-21T16:10:45.240Z"
   },
   {
    "duration": 25,
    "start_time": "2023-04-21T16:10:45.264Z"
   },
   {
    "duration": 27,
    "start_time": "2023-04-21T16:10:45.291Z"
   },
   {
    "duration": 15,
    "start_time": "2023-04-21T16:10:45.320Z"
   },
   {
    "duration": 14,
    "start_time": "2023-04-21T16:10:45.337Z"
   },
   {
    "duration": 13,
    "start_time": "2023-04-21T16:10:45.353Z"
   },
   {
    "duration": 60,
    "start_time": "2023-04-21T16:10:45.367Z"
   },
   {
    "duration": 85,
    "start_time": "2023-04-21T16:10:45.431Z"
   },
   {
    "duration": 43,
    "start_time": "2023-04-21T16:10:45.518Z"
   },
   {
    "duration": 23,
    "start_time": "2023-04-21T16:10:45.563Z"
   },
   {
    "duration": 180,
    "start_time": "2023-04-21T16:10:45.588Z"
   },
   {
    "duration": 19,
    "start_time": "2023-04-21T16:10:45.770Z"
   },
   {
    "duration": 74,
    "start_time": "2023-04-21T16:10:45.791Z"
   },
   {
    "duration": 207,
    "start_time": "2023-04-21T16:10:45.867Z"
   },
   {
    "duration": 30,
    "start_time": "2023-04-21T16:10:46.076Z"
   },
   {
    "duration": 53,
    "start_time": "2023-04-21T16:10:46.108Z"
   },
   {
    "duration": 139,
    "start_time": "2023-04-21T16:10:46.163Z"
   },
   {
    "duration": 20,
    "start_time": "2023-04-21T16:10:46.304Z"
   },
   {
    "duration": 14,
    "start_time": "2023-04-21T16:10:46.341Z"
   },
   {
    "duration": 27,
    "start_time": "2023-04-21T16:10:46.357Z"
   },
   {
    "duration": 30,
    "start_time": "2023-04-21T16:10:46.386Z"
   },
   {
    "duration": 11,
    "start_time": "2023-04-21T16:10:46.440Z"
   },
   {
    "duration": 31,
    "start_time": "2023-04-21T16:10:46.452Z"
   },
   {
    "duration": 8,
    "start_time": "2023-04-21T16:10:46.484Z"
   },
   {
    "duration": 15,
    "start_time": "2023-04-21T16:10:46.494Z"
   },
   {
    "duration": 801,
    "start_time": "2023-04-21T16:11:38.124Z"
   },
   {
    "duration": 1324,
    "start_time": "2023-04-21T16:11:44.795Z"
   },
   {
    "duration": 103,
    "start_time": "2023-04-21T16:11:46.122Z"
   },
   {
    "duration": 42,
    "start_time": "2023-04-21T16:11:46.227Z"
   },
   {
    "duration": 28,
    "start_time": "2023-04-21T16:11:46.272Z"
   },
   {
    "duration": 23,
    "start_time": "2023-04-21T16:11:46.302Z"
   },
   {
    "duration": 19,
    "start_time": "2023-04-21T16:11:46.326Z"
   },
   {
    "duration": 6,
    "start_time": "2023-04-21T16:11:46.347Z"
   },
   {
    "duration": 28,
    "start_time": "2023-04-21T16:11:46.355Z"
   },
   {
    "duration": 7,
    "start_time": "2023-04-21T16:11:46.386Z"
   },
   {
    "duration": 22,
    "start_time": "2023-04-21T16:11:46.396Z"
   },
   {
    "duration": 43,
    "start_time": "2023-04-21T16:11:46.419Z"
   },
   {
    "duration": 45,
    "start_time": "2023-04-21T16:11:46.464Z"
   },
   {
    "duration": 32,
    "start_time": "2023-04-21T16:11:46.511Z"
   },
   {
    "duration": 19,
    "start_time": "2023-04-21T16:11:46.546Z"
   },
   {
    "duration": 46,
    "start_time": "2023-04-21T16:11:46.567Z"
   },
   {
    "duration": 7,
    "start_time": "2023-04-21T16:11:46.616Z"
   },
   {
    "duration": 24,
    "start_time": "2023-04-21T16:11:46.625Z"
   },
   {
    "duration": 29,
    "start_time": "2023-04-21T16:11:46.651Z"
   },
   {
    "duration": 35,
    "start_time": "2023-04-21T16:11:46.682Z"
   },
   {
    "duration": 25,
    "start_time": "2023-04-21T16:11:46.719Z"
   },
   {
    "duration": 23,
    "start_time": "2023-04-21T16:11:46.746Z"
   },
   {
    "duration": 25,
    "start_time": "2023-04-21T16:11:46.771Z"
   },
   {
    "duration": 32,
    "start_time": "2023-04-21T16:11:46.797Z"
   },
   {
    "duration": 16,
    "start_time": "2023-04-21T16:11:46.831Z"
   },
   {
    "duration": 16,
    "start_time": "2023-04-21T16:11:46.849Z"
   },
   {
    "duration": 17,
    "start_time": "2023-04-21T16:11:46.867Z"
   },
   {
    "duration": 89,
    "start_time": "2023-04-21T16:11:46.886Z"
   },
   {
    "duration": 87,
    "start_time": "2023-04-21T16:11:46.979Z"
   },
   {
    "duration": 34,
    "start_time": "2023-04-21T16:11:47.068Z"
   },
   {
    "duration": 45,
    "start_time": "2023-04-21T16:11:47.104Z"
   },
   {
    "duration": 169,
    "start_time": "2023-04-21T16:11:47.152Z"
   },
   {
    "duration": 18,
    "start_time": "2023-04-21T16:11:47.323Z"
   },
   {
    "duration": 64,
    "start_time": "2023-04-21T16:11:47.343Z"
   },
   {
    "duration": 150,
    "start_time": "2023-04-21T16:11:47.408Z"
   },
   {
    "duration": 29,
    "start_time": "2023-04-21T16:11:47.560Z"
   },
   {
    "duration": 55,
    "start_time": "2023-04-21T16:11:47.592Z"
   },
   {
    "duration": 158,
    "start_time": "2023-04-21T16:11:47.648Z"
   },
   {
    "duration": 20,
    "start_time": "2023-04-21T16:11:47.808Z"
   },
   {
    "duration": 25,
    "start_time": "2023-04-21T16:11:47.830Z"
   },
   {
    "duration": 25,
    "start_time": "2023-04-21T16:11:47.857Z"
   },
   {
    "duration": 32,
    "start_time": "2023-04-21T16:11:47.884Z"
   },
   {
    "duration": 30,
    "start_time": "2023-04-21T16:11:47.918Z"
   },
   {
    "duration": 30,
    "start_time": "2023-04-21T16:11:47.950Z"
   },
   {
    "duration": 6,
    "start_time": "2023-04-21T16:11:47.982Z"
   },
   {
    "duration": 18,
    "start_time": "2023-04-21T16:11:47.990Z"
   },
   {
    "duration": 821,
    "start_time": "2023-04-21T16:11:49.120Z"
   },
   {
    "duration": 896,
    "start_time": "2023-04-21T16:11:58.439Z"
   },
   {
    "duration": 817,
    "start_time": "2023-04-21T16:15:54.637Z"
   },
   {
    "duration": 805,
    "start_time": "2023-04-21T16:16:07.991Z"
   },
   {
    "duration": 906,
    "start_time": "2023-04-21T16:16:51.045Z"
   },
   {
    "duration": 819,
    "start_time": "2023-04-21T16:17:07.401Z"
   },
   {
    "duration": 1477,
    "start_time": "2023-04-21T16:17:14.015Z"
   },
   {
    "duration": 105,
    "start_time": "2023-04-21T16:17:15.495Z"
   },
   {
    "duration": 42,
    "start_time": "2023-04-21T16:17:15.602Z"
   },
   {
    "duration": 29,
    "start_time": "2023-04-21T16:17:15.646Z"
   },
   {
    "duration": 24,
    "start_time": "2023-04-21T16:17:15.677Z"
   },
   {
    "duration": 40,
    "start_time": "2023-04-21T16:17:15.703Z"
   },
   {
    "duration": 36,
    "start_time": "2023-04-21T16:17:15.745Z"
   },
   {
    "duration": 62,
    "start_time": "2023-04-21T16:17:15.783Z"
   },
   {
    "duration": 51,
    "start_time": "2023-04-21T16:17:15.847Z"
   },
   {
    "duration": 38,
    "start_time": "2023-04-21T16:17:15.901Z"
   },
   {
    "duration": 36,
    "start_time": "2023-04-21T16:17:15.941Z"
   },
   {
    "duration": 46,
    "start_time": "2023-04-21T16:17:15.980Z"
   },
   {
    "duration": 43,
    "start_time": "2023-04-21T16:17:16.027Z"
   },
   {
    "duration": 35,
    "start_time": "2023-04-21T16:17:16.072Z"
   },
   {
    "duration": 57,
    "start_time": "2023-04-21T16:17:16.109Z"
   },
   {
    "duration": 27,
    "start_time": "2023-04-21T16:17:16.168Z"
   },
   {
    "duration": 50,
    "start_time": "2023-04-21T16:17:16.196Z"
   },
   {
    "duration": 74,
    "start_time": "2023-04-21T16:17:16.248Z"
   },
   {
    "duration": 42,
    "start_time": "2023-04-21T16:17:16.327Z"
   },
   {
    "duration": 22,
    "start_time": "2023-04-21T16:17:16.371Z"
   },
   {
    "duration": 40,
    "start_time": "2023-04-21T16:17:16.396Z"
   },
   {
    "duration": 47,
    "start_time": "2023-04-21T16:17:16.439Z"
   },
   {
    "duration": 29,
    "start_time": "2023-04-21T16:17:16.488Z"
   },
   {
    "duration": 48,
    "start_time": "2023-04-21T16:17:16.520Z"
   },
   {
    "duration": 37,
    "start_time": "2023-04-21T16:17:16.570Z"
   },
   {
    "duration": 50,
    "start_time": "2023-04-21T16:17:16.610Z"
   },
   {
    "duration": 112,
    "start_time": "2023-04-21T16:17:16.663Z"
   },
   {
    "duration": 82,
    "start_time": "2023-04-21T16:17:16.779Z"
   },
   {
    "duration": 26,
    "start_time": "2023-04-21T16:17:16.864Z"
   },
   {
    "duration": 23,
    "start_time": "2023-04-21T16:17:16.892Z"
   },
   {
    "duration": 184,
    "start_time": "2023-04-21T16:17:16.917Z"
   },
   {
    "duration": 17,
    "start_time": "2023-04-21T16:17:17.103Z"
   },
   {
    "duration": 105,
    "start_time": "2023-04-21T16:17:17.122Z"
   },
   {
    "duration": 200,
    "start_time": "2023-04-21T16:17:17.229Z"
   },
   {
    "duration": 33,
    "start_time": "2023-04-21T16:17:17.431Z"
   },
   {
    "duration": 33,
    "start_time": "2023-04-21T16:17:17.466Z"
   },
   {
    "duration": 148,
    "start_time": "2023-04-21T16:17:17.502Z"
   },
   {
    "duration": 21,
    "start_time": "2023-04-21T16:17:17.652Z"
   },
   {
    "duration": 23,
    "start_time": "2023-04-21T16:17:17.676Z"
   },
   {
    "duration": 41,
    "start_time": "2023-04-21T16:17:17.701Z"
   },
   {
    "duration": 51,
    "start_time": "2023-04-21T16:17:17.744Z"
   },
   {
    "duration": 10,
    "start_time": "2023-04-21T16:17:17.797Z"
   },
   {
    "duration": 32,
    "start_time": "2023-04-21T16:17:17.809Z"
   },
   {
    "duration": 14,
    "start_time": "2023-04-21T16:17:17.843Z"
   },
   {
    "duration": 23,
    "start_time": "2023-04-21T16:17:17.860Z"
   },
   {
    "duration": 852,
    "start_time": "2023-04-21T16:17:17.885Z"
   },
   {
    "duration": 127,
    "start_time": "2023-04-21T16:17:37.759Z"
   },
   {
    "duration": 1374,
    "start_time": "2023-04-21T16:17:43.406Z"
   },
   {
    "duration": 100,
    "start_time": "2023-04-21T16:17:44.783Z"
   },
   {
    "duration": 40,
    "start_time": "2023-04-21T16:17:44.886Z"
   },
   {
    "duration": 29,
    "start_time": "2023-04-21T16:17:44.929Z"
   },
   {
    "duration": 30,
    "start_time": "2023-04-21T16:17:44.960Z"
   },
   {
    "duration": 40,
    "start_time": "2023-04-21T16:17:44.992Z"
   },
   {
    "duration": 29,
    "start_time": "2023-04-21T16:17:45.033Z"
   },
   {
    "duration": 45,
    "start_time": "2023-04-21T16:17:45.064Z"
   },
   {
    "duration": 7,
    "start_time": "2023-04-21T16:17:45.111Z"
   },
   {
    "duration": 30,
    "start_time": "2023-04-21T16:17:45.121Z"
   },
   {
    "duration": 34,
    "start_time": "2023-04-21T16:17:45.153Z"
   },
   {
    "duration": 16,
    "start_time": "2023-04-21T16:17:45.189Z"
   },
   {
    "duration": 28,
    "start_time": "2023-04-21T16:17:45.208Z"
   },
   {
    "duration": 44,
    "start_time": "2023-04-21T16:17:45.238Z"
   },
   {
    "duration": 29,
    "start_time": "2023-04-21T16:17:45.284Z"
   },
   {
    "duration": 19,
    "start_time": "2023-04-21T16:17:45.316Z"
   },
   {
    "duration": 28,
    "start_time": "2023-04-21T16:17:45.338Z"
   },
   {
    "duration": 28,
    "start_time": "2023-04-21T16:17:45.368Z"
   },
   {
    "duration": 42,
    "start_time": "2023-04-21T16:17:45.398Z"
   },
   {
    "duration": 37,
    "start_time": "2023-04-21T16:17:45.442Z"
   },
   {
    "duration": 16,
    "start_time": "2023-04-21T16:17:45.481Z"
   },
   {
    "duration": 26,
    "start_time": "2023-04-21T16:17:45.499Z"
   },
   {
    "duration": 25,
    "start_time": "2023-04-21T16:17:45.527Z"
   },
   {
    "duration": 25,
    "start_time": "2023-04-21T16:17:45.554Z"
   },
   {
    "duration": 13,
    "start_time": "2023-04-21T16:17:45.582Z"
   },
   {
    "duration": 24,
    "start_time": "2023-04-21T16:17:45.597Z"
   },
   {
    "duration": 64,
    "start_time": "2023-04-21T16:17:45.623Z"
   },
   {
    "duration": 87,
    "start_time": "2023-04-21T16:17:45.718Z"
   },
   {
    "duration": 36,
    "start_time": "2023-04-21T16:17:45.807Z"
   },
   {
    "duration": 27,
    "start_time": "2023-04-21T16:17:45.845Z"
   },
   {
    "duration": 218,
    "start_time": "2023-04-21T16:17:45.875Z"
   },
   {
    "duration": 25,
    "start_time": "2023-04-21T16:17:46.096Z"
   },
   {
    "duration": 62,
    "start_time": "2023-04-21T16:17:46.123Z"
   },
   {
    "duration": 171,
    "start_time": "2023-04-21T16:17:46.188Z"
   },
   {
    "duration": 28,
    "start_time": "2023-04-21T16:17:46.361Z"
   },
   {
    "duration": 56,
    "start_time": "2023-04-21T16:17:46.391Z"
   },
   {
    "duration": 145,
    "start_time": "2023-04-21T16:17:46.449Z"
   },
   {
    "duration": 25,
    "start_time": "2023-04-21T16:17:46.596Z"
   },
   {
    "duration": 48,
    "start_time": "2023-04-21T16:17:46.623Z"
   },
   {
    "duration": 47,
    "start_time": "2023-04-21T16:17:46.674Z"
   },
   {
    "duration": 38,
    "start_time": "2023-04-21T16:17:46.723Z"
   },
   {
    "duration": 16,
    "start_time": "2023-04-21T16:17:46.763Z"
   },
   {
    "duration": 39,
    "start_time": "2023-04-21T16:17:46.781Z"
   },
   {
    "duration": 11,
    "start_time": "2023-04-21T16:17:46.823Z"
   },
   {
    "duration": 16,
    "start_time": "2023-04-21T16:17:46.837Z"
   },
   {
    "duration": 145,
    "start_time": "2023-04-21T16:17:46.855Z"
   },
   {
    "duration": 816,
    "start_time": "2023-04-21T16:17:56.338Z"
   },
   {
    "duration": 928,
    "start_time": "2023-04-21T16:19:30.073Z"
   },
   {
    "duration": 1406,
    "start_time": "2023-04-21T16:20:15.240Z"
   },
   {
    "duration": 112,
    "start_time": "2023-04-21T16:20:16.647Z"
   },
   {
    "duration": 40,
    "start_time": "2023-04-21T16:20:16.761Z"
   },
   {
    "duration": 28,
    "start_time": "2023-04-21T16:20:16.804Z"
   },
   {
    "duration": 22,
    "start_time": "2023-04-21T16:20:16.834Z"
   },
   {
    "duration": 19,
    "start_time": "2023-04-21T16:20:16.858Z"
   },
   {
    "duration": 5,
    "start_time": "2023-04-21T16:20:16.879Z"
   },
   {
    "duration": 29,
    "start_time": "2023-04-21T16:20:16.887Z"
   },
   {
    "duration": 8,
    "start_time": "2023-04-21T16:20:16.941Z"
   },
   {
    "duration": 16,
    "start_time": "2023-04-21T16:20:16.951Z"
   },
   {
    "duration": 14,
    "start_time": "2023-04-21T16:20:16.970Z"
   },
   {
    "duration": 20,
    "start_time": "2023-04-21T16:20:16.986Z"
   },
   {
    "duration": 36,
    "start_time": "2023-04-21T16:20:17.009Z"
   },
   {
    "duration": 26,
    "start_time": "2023-04-21T16:20:17.047Z"
   },
   {
    "duration": 24,
    "start_time": "2023-04-21T16:20:17.075Z"
   },
   {
    "duration": 5,
    "start_time": "2023-04-21T16:20:17.102Z"
   },
   {
    "duration": 37,
    "start_time": "2023-04-21T16:20:17.109Z"
   },
   {
    "duration": 37,
    "start_time": "2023-04-21T16:20:17.148Z"
   },
   {
    "duration": 60,
    "start_time": "2023-04-21T16:20:17.187Z"
   },
   {
    "duration": 6,
    "start_time": "2023-04-21T16:20:17.249Z"
   },
   {
    "duration": 20,
    "start_time": "2023-04-21T16:20:17.256Z"
   },
   {
    "duration": 21,
    "start_time": "2023-04-21T16:20:17.278Z"
   },
   {
    "duration": 48,
    "start_time": "2023-04-21T16:20:17.301Z"
   },
   {
    "duration": 29,
    "start_time": "2023-04-21T16:20:17.351Z"
   },
   {
    "duration": 17,
    "start_time": "2023-04-21T16:20:17.382Z"
   },
   {
    "duration": 23,
    "start_time": "2023-04-21T16:20:17.402Z"
   },
   {
    "duration": 96,
    "start_time": "2023-04-21T16:20:17.427Z"
   },
   {
    "duration": 88,
    "start_time": "2023-04-21T16:20:17.525Z"
   },
   {
    "duration": 39,
    "start_time": "2023-04-21T16:20:17.615Z"
   },
   {
    "duration": 28,
    "start_time": "2023-04-21T16:20:17.656Z"
   },
   {
    "duration": 193,
    "start_time": "2023-04-21T16:20:17.686Z"
   },
   {
    "duration": 18,
    "start_time": "2023-04-21T16:20:17.882Z"
   },
   {
    "duration": 58,
    "start_time": "2023-04-21T16:20:17.902Z"
   },
   {
    "duration": 161,
    "start_time": "2023-04-21T16:20:17.962Z"
   },
   {
    "duration": 40,
    "start_time": "2023-04-21T16:20:18.125Z"
   },
   {
    "duration": 28,
    "start_time": "2023-04-21T16:20:18.167Z"
   },
   {
    "duration": 169,
    "start_time": "2023-04-21T16:20:18.197Z"
   },
   {
    "duration": 21,
    "start_time": "2023-04-21T16:20:18.367Z"
   },
   {
    "duration": 21,
    "start_time": "2023-04-21T16:20:18.391Z"
   },
   {
    "duration": 39,
    "start_time": "2023-04-21T16:20:18.416Z"
   },
   {
    "duration": 36,
    "start_time": "2023-04-21T16:20:18.457Z"
   },
   {
    "duration": 11,
    "start_time": "2023-04-21T16:20:18.495Z"
   },
   {
    "duration": 50,
    "start_time": "2023-04-21T16:20:18.508Z"
   },
   {
    "duration": 27,
    "start_time": "2023-04-21T16:20:18.560Z"
   },
   {
    "duration": 29,
    "start_time": "2023-04-21T16:20:18.589Z"
   },
   {
    "duration": 797,
    "start_time": "2023-04-21T16:20:18.620Z"
   },
   {
    "duration": 5,
    "start_time": "2023-04-21T16:20:30.329Z"
   },
   {
    "duration": 1273,
    "start_time": "2023-04-21T16:21:38.105Z"
   },
   {
    "duration": 99,
    "start_time": "2023-04-21T16:21:39.380Z"
   },
   {
    "duration": 41,
    "start_time": "2023-04-21T16:21:39.481Z"
   },
   {
    "duration": 26,
    "start_time": "2023-04-21T16:21:39.525Z"
   },
   {
    "duration": 22,
    "start_time": "2023-04-21T16:21:39.553Z"
   },
   {
    "duration": 18,
    "start_time": "2023-04-21T16:21:39.577Z"
   },
   {
    "duration": 5,
    "start_time": "2023-04-21T16:21:39.597Z"
   },
   {
    "duration": 51,
    "start_time": "2023-04-21T16:21:39.604Z"
   },
   {
    "duration": 7,
    "start_time": "2023-04-21T16:21:39.657Z"
   },
   {
    "duration": 11,
    "start_time": "2023-04-21T16:21:39.667Z"
   },
   {
    "duration": 12,
    "start_time": "2023-04-21T16:21:39.680Z"
   },
   {
    "duration": 10,
    "start_time": "2023-04-21T16:21:39.694Z"
   },
   {
    "duration": 49,
    "start_time": "2023-04-21T16:21:39.706Z"
   },
   {
    "duration": 15,
    "start_time": "2023-04-21T16:21:39.756Z"
   },
   {
    "duration": 28,
    "start_time": "2023-04-21T16:21:39.773Z"
   },
   {
    "duration": 6,
    "start_time": "2023-04-21T16:21:39.803Z"
   },
   {
    "duration": 12,
    "start_time": "2023-04-21T16:21:39.811Z"
   },
   {
    "duration": 31,
    "start_time": "2023-04-21T16:21:39.825Z"
   },
   {
    "duration": 17,
    "start_time": "2023-04-21T16:21:39.857Z"
   },
   {
    "duration": 4,
    "start_time": "2023-04-21T16:21:39.876Z"
   },
   {
    "duration": 11,
    "start_time": "2023-04-21T16:21:39.882Z"
   },
   {
    "duration": 18,
    "start_time": "2023-04-21T16:21:39.894Z"
   },
   {
    "duration": 45,
    "start_time": "2023-04-21T16:21:39.914Z"
   },
   {
    "duration": 17,
    "start_time": "2023-04-21T16:21:39.962Z"
   },
   {
    "duration": 12,
    "start_time": "2023-04-21T16:21:39.981Z"
   },
   {
    "duration": 26,
    "start_time": "2023-04-21T16:21:39.995Z"
   },
   {
    "duration": 51,
    "start_time": "2023-04-21T16:21:40.024Z"
   },
   {
    "duration": 103,
    "start_time": "2023-04-21T16:21:40.099Z"
   },
   {
    "duration": 43,
    "start_time": "2023-04-21T16:21:40.204Z"
   },
   {
    "duration": 23,
    "start_time": "2023-04-21T16:21:40.249Z"
   },
   {
    "duration": 177,
    "start_time": "2023-04-21T16:21:40.274Z"
   },
   {
    "duration": 16,
    "start_time": "2023-04-21T16:21:40.454Z"
   },
   {
    "duration": 52,
    "start_time": "2023-04-21T16:21:40.472Z"
   },
   {
    "duration": 151,
    "start_time": "2023-04-21T16:21:40.526Z"
   },
   {
    "duration": 27,
    "start_time": "2023-04-21T16:21:40.679Z"
   },
   {
    "duration": 52,
    "start_time": "2023-04-21T16:21:40.708Z"
   },
   {
    "duration": 147,
    "start_time": "2023-04-21T16:21:40.762Z"
   },
   {
    "duration": 30,
    "start_time": "2023-04-21T16:21:40.911Z"
   },
   {
    "duration": 14,
    "start_time": "2023-04-21T16:21:40.943Z"
   },
   {
    "duration": 67,
    "start_time": "2023-04-21T16:21:40.959Z"
   },
   {
    "duration": 42,
    "start_time": "2023-04-21T16:21:41.029Z"
   },
   {
    "duration": 13,
    "start_time": "2023-04-21T16:21:41.074Z"
   },
   {
    "duration": 43,
    "start_time": "2023-04-21T16:21:41.090Z"
   },
   {
    "duration": 7,
    "start_time": "2023-04-21T16:21:41.136Z"
   },
   {
    "duration": 13,
    "start_time": "2023-04-21T16:21:41.145Z"
   },
   {
    "duration": 788,
    "start_time": "2023-04-21T16:21:41.160Z"
   },
   {
    "duration": 115,
    "start_time": "2023-04-21T16:22:56.228Z"
   },
   {
    "duration": 1313,
    "start_time": "2023-04-21T16:23:01.255Z"
   },
   {
    "duration": 96,
    "start_time": "2023-04-21T16:23:02.571Z"
   },
   {
    "duration": 46,
    "start_time": "2023-04-21T16:23:02.669Z"
   },
   {
    "duration": 71,
    "start_time": "2023-04-21T16:23:02.718Z"
   },
   {
    "duration": 66,
    "start_time": "2023-04-21T16:23:02.791Z"
   },
   {
    "duration": 142,
    "start_time": "2023-04-21T16:23:02.859Z"
   },
   {
    "duration": 39,
    "start_time": "2023-04-21T16:23:03.003Z"
   },
   {
    "duration": 40,
    "start_time": "2023-04-21T16:23:03.044Z"
   },
   {
    "duration": 15,
    "start_time": "2023-04-21T16:23:03.086Z"
   },
   {
    "duration": 43,
    "start_time": "2023-04-21T16:23:03.104Z"
   },
   {
    "duration": 40,
    "start_time": "2023-04-21T16:23:03.149Z"
   },
   {
    "duration": 48,
    "start_time": "2023-04-21T16:23:03.191Z"
   },
   {
    "duration": 40,
    "start_time": "2023-04-21T16:23:03.241Z"
   },
   {
    "duration": 21,
    "start_time": "2023-04-21T16:23:03.283Z"
   },
   {
    "duration": 27,
    "start_time": "2023-04-21T16:23:03.306Z"
   },
   {
    "duration": 38,
    "start_time": "2023-04-21T16:23:03.336Z"
   },
   {
    "duration": 36,
    "start_time": "2023-04-21T16:23:03.376Z"
   },
   {
    "duration": 52,
    "start_time": "2023-04-21T16:23:03.414Z"
   },
   {
    "duration": 34,
    "start_time": "2023-04-21T16:23:03.468Z"
   },
   {
    "duration": 10,
    "start_time": "2023-04-21T16:23:03.504Z"
   },
   {
    "duration": 16,
    "start_time": "2023-04-21T16:23:03.517Z"
   },
   {
    "duration": 30,
    "start_time": "2023-04-21T16:23:03.535Z"
   },
   {
    "duration": 34,
    "start_time": "2023-04-21T16:23:03.567Z"
   },
   {
    "duration": 40,
    "start_time": "2023-04-21T16:23:03.602Z"
   },
   {
    "duration": 27,
    "start_time": "2023-04-21T16:23:03.644Z"
   },
   {
    "duration": 16,
    "start_time": "2023-04-21T16:23:03.673Z"
   },
   {
    "duration": 64,
    "start_time": "2023-04-21T16:23:03.691Z"
   },
   {
    "duration": 84,
    "start_time": "2023-04-21T16:23:03.759Z"
   },
   {
    "duration": 27,
    "start_time": "2023-04-21T16:23:03.845Z"
   },
   {
    "duration": 24,
    "start_time": "2023-04-21T16:23:03.875Z"
   },
   {
    "duration": 192,
    "start_time": "2023-04-21T16:23:03.901Z"
   },
   {
    "duration": 17,
    "start_time": "2023-04-21T16:23:04.095Z"
   },
   {
    "duration": 83,
    "start_time": "2023-04-21T16:23:04.114Z"
   },
   {
    "duration": 137,
    "start_time": "2023-04-21T16:23:04.198Z"
   },
   {
    "duration": 28,
    "start_time": "2023-04-21T16:23:04.337Z"
   },
   {
    "duration": 30,
    "start_time": "2023-04-21T16:23:04.367Z"
   },
   {
    "duration": 153,
    "start_time": "2023-04-21T16:23:04.399Z"
   },
   {
    "duration": 20,
    "start_time": "2023-04-21T16:23:04.554Z"
   },
   {
    "duration": 13,
    "start_time": "2023-04-21T16:23:04.576Z"
   },
   {
    "duration": 29,
    "start_time": "2023-04-21T16:23:04.591Z"
   },
   {
    "duration": 29,
    "start_time": "2023-04-21T16:23:04.640Z"
   },
   {
    "duration": 9,
    "start_time": "2023-04-21T16:23:04.671Z"
   },
   {
    "duration": 30,
    "start_time": "2023-04-21T16:23:04.682Z"
   },
   {
    "duration": 7,
    "start_time": "2023-04-21T16:23:04.743Z"
   },
   {
    "duration": 41,
    "start_time": "2023-04-21T16:23:04.751Z"
   },
   {
    "duration": 816,
    "start_time": "2023-04-21T16:23:04.795Z"
   },
   {
    "duration": 5,
    "start_time": "2023-04-21T16:23:05.613Z"
   },
   {
    "duration": 35,
    "start_time": "2023-04-21T16:23:05.620Z"
   },
   {
    "duration": 45,
    "start_time": "2023-04-21T16:23:05.657Z"
   },
   {
    "duration": 29,
    "start_time": "2023-04-21T16:23:05.704Z"
   },
   {
    "duration": 16,
    "start_time": "2023-04-21T16:23:05.735Z"
   },
   {
    "duration": 62,
    "start_time": "2023-04-21T16:23:05.753Z"
   },
   {
    "duration": 15,
    "start_time": "2023-04-21T16:23:05.817Z"
   },
   {
    "duration": 39,
    "start_time": "2023-04-21T16:23:05.834Z"
   },
   {
    "duration": 70,
    "start_time": "2023-04-21T16:23:05.875Z"
   },
   {
    "duration": 37,
    "start_time": "2023-04-21T16:23:05.948Z"
   },
   {
    "duration": 41,
    "start_time": "2023-04-21T16:23:05.987Z"
   },
   {
    "duration": 255,
    "start_time": "2023-04-21T16:23:06.031Z"
   },
   {
    "duration": 15,
    "start_time": "2023-04-21T16:23:06.288Z"
   },
   {
    "duration": 212,
    "start_time": "2023-04-21T16:23:06.305Z"
   },
   {
    "duration": 23,
    "start_time": "2023-04-21T16:23:06.519Z"
   },
   {
    "duration": 27,
    "start_time": "2023-04-21T16:23:10.694Z"
   },
   {
    "duration": 216,
    "start_time": "2023-04-21T16:23:37.168Z"
   },
   {
    "duration": 314,
    "start_time": "2023-04-21T16:24:21.449Z"
   },
   {
    "duration": 209,
    "start_time": "2023-04-21T16:24:27.948Z"
   },
   {
    "duration": 169,
    "start_time": "2023-04-21T16:24:42.676Z"
   },
   {
    "duration": 14,
    "start_time": "2023-04-21T16:24:45.433Z"
   },
   {
    "duration": 25,
    "start_time": "2023-04-21T16:24:47.829Z"
   },
   {
    "duration": 202,
    "start_time": "2023-04-21T16:24:50.271Z"
   },
   {
    "duration": 205,
    "start_time": "2023-04-21T16:25:11.331Z"
   },
   {
    "duration": 210,
    "start_time": "2023-04-21T16:25:14.563Z"
   },
   {
    "duration": 202,
    "start_time": "2023-04-21T16:25:18.684Z"
   },
   {
    "duration": 210,
    "start_time": "2023-04-21T16:25:34.531Z"
   },
   {
    "duration": 705,
    "start_time": "2023-04-21T16:26:22.345Z"
   },
   {
    "duration": 722,
    "start_time": "2023-04-21T16:26:40.127Z"
   },
   {
    "duration": 734,
    "start_time": "2023-04-21T16:26:47.879Z"
   },
   {
    "duration": 871,
    "start_time": "2023-04-21T16:26:56.414Z"
   },
   {
    "duration": 1407,
    "start_time": "2023-04-21T16:27:54.591Z"
   },
   {
    "duration": 111,
    "start_time": "2023-04-21T16:27:56.001Z"
   },
   {
    "duration": 41,
    "start_time": "2023-04-21T16:27:56.114Z"
   },
   {
    "duration": 29,
    "start_time": "2023-04-21T16:27:56.159Z"
   },
   {
    "duration": 23,
    "start_time": "2023-04-21T16:27:56.190Z"
   },
   {
    "duration": 29,
    "start_time": "2023-04-21T16:27:56.215Z"
   },
   {
    "duration": 6,
    "start_time": "2023-04-21T16:27:56.246Z"
   },
   {
    "duration": 40,
    "start_time": "2023-04-21T16:27:56.254Z"
   },
   {
    "duration": 7,
    "start_time": "2023-04-21T16:27:56.295Z"
   },
   {
    "duration": 32,
    "start_time": "2023-04-21T16:27:56.305Z"
   },
   {
    "duration": 24,
    "start_time": "2023-04-21T16:27:56.339Z"
   },
   {
    "duration": 30,
    "start_time": "2023-04-21T16:27:56.365Z"
   },
   {
    "duration": 23,
    "start_time": "2023-04-21T16:27:56.397Z"
   },
   {
    "duration": 26,
    "start_time": "2023-04-21T16:27:56.422Z"
   },
   {
    "duration": 36,
    "start_time": "2023-04-21T16:27:56.450Z"
   },
   {
    "duration": 14,
    "start_time": "2023-04-21T16:27:56.488Z"
   },
   {
    "duration": 45,
    "start_time": "2023-04-21T16:27:56.504Z"
   },
   {
    "duration": 52,
    "start_time": "2023-04-21T16:27:56.551Z"
   },
   {
    "duration": 31,
    "start_time": "2023-04-21T16:27:56.605Z"
   },
   {
    "duration": 17,
    "start_time": "2023-04-21T16:27:56.639Z"
   },
   {
    "duration": 20,
    "start_time": "2023-04-21T16:27:56.658Z"
   },
   {
    "duration": 33,
    "start_time": "2023-04-21T16:27:56.681Z"
   },
   {
    "duration": 36,
    "start_time": "2023-04-21T16:27:56.716Z"
   },
   {
    "duration": 14,
    "start_time": "2023-04-21T16:27:56.754Z"
   },
   {
    "duration": 51,
    "start_time": "2023-04-21T16:27:56.770Z"
   },
   {
    "duration": 27,
    "start_time": "2023-04-21T16:27:56.823Z"
   },
   {
    "duration": 71,
    "start_time": "2023-04-21T16:27:56.852Z"
   },
   {
    "duration": 88,
    "start_time": "2023-04-21T16:27:56.927Z"
   },
   {
    "duration": 41,
    "start_time": "2023-04-21T16:27:57.017Z"
   },
   {
    "duration": 26,
    "start_time": "2023-04-21T16:27:57.060Z"
   },
   {
    "duration": 179,
    "start_time": "2023-04-21T16:27:57.089Z"
   },
   {
    "duration": 16,
    "start_time": "2023-04-21T16:27:57.270Z"
   },
   {
    "duration": 61,
    "start_time": "2023-04-21T16:27:57.288Z"
   },
   {
    "duration": 162,
    "start_time": "2023-04-21T16:27:57.351Z"
   },
   {
    "duration": 35,
    "start_time": "2023-04-21T16:27:57.515Z"
   },
   {
    "duration": 27,
    "start_time": "2023-04-21T16:27:57.552Z"
   },
   {
    "duration": 152,
    "start_time": "2023-04-21T16:27:57.581Z"
   },
   {
    "duration": 25,
    "start_time": "2023-04-21T16:27:57.735Z"
   },
   {
    "duration": 14,
    "start_time": "2023-04-21T16:27:57.763Z"
   },
   {
    "duration": 35,
    "start_time": "2023-04-21T16:27:57.779Z"
   },
   {
    "duration": 52,
    "start_time": "2023-04-21T16:27:57.816Z"
   },
   {
    "duration": 11,
    "start_time": "2023-04-21T16:27:57.870Z"
   },
   {
    "duration": 42,
    "start_time": "2023-04-21T16:27:57.883Z"
   },
   {
    "duration": 23,
    "start_time": "2023-04-21T16:27:57.927Z"
   },
   {
    "duration": 34,
    "start_time": "2023-04-21T16:27:57.953Z"
   },
   {
    "duration": 787,
    "start_time": "2023-04-21T16:27:57.989Z"
   },
   {
    "duration": 5,
    "start_time": "2023-04-21T16:27:58.777Z"
   },
   {
    "duration": 10,
    "start_time": "2023-04-21T16:27:58.784Z"
   },
   {
    "duration": 5,
    "start_time": "2023-04-21T16:27:58.796Z"
   },
   {
    "duration": 43,
    "start_time": "2023-04-21T16:27:58.803Z"
   },
   {
    "duration": 6,
    "start_time": "2023-04-21T16:27:58.847Z"
   },
   {
    "duration": 10,
    "start_time": "2023-04-21T16:27:58.855Z"
   },
   {
    "duration": 23,
    "start_time": "2023-04-21T16:27:58.867Z"
   },
   {
    "duration": 15,
    "start_time": "2023-04-21T16:27:58.892Z"
   },
   {
    "duration": 11,
    "start_time": "2023-04-21T16:27:58.909Z"
   },
   {
    "duration": 10,
    "start_time": "2023-04-21T16:27:58.922Z"
   },
   {
    "duration": 8,
    "start_time": "2023-04-21T16:27:58.942Z"
   },
   {
    "duration": 224,
    "start_time": "2023-04-21T16:27:58.953Z"
   },
   {
    "duration": 16,
    "start_time": "2023-04-21T16:27:59.179Z"
   },
   {
    "duration": 198,
    "start_time": "2023-04-21T16:27:59.197Z"
   },
   {
    "duration": 14,
    "start_time": "2023-04-21T16:27:59.397Z"
   },
   {
    "duration": 41,
    "start_time": "2023-04-21T16:27:59.413Z"
   },
   {
    "duration": 28,
    "start_time": "2023-04-21T16:28:00.559Z"
   },
   {
    "duration": 943,
    "start_time": "2023-04-21T16:28:01.014Z"
   },
   {
    "duration": 11,
    "start_time": "2023-04-21T16:29:02.741Z"
   },
   {
    "duration": 1341,
    "start_time": "2023-04-21T16:30:17.220Z"
   },
   {
    "duration": 99,
    "start_time": "2023-04-21T16:30:18.563Z"
   },
   {
    "duration": 79,
    "start_time": "2023-04-21T16:30:18.664Z"
   },
   {
    "duration": 26,
    "start_time": "2023-04-21T16:30:18.745Z"
   },
   {
    "duration": 22,
    "start_time": "2023-04-21T16:30:18.774Z"
   },
   {
    "duration": 43,
    "start_time": "2023-04-21T16:30:18.799Z"
   },
   {
    "duration": 6,
    "start_time": "2023-04-21T16:30:18.844Z"
   },
   {
    "duration": 25,
    "start_time": "2023-04-21T16:30:18.851Z"
   },
   {
    "duration": 7,
    "start_time": "2023-04-21T16:30:18.878Z"
   },
   {
    "duration": 12,
    "start_time": "2023-04-21T16:30:18.887Z"
   },
   {
    "duration": 22,
    "start_time": "2023-04-21T16:30:18.901Z"
   },
   {
    "duration": 12,
    "start_time": "2023-04-21T16:30:18.941Z"
   },
   {
    "duration": 18,
    "start_time": "2023-04-21T16:30:18.955Z"
   },
   {
    "duration": 9,
    "start_time": "2023-04-21T16:30:18.976Z"
   },
   {
    "duration": 22,
    "start_time": "2023-04-21T16:30:18.987Z"
   },
   {
    "duration": 31,
    "start_time": "2023-04-21T16:30:19.011Z"
   },
   {
    "duration": 16,
    "start_time": "2023-04-21T16:30:19.044Z"
   },
   {
    "duration": 60,
    "start_time": "2023-04-21T16:30:19.062Z"
   },
   {
    "duration": 43,
    "start_time": "2023-04-21T16:30:19.123Z"
   },
   {
    "duration": 22,
    "start_time": "2023-04-21T16:30:19.169Z"
   },
   {
    "duration": 74,
    "start_time": "2023-04-21T16:30:19.192Z"
   },
   {
    "duration": 35,
    "start_time": "2023-04-21T16:30:19.268Z"
   },
   {
    "duration": 44,
    "start_time": "2023-04-21T16:30:19.305Z"
   },
   {
    "duration": 26,
    "start_time": "2023-04-21T16:30:19.350Z"
   },
   {
    "duration": 42,
    "start_time": "2023-04-21T16:30:19.378Z"
   },
   {
    "duration": 43,
    "start_time": "2023-04-21T16:30:19.421Z"
   },
   {
    "duration": 57,
    "start_time": "2023-04-21T16:30:19.467Z"
   },
   {
    "duration": 107,
    "start_time": "2023-04-21T16:30:19.540Z"
   },
   {
    "duration": 32,
    "start_time": "2023-04-21T16:30:19.649Z"
   },
   {
    "duration": 28,
    "start_time": "2023-04-21T16:30:19.683Z"
   },
   {
    "duration": 166,
    "start_time": "2023-04-21T16:30:19.713Z"
   },
   {
    "duration": 17,
    "start_time": "2023-04-21T16:30:19.881Z"
   },
   {
    "duration": 56,
    "start_time": "2023-04-21T16:30:19.900Z"
   },
   {
    "duration": 157,
    "start_time": "2023-04-21T16:30:19.958Z"
   },
   {
    "duration": 35,
    "start_time": "2023-04-21T16:30:20.117Z"
   },
   {
    "duration": 29,
    "start_time": "2023-04-21T16:30:20.154Z"
   },
   {
    "duration": 154,
    "start_time": "2023-04-21T16:30:20.185Z"
   },
   {
    "duration": 21,
    "start_time": "2023-04-21T16:30:20.341Z"
   },
   {
    "duration": 14,
    "start_time": "2023-04-21T16:30:20.364Z"
   },
   {
    "duration": 39,
    "start_time": "2023-04-21T16:30:20.380Z"
   },
   {
    "duration": 40,
    "start_time": "2023-04-21T16:30:20.423Z"
   },
   {
    "duration": 10,
    "start_time": "2023-04-21T16:30:20.465Z"
   },
   {
    "duration": 33,
    "start_time": "2023-04-21T16:30:20.477Z"
   },
   {
    "duration": 7,
    "start_time": "2023-04-21T16:30:20.541Z"
   },
   {
    "duration": 29,
    "start_time": "2023-04-21T16:30:20.550Z"
   },
   {
    "duration": 789,
    "start_time": "2023-04-21T16:30:22.735Z"
   },
   {
    "duration": 10,
    "start_time": "2023-04-21T16:30:31.823Z"
   },
   {
    "duration": 116,
    "start_time": "2023-04-21T16:31:02.970Z"
   },
   {
    "duration": 1273,
    "start_time": "2023-04-21T16:31:07.696Z"
   },
   {
    "duration": 102,
    "start_time": "2023-04-21T16:31:08.972Z"
   },
   {
    "duration": 41,
    "start_time": "2023-04-21T16:31:09.076Z"
   },
   {
    "duration": 27,
    "start_time": "2023-04-21T16:31:09.119Z"
   },
   {
    "duration": 23,
    "start_time": "2023-04-21T16:31:09.147Z"
   },
   {
    "duration": 26,
    "start_time": "2023-04-21T16:31:09.172Z"
   },
   {
    "duration": 18,
    "start_time": "2023-04-21T16:31:09.200Z"
   },
   {
    "duration": 62,
    "start_time": "2023-04-21T16:31:09.220Z"
   },
   {
    "duration": 40,
    "start_time": "2023-04-21T16:31:09.284Z"
   },
   {
    "duration": 64,
    "start_time": "2023-04-21T16:31:09.327Z"
   },
   {
    "duration": 94,
    "start_time": "2023-04-21T16:31:09.393Z"
   },
   {
    "duration": 58,
    "start_time": "2023-04-21T16:31:09.489Z"
   },
   {
    "duration": 43,
    "start_time": "2023-04-21T16:31:09.549Z"
   },
   {
    "duration": 50,
    "start_time": "2023-04-21T16:31:09.594Z"
   },
   {
    "duration": 112,
    "start_time": "2023-04-21T16:31:09.647Z"
   },
   {
    "duration": 55,
    "start_time": "2023-04-21T16:31:09.761Z"
   },
   {
    "duration": 27,
    "start_time": "2023-04-21T16:31:09.817Z"
   },
   {
    "duration": 25,
    "start_time": "2023-04-21T16:31:09.846Z"
   },
   {
    "duration": 32,
    "start_time": "2023-04-21T16:31:09.873Z"
   },
   {
    "duration": 14,
    "start_time": "2023-04-21T16:31:09.907Z"
   },
   {
    "duration": 18,
    "start_time": "2023-04-21T16:31:09.923Z"
   },
   {
    "duration": 31,
    "start_time": "2023-04-21T16:31:09.943Z"
   },
   {
    "duration": 33,
    "start_time": "2023-04-21T16:31:09.976Z"
   },
   {
    "duration": 10,
    "start_time": "2023-04-21T16:31:10.011Z"
   },
   {
    "duration": 21,
    "start_time": "2023-04-21T16:31:10.023Z"
   },
   {
    "duration": 21,
    "start_time": "2023-04-21T16:31:10.046Z"
   },
   {
    "duration": 82,
    "start_time": "2023-04-21T16:31:10.069Z"
   },
   {
    "duration": 100,
    "start_time": "2023-04-21T16:31:10.155Z"
   },
   {
    "duration": 27,
    "start_time": "2023-04-21T16:31:10.257Z"
   },
   {
    "duration": 23,
    "start_time": "2023-04-21T16:31:10.286Z"
   },
   {
    "duration": 188,
    "start_time": "2023-04-21T16:31:10.311Z"
   },
   {
    "duration": 15,
    "start_time": "2023-04-21T16:31:10.501Z"
   },
   {
    "duration": 53,
    "start_time": "2023-04-21T16:31:10.518Z"
   },
   {
    "duration": 181,
    "start_time": "2023-04-21T16:31:10.573Z"
   },
   {
    "duration": 29,
    "start_time": "2023-04-21T16:31:10.756Z"
   },
   {
    "duration": 54,
    "start_time": "2023-04-21T16:31:10.787Z"
   },
   {
    "duration": 141,
    "start_time": "2023-04-21T16:31:10.844Z"
   },
   {
    "duration": 22,
    "start_time": "2023-04-21T16:31:10.987Z"
   },
   {
    "duration": 36,
    "start_time": "2023-04-21T16:31:11.012Z"
   },
   {
    "duration": 20,
    "start_time": "2023-04-21T16:31:11.051Z"
   },
   {
    "duration": 56,
    "start_time": "2023-04-21T16:31:11.074Z"
   },
   {
    "duration": 16,
    "start_time": "2023-04-21T16:31:11.132Z"
   },
   {
    "duration": 39,
    "start_time": "2023-04-21T16:31:11.150Z"
   },
   {
    "duration": 33,
    "start_time": "2023-04-21T16:31:11.192Z"
   },
   {
    "duration": 38,
    "start_time": "2023-04-21T16:31:11.227Z"
   },
   {
    "duration": 841,
    "start_time": "2023-04-21T16:31:11.268Z"
   },
   {
    "duration": 5,
    "start_time": "2023-04-21T16:31:12.111Z"
   },
   {
    "duration": 24,
    "start_time": "2023-04-21T16:31:12.118Z"
   },
   {
    "duration": 7,
    "start_time": "2023-04-21T16:31:12.144Z"
   },
   {
    "duration": 38,
    "start_time": "2023-04-21T16:31:12.153Z"
   },
   {
    "duration": 16,
    "start_time": "2023-04-21T16:31:12.193Z"
   },
   {
    "duration": 14,
    "start_time": "2023-04-21T16:31:12.211Z"
   },
   {
    "duration": 9,
    "start_time": "2023-04-21T16:31:12.227Z"
   },
   {
    "duration": 18,
    "start_time": "2023-04-21T16:31:12.238Z"
   },
   {
    "duration": 23,
    "start_time": "2023-04-21T16:31:12.258Z"
   },
   {
    "duration": 12,
    "start_time": "2023-04-21T16:31:12.283Z"
   },
   {
    "duration": 10,
    "start_time": "2023-04-21T16:31:12.297Z"
   },
   {
    "duration": 207,
    "start_time": "2023-04-21T16:31:12.308Z"
   },
   {
    "duration": 26,
    "start_time": "2023-04-21T16:31:12.517Z"
   },
   {
    "duration": 182,
    "start_time": "2023-04-21T16:31:12.545Z"
   },
   {
    "duration": 21,
    "start_time": "2023-04-21T16:31:12.729Z"
   },
   {
    "duration": 46,
    "start_time": "2023-04-21T16:31:12.755Z"
   },
   {
    "duration": 820,
    "start_time": "2023-04-21T16:31:14.503Z"
   },
   {
    "duration": 257,
    "start_time": "2023-04-21T16:31:30.621Z"
   },
   {
    "duration": 1355,
    "start_time": "2023-04-21T16:47:57.015Z"
   },
   {
    "duration": 98,
    "start_time": "2023-04-21T16:47:58.372Z"
   },
   {
    "duration": 40,
    "start_time": "2023-04-21T16:47:58.472Z"
   },
   {
    "duration": 32,
    "start_time": "2023-04-21T16:47:58.515Z"
   },
   {
    "duration": 21,
    "start_time": "2023-04-21T16:47:58.549Z"
   },
   {
    "duration": 42,
    "start_time": "2023-04-21T16:47:58.572Z"
   },
   {
    "duration": 5,
    "start_time": "2023-04-21T16:47:58.616Z"
   },
   {
    "duration": 28,
    "start_time": "2023-04-21T16:47:58.623Z"
   },
   {
    "duration": 12,
    "start_time": "2023-04-21T16:47:58.653Z"
   },
   {
    "duration": 11,
    "start_time": "2023-04-21T16:47:58.668Z"
   },
   {
    "duration": 17,
    "start_time": "2023-04-21T16:47:58.681Z"
   },
   {
    "duration": 23,
    "start_time": "2023-04-21T16:47:58.699Z"
   },
   {
    "duration": 23,
    "start_time": "2023-04-21T16:47:58.724Z"
   },
   {
    "duration": 21,
    "start_time": "2023-04-21T16:47:58.748Z"
   },
   {
    "duration": 29,
    "start_time": "2023-04-21T16:47:58.771Z"
   },
   {
    "duration": 13,
    "start_time": "2023-04-21T16:47:58.802Z"
   },
   {
    "duration": 35,
    "start_time": "2023-04-21T16:47:58.817Z"
   },
   {
    "duration": 35,
    "start_time": "2023-04-21T16:47:58.854Z"
   },
   {
    "duration": 49,
    "start_time": "2023-04-21T16:47:58.891Z"
   },
   {
    "duration": 25,
    "start_time": "2023-04-21T16:47:58.942Z"
   },
   {
    "duration": 26,
    "start_time": "2023-04-21T16:47:58.969Z"
   },
   {
    "duration": 41,
    "start_time": "2023-04-21T16:47:58.997Z"
   },
   {
    "duration": 58,
    "start_time": "2023-04-21T16:47:59.040Z"
   },
   {
    "duration": 21,
    "start_time": "2023-04-21T16:47:59.100Z"
   },
   {
    "duration": 11,
    "start_time": "2023-04-21T16:47:59.122Z"
   },
   {
    "duration": 11,
    "start_time": "2023-04-21T16:47:59.135Z"
   },
   {
    "duration": 99,
    "start_time": "2023-04-21T16:47:59.148Z"
   },
   {
    "duration": 97,
    "start_time": "2023-04-21T16:47:59.253Z"
   },
   {
    "duration": 27,
    "start_time": "2023-04-21T16:47:59.352Z"
   },
   {
    "duration": 23,
    "start_time": "2023-04-21T16:47:59.381Z"
   },
   {
    "duration": 177,
    "start_time": "2023-04-21T16:47:59.406Z"
   },
   {
    "duration": 17,
    "start_time": "2023-04-21T16:47:59.585Z"
   },
   {
    "duration": 55,
    "start_time": "2023-04-21T16:47:59.604Z"
   },
   {
    "duration": 157,
    "start_time": "2023-04-21T16:47:59.661Z"
   },
   {
    "duration": 35,
    "start_time": "2023-04-21T16:47:59.820Z"
   },
   {
    "duration": 27,
    "start_time": "2023-04-21T16:47:59.857Z"
   },
   {
    "duration": 145,
    "start_time": "2023-04-21T16:47:59.886Z"
   },
   {
    "duration": 23,
    "start_time": "2023-04-21T16:48:00.033Z"
   },
   {
    "duration": 40,
    "start_time": "2023-04-21T16:48:00.058Z"
   },
   {
    "duration": 88,
    "start_time": "2023-04-21T16:48:00.100Z"
   },
   {
    "duration": 80,
    "start_time": "2023-04-21T16:48:00.190Z"
   },
   {
    "duration": 42,
    "start_time": "2023-04-21T16:48:00.272Z"
   },
   {
    "duration": 97,
    "start_time": "2023-04-21T16:48:00.316Z"
   },
   {
    "duration": 89,
    "start_time": "2023-04-21T16:48:00.415Z"
   },
   {
    "duration": 84,
    "start_time": "2023-04-21T16:48:00.506Z"
   },
   {
    "duration": 906,
    "start_time": "2023-04-21T16:48:00.592Z"
   },
   {
    "duration": 7,
    "start_time": "2023-04-21T16:48:01.501Z"
   },
   {
    "duration": 92,
    "start_time": "2023-04-21T16:48:01.510Z"
   },
   {
    "duration": 77,
    "start_time": "2023-04-21T16:48:01.605Z"
   },
   {
    "duration": 46,
    "start_time": "2023-04-21T16:48:01.684Z"
   },
   {
    "duration": 75,
    "start_time": "2023-04-21T16:48:01.732Z"
   },
   {
    "duration": 21,
    "start_time": "2023-04-21T16:48:01.809Z"
   },
   {
    "duration": 167,
    "start_time": "2023-04-21T16:48:01.832Z"
   },
   {
    "duration": 66,
    "start_time": "2023-04-21T16:48:02.001Z"
   },
   {
    "duration": 33,
    "start_time": "2023-04-21T16:48:02.069Z"
   },
   {
    "duration": 60,
    "start_time": "2023-04-21T16:48:02.104Z"
   },
   {
    "duration": 21,
    "start_time": "2023-04-21T16:48:02.167Z"
   },
   {
    "duration": 196,
    "start_time": "2023-04-21T16:48:02.190Z"
   },
   {
    "duration": 16,
    "start_time": "2023-04-21T16:48:02.388Z"
   },
   {
    "duration": 181,
    "start_time": "2023-04-21T16:48:02.406Z"
   },
   {
    "duration": 18,
    "start_time": "2023-04-21T16:48:02.589Z"
   },
   {
    "duration": 51,
    "start_time": "2023-04-21T16:48:02.609Z"
   },
   {
    "duration": 217,
    "start_time": "2023-04-21T16:48:02.662Z"
   },
   {
    "duration": 26,
    "start_time": "2023-04-21T16:48:02.882Z"
   },
   {
    "duration": 467,
    "start_time": "2023-04-21T16:48:02.910Z"
   },
   {
    "duration": 10,
    "start_time": "2023-04-21T16:48:03.379Z"
   },
   {
    "duration": 5,
    "start_time": "2023-04-21T16:48:03.391Z"
   },
   {
    "duration": 48,
    "start_time": "2023-04-21T16:48:03.398Z"
   },
   {
    "duration": 1006,
    "start_time": "2023-04-21T16:48:03.448Z"
   },
   {
    "duration": 5,
    "start_time": "2023-04-21T16:48:04.456Z"
   },
   {
    "duration": 17,
    "start_time": "2023-04-21T16:48:04.463Z"
   },
   {
    "duration": 281,
    "start_time": "2023-04-21T16:48:04.482Z"
   },
   {
    "duration": 329,
    "start_time": "2023-04-21T16:48:04.765Z"
   },
   {
    "duration": 8,
    "start_time": "2023-04-21T16:48:05.095Z"
   },
   {
    "duration": 30,
    "start_time": "2023-04-21T16:48:05.105Z"
   },
   {
    "duration": 242,
    "start_time": "2023-04-21T16:48:05.137Z"
   },
   {
    "duration": 170,
    "start_time": "2023-04-21T16:48:05.381Z"
   },
   {
    "duration": 6,
    "start_time": "2023-04-21T16:48:05.553Z"
   },
   {
    "duration": 463,
    "start_time": "2023-04-21T16:48:05.560Z"
   },
   {
    "duration": 17,
    "start_time": "2023-04-21T16:48:06.025Z"
   },
   {
    "duration": 1369,
    "start_time": "2024-06-28T14:47:44.058Z"
   },
   {
    "duration": 298,
    "start_time": "2024-06-28T14:47:45.429Z"
   },
   {
    "duration": 102,
    "start_time": "2024-06-28T14:47:46.945Z"
   },
   {
    "duration": 21,
    "start_time": "2024-06-28T14:47:47.481Z"
   },
   {
    "duration": 20,
    "start_time": "2024-06-28T14:47:48.631Z"
   },
   {
    "duration": 16,
    "start_time": "2024-06-28T14:47:51.482Z"
   },
   {
    "duration": 4,
    "start_time": "2024-06-28T14:47:57.503Z"
   },
   {
    "duration": 107,
    "start_time": "2024-06-28T14:48:01.097Z"
   },
   {
    "duration": 17,
    "start_time": "2024-06-28T14:48:09.389Z"
   },
   {
    "duration": 10,
    "start_time": "2024-06-28T14:48:12.691Z"
   },
   {
    "duration": 5,
    "start_time": "2024-06-28T14:48:15.555Z"
   },
   {
    "duration": 9,
    "start_time": "2024-06-28T14:48:16.792Z"
   },
   {
    "duration": 13,
    "start_time": "2024-06-28T14:48:19.296Z"
   },
   {
    "duration": 9,
    "start_time": "2024-06-28T14:48:47.444Z"
   },
   {
    "duration": 16,
    "start_time": "2024-06-28T14:48:49.662Z"
   },
   {
    "duration": 5,
    "start_time": "2024-06-28T14:48:50.972Z"
   },
   {
    "duration": 10,
    "start_time": "2024-06-28T14:49:03.846Z"
   },
   {
    "duration": 14,
    "start_time": "2024-06-28T14:49:25.638Z"
   },
   {
    "duration": 5,
    "start_time": "2024-06-28T14:49:27.500Z"
   },
   {
    "duration": 9,
    "start_time": "2024-06-28T14:49:39.723Z"
   },
   {
    "duration": 16,
    "start_time": "2024-06-28T14:49:42.507Z"
   },
   {
    "duration": 12,
    "start_time": "2024-06-28T14:49:43.388Z"
   },
   {
    "duration": 3,
    "start_time": "2024-06-28T14:49:47.340Z"
   },
   {
    "duration": 9,
    "start_time": "2024-06-28T14:49:48.028Z"
   },
   {
    "duration": 6,
    "start_time": "2024-06-28T14:49:51.885Z"
   },
   {
    "duration": 5,
    "start_time": "2024-06-28T14:49:58.161Z"
   },
   {
    "duration": 5,
    "start_time": "2024-06-28T14:50:01.865Z"
   },
   {
    "duration": 16,
    "start_time": "2024-06-28T14:50:20.542Z"
   },
   {
    "duration": 15,
    "start_time": "2024-06-28T14:50:27.111Z"
   },
   {
    "duration": 6,
    "start_time": "2024-06-28T14:50:34.340Z"
   },
   {
    "duration": 6,
    "start_time": "2024-06-28T14:50:37.495Z"
   },
   {
    "duration": 9,
    "start_time": "2024-06-28T14:50:38.478Z"
   },
   {
    "duration": 41,
    "start_time": "2024-06-28T14:50:51.578Z"
   },
   {
    "duration": 20,
    "start_time": "2024-06-28T14:51:08.121Z"
   },
   {
    "duration": 80,
    "start_time": "2024-06-28T14:51:22.012Z"
   },
   {
    "duration": 12,
    "start_time": "2024-06-28T14:51:22.668Z"
   },
   {
    "duration": 13,
    "start_time": "2024-06-28T14:51:31.473Z"
   },
   {
    "duration": 152,
    "start_time": "2024-06-28T14:51:36.138Z"
   },
   {
    "duration": 8,
    "start_time": "2024-06-28T14:51:40.409Z"
   },
   {
    "duration": 21,
    "start_time": "2024-06-28T14:51:46.393Z"
   },
   {
    "duration": 126,
    "start_time": "2024-06-28T14:51:53.139Z"
   },
   {
    "duration": 10,
    "start_time": "2024-06-28T14:52:02.835Z"
   },
   {
    "duration": 17,
    "start_time": "2024-06-28T14:52:09.081Z"
   },
   {
    "duration": 118,
    "start_time": "2024-06-28T14:52:12.104Z"
   },
   {
    "duration": 10,
    "start_time": "2024-06-28T14:52:17.397Z"
   },
   {
    "duration": 20,
    "start_time": "2024-06-28T14:52:22.555Z"
   },
   {
    "duration": 15,
    "start_time": "2024-06-28T14:52:29.414Z"
   },
   {
    "duration": 27,
    "start_time": "2024-06-28T14:52:32.559Z"
   },
   {
    "duration": 14,
    "start_time": "2024-06-28T14:52:33.570Z"
   },
   {
    "duration": 8,
    "start_time": "2024-06-28T14:52:40.701Z"
   },
   {
    "duration": 29,
    "start_time": "2024-06-28T14:52:49.984Z"
   },
   {
    "duration": 5,
    "start_time": "2024-06-28T14:52:54.931Z"
   },
   {
    "duration": 9,
    "start_time": "2024-06-28T14:52:56.091Z"
   },
   {
    "duration": 703,
    "start_time": "2024-06-28T14:53:03.773Z"
   },
   {
    "duration": 5,
    "start_time": "2024-06-28T14:53:13.113Z"
   },
   {
    "duration": 6,
    "start_time": "2024-06-28T14:53:13.687Z"
   },
   {
    "duration": 3,
    "start_time": "2024-06-28T14:53:16.181Z"
   },
   {
    "duration": 16,
    "start_time": "2024-06-28T14:53:16.651Z"
   },
   {
    "duration": 6,
    "start_time": "2024-06-28T14:53:17.492Z"
   },
   {
    "duration": 6,
    "start_time": "2024-06-28T14:53:20.941Z"
   },
   {
    "duration": 5,
    "start_time": "2024-06-28T14:53:21.965Z"
   },
   {
    "duration": 7,
    "start_time": "2024-06-28T14:53:22.599Z"
   },
   {
    "duration": 4,
    "start_time": "2024-06-28T14:53:25.267Z"
   },
   {
    "duration": 7,
    "start_time": "2024-06-28T14:53:27.404Z"
   },
   {
    "duration": 6,
    "start_time": "2024-06-28T14:53:33.372Z"
   },
   {
    "duration": 179,
    "start_time": "2024-06-28T14:53:35.604Z"
   },
   {
    "duration": 16,
    "start_time": "2024-06-28T14:53:38.096Z"
   },
   {
    "duration": 154,
    "start_time": "2024-06-28T14:53:38.668Z"
   },
   {
    "duration": 13,
    "start_time": "2024-06-28T14:53:42.035Z"
   },
   {
    "duration": 22,
    "start_time": "2024-06-28T14:53:45.373Z"
   },
   {
    "duration": 182,
    "start_time": "2024-06-28T14:53:52.133Z"
   },
   {
    "duration": 22,
    "start_time": "2024-06-28T14:53:58.231Z"
   },
   {
    "duration": 396,
    "start_time": "2024-06-28T14:54:01.318Z"
   },
   {
    "duration": 12,
    "start_time": "2024-06-28T14:54:04.030Z"
   },
   {
    "duration": 4,
    "start_time": "2024-06-28T14:54:05.566Z"
   },
   {
    "duration": 23,
    "start_time": "2024-06-28T14:54:06.132Z"
   },
   {
    "duration": 971,
    "start_time": "2024-06-28T14:54:09.101Z"
   },
   {
    "duration": 4,
    "start_time": "2024-06-28T14:54:22.077Z"
   },
   {
    "duration": 4,
    "start_time": "2024-06-28T14:54:22.728Z"
   },
   {
    "duration": 266,
    "start_time": "2024-06-28T14:54:29.968Z"
   },
   {
    "duration": 274,
    "start_time": "2024-06-28T14:54:33.399Z"
   },
   {
    "duration": 7,
    "start_time": "2024-06-28T14:54:38.632Z"
   },
   {
    "duration": 7,
    "start_time": "2024-06-28T14:54:42.383Z"
   },
   {
    "duration": 203,
    "start_time": "2024-06-28T14:54:45.696Z"
   },
   {
    "duration": 138,
    "start_time": "2024-06-28T14:54:48.079Z"
   },
   {
    "duration": 5,
    "start_time": "2024-06-28T14:54:50.577Z"
   },
   {
    "duration": 248,
    "start_time": "2024-06-28T14:54:52.640Z"
   },
   {
    "duration": 7,
    "start_time": "2024-06-28T14:54:54.485Z"
   }
  ],
  "colab": {
   "name": "DA+. Сборный проект 1. Шаблон (1).ipynb",
   "provenance": []
  },
  "kernelspec": {
   "display_name": "Python 3 (ipykernel)",
   "language": "python",
   "name": "python3"
  },
  "language_info": {
   "codemirror_mode": {
    "name": "ipython",
    "version": 3
   },
   "file_extension": ".py",
   "mimetype": "text/x-python",
   "name": "python",
   "nbconvert_exporter": "python",
   "pygments_lexer": "ipython3",
   "version": "3.9.5"
  },
  "toc": {
   "base_numbering": 1,
   "nav_menu": {},
   "number_sections": true,
   "sideBar": true,
   "skip_h1_title": true,
   "title_cell": "Table of Contents",
   "title_sidebar": "Contents",
   "toc_cell": false,
   "toc_position": {
    "height": "calc(100% - 180px)",
    "left": "10px",
    "top": "150px",
    "width": "375.391px"
   },
   "toc_section_display": true,
   "toc_window_display": true
  }
 },
 "nbformat": 4,
 "nbformat_minor": 1
}
