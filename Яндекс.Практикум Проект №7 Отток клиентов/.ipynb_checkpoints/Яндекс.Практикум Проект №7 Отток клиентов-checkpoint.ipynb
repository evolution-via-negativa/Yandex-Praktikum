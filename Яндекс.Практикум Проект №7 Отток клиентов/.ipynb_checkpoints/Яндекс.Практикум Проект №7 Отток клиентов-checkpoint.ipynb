{
 "cells": [
  {
   "cell_type": "markdown",
   "metadata": {
    "toc": true
   },
   "source": [
    "<h1>Содержание<span class=\"tocSkip\"></span></h1>\n",
    "<div class=\"toc\"><ul class=\"toc-item\"><li><span><a href=\"#Подготовка-данных\" data-toc-modified-id=\"Подготовка-данных-1\"><span class=\"toc-item-num\">1&nbsp;&nbsp;</span>Подготовка данных</a></span></li><li><span><a href=\"#Предобработка-данных\" data-toc-modified-id=\"Предобработка-данных-2\"><span class=\"toc-item-num\">2&nbsp;&nbsp;</span>Предобработка данных</a></span></li><li><span><a href=\"#Исследование-задачи\" data-toc-modified-id=\"Исследование-задачи-3\"><span class=\"toc-item-num\">3&nbsp;&nbsp;</span>Исследование задачи</a></span></li><li><span><a href=\"#Борьба-с-дисбалансом\" data-toc-modified-id=\"Борьба-с-дисбалансом-4\"><span class=\"toc-item-num\">4&nbsp;&nbsp;</span>Борьба с дисбалансом</a></span></li><li><span><a href=\"#Тестирование-модели\" data-toc-modified-id=\"Тестирование-модели-5\"><span class=\"toc-item-num\">5&nbsp;&nbsp;</span>Тестирование модели</a></span></li><li><span><a href=\"#Общий-вывод\" data-toc-modified-id=\"Общий-вывод-6\"><span class=\"toc-item-num\">6&nbsp;&nbsp;</span>Общий вывод</a></span></li><li><span><a href=\"#Чек-лист-готовности-проекта\" data-toc-modified-id=\"Чек-лист-готовности-проекта-7\"><span class=\"toc-item-num\">7&nbsp;&nbsp;</span>Чек-лист готовности проекта</a></span></li></ul></div>"
   ]
  },
  {
   "cell_type": "markdown",
   "metadata": {},
   "source": [
    "# Отток клиентов"
   ]
  },
  {
   "cell_type": "markdown",
   "metadata": {},
   "source": [
    "Из «Бета-Банка» стали уходить клиенты. Каждый месяц. Немного, но заметно. Банковские маркетологи посчитали: сохранять текущих клиентов дешевле, чем привлекать новых.\n",
    "\n",
    "Нужно спрогнозировать, уйдёт клиент из банка в ближайшее время или нет. Вам предоставлены исторические данные о поведении клиентов и расторжении договоров с банком. \n",
    "\n",
    "Постройте модель с предельно большим значением *F1*-меры. Чтобы сдать проект успешно, нужно довести метрику до 0.59. Проверьте *F1*-меру на тестовой выборке самостоятельно.\n",
    "\n",
    "Дополнительно измеряйте *AUC-ROC*, сравнивайте её значение с *F1*-мерой.\n",
    "\n",
    "Источник данных: [https://www.kaggle.com/barelydedicated/bank-customer-churn-modeling](https://www.kaggle.com/barelydedicated/bank-customer-churn-modeling)"
   ]
  },
  {
   "cell_type": "code",
   "execution_count": 21,
   "metadata": {},
   "outputs": [],
   "source": [
    "import pandas as pd\n",
    "import matplotlib.pyplot as plt\n",
    "from sklearn.model_selection import train_test_split\n",
    "from sklearn.dummy import DummyClassifier\n",
    "from sklearn.tree import DecisionTreeClassifier \n",
    "from sklearn.ensemble import RandomForestClassifier \n",
    "from sklearn.linear_model import LogisticRegression\n",
    "from sklearn.metrics import f1_score, roc_curve, roc_auc_score\n",
    "from sklearn.utils import shuffle\n",
    "from tqdm import tqdm\n",
    "\n",
    "random_state = 12345"
   ]
  },
  {
   "cell_type": "markdown",
   "metadata": {},
   "source": [
    "## Подготовка данных"
   ]
  },
  {
   "cell_type": "code",
   "execution_count": 22,
   "metadata": {},
   "outputs": [],
   "source": [
    "# Получим данные о поведении клиентов и расторжении договоров с банком безопасным способом при помощи конструкции try-except\n",
    "try:\n",
    "    data = pd.read_csv('/datasets/Churn.csv')\n",
    "except:\n",
    "    data = pd.read_csv('https://code.s3.yandex.net/datasets/Churn.csv')"
   ]
  },
  {
   "cell_type": "code",
   "execution_count": 23,
   "metadata": {},
   "outputs": [
    {
     "data": {
      "text/html": [
       "<div>\n",
       "<style scoped>\n",
       "    .dataframe tbody tr th:only-of-type {\n",
       "        vertical-align: middle;\n",
       "    }\n",
       "\n",
       "    .dataframe tbody tr th {\n",
       "        vertical-align: top;\n",
       "    }\n",
       "\n",
       "    .dataframe thead th {\n",
       "        text-align: right;\n",
       "    }\n",
       "</style>\n",
       "<table border=\"1\" class=\"dataframe\">\n",
       "  <thead>\n",
       "    <tr style=\"text-align: right;\">\n",
       "      <th></th>\n",
       "      <th>RowNumber</th>\n",
       "      <th>CustomerId</th>\n",
       "      <th>Surname</th>\n",
       "      <th>CreditScore</th>\n",
       "      <th>Geography</th>\n",
       "      <th>Gender</th>\n",
       "      <th>Age</th>\n",
       "      <th>Tenure</th>\n",
       "      <th>Balance</th>\n",
       "      <th>NumOfProducts</th>\n",
       "      <th>HasCrCard</th>\n",
       "      <th>IsActiveMember</th>\n",
       "      <th>EstimatedSalary</th>\n",
       "      <th>Exited</th>\n",
       "    </tr>\n",
       "  </thead>\n",
       "  <tbody>\n",
       "    <tr>\n",
       "      <th>0</th>\n",
       "      <td>1</td>\n",
       "      <td>15634602</td>\n",
       "      <td>Hargrave</td>\n",
       "      <td>619</td>\n",
       "      <td>France</td>\n",
       "      <td>Female</td>\n",
       "      <td>42</td>\n",
       "      <td>2.0</td>\n",
       "      <td>0.00</td>\n",
       "      <td>1</td>\n",
       "      <td>1</td>\n",
       "      <td>1</td>\n",
       "      <td>101348.88</td>\n",
       "      <td>1</td>\n",
       "    </tr>\n",
       "    <tr>\n",
       "      <th>1</th>\n",
       "      <td>2</td>\n",
       "      <td>15647311</td>\n",
       "      <td>Hill</td>\n",
       "      <td>608</td>\n",
       "      <td>Spain</td>\n",
       "      <td>Female</td>\n",
       "      <td>41</td>\n",
       "      <td>1.0</td>\n",
       "      <td>83807.86</td>\n",
       "      <td>1</td>\n",
       "      <td>0</td>\n",
       "      <td>1</td>\n",
       "      <td>112542.58</td>\n",
       "      <td>0</td>\n",
       "    </tr>\n",
       "    <tr>\n",
       "      <th>2</th>\n",
       "      <td>3</td>\n",
       "      <td>15619304</td>\n",
       "      <td>Onio</td>\n",
       "      <td>502</td>\n",
       "      <td>France</td>\n",
       "      <td>Female</td>\n",
       "      <td>42</td>\n",
       "      <td>8.0</td>\n",
       "      <td>159660.80</td>\n",
       "      <td>3</td>\n",
       "      <td>1</td>\n",
       "      <td>0</td>\n",
       "      <td>113931.57</td>\n",
       "      <td>1</td>\n",
       "    </tr>\n",
       "    <tr>\n",
       "      <th>3</th>\n",
       "      <td>4</td>\n",
       "      <td>15701354</td>\n",
       "      <td>Boni</td>\n",
       "      <td>699</td>\n",
       "      <td>France</td>\n",
       "      <td>Female</td>\n",
       "      <td>39</td>\n",
       "      <td>1.0</td>\n",
       "      <td>0.00</td>\n",
       "      <td>2</td>\n",
       "      <td>0</td>\n",
       "      <td>0</td>\n",
       "      <td>93826.63</td>\n",
       "      <td>0</td>\n",
       "    </tr>\n",
       "    <tr>\n",
       "      <th>4</th>\n",
       "      <td>5</td>\n",
       "      <td>15737888</td>\n",
       "      <td>Mitchell</td>\n",
       "      <td>850</td>\n",
       "      <td>Spain</td>\n",
       "      <td>Female</td>\n",
       "      <td>43</td>\n",
       "      <td>2.0</td>\n",
       "      <td>125510.82</td>\n",
       "      <td>1</td>\n",
       "      <td>1</td>\n",
       "      <td>1</td>\n",
       "      <td>79084.10</td>\n",
       "      <td>0</td>\n",
       "    </tr>\n",
       "    <tr>\n",
       "      <th>5</th>\n",
       "      <td>6</td>\n",
       "      <td>15574012</td>\n",
       "      <td>Chu</td>\n",
       "      <td>645</td>\n",
       "      <td>Spain</td>\n",
       "      <td>Male</td>\n",
       "      <td>44</td>\n",
       "      <td>8.0</td>\n",
       "      <td>113755.78</td>\n",
       "      <td>2</td>\n",
       "      <td>1</td>\n",
       "      <td>0</td>\n",
       "      <td>149756.71</td>\n",
       "      <td>1</td>\n",
       "    </tr>\n",
       "    <tr>\n",
       "      <th>6</th>\n",
       "      <td>7</td>\n",
       "      <td>15592531</td>\n",
       "      <td>Bartlett</td>\n",
       "      <td>822</td>\n",
       "      <td>France</td>\n",
       "      <td>Male</td>\n",
       "      <td>50</td>\n",
       "      <td>7.0</td>\n",
       "      <td>0.00</td>\n",
       "      <td>2</td>\n",
       "      <td>1</td>\n",
       "      <td>1</td>\n",
       "      <td>10062.80</td>\n",
       "      <td>0</td>\n",
       "    </tr>\n",
       "    <tr>\n",
       "      <th>7</th>\n",
       "      <td>8</td>\n",
       "      <td>15656148</td>\n",
       "      <td>Obinna</td>\n",
       "      <td>376</td>\n",
       "      <td>Germany</td>\n",
       "      <td>Female</td>\n",
       "      <td>29</td>\n",
       "      <td>4.0</td>\n",
       "      <td>115046.74</td>\n",
       "      <td>4</td>\n",
       "      <td>1</td>\n",
       "      <td>0</td>\n",
       "      <td>119346.88</td>\n",
       "      <td>1</td>\n",
       "    </tr>\n",
       "    <tr>\n",
       "      <th>8</th>\n",
       "      <td>9</td>\n",
       "      <td>15792365</td>\n",
       "      <td>He</td>\n",
       "      <td>501</td>\n",
       "      <td>France</td>\n",
       "      <td>Male</td>\n",
       "      <td>44</td>\n",
       "      <td>4.0</td>\n",
       "      <td>142051.07</td>\n",
       "      <td>2</td>\n",
       "      <td>0</td>\n",
       "      <td>1</td>\n",
       "      <td>74940.50</td>\n",
       "      <td>0</td>\n",
       "    </tr>\n",
       "    <tr>\n",
       "      <th>9</th>\n",
       "      <td>10</td>\n",
       "      <td>15592389</td>\n",
       "      <td>H?</td>\n",
       "      <td>684</td>\n",
       "      <td>France</td>\n",
       "      <td>Male</td>\n",
       "      <td>27</td>\n",
       "      <td>2.0</td>\n",
       "      <td>134603.88</td>\n",
       "      <td>1</td>\n",
       "      <td>1</td>\n",
       "      <td>1</td>\n",
       "      <td>71725.73</td>\n",
       "      <td>0</td>\n",
       "    </tr>\n",
       "  </tbody>\n",
       "</table>\n",
       "</div>"
      ],
      "text/plain": [
       "   RowNumber  CustomerId   Surname  CreditScore Geography  Gender  Age  \\\n",
       "0          1    15634602  Hargrave          619    France  Female   42   \n",
       "1          2    15647311      Hill          608     Spain  Female   41   \n",
       "2          3    15619304      Onio          502    France  Female   42   \n",
       "3          4    15701354      Boni          699    France  Female   39   \n",
       "4          5    15737888  Mitchell          850     Spain  Female   43   \n",
       "5          6    15574012       Chu          645     Spain    Male   44   \n",
       "6          7    15592531  Bartlett          822    France    Male   50   \n",
       "7          8    15656148    Obinna          376   Germany  Female   29   \n",
       "8          9    15792365        He          501    France    Male   44   \n",
       "9         10    15592389        H?          684    France    Male   27   \n",
       "\n",
       "   Tenure    Balance  NumOfProducts  HasCrCard  IsActiveMember  \\\n",
       "0     2.0       0.00              1          1               1   \n",
       "1     1.0   83807.86              1          0               1   \n",
       "2     8.0  159660.80              3          1               0   \n",
       "3     1.0       0.00              2          0               0   \n",
       "4     2.0  125510.82              1          1               1   \n",
       "5     8.0  113755.78              2          1               0   \n",
       "6     7.0       0.00              2          1               1   \n",
       "7     4.0  115046.74              4          1               0   \n",
       "8     4.0  142051.07              2          0               1   \n",
       "9     2.0  134603.88              1          1               1   \n",
       "\n",
       "   EstimatedSalary  Exited  \n",
       "0        101348.88       1  \n",
       "1        112542.58       0  \n",
       "2        113931.57       1  \n",
       "3         93826.63       0  \n",
       "4         79084.10       0  \n",
       "5        149756.71       1  \n",
       "6         10062.80       0  \n",
       "7        119346.88       1  \n",
       "8         74940.50       0  \n",
       "9         71725.73       0  "
      ]
     },
     "execution_count": 23,
     "metadata": {},
     "output_type": "execute_result"
    }
   ],
   "source": [
    "# check\n",
    "data.head(10)"
   ]
  },
  {
   "cell_type": "code",
   "execution_count": 24,
   "metadata": {},
   "outputs": [
    {
     "name": "stdout",
     "output_type": "stream",
     "text": [
      "<class 'pandas.core.frame.DataFrame'>\n",
      "RangeIndex: 10000 entries, 0 to 9999\n",
      "Data columns (total 14 columns):\n",
      " #   Column           Non-Null Count  Dtype  \n",
      "---  ------           --------------  -----  \n",
      " 0   RowNumber        10000 non-null  int64  \n",
      " 1   CustomerId       10000 non-null  int64  \n",
      " 2   Surname          10000 non-null  object \n",
      " 3   CreditScore      10000 non-null  int64  \n",
      " 4   Geography        10000 non-null  object \n",
      " 5   Gender           10000 non-null  object \n",
      " 6   Age              10000 non-null  int64  \n",
      " 7   Tenure           9091 non-null   float64\n",
      " 8   Balance          10000 non-null  float64\n",
      " 9   NumOfProducts    10000 non-null  int64  \n",
      " 10  HasCrCard        10000 non-null  int64  \n",
      " 11  IsActiveMember   10000 non-null  int64  \n",
      " 12  EstimatedSalary  10000 non-null  float64\n",
      " 13  Exited           10000 non-null  int64  \n",
      "dtypes: float64(3), int64(8), object(3)\n",
      "memory usage: 1.1+ MB\n"
     ]
    }
   ],
   "source": [
    "# check\n",
    "data.info()"
   ]
  },
  {
   "cell_type": "code",
   "execution_count": 25,
   "metadata": {},
   "outputs": [
    {
     "data": {
      "text/html": [
       "<div>\n",
       "<style scoped>\n",
       "    .dataframe tbody tr th:only-of-type {\n",
       "        vertical-align: middle;\n",
       "    }\n",
       "\n",
       "    .dataframe tbody tr th {\n",
       "        vertical-align: top;\n",
       "    }\n",
       "\n",
       "    .dataframe thead th {\n",
       "        text-align: right;\n",
       "    }\n",
       "</style>\n",
       "<table border=\"1\" class=\"dataframe\">\n",
       "  <thead>\n",
       "    <tr style=\"text-align: right;\">\n",
       "      <th></th>\n",
       "      <th>RowNumber</th>\n",
       "      <th>CustomerId</th>\n",
       "      <th>CreditScore</th>\n",
       "      <th>Age</th>\n",
       "      <th>Tenure</th>\n",
       "      <th>Balance</th>\n",
       "      <th>NumOfProducts</th>\n",
       "      <th>HasCrCard</th>\n",
       "      <th>IsActiveMember</th>\n",
       "      <th>EstimatedSalary</th>\n",
       "      <th>Exited</th>\n",
       "    </tr>\n",
       "  </thead>\n",
       "  <tbody>\n",
       "    <tr>\n",
       "      <th>count</th>\n",
       "      <td>10000.00000</td>\n",
       "      <td>1.000000e+04</td>\n",
       "      <td>10000.000000</td>\n",
       "      <td>10000.000000</td>\n",
       "      <td>9091.000000</td>\n",
       "      <td>10000.000000</td>\n",
       "      <td>10000.000000</td>\n",
       "      <td>10000.00000</td>\n",
       "      <td>10000.000000</td>\n",
       "      <td>10000.000000</td>\n",
       "      <td>10000.000000</td>\n",
       "    </tr>\n",
       "    <tr>\n",
       "      <th>mean</th>\n",
       "      <td>5000.50000</td>\n",
       "      <td>1.569094e+07</td>\n",
       "      <td>650.528800</td>\n",
       "      <td>38.921800</td>\n",
       "      <td>4.997690</td>\n",
       "      <td>76485.889288</td>\n",
       "      <td>1.530200</td>\n",
       "      <td>0.70550</td>\n",
       "      <td>0.515100</td>\n",
       "      <td>100090.239881</td>\n",
       "      <td>0.203700</td>\n",
       "    </tr>\n",
       "    <tr>\n",
       "      <th>std</th>\n",
       "      <td>2886.89568</td>\n",
       "      <td>7.193619e+04</td>\n",
       "      <td>96.653299</td>\n",
       "      <td>10.487806</td>\n",
       "      <td>2.894723</td>\n",
       "      <td>62397.405202</td>\n",
       "      <td>0.581654</td>\n",
       "      <td>0.45584</td>\n",
       "      <td>0.499797</td>\n",
       "      <td>57510.492818</td>\n",
       "      <td>0.402769</td>\n",
       "    </tr>\n",
       "    <tr>\n",
       "      <th>min</th>\n",
       "      <td>1.00000</td>\n",
       "      <td>1.556570e+07</td>\n",
       "      <td>350.000000</td>\n",
       "      <td>18.000000</td>\n",
       "      <td>0.000000</td>\n",
       "      <td>0.000000</td>\n",
       "      <td>1.000000</td>\n",
       "      <td>0.00000</td>\n",
       "      <td>0.000000</td>\n",
       "      <td>11.580000</td>\n",
       "      <td>0.000000</td>\n",
       "    </tr>\n",
       "    <tr>\n",
       "      <th>25%</th>\n",
       "      <td>2500.75000</td>\n",
       "      <td>1.562853e+07</td>\n",
       "      <td>584.000000</td>\n",
       "      <td>32.000000</td>\n",
       "      <td>2.000000</td>\n",
       "      <td>0.000000</td>\n",
       "      <td>1.000000</td>\n",
       "      <td>0.00000</td>\n",
       "      <td>0.000000</td>\n",
       "      <td>51002.110000</td>\n",
       "      <td>0.000000</td>\n",
       "    </tr>\n",
       "    <tr>\n",
       "      <th>50%</th>\n",
       "      <td>5000.50000</td>\n",
       "      <td>1.569074e+07</td>\n",
       "      <td>652.000000</td>\n",
       "      <td>37.000000</td>\n",
       "      <td>5.000000</td>\n",
       "      <td>97198.540000</td>\n",
       "      <td>1.000000</td>\n",
       "      <td>1.00000</td>\n",
       "      <td>1.000000</td>\n",
       "      <td>100193.915000</td>\n",
       "      <td>0.000000</td>\n",
       "    </tr>\n",
       "    <tr>\n",
       "      <th>75%</th>\n",
       "      <td>7500.25000</td>\n",
       "      <td>1.575323e+07</td>\n",
       "      <td>718.000000</td>\n",
       "      <td>44.000000</td>\n",
       "      <td>7.000000</td>\n",
       "      <td>127644.240000</td>\n",
       "      <td>2.000000</td>\n",
       "      <td>1.00000</td>\n",
       "      <td>1.000000</td>\n",
       "      <td>149388.247500</td>\n",
       "      <td>0.000000</td>\n",
       "    </tr>\n",
       "    <tr>\n",
       "      <th>max</th>\n",
       "      <td>10000.00000</td>\n",
       "      <td>1.581569e+07</td>\n",
       "      <td>850.000000</td>\n",
       "      <td>92.000000</td>\n",
       "      <td>10.000000</td>\n",
       "      <td>250898.090000</td>\n",
       "      <td>4.000000</td>\n",
       "      <td>1.00000</td>\n",
       "      <td>1.000000</td>\n",
       "      <td>199992.480000</td>\n",
       "      <td>1.000000</td>\n",
       "    </tr>\n",
       "  </tbody>\n",
       "</table>\n",
       "</div>"
      ],
      "text/plain": [
       "         RowNumber    CustomerId   CreditScore           Age       Tenure  \\\n",
       "count  10000.00000  1.000000e+04  10000.000000  10000.000000  9091.000000   \n",
       "mean    5000.50000  1.569094e+07    650.528800     38.921800     4.997690   \n",
       "std     2886.89568  7.193619e+04     96.653299     10.487806     2.894723   \n",
       "min        1.00000  1.556570e+07    350.000000     18.000000     0.000000   \n",
       "25%     2500.75000  1.562853e+07    584.000000     32.000000     2.000000   \n",
       "50%     5000.50000  1.569074e+07    652.000000     37.000000     5.000000   \n",
       "75%     7500.25000  1.575323e+07    718.000000     44.000000     7.000000   \n",
       "max    10000.00000  1.581569e+07    850.000000     92.000000    10.000000   \n",
       "\n",
       "             Balance  NumOfProducts    HasCrCard  IsActiveMember  \\\n",
       "count   10000.000000   10000.000000  10000.00000    10000.000000   \n",
       "mean    76485.889288       1.530200      0.70550        0.515100   \n",
       "std     62397.405202       0.581654      0.45584        0.499797   \n",
       "min         0.000000       1.000000      0.00000        0.000000   \n",
       "25%         0.000000       1.000000      0.00000        0.000000   \n",
       "50%     97198.540000       1.000000      1.00000        1.000000   \n",
       "75%    127644.240000       2.000000      1.00000        1.000000   \n",
       "max    250898.090000       4.000000      1.00000        1.000000   \n",
       "\n",
       "       EstimatedSalary        Exited  \n",
       "count     10000.000000  10000.000000  \n",
       "mean     100090.239881      0.203700  \n",
       "std       57510.492818      0.402769  \n",
       "min          11.580000      0.000000  \n",
       "25%       51002.110000      0.000000  \n",
       "50%      100193.915000      0.000000  \n",
       "75%      149388.247500      0.000000  \n",
       "max      199992.480000      1.000000  "
      ]
     },
     "execution_count": 25,
     "metadata": {},
     "output_type": "execute_result"
    }
   ],
   "source": [
    "# check\n",
    "data.describe()"
   ]
  },
  {
   "cell_type": "code",
   "execution_count": 26,
   "metadata": {},
   "outputs": [
    {
     "data": {
      "text/html": [
       "<div>\n",
       "<style scoped>\n",
       "    .dataframe tbody tr th:only-of-type {\n",
       "        vertical-align: middle;\n",
       "    }\n",
       "\n",
       "    .dataframe tbody tr th {\n",
       "        vertical-align: top;\n",
       "    }\n",
       "\n",
       "    .dataframe thead th {\n",
       "        text-align: right;\n",
       "    }\n",
       "</style>\n",
       "<table border=\"1\" class=\"dataframe\">\n",
       "  <thead>\n",
       "    <tr style=\"text-align: right;\">\n",
       "      <th></th>\n",
       "      <th>RowNumber</th>\n",
       "      <th>CustomerId</th>\n",
       "      <th>CreditScore</th>\n",
       "      <th>Age</th>\n",
       "      <th>Tenure</th>\n",
       "      <th>Balance</th>\n",
       "      <th>NumOfProducts</th>\n",
       "      <th>HasCrCard</th>\n",
       "      <th>IsActiveMember</th>\n",
       "      <th>EstimatedSalary</th>\n",
       "      <th>Exited</th>\n",
       "    </tr>\n",
       "  </thead>\n",
       "  <tbody>\n",
       "    <tr>\n",
       "      <th>RowNumber</th>\n",
       "      <td>1.000000</td>\n",
       "      <td>0.004202</td>\n",
       "      <td>0.005840</td>\n",
       "      <td>0.000783</td>\n",
       "      <td>-0.007322</td>\n",
       "      <td>-0.009067</td>\n",
       "      <td>0.007246</td>\n",
       "      <td>0.000599</td>\n",
       "      <td>0.012044</td>\n",
       "      <td>-0.005988</td>\n",
       "      <td>-0.016571</td>\n",
       "    </tr>\n",
       "    <tr>\n",
       "      <th>CustomerId</th>\n",
       "      <td>0.004202</td>\n",
       "      <td>1.000000</td>\n",
       "      <td>0.005308</td>\n",
       "      <td>0.009497</td>\n",
       "      <td>-0.021418</td>\n",
       "      <td>-0.012419</td>\n",
       "      <td>0.016972</td>\n",
       "      <td>-0.014025</td>\n",
       "      <td>0.001665</td>\n",
       "      <td>0.015271</td>\n",
       "      <td>-0.006248</td>\n",
       "    </tr>\n",
       "    <tr>\n",
       "      <th>CreditScore</th>\n",
       "      <td>0.005840</td>\n",
       "      <td>0.005308</td>\n",
       "      <td>1.000000</td>\n",
       "      <td>-0.003965</td>\n",
       "      <td>-0.000062</td>\n",
       "      <td>0.006268</td>\n",
       "      <td>0.012238</td>\n",
       "      <td>-0.005458</td>\n",
       "      <td>0.025651</td>\n",
       "      <td>-0.001384</td>\n",
       "      <td>-0.027094</td>\n",
       "    </tr>\n",
       "    <tr>\n",
       "      <th>Age</th>\n",
       "      <td>0.000783</td>\n",
       "      <td>0.009497</td>\n",
       "      <td>-0.003965</td>\n",
       "      <td>1.000000</td>\n",
       "      <td>-0.013134</td>\n",
       "      <td>0.028308</td>\n",
       "      <td>-0.030680</td>\n",
       "      <td>-0.011721</td>\n",
       "      <td>0.085472</td>\n",
       "      <td>-0.007201</td>\n",
       "      <td>0.285323</td>\n",
       "    </tr>\n",
       "    <tr>\n",
       "      <th>Tenure</th>\n",
       "      <td>-0.007322</td>\n",
       "      <td>-0.021418</td>\n",
       "      <td>-0.000062</td>\n",
       "      <td>-0.013134</td>\n",
       "      <td>1.000000</td>\n",
       "      <td>-0.007911</td>\n",
       "      <td>0.011979</td>\n",
       "      <td>0.027232</td>\n",
       "      <td>-0.032178</td>\n",
       "      <td>0.010520</td>\n",
       "      <td>-0.016761</td>\n",
       "    </tr>\n",
       "    <tr>\n",
       "      <th>Balance</th>\n",
       "      <td>-0.009067</td>\n",
       "      <td>-0.012419</td>\n",
       "      <td>0.006268</td>\n",
       "      <td>0.028308</td>\n",
       "      <td>-0.007911</td>\n",
       "      <td>1.000000</td>\n",
       "      <td>-0.304180</td>\n",
       "      <td>-0.014858</td>\n",
       "      <td>-0.010084</td>\n",
       "      <td>0.012797</td>\n",
       "      <td>0.118533</td>\n",
       "    </tr>\n",
       "    <tr>\n",
       "      <th>NumOfProducts</th>\n",
       "      <td>0.007246</td>\n",
       "      <td>0.016972</td>\n",
       "      <td>0.012238</td>\n",
       "      <td>-0.030680</td>\n",
       "      <td>0.011979</td>\n",
       "      <td>-0.304180</td>\n",
       "      <td>1.000000</td>\n",
       "      <td>0.003183</td>\n",
       "      <td>0.009612</td>\n",
       "      <td>0.014204</td>\n",
       "      <td>-0.047820</td>\n",
       "    </tr>\n",
       "    <tr>\n",
       "      <th>HasCrCard</th>\n",
       "      <td>0.000599</td>\n",
       "      <td>-0.014025</td>\n",
       "      <td>-0.005458</td>\n",
       "      <td>-0.011721</td>\n",
       "      <td>0.027232</td>\n",
       "      <td>-0.014858</td>\n",
       "      <td>0.003183</td>\n",
       "      <td>1.000000</td>\n",
       "      <td>-0.011866</td>\n",
       "      <td>-0.009933</td>\n",
       "      <td>-0.007138</td>\n",
       "    </tr>\n",
       "    <tr>\n",
       "      <th>IsActiveMember</th>\n",
       "      <td>0.012044</td>\n",
       "      <td>0.001665</td>\n",
       "      <td>0.025651</td>\n",
       "      <td>0.085472</td>\n",
       "      <td>-0.032178</td>\n",
       "      <td>-0.010084</td>\n",
       "      <td>0.009612</td>\n",
       "      <td>-0.011866</td>\n",
       "      <td>1.000000</td>\n",
       "      <td>-0.011421</td>\n",
       "      <td>-0.156128</td>\n",
       "    </tr>\n",
       "    <tr>\n",
       "      <th>EstimatedSalary</th>\n",
       "      <td>-0.005988</td>\n",
       "      <td>0.015271</td>\n",
       "      <td>-0.001384</td>\n",
       "      <td>-0.007201</td>\n",
       "      <td>0.010520</td>\n",
       "      <td>0.012797</td>\n",
       "      <td>0.014204</td>\n",
       "      <td>-0.009933</td>\n",
       "      <td>-0.011421</td>\n",
       "      <td>1.000000</td>\n",
       "      <td>0.012097</td>\n",
       "    </tr>\n",
       "    <tr>\n",
       "      <th>Exited</th>\n",
       "      <td>-0.016571</td>\n",
       "      <td>-0.006248</td>\n",
       "      <td>-0.027094</td>\n",
       "      <td>0.285323</td>\n",
       "      <td>-0.016761</td>\n",
       "      <td>0.118533</td>\n",
       "      <td>-0.047820</td>\n",
       "      <td>-0.007138</td>\n",
       "      <td>-0.156128</td>\n",
       "      <td>0.012097</td>\n",
       "      <td>1.000000</td>\n",
       "    </tr>\n",
       "  </tbody>\n",
       "</table>\n",
       "</div>"
      ],
      "text/plain": [
       "                 RowNumber  CustomerId  CreditScore       Age    Tenure  \\\n",
       "RowNumber         1.000000    0.004202     0.005840  0.000783 -0.007322   \n",
       "CustomerId        0.004202    1.000000     0.005308  0.009497 -0.021418   \n",
       "CreditScore       0.005840    0.005308     1.000000 -0.003965 -0.000062   \n",
       "Age               0.000783    0.009497    -0.003965  1.000000 -0.013134   \n",
       "Tenure           -0.007322   -0.021418    -0.000062 -0.013134  1.000000   \n",
       "Balance          -0.009067   -0.012419     0.006268  0.028308 -0.007911   \n",
       "NumOfProducts     0.007246    0.016972     0.012238 -0.030680  0.011979   \n",
       "HasCrCard         0.000599   -0.014025    -0.005458 -0.011721  0.027232   \n",
       "IsActiveMember    0.012044    0.001665     0.025651  0.085472 -0.032178   \n",
       "EstimatedSalary  -0.005988    0.015271    -0.001384 -0.007201  0.010520   \n",
       "Exited           -0.016571   -0.006248    -0.027094  0.285323 -0.016761   \n",
       "\n",
       "                  Balance  NumOfProducts  HasCrCard  IsActiveMember  \\\n",
       "RowNumber       -0.009067       0.007246   0.000599        0.012044   \n",
       "CustomerId      -0.012419       0.016972  -0.014025        0.001665   \n",
       "CreditScore      0.006268       0.012238  -0.005458        0.025651   \n",
       "Age              0.028308      -0.030680  -0.011721        0.085472   \n",
       "Tenure          -0.007911       0.011979   0.027232       -0.032178   \n",
       "Balance          1.000000      -0.304180  -0.014858       -0.010084   \n",
       "NumOfProducts   -0.304180       1.000000   0.003183        0.009612   \n",
       "HasCrCard       -0.014858       0.003183   1.000000       -0.011866   \n",
       "IsActiveMember  -0.010084       0.009612  -0.011866        1.000000   \n",
       "EstimatedSalary  0.012797       0.014204  -0.009933       -0.011421   \n",
       "Exited           0.118533      -0.047820  -0.007138       -0.156128   \n",
       "\n",
       "                 EstimatedSalary    Exited  \n",
       "RowNumber              -0.005988 -0.016571  \n",
       "CustomerId              0.015271 -0.006248  \n",
       "CreditScore            -0.001384 -0.027094  \n",
       "Age                    -0.007201  0.285323  \n",
       "Tenure                  0.010520 -0.016761  \n",
       "Balance                 0.012797  0.118533  \n",
       "NumOfProducts           0.014204 -0.047820  \n",
       "HasCrCard              -0.009933 -0.007138  \n",
       "IsActiveMember         -0.011421 -0.156128  \n",
       "EstimatedSalary         1.000000  0.012097  \n",
       "Exited                  0.012097  1.000000  "
      ]
     },
     "execution_count": 26,
     "metadata": {},
     "output_type": "execute_result"
    }
   ],
   "source": [
    "# check\n",
    "data.corr()"
   ]
  },
  {
   "cell_type": "markdown",
   "metadata": {},
   "source": [
    "- Были обнаружены нарушения правил хорошего стиля в названии столбцов\n",
    "- В данных отсутствуют пропуски, кроме столбца `Tenure`\n",
    "- В данных отсутствуют несоответствия типов\n",
    "- Практически все признаки имеют околонулевую попарную корреляцию. Нет веских причин предполагать мультиколлинеарность в данных"
   ]
  },
  {
   "cell_type": "markdown",
   "metadata": {},
   "source": [
    "## Предобработка данных"
   ]
  },
  {
   "cell_type": "code",
   "execution_count": 27,
   "metadata": {},
   "outputs": [
    {
     "data": {
      "text/plain": [
       "Index(['RowNumber', 'CustomerId', 'Surname', 'CreditScore', 'Geography',\n",
       "       'Gender', 'Age', 'Tenure', 'Balance', 'NumOfProducts', 'HasCrCard',\n",
       "       'IsActiveMember', 'EstimatedSalary', 'Exited'],\n",
       "      dtype='object')"
      ]
     },
     "execution_count": 27,
     "metadata": {},
     "output_type": "execute_result"
    }
   ],
   "source": [
    "# check\n",
    "data.columns"
   ]
  },
  {
   "cell_type": "code",
   "execution_count": 28,
   "metadata": {},
   "outputs": [],
   "source": [
    "data.columns = map(str.lower, data.columns)\n",
    "data = data.rename({'rownumber': 'row_number',\n",
    "                    'customerid': 'customer_id',\n",
    "                    'creditscore': 'credit_score',\n",
    "                    'numofproducts': 'num_of_products',\n",
    "                    'hascrcard': 'has_cr_card',\n",
    "                    'isactivemember': 'is_active_member',\n",
    "                    'estimatedsalary': 'estimated_salary'}, axis=1)"
   ]
  },
  {
   "cell_type": "code",
   "execution_count": 29,
   "metadata": {},
   "outputs": [
    {
     "data": {
      "text/plain": [
       "Index(['row_number', 'customer_id', 'surname', 'credit_score', 'geography',\n",
       "       'gender', 'age', 'tenure', 'balance', 'num_of_products', 'has_cr_card',\n",
       "       'is_active_member', 'estimated_salary', 'exited'],\n",
       "      dtype='object')"
      ]
     },
     "execution_count": 29,
     "metadata": {},
     "output_type": "execute_result"
    }
   ],
   "source": [
    "# check\n",
    "data.columns"
   ]
  },
  {
   "cell_type": "code",
   "execution_count": 30,
   "metadata": {},
   "outputs": [
    {
     "data": {
      "text/plain": [
       "row_number            0\n",
       "customer_id           0\n",
       "surname               0\n",
       "credit_score          0\n",
       "geography             0\n",
       "gender                0\n",
       "age                   0\n",
       "tenure              909\n",
       "balance               0\n",
       "num_of_products       0\n",
       "has_cr_card           0\n",
       "is_active_member      0\n",
       "estimated_salary      0\n",
       "exited                0\n",
       "dtype: int64"
      ]
     },
     "execution_count": 30,
     "metadata": {},
     "output_type": "execute_result"
    }
   ],
   "source": [
    "# check\n",
    "data.isna().sum()"
   ]
  },
  {
   "cell_type": "code",
   "execution_count": 31,
   "metadata": {},
   "outputs": [],
   "source": [
    "# Удалим признаки, которые не несут ценности для прогноза\n",
    "data.drop(['row_number', 'customer_id', 'surname'], axis=1, inplace=True)"
   ]
  },
  {
   "cell_type": "code",
   "execution_count": 32,
   "metadata": {},
   "outputs": [
    {
     "data": {
      "text/html": [
       "<div>\n",
       "<style scoped>\n",
       "    .dataframe tbody tr th:only-of-type {\n",
       "        vertical-align: middle;\n",
       "    }\n",
       "\n",
       "    .dataframe tbody tr th {\n",
       "        vertical-align: top;\n",
       "    }\n",
       "\n",
       "    .dataframe thead th {\n",
       "        text-align: right;\n",
       "    }\n",
       "</style>\n",
       "<table border=\"1\" class=\"dataframe\">\n",
       "  <thead>\n",
       "    <tr style=\"text-align: right;\">\n",
       "      <th></th>\n",
       "      <th>credit_score</th>\n",
       "      <th>geography</th>\n",
       "      <th>gender</th>\n",
       "      <th>age</th>\n",
       "      <th>tenure</th>\n",
       "      <th>balance</th>\n",
       "      <th>num_of_products</th>\n",
       "      <th>has_cr_card</th>\n",
       "      <th>is_active_member</th>\n",
       "      <th>estimated_salary</th>\n",
       "      <th>exited</th>\n",
       "    </tr>\n",
       "  </thead>\n",
       "  <tbody>\n",
       "    <tr>\n",
       "      <th>30</th>\n",
       "      <td>591</td>\n",
       "      <td>Spain</td>\n",
       "      <td>Female</td>\n",
       "      <td>39</td>\n",
       "      <td>NaN</td>\n",
       "      <td>0.00</td>\n",
       "      <td>3</td>\n",
       "      <td>1</td>\n",
       "      <td>0</td>\n",
       "      <td>140469.38</td>\n",
       "      <td>1</td>\n",
       "    </tr>\n",
       "    <tr>\n",
       "      <th>48</th>\n",
       "      <td>550</td>\n",
       "      <td>Germany</td>\n",
       "      <td>Male</td>\n",
       "      <td>38</td>\n",
       "      <td>NaN</td>\n",
       "      <td>103391.38</td>\n",
       "      <td>1</td>\n",
       "      <td>0</td>\n",
       "      <td>1</td>\n",
       "      <td>90878.13</td>\n",
       "      <td>0</td>\n",
       "    </tr>\n",
       "    <tr>\n",
       "      <th>51</th>\n",
       "      <td>585</td>\n",
       "      <td>Germany</td>\n",
       "      <td>Male</td>\n",
       "      <td>36</td>\n",
       "      <td>NaN</td>\n",
       "      <td>146050.97</td>\n",
       "      <td>2</td>\n",
       "      <td>0</td>\n",
       "      <td>0</td>\n",
       "      <td>86424.57</td>\n",
       "      <td>0</td>\n",
       "    </tr>\n",
       "    <tr>\n",
       "      <th>53</th>\n",
       "      <td>655</td>\n",
       "      <td>Germany</td>\n",
       "      <td>Male</td>\n",
       "      <td>41</td>\n",
       "      <td>NaN</td>\n",
       "      <td>125561.97</td>\n",
       "      <td>1</td>\n",
       "      <td>0</td>\n",
       "      <td>0</td>\n",
       "      <td>164040.94</td>\n",
       "      <td>1</td>\n",
       "    </tr>\n",
       "    <tr>\n",
       "      <th>60</th>\n",
       "      <td>742</td>\n",
       "      <td>Germany</td>\n",
       "      <td>Male</td>\n",
       "      <td>35</td>\n",
       "      <td>NaN</td>\n",
       "      <td>136857.00</td>\n",
       "      <td>1</td>\n",
       "      <td>0</td>\n",
       "      <td>0</td>\n",
       "      <td>84509.57</td>\n",
       "      <td>0</td>\n",
       "    </tr>\n",
       "    <tr>\n",
       "      <th>...</th>\n",
       "      <td>...</td>\n",
       "      <td>...</td>\n",
       "      <td>...</td>\n",
       "      <td>...</td>\n",
       "      <td>...</td>\n",
       "      <td>...</td>\n",
       "      <td>...</td>\n",
       "      <td>...</td>\n",
       "      <td>...</td>\n",
       "      <td>...</td>\n",
       "      <td>...</td>\n",
       "    </tr>\n",
       "    <tr>\n",
       "      <th>9944</th>\n",
       "      <td>744</td>\n",
       "      <td>Germany</td>\n",
       "      <td>Male</td>\n",
       "      <td>41</td>\n",
       "      <td>NaN</td>\n",
       "      <td>190409.34</td>\n",
       "      <td>2</td>\n",
       "      <td>1</td>\n",
       "      <td>1</td>\n",
       "      <td>138361.48</td>\n",
       "      <td>0</td>\n",
       "    </tr>\n",
       "    <tr>\n",
       "      <th>9956</th>\n",
       "      <td>520</td>\n",
       "      <td>France</td>\n",
       "      <td>Female</td>\n",
       "      <td>46</td>\n",
       "      <td>NaN</td>\n",
       "      <td>85216.61</td>\n",
       "      <td>1</td>\n",
       "      <td>1</td>\n",
       "      <td>0</td>\n",
       "      <td>117369.52</td>\n",
       "      <td>1</td>\n",
       "    </tr>\n",
       "    <tr>\n",
       "      <th>9964</th>\n",
       "      <td>479</td>\n",
       "      <td>France</td>\n",
       "      <td>Male</td>\n",
       "      <td>34</td>\n",
       "      <td>NaN</td>\n",
       "      <td>117593.48</td>\n",
       "      <td>2</td>\n",
       "      <td>0</td>\n",
       "      <td>0</td>\n",
       "      <td>113308.29</td>\n",
       "      <td>0</td>\n",
       "    </tr>\n",
       "    <tr>\n",
       "      <th>9985</th>\n",
       "      <td>659</td>\n",
       "      <td>France</td>\n",
       "      <td>Male</td>\n",
       "      <td>36</td>\n",
       "      <td>NaN</td>\n",
       "      <td>123841.49</td>\n",
       "      <td>2</td>\n",
       "      <td>1</td>\n",
       "      <td>0</td>\n",
       "      <td>96833.00</td>\n",
       "      <td>0</td>\n",
       "    </tr>\n",
       "    <tr>\n",
       "      <th>9999</th>\n",
       "      <td>792</td>\n",
       "      <td>France</td>\n",
       "      <td>Female</td>\n",
       "      <td>28</td>\n",
       "      <td>NaN</td>\n",
       "      <td>130142.79</td>\n",
       "      <td>1</td>\n",
       "      <td>1</td>\n",
       "      <td>0</td>\n",
       "      <td>38190.78</td>\n",
       "      <td>0</td>\n",
       "    </tr>\n",
       "  </tbody>\n",
       "</table>\n",
       "<p>909 rows × 11 columns</p>\n",
       "</div>"
      ],
      "text/plain": [
       "      credit_score geography  gender  age  tenure    balance  num_of_products  \\\n",
       "30             591     Spain  Female   39     NaN       0.00                3   \n",
       "48             550   Germany    Male   38     NaN  103391.38                1   \n",
       "51             585   Germany    Male   36     NaN  146050.97                2   \n",
       "53             655   Germany    Male   41     NaN  125561.97                1   \n",
       "60             742   Germany    Male   35     NaN  136857.00                1   \n",
       "...            ...       ...     ...  ...     ...        ...              ...   \n",
       "9944           744   Germany    Male   41     NaN  190409.34                2   \n",
       "9956           520    France  Female   46     NaN   85216.61                1   \n",
       "9964           479    France    Male   34     NaN  117593.48                2   \n",
       "9985           659    France    Male   36     NaN  123841.49                2   \n",
       "9999           792    France  Female   28     NaN  130142.79                1   \n",
       "\n",
       "      has_cr_card  is_active_member  estimated_salary  exited  \n",
       "30              1                 0         140469.38       1  \n",
       "48              0                 1          90878.13       0  \n",
       "51              0                 0          86424.57       0  \n",
       "53              0                 0         164040.94       1  \n",
       "60              0                 0          84509.57       0  \n",
       "...           ...               ...               ...     ...  \n",
       "9944            1                 1         138361.48       0  \n",
       "9956            1                 0         117369.52       1  \n",
       "9964            0                 0         113308.29       0  \n",
       "9985            1                 0          96833.00       0  \n",
       "9999            1                 0          38190.78       0  \n",
       "\n",
       "[909 rows x 11 columns]"
      ]
     },
     "execution_count": 32,
     "metadata": {},
     "output_type": "execute_result"
    }
   ],
   "source": [
    "# check\n",
    "data[data.tenure.isna()]"
   ]
  },
  {
   "cell_type": "code",
   "execution_count": 33,
   "metadata": {},
   "outputs": [],
   "source": [
    "# Заменим пропуски в столбце tenure на медианное значение. Это поможет нам в дальнейшем при порядковом кодировании\n",
    "data.tenure = data.tenure.fillna(data.tenure.median())"
   ]
  },
  {
   "cell_type": "code",
   "execution_count": 34,
   "metadata": {},
   "outputs": [
    {
     "data": {
      "text/plain": [
       "France     5014\n",
       "Germany    2509\n",
       "Spain      2477\n",
       "Name: geography, dtype: int64"
      ]
     },
     "execution_count": 34,
     "metadata": {},
     "output_type": "execute_result"
    }
   ],
   "source": [
    "# check\n",
    "data.geography.value_counts()"
   ]
  },
  {
   "cell_type": "code",
   "execution_count": 35,
   "metadata": {},
   "outputs": [
    {
     "data": {
      "text/plain": [
       "0"
      ]
     },
     "execution_count": 35,
     "metadata": {},
     "output_type": "execute_result"
    }
   ],
   "source": [
    "data.duplicated().sum()"
   ]
  },
  {
   "cell_type": "code",
   "execution_count": 36,
   "metadata": {},
   "outputs": [
    {
     "data": {
      "text/html": [
       "<div>\n",
       "<style scoped>\n",
       "    .dataframe tbody tr th:only-of-type {\n",
       "        vertical-align: middle;\n",
       "    }\n",
       "\n",
       "    .dataframe tbody tr th {\n",
       "        vertical-align: top;\n",
       "    }\n",
       "\n",
       "    .dataframe thead th {\n",
       "        text-align: right;\n",
       "    }\n",
       "</style>\n",
       "<table border=\"1\" class=\"dataframe\">\n",
       "  <thead>\n",
       "    <tr style=\"text-align: right;\">\n",
       "      <th></th>\n",
       "      <th>credit_score</th>\n",
       "      <th>geography</th>\n",
       "      <th>gender</th>\n",
       "      <th>age</th>\n",
       "      <th>tenure</th>\n",
       "      <th>balance</th>\n",
       "      <th>num_of_products</th>\n",
       "      <th>has_cr_card</th>\n",
       "      <th>is_active_member</th>\n",
       "      <th>estimated_salary</th>\n",
       "      <th>exited</th>\n",
       "    </tr>\n",
       "  </thead>\n",
       "  <tbody>\n",
       "    <tr>\n",
       "      <th>0</th>\n",
       "      <td>619</td>\n",
       "      <td>France</td>\n",
       "      <td>Female</td>\n",
       "      <td>42</td>\n",
       "      <td>2.0</td>\n",
       "      <td>0.00</td>\n",
       "      <td>1</td>\n",
       "      <td>1</td>\n",
       "      <td>1</td>\n",
       "      <td>101348.88</td>\n",
       "      <td>1</td>\n",
       "    </tr>\n",
       "    <tr>\n",
       "      <th>1</th>\n",
       "      <td>608</td>\n",
       "      <td>Spain</td>\n",
       "      <td>Female</td>\n",
       "      <td>41</td>\n",
       "      <td>1.0</td>\n",
       "      <td>83807.86</td>\n",
       "      <td>1</td>\n",
       "      <td>0</td>\n",
       "      <td>1</td>\n",
       "      <td>112542.58</td>\n",
       "      <td>0</td>\n",
       "    </tr>\n",
       "    <tr>\n",
       "      <th>2</th>\n",
       "      <td>502</td>\n",
       "      <td>France</td>\n",
       "      <td>Female</td>\n",
       "      <td>42</td>\n",
       "      <td>8.0</td>\n",
       "      <td>159660.80</td>\n",
       "      <td>3</td>\n",
       "      <td>1</td>\n",
       "      <td>0</td>\n",
       "      <td>113931.57</td>\n",
       "      <td>1</td>\n",
       "    </tr>\n",
       "    <tr>\n",
       "      <th>3</th>\n",
       "      <td>699</td>\n",
       "      <td>France</td>\n",
       "      <td>Female</td>\n",
       "      <td>39</td>\n",
       "      <td>1.0</td>\n",
       "      <td>0.00</td>\n",
       "      <td>2</td>\n",
       "      <td>0</td>\n",
       "      <td>0</td>\n",
       "      <td>93826.63</td>\n",
       "      <td>0</td>\n",
       "    </tr>\n",
       "    <tr>\n",
       "      <th>4</th>\n",
       "      <td>850</td>\n",
       "      <td>Spain</td>\n",
       "      <td>Female</td>\n",
       "      <td>43</td>\n",
       "      <td>2.0</td>\n",
       "      <td>125510.82</td>\n",
       "      <td>1</td>\n",
       "      <td>1</td>\n",
       "      <td>1</td>\n",
       "      <td>79084.10</td>\n",
       "      <td>0</td>\n",
       "    </tr>\n",
       "    <tr>\n",
       "      <th>...</th>\n",
       "      <td>...</td>\n",
       "      <td>...</td>\n",
       "      <td>...</td>\n",
       "      <td>...</td>\n",
       "      <td>...</td>\n",
       "      <td>...</td>\n",
       "      <td>...</td>\n",
       "      <td>...</td>\n",
       "      <td>...</td>\n",
       "      <td>...</td>\n",
       "      <td>...</td>\n",
       "    </tr>\n",
       "    <tr>\n",
       "      <th>9995</th>\n",
       "      <td>771</td>\n",
       "      <td>France</td>\n",
       "      <td>Male</td>\n",
       "      <td>39</td>\n",
       "      <td>5.0</td>\n",
       "      <td>0.00</td>\n",
       "      <td>2</td>\n",
       "      <td>1</td>\n",
       "      <td>0</td>\n",
       "      <td>96270.64</td>\n",
       "      <td>0</td>\n",
       "    </tr>\n",
       "    <tr>\n",
       "      <th>9996</th>\n",
       "      <td>516</td>\n",
       "      <td>France</td>\n",
       "      <td>Male</td>\n",
       "      <td>35</td>\n",
       "      <td>10.0</td>\n",
       "      <td>57369.61</td>\n",
       "      <td>1</td>\n",
       "      <td>1</td>\n",
       "      <td>1</td>\n",
       "      <td>101699.77</td>\n",
       "      <td>0</td>\n",
       "    </tr>\n",
       "    <tr>\n",
       "      <th>9997</th>\n",
       "      <td>709</td>\n",
       "      <td>France</td>\n",
       "      <td>Female</td>\n",
       "      <td>36</td>\n",
       "      <td>7.0</td>\n",
       "      <td>0.00</td>\n",
       "      <td>1</td>\n",
       "      <td>0</td>\n",
       "      <td>1</td>\n",
       "      <td>42085.58</td>\n",
       "      <td>1</td>\n",
       "    </tr>\n",
       "    <tr>\n",
       "      <th>9998</th>\n",
       "      <td>772</td>\n",
       "      <td>Germany</td>\n",
       "      <td>Male</td>\n",
       "      <td>42</td>\n",
       "      <td>3.0</td>\n",
       "      <td>75075.31</td>\n",
       "      <td>2</td>\n",
       "      <td>1</td>\n",
       "      <td>0</td>\n",
       "      <td>92888.52</td>\n",
       "      <td>1</td>\n",
       "    </tr>\n",
       "    <tr>\n",
       "      <th>9999</th>\n",
       "      <td>792</td>\n",
       "      <td>France</td>\n",
       "      <td>Female</td>\n",
       "      <td>28</td>\n",
       "      <td>5.0</td>\n",
       "      <td>130142.79</td>\n",
       "      <td>1</td>\n",
       "      <td>1</td>\n",
       "      <td>0</td>\n",
       "      <td>38190.78</td>\n",
       "      <td>0</td>\n",
       "    </tr>\n",
       "  </tbody>\n",
       "</table>\n",
       "<p>10000 rows × 11 columns</p>\n",
       "</div>"
      ],
      "text/plain": [
       "      credit_score geography  gender  age  tenure    balance  num_of_products  \\\n",
       "0              619    France  Female   42     2.0       0.00                1   \n",
       "1              608     Spain  Female   41     1.0   83807.86                1   \n",
       "2              502    France  Female   42     8.0  159660.80                3   \n",
       "3              699    France  Female   39     1.0       0.00                2   \n",
       "4              850     Spain  Female   43     2.0  125510.82                1   \n",
       "...            ...       ...     ...  ...     ...        ...              ...   \n",
       "9995           771    France    Male   39     5.0       0.00                2   \n",
       "9996           516    France    Male   35    10.0   57369.61                1   \n",
       "9997           709    France  Female   36     7.0       0.00                1   \n",
       "9998           772   Germany    Male   42     3.0   75075.31                2   \n",
       "9999           792    France  Female   28     5.0  130142.79                1   \n",
       "\n",
       "      has_cr_card  is_active_member  estimated_salary  exited  \n",
       "0               1                 1         101348.88       1  \n",
       "1               0                 1         112542.58       0  \n",
       "2               1                 0         113931.57       1  \n",
       "3               0                 0          93826.63       0  \n",
       "4               1                 1          79084.10       0  \n",
       "...           ...               ...               ...     ...  \n",
       "9995            1                 0          96270.64       0  \n",
       "9996            1                 1         101699.77       0  \n",
       "9997            0                 1          42085.58       1  \n",
       "9998            1                 0          92888.52       1  \n",
       "9999            1                 0          38190.78       0  \n",
       "\n",
       "[10000 rows x 11 columns]"
      ]
     },
     "execution_count": 36,
     "metadata": {},
     "output_type": "execute_result"
    }
   ],
   "source": [
    "# check\n",
    "data"
   ]
  },
  {
   "cell_type": "code",
   "execution_count": 37,
   "metadata": {},
   "outputs": [],
   "source": [
    "data = pd.get_dummies(data)"
   ]
  },
  {
   "cell_type": "code",
   "execution_count": 38,
   "metadata": {},
   "outputs": [
    {
     "data": {
      "text/html": [
       "<div>\n",
       "<style scoped>\n",
       "    .dataframe tbody tr th:only-of-type {\n",
       "        vertical-align: middle;\n",
       "    }\n",
       "\n",
       "    .dataframe tbody tr th {\n",
       "        vertical-align: top;\n",
       "    }\n",
       "\n",
       "    .dataframe thead th {\n",
       "        text-align: right;\n",
       "    }\n",
       "</style>\n",
       "<table border=\"1\" class=\"dataframe\">\n",
       "  <thead>\n",
       "    <tr style=\"text-align: right;\">\n",
       "      <th></th>\n",
       "      <th>credit_score</th>\n",
       "      <th>age</th>\n",
       "      <th>tenure</th>\n",
       "      <th>balance</th>\n",
       "      <th>num_of_products</th>\n",
       "      <th>has_cr_card</th>\n",
       "      <th>is_active_member</th>\n",
       "      <th>estimated_salary</th>\n",
       "      <th>exited</th>\n",
       "      <th>geography_France</th>\n",
       "      <th>geography_Germany</th>\n",
       "      <th>geography_Spain</th>\n",
       "      <th>gender_Female</th>\n",
       "      <th>gender_Male</th>\n",
       "    </tr>\n",
       "  </thead>\n",
       "  <tbody>\n",
       "    <tr>\n",
       "      <th>0</th>\n",
       "      <td>619</td>\n",
       "      <td>42</td>\n",
       "      <td>2.0</td>\n",
       "      <td>0.00</td>\n",
       "      <td>1</td>\n",
       "      <td>1</td>\n",
       "      <td>1</td>\n",
       "      <td>101348.88</td>\n",
       "      <td>1</td>\n",
       "      <td>1</td>\n",
       "      <td>0</td>\n",
       "      <td>0</td>\n",
       "      <td>1</td>\n",
       "      <td>0</td>\n",
       "    </tr>\n",
       "    <tr>\n",
       "      <th>1</th>\n",
       "      <td>608</td>\n",
       "      <td>41</td>\n",
       "      <td>1.0</td>\n",
       "      <td>83807.86</td>\n",
       "      <td>1</td>\n",
       "      <td>0</td>\n",
       "      <td>1</td>\n",
       "      <td>112542.58</td>\n",
       "      <td>0</td>\n",
       "      <td>0</td>\n",
       "      <td>0</td>\n",
       "      <td>1</td>\n",
       "      <td>1</td>\n",
       "      <td>0</td>\n",
       "    </tr>\n",
       "    <tr>\n",
       "      <th>2</th>\n",
       "      <td>502</td>\n",
       "      <td>42</td>\n",
       "      <td>8.0</td>\n",
       "      <td>159660.80</td>\n",
       "      <td>3</td>\n",
       "      <td>1</td>\n",
       "      <td>0</td>\n",
       "      <td>113931.57</td>\n",
       "      <td>1</td>\n",
       "      <td>1</td>\n",
       "      <td>0</td>\n",
       "      <td>0</td>\n",
       "      <td>1</td>\n",
       "      <td>0</td>\n",
       "    </tr>\n",
       "    <tr>\n",
       "      <th>3</th>\n",
       "      <td>699</td>\n",
       "      <td>39</td>\n",
       "      <td>1.0</td>\n",
       "      <td>0.00</td>\n",
       "      <td>2</td>\n",
       "      <td>0</td>\n",
       "      <td>0</td>\n",
       "      <td>93826.63</td>\n",
       "      <td>0</td>\n",
       "      <td>1</td>\n",
       "      <td>0</td>\n",
       "      <td>0</td>\n",
       "      <td>1</td>\n",
       "      <td>0</td>\n",
       "    </tr>\n",
       "    <tr>\n",
       "      <th>4</th>\n",
       "      <td>850</td>\n",
       "      <td>43</td>\n",
       "      <td>2.0</td>\n",
       "      <td>125510.82</td>\n",
       "      <td>1</td>\n",
       "      <td>1</td>\n",
       "      <td>1</td>\n",
       "      <td>79084.10</td>\n",
       "      <td>0</td>\n",
       "      <td>0</td>\n",
       "      <td>0</td>\n",
       "      <td>1</td>\n",
       "      <td>1</td>\n",
       "      <td>0</td>\n",
       "    </tr>\n",
       "    <tr>\n",
       "      <th>...</th>\n",
       "      <td>...</td>\n",
       "      <td>...</td>\n",
       "      <td>...</td>\n",
       "      <td>...</td>\n",
       "      <td>...</td>\n",
       "      <td>...</td>\n",
       "      <td>...</td>\n",
       "      <td>...</td>\n",
       "      <td>...</td>\n",
       "      <td>...</td>\n",
       "      <td>...</td>\n",
       "      <td>...</td>\n",
       "      <td>...</td>\n",
       "      <td>...</td>\n",
       "    </tr>\n",
       "    <tr>\n",
       "      <th>9995</th>\n",
       "      <td>771</td>\n",
       "      <td>39</td>\n",
       "      <td>5.0</td>\n",
       "      <td>0.00</td>\n",
       "      <td>2</td>\n",
       "      <td>1</td>\n",
       "      <td>0</td>\n",
       "      <td>96270.64</td>\n",
       "      <td>0</td>\n",
       "      <td>1</td>\n",
       "      <td>0</td>\n",
       "      <td>0</td>\n",
       "      <td>0</td>\n",
       "      <td>1</td>\n",
       "    </tr>\n",
       "    <tr>\n",
       "      <th>9996</th>\n",
       "      <td>516</td>\n",
       "      <td>35</td>\n",
       "      <td>10.0</td>\n",
       "      <td>57369.61</td>\n",
       "      <td>1</td>\n",
       "      <td>1</td>\n",
       "      <td>1</td>\n",
       "      <td>101699.77</td>\n",
       "      <td>0</td>\n",
       "      <td>1</td>\n",
       "      <td>0</td>\n",
       "      <td>0</td>\n",
       "      <td>0</td>\n",
       "      <td>1</td>\n",
       "    </tr>\n",
       "    <tr>\n",
       "      <th>9997</th>\n",
       "      <td>709</td>\n",
       "      <td>36</td>\n",
       "      <td>7.0</td>\n",
       "      <td>0.00</td>\n",
       "      <td>1</td>\n",
       "      <td>0</td>\n",
       "      <td>1</td>\n",
       "      <td>42085.58</td>\n",
       "      <td>1</td>\n",
       "      <td>1</td>\n",
       "      <td>0</td>\n",
       "      <td>0</td>\n",
       "      <td>1</td>\n",
       "      <td>0</td>\n",
       "    </tr>\n",
       "    <tr>\n",
       "      <th>9998</th>\n",
       "      <td>772</td>\n",
       "      <td>42</td>\n",
       "      <td>3.0</td>\n",
       "      <td>75075.31</td>\n",
       "      <td>2</td>\n",
       "      <td>1</td>\n",
       "      <td>0</td>\n",
       "      <td>92888.52</td>\n",
       "      <td>1</td>\n",
       "      <td>0</td>\n",
       "      <td>1</td>\n",
       "      <td>0</td>\n",
       "      <td>0</td>\n",
       "      <td>1</td>\n",
       "    </tr>\n",
       "    <tr>\n",
       "      <th>9999</th>\n",
       "      <td>792</td>\n",
       "      <td>28</td>\n",
       "      <td>5.0</td>\n",
       "      <td>130142.79</td>\n",
       "      <td>1</td>\n",
       "      <td>1</td>\n",
       "      <td>0</td>\n",
       "      <td>38190.78</td>\n",
       "      <td>0</td>\n",
       "      <td>1</td>\n",
       "      <td>0</td>\n",
       "      <td>0</td>\n",
       "      <td>1</td>\n",
       "      <td>0</td>\n",
       "    </tr>\n",
       "  </tbody>\n",
       "</table>\n",
       "<p>10000 rows × 14 columns</p>\n",
       "</div>"
      ],
      "text/plain": [
       "      credit_score  age  tenure    balance  num_of_products  has_cr_card  \\\n",
       "0              619   42     2.0       0.00                1            1   \n",
       "1              608   41     1.0   83807.86                1            0   \n",
       "2              502   42     8.0  159660.80                3            1   \n",
       "3              699   39     1.0       0.00                2            0   \n",
       "4              850   43     2.0  125510.82                1            1   \n",
       "...            ...  ...     ...        ...              ...          ...   \n",
       "9995           771   39     5.0       0.00                2            1   \n",
       "9996           516   35    10.0   57369.61                1            1   \n",
       "9997           709   36     7.0       0.00                1            0   \n",
       "9998           772   42     3.0   75075.31                2            1   \n",
       "9999           792   28     5.0  130142.79                1            1   \n",
       "\n",
       "      is_active_member  estimated_salary  exited  geography_France  \\\n",
       "0                    1         101348.88       1                 1   \n",
       "1                    1         112542.58       0                 0   \n",
       "2                    0         113931.57       1                 1   \n",
       "3                    0          93826.63       0                 1   \n",
       "4                    1          79084.10       0                 0   \n",
       "...                ...               ...     ...               ...   \n",
       "9995                 0          96270.64       0                 1   \n",
       "9996                 1         101699.77       0                 1   \n",
       "9997                 1          42085.58       1                 1   \n",
       "9998                 0          92888.52       1                 0   \n",
       "9999                 0          38190.78       0                 1   \n",
       "\n",
       "      geography_Germany  geography_Spain  gender_Female  gender_Male  \n",
       "0                     0                0              1            0  \n",
       "1                     0                1              1            0  \n",
       "2                     0                0              1            0  \n",
       "3                     0                0              1            0  \n",
       "4                     0                1              1            0  \n",
       "...                 ...              ...            ...          ...  \n",
       "9995                  0                0              0            1  \n",
       "9996                  0                0              0            1  \n",
       "9997                  0                0              1            0  \n",
       "9998                  1                0              0            1  \n",
       "9999                  0                0              1            0  \n",
       "\n",
       "[10000 rows x 14 columns]"
      ]
     },
     "execution_count": 38,
     "metadata": {},
     "output_type": "execute_result"
    }
   ],
   "source": [
    "# check\n",
    "data"
   ]
  },
  {
   "cell_type": "code",
   "execution_count": 40,
   "metadata": {},
   "outputs": [],
   "source": [
    "# Вспомогательная функция для подсчёта соотношения размера некоторой выборки от размера данных\n",
    "def size_pct(sample_data):\n",
    "    return round(sample_data.shape[0] / len(data), 2) * 100"
   ]
  },
  {
   "cell_type": "code",
   "execution_count": 41,
   "metadata": {},
   "outputs": [],
   "source": [
    "# Разделим исходные данные на обучающую, валидационную и тестовую выборки в соотношении 3:1:1\n",
    "train_data, test_data = train_test_split(data, test_size=0.2, random_state=random_state, stratify=data.exited)\n",
    "train_data, valid_data = train_test_split(train_data, test_size=0.25, random_state=random_state, stratify=train_data.exited)\n",
    "\n",
    "train_data.reset_index(inplace=True)\n",
    "valid_data.reset_index(inplace=True)\n",
    "test_data.reset_index(inplace=True)"
   ]
  },
  {
   "cell_type": "code",
   "execution_count": 42,
   "metadata": {},
   "outputs": [
    {
     "name": "stdout",
     "output_type": "stream",
     "text": [
      "Соотношение размера обучающей выборки от размера данных: 60.0%\n",
      "Соотношение размера валидационной выборки от размера данных: 20.0%\n",
      "Соотношение размера тестовой выборки от размера данных: 20.0%\n"
     ]
    }
   ],
   "source": [
    "# check\n",
    "print(f'Соотношение размера обучающей выборки от размера данных: {size_pct(train_data)}%')\n",
    "print(f'Соотношение размера валидационной выборки от размера данных: {size_pct(valid_data)}%')\n",
    "print(f'Соотношение размера тестовой выборки от размера данных: {size_pct(test_data)}%')"
   ]
  },
  {
   "cell_type": "code",
   "execution_count": 43,
   "metadata": {},
   "outputs": [],
   "source": [
    "# Разделим обучающую выборку\n",
    "train_features = train_data.drop(['exited'], axis=1) \n",
    "train_target = train_data['exited']\n",
    "\n",
    "# Разделим валидационную выборку\n",
    "valid_features = valid_data.drop(['exited'], axis=1)\n",
    "valid_target = valid_data['exited']\n",
    "\n",
    "# Разделим тестовую выборку\n",
    "test_features = test_data.drop(['exited'], axis=1)\n",
    "test_target = test_data['exited']"
   ]
  },
  {
   "cell_type": "markdown",
   "metadata": {},
   "source": [
    "Выполненные этапы предобработки данных:\n",
    "- Изменили названия столбцов в соответствии с правилами хорошего стиля\n",
    "- Удалили признаки, которые не несут ценности для прогноза\n",
    "- Заменили пропуски в столбце `tenure` на медианное значение\n",
    "- Произвели OneHot кодирование\n",
    "- Разделили исходные данные на обучающую, валидационную и тестовую выборки в соотношении 3:1:1"
   ]
  },
  {
   "cell_type": "markdown",
   "metadata": {},
   "source": [
    "## Исследование задачи"
   ]
  },
  {
   "cell_type": "code",
   "execution_count": 44,
   "metadata": {},
   "outputs": [
    {
     "data": {
      "text/plain": [
       "0    0.7963\n",
       "1    0.2037\n",
       "Name: exited, dtype: float64"
      ]
     },
     "execution_count": 44,
     "metadata": {},
     "output_type": "execute_result"
    }
   ],
   "source": [
    "# check\n",
    "data.exited.value_counts(normalize=True)"
   ]
  },
  {
   "cell_type": "code",
   "execution_count": 45,
   "metadata": {},
   "outputs": [
    {
     "data": {
      "image/png": "[encoded data removed]",
      "text/plain": [
       "<Figure size 864x288 with 1 Axes>"
      ]
     },
     "metadata": {
      "needs_background": "light"
     },
     "output_type": "display_data"
    }
   ],
   "source": [
    "# check\n",
    "data.exited.value_counts(normalize=True).plot(kind='bar',\n",
    "                                              figsize=(12, 4),\n",
    "                                              title='Баланс классов в целевом признаке',\n",
    "                                              grid=True)\n",
    "plt.xticks(rotation=360);"
   ]
  },
  {
   "cell_type": "code",
   "execution_count": 46,
   "metadata": {},
   "outputs": [
    {
     "name": "stdout",
     "output_type": "stream",
     "text": [
      "F1-score модели DecisionTreeClassifier на валидационной выборке: 0.4918\n",
      "F1-score модели RandomForestClassifier на валидационной выборке: 0.5152\n",
      "F1-score модели LogisticRegression на валидационной выборке: 0.0841\n"
     ]
    }
   ],
   "source": [
    "# Обучим модель решающего дерева\n",
    "tree_model = DecisionTreeClassifier(max_depth=50, random_state=random_state)\n",
    "tree_model.fit(train_features, train_target)\n",
    "predicted_valid = tree_model.predict(valid_features)\n",
    "print('F1-score модели DecisionTreeClassifier на валидационной выборке:', round(f1_score(valid_target, predicted_valid), 4))\n",
    " \n",
    "# Обучим модель случайного леса\n",
    "forest_model = RandomForestClassifier(max_depth=10, n_estimators=50, random_state=random_state)\n",
    "forest_model.fit(train_features, train_target)\n",
    "predicted_valid = forest_model.predict(valid_features)\n",
    "print('F1-score модели RandomForestClassifier на валидационной выборке:', round(f1_score(valid_target, predicted_valid), 4))\n",
    " \n",
    "# Обучим модель логистической регрессии\n",
    "logistic_model = LogisticRegression(max_iter=1000, solver='lbfgs', random_state=random_state)\n",
    "logistic_model.fit(train_features, train_target)\n",
    "predicted_valid = logistic_model.predict(valid_features)\n",
    "print('F1-score модели LogisticRegression на валидационной выборке:', round(f1_score(valid_target, predicted_valid), 4))"
   ]
  },
  {
   "cell_type": "code",
   "execution_count": 47,
   "metadata": {},
   "outputs": [
    {
     "data": {
      "image/png": "[encoded data removed]",
      "text/plain": [
       "<Figure size 432x288 with 1 Axes>"
      ]
     },
     "metadata": {
      "needs_background": "light"
     },
     "output_type": "display_data"
    },
    {
     "name": "stdout",
     "output_type": "stream",
     "text": [
      "Площадь под ROC-кривой (AUC-ROC) равна: 0.865973832075527\n"
     ]
    }
   ],
   "source": [
    "probabilities_one_valid = forest_model.predict_proba(valid_features)[:, 1]\n",
    "fpr, tpr, thresholds = roc_curve(valid_target, probabilities_one_valid)\n",
    "\n",
    "plt.figure()\n",
    "# ROC-кривая модели RandomForestClassifier\n",
    "plt.plot(fpr, tpr)\n",
    "\n",
    "# ROC-кривая случайной модели (выглядит как прямая)\n",
    "plt.plot([0, 1], [0, 1], linestyle='--')\n",
    "plt.xlim(0, 1.0)\n",
    "plt.ylim(0, 1.0)\n",
    "plt.xlabel('False Positive Rate')\n",
    "plt.ylabel('True Positive Rate')\n",
    "plt.title('ROC-кривая')\n",
    "plt.show()\n",
    "\n",
    "print('Площадь под ROC-кривой (AUC-ROC) равна:', roc_auc_score(valid_target, probabilities_one_valid))"
   ]
  },
  {
   "cell_type": "markdown",
   "metadata": {},
   "source": [
    "- В целевом признаке присутствует явно выраженный дисбаланс классов\n",
    "- Мы обучили модели `DecisionTreeClassifier`, `RandomForestClassifier`, `LogisticRegression` без учёта дисбаланса и проверили качество этих моделей на валидационной выборке. Мы использовали F1-меру в качестве метрики. Её значение оказалось меньше желаемого для всех обученных моделей (`< 0.59`)"
   ]
  },
  {
   "cell_type": "markdown",
   "metadata": {},
   "source": [
    "## Борьба с дисбалансом"
   ]
  },
  {
   "cell_type": "code",
   "execution_count": 48,
   "metadata": {},
   "outputs": [],
   "source": [
    "# Функция, которая увеличивает выборку при помощи техники upsampling\n",
    "def upsample(features, target, repeat):\n",
    "    features_zeros = features[target == 0]\n",
    "    features_ones = features[target == 1]\n",
    "    target_zeros = target[target == 0]\n",
    "    target_ones = target[target == 1]\n",
    "\n",
    "    features_upsampled = pd.concat([features_zeros] + [features_ones] * repeat)\n",
    "    target_upsampled = pd.concat([target_zeros] + [target_ones] * repeat)\n",
    "    \n",
    "    features_upsampled, target_upsampled = shuffle(\n",
    "        features_upsampled, target_upsampled, random_state=random_state)\n",
    "    \n",
    "    return features_upsampled, target_upsampled"
   ]
  },
  {
   "cell_type": "code",
   "execution_count": 49,
   "metadata": {},
   "outputs": [],
   "source": [
    "# Увеличим обучающую выборку при помощи техники upsample\n",
    "train_features_upsampled, train_target_upsampled = upsample(train_features, train_target, 4)"
   ]
  },
  {
   "cell_type": "code",
   "execution_count": 50,
   "metadata": {},
   "outputs": [
    {
     "name": "stdout",
     "output_type": "stream",
     "text": [
      "1    0.505947\n",
      "0    0.494053\n",
      "Name: exited, dtype: float64\n"
     ]
    }
   ],
   "source": [
    "# check\n",
    "print(train_target_upsampled.value_counts(normalize=True))"
   ]
  },
  {
   "cell_type": "code",
   "execution_count": 51,
   "metadata": {},
   "outputs": [
    {
     "data": {
      "image/png": "[encoded data removed]",
      "text/plain": [
       "<Figure size 864x288 with 1 Axes>"
      ]
     },
     "metadata": {
      "needs_background": "light"
     },
     "output_type": "display_data"
    }
   ],
   "source": [
    "# check\n",
    "train_target_upsampled.value_counts(normalize=True).plot(kind='bar',\n",
    "                                                   figsize=(12, 4),\n",
    "                                                   title='Баланс классов в целевом признаке',\n",
    "                                                   grid=True)\n",
    "plt.xticks(rotation=360);"
   ]
  },
  {
   "cell_type": "code",
   "execution_count": 52,
   "metadata": {},
   "outputs": [],
   "source": [
    "# Функция для обновления наилучшей модели\n",
    "def best_model_update(best_model, best_f1_score, model_constructor, params, train_features, train_target):\n",
    "    model = model_constructor(**params)\n",
    "    model.fit(train_features, train_target)\n",
    "    predictions = model.predict(valid_features)\n",
    "    score = f1_score(valid_target, predictions)\n",
    "    if score > best_f1_score:\n",
    "        best_model = model\n",
    "        best_f1_score = score\n",
    "        \n",
    "    return best_model, best_f1_score"
   ]
  },
  {
   "cell_type": "code",
   "execution_count": 53,
   "metadata": {},
   "outputs": [
    {
     "name": "stderr",
     "output_type": "stream",
     "text": [
      "100%|██████████| 100/100 [00:04<00:00, 20.75it/s]\n",
      "100%|██████████| 91/91 [04:28<00:00,  2.95s/it]\n",
      "100%|██████████| 81/81 [01:33<00:00,  1.15s/it]\n"
     ]
    }
   ],
   "source": [
    "# Перебором значений гиперпараметра max_depth найдём наилучшую модель решающего дерева с техникой upsampling\n",
    "best_tree_model = None\n",
    "best_tree_f1_score = 0.0\n",
    "for depth in tqdm(range(1, 101)):\n",
    "    best_tree_model, best_tree_f1_score = best_model_update(best_tree_model,\n",
    "                                                            best_tree_f1_score,\n",
    "                                                            DecisionTreeClassifier,\n",
    "                                                            {'max_depth': depth,\n",
    "                                                             'random_state': random_state},\n",
    "                                                            train_features_upsampled,\n",
    "                                                            train_target_upsampled)    \n",
    "\n",
    "# Перебором значений гиперпараметров n_estimators и max_depth найдём наилучшую модель случайного леса с техникой upsampling\n",
    "best_forest_model = None\n",
    "best_forest_f1_score = 0.0\n",
    "for est in tqdm(range(10, 101)):\n",
    "    for depth in range (1, 11):\n",
    "        best_forest_model, best_forest_f1_score = best_model_update(best_forest_model,\n",
    "                                                                    best_forest_f1_score,\n",
    "                                                                    RandomForestClassifier,\n",
    "                                                                    {'max_depth': depth, \n",
    "                                                                     'n_estimators': est,\n",
    "                                                                     'random_state': random_state},\n",
    "                                                                    train_features_upsampled,\n",
    "                                                                    train_target_upsampled)\n",
    "\n",
    "# Перебором значений гиперпараметра max_iter найдём наилучшую модель логистической регрессии с техникой upsampling\n",
    "best_logistic_model = None\n",
    "best_logistic_f1_score = 0.0\n",
    "for max_iter in tqdm(range(200, 1001, 10)):\n",
    "    best_logistic_model, best_logistic_f1_score = best_model_update(best_logistic_model,\n",
    "                                                                    best_logistic_f1_score,\n",
    "                                                                    LogisticRegression,\n",
    "                                                                    {'solver': 'lbfgs', \n",
    "                                                                     'max_iter': max_iter,\n",
    "                                                                     'random_state': random_state},\n",
    "                                                                    train_features_upsampled,\n",
    "                                                                    train_target_upsampled)"
   ]
  },
  {
   "cell_type": "code",
   "execution_count": 54,
   "metadata": {},
   "outputs": [
    {
     "name": "stdout",
     "output_type": "stream",
     "text": [
      "Наилучшее значение F1-меры для модели DecisionTreeClassifier с техникой upsampling — 0.5748\n",
      "Наилучшее значение F1-меры для модели RandomForestClassifier с техникой upsampling — 0.6403\n",
      "Наилучшее значение F1-меры для модели LogisticRegression с техникой upsampling — 0.4527\n",
      "\n",
      "Оптимальное значение параметра max_depth для модели DecisionTreeClassifier с техникой upsampling — 6\n",
      "Оптимальные значения параметров max_depth и n_estimators для модели RandomForestClassifier с техникой upsampling — 10 80\n",
      "Оптимальное значение параметра max_iter для модели LogisticRegression с техникой upsampling — 200\n"
     ]
    }
   ],
   "source": [
    "# check\n",
    "print(f'Наилучшее значение F1-меры для модели DecisionTreeClassifier с техникой upsampling — {round(best_tree_f1_score, 4)}')\n",
    "print(f'Наилучшее значение F1-меры для модели RandomForestClassifier с техникой upsampling — {round(best_forest_f1_score, 4)}')\n",
    "print(f'Наилучшее значение F1-меры для модели LogisticRegression с техникой upsampling — {round(best_logistic_f1_score, 4)}')\n",
    "print()\n",
    "print('Оптимальное значение параметра max_depth для модели DecisionTreeClassifier с техникой upsampling —',\n",
    "      best_tree_model.get_params()['max_depth'])\n",
    "print('Оптимальные значения параметров max_depth и n_estimators для модели RandomForestClassifier с техникой upsampling —',\n",
    "      best_forest_model.get_params()[\"max_depth\"],\n",
    "      best_forest_model.get_params()[\"n_estimators\"])\n",
    "print('Оптимальное значение параметра max_iter для модели LogisticRegression с техникой upsampling —',\n",
    "      best_logistic_model.get_params()[\"max_iter\"])"
   ]
  },
  {
   "cell_type": "code",
   "execution_count": 55,
   "metadata": {},
   "outputs": [
    {
     "data": {
      "image/png": "[encoded data removed]",
      "text/plain": [
       "<Figure size 432x288 with 1 Axes>"
      ]
     },
     "metadata": {
      "needs_background": "light"
     },
     "output_type": "display_data"
    },
    {
     "name": "stdout",
     "output_type": "stream",
     "text": [
      "Площадь под ROC-кривой (AUC-ROC) равна: 0.8689660384575639\n"
     ]
    }
   ],
   "source": [
    "probabilities_one_valid = best_forest_model.predict_proba(valid_features)[:, 1]\n",
    "fpr, tpr, thresholds = roc_curve(valid_target, probabilities_one_valid)\n",
    "\n",
    "plt.figure()\n",
    "# ROC-кривая наулучшей модели RandomForestClassifier на валидационной выборке\n",
    "plt.plot(fpr, tpr)\n",
    "\n",
    "# ROC-кривая случайной модели (выглядит как прямая)\n",
    "plt.plot([0, 1], [0, 1], linestyle='--')\n",
    "plt.xlim(0, 1.0)\n",
    "plt.ylim(0, 1.0)\n",
    "plt.xlabel('False Positive Rate')\n",
    "plt.ylabel('True Positive Rate')\n",
    "plt.title('ROC-кривая')\n",
    "plt.show()\n",
    "\n",
    "print('Площадь под ROC-кривой (AUC-ROC) равна:', roc_auc_score(valid_target, probabilities_one_valid))"
   ]
  },
  {
   "cell_type": "code",
   "execution_count": 56,
   "metadata": {},
   "outputs": [
    {
     "name": "stderr",
     "output_type": "stream",
     "text": [
      "100%|██████████| 100/100 [00:03<00:00, 25.06it/s]\n",
      "100%|██████████| 91/91 [03:21<00:00,  2.21s/it]\n",
      "100%|██████████| 81/81 [01:11<00:00,  1.14it/s]\n"
     ]
    }
   ],
   "source": [
    "# Перебором значений гиперпараметра max_depth найдём наилучшую модель решающего дерева c взвешиванием классов\n",
    "best_tree_model = None\n",
    "best_tree_f1_score = 0.0\n",
    "for depth in tqdm(range(1, 101)):\n",
    "    best_tree_model, best_tree_f1_score = best_model_update(best_tree_model,\n",
    "                                                            best_tree_f1_score,\n",
    "                                                            DecisionTreeClassifier,\n",
    "                                                            {'max_depth': depth,\n",
    "                                                             'random_state': random_state,\n",
    "                                                             'class_weight': 'balanced'},\n",
    "                                                            train_features,\n",
    "                                                            train_target)    \n",
    "\n",
    "# Перебором значений гиперпараметров n_estimators и max_depth найдём наилучшую модель случайного леса c взвешиванием классов\n",
    "best_forest_model = None\n",
    "best_forest_f1_score = 0.0\n",
    "for est in tqdm(range(10, 101)):\n",
    "    for depth in range (1, 11):\n",
    "        best_forest_model, best_forest_f1_score = best_model_update(best_forest_model,\n",
    "                                                                    best_forest_f1_score,\n",
    "                                                                    RandomForestClassifier,\n",
    "                                                                    {'max_depth': depth, \n",
    "                                                                     'n_estimators': est,\n",
    "                                                                     'random_state': random_state,\n",
    "                                                                     'class_weight': 'balanced'},\n",
    "                                                                    train_features,\n",
    "                                                                    train_target)\n",
    "\n",
    "# Перебором значений гиперпараметра max_iter найдём наилучшую модель логистической регрессии c взвешиванием классов\n",
    "best_logistic_model = None\n",
    "best_logistic_f1_score = 0.0\n",
    "for max_iter in tqdm(range(200, 1001, 10)):\n",
    "    best_logistic_model, best_logistic_f1_score = best_model_update(best_logistic_model,\n",
    "                                                                    best_logistic_f1_score,\n",
    "                                                                    LogisticRegression,\n",
    "                                                                    {'solver': 'lbfgs', \n",
    "                                                                     'max_iter': max_iter,\n",
    "                                                                     'random_state': random_state,\n",
    "                                                                     'class_weight': 'balanced'},\n",
    "                                                                    train_features,\n",
    "                                                                    train_target)"
   ]
  },
  {
   "cell_type": "code",
   "execution_count": 57,
   "metadata": {},
   "outputs": [
    {
     "name": "stdout",
     "output_type": "stream",
     "text": [
      "Наилучшее значение F1-меры для модели DecisionTreeClassifier c взвешиванием классов — 0.5745\n",
      "Наилучшее значение F1-меры для модели RandomForestClassifier c взвешиванием классов — 0.6523\n",
      "Наилучшее значение F1-меры для модели LogisticRegression c взвешиванием классов — 0.4598\n",
      "\n",
      "Оптимальное значение параметра max_depth для модели DecisionTreeClassifier c взвешиванием классов — 6\n",
      "Оптимальные значения параметров max_depth и n_estimators для модели RandomForestClassifier c взвешиванием классов — 10 54\n",
      "Оптимальное значение параметра max_iter для модели LogisticRegression c взвешиванием классов — 200\n"
     ]
    }
   ],
   "source": [
    "# check\n",
    "print(f'Наилучшее значение F1-меры для модели DecisionTreeClassifier c взвешиванием классов — {round(best_tree_f1_score, 4)}')\n",
    "print(f'Наилучшее значение F1-меры для модели RandomForestClassifier c взвешиванием классов — {round(best_forest_f1_score, 4)}')\n",
    "print(f'Наилучшее значение F1-меры для модели LogisticRegression c взвешиванием классов — {round(best_logistic_f1_score, 4)}')\n",
    "print()\n",
    "print('Оптимальное значение параметра max_depth для модели DecisionTreeClassifier c взвешиванием классов —',\n",
    "      best_tree_model.get_params()['max_depth'])\n",
    "print('Оптимальные значения параметров max_depth и n_estimators для модели RandomForestClassifier c взвешиванием классов —',\n",
    "      best_forest_model.get_params()[\"max_depth\"],\n",
    "      best_forest_model.get_params()[\"n_estimators\"])\n",
    "print('Оптимальное значение параметра max_iter для модели LogisticRegression c взвешиванием классов —',\n",
    "      best_logistic_model.get_params()[\"max_iter\"])"
   ]
  },
  {
   "cell_type": "code",
   "execution_count": 58,
   "metadata": {},
   "outputs": [
    {
     "data": {
      "image/png": "[encoded data removed]",
      "text/plain": [
       "<Figure size 432x288 with 1 Axes>"
      ]
     },
     "metadata": {
      "needs_background": "light"
     },
     "output_type": "display_data"
    },
    {
     "name": "stdout",
     "output_type": "stream",
     "text": [
      "Площадь под ROC-кривой (AUC-ROC) равна: 0.8637790332705586\n"
     ]
    }
   ],
   "source": [
    "probabilities_one_valid = best_forest_model.predict_proba(valid_features)[:, 1]\n",
    "fpr, tpr, thresholds = roc_curve(valid_target, probabilities_one_valid)\n",
    "\n",
    "plt.figure()\n",
    "# ROC-кривая наулучшей модели RandomForestClassifier на валидационной выборке\n",
    "plt.plot(fpr, tpr)\n",
    "\n",
    "# ROC-кривая случайной модели (выглядит как прямая)\n",
    "plt.plot([0, 1], [0, 1], linestyle='--')\n",
    "plt.xlim(0, 1.0)\n",
    "plt.ylim(0, 1.0)\n",
    "plt.xlabel('False Positive Rate')\n",
    "plt.ylabel('True Positive Rate')\n",
    "plt.title('ROC-кривая')\n",
    "plt.show()\n",
    "\n",
    "print('Площадь под ROC-кривой (AUC-ROC) равна:', roc_auc_score(valid_target, probabilities_one_valid))"
   ]
  },
  {
   "cell_type": "markdown",
   "metadata": {},
   "source": [
    "- При помощи техники upsampling и взвешивания классов мы избавились от дисбаланса классов в целевом признаке\n",
    "- Лучше всего показала себя модель `RandomForestClassifier` с гиперпараметрами `max_depth` — `10` и `n_estimators` — `54` с взвешиванием классов. Значение F1-меры у этой модели на валидационной выборке равно `0.6523`. Будем использовать её при конечном тестировании"
   ]
  },
  {
   "cell_type": "markdown",
   "metadata": {},
   "source": [
    "## Тестирование модели"
   ]
  },
  {
   "cell_type": "code",
   "execution_count": 59,
   "metadata": {},
   "outputs": [
    {
     "data": {
      "text/plain": [
       "RandomForestClassifier(class_weight='balanced', max_depth=10, n_estimators=54,\n",
       "                       random_state=12345)"
      ]
     },
     "execution_count": 59,
     "metadata": {},
     "output_type": "execute_result"
    }
   ],
   "source": [
    "# check\n",
    "best_forest_model"
   ]
  },
  {
   "cell_type": "code",
   "execution_count": 60,
   "metadata": {},
   "outputs": [
    {
     "name": "stdout",
     "output_type": "stream",
     "text": [
      "Значение F1-меры на тестовой выборке для наилучшей модели RandomForestClassifier — 0.622\n"
     ]
    }
   ],
   "source": [
    "# Тестируем наилучшую модель RandomForestClassifier\n",
    "best_forest_model.fit(pd.concat([train_features, valid_features]), pd.concat([train_target, valid_target]))\n",
    "print('Значение F1-меры на тестовой выборке для наилучшей модели RandomForestClassifier —',\n",
    "      round(f1_score(test_target, best_forest_model.predict(test_features)), 4))"
   ]
  },
  {
   "cell_type": "code",
   "execution_count": 61,
   "metadata": {},
   "outputs": [
    {
     "data": {
      "image/png": "[encoded data removed]",
      "text/plain": [
       "<Figure size 432x288 with 1 Axes>"
      ]
     },
     "metadata": {
      "needs_background": "light"
     },
     "output_type": "display_data"
    },
    {
     "name": "stdout",
     "output_type": "stream",
     "text": [
      "Площадь под ROC-кривой (AUC-ROC) равна: 0.8640412369225929\n"
     ]
    }
   ],
   "source": [
    "probabilities_one_valid = best_forest_model.predict_proba(test_features)[:, 1]\n",
    "fpr, tpr, thresholds = roc_curve(test_target, probabilities_one_valid)\n",
    "\n",
    "plt.figure()\n",
    "# ROC-кривая наулучшей модели RandomForestClassifier на тестовой выборке\n",
    "plt.plot(fpr, tpr)\n",
    "\n",
    "# ROC-кривая случайной модели (выглядит как прямая)\n",
    "plt.plot([0, 1], [0, 1], linestyle='--')\n",
    "plt.xlim(0, 1.0)\n",
    "plt.ylim(0, 1.0)\n",
    "plt.xlabel('False Positive Rate')\n",
    "plt.ylabel('True Positive Rate')\n",
    "plt.title('ROC-кривая')\n",
    "plt.show()\n",
    "\n",
    "print('Площадь под ROC-кривой (AUC-ROC) равна:', roc_auc_score(test_target, probabilities_one_valid))"
   ]
  },
  {
   "cell_type": "markdown",
   "metadata": {},
   "source": [
    "- Наилучшая модель `RandomForestClassifier` успешно справилась с тестированием. Она показала значение F1-меры на тестовой выборке — `0.622` (`> 0.59`)"
   ]
  },
  {
   "cell_type": "markdown",
   "metadata": {},
   "source": [
    "## Общий вывод"
   ]
  },
  {
   "cell_type": "markdown",
   "metadata": {},
   "source": [
    "**1) Мы подготовили данные:** \n",
    "- Были обнаружены нарушения правил хорошего стиля в названии столбцов\n",
    "- В данных отсутствовали пропуски, кроме столбца `tenure`\n",
    "- В данных отсутствовали несоответствия типов\n",
    "- Практически все признаки имели околонулевую попарную корреляцию. Не было веских причин предполагать мультиколлинеарность в данных\n",
    "\n",
    "**2) Мы провели предобработку данных:**\n",
    "- Изменили названия столбцов в соответствии с правилами хорошего стиля\n",
    "- Удалили признаки, которые не несут ценности для прогноза\n",
    "- Заменили пропуски в столбце `tenure` на медианное значение\n",
    "- Произвели OneHot кодирование\n",
    "- Разделили исходные данные на обучающую, валидационную и тестовую выборки в соотношении 3:1:1\n",
    "\n",
    "**3) Исследовали задачу:**\n",
    "- В целевом признаке присутствовал явно выраженный дисбаланс классов\n",
    "- Мы обучили модели DecisionTreeClassifier, RandomForestClassifier, LogisticRegression без учёта дисбаланса и проверили качество этих моделей на валидационной выборке. Мы использовали F1-меру в качестве метрики. Её значение оказалось меньше желаемого для всех обученных моделей (`< 0.59`)\n",
    "\n",
    "**4) Обучили несколько различных моделей:**\n",
    "- При помощи техники upsampling и взвешивания классов мы избавились от дисбаланса классов в целевом признаке\n",
    "- Лучше всего показала себя модель `RandomForestClassifier` с гиперпараметрами `max_depth` — `10` и `n_estimators` — `54` с взвешиванием классов. Значение F1-меры у этой модели на валидационной выборке равно `0.6523`. Будем использовать её при конечном тестировании\n",
    "\n",
    "**5) Протестировали наилучшую модель на тестовой выборке и проверили её на адекватность:**\n",
    "- Наилучшая модель `RandomForestClassifier` успешно справилась с тестированием. Она показала значение F1-меры на тестовой выборке — 0.622 (> 0.59)"
   ]
  },
  {
   "cell_type": "markdown",
   "metadata": {},
   "source": [
    "## Чек-лист готовности проекта"
   ]
  },
  {
   "cell_type": "markdown",
   "metadata": {},
   "source": [
    "Поставьте 'x' в выполненных пунктах. Далее нажмите Shift+Enter."
   ]
  },
  {
   "cell_type": "markdown",
   "metadata": {},
   "source": [
    "- [x]  Jupyter Notebook открыт\n",
    "- [x]  Весь код выполняется без ошибок\n",
    "- [x]  Ячейки с кодом расположены в порядке исполнения\n",
    "- [x]  Выполнен шаг 1: данные подготовлены\n",
    "- [x]  Выполнен шаг 2: задача исследована\n",
    "    - [x]  Исследован баланс классов\n",
    "    - [x]  Изучены модели без учёта дисбаланса\n",
    "    - [x]  Написаны выводы по результатам исследования\n",
    "- [x]  Выполнен шаг 3: учтён дисбаланс\n",
    "    - [x]  Применено несколько способов борьбы с дисбалансом\n",
    "    - [x]  Написаны выводы по результатам исследования\n",
    "- [x]  Выполнен шаг 4: проведено тестирование\n",
    "- [x]  Удалось достичь *F1*-меры не менее 0.59\n",
    "- [x]  Исследована метрика *AUC-ROC*"
   ]
  }
 ],
 "metadata": {
  "ExecuteTimeLog": [
   {
    "duration": 2494,
    "start_time": "2023-06-27T21:24:21.037Z"
   },
   {
    "duration": 318,
    "start_time": "2023-06-27T21:26:40.265Z"
   },
   {
    "duration": 44,
    "start_time": "2023-06-27T21:26:52.939Z"
   },
   {
    "duration": 50,
    "start_time": "2023-06-27T21:27:10.969Z"
   },
   {
    "duration": 162,
    "start_time": "2023-06-27T21:27:21.225Z"
   },
   {
    "duration": 39,
    "start_time": "2023-06-27T21:29:08.418Z"
   },
   {
    "duration": 247,
    "start_time": "2023-06-27T21:33:30.364Z"
   },
   {
    "duration": 200,
    "start_time": "2023-06-27T21:35:22.524Z"
   },
   {
    "duration": 188,
    "start_time": "2023-06-27T21:35:49.349Z"
   },
   {
    "duration": 196,
    "start_time": "2023-06-27T21:36:03.048Z"
   },
   {
    "duration": 25,
    "start_time": "2023-06-27T21:36:08.101Z"
   },
   {
    "duration": 177,
    "start_time": "2023-06-27T21:36:48.552Z"
   },
   {
    "duration": 11,
    "start_time": "2023-06-27T21:36:52.440Z"
   },
   {
    "duration": 301,
    "start_time": "2023-06-27T21:36:52.540Z"
   },
   {
    "duration": 16,
    "start_time": "2023-06-27T21:37:04.357Z"
   },
   {
    "duration": 227,
    "start_time": "2023-06-27T21:37:10.360Z"
   },
   {
    "duration": 221,
    "start_time": "2023-06-27T21:37:15.952Z"
   },
   {
    "duration": 202,
    "start_time": "2023-06-27T21:37:43.309Z"
   },
   {
    "duration": 207,
    "start_time": "2023-06-27T21:37:57.448Z"
   },
   {
    "duration": 214,
    "start_time": "2023-06-27T21:38:01.751Z"
   },
   {
    "duration": 249,
    "start_time": "2023-06-27T21:38:05.309Z"
   },
   {
    "duration": 112,
    "start_time": "2023-06-27T21:38:07.248Z"
   },
   {
    "duration": 232,
    "start_time": "2023-06-27T21:38:08.921Z"
   },
   {
    "duration": 114,
    "start_time": "2023-06-27T21:38:17.867Z"
   },
   {
    "duration": 0,
    "start_time": "2023-06-27T21:38:17.983Z"
   },
   {
    "duration": 0,
    "start_time": "2023-06-27T21:38:17.984Z"
   },
   {
    "duration": 11,
    "start_time": "2023-06-27T21:38:18.260Z"
   },
   {
    "duration": 560,
    "start_time": "2023-06-27T21:38:22.152Z"
   },
   {
    "duration": 79,
    "start_time": "2023-06-27T21:38:23.255Z"
   },
   {
    "duration": 45,
    "start_time": "2023-06-27T21:38:24.034Z"
   },
   {
    "duration": 21,
    "start_time": "2023-06-27T21:38:24.409Z"
   },
   {
    "duration": 120,
    "start_time": "2023-06-27T21:38:24.932Z"
   },
   {
    "duration": 9,
    "start_time": "2023-06-27T21:38:25.437Z"
   },
   {
    "duration": 713,
    "start_time": "2023-06-27T21:38:27.010Z"
   },
   {
    "duration": 8,
    "start_time": "2023-06-27T21:38:33.411Z"
   },
   {
    "duration": 81,
    "start_time": "2023-06-27T21:38:34.214Z"
   },
   {
    "duration": 44,
    "start_time": "2023-06-27T21:38:34.662Z"
   },
   {
    "duration": 16,
    "start_time": "2023-06-27T21:38:35.213Z"
   },
   {
    "duration": 58,
    "start_time": "2023-06-27T21:38:35.620Z"
   },
   {
    "duration": 15,
    "start_time": "2023-06-27T21:38:36.112Z"
   },
   {
    "duration": 205,
    "start_time": "2023-06-27T21:38:37.012Z"
   },
   {
    "duration": 29,
    "start_time": "2023-06-27T21:38:38.048Z"
   },
   {
    "duration": 1085,
    "start_time": "2023-06-28T20:51:43.044Z"
   },
   {
    "duration": 343,
    "start_time": "2023-06-28T20:51:44.132Z"
   },
   {
    "duration": 17,
    "start_time": "2023-06-28T20:51:44.476Z"
   },
   {
    "duration": 13,
    "start_time": "2023-06-28T20:51:44.495Z"
   },
   {
    "duration": 36,
    "start_time": "2023-06-28T20:51:44.509Z"
   },
   {
    "duration": 25,
    "start_time": "2023-06-28T20:57:40.795Z"
   },
   {
    "duration": 27,
    "start_time": "2023-06-28T20:58:03.593Z"
   },
   {
    "duration": 21,
    "start_time": "2023-06-28T20:58:11.993Z"
   },
   {
    "duration": 5,
    "start_time": "2023-06-28T20:59:32.584Z"
   },
   {
    "duration": 649,
    "start_time": "2023-06-28T20:59:38.342Z"
   },
   {
    "duration": 40,
    "start_time": "2023-06-28T20:59:38.993Z"
   },
   {
    "duration": 27,
    "start_time": "2023-06-28T20:59:39.034Z"
   },
   {
    "duration": 17,
    "start_time": "2023-06-28T20:59:39.063Z"
   },
   {
    "duration": 47,
    "start_time": "2023-06-28T20:59:39.082Z"
   },
   {
    "duration": 18,
    "start_time": "2023-06-28T20:59:39.130Z"
   },
   {
    "duration": 3,
    "start_time": "2023-06-28T20:59:39.150Z"
   },
   {
    "duration": 10,
    "start_time": "2023-06-28T20:59:39.171Z"
   },
   {
    "duration": 150,
    "start_time": "2023-06-28T20:59:39.183Z"
   },
   {
    "duration": 82,
    "start_time": "2023-06-28T20:59:43.640Z"
   },
   {
    "duration": 8,
    "start_time": "2023-06-28T20:59:47.221Z"
   },
   {
    "duration": 4,
    "start_time": "2023-06-28T21:00:46.439Z"
   },
   {
    "duration": 4,
    "start_time": "2023-06-28T21:00:52.780Z"
   },
   {
    "duration": 6,
    "start_time": "2023-06-28T21:02:57.570Z"
   },
   {
    "duration": 6,
    "start_time": "2023-06-28T21:03:01.144Z"
   },
   {
    "duration": 4,
    "start_time": "2023-06-28T21:03:13.135Z"
   },
   {
    "duration": 4,
    "start_time": "2023-06-28T21:03:16.720Z"
   },
   {
    "duration": 666,
    "start_time": "2023-06-28T21:03:21.859Z"
   },
   {
    "duration": 40,
    "start_time": "2023-06-28T21:03:22.526Z"
   },
   {
    "duration": 25,
    "start_time": "2023-06-28T21:03:22.568Z"
   },
   {
    "duration": 16,
    "start_time": "2023-06-28T21:03:22.595Z"
   },
   {
    "duration": 37,
    "start_time": "2023-06-28T21:03:22.613Z"
   },
   {
    "duration": 25,
    "start_time": "2023-06-28T21:03:22.669Z"
   },
   {
    "duration": 3,
    "start_time": "2023-06-28T21:03:22.696Z"
   },
   {
    "duration": 11,
    "start_time": "2023-06-28T21:03:22.700Z"
   },
   {
    "duration": 57,
    "start_time": "2023-06-28T21:03:22.712Z"
   },
   {
    "duration": 131,
    "start_time": "2023-06-28T21:03:22.771Z"
   },
   {
    "duration": 0,
    "start_time": "2023-06-28T21:03:22.904Z"
   },
   {
    "duration": 9,
    "start_time": "2023-06-28T21:04:47.738Z"
   },
   {
    "duration": 6,
    "start_time": "2023-06-28T21:14:17.152Z"
   },
   {
    "duration": 19,
    "start_time": "2023-06-28T21:14:24.462Z"
   },
   {
    "duration": 24,
    "start_time": "2023-06-28T21:14:51.165Z"
   },
   {
    "duration": 21,
    "start_time": "2023-06-28T21:15:07.564Z"
   },
   {
    "duration": 36,
    "start_time": "2023-06-28T21:15:41.704Z"
   },
   {
    "duration": 73,
    "start_time": "2023-06-28T21:15:44.701Z"
   },
   {
    "duration": 7,
    "start_time": "2023-06-28T21:15:51.101Z"
   },
   {
    "duration": 22,
    "start_time": "2023-06-28T21:16:03.561Z"
   },
   {
    "duration": 5,
    "start_time": "2023-06-28T21:16:20.435Z"
   },
   {
    "duration": 6,
    "start_time": "2023-06-28T21:16:28.741Z"
   },
   {
    "duration": 7,
    "start_time": "2023-06-28T21:16:31.725Z"
   },
   {
    "duration": 15,
    "start_time": "2023-06-28T21:16:35.537Z"
   },
   {
    "duration": 6,
    "start_time": "2023-06-28T21:17:13.204Z"
   },
   {
    "duration": 5,
    "start_time": "2023-06-28T21:17:43.437Z"
   },
   {
    "duration": 4,
    "start_time": "2023-06-28T21:17:53.432Z"
   },
   {
    "duration": 4,
    "start_time": "2023-06-28T21:17:59.325Z"
   },
   {
    "duration": 3,
    "start_time": "2023-06-28T21:18:05.433Z"
   },
   {
    "duration": 5,
    "start_time": "2023-06-28T21:18:13.863Z"
   },
   {
    "duration": 7,
    "start_time": "2023-06-28T21:18:33.641Z"
   },
   {
    "duration": 5,
    "start_time": "2023-06-28T21:18:46.240Z"
   },
   {
    "duration": 5,
    "start_time": "2023-06-28T21:19:10.897Z"
   },
   {
    "duration": 6,
    "start_time": "2023-06-28T21:19:16.601Z"
   },
   {
    "duration": 1153,
    "start_time": "2023-06-28T21:19:43.260Z"
   },
   {
    "duration": 279,
    "start_time": "2023-06-28T21:19:54.405Z"
   },
   {
    "duration": 9,
    "start_time": "2023-06-28T21:19:59.205Z"
   },
   {
    "duration": 291,
    "start_time": "2023-06-28T21:20:05.530Z"
   },
   {
    "duration": 64,
    "start_time": "2023-06-28T21:20:18.864Z"
   },
   {
    "duration": 19,
    "start_time": "2023-06-28T21:20:24.989Z"
   },
   {
    "duration": 304,
    "start_time": "2023-06-28T21:20:35.013Z"
   },
   {
    "duration": 311,
    "start_time": "2023-06-28T21:20:45.097Z"
   },
   {
    "duration": 10,
    "start_time": "2023-06-28T21:21:31.305Z"
   },
   {
    "duration": 8,
    "start_time": "2023-06-28T21:21:42.101Z"
   },
   {
    "duration": 8,
    "start_time": "2023-06-28T21:21:47.766Z"
   },
   {
    "duration": 8,
    "start_time": "2023-06-28T21:21:59.393Z"
   },
   {
    "duration": 604,
    "start_time": "2023-06-28T21:22:03.919Z"
   },
   {
    "duration": 40,
    "start_time": "2023-06-28T21:22:04.525Z"
   },
   {
    "duration": 15,
    "start_time": "2023-06-28T21:22:04.567Z"
   },
   {
    "duration": 37,
    "start_time": "2023-06-28T21:22:04.584Z"
   },
   {
    "duration": 57,
    "start_time": "2023-06-28T21:22:04.623Z"
   },
   {
    "duration": 17,
    "start_time": "2023-06-28T21:22:04.681Z"
   },
   {
    "duration": 5,
    "start_time": "2023-06-28T21:22:04.699Z"
   },
   {
    "duration": 63,
    "start_time": "2023-06-28T21:22:04.706Z"
   },
   {
    "duration": 4,
    "start_time": "2023-06-28T21:22:04.771Z"
   },
   {
    "duration": 22,
    "start_time": "2023-06-28T21:22:04.776Z"
   },
   {
    "duration": 23,
    "start_time": "2023-06-28T21:22:04.800Z"
   },
   {
    "duration": 7,
    "start_time": "2023-06-28T21:22:04.868Z"
   },
   {
    "duration": 20,
    "start_time": "2023-06-28T21:22:04.876Z"
   },
   {
    "duration": 672,
    "start_time": "2023-06-28T21:22:04.898Z"
   },
   {
    "duration": 7,
    "start_time": "2023-06-28T21:22:05.571Z"
   },
   {
    "duration": 520,
    "start_time": "2023-06-28T21:22:05.579Z"
   },
   {
    "duration": 69,
    "start_time": "2023-06-28T21:22:06.100Z"
   },
   {
    "duration": 129,
    "start_time": "2023-06-28T21:22:06.170Z"
   },
   {
    "duration": 0,
    "start_time": "2023-06-28T21:22:06.301Z"
   },
   {
    "duration": 302,
    "start_time": "2023-06-28T21:22:11.018Z"
   },
   {
    "duration": 8,
    "start_time": "2023-06-28T21:22:13.599Z"
   },
   {
    "duration": 314,
    "start_time": "2023-06-28T21:22:15.164Z"
   },
   {
    "duration": 8,
    "start_time": "2023-06-28T21:22:29.457Z"
   },
   {
    "duration": 293,
    "start_time": "2023-06-28T21:22:29.597Z"
   },
   {
    "duration": 5,
    "start_time": "2023-06-28T21:24:14.568Z"
   },
   {
    "duration": 310,
    "start_time": "2023-06-28T21:24:14.715Z"
   },
   {
    "duration": 73,
    "start_time": "2023-06-28T21:25:32.190Z"
   },
   {
    "duration": 343,
    "start_time": "2023-06-28T21:25:32.462Z"
   },
   {
    "duration": 8,
    "start_time": "2023-06-28T21:25:40.697Z"
   },
   {
    "duration": 7,
    "start_time": "2023-06-28T21:25:40.965Z"
   },
   {
    "duration": 7,
    "start_time": "2023-06-28T21:25:47.445Z"
   },
   {
    "duration": 304,
    "start_time": "2023-06-28T21:25:47.701Z"
   },
   {
    "duration": 10,
    "start_time": "2023-06-28T21:26:12.989Z"
   },
   {
    "duration": 291,
    "start_time": "2023-06-28T21:26:13.105Z"
   },
   {
    "duration": 14,
    "start_time": "2023-06-28T21:26:39.968Z"
   },
   {
    "duration": 318,
    "start_time": "2023-06-28T21:26:40.116Z"
   },
   {
    "duration": 17,
    "start_time": "2023-06-28T21:28:05.936Z"
   },
   {
    "duration": 321,
    "start_time": "2023-06-28T21:28:06.097Z"
   },
   {
    "duration": 36,
    "start_time": "2023-06-28T21:33:29.898Z"
   },
   {
    "duration": 342,
    "start_time": "2023-06-28T21:33:30.034Z"
   },
   {
    "duration": 74,
    "start_time": "2023-06-28T22:09:40.068Z"
   },
   {
    "duration": 273,
    "start_time": "2023-06-28T22:09:40.213Z"
   },
   {
    "duration": 54,
    "start_time": "2023-06-28T22:09:48.853Z"
   },
   {
    "duration": 233,
    "start_time": "2023-06-28T22:09:51.963Z"
   },
   {
    "duration": 42,
    "start_time": "2023-06-28T22:12:43.652Z"
   },
   {
    "duration": 277,
    "start_time": "2023-06-28T22:12:43.830Z"
   },
   {
    "duration": 42,
    "start_time": "2023-06-28T22:13:44.765Z"
   },
   {
    "duration": 294,
    "start_time": "2023-06-28T22:13:44.919Z"
   },
   {
    "duration": 14,
    "start_time": "2023-06-28T22:16:59.718Z"
   },
   {
    "duration": 314,
    "start_time": "2023-06-28T22:16:59.959Z"
   },
   {
    "duration": 53,
    "start_time": "2023-06-28T22:17:10.140Z"
   },
   {
    "duration": 286,
    "start_time": "2023-06-28T22:17:10.951Z"
   },
   {
    "duration": 45,
    "start_time": "2023-06-28T22:19:42.304Z"
   },
   {
    "duration": 283,
    "start_time": "2023-06-28T22:19:42.501Z"
   },
   {
    "duration": 45,
    "start_time": "2023-06-28T22:20:11.921Z"
   },
   {
    "duration": 264,
    "start_time": "2023-06-28T22:20:12.058Z"
   },
   {
    "duration": 58,
    "start_time": "2023-06-28T22:20:39.422Z"
   },
   {
    "duration": 51,
    "start_time": "2023-06-28T22:20:41.106Z"
   },
   {
    "duration": 293,
    "start_time": "2023-06-28T22:20:41.314Z"
   },
   {
    "duration": 51,
    "start_time": "2023-06-28T22:24:26.706Z"
   },
   {
    "duration": 75,
    "start_time": "2023-06-28T22:24:26.851Z"
   },
   {
    "duration": 74,
    "start_time": "2023-06-28T22:24:28.260Z"
   },
   {
    "duration": 256,
    "start_time": "2023-06-28T22:24:28.535Z"
   },
   {
    "duration": 68,
    "start_time": "2023-06-28T22:43:38.091Z"
   },
   {
    "duration": 388,
    "start_time": "2023-06-28T22:43:38.227Z"
   },
   {
    "duration": 81,
    "start_time": "2023-06-28T22:53:08.085Z"
   },
   {
    "duration": 81,
    "start_time": "2023-06-28T22:53:08.280Z"
   },
   {
    "duration": 78,
    "start_time": "2023-06-28T22:53:09.982Z"
   },
   {
    "duration": 325,
    "start_time": "2023-06-28T22:53:10.183Z"
   },
   {
    "duration": 80,
    "start_time": "2023-06-28T22:54:44.361Z"
   },
   {
    "duration": 309,
    "start_time": "2023-06-28T22:54:44.582Z"
   },
   {
    "duration": 88,
    "start_time": "2023-06-28T22:55:00.814Z"
   },
   {
    "duration": 93,
    "start_time": "2023-06-28T22:55:01.056Z"
   },
   {
    "duration": 98,
    "start_time": "2023-06-28T22:55:02.127Z"
   },
   {
    "duration": 342,
    "start_time": "2023-06-28T22:55:02.287Z"
   },
   {
    "duration": 93,
    "start_time": "2023-06-28T22:55:34.054Z"
   },
   {
    "duration": 251,
    "start_time": "2023-06-28T22:55:34.283Z"
   },
   {
    "duration": 103,
    "start_time": "2023-06-28T22:58:40.313Z"
   },
   {
    "duration": 340,
    "start_time": "2023-06-28T22:58:40.439Z"
   },
   {
    "duration": 95,
    "start_time": "2023-06-28T22:59:34.221Z"
   },
   {
    "duration": 301,
    "start_time": "2023-06-28T22:59:34.381Z"
   },
   {
    "duration": 6,
    "start_time": "2023-06-28T23:00:25.839Z"
   },
   {
    "duration": 6,
    "start_time": "2023-06-28T23:00:41.117Z"
   },
   {
    "duration": 6,
    "start_time": "2023-06-28T23:00:45.842Z"
   },
   {
    "duration": 7,
    "start_time": "2023-06-28T23:01:27.281Z"
   },
   {
    "duration": 5,
    "start_time": "2023-06-28T23:01:37.894Z"
   },
   {
    "duration": 5,
    "start_time": "2023-06-28T23:01:46.931Z"
   },
   {
    "duration": 12,
    "start_time": "2023-06-28T23:01:57.792Z"
   },
   {
    "duration": 7,
    "start_time": "2023-06-28T23:02:44.754Z"
   },
   {
    "duration": 8,
    "start_time": "2023-06-28T23:03:29.679Z"
   },
   {
    "duration": 6,
    "start_time": "2023-06-28T23:03:34.393Z"
   },
   {
    "duration": 155,
    "start_time": "2023-06-28T23:03:37.084Z"
   },
   {
    "duration": 7,
    "start_time": "2023-06-29T20:30:00.633Z"
   },
   {
    "duration": 41,
    "start_time": "2023-06-29T20:30:01.037Z"
   },
   {
    "duration": 1714,
    "start_time": "2023-06-29T20:30:16.144Z"
   },
   {
    "duration": 4,
    "start_time": "2023-06-29T20:30:20.793Z"
   },
   {
    "duration": 67,
    "start_time": "2023-06-29T20:30:20.917Z"
   },
   {
    "duration": 1359,
    "start_time": "2023-06-29T20:30:24.451Z"
   },
   {
    "duration": 78,
    "start_time": "2023-06-29T20:30:25.812Z"
   },
   {
    "duration": 48,
    "start_time": "2023-06-29T20:30:25.891Z"
   },
   {
    "duration": 18,
    "start_time": "2023-06-29T20:30:25.942Z"
   },
   {
    "duration": 95,
    "start_time": "2023-06-29T20:30:25.961Z"
   },
   {
    "duration": 19,
    "start_time": "2023-06-29T20:30:26.057Z"
   },
   {
    "duration": 57,
    "start_time": "2023-06-29T20:30:26.077Z"
   },
   {
    "duration": 7,
    "start_time": "2023-06-29T20:30:26.136Z"
   },
   {
    "duration": 8,
    "start_time": "2023-06-29T20:30:26.145Z"
   },
   {
    "duration": 10,
    "start_time": "2023-06-29T20:30:26.156Z"
   },
   {
    "duration": 72,
    "start_time": "2023-06-29T20:30:26.168Z"
   },
   {
    "duration": 7,
    "start_time": "2023-06-29T20:30:26.242Z"
   },
   {
    "duration": 7,
    "start_time": "2023-06-29T20:30:26.251Z"
   },
   {
    "duration": 674,
    "start_time": "2023-06-29T20:30:26.260Z"
   },
   {
    "duration": 203,
    "start_time": "2023-06-29T20:30:26.939Z"
   },
   {
    "duration": 598,
    "start_time": "2023-06-29T20:30:27.144Z"
   },
   {
    "duration": 6,
    "start_time": "2023-06-29T20:30:27.744Z"
   },
   {
    "duration": 32,
    "start_time": "2023-06-29T20:30:27.751Z"
   },
   {
    "duration": 55,
    "start_time": "2023-06-29T20:30:27.785Z"
   },
   {
    "duration": 17,
    "start_time": "2023-06-29T20:30:27.842Z"
   },
   {
    "duration": 221,
    "start_time": "2023-06-29T20:30:27.861Z"
   },
   {
    "duration": 0,
    "start_time": "2023-06-29T20:30:28.084Z"
   },
   {
    "duration": 0,
    "start_time": "2023-06-29T20:30:28.085Z"
   },
   {
    "duration": 13,
    "start_time": "2023-06-29T20:30:57.594Z"
   },
   {
    "duration": 6,
    "start_time": "2023-06-29T20:30:57.740Z"
   },
   {
    "duration": 7,
    "start_time": "2023-06-29T20:31:12.889Z"
   },
   {
    "duration": 134,
    "start_time": "2023-06-29T20:31:13.124Z"
   },
   {
    "duration": 3,
    "start_time": "2023-06-29T20:31:13.769Z"
   },
   {
    "duration": 12,
    "start_time": "2023-06-29T20:31:14.121Z"
   },
   {
    "duration": 3,
    "start_time": "2023-06-29T20:32:02.307Z"
   },
   {
    "duration": 17,
    "start_time": "2023-06-29T20:32:02.701Z"
   },
   {
    "duration": 4,
    "start_time": "2023-06-29T20:32:03.099Z"
   },
   {
    "duration": 24,
    "start_time": "2023-06-29T20:32:04.011Z"
   },
   {
    "duration": 7,
    "start_time": "2023-06-29T20:32:13.500Z"
   },
   {
    "duration": 6,
    "start_time": "2023-06-29T20:32:22.791Z"
   },
   {
    "duration": 122,
    "start_time": "2023-06-29T20:32:22.911Z"
   },
   {
    "duration": 63,
    "start_time": "2023-06-29T20:32:58.203Z"
   },
   {
    "duration": 4,
    "start_time": "2023-06-29T20:33:39.112Z"
   },
   {
    "duration": 26,
    "start_time": "2023-06-29T20:33:58.594Z"
   },
   {
    "duration": 4,
    "start_time": "2023-06-29T20:36:17.502Z"
   },
   {
    "duration": 23,
    "start_time": "2023-06-29T20:36:20.459Z"
   },
   {
    "duration": 11,
    "start_time": "2023-06-29T20:37:03.228Z"
   },
   {
    "duration": 30,
    "start_time": "2023-06-29T20:37:03.412Z"
   },
   {
    "duration": 18,
    "start_time": "2023-06-29T20:37:17.830Z"
   },
   {
    "duration": 8,
    "start_time": "2023-06-29T20:39:21.161Z"
   },
   {
    "duration": 8,
    "start_time": "2023-06-29T20:39:32.190Z"
   },
   {
    "duration": 7,
    "start_time": "2023-06-29T20:39:50.719Z"
   },
   {
    "duration": 8,
    "start_time": "2023-06-29T20:40:13.322Z"
   },
   {
    "duration": 3,
    "start_time": "2023-06-29T20:40:24.484Z"
   },
   {
    "duration": 21,
    "start_time": "2023-06-29T20:40:26.165Z"
   },
   {
    "duration": 4,
    "start_time": "2023-06-29T20:41:11.218Z"
   },
   {
    "duration": 31,
    "start_time": "2023-06-29T20:41:11.351Z"
   },
   {
    "duration": 34,
    "start_time": "2023-06-29T20:41:16.260Z"
   },
   {
    "duration": 16,
    "start_time": "2023-06-29T20:41:17.769Z"
   },
   {
    "duration": 33,
    "start_time": "2023-06-29T20:41:54.788Z"
   },
   {
    "duration": 37,
    "start_time": "2023-06-29T20:42:01.791Z"
   },
   {
    "duration": 32,
    "start_time": "2023-06-29T20:43:00.201Z"
   },
   {
    "duration": 23,
    "start_time": "2023-06-29T20:43:00.836Z"
   },
   {
    "duration": 1700,
    "start_time": "2023-06-29T20:43:12.376Z"
   },
   {
    "duration": 69,
    "start_time": "2023-06-29T20:43:14.078Z"
   },
   {
    "duration": 28,
    "start_time": "2023-06-29T20:43:14.149Z"
   },
   {
    "duration": 61,
    "start_time": "2023-06-29T20:43:14.180Z"
   },
   {
    "duration": 115,
    "start_time": "2023-06-29T20:43:14.243Z"
   },
   {
    "duration": 78,
    "start_time": "2023-06-29T20:43:14.360Z"
   },
   {
    "duration": 5,
    "start_time": "2023-06-29T20:43:14.440Z"
   },
   {
    "duration": 17,
    "start_time": "2023-06-29T20:43:14.446Z"
   },
   {
    "duration": 22,
    "start_time": "2023-06-29T20:43:14.465Z"
   },
   {
    "duration": 11,
    "start_time": "2023-06-29T20:43:14.534Z"
   },
   {
    "duration": 84,
    "start_time": "2023-06-29T20:43:14.547Z"
   },
   {
    "duration": 4,
    "start_time": "2023-06-29T20:43:14.633Z"
   },
   {
    "duration": 37,
    "start_time": "2023-06-29T20:43:14.639Z"
   },
   {
    "duration": 60,
    "start_time": "2023-06-29T20:43:14.678Z"
   },
   {
    "duration": 11,
    "start_time": "2023-06-29T20:43:14.740Z"
   },
   {
    "duration": 385,
    "start_time": "2023-06-29T20:43:14.753Z"
   },
   {
    "duration": 202,
    "start_time": "2023-06-29T20:43:15.158Z"
   },
   {
    "duration": 591,
    "start_time": "2023-06-29T20:43:15.362Z"
   },
   {
    "duration": 8,
    "start_time": "2023-06-29T20:43:15.956Z"
   },
   {
    "duration": 81,
    "start_time": "2023-06-29T20:43:15.966Z"
   },
   {
    "duration": 9,
    "start_time": "2023-06-29T20:43:16.049Z"
   },
   {
    "duration": 82,
    "start_time": "2023-06-29T20:43:16.059Z"
   },
   {
    "duration": 99,
    "start_time": "2023-06-29T20:43:16.142Z"
   },
   {
    "duration": 34,
    "start_time": "2023-06-29T20:43:16.243Z"
   },
   {
    "duration": 59,
    "start_time": "2023-06-29T20:43:16.278Z"
   },
   {
    "duration": 21,
    "start_time": "2023-06-29T20:43:16.339Z"
   },
   {
    "duration": 4,
    "start_time": "2023-06-29T20:43:16.362Z"
   },
   {
    "duration": 8,
    "start_time": "2023-06-29T20:43:16.370Z"
   },
   {
    "duration": 59,
    "start_time": "2023-06-29T20:43:16.379Z"
   },
   {
    "duration": 294,
    "start_time": "2023-06-29T20:43:16.440Z"
   },
   {
    "duration": 6801,
    "start_time": "2023-06-29T20:43:16.736Z"
   },
   {
    "duration": 37,
    "start_time": "2023-06-29T20:43:35.016Z"
   },
   {
    "duration": 21,
    "start_time": "2023-06-29T20:43:35.713Z"
   },
   {
    "duration": 29,
    "start_time": "2023-06-29T20:43:47.663Z"
   },
   {
    "duration": 4,
    "start_time": "2023-06-29T20:43:47.993Z"
   },
   {
    "duration": 18,
    "start_time": "2023-06-29T20:43:48.716Z"
   },
   {
    "duration": 5,
    "start_time": "2023-06-29T20:43:49.009Z"
   },
   {
    "duration": 8,
    "start_time": "2023-06-29T20:43:50.410Z"
   },
   {
    "duration": 6,
    "start_time": "2023-06-29T20:43:51.746Z"
   },
   {
    "duration": 114,
    "start_time": "2023-06-29T20:43:52.469Z"
   },
   {
    "duration": 2316,
    "start_time": "2023-06-29T20:43:55.128Z"
   },
   {
    "duration": 4,
    "start_time": "2023-06-29T20:45:03.845Z"
   },
   {
    "duration": 7886,
    "start_time": "2023-06-29T20:45:27.956Z"
   },
   {
    "duration": 1585,
    "start_time": "2023-06-29T20:46:02.848Z"
   },
   {
    "duration": 1239,
    "start_time": "2023-06-29T20:47:07.304Z"
   },
   {
    "duration": 4,
    "start_time": "2023-06-29T20:55:12.789Z"
   },
   {
    "duration": 9,
    "start_time": "2023-06-29T20:55:25.744Z"
   },
   {
    "duration": 16,
    "start_time": "2023-06-29T20:55:35.537Z"
   },
   {
    "duration": 5,
    "start_time": "2023-06-29T20:55:48.730Z"
   },
   {
    "duration": 12,
    "start_time": "2023-06-29T20:55:51.596Z"
   },
   {
    "duration": 11,
    "start_time": "2023-06-29T20:56:37.973Z"
   },
   {
    "duration": 3,
    "start_time": "2023-06-29T20:56:55.806Z"
   },
   {
    "duration": 70,
    "start_time": "2023-06-29T20:57:03.223Z"
   },
   {
    "duration": 9,
    "start_time": "2023-06-29T20:57:03.358Z"
   },
   {
    "duration": 4,
    "start_time": "2023-06-29T20:57:04.924Z"
   },
   {
    "duration": 11,
    "start_time": "2023-06-29T20:57:29.388Z"
   },
   {
    "duration": 5,
    "start_time": "2023-06-29T20:57:45.112Z"
   },
   {
    "duration": 8,
    "start_time": "2023-06-29T20:58:08.790Z"
   },
   {
    "duration": 4,
    "start_time": "2023-06-29T20:58:09.029Z"
   },
   {
    "duration": 10,
    "start_time": "2023-06-29T20:58:23.144Z"
   },
   {
    "duration": 6,
    "start_time": "2023-06-29T20:58:23.373Z"
   },
   {
    "duration": 38,
    "start_time": "2023-06-29T20:58:26.688Z"
   },
   {
    "duration": 7,
    "start_time": "2023-06-29T20:58:26.832Z"
   },
   {
    "duration": 146,
    "start_time": "2023-06-29T20:58:31.692Z"
   },
   {
    "duration": 12,
    "start_time": "2023-06-29T20:58:31.845Z"
   },
   {
    "duration": 14,
    "start_time": "2023-06-29T20:58:34.379Z"
   },
   {
    "duration": 5,
    "start_time": "2023-06-29T20:58:34.518Z"
   },
   {
    "duration": 9,
    "start_time": "2023-06-29T20:58:36.833Z"
   },
   {
    "duration": 4,
    "start_time": "2023-06-29T20:58:36.972Z"
   },
   {
    "duration": 8,
    "start_time": "2023-06-29T20:58:39.226Z"
   },
   {
    "duration": 4,
    "start_time": "2023-06-29T20:58:39.366Z"
   },
   {
    "duration": 7,
    "start_time": "2023-06-29T20:58:42.500Z"
   },
   {
    "duration": 5,
    "start_time": "2023-06-29T20:58:42.656Z"
   },
   {
    "duration": 112,
    "start_time": "2023-06-29T20:59:01.376Z"
   },
   {
    "duration": 105,
    "start_time": "2023-06-29T20:59:05.998Z"
   },
   {
    "duration": 113,
    "start_time": "2023-06-29T20:59:17.681Z"
   },
   {
    "duration": 1670,
    "start_time": "2023-06-29T20:59:18.263Z"
   },
   {
    "duration": 92,
    "start_time": "2023-06-29T20:59:19.940Z"
   },
   {
    "duration": 22,
    "start_time": "2023-06-29T20:59:20.034Z"
   },
   {
    "duration": 5,
    "start_time": "2023-06-29T20:59:20.059Z"
   },
   {
    "duration": 108,
    "start_time": "2023-06-29T20:59:20.065Z"
   },
   {
    "duration": 100,
    "start_time": "2023-06-29T20:59:28.172Z"
   },
   {
    "duration": 8,
    "start_time": "2023-06-29T21:00:05.713Z"
   },
   {
    "duration": 7,
    "start_time": "2023-06-29T21:00:06.162Z"
   },
   {
    "duration": 9,
    "start_time": "2023-06-29T21:00:07.638Z"
   },
   {
    "duration": 5,
    "start_time": "2023-06-29T21:00:07.766Z"
   },
   {
    "duration": 102,
    "start_time": "2023-06-29T21:00:07.993Z"
   },
   {
    "duration": 147,
    "start_time": "2023-06-29T21:02:14.986Z"
   },
   {
    "duration": 1780,
    "start_time": "2023-06-29T21:02:20.157Z"
   },
   {
    "duration": 1425,
    "start_time": "2023-06-29T21:02:23.713Z"
   },
   {
    "duration": 975,
    "start_time": "2023-06-29T21:02:25.664Z"
   },
   {
    "duration": 1937,
    "start_time": "2023-06-29T21:02:28.103Z"
   },
   {
    "duration": 1870,
    "start_time": "2023-06-29T21:03:17.968Z"
   },
   {
    "duration": 1890,
    "start_time": "2023-06-29T21:03:29.043Z"
   },
   {
    "duration": 4,
    "start_time": "2023-06-29T21:06:13.467Z"
   },
   {
    "duration": 4,
    "start_time": "2023-06-29T21:09:40.603Z"
   },
   {
    "duration": 28,
    "start_time": "2023-06-29T21:11:17.405Z"
   },
   {
    "duration": 27,
    "start_time": "2023-06-29T21:11:48.801Z"
   },
   {
    "duration": 3,
    "start_time": "2023-06-29T21:11:57.223Z"
   },
   {
    "duration": 5,
    "start_time": "2023-06-29T21:12:01.742Z"
   },
   {
    "duration": 28,
    "start_time": "2023-06-29T21:12:01.901Z"
   },
   {
    "duration": 3,
    "start_time": "2023-06-29T21:12:17.848Z"
   },
   {
    "duration": 87997,
    "start_time": "2023-06-29T21:12:18.502Z"
   },
   {
    "duration": 2958,
    "start_time": "2023-06-29T21:13:56.936Z"
   },
   {
    "duration": 276,
    "start_time": "2023-06-29T21:14:04.410Z"
   },
   {
    "duration": 80,
    "start_time": "2023-06-29T21:14:08.067Z"
   },
   {
    "duration": 32893,
    "start_time": "2023-06-29T21:14:13.945Z"
   },
   {
    "duration": 0,
    "start_time": "2023-06-29T21:14:46.841Z"
   },
   {
    "duration": 1470,
    "start_time": "2023-06-29T21:14:52.086Z"
   },
   {
    "duration": 86,
    "start_time": "2023-06-29T21:14:53.558Z"
   },
   {
    "duration": 23,
    "start_time": "2023-06-29T21:14:53.646Z"
   },
   {
    "duration": 70,
    "start_time": "2023-06-29T21:14:53.672Z"
   },
   {
    "duration": 132,
    "start_time": "2023-06-29T21:14:53.744Z"
   },
   {
    "duration": 73,
    "start_time": "2023-06-29T21:14:53.877Z"
   },
   {
    "duration": 4,
    "start_time": "2023-06-29T21:14:53.951Z"
   },
   {
    "duration": 11,
    "start_time": "2023-06-29T21:14:53.957Z"
   },
   {
    "duration": 10,
    "start_time": "2023-06-29T21:14:53.969Z"
   },
   {
    "duration": 61,
    "start_time": "2023-06-29T21:14:53.981Z"
   },
   {
    "duration": 92,
    "start_time": "2023-06-29T21:14:54.045Z"
   },
   {
    "duration": 4,
    "start_time": "2023-06-29T21:14:54.140Z"
   },
   {
    "duration": 30,
    "start_time": "2023-06-29T21:14:54.147Z"
   },
   {
    "duration": 5,
    "start_time": "2023-06-29T21:14:54.178Z"
   },
   {
    "duration": 9,
    "start_time": "2023-06-29T21:14:54.239Z"
   },
   {
    "duration": 599,
    "start_time": "2023-06-29T21:14:54.249Z"
   },
   {
    "duration": 206,
    "start_time": "2023-06-29T21:14:54.850Z"
   },
   {
    "duration": 486,
    "start_time": "2023-06-29T21:14:55.058Z"
   },
   {
    "duration": 7,
    "start_time": "2023-06-29T21:14:55.546Z"
   },
   {
    "duration": 17,
    "start_time": "2023-06-29T21:14:55.555Z"
   },
   {
    "duration": 6,
    "start_time": "2023-06-29T21:14:55.574Z"
   },
   {
    "duration": 20,
    "start_time": "2023-06-29T21:14:55.582Z"
   },
   {
    "duration": 56,
    "start_time": "2023-06-29T21:14:55.604Z"
   },
   {
    "duration": 24,
    "start_time": "2023-06-29T21:14:55.662Z"
   },
   {
    "duration": 8,
    "start_time": "2023-06-29T21:14:55.688Z"
   },
   {
    "duration": 19,
    "start_time": "2023-06-29T21:14:55.697Z"
   },
   {
    "duration": 12,
    "start_time": "2023-06-29T21:14:55.717Z"
   },
   {
    "duration": 16,
    "start_time": "2023-06-29T21:14:55.730Z"
   },
   {
    "duration": 11,
    "start_time": "2023-06-29T21:14:55.749Z"
   },
   {
    "duration": 134,
    "start_time": "2023-06-29T21:14:55.761Z"
   },
   {
    "duration": 1637,
    "start_time": "2023-06-29T21:14:55.896Z"
   },
   {
    "duration": 5,
    "start_time": "2023-06-29T21:14:57.535Z"
   },
   {
    "duration": 115,
    "start_time": "2023-06-29T21:14:57.543Z"
   },
   {
    "duration": 15,
    "start_time": "2023-06-29T21:14:57.660Z"
   },
   {
    "duration": 126,
    "start_time": "2023-06-29T21:14:57.677Z"
   },
   {
    "duration": 4,
    "start_time": "2023-06-29T21:14:57.805Z"
   },
   {
    "duration": 36067,
    "start_time": "2023-06-29T21:14:57.811Z"
   },
   {
    "duration": 0,
    "start_time": "2023-06-29T21:15:33.880Z"
   },
   {
    "duration": 0,
    "start_time": "2023-06-29T21:15:33.882Z"
   },
   {
    "duration": 31302,
    "start_time": "2023-06-29T21:15:36.444Z"
   },
   {
    "duration": 19768,
    "start_time": "2023-06-29T21:16:10.167Z"
   },
   {
    "duration": 9,
    "start_time": "2023-06-29T21:16:36.671Z"
   },
   {
    "duration": 5,
    "start_time": "2023-06-29T21:16:36.945Z"
   },
   {
    "duration": 5,
    "start_time": "2023-06-29T21:16:44.649Z"
   },
   {
    "duration": 5,
    "start_time": "2023-06-29T21:16:44.901Z"
   },
   {
    "duration": 34790,
    "start_time": "2023-06-29T21:17:15.750Z"
   },
   {
    "duration": 4,
    "start_time": "2023-06-29T21:17:52.299Z"
   },
   {
    "duration": 4,
    "start_time": "2023-06-29T21:17:52.669Z"
   },
   {
    "duration": 10916,
    "start_time": "2023-06-29T21:18:10.523Z"
   },
   {
    "duration": 24844,
    "start_time": "2023-06-29T21:18:25.301Z"
   },
   {
    "duration": 532996,
    "start_time": "2023-06-29T21:19:02.842Z"
   },
   {
    "duration": 4,
    "start_time": "2023-06-29T21:28:41.557Z"
   },
   {
    "duration": 5,
    "start_time": "2023-06-29T21:28:42.140Z"
   },
   {
    "duration": 2505,
    "start_time": "2023-06-29T21:33:56.328Z"
   },
   {
    "duration": 8,
    "start_time": "2023-06-29T21:39:34.742Z"
   },
   {
    "duration": 5,
    "start_time": "2023-06-29T21:39:38.532Z"
   },
   {
    "duration": 98,
    "start_time": "2023-06-29T21:39:42.211Z"
   },
   {
    "duration": 3,
    "start_time": "2023-06-29T21:39:55.855Z"
   },
   {
    "duration": 514980,
    "start_time": "2023-06-29T21:39:59.161Z"
   },
   {
    "duration": 3,
    "start_time": "2023-06-29T21:49:20.435Z"
   },
   {
    "duration": 5,
    "start_time": "2023-06-29T21:49:30.123Z"
   },
   {
    "duration": 7,
    "start_time": "2023-06-29T21:49:33.033Z"
   },
   {
    "duration": 5,
    "start_time": "2023-06-29T21:49:33.582Z"
   },
   {
    "duration": 105,
    "start_time": "2023-06-29T21:49:34.706Z"
   },
   {
    "duration": 1170,
    "start_time": "2023-06-29T21:49:36.845Z"
   },
   {
    "duration": 4,
    "start_time": "2023-06-29T21:51:21.712Z"
   },
   {
    "duration": 13,
    "start_time": "2023-06-29T21:52:20.426Z"
   },
   {
    "duration": 156,
    "start_time": "2023-06-29T21:52:32.379Z"
   },
   {
    "duration": 23,
    "start_time": "2023-06-29T21:52:41.160Z"
   },
   {
    "duration": 292,
    "start_time": "2023-06-29T21:52:48.211Z"
   },
   {
    "duration": 251,
    "start_time": "2023-06-29T21:53:22.862Z"
   },
   {
    "duration": 278,
    "start_time": "2023-06-29T21:53:59.207Z"
   },
   {
    "duration": 4,
    "start_time": "2023-06-29T21:54:25.639Z"
   },
   {
    "duration": 276,
    "start_time": "2023-06-29T21:54:31.138Z"
   },
   {
    "duration": 297,
    "start_time": "2023-06-29T21:54:43.444Z"
   },
   {
    "duration": 267,
    "start_time": "2023-06-29T21:54:50.548Z"
   },
   {
    "duration": 243,
    "start_time": "2023-06-29T21:55:48.291Z"
   },
   {
    "duration": 285,
    "start_time": "2023-06-29T21:58:06.808Z"
   },
   {
    "duration": 220,
    "start_time": "2023-06-29T21:58:17.240Z"
   },
   {
    "duration": 1146,
    "start_time": "2023-06-29T21:59:07.294Z"
   },
   {
    "duration": 3,
    "start_time": "2023-06-29T22:00:12.682Z"
   },
   {
    "duration": 7,
    "start_time": "2023-06-29T22:02:07.617Z"
   },
   {
    "duration": 1491,
    "start_time": "2023-06-29T22:20:31.863Z"
   },
   {
    "duration": 46,
    "start_time": "2023-06-29T22:20:33.357Z"
   },
   {
    "duration": 19,
    "start_time": "2023-06-29T22:20:33.404Z"
   },
   {
    "duration": 14,
    "start_time": "2023-06-29T22:20:33.426Z"
   },
   {
    "duration": 42,
    "start_time": "2023-06-29T22:20:33.442Z"
   },
   {
    "duration": 26,
    "start_time": "2023-06-29T22:20:33.485Z"
   },
   {
    "duration": 22,
    "start_time": "2023-06-29T22:20:33.513Z"
   },
   {
    "duration": 7,
    "start_time": "2023-06-29T22:20:33.537Z"
   },
   {
    "duration": 10,
    "start_time": "2023-06-29T22:20:33.546Z"
   },
   {
    "duration": 13,
    "start_time": "2023-06-29T22:20:33.558Z"
   },
   {
    "duration": 23,
    "start_time": "2023-06-29T22:20:33.573Z"
   },
   {
    "duration": 11,
    "start_time": "2023-06-29T22:20:33.597Z"
   },
   {
    "duration": 44,
    "start_time": "2023-06-29T22:20:33.612Z"
   },
   {
    "duration": 6,
    "start_time": "2023-06-29T22:20:33.658Z"
   },
   {
    "duration": 9,
    "start_time": "2023-06-29T22:20:33.666Z"
   },
   {
    "duration": 367,
    "start_time": "2023-06-29T22:20:33.677Z"
   },
   {
    "duration": 106,
    "start_time": "2023-06-29T22:20:34.046Z"
   },
   {
    "duration": 380,
    "start_time": "2023-06-29T22:20:34.154Z"
   },
   {
    "duration": 6,
    "start_time": "2023-06-29T22:20:34.539Z"
   },
   {
    "duration": 16,
    "start_time": "2023-06-29T22:20:34.546Z"
   },
   {
    "duration": 8,
    "start_time": "2023-06-29T22:20:34.564Z"
   },
   {
    "duration": 60,
    "start_time": "2023-06-29T22:20:34.574Z"
   },
   {
    "duration": 35,
    "start_time": "2023-06-29T22:20:34.636Z"
   },
   {
    "duration": 31,
    "start_time": "2023-06-29T22:20:34.672Z"
   },
   {
    "duration": 5,
    "start_time": "2023-06-29T22:20:34.704Z"
   },
   {
    "duration": 30,
    "start_time": "2023-06-29T22:20:34.711Z"
   },
   {
    "duration": 6,
    "start_time": "2023-06-29T22:20:34.743Z"
   },
   {
    "duration": 10,
    "start_time": "2023-06-29T22:20:34.750Z"
   },
   {
    "duration": 21,
    "start_time": "2023-06-29T22:20:34.761Z"
   },
   {
    "duration": 200,
    "start_time": "2023-06-29T22:20:34.784Z"
   },
   {
    "duration": 4749,
    "start_time": "2023-06-29T22:20:34.986Z"
   },
   {
    "duration": 350,
    "start_time": "2023-06-29T22:20:39.737Z"
   },
   {
    "duration": 4,
    "start_time": "2023-06-29T22:20:40.090Z"
   },
   {
    "duration": 17,
    "start_time": "2023-06-29T22:20:40.096Z"
   },
   {
    "duration": 14,
    "start_time": "2023-06-29T22:20:40.114Z"
   },
   {
    "duration": 118,
    "start_time": "2023-06-29T22:20:40.131Z"
   },
   {
    "duration": 4,
    "start_time": "2023-06-29T22:20:40.251Z"
   },
   {
    "duration": 681896,
    "start_time": "2023-06-29T22:20:40.257Z"
   },
   {
    "duration": 79,
    "start_time": "2023-06-29T22:32:02.155Z"
   },
   {
    "duration": 123,
    "start_time": "2023-06-29T22:32:02.241Z"
   },
   {
    "duration": 185,
    "start_time": "2023-06-29T22:32:02.365Z"
   },
   {
    "duration": 6,
    "start_time": "2023-06-29T22:32:02.552Z"
   },
   {
    "duration": 29,
    "start_time": "2023-06-29T22:32:02.560Z"
   },
   {
    "duration": 128,
    "start_time": "2023-06-29T22:32:02.590Z"
   },
   {
    "duration": 1278,
    "start_time": "2023-06-29T22:32:02.719Z"
   },
   {
    "duration": 9,
    "start_time": "2023-06-29T22:32:03.998Z"
   },
   {
    "duration": 1421,
    "start_time": "2023-06-29T22:46:49.523Z"
   },
   {
    "duration": 39,
    "start_time": "2023-06-29T22:46:50.946Z"
   },
   {
    "duration": 16,
    "start_time": "2023-06-29T22:46:50.987Z"
   },
   {
    "duration": 11,
    "start_time": "2023-06-29T22:46:51.005Z"
   },
   {
    "duration": 39,
    "start_time": "2023-06-29T22:46:51.018Z"
   },
   {
    "duration": 17,
    "start_time": "2023-06-29T22:46:51.059Z"
   },
   {
    "duration": 9,
    "start_time": "2023-06-29T22:46:51.077Z"
   },
   {
    "duration": 10,
    "start_time": "2023-06-29T22:46:51.087Z"
   },
   {
    "duration": 11,
    "start_time": "2023-06-29T22:46:51.098Z"
   },
   {
    "duration": 18,
    "start_time": "2023-06-29T22:46:51.111Z"
   },
   {
    "duration": 32,
    "start_time": "2023-06-29T22:46:51.130Z"
   },
   {
    "duration": 4,
    "start_time": "2023-06-29T22:46:51.164Z"
   },
   {
    "duration": 34,
    "start_time": "2023-06-29T22:46:51.180Z"
   },
   {
    "duration": 7,
    "start_time": "2023-06-29T22:46:51.215Z"
   },
   {
    "duration": 16,
    "start_time": "2023-06-29T22:46:51.223Z"
   },
   {
    "duration": 326,
    "start_time": "2023-06-29T22:46:51.241Z"
   },
   {
    "duration": 108,
    "start_time": "2023-06-29T22:46:51.568Z"
   },
   {
    "duration": 373,
    "start_time": "2023-06-29T22:46:51.677Z"
   },
   {
    "duration": 6,
    "start_time": "2023-06-29T22:46:52.051Z"
   },
   {
    "duration": 24,
    "start_time": "2023-06-29T22:46:52.058Z"
   },
   {
    "duration": 15,
    "start_time": "2023-06-29T22:46:52.083Z"
   },
   {
    "duration": 26,
    "start_time": "2023-06-29T22:46:52.099Z"
   },
   {
    "duration": 66,
    "start_time": "2023-06-29T22:46:52.126Z"
   },
   {
    "duration": 23,
    "start_time": "2023-06-29T22:46:52.193Z"
   },
   {
    "duration": 21,
    "start_time": "2023-06-29T22:46:52.218Z"
   },
   {
    "duration": 31,
    "start_time": "2023-06-29T22:46:52.240Z"
   },
   {
    "duration": 5,
    "start_time": "2023-06-29T22:46:52.273Z"
   },
   {
    "duration": 18,
    "start_time": "2023-06-29T22:46:52.281Z"
   },
   {
    "duration": 19,
    "start_time": "2023-06-29T22:46:52.301Z"
   },
   {
    "duration": 157,
    "start_time": "2023-06-29T22:46:52.322Z"
   },
   {
    "duration": 2158,
    "start_time": "2023-06-29T22:46:52.480Z"
   },
   {
    "duration": 393,
    "start_time": "2023-06-29T22:46:54.640Z"
   },
   {
    "duration": 5,
    "start_time": "2023-06-29T22:46:55.036Z"
   },
   {
    "duration": 33,
    "start_time": "2023-06-29T22:46:55.043Z"
   },
   {
    "duration": 25,
    "start_time": "2023-06-29T22:46:55.077Z"
   },
   {
    "duration": 105,
    "start_time": "2023-06-29T22:46:55.104Z"
   },
   {
    "duration": 4,
    "start_time": "2023-06-29T22:46:55.211Z"
   },
   {
    "duration": 636918,
    "start_time": "2023-06-29T22:46:55.216Z"
   },
   {
    "duration": 12,
    "start_time": "2023-06-29T22:57:32.139Z"
   },
   {
    "duration": 150,
    "start_time": "2023-06-29T22:57:32.153Z"
   },
   {
    "duration": 213,
    "start_time": "2023-06-29T22:57:32.305Z"
   },
   {
    "duration": 11,
    "start_time": "2023-06-29T22:57:32.520Z"
   },
   {
    "duration": 12,
    "start_time": "2023-06-29T22:57:32.533Z"
   },
   {
    "duration": 123,
    "start_time": "2023-06-29T22:57:32.546Z"
   },
   {
    "duration": 1201,
    "start_time": "2023-06-29T22:57:32.672Z"
   },
   {
    "duration": 8,
    "start_time": "2023-06-29T22:57:33.876Z"
   },
   {
    "duration": 1164,
    "start_time": "2023-06-30T21:24:10.415Z"
   },
   {
    "duration": 144,
    "start_time": "2023-06-30T21:24:13.228Z"
   },
   {
    "duration": 18,
    "start_time": "2023-06-30T21:24:16.666Z"
   },
   {
    "duration": 13,
    "start_time": "2023-06-30T21:24:17.972Z"
   },
   {
    "duration": 36,
    "start_time": "2023-06-30T21:24:18.572Z"
   },
   {
    "duration": 18,
    "start_time": "2023-06-30T21:24:20.213Z"
   },
   {
    "duration": 4,
    "start_time": "2023-06-30T21:24:24.516Z"
   },
   {
    "duration": 4,
    "start_time": "2023-06-30T21:24:25.020Z"
   },
   {
    "duration": 4,
    "start_time": "2023-06-30T21:24:26.075Z"
   },
   {
    "duration": 9,
    "start_time": "2023-06-30T21:24:27.787Z"
   },
   {
    "duration": 20,
    "start_time": "2023-06-30T21:24:52.396Z"
   },
   {
    "duration": 8,
    "start_time": "2023-06-30T21:29:37.623Z"
   },
   {
    "duration": 6,
    "start_time": "2023-06-30T21:29:37.937Z"
   },
   {
    "duration": 5,
    "start_time": "2023-06-30T21:29:38.609Z"
   },
   {
    "duration": 60,
    "start_time": "2023-07-01T13:45:09.533Z"
   },
   {
    "duration": 7,
    "start_time": "2023-07-01T13:45:13.500Z"
   },
   {
    "duration": 1658,
    "start_time": "2023-07-01T13:45:19.427Z"
   },
   {
    "duration": 196,
    "start_time": "2023-07-01T13:45:21.088Z"
   },
   {
    "duration": 19,
    "start_time": "2023-07-01T13:45:21.285Z"
   },
   {
    "duration": 66,
    "start_time": "2023-07-01T13:45:21.307Z"
   },
   {
    "duration": 109,
    "start_time": "2023-07-01T13:45:21.376Z"
   },
   {
    "duration": 83,
    "start_time": "2023-07-01T13:45:21.488Z"
   },
   {
    "duration": 6,
    "start_time": "2023-07-01T13:45:21.576Z"
   },
   {
    "duration": 9,
    "start_time": "2023-07-01T13:45:21.583Z"
   },
   {
    "duration": 6,
    "start_time": "2023-07-01T13:45:21.594Z"
   },
   {
    "duration": 64,
    "start_time": "2023-07-01T13:45:21.602Z"
   },
   {
    "duration": 23,
    "start_time": "2023-07-01T13:45:21.668Z"
   },
   {
    "duration": 9,
    "start_time": "2023-07-01T13:45:21.693Z"
   },
   {
    "duration": 64,
    "start_time": "2023-07-01T13:45:21.705Z"
   },
   {
    "duration": 6,
    "start_time": "2023-07-01T13:45:28.495Z"
   },
   {
    "duration": 6,
    "start_time": "2023-07-01T13:45:30.390Z"
   },
   {
    "duration": 24,
    "start_time": "2023-07-01T13:47:20.716Z"
   },
   {
    "duration": 4,
    "start_time": "2023-07-01T13:47:39.679Z"
   },
   {
    "duration": 39,
    "start_time": "2023-07-01T13:47:39.718Z"
   },
   {
    "duration": 23,
    "start_time": "2023-07-01T13:47:39.761Z"
   },
   {
    "duration": 12,
    "start_time": "2023-07-01T13:47:39.786Z"
   },
   {
    "duration": 63,
    "start_time": "2023-07-01T13:47:39.801Z"
   },
   {
    "duration": 23,
    "start_time": "2023-07-01T13:47:39.866Z"
   },
   {
    "duration": 5,
    "start_time": "2023-07-01T13:47:39.890Z"
   },
   {
    "duration": 7,
    "start_time": "2023-07-01T13:47:39.897Z"
   },
   {
    "duration": 6,
    "start_time": "2023-07-01T13:47:39.906Z"
   },
   {
    "duration": 11,
    "start_time": "2023-07-01T13:47:39.914Z"
   },
   {
    "duration": 39,
    "start_time": "2023-07-01T13:47:39.959Z"
   },
   {
    "duration": 9,
    "start_time": "2023-07-01T13:47:40.001Z"
   },
   {
    "duration": 6,
    "start_time": "2023-07-01T13:47:42.028Z"
   },
   {
    "duration": 1535,
    "start_time": "2023-07-01T13:47:46.480Z"
   },
   {
    "duration": 40,
    "start_time": "2023-07-01T13:47:48.017Z"
   },
   {
    "duration": 25,
    "start_time": "2023-07-01T13:47:48.058Z"
   },
   {
    "duration": 13,
    "start_time": "2023-07-01T13:47:48.085Z"
   },
   {
    "duration": 47,
    "start_time": "2023-07-01T13:47:48.100Z"
   },
   {
    "duration": 34,
    "start_time": "2023-07-01T13:47:48.149Z"
   },
   {
    "duration": 4,
    "start_time": "2023-07-01T13:47:48.185Z"
   },
   {
    "duration": 8,
    "start_time": "2023-07-01T13:47:48.191Z"
   },
   {
    "duration": 19,
    "start_time": "2023-07-01T13:47:48.201Z"
   },
   {
    "duration": 12,
    "start_time": "2023-07-01T13:47:48.223Z"
   },
   {
    "duration": 60,
    "start_time": "2023-07-01T13:47:48.237Z"
   },
   {
    "duration": 7,
    "start_time": "2023-07-01T13:47:48.299Z"
   },
   {
    "duration": 8,
    "start_time": "2023-07-01T13:47:48.908Z"
   },
   {
    "duration": 9,
    "start_time": "2023-07-01T13:47:49.439Z"
   },
   {
    "duration": 222,
    "start_time": "2023-07-01T13:47:49.865Z"
   },
   {
    "duration": 15,
    "start_time": "2023-07-01T13:48:45.913Z"
   },
   {
    "duration": 7,
    "start_time": "2023-07-01T13:53:00.384Z"
   },
   {
    "duration": 6,
    "start_time": "2023-07-01T13:53:00.940Z"
   },
   {
    "duration": 5,
    "start_time": "2023-07-01T13:53:01.428Z"
   },
   {
    "duration": 7,
    "start_time": "2023-07-01T13:53:02.840Z"
   },
   {
    "duration": 137,
    "start_time": "2023-07-01T13:53:04.750Z"
   },
   {
    "duration": 13,
    "start_time": "2023-07-01T13:53:37.662Z"
   },
   {
    "duration": 34,
    "start_time": "2023-07-01T13:53:52.253Z"
   },
   {
    "duration": 11,
    "start_time": "2023-07-01T13:54:03.868Z"
   },
   {
    "duration": 1409,
    "start_time": "2023-07-01T13:54:09.698Z"
   },
   {
    "duration": 39,
    "start_time": "2023-07-01T13:54:11.109Z"
   },
   {
    "duration": 26,
    "start_time": "2023-07-01T13:54:11.149Z"
   },
   {
    "duration": 14,
    "start_time": "2023-07-01T13:54:11.177Z"
   },
   {
    "duration": 57,
    "start_time": "2023-07-01T13:54:11.192Z"
   },
   {
    "duration": 35,
    "start_time": "2023-07-01T13:54:11.255Z"
   },
   {
    "duration": 7,
    "start_time": "2023-07-01T13:54:11.291Z"
   },
   {
    "duration": 5,
    "start_time": "2023-07-01T13:54:11.300Z"
   },
   {
    "duration": 7,
    "start_time": "2023-07-01T13:54:11.307Z"
   },
   {
    "duration": 9,
    "start_time": "2023-07-01T13:54:11.317Z"
   },
   {
    "duration": 36,
    "start_time": "2023-07-01T13:54:11.327Z"
   },
   {
    "duration": 25,
    "start_time": "2023-07-01T13:54:13.481Z"
   },
   {
    "duration": 5,
    "start_time": "2023-07-01T13:54:23.843Z"
   },
   {
    "duration": 20,
    "start_time": "2023-07-01T13:54:26.178Z"
   },
   {
    "duration": 6,
    "start_time": "2023-07-01T13:54:28.573Z"
   },
   {
    "duration": 10,
    "start_time": "2023-07-01T13:55:40.475Z"
   },
   {
    "duration": 10,
    "start_time": "2023-07-01T13:55:40.701Z"
   },
   {
    "duration": 137,
    "start_time": "2023-07-01T13:55:41.106Z"
   },
   {
    "duration": 19,
    "start_time": "2023-07-01T13:55:41.623Z"
   },
   {
    "duration": 21,
    "start_time": "2023-07-01T13:55:48.545Z"
   },
   {
    "duration": 13,
    "start_time": "2023-07-01T13:58:33.716Z"
   },
   {
    "duration": 79,
    "start_time": "2023-07-01T14:02:55.735Z"
   },
   {
    "duration": 2900,
    "start_time": "2023-07-01T14:03:02.987Z"
   },
   {
    "duration": 89,
    "start_time": "2023-07-01T14:03:07.221Z"
   },
   {
    "duration": 5,
    "start_time": "2023-07-01T14:03:10.902Z"
   },
   {
    "duration": 73,
    "start_time": "2023-07-01T14:03:10.911Z"
   },
   {
    "duration": 32,
    "start_time": "2023-07-01T14:03:10.987Z"
   },
   {
    "duration": 15,
    "start_time": "2023-07-01T14:03:11.021Z"
   },
   {
    "duration": 62,
    "start_time": "2023-07-01T14:03:11.039Z"
   },
   {
    "duration": 27,
    "start_time": "2023-07-01T14:03:11.103Z"
   },
   {
    "duration": 5,
    "start_time": "2023-07-01T14:03:11.132Z"
   },
   {
    "duration": 41,
    "start_time": "2023-07-01T14:03:11.138Z"
   },
   {
    "duration": 18,
    "start_time": "2023-07-01T14:03:11.181Z"
   },
   {
    "duration": 19,
    "start_time": "2023-07-01T14:03:11.201Z"
   },
   {
    "duration": 7,
    "start_time": "2023-07-01T14:03:11.223Z"
   },
   {
    "duration": 68,
    "start_time": "2023-07-01T14:03:11.232Z"
   },
   {
    "duration": 7,
    "start_time": "2023-07-01T14:03:11.304Z"
   },
   {
    "duration": 10,
    "start_time": "2023-07-01T14:03:11.313Z"
   },
   {
    "duration": 36,
    "start_time": "2023-07-01T14:03:11.325Z"
   },
   {
    "duration": 29,
    "start_time": "2023-07-01T14:03:11.364Z"
   },
   {
    "duration": 33,
    "start_time": "2023-07-01T14:03:11.397Z"
   },
   {
    "duration": 53,
    "start_time": "2023-07-01T14:03:11.432Z"
   },
   {
    "duration": 5,
    "start_time": "2023-07-01T14:03:11.487Z"
   },
   {
    "duration": 22,
    "start_time": "2023-07-01T14:03:11.494Z"
   },
   {
    "duration": 4,
    "start_time": "2023-07-01T14:03:11.519Z"
   },
   {
    "duration": 10,
    "start_time": "2023-07-01T14:03:11.525Z"
   },
   {
    "duration": 47,
    "start_time": "2023-07-01T14:03:11.538Z"
   },
   {
    "duration": 162,
    "start_time": "2023-07-01T14:03:11.587Z"
   },
   {
    "duration": 8309,
    "start_time": "2023-07-01T14:03:11.750Z"
   },
   {
    "duration": 5,
    "start_time": "2023-07-01T14:05:09.548Z"
   },
   {
    "duration": 24,
    "start_time": "2023-07-01T14:08:07.372Z"
   },
   {
    "duration": 1349,
    "start_time": "2023-07-01T14:08:10.992Z"
   },
   {
    "duration": 0,
    "start_time": "2023-07-01T14:08:12.343Z"
   },
   {
    "duration": 49,
    "start_time": "2023-07-01T14:08:29.697Z"
   },
   {
    "duration": 1533,
    "start_time": "2023-07-01T14:08:40.313Z"
   },
   {
    "duration": 1353,
    "start_time": "2023-07-01T14:42:53.169Z"
   },
   {
    "duration": 1141,
    "start_time": "2023-07-01T14:46:35.513Z"
   },
   {
    "duration": 19,
    "start_time": "2023-07-01T14:46:48.829Z"
   },
   {
    "duration": 9,
    "start_time": "2023-07-01T14:47:06.282Z"
   },
   {
    "duration": 22,
    "start_time": "2023-07-01T14:47:10.275Z"
   },
   {
    "duration": 1500,
    "start_time": "2023-07-01T14:47:19.376Z"
   },
   {
    "duration": 40,
    "start_time": "2023-07-01T14:47:20.878Z"
   },
   {
    "duration": 22,
    "start_time": "2023-07-01T14:47:20.921Z"
   },
   {
    "duration": 17,
    "start_time": "2023-07-01T14:47:20.945Z"
   },
   {
    "duration": 46,
    "start_time": "2023-07-01T14:47:20.964Z"
   },
   {
    "duration": 30,
    "start_time": "2023-07-01T14:47:21.012Z"
   },
   {
    "duration": 15,
    "start_time": "2023-07-01T14:47:21.058Z"
   },
   {
    "duration": 11,
    "start_time": "2023-07-01T14:47:21.078Z"
   },
   {
    "duration": 27,
    "start_time": "2023-07-01T14:47:21.091Z"
   },
   {
    "duration": 28,
    "start_time": "2023-07-01T14:47:21.122Z"
   },
   {
    "duration": 21,
    "start_time": "2023-07-01T14:47:21.152Z"
   },
   {
    "duration": 39,
    "start_time": "2023-07-01T14:47:21.177Z"
   },
   {
    "duration": 7,
    "start_time": "2023-07-01T14:47:21.218Z"
   },
   {
    "duration": 22,
    "start_time": "2023-07-01T14:47:21.227Z"
   },
   {
    "duration": 33,
    "start_time": "2023-07-01T14:47:21.251Z"
   },
   {
    "duration": 29,
    "start_time": "2023-07-01T14:47:22.444Z"
   },
   {
    "duration": 13,
    "start_time": "2023-07-01T14:47:24.304Z"
   },
   {
    "duration": 23,
    "start_time": "2023-07-01T14:47:24.618Z"
   },
   {
    "duration": 119,
    "start_time": "2023-07-01T14:52:20.572Z"
   },
   {
    "duration": 13,
    "start_time": "2023-07-01T14:52:29.923Z"
   },
   {
    "duration": 1617,
    "start_time": "2023-07-01T14:52:36.323Z"
   },
   {
    "duration": 47,
    "start_time": "2023-07-01T14:52:37.943Z"
   },
   {
    "duration": 21,
    "start_time": "2023-07-01T14:52:37.992Z"
   },
   {
    "duration": 20,
    "start_time": "2023-07-01T14:52:38.017Z"
   },
   {
    "duration": 56,
    "start_time": "2023-07-01T14:52:38.039Z"
   },
   {
    "duration": 28,
    "start_time": "2023-07-01T14:52:38.097Z"
   },
   {
    "duration": 5,
    "start_time": "2023-07-01T14:52:38.127Z"
   },
   {
    "duration": 9,
    "start_time": "2023-07-01T14:52:38.160Z"
   },
   {
    "duration": 31,
    "start_time": "2023-07-01T14:52:38.172Z"
   },
   {
    "duration": 23,
    "start_time": "2023-07-01T14:52:38.205Z"
   },
   {
    "duration": 35,
    "start_time": "2023-07-01T14:52:38.230Z"
   },
   {
    "duration": 41,
    "start_time": "2023-07-01T14:52:38.267Z"
   },
   {
    "duration": 6,
    "start_time": "2023-07-01T14:52:38.310Z"
   },
   {
    "duration": 8,
    "start_time": "2023-07-01T14:52:38.318Z"
   },
   {
    "duration": 28,
    "start_time": "2023-07-01T14:52:38.328Z"
   },
   {
    "duration": 19,
    "start_time": "2023-07-01T14:52:38.358Z"
   },
   {
    "duration": 20,
    "start_time": "2023-07-01T14:52:38.380Z"
   },
   {
    "duration": 3,
    "start_time": "2023-07-01T14:52:38.402Z"
   },
   {
    "duration": 21,
    "start_time": "2023-07-01T14:52:39.412Z"
   },
   {
    "duration": 161,
    "start_time": "2023-07-01T14:52:59.297Z"
   },
   {
    "duration": 77,
    "start_time": "2023-07-01T14:53:23.653Z"
   },
   {
    "duration": 29,
    "start_time": "2023-07-01T14:53:33.581Z"
   },
   {
    "duration": 5,
    "start_time": "2023-07-01T14:53:52.361Z"
   },
   {
    "duration": 15,
    "start_time": "2023-07-01T14:53:54.623Z"
   },
   {
    "duration": 1532,
    "start_time": "2023-07-01T14:54:05.719Z"
   },
   {
    "duration": 49,
    "start_time": "2023-07-01T14:54:07.253Z"
   },
   {
    "duration": 27,
    "start_time": "2023-07-01T14:54:07.303Z"
   },
   {
    "duration": 14,
    "start_time": "2023-07-01T14:54:07.332Z"
   },
   {
    "duration": 62,
    "start_time": "2023-07-01T14:54:07.348Z"
   },
   {
    "duration": 22,
    "start_time": "2023-07-01T14:54:07.412Z"
   },
   {
    "duration": 11,
    "start_time": "2023-07-01T14:54:07.436Z"
   },
   {
    "duration": 14,
    "start_time": "2023-07-01T14:54:07.449Z"
   },
   {
    "duration": 13,
    "start_time": "2023-07-01T14:54:07.467Z"
   },
   {
    "duration": 10,
    "start_time": "2023-07-01T14:54:07.487Z"
   },
   {
    "duration": 8,
    "start_time": "2023-07-01T14:54:07.499Z"
   },
   {
    "duration": 25,
    "start_time": "2023-07-01T14:54:07.509Z"
   },
   {
    "duration": 6,
    "start_time": "2023-07-01T14:54:07.537Z"
   },
   {
    "duration": 32,
    "start_time": "2023-07-01T14:54:07.545Z"
   },
   {
    "duration": 38,
    "start_time": "2023-07-01T14:54:07.579Z"
   },
   {
    "duration": 4,
    "start_time": "2023-07-01T14:54:07.619Z"
   },
   {
    "duration": 21,
    "start_time": "2023-07-01T14:54:07.625Z"
   },
   {
    "duration": 5,
    "start_time": "2023-07-01T14:54:07.648Z"
   },
   {
    "duration": 19,
    "start_time": "2023-07-01T14:54:08.386Z"
   },
   {
    "duration": 146,
    "start_time": "2023-07-01T14:54:47.973Z"
   },
   {
    "duration": 15,
    "start_time": "2023-07-01T14:55:10.837Z"
   },
   {
    "duration": 1460,
    "start_time": "2023-07-01T14:55:22.117Z"
   },
   {
    "duration": 40,
    "start_time": "2023-07-01T14:55:23.580Z"
   },
   {
    "duration": 23,
    "start_time": "2023-07-01T14:55:23.622Z"
   },
   {
    "duration": 22,
    "start_time": "2023-07-01T14:55:23.648Z"
   },
   {
    "duration": 44,
    "start_time": "2023-07-01T14:55:23.676Z"
   },
   {
    "duration": 19,
    "start_time": "2023-07-01T14:55:23.722Z"
   },
   {
    "duration": 23,
    "start_time": "2023-07-01T14:55:23.743Z"
   },
   {
    "duration": 4,
    "start_time": "2023-07-01T14:55:23.774Z"
   },
   {
    "duration": 10,
    "start_time": "2023-07-01T14:55:23.780Z"
   },
   {
    "duration": 21,
    "start_time": "2023-07-01T14:55:23.792Z"
   },
   {
    "duration": 8,
    "start_time": "2023-07-01T14:55:23.815Z"
   },
   {
    "duration": 24,
    "start_time": "2023-07-01T14:55:23.825Z"
   },
   {
    "duration": 5,
    "start_time": "2023-07-01T14:55:23.851Z"
   },
   {
    "duration": 10,
    "start_time": "2023-07-01T14:55:23.857Z"
   },
   {
    "duration": 25,
    "start_time": "2023-07-01T14:55:23.870Z"
   },
   {
    "duration": 3,
    "start_time": "2023-07-01T14:55:23.898Z"
   },
   {
    "duration": 14,
    "start_time": "2023-07-01T14:55:23.902Z"
   },
   {
    "duration": 4,
    "start_time": "2023-07-01T14:55:23.918Z"
   },
   {
    "duration": 121,
    "start_time": "2023-07-01T14:55:24.676Z"
   },
   {
    "duration": 17,
    "start_time": "2023-07-01T14:55:32.823Z"
   },
   {
    "duration": 15,
    "start_time": "2023-07-01T14:55:57.171Z"
   },
   {
    "duration": 19,
    "start_time": "2023-07-01T14:56:14.734Z"
   },
   {
    "duration": 22,
    "start_time": "2023-07-01T14:56:28.306Z"
   },
   {
    "duration": 12,
    "start_time": "2023-07-01T14:56:36.605Z"
   },
   {
    "duration": 26,
    "start_time": "2023-07-01T14:56:54.193Z"
   },
   {
    "duration": 24,
    "start_time": "2023-07-01T14:57:22.557Z"
   },
   {
    "duration": 24,
    "start_time": "2023-07-01T14:57:40.647Z"
   },
   {
    "duration": 29,
    "start_time": "2023-07-01T14:57:42.155Z"
   },
   {
    "duration": 22,
    "start_time": "2023-07-01T14:57:44.594Z"
   },
   {
    "duration": 5,
    "start_time": "2023-07-01T14:57:48.584Z"
   },
   {
    "duration": 19,
    "start_time": "2023-07-01T14:58:29.090Z"
   },
   {
    "duration": 22,
    "start_time": "2023-07-01T14:58:40.127Z"
   },
   {
    "duration": 11,
    "start_time": "2023-07-01T14:58:57.590Z"
   },
   {
    "duration": 1500,
    "start_time": "2023-07-01T14:59:07.240Z"
   },
   {
    "duration": 48,
    "start_time": "2023-07-01T14:59:08.743Z"
   },
   {
    "duration": 20,
    "start_time": "2023-07-01T14:59:08.792Z"
   },
   {
    "duration": 13,
    "start_time": "2023-07-01T14:59:08.814Z"
   },
   {
    "duration": 59,
    "start_time": "2023-07-01T14:59:08.828Z"
   },
   {
    "duration": 21,
    "start_time": "2023-07-01T14:59:08.889Z"
   },
   {
    "duration": 5,
    "start_time": "2023-07-01T14:59:08.912Z"
   },
   {
    "duration": 18,
    "start_time": "2023-07-01T14:59:08.918Z"
   },
   {
    "duration": 29,
    "start_time": "2023-07-01T14:59:08.938Z"
   },
   {
    "duration": 14,
    "start_time": "2023-07-01T14:59:08.969Z"
   },
   {
    "duration": 15,
    "start_time": "2023-07-01T14:59:08.985Z"
   },
   {
    "duration": 27,
    "start_time": "2023-07-01T14:59:09.002Z"
   },
   {
    "duration": 5,
    "start_time": "2023-07-01T14:59:09.031Z"
   },
   {
    "duration": 17,
    "start_time": "2023-07-01T14:59:09.038Z"
   },
   {
    "duration": 24,
    "start_time": "2023-07-01T14:59:09.057Z"
   },
   {
    "duration": 4,
    "start_time": "2023-07-01T14:59:09.083Z"
   },
   {
    "duration": 21,
    "start_time": "2023-07-01T14:59:09.089Z"
   },
   {
    "duration": 6,
    "start_time": "2023-07-01T14:59:13.160Z"
   },
   {
    "duration": 10,
    "start_time": "2023-07-01T14:59:13.486Z"
   },
   {
    "duration": 13,
    "start_time": "2023-07-01T14:59:16.790Z"
   },
   {
    "duration": 1497,
    "start_time": "2023-07-01T14:59:24.573Z"
   },
   {
    "duration": 47,
    "start_time": "2023-07-01T14:59:26.073Z"
   },
   {
    "duration": 20,
    "start_time": "2023-07-01T14:59:26.122Z"
   },
   {
    "duration": 16,
    "start_time": "2023-07-01T14:59:26.144Z"
   },
   {
    "duration": 47,
    "start_time": "2023-07-01T14:59:26.169Z"
   },
   {
    "duration": 20,
    "start_time": "2023-07-01T14:59:26.218Z"
   },
   {
    "duration": 20,
    "start_time": "2023-07-01T14:59:26.240Z"
   },
   {
    "duration": 11,
    "start_time": "2023-07-01T14:59:26.270Z"
   },
   {
    "duration": 7,
    "start_time": "2023-07-01T14:59:26.283Z"
   },
   {
    "duration": 7,
    "start_time": "2023-07-01T14:59:26.292Z"
   },
   {
    "duration": 5,
    "start_time": "2023-07-01T14:59:26.301Z"
   },
   {
    "duration": 54,
    "start_time": "2023-07-01T14:59:26.308Z"
   },
   {
    "duration": 7,
    "start_time": "2023-07-01T14:59:26.365Z"
   },
   {
    "duration": 11,
    "start_time": "2023-07-01T14:59:26.375Z"
   },
   {
    "duration": 15,
    "start_time": "2023-07-01T14:59:26.388Z"
   },
   {
    "duration": 4,
    "start_time": "2023-07-01T14:59:26.405Z"
   },
   {
    "duration": 18,
    "start_time": "2023-07-01T14:59:26.410Z"
   },
   {
    "duration": 32,
    "start_time": "2023-07-01T14:59:26.430Z"
   },
   {
    "duration": 13,
    "start_time": "2023-07-01T14:59:30.472Z"
   },
   {
    "duration": 16,
    "start_time": "2023-07-01T14:59:35.542Z"
   },
   {
    "duration": 13,
    "start_time": "2023-07-01T14:59:35.704Z"
   },
   {
    "duration": 10,
    "start_time": "2023-07-01T14:59:45.311Z"
   },
   {
    "duration": 13,
    "start_time": "2023-07-01T14:59:47.133Z"
   },
   {
    "duration": 129,
    "start_time": "2023-07-01T15:00:13.877Z"
   },
   {
    "duration": 1613,
    "start_time": "2023-07-01T15:00:28.138Z"
   },
   {
    "duration": 53,
    "start_time": "2023-07-01T15:00:29.754Z"
   },
   {
    "duration": 23,
    "start_time": "2023-07-01T15:00:29.809Z"
   },
   {
    "duration": 14,
    "start_time": "2023-07-01T15:00:29.834Z"
   },
   {
    "duration": 49,
    "start_time": "2023-07-01T15:00:29.850Z"
   },
   {
    "duration": 29,
    "start_time": "2023-07-01T15:00:29.901Z"
   },
   {
    "duration": 5,
    "start_time": "2023-07-01T15:00:29.933Z"
   },
   {
    "duration": 7,
    "start_time": "2023-07-01T15:00:29.959Z"
   },
   {
    "duration": 12,
    "start_time": "2023-07-01T15:00:29.968Z"
   },
   {
    "duration": 8,
    "start_time": "2023-07-01T15:00:29.983Z"
   },
   {
    "duration": 12,
    "start_time": "2023-07-01T15:00:29.993Z"
   },
   {
    "duration": 77,
    "start_time": "2023-07-01T15:00:30.006Z"
   },
   {
    "duration": 43,
    "start_time": "2023-07-01T15:00:30.086Z"
   },
   {
    "duration": 48,
    "start_time": "2023-07-01T15:00:30.132Z"
   },
   {
    "duration": 54,
    "start_time": "2023-07-01T15:00:30.183Z"
   },
   {
    "duration": 33,
    "start_time": "2023-07-01T15:00:30.240Z"
   },
   {
    "duration": 97,
    "start_time": "2023-07-01T15:00:30.275Z"
   },
   {
    "duration": 41,
    "start_time": "2023-07-01T15:00:30.378Z"
   },
   {
    "duration": 80,
    "start_time": "2023-07-01T15:00:30.421Z"
   },
   {
    "duration": 33,
    "start_time": "2023-07-01T15:00:32.392Z"
   },
   {
    "duration": 17,
    "start_time": "2023-07-01T15:00:56.395Z"
   },
   {
    "duration": 1655,
    "start_time": "2023-07-01T15:01:01.690Z"
   },
   {
    "duration": 58,
    "start_time": "2023-07-01T15:01:03.347Z"
   },
   {
    "duration": 21,
    "start_time": "2023-07-01T15:01:03.408Z"
   },
   {
    "duration": 23,
    "start_time": "2023-07-01T15:01:03.431Z"
   },
   {
    "duration": 72,
    "start_time": "2023-07-01T15:01:03.458Z"
   },
   {
    "duration": 26,
    "start_time": "2023-07-01T15:01:03.532Z"
   },
   {
    "duration": 18,
    "start_time": "2023-07-01T15:01:03.562Z"
   },
   {
    "duration": 8,
    "start_time": "2023-07-01T15:01:03.591Z"
   },
   {
    "duration": 39,
    "start_time": "2023-07-01T15:01:03.601Z"
   },
   {
    "duration": 13,
    "start_time": "2023-07-01T15:01:03.642Z"
   },
   {
    "duration": 8,
    "start_time": "2023-07-01T15:01:03.657Z"
   },
   {
    "duration": 39,
    "start_time": "2023-07-01T15:01:03.667Z"
   },
   {
    "duration": 6,
    "start_time": "2023-07-01T15:01:03.709Z"
   },
   {
    "duration": 13,
    "start_time": "2023-07-01T15:01:03.719Z"
   },
   {
    "duration": 44,
    "start_time": "2023-07-01T15:01:03.734Z"
   },
   {
    "duration": 7,
    "start_time": "2023-07-01T15:01:03.780Z"
   },
   {
    "duration": 21,
    "start_time": "2023-07-01T15:01:03.790Z"
   },
   {
    "duration": 5,
    "start_time": "2023-07-01T15:01:03.813Z"
   },
   {
    "duration": 18,
    "start_time": "2023-07-01T15:01:03.820Z"
   },
   {
    "duration": 31,
    "start_time": "2023-07-01T15:01:04.468Z"
   },
   {
    "duration": 15,
    "start_time": "2023-07-01T15:01:19.331Z"
   },
   {
    "duration": 12,
    "start_time": "2023-07-01T15:01:22.736Z"
   },
   {
    "duration": 13,
    "start_time": "2023-07-01T15:01:26.516Z"
   },
   {
    "duration": 1445,
    "start_time": "2023-07-01T15:01:34.497Z"
   },
   {
    "duration": 49,
    "start_time": "2023-07-01T15:01:35.944Z"
   },
   {
    "duration": 19,
    "start_time": "2023-07-01T15:01:35.996Z"
   },
   {
    "duration": 20,
    "start_time": "2023-07-01T15:01:36.018Z"
   },
   {
    "duration": 62,
    "start_time": "2023-07-01T15:01:36.039Z"
   },
   {
    "duration": 22,
    "start_time": "2023-07-01T15:01:36.103Z"
   },
   {
    "duration": 5,
    "start_time": "2023-07-01T15:01:36.126Z"
   },
   {
    "duration": 12,
    "start_time": "2023-07-01T15:01:36.133Z"
   },
   {
    "duration": 18,
    "start_time": "2023-07-01T15:01:36.148Z"
   },
   {
    "duration": 12,
    "start_time": "2023-07-01T15:01:36.170Z"
   },
   {
    "duration": 5,
    "start_time": "2023-07-01T15:01:36.184Z"
   },
   {
    "duration": 23,
    "start_time": "2023-07-01T15:01:36.190Z"
   },
   {
    "duration": 7,
    "start_time": "2023-07-01T15:01:36.216Z"
   },
   {
    "duration": 46,
    "start_time": "2023-07-01T15:01:36.225Z"
   },
   {
    "duration": 15,
    "start_time": "2023-07-01T15:01:36.276Z"
   },
   {
    "duration": 4,
    "start_time": "2023-07-01T15:01:36.294Z"
   },
   {
    "duration": 25,
    "start_time": "2023-07-01T15:01:36.299Z"
   },
   {
    "duration": 9,
    "start_time": "2023-07-01T15:01:36.326Z"
   },
   {
    "duration": 12,
    "start_time": "2023-07-01T15:01:36.988Z"
   },
   {
    "duration": 22,
    "start_time": "2023-07-01T15:01:37.344Z"
   },
   {
    "duration": 13,
    "start_time": "2023-07-01T15:01:37.779Z"
   },
   {
    "duration": 8,
    "start_time": "2023-07-01T15:05:25.724Z"
   },
   {
    "duration": 7,
    "start_time": "2023-07-01T15:05:29.609Z"
   },
   {
    "duration": 26,
    "start_time": "2023-07-01T15:09:54.599Z"
   },
   {
    "duration": 29,
    "start_time": "2023-07-01T15:10:07.205Z"
   },
   {
    "duration": 21,
    "start_time": "2023-07-01T15:11:06.397Z"
   },
   {
    "duration": 13,
    "start_time": "2023-07-01T15:11:07.282Z"
   },
   {
    "duration": 19,
    "start_time": "2023-07-01T15:11:08.127Z"
   },
   {
    "duration": 4,
    "start_time": "2023-07-01T15:11:56.380Z"
   },
   {
    "duration": 3707,
    "start_time": "2023-07-01T15:15:32.761Z"
   },
   {
    "duration": 108,
    "start_time": "2023-07-01T15:15:48.638Z"
   },
   {
    "duration": 213,
    "start_time": "2023-07-01T15:16:03.261Z"
   },
   {
    "duration": 152,
    "start_time": "2023-07-01T15:16:14.341Z"
   },
   {
    "duration": 15,
    "start_time": "2023-07-01T15:17:20.617Z"
   },
   {
    "duration": 4,
    "start_time": "2023-07-01T15:17:27.346Z"
   },
   {
    "duration": 71,
    "start_time": "2023-07-01T15:17:27.352Z"
   },
   {
    "duration": 18,
    "start_time": "2023-07-01T15:17:27.424Z"
   },
   {
    "duration": 22,
    "start_time": "2023-07-01T15:17:27.445Z"
   },
   {
    "duration": 65,
    "start_time": "2023-07-01T15:17:27.472Z"
   },
   {
    "duration": 35,
    "start_time": "2023-07-01T15:17:27.539Z"
   },
   {
    "duration": 5,
    "start_time": "2023-07-01T15:17:27.580Z"
   },
   {
    "duration": 8,
    "start_time": "2023-07-01T15:17:27.587Z"
   },
   {
    "duration": 4,
    "start_time": "2023-07-01T15:17:27.599Z"
   },
   {
    "duration": 10,
    "start_time": "2023-07-01T15:17:27.605Z"
   },
   {
    "duration": 6,
    "start_time": "2023-07-01T15:17:27.617Z"
   },
   {
    "duration": 58,
    "start_time": "2023-07-01T15:17:27.625Z"
   },
   {
    "duration": 5,
    "start_time": "2023-07-01T15:17:27.685Z"
   },
   {
    "duration": 29,
    "start_time": "2023-07-01T15:17:27.692Z"
   },
   {
    "duration": 26,
    "start_time": "2023-07-01T15:17:27.723Z"
   },
   {
    "duration": 24,
    "start_time": "2023-07-01T15:17:27.751Z"
   },
   {
    "duration": 26,
    "start_time": "2023-07-01T15:17:27.776Z"
   },
   {
    "duration": 30,
    "start_time": "2023-07-01T15:17:27.804Z"
   },
   {
    "duration": 4,
    "start_time": "2023-07-01T15:17:27.836Z"
   },
   {
    "duration": 28,
    "start_time": "2023-07-01T15:17:27.842Z"
   },
   {
    "duration": 5,
    "start_time": "2023-07-01T15:17:27.875Z"
   },
   {
    "duration": 16,
    "start_time": "2023-07-01T15:17:27.882Z"
   },
   {
    "duration": 15,
    "start_time": "2023-07-01T15:17:27.901Z"
   },
   {
    "duration": 173,
    "start_time": "2023-07-01T15:17:27.920Z"
   },
   {
    "duration": 3773,
    "start_time": "2023-07-01T15:17:28.095Z"
   },
   {
    "duration": 248,
    "start_time": "2023-07-01T15:17:31.876Z"
   },
   {
    "duration": 4,
    "start_time": "2023-07-01T15:17:32.126Z"
   },
   {
    "duration": 35,
    "start_time": "2023-07-01T15:17:32.132Z"
   },
   {
    "duration": 9,
    "start_time": "2023-07-01T15:17:32.169Z"
   },
   {
    "duration": 144,
    "start_time": "2023-07-01T15:17:32.179Z"
   },
   {
    "duration": 5,
    "start_time": "2023-07-01T15:17:32.325Z"
   },
   {
    "duration": 599033,
    "start_time": "2023-07-01T15:17:32.332Z"
   },
   {
    "duration": 12,
    "start_time": "2023-07-01T15:27:31.367Z"
   },
   {
    "duration": 97,
    "start_time": "2023-07-01T15:27:31.381Z"
   },
   {
    "duration": 242,
    "start_time": "2023-07-01T15:27:31.480Z"
   },
   {
    "duration": 13,
    "start_time": "2023-07-01T15:27:31.759Z"
   },
   {
    "duration": 96,
    "start_time": "2023-07-01T15:27:31.778Z"
   },
   {
    "duration": 227,
    "start_time": "2023-07-01T15:27:31.876Z"
   },
   {
    "duration": 906,
    "start_time": "2023-07-01T15:27:32.105Z"
   },
   {
    "duration": 10,
    "start_time": "2023-07-01T15:27:33.014Z"
   },
   {
    "duration": 177,
    "start_time": "2023-07-01T15:27:33.026Z"
   },
   {
    "duration": 1567,
    "start_time": "2023-07-01T15:36:39.110Z"
   },
   {
    "duration": 2116,
    "start_time": "2023-07-01T15:36:46.857Z"
   },
   {
    "duration": 4,
    "start_time": "2023-07-01T15:39:42.855Z"
   },
   {
    "duration": 5,
    "start_time": "2023-07-01T15:40:09.751Z"
   },
   {
    "duration": 7,
    "start_time": "2023-07-01T15:40:13.937Z"
   },
   {
    "duration": 7,
    "start_time": "2023-07-01T15:40:35.820Z"
   },
   {
    "duration": 8,
    "start_time": "2023-07-01T15:40:57.295Z"
   },
   {
    "duration": 478557,
    "start_time": "2023-07-01T15:43:32.710Z"
   },
   {
    "duration": 7,
    "start_time": "2023-07-01T15:53:53.178Z"
   },
   {
    "duration": 3753,
    "start_time": "2023-07-01T16:42:42.809Z"
   },
   {
    "duration": 412,
    "start_time": "2023-07-01T16:42:52.713Z"
   },
   {
    "duration": 3854,
    "start_time": "2023-07-01T16:42:58.822Z"
   },
   {
    "duration": 185,
    "start_time": "2023-07-01T17:06:08.329Z"
   },
   {
    "duration": 8,
    "start_time": "2023-07-01T17:08:19.815Z"
   },
   {
    "duration": 7,
    "start_time": "2023-07-01T17:09:45.705Z"
   },
   {
    "duration": 7,
    "start_time": "2023-07-01T17:09:54.589Z"
   },
   {
    "duration": 455,
    "start_time": "2023-07-01T17:10:48.385Z"
   },
   {
    "duration": 487,
    "start_time": "2023-07-01T17:10:51.327Z"
   },
   {
    "duration": 11,
    "start_time": "2023-07-01T17:11:02.776Z"
   },
   {
    "duration": 198,
    "start_time": "2023-07-01T17:11:05.481Z"
   },
   {
    "duration": 176,
    "start_time": "2023-07-01T17:11:12.714Z"
   },
   {
    "duration": 1542,
    "start_time": "2023-07-01T17:19:11.491Z"
   },
   {
    "duration": 49,
    "start_time": "2023-07-01T17:19:13.035Z"
   },
   {
    "duration": 21,
    "start_time": "2023-07-01T17:19:13.087Z"
   },
   {
    "duration": 14,
    "start_time": "2023-07-01T17:19:13.111Z"
   },
   {
    "duration": 69,
    "start_time": "2023-07-01T17:19:13.127Z"
   },
   {
    "duration": 20,
    "start_time": "2023-07-01T17:19:13.198Z"
   },
   {
    "duration": 5,
    "start_time": "2023-07-01T17:19:13.220Z"
   },
   {
    "duration": 5,
    "start_time": "2023-07-01T17:19:13.227Z"
   },
   {
    "duration": 29,
    "start_time": "2023-07-01T17:19:13.234Z"
   },
   {
    "duration": 17,
    "start_time": "2023-07-01T17:19:13.264Z"
   },
   {
    "duration": 7,
    "start_time": "2023-07-01T17:19:13.285Z"
   },
   {
    "duration": 18,
    "start_time": "2023-07-01T17:19:13.294Z"
   },
   {
    "duration": 5,
    "start_time": "2023-07-01T17:19:13.315Z"
   },
   {
    "duration": 9,
    "start_time": "2023-07-01T17:19:13.321Z"
   },
   {
    "duration": 38,
    "start_time": "2023-07-01T17:19:13.332Z"
   },
   {
    "duration": 28,
    "start_time": "2023-07-01T17:19:13.378Z"
   },
   {
    "duration": 10,
    "start_time": "2023-07-01T17:19:13.408Z"
   },
   {
    "duration": 20,
    "start_time": "2023-07-01T17:19:13.420Z"
   },
   {
    "duration": 18,
    "start_time": "2023-07-01T17:19:13.443Z"
   },
   {
    "duration": 42,
    "start_time": "2023-07-01T17:19:13.463Z"
   },
   {
    "duration": 5,
    "start_time": "2023-07-01T17:19:13.507Z"
   },
   {
    "duration": 25,
    "start_time": "2023-07-01T17:19:13.514Z"
   },
   {
    "duration": 8,
    "start_time": "2023-07-01T17:19:13.542Z"
   },
   {
    "duration": 180,
    "start_time": "2023-07-01T17:19:13.552Z"
   },
   {
    "duration": 2443,
    "start_time": "2023-07-01T17:19:13.733Z"
   },
   {
    "duration": 275,
    "start_time": "2023-07-01T17:19:16.178Z"
   },
   {
    "duration": 14,
    "start_time": "2023-07-01T17:19:16.455Z"
   },
   {
    "duration": 22,
    "start_time": "2023-07-01T17:19:16.475Z"
   },
   {
    "duration": 6,
    "start_time": "2023-07-01T17:19:16.499Z"
   },
   {
    "duration": 129,
    "start_time": "2023-07-01T17:19:16.507Z"
   },
   {
    "duration": 4,
    "start_time": "2023-07-01T17:19:16.638Z"
   },
   {
    "duration": 583838,
    "start_time": "2023-07-01T17:19:16.644Z"
   },
   {
    "duration": 80,
    "start_time": "2023-07-01T17:29:00.490Z"
   },
   {
    "duration": 231,
    "start_time": "2023-07-01T17:29:00.576Z"
   },
   {
    "duration": 474764,
    "start_time": "2023-07-01T17:29:00.809Z"
   },
   {
    "duration": 89,
    "start_time": "2023-07-01T17:36:55.579Z"
   },
   {
    "duration": 175,
    "start_time": "2023-07-01T17:36:55.674Z"
   },
   {
    "duration": 25,
    "start_time": "2023-07-01T17:36:55.850Z"
   },
   {
    "duration": 425,
    "start_time": "2023-07-01T17:36:55.878Z"
   },
   {
    "duration": 121,
    "start_time": "2023-07-01T17:36:56.307Z"
   },
   {
    "duration": 0,
    "start_time": "2023-07-01T17:36:56.430Z"
   },
   {
    "duration": 14,
    "start_time": "2023-07-01T20:41:11.844Z"
   },
   {
    "duration": 10,
    "start_time": "2023-07-01T20:56:24.329Z"
   },
   {
    "duration": 14,
    "start_time": "2023-07-01T20:56:29.654Z"
   },
   {
    "duration": 9,
    "start_time": "2023-07-01T20:56:41.245Z"
   },
   {
    "duration": 12,
    "start_time": "2023-07-01T20:57:04.358Z"
   },
   {
    "duration": 13,
    "start_time": "2023-07-01T20:57:45.715Z"
   },
   {
    "duration": 11,
    "start_time": "2023-07-01T20:58:48.387Z"
   },
   {
    "duration": 9,
    "start_time": "2023-07-01T20:58:51.627Z"
   },
   {
    "duration": 1428,
    "start_time": "2023-07-01T20:59:15.555Z"
   },
   {
    "duration": 39,
    "start_time": "2023-07-01T20:59:16.985Z"
   },
   {
    "duration": 18,
    "start_time": "2023-07-01T20:59:17.026Z"
   },
   {
    "duration": 12,
    "start_time": "2023-07-01T20:59:17.046Z"
   },
   {
    "duration": 39,
    "start_time": "2023-07-01T20:59:17.072Z"
   },
   {
    "duration": 17,
    "start_time": "2023-07-01T20:59:17.112Z"
   },
   {
    "duration": 4,
    "start_time": "2023-07-01T20:59:17.130Z"
   },
   {
    "duration": 17,
    "start_time": "2023-07-01T20:59:17.136Z"
   },
   {
    "duration": 12,
    "start_time": "2023-07-01T20:59:17.154Z"
   },
   {
    "duration": 8,
    "start_time": "2023-07-01T20:59:17.171Z"
   },
   {
    "duration": 7,
    "start_time": "2023-07-01T20:59:17.181Z"
   },
   {
    "duration": 44,
    "start_time": "2023-07-01T20:59:17.190Z"
   },
   {
    "duration": 5,
    "start_time": "2023-07-01T20:59:17.235Z"
   },
   {
    "duration": 27,
    "start_time": "2023-07-01T20:59:17.242Z"
   },
   {
    "duration": 26,
    "start_time": "2023-07-01T20:59:17.271Z"
   },
   {
    "duration": 23,
    "start_time": "2023-07-01T20:59:17.299Z"
   },
   {
    "duration": 31,
    "start_time": "2023-07-01T20:59:17.324Z"
   },
   {
    "duration": 21,
    "start_time": "2023-07-01T20:59:17.357Z"
   },
   {
    "duration": 3,
    "start_time": "2023-07-01T20:59:17.380Z"
   },
   {
    "duration": 17,
    "start_time": "2023-07-01T20:59:17.384Z"
   },
   {
    "duration": 3,
    "start_time": "2023-07-01T20:59:17.402Z"
   },
   {
    "duration": 9,
    "start_time": "2023-07-01T20:59:17.407Z"
   },
   {
    "duration": 6,
    "start_time": "2023-07-01T20:59:17.418Z"
   },
   {
    "duration": 186,
    "start_time": "2023-07-01T20:59:17.425Z"
   },
   {
    "duration": 2855,
    "start_time": "2023-07-01T20:59:17.613Z"
   },
   {
    "duration": 218,
    "start_time": "2023-07-01T20:59:20.471Z"
   },
   {
    "duration": 4,
    "start_time": "2023-07-01T20:59:20.691Z"
   },
   {
    "duration": 23,
    "start_time": "2023-07-01T20:59:20.698Z"
   },
   {
    "duration": 7,
    "start_time": "2023-07-01T20:59:20.722Z"
   },
   {
    "duration": 112,
    "start_time": "2023-07-01T20:59:20.731Z"
   },
   {
    "duration": 3,
    "start_time": "2023-07-01T20:59:20.846Z"
   },
   {
    "duration": 517834,
    "start_time": "2023-07-01T20:59:20.851Z"
   },
   {
    "duration": 90,
    "start_time": "2023-07-01T21:07:58.770Z"
   },
   {
    "duration": 180,
    "start_time": "2023-07-01T21:07:58.866Z"
   },
   {
    "duration": 426533,
    "start_time": "2023-07-01T21:07:59.049Z"
   },
   {
    "duration": 76,
    "start_time": "2023-07-01T21:15:05.588Z"
   },
   {
    "duration": 164,
    "start_time": "2023-07-01T21:15:05.666Z"
   },
   {
    "duration": 5,
    "start_time": "2023-07-01T21:15:05.832Z"
   },
   {
    "duration": 395,
    "start_time": "2023-07-01T21:15:05.838Z"
   },
   {
    "duration": 151,
    "start_time": "2023-07-01T21:15:06.235Z"
   },
   {
    "duration": 911,
    "start_time": "2023-07-02T20:32:08.340Z"
   },
   {
    "duration": 257,
    "start_time": "2023-07-02T20:32:13.304Z"
   },
   {
    "duration": 132,
    "start_time": "2023-07-02T20:32:45.223Z"
   },
   {
    "duration": 51,
    "start_time": "2023-07-02T20:32:52.048Z"
   },
   {
    "duration": 46,
    "start_time": "2023-07-03T20:51:58.141Z"
   },
   {
    "duration": 1561,
    "start_time": "2023-07-03T20:52:02.241Z"
   },
   {
    "duration": 171,
    "start_time": "2023-07-03T20:52:03.804Z"
   },
   {
    "duration": 24,
    "start_time": "2023-07-03T20:52:03.978Z"
   },
   {
    "duration": 16,
    "start_time": "2023-07-03T20:52:04.005Z"
   },
   {
    "duration": 77,
    "start_time": "2023-07-03T20:52:04.024Z"
   },
   {
    "duration": 28,
    "start_time": "2023-07-03T20:52:04.103Z"
   },
   {
    "duration": 5,
    "start_time": "2023-07-03T20:52:04.133Z"
   },
   {
    "duration": 15,
    "start_time": "2023-07-03T20:52:04.139Z"
   },
   {
    "duration": 6,
    "start_time": "2023-07-03T20:52:04.168Z"
   },
   {
    "duration": 8,
    "start_time": "2023-07-03T20:52:04.176Z"
   },
   {
    "duration": 3,
    "start_time": "2023-07-03T20:52:04.186Z"
   },
   {
    "duration": 19,
    "start_time": "2023-07-03T20:52:04.191Z"
   },
   {
    "duration": 4,
    "start_time": "2023-07-03T20:52:04.212Z"
   },
   {
    "duration": 18,
    "start_time": "2023-07-03T20:52:04.217Z"
   },
   {
    "duration": 32,
    "start_time": "2023-07-03T20:52:04.237Z"
   },
   {
    "duration": 17,
    "start_time": "2023-07-03T20:52:04.271Z"
   },
   {
    "duration": 11,
    "start_time": "2023-07-03T20:52:04.291Z"
   },
   {
    "duration": 27,
    "start_time": "2023-07-03T20:52:04.304Z"
   },
   {
    "duration": 100,
    "start_time": "2023-07-03T20:52:04.333Z"
   },
   {
    "duration": 0,
    "start_time": "2023-07-03T20:52:04.435Z"
   },
   {
    "duration": 1,
    "start_time": "2023-07-03T20:52:04.436Z"
   },
   {
    "duration": 0,
    "start_time": "2023-07-03T20:52:04.437Z"
   },
   {
    "duration": 0,
    "start_time": "2023-07-03T20:52:04.439Z"
   },
   {
    "duration": 0,
    "start_time": "2023-07-03T20:52:04.440Z"
   },
   {
    "duration": 0,
    "start_time": "2023-07-03T20:52:04.441Z"
   },
   {
    "duration": 0,
    "start_time": "2023-07-03T20:52:04.442Z"
   },
   {
    "duration": 0,
    "start_time": "2023-07-03T20:52:04.443Z"
   },
   {
    "duration": 0,
    "start_time": "2023-07-03T20:52:04.444Z"
   },
   {
    "duration": 0,
    "start_time": "2023-07-03T20:52:04.445Z"
   },
   {
    "duration": 0,
    "start_time": "2023-07-03T20:52:04.446Z"
   },
   {
    "duration": 0,
    "start_time": "2023-07-03T20:52:04.468Z"
   },
   {
    "duration": 0,
    "start_time": "2023-07-03T20:52:04.469Z"
   },
   {
    "duration": 0,
    "start_time": "2023-07-03T20:52:04.470Z"
   },
   {
    "duration": 0,
    "start_time": "2023-07-03T20:52:04.471Z"
   },
   {
    "duration": 0,
    "start_time": "2023-07-03T20:52:04.472Z"
   },
   {
    "duration": 0,
    "start_time": "2023-07-03T20:52:04.473Z"
   },
   {
    "duration": 0,
    "start_time": "2023-07-03T20:52:04.474Z"
   },
   {
    "duration": 0,
    "start_time": "2023-07-03T20:52:04.475Z"
   },
   {
    "duration": 0,
    "start_time": "2023-07-03T20:52:04.476Z"
   },
   {
    "duration": 0,
    "start_time": "2023-07-03T20:52:04.477Z"
   },
   {
    "duration": 0,
    "start_time": "2023-07-03T20:52:04.478Z"
   },
   {
    "duration": 1312,
    "start_time": "2023-07-03T20:53:11.688Z"
   },
   {
    "duration": 40,
    "start_time": "2023-07-03T20:53:13.002Z"
   },
   {
    "duration": 16,
    "start_time": "2023-07-03T20:53:13.044Z"
   },
   {
    "duration": 13,
    "start_time": "2023-07-03T20:53:13.064Z"
   },
   {
    "duration": 39,
    "start_time": "2023-07-03T20:53:13.078Z"
   },
   {
    "duration": 17,
    "start_time": "2023-07-03T20:53:13.118Z"
   },
   {
    "duration": 3,
    "start_time": "2023-07-03T20:53:13.136Z"
   },
   {
    "duration": 29,
    "start_time": "2023-07-03T20:53:13.140Z"
   },
   {
    "duration": 4,
    "start_time": "2023-07-03T20:53:13.170Z"
   },
   {
    "duration": 14,
    "start_time": "2023-07-03T20:53:13.176Z"
   },
   {
    "duration": 4,
    "start_time": "2023-07-03T20:53:13.192Z"
   },
   {
    "duration": 25,
    "start_time": "2023-07-03T20:53:13.197Z"
   },
   {
    "duration": 4,
    "start_time": "2023-07-03T20:53:13.223Z"
   },
   {
    "duration": 6,
    "start_time": "2023-07-03T20:53:13.228Z"
   },
   {
    "duration": 19,
    "start_time": "2023-07-03T20:53:13.235Z"
   },
   {
    "duration": 17,
    "start_time": "2023-07-03T20:53:13.268Z"
   },
   {
    "duration": 8,
    "start_time": "2023-07-03T20:53:13.286Z"
   },
   {
    "duration": 16,
    "start_time": "2023-07-03T20:53:13.296Z"
   },
   {
    "duration": 131,
    "start_time": "2023-07-03T20:53:13.313Z"
   },
   {
    "duration": 0,
    "start_time": "2023-07-03T20:53:13.445Z"
   },
   {
    "duration": 0,
    "start_time": "2023-07-03T20:53:13.447Z"
   },
   {
    "duration": 0,
    "start_time": "2023-07-03T20:53:13.448Z"
   },
   {
    "duration": 0,
    "start_time": "2023-07-03T20:53:13.449Z"
   },
   {
    "duration": 0,
    "start_time": "2023-07-03T20:53:13.450Z"
   },
   {
    "duration": 0,
    "start_time": "2023-07-03T20:53:13.451Z"
   },
   {
    "duration": 0,
    "start_time": "2023-07-03T20:53:13.452Z"
   },
   {
    "duration": 0,
    "start_time": "2023-07-03T20:53:13.453Z"
   },
   {
    "duration": 0,
    "start_time": "2023-07-03T20:53:13.454Z"
   },
   {
    "duration": 0,
    "start_time": "2023-07-03T20:53:13.468Z"
   },
   {
    "duration": 0,
    "start_time": "2023-07-03T20:53:13.469Z"
   },
   {
    "duration": 0,
    "start_time": "2023-07-03T20:53:13.470Z"
   },
   {
    "duration": 0,
    "start_time": "2023-07-03T20:53:13.471Z"
   },
   {
    "duration": 0,
    "start_time": "2023-07-03T20:53:13.473Z"
   },
   {
    "duration": 0,
    "start_time": "2023-07-03T20:53:13.473Z"
   },
   {
    "duration": 0,
    "start_time": "2023-07-03T20:53:13.474Z"
   },
   {
    "duration": 0,
    "start_time": "2023-07-03T20:53:13.476Z"
   },
   {
    "duration": 0,
    "start_time": "2023-07-03T20:53:13.476Z"
   },
   {
    "duration": 0,
    "start_time": "2023-07-03T20:53:13.477Z"
   },
   {
    "duration": 0,
    "start_time": "2023-07-03T20:53:13.478Z"
   },
   {
    "duration": 0,
    "start_time": "2023-07-03T20:53:13.479Z"
   },
   {
    "duration": 0,
    "start_time": "2023-07-03T20:53:13.480Z"
   },
   {
    "duration": 3,
    "start_time": "2023-07-03T21:36:41.851Z"
   },
   {
    "duration": 3,
    "start_time": "2023-07-03T21:36:43.904Z"
   },
   {
    "duration": 62,
    "start_time": "2023-07-03T21:36:43.909Z"
   },
   {
    "duration": 16,
    "start_time": "2023-07-03T21:36:43.973Z"
   },
   {
    "duration": 33,
    "start_time": "2023-07-03T21:36:43.992Z"
   },
   {
    "duration": 57,
    "start_time": "2023-07-03T21:36:44.027Z"
   },
   {
    "duration": 21,
    "start_time": "2023-07-03T21:36:44.086Z"
   },
   {
    "duration": 5,
    "start_time": "2023-07-03T21:36:44.108Z"
   },
   {
    "duration": 15,
    "start_time": "2023-07-03T21:36:44.115Z"
   },
   {
    "duration": 14,
    "start_time": "2023-07-03T21:36:44.132Z"
   },
   {
    "duration": 33,
    "start_time": "2023-07-03T21:36:44.148Z"
   },
   {
    "duration": 19,
    "start_time": "2023-07-03T21:36:44.183Z"
   },
   {
    "duration": 35,
    "start_time": "2023-07-03T21:36:44.204Z"
   },
   {
    "duration": 16,
    "start_time": "2023-07-03T21:36:44.242Z"
   },
   {
    "duration": 16,
    "start_time": "2023-07-03T21:36:44.260Z"
   },
   {
    "duration": 28,
    "start_time": "2023-07-03T21:36:44.278Z"
   },
   {
    "duration": 25,
    "start_time": "2023-07-03T21:36:44.308Z"
   },
   {
    "duration": 20,
    "start_time": "2023-07-03T21:36:44.335Z"
   },
   {
    "duration": 20,
    "start_time": "2023-07-03T21:36:44.356Z"
   },
   {
    "duration": 13,
    "start_time": "2023-07-03T21:36:44.377Z"
   },
   {
    "duration": 10,
    "start_time": "2023-07-03T21:36:44.392Z"
   },
   {
    "duration": 25,
    "start_time": "2023-07-03T21:36:44.403Z"
   },
   {
    "duration": 23,
    "start_time": "2023-07-03T21:36:44.430Z"
   },
   {
    "duration": 31,
    "start_time": "2023-07-03T21:36:44.454Z"
   },
   {
    "duration": 12,
    "start_time": "2023-07-03T21:36:44.486Z"
   },
   {
    "duration": 132,
    "start_time": "2023-07-03T21:36:44.499Z"
   },
   {
    "duration": 1142,
    "start_time": "2023-07-03T21:36:44.633Z"
   },
   {
    "duration": 318,
    "start_time": "2023-07-03T21:36:45.779Z"
   },
   {
    "duration": 3,
    "start_time": "2023-07-03T21:36:46.099Z"
   },
   {
    "duration": 28,
    "start_time": "2023-07-03T21:36:46.104Z"
   },
   {
    "duration": 12,
    "start_time": "2023-07-03T21:36:46.134Z"
   },
   {
    "duration": 139,
    "start_time": "2023-07-03T21:36:46.148Z"
   },
   {
    "duration": 3,
    "start_time": "2023-07-03T21:36:46.289Z"
   },
   {
    "duration": 366481,
    "start_time": "2023-07-03T21:36:46.294Z"
   },
   {
    "duration": 95,
    "start_time": "2023-07-03T21:42:52.777Z"
   },
   {
    "duration": 264,
    "start_time": "2023-07-03T21:42:52.875Z"
   },
   {
    "duration": 276530,
    "start_time": "2023-07-03T21:42:53.141Z"
   },
   {
    "duration": 92,
    "start_time": "2023-07-03T21:47:29.677Z"
   },
   {
    "duration": 138,
    "start_time": "2023-07-03T21:47:29.770Z"
   },
   {
    "duration": 5,
    "start_time": "2023-07-03T21:47:29.909Z"
   },
   {
    "duration": 395,
    "start_time": "2023-07-03T21:47:29.915Z"
   },
   {
    "duration": 136,
    "start_time": "2023-07-03T21:47:30.312Z"
   }
  ],
  "kernelspec": {
   "display_name": "Python 3 (ipykernel)",
   "language": "python",
   "name": "python3"
  },
  "language_info": {
   "codemirror_mode": {
    "name": "ipython",
    "version": 3
   },
   "file_extension": ".py",
   "mimetype": "text/x-python",
   "name": "python",
   "nbconvert_exporter": "python",
   "pygments_lexer": "ipython3",
   "version": "3.12.1"
  },
  "toc": {
   "base_numbering": 1,
   "nav_menu": {},
   "number_sections": true,
   "sideBar": true,
   "skip_h1_title": true,
   "title_cell": "Содержание",
   "title_sidebar": "Contents",
   "toc_cell": true,
   "toc_position": {
    "height": "calc(100% - 180px)",
    "left": "10px",
    "top": "150px",
    "width": "371px"
   },
   "toc_section_display": true,
   "toc_window_display": true
  }
 },
 "nbformat": 4,
 "nbformat_minor": 4
}
