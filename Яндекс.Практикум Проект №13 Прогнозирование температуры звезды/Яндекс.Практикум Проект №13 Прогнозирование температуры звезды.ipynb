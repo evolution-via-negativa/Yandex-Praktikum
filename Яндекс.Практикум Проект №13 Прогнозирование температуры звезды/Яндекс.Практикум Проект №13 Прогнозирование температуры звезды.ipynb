{
 "cells": [
  {
   "cell_type": "markdown",
   "id": "5e28330f",
   "metadata": {},
   "source": [
    "# Прогнозирование температуры звезды\n",
    "\n",
    "Необходимо придумать, как с помощью нейросети определять температуру на поверхности обнаруженных звёзд. В базе обсерватории есть характеристики уже изученных 240 звёзд:\n",
    "\n",
    "- Относительная светимость `L/Lo` — светимость звезды относительно Солнца\n",
    "- Относительный радиус `R/Ro` — радиус звезды относительно радиуса Солнца\n",
    "- Абсолютная звёздная величина `Mv` — физическая величина, характеризующая блеск звезды\n",
    "- Звёздный цвет (`white`, `red`, `blue`, `yellow`, `yellow-orange` и др.) — цвет звезды, который определяют на основе спектрального анализа\n",
    "- Тип звезды\n",
    "- Абсолютная температура `T(K)` — температура на поверхности звезды в Кельвинах\n",
    "\n",
    "\n",
    "Необходимо разработать нейронную сеть, которая поможет предсказывать абсолютную температуру на поверхности звезды."
   ]
  },
  {
   "cell_type": "markdown",
   "id": "6adbe73e",
   "metadata": {},
   "source": [
    "## Содержание\n",
    " - [Загрузка и разведочный анализ данных](#getting-data)\n",
    " - [Предобработка и анализ данных](#preprocessing)\n",
    " - [Построение базовой нейронной сети](#baseline)\n",
    " - [Улучшение нейронной сети](#upgrade)\n",
    " - [Вывод](#general-conclusion)"
   ]
  },
  {
   "cell_type": "markdown",
   "id": "91c30939",
   "metadata": {},
   "source": [
    "Импортируем полезные библиотеки, которые пригодятся нам в будущем"
   ]
  },
  {
   "cell_type": "code",
   "execution_count": 1,
   "id": "9cd6ba63",
   "metadata": {},
   "outputs": [],
   "source": [
    "import math\n",
    "import copy\n",
    "import tqdm\n",
    "import numpy as np\n",
    "import pandas as pd\n",
    "import phik\n",
    "import matplotlib.pyplot as plt\n",
    "import torch\n",
    "import torch.nn as nn\n",
    "from phik.report import plot_correlation_matrix\n",
    "from sklearn import set_config\n",
    "from sklearn.base import BaseEstimator\n",
    "from sklearn.metrics import mean_squared_error\n",
    "from sklearn.compose import ColumnTransformer\n",
    "from sklearn.pipeline import Pipeline\n",
    "from sklearn.preprocessing import OrdinalEncoder, StandardScaler\n",
    "from sklearn.model_selection import train_test_split, ParameterGrid"
   ]
  },
  {
   "cell_type": "markdown",
   "id": "ec4689f1",
   "metadata": {},
   "source": [
    "Объявим константы, зададим параметры по умолчанию и создадим функции, которые понадобятся нам в дальнейшем"
   ]
  },
  {
   "cell_type": "code",
   "execution_count": 2,
   "id": "8fbd5d87",
   "metadata": {
    "slideshow": {
     "slide_type": "-"
    }
   },
   "outputs": [],
   "source": [
    "RANDOM_STATE = 591520\n",
    "SMALL_SIZE = 12\n",
    "MEDIUM_SIZE = 18\n",
    "BIGGER_SIZE = 24\n",
    "\n",
    "pd.set_option('display.precision', 4)\n",
    "pd.set_option('display.float_format', '{:.4f}'.format)\n",
    "plt.rc('font', size=SMALL_SIZE)                                    # controls default text sizes\n",
    "plt.rc('axes', titlesize=MEDIUM_SIZE)                              # fontsize of the axes title\n",
    "plt.rc('axes', labelsize=MEDIUM_SIZE)                              # fontsize of the x and y labels\n",
    "plt.rc('xtick', labelsize=SMALL_SIZE)                              # fontsize of the tick labels\n",
    "plt.rc('ytick', labelsize=SMALL_SIZE)                              # fontsize of the tick labels\n",
    "plt.rc('legend', fontsize=SMALL_SIZE)                              # legend fontsize\n",
    "plt.rc('figure', titlesize=BIGGER_SIZE)                            # fontsize of the figure title\n",
    "plt.rc('figure', figsize=(16, 12))                                 # size of the figure\n",
    "set_config(display='diagram')\n",
    "\n",
    "# Функция, которая переименовывает цвета звезд\n",
    "def rename_color(color):\n",
    "    color = color.lower()\n",
    "    \n",
    "    if color in ['blue white', 'blue white ']:\n",
    "        return 'blue-white'\n",
    "    elif color == 'blue ':\n",
    "        return 'blue'\n",
    "    elif color == 'white-yellow':\n",
    "        return 'yellow-white'\n",
    "    elif color == 'yellowish white':\n",
    "        return 'yellowish-white'\n",
    "    elif color == 'pale yellow orange':\n",
    "        return 'pale-yellow-orange'\n",
    "    else:\n",
    "        return color\n",
    "    \n",
    "# Функция, которая генерирует результаты анализа \n",
    "def generate_results(model, X_valid, y_valid):\n",
    "    temperatures = pd.DataFrame()\n",
    "    temperatures['Факт'] = y_valid\n",
    "    temperatures['Прогноз'] = model.predict(X_valid)\n",
    "    temperatures.sort_index(inplace=True)\n",
    "\n",
    "    _, ax = plt.subplots(figsize=(16, 4))\n",
    "    temperatures['Факт'].plot(kind='bar', ax=ax, color='paleturquoise', width=0.8, edgecolor='black');\n",
    "    temperatures['Прогноз'].plot(kind='bar', ax=ax, color='orange', width=0.4, edgecolor='black');\n",
    "\n",
    "    ax.set_xlabel('Номер звезды в таблице данных')\n",
    "    ax.set_ylabel('Температура звезды')\n",
    "    ax.legend(loc='upper center', bbox_to_anchor=(0.5, -0.25), fancybox=True, shadow=True, ncol=2)\n",
    "    plt.show()\n",
    "\n",
    "    print(f\"RMSE: {round(mean_squared_error(temperatures['Факт'], temperatures['Прогноз'], squared=False), 2)}\")"
   ]
  },
  {
   "cell_type": "markdown",
   "id": "corresponding-armstrong",
   "metadata": {
    "ExecuteTime": {
     "end_time": "2022-05-05T04:58:05.692448Z",
     "start_time": "2022-05-05T04:58:05.688565Z"
    }
   },
   "source": [
    "<a name=\"getting-data\"></a>\n",
    "## Загрузка и разведочный анализ данных"
   ]
  },
  {
   "cell_type": "markdown",
   "id": "1ebff754",
   "metadata": {},
   "source": [
    "#### Получим данные с информацией о характеристиках уже изученных звёзд:"
   ]
  },
  {
   "cell_type": "code",
   "execution_count": 3,
   "id": "4c79a8fb",
   "metadata": {},
   "outputs": [],
   "source": [
    "data = pd.read_csv('https://code.s3.yandex.net/datasets/6_class.csv', dtype={'Star type':'category', 'Star color': 'category'})"
   ]
  },
  {
   "cell_type": "markdown",
   "id": "29d7fa10",
   "metadata": {},
   "source": [
    "#### Ознакомимся с набором данных. Выведем несколько строк из датафрейма, взятых случайным образом:"
   ]
  },
  {
   "cell_type": "code",
   "execution_count": 4,
   "id": "442b4799",
   "metadata": {},
   "outputs": [
    {
     "data": {
      "text/html": [
       "<div>\n",
       "<style scoped>\n",
       "    .dataframe tbody tr th:only-of-type {\n",
       "        vertical-align: middle;\n",
       "    }\n",
       "\n",
       "    .dataframe tbody tr th {\n",
       "        vertical-align: top;\n",
       "    }\n",
       "\n",
       "    .dataframe thead th {\n",
       "        text-align: right;\n",
       "    }\n",
       "</style>\n",
       "<table border=\"1\" class=\"dataframe\">\n",
       "  <thead>\n",
       "    <tr style=\"text-align: right;\">\n",
       "      <th></th>\n",
       "      <th>Unnamed: 0</th>\n",
       "      <th>Temperature (K)</th>\n",
       "      <th>Luminosity(L/Lo)</th>\n",
       "      <th>Radius(R/Ro)</th>\n",
       "      <th>Absolute magnitude(Mv)</th>\n",
       "      <th>Star type</th>\n",
       "      <th>Star color</th>\n",
       "    </tr>\n",
       "  </thead>\n",
       "  <tbody>\n",
       "    <tr>\n",
       "      <th>168</th>\n",
       "      <td>168</td>\n",
       "      <td>17383</td>\n",
       "      <td>342900.0000</td>\n",
       "      <td>30.0000</td>\n",
       "      <td>-6.0900</td>\n",
       "      <td>4</td>\n",
       "      <td>Blue</td>\n",
       "    </tr>\n",
       "    <tr>\n",
       "      <th>188</th>\n",
       "      <td>188</td>\n",
       "      <td>2778</td>\n",
       "      <td>0.0008</td>\n",
       "      <td>0.1120</td>\n",
       "      <td>19.4500</td>\n",
       "      <td>0</td>\n",
       "      <td>Red</td>\n",
       "    </tr>\n",
       "    <tr>\n",
       "      <th>157</th>\n",
       "      <td>157</td>\n",
       "      <td>20120</td>\n",
       "      <td>4720.0000</td>\n",
       "      <td>6.7800</td>\n",
       "      <td>-3.4000</td>\n",
       "      <td>3</td>\n",
       "      <td>Blue-white</td>\n",
       "    </tr>\n",
       "    <tr>\n",
       "      <th>233</th>\n",
       "      <td>233</td>\n",
       "      <td>27739</td>\n",
       "      <td>849420.0000</td>\n",
       "      <td>1252.0000</td>\n",
       "      <td>-7.5900</td>\n",
       "      <td>5</td>\n",
       "      <td>Blue-white</td>\n",
       "    </tr>\n",
       "    <tr>\n",
       "      <th>155</th>\n",
       "      <td>155</td>\n",
       "      <td>28700</td>\n",
       "      <td>16790.0000</td>\n",
       "      <td>6.4000</td>\n",
       "      <td>-4.0900</td>\n",
       "      <td>3</td>\n",
       "      <td>Blue-white</td>\n",
       "    </tr>\n",
       "    <tr>\n",
       "      <th>161</th>\n",
       "      <td>161</td>\n",
       "      <td>11567</td>\n",
       "      <td>251000.0000</td>\n",
       "      <td>36.0000</td>\n",
       "      <td>-6.2450</td>\n",
       "      <td>4</td>\n",
       "      <td>Blue</td>\n",
       "    </tr>\n",
       "    <tr>\n",
       "      <th>178</th>\n",
       "      <td>178</td>\n",
       "      <td>12100</td>\n",
       "      <td>120000.0000</td>\n",
       "      <td>708.9000</td>\n",
       "      <td>-7.8400</td>\n",
       "      <td>5</td>\n",
       "      <td>Blue-white</td>\n",
       "    </tr>\n",
       "    <tr>\n",
       "      <th>164</th>\n",
       "      <td>164</td>\n",
       "      <td>8927</td>\n",
       "      <td>239000.0000</td>\n",
       "      <td>35.0000</td>\n",
       "      <td>-7.3400</td>\n",
       "      <td>4</td>\n",
       "      <td>Blue</td>\n",
       "    </tr>\n",
       "    <tr>\n",
       "      <th>146</th>\n",
       "      <td>146</td>\n",
       "      <td>12912</td>\n",
       "      <td>0.0007</td>\n",
       "      <td>0.0095</td>\n",
       "      <td>12.8300</td>\n",
       "      <td>2</td>\n",
       "      <td>Blue white</td>\n",
       "    </tr>\n",
       "    <tr>\n",
       "      <th>41</th>\n",
       "      <td>41</td>\n",
       "      <td>3365</td>\n",
       "      <td>340000.0000</td>\n",
       "      <td>23.0000</td>\n",
       "      <td>-6.2000</td>\n",
       "      <td>4</td>\n",
       "      <td>Red</td>\n",
       "    </tr>\n",
       "  </tbody>\n",
       "</table>\n",
       "</div>"
      ],
      "text/plain": [
       "     Unnamed: 0  Temperature (K)  Luminosity(L/Lo)  Radius(R/Ro)  \\\n",
       "168         168            17383       342900.0000       30.0000   \n",
       "188         188             2778            0.0008        0.1120   \n",
       "157         157            20120         4720.0000        6.7800   \n",
       "233         233            27739       849420.0000     1252.0000   \n",
       "155         155            28700        16790.0000        6.4000   \n",
       "161         161            11567       251000.0000       36.0000   \n",
       "178         178            12100       120000.0000      708.9000   \n",
       "164         164             8927       239000.0000       35.0000   \n",
       "146         146            12912            0.0007        0.0095   \n",
       "41           41             3365       340000.0000       23.0000   \n",
       "\n",
       "     Absolute magnitude(Mv) Star type  Star color  \n",
       "168                 -6.0900         4        Blue  \n",
       "188                 19.4500         0         Red  \n",
       "157                 -3.4000         3  Blue-white  \n",
       "233                 -7.5900         5  Blue-white  \n",
       "155                 -4.0900         3  Blue-white  \n",
       "161                 -6.2450         4        Blue  \n",
       "178                 -7.8400         5  Blue-white  \n",
       "164                 -7.3400         4        Blue  \n",
       "146                 12.8300         2  Blue white  \n",
       "41                  -6.2000         4         Red  "
      ]
     },
     "execution_count": 4,
     "metadata": {},
     "output_type": "execute_result"
    }
   ],
   "source": [
    "data.sample(10, random_state=RANDOM_STATE)"
   ]
  },
  {
   "cell_type": "markdown",
   "id": "5a6f6399",
   "metadata": {},
   "source": [
    "#### Отобразим информацию для краткого обзора данных:"
   ]
  },
  {
   "cell_type": "code",
   "execution_count": 5,
   "id": "8c1ce8aa",
   "metadata": {},
   "outputs": [
    {
     "name": "stdout",
     "output_type": "stream",
     "text": [
      "<class 'pandas.core.frame.DataFrame'>\n",
      "RangeIndex: 240 entries, 0 to 239\n",
      "Data columns (total 7 columns):\n",
      " #   Column                  Non-Null Count  Dtype   \n",
      "---  ------                  --------------  -----   \n",
      " 0   Unnamed: 0              240 non-null    int64   \n",
      " 1   Temperature (K)         240 non-null    int64   \n",
      " 2   Luminosity(L/Lo)        240 non-null    float64 \n",
      " 3   Radius(R/Ro)            240 non-null    float64 \n",
      " 4   Absolute magnitude(Mv)  240 non-null    float64 \n",
      " 5   Star type               240 non-null    category\n",
      " 6   Star color              240 non-null    category\n",
      "dtypes: category(2), float64(3), int64(2)\n",
      "memory usage: 10.7 KB\n"
     ]
    }
   ],
   "source": [
    "data.info()"
   ]
  },
  {
   "cell_type": "markdown",
   "id": "b0bd4735",
   "metadata": {},
   "source": [
    "#### Посчитаем количество пропущенных значений:"
   ]
  },
  {
   "cell_type": "code",
   "execution_count": 6,
   "id": "9f78fe5a",
   "metadata": {},
   "outputs": [
    {
     "data": {
      "text/plain": [
       "Unnamed: 0                0\n",
       "Temperature (K)           0\n",
       "Luminosity(L/Lo)          0\n",
       "Radius(R/Ro)              0\n",
       "Absolute magnitude(Mv)    0\n",
       "Star type                 0\n",
       "Star color                0\n",
       "dtype: int64"
      ]
     },
     "execution_count": 6,
     "metadata": {},
     "output_type": "execute_result"
    }
   ],
   "source": [
    "data.isna().sum()"
   ]
  },
  {
   "cell_type": "markdown",
   "id": "1f671365",
   "metadata": {},
   "source": [
    "#### Отобразим таблицу с описательной статистикой признаков:"
   ]
  },
  {
   "cell_type": "code",
   "execution_count": 7,
   "id": "18483ca8",
   "metadata": {},
   "outputs": [
    {
     "data": {
      "text/html": [
       "<div>\n",
       "<style scoped>\n",
       "    .dataframe tbody tr th:only-of-type {\n",
       "        vertical-align: middle;\n",
       "    }\n",
       "\n",
       "    .dataframe tbody tr th {\n",
       "        vertical-align: top;\n",
       "    }\n",
       "\n",
       "    .dataframe thead th {\n",
       "        text-align: right;\n",
       "    }\n",
       "</style>\n",
       "<table border=\"1\" class=\"dataframe\">\n",
       "  <thead>\n",
       "    <tr style=\"text-align: right;\">\n",
       "      <th></th>\n",
       "      <th>Unnamed: 0</th>\n",
       "      <th>Temperature (K)</th>\n",
       "      <th>Luminosity(L/Lo)</th>\n",
       "      <th>Radius(R/Ro)</th>\n",
       "      <th>Absolute magnitude(Mv)</th>\n",
       "    </tr>\n",
       "  </thead>\n",
       "  <tbody>\n",
       "    <tr>\n",
       "      <th>count</th>\n",
       "      <td>240.0000</td>\n",
       "      <td>240.0000</td>\n",
       "      <td>240.0000</td>\n",
       "      <td>240.0000</td>\n",
       "      <td>240.0000</td>\n",
       "    </tr>\n",
       "    <tr>\n",
       "      <th>mean</th>\n",
       "      <td>119.5000</td>\n",
       "      <td>10497.4625</td>\n",
       "      <td>107188.3616</td>\n",
       "      <td>237.1578</td>\n",
       "      <td>4.3824</td>\n",
       "    </tr>\n",
       "    <tr>\n",
       "      <th>std</th>\n",
       "      <td>69.4262</td>\n",
       "      <td>9552.4250</td>\n",
       "      <td>179432.2449</td>\n",
       "      <td>517.1558</td>\n",
       "      <td>10.5325</td>\n",
       "    </tr>\n",
       "    <tr>\n",
       "      <th>min</th>\n",
       "      <td>0.0000</td>\n",
       "      <td>1939.0000</td>\n",
       "      <td>0.0001</td>\n",
       "      <td>0.0084</td>\n",
       "      <td>-11.9200</td>\n",
       "    </tr>\n",
       "    <tr>\n",
       "      <th>25%</th>\n",
       "      <td>59.7500</td>\n",
       "      <td>3344.2500</td>\n",
       "      <td>0.0009</td>\n",
       "      <td>0.1027</td>\n",
       "      <td>-6.2325</td>\n",
       "    </tr>\n",
       "    <tr>\n",
       "      <th>50%</th>\n",
       "      <td>119.5000</td>\n",
       "      <td>5776.0000</td>\n",
       "      <td>0.0705</td>\n",
       "      <td>0.7625</td>\n",
       "      <td>8.3130</td>\n",
       "    </tr>\n",
       "    <tr>\n",
       "      <th>75%</th>\n",
       "      <td>179.2500</td>\n",
       "      <td>15055.5000</td>\n",
       "      <td>198050.0000</td>\n",
       "      <td>42.7500</td>\n",
       "      <td>13.6975</td>\n",
       "    </tr>\n",
       "    <tr>\n",
       "      <th>max</th>\n",
       "      <td>239.0000</td>\n",
       "      <td>40000.0000</td>\n",
       "      <td>849420.0000</td>\n",
       "      <td>1948.5000</td>\n",
       "      <td>20.0600</td>\n",
       "    </tr>\n",
       "  </tbody>\n",
       "</table>\n",
       "</div>"
      ],
      "text/plain": [
       "       Unnamed: 0  Temperature (K)  Luminosity(L/Lo)  Radius(R/Ro)  \\\n",
       "count    240.0000         240.0000          240.0000      240.0000   \n",
       "mean     119.5000       10497.4625       107188.3616      237.1578   \n",
       "std       69.4262        9552.4250       179432.2449      517.1558   \n",
       "min        0.0000        1939.0000            0.0001        0.0084   \n",
       "25%       59.7500        3344.2500            0.0009        0.1027   \n",
       "50%      119.5000        5776.0000            0.0705        0.7625   \n",
       "75%      179.2500       15055.5000       198050.0000       42.7500   \n",
       "max      239.0000       40000.0000       849420.0000     1948.5000   \n",
       "\n",
       "       Absolute magnitude(Mv)  \n",
       "count                240.0000  \n",
       "mean                   4.3824  \n",
       "std                   10.5325  \n",
       "min                  -11.9200  \n",
       "25%                   -6.2325  \n",
       "50%                    8.3130  \n",
       "75%                   13.6975  \n",
       "max                   20.0600  "
      ]
     },
     "execution_count": 7,
     "metadata": {},
     "output_type": "execute_result"
    }
   ],
   "source": [
    "data.describe()"
   ]
  },
  {
   "cell_type": "markdown",
   "id": "00d5e4ce",
   "metadata": {},
   "source": [
    "#### Отобразим таблицу с попарными корреляциями признаков:"
   ]
  },
  {
   "cell_type": "code",
   "execution_count": 8,
   "id": "e503d05c",
   "metadata": {},
   "outputs": [
    {
     "data": {
      "image/png": "[encoded data removed]",
      "text/plain": [
       "<Figure size 1152x864 with 2 Axes>"
      ]
     },
     "metadata": {
      "needs_background": "light"
     },
     "output_type": "display_data"
    }
   ],
   "source": [
    "phik_columns = data.columns.difference(['Unnamed: 0'])\n",
    "phik_overview = data[phik_columns].phik_matrix(interval_cols=phik_columns.difference(['Star type', 'Star color']))\n",
    "plot_correlation_matrix(phik_overview.values,\n",
    "                        x_labels=phik_overview.columns,\n",
    "                        y_labels=phik_overview.index, \n",
    "                        vmin=0, vmax=1, color_map='Blues', title=r'correlation $\\phi_K$', fontsize_factor=1.5,\n",
    "                        figsize=(16, 12))\n",
    "plt.tight_layout()"
   ]
  },
  {
   "cell_type": "markdown",
   "id": "733bd956",
   "metadata": {},
   "source": [
    "#### Отобразим гистограммы распределений значений признаков:"
   ]
  },
  {
   "cell_type": "code",
   "execution_count": 9,
   "id": "642c1901",
   "metadata": {},
   "outputs": [
    {
     "data": {
      "image/png": "[encoded data removed]",
      "text/plain": [
       "<Figure size 1152x864 with 6 Axes>"
      ]
     },
     "metadata": {
      "needs_background": "light"
     },
     "output_type": "display_data"
    }
   ],
   "source": [
    "fig = plt.figure(figsize=(16, 12))\n",
    "plt.subplots_adjust(wspace=0.25, hspace=1.25)\n",
    "\n",
    "for i, col in enumerate(data.columns.difference(['Unnamed: 0'])):\n",
    "    ax = fig.add_subplot(3, 2, i + 1)\n",
    "    \n",
    "    # Отобразим количественные и категориальные переменные соответствующими методами\n",
    "    if pd.api.types.is_categorical_dtype(data[col]):\n",
    "        data[col].value_counts().plot(kind='bar')\n",
    "    else:\n",
    "        data[col].plot(kind='hist', edgecolor='black')\n",
    "    \n",
    "    ax.set_title(col)\n",
    "    ax.set_ylabel('frequency')\n",
    "    ax.grid(visible=True)"
   ]
  },
  {
   "cell_type": "markdown",
   "id": "9f45ac92",
   "metadata": {},
   "source": [
    "#### Краткий вывод:\n",
    "- в данных присутствуют всего $240$ объектов\n",
    "- в данных присутствуют нарушения правила хорошего стиля в названиях столбцов\n",
    "- в данных присутствует неинформативный столбец — `Unnamed: 0`\n",
    "- в данных отсутствуют несоответствия типов в столбцах \n",
    "- в данных отсутствуют пропуски в столбцах\n",
    "- в данных присутствуют неявные дубликаты в столбце `Star color`, например `Blue-white` и `Blue white`\n",
    "- в данных присутствуют аномальные значения\n",
    "- в данных присутствуют намёки на мультиколлинеарность\n",
    "- наиболее вероятный цвет звезды — `Red`\n",
    "- столбец `Star type` имеет равномерное распределение, то есть имеется по $40$ звёзд на каждый тип"
   ]
  },
  {
   "cell_type": "markdown",
   "id": "simple-subdivision",
   "metadata": {},
   "source": [
    "<a name=\"preprocessing\"></a>\n",
    "## Предобработка и анализ данных"
   ]
  },
  {
   "cell_type": "markdown",
   "id": "a1a716d9",
   "metadata": {},
   "source": [
    "#### Удалим неинформативные столбцы, которые не несут ценности для прогноза:"
   ]
  },
  {
   "cell_type": "code",
   "execution_count": 10,
   "id": "aa42f054",
   "metadata": {},
   "outputs": [],
   "source": [
    "data.drop(['Unnamed: 0'], axis=1, inplace=True)"
   ]
  },
  {
   "cell_type": "markdown",
   "id": "6e1a0efc",
   "metadata": {},
   "source": [
    "#### Исправим нарушения правил хорошего стиля в названиях столбцов:"
   ]
  },
  {
   "cell_type": "code",
   "execution_count": 11,
   "id": "105dadf7",
   "metadata": {},
   "outputs": [],
   "source": [
    "data.rename(inplace=True, columns={\n",
    "    'Temperature (K)': 'temperature',\n",
    "    'Luminosity(L/Lo)': 'luminosity',\n",
    "    'Radius(R/Ro)': 'radius',\n",
    "    'Absolute magnitude(Mv)': 'absolute_magnitude',\n",
    "    'Star type': 'star_type',\n",
    "    'Star color': 'star_color'\n",
    "})"
   ]
  },
  {
   "cell_type": "markdown",
   "id": "f7a7d316",
   "metadata": {},
   "source": [
    "#### Очистим данные от дубликатов:"
   ]
  },
  {
   "cell_type": "code",
   "execution_count": 12,
   "id": "b30520dc",
   "metadata": {},
   "outputs": [
    {
     "data": {
      "text/plain": [
       "0"
      ]
     },
     "execution_count": 12,
     "metadata": {},
     "output_type": "execute_result"
    }
   ],
   "source": [
    "# check\n",
    "data.duplicated().sum()"
   ]
  },
  {
   "cell_type": "code",
   "execution_count": 13,
   "id": "c45f4c70",
   "metadata": {},
   "outputs": [],
   "source": [
    "data['star_color'] = data['star_color'].apply(rename_color).astype('category')"
   ]
  },
  {
   "cell_type": "markdown",
   "id": "07908601",
   "metadata": {},
   "source": [
    "#### Очистим данные от аномальных значений:"
   ]
  },
  {
   "cell_type": "markdown",
   "id": "bb2265d3",
   "metadata": {},
   "source": [
    "Так как количество объектов невелико (всего $240$ объектов), оставим данные на этом этапе без изменений"
   ]
  },
  {
   "cell_type": "markdown",
   "id": "376e37c6",
   "metadata": {},
   "source": [
    "#### Создадим базовый pipeline с предобработкой данных:"
   ]
  },
  {
   "cell_type": "markdown",
   "id": "87dda82c",
   "metadata": {},
   "source": [
    "- учтём, что число объектов в данных не велико, и отдадим предпочтение технике кодирования `OrdinalEncoding`, чтобы не увеличивать размерность данных. Закодируем признаки `star_type` и `star_color` при помощи `OrdinalEncoder`\n",
    "- можно заметить, что признак `star_type` был закодирован ещё при создании данных и техника `OrdinalEncoding` никак не изменит закодированые значения\n",
    "- проскалируем количественные признаки при помощи `StandardScaler`"
   ]
  },
  {
   "cell_type": "code",
   "execution_count": 14,
   "id": "edd2c3d5",
   "metadata": {},
   "outputs": [
    {
     "data": {
      "text/html": [
       "<style>div.sk-top-container {color: black;background-color: white;}div.sk-toggleable {background-color: white;}label.sk-toggleable__label {cursor: pointer;display: block;width: 100%;margin-bottom: 0;padding: 0.2em 0.3em;box-sizing: border-box;text-align: center;}div.sk-toggleable__content {max-height: 0;max-width: 0;overflow: hidden;text-align: left;background-color: #f0f8ff;}div.sk-toggleable__content pre {margin: 0.2em;color: black;border-radius: 0.25em;background-color: #f0f8ff;}input.sk-toggleable__control:checked~div.sk-toggleable__content {max-height: 200px;max-width: 100%;overflow: auto;}div.sk-estimator input.sk-toggleable__control:checked~label.sk-toggleable__label {background-color: #d4ebff;}div.sk-label input.sk-toggleable__control:checked~label.sk-toggleable__label {background-color: #d4ebff;}input.sk-hidden--visually {border: 0;clip: rect(1px 1px 1px 1px);clip: rect(1px, 1px, 1px, 1px);height: 1px;margin: -1px;overflow: hidden;padding: 0;position: absolute;width: 1px;}div.sk-estimator {font-family: monospace;background-color: #f0f8ff;margin: 0.25em 0.25em;border: 1px dotted black;border-radius: 0.25em;box-sizing: border-box;}div.sk-estimator:hover {background-color: #d4ebff;}div.sk-parallel-item::after {content: \"\";width: 100%;border-bottom: 1px solid gray;flex-grow: 1;}div.sk-label:hover label.sk-toggleable__label {background-color: #d4ebff;}div.sk-serial::before {content: \"\";position: absolute;border-left: 1px solid gray;box-sizing: border-box;top: 2em;bottom: 0;left: 50%;}div.sk-serial {display: flex;flex-direction: column;align-items: center;background-color: white;}div.sk-item {z-index: 1;}div.sk-parallel {display: flex;align-items: stretch;justify-content: center;background-color: white;}div.sk-parallel-item {display: flex;flex-direction: column;position: relative;background-color: white;}div.sk-parallel-item:first-child::after {align-self: flex-end;width: 50%;}div.sk-parallel-item:last-child::after {align-self: flex-start;width: 50%;}div.sk-parallel-item:only-child::after {width: 0;}div.sk-dashed-wrapped {border: 1px dashed gray;margin: 0.2em;box-sizing: border-box;padding-bottom: 0.1em;background-color: white;position: relative;}div.sk-label label {font-family: monospace;font-weight: bold;background-color: white;display: inline-block;line-height: 1.2em;}div.sk-label-container {position: relative;z-index: 2;text-align: center;}div.sk-container {display: inline-block;position: relative;}</style><div class=\"sk-top-container\"><div class=\"sk-container\"><div class=\"sk-item sk-dashed-wrapped\"><div class=\"sk-label-container\"><div class=\"sk-label sk-toggleable\"><input class=\"sk-toggleable__control sk-hidden--visually\" id=\"0f9b3f2a-992b-47e0-8de5-585538a15a28\" type=\"checkbox\" ><label class=\"sk-toggleable__label\" for=\"0f9b3f2a-992b-47e0-8de5-585538a15a28\">Pipeline</label><div class=\"sk-toggleable__content\"><pre>Pipeline(steps=[('preprocessor',\n",
       "                 ColumnTransformer(transformers=[('categorical',\n",
       "                                                  Pipeline(steps=[('encoder',\n",
       "                                                                   OrdinalEncoder(handle_unknown='use_encoded_value',\n",
       "                                                                                  unknown_value=-1))]),\n",
       "                                                  ['star_type', 'star_color']),\n",
       "                                                 ('numerical',\n",
       "                                                  Pipeline(steps=[('scaler',\n",
       "                                                                   StandardScaler())]),\n",
       "                                                  ['luminosity', 'radius',\n",
       "                                                   'absolute_magnitude'])]))])</pre></div></div></div><div class=\"sk-serial\"><div class=\"sk-item sk-dashed-wrapped\"><div class=\"sk-label-container\"><div class=\"sk-label sk-toggleable\"><input class=\"sk-toggleable__control sk-hidden--visually\" id=\"c79e445e-e128-4198-90fb-33d62568fbf2\" type=\"checkbox\" ><label class=\"sk-toggleable__label\" for=\"c79e445e-e128-4198-90fb-33d62568fbf2\">preprocessor: ColumnTransformer</label><div class=\"sk-toggleable__content\"><pre>ColumnTransformer(transformers=[('categorical',\n",
       "                                 Pipeline(steps=[('encoder',\n",
       "                                                  OrdinalEncoder(handle_unknown='use_encoded_value',\n",
       "                                                                 unknown_value=-1))]),\n",
       "                                 ['star_type', 'star_color']),\n",
       "                                ('numerical',\n",
       "                                 Pipeline(steps=[('scaler', StandardScaler())]),\n",
       "                                 ['luminosity', 'radius',\n",
       "                                  'absolute_magnitude'])])</pre></div></div></div><div class=\"sk-parallel\"><div class=\"sk-parallel-item\"><div class=\"sk-item\"><div class=\"sk-label-container\"><div class=\"sk-label sk-toggleable\"><input class=\"sk-toggleable__control sk-hidden--visually\" id=\"28385939-208c-4b9c-8991-1c45d1d840a8\" type=\"checkbox\" ><label class=\"sk-toggleable__label\" for=\"28385939-208c-4b9c-8991-1c45d1d840a8\">categorical</label><div class=\"sk-toggleable__content\"><pre>['star_type', 'star_color']</pre></div></div></div><div class=\"sk-serial\"><div class=\"sk-item\"><div class=\"sk-serial\"><div class=\"sk-item\"><div class=\"sk-estimator sk-toggleable\"><input class=\"sk-toggleable__control sk-hidden--visually\" id=\"169fc88d-d4de-43e0-8883-001243bb1580\" type=\"checkbox\" ><label class=\"sk-toggleable__label\" for=\"169fc88d-d4de-43e0-8883-001243bb1580\">OrdinalEncoder</label><div class=\"sk-toggleable__content\"><pre>OrdinalEncoder(handle_unknown='use_encoded_value', unknown_value=-1)</pre></div></div></div></div></div></div></div></div><div class=\"sk-parallel-item\"><div class=\"sk-item\"><div class=\"sk-label-container\"><div class=\"sk-label sk-toggleable\"><input class=\"sk-toggleable__control sk-hidden--visually\" id=\"866ff18c-905c-4e2f-b6e9-0c4310695b7f\" type=\"checkbox\" ><label class=\"sk-toggleable__label\" for=\"866ff18c-905c-4e2f-b6e9-0c4310695b7f\">numerical</label><div class=\"sk-toggleable__content\"><pre>['luminosity', 'radius', 'absolute_magnitude']</pre></div></div></div><div class=\"sk-serial\"><div class=\"sk-item\"><div class=\"sk-serial\"><div class=\"sk-item\"><div class=\"sk-estimator sk-toggleable\"><input class=\"sk-toggleable__control sk-hidden--visually\" id=\"c9180ef0-8bf0-4ccb-bfce-490937dee46c\" type=\"checkbox\" ><label class=\"sk-toggleable__label\" for=\"c9180ef0-8bf0-4ccb-bfce-490937dee46c\">StandardScaler</label><div class=\"sk-toggleable__content\"><pre>StandardScaler()</pre></div></div></div></div></div></div></div></div></div></div></div></div></div></div>"
      ],
      "text/plain": [
       "Pipeline(steps=[('preprocessor',\n",
       "                 ColumnTransformer(transformers=[('categorical',\n",
       "                                                  Pipeline(steps=[('encoder',\n",
       "                                                                   OrdinalEncoder(handle_unknown='use_encoded_value',\n",
       "                                                                                  unknown_value=-1))]),\n",
       "                                                  ['star_type', 'star_color']),\n",
       "                                                 ('numerical',\n",
       "                                                  Pipeline(steps=[('scaler',\n",
       "                                                                   StandardScaler())]),\n",
       "                                                  ['luminosity', 'radius',\n",
       "                                                   'absolute_magnitude'])]))])"
      ]
     },
     "execution_count": 14,
     "metadata": {},
     "output_type": "execute_result"
    }
   ],
   "source": [
    "categorical_transformer = Pipeline(steps=[('encoder', OrdinalEncoder(handle_unknown='use_encoded_value', unknown_value=-1))])\n",
    "numeric_transformer = Pipeline(steps=[('scaler', StandardScaler())])\n",
    "\n",
    "preprocessor = ColumnTransformer(\n",
    "    transformers=[\n",
    "        ('categorical', categorical_transformer, ['star_type', 'star_color']),\n",
    "        ('numerical', numeric_transformer, ['luminosity', 'radius', 'absolute_magnitude'])\n",
    "    ]\n",
    ")\n",
    "\n",
    "base_pipeline = Pipeline(steps=[('preprocessor', preprocessor)])\n",
    "base_pipeline"
   ]
  },
  {
   "cell_type": "markdown",
   "id": "5ca7d2ba",
   "metadata": {},
   "source": [
    "#### Проведём графический анализ данных:"
   ]
  },
  {
   "cell_type": "code",
   "execution_count": 15,
   "id": "0b2dd08a",
   "metadata": {
    "scrolled": false
   },
   "outputs": [
    {
     "data": {
      "image/png": "[encoded data removed]",
      "text/plain": [
       "<Figure size 1152x1728 with 10 Axes>"
      ]
     },
     "metadata": {
      "needs_background": "light"
     },
     "output_type": "display_data"
    }
   ],
   "source": [
    "subfigures = plt.figure(figsize=(16, 24)).subfigures(6, 1)\n",
    "plt.subplots_adjust(wspace=0.25, hspace=0.25)\n",
    "\n",
    "for i, col in enumerate(data.columns):    \n",
    "    ax = subfigures[i].subplots(1, 2)\n",
    "    \n",
    "    # Отобразим количественные и категориальные переменные соответствующими методами\n",
    "    if pd.api.types.is_categorical_dtype(data[col]):\n",
    "        data[col].value_counts().plot(kind='bar', ax=ax[0])\n",
    "        subfigures[i].delaxes(ax[1])\n",
    "    else:\n",
    "        data[col].plot(kind='hist', ax=ax[0], edgecolor='black')\n",
    "        data.boxplot(column=col, ax=ax[1])\n",
    "\n",
    "    ax[0].set_ylabel('frequency')\n",
    "    ax[1].set_ylabel('temperature')\n",
    "    ax[0].set_xlabel(col)\n",
    "    ax[1].get_xaxis().set_visible(False)\n",
    "    ax[0].grid(visible=True)\n",
    "    ax[1].grid(visible=True)"
   ]
  },
  {
   "cell_type": "code",
   "execution_count": 16,
   "id": "4b5c9aac",
   "metadata": {},
   "outputs": [
    {
     "data": {
      "image/png": "[encoded data removed]",
      "text/plain": [
       "<Figure size 864x288 with 1 Axes>"
      ]
     },
     "metadata": {
      "needs_background": "light"
     },
     "output_type": "display_data"
    }
   ],
   "source": [
    "phik_overview = data.phik_matrix(interval_cols=data._get_numeric_data().columns)['temperature'].sort_values()\n",
    "phik_overview.plot(kind='barh', figsize=(12, 4), edgecolor='black', title='temperature correlations', grid=True);"
   ]
  },
  {
   "cell_type": "markdown",
   "id": "d174adea",
   "metadata": {},
   "source": [
    "#### Подготовим обучающую и валидационную выборки:"
   ]
  },
  {
   "cell_type": "code",
   "execution_count": 17,
   "id": "ce381092",
   "metadata": {},
   "outputs": [],
   "source": [
    "X_train, X_valid, y_train, y_valid = train_test_split(data.drop(columns=['temperature'], axis=1),\n",
    "                                                      data['temperature'],\n",
    "                                                      test_size=0.2,\n",
    "                                                      shuffle=True,\n",
    "                                                      random_state=RANDOM_STATE)"
   ]
  },
  {
   "cell_type": "markdown",
   "id": "2f2a7203",
   "metadata": {},
   "source": [
    "#### Краткий вывод:\n",
    "- в данных были устранены неявные дубликаты в столбце `star_color`\n",
    "- радиус звезды имеет бимодальное распределение, точно также как относительная светимость и абсолютная звёздная величина"
   ]
  },
  {
   "cell_type": "markdown",
   "id": "funded-electric",
   "metadata": {},
   "source": [
    "<a name=\"baseline\"></a>\n",
    "## Построение базовой нейронной сети"
   ]
  },
  {
   "cell_type": "markdown",
   "id": "a2d5f748",
   "metadata": {},
   "source": [
    "#### Создадим классы для нейронной сети, которые понадобятся нам в дальнейшем:"
   ]
  },
  {
   "cell_type": "code",
   "execution_count": 18,
   "id": "forced-concentrate",
   "metadata": {},
   "outputs": [],
   "source": [
    "# Класс полносвязной нейронной сети с произвольным числом слоёв и нейронов на каждом слое\n",
    "class Net(nn.Module):\n",
    "    def __init__(self, layers_neurons, dropout_layers, act_functions):\n",
    "        super(Net, self).__init__()\n",
    "        self.layers = nn.ModuleList([nn.Linear(layers_neurons[i], layers_neurons[i+1]) for i in range(len(layers_neurons) - 1)])\n",
    "        self.dropout_layers = nn.ModuleList(dropout_layers)\n",
    "        self.act_functions = nn.ModuleList(act_functions)\n",
    "        \n",
    "    def forward(self, x):\n",
    "        for i in range(len(self.layers)):\n",
    "            x = self.layers[i](x)\n",
    "            x = self.dropout_layers[i](x)\n",
    "            x = self.act_functions[i](x)\n",
    "            \n",
    "        return x\n",
    "    \n",
    "# Класс модели нейронной сети для работы с библиотекой sklearn\n",
    "class NNRegressor(BaseEstimator):\n",
    "    def __init__(self, net, optimizer, num_epochs=1000, batch_size=512, verbose=False, verbose_epochs=100, **parameters):\n",
    "        self.net = net\n",
    "        self.optimizer = optimizer\n",
    "        self.loss = nn.MSELoss()\n",
    "        self.num_epochs = num_epochs\n",
    "        self.batch_size = batch_size\n",
    "        self.verbose = verbose\n",
    "        self.verbose_epochs = verbose_epochs\n",
    "        \n",
    "        if 'dropout_probs' in parameters:\n",
    "            for i in range(len(parameters['dropout_probs'])):\n",
    "                self.net.dropout_layers[i].p = parameters['dropout_probs'][i]\n",
    "        \n",
    "    def get_params(self, deep=True):\n",
    "        return {\n",
    "            'net' : self.net,\n",
    "            'optimizer': self.optimizer,\n",
    "            'loss': self.loss,\n",
    "            'num_epochs': self.num_epochs,\n",
    "            'batch_size': self.batch_size,\n",
    "            'verbose': self.verbose,\n",
    "            'verbose_epochs': self.verbose_epochs\n",
    "        }\n",
    "\n",
    "    def set_params(self, **parameters):\n",
    "        for parameter, value in parameters.items():\n",
    "            setattr(self, parameter, value)\n",
    "            \n",
    "        if 'dropout_probs' in parameters:\n",
    "            for i in range(len(parameters['dropout_probs'])):\n",
    "                self.net.dropout_layers[i].p = parameters['dropout_probs'][i]\n",
    "            \n",
    "        return self\n",
    "        \n",
    "    def fit(self, X_train, y_train):                               \n",
    "        if isinstance(X_train, (pd.DataFrame, pd.Series)):\n",
    "            X_train = X_train.to_numpy(copy=True)\n",
    "        if isinstance(y_train, (pd.DataFrame, pd.Series)):\n",
    "            y_train = y_train.to_numpy(copy=True)\n",
    "\n",
    "        X_train = torch.FloatTensor(X_train)\n",
    "        y_train = torch.FloatTensor(y_train)\n",
    "        \n",
    "        num_batches = math.ceil(len(X_train) / self.batch_size)\n",
    "        self.net.train()\n",
    "        \n",
    "        for epoch in range(self.num_epochs):\n",
    "            order = np.random.permutation(len(X_train))\n",
    "            \n",
    "            for batch_idx in range(num_batches):\n",
    "                start_index = batch_idx * self.batch_size\n",
    "                self.optimizer.zero_grad()\n",
    "        \n",
    "                batch_indexes = order[start_index:start_index+self.batch_size]\n",
    "                X_batch = X_train[batch_indexes]\n",
    "                y_batch = y_train[batch_indexes]\n",
    "\n",
    "                preds = self.net.forward(X_batch).flatten()\n",
    "                loss_value = self.loss(preds, y_batch)\n",
    "                loss_value.backward()\n",
    "                self.optimizer.step()\n",
    "\n",
    "            if self.verbose and epoch % self.verbose_epochs == 0:\n",
    "                print(loss_value)\n",
    "\n",
    "    def predict(self, X_test):\n",
    "        if isinstance(X_test, (pd.DataFrame, pd.Series)):\n",
    "            X_test = X_test.to_numpy(copy=True)\n",
    "\n",
    "        self.net.eval()\n",
    "        return self.net.forward(torch.FloatTensor(X_test)).detach().numpy().flatten()"
   ]
  },
  {
   "cell_type": "markdown",
   "id": "17f3a220",
   "metadata": {},
   "source": [
    "#### Создадим базовую нейронную сеть:"
   ]
  },
  {
   "cell_type": "markdown",
   "id": "67166e48",
   "metadata": {},
   "source": [
    "- добавим два скрытых слоя, каждый из которых будет состоять из $100$ нейронов\n",
    "- добавим два слоя `Dropout` с вероятностями $p=0.5$\n",
    "- будем использовать только функцию `ReLU` в качестве функции активации\n",
    "- инициализируем веса в обоих слоях при помощи инициализации Кайминга"
   ]
  },
  {
   "cell_type": "code",
   "execution_count": 19,
   "id": "96525777",
   "metadata": {},
   "outputs": [
    {
     "data": {
      "text/plain": [
       "Net(\n",
       "  (layers): ModuleList(\n",
       "    (0): Linear(in_features=5, out_features=100, bias=True)\n",
       "    (1): Linear(in_features=100, out_features=100, bias=True)\n",
       "    (2): Linear(in_features=100, out_features=1, bias=True)\n",
       "  )\n",
       "  (dropout_layers): ModuleList(\n",
       "    (0): Dropout(p=0.5, inplace=False)\n",
       "    (1): Dropout(p=0.5, inplace=False)\n",
       "    (2): Identity()\n",
       "  )\n",
       "  (act_functions): ModuleList(\n",
       "    (0): ReLU()\n",
       "    (1): ReLU()\n",
       "    (2): Identity()\n",
       "  )\n",
       ")"
      ]
     },
     "execution_count": 19,
     "metadata": {},
     "output_type": "execute_result"
    }
   ],
   "source": [
    "net = Net([5, 100, 100, 1], [nn.Dropout(0.5), nn.Dropout(0.5), nn.Identity()], [nn.ReLU(), nn.ReLU(), nn.Identity()])\n",
    "nn.init.kaiming_uniform_(net.layers[0].weight, mode='fan_in', nonlinearity='relu')\n",
    "nn.init.kaiming_uniform_(net.layers[1].weight, mode='fan_in', nonlinearity='relu') \n",
    "net"
   ]
  },
  {
   "cell_type": "markdown",
   "id": "f9e14339",
   "metadata": {},
   "source": [
    "#### Создадим pipeline для baseline модели:"
   ]
  },
  {
   "cell_type": "code",
   "execution_count": 20,
   "id": "8076eee1",
   "metadata": {},
   "outputs": [
    {
     "data": {
      "text/html": [
       "<style>div.sk-top-container {color: black;background-color: white;}div.sk-toggleable {background-color: white;}label.sk-toggleable__label {cursor: pointer;display: block;width: 100%;margin-bottom: 0;padding: 0.2em 0.3em;box-sizing: border-box;text-align: center;}div.sk-toggleable__content {max-height: 0;max-width: 0;overflow: hidden;text-align: left;background-color: #f0f8ff;}div.sk-toggleable__content pre {margin: 0.2em;color: black;border-radius: 0.25em;background-color: #f0f8ff;}input.sk-toggleable__control:checked~div.sk-toggleable__content {max-height: 200px;max-width: 100%;overflow: auto;}div.sk-estimator input.sk-toggleable__control:checked~label.sk-toggleable__label {background-color: #d4ebff;}div.sk-label input.sk-toggleable__control:checked~label.sk-toggleable__label {background-color: #d4ebff;}input.sk-hidden--visually {border: 0;clip: rect(1px 1px 1px 1px);clip: rect(1px, 1px, 1px, 1px);height: 1px;margin: -1px;overflow: hidden;padding: 0;position: absolute;width: 1px;}div.sk-estimator {font-family: monospace;background-color: #f0f8ff;margin: 0.25em 0.25em;border: 1px dotted black;border-radius: 0.25em;box-sizing: border-box;}div.sk-estimator:hover {background-color: #d4ebff;}div.sk-parallel-item::after {content: \"\";width: 100%;border-bottom: 1px solid gray;flex-grow: 1;}div.sk-label:hover label.sk-toggleable__label {background-color: #d4ebff;}div.sk-serial::before {content: \"\";position: absolute;border-left: 1px solid gray;box-sizing: border-box;top: 2em;bottom: 0;left: 50%;}div.sk-serial {display: flex;flex-direction: column;align-items: center;background-color: white;}div.sk-item {z-index: 1;}div.sk-parallel {display: flex;align-items: stretch;justify-content: center;background-color: white;}div.sk-parallel-item {display: flex;flex-direction: column;position: relative;background-color: white;}div.sk-parallel-item:first-child::after {align-self: flex-end;width: 50%;}div.sk-parallel-item:last-child::after {align-self: flex-start;width: 50%;}div.sk-parallel-item:only-child::after {width: 0;}div.sk-dashed-wrapped {border: 1px dashed gray;margin: 0.2em;box-sizing: border-box;padding-bottom: 0.1em;background-color: white;position: relative;}div.sk-label label {font-family: monospace;font-weight: bold;background-color: white;display: inline-block;line-height: 1.2em;}div.sk-label-container {position: relative;z-index: 2;text-align: center;}div.sk-container {display: inline-block;position: relative;}</style><div class=\"sk-top-container\"><div class=\"sk-container\"><div class=\"sk-item sk-dashed-wrapped\"><div class=\"sk-label-container\"><div class=\"sk-label sk-toggleable\"><input class=\"sk-toggleable__control sk-hidden--visually\" id=\"c1868a60-eee0-4ab8-a242-e620d6c5fce1\" type=\"checkbox\" ><label class=\"sk-toggleable__label\" for=\"c1868a60-eee0-4ab8-a242-e620d6c5fce1\">Pipeline</label><div class=\"sk-toggleable__content\"><pre>Pipeline(steps=[('preprocessor',\n",
       "                 Pipeline(steps=[('preprocessor',\n",
       "                                  ColumnTransformer(transformers=[('categorical',\n",
       "                                                                   Pipeline(steps=[('encoder',\n",
       "                                                                                    OrdinalEncoder(handle_unknown='use_encoded_value',\n",
       "                                                                                                   unknown_value=-1))]),\n",
       "                                                                   ['star_type',\n",
       "                                                                    'star_color']),\n",
       "                                                                  ('numerical',\n",
       "                                                                   Pipeline(steps=[('scaler',\n",
       "                                                                                    StandardScaler())]),\n",
       "                                                                   ['luminosity',\n",
       "                                                                    'radius',\n",
       "                                                                    'absolute_magnitude'])]))])),\n",
       "                ('...\n",
       "    (1): Linear(in_features=100, out_features=100, bias=True)\n",
       "    (2): Linear(in_features=100, out_features=1, bias=True)\n",
       "  )\n",
       "  (dropout_layers): ModuleList(\n",
       "    (0): Dropout(p=0.5, inplace=False)\n",
       "    (1): Dropout(p=0.5, inplace=False)\n",
       "    (2): Identity()\n",
       "  )\n",
       "  (act_functions): ModuleList(\n",
       "    (0): ReLU()\n",
       "    (1): ReLU()\n",
       "    (2): Identity()\n",
       "  )\n",
       "),\n",
       "                             optimizer=Adam (\n",
       "Parameter Group 0\n",
       "    amsgrad: False\n",
       "    betas: (0.9, 0.999)\n",
       "    eps: 1e-08\n",
       "    lr: 0.01\n",
       "    weight_decay: 0\n",
       "),\n",
       "                             verbose=True))])</pre></div></div></div><div class=\"sk-serial\"><div class=\"sk-item\"><div class=\"sk-label-container\"><div class=\"sk-label sk-toggleable\"><input class=\"sk-toggleable__control sk-hidden--visually\" id=\"7414e7bd-fd2b-43b5-9cec-79ddde56e640\" type=\"checkbox\" ><label class=\"sk-toggleable__label\" for=\"7414e7bd-fd2b-43b5-9cec-79ddde56e640\">preprocessor: Pipeline</label><div class=\"sk-toggleable__content\"><pre>Pipeline(steps=[('preprocessor',\n",
       "                 ColumnTransformer(transformers=[('categorical',\n",
       "                                                  Pipeline(steps=[('encoder',\n",
       "                                                                   OrdinalEncoder(handle_unknown='use_encoded_value',\n",
       "                                                                                  unknown_value=-1))]),\n",
       "                                                  ['star_type', 'star_color']),\n",
       "                                                 ('numerical',\n",
       "                                                  Pipeline(steps=[('scaler',\n",
       "                                                                   StandardScaler())]),\n",
       "                                                  ['luminosity', 'radius',\n",
       "                                                   'absolute_magnitude'])]))])</pre></div></div></div><div class=\"sk-serial\"><div class=\"sk-item sk-dashed-wrapped\"><div class=\"sk-label-container\"><div class=\"sk-label sk-toggleable\"><input class=\"sk-toggleable__control sk-hidden--visually\" id=\"dec4d806-2ec8-4b6a-a3a6-f88f288ca75f\" type=\"checkbox\" ><label class=\"sk-toggleable__label\" for=\"dec4d806-2ec8-4b6a-a3a6-f88f288ca75f\">preprocessor: ColumnTransformer</label><div class=\"sk-toggleable__content\"><pre>ColumnTransformer(transformers=[('categorical',\n",
       "                                 Pipeline(steps=[('encoder',\n",
       "                                                  OrdinalEncoder(handle_unknown='use_encoded_value',\n",
       "                                                                 unknown_value=-1))]),\n",
       "                                 ['star_type', 'star_color']),\n",
       "                                ('numerical',\n",
       "                                 Pipeline(steps=[('scaler', StandardScaler())]),\n",
       "                                 ['luminosity', 'radius',\n",
       "                                  'absolute_magnitude'])])</pre></div></div></div><div class=\"sk-parallel\"><div class=\"sk-parallel-item\"><div class=\"sk-item\"><div class=\"sk-label-container\"><div class=\"sk-label sk-toggleable\"><input class=\"sk-toggleable__control sk-hidden--visually\" id=\"3b9188fd-0779-4675-b946-f854736aff03\" type=\"checkbox\" ><label class=\"sk-toggleable__label\" for=\"3b9188fd-0779-4675-b946-f854736aff03\">categorical</label><div class=\"sk-toggleable__content\"><pre>['star_type', 'star_color']</pre></div></div></div><div class=\"sk-serial\"><div class=\"sk-item\"><div class=\"sk-serial\"><div class=\"sk-item\"><div class=\"sk-estimator sk-toggleable\"><input class=\"sk-toggleable__control sk-hidden--visually\" id=\"1f306678-309b-4015-9dd0-59d98351d0d7\" type=\"checkbox\" ><label class=\"sk-toggleable__label\" for=\"1f306678-309b-4015-9dd0-59d98351d0d7\">OrdinalEncoder</label><div class=\"sk-toggleable__content\"><pre>OrdinalEncoder(handle_unknown='use_encoded_value', unknown_value=-1)</pre></div></div></div></div></div></div></div></div><div class=\"sk-parallel-item\"><div class=\"sk-item\"><div class=\"sk-label-container\"><div class=\"sk-label sk-toggleable\"><input class=\"sk-toggleable__control sk-hidden--visually\" id=\"360f033d-543b-4ea4-b527-214f6fd6153b\" type=\"checkbox\" ><label class=\"sk-toggleable__label\" for=\"360f033d-543b-4ea4-b527-214f6fd6153b\">numerical</label><div class=\"sk-toggleable__content\"><pre>['luminosity', 'radius', 'absolute_magnitude']</pre></div></div></div><div class=\"sk-serial\"><div class=\"sk-item\"><div class=\"sk-serial\"><div class=\"sk-item\"><div class=\"sk-estimator sk-toggleable\"><input class=\"sk-toggleable__control sk-hidden--visually\" id=\"f39a1181-81b6-4939-be90-eb73edb15d07\" type=\"checkbox\" ><label class=\"sk-toggleable__label\" for=\"f39a1181-81b6-4939-be90-eb73edb15d07\">StandardScaler</label><div class=\"sk-toggleable__content\"><pre>StandardScaler()</pre></div></div></div></div></div></div></div></div></div></div></div></div><div class=\"sk-item\"><div class=\"sk-estimator sk-toggleable\"><input class=\"sk-toggleable__control sk-hidden--visually\" id=\"e805395f-2786-48e0-8278-4c09eb0a9791\" type=\"checkbox\" ><label class=\"sk-toggleable__label\" for=\"e805395f-2786-48e0-8278-4c09eb0a9791\">NNRegressor</label><div class=\"sk-toggleable__content\"><pre>NNRegressor(batch_size=16, loss=MSELoss(),\n",
       "            net=Net(\n",
       "  (layers): ModuleList(\n",
       "    (0): Linear(in_features=5, out_features=100, bias=True)\n",
       "    (1): Linear(in_features=100, out_features=100, bias=True)\n",
       "    (2): Linear(in_features=100, out_features=1, bias=True)\n",
       "  )\n",
       "  (dropout_layers): ModuleList(\n",
       "    (0): Dropout(p=0.5, inplace=False)\n",
       "    (1): Dropout(p=0.5, inplace=False)\n",
       "    (2): Identity()\n",
       "  )\n",
       "  (act_functions): ModuleList(\n",
       "    (0): ReLU()\n",
       "    (1): ReLU()\n",
       "    (2): Identity()\n",
       "  )\n",
       "),\n",
       "            optimizer=Adam (\n",
       "Parameter Group 0\n",
       "    amsgrad: False\n",
       "    betas: (0.9, 0.999)\n",
       "    eps: 1e-08\n",
       "    lr: 0.01\n",
       "    weight_decay: 0\n",
       "),\n",
       "            verbose=True)</pre></div></div></div></div></div></div></div>"
      ],
      "text/plain": [
       "Pipeline(steps=[('preprocessor',\n",
       "                 Pipeline(steps=[('preprocessor',\n",
       "                                  ColumnTransformer(transformers=[('categorical',\n",
       "                                                                   Pipeline(steps=[('encoder',\n",
       "                                                                                    OrdinalEncoder(handle_unknown='use_encoded_value',\n",
       "                                                                                                   unknown_value=-1))]),\n",
       "                                                                   ['star_type',\n",
       "                                                                    'star_color']),\n",
       "                                                                  ('numerical',\n",
       "                                                                   Pipeline(steps=[('scaler',\n",
       "                                                                                    StandardScaler())]),\n",
       "                                                                   ['luminosity',\n",
       "                                                                    'radius',\n",
       "                                                                    'absolute_magnitude'])]))])),\n",
       "                ('...\n",
       "    (1): Linear(in_features=100, out_features=100, bias=True)\n",
       "    (2): Linear(in_features=100, out_features=1, bias=True)\n",
       "  )\n",
       "  (dropout_layers): ModuleList(\n",
       "    (0): Dropout(p=0.5, inplace=False)\n",
       "    (1): Dropout(p=0.5, inplace=False)\n",
       "    (2): Identity()\n",
       "  )\n",
       "  (act_functions): ModuleList(\n",
       "    (0): ReLU()\n",
       "    (1): ReLU()\n",
       "    (2): Identity()\n",
       "  )\n",
       "),\n",
       "                             optimizer=Adam (\n",
       "Parameter Group 0\n",
       "    amsgrad: False\n",
       "    betas: (0.9, 0.999)\n",
       "    eps: 1e-08\n",
       "    lr: 0.01\n",
       "    weight_decay: 0\n",
       "),\n",
       "                             verbose=True))])"
      ]
     },
     "execution_count": 20,
     "metadata": {},
     "output_type": "execute_result"
    }
   ],
   "source": [
    "baseline_net = copy.deepcopy(net)\n",
    "baseline_model = Pipeline(steps=[\n",
    "    ('preprocessor', base_pipeline), \n",
    "    ('neural_network',  NNRegressor(baseline_net, \n",
    "                                    torch.optim.Adam(baseline_net.parameters(), lr=1e-2),\n",
    "                                    num_epochs=1000,\n",
    "                                    batch_size=16,\n",
    "                                    verbose=True, \n",
    "                                    verbose_epochs=100))\n",
    "])\n",
    "baseline_model"
   ]
  },
  {
   "cell_type": "markdown",
   "id": "8662fbdd",
   "metadata": {},
   "source": [
    "#### Обучим baseline модель:"
   ]
  },
  {
   "cell_type": "code",
   "execution_count": 21,
   "id": "595baa59",
   "metadata": {},
   "outputs": [
    {
     "name": "stdout",
     "output_type": "stream",
     "text": [
      "tensor(1.9137e+08, grad_fn=<MseLossBackward0>)\n",
      "tensor(12186639., grad_fn=<MseLossBackward0>)\n",
      "tensor(16457176., grad_fn=<MseLossBackward0>)\n",
      "tensor(29384950., grad_fn=<MseLossBackward0>)\n",
      "tensor(69037872., grad_fn=<MseLossBackward0>)\n",
      "tensor(25172528., grad_fn=<MseLossBackward0>)\n",
      "tensor(7859718., grad_fn=<MseLossBackward0>)\n",
      "tensor(17570748., grad_fn=<MseLossBackward0>)\n",
      "tensor(34861240., grad_fn=<MseLossBackward0>)\n",
      "tensor(49570932., grad_fn=<MseLossBackward0>)\n"
     ]
    },
    {
     "data": {
      "text/html": [
       "<style>div.sk-top-container {color: black;background-color: white;}div.sk-toggleable {background-color: white;}label.sk-toggleable__label {cursor: pointer;display: block;width: 100%;margin-bottom: 0;padding: 0.2em 0.3em;box-sizing: border-box;text-align: center;}div.sk-toggleable__content {max-height: 0;max-width: 0;overflow: hidden;text-align: left;background-color: #f0f8ff;}div.sk-toggleable__content pre {margin: 0.2em;color: black;border-radius: 0.25em;background-color: #f0f8ff;}input.sk-toggleable__control:checked~div.sk-toggleable__content {max-height: 200px;max-width: 100%;overflow: auto;}div.sk-estimator input.sk-toggleable__control:checked~label.sk-toggleable__label {background-color: #d4ebff;}div.sk-label input.sk-toggleable__control:checked~label.sk-toggleable__label {background-color: #d4ebff;}input.sk-hidden--visually {border: 0;clip: rect(1px 1px 1px 1px);clip: rect(1px, 1px, 1px, 1px);height: 1px;margin: -1px;overflow: hidden;padding: 0;position: absolute;width: 1px;}div.sk-estimator {font-family: monospace;background-color: #f0f8ff;margin: 0.25em 0.25em;border: 1px dotted black;border-radius: 0.25em;box-sizing: border-box;}div.sk-estimator:hover {background-color: #d4ebff;}div.sk-parallel-item::after {content: \"\";width: 100%;border-bottom: 1px solid gray;flex-grow: 1;}div.sk-label:hover label.sk-toggleable__label {background-color: #d4ebff;}div.sk-serial::before {content: \"\";position: absolute;border-left: 1px solid gray;box-sizing: border-box;top: 2em;bottom: 0;left: 50%;}div.sk-serial {display: flex;flex-direction: column;align-items: center;background-color: white;}div.sk-item {z-index: 1;}div.sk-parallel {display: flex;align-items: stretch;justify-content: center;background-color: white;}div.sk-parallel-item {display: flex;flex-direction: column;position: relative;background-color: white;}div.sk-parallel-item:first-child::after {align-self: flex-end;width: 50%;}div.sk-parallel-item:last-child::after {align-self: flex-start;width: 50%;}div.sk-parallel-item:only-child::after {width: 0;}div.sk-dashed-wrapped {border: 1px dashed gray;margin: 0.2em;box-sizing: border-box;padding-bottom: 0.1em;background-color: white;position: relative;}div.sk-label label {font-family: monospace;font-weight: bold;background-color: white;display: inline-block;line-height: 1.2em;}div.sk-label-container {position: relative;z-index: 2;text-align: center;}div.sk-container {display: inline-block;position: relative;}</style><div class=\"sk-top-container\"><div class=\"sk-container\"><div class=\"sk-item sk-dashed-wrapped\"><div class=\"sk-label-container\"><div class=\"sk-label sk-toggleable\"><input class=\"sk-toggleable__control sk-hidden--visually\" id=\"98ae2f26-f821-4d17-afac-d9717d71d468\" type=\"checkbox\" ><label class=\"sk-toggleable__label\" for=\"98ae2f26-f821-4d17-afac-d9717d71d468\">Pipeline</label><div class=\"sk-toggleable__content\"><pre>Pipeline(steps=[('preprocessor',\n",
       "                 Pipeline(steps=[('preprocessor',\n",
       "                                  ColumnTransformer(transformers=[('categorical',\n",
       "                                                                   Pipeline(steps=[('encoder',\n",
       "                                                                                    OrdinalEncoder(handle_unknown='use_encoded_value',\n",
       "                                                                                                   unknown_value=-1))]),\n",
       "                                                                   ['star_type',\n",
       "                                                                    'star_color']),\n",
       "                                                                  ('numerical',\n",
       "                                                                   Pipeline(steps=[('scaler',\n",
       "                                                                                    StandardScaler())]),\n",
       "                                                                   ['luminosity',\n",
       "                                                                    'radius',\n",
       "                                                                    'absolute_magnitude'])]))])),\n",
       "                ('...\n",
       "    (1): Linear(in_features=100, out_features=100, bias=True)\n",
       "    (2): Linear(in_features=100, out_features=1, bias=True)\n",
       "  )\n",
       "  (dropout_layers): ModuleList(\n",
       "    (0): Dropout(p=0.5, inplace=False)\n",
       "    (1): Dropout(p=0.5, inplace=False)\n",
       "    (2): Identity()\n",
       "  )\n",
       "  (act_functions): ModuleList(\n",
       "    (0): ReLU()\n",
       "    (1): ReLU()\n",
       "    (2): Identity()\n",
       "  )\n",
       "),\n",
       "                             optimizer=Adam (\n",
       "Parameter Group 0\n",
       "    amsgrad: False\n",
       "    betas: (0.9, 0.999)\n",
       "    eps: 1e-08\n",
       "    lr: 0.01\n",
       "    weight_decay: 0\n",
       "),\n",
       "                             verbose=True))])</pre></div></div></div><div class=\"sk-serial\"><div class=\"sk-item\"><div class=\"sk-label-container\"><div class=\"sk-label sk-toggleable\"><input class=\"sk-toggleable__control sk-hidden--visually\" id=\"32deda76-859d-4636-971f-e87fee91abe9\" type=\"checkbox\" ><label class=\"sk-toggleable__label\" for=\"32deda76-859d-4636-971f-e87fee91abe9\">preprocessor: Pipeline</label><div class=\"sk-toggleable__content\"><pre>Pipeline(steps=[('preprocessor',\n",
       "                 ColumnTransformer(transformers=[('categorical',\n",
       "                                                  Pipeline(steps=[('encoder',\n",
       "                                                                   OrdinalEncoder(handle_unknown='use_encoded_value',\n",
       "                                                                                  unknown_value=-1))]),\n",
       "                                                  ['star_type', 'star_color']),\n",
       "                                                 ('numerical',\n",
       "                                                  Pipeline(steps=[('scaler',\n",
       "                                                                   StandardScaler())]),\n",
       "                                                  ['luminosity', 'radius',\n",
       "                                                   'absolute_magnitude'])]))])</pre></div></div></div><div class=\"sk-serial\"><div class=\"sk-item sk-dashed-wrapped\"><div class=\"sk-label-container\"><div class=\"sk-label sk-toggleable\"><input class=\"sk-toggleable__control sk-hidden--visually\" id=\"37a2c203-af47-4bb1-a3d0-1c6aa30bb8eb\" type=\"checkbox\" ><label class=\"sk-toggleable__label\" for=\"37a2c203-af47-4bb1-a3d0-1c6aa30bb8eb\">preprocessor: ColumnTransformer</label><div class=\"sk-toggleable__content\"><pre>ColumnTransformer(transformers=[('categorical',\n",
       "                                 Pipeline(steps=[('encoder',\n",
       "                                                  OrdinalEncoder(handle_unknown='use_encoded_value',\n",
       "                                                                 unknown_value=-1))]),\n",
       "                                 ['star_type', 'star_color']),\n",
       "                                ('numerical',\n",
       "                                 Pipeline(steps=[('scaler', StandardScaler())]),\n",
       "                                 ['luminosity', 'radius',\n",
       "                                  'absolute_magnitude'])])</pre></div></div></div><div class=\"sk-parallel\"><div class=\"sk-parallel-item\"><div class=\"sk-item\"><div class=\"sk-label-container\"><div class=\"sk-label sk-toggleable\"><input class=\"sk-toggleable__control sk-hidden--visually\" id=\"89dfed44-3e72-4751-8035-0ad10e5ae4c2\" type=\"checkbox\" ><label class=\"sk-toggleable__label\" for=\"89dfed44-3e72-4751-8035-0ad10e5ae4c2\">categorical</label><div class=\"sk-toggleable__content\"><pre>['star_type', 'star_color']</pre></div></div></div><div class=\"sk-serial\"><div class=\"sk-item\"><div class=\"sk-serial\"><div class=\"sk-item\"><div class=\"sk-estimator sk-toggleable\"><input class=\"sk-toggleable__control sk-hidden--visually\" id=\"b985ea91-0b55-471f-b373-8786d80e1799\" type=\"checkbox\" ><label class=\"sk-toggleable__label\" for=\"b985ea91-0b55-471f-b373-8786d80e1799\">OrdinalEncoder</label><div class=\"sk-toggleable__content\"><pre>OrdinalEncoder(handle_unknown='use_encoded_value', unknown_value=-1)</pre></div></div></div></div></div></div></div></div><div class=\"sk-parallel-item\"><div class=\"sk-item\"><div class=\"sk-label-container\"><div class=\"sk-label sk-toggleable\"><input class=\"sk-toggleable__control sk-hidden--visually\" id=\"1c72a91a-0b23-4820-854f-cd895c1dde82\" type=\"checkbox\" ><label class=\"sk-toggleable__label\" for=\"1c72a91a-0b23-4820-854f-cd895c1dde82\">numerical</label><div class=\"sk-toggleable__content\"><pre>['luminosity', 'radius', 'absolute_magnitude']</pre></div></div></div><div class=\"sk-serial\"><div class=\"sk-item\"><div class=\"sk-serial\"><div class=\"sk-item\"><div class=\"sk-estimator sk-toggleable\"><input class=\"sk-toggleable__control sk-hidden--visually\" id=\"16115ebd-b64a-44a6-8c4a-6acfd20dfe4f\" type=\"checkbox\" ><label class=\"sk-toggleable__label\" for=\"16115ebd-b64a-44a6-8c4a-6acfd20dfe4f\">StandardScaler</label><div class=\"sk-toggleable__content\"><pre>StandardScaler()</pre></div></div></div></div></div></div></div></div></div></div></div></div><div class=\"sk-item\"><div class=\"sk-estimator sk-toggleable\"><input class=\"sk-toggleable__control sk-hidden--visually\" id=\"e4f655e8-5ced-439a-aa43-1c2c18450da1\" type=\"checkbox\" ><label class=\"sk-toggleable__label\" for=\"e4f655e8-5ced-439a-aa43-1c2c18450da1\">NNRegressor</label><div class=\"sk-toggleable__content\"><pre>NNRegressor(batch_size=16, loss=MSELoss(),\n",
       "            net=Net(\n",
       "  (layers): ModuleList(\n",
       "    (0): Linear(in_features=5, out_features=100, bias=True)\n",
       "    (1): Linear(in_features=100, out_features=100, bias=True)\n",
       "    (2): Linear(in_features=100, out_features=1, bias=True)\n",
       "  )\n",
       "  (dropout_layers): ModuleList(\n",
       "    (0): Dropout(p=0.5, inplace=False)\n",
       "    (1): Dropout(p=0.5, inplace=False)\n",
       "    (2): Identity()\n",
       "  )\n",
       "  (act_functions): ModuleList(\n",
       "    (0): ReLU()\n",
       "    (1): ReLU()\n",
       "    (2): Identity()\n",
       "  )\n",
       "),\n",
       "            optimizer=Adam (\n",
       "Parameter Group 0\n",
       "    amsgrad: False\n",
       "    betas: (0.9, 0.999)\n",
       "    eps: 1e-08\n",
       "    lr: 0.01\n",
       "    weight_decay: 0\n",
       "),\n",
       "            verbose=True)</pre></div></div></div></div></div></div></div>"
      ],
      "text/plain": [
       "Pipeline(steps=[('preprocessor',\n",
       "                 Pipeline(steps=[('preprocessor',\n",
       "                                  ColumnTransformer(transformers=[('categorical',\n",
       "                                                                   Pipeline(steps=[('encoder',\n",
       "                                                                                    OrdinalEncoder(handle_unknown='use_encoded_value',\n",
       "                                                                                                   unknown_value=-1))]),\n",
       "                                                                   ['star_type',\n",
       "                                                                    'star_color']),\n",
       "                                                                  ('numerical',\n",
       "                                                                   Pipeline(steps=[('scaler',\n",
       "                                                                                    StandardScaler())]),\n",
       "                                                                   ['luminosity',\n",
       "                                                                    'radius',\n",
       "                                                                    'absolute_magnitude'])]))])),\n",
       "                ('...\n",
       "    (1): Linear(in_features=100, out_features=100, bias=True)\n",
       "    (2): Linear(in_features=100, out_features=1, bias=True)\n",
       "  )\n",
       "  (dropout_layers): ModuleList(\n",
       "    (0): Dropout(p=0.5, inplace=False)\n",
       "    (1): Dropout(p=0.5, inplace=False)\n",
       "    (2): Identity()\n",
       "  )\n",
       "  (act_functions): ModuleList(\n",
       "    (0): ReLU()\n",
       "    (1): ReLU()\n",
       "    (2): Identity()\n",
       "  )\n",
       "),\n",
       "                             optimizer=Adam (\n",
       "Parameter Group 0\n",
       "    amsgrad: False\n",
       "    betas: (0.9, 0.999)\n",
       "    eps: 1e-08\n",
       "    lr: 0.01\n",
       "    weight_decay: 0\n",
       "),\n",
       "                             verbose=True))])"
      ]
     },
     "execution_count": 21,
     "metadata": {},
     "output_type": "execute_result"
    }
   ],
   "source": [
    "baseline_model.fit(X_train, y_train)"
   ]
  },
  {
   "cell_type": "markdown",
   "id": "9e1f6581",
   "metadata": {},
   "source": [
    "#### Проанализируем результаты обучения модели:"
   ]
  },
  {
   "cell_type": "code",
   "execution_count": 22,
   "id": "8d837cd6",
   "metadata": {},
   "outputs": [
    {
     "data": {
      "image/png": "[encoded data removed]",
      "text/plain": [
       "<Figure size 1152x288 with 1 Axes>"
      ]
     },
     "metadata": {
      "needs_background": "light"
     },
     "output_type": "display_data"
    },
    {
     "name": "stdout",
     "output_type": "stream",
     "text": [
      "RMSE: 4954.62\n"
     ]
    }
   ],
   "source": [
    "generate_results(baseline_model, X_valid, y_valid)"
   ]
  },
  {
   "cell_type": "markdown",
   "id": "0249662a",
   "metadata": {},
   "source": [
    "#### Краткий вывод:\n",
    "- базовая модель неплохо справилась со своей задачей. На первый взгляд предсказания модели достаточно близки к реальным данным\n",
    "- как уже было сказано ранее, в данных присутствует определённое количество звёзд с аномальными значениями абсолютной температуры. Базовая модель достаточно хорошо справилась со многими такими аномальными объектами, но не со всеми"
   ]
  },
  {
   "cell_type": "markdown",
   "id": "growing-supply",
   "metadata": {},
   "source": [
    "<a name=\"upgrade\"></a>\n",
    "## Улучшение нейронной сети"
   ]
  },
  {
   "cell_type": "markdown",
   "id": "6f75a535",
   "metadata": {},
   "source": [
    "#### Найдём наилучшую модель базовой нейронной сети:"
   ]
  },
  {
   "cell_type": "markdown",
   "id": "3033f92b",
   "metadata": {},
   "source": [
    "Будем перебирать два гиперпараметра — `batch_size` и `dropout_probs`"
   ]
  },
  {
   "cell_type": "code",
   "execution_count": 25,
   "id": "3dd3d3d1",
   "metadata": {},
   "outputs": [
    {
     "name": "stderr",
     "output_type": "stream",
     "text": [
      "100%|██████████| 567/567 [6:25:19<00:00, 40.77s/it]  \n"
     ]
    }
   ],
   "source": [
    "models = []\n",
    "scores = []\n",
    "param_grid = {\n",
    "    'batch_size': [2, 4, 8, 16, 32, 64, 192], \n",
    "    'dropout_probs': [[p1, p2] for p1 in np.linspace(0.0, 0.8, 9) for p2 in np.linspace(0.0, 0.8, 9)]\n",
    "}\n",
    "\n",
    "for params in tqdm.tqdm(list(ParameterGrid(param_grid))):\n",
    "    baseline_net = copy.deepcopy(net)\n",
    "    model = Pipeline(steps=[\n",
    "        ('preprocessor', base_pipeline), \n",
    "        ('neural_network', NNRegressor(baseline_net,\n",
    "                                       torch.optim.Adam(baseline_net.parameters(), lr=1e-2),\n",
    "                                       num_epochs=1000,\n",
    "                                       batch_size=params['batch_size'],\n",
    "                                       dropout_probs=params['dropout_probs']))\n",
    "    ])\n",
    "\n",
    "    model.fit(X_train, y_train)\n",
    "    models.append(model)\n",
    "    scores.append(round(mean_squared_error(y_valid, model.predict(X_valid), squared=False), 2))"
   ]
  },
  {
   "cell_type": "markdown",
   "id": "f7a3da1c",
   "metadata": {},
   "source": [
    "#### Проанализируем результаты обучения моделей:"
   ]
  },
  {
   "cell_type": "code",
   "execution_count": 26,
   "id": "1a9f291c",
   "metadata": {},
   "outputs": [
    {
     "data": {
      "image/png": "[encoded data removed]",
      "text/plain": [
       "<Figure size 1152x288 with 1 Axes>"
      ]
     },
     "metadata": {
      "needs_background": "light"
     },
     "output_type": "display_data"
    },
    {
     "name": "stdout",
     "output_type": "stream",
     "text": [
      "RMSE: 4271.95\n"
     ]
    }
   ],
   "source": [
    "best_model = models[scores.index(min(scores))]\n",
    "generate_results(models[scores.index(min(scores))], X_valid, y_valid)"
   ]
  },
  {
   "cell_type": "markdown",
   "id": "d04f0cb3",
   "metadata": {},
   "source": [
    "#### Краткий вывод:\n",
    "- лучшая по результатам перебора гиперпараметров модель показала меньшее значение `RMSE`чем `baseline` модель\n",
    "- тем не менее лучшая модель всё-таки не смогла хорошо спрогнозировать абсолютную температуру для некоторых аномальных значений "
   ]
  },
  {
   "cell_type": "markdown",
   "id": "accurate-infrastructure",
   "metadata": {},
   "source": [
    "<a name=\"general-conclusion\"></a>\n",
    "## Вывод\n",
    "- в данных присутствуют всего $240$ объектов. Среди них есть звёзды с аномальными значениями абсолютной температуры, которые крайне сложно спрогнозировать\n",
    "- базовая модель неплохо справилась со своей задачей. На первый взгляд предсказания модели достаточно близки к реальным данным\n",
    "- лучшая по результатам перебора гиперпараметров модель показала меньшее значение `RMSE`чем `baseline` модель\n",
    "- тем не менее лучшая модель всё-таки не смогла хорошо спрогнозировать абсолютную температуру для некоторых аномальных значений "
   ]
  }
 ],
 "metadata": {
  "ExecuteTimeLog": [
   {
    "duration": 50,
    "start_time": "2024-03-04T17:49:11.531Z"
   },
   {
    "duration": 1486,
    "start_time": "2024-03-04T18:12:11.331Z"
   },
   {
    "duration": 0,
    "start_time": "2024-03-04T18:12:12.818Z"
   },
   {
    "duration": 27,
    "start_time": "2024-03-04T18:12:22.150Z"
   },
   {
    "duration": 5,
    "start_time": "2024-03-04T18:12:23.016Z"
   },
   {
    "duration": 47,
    "start_time": "2024-03-05T09:50:09.559Z"
   },
   {
    "duration": 1555,
    "start_time": "2024-03-05T09:50:15.023Z"
   },
   {
    "duration": 5,
    "start_time": "2024-03-05T09:50:16.580Z"
   },
   {
    "duration": 73,
    "start_time": "2024-03-05T09:50:17.918Z"
   },
   {
    "duration": 13,
    "start_time": "2024-03-05T09:50:29.190Z"
   },
   {
    "duration": 11,
    "start_time": "2024-03-05T09:50:45.686Z"
   },
   {
    "duration": 11,
    "start_time": "2024-03-05T09:51:08.590Z"
   },
   {
    "duration": 7,
    "start_time": "2024-03-05T09:51:29.574Z"
   },
   {
    "duration": 26,
    "start_time": "2024-03-05T09:51:46.376Z"
   },
   {
    "duration": 57,
    "start_time": "2024-03-05T09:52:38.232Z"
   },
   {
    "duration": 15,
    "start_time": "2024-03-05T09:52:47.244Z"
   },
   {
    "duration": 102,
    "start_time": "2024-03-05T10:08:44.606Z"
   },
   {
    "duration": 9,
    "start_time": "2024-03-05T10:08:49.837Z"
   },
   {
    "duration": 3507,
    "start_time": "2024-03-05T10:08:58.956Z"
   },
   {
    "duration": 58,
    "start_time": "2024-03-05T10:09:07.364Z"
   },
   {
    "duration": 4,
    "start_time": "2024-03-05T10:09:08.525Z"
   },
   {
    "duration": 30,
    "start_time": "2024-03-05T10:09:09.900Z"
   },
   {
    "duration": 11,
    "start_time": "2024-03-05T10:09:10.684Z"
   },
   {
    "duration": 11,
    "start_time": "2024-03-05T10:09:11.645Z"
   },
   {
    "duration": 6,
    "start_time": "2024-03-05T10:09:12.332Z"
   },
   {
    "duration": 21,
    "start_time": "2024-03-05T10:09:13.293Z"
   },
   {
    "duration": 168,
    "start_time": "2024-03-05T10:09:14.085Z"
   },
   {
    "duration": 8,
    "start_time": "2024-03-05T10:09:43.609Z"
   },
   {
    "duration": 1037,
    "start_time": "2024-03-05T10:09:47.821Z"
   },
   {
    "duration": 12,
    "start_time": "2024-03-05T10:10:44.887Z"
   },
   {
    "duration": 9,
    "start_time": "2024-03-05T10:11:03.813Z"
   },
   {
    "duration": 75,
    "start_time": "2024-03-05T10:11:20.294Z"
   },
   {
    "duration": 15373,
    "start_time": "2024-03-05T10:11:28.717Z"
   },
   {
    "duration": 747,
    "start_time": "2024-03-05T10:11:57.790Z"
   },
   {
    "duration": 774,
    "start_time": "2024-03-05T10:13:21.063Z"
   },
   {
    "duration": 718,
    "start_time": "2024-03-05T10:13:31.911Z"
   },
   {
    "duration": 786,
    "start_time": "2024-03-05T10:16:57.349Z"
   },
   {
    "duration": 27,
    "start_time": "2024-03-05T10:17:42.832Z"
   },
   {
    "duration": 731,
    "start_time": "2024-03-05T10:18:06.417Z"
   },
   {
    "duration": 10,
    "start_time": "2024-03-05T10:18:14.463Z"
   },
   {
    "duration": 760,
    "start_time": "2024-03-05T10:18:17.368Z"
   },
   {
    "duration": 652,
    "start_time": "2024-03-05T10:19:09.016Z"
   },
   {
    "duration": 737,
    "start_time": "2024-03-05T10:19:14.889Z"
   },
   {
    "duration": 883,
    "start_time": "2024-03-05T10:19:24.960Z"
   },
   {
    "duration": 792,
    "start_time": "2024-03-05T10:19:35.624Z"
   },
   {
    "duration": 741,
    "start_time": "2024-03-05T10:23:53.810Z"
   },
   {
    "duration": 685,
    "start_time": "2024-03-05T10:24:56.072Z"
   },
   {
    "duration": 707,
    "start_time": "2024-03-05T10:28:49.407Z"
   },
   {
    "duration": 793,
    "start_time": "2024-03-05T10:28:53.328Z"
   },
   {
    "duration": 773,
    "start_time": "2024-03-05T10:32:04.487Z"
   },
   {
    "duration": 717,
    "start_time": "2024-03-05T10:34:24.135Z"
   },
   {
    "duration": 203,
    "start_time": "2024-03-05T10:34:32.326Z"
   },
   {
    "duration": 820,
    "start_time": "2024-03-05T10:34:41.167Z"
   },
   {
    "duration": 707,
    "start_time": "2024-03-05T10:34:46.943Z"
   },
   {
    "duration": 688,
    "start_time": "2024-03-05T10:35:05.215Z"
   },
   {
    "duration": 653,
    "start_time": "2024-03-05T10:35:13.799Z"
   },
   {
    "duration": 733,
    "start_time": "2024-03-05T10:35:19.799Z"
   },
   {
    "duration": 758,
    "start_time": "2024-03-05T10:35:37.336Z"
   },
   {
    "duration": 727,
    "start_time": "2024-03-05T10:35:42.702Z"
   },
   {
    "duration": 682,
    "start_time": "2024-03-05T10:35:48.208Z"
   },
   {
    "duration": 820,
    "start_time": "2024-03-05T10:35:52.431Z"
   },
   {
    "duration": 791,
    "start_time": "2024-03-05T10:35:57.551Z"
   },
   {
    "duration": 728,
    "start_time": "2024-03-05T10:36:01.071Z"
   },
   {
    "duration": 874,
    "start_time": "2024-03-05T10:36:08.655Z"
   },
   {
    "duration": 749,
    "start_time": "2024-03-05T10:37:00.888Z"
   },
   {
    "duration": 743,
    "start_time": "2024-03-05T10:37:07.055Z"
   },
   {
    "duration": 5,
    "start_time": "2024-03-05T10:39:58.014Z"
   },
   {
    "duration": 701,
    "start_time": "2024-03-05T10:40:04.511Z"
   },
   {
    "duration": 5,
    "start_time": "2024-03-05T10:40:12.302Z"
   },
   {
    "duration": 745,
    "start_time": "2024-03-05T10:40:15.822Z"
   },
   {
    "duration": 839,
    "start_time": "2024-03-05T11:04:53.660Z"
   },
   {
    "duration": 868,
    "start_time": "2024-03-05T11:12:25.804Z"
   },
   {
    "duration": 928,
    "start_time": "2024-03-05T11:12:34.756Z"
   },
   {
    "duration": 1042,
    "start_time": "2024-03-05T11:12:42.364Z"
   },
   {
    "duration": 4,
    "start_time": "2024-03-05T11:13:00.996Z"
   },
   {
    "duration": 5,
    "start_time": "2024-03-05T11:13:13.779Z"
   },
   {
    "duration": 696,
    "start_time": "2024-03-05T11:13:19.228Z"
   },
   {
    "duration": 766,
    "start_time": "2024-03-05T11:13:23.237Z"
   },
   {
    "duration": 4,
    "start_time": "2024-03-05T11:13:29.013Z"
   },
   {
    "duration": 658,
    "start_time": "2024-03-05T11:13:31.813Z"
   },
   {
    "duration": 4,
    "start_time": "2024-03-05T11:13:36.646Z"
   },
   {
    "duration": 770,
    "start_time": "2024-03-05T11:13:38.844Z"
   },
   {
    "duration": 1030,
    "start_time": "2024-03-05T11:13:40.723Z"
   },
   {
    "duration": 141,
    "start_time": "2024-03-05T11:13:56.110Z"
   },
   {
    "duration": 139,
    "start_time": "2024-03-05T11:25:06.216Z"
   },
   {
    "duration": 133,
    "start_time": "2024-03-05T11:25:14.303Z"
   },
   {
    "duration": 512,
    "start_time": "2024-03-05T13:45:30.149Z"
   },
   {
    "duration": 0,
    "start_time": "2024-03-05T13:45:30.663Z"
   },
   {
    "duration": 0,
    "start_time": "2024-03-05T13:45:30.664Z"
   },
   {
    "duration": 0,
    "start_time": "2024-03-05T13:45:30.666Z"
   },
   {
    "duration": 0,
    "start_time": "2024-03-05T13:45:30.668Z"
   },
   {
    "duration": 0,
    "start_time": "2024-03-05T13:45:30.683Z"
   },
   {
    "duration": 0,
    "start_time": "2024-03-05T13:45:30.684Z"
   },
   {
    "duration": 0,
    "start_time": "2024-03-05T13:45:30.686Z"
   },
   {
    "duration": 3662,
    "start_time": "2024-03-05T13:45:42.473Z"
   },
   {
    "duration": 1657,
    "start_time": "2024-03-05T13:45:51.096Z"
   },
   {
    "duration": 5,
    "start_time": "2024-03-05T13:45:52.869Z"
   },
   {
    "duration": 68,
    "start_time": "2024-03-05T13:45:53.760Z"
   },
   {
    "duration": 15,
    "start_time": "2024-03-05T13:45:54.360Z"
   },
   {
    "duration": 12,
    "start_time": "2024-03-05T13:45:54.896Z"
   },
   {
    "duration": 6,
    "start_time": "2024-03-05T13:45:55.360Z"
   },
   {
    "duration": 23,
    "start_time": "2024-03-05T13:45:55.776Z"
   },
   {
    "duration": 1027,
    "start_time": "2024-03-05T13:45:56.225Z"
   },
   {
    "duration": 1206,
    "start_time": "2024-03-05T13:45:57.254Z"
   },
   {
    "duration": 6,
    "start_time": "2024-03-05T13:55:27.833Z"
   },
   {
    "duration": 5,
    "start_time": "2024-03-05T13:55:36.632Z"
   },
   {
    "duration": 1065,
    "start_time": "2024-03-05T13:55:42.185Z"
   },
   {
    "duration": 5,
    "start_time": "2024-03-05T13:55:56.400Z"
   },
   {
    "duration": 1176,
    "start_time": "2024-03-05T13:56:01.112Z"
   },
   {
    "duration": 4,
    "start_time": "2024-03-05T13:56:11.337Z"
   },
   {
    "duration": 27,
    "start_time": "2024-03-05T13:56:11.992Z"
   },
   {
    "duration": 10,
    "start_time": "2024-03-05T13:56:13.232Z"
   },
   {
    "duration": 11,
    "start_time": "2024-03-05T13:56:13.503Z"
   },
   {
    "duration": 7,
    "start_time": "2024-03-05T13:56:13.945Z"
   },
   {
    "duration": 25,
    "start_time": "2024-03-05T13:56:14.256Z"
   },
   {
    "duration": 935,
    "start_time": "2024-03-05T13:56:15.128Z"
   },
   {
    "duration": 1158,
    "start_time": "2024-03-05T13:56:16.128Z"
   },
   {
    "duration": 790,
    "start_time": "2024-03-05T13:56:30.992Z"
   },
   {
    "duration": 927,
    "start_time": "2024-03-05T13:56:33.593Z"
   },
   {
    "duration": 1039,
    "start_time": "2024-03-05T13:56:34.522Z"
   },
   {
    "duration": 1159,
    "start_time": "2024-03-05T13:56:45.456Z"
   },
   {
    "duration": 1020,
    "start_time": "2024-03-05T13:56:52.704Z"
   },
   {
    "duration": 392,
    "start_time": "2024-03-08T08:19:48.529Z"
   },
   {
    "duration": 7,
    "start_time": "2024-03-08T08:19:48.955Z"
   },
   {
    "duration": 3127,
    "start_time": "2024-03-08T08:20:02.844Z"
   },
   {
    "duration": 1409,
    "start_time": "2024-03-08T08:20:38.028Z"
   },
   {
    "duration": 4,
    "start_time": "2024-03-08T08:20:41.220Z"
   },
   {
    "duration": 72,
    "start_time": "2024-03-08T08:20:42.540Z"
   },
   {
    "duration": 13,
    "start_time": "2024-03-08T08:25:00.498Z"
   },
   {
    "duration": 11,
    "start_time": "2024-03-08T08:25:07.955Z"
   },
   {
    "duration": 5,
    "start_time": "2024-03-08T08:25:12.867Z"
   },
   {
    "duration": 17,
    "start_time": "2024-03-08T08:25:18.131Z"
   },
   {
    "duration": 846,
    "start_time": "2024-03-08T08:25:25.746Z"
   },
   {
    "duration": 791,
    "start_time": "2024-03-08T08:25:50.619Z"
   },
   {
    "duration": 9,
    "start_time": "2024-03-08T08:30:11.891Z"
   },
   {
    "duration": 5,
    "start_time": "2024-03-08T08:30:34.684Z"
   },
   {
    "duration": 20,
    "start_time": "2024-03-08T08:30:44.677Z"
   },
   {
    "duration": 6,
    "start_time": "2024-03-08T08:33:46.196Z"
   },
   {
    "duration": 6,
    "start_time": "2024-03-08T08:33:52.389Z"
   },
   {
    "duration": 11,
    "start_time": "2024-03-08T08:33:58.821Z"
   },
   {
    "duration": 11,
    "start_time": "2024-03-08T08:34:08.588Z"
   },
   {
    "duration": 5,
    "start_time": "2024-03-08T08:39:56.213Z"
   },
   {
    "duration": 4,
    "start_time": "2024-03-08T09:00:47.064Z"
   },
   {
    "duration": 98,
    "start_time": "2024-03-08T09:00:48.705Z"
   },
   {
    "duration": 4,
    "start_time": "2024-03-08T09:00:48.984Z"
   },
   {
    "duration": 16,
    "start_time": "2024-03-08T09:00:58.191Z"
   },
   {
    "duration": 4,
    "start_time": "2024-03-08T09:01:03.442Z"
   },
   {
    "duration": 3,
    "start_time": "2024-03-08T09:01:14.833Z"
   },
   {
    "duration": 4,
    "start_time": "2024-03-08T09:01:16.560Z"
   },
   {
    "duration": 8,
    "start_time": "2024-03-08T09:01:21.344Z"
   },
   {
    "duration": 9,
    "start_time": "2024-03-08T09:01:24.161Z"
   },
   {
    "duration": 1305,
    "start_time": "2024-03-08T09:01:30.147Z"
   },
   {
    "duration": 4,
    "start_time": "2024-03-08T09:01:31.454Z"
   },
   {
    "duration": 84,
    "start_time": "2024-03-08T09:01:31.460Z"
   },
   {
    "duration": 28,
    "start_time": "2024-03-08T09:01:31.545Z"
   },
   {
    "duration": 41,
    "start_time": "2024-03-08T09:01:31.574Z"
   },
   {
    "duration": 25,
    "start_time": "2024-03-08T09:01:31.617Z"
   },
   {
    "duration": 54,
    "start_time": "2024-03-08T09:01:31.643Z"
   },
   {
    "duration": 862,
    "start_time": "2024-03-08T09:01:31.698Z"
   },
   {
    "duration": 787,
    "start_time": "2024-03-08T09:01:32.562Z"
   },
   {
    "duration": 4,
    "start_time": "2024-03-08T09:01:33.351Z"
   },
   {
    "duration": 3,
    "start_time": "2024-03-08T09:01:35.402Z"
   },
   {
    "duration": 3,
    "start_time": "2024-03-08T09:01:35.810Z"
   },
   {
    "duration": 4,
    "start_time": "2024-03-08T09:01:46.570Z"
   },
   {
    "duration": 3,
    "start_time": "2024-03-08T09:03:25.642Z"
   },
   {
    "duration": 3,
    "start_time": "2024-03-08T09:03:27.841Z"
   },
   {
    "duration": 5,
    "start_time": "2024-03-08T09:04:34.762Z"
   },
   {
    "duration": 3,
    "start_time": "2024-03-08T09:05:10.467Z"
   },
   {
    "duration": 5,
    "start_time": "2024-03-08T09:06:03.346Z"
   },
   {
    "duration": 5,
    "start_time": "2024-03-08T09:13:03.826Z"
   },
   {
    "duration": 3,
    "start_time": "2024-03-08T09:13:43.514Z"
   },
   {
    "duration": 4,
    "start_time": "2024-03-08T09:13:44.899Z"
   },
   {
    "duration": 4,
    "start_time": "2024-03-08T09:13:46.123Z"
   },
   {
    "duration": 7,
    "start_time": "2024-03-08T09:14:30.356Z"
   },
   {
    "duration": 4,
    "start_time": "2024-03-08T09:15:50.164Z"
   },
   {
    "duration": 2,
    "start_time": "2024-03-08T09:15:50.684Z"
   },
   {
    "duration": 4,
    "start_time": "2024-03-08T09:15:52.100Z"
   },
   {
    "duration": 100,
    "start_time": "2024-03-08T09:17:54.062Z"
   },
   {
    "duration": 14,
    "start_time": "2024-03-08T09:18:09.447Z"
   },
   {
    "duration": 3,
    "start_time": "2024-03-08T09:19:38.072Z"
   },
   {
    "duration": 9,
    "start_time": "2024-03-08T09:19:54.125Z"
   },
   {
    "duration": 5,
    "start_time": "2024-03-08T09:20:12.102Z"
   },
   {
    "duration": 4,
    "start_time": "2024-03-08T09:21:01.494Z"
   },
   {
    "duration": 4,
    "start_time": "2024-03-08T09:21:04.519Z"
   },
   {
    "duration": 3,
    "start_time": "2024-03-08T09:21:05.783Z"
   },
   {
    "duration": 3,
    "start_time": "2024-03-08T09:25:59.849Z"
   },
   {
    "duration": 3,
    "start_time": "2024-03-08T09:26:03.081Z"
   },
   {
    "duration": 4,
    "start_time": "2024-03-08T09:26:06.689Z"
   },
   {
    "duration": 4,
    "start_time": "2024-03-08T09:39:55.004Z"
   },
   {
    "duration": 7,
    "start_time": "2024-03-08T09:40:20.956Z"
   },
   {
    "duration": 3,
    "start_time": "2024-03-08T09:40:23.311Z"
   },
   {
    "duration": 4,
    "start_time": "2024-03-08T09:40:23.444Z"
   },
   {
    "duration": 1288,
    "start_time": "2024-03-08T09:40:32.973Z"
   },
   {
    "duration": 5,
    "start_time": "2024-03-08T09:40:34.262Z"
   },
   {
    "duration": 37,
    "start_time": "2024-03-08T09:40:34.268Z"
   },
   {
    "duration": 11,
    "start_time": "2024-03-08T09:40:34.306Z"
   },
   {
    "duration": 8,
    "start_time": "2024-03-08T09:40:34.319Z"
   },
   {
    "duration": 5,
    "start_time": "2024-03-08T09:40:34.328Z"
   },
   {
    "duration": 16,
    "start_time": "2024-03-08T09:40:34.334Z"
   },
   {
    "duration": 794,
    "start_time": "2024-03-08T09:40:34.351Z"
   },
   {
    "duration": 824,
    "start_time": "2024-03-08T09:40:35.146Z"
   },
   {
    "duration": 3,
    "start_time": "2024-03-08T09:40:35.971Z"
   },
   {
    "duration": 8,
    "start_time": "2024-03-08T09:40:35.975Z"
   },
   {
    "duration": 6,
    "start_time": "2024-03-08T09:40:35.984Z"
   },
   {
    "duration": 7,
    "start_time": "2024-03-08T09:40:37.188Z"
   },
   {
    "duration": 3,
    "start_time": "2024-03-08T09:40:37.908Z"
   },
   {
    "duration": 3,
    "start_time": "2024-03-08T09:40:51.684Z"
   },
   {
    "duration": 4,
    "start_time": "2024-03-08T09:40:52.123Z"
   },
   {
    "duration": 1249,
    "start_time": "2024-03-08T09:41:58.306Z"
   },
   {
    "duration": 4,
    "start_time": "2024-03-08T09:41:59.557Z"
   },
   {
    "duration": 42,
    "start_time": "2024-03-08T09:41:59.562Z"
   },
   {
    "duration": 11,
    "start_time": "2024-03-08T09:41:59.605Z"
   },
   {
    "duration": 8,
    "start_time": "2024-03-08T09:41:59.618Z"
   },
   {
    "duration": 7,
    "start_time": "2024-03-08T09:41:59.627Z"
   },
   {
    "duration": 18,
    "start_time": "2024-03-08T09:41:59.635Z"
   },
   {
    "duration": 828,
    "start_time": "2024-03-08T09:41:59.655Z"
   },
   {
    "duration": 801,
    "start_time": "2024-03-08T09:42:00.484Z"
   },
   {
    "duration": 4,
    "start_time": "2024-03-08T09:42:01.286Z"
   },
   {
    "duration": 41,
    "start_time": "2024-03-08T09:42:01.291Z"
   },
   {
    "duration": 23,
    "start_time": "2024-03-08T09:42:01.334Z"
   },
   {
    "duration": 3,
    "start_time": "2024-03-08T09:42:02.003Z"
   },
   {
    "duration": 3,
    "start_time": "2024-03-08T09:42:03.172Z"
   },
   {
    "duration": 3,
    "start_time": "2024-03-08T09:42:03.444Z"
   },
   {
    "duration": 3,
    "start_time": "2024-03-08T09:42:09.988Z"
   },
   {
    "duration": 1188,
    "start_time": "2024-03-08T09:42:27.561Z"
   },
   {
    "duration": 4,
    "start_time": "2024-03-08T09:42:28.751Z"
   },
   {
    "duration": 32,
    "start_time": "2024-03-08T09:42:28.756Z"
   },
   {
    "duration": 10,
    "start_time": "2024-03-08T09:42:28.789Z"
   },
   {
    "duration": 8,
    "start_time": "2024-03-08T09:42:28.801Z"
   },
   {
    "duration": 4,
    "start_time": "2024-03-08T09:42:28.811Z"
   },
   {
    "duration": 18,
    "start_time": "2024-03-08T09:42:28.816Z"
   },
   {
    "duration": 815,
    "start_time": "2024-03-08T09:42:28.835Z"
   },
   {
    "duration": 847,
    "start_time": "2024-03-08T09:42:29.651Z"
   },
   {
    "duration": 3,
    "start_time": "2024-03-08T09:42:30.500Z"
   },
   {
    "duration": 63,
    "start_time": "2024-03-08T09:42:30.504Z"
   },
   {
    "duration": 65,
    "start_time": "2024-03-08T09:42:30.569Z"
   },
   {
    "duration": 42,
    "start_time": "2024-03-08T09:42:30.635Z"
   },
   {
    "duration": 55,
    "start_time": "2024-03-08T09:42:30.679Z"
   },
   {
    "duration": 105,
    "start_time": "2024-03-08T09:42:30.735Z"
   },
   {
    "duration": 33,
    "start_time": "2024-03-08T09:42:30.841Z"
   },
   {
    "duration": 5,
    "start_time": "2024-03-08T09:45:43.051Z"
   },
   {
    "duration": 102,
    "start_time": "2024-03-08T09:45:51.428Z"
   },
   {
    "duration": 1246,
    "start_time": "2024-03-08T09:45:56.989Z"
   },
   {
    "duration": 5,
    "start_time": "2024-03-08T09:45:58.237Z"
   },
   {
    "duration": 39,
    "start_time": "2024-03-08T09:45:58.244Z"
   },
   {
    "duration": 11,
    "start_time": "2024-03-08T09:45:58.285Z"
   },
   {
    "duration": 8,
    "start_time": "2024-03-08T09:45:58.298Z"
   },
   {
    "duration": 6,
    "start_time": "2024-03-08T09:45:58.307Z"
   },
   {
    "duration": 18,
    "start_time": "2024-03-08T09:45:58.314Z"
   },
   {
    "duration": 799,
    "start_time": "2024-03-08T09:45:58.333Z"
   },
   {
    "duration": 794,
    "start_time": "2024-03-08T09:45:59.133Z"
   },
   {
    "duration": 3,
    "start_time": "2024-03-08T09:45:59.929Z"
   },
   {
    "duration": 9,
    "start_time": "2024-03-08T09:45:59.933Z"
   },
   {
    "duration": 6,
    "start_time": "2024-03-08T09:46:00.883Z"
   },
   {
    "duration": 3,
    "start_time": "2024-03-08T09:46:03.922Z"
   },
   {
    "duration": 4,
    "start_time": "2024-03-08T09:46:06.186Z"
   },
   {
    "duration": 4,
    "start_time": "2024-03-08T09:46:06.602Z"
   },
   {
    "duration": 13,
    "start_time": "2024-03-08T09:46:44.995Z"
   },
   {
    "duration": 97,
    "start_time": "2024-03-08T09:48:26.516Z"
   },
   {
    "duration": 159,
    "start_time": "2024-03-08T09:48:34.708Z"
   },
   {
    "duration": 9,
    "start_time": "2024-03-08T09:52:59.380Z"
   },
   {
    "duration": 36345,
    "start_time": "2024-03-08T09:53:12.075Z"
   },
   {
    "duration": 183,
    "start_time": "2024-03-08T09:53:50.840Z"
   },
   {
    "duration": 566,
    "start_time": "2024-03-08T09:54:57.996Z"
   },
   {
    "duration": 581,
    "start_time": "2024-03-08T09:58:30.084Z"
   },
   {
    "duration": 422,
    "start_time": "2024-03-08T09:58:35.652Z"
   },
   {
    "duration": 515,
    "start_time": "2024-03-08T09:58:40.309Z"
   },
   {
    "duration": 410,
    "start_time": "2024-03-08T09:58:42.876Z"
   },
   {
    "duration": 364,
    "start_time": "2024-03-08T09:58:47.077Z"
   },
   {
    "duration": 405,
    "start_time": "2024-03-08T09:58:50.668Z"
   },
   {
    "duration": 430,
    "start_time": "2024-03-08T09:58:54.732Z"
   },
   {
    "duration": 396,
    "start_time": "2024-03-08T09:58:58.044Z"
   },
   {
    "duration": 4,
    "start_time": "2024-03-08T09:59:54.964Z"
   },
   {
    "duration": 9,
    "start_time": "2024-03-08T10:00:05.220Z"
   },
   {
    "duration": 4,
    "start_time": "2024-03-08T10:00:10.419Z"
   },
   {
    "duration": 686,
    "start_time": "2024-03-08T10:05:38.574Z"
   },
   {
    "duration": 3,
    "start_time": "2024-03-08T10:06:23.326Z"
   },
   {
    "duration": 3136,
    "start_time": "2024-03-08T10:07:06.399Z"
   },
   {
    "duration": 924,
    "start_time": "2024-03-08T10:07:15.848Z"
   },
   {
    "duration": 1016,
    "start_time": "2024-03-08T10:07:19.951Z"
   },
   {
    "duration": 546,
    "start_time": "2024-03-08T10:07:26.558Z"
   },
   {
    "duration": 501,
    "start_time": "2024-03-08T10:07:43.822Z"
   },
   {
    "duration": 1735,
    "start_time": "2024-03-08T10:08:07.839Z"
   },
   {
    "duration": 13,
    "start_time": "2024-03-08T10:09:03.614Z"
   },
   {
    "duration": 13,
    "start_time": "2024-03-08T10:09:55.471Z"
   },
   {
    "duration": 171,
    "start_time": "2024-03-08T10:10:03.647Z"
   },
   {
    "duration": 10,
    "start_time": "2024-03-08T10:14:06.704Z"
   },
   {
    "duration": 11,
    "start_time": "2024-03-08T10:18:20.487Z"
   },
   {
    "duration": 11,
    "start_time": "2024-03-08T10:18:24.904Z"
   },
   {
    "duration": 96,
    "start_time": "2024-03-08T10:18:32.449Z"
   },
   {
    "duration": 1714,
    "start_time": "2024-03-08T10:18:39.823Z"
   },
   {
    "duration": 1786,
    "start_time": "2024-03-08T10:19:09.032Z"
   },
   {
    "duration": 603,
    "start_time": "2024-03-08T10:24:13.593Z"
   },
   {
    "duration": 527,
    "start_time": "2024-03-08T10:24:32.362Z"
   },
   {
    "duration": 1907,
    "start_time": "2024-03-08T10:24:50.555Z"
   },
   {
    "duration": 1192,
    "start_time": "2024-03-08T10:24:57.755Z"
   },
   {
    "duration": 1031,
    "start_time": "2024-03-08T10:25:02.882Z"
   },
   {
    "duration": 585,
    "start_time": "2024-03-08T10:25:08.122Z"
   },
   {
    "duration": 572,
    "start_time": "2024-03-08T10:25:27.787Z"
   },
   {
    "duration": 574,
    "start_time": "2024-03-08T10:26:00.146Z"
   },
   {
    "duration": 702,
    "start_time": "2024-03-08T10:28:21.202Z"
   },
   {
    "duration": 638,
    "start_time": "2024-03-08T10:28:53.442Z"
   },
   {
    "duration": 605,
    "start_time": "2024-03-08T10:41:13.726Z"
   },
   {
    "duration": 721,
    "start_time": "2024-03-08T10:41:33.157Z"
   },
   {
    "duration": 604,
    "start_time": "2024-03-08T10:41:55.613Z"
   },
   {
    "duration": 635,
    "start_time": "2024-03-08T10:42:07.134Z"
   },
   {
    "duration": 733,
    "start_time": "2024-03-08T10:42:22.470Z"
   },
   {
    "duration": 639,
    "start_time": "2024-03-08T10:42:33.838Z"
   },
   {
    "duration": 639,
    "start_time": "2024-03-08T10:42:36.014Z"
   },
   {
    "duration": 738,
    "start_time": "2024-03-08T10:42:46.857Z"
   },
   {
    "duration": 635,
    "start_time": "2024-03-08T10:42:56.886Z"
   },
   {
    "duration": 770,
    "start_time": "2024-03-08T10:43:05.838Z"
   },
   {
    "duration": 641,
    "start_time": "2024-03-08T10:43:22.070Z"
   },
   {
    "duration": 965,
    "start_time": "2024-03-08T10:43:36.765Z"
   },
   {
    "duration": 1131,
    "start_time": "2024-03-08T10:44:27.524Z"
   },
   {
    "duration": 968,
    "start_time": "2024-03-08T10:55:03.090Z"
   },
   {
    "duration": 1038,
    "start_time": "2024-03-08T10:55:07.330Z"
   },
   {
    "duration": 973,
    "start_time": "2024-03-08T10:55:17.690Z"
   },
   {
    "duration": 1117,
    "start_time": "2024-03-08T10:55:58.313Z"
   },
   {
    "duration": 940,
    "start_time": "2024-03-08T10:56:10.347Z"
   },
   {
    "duration": 912,
    "start_time": "2024-03-08T10:56:16.641Z"
   },
   {
    "duration": 731,
    "start_time": "2024-03-08T10:56:35.905Z"
   },
   {
    "duration": 926,
    "start_time": "2024-03-08T10:56:39.065Z"
   },
   {
    "duration": 1084,
    "start_time": "2024-03-08T10:56:57.888Z"
   },
   {
    "duration": 951,
    "start_time": "2024-03-08T10:57:02.856Z"
   },
   {
    "duration": 1026,
    "start_time": "2024-03-08T10:57:09.688Z"
   },
   {
    "duration": 942,
    "start_time": "2024-03-08T11:01:38.488Z"
   },
   {
    "duration": 1006,
    "start_time": "2024-03-08T11:01:41.069Z"
   },
   {
    "duration": 934,
    "start_time": "2024-03-08T11:02:04.975Z"
   },
   {
    "duration": 1018,
    "start_time": "2024-03-08T11:02:10.608Z"
   },
   {
    "duration": 1037,
    "start_time": "2024-03-08T11:02:34.319Z"
   },
   {
    "duration": 920,
    "start_time": "2024-03-08T11:02:41.703Z"
   },
   {
    "duration": 1034,
    "start_time": "2024-03-08T11:02:47.279Z"
   },
   {
    "duration": 785,
    "start_time": "2024-03-08T11:05:41.575Z"
   },
   {
    "duration": 1216,
    "start_time": "2024-03-08T11:05:46.767Z"
   },
   {
    "duration": 13,
    "start_time": "2024-03-08T11:09:08.669Z"
   },
   {
    "duration": 13,
    "start_time": "2024-03-08T11:09:11.943Z"
   },
   {
    "duration": 1239,
    "start_time": "2024-03-08T11:09:26.615Z"
   },
   {
    "duration": 1348,
    "start_time": "2024-03-08T11:09:33.256Z"
   },
   {
    "duration": 1224,
    "start_time": "2024-03-08T11:09:37.342Z"
   },
   {
    "duration": 1341,
    "start_time": "2024-03-08T11:09:41.734Z"
   },
   {
    "duration": 1298,
    "start_time": "2024-03-08T11:11:59.413Z"
   },
   {
    "duration": 1337,
    "start_time": "2024-03-08T11:12:08.742Z"
   },
   {
    "duration": 1362,
    "start_time": "2024-03-08T11:12:16.550Z"
   },
   {
    "duration": 1024,
    "start_time": "2024-03-08T11:12:19.958Z"
   },
   {
    "duration": 988,
    "start_time": "2024-03-08T11:12:27.909Z"
   },
   {
    "duration": 1068,
    "start_time": "2024-03-08T11:15:44.343Z"
   },
   {
    "duration": 1011,
    "start_time": "2024-03-08T11:15:56.582Z"
   },
   {
    "duration": 1172,
    "start_time": "2024-03-08T11:16:02.278Z"
   },
   {
    "duration": 1037,
    "start_time": "2024-03-08T11:16:06.582Z"
   },
   {
    "duration": 1145,
    "start_time": "2024-03-08T11:16:10.982Z"
   },
   {
    "duration": 1164,
    "start_time": "2024-03-08T11:16:15.815Z"
   },
   {
    "duration": 1275,
    "start_time": "2024-03-08T11:16:23.182Z"
   },
   {
    "duration": 1215,
    "start_time": "2024-03-08T11:31:54.361Z"
   },
   {
    "duration": 1335,
    "start_time": "2024-03-08T11:36:40.597Z"
   },
   {
    "duration": 1243,
    "start_time": "2024-03-08T11:37:03.844Z"
   },
   {
    "duration": 959,
    "start_time": "2024-03-08T11:38:04.012Z"
   },
   {
    "duration": 1205,
    "start_time": "2024-03-08T11:45:56.767Z"
   },
   {
    "duration": 912,
    "start_time": "2024-03-08T11:46:01.568Z"
   },
   {
    "duration": 1191,
    "start_time": "2024-03-08T11:46:06.487Z"
   },
   {
    "duration": 1273,
    "start_time": "2024-03-08T11:49:16.424Z"
   },
   {
    "duration": 770,
    "start_time": "2024-03-08T11:51:34.890Z"
   },
   {
    "duration": 8100,
    "start_time": "2024-03-08T11:52:12.552Z"
   },
   {
    "duration": 1511,
    "start_time": "2024-03-08T11:52:29.117Z"
   },
   {
    "duration": 5,
    "start_time": "2024-03-08T11:52:30.630Z"
   },
   {
    "duration": 100,
    "start_time": "2024-03-08T11:52:30.637Z"
   },
   {
    "duration": 43,
    "start_time": "2024-03-08T11:52:30.739Z"
   },
   {
    "duration": 55,
    "start_time": "2024-03-08T11:52:30.783Z"
   },
   {
    "duration": 32,
    "start_time": "2024-03-08T11:52:30.839Z"
   },
   {
    "duration": 46,
    "start_time": "2024-03-08T11:52:30.872Z"
   },
   {
    "duration": 780,
    "start_time": "2024-03-08T11:52:30.920Z"
   },
   {
    "duration": 795,
    "start_time": "2024-03-08T11:52:31.701Z"
   },
   {
    "duration": 3,
    "start_time": "2024-03-08T11:52:32.498Z"
   },
   {
    "duration": 5,
    "start_time": "2024-03-08T11:52:32.502Z"
   },
   {
    "duration": 21,
    "start_time": "2024-03-08T11:52:32.508Z"
   },
   {
    "duration": 13,
    "start_time": "2024-03-08T11:52:32.530Z"
   },
   {
    "duration": 11,
    "start_time": "2024-03-08T11:52:32.544Z"
   },
   {
    "duration": 21,
    "start_time": "2024-03-08T11:52:32.556Z"
   },
   {
    "duration": 101,
    "start_time": "2024-03-08T11:52:36.832Z"
   },
   {
    "duration": 7,
    "start_time": "2024-03-08T11:52:40.049Z"
   },
   {
    "duration": 9,
    "start_time": "2024-03-08T11:52:53.305Z"
   },
   {
    "duration": 3,
    "start_time": "2024-03-08T11:52:57.686Z"
   },
   {
    "duration": 1444,
    "start_time": "2024-03-08T11:53:03.143Z"
   },
   {
    "duration": 21,
    "start_time": "2024-03-08T11:55:00.955Z"
   },
   {
    "duration": 16,
    "start_time": "2024-03-08T11:55:07.594Z"
   },
   {
    "duration": 21,
    "start_time": "2024-03-08T11:56:31.492Z"
   },
   {
    "duration": 21,
    "start_time": "2024-03-08T11:58:34.098Z"
   },
   {
    "duration": 593,
    "start_time": "2024-03-08T11:58:42.162Z"
   },
   {
    "duration": 1705,
    "start_time": "2024-03-08T11:59:31.141Z"
   },
   {
    "duration": 1877,
    "start_time": "2024-03-08T11:59:37.674Z"
   },
   {
    "duration": 1698,
    "start_time": "2024-03-08T11:59:43.548Z"
   },
   {
    "duration": 1875,
    "start_time": "2024-03-08T11:59:48.866Z"
   },
   {
    "duration": 21,
    "start_time": "2024-03-08T11:59:57.315Z"
   },
   {
    "duration": 1894,
    "start_time": "2024-03-08T11:59:59.260Z"
   },
   {
    "duration": 1739,
    "start_time": "2024-03-08T12:00:06.268Z"
   },
   {
    "duration": 1821,
    "start_time": "2024-03-08T12:00:12.489Z"
   },
   {
    "duration": 65,
    "start_time": "2024-03-08T12:00:23.524Z"
   },
   {
    "duration": 1725,
    "start_time": "2024-03-08T12:00:25.683Z"
   },
   {
    "duration": 1813,
    "start_time": "2024-03-08T12:00:32.332Z"
   },
   {
    "duration": 1838,
    "start_time": "2024-03-08T12:00:35.587Z"
   },
   {
    "duration": 606,
    "start_time": "2024-03-08T12:00:52.259Z"
   },
   {
    "duration": 1643,
    "start_time": "2024-03-08T12:00:58.627Z"
   },
   {
    "duration": 1767,
    "start_time": "2024-03-08T12:01:17.460Z"
   },
   {
    "duration": 1662,
    "start_time": "2024-03-08T12:01:22.812Z"
   },
   {
    "duration": 1642,
    "start_time": "2024-03-08T12:03:38.484Z"
   },
   {
    "duration": 1846,
    "start_time": "2024-03-08T12:03:46.700Z"
   },
   {
    "duration": 1665,
    "start_time": "2024-03-08T12:03:57.468Z"
   },
   {
    "duration": 1577,
    "start_time": "2024-03-08T12:04:02.283Z"
   },
   {
    "duration": 1613,
    "start_time": "2024-03-08T12:04:09.531Z"
   },
   {
    "duration": 666,
    "start_time": "2024-03-08T12:04:36.124Z"
   },
   {
    "duration": 1411,
    "start_time": "2024-03-08T12:05:16.829Z"
   },
   {
    "duration": 1537,
    "start_time": "2024-03-08T12:05:33.621Z"
   },
   {
    "duration": 1655,
    "start_time": "2024-03-08T12:05:44.068Z"
   },
   {
    "duration": 1470,
    "start_time": "2024-03-08T12:05:53.980Z"
   },
   {
    "duration": 1367,
    "start_time": "2024-03-08T12:06:02.837Z"
   },
   {
    "duration": 1489,
    "start_time": "2024-03-08T12:06:50.299Z"
   },
   {
    "duration": 1514,
    "start_time": "2024-03-08T12:07:00.452Z"
   },
   {
    "duration": 1371,
    "start_time": "2024-03-08T12:07:11.797Z"
   },
   {
    "duration": 1506,
    "start_time": "2024-03-08T12:07:23.877Z"
   },
   {
    "duration": 1423,
    "start_time": "2024-03-08T12:07:40.069Z"
   },
   {
    "duration": 611,
    "start_time": "2024-03-08T12:07:51.565Z"
   },
   {
    "duration": 1470,
    "start_time": "2024-03-08T12:07:57.508Z"
   },
   {
    "duration": 1502,
    "start_time": "2024-03-08T12:08:13.965Z"
   },
   {
    "duration": 551,
    "start_time": "2024-03-08T12:08:19.517Z"
   },
   {
    "duration": 1367,
    "start_time": "2024-03-08T12:08:25.053Z"
   },
   {
    "duration": 1488,
    "start_time": "2024-03-08T12:08:37.002Z"
   },
   {
    "duration": 1386,
    "start_time": "2024-03-08T12:11:17.716Z"
   },
   {
    "duration": 1491,
    "start_time": "2024-03-08T12:11:28.366Z"
   },
   {
    "duration": 1558,
    "start_time": "2024-03-08T12:11:37.373Z"
   },
   {
    "duration": 1410,
    "start_time": "2024-03-08T12:11:46.885Z"
   },
   {
    "duration": 1474,
    "start_time": "2024-03-08T12:12:02.942Z"
   },
   {
    "duration": 1553,
    "start_time": "2024-03-08T12:12:06.293Z"
   },
   {
    "duration": 1515,
    "start_time": "2024-03-08T12:12:09.877Z"
   },
   {
    "duration": 1470,
    "start_time": "2024-03-08T12:12:13.935Z"
   },
   {
    "duration": 1584,
    "start_time": "2024-03-08T12:12:17.757Z"
   },
   {
    "duration": 1693,
    "start_time": "2024-03-08T12:12:34.446Z"
   },
   {
    "duration": 1626,
    "start_time": "2024-03-08T12:12:42.989Z"
   },
   {
    "duration": 1497,
    "start_time": "2024-03-08T12:12:50.269Z"
   },
   {
    "duration": 1534,
    "start_time": "2024-03-08T12:12:52.789Z"
   },
   {
    "duration": 1491,
    "start_time": "2024-03-08T12:13:00.032Z"
   },
   {
    "duration": 1489,
    "start_time": "2024-03-08T12:13:05.653Z"
   },
   {
    "duration": 1346,
    "start_time": "2024-03-08T12:13:10.500Z"
   },
   {
    "duration": 1535,
    "start_time": "2024-03-08T12:13:16.782Z"
   },
   {
    "duration": 1540,
    "start_time": "2024-03-08T12:13:24.109Z"
   },
   {
    "duration": 1623,
    "start_time": "2024-03-08T12:14:42.942Z"
   },
   {
    "duration": 83,
    "start_time": "2024-03-08T12:14:51.901Z"
   },
   {
    "duration": 1553,
    "start_time": "2024-03-08T12:14:53.702Z"
   },
   {
    "duration": 892,
    "start_time": "2024-03-08T12:15:30.679Z"
   },
   {
    "duration": 897,
    "start_time": "2024-03-08T12:15:52.054Z"
   },
   {
    "duration": 883,
    "start_time": "2024-03-08T12:15:57.205Z"
   },
   {
    "duration": 1089,
    "start_time": "2024-03-08T12:16:01.726Z"
   },
   {
    "duration": 1048,
    "start_time": "2024-03-08T12:16:08.318Z"
   },
   {
    "duration": 1075,
    "start_time": "2024-03-08T12:16:11.030Z"
   },
   {
    "duration": 1261,
    "start_time": "2024-03-08T12:16:13.557Z"
   },
   {
    "duration": 1115,
    "start_time": "2024-03-08T12:16:18.726Z"
   },
   {
    "duration": 1064,
    "start_time": "2024-03-08T12:16:25.590Z"
   },
   {
    "duration": 1113,
    "start_time": "2024-03-08T12:16:28.270Z"
   },
   {
    "duration": 991,
    "start_time": "2024-03-08T12:16:32.326Z"
   },
   {
    "duration": 5,
    "start_time": "2024-03-08T12:16:46.959Z"
   },
   {
    "duration": 1001,
    "start_time": "2024-03-08T12:16:50.310Z"
   },
   {
    "duration": 72,
    "start_time": "2024-03-08T12:20:52.001Z"
   },
   {
    "duration": 1105,
    "start_time": "2024-03-08T12:20:56.007Z"
   },
   {
    "duration": 1012,
    "start_time": "2024-03-08T12:21:03.077Z"
   },
   {
    "duration": 1010,
    "start_time": "2024-03-08T12:21:06.769Z"
   },
   {
    "duration": 1095,
    "start_time": "2024-03-08T12:21:09.942Z"
   },
   {
    "duration": 981,
    "start_time": "2024-03-08T12:21:12.061Z"
   },
   {
    "duration": 962,
    "start_time": "2024-03-08T12:21:14.741Z"
   },
   {
    "duration": 1080,
    "start_time": "2024-03-08T12:21:17.430Z"
   },
   {
    "duration": 995,
    "start_time": "2024-03-08T12:21:21.455Z"
   },
   {
    "duration": 1389,
    "start_time": "2024-03-08T12:21:28.836Z"
   },
   {
    "duration": 6,
    "start_time": "2024-03-08T12:21:30.227Z"
   },
   {
    "duration": 48,
    "start_time": "2024-03-08T12:21:30.234Z"
   },
   {
    "duration": 95,
    "start_time": "2024-03-08T12:21:30.284Z"
   },
   {
    "duration": 67,
    "start_time": "2024-03-08T12:21:30.380Z"
   },
   {
    "duration": 84,
    "start_time": "2024-03-08T12:21:30.448Z"
   },
   {
    "duration": 63,
    "start_time": "2024-03-08T12:21:30.533Z"
   },
   {
    "duration": 812,
    "start_time": "2024-03-08T12:21:30.597Z"
   },
   {
    "duration": 1064,
    "start_time": "2024-03-08T12:21:32.213Z"
   },
   {
    "duration": 995,
    "start_time": "2024-03-08T12:21:43.039Z"
   },
   {
    "duration": 1184,
    "start_time": "2024-03-08T12:21:47.974Z"
   },
   {
    "duration": 991,
    "start_time": "2024-03-08T12:21:54.574Z"
   },
   {
    "duration": 1014,
    "start_time": "2024-03-08T12:22:00.814Z"
   },
   {
    "duration": 1044,
    "start_time": "2024-03-08T12:22:07.166Z"
   },
   {
    "duration": 965,
    "start_time": "2024-03-08T12:22:11.038Z"
   },
   {
    "duration": 916,
    "start_time": "2024-03-08T12:22:14.942Z"
   },
   {
    "duration": 1430,
    "start_time": "2024-03-08T12:22:30.592Z"
   },
   {
    "duration": 5,
    "start_time": "2024-03-08T12:22:32.024Z"
   },
   {
    "duration": 58,
    "start_time": "2024-03-08T12:22:32.031Z"
   },
   {
    "duration": 24,
    "start_time": "2024-03-08T12:22:32.091Z"
   },
   {
    "duration": 15,
    "start_time": "2024-03-08T12:22:32.117Z"
   },
   {
    "duration": 21,
    "start_time": "2024-03-08T12:22:32.133Z"
   },
   {
    "duration": 30,
    "start_time": "2024-03-08T12:22:32.155Z"
   },
   {
    "duration": 726,
    "start_time": "2024-03-08T12:22:32.186Z"
   },
   {
    "duration": 965,
    "start_time": "2024-03-08T12:22:32.914Z"
   },
   {
    "duration": 3,
    "start_time": "2024-03-08T12:22:33.881Z"
   },
   {
    "duration": 12,
    "start_time": "2024-03-08T12:22:33.886Z"
   },
   {
    "duration": 24,
    "start_time": "2024-03-08T12:22:33.901Z"
   },
   {
    "duration": 4,
    "start_time": "2024-03-08T12:22:33.926Z"
   },
   {
    "duration": 10,
    "start_time": "2024-03-08T12:22:33.931Z"
   },
   {
    "duration": 8,
    "start_time": "2024-03-08T12:22:33.942Z"
   },
   {
    "duration": 1616,
    "start_time": "2024-03-08T12:22:34.261Z"
   },
   {
    "duration": 1492,
    "start_time": "2024-03-08T12:22:43.735Z"
   },
   {
    "duration": 1621,
    "start_time": "2024-03-08T12:22:47.439Z"
   },
   {
    "duration": 1553,
    "start_time": "2024-03-08T12:22:52.094Z"
   },
   {
    "duration": 1645,
    "start_time": "2024-03-08T12:22:55.967Z"
   },
   {
    "duration": 1571,
    "start_time": "2024-03-08T12:23:12.087Z"
   },
   {
    "duration": 1641,
    "start_time": "2024-03-08T12:23:33.135Z"
   },
   {
    "duration": 1673,
    "start_time": "2024-03-08T12:23:40.350Z"
   },
   {
    "duration": 1902,
    "start_time": "2024-03-08T12:23:44.631Z"
   },
   {
    "duration": 1672,
    "start_time": "2024-03-08T12:23:51.679Z"
   },
   {
    "duration": 721,
    "start_time": "2024-03-08T12:28:07.904Z"
   },
   {
    "duration": 601,
    "start_time": "2024-03-08T12:29:12.224Z"
   },
   {
    "duration": 1430,
    "start_time": "2024-03-08T12:29:27.987Z"
   },
   {
    "duration": 6,
    "start_time": "2024-03-08T12:29:29.418Z"
   },
   {
    "duration": 31,
    "start_time": "2024-03-08T12:29:29.425Z"
   },
   {
    "duration": 13,
    "start_time": "2024-03-08T12:29:29.457Z"
   },
   {
    "duration": 8,
    "start_time": "2024-03-08T12:29:29.472Z"
   },
   {
    "duration": 7,
    "start_time": "2024-03-08T12:29:29.481Z"
   },
   {
    "duration": 17,
    "start_time": "2024-03-08T12:29:29.489Z"
   },
   {
    "duration": 746,
    "start_time": "2024-03-08T12:29:29.507Z"
   },
   {
    "duration": 996,
    "start_time": "2024-03-08T12:29:30.255Z"
   },
   {
    "duration": 3,
    "start_time": "2024-03-08T12:29:46.233Z"
   },
   {
    "duration": 3,
    "start_time": "2024-03-08T12:29:46.760Z"
   },
   {
    "duration": 6,
    "start_time": "2024-03-08T12:29:47.254Z"
   },
   {
    "duration": 4,
    "start_time": "2024-03-08T12:29:47.568Z"
   },
   {
    "duration": 3,
    "start_time": "2024-03-08T12:29:47.993Z"
   },
   {
    "duration": 4,
    "start_time": "2024-03-08T12:29:48.351Z"
   },
   {
    "duration": 1669,
    "start_time": "2024-03-08T12:29:49.449Z"
   },
   {
    "duration": 1375,
    "start_time": "2024-03-08T12:33:12.741Z"
   },
   {
    "duration": 5,
    "start_time": "2024-03-08T12:33:14.117Z"
   },
   {
    "duration": 29,
    "start_time": "2024-03-08T12:33:15.342Z"
   },
   {
    "duration": 15,
    "start_time": "2024-03-08T12:33:16.159Z"
   },
   {
    "duration": 13,
    "start_time": "2024-03-08T12:33:19.230Z"
   },
   {
    "duration": 5,
    "start_time": "2024-03-08T12:33:21.008Z"
   },
   {
    "duration": 21,
    "start_time": "2024-03-08T12:33:22.759Z"
   },
   {
    "duration": 1401,
    "start_time": "2024-03-08T12:35:55.145Z"
   },
   {
    "duration": 5,
    "start_time": "2024-03-08T12:35:58.024Z"
   },
   {
    "duration": 5,
    "start_time": "2024-03-08T12:36:08.554Z"
   },
   {
    "duration": 137,
    "start_time": "2024-03-08T12:36:16.267Z"
   },
   {
    "duration": 19,
    "start_time": "2024-03-08T12:36:20.209Z"
   },
   {
    "duration": 11,
    "start_time": "2024-03-08T12:36:23.666Z"
   },
   {
    "duration": 5,
    "start_time": "2024-03-08T12:36:25.490Z"
   },
   {
    "duration": 17,
    "start_time": "2024-03-08T12:36:31.339Z"
   },
   {
    "duration": 807,
    "start_time": "2024-03-08T12:36:33.914Z"
   },
   {
    "duration": 124,
    "start_time": "2024-03-08T12:36:46.772Z"
   },
   {
    "duration": 663,
    "start_time": "2024-03-08T12:36:53.843Z"
   },
   {
    "duration": 700,
    "start_time": "2024-03-08T12:37:09.723Z"
   },
   {
    "duration": 674,
    "start_time": "2024-03-08T12:37:15.323Z"
   },
   {
    "duration": 694,
    "start_time": "2024-03-08T12:37:18.914Z"
   },
   {
    "duration": 638,
    "start_time": "2024-03-08T12:37:35.970Z"
   },
   {
    "duration": 957,
    "start_time": "2024-03-08T12:37:52.409Z"
   },
   {
    "duration": 5481,
    "start_time": "2024-03-08T12:38:41.802Z"
   },
   {
    "duration": 4066,
    "start_time": "2024-03-08T12:38:48.706Z"
   },
   {
    "duration": 984,
    "start_time": "2024-03-08T12:38:57.778Z"
   },
   {
    "duration": 1636,
    "start_time": "2024-03-08T12:39:41.842Z"
   },
   {
    "duration": 1634,
    "start_time": "2024-03-08T12:39:49.578Z"
   },
   {
    "duration": 1157,
    "start_time": "2024-03-08T12:40:00.929Z"
   },
   {
    "duration": 3,
    "start_time": "2024-03-08T12:40:16.881Z"
   },
   {
    "duration": 3,
    "start_time": "2024-03-08T12:40:17.441Z"
   },
   {
    "duration": 6,
    "start_time": "2024-03-08T12:40:18.041Z"
   },
   {
    "duration": 4,
    "start_time": "2024-03-08T12:40:18.446Z"
   },
   {
    "duration": 3,
    "start_time": "2024-03-08T12:40:18.601Z"
   },
   {
    "duration": 3,
    "start_time": "2024-03-08T12:40:18.778Z"
   },
   {
    "duration": 1474,
    "start_time": "2024-03-08T12:40:20.695Z"
   },
   {
    "duration": 4190,
    "start_time": "2024-03-08T12:40:39.138Z"
   },
   {
    "duration": 601,
    "start_time": "2024-03-08T12:40:46.122Z"
   },
   {
    "duration": 595,
    "start_time": "2024-03-08T12:40:54.016Z"
   },
   {
    "duration": 1430,
    "start_time": "2024-03-08T12:40:59.210Z"
   },
   {
    "duration": 6,
    "start_time": "2024-03-08T12:41:00.642Z"
   },
   {
    "duration": 86,
    "start_time": "2024-03-08T12:41:00.649Z"
   },
   {
    "duration": 15,
    "start_time": "2024-03-08T12:41:00.736Z"
   },
   {
    "duration": 22,
    "start_time": "2024-03-08T12:41:00.752Z"
   },
   {
    "duration": 53,
    "start_time": "2024-03-08T12:41:00.775Z"
   },
   {
    "duration": 40,
    "start_time": "2024-03-08T12:41:00.829Z"
   },
   {
    "duration": 837,
    "start_time": "2024-03-08T12:41:00.871Z"
   },
   {
    "duration": 972,
    "start_time": "2024-03-08T12:41:01.709Z"
   },
   {
    "duration": 3,
    "start_time": "2024-03-08T12:41:06.704Z"
   },
   {
    "duration": 3,
    "start_time": "2024-03-08T12:41:06.968Z"
   },
   {
    "duration": 6,
    "start_time": "2024-03-08T12:41:07.263Z"
   },
   {
    "duration": 4,
    "start_time": "2024-03-08T12:41:07.592Z"
   },
   {
    "duration": 3,
    "start_time": "2024-03-08T12:41:07.776Z"
   },
   {
    "duration": 3,
    "start_time": "2024-03-08T12:41:08.074Z"
   },
   {
    "duration": 1548,
    "start_time": "2024-03-08T12:41:10.767Z"
   },
   {
    "duration": 1579,
    "start_time": "2024-03-08T12:41:23.362Z"
   },
   {
    "duration": 8,
    "start_time": "2024-03-08T12:41:54.760Z"
   },
   {
    "duration": 1419,
    "start_time": "2024-03-08T12:42:05.187Z"
   },
   {
    "duration": 6,
    "start_time": "2024-03-08T12:42:06.607Z"
   },
   {
    "duration": 59,
    "start_time": "2024-03-08T12:42:06.614Z"
   },
   {
    "duration": 15,
    "start_time": "2024-03-08T12:42:06.674Z"
   },
   {
    "duration": 31,
    "start_time": "2024-03-08T12:42:06.690Z"
   },
   {
    "duration": 6,
    "start_time": "2024-03-08T12:42:06.722Z"
   },
   {
    "duration": 19,
    "start_time": "2024-03-08T12:42:06.729Z"
   },
   {
    "duration": 745,
    "start_time": "2024-03-08T12:42:06.749Z"
   },
   {
    "duration": 971,
    "start_time": "2024-03-08T12:42:07.501Z"
   },
   {
    "duration": 4,
    "start_time": "2024-03-08T12:42:12.770Z"
   },
   {
    "duration": 12,
    "start_time": "2024-03-08T12:42:18.032Z"
   },
   {
    "duration": 3,
    "start_time": "2024-03-08T12:42:23.440Z"
   },
   {
    "duration": 3,
    "start_time": "2024-03-08T12:42:28.640Z"
   },
   {
    "duration": 12,
    "start_time": "2024-03-08T12:42:31.001Z"
   },
   {
    "duration": 6,
    "start_time": "2024-03-08T12:42:34.265Z"
   },
   {
    "duration": 5,
    "start_time": "2024-03-08T12:42:35.528Z"
   },
   {
    "duration": 4,
    "start_time": "2024-03-08T12:42:50.095Z"
   },
   {
    "duration": 4,
    "start_time": "2024-03-08T12:42:50.440Z"
   },
   {
    "duration": 4,
    "start_time": "2024-03-08T12:44:00.744Z"
   },
   {
    "duration": 6,
    "start_time": "2024-03-08T12:44:02.031Z"
   },
   {
    "duration": 1443,
    "start_time": "2024-03-08T12:44:14.414Z"
   },
   {
    "duration": 1475,
    "start_time": "2024-03-08T12:44:37.570Z"
   },
   {
    "duration": 1615,
    "start_time": "2024-03-08T12:45:00.177Z"
   },
   {
    "duration": 1469,
    "start_time": "2024-03-08T12:45:23.065Z"
   },
   {
    "duration": 1570,
    "start_time": "2024-03-08T12:45:34.087Z"
   },
   {
    "duration": 1457,
    "start_time": "2024-03-08T12:45:46.047Z"
   },
   {
    "duration": 1529,
    "start_time": "2024-03-08T12:45:51.232Z"
   },
   {
    "duration": 1570,
    "start_time": "2024-03-08T12:45:59.161Z"
   },
   {
    "duration": 1488,
    "start_time": "2024-03-08T12:46:10.131Z"
   },
   {
    "duration": 1531,
    "start_time": "2024-03-08T12:46:21.616Z"
   },
   {
    "duration": 1466,
    "start_time": "2024-03-08T12:46:28.215Z"
   },
   {
    "duration": 1598,
    "start_time": "2024-03-08T12:46:40.336Z"
   },
   {
    "duration": 1469,
    "start_time": "2024-03-08T12:46:56.455Z"
   },
   {
    "duration": 1546,
    "start_time": "2024-03-08T12:46:58.817Z"
   },
   {
    "duration": 1582,
    "start_time": "2024-03-08T12:47:09.609Z"
   },
   {
    "duration": 1465,
    "start_time": "2024-03-08T12:47:18.248Z"
   },
   {
    "duration": 1554,
    "start_time": "2024-03-08T12:47:31.423Z"
   },
   {
    "duration": 1477,
    "start_time": "2024-03-08T12:47:46.386Z"
   },
   {
    "duration": 1616,
    "start_time": "2024-03-08T12:47:53.767Z"
   },
   {
    "duration": 1535,
    "start_time": "2024-03-08T12:47:59.991Z"
   },
   {
    "duration": 1576,
    "start_time": "2024-03-08T12:48:08.169Z"
   },
   {
    "duration": 1558,
    "start_time": "2024-03-08T12:48:11.383Z"
   },
   {
    "duration": 1422,
    "start_time": "2024-03-08T12:48:36.328Z"
   },
   {
    "duration": 1636,
    "start_time": "2024-03-08T12:49:18.740Z"
   },
   {
    "duration": 1579,
    "start_time": "2024-03-08T12:50:46.367Z"
   },
   {
    "duration": 709,
    "start_time": "2024-03-08T12:50:53.088Z"
   },
   {
    "duration": 1512,
    "start_time": "2024-03-08T12:51:39.834Z"
   },
   {
    "duration": 1572,
    "start_time": "2024-03-08T12:51:54.830Z"
   },
   {
    "duration": 1448,
    "start_time": "2024-03-08T12:52:02.896Z"
   },
   {
    "duration": 247,
    "start_time": "2024-03-08T12:57:35.222Z"
   },
   {
    "duration": 249,
    "start_time": "2024-03-08T12:57:45.121Z"
   },
   {
    "duration": 113,
    "start_time": "2024-03-08T12:57:53.263Z"
   },
   {
    "duration": 401,
    "start_time": "2024-03-08T12:57:55.286Z"
   },
   {
    "duration": 276,
    "start_time": "2024-03-08T12:58:00.648Z"
   },
   {
    "duration": 401,
    "start_time": "2024-03-08T12:58:04.126Z"
   },
   {
    "duration": 264,
    "start_time": "2024-03-08T12:58:08.368Z"
   },
   {
    "duration": 250,
    "start_time": "2024-03-08T12:58:10.231Z"
   },
   {
    "duration": 11,
    "start_time": "2024-03-08T13:01:06.998Z"
   },
   {
    "duration": 494,
    "start_time": "2024-03-08T13:01:20.088Z"
   },
   {
    "duration": 9,
    "start_time": "2024-03-08T13:01:36.040Z"
   },
   {
    "duration": 1452,
    "start_time": "2024-03-08T13:01:44.597Z"
   },
   {
    "duration": 4,
    "start_time": "2024-03-08T13:01:46.662Z"
   },
   {
    "duration": 237,
    "start_time": "2024-03-08T13:01:51.351Z"
   },
   {
    "duration": 284,
    "start_time": "2024-03-08T13:01:53.767Z"
   },
   {
    "duration": 294,
    "start_time": "2024-03-08T13:02:02.071Z"
   },
   {
    "duration": 286,
    "start_time": "2024-03-08T13:02:11.335Z"
   },
   {
    "duration": 97,
    "start_time": "2024-03-08T13:02:16.528Z"
   },
   {
    "duration": 266,
    "start_time": "2024-03-08T13:02:19.151Z"
   },
   {
    "duration": 260,
    "start_time": "2024-03-08T13:02:28.864Z"
   },
   {
    "duration": 262,
    "start_time": "2024-03-08T13:02:55.118Z"
   },
   {
    "duration": 27,
    "start_time": "2024-03-08T13:03:44.672Z"
   },
   {
    "duration": 524,
    "start_time": "2024-03-08T13:04:02.448Z"
   },
   {
    "duration": 359,
    "start_time": "2024-03-08T13:04:13.123Z"
   },
   {
    "duration": 360,
    "start_time": "2024-03-08T13:04:17.143Z"
   },
   {
    "duration": 422,
    "start_time": "2024-03-08T13:05:15.999Z"
   },
   {
    "duration": 366,
    "start_time": "2024-03-08T13:05:24.104Z"
   },
   {
    "duration": 397,
    "start_time": "2024-03-08T13:05:27.128Z"
   },
   {
    "duration": 385,
    "start_time": "2024-03-08T13:05:30.976Z"
   },
   {
    "duration": 369,
    "start_time": "2024-03-08T13:05:34.215Z"
   },
   {
    "duration": 419,
    "start_time": "2024-03-08T13:05:36.784Z"
   },
   {
    "duration": 378,
    "start_time": "2024-03-08T13:05:40.479Z"
   },
   {
    "duration": 365,
    "start_time": "2024-03-08T13:05:44.151Z"
   },
   {
    "duration": 368,
    "start_time": "2024-03-08T13:05:53.593Z"
   },
   {
    "duration": 994,
    "start_time": "2024-03-08T13:06:12.337Z"
   },
   {
    "duration": 901,
    "start_time": "2024-03-08T13:06:15.819Z"
   },
   {
    "duration": 12,
    "start_time": "2024-03-08T13:07:14.572Z"
   },
   {
    "duration": 13,
    "start_time": "2024-03-08T13:07:32.779Z"
   },
   {
    "duration": 5,
    "start_time": "2024-03-08T13:08:15.301Z"
   },
   {
    "duration": 925,
    "start_time": "2024-03-08T13:08:21.364Z"
   },
   {
    "duration": 5,
    "start_time": "2024-03-08T13:08:41.269Z"
   },
   {
    "duration": 1063,
    "start_time": "2024-03-08T13:08:44.517Z"
   },
   {
    "duration": 5,
    "start_time": "2024-03-08T13:12:09.978Z"
   },
   {
    "duration": 904,
    "start_time": "2024-03-08T13:12:13.023Z"
   },
   {
    "duration": 6,
    "start_time": "2024-03-08T13:12:47.682Z"
   },
   {
    "duration": 908,
    "start_time": "2024-03-08T13:12:51.089Z"
   },
   {
    "duration": 647,
    "start_time": "2024-03-08T13:14:34.585Z"
   },
   {
    "duration": 1389,
    "start_time": "2024-03-08T13:14:47.848Z"
   },
   {
    "duration": 5,
    "start_time": "2024-03-08T13:14:49.238Z"
   },
   {
    "duration": 41,
    "start_time": "2024-03-08T13:14:49.244Z"
   },
   {
    "duration": 15,
    "start_time": "2024-03-08T13:14:49.492Z"
   },
   {
    "duration": 12,
    "start_time": "2024-03-08T13:14:49.914Z"
   },
   {
    "duration": 6,
    "start_time": "2024-03-08T13:14:50.242Z"
   },
   {
    "duration": 17,
    "start_time": "2024-03-08T13:14:50.650Z"
   },
   {
    "duration": 858,
    "start_time": "2024-03-08T13:14:51.282Z"
   },
   {
    "duration": 717,
    "start_time": "2024-03-08T13:14:52.402Z"
   },
   {
    "duration": 1009,
    "start_time": "2024-03-08T13:14:59.795Z"
   },
   {
    "duration": 991,
    "start_time": "2024-03-08T13:15:05.387Z"
   },
   {
    "duration": 1062,
    "start_time": "2024-03-08T13:15:10.074Z"
   },
   {
    "duration": 951,
    "start_time": "2024-03-08T13:15:16.300Z"
   },
   {
    "duration": 3,
    "start_time": "2024-03-08T13:15:17.339Z"
   },
   {
    "duration": 4,
    "start_time": "2024-03-08T13:15:17.836Z"
   },
   {
    "duration": 5,
    "start_time": "2024-03-08T13:15:18.260Z"
   },
   {
    "duration": 4,
    "start_time": "2024-03-08T13:15:18.418Z"
   },
   {
    "duration": 1637,
    "start_time": "2024-03-08T13:15:19.202Z"
   },
   {
    "duration": 14,
    "start_time": "2024-03-08T13:16:30.677Z"
   },
   {
    "duration": 5,
    "start_time": "2024-03-08T13:16:49.694Z"
   },
   {
    "duration": 908,
    "start_time": "2024-03-08T13:16:53.291Z"
   },
   {
    "duration": 5,
    "start_time": "2024-03-08T13:18:01.302Z"
   },
   {
    "duration": 906,
    "start_time": "2024-03-08T13:18:04.508Z"
   },
   {
    "duration": 6,
    "start_time": "2024-03-08T13:18:11.924Z"
   },
   {
    "duration": 1159,
    "start_time": "2024-03-08T13:18:15.398Z"
   },
   {
    "duration": 15,
    "start_time": "2024-03-08T13:24:11.201Z"
   },
   {
    "duration": 5,
    "start_time": "2024-03-08T13:24:19.002Z"
   },
   {
    "duration": 5,
    "start_time": "2024-03-08T13:25:58.266Z"
   },
   {
    "duration": 1010,
    "start_time": "2024-03-08T13:26:02.802Z"
   },
   {
    "duration": 5,
    "start_time": "2024-03-08T13:26:10.217Z"
   },
   {
    "duration": 971,
    "start_time": "2024-03-08T13:26:13.449Z"
   },
   {
    "duration": 13,
    "start_time": "2024-03-08T13:27:02.282Z"
   },
   {
    "duration": 14,
    "start_time": "2024-03-08T13:27:12.164Z"
   },
   {
    "duration": 14,
    "start_time": "2024-03-08T13:27:14.586Z"
   },
   {
    "duration": 5,
    "start_time": "2024-03-08T13:27:17.599Z"
   },
   {
    "duration": 1148,
    "start_time": "2024-03-08T13:27:21.569Z"
   },
   {
    "duration": 1498,
    "start_time": "2024-03-08T13:27:28.343Z"
   },
   {
    "duration": 5,
    "start_time": "2024-03-08T13:27:29.843Z"
   },
   {
    "duration": 52,
    "start_time": "2024-03-08T13:27:29.849Z"
   },
   {
    "duration": 17,
    "start_time": "2024-03-08T13:27:30.113Z"
   },
   {
    "duration": 12,
    "start_time": "2024-03-08T13:27:30.409Z"
   },
   {
    "duration": 5,
    "start_time": "2024-03-08T13:27:30.858Z"
   },
   {
    "duration": 17,
    "start_time": "2024-03-08T13:27:31.419Z"
   },
   {
    "duration": 764,
    "start_time": "2024-03-08T13:27:31.938Z"
   },
   {
    "duration": 943,
    "start_time": "2024-03-08T13:27:33.354Z"
   },
   {
    "duration": 3,
    "start_time": "2024-03-08T13:27:35.512Z"
   },
   {
    "duration": 3,
    "start_time": "2024-03-08T13:27:35.945Z"
   },
   {
    "duration": 4,
    "start_time": "2024-03-08T13:27:36.377Z"
   },
   {
    "duration": 4,
    "start_time": "2024-03-08T13:27:36.729Z"
   },
   {
    "duration": 1489,
    "start_time": "2024-03-08T13:27:37.866Z"
   },
   {
    "duration": 418,
    "start_time": "2024-03-08T13:27:39.356Z"
   },
   {
    "duration": 345,
    "start_time": "2024-03-08T13:27:46.328Z"
   },
   {
    "duration": 394,
    "start_time": "2024-03-08T13:28:28.985Z"
   },
   {
    "duration": 82,
    "start_time": "2024-03-08T13:28:43.394Z"
   },
   {
    "duration": 345,
    "start_time": "2024-03-08T13:28:45.729Z"
   },
   {
    "duration": 331,
    "start_time": "2024-03-08T13:28:47.346Z"
   },
   {
    "duration": 382,
    "start_time": "2024-03-08T13:28:49.171Z"
   },
   {
    "duration": 1758,
    "start_time": "2024-03-08T13:33:07.725Z"
   },
   {
    "duration": 1486,
    "start_time": "2024-03-08T13:33:13.940Z"
   },
   {
    "duration": 1640,
    "start_time": "2024-03-08T13:33:29.764Z"
   },
   {
    "duration": 376,
    "start_time": "2024-03-08T13:39:09.845Z"
   },
   {
    "duration": 3,
    "start_time": "2024-03-08T13:50:22.179Z"
   },
   {
    "duration": 3,
    "start_time": "2024-03-08T13:51:40.733Z"
   },
   {
    "duration": 3,
    "start_time": "2024-03-08T13:52:07.699Z"
   },
   {
    "duration": 3,
    "start_time": "2024-03-08T13:52:12.028Z"
   },
   {
    "duration": 129,
    "start_time": "2024-03-08T13:53:17.733Z"
   },
   {
    "duration": 4,
    "start_time": "2024-03-08T13:53:30.325Z"
   },
   {
    "duration": 22,
    "start_time": "2024-03-08T13:53:31.877Z"
   },
   {
    "duration": 24,
    "start_time": "2024-03-08T13:54:18.717Z"
   },
   {
    "duration": 3,
    "start_time": "2024-03-08T13:54:20.704Z"
   },
   {
    "duration": 24,
    "start_time": "2024-03-08T13:54:20.843Z"
   },
   {
    "duration": 21,
    "start_time": "2024-03-08T13:54:31.589Z"
   },
   {
    "duration": 21,
    "start_time": "2024-03-08T13:54:47.524Z"
   },
   {
    "duration": 5,
    "start_time": "2024-03-08T13:54:55.621Z"
   },
   {
    "duration": 68,
    "start_time": "2024-03-08T13:56:06.580Z"
   },
   {
    "duration": 5,
    "start_time": "2024-03-08T13:56:10.787Z"
   },
   {
    "duration": 4,
    "start_time": "2024-03-08T13:56:30.581Z"
   },
   {
    "duration": 5,
    "start_time": "2024-03-08T13:56:46.813Z"
   },
   {
    "duration": 5,
    "start_time": "2024-03-08T13:57:54.349Z"
   },
   {
    "duration": 5,
    "start_time": "2024-03-08T13:58:00.516Z"
   },
   {
    "duration": 17,
    "start_time": "2024-03-08T13:58:09.268Z"
   },
   {
    "duration": 11,
    "start_time": "2024-03-08T13:58:21.614Z"
   },
   {
    "duration": 22,
    "start_time": "2024-03-08T13:58:41.062Z"
   },
   {
    "duration": 11,
    "start_time": "2024-03-08T13:58:48.086Z"
   },
   {
    "duration": 11,
    "start_time": "2024-03-08T13:58:52.999Z"
   },
   {
    "duration": 10,
    "start_time": "2024-03-08T13:58:56.620Z"
   },
   {
    "duration": 10,
    "start_time": "2024-03-08T13:59:01.836Z"
   },
   {
    "duration": 10,
    "start_time": "2024-03-08T13:59:06.293Z"
   },
   {
    "duration": 11,
    "start_time": "2024-03-08T13:59:10.734Z"
   },
   {
    "duration": 11,
    "start_time": "2024-03-08T13:59:25.581Z"
   },
   {
    "duration": 10,
    "start_time": "2024-03-08T13:59:34.061Z"
   },
   {
    "duration": 8,
    "start_time": "2024-03-08T13:59:36.373Z"
   },
   {
    "duration": 9,
    "start_time": "2024-03-08T14:00:06.598Z"
   },
   {
    "duration": 10,
    "start_time": "2024-03-08T14:00:10.093Z"
   },
   {
    "duration": 8,
    "start_time": "2024-03-08T14:00:18.621Z"
   },
   {
    "duration": 8,
    "start_time": "2024-03-08T14:00:27.371Z"
   },
   {
    "duration": 4,
    "start_time": "2024-03-08T14:13:58.697Z"
   },
   {
    "duration": 3,
    "start_time": "2024-03-08T14:16:23.950Z"
   },
   {
    "duration": 3,
    "start_time": "2024-03-08T14:16:31.502Z"
   },
   {
    "duration": 11,
    "start_time": "2024-03-08T14:16:36.942Z"
   },
   {
    "duration": 16,
    "start_time": "2024-03-08T14:16:43.765Z"
   },
   {
    "duration": 3,
    "start_time": "2024-03-08T14:24:10.883Z"
   },
   {
    "duration": 14,
    "start_time": "2024-03-08T14:24:14.123Z"
   },
   {
    "duration": 13,
    "start_time": "2024-03-08T14:25:48.524Z"
   },
   {
    "duration": 13,
    "start_time": "2024-03-08T14:26:08.156Z"
   },
   {
    "duration": 3,
    "start_time": "2024-03-08T14:26:41.473Z"
   },
   {
    "duration": 5,
    "start_time": "2024-03-08T14:26:57.291Z"
   },
   {
    "duration": 12,
    "start_time": "2024-03-08T14:27:13.762Z"
   },
   {
    "duration": 5,
    "start_time": "2024-03-08T14:27:25.435Z"
   },
   {
    "duration": 11,
    "start_time": "2024-03-08T14:27:26.458Z"
   },
   {
    "duration": 11,
    "start_time": "2024-03-08T14:28:06.910Z"
   },
   {
    "duration": 23,
    "start_time": "2024-03-08T14:28:40.756Z"
   },
   {
    "duration": 5,
    "start_time": "2024-03-08T14:29:13.372Z"
   },
   {
    "duration": 22,
    "start_time": "2024-03-08T14:29:18.249Z"
   },
   {
    "duration": 1163,
    "start_time": "2024-03-08T14:29:46.418Z"
   },
   {
    "duration": 22,
    "start_time": "2024-03-08T14:30:55.028Z"
   },
   {
    "duration": 23,
    "start_time": "2024-03-08T14:30:59.203Z"
   },
   {
    "duration": 33,
    "start_time": "2024-03-08T14:30:59.331Z"
   },
   {
    "duration": 15,
    "start_time": "2024-03-08T14:31:10.811Z"
   },
   {
    "duration": 20,
    "start_time": "2024-03-08T14:31:21.627Z"
   },
   {
    "duration": 1086,
    "start_time": "2024-03-08T14:32:45.403Z"
   },
   {
    "duration": 5,
    "start_time": "2024-03-08T14:32:50.530Z"
   },
   {
    "duration": 13,
    "start_time": "2024-03-08T14:33:00.163Z"
   },
   {
    "duration": 13,
    "start_time": "2024-03-08T14:33:03.154Z"
   },
   {
    "duration": 15,
    "start_time": "2024-03-08T14:33:10.219Z"
   },
   {
    "duration": 13,
    "start_time": "2024-03-08T14:33:14.435Z"
   },
   {
    "duration": 5,
    "start_time": "2024-03-08T14:33:16.883Z"
   },
   {
    "duration": 23,
    "start_time": "2024-03-08T14:33:20.100Z"
   },
   {
    "duration": 20,
    "start_time": "2024-03-08T14:33:23.170Z"
   },
   {
    "duration": 13,
    "start_time": "2024-03-08T14:33:25.649Z"
   },
   {
    "duration": 8,
    "start_time": "2024-03-08T14:33:32.851Z"
   },
   {
    "duration": 12,
    "start_time": "2024-03-08T14:33:37.668Z"
   },
   {
    "duration": 11,
    "start_time": "2024-03-08T14:33:57.122Z"
   },
   {
    "duration": 3,
    "start_time": "2024-03-08T14:36:11.987Z"
   },
   {
    "duration": 21,
    "start_time": "2024-03-08T14:36:18.311Z"
   },
   {
    "duration": 9,
    "start_time": "2024-03-08T14:36:20.083Z"
   },
   {
    "duration": 3,
    "start_time": "2024-03-08T14:36:22.035Z"
   },
   {
    "duration": 13,
    "start_time": "2024-03-08T14:36:25.065Z"
   },
   {
    "duration": 10,
    "start_time": "2024-03-08T14:38:10.802Z"
   },
   {
    "duration": 11,
    "start_time": "2024-03-08T14:38:17.362Z"
   },
   {
    "duration": 4,
    "start_time": "2024-03-08T14:38:53.931Z"
   },
   {
    "duration": 8,
    "start_time": "2024-03-08T14:38:55.978Z"
   },
   {
    "duration": 46,
    "start_time": "2024-03-08T14:39:00.899Z"
   },
   {
    "duration": 16,
    "start_time": "2024-03-08T14:39:15.460Z"
   },
   {
    "duration": 4,
    "start_time": "2024-03-08T14:39:40.136Z"
   },
   {
    "duration": 25,
    "start_time": "2024-03-08T14:39:45.067Z"
   },
   {
    "duration": 4,
    "start_time": "2024-03-08T14:39:50.858Z"
   },
   {
    "duration": 16,
    "start_time": "2024-03-08T14:39:53.491Z"
   },
   {
    "duration": 4,
    "start_time": "2024-03-08T14:40:04.643Z"
   },
   {
    "duration": 4,
    "start_time": "2024-03-08T14:40:16.194Z"
   },
   {
    "duration": 11,
    "start_time": "2024-03-08T14:40:18.018Z"
   },
   {
    "duration": 12,
    "start_time": "2024-03-08T14:40:27.857Z"
   },
   {
    "duration": 6,
    "start_time": "2024-03-08T14:43:12.424Z"
   },
   {
    "duration": 10,
    "start_time": "2024-03-08T14:43:13.243Z"
   },
   {
    "duration": 20,
    "start_time": "2024-03-08T14:43:27.867Z"
   },
   {
    "duration": 1795,
    "start_time": "2024-03-08T14:44:02.640Z"
   },
   {
    "duration": 5,
    "start_time": "2024-03-08T14:44:04.437Z"
   },
   {
    "duration": 131,
    "start_time": "2024-03-08T14:44:04.444Z"
   },
   {
    "duration": 15,
    "start_time": "2024-03-08T14:44:04.576Z"
   },
   {
    "duration": 11,
    "start_time": "2024-03-08T14:44:04.594Z"
   },
   {
    "duration": 4,
    "start_time": "2024-03-08T14:44:04.607Z"
   },
   {
    "duration": 19,
    "start_time": "2024-03-08T14:44:04.613Z"
   },
   {
    "duration": 746,
    "start_time": "2024-03-08T14:44:04.633Z"
   },
   {
    "duration": 965,
    "start_time": "2024-03-08T14:44:05.381Z"
   },
   {
    "duration": 4,
    "start_time": "2024-03-08T14:44:06.347Z"
   },
   {
    "duration": 6,
    "start_time": "2024-03-08T14:44:06.352Z"
   },
   {
    "duration": 10,
    "start_time": "2024-03-08T14:44:06.359Z"
   },
   {
    "duration": 5,
    "start_time": "2024-03-08T14:44:06.370Z"
   },
   {
    "duration": 1552,
    "start_time": "2024-03-08T14:44:06.377Z"
   },
   {
    "duration": 351,
    "start_time": "2024-03-08T14:44:07.931Z"
   },
   {
    "duration": 19,
    "start_time": "2024-03-08T14:44:08.283Z"
   },
   {
    "duration": 5,
    "start_time": "2024-03-08T14:44:08.303Z"
   },
   {
    "duration": 23,
    "start_time": "2024-03-08T14:44:10.171Z"
   },
   {
    "duration": 6,
    "start_time": "2024-03-08T14:44:12.427Z"
   },
   {
    "duration": 136,
    "start_time": "2024-03-08T14:44:14.642Z"
   },
   {
    "duration": 11,
    "start_time": "2024-03-08T14:44:34.762Z"
   },
   {
    "duration": 12,
    "start_time": "2024-03-08T14:44:51.081Z"
   },
   {
    "duration": 4,
    "start_time": "2024-03-08T14:45:30.166Z"
   },
   {
    "duration": 19,
    "start_time": "2024-03-08T14:45:31.691Z"
   },
   {
    "duration": 4,
    "start_time": "2024-03-08T14:45:52.580Z"
   },
   {
    "duration": 28,
    "start_time": "2024-03-08T14:45:53.827Z"
   },
   {
    "duration": 7,
    "start_time": "2024-03-08T14:46:22.302Z"
   },
   {
    "duration": 4,
    "start_time": "2024-03-08T14:46:29.747Z"
   },
   {
    "duration": 4,
    "start_time": "2024-03-08T14:46:32.460Z"
   },
   {
    "duration": 28,
    "start_time": "2024-03-08T14:46:32.570Z"
   },
   {
    "duration": 59,
    "start_time": "2024-03-08T14:46:46.955Z"
   },
   {
    "duration": 6,
    "start_time": "2024-03-08T14:46:55.851Z"
   },
   {
    "duration": 18,
    "start_time": "2024-03-08T14:46:56.142Z"
   },
   {
    "duration": 5,
    "start_time": "2024-03-08T14:49:44.696Z"
   },
   {
    "duration": 57,
    "start_time": "2024-03-08T14:49:46.007Z"
   },
   {
    "duration": 5,
    "start_time": "2024-03-08T14:50:27.425Z"
   },
   {
    "duration": 23,
    "start_time": "2024-03-08T14:50:27.895Z"
   },
   {
    "duration": 6,
    "start_time": "2024-03-08T14:50:53.455Z"
   },
   {
    "duration": 18,
    "start_time": "2024-03-08T14:50:53.598Z"
   },
   {
    "duration": 7,
    "start_time": "2024-03-08T14:50:54.239Z"
   },
   {
    "duration": 4,
    "start_time": "2024-03-08T14:51:44.784Z"
   },
   {
    "duration": 8,
    "start_time": "2024-03-08T14:51:47.008Z"
   },
   {
    "duration": 8,
    "start_time": "2024-03-08T14:55:55.316Z"
   },
   {
    "duration": 7,
    "start_time": "2024-03-08T14:57:38.156Z"
   },
   {
    "duration": 19,
    "start_time": "2024-03-08T14:57:39.412Z"
   },
   {
    "duration": 8,
    "start_time": "2024-03-08T14:58:45.733Z"
   },
   {
    "duration": 89,
    "start_time": "2024-03-08T14:59:04.348Z"
   },
   {
    "duration": 3,
    "start_time": "2024-03-08T14:59:06.630Z"
   },
   {
    "duration": 6,
    "start_time": "2024-03-08T14:59:19.110Z"
   },
   {
    "duration": 19,
    "start_time": "2024-03-08T14:59:20.164Z"
   },
   {
    "duration": 10,
    "start_time": "2024-03-08T14:59:51.830Z"
   },
   {
    "duration": 21,
    "start_time": "2024-03-08T14:59:52.885Z"
   },
   {
    "duration": 6,
    "start_time": "2024-03-08T15:02:16.373Z"
   },
   {
    "duration": 24,
    "start_time": "2024-03-08T15:02:16.381Z"
   },
   {
    "duration": 7,
    "start_time": "2024-03-08T15:02:46.110Z"
   },
   {
    "duration": 20,
    "start_time": "2024-03-08T15:02:46.759Z"
   },
   {
    "duration": 4,
    "start_time": "2024-03-08T15:03:58.999Z"
   },
   {
    "duration": 4,
    "start_time": "2024-03-08T15:04:10.392Z"
   },
   {
    "duration": 3,
    "start_time": "2024-03-08T15:04:15.394Z"
   },
   {
    "duration": 8,
    "start_time": "2024-03-08T15:04:23.015Z"
   },
   {
    "duration": 4,
    "start_time": "2024-03-08T15:04:27.664Z"
   },
   {
    "duration": 10,
    "start_time": "2024-03-08T15:04:42.311Z"
   },
   {
    "duration": 10,
    "start_time": "2024-03-08T15:17:05.211Z"
   },
   {
    "duration": 3,
    "start_time": "2024-03-08T15:17:14.571Z"
   },
   {
    "duration": 6,
    "start_time": "2024-03-08T15:17:21.026Z"
   },
   {
    "duration": 7,
    "start_time": "2024-03-08T15:17:24.797Z"
   },
   {
    "duration": 14,
    "start_time": "2024-03-08T15:17:43.012Z"
   },
   {
    "duration": 10,
    "start_time": "2024-03-08T15:21:36.564Z"
   },
   {
    "duration": 6,
    "start_time": "2024-03-08T15:21:42.660Z"
   },
   {
    "duration": 4,
    "start_time": "2024-03-08T15:22:05.619Z"
   },
   {
    "duration": 4,
    "start_time": "2024-03-08T15:22:07.970Z"
   },
   {
    "duration": 4,
    "start_time": "2024-03-08T15:22:14.746Z"
   },
   {
    "duration": 5,
    "start_time": "2024-03-08T15:22:19.026Z"
   },
   {
    "duration": 4,
    "start_time": "2024-03-08T15:22:31.634Z"
   },
   {
    "duration": 4,
    "start_time": "2024-03-08T15:23:21.760Z"
   },
   {
    "duration": 4,
    "start_time": "2024-03-08T15:23:23.872Z"
   },
   {
    "duration": 4,
    "start_time": "2024-03-08T15:23:30.857Z"
   },
   {
    "duration": 4,
    "start_time": "2024-03-08T15:23:33.739Z"
   },
   {
    "duration": 5,
    "start_time": "2024-03-08T15:23:37.730Z"
   },
   {
    "duration": 4,
    "start_time": "2024-03-08T15:24:42.562Z"
   },
   {
    "duration": 3,
    "start_time": "2024-03-08T15:24:47.432Z"
   },
   {
    "duration": 7,
    "start_time": "2024-03-08T15:25:29.511Z"
   },
   {
    "duration": 5,
    "start_time": "2024-03-08T15:25:31.710Z"
   },
   {
    "duration": 10,
    "start_time": "2024-03-08T15:25:43.525Z"
   },
   {
    "duration": 23,
    "start_time": "2024-03-08T15:25:43.886Z"
   },
   {
    "duration": 5,
    "start_time": "2024-03-08T15:25:44.742Z"
   },
   {
    "duration": 7,
    "start_time": "2024-03-08T15:25:45.254Z"
   },
   {
    "duration": 7,
    "start_time": "2024-03-08T15:27:20.541Z"
   },
   {
    "duration": 22,
    "start_time": "2024-03-08T15:27:20.891Z"
   },
   {
    "duration": 6,
    "start_time": "2024-03-08T15:27:36.956Z"
   },
   {
    "duration": 30,
    "start_time": "2024-03-08T15:27:37.580Z"
   },
   {
    "duration": 6,
    "start_time": "2024-03-08T15:27:54.460Z"
   },
   {
    "duration": 23,
    "start_time": "2024-03-08T15:27:55.339Z"
   },
   {
    "duration": 7,
    "start_time": "2024-03-08T15:28:43.606Z"
   },
   {
    "duration": 23,
    "start_time": "2024-03-08T15:28:43.771Z"
   },
   {
    "duration": 6,
    "start_time": "2024-03-08T15:28:53.338Z"
   },
   {
    "duration": 22,
    "start_time": "2024-03-08T15:28:54.347Z"
   },
   {
    "duration": 6,
    "start_time": "2024-03-08T15:29:15.717Z"
   },
   {
    "duration": 23,
    "start_time": "2024-03-08T15:29:16.842Z"
   },
   {
    "duration": 25,
    "start_time": "2024-03-08T15:29:40.595Z"
   },
   {
    "duration": 7,
    "start_time": "2024-03-08T15:30:41.618Z"
   },
   {
    "duration": 92,
    "start_time": "2024-03-08T15:30:41.779Z"
   },
   {
    "duration": 6,
    "start_time": "2024-03-08T15:30:46.874Z"
   },
   {
    "duration": 77,
    "start_time": "2024-03-08T15:30:47.425Z"
   },
   {
    "duration": 5,
    "start_time": "2024-03-08T15:30:55.832Z"
   },
   {
    "duration": 77,
    "start_time": "2024-03-08T15:31:20.266Z"
   },
   {
    "duration": 6,
    "start_time": "2024-03-08T15:41:09.427Z"
   },
   {
    "duration": 36,
    "start_time": "2024-03-08T15:41:16.162Z"
   },
   {
    "duration": 7,
    "start_time": "2024-03-08T15:41:37.655Z"
   },
   {
    "duration": 3,
    "start_time": "2024-03-08T15:41:39.023Z"
   },
   {
    "duration": 39,
    "start_time": "2024-03-08T15:41:45.590Z"
   },
   {
    "duration": 6,
    "start_time": "2024-03-08T15:41:50.975Z"
   },
   {
    "duration": 27,
    "start_time": "2024-03-08T15:41:51.111Z"
   },
   {
    "duration": 6,
    "start_time": "2024-03-08T15:42:07.041Z"
   },
   {
    "duration": 27,
    "start_time": "2024-03-08T15:42:08.551Z"
   },
   {
    "duration": 7,
    "start_time": "2024-03-08T15:43:59.175Z"
   },
   {
    "duration": 41,
    "start_time": "2024-03-08T15:43:59.662Z"
   },
   {
    "duration": 9,
    "start_time": "2024-03-08T15:44:15.207Z"
   },
   {
    "duration": 37,
    "start_time": "2024-03-08T15:44:15.527Z"
   },
   {
    "duration": 7,
    "start_time": "2024-03-08T15:44:54.990Z"
   },
   {
    "duration": 29,
    "start_time": "2024-03-08T15:44:57.038Z"
   },
   {
    "duration": 7,
    "start_time": "2024-03-08T15:45:06.022Z"
   },
   {
    "duration": 7,
    "start_time": "2024-03-08T15:45:15.830Z"
   },
   {
    "duration": 45,
    "start_time": "2024-03-08T15:45:15.973Z"
   },
   {
    "duration": 7,
    "start_time": "2024-03-08T15:45:29.667Z"
   },
   {
    "duration": 38,
    "start_time": "2024-03-08T15:45:32.497Z"
   },
   {
    "duration": 7,
    "start_time": "2024-03-08T15:45:38.702Z"
   },
   {
    "duration": 28,
    "start_time": "2024-03-08T15:45:40.742Z"
   },
   {
    "duration": 8,
    "start_time": "2024-03-08T15:45:44.815Z"
   },
   {
    "duration": 28,
    "start_time": "2024-03-08T15:45:44.941Z"
   },
   {
    "duration": 7,
    "start_time": "2024-03-08T15:45:55.374Z"
   },
   {
    "duration": 28,
    "start_time": "2024-03-08T15:45:55.486Z"
   },
   {
    "duration": 35,
    "start_time": "2024-03-08T15:46:00.254Z"
   },
   {
    "duration": 8,
    "start_time": "2024-03-08T15:46:14.816Z"
   },
   {
    "duration": 8,
    "start_time": "2024-03-08T15:46:18.100Z"
   },
   {
    "duration": 9,
    "start_time": "2024-03-08T15:48:24.902Z"
   },
   {
    "duration": 8,
    "start_time": "2024-03-08T15:48:27.222Z"
   },
   {
    "duration": 41,
    "start_time": "2024-03-08T15:48:29.793Z"
   },
   {
    "duration": 7,
    "start_time": "2024-03-08T15:48:58.879Z"
   },
   {
    "duration": 31,
    "start_time": "2024-03-08T15:48:59.014Z"
   },
   {
    "duration": 10,
    "start_time": "2024-03-08T15:49:26.102Z"
   },
   {
    "duration": 8,
    "start_time": "2024-03-08T15:49:33.565Z"
   },
   {
    "duration": 3,
    "start_time": "2024-03-08T15:49:39.327Z"
   },
   {
    "duration": 8,
    "start_time": "2024-03-08T15:49:44.436Z"
   },
   {
    "duration": 3,
    "start_time": "2024-03-08T15:49:47.398Z"
   },
   {
    "duration": 3,
    "start_time": "2024-03-08T15:49:51.038Z"
   },
   {
    "duration": 3,
    "start_time": "2024-03-08T15:49:54.541Z"
   },
   {
    "duration": 4,
    "start_time": "2024-03-08T15:49:59.293Z"
   },
   {
    "duration": 11,
    "start_time": "2024-03-08T15:50:22.703Z"
   },
   {
    "duration": 9,
    "start_time": "2024-03-08T15:52:16.047Z"
   },
   {
    "duration": 38,
    "start_time": "2024-03-08T15:52:17.342Z"
   },
   {
    "duration": 7,
    "start_time": "2024-03-08T15:52:58.295Z"
   },
   {
    "duration": 34,
    "start_time": "2024-03-08T15:52:58.455Z"
   },
   {
    "duration": 4,
    "start_time": "2024-03-08T15:53:00.438Z"
   },
   {
    "duration": 12,
    "start_time": "2024-03-08T15:53:02.038Z"
   },
   {
    "duration": 7,
    "start_time": "2024-03-08T15:53:24.821Z"
   },
   {
    "duration": 223,
    "start_time": "2024-03-08T15:53:25.995Z"
   },
   {
    "duration": 6,
    "start_time": "2024-03-08T15:53:49.085Z"
   },
   {
    "duration": 205,
    "start_time": "2024-03-08T15:53:49.217Z"
   },
   {
    "duration": 238,
    "start_time": "2024-03-08T15:54:13.982Z"
   },
   {
    "duration": 7,
    "start_time": "2024-03-08T15:54:22.348Z"
   },
   {
    "duration": 313,
    "start_time": "2024-03-08T15:54:23.493Z"
   },
   {
    "duration": 6,
    "start_time": "2024-03-08T15:54:55.318Z"
   },
   {
    "duration": 519,
    "start_time": "2024-03-08T15:54:55.606Z"
   },
   {
    "duration": 525,
    "start_time": "2024-03-08T15:56:03.896Z"
   },
   {
    "duration": 10,
    "start_time": "2024-03-08T15:56:43.101Z"
   },
   {
    "duration": 8,
    "start_time": "2024-03-08T15:56:51.167Z"
   },
   {
    "duration": 10,
    "start_time": "2024-03-08T15:56:51.318Z"
   },
   {
    "duration": 107,
    "start_time": "2024-03-08T15:57:00.407Z"
   },
   {
    "duration": 62,
    "start_time": "2024-03-08T15:57:00.535Z"
   },
   {
    "duration": 7,
    "start_time": "2024-03-08T15:57:07.471Z"
   },
   {
    "duration": 10,
    "start_time": "2024-03-08T15:57:07.599Z"
   },
   {
    "duration": 11,
    "start_time": "2024-03-08T15:57:20.193Z"
   },
   {
    "duration": 6,
    "start_time": "2024-03-08T15:57:34.418Z"
   },
   {
    "duration": 45503,
    "start_time": "2024-03-08T15:57:49.215Z"
   },
   {
    "duration": 8,
    "start_time": "2024-03-08T15:58:35.026Z"
   },
   {
    "duration": 8368,
    "start_time": "2024-03-08T15:58:35.645Z"
   },
   {
    "duration": 7,
    "start_time": "2024-03-08T15:58:46.436Z"
   },
   {
    "duration": 63237,
    "start_time": "2024-03-08T15:58:46.578Z"
   },
   {
    "duration": 7,
    "start_time": "2024-03-08T15:59:53.955Z"
   },
   {
    "duration": 59037,
    "start_time": "2024-03-08T15:59:54.076Z"
   },
   {
    "duration": 6,
    "start_time": "2024-03-08T16:00:55.548Z"
   },
   {
    "duration": 34337,
    "start_time": "2024-03-08T16:00:55.679Z"
   },
   {
    "duration": 7,
    "start_time": "2024-03-08T16:01:33.236Z"
   },
   {
    "duration": 19827,
    "start_time": "2024-03-08T16:01:33.391Z"
   },
   {
    "duration": 14,
    "start_time": "2024-03-08T16:03:57.254Z"
   },
   {
    "duration": 6,
    "start_time": "2024-03-08T16:03:58.959Z"
   },
   {
    "duration": 29,
    "start_time": "2024-03-08T16:03:59.568Z"
   },
   {
    "duration": 11,
    "start_time": "2024-03-08T16:04:46.334Z"
   },
   {
    "duration": 7,
    "start_time": "2024-03-08T16:04:46.752Z"
   },
   {
    "duration": 29,
    "start_time": "2024-03-08T16:04:47.160Z"
   },
   {
    "duration": 10,
    "start_time": "2024-03-08T16:05:01.784Z"
   },
   {
    "duration": 11,
    "start_time": "2024-03-08T16:05:10.250Z"
   },
   {
    "duration": 11,
    "start_time": "2024-03-08T16:05:16.486Z"
   },
   {
    "duration": 241,
    "start_time": "2024-03-08T16:05:24.232Z"
   },
   {
    "duration": 7,
    "start_time": "2024-03-08T16:05:25.207Z"
   },
   {
    "duration": 23,
    "start_time": "2024-03-08T16:05:25.760Z"
   },
   {
    "duration": 21,
    "start_time": "2024-03-08T16:05:35.408Z"
   },
   {
    "duration": 20,
    "start_time": "2024-03-08T16:05:44.703Z"
   },
   {
    "duration": 22,
    "start_time": "2024-03-08T16:07:36.688Z"
   },
   {
    "duration": 8,
    "start_time": "2024-03-08T16:07:43.193Z"
   },
   {
    "duration": 0,
    "start_time": "2024-03-08T16:09:56.216Z"
   },
   {
    "duration": 0,
    "start_time": "2024-03-08T16:09:56.217Z"
   },
   {
    "duration": 20480,
    "start_time": "2024-03-08T16:11:11.539Z"
   },
   {
    "duration": 0,
    "start_time": "2024-03-08T16:11:32.021Z"
   },
   {
    "duration": 0,
    "start_time": "2024-03-08T16:13:14.319Z"
   },
   {
    "duration": 0,
    "start_time": "2024-03-08T16:13:14.320Z"
   },
   {
    "duration": 9,
    "start_time": "2024-03-08T16:13:25.603Z"
   },
   {
    "duration": 12,
    "start_time": "2024-03-08T16:13:30.354Z"
   },
   {
    "duration": 7698,
    "start_time": "2024-03-08T16:13:34.017Z"
   },
   {
    "duration": 2333,
    "start_time": "2024-03-08T16:13:41.980Z"
   },
   {
    "duration": 16,
    "start_time": "2024-03-08T16:13:44.539Z"
   },
   {
    "duration": 9,
    "start_time": "2024-03-08T16:13:51.602Z"
   },
   {
    "duration": 4,
    "start_time": "2024-03-08T16:13:55.677Z"
   },
   {
    "duration": 5,
    "start_time": "2024-03-08T16:14:05.691Z"
   },
   {
    "duration": 4,
    "start_time": "2024-03-08T16:14:08.572Z"
   },
   {
    "duration": 5,
    "start_time": "2024-03-08T16:14:13.035Z"
   },
   {
    "duration": 5,
    "start_time": "2024-03-08T16:14:18.052Z"
   },
   {
    "duration": 26,
    "start_time": "2024-03-08T16:16:02.997Z"
   },
   {
    "duration": 21,
    "start_time": "2024-03-08T16:16:05.643Z"
   },
   {
    "duration": 7,
    "start_time": "2024-03-08T16:16:06.365Z"
   },
   {
    "duration": 47,
    "start_time": "2024-03-08T16:16:07.100Z"
   },
   {
    "duration": 21,
    "start_time": "2024-03-08T16:16:17.237Z"
   },
   {
    "duration": 6,
    "start_time": "2024-03-08T16:16:18.710Z"
   },
   {
    "duration": 46,
    "start_time": "2024-03-08T16:16:19.340Z"
   },
   {
    "duration": 1138,
    "start_time": "2024-03-08T16:16:24.166Z"
   },
   {
    "duration": 3,
    "start_time": "2024-03-08T16:23:13.766Z"
   },
   {
    "duration": 9,
    "start_time": "2024-03-08T16:24:03.327Z"
   },
   {
    "duration": 14,
    "start_time": "2024-03-08T16:24:15.310Z"
   },
   {
    "duration": 3,
    "start_time": "2024-03-08T16:24:33.143Z"
   },
   {
    "duration": 7,
    "start_time": "2024-03-08T16:24:34.087Z"
   },
   {
    "duration": 26,
    "start_time": "2024-03-08T16:24:34.592Z"
   },
   {
    "duration": 5,
    "start_time": "2024-03-08T16:24:35.175Z"
   },
   {
    "duration": 41,
    "start_time": "2024-03-08T16:24:57.814Z"
   },
   {
    "duration": 6,
    "start_time": "2024-03-08T16:25:06.446Z"
   },
   {
    "duration": 26,
    "start_time": "2024-03-08T16:25:06.725Z"
   },
   {
    "duration": 39,
    "start_time": "2024-03-08T16:25:38.870Z"
   },
   {
    "duration": 6,
    "start_time": "2024-03-08T16:25:41.398Z"
   },
   {
    "duration": 26,
    "start_time": "2024-03-08T16:25:41.846Z"
   },
   {
    "duration": 22,
    "start_time": "2024-03-08T16:26:36.557Z"
   },
   {
    "duration": 47,
    "start_time": "2024-03-08T16:26:45.838Z"
   },
   {
    "duration": 79,
    "start_time": "2024-03-08T16:27:05.718Z"
   },
   {
    "duration": 81,
    "start_time": "2024-03-08T16:27:15.776Z"
   },
   {
    "duration": 1055,
    "start_time": "2024-03-08T16:27:18.254Z"
   },
   {
    "duration": 21,
    "start_time": "2024-03-08T16:27:26.910Z"
   },
   {
    "duration": 7,
    "start_time": "2024-03-08T16:27:27.369Z"
   },
   {
    "duration": 0,
    "start_time": "2024-03-08T16:27:58.714Z"
   },
   {
    "duration": 76030,
    "start_time": "2024-03-08T16:27:59.695Z"
   },
   {
    "duration": 0,
    "start_time": "2024-03-08T16:29:15.727Z"
   },
   {
    "duration": 11,
    "start_time": "2024-03-08T16:29:16.854Z"
   },
   {
    "duration": 11,
    "start_time": "2024-03-08T16:29:26.254Z"
   },
   {
    "duration": 15,
    "start_time": "2024-03-08T16:30:55.048Z"
   },
   {
    "duration": 8,
    "start_time": "2024-03-08T16:30:58.151Z"
   },
   {
    "duration": 0,
    "start_time": "2024-03-08T16:31:17.421Z"
   },
   {
    "duration": 23574,
    "start_time": "2024-03-08T16:31:18.343Z"
   },
   {
    "duration": 7,
    "start_time": "2024-03-08T16:31:42.383Z"
   },
   {
    "duration": 35215,
    "start_time": "2024-03-08T16:31:42.512Z"
   },
   {
    "duration": 7,
    "start_time": "2024-03-08T16:32:48.295Z"
   },
   {
    "duration": 112976,
    "start_time": "2024-03-08T16:32:48.440Z"
   },
   {
    "duration": 0,
    "start_time": "2024-03-08T16:35:18.026Z"
   },
   {
    "duration": 0,
    "start_time": "2024-03-08T16:35:18.026Z"
   },
   {
    "duration": 7,
    "start_time": "2024-03-08T16:35:22.278Z"
   },
   {
    "duration": 166726,
    "start_time": "2024-03-08T16:35:22.398Z"
   },
   {
    "duration": 7,
    "start_time": "2024-03-08T16:38:11.038Z"
   },
   {
    "duration": 27529,
    "start_time": "2024-03-08T16:38:11.187Z"
   },
   {
    "duration": 8,
    "start_time": "2024-03-08T16:38:38.974Z"
   },
   {
    "duration": 17825,
    "start_time": "2024-03-08T16:38:39.108Z"
   },
   {
    "duration": 7,
    "start_time": "2024-03-08T16:39:00.677Z"
   },
   {
    "duration": 12226,
    "start_time": "2024-03-08T16:39:00.791Z"
   },
   {
    "duration": 7,
    "start_time": "2024-03-08T16:39:18.293Z"
   },
   {
    "duration": 12405,
    "start_time": "2024-03-08T16:39:18.422Z"
   },
   {
    "duration": 12,
    "start_time": "2024-03-08T16:39:31.998Z"
   },
   {
    "duration": 57104,
    "start_time": "2024-03-08T16:39:32.012Z"
   },
   {
    "duration": 6,
    "start_time": "2024-03-08T16:40:29.439Z"
   },
   {
    "duration": 52948,
    "start_time": "2024-03-08T16:40:29.565Z"
   },
   {
    "duration": 7,
    "start_time": "2024-03-08T16:41:22.646Z"
   },
   {
    "duration": 190042,
    "start_time": "2024-03-08T16:41:22.767Z"
   },
   {
    "duration": 7,
    "start_time": "2024-03-08T16:44:33.302Z"
   },
   {
    "duration": 0,
    "start_time": "2024-03-08T16:45:47.319Z"
   },
   {
    "duration": 0,
    "start_time": "2024-03-08T16:45:47.320Z"
   },
   {
    "duration": 7,
    "start_time": "2024-03-08T16:45:48.318Z"
   },
   {
    "duration": 29778,
    "start_time": "2024-03-08T16:45:48.438Z"
   },
   {
    "duration": 27996,
    "start_time": "2024-03-08T16:46:19.020Z"
   },
   {
    "duration": 7,
    "start_time": "2024-03-08T16:46:47.343Z"
   },
   {
    "duration": 15346,
    "start_time": "2024-03-08T16:46:47.470Z"
   },
   {
    "duration": 8,
    "start_time": "2024-03-08T16:47:03.205Z"
   },
   {
    "duration": 60174,
    "start_time": "2024-03-08T16:47:03.340Z"
   },
   {
    "duration": 7,
    "start_time": "2024-03-08T16:48:04.733Z"
   },
   {
    "duration": 93915,
    "start_time": "2024-03-08T16:48:04.879Z"
   },
   {
    "duration": 7,
    "start_time": "2024-03-08T16:49:41.098Z"
   },
   {
    "duration": 15644,
    "start_time": "2024-03-08T16:49:41.271Z"
   },
   {
    "duration": 8,
    "start_time": "2024-03-08T16:49:57.213Z"
   },
   {
    "duration": 35022,
    "start_time": "2024-03-08T16:49:57.594Z"
   },
   {
    "duration": 22,
    "start_time": "2024-03-08T16:50:33.124Z"
   },
   {
    "duration": 6,
    "start_time": "2024-03-08T16:50:33.566Z"
   },
   {
    "duration": 380592,
    "start_time": "2024-03-08T16:50:33.831Z"
   },
   {
    "duration": 7,
    "start_time": "2024-03-08T16:56:54.703Z"
   },
   {
    "duration": 6610,
    "start_time": "2024-03-08T16:56:55.006Z"
   },
   {
    "duration": 7,
    "start_time": "2024-03-08T16:57:02.126Z"
   },
   {
    "duration": 46331,
    "start_time": "2024-03-08T16:57:02.288Z"
   },
   {
    "duration": 0,
    "start_time": "2024-03-08T16:57:48.620Z"
   },
   {
    "duration": 5,
    "start_time": "2024-03-08T16:57:49.846Z"
   },
   {
    "duration": 7,
    "start_time": "2024-03-08T16:58:40.878Z"
   },
   {
    "duration": 7,
    "start_time": "2024-03-08T16:58:48.311Z"
   },
   {
    "duration": 26,
    "start_time": "2024-03-08T16:58:48.454Z"
   },
   {
    "duration": 27,
    "start_time": "2024-03-08T16:58:50.558Z"
   },
   {
    "duration": 7,
    "start_time": "2024-03-08T16:59:10.958Z"
   },
   {
    "duration": 21,
    "start_time": "2024-03-08T16:59:11.094Z"
   },
   {
    "duration": 7,
    "start_time": "2024-03-08T16:59:24.863Z"
   },
   {
    "duration": 22,
    "start_time": "2024-03-08T16:59:26.351Z"
   },
   {
    "duration": 7,
    "start_time": "2024-03-08T16:59:42.279Z"
   },
   {
    "duration": 7,
    "start_time": "2024-03-08T16:59:52.335Z"
   },
   {
    "duration": 27,
    "start_time": "2024-03-08T16:59:52.477Z"
   },
   {
    "duration": 7,
    "start_time": "2024-03-08T17:00:10.142Z"
   },
   {
    "duration": 39558,
    "start_time": "2024-03-08T17:00:10.558Z"
   },
   {
    "duration": 7,
    "start_time": "2024-03-08T17:00:50.779Z"
   },
   {
    "duration": 141429,
    "start_time": "2024-03-08T17:00:50.788Z"
   },
   {
    "duration": 7,
    "start_time": "2024-03-08T17:03:12.377Z"
   },
   {
    "duration": 21320,
    "start_time": "2024-03-08T17:03:12.494Z"
   },
   {
    "duration": 16,
    "start_time": "2024-03-08T17:03:34.102Z"
   },
   {
    "duration": 6,
    "start_time": "2024-03-08T17:03:34.382Z"
   },
   {
    "duration": 193168,
    "start_time": "2024-03-08T17:03:34.846Z"
   },
   {
    "duration": 0,
    "start_time": "2024-03-08T17:07:19.917Z"
   },
   {
    "duration": 0,
    "start_time": "2024-03-08T17:07:19.918Z"
   },
   {
    "duration": 17,
    "start_time": "2024-03-08T17:07:23.712Z"
   },
   {
    "duration": 7,
    "start_time": "2024-03-08T17:07:24.065Z"
   },
   {
    "duration": 66413,
    "start_time": "2024-03-08T17:07:24.602Z"
   },
   {
    "duration": 7,
    "start_time": "2024-03-08T17:08:31.379Z"
   },
   {
    "duration": 28088,
    "start_time": "2024-03-08T17:08:31.530Z"
   },
   {
    "duration": 12652,
    "start_time": "2024-03-08T17:09:09.068Z"
   },
   {
    "duration": 75598,
    "start_time": "2024-03-08T17:09:22.027Z"
   },
   {
    "duration": 65885,
    "start_time": "2024-03-08T17:10:38.028Z"
   },
   {
    "duration": 7,
    "start_time": "2024-03-08T17:11:44.252Z"
   },
   {
    "duration": 24128,
    "start_time": "2024-03-08T17:11:44.389Z"
   },
   {
    "duration": 7,
    "start_time": "2024-03-08T17:12:09.340Z"
   },
   {
    "duration": 66339,
    "start_time": "2024-03-08T17:12:09.875Z"
   },
   {
    "duration": 7,
    "start_time": "2024-03-08T17:13:16.636Z"
   },
   {
    "duration": 122358,
    "start_time": "2024-03-08T17:13:16.766Z"
   },
   {
    "duration": 7,
    "start_time": "2024-03-08T17:15:20.564Z"
   },
   {
    "duration": 66091,
    "start_time": "2024-03-08T17:15:20.725Z"
   },
   {
    "duration": 118429,
    "start_time": "2024-03-08T17:18:57.997Z"
   },
   {
    "duration": 6,
    "start_time": "2024-03-08T17:20:56.574Z"
   },
   {
    "duration": 17313,
    "start_time": "2024-03-08T17:20:56.702Z"
   },
   {
    "duration": 0,
    "start_time": "2024-03-08T17:21:37.516Z"
   },
   {
    "duration": 7,
    "start_time": "2024-03-08T17:21:43.088Z"
   },
   {
    "duration": 289837,
    "start_time": "2024-03-08T17:21:43.286Z"
   },
   {
    "duration": 23,
    "start_time": "2024-03-08T17:26:33.336Z"
   },
   {
    "duration": 10,
    "start_time": "2024-03-08T17:26:34.528Z"
   },
   {
    "duration": 69271,
    "start_time": "2024-03-08T17:26:39.244Z"
   },
   {
    "duration": 11,
    "start_time": "2024-03-08T17:27:51.441Z"
   },
   {
    "duration": 47239,
    "start_time": "2024-03-08T17:27:51.578Z"
   },
   {
    "duration": 7,
    "start_time": "2024-03-08T17:28:39.755Z"
   },
   {
    "duration": 255,
    "start_time": "2024-03-08T17:28:39.763Z"
   },
   {
    "duration": 8,
    "start_time": "2024-03-08T17:28:50.463Z"
   },
   {
    "duration": 0,
    "start_time": "2024-03-08T17:29:37.820Z"
   },
   {
    "duration": 0,
    "start_time": "2024-03-08T17:30:10.418Z"
   },
   {
    "duration": 10139,
    "start_time": "2024-03-08T17:30:11.976Z"
   },
   {
    "duration": 30369,
    "start_time": "2024-03-08T17:30:24.447Z"
   },
   {
    "duration": 15452,
    "start_time": "2024-03-08T17:30:55.169Z"
   },
   {
    "duration": 18848,
    "start_time": "2024-03-08T17:31:10.868Z"
   },
   {
    "duration": 7,
    "start_time": "2024-03-08T17:31:29.944Z"
   },
   {
    "duration": 0,
    "start_time": "2024-03-08T17:31:45.036Z"
   },
   {
    "duration": 0,
    "start_time": "2024-03-08T17:31:45.037Z"
   },
   {
    "duration": 732293,
    "start_time": "2024-03-08T17:31:46.424Z"
   },
   {
    "duration": 7,
    "start_time": "2024-03-08T17:44:02.337Z"
   },
   {
    "duration": 123645,
    "start_time": "2024-03-08T17:44:02.469Z"
   },
   {
    "duration": 6,
    "start_time": "2024-03-08T17:46:06.450Z"
   },
   {
    "duration": 14829,
    "start_time": "2024-03-08T17:46:06.585Z"
   },
   {
    "duration": 224634,
    "start_time": "2024-03-08T17:46:21.682Z"
   },
   {
    "duration": 590955,
    "start_time": "2024-03-08T17:50:07.867Z"
   },
   {
    "duration": 7,
    "start_time": "2024-03-08T18:00:02.085Z"
   },
   {
    "duration": 337194,
    "start_time": "2024-03-08T18:00:02.232Z"
   },
   {
    "duration": 7,
    "start_time": "2024-03-08T18:05:43.939Z"
   },
   {
    "duration": 2606712,
    "start_time": "2024-03-08T18:05:44.036Z"
   },
   {
    "duration": 504,
    "start_time": "2024-03-09T13:53:26.209Z"
   },
   {
    "duration": 4125,
    "start_time": "2024-03-09T13:53:38.730Z"
   },
   {
    "duration": 2444,
    "start_time": "2024-03-09T13:54:01.023Z"
   },
   {
    "duration": 11,
    "start_time": "2024-03-09T13:54:03.510Z"
   },
   {
    "duration": 120,
    "start_time": "2024-03-09T13:54:06.814Z"
   },
   {
    "duration": 21,
    "start_time": "2024-03-09T13:54:07.754Z"
   },
   {
    "duration": 18,
    "start_time": "2024-03-09T13:54:09.608Z"
   },
   {
    "duration": 8,
    "start_time": "2024-03-09T13:54:10.990Z"
   },
   {
    "duration": 26,
    "start_time": "2024-03-09T13:54:12.151Z"
   },
   {
    "duration": 1376,
    "start_time": "2024-03-09T13:54:13.040Z"
   },
   {
    "duration": 1243,
    "start_time": "2024-03-09T13:54:14.419Z"
   },
   {
    "duration": 1081,
    "start_time": "2024-03-09T13:54:23.448Z"
   },
   {
    "duration": 1191,
    "start_time": "2024-03-09T13:54:31.671Z"
   },
   {
    "duration": 5,
    "start_time": "2024-03-09T13:54:43.983Z"
   },
   {
    "duration": 19,
    "start_time": "2024-03-09T13:54:44.687Z"
   },
   {
    "duration": 7,
    "start_time": "2024-03-09T13:54:45.431Z"
   },
   {
    "duration": 5,
    "start_time": "2024-03-09T13:54:45.719Z"
   },
   {
    "duration": 171,
    "start_time": "2024-03-09T13:54:51.376Z"
   },
   {
    "duration": 16,
    "start_time": "2024-03-09T13:54:55.712Z"
   },
   {
    "duration": 10493,
    "start_time": "2024-03-09T13:55:09.368Z"
   },
   {
    "duration": 2523,
    "start_time": "2024-03-09T13:55:25.759Z"
   },
   {
    "duration": 12,
    "start_time": "2024-03-09T13:55:28.284Z"
   },
   {
    "duration": 60,
    "start_time": "2024-03-09T13:55:28.307Z"
   },
   {
    "duration": 19,
    "start_time": "2024-03-09T13:55:28.369Z"
   },
   {
    "duration": 23,
    "start_time": "2024-03-09T13:55:28.390Z"
   },
   {
    "duration": 8,
    "start_time": "2024-03-09T13:55:28.415Z"
   },
   {
    "duration": 23,
    "start_time": "2024-03-09T13:55:28.425Z"
   },
   {
    "duration": 1118,
    "start_time": "2024-03-09T13:55:28.450Z"
   },
   {
    "duration": 1539,
    "start_time": "2024-03-09T13:55:29.571Z"
   },
   {
    "duration": 5,
    "start_time": "2024-03-09T13:55:31.111Z"
   },
   {
    "duration": 121,
    "start_time": "2024-03-09T13:55:31.118Z"
   },
   {
    "duration": 68,
    "start_time": "2024-03-09T13:55:31.241Z"
   },
   {
    "duration": 66,
    "start_time": "2024-03-09T13:55:31.311Z"
   },
   {
    "duration": 2341,
    "start_time": "2024-03-09T13:55:35.508Z"
   },
   {
    "duration": 641,
    "start_time": "2024-03-09T13:55:53.432Z"
   },
   {
    "duration": 11,
    "start_time": "2024-03-09T13:56:01.440Z"
   },
   {
    "duration": 44,
    "start_time": "2024-03-09T13:56:04.097Z"
   },
   {
    "duration": 10,
    "start_time": "2024-03-09T13:56:28.912Z"
   },
   {
    "duration": 679190,
    "start_time": "2024-03-09T13:56:33.918Z"
   },
   {
    "duration": 8805,
    "start_time": "2024-03-09T14:30:10.408Z"
   },
   {
    "duration": 9,
    "start_time": "2024-03-09T14:30:22.798Z"
   },
   {
    "duration": 2524,
    "start_time": "2024-03-09T14:30:22.927Z"
   },
   {
    "duration": 2320,
    "start_time": "2024-03-09T14:31:00.356Z"
   },
   {
    "duration": 6,
    "start_time": "2024-03-09T14:31:02.678Z"
   },
   {
    "duration": 479,
    "start_time": "2024-03-09T14:31:02.686Z"
   },
   {
    "duration": 96,
    "start_time": "2024-03-09T14:31:03.167Z"
   },
   {
    "duration": 76,
    "start_time": "2024-03-09T14:31:03.265Z"
   },
   {
    "duration": 181,
    "start_time": "2024-03-09T14:31:03.343Z"
   },
   {
    "duration": 94,
    "start_time": "2024-03-09T14:31:03.526Z"
   },
   {
    "duration": 1138,
    "start_time": "2024-03-09T14:31:03.622Z"
   },
   {
    "duration": 1320,
    "start_time": "2024-03-09T14:31:04.762Z"
   },
   {
    "duration": 7,
    "start_time": "2024-03-09T14:31:06.085Z"
   },
   {
    "duration": 7,
    "start_time": "2024-03-09T14:31:06.093Z"
   },
   {
    "duration": 15,
    "start_time": "2024-03-09T14:31:06.102Z"
   },
   {
    "duration": 12,
    "start_time": "2024-03-09T14:31:06.119Z"
   },
   {
    "duration": 2171,
    "start_time": "2024-03-09T14:31:06.133Z"
   },
   {
    "duration": 541,
    "start_time": "2024-03-09T14:31:08.306Z"
   },
   {
    "duration": 7,
    "start_time": "2024-03-09T14:31:08.849Z"
   },
   {
    "duration": 59,
    "start_time": "2024-03-09T14:31:08.858Z"
   },
   {
    "duration": 10,
    "start_time": "2024-03-09T14:31:08.920Z"
   },
   {
    "duration": 3854,
    "start_time": "2024-03-09T14:31:09.238Z"
   },
   {
    "duration": 2395,
    "start_time": "2024-03-09T14:31:21.549Z"
   },
   {
    "duration": 2471,
    "start_time": "2024-03-09T14:31:36.038Z"
   },
   {
    "duration": 3819,
    "start_time": "2024-03-09T14:31:43.617Z"
   },
   {
    "duration": 110,
    "start_time": "2024-03-09T14:33:29.686Z"
   },
   {
    "duration": 142,
    "start_time": "2024-03-09T14:33:32.703Z"
   },
   {
    "duration": 400,
    "start_time": "2024-03-09T14:33:35.639Z"
   },
   {
    "duration": 9,
    "start_time": "2024-03-09T14:34:18.311Z"
   },
   {
    "duration": 97,
    "start_time": "2024-03-09T14:34:18.623Z"
   },
   {
    "duration": 395,
    "start_time": "2024-03-09T14:34:24.743Z"
   },
   {
    "duration": 161,
    "start_time": "2024-03-09T14:34:41.487Z"
   },
   {
    "duration": 9,
    "start_time": "2024-03-09T14:34:49.539Z"
   },
   {
    "duration": 23,
    "start_time": "2024-03-09T14:34:53.088Z"
   },
   {
    "duration": 9,
    "start_time": "2024-03-09T14:35:10.590Z"
   },
   {
    "duration": 416,
    "start_time": "2024-03-09T14:35:10.718Z"
   },
   {
    "duration": 449,
    "start_time": "2024-03-09T14:35:42.904Z"
   },
   {
    "duration": 11,
    "start_time": "2024-03-09T14:36:00.262Z"
   },
   {
    "duration": 478,
    "start_time": "2024-03-09T14:36:05.048Z"
   },
   {
    "duration": 4,
    "start_time": "2024-03-09T14:36:05.529Z"
   },
   {
    "duration": 3,
    "start_time": "2024-03-09T14:36:26.416Z"
   },
   {
    "duration": 11,
    "start_time": "2024-03-09T14:36:32.721Z"
   },
   {
    "duration": 10,
    "start_time": "2024-03-09T14:36:41.849Z"
   },
   {
    "duration": 4,
    "start_time": "2024-03-09T14:36:46.492Z"
   },
   {
    "duration": 12,
    "start_time": "2024-03-09T14:37:04.983Z"
   },
   {
    "duration": 4,
    "start_time": "2024-03-09T14:37:19.878Z"
   },
   {
    "duration": 4,
    "start_time": "2024-03-09T14:37:43.255Z"
   },
   {
    "duration": 3,
    "start_time": "2024-03-09T14:37:46.143Z"
   },
   {
    "duration": 9,
    "start_time": "2024-03-09T14:40:12.385Z"
   },
   {
    "duration": 432,
    "start_time": "2024-03-09T14:40:12.515Z"
   },
   {
    "duration": 4,
    "start_time": "2024-03-09T14:40:14.841Z"
   },
   {
    "duration": 7,
    "start_time": "2024-03-09T14:40:19.208Z"
   },
   {
    "duration": 8,
    "start_time": "2024-03-09T14:44:05.274Z"
   },
   {
    "duration": 453,
    "start_time": "2024-03-09T14:44:05.401Z"
   },
   {
    "duration": 7,
    "start_time": "2024-03-09T14:44:05.892Z"
   },
   {
    "duration": 6,
    "start_time": "2024-03-09T14:44:11.611Z"
   },
   {
    "duration": 384,
    "start_time": "2024-03-09T14:44:22.162Z"
   },
   {
    "duration": 5,
    "start_time": "2024-03-09T14:44:23.179Z"
   },
   {
    "duration": 3,
    "start_time": "2024-03-09T14:44:34.691Z"
   },
   {
    "duration": 22,
    "start_time": "2024-03-09T14:44:39.337Z"
   },
   {
    "duration": 11,
    "start_time": "2024-03-09T14:45:07.812Z"
   },
   {
    "duration": 20,
    "start_time": "2024-03-09T14:45:31.884Z"
   },
   {
    "duration": 5,
    "start_time": "2024-03-09T14:47:46.195Z"
   },
   {
    "duration": 4,
    "start_time": "2024-03-09T14:47:55.052Z"
   },
   {
    "duration": 12,
    "start_time": "2024-03-09T14:48:14.532Z"
   },
   {
    "duration": 4,
    "start_time": "2024-03-09T14:48:53.133Z"
   },
   {
    "duration": 10,
    "start_time": "2024-03-09T14:48:54.795Z"
   },
   {
    "duration": 38965,
    "start_time": "2024-03-09T14:49:05.028Z"
   },
   {
    "duration": 14,
    "start_time": "2024-03-09T14:49:43.995Z"
   },
   {
    "duration": 6,
    "start_time": "2024-03-09T15:00:13.813Z"
   },
   {
    "duration": 26,
    "start_time": "2024-03-09T15:00:17.174Z"
   },
   {
    "duration": 8,
    "start_time": "2024-03-09T15:00:18.109Z"
   },
   {
    "duration": 39286,
    "start_time": "2024-03-09T15:00:33.855Z"
   },
   {
    "duration": 11,
    "start_time": "2024-03-09T15:01:13.142Z"
   },
   {
    "duration": 7,
    "start_time": "2024-03-09T15:11:27.926Z"
   },
   {
    "duration": 8,
    "start_time": "2024-03-09T15:11:38.078Z"
   },
   {
    "duration": 8,
    "start_time": "2024-03-09T15:11:55.174Z"
   },
   {
    "duration": 38647,
    "start_time": "2024-03-09T15:11:55.796Z"
   },
   {
    "duration": 9,
    "start_time": "2024-03-09T15:15:11.087Z"
   },
   {
    "duration": 38613,
    "start_time": "2024-03-09T15:15:33.881Z"
   },
   {
    "duration": 23,
    "start_time": "2024-03-09T15:16:19.109Z"
   },
   {
    "duration": 10,
    "start_time": "2024-03-09T15:16:19.237Z"
   },
   {
    "duration": 10,
    "start_time": "2024-03-09T15:16:28.006Z"
   },
   {
    "duration": 34797,
    "start_time": "2024-03-09T15:16:28.133Z"
   },
   {
    "duration": 2562,
    "start_time": "2024-03-09T15:17:27.345Z"
   },
   {
    "duration": 34251,
    "start_time": "2024-03-09T15:17:37.048Z"
   },
   {
    "duration": 40941,
    "start_time": "2024-03-09T15:18:24.886Z"
   },
   {
    "duration": 4196,
    "start_time": "2024-03-09T15:19:33.732Z"
   },
   {
    "duration": 39514,
    "start_time": "2024-03-09T15:19:42.834Z"
   },
   {
    "duration": 55,
    "start_time": "2024-03-09T15:20:44.325Z"
   },
   {
    "duration": 23497,
    "start_time": "2024-03-09T15:20:44.616Z"
   },
   {
    "duration": 54,
    "start_time": "2024-03-09T15:21:10.126Z"
   },
   {
    "duration": 57,
    "start_time": "2024-03-09T15:21:17.909Z"
   },
   {
    "duration": 60,
    "start_time": "2024-03-09T15:21:21.790Z"
   },
   {
    "duration": 14310,
    "start_time": "2024-03-09T15:21:21.901Z"
   },
   {
    "duration": 0,
    "start_time": "2024-03-09T15:21:36.213Z"
   },
   {
    "duration": 56,
    "start_time": "2024-03-09T15:21:38.088Z"
   },
   {
    "duration": 68,
    "start_time": "2024-03-09T15:22:06.208Z"
   },
   {
    "duration": 2397,
    "start_time": "2024-03-09T15:45:44.240Z"
   },
   {
    "duration": 7,
    "start_time": "2024-03-09T15:45:46.639Z"
   },
   {
    "duration": 101,
    "start_time": "2024-03-09T15:45:46.648Z"
   },
   {
    "duration": 20,
    "start_time": "2024-03-09T15:45:46.751Z"
   },
   {
    "duration": 56,
    "start_time": "2024-03-09T15:45:46.774Z"
   },
   {
    "duration": 12,
    "start_time": "2024-03-09T15:45:46.831Z"
   },
   {
    "duration": 38,
    "start_time": "2024-03-09T15:45:46.845Z"
   },
   {
    "duration": 942,
    "start_time": "2024-03-09T15:45:46.885Z"
   },
   {
    "duration": 1341,
    "start_time": "2024-03-09T15:45:47.829Z"
   },
   {
    "duration": 4,
    "start_time": "2024-03-09T15:45:49.172Z"
   },
   {
    "duration": 15,
    "start_time": "2024-03-09T15:45:49.178Z"
   },
   {
    "duration": 11,
    "start_time": "2024-03-09T15:45:49.195Z"
   },
   {
    "duration": 5,
    "start_time": "2024-03-09T15:45:49.207Z"
   },
   {
    "duration": 28,
    "start_time": "2024-03-09T15:45:49.216Z"
   },
   {
    "duration": 2194,
    "start_time": "2024-03-09T15:45:49.246Z"
   },
   {
    "duration": 486,
    "start_time": "2024-03-09T15:45:51.442Z"
   },
   {
    "duration": 6,
    "start_time": "2024-03-09T15:45:51.930Z"
   },
   {
    "duration": 16,
    "start_time": "2024-03-09T15:45:51.938Z"
   },
   {
    "duration": 8,
    "start_time": "2024-03-09T15:45:52.105Z"
   },
   {
    "duration": 78,
    "start_time": "2024-03-09T15:45:55.171Z"
   },
   {
    "duration": 182,
    "start_time": "2024-03-09T15:47:29.268Z"
   },
   {
    "duration": 10,
    "start_time": "2024-03-09T15:49:00.241Z"
   },
   {
    "duration": 7,
    "start_time": "2024-03-09T15:49:03.158Z"
   },
   {
    "duration": 59,
    "start_time": "2024-03-09T15:49:04.052Z"
   },
   {
    "duration": 28,
    "start_time": "2024-03-09T15:49:07.349Z"
   },
   {
    "duration": 4,
    "start_time": "2024-03-09T15:49:22.589Z"
   },
   {
    "duration": 15,
    "start_time": "2024-03-09T15:49:24.765Z"
   },
   {
    "duration": 8,
    "start_time": "2024-03-09T15:49:24.909Z"
   },
   {
    "duration": 55,
    "start_time": "2024-03-09T15:49:25.222Z"
   },
   {
    "duration": 29,
    "start_time": "2024-03-09T15:49:26.028Z"
   },
   {
    "duration": 11,
    "start_time": "2024-03-09T15:49:42.220Z"
   },
   {
    "duration": 8,
    "start_time": "2024-03-09T15:49:43.236Z"
   },
   {
    "duration": 54,
    "start_time": "2024-03-09T15:49:43.691Z"
   },
   {
    "duration": 25,
    "start_time": "2024-03-09T15:49:44.205Z"
   },
   {
    "duration": 11,
    "start_time": "2024-03-09T15:49:53.188Z"
   },
   {
    "duration": 7,
    "start_time": "2024-03-09T15:49:53.347Z"
   },
   {
    "duration": 54,
    "start_time": "2024-03-09T15:49:53.805Z"
   },
   {
    "duration": 9,
    "start_time": "2024-03-09T15:50:32.676Z"
   },
   {
    "duration": 7,
    "start_time": "2024-03-09T15:50:32.795Z"
   },
   {
    "duration": 53,
    "start_time": "2024-03-09T15:50:33.054Z"
   },
   {
    "duration": 48099,
    "start_time": "2024-03-09T15:50:33.406Z"
   },
   {
    "duration": 47568,
    "start_time": "2024-03-09T15:52:22.628Z"
   },
   {
    "duration": 0,
    "start_time": "2024-03-09T15:53:10.198Z"
   },
   {
    "duration": 7,
    "start_time": "2024-03-09T15:53:12.038Z"
   },
   {
    "duration": 54,
    "start_time": "2024-03-09T15:53:12.166Z"
   },
   {
    "duration": 38899,
    "start_time": "2024-03-09T15:53:12.412Z"
   },
   {
    "duration": 55,
    "start_time": "2024-03-09T15:53:55.214Z"
   },
   {
    "duration": 19429,
    "start_time": "2024-03-09T15:53:55.379Z"
   },
   {
    "duration": 9,
    "start_time": "2024-03-09T15:54:17.724Z"
   },
   {
    "duration": 54,
    "start_time": "2024-03-09T15:54:17.878Z"
   },
   {
    "duration": 50618,
    "start_time": "2024-03-09T15:54:18.190Z"
   },
   {
    "duration": 6,
    "start_time": "2024-03-09T15:57:44.263Z"
   },
   {
    "duration": 64,
    "start_time": "2024-03-09T15:57:44.494Z"
   },
   {
    "duration": 7368,
    "start_time": "2024-03-09T15:57:45.262Z"
   },
   {
    "duration": 4,
    "start_time": "2024-03-09T15:57:52.927Z"
   },
   {
    "duration": 73,
    "start_time": "2024-03-09T15:57:53.295Z"
   },
   {
    "duration": 4642,
    "start_time": "2024-03-09T15:57:53.567Z"
   },
   {
    "duration": 4,
    "start_time": "2024-03-09T15:58:03.341Z"
   },
   {
    "duration": 58,
    "start_time": "2024-03-09T15:58:03.477Z"
   },
   {
    "duration": 3909,
    "start_time": "2024-03-09T15:58:03.799Z"
   },
   {
    "duration": 3,
    "start_time": "2024-03-09T15:58:11.798Z"
   },
   {
    "duration": 55,
    "start_time": "2024-03-09T15:58:11.919Z"
   },
   {
    "duration": 14146,
    "start_time": "2024-03-09T15:58:12.270Z"
   },
   {
    "duration": 5,
    "start_time": "2024-03-09T15:58:35.270Z"
   },
   {
    "duration": 56,
    "start_time": "2024-03-09T15:58:35.391Z"
   },
   {
    "duration": 47842,
    "start_time": "2024-03-09T15:58:35.664Z"
   },
   {
    "duration": 5,
    "start_time": "2024-03-09T15:59:28.534Z"
   },
   {
    "duration": 59,
    "start_time": "2024-03-09T15:59:28.662Z"
   },
   {
    "duration": 22614,
    "start_time": "2024-03-09T15:59:28.894Z"
   },
   {
    "duration": 12,
    "start_time": "2024-03-09T15:59:51.829Z"
   },
   {
    "duration": 58,
    "start_time": "2024-03-09T15:59:51.949Z"
   },
   {
    "duration": 20012,
    "start_time": "2024-03-09T15:59:52.407Z"
   },
   {
    "duration": 4,
    "start_time": "2024-03-09T16:00:12.725Z"
   },
   {
    "duration": 63,
    "start_time": "2024-03-09T16:00:12.855Z"
   },
   {
    "duration": 6096,
    "start_time": "2024-03-09T16:00:13.118Z"
   },
   {
    "duration": 67173,
    "start_time": "2024-03-09T16:00:21.938Z"
   },
   {
    "duration": 17,
    "start_time": "2024-03-09T16:01:34.901Z"
   },
   {
    "duration": 17,
    "start_time": "2024-03-09T16:04:34.425Z"
   },
   {
    "duration": 19,
    "start_time": "2024-03-09T16:04:36.959Z"
   },
   {
    "duration": 15,
    "start_time": "2024-03-09T16:05:10.442Z"
   },
   {
    "duration": 7117,
    "start_time": "2024-03-09T16:05:23.487Z"
   },
   {
    "duration": 12,
    "start_time": "2024-03-09T16:05:30.607Z"
   },
   {
    "duration": 14,
    "start_time": "2024-03-09T16:05:33.144Z"
   },
   {
    "duration": 4,
    "start_time": "2024-03-09T16:05:37.743Z"
   },
   {
    "duration": 59,
    "start_time": "2024-03-09T16:05:37.887Z"
   },
   {
    "duration": 6820,
    "start_time": "2024-03-09T16:05:38.183Z"
   },
   {
    "duration": 14,
    "start_time": "2024-03-09T16:05:45.005Z"
   },
   {
    "duration": 13,
    "start_time": "2024-03-09T16:05:50.118Z"
   },
   {
    "duration": 4,
    "start_time": "2024-03-09T16:05:55.663Z"
   },
   {
    "duration": 55,
    "start_time": "2024-03-09T16:05:55.801Z"
   },
   {
    "duration": 4737,
    "start_time": "2024-03-09T16:05:56.120Z"
   },
   {
    "duration": 17,
    "start_time": "2024-03-09T16:06:01.990Z"
   },
   {
    "duration": 23528,
    "start_time": "2024-03-09T16:06:30.121Z"
   },
   {
    "duration": 52,
    "start_time": "2024-03-09T16:06:53.651Z"
   },
   {
    "duration": 13,
    "start_time": "2024-03-09T16:06:56.279Z"
   },
   {
    "duration": 2433,
    "start_time": "2024-03-09T16:07:10.185Z"
   },
   {
    "duration": 11,
    "start_time": "2024-03-09T16:07:12.620Z"
   },
   {
    "duration": 539,
    "start_time": "2024-03-09T16:07:20.654Z"
   },
   {
    "duration": 17,
    "start_time": "2024-03-09T16:07:21.195Z"
   },
   {
    "duration": 4,
    "start_time": "2024-03-09T16:07:27.784Z"
   },
   {
    "duration": 55,
    "start_time": "2024-03-09T16:07:27.919Z"
   },
   {
    "duration": 452,
    "start_time": "2024-03-09T16:07:28.200Z"
   },
   {
    "duration": 13,
    "start_time": "2024-03-09T16:07:30.257Z"
   },
   {
    "duration": 3594,
    "start_time": "2024-03-09T16:07:35.055Z"
   },
   {
    "duration": 50,
    "start_time": "2024-03-09T16:07:38.651Z"
   },
   {
    "duration": 18853,
    "start_time": "2024-03-09T16:07:45.160Z"
   },
   {
    "duration": 17,
    "start_time": "2024-03-09T16:08:04.015Z"
   },
   {
    "duration": 16794,
    "start_time": "2024-03-09T16:08:18.015Z"
   },
   {
    "duration": 0,
    "start_time": "2024-03-09T16:08:34.810Z"
   },
   {
    "duration": 4606,
    "start_time": "2024-03-09T16:08:35.401Z"
   },
   {
    "duration": 0,
    "start_time": "2024-03-09T16:08:40.009Z"
   },
   {
    "duration": 10,
    "start_time": "2024-03-09T16:08:40.840Z"
   },
   {
    "duration": 4,
    "start_time": "2024-03-09T16:08:40.959Z"
   },
   {
    "duration": 65,
    "start_time": "2024-03-09T16:08:41.176Z"
   },
   {
    "duration": 19078,
    "start_time": "2024-03-09T16:08:41.448Z"
   },
   {
    "duration": 0,
    "start_time": "2024-03-09T16:09:00.528Z"
   },
   {
    "duration": 4,
    "start_time": "2024-03-09T16:09:11.607Z"
   },
   {
    "duration": 55,
    "start_time": "2024-03-09T16:09:11.735Z"
   },
   {
    "duration": 47821,
    "start_time": "2024-03-09T16:09:12.176Z"
   },
   {
    "duration": 15,
    "start_time": "2024-03-09T16:09:59.999Z"
   },
   {
    "duration": 2135,
    "start_time": "2024-03-09T16:10:06.472Z"
   },
   {
    "duration": 0,
    "start_time": "2024-03-09T16:10:08.608Z"
   },
   {
    "duration": 5,
    "start_time": "2024-03-09T16:10:10.071Z"
   },
   {
    "duration": 56,
    "start_time": "2024-03-09T16:10:10.186Z"
   },
   {
    "duration": 4794,
    "start_time": "2024-03-09T16:10:10.416Z"
   },
   {
    "duration": 13,
    "start_time": "2024-03-09T16:10:15.211Z"
   },
   {
    "duration": 10,
    "start_time": "2024-03-09T16:10:22.010Z"
   },
   {
    "duration": 3,
    "start_time": "2024-03-09T16:10:22.153Z"
   },
   {
    "duration": 53,
    "start_time": "2024-03-09T16:10:22.313Z"
   },
   {
    "duration": 9652,
    "start_time": "2024-03-09T16:10:22.446Z"
   },
   {
    "duration": 13,
    "start_time": "2024-03-09T16:10:32.100Z"
   },
   {
    "duration": 4328,
    "start_time": "2024-03-09T16:10:37.780Z"
   },
   {
    "duration": 10,
    "start_time": "2024-03-09T16:10:42.256Z"
   },
   {
    "duration": 4,
    "start_time": "2024-03-09T16:10:42.512Z"
   },
   {
    "duration": 55,
    "start_time": "2024-03-09T16:10:42.761Z"
   },
   {
    "duration": 7258,
    "start_time": "2024-03-09T16:10:42.896Z"
   },
   {
    "duration": 14,
    "start_time": "2024-03-09T16:10:50.156Z"
   },
   {
    "duration": 13,
    "start_time": "2024-03-09T16:10:53.008Z"
   },
   {
    "duration": 4,
    "start_time": "2024-03-09T16:15:09.705Z"
   },
   {
    "duration": 81,
    "start_time": "2024-03-09T16:15:09.857Z"
   },
   {
    "duration": 10316,
    "start_time": "2024-03-09T16:15:10.434Z"
   },
   {
    "duration": 13,
    "start_time": "2024-03-09T16:15:20.752Z"
   },
   {
    "duration": 3198,
    "start_time": "2024-03-09T16:15:26.338Z"
   },
   {
    "duration": 12,
    "start_time": "2024-03-09T16:15:29.538Z"
   },
   {
    "duration": 12,
    "start_time": "2024-03-09T16:15:30.001Z"
   },
   {
    "duration": 112,
    "start_time": "2024-03-09T16:15:30.138Z"
   },
   {
    "duration": 340,
    "start_time": "2024-03-09T16:15:30.275Z"
   },
   {
    "duration": 4109,
    "start_time": "2024-03-09T16:15:30.617Z"
   },
   {
    "duration": 13,
    "start_time": "2024-03-09T16:15:34.728Z"
   },
   {
    "duration": 15,
    "start_time": "2024-03-09T16:15:40.794Z"
   },
   {
    "duration": 5,
    "start_time": "2024-03-09T16:15:40.921Z"
   },
   {
    "duration": 101,
    "start_time": "2024-03-09T16:15:41.162Z"
   },
   {
    "duration": 105,
    "start_time": "2024-03-09T16:15:41.436Z"
   },
   {
    "duration": 16,
    "start_time": "2024-03-09T16:15:41.795Z"
   },
   {
    "duration": 15,
    "start_time": "2024-03-09T16:15:50.089Z"
   },
   {
    "duration": 4,
    "start_time": "2024-03-09T16:15:50.233Z"
   },
   {
    "duration": 88,
    "start_time": "2024-03-09T16:15:50.354Z"
   },
   {
    "duration": 2239,
    "start_time": "2024-03-09T16:15:50.508Z"
   },
   {
    "duration": 47,
    "start_time": "2024-03-09T16:15:52.750Z"
   },
   {
    "duration": 14,
    "start_time": "2024-03-09T16:16:04.386Z"
   },
   {
    "duration": 4,
    "start_time": "2024-03-09T16:16:04.506Z"
   },
   {
    "duration": 58,
    "start_time": "2024-03-09T16:16:04.643Z"
   },
   {
    "duration": 1556,
    "start_time": "2024-03-09T16:16:04.779Z"
   },
   {
    "duration": 13,
    "start_time": "2024-03-09T16:16:06.336Z"
   },
   {
    "duration": 11,
    "start_time": "2024-03-09T16:16:11.043Z"
   },
   {
    "duration": 4,
    "start_time": "2024-03-09T16:16:11.128Z"
   },
   {
    "duration": 60,
    "start_time": "2024-03-09T16:16:11.258Z"
   },
   {
    "duration": 4971,
    "start_time": "2024-03-09T16:16:11.388Z"
   },
   {
    "duration": 15,
    "start_time": "2024-03-09T16:16:16.392Z"
   },
   {
    "duration": 12,
    "start_time": "2024-03-09T16:16:21.705Z"
   },
   {
    "duration": 4,
    "start_time": "2024-03-09T16:16:21.825Z"
   },
   {
    "duration": 60,
    "start_time": "2024-03-09T16:16:21.955Z"
   },
   {
    "duration": 9721,
    "start_time": "2024-03-09T16:16:22.090Z"
   },
   {
    "duration": 12,
    "start_time": "2024-03-09T16:16:31.813Z"
   },
   {
    "duration": 10,
    "start_time": "2024-03-09T16:16:38.898Z"
   },
   {
    "duration": 6,
    "start_time": "2024-03-09T16:16:39.034Z"
   },
   {
    "duration": 61,
    "start_time": "2024-03-09T16:16:39.171Z"
   },
   {
    "duration": 7046,
    "start_time": "2024-03-09T16:16:39.295Z"
   },
   {
    "duration": 12,
    "start_time": "2024-03-09T16:16:46.343Z"
   },
   {
    "duration": 10,
    "start_time": "2024-03-09T16:16:53.843Z"
   },
   {
    "duration": 5,
    "start_time": "2024-03-09T16:16:54.100Z"
   },
   {
    "duration": 65,
    "start_time": "2024-03-09T16:16:54.225Z"
   },
   {
    "duration": 8759,
    "start_time": "2024-03-09T16:16:54.349Z"
   },
   {
    "duration": 13,
    "start_time": "2024-03-09T16:17:03.110Z"
   },
   {
    "duration": 9,
    "start_time": "2024-03-09T16:17:10.394Z"
   },
   {
    "duration": 4,
    "start_time": "2024-03-09T16:17:10.530Z"
   },
   {
    "duration": 53,
    "start_time": "2024-03-09T16:17:10.659Z"
   },
   {
    "duration": 8916,
    "start_time": "2024-03-09T16:17:10.785Z"
   },
   {
    "duration": 13,
    "start_time": "2024-03-09T16:17:19.703Z"
   },
   {
    "duration": 14,
    "start_time": "2024-03-09T16:17:25.627Z"
   },
   {
    "duration": 4,
    "start_time": "2024-03-09T16:17:26.025Z"
   },
   {
    "duration": 88,
    "start_time": "2024-03-09T16:17:26.155Z"
   },
   {
    "duration": 12667,
    "start_time": "2024-03-09T16:17:26.282Z"
   },
   {
    "duration": 12,
    "start_time": "2024-03-09T16:17:38.951Z"
   },
   {
    "duration": 4666,
    "start_time": "2024-03-09T16:17:47.042Z"
   },
   {
    "duration": 0,
    "start_time": "2024-03-09T16:17:51.709Z"
   },
   {
    "duration": 10,
    "start_time": "2024-03-09T16:17:51.938Z"
   },
   {
    "duration": 5,
    "start_time": "2024-03-09T16:17:52.056Z"
   },
   {
    "duration": 92,
    "start_time": "2024-03-09T16:17:52.186Z"
   },
   {
    "duration": 10,
    "start_time": "2024-03-09T16:17:54.555Z"
   },
   {
    "duration": 4,
    "start_time": "2024-03-09T16:17:54.707Z"
   },
   {
    "duration": 58,
    "start_time": "2024-03-09T16:17:54.841Z"
   },
   {
    "duration": 9634,
    "start_time": "2024-03-09T16:17:54.977Z"
   },
   {
    "duration": 13,
    "start_time": "2024-03-09T16:18:04.614Z"
   },
   {
    "duration": 12,
    "start_time": "2024-03-09T16:18:30.002Z"
   },
   {
    "duration": 3,
    "start_time": "2024-03-09T16:18:30.130Z"
   },
   {
    "duration": 114,
    "start_time": "2024-03-09T16:18:30.258Z"
   },
   {
    "duration": 8154,
    "start_time": "2024-03-09T16:18:30.393Z"
   },
   {
    "duration": 52,
    "start_time": "2024-03-09T16:18:38.549Z"
   },
   {
    "duration": 9,
    "start_time": "2024-03-09T16:18:44.387Z"
   },
   {
    "duration": 4,
    "start_time": "2024-03-09T16:18:44.514Z"
   },
   {
    "duration": 55,
    "start_time": "2024-03-09T16:18:44.643Z"
   },
   {
    "duration": 20969,
    "start_time": "2024-03-09T16:18:44.777Z"
   },
   {
    "duration": 45,
    "start_time": "2024-03-09T16:19:05.748Z"
   },
   {
    "duration": 10,
    "start_time": "2024-03-09T16:19:13.018Z"
   },
   {
    "duration": 4,
    "start_time": "2024-03-09T16:19:13.138Z"
   },
   {
    "duration": 55,
    "start_time": "2024-03-09T16:19:13.274Z"
   },
   {
    "duration": 10035,
    "start_time": "2024-03-09T16:19:13.416Z"
   },
   {
    "duration": 13,
    "start_time": "2024-03-09T16:19:30.651Z"
   },
   {
    "duration": 4,
    "start_time": "2024-03-09T16:19:30.914Z"
   },
   {
    "duration": 133,
    "start_time": "2024-03-09T16:19:31.058Z"
   },
   {
    "duration": 16046,
    "start_time": "2024-03-09T16:19:31.210Z"
   },
   {
    "duration": 13,
    "start_time": "2024-03-09T16:19:51.339Z"
   },
   {
    "duration": 4,
    "start_time": "2024-03-09T16:19:59.364Z"
   },
   {
    "duration": 52,
    "start_time": "2024-03-09T16:19:59.524Z"
   },
   {
    "duration": 17345,
    "start_time": "2024-03-09T16:19:59.781Z"
   },
   {
    "duration": 12,
    "start_time": "2024-03-09T16:20:17.127Z"
   },
   {
    "duration": 1599,
    "start_time": "2024-03-09T16:20:21.611Z"
   },
   {
    "duration": 0,
    "start_time": "2024-03-09T16:20:23.212Z"
   },
   {
    "duration": 10,
    "start_time": "2024-03-09T16:20:23.858Z"
   },
   {
    "duration": 4,
    "start_time": "2024-03-09T16:20:23.953Z"
   },
   {
    "duration": 76,
    "start_time": "2024-03-09T16:20:24.083Z"
   },
   {
    "duration": 11138,
    "start_time": "2024-03-09T16:20:24.213Z"
   },
   {
    "duration": 18,
    "start_time": "2024-03-09T16:20:35.391Z"
   },
   {
    "duration": 4,
    "start_time": "2024-03-09T16:20:56.179Z"
   },
   {
    "duration": 55,
    "start_time": "2024-03-09T16:20:56.306Z"
   },
   {
    "duration": 11488,
    "start_time": "2024-03-09T16:20:56.431Z"
   },
   {
    "duration": 0,
    "start_time": "2024-03-09T16:21:07.921Z"
   },
   {
    "duration": 5,
    "start_time": "2024-03-09T16:21:10.194Z"
   },
   {
    "duration": 64,
    "start_time": "2024-03-09T16:21:10.331Z"
   },
   {
    "duration": 12057,
    "start_time": "2024-03-09T16:21:10.452Z"
   },
   {
    "duration": 13,
    "start_time": "2024-03-09T16:21:22.511Z"
   },
   {
    "duration": 11,
    "start_time": "2024-03-09T16:21:25.972Z"
   },
   {
    "duration": 4,
    "start_time": "2024-03-09T16:21:26.098Z"
   },
   {
    "duration": 65,
    "start_time": "2024-03-09T16:21:26.243Z"
   },
   {
    "duration": 12208,
    "start_time": "2024-03-09T16:21:26.435Z"
   },
   {
    "duration": 13,
    "start_time": "2024-03-09T16:21:45.500Z"
   },
   {
    "duration": 4,
    "start_time": "2024-03-09T16:21:45.611Z"
   },
   {
    "duration": 65,
    "start_time": "2024-03-09T16:21:45.740Z"
   },
   {
    "duration": 12464,
    "start_time": "2024-03-09T16:21:45.864Z"
   },
   {
    "duration": 12,
    "start_time": "2024-03-09T16:21:58.330Z"
   },
   {
    "duration": 12,
    "start_time": "2024-03-09T16:22:00.964Z"
   },
   {
    "duration": 15,
    "start_time": "2024-03-09T16:22:17.125Z"
   },
   {
    "duration": 5,
    "start_time": "2024-03-09T16:22:17.267Z"
   },
   {
    "duration": 79,
    "start_time": "2024-03-09T16:22:17.403Z"
   },
   {
    "duration": 12072,
    "start_time": "2024-03-09T16:22:17.536Z"
   },
   {
    "duration": 0,
    "start_time": "2024-03-09T16:22:29.610Z"
   },
   {
    "duration": 4,
    "start_time": "2024-03-09T16:22:30.028Z"
   },
   {
    "duration": 94,
    "start_time": "2024-03-09T16:22:30.139Z"
   },
   {
    "duration": 27478,
    "start_time": "2024-03-09T16:22:30.266Z"
   },
   {
    "duration": 15,
    "start_time": "2024-03-09T16:22:57.746Z"
   },
   {
    "duration": 1675,
    "start_time": "2024-03-09T16:23:08.036Z"
   },
   {
    "duration": 0,
    "start_time": "2024-03-09T16:23:09.713Z"
   },
   {
    "duration": 10,
    "start_time": "2024-03-09T16:23:10.707Z"
   },
   {
    "duration": 4,
    "start_time": "2024-03-09T16:23:10.964Z"
   },
   {
    "duration": 57,
    "start_time": "2024-03-09T16:23:11.093Z"
   },
   {
    "duration": 6797,
    "start_time": "2024-03-09T16:23:11.227Z"
   },
   {
    "duration": 16,
    "start_time": "2024-03-09T16:23:18.027Z"
   },
   {
    "duration": 4,
    "start_time": "2024-03-09T16:23:28.675Z"
   },
   {
    "duration": 55,
    "start_time": "2024-03-09T16:23:28.821Z"
   },
   {
    "duration": 4928,
    "start_time": "2024-03-09T16:23:29.012Z"
   },
   {
    "duration": 13,
    "start_time": "2024-03-09T16:23:33.942Z"
   },
   {
    "duration": 10,
    "start_time": "2024-03-09T16:23:41.725Z"
   },
   {
    "duration": 4,
    "start_time": "2024-03-09T16:23:41.860Z"
   },
   {
    "duration": 57,
    "start_time": "2024-03-09T16:23:41.989Z"
   },
   {
    "duration": 9992,
    "start_time": "2024-03-09T16:23:42.115Z"
   },
   {
    "duration": 12,
    "start_time": "2024-03-09T16:23:52.109Z"
   },
   {
    "duration": 9,
    "start_time": "2024-03-09T16:23:58.988Z"
   },
   {
    "duration": 4,
    "start_time": "2024-03-09T16:23:59.125Z"
   },
   {
    "duration": 53,
    "start_time": "2024-03-09T16:23:59.253Z"
   },
   {
    "duration": 6961,
    "start_time": "2024-03-09T16:23:59.389Z"
   },
   {
    "duration": 11,
    "start_time": "2024-03-09T16:24:12.811Z"
   },
   {
    "duration": 5,
    "start_time": "2024-03-09T16:24:12.947Z"
   },
   {
    "duration": 54,
    "start_time": "2024-03-09T16:24:13.060Z"
   },
   {
    "duration": 2368,
    "start_time": "2024-03-09T16:24:13.183Z"
   },
   {
    "duration": 48,
    "start_time": "2024-03-09T16:24:15.553Z"
   },
   {
    "duration": 6,
    "start_time": "2024-03-09T16:24:27.068Z"
   },
   {
    "duration": 56,
    "start_time": "2024-03-09T16:24:27.229Z"
   },
   {
    "duration": 4765,
    "start_time": "2024-03-09T16:24:27.638Z"
   },
   {
    "duration": 13,
    "start_time": "2024-03-09T16:24:33.204Z"
   },
   {
    "duration": 10,
    "start_time": "2024-03-09T16:24:38.404Z"
   },
   {
    "duration": 4,
    "start_time": "2024-03-09T16:24:38.540Z"
   },
   {
    "duration": 62,
    "start_time": "2024-03-09T16:24:38.661Z"
   },
   {
    "duration": 9111,
    "start_time": "2024-03-09T16:24:38.783Z"
   },
   {
    "duration": 12,
    "start_time": "2024-03-09T16:24:47.897Z"
   },
   {
    "duration": 5,
    "start_time": "2024-03-09T16:25:01.238Z"
   },
   {
    "duration": 79,
    "start_time": "2024-03-09T16:25:01.364Z"
   },
   {
    "duration": 10449,
    "start_time": "2024-03-09T16:25:01.505Z"
   },
   {
    "duration": 47,
    "start_time": "2024-03-09T16:25:11.956Z"
   },
   {
    "duration": 4,
    "start_time": "2024-03-09T16:25:21.436Z"
   },
   {
    "duration": 55,
    "start_time": "2024-03-09T16:25:21.572Z"
   },
   {
    "duration": 9745,
    "start_time": "2024-03-09T16:25:21.693Z"
   },
   {
    "duration": 13,
    "start_time": "2024-03-09T16:25:31.440Z"
   },
   {
    "duration": 4,
    "start_time": "2024-03-09T16:25:38.421Z"
   },
   {
    "duration": 67,
    "start_time": "2024-03-09T16:25:38.702Z"
   },
   {
    "duration": 9116,
    "start_time": "2024-03-09T16:25:38.828Z"
   },
   {
    "duration": 12,
    "start_time": "2024-03-09T16:25:47.946Z"
   },
   {
    "duration": 5,
    "start_time": "2024-03-09T16:25:54.580Z"
   },
   {
    "duration": 62,
    "start_time": "2024-03-09T16:25:54.725Z"
   },
   {
    "duration": 9546,
    "start_time": "2024-03-09T16:25:54.956Z"
   },
   {
    "duration": 4,
    "start_time": "2024-03-09T16:26:12.013Z"
   },
   {
    "duration": 66,
    "start_time": "2024-03-09T16:26:12.140Z"
   },
   {
    "duration": 9495,
    "start_time": "2024-03-09T16:26:12.446Z"
   },
   {
    "duration": 12,
    "start_time": "2024-03-09T16:26:21.943Z"
   },
   {
    "duration": 4,
    "start_time": "2024-03-09T16:26:27.181Z"
   },
   {
    "duration": 56,
    "start_time": "2024-03-09T16:26:27.317Z"
   },
   {
    "duration": 9050,
    "start_time": "2024-03-09T16:26:27.455Z"
   },
   {
    "duration": 13,
    "start_time": "2024-03-09T16:26:36.507Z"
   },
   {
    "duration": 4,
    "start_time": "2024-03-09T16:26:48.781Z"
   },
   {
    "duration": 56,
    "start_time": "2024-03-09T16:26:48.917Z"
   },
   {
    "duration": 9673,
    "start_time": "2024-03-09T16:26:49.228Z"
   },
   {
    "duration": 12,
    "start_time": "2024-03-09T16:27:01.364Z"
   },
   {
    "duration": 5,
    "start_time": "2024-03-09T16:27:07.324Z"
   },
   {
    "duration": 53,
    "start_time": "2024-03-09T16:27:07.461Z"
   },
   {
    "duration": 19341,
    "start_time": "2024-03-09T16:27:07.806Z"
   },
   {
    "duration": 13,
    "start_time": "2024-03-09T16:27:30.181Z"
   },
   {
    "duration": 10,
    "start_time": "2024-03-09T16:27:37.069Z"
   },
   {
    "duration": 6,
    "start_time": "2024-03-09T16:27:37.188Z"
   },
   {
    "duration": 75,
    "start_time": "2024-03-09T16:27:37.325Z"
   },
   {
    "duration": 10060,
    "start_time": "2024-03-09T16:27:37.457Z"
   },
   {
    "duration": 13,
    "start_time": "2024-03-09T16:27:47.519Z"
   },
   {
    "duration": 5,
    "start_time": "2024-03-09T16:27:54.357Z"
   },
   {
    "duration": 56,
    "start_time": "2024-03-09T16:27:54.461Z"
   },
   {
    "duration": 10136,
    "start_time": "2024-03-09T16:27:54.616Z"
   },
   {
    "duration": 52,
    "start_time": "2024-03-09T16:28:04.754Z"
   },
   {
    "duration": 5,
    "start_time": "2024-03-09T16:28:12.918Z"
   },
   {
    "duration": 93,
    "start_time": "2024-03-09T16:28:13.046Z"
   },
   {
    "duration": 10063,
    "start_time": "2024-03-09T16:28:13.181Z"
   },
   {
    "duration": 13,
    "start_time": "2024-03-09T16:28:23.246Z"
   },
   {
    "duration": 7156,
    "start_time": "2024-03-09T16:28:31.452Z"
   },
   {
    "duration": 0,
    "start_time": "2024-03-09T16:28:38.610Z"
   },
   {
    "duration": 9,
    "start_time": "2024-03-09T16:28:39.301Z"
   },
   {
    "duration": 5,
    "start_time": "2024-03-09T16:28:39.420Z"
   },
   {
    "duration": 56,
    "start_time": "2024-03-09T16:28:39.540Z"
   },
   {
    "duration": 48843,
    "start_time": "2024-03-09T16:28:39.669Z"
   },
   {
    "duration": 13,
    "start_time": "2024-03-09T16:29:28.514Z"
   },
   {
    "duration": 14,
    "start_time": "2024-03-09T16:29:33.359Z"
   },
   {
    "duration": 4,
    "start_time": "2024-03-09T16:29:38.374Z"
   },
   {
    "duration": 54,
    "start_time": "2024-03-09T16:29:38.501Z"
   },
   {
    "duration": 2367,
    "start_time": "2024-03-09T16:29:38.750Z"
   },
   {
    "duration": 0,
    "start_time": "2024-03-09T16:29:41.119Z"
   },
   {
    "duration": 57,
    "start_time": "2024-03-09T16:29:45.773Z"
   },
   {
    "duration": 7594,
    "start_time": "2024-03-09T16:29:45.919Z"
   },
   {
    "duration": 0,
    "start_time": "2024-03-09T16:29:53.515Z"
   },
   {
    "duration": 10,
    "start_time": "2024-03-09T16:29:54.540Z"
   },
   {
    "duration": 4,
    "start_time": "2024-03-09T16:29:54.661Z"
   },
   {
    "duration": 54,
    "start_time": "2024-03-09T16:29:54.790Z"
   },
   {
    "duration": 9549,
    "start_time": "2024-03-09T16:29:54.900Z"
   },
   {
    "duration": 43,
    "start_time": "2024-03-09T16:30:04.451Z"
   },
   {
    "duration": 13,
    "start_time": "2024-03-09T16:30:06.726Z"
   },
   {
    "duration": 4,
    "start_time": "2024-03-09T16:30:11.597Z"
   },
   {
    "duration": 55,
    "start_time": "2024-03-09T16:30:11.744Z"
   },
   {
    "duration": 7545,
    "start_time": "2024-03-09T16:30:11.860Z"
   },
   {
    "duration": 13,
    "start_time": "2024-03-09T16:30:19.407Z"
   },
   {
    "duration": 10,
    "start_time": "2024-03-09T16:35:16.823Z"
   },
   {
    "duration": 7,
    "start_time": "2024-03-09T16:35:16.942Z"
   },
   {
    "duration": 6,
    "start_time": "2024-03-09T16:35:24.606Z"
   },
   {
    "duration": 8,
    "start_time": "2024-03-09T16:35:29.367Z"
   },
   {
    "duration": 56,
    "start_time": "2024-03-09T16:35:29.496Z"
   },
   {
    "duration": 7,
    "start_time": "2024-03-09T16:35:47.864Z"
   },
   {
    "duration": 8,
    "start_time": "2024-03-09T16:35:52.646Z"
   },
   {
    "duration": 57,
    "start_time": "2024-03-09T16:35:53.736Z"
   },
   {
    "duration": 6773,
    "start_time": "2024-03-09T16:35:55.032Z"
   },
   {
    "duration": 13,
    "start_time": "2024-03-09T16:36:01.807Z"
   },
   {
    "duration": 9,
    "start_time": "2024-03-09T16:36:07.671Z"
   },
   {
    "duration": 6,
    "start_time": "2024-03-09T16:36:07.776Z"
   },
   {
    "duration": 54,
    "start_time": "2024-03-09T16:36:07.912Z"
   },
   {
    "duration": 11274,
    "start_time": "2024-03-09T16:36:08.050Z"
   },
   {
    "duration": 13,
    "start_time": "2024-03-09T16:36:31.095Z"
   },
   {
    "duration": 7,
    "start_time": "2024-03-09T16:36:37.713Z"
   },
   {
    "duration": 53,
    "start_time": "2024-03-09T16:36:37.838Z"
   },
   {
    "duration": 10755,
    "start_time": "2024-03-09T16:36:37.984Z"
   },
   {
    "duration": 13,
    "start_time": "2024-03-09T16:36:48.741Z"
   },
   {
    "duration": 6,
    "start_time": "2024-03-09T16:36:54.703Z"
   },
   {
    "duration": 54,
    "start_time": "2024-03-09T16:36:54.831Z"
   },
   {
    "duration": 4569,
    "start_time": "2024-03-09T16:36:54.976Z"
   },
   {
    "duration": 53,
    "start_time": "2024-03-09T16:36:59.547Z"
   },
   {
    "duration": 7,
    "start_time": "2024-03-09T16:37:14.783Z"
   },
   {
    "duration": 62,
    "start_time": "2024-03-09T16:37:14.920Z"
   },
   {
    "duration": 9262,
    "start_time": "2024-03-09T16:37:15.044Z"
   },
   {
    "duration": 12,
    "start_time": "2024-03-09T16:37:24.308Z"
   },
   {
    "duration": 11,
    "start_time": "2024-03-09T16:38:33.176Z"
   },
   {
    "duration": 4954,
    "start_time": "2024-03-09T16:38:38.055Z"
   },
   {
    "duration": 0,
    "start_time": "2024-03-09T16:38:43.011Z"
   },
   {
    "duration": 10,
    "start_time": "2024-03-09T16:38:44.071Z"
   },
   {
    "duration": 7,
    "start_time": "2024-03-09T16:38:44.199Z"
   },
   {
    "duration": 55,
    "start_time": "2024-03-09T16:38:44.320Z"
   },
   {
    "duration": 6954,
    "start_time": "2024-03-09T16:38:44.447Z"
   },
   {
    "duration": 13,
    "start_time": "2024-03-09T16:38:51.404Z"
   },
   {
    "duration": 13,
    "start_time": "2024-03-09T16:39:19.029Z"
   },
   {
    "duration": 6,
    "start_time": "2024-03-09T16:39:23.390Z"
   },
   {
    "duration": 60,
    "start_time": "2024-03-09T16:39:23.519Z"
   },
   {
    "duration": 9485,
    "start_time": "2024-03-09T16:39:23.648Z"
   },
   {
    "duration": 12,
    "start_time": "2024-03-09T16:39:33.135Z"
   },
   {
    "duration": 6,
    "start_time": "2024-03-09T16:40:53.896Z"
   },
   {
    "duration": 56,
    "start_time": "2024-03-09T16:40:54.032Z"
   },
   {
    "duration": 9467,
    "start_time": "2024-03-09T16:40:55.976Z"
   },
   {
    "duration": 13,
    "start_time": "2024-03-09T16:41:05.445Z"
   },
   {
    "duration": 13,
    "start_time": "2024-03-09T16:41:09.799Z"
   },
   {
    "duration": 9,
    "start_time": "2024-03-09T16:41:11.816Z"
   },
   {
    "duration": 7,
    "start_time": "2024-03-09T16:41:11.943Z"
   },
   {
    "duration": 60,
    "start_time": "2024-03-09T16:41:12.073Z"
   },
   {
    "duration": 16654,
    "start_time": "2024-03-09T16:41:12.192Z"
   },
   {
    "duration": 14,
    "start_time": "2024-03-09T16:41:28.848Z"
   },
   {
    "duration": 12,
    "start_time": "2024-03-09T16:41:31.942Z"
   },
   {
    "duration": 7,
    "start_time": "2024-03-09T16:41:32.080Z"
   },
   {
    "duration": 59,
    "start_time": "2024-03-09T16:41:32.200Z"
   },
   {
    "duration": 16912,
    "start_time": "2024-03-09T16:41:32.336Z"
   },
   {
    "duration": 43,
    "start_time": "2024-03-09T16:41:49.250Z"
   },
   {
    "duration": 13,
    "start_time": "2024-03-09T16:41:52.273Z"
   },
   {
    "duration": 7,
    "start_time": "2024-03-09T16:41:52.409Z"
   },
   {
    "duration": 55,
    "start_time": "2024-03-09T16:41:52.531Z"
   },
   {
    "duration": 9690,
    "start_time": "2024-03-09T16:41:52.665Z"
   },
   {
    "duration": 13,
    "start_time": "2024-03-09T16:42:02.357Z"
   },
   {
    "duration": 6,
    "start_time": "2024-03-09T16:42:07.529Z"
   },
   {
    "duration": 60,
    "start_time": "2024-03-09T16:42:07.706Z"
   },
   {
    "duration": 9441,
    "start_time": "2024-03-09T16:42:07.792Z"
   },
   {
    "duration": 14,
    "start_time": "2024-03-09T16:42:17.236Z"
   },
   {
    "duration": 8,
    "start_time": "2024-03-09T16:42:24.719Z"
   },
   {
    "duration": 56,
    "start_time": "2024-03-09T16:42:24.840Z"
   },
   {
    "duration": 9498,
    "start_time": "2024-03-09T16:42:24.969Z"
   },
   {
    "duration": 28,
    "start_time": "2024-03-09T16:42:34.469Z"
   },
   {
    "duration": 9,
    "start_time": "2024-03-09T16:42:40.793Z"
   },
   {
    "duration": 6,
    "start_time": "2024-03-09T16:42:40.912Z"
   },
   {
    "duration": 55,
    "start_time": "2024-03-09T16:42:41.041Z"
   },
   {
    "duration": 16664,
    "start_time": "2024-03-09T16:42:41.171Z"
   },
   {
    "duration": 15,
    "start_time": "2024-03-09T16:42:57.837Z"
   },
   {
    "duration": 7,
    "start_time": "2024-03-09T16:43:01.120Z"
   },
   {
    "duration": 845,
    "start_time": "2024-03-09T16:43:01.248Z"
   },
   {
    "duration": 16803,
    "start_time": "2024-03-09T16:43:02.095Z"
   },
   {
    "duration": 12,
    "start_time": "2024-03-09T16:43:18.900Z"
   },
   {
    "duration": 6,
    "start_time": "2024-03-09T16:43:31.345Z"
   },
   {
    "duration": 54,
    "start_time": "2024-03-09T16:43:31.474Z"
   },
   {
    "duration": 11744,
    "start_time": "2024-03-09T16:43:31.617Z"
   },
   {
    "duration": 0,
    "start_time": "2024-03-09T16:43:43.363Z"
   },
   {
    "duration": 10,
    "start_time": "2024-03-09T16:43:49.762Z"
   },
   {
    "duration": 6,
    "start_time": "2024-03-09T16:43:49.892Z"
   },
   {
    "duration": 64,
    "start_time": "2024-03-09T16:43:50.009Z"
   },
   {
    "duration": 14877,
    "start_time": "2024-03-09T16:43:50.131Z"
   },
   {
    "duration": 0,
    "start_time": "2024-03-09T16:44:05.009Z"
   },
   {
    "duration": 61,
    "start_time": "2024-03-09T16:44:05.425Z"
   },
   {
    "duration": 2685,
    "start_time": "2024-03-09T16:44:05.552Z"
   },
   {
    "duration": 0,
    "start_time": "2024-03-09T16:44:08.239Z"
   },
   {
    "duration": 9,
    "start_time": "2024-03-09T16:44:08.561Z"
   },
   {
    "duration": 7,
    "start_time": "2024-03-09T16:44:08.688Z"
   },
   {
    "duration": 53,
    "start_time": "2024-03-09T16:44:08.817Z"
   },
   {
    "duration": 16363,
    "start_time": "2024-03-09T16:44:08.944Z"
   },
   {
    "duration": 12,
    "start_time": "2024-03-09T16:44:25.309Z"
   },
   {
    "duration": 8,
    "start_time": "2024-03-09T16:44:33.070Z"
   },
   {
    "duration": 278,
    "start_time": "2024-03-09T16:44:33.234Z"
   },
   {
    "duration": 16717,
    "start_time": "2024-03-09T16:44:33.514Z"
   },
   {
    "duration": 12,
    "start_time": "2024-03-09T16:44:50.233Z"
   },
   {
    "duration": 7,
    "start_time": "2024-03-09T16:45:55.841Z"
   },
   {
    "duration": 56,
    "start_time": "2024-03-09T16:45:55.986Z"
   },
   {
    "duration": 8712,
    "start_time": "2024-03-09T16:45:56.123Z"
   },
   {
    "duration": 0,
    "start_time": "2024-03-09T16:46:04.837Z"
   },
   {
    "duration": 11,
    "start_time": "2024-03-09T16:46:05.297Z"
   },
   {
    "duration": 6,
    "start_time": "2024-03-09T16:46:05.433Z"
   },
   {
    "duration": 54,
    "start_time": "2024-03-09T16:46:05.553Z"
   },
   {
    "duration": 8503,
    "start_time": "2024-03-09T16:46:05.688Z"
   },
   {
    "duration": 13,
    "start_time": "2024-03-09T16:46:14.193Z"
   },
   {
    "duration": 7,
    "start_time": "2024-03-09T16:46:20.400Z"
   },
   {
    "duration": 56,
    "start_time": "2024-03-09T16:46:20.553Z"
   },
   {
    "duration": 8388,
    "start_time": "2024-03-09T16:46:20.681Z"
   },
   {
    "duration": 12,
    "start_time": "2024-03-09T16:46:29.071Z"
   },
   {
    "duration": 9,
    "start_time": "2024-03-09T16:46:37.361Z"
   },
   {
    "duration": 6,
    "start_time": "2024-03-09T16:46:37.489Z"
   },
   {
    "duration": 54,
    "start_time": "2024-03-09T16:46:37.627Z"
   },
   {
    "duration": 8411,
    "start_time": "2024-03-09T16:46:37.749Z"
   },
   {
    "duration": 12,
    "start_time": "2024-03-09T16:46:46.162Z"
   },
   {
    "duration": 6,
    "start_time": "2024-03-09T16:46:57.169Z"
   },
   {
    "duration": 52,
    "start_time": "2024-03-09T16:46:57.297Z"
   },
   {
    "duration": 8553,
    "start_time": "2024-03-09T16:46:57.421Z"
   },
   {
    "duration": 17,
    "start_time": "2024-03-09T16:47:05.976Z"
   },
   {
    "duration": 10,
    "start_time": "2024-03-09T16:47:11.352Z"
   },
   {
    "duration": 7,
    "start_time": "2024-03-09T16:47:11.497Z"
   },
   {
    "duration": 54,
    "start_time": "2024-03-09T16:47:11.608Z"
   },
   {
    "duration": 4270,
    "start_time": "2024-03-09T16:47:11.745Z"
   },
   {
    "duration": 13,
    "start_time": "2024-03-09T16:47:16.018Z"
   },
   {
    "duration": 10,
    "start_time": "2024-03-09T16:47:23.538Z"
   },
   {
    "duration": 8,
    "start_time": "2024-03-09T16:47:23.778Z"
   },
   {
    "duration": 71,
    "start_time": "2024-03-09T16:47:23.922Z"
   },
   {
    "duration": 9224,
    "start_time": "2024-03-09T16:47:24.077Z"
   },
   {
    "duration": 19,
    "start_time": "2024-03-09T16:47:33.304Z"
   },
   {
    "duration": 10,
    "start_time": "2024-03-09T16:47:47.362Z"
   },
   {
    "duration": 10,
    "start_time": "2024-03-09T16:47:47.488Z"
   },
   {
    "duration": 59,
    "start_time": "2024-03-09T16:47:47.635Z"
   },
   {
    "duration": 5899,
    "start_time": "2024-03-09T16:47:47.789Z"
   },
   {
    "duration": 20,
    "start_time": "2024-03-09T16:47:53.691Z"
   },
   {
    "duration": 6,
    "start_time": "2024-03-09T16:48:02.936Z"
   },
   {
    "duration": 69,
    "start_time": "2024-03-09T16:48:03.073Z"
   },
   {
    "duration": 55552,
    "start_time": "2024-03-09T16:48:03.204Z"
   },
   {
    "duration": 24,
    "start_time": "2024-03-09T16:48:58.791Z"
   },
   {
    "duration": 11,
    "start_time": "2024-03-09T16:50:28.914Z"
   },
   {
    "duration": 7,
    "start_time": "2024-03-09T16:51:15.706Z"
   },
   {
    "duration": 85,
    "start_time": "2024-03-09T16:51:16.106Z"
   },
   {
    "duration": 41547,
    "start_time": "2024-03-09T16:51:19.266Z"
   },
   {
    "duration": 14,
    "start_time": "2024-03-09T16:52:03.507Z"
   },
   {
    "duration": 8,
    "start_time": "2024-03-09T16:53:00.058Z"
   },
   {
    "duration": 111,
    "start_time": "2024-03-09T16:53:00.204Z"
   },
   {
    "duration": 42049,
    "start_time": "2024-03-09T16:53:00.651Z"
   },
   {
    "duration": 13,
    "start_time": "2024-03-09T16:53:42.703Z"
   },
   {
    "duration": 14,
    "start_time": "2024-03-09T16:53:46.618Z"
   },
   {
    "duration": 7,
    "start_time": "2024-03-09T16:53:54.754Z"
   },
   {
    "duration": 57,
    "start_time": "2024-03-09T16:53:54.883Z"
   },
   {
    "duration": 15514,
    "start_time": "2024-03-09T16:53:55.178Z"
   },
   {
    "duration": 12,
    "start_time": "2024-03-09T16:54:10.694Z"
   },
   {
    "duration": 10,
    "start_time": "2024-03-09T16:54:26.650Z"
   },
   {
    "duration": 7,
    "start_time": "2024-03-09T16:54:26.770Z"
   },
   {
    "duration": 54,
    "start_time": "2024-03-09T16:54:26.900Z"
   },
   {
    "duration": 11409,
    "start_time": "2024-03-09T16:54:27.023Z"
   },
   {
    "duration": 13,
    "start_time": "2024-03-09T16:54:38.433Z"
   },
   {
    "duration": 9,
    "start_time": "2024-03-09T16:54:48.580Z"
   },
   {
    "duration": 60,
    "start_time": "2024-03-09T16:54:48.694Z"
   },
   {
    "duration": 59688,
    "start_time": "2024-03-09T16:54:48.826Z"
   },
   {
    "duration": 13,
    "start_time": "2024-03-09T16:55:48.517Z"
   },
   {
    "duration": 17,
    "start_time": "2024-03-09T16:55:55.372Z"
   },
   {
    "duration": 15,
    "start_time": "2024-03-09T16:55:55.499Z"
   },
   {
    "duration": 63,
    "start_time": "2024-03-09T16:55:55.643Z"
   },
   {
    "duration": 102431,
    "start_time": "2024-03-09T16:55:56.101Z"
   },
   {
    "duration": 13,
    "start_time": "2024-03-09T16:57:38.534Z"
   },
   {
    "duration": 13,
    "start_time": "2024-03-09T16:57:42.675Z"
   },
   {
    "duration": 11,
    "start_time": "2024-03-09T16:57:46.111Z"
   },
   {
    "duration": 7,
    "start_time": "2024-03-09T16:57:46.252Z"
   },
   {
    "duration": 61,
    "start_time": "2024-03-09T16:57:46.379Z"
   },
   {
    "duration": 74174,
    "start_time": "2024-03-09T16:57:46.633Z"
   },
   {
    "duration": 15,
    "start_time": "2024-03-09T16:59:00.809Z"
   },
   {
    "duration": 7,
    "start_time": "2024-03-09T16:59:04.452Z"
   },
   {
    "duration": 65,
    "start_time": "2024-03-09T16:59:04.589Z"
   },
   {
    "duration": 24200,
    "start_time": "2024-03-09T16:59:04.715Z"
   },
   {
    "duration": 0,
    "start_time": "2024-03-09T16:59:28.917Z"
   },
   {
    "duration": 7,
    "start_time": "2024-03-09T16:59:30.389Z"
   },
   {
    "duration": 56,
    "start_time": "2024-03-09T16:59:30.517Z"
   },
   {
    "duration": 10071,
    "start_time": "2024-03-09T16:59:30.644Z"
   },
   {
    "duration": 0,
    "start_time": "2024-03-09T16:59:40.716Z"
   },
   {
    "duration": 7,
    "start_time": "2024-03-09T16:59:44.627Z"
   },
   {
    "duration": 55,
    "start_time": "2024-03-09T16:59:44.739Z"
   },
   {
    "duration": 39677,
    "start_time": "2024-03-09T16:59:44.864Z"
   },
   {
    "duration": 14,
    "start_time": "2024-03-09T17:00:24.544Z"
   },
   {
    "duration": 9,
    "start_time": "2024-03-09T17:00:48.483Z"
   },
   {
    "duration": 56,
    "start_time": "2024-03-09T17:00:48.627Z"
   },
   {
    "duration": 12196,
    "start_time": "2024-03-09T17:00:48.776Z"
   },
   {
    "duration": 18,
    "start_time": "2024-03-09T17:01:00.973Z"
   },
   {
    "duration": 12,
    "start_time": "2024-03-09T17:01:14.077Z"
   },
   {
    "duration": 8,
    "start_time": "2024-03-09T17:01:14.203Z"
   },
   {
    "duration": 55,
    "start_time": "2024-03-09T17:01:14.324Z"
   },
   {
    "duration": 6222,
    "start_time": "2024-03-09T17:01:14.452Z"
   },
   {
    "duration": 19,
    "start_time": "2024-03-09T17:01:20.677Z"
   },
   {
    "duration": 10,
    "start_time": "2024-03-09T17:01:24.691Z"
   },
   {
    "duration": 8,
    "start_time": "2024-03-09T17:01:24.828Z"
   },
   {
    "duration": 69,
    "start_time": "2024-03-09T17:01:24.957Z"
   },
   {
    "duration": 6387,
    "start_time": "2024-03-09T17:01:25.087Z"
   },
   {
    "duration": 20,
    "start_time": "2024-03-09T17:01:31.477Z"
   },
   {
    "duration": 8,
    "start_time": "2024-03-09T17:01:38.267Z"
   },
   {
    "duration": 58,
    "start_time": "2024-03-09T17:01:38.516Z"
   },
   {
    "duration": 11182,
    "start_time": "2024-03-09T17:01:38.641Z"
   },
   {
    "duration": 0,
    "start_time": "2024-03-09T17:01:49.825Z"
   },
   {
    "duration": 10,
    "start_time": "2024-03-09T17:01:50.068Z"
   },
   {
    "duration": 7,
    "start_time": "2024-03-09T17:01:50.203Z"
   },
   {
    "duration": 57,
    "start_time": "2024-03-09T17:01:50.333Z"
   },
   {
    "duration": 99198,
    "start_time": "2024-03-09T17:01:50.460Z"
   },
   {
    "duration": 13,
    "start_time": "2024-03-09T17:03:29.660Z"
   },
   {
    "duration": 1611,
    "start_time": "2024-03-09T17:03:34.997Z"
   },
   {
    "duration": 10,
    "start_time": "2024-03-09T17:03:37.589Z"
   },
   {
    "duration": 8,
    "start_time": "2024-03-09T17:03:37.715Z"
   },
   {
    "duration": 58,
    "start_time": "2024-03-09T17:03:37.844Z"
   },
   {
    "duration": 12882,
    "start_time": "2024-03-09T17:03:37.974Z"
   },
   {
    "duration": 13,
    "start_time": "2024-03-09T17:04:06.772Z"
   },
   {
    "duration": 9,
    "start_time": "2024-03-09T17:04:16.172Z"
   },
   {
    "duration": 59,
    "start_time": "2024-03-09T17:04:16.300Z"
   },
   {
    "duration": 16679,
    "start_time": "2024-03-09T17:04:16.439Z"
   },
   {
    "duration": 13,
    "start_time": "2024-03-09T17:04:33.119Z"
   },
   {
    "duration": 7,
    "start_time": "2024-03-09T17:04:52.732Z"
   },
   {
    "duration": 55,
    "start_time": "2024-03-09T17:04:52.879Z"
   },
   {
    "duration": 13129,
    "start_time": "2024-03-09T17:04:53.014Z"
   },
   {
    "duration": 13,
    "start_time": "2024-03-09T17:05:06.146Z"
   },
   {
    "duration": 1416,
    "start_time": "2024-03-09T17:05:11.596Z"
   },
   {
    "duration": 0,
    "start_time": "2024-03-09T17:05:13.014Z"
   },
   {
    "duration": 10,
    "start_time": "2024-03-09T17:05:14.385Z"
   },
   {
    "duration": 9,
    "start_time": "2024-03-09T17:05:16.469Z"
   },
   {
    "duration": 8,
    "start_time": "2024-03-09T17:05:16.613Z"
   },
   {
    "duration": 80,
    "start_time": "2024-03-09T17:05:16.711Z"
   },
   {
    "duration": 14256,
    "start_time": "2024-03-09T17:05:16.852Z"
   },
   {
    "duration": 14,
    "start_time": "2024-03-09T17:05:31.109Z"
   },
   {
    "duration": 26,
    "start_time": "2024-03-09T17:05:38.516Z"
   },
   {
    "duration": 55,
    "start_time": "2024-03-09T17:05:38.668Z"
   },
   {
    "duration": 24204,
    "start_time": "2024-03-09T17:05:38.814Z"
   },
   {
    "duration": 0,
    "start_time": "2024-03-09T17:06:03.020Z"
   },
   {
    "duration": 21,
    "start_time": "2024-03-09T17:06:04.780Z"
   },
   {
    "duration": 57,
    "start_time": "2024-03-09T17:06:04.917Z"
   },
   {
    "duration": 83573,
    "start_time": "2024-03-09T17:06:05.047Z"
   },
   {
    "duration": 15,
    "start_time": "2024-03-09T17:07:28.622Z"
   },
   {
    "duration": 10,
    "start_time": "2024-03-09T17:07:38.477Z"
   },
   {
    "duration": 54,
    "start_time": "2024-03-09T17:07:38.725Z"
   },
   {
    "duration": 12557,
    "start_time": "2024-03-09T17:07:38.852Z"
   },
   {
    "duration": 14,
    "start_time": "2024-03-09T17:07:51.411Z"
   },
   {
    "duration": 8,
    "start_time": "2024-03-09T17:07:57.100Z"
   },
   {
    "duration": 55,
    "start_time": "2024-03-09T17:07:57.221Z"
   },
   {
    "duration": 10386,
    "start_time": "2024-03-09T17:07:57.353Z"
   },
   {
    "duration": 12,
    "start_time": "2024-03-09T17:08:07.740Z"
   },
   {
    "duration": 7,
    "start_time": "2024-03-09T17:08:24.374Z"
   },
   {
    "duration": 53,
    "start_time": "2024-03-09T17:08:24.517Z"
   },
   {
    "duration": 11491,
    "start_time": "2024-03-09T17:08:24.660Z"
   },
   {
    "duration": 49,
    "start_time": "2024-03-09T17:08:36.153Z"
   },
   {
    "duration": 10,
    "start_time": "2024-03-09T17:08:40.228Z"
   },
   {
    "duration": 7,
    "start_time": "2024-03-09T17:08:40.374Z"
   },
   {
    "duration": 53,
    "start_time": "2024-03-09T17:08:40.510Z"
   },
   {
    "duration": 12605,
    "start_time": "2024-03-09T17:08:40.646Z"
   },
   {
    "duration": 46,
    "start_time": "2024-03-09T17:08:53.253Z"
   },
   {
    "duration": 7,
    "start_time": "2024-03-09T17:09:00.862Z"
   },
   {
    "duration": 183,
    "start_time": "2024-03-09T17:09:01.111Z"
   },
   {
    "duration": 16227,
    "start_time": "2024-03-09T17:09:01.296Z"
   },
   {
    "duration": 13,
    "start_time": "2024-03-09T17:09:17.524Z"
   },
   {
    "duration": 7,
    "start_time": "2024-03-09T17:09:25.213Z"
   },
   {
    "duration": 55,
    "start_time": "2024-03-09T17:09:25.351Z"
   },
   {
    "duration": 29463,
    "start_time": "2024-03-09T17:09:25.487Z"
   },
   {
    "duration": 47,
    "start_time": "2024-03-09T17:09:54.952Z"
   },
   {
    "duration": 8,
    "start_time": "2024-03-09T17:10:01.382Z"
   },
   {
    "duration": 167,
    "start_time": "2024-03-09T17:10:01.495Z"
   },
   {
    "duration": 14268,
    "start_time": "2024-03-09T17:10:01.665Z"
   },
   {
    "duration": 13,
    "start_time": "2024-03-09T17:10:15.935Z"
   },
   {
    "duration": 7,
    "start_time": "2024-03-09T17:10:21.270Z"
   },
   {
    "duration": 56,
    "start_time": "2024-03-09T17:10:21.429Z"
   },
   {
    "duration": 13840,
    "start_time": "2024-03-09T17:10:21.574Z"
   },
   {
    "duration": 12,
    "start_time": "2024-03-09T17:10:35.417Z"
   },
   {
    "duration": 12,
    "start_time": "2024-03-09T17:10:40.685Z"
   },
   {
    "duration": 10,
    "start_time": "2024-03-09T17:10:43.580Z"
   },
   {
    "duration": 8,
    "start_time": "2024-03-09T17:10:43.709Z"
   },
   {
    "duration": 55,
    "start_time": "2024-03-09T17:10:43.837Z"
   },
   {
    "duration": 12652,
    "start_time": "2024-03-09T17:10:43.956Z"
   },
   {
    "duration": 12,
    "start_time": "2024-03-09T17:10:56.610Z"
   },
   {
    "duration": 8,
    "start_time": "2024-03-09T17:11:05.126Z"
   },
   {
    "duration": 58,
    "start_time": "2024-03-09T17:11:05.261Z"
   },
   {
    "duration": 15916,
    "start_time": "2024-03-09T17:11:05.413Z"
   },
   {
    "duration": 7,
    "start_time": "2024-03-09T17:11:29.199Z"
   },
   {
    "duration": 60,
    "start_time": "2024-03-09T17:11:29.334Z"
   },
   {
    "duration": 16495,
    "start_time": "2024-03-09T17:11:29.455Z"
   },
   {
    "duration": 46,
    "start_time": "2024-03-09T17:11:45.952Z"
   },
   {
    "duration": 8,
    "start_time": "2024-03-09T17:11:55.937Z"
   },
   {
    "duration": 56,
    "start_time": "2024-03-09T17:11:56.063Z"
   },
   {
    "duration": 17909,
    "start_time": "2024-03-09T17:11:56.197Z"
   },
   {
    "duration": 14,
    "start_time": "2024-03-09T17:12:14.108Z"
   },
   {
    "duration": 9,
    "start_time": "2024-03-09T17:12:17.510Z"
   },
   {
    "duration": 8,
    "start_time": "2024-03-09T17:12:17.644Z"
   },
   {
    "duration": 56,
    "start_time": "2024-03-09T17:12:17.767Z"
   },
   {
    "duration": 30234,
    "start_time": "2024-03-09T17:12:17.912Z"
   },
   {
    "duration": 50,
    "start_time": "2024-03-09T17:12:48.148Z"
   },
   {
    "duration": 12,
    "start_time": "2024-03-09T17:12:55.672Z"
   },
   {
    "duration": 54,
    "start_time": "2024-03-09T17:12:55.814Z"
   },
   {
    "duration": 7415,
    "start_time": "2024-03-09T17:12:55.935Z"
   },
   {
    "duration": 15,
    "start_time": "2024-03-09T17:13:03.392Z"
   },
   {
    "duration": 8,
    "start_time": "2024-03-09T17:13:16.551Z"
   },
   {
    "duration": 56,
    "start_time": "2024-03-09T17:13:16.686Z"
   },
   {
    "duration": 7126,
    "start_time": "2024-03-09T17:13:16.822Z"
   },
   {
    "duration": 9,
    "start_time": "2024-03-09T17:13:29.138Z"
   },
   {
    "duration": 57,
    "start_time": "2024-03-09T17:13:29.261Z"
   },
   {
    "duration": 7723,
    "start_time": "2024-03-09T17:13:29.380Z"
   },
   {
    "duration": 12,
    "start_time": "2024-03-09T17:13:37.105Z"
   },
   {
    "duration": 149,
    "start_time": "2024-03-09T17:13:42.933Z"
   },
   {
    "duration": 54,
    "start_time": "2024-03-09T17:13:43.091Z"
   },
   {
    "duration": 7229,
    "start_time": "2024-03-09T17:13:43.192Z"
   },
   {
    "duration": 14,
    "start_time": "2024-03-09T17:13:50.424Z"
   },
   {
    "duration": 7,
    "start_time": "2024-03-09T17:13:57.221Z"
   },
   {
    "duration": 55,
    "start_time": "2024-03-09T17:13:57.342Z"
   },
   {
    "duration": 7472,
    "start_time": "2024-03-09T17:13:57.478Z"
   },
   {
    "duration": 45,
    "start_time": "2024-03-09T17:14:04.952Z"
   },
   {
    "duration": 7,
    "start_time": "2024-03-09T17:14:11.246Z"
   },
   {
    "duration": 56,
    "start_time": "2024-03-09T17:14:11.341Z"
   },
   {
    "duration": 7200,
    "start_time": "2024-03-09T17:14:11.456Z"
   },
   {
    "duration": 34,
    "start_time": "2024-03-09T17:14:18.658Z"
   },
   {
    "duration": 7,
    "start_time": "2024-03-09T17:14:24.198Z"
   },
   {
    "duration": 56,
    "start_time": "2024-03-09T17:14:24.350Z"
   },
   {
    "duration": 7313,
    "start_time": "2024-03-09T17:14:24.479Z"
   },
   {
    "duration": 14,
    "start_time": "2024-03-09T17:14:31.794Z"
   },
   {
    "duration": 8,
    "start_time": "2024-03-09T17:14:49.526Z"
   },
   {
    "duration": 57,
    "start_time": "2024-03-09T17:14:49.639Z"
   },
   {
    "duration": 6667,
    "start_time": "2024-03-09T17:14:49.870Z"
   },
   {
    "duration": 12,
    "start_time": "2024-03-09T17:14:56.539Z"
   },
   {
    "duration": 8,
    "start_time": "2024-03-09T17:15:01.039Z"
   },
   {
    "duration": 514,
    "start_time": "2024-03-09T17:15:01.176Z"
   },
   {
    "duration": 7026,
    "start_time": "2024-03-09T17:15:01.692Z"
   },
   {
    "duration": 12,
    "start_time": "2024-03-09T17:15:08.720Z"
   },
   {
    "duration": 10,
    "start_time": "2024-03-09T17:15:12.806Z"
   },
   {
    "duration": 55,
    "start_time": "2024-03-09T17:15:12.942Z"
   },
   {
    "duration": 9129,
    "start_time": "2024-03-09T17:15:13.081Z"
   },
   {
    "duration": 14,
    "start_time": "2024-03-09T17:15:22.213Z"
   },
   {
    "duration": 8,
    "start_time": "2024-03-09T17:15:29.766Z"
   },
   {
    "duration": 57,
    "start_time": "2024-03-09T17:15:29.911Z"
   },
   {
    "duration": 9731,
    "start_time": "2024-03-09T17:15:30.023Z"
   },
   {
    "duration": 13,
    "start_time": "2024-03-09T17:15:39.792Z"
   },
   {
    "duration": 7,
    "start_time": "2024-03-09T17:15:47.231Z"
   },
   {
    "duration": 56,
    "start_time": "2024-03-09T17:15:47.359Z"
   },
   {
    "duration": 9664,
    "start_time": "2024-03-09T17:15:47.486Z"
   },
   {
    "duration": 50,
    "start_time": "2024-03-09T17:15:57.151Z"
   },
   {
    "duration": 12,
    "start_time": "2024-03-09T17:16:08.878Z"
   },
   {
    "duration": 8638,
    "start_time": "2024-03-09T17:16:08.999Z"
   },
   {
    "duration": 10,
    "start_time": "2024-03-09T17:17:05.799Z"
   },
   {
    "duration": 7,
    "start_time": "2024-03-09T17:17:05.935Z"
   },
   {
    "duration": 57,
    "start_time": "2024-03-09T17:17:06.310Z"
   },
   {
    "duration": 10213,
    "start_time": "2024-03-09T17:17:08.007Z"
   },
   {
    "duration": 7,
    "start_time": "2024-03-09T17:17:23.288Z"
   },
   {
    "duration": 10,
    "start_time": "2024-03-09T17:17:23.758Z"
   },
   {
    "duration": 7,
    "start_time": "2024-03-09T17:17:23.903Z"
   },
   {
    "duration": 61,
    "start_time": "2024-03-09T17:17:24.054Z"
   },
   {
    "duration": 10343,
    "start_time": "2024-03-09T17:17:24.209Z"
   },
   {
    "duration": 13,
    "start_time": "2024-03-09T17:17:34.591Z"
   },
   {
    "duration": 6,
    "start_time": "2024-03-09T17:17:48.456Z"
   },
   {
    "duration": 11,
    "start_time": "2024-03-09T17:17:48.719Z"
   },
   {
    "duration": 11,
    "start_time": "2024-03-09T17:17:48.839Z"
   },
   {
    "duration": 56,
    "start_time": "2024-03-09T17:17:48.975Z"
   },
   {
    "duration": 7818,
    "start_time": "2024-03-09T17:17:49.527Z"
   },
   {
    "duration": 13,
    "start_time": "2024-03-09T17:17:57.347Z"
   },
   {
    "duration": 11,
    "start_time": "2024-03-09T17:18:13.599Z"
   },
   {
    "duration": 8,
    "start_time": "2024-03-09T17:18:13.717Z"
   },
   {
    "duration": 73,
    "start_time": "2024-03-09T17:18:13.848Z"
   },
   {
    "duration": 12671,
    "start_time": "2024-03-09T17:18:13.985Z"
   },
   {
    "duration": 13,
    "start_time": "2024-03-09T17:18:26.658Z"
   },
   {
    "duration": 1643,
    "start_time": "2024-03-09T17:18:31.880Z"
   },
   {
    "duration": 10,
    "start_time": "2024-03-09T17:18:38.656Z"
   },
   {
    "duration": 7,
    "start_time": "2024-03-09T17:18:38.776Z"
   },
   {
    "duration": 79,
    "start_time": "2024-03-09T17:18:38.903Z"
   },
   {
    "duration": 13920,
    "start_time": "2024-03-09T17:18:39.046Z"
   },
   {
    "duration": 27,
    "start_time": "2024-03-09T17:18:52.968Z"
   },
   {
    "duration": 9446,
    "start_time": "2024-03-09T17:18:57.967Z"
   },
   {
    "duration": 0,
    "start_time": "2024-03-09T17:19:07.414Z"
   },
   {
    "duration": 10,
    "start_time": "2024-03-09T17:19:08.575Z"
   },
   {
    "duration": 18,
    "start_time": "2024-03-09T17:19:08.698Z"
   },
   {
    "duration": 56,
    "start_time": "2024-03-09T17:19:08.815Z"
   },
   {
    "duration": 28869,
    "start_time": "2024-03-09T17:19:08.945Z"
   },
   {
    "duration": 0,
    "start_time": "2024-03-09T17:19:37.816Z"
   },
   {
    "duration": 16,
    "start_time": "2024-03-09T17:19:39.806Z"
   },
   {
    "duration": 8,
    "start_time": "2024-03-09T17:21:31.992Z"
   },
   {
    "duration": 58,
    "start_time": "2024-03-09T17:21:32.121Z"
   },
   {
    "duration": 15045,
    "start_time": "2024-03-09T17:21:32.268Z"
   },
   {
    "duration": 14,
    "start_time": "2024-03-09T17:21:47.316Z"
   },
   {
    "duration": 8,
    "start_time": "2024-03-09T17:21:54.374Z"
   },
   {
    "duration": 57,
    "start_time": "2024-03-09T17:21:54.631Z"
   },
   {
    "duration": 14241,
    "start_time": "2024-03-09T17:21:54.752Z"
   },
   {
    "duration": 14,
    "start_time": "2024-03-09T17:22:08.994Z"
   },
   {
    "duration": 8,
    "start_time": "2024-03-09T17:22:16.632Z"
   },
   {
    "duration": 55,
    "start_time": "2024-03-09T17:22:16.761Z"
   },
   {
    "duration": 16718,
    "start_time": "2024-03-09T17:22:16.888Z"
   },
   {
    "duration": 16,
    "start_time": "2024-03-09T17:22:33.608Z"
   },
   {
    "duration": 9,
    "start_time": "2024-03-09T17:22:52.520Z"
   },
   {
    "duration": 54,
    "start_time": "2024-03-09T17:22:52.640Z"
   },
   {
    "duration": 24087,
    "start_time": "2024-03-09T17:22:52.762Z"
   },
   {
    "duration": 42,
    "start_time": "2024-03-09T17:23:16.851Z"
   },
   {
    "duration": 10,
    "start_time": "2024-03-09T17:23:28.823Z"
   },
   {
    "duration": 7,
    "start_time": "2024-03-09T17:23:28.952Z"
   },
   {
    "duration": 60,
    "start_time": "2024-03-09T17:23:29.104Z"
   },
   {
    "duration": 9266,
    "start_time": "2024-03-09T17:23:29.248Z"
   },
   {
    "duration": 0,
    "start_time": "2024-03-09T17:23:38.516Z"
   },
   {
    "duration": 10,
    "start_time": "2024-03-09T17:23:39.626Z"
   },
   {
    "duration": 70,
    "start_time": "2024-03-09T17:23:39.753Z"
   },
   {
    "duration": 39068,
    "start_time": "2024-03-09T17:23:39.881Z"
   },
   {
    "duration": 13,
    "start_time": "2024-03-09T17:24:18.951Z"
   },
   {
    "duration": 8,
    "start_time": "2024-03-09T17:24:42.953Z"
   },
   {
    "duration": 64,
    "start_time": "2024-03-09T17:24:43.091Z"
   },
   {
    "duration": 28367,
    "start_time": "2024-03-09T17:24:43.361Z"
   },
   {
    "duration": 18,
    "start_time": "2024-03-09T17:25:11.730Z"
   },
   {
    "duration": 4,
    "start_time": "2024-03-09T17:25:54.281Z"
   },
   {
    "duration": 10,
    "start_time": "2024-03-09T17:29:34.673Z"
   },
   {
    "duration": 7,
    "start_time": "2024-03-09T17:29:34.801Z"
   },
   {
    "duration": 57,
    "start_time": "2024-03-09T17:29:40.305Z"
   },
   {
    "duration": 13911,
    "start_time": "2024-03-09T17:29:40.481Z"
   },
   {
    "duration": 13,
    "start_time": "2024-03-09T17:29:54.394Z"
   },
   {
    "duration": 0,
    "start_time": "2024-03-09T17:30:17.314Z"
   },
   {
    "duration": 0,
    "start_time": "2024-03-09T17:30:17.316Z"
   },
   {
    "duration": 0,
    "start_time": "2024-03-09T17:30:17.318Z"
   },
   {
    "duration": 0,
    "start_time": "2024-03-09T17:30:17.320Z"
   },
   {
    "duration": 10,
    "start_time": "2024-03-09T17:30:18.225Z"
   },
   {
    "duration": 8,
    "start_time": "2024-03-09T17:30:18.354Z"
   },
   {
    "duration": 71,
    "start_time": "2024-03-09T17:30:18.492Z"
   },
   {
    "duration": 14263,
    "start_time": "2024-03-09T17:30:18.643Z"
   },
   {
    "duration": 12,
    "start_time": "2024-03-09T17:30:32.908Z"
   },
   {
    "duration": 15,
    "start_time": "2024-03-09T17:30:43.843Z"
   },
   {
    "duration": 9,
    "start_time": "2024-03-09T17:30:43.970Z"
   },
   {
    "duration": 61,
    "start_time": "2024-03-09T17:30:44.089Z"
   },
   {
    "duration": 34700,
    "start_time": "2024-03-09T17:30:44.223Z"
   },
   {
    "duration": 16,
    "start_time": "2024-03-09T17:31:18.925Z"
   },
   {
    "duration": 6,
    "start_time": "2024-03-09T17:31:31.323Z"
   },
   {
    "duration": 118,
    "start_time": "2024-03-09T17:31:31.443Z"
   },
   {
    "duration": 30748,
    "start_time": "2024-03-09T17:31:31.563Z"
   },
   {
    "duration": 17,
    "start_time": "2024-03-09T17:32:02.314Z"
   },
   {
    "duration": 26304,
    "start_time": "2024-03-09T17:34:04.508Z"
   },
   {
    "duration": 127,
    "start_time": "2024-03-09T17:34:30.814Z"
   },
   {
    "duration": 47,
    "start_time": "2024-03-09T17:34:30.943Z"
   },
   {
    "duration": 10,
    "start_time": "2024-03-09T17:34:49.108Z"
   },
   {
    "duration": 8,
    "start_time": "2024-03-09T17:34:50.459Z"
   },
   {
    "duration": 54,
    "start_time": "2024-03-09T17:34:52.836Z"
   },
   {
    "duration": 9699,
    "start_time": "2024-03-09T17:35:03.623Z"
   },
   {
    "duration": 0,
    "start_time": "2024-03-09T17:35:13.324Z"
   },
   {
    "duration": 10,
    "start_time": "2024-03-09T17:35:16.709Z"
   },
   {
    "duration": 7,
    "start_time": "2024-03-09T17:35:16.827Z"
   },
   {
    "duration": 52,
    "start_time": "2024-03-09T17:35:16.954Z"
   },
   {
    "duration": 6271,
    "start_time": "2024-03-09T17:35:17.079Z"
   },
   {
    "duration": 12,
    "start_time": "2024-03-09T17:35:28.844Z"
   },
   {
    "duration": 6,
    "start_time": "2024-03-09T17:35:36.995Z"
   },
   {
    "duration": 55,
    "start_time": "2024-03-09T17:35:37.114Z"
   },
   {
    "duration": 11304,
    "start_time": "2024-03-09T17:35:37.246Z"
   },
   {
    "duration": 47,
    "start_time": "2024-03-09T17:35:48.552Z"
   },
   {
    "duration": 11,
    "start_time": "2024-03-09T17:36:02.852Z"
   },
   {
    "duration": 11,
    "start_time": "2024-03-09T17:36:11.628Z"
   },
   {
    "duration": 7,
    "start_time": "2024-03-09T17:36:11.746Z"
   },
   {
    "duration": 69,
    "start_time": "2024-03-09T17:36:11.875Z"
   },
   {
    "duration": 73721,
    "start_time": "2024-03-09T17:36:12.012Z"
   },
   {
    "duration": 11,
    "start_time": "2024-03-09T17:37:25.735Z"
   },
   {
    "duration": 12,
    "start_time": "2024-03-09T17:37:30.251Z"
   },
   {
    "duration": 12,
    "start_time": "2024-03-09T17:37:30.388Z"
   },
   {
    "duration": 61,
    "start_time": "2024-03-09T17:37:30.510Z"
   },
   {
    "duration": 16185,
    "start_time": "2024-03-09T17:37:30.651Z"
   },
   {
    "duration": 0,
    "start_time": "2024-03-09T17:37:46.838Z"
   },
   {
    "duration": 10,
    "start_time": "2024-03-09T17:37:48.740Z"
   },
   {
    "duration": 7,
    "start_time": "2024-03-09T17:37:48.876Z"
   },
   {
    "duration": 54,
    "start_time": "2024-03-09T17:37:49.013Z"
   },
   {
    "duration": 74630,
    "start_time": "2024-03-09T17:37:49.213Z"
   },
   {
    "duration": 13,
    "start_time": "2024-03-09T17:39:03.846Z"
   },
   {
    "duration": 13,
    "start_time": "2024-03-09T17:39:07.283Z"
   },
   {
    "duration": 8,
    "start_time": "2024-03-09T17:39:07.382Z"
   },
   {
    "duration": 59,
    "start_time": "2024-03-09T17:39:07.515Z"
   },
   {
    "duration": 13728,
    "start_time": "2024-03-09T17:39:07.644Z"
   },
   {
    "duration": 25,
    "start_time": "2024-03-09T17:39:21.392Z"
   },
   {
    "duration": 17,
    "start_time": "2024-03-09T17:39:29.230Z"
   },
   {
    "duration": 8,
    "start_time": "2024-03-09T17:39:29.340Z"
   },
   {
    "duration": 73,
    "start_time": "2024-03-09T17:39:29.468Z"
   },
   {
    "duration": 13881,
    "start_time": "2024-03-09T17:39:29.622Z"
   },
   {
    "duration": 19,
    "start_time": "2024-03-09T17:39:43.507Z"
   },
   {
    "duration": 12,
    "start_time": "2024-03-09T17:39:50.284Z"
   },
   {
    "duration": 8,
    "start_time": "2024-03-09T17:39:50.419Z"
   },
   {
    "duration": 56,
    "start_time": "2024-03-09T17:39:50.524Z"
   },
   {
    "duration": 29671,
    "start_time": "2024-03-09T17:39:50.660Z"
   },
   {
    "duration": 14,
    "start_time": "2024-03-09T17:40:20.332Z"
   },
   {
    "duration": 10,
    "start_time": "2024-03-09T17:40:41.356Z"
   },
   {
    "duration": 8,
    "start_time": "2024-03-09T17:40:41.493Z"
   },
   {
    "duration": 67,
    "start_time": "2024-03-09T17:40:41.621Z"
   },
   {
    "duration": 20048,
    "start_time": "2024-03-09T17:40:41.758Z"
   },
   {
    "duration": 13,
    "start_time": "2024-03-09T17:41:01.808Z"
   },
   {
    "duration": 10,
    "start_time": "2024-03-09T17:41:04.349Z"
   },
   {
    "duration": 64,
    "start_time": "2024-03-09T17:41:04.475Z"
   },
   {
    "duration": 55,
    "start_time": "2024-03-09T17:41:04.596Z"
   },
   {
    "duration": 20601,
    "start_time": "2024-03-09T17:41:04.727Z"
   },
   {
    "duration": 13,
    "start_time": "2024-03-09T17:41:25.330Z"
   },
   {
    "duration": 10,
    "start_time": "2024-03-09T17:41:33.348Z"
   },
   {
    "duration": 9,
    "start_time": "2024-03-09T17:41:33.475Z"
   },
   {
    "duration": 67,
    "start_time": "2024-03-09T17:41:33.596Z"
   },
   {
    "duration": 13389,
    "start_time": "2024-03-09T17:41:33.733Z"
   },
   {
    "duration": 0,
    "start_time": "2024-03-09T17:41:47.124Z"
   },
   {
    "duration": 8,
    "start_time": "2024-03-09T17:41:48.725Z"
   },
   {
    "duration": 64,
    "start_time": "2024-03-09T17:41:48.852Z"
   },
   {
    "duration": 14942,
    "start_time": "2024-03-09T17:41:48.980Z"
   },
   {
    "duration": 0,
    "start_time": "2024-03-09T17:42:03.924Z"
   },
   {
    "duration": 10,
    "start_time": "2024-03-09T17:42:04.229Z"
   },
   {
    "duration": 8,
    "start_time": "2024-03-09T17:42:04.356Z"
   },
   {
    "duration": 64,
    "start_time": "2024-03-09T17:42:04.492Z"
   },
   {
    "duration": 13988,
    "start_time": "2024-03-09T17:42:04.623Z"
   },
   {
    "duration": 0,
    "start_time": "2024-03-09T17:42:18.613Z"
   },
   {
    "duration": 11,
    "start_time": "2024-03-09T17:42:18.925Z"
   },
   {
    "duration": 7,
    "start_time": "2024-03-09T17:42:19.052Z"
   },
   {
    "duration": 59,
    "start_time": "2024-03-09T17:42:19.173Z"
   },
   {
    "duration": 9518,
    "start_time": "2024-03-09T17:42:19.304Z"
   },
   {
    "duration": 0,
    "start_time": "2024-03-09T17:42:28.824Z"
   },
   {
    "duration": 10,
    "start_time": "2024-03-09T17:42:29.118Z"
   },
   {
    "duration": 7,
    "start_time": "2024-03-09T17:42:29.244Z"
   },
   {
    "duration": 62,
    "start_time": "2024-03-09T17:42:29.381Z"
   },
   {
    "duration": 38429,
    "start_time": "2024-03-09T17:42:29.518Z"
   },
   {
    "duration": 13,
    "start_time": "2024-03-09T17:43:07.949Z"
   },
   {
    "duration": 7,
    "start_time": "2024-03-09T17:43:14.933Z"
   },
   {
    "duration": 64,
    "start_time": "2024-03-09T17:43:15.046Z"
   },
   {
    "duration": 34257,
    "start_time": "2024-03-09T17:43:15.201Z"
   },
   {
    "duration": 45,
    "start_time": "2024-03-09T17:43:49.460Z"
   },
   {
    "duration": 7,
    "start_time": "2024-03-09T17:44:01.126Z"
   },
   {
    "duration": 69,
    "start_time": "2024-03-09T17:44:02.814Z"
   },
   {
    "duration": 23394,
    "start_time": "2024-03-09T17:44:02.953Z"
   },
   {
    "duration": 42,
    "start_time": "2024-03-09T17:44:26.350Z"
   },
   {
    "duration": 10,
    "start_time": "2024-03-09T17:44:37.470Z"
   },
   {
    "duration": 10,
    "start_time": "2024-03-09T17:44:37.608Z"
   },
   {
    "duration": 62,
    "start_time": "2024-03-09T17:44:37.742Z"
   },
   {
    "duration": 36968,
    "start_time": "2024-03-09T17:44:37.877Z"
   },
   {
    "duration": 47,
    "start_time": "2024-03-09T17:45:14.847Z"
   },
   {
    "duration": 8,
    "start_time": "2024-03-09T17:47:22.629Z"
   },
   {
    "duration": 56,
    "start_time": "2024-03-09T17:47:22.773Z"
   },
   {
    "duration": 8781,
    "start_time": "2024-03-09T17:47:22.935Z"
   },
   {
    "duration": 10,
    "start_time": "2024-03-09T17:47:31.885Z"
   },
   {
    "duration": 8,
    "start_time": "2024-03-09T17:47:32.030Z"
   },
   {
    "duration": 57,
    "start_time": "2024-03-09T17:47:32.151Z"
   },
   {
    "duration": 38803,
    "start_time": "2024-03-09T17:47:32.297Z"
   },
   {
    "duration": 14,
    "start_time": "2024-03-09T17:48:11.102Z"
   },
   {
    "duration": 8,
    "start_time": "2024-03-09T17:48:20.254Z"
   },
   {
    "duration": 55,
    "start_time": "2024-03-09T17:48:20.392Z"
   },
   {
    "duration": 37942,
    "start_time": "2024-03-09T17:48:20.513Z"
   },
   {
    "duration": 16,
    "start_time": "2024-03-09T17:48:58.458Z"
   },
   {
    "duration": 7,
    "start_time": "2024-03-09T17:49:04.127Z"
   },
   {
    "duration": 58,
    "start_time": "2024-03-09T17:49:04.389Z"
   },
   {
    "duration": 99536,
    "start_time": "2024-03-09T17:49:04.519Z"
   },
   {
    "duration": 50,
    "start_time": "2024-03-09T17:50:44.057Z"
   },
   {
    "duration": 13,
    "start_time": "2024-03-09T17:50:47.593Z"
   },
   {
    "duration": 56,
    "start_time": "2024-03-09T17:50:47.721Z"
   },
   {
    "duration": 12493,
    "start_time": "2024-03-09T17:50:47.855Z"
   },
   {
    "duration": 16,
    "start_time": "2024-03-09T17:51:00.350Z"
   },
   {
    "duration": 7,
    "start_time": "2024-03-09T17:51:07.143Z"
   },
   {
    "duration": 64,
    "start_time": "2024-03-09T17:51:07.295Z"
   },
   {
    "duration": 13377,
    "start_time": "2024-03-09T17:51:07.432Z"
   },
   {
    "duration": 17,
    "start_time": "2024-03-09T17:51:20.813Z"
   },
   {
    "duration": 16,
    "start_time": "2024-03-09T17:51:27.910Z"
   },
   {
    "duration": 70,
    "start_time": "2024-03-09T17:51:28.056Z"
   },
   {
    "duration": 9825,
    "start_time": "2024-03-09T17:51:28.187Z"
   },
   {
    "duration": 19,
    "start_time": "2024-03-09T17:51:38.015Z"
   },
   {
    "duration": 8,
    "start_time": "2024-03-09T17:51:48.240Z"
   },
   {
    "duration": 62,
    "start_time": "2024-03-09T17:51:48.367Z"
   },
   {
    "duration": 17969,
    "start_time": "2024-03-09T17:51:48.489Z"
   },
   {
    "duration": 34,
    "start_time": "2024-03-09T17:52:06.460Z"
   },
   {
    "duration": 11,
    "start_time": "2024-03-09T17:52:13.304Z"
   },
   {
    "duration": 91,
    "start_time": "2024-03-09T17:52:13.439Z"
   },
   {
    "duration": 76751,
    "start_time": "2024-03-09T17:52:13.593Z"
   },
   {
    "duration": 12,
    "start_time": "2024-03-09T17:53:30.346Z"
   },
   {
    "duration": 12,
    "start_time": "2024-03-09T17:53:47.422Z"
   },
   {
    "duration": 8,
    "start_time": "2024-03-09T17:53:47.559Z"
   },
   {
    "duration": 76,
    "start_time": "2024-03-09T17:53:47.695Z"
   },
   {
    "duration": 112899,
    "start_time": "2024-03-09T17:53:47.837Z"
   },
   {
    "duration": 11,
    "start_time": "2024-03-09T17:55:40.738Z"
   },
   {
    "duration": 11,
    "start_time": "2024-03-09T17:55:48.360Z"
   },
   {
    "duration": 11,
    "start_time": "2024-03-09T17:55:48.488Z"
   },
   {
    "duration": 54,
    "start_time": "2024-03-09T17:55:48.617Z"
   },
   {
    "duration": 8606,
    "start_time": "2024-03-09T17:55:48.746Z"
   },
   {
    "duration": 12,
    "start_time": "2024-03-09T17:55:57.354Z"
   },
   {
    "duration": 8,
    "start_time": "2024-03-09T17:56:03.916Z"
   },
   {
    "duration": 79,
    "start_time": "2024-03-09T17:56:04.031Z"
   },
   {
    "duration": 12226,
    "start_time": "2024-03-09T17:56:04.152Z"
   },
   {
    "duration": 16,
    "start_time": "2024-03-09T17:56:16.394Z"
   },
   {
    "duration": 9,
    "start_time": "2024-03-09T17:56:24.114Z"
   },
   {
    "duration": 60,
    "start_time": "2024-03-09T17:56:24.241Z"
   },
   {
    "duration": 24971,
    "start_time": "2024-03-09T17:56:24.372Z"
   },
   {
    "duration": 14,
    "start_time": "2024-03-09T17:56:49.345Z"
   },
   {
    "duration": 8,
    "start_time": "2024-03-09T17:59:23.647Z"
   },
   {
    "duration": 68,
    "start_time": "2024-03-09T17:59:23.784Z"
   },
   {
    "duration": 13488,
    "start_time": "2024-03-09T17:59:23.936Z"
   },
   {
    "duration": 13,
    "start_time": "2024-03-09T17:59:37.426Z"
   },
   {
    "duration": 1531,
    "start_time": "2024-03-09T18:01:09.888Z"
   },
   {
    "duration": 18,
    "start_time": "2024-03-09T18:01:12.002Z"
   },
   {
    "duration": 56,
    "start_time": "2024-03-09T18:01:12.119Z"
   },
   {
    "duration": 246749,
    "start_time": "2024-03-09T18:01:12.263Z"
   },
   {
    "duration": 0,
    "start_time": "2024-03-09T18:05:19.013Z"
   },
   {
    "duration": 11,
    "start_time": "2024-03-09T18:05:20.993Z"
   },
   {
    "duration": 8,
    "start_time": "2024-03-09T18:05:21.128Z"
   },
   {
    "duration": 56,
    "start_time": "2024-03-09T18:05:21.282Z"
   },
   {
    "duration": 255076,
    "start_time": "2024-03-09T18:05:21.449Z"
   },
   {
    "duration": 1706,
    "start_time": "2024-03-09T18:09:39.611Z"
   },
   {
    "duration": 0,
    "start_time": "2024-03-09T18:09:41.319Z"
   },
   {
    "duration": 17,
    "start_time": "2024-03-09T18:09:42.666Z"
   },
   {
    "duration": 11,
    "start_time": "2024-03-09T18:09:42.794Z"
   },
   {
    "duration": 55,
    "start_time": "2024-03-09T18:09:42.930Z"
   },
   {
    "duration": 7545,
    "start_time": "2024-03-09T18:09:43.352Z"
   },
   {
    "duration": 13,
    "start_time": "2024-03-09T18:09:53.560Z"
   },
   {
    "duration": 39,
    "start_time": "2024-03-09T18:10:05.274Z"
   },
   {
    "duration": 74,
    "start_time": "2024-03-09T18:10:05.368Z"
   },
   {
    "duration": 38144,
    "start_time": "2024-03-09T18:10:05.515Z"
   },
   {
    "duration": 44,
    "start_time": "2024-03-09T18:10:43.661Z"
   },
   {
    "duration": 17,
    "start_time": "2024-03-09T18:12:02.347Z"
   },
   {
    "duration": 42,
    "start_time": "2024-03-09T18:12:02.467Z"
   },
   {
    "duration": 62,
    "start_time": "2024-03-09T18:12:02.603Z"
   },
   {
    "duration": 14597,
    "start_time": "2024-03-09T18:12:02.729Z"
   },
   {
    "duration": 0,
    "start_time": "2024-03-09T18:12:17.328Z"
   },
   {
    "duration": 29,
    "start_time": "2024-03-09T18:12:17.905Z"
   },
   {
    "duration": 56,
    "start_time": "2024-03-09T18:12:18.034Z"
   },
   {
    "duration": 10559,
    "start_time": "2024-03-09T18:12:18.169Z"
   },
   {
    "duration": 0,
    "start_time": "2024-03-09T18:12:28.730Z"
   },
   {
    "duration": 10,
    "start_time": "2024-03-09T18:12:29.826Z"
   },
   {
    "duration": 20,
    "start_time": "2024-03-09T18:12:29.947Z"
   },
   {
    "duration": 70,
    "start_time": "2024-03-09T18:12:30.089Z"
   },
   {
    "duration": 13406,
    "start_time": "2024-03-09T18:12:30.220Z"
   },
   {
    "duration": 0,
    "start_time": "2024-03-09T18:12:43.628Z"
   },
   {
    "duration": 10,
    "start_time": "2024-03-09T18:12:45.073Z"
   },
   {
    "duration": 178,
    "start_time": "2024-03-09T18:12:45.200Z"
   },
   {
    "duration": 156,
    "start_time": "2024-03-09T18:12:45.380Z"
   },
   {
    "duration": 5103,
    "start_time": "2024-03-09T18:12:45.538Z"
   },
   {
    "duration": 13,
    "start_time": "2024-03-09T18:12:50.643Z"
   },
   {
    "duration": 19,
    "start_time": "2024-03-09T18:13:10.009Z"
   },
   {
    "duration": 12,
    "start_time": "2024-03-09T18:13:10.113Z"
   },
   {
    "duration": 63,
    "start_time": "2024-03-09T18:13:10.242Z"
   },
   {
    "duration": 6717,
    "start_time": "2024-03-09T18:13:10.366Z"
   },
   {
    "duration": 25,
    "start_time": "2024-03-09T18:13:17.086Z"
   },
   {
    "duration": 65,
    "start_time": "2024-03-09T18:13:22.248Z"
   },
   {
    "duration": 1908,
    "start_time": "2024-03-09T18:13:22.666Z"
   },
   {
    "duration": 0,
    "start_time": "2024-03-09T18:13:24.576Z"
   },
   {
    "duration": 12,
    "start_time": "2024-03-09T18:13:25.322Z"
   },
   {
    "duration": 72,
    "start_time": "2024-03-09T18:13:25.450Z"
   },
   {
    "duration": 6337,
    "start_time": "2024-03-09T18:13:25.579Z"
   },
   {
    "duration": 14,
    "start_time": "2024-03-09T18:13:31.918Z"
   },
   {
    "duration": 9,
    "start_time": "2024-03-09T18:13:44.578Z"
   },
   {
    "duration": 12,
    "start_time": "2024-03-09T18:13:44.707Z"
   },
   {
    "duration": 63,
    "start_time": "2024-03-09T18:13:44.826Z"
   },
   {
    "duration": 6251,
    "start_time": "2024-03-09T18:13:44.957Z"
   },
   {
    "duration": 16,
    "start_time": "2024-03-09T18:13:51.211Z"
   },
   {
    "duration": 17,
    "start_time": "2024-03-09T18:14:02.514Z"
   },
   {
    "duration": 7,
    "start_time": "2024-03-09T18:14:02.624Z"
   },
   {
    "duration": 80,
    "start_time": "2024-03-09T18:14:02.745Z"
   },
   {
    "duration": 4756,
    "start_time": "2024-03-09T18:14:02.877Z"
   },
   {
    "duration": 16,
    "start_time": "2024-03-09T18:14:07.635Z"
   },
   {
    "duration": 11,
    "start_time": "2024-03-09T18:14:22.427Z"
   },
   {
    "duration": 80,
    "start_time": "2024-03-09T18:14:22.553Z"
   },
   {
    "duration": 49544,
    "start_time": "2024-03-09T18:14:22.711Z"
   },
   {
    "duration": 47,
    "start_time": "2024-03-09T18:15:12.257Z"
   },
   {
    "duration": 12,
    "start_time": "2024-03-09T18:15:17.842Z"
   },
   {
    "duration": 10,
    "start_time": "2024-03-09T18:15:17.978Z"
   },
   {
    "duration": 58,
    "start_time": "2024-03-09T18:15:18.106Z"
   },
   {
    "duration": 4201,
    "start_time": "2024-03-09T18:15:18.252Z"
   },
   {
    "duration": 13,
    "start_time": "2024-03-09T18:15:22.455Z"
   },
   {
    "duration": 15,
    "start_time": "2024-03-09T18:15:30.405Z"
   },
   {
    "duration": 55,
    "start_time": "2024-03-09T18:15:30.529Z"
   },
   {
    "duration": 75,
    "start_time": "2024-03-09T18:15:30.660Z"
   },
   {
    "duration": 2268,
    "start_time": "2024-03-09T18:15:30.829Z"
   },
   {
    "duration": 19,
    "start_time": "2024-03-09T18:15:33.102Z"
   },
   {
    "duration": 19,
    "start_time": "2024-03-09T18:15:54.002Z"
   },
   {
    "duration": 8,
    "start_time": "2024-03-09T18:15:54.123Z"
   },
   {
    "duration": 68,
    "start_time": "2024-03-09T18:15:54.250Z"
   },
   {
    "duration": 1735,
    "start_time": "2024-03-09T18:15:54.391Z"
   },
   {
    "duration": 13,
    "start_time": "2024-03-09T18:15:56.128Z"
   },
   {
    "duration": 12,
    "start_time": "2024-03-09T18:15:59.066Z"
   },
   {
    "duration": 7,
    "start_time": "2024-03-09T18:16:05.947Z"
   },
   {
    "duration": 71,
    "start_time": "2024-03-09T18:16:06.081Z"
   },
   {
    "duration": 765,
    "start_time": "2024-03-09T18:16:06.214Z"
   },
   {
    "duration": 23,
    "start_time": "2024-03-09T18:16:06.981Z"
   },
   {
    "duration": 8,
    "start_time": "2024-03-09T18:16:23.530Z"
   },
   {
    "duration": 55,
    "start_time": "2024-03-09T18:16:23.916Z"
   },
   {
    "duration": 9273,
    "start_time": "2024-03-09T18:16:24.042Z"
   },
   {
    "duration": 13,
    "start_time": "2024-03-09T18:16:33.318Z"
   },
   {
    "duration": 18,
    "start_time": "2024-03-09T18:16:35.909Z"
   },
   {
    "duration": 11,
    "start_time": "2024-03-09T18:18:08.474Z"
   },
   {
    "duration": 9,
    "start_time": "2024-03-09T18:18:08.602Z"
   },
   {
    "duration": 55,
    "start_time": "2024-03-09T18:18:08.722Z"
   },
   {
    "duration": 1335,
    "start_time": "2024-03-09T18:18:08.860Z"
   },
   {
    "duration": 22,
    "start_time": "2024-03-09T18:18:10.198Z"
   },
   {
    "duration": 19,
    "start_time": "2024-03-09T18:18:17.907Z"
   },
   {
    "duration": 7,
    "start_time": "2024-03-09T18:18:18.059Z"
   },
   {
    "duration": 70,
    "start_time": "2024-03-09T18:18:18.169Z"
   },
   {
    "duration": 1757,
    "start_time": "2024-03-09T18:18:18.305Z"
   },
   {
    "duration": 36,
    "start_time": "2024-03-09T18:18:20.064Z"
   },
   {
    "duration": 10,
    "start_time": "2024-03-09T18:18:24.051Z"
   },
   {
    "duration": 6,
    "start_time": "2024-03-09T18:18:24.171Z"
   },
   {
    "duration": 64,
    "start_time": "2024-03-09T18:18:24.290Z"
   },
   {
    "duration": 6899,
    "start_time": "2024-03-09T18:18:24.419Z"
   },
   {
    "duration": 0,
    "start_time": "2024-03-09T18:18:31.320Z"
   },
   {
    "duration": 11,
    "start_time": "2024-03-09T18:18:31.433Z"
   },
   {
    "duration": 38,
    "start_time": "2024-03-09T18:18:31.562Z"
   },
   {
    "duration": 68,
    "start_time": "2024-03-09T18:18:31.682Z"
   },
   {
    "duration": 15298,
    "start_time": "2024-03-09T18:18:31.915Z"
   },
   {
    "duration": 13,
    "start_time": "2024-03-09T18:18:47.218Z"
   },
   {
    "duration": 27,
    "start_time": "2024-03-09T18:18:49.985Z"
   },
   {
    "duration": 11,
    "start_time": "2024-03-09T18:18:54.642Z"
   },
   {
    "duration": 85,
    "start_time": "2024-03-09T18:18:54.780Z"
   },
   {
    "duration": 9925,
    "start_time": "2024-03-09T18:18:54.921Z"
   },
   {
    "duration": 14,
    "start_time": "2024-03-09T18:19:04.849Z"
   },
   {
    "duration": 13,
    "start_time": "2024-03-09T18:19:21.283Z"
   },
   {
    "duration": 14,
    "start_time": "2024-03-09T18:19:27.574Z"
   },
   {
    "duration": 70,
    "start_time": "2024-03-09T18:19:27.591Z"
   },
   {
    "duration": 13221,
    "start_time": "2024-03-09T18:19:27.719Z"
   },
   {
    "duration": 13,
    "start_time": "2024-03-09T18:19:40.942Z"
   },
   {
    "duration": 21,
    "start_time": "2024-03-09T18:19:48.266Z"
   },
   {
    "duration": 67,
    "start_time": "2024-03-09T18:19:48.531Z"
   },
   {
    "duration": 53359,
    "start_time": "2024-03-09T18:19:48.695Z"
   },
   {
    "duration": 36,
    "start_time": "2024-03-09T18:20:42.056Z"
   },
   {
    "duration": 11,
    "start_time": "2024-03-09T18:20:45.826Z"
   },
   {
    "duration": 19,
    "start_time": "2024-03-09T18:20:45.963Z"
   },
   {
    "duration": 62,
    "start_time": "2024-03-09T18:20:46.083Z"
   },
   {
    "duration": 5509,
    "start_time": "2024-03-09T18:20:46.237Z"
   },
   {
    "duration": 49,
    "start_time": "2024-03-09T18:20:51.748Z"
   },
   {
    "duration": 12,
    "start_time": "2024-03-09T18:20:58.883Z"
   },
   {
    "duration": 20,
    "start_time": "2024-03-09T18:20:59.008Z"
   },
   {
    "duration": 54,
    "start_time": "2024-03-09T18:20:59.124Z"
   },
   {
    "duration": 10800,
    "start_time": "2024-03-09T18:20:59.255Z"
   },
   {
    "duration": 39,
    "start_time": "2024-03-09T18:21:10.058Z"
   },
   {
    "duration": 8,
    "start_time": "2024-03-09T18:21:18.771Z"
   },
   {
    "duration": 79,
    "start_time": "2024-03-09T18:21:18.892Z"
   },
   {
    "duration": 2228,
    "start_time": "2024-03-09T18:21:19.035Z"
   },
   {
    "duration": 32,
    "start_time": "2024-03-09T18:21:21.265Z"
   },
   {
    "duration": 8,
    "start_time": "2024-03-09T18:21:27.540Z"
   },
   {
    "duration": 76,
    "start_time": "2024-03-09T18:21:27.550Z"
   },
   {
    "duration": 6008,
    "start_time": "2024-03-09T18:21:27.630Z"
   },
   {
    "duration": 17,
    "start_time": "2024-03-09T18:21:33.640Z"
   },
   {
    "duration": 11,
    "start_time": "2024-03-09T18:21:38.355Z"
   },
   {
    "duration": 63,
    "start_time": "2024-03-09T18:21:38.507Z"
   },
   {
    "duration": 6089,
    "start_time": "2024-03-09T18:21:38.645Z"
   },
   {
    "duration": 15,
    "start_time": "2024-03-09T18:21:44.737Z"
   },
   {
    "duration": 10,
    "start_time": "2024-03-09T18:21:54.316Z"
   },
   {
    "duration": 9,
    "start_time": "2024-03-09T18:21:54.442Z"
   },
   {
    "duration": 60,
    "start_time": "2024-03-09T18:21:54.570Z"
   },
   {
    "duration": 4252,
    "start_time": "2024-03-09T18:21:54.708Z"
   },
   {
    "duration": 41,
    "start_time": "2024-03-09T18:21:58.962Z"
   },
   {
    "duration": 10,
    "start_time": "2024-03-09T18:22:06.531Z"
   },
   {
    "duration": 11,
    "start_time": "2024-03-09T18:22:06.667Z"
   },
   {
    "duration": 67,
    "start_time": "2024-03-09T18:22:06.805Z"
   },
   {
    "duration": 4321,
    "start_time": "2024-03-09T18:22:06.928Z"
   },
   {
    "duration": 44,
    "start_time": "2024-03-09T18:22:11.251Z"
   },
   {
    "duration": 10,
    "start_time": "2024-03-09T18:22:17.163Z"
   },
   {
    "duration": 10,
    "start_time": "2024-03-09T18:22:17.298Z"
   },
   {
    "duration": 68,
    "start_time": "2024-03-09T18:22:17.436Z"
   },
   {
    "duration": 4389,
    "start_time": "2024-03-09T18:22:17.575Z"
   },
   {
    "duration": 40,
    "start_time": "2024-03-09T18:22:21.966Z"
   },
   {
    "duration": 16,
    "start_time": "2024-03-09T18:22:29.453Z"
   },
   {
    "duration": 10,
    "start_time": "2024-03-09T18:22:29.597Z"
   },
   {
    "duration": 112,
    "start_time": "2024-03-09T18:22:29.716Z"
   },
   {
    "duration": 8956,
    "start_time": "2024-03-09T18:22:29.846Z"
   },
   {
    "duration": 14,
    "start_time": "2024-03-09T18:22:38.804Z"
   },
   {
    "duration": 11,
    "start_time": "2024-03-09T18:22:47.181Z"
   },
   {
    "duration": 8,
    "start_time": "2024-03-09T18:22:47.299Z"
   },
   {
    "duration": 55,
    "start_time": "2024-03-09T18:22:47.419Z"
   },
   {
    "duration": 10789,
    "start_time": "2024-03-09T18:22:47.565Z"
   },
   {
    "duration": 39,
    "start_time": "2024-03-09T18:22:58.356Z"
   },
   {
    "duration": 11,
    "start_time": "2024-03-09T18:23:07.164Z"
   },
   {
    "duration": 9,
    "start_time": "2024-03-09T18:23:07.274Z"
   },
   {
    "duration": 61,
    "start_time": "2024-03-09T18:23:07.403Z"
   },
   {
    "duration": 18141,
    "start_time": "2024-03-09T18:23:07.527Z"
   },
   {
    "duration": 31,
    "start_time": "2024-03-09T18:23:25.671Z"
   },
   {
    "duration": 16,
    "start_time": "2024-03-09T18:23:34.708Z"
   },
   {
    "duration": 11,
    "start_time": "2024-03-09T18:23:34.821Z"
   },
   {
    "duration": 69,
    "start_time": "2024-03-09T18:23:34.950Z"
   },
   {
    "duration": 17390,
    "start_time": "2024-03-09T18:23:35.082Z"
   },
   {
    "duration": 36,
    "start_time": "2024-03-09T18:23:52.474Z"
   },
   {
    "duration": 7,
    "start_time": "2024-03-09T18:23:59.420Z"
   },
   {
    "duration": 55,
    "start_time": "2024-03-09T18:23:59.533Z"
   },
   {
    "duration": 17175,
    "start_time": "2024-03-09T18:23:59.661Z"
   },
   {
    "duration": 14,
    "start_time": "2024-03-09T18:24:16.838Z"
   },
   {
    "duration": 11,
    "start_time": "2024-03-09T18:24:20.844Z"
   },
   {
    "duration": 10,
    "start_time": "2024-03-09T18:24:21.109Z"
   },
   {
    "duration": 99,
    "start_time": "2024-03-09T18:24:21.243Z"
   },
   {
    "duration": 1868,
    "start_time": "2024-03-09T18:24:21.379Z"
   },
   {
    "duration": 19,
    "start_time": "2024-03-09T18:24:23.249Z"
   },
   {
    "duration": 9,
    "start_time": "2024-03-09T18:24:30.028Z"
   },
   {
    "duration": 118,
    "start_time": "2024-03-09T18:24:30.164Z"
   },
   {
    "duration": 2413,
    "start_time": "2024-03-09T18:24:30.285Z"
   },
   {
    "duration": 18,
    "start_time": "2024-03-09T18:24:32.704Z"
   },
   {
    "duration": 20,
    "start_time": "2024-03-09T18:24:39.493Z"
   },
   {
    "duration": 76,
    "start_time": "2024-03-09T18:24:39.630Z"
   },
   {
    "duration": 21759,
    "start_time": "2024-03-09T18:24:39.780Z"
   },
   {
    "duration": 13,
    "start_time": "2024-03-09T18:25:01.541Z"
   },
   {
    "duration": 15,
    "start_time": "2024-03-09T18:25:06.637Z"
   },
   {
    "duration": 8,
    "start_time": "2024-03-09T18:25:06.771Z"
   },
   {
    "duration": 55,
    "start_time": "2024-03-09T18:25:07.027Z"
   },
   {
    "duration": 16848,
    "start_time": "2024-03-09T18:25:07.166Z"
   },
   {
    "duration": 23,
    "start_time": "2024-03-09T18:25:24.017Z"
   },
   {
    "duration": 15,
    "start_time": "2024-03-09T18:25:27.558Z"
   },
   {
    "duration": 20,
    "start_time": "2024-03-09T18:25:27.576Z"
   },
   {
    "duration": 70,
    "start_time": "2024-03-09T18:25:27.598Z"
   },
   {
    "duration": 15431,
    "start_time": "2024-03-09T18:25:27.670Z"
   },
   {
    "duration": 22,
    "start_time": "2024-03-09T18:25:43.104Z"
   },
   {
    "duration": 10,
    "start_time": "2024-03-09T18:25:55.964Z"
   },
   {
    "duration": 11,
    "start_time": "2024-03-09T18:25:56.091Z"
   },
   {
    "duration": 58,
    "start_time": "2024-03-09T18:25:56.217Z"
   },
   {
    "duration": 17322,
    "start_time": "2024-03-09T18:25:56.343Z"
   },
   {
    "duration": 36,
    "start_time": "2024-03-09T18:26:13.667Z"
   },
   {
    "duration": 16,
    "start_time": "2024-03-09T18:26:32.149Z"
   },
   {
    "duration": 8,
    "start_time": "2024-03-09T18:26:32.275Z"
   },
   {
    "duration": 88,
    "start_time": "2024-03-09T18:26:32.541Z"
   },
   {
    "duration": 15956,
    "start_time": "2024-03-09T18:26:32.705Z"
   },
   {
    "duration": 29,
    "start_time": "2024-03-09T18:26:48.663Z"
   },
   {
    "duration": 14,
    "start_time": "2024-03-09T18:26:55.859Z"
   },
   {
    "duration": 19,
    "start_time": "2024-03-09T18:26:55.988Z"
   },
   {
    "duration": 75,
    "start_time": "2024-03-09T18:26:56.100Z"
   },
   {
    "duration": 15721,
    "start_time": "2024-03-09T18:26:56.240Z"
   },
   {
    "duration": 35,
    "start_time": "2024-03-09T18:27:11.963Z"
   },
   {
    "duration": 22,
    "start_time": "2024-03-09T18:27:24.000Z"
   },
   {
    "duration": 11,
    "start_time": "2024-03-09T18:27:24.149Z"
   },
   {
    "duration": 62,
    "start_time": "2024-03-09T18:27:24.326Z"
   },
   {
    "duration": 28990,
    "start_time": "2024-03-09T18:27:24.463Z"
   },
   {
    "duration": 14,
    "start_time": "2024-03-09T18:27:53.455Z"
   },
   {
    "duration": 11,
    "start_time": "2024-03-09T18:28:07.381Z"
   },
   {
    "duration": 12,
    "start_time": "2024-03-09T18:28:07.509Z"
   },
   {
    "duration": 69,
    "start_time": "2024-03-09T18:28:07.756Z"
   },
   {
    "duration": 27759,
    "start_time": "2024-03-09T18:28:07.900Z"
   },
   {
    "duration": 46,
    "start_time": "2024-03-09T18:28:35.661Z"
   },
   {
    "duration": 12,
    "start_time": "2024-03-09T18:28:47.164Z"
   },
   {
    "duration": 12,
    "start_time": "2024-03-09T18:28:47.292Z"
   },
   {
    "duration": 61,
    "start_time": "2024-03-09T18:28:47.421Z"
   },
   {
    "duration": 9170,
    "start_time": "2024-03-09T18:28:47.545Z"
   },
   {
    "duration": 13,
    "start_time": "2024-03-09T18:28:56.716Z"
   },
   {
    "duration": 19,
    "start_time": "2024-03-09T18:29:06.600Z"
   },
   {
    "duration": 10,
    "start_time": "2024-03-09T18:29:06.731Z"
   },
   {
    "duration": 72,
    "start_time": "2024-03-09T18:29:06.861Z"
   },
   {
    "duration": 12072,
    "start_time": "2024-03-09T18:29:06.988Z"
   },
   {
    "duration": 43,
    "start_time": "2024-03-09T18:29:19.062Z"
   },
   {
    "duration": 18,
    "start_time": "2024-03-09T18:29:33.005Z"
   },
   {
    "duration": 8,
    "start_time": "2024-03-09T18:29:33.147Z"
   },
   {
    "duration": 66,
    "start_time": "2024-03-09T18:29:33.288Z"
   },
   {
    "duration": 13799,
    "start_time": "2024-03-09T18:29:33.431Z"
   },
   {
    "duration": 15,
    "start_time": "2024-03-09T18:29:47.232Z"
   },
   {
    "duration": 10,
    "start_time": "2024-03-09T18:29:58.462Z"
   },
   {
    "duration": 10,
    "start_time": "2024-03-09T18:29:58.568Z"
   },
   {
    "duration": 99,
    "start_time": "2024-03-09T18:29:58.693Z"
   },
   {
    "duration": 14615,
    "start_time": "2024-03-09T18:29:58.829Z"
   },
   {
    "duration": 20,
    "start_time": "2024-03-09T18:30:13.446Z"
   },
   {
    "duration": 11,
    "start_time": "2024-03-09T18:30:40.868Z"
   },
   {
    "duration": 13,
    "start_time": "2024-03-09T18:30:40.996Z"
   },
   {
    "duration": 90,
    "start_time": "2024-03-09T18:30:41.126Z"
   },
   {
    "duration": 14794,
    "start_time": "2024-03-09T18:30:41.270Z"
   },
   {
    "duration": 49,
    "start_time": "2024-03-09T18:30:56.066Z"
   },
   {
    "duration": 11,
    "start_time": "2024-03-09T18:31:01.780Z"
   },
   {
    "duration": 17,
    "start_time": "2024-03-09T18:31:01.901Z"
   },
   {
    "duration": 60,
    "start_time": "2024-03-09T18:31:02.031Z"
   },
   {
    "duration": 14750,
    "start_time": "2024-03-09T18:31:02.406Z"
   },
   {
    "duration": 35,
    "start_time": "2024-03-09T18:31:17.158Z"
   },
   {
    "duration": 14,
    "start_time": "2024-03-09T18:31:26.668Z"
   },
   {
    "duration": 8,
    "start_time": "2024-03-09T18:31:27.482Z"
   },
   {
    "duration": 83,
    "start_time": "2024-03-09T18:31:27.492Z"
   },
   {
    "duration": 14290,
    "start_time": "2024-03-09T18:31:27.577Z"
   },
   {
    "duration": 33,
    "start_time": "2024-03-09T18:31:41.869Z"
   },
   {
    "duration": 10,
    "start_time": "2024-03-09T18:31:50.814Z"
   },
   {
    "duration": 7,
    "start_time": "2024-03-09T18:31:50.948Z"
   },
   {
    "duration": 68,
    "start_time": "2024-03-09T18:31:51.078Z"
   },
   {
    "duration": 14621,
    "start_time": "2024-03-09T18:31:51.219Z"
   },
   {
    "duration": 13,
    "start_time": "2024-03-09T18:32:05.842Z"
   },
   {
    "duration": 11,
    "start_time": "2024-03-09T18:32:12.772Z"
   },
   {
    "duration": 11,
    "start_time": "2024-03-09T18:32:12.901Z"
   },
   {
    "duration": 56,
    "start_time": "2024-03-09T18:32:13.021Z"
   },
   {
    "duration": 22,
    "start_time": "2024-03-09T18:32:18.095Z"
   },
   {
    "duration": 9,
    "start_time": "2024-03-09T18:32:18.228Z"
   },
   {
    "duration": 69,
    "start_time": "2024-03-09T18:32:18.365Z"
   },
   {
    "duration": 23164,
    "start_time": "2024-03-09T18:32:18.500Z"
   },
   {
    "duration": 39,
    "start_time": "2024-03-09T18:32:41.666Z"
   },
   {
    "duration": 23,
    "start_time": "2024-03-09T18:32:47.988Z"
   },
   {
    "duration": 9,
    "start_time": "2024-03-09T18:32:48.132Z"
   },
   {
    "duration": 70,
    "start_time": "2024-03-09T18:32:48.386Z"
   },
   {
    "duration": 15431,
    "start_time": "2024-03-09T18:32:48.528Z"
   },
   {
    "duration": 22,
    "start_time": "2024-03-09T18:33:03.992Z"
   },
   {
    "duration": 15,
    "start_time": "2024-03-09T18:34:58.559Z"
   },
   {
    "duration": 10,
    "start_time": "2024-03-09T18:34:58.677Z"
   },
   {
    "duration": 74,
    "start_time": "2024-03-09T18:34:58.800Z"
   },
   {
    "duration": 16257,
    "start_time": "2024-03-09T18:34:58.941Z"
   },
   {
    "duration": 26,
    "start_time": "2024-03-09T18:35:15.201Z"
   },
   {
    "duration": 24,
    "start_time": "2024-03-09T18:35:22.453Z"
   },
   {
    "duration": 15,
    "start_time": "2024-03-09T18:35:22.600Z"
   },
   {
    "duration": 65,
    "start_time": "2024-03-09T18:35:22.742Z"
   },
   {
    "duration": 14518,
    "start_time": "2024-03-09T18:35:22.879Z"
   },
   {
    "duration": 21,
    "start_time": "2024-03-09T18:35:37.400Z"
   },
   {
    "duration": 27,
    "start_time": "2024-03-09T18:35:37.423Z"
   },
   {
    "duration": 16,
    "start_time": "2024-03-09T18:35:55.886Z"
   },
   {
    "duration": 57,
    "start_time": "2024-03-09T18:35:56.029Z"
   },
   {
    "duration": 26356,
    "start_time": "2024-03-09T18:35:56.179Z"
   },
   {
    "duration": 15,
    "start_time": "2024-03-09T18:36:22.537Z"
   },
   {
    "duration": 10,
    "start_time": "2024-03-09T18:36:28.661Z"
   },
   {
    "duration": 11,
    "start_time": "2024-03-09T18:36:28.806Z"
   },
   {
    "duration": 64,
    "start_time": "2024-03-09T18:36:28.941Z"
   },
   {
    "duration": 69859,
    "start_time": "2024-03-09T18:36:29.074Z"
   },
   {
    "duration": 16,
    "start_time": "2024-03-09T18:37:38.935Z"
   },
   {
    "duration": 18,
    "start_time": "2024-03-09T18:37:44.695Z"
   },
   {
    "duration": 9,
    "start_time": "2024-03-09T18:37:44.830Z"
   },
   {
    "duration": 109,
    "start_time": "2024-03-09T18:37:44.942Z"
   },
   {
    "duration": 223996,
    "start_time": "2024-03-09T18:37:45.062Z"
   },
   {
    "duration": 35,
    "start_time": "2024-03-09T18:41:29.060Z"
   },
   {
    "duration": 10,
    "start_time": "2024-03-09T18:45:58.968Z"
   },
   {
    "duration": 9,
    "start_time": "2024-03-09T18:48:02.601Z"
   },
   {
    "duration": 17,
    "start_time": "2024-03-09T18:48:02.889Z"
   },
   {
    "duration": 10,
    "start_time": "2024-03-09T18:48:03.560Z"
   },
   {
    "duration": 111,
    "start_time": "2024-03-09T18:48:05.362Z"
   },
   {
    "duration": 139706,
    "start_time": "2024-03-09T18:48:08.233Z"
   },
   {
    "duration": 455,
    "start_time": "2024-03-10T08:11:53.261Z"
   },
   {
    "duration": 0,
    "start_time": "2024-03-10T08:11:53.717Z"
   },
   {
    "duration": 111,
    "start_time": "2024-03-10T08:11:53.983Z"
   },
   {
    "duration": 7,
    "start_time": "2024-03-10T08:11:54.265Z"
   },
   {
    "duration": 14,
    "start_time": "2024-03-10T08:11:54.577Z"
   },
   {
    "duration": 10,
    "start_time": "2024-03-10T08:11:54.846Z"
   },
   {
    "duration": 25,
    "start_time": "2024-03-10T08:11:55.159Z"
   },
   {
    "duration": 13,
    "start_time": "2024-03-10T08:11:55.463Z"
   },
   {
    "duration": 8,
    "start_time": "2024-03-10T08:11:55.743Z"
   },
   {
    "duration": 3,
    "start_time": "2024-03-10T08:11:56.534Z"
   },
   {
    "duration": 11697,
    "start_time": "2024-03-10T08:12:18.172Z"
   },
   {
    "duration": 2361,
    "start_time": "2024-03-10T08:12:38.777Z"
   },
   {
    "duration": 6,
    "start_time": "2024-03-10T08:12:41.140Z"
   },
   {
    "duration": 71,
    "start_time": "2024-03-10T08:12:41.147Z"
   },
   {
    "duration": 29,
    "start_time": "2024-03-10T08:12:41.221Z"
   },
   {
    "duration": 15,
    "start_time": "2024-03-10T08:12:41.517Z"
   },
   {
    "duration": 7,
    "start_time": "2024-03-10T08:12:42.094Z"
   },
   {
    "duration": 29,
    "start_time": "2024-03-10T08:12:42.957Z"
   },
   {
    "duration": 989,
    "start_time": "2024-03-10T08:12:44.086Z"
   },
   {
    "duration": 1175,
    "start_time": "2024-03-10T08:12:45.093Z"
   },
   {
    "duration": 4,
    "start_time": "2024-03-10T08:12:47.300Z"
   },
   {
    "duration": 4,
    "start_time": "2024-03-10T08:12:48.117Z"
   },
   {
    "duration": 6,
    "start_time": "2024-03-10T08:12:48.901Z"
   },
   {
    "duration": 4,
    "start_time": "2024-03-10T08:12:49.212Z"
   },
   {
    "duration": 23,
    "start_time": "2024-03-10T08:12:51.019Z"
   },
   {
    "duration": 1872,
    "start_time": "2024-03-10T08:12:57.535Z"
   },
   {
    "duration": 457,
    "start_time": "2024-03-10T08:12:59.409Z"
   },
   {
    "duration": 6,
    "start_time": "2024-03-10T08:13:19.756Z"
   },
   {
    "duration": 9,
    "start_time": "2024-03-10T08:13:31.612Z"
   },
   {
    "duration": 7,
    "start_time": "2024-03-10T08:13:44.121Z"
   },
   {
    "duration": 60,
    "start_time": "2024-03-10T08:14:23.410Z"
   },
   {
    "duration": 105269,
    "start_time": "2024-03-10T08:14:26.252Z"
   },
   {
    "duration": 175,
    "start_time": "2024-03-10T08:16:11.523Z"
   },
   {
    "duration": 0,
    "start_time": "2024-03-10T08:16:11.699Z"
   },
   {
    "duration": 13,
    "start_time": "2024-03-10T08:16:16.704Z"
   },
   {
    "duration": 24,
    "start_time": "2024-03-10T08:17:03.597Z"
   },
   {
    "duration": 7,
    "start_time": "2024-03-10T08:17:16.710Z"
   },
   {
    "duration": 12,
    "start_time": "2024-03-10T08:17:21.246Z"
   },
   {
    "duration": 13,
    "start_time": "2024-03-10T08:17:28.160Z"
   },
   {
    "duration": 4,
    "start_time": "2024-03-10T08:17:36.687Z"
   },
   {
    "duration": 13,
    "start_time": "2024-03-10T08:17:41.247Z"
   },
   {
    "duration": 15,
    "start_time": "2024-03-10T08:17:47.806Z"
   },
   {
    "duration": 5,
    "start_time": "2024-03-10T08:18:07.903Z"
   },
   {
    "duration": 5,
    "start_time": "2024-03-10T08:18:56.246Z"
   },
   {
    "duration": 10,
    "start_time": "2024-03-10T08:22:03.841Z"
   },
   {
    "duration": 18,
    "start_time": "2024-03-10T08:22:46.016Z"
   },
   {
    "duration": 87,
    "start_time": "2024-03-10T08:23:00.218Z"
   },
   {
    "duration": 24,
    "start_time": "2024-03-10T08:23:03.303Z"
   },
   {
    "duration": 11,
    "start_time": "2024-03-10T08:23:10.367Z"
   },
   {
    "duration": 20,
    "start_time": "2024-03-10T08:23:39.014Z"
   },
   {
    "duration": 9,
    "start_time": "2024-03-10T08:24:10.815Z"
   },
   {
    "duration": 20,
    "start_time": "2024-03-10T08:24:13.661Z"
   },
   {
    "duration": 9,
    "start_time": "2024-03-10T08:24:37.432Z"
   },
   {
    "duration": 13,
    "start_time": "2024-03-10T08:24:47.624Z"
   },
   {
    "duration": 4,
    "start_time": "2024-03-10T08:24:52.322Z"
   },
   {
    "duration": 10,
    "start_time": "2024-03-10T08:24:57.282Z"
   },
   {
    "duration": 11,
    "start_time": "2024-03-10T08:25:20.830Z"
   },
   {
    "duration": 9,
    "start_time": "2024-03-10T08:25:55.624Z"
   },
   {
    "duration": 14,
    "start_time": "2024-03-10T08:25:55.840Z"
   },
   {
    "duration": 6,
    "start_time": "2024-03-10T08:25:56.799Z"
   },
   {
    "duration": 46,
    "start_time": "2024-03-10T08:25:57.783Z"
   },
   {
    "duration": 24,
    "start_time": "2024-03-10T08:25:58.737Z"
   },
   {
    "duration": 13,
    "start_time": "2024-03-10T08:27:43.503Z"
   },
   {
    "duration": 11,
    "start_time": "2024-03-10T08:27:43.987Z"
   },
   {
    "duration": 5,
    "start_time": "2024-03-10T08:28:07.086Z"
   },
   {
    "duration": 11,
    "start_time": "2024-03-10T08:28:11.049Z"
   },
   {
    "duration": 20,
    "start_time": "2024-03-10T08:28:35.087Z"
   },
   {
    "duration": 5,
    "start_time": "2024-03-10T08:28:38.695Z"
   },
   {
    "duration": 11,
    "start_time": "2024-03-10T08:29:20.963Z"
   },
   {
    "duration": 13,
    "start_time": "2024-03-10T08:29:31.536Z"
   },
   {
    "duration": 18,
    "start_time": "2024-03-10T08:29:50.309Z"
   },
   {
    "duration": 21,
    "start_time": "2024-03-10T08:29:55.335Z"
   },
   {
    "duration": 9,
    "start_time": "2024-03-10T08:30:09.597Z"
   },
   {
    "duration": 4,
    "start_time": "2024-03-10T08:30:40.728Z"
   },
   {
    "duration": 16,
    "start_time": "2024-03-10T08:30:59.992Z"
   },
   {
    "duration": 6,
    "start_time": "2024-03-10T08:31:20.126Z"
   },
   {
    "duration": 13,
    "start_time": "2024-03-10T08:31:20.407Z"
   },
   {
    "duration": 6,
    "start_time": "2024-03-10T08:31:21.200Z"
   },
   {
    "duration": 49,
    "start_time": "2024-03-10T08:31:22.032Z"
   },
   {
    "duration": 103050,
    "start_time": "2024-03-10T08:31:23.063Z"
   },
   {
    "duration": 9,
    "start_time": "2024-03-10T08:33:06.115Z"
   },
   {
    "duration": 9,
    "start_time": "2024-03-10T08:33:15.761Z"
   },
   {
    "duration": 9,
    "start_time": "2024-03-10T08:33:22.640Z"
   },
   {
    "duration": 14,
    "start_time": "2024-03-10T08:33:27.129Z"
   },
   {
    "duration": 10,
    "start_time": "2024-03-10T08:37:20.168Z"
   },
   {
    "duration": 9,
    "start_time": "2024-03-10T08:37:43.904Z"
   },
   {
    "duration": 4,
    "start_time": "2024-03-10T08:37:49.412Z"
   },
   {
    "duration": 13,
    "start_time": "2024-03-10T08:38:20.386Z"
   },
   {
    "duration": 18,
    "start_time": "2024-03-10T08:38:48.300Z"
   },
   {
    "duration": 1979,
    "start_time": "2024-03-10T08:38:57.717Z"
   },
   {
    "duration": 5,
    "start_time": "2024-03-10T08:38:59.698Z"
   },
   {
    "duration": 57,
    "start_time": "2024-03-10T08:38:59.705Z"
   },
   {
    "duration": 17,
    "start_time": "2024-03-10T08:38:59.764Z"
   },
   {
    "duration": 14,
    "start_time": "2024-03-10T08:38:59.782Z"
   },
   {
    "duration": 22,
    "start_time": "2024-03-10T08:38:59.798Z"
   },
   {
    "duration": 22,
    "start_time": "2024-03-10T08:38:59.822Z"
   },
   {
    "duration": 913,
    "start_time": "2024-03-10T08:38:59.846Z"
   },
   {
    "duration": 1197,
    "start_time": "2024-03-10T08:39:00.761Z"
   },
   {
    "duration": 7,
    "start_time": "2024-03-10T08:39:01.960Z"
   },
   {
    "duration": 28,
    "start_time": "2024-03-10T08:39:01.969Z"
   },
   {
    "duration": 17,
    "start_time": "2024-03-10T08:39:01.998Z"
   },
   {
    "duration": 42,
    "start_time": "2024-03-10T08:39:02.017Z"
   },
   {
    "duration": 46,
    "start_time": "2024-03-10T08:39:02.061Z"
   },
   {
    "duration": 1868,
    "start_time": "2024-03-10T08:39:02.109Z"
   },
   {
    "duration": 454,
    "start_time": "2024-03-10T08:39:03.979Z"
   },
   {
    "duration": 5,
    "start_time": "2024-03-10T08:39:04.435Z"
   },
   {
    "duration": 25,
    "start_time": "2024-03-10T08:39:04.442Z"
   },
   {
    "duration": 9,
    "start_time": "2024-03-10T08:39:04.469Z"
   },
   {
    "duration": 65,
    "start_time": "2024-03-10T08:39:04.479Z"
   },
   {
    "duration": 100048,
    "start_time": "2024-03-10T08:39:04.545Z"
   },
   {
    "duration": 8,
    "start_time": "2024-03-10T08:40:44.595Z"
   },
   {
    "duration": 134,
    "start_time": "2024-03-10T08:40:47.203Z"
   },
   {
    "duration": 19,
    "start_time": "2024-03-10T08:40:57.035Z"
   },
   {
    "duration": 7,
    "start_time": "2024-03-10T08:41:05.788Z"
   },
   {
    "duration": 8,
    "start_time": "2024-03-10T08:41:09.814Z"
   },
   {
    "duration": 15,
    "start_time": "2024-03-10T08:41:20.883Z"
   },
   {
    "duration": 17,
    "start_time": "2024-03-10T08:41:59.005Z"
   },
   {
    "duration": 17,
    "start_time": "2024-03-10T08:42:02.779Z"
   },
   {
    "duration": 14,
    "start_time": "2024-03-10T08:42:40.052Z"
   },
   {
    "duration": 12,
    "start_time": "2024-03-10T08:42:46.575Z"
   },
   {
    "duration": 13,
    "start_time": "2024-03-10T08:42:50.762Z"
   },
   {
    "duration": 17,
    "start_time": "2024-03-10T08:42:59.491Z"
   },
   {
    "duration": 23,
    "start_time": "2024-03-10T08:43:21.352Z"
   },
   {
    "duration": 503,
    "start_time": "2024-03-10T08:43:29.885Z"
   },
   {
    "duration": 569,
    "start_time": "2024-03-10T08:43:38.372Z"
   },
   {
    "duration": 650,
    "start_time": "2024-03-10T08:43:41.956Z"
   },
   {
    "duration": 568,
    "start_time": "2024-03-10T08:43:44.412Z"
   },
   {
    "duration": 513,
    "start_time": "2024-03-10T08:43:50.476Z"
   },
   {
    "duration": 529,
    "start_time": "2024-03-10T08:43:53.212Z"
   },
   {
    "duration": 573,
    "start_time": "2024-03-10T08:44:01.101Z"
   },
   {
    "duration": 506,
    "start_time": "2024-03-10T08:44:08.573Z"
   },
   {
    "duration": 495,
    "start_time": "2024-03-10T08:44:14.881Z"
   },
   {
    "duration": 642,
    "start_time": "2024-03-10T08:44:16.945Z"
   },
   {
    "duration": 544,
    "start_time": "2024-03-10T08:44:26.836Z"
   },
   {
    "duration": 551,
    "start_time": "2024-03-10T08:44:31.932Z"
   },
   {
    "duration": 630,
    "start_time": "2024-03-10T08:44:44.684Z"
   },
   {
    "duration": 609,
    "start_time": "2024-03-10T08:44:53.964Z"
   },
   {
    "duration": 643,
    "start_time": "2024-03-10T08:45:00.840Z"
   },
   {
    "duration": 826,
    "start_time": "2024-03-10T08:45:05.941Z"
   },
   {
    "duration": 555,
    "start_time": "2024-03-10T08:45:14.181Z"
   },
   {
    "duration": 634,
    "start_time": "2024-03-10T08:45:20.662Z"
   },
   {
    "duration": 662,
    "start_time": "2024-03-10T08:45:25.581Z"
   },
   {
    "duration": 628,
    "start_time": "2024-03-10T08:45:29.485Z"
   },
   {
    "duration": 666,
    "start_time": "2024-03-10T08:45:32.710Z"
   },
   {
    "duration": 822,
    "start_time": "2024-03-10T08:45:45.165Z"
   },
   {
    "duration": 650,
    "start_time": "2024-03-10T08:45:56.349Z"
   },
   {
    "duration": 639,
    "start_time": "2024-03-10T08:46:03.862Z"
   },
   {
    "duration": 659,
    "start_time": "2024-03-10T08:46:09.858Z"
   },
   {
    "duration": 696,
    "start_time": "2024-03-10T08:46:25.490Z"
   },
   {
    "duration": 648,
    "start_time": "2024-03-10T08:46:37.582Z"
   },
   {
    "duration": 781,
    "start_time": "2024-03-10T08:46:42.382Z"
   },
   {
    "duration": 271,
    "start_time": "2024-03-10T08:46:45.053Z"
   },
   {
    "duration": 671,
    "start_time": "2024-03-10T08:46:46.318Z"
   },
   {
    "duration": 660,
    "start_time": "2024-03-10T08:46:50.752Z"
   },
   {
    "duration": 622,
    "start_time": "2024-03-10T08:46:59.086Z"
   },
   {
    "duration": 652,
    "start_time": "2024-03-10T08:47:06.733Z"
   },
   {
    "duration": 638,
    "start_time": "2024-03-10T08:47:10.944Z"
   },
   {
    "duration": 647,
    "start_time": "2024-03-10T08:48:51.881Z"
   },
   {
    "duration": 11,
    "start_time": "2024-03-10T08:49:03.798Z"
   },
   {
    "duration": 861,
    "start_time": "2024-03-10T08:49:05.487Z"
   },
   {
    "duration": 1137,
    "start_time": "2024-03-10T08:49:44.479Z"
   },
   {
    "duration": 5,
    "start_time": "2024-03-10T08:49:50.151Z"
   },
   {
    "duration": 1996,
    "start_time": "2024-03-10T08:50:08.898Z"
   },
   {
    "duration": 6,
    "start_time": "2024-03-10T08:50:10.896Z"
   },
   {
    "duration": 79,
    "start_time": "2024-03-10T08:50:10.904Z"
   },
   {
    "duration": 17,
    "start_time": "2024-03-10T08:50:10.985Z"
   },
   {
    "duration": 35,
    "start_time": "2024-03-10T08:50:11.004Z"
   },
   {
    "duration": 35,
    "start_time": "2024-03-10T08:50:11.041Z"
   },
   {
    "duration": 47,
    "start_time": "2024-03-10T08:50:11.078Z"
   },
   {
    "duration": 829,
    "start_time": "2024-03-10T08:50:11.127Z"
   },
   {
    "duration": 1146,
    "start_time": "2024-03-10T08:50:11.958Z"
   },
   {
    "duration": 3,
    "start_time": "2024-03-10T08:50:13.106Z"
   },
   {
    "duration": 28,
    "start_time": "2024-03-10T08:50:13.111Z"
   },
   {
    "duration": 17,
    "start_time": "2024-03-10T08:50:13.141Z"
   },
   {
    "duration": 11,
    "start_time": "2024-03-10T08:50:13.160Z"
   },
   {
    "duration": 45,
    "start_time": "2024-03-10T08:50:13.173Z"
   },
   {
    "duration": 1807,
    "start_time": "2024-03-10T08:50:13.219Z"
   },
   {
    "duration": 429,
    "start_time": "2024-03-10T08:50:15.027Z"
   },
   {
    "duration": 10,
    "start_time": "2024-03-10T08:50:15.457Z"
   },
   {
    "duration": 10,
    "start_time": "2024-03-10T08:50:15.469Z"
   },
   {
    "duration": 18,
    "start_time": "2024-03-10T08:50:15.480Z"
   },
   {
    "duration": 55,
    "start_time": "2024-03-10T08:50:15.500Z"
   },
   {
    "duration": 6146,
    "start_time": "2024-03-10T08:50:15.565Z"
   },
   {
    "duration": 13,
    "start_time": "2024-03-10T08:50:21.714Z"
   },
   {
    "duration": 12,
    "start_time": "2024-03-10T08:50:33.063Z"
   },
   {
    "duration": 640,
    "start_time": "2024-03-10T08:50:33.274Z"
   },
   {
    "duration": 10,
    "start_time": "2024-03-10T08:50:55.327Z"
   },
   {
    "duration": 10,
    "start_time": "2024-03-10T08:51:20.926Z"
   },
   {
    "duration": 9,
    "start_time": "2024-03-10T08:51:21.123Z"
   },
   {
    "duration": 7,
    "start_time": "2024-03-10T08:51:34.488Z"
   },
   {
    "duration": 671,
    "start_time": "2024-03-10T08:51:36.089Z"
   },
   {
    "duration": 154,
    "start_time": "2024-03-10T08:51:59.099Z"
   },
   {
    "duration": 29,
    "start_time": "2024-03-10T08:53:32.138Z"
   },
   {
    "duration": 756,
    "start_time": "2024-03-10T08:54:12.219Z"
   },
   {
    "duration": 642,
    "start_time": "2024-03-10T08:54:21.338Z"
   },
   {
    "duration": 657,
    "start_time": "2024-03-10T08:54:26.312Z"
   },
   {
    "duration": 12,
    "start_time": "2024-03-10T08:55:04.065Z"
   },
   {
    "duration": 6,
    "start_time": "2024-03-10T08:55:05.514Z"
   },
   {
    "duration": 655,
    "start_time": "2024-03-10T08:55:05.766Z"
   },
   {
    "duration": 693,
    "start_time": "2024-03-10T08:55:25.451Z"
   },
   {
    "duration": 823,
    "start_time": "2024-03-10T08:55:41.993Z"
   },
   {
    "duration": 686,
    "start_time": "2024-03-10T08:56:04.626Z"
   },
   {
    "duration": 662,
    "start_time": "2024-03-10T08:56:10.042Z"
   },
   {
    "duration": 608,
    "start_time": "2024-03-10T08:56:27.474Z"
   },
   {
    "duration": 664,
    "start_time": "2024-03-10T08:57:11.946Z"
   },
   {
    "duration": 765,
    "start_time": "2024-03-10T08:57:20.985Z"
   },
   {
    "duration": 638,
    "start_time": "2024-03-10T08:58:06.953Z"
   },
   {
    "duration": 636,
    "start_time": "2024-03-10T08:58:10.067Z"
   },
   {
    "duration": 637,
    "start_time": "2024-03-10T08:58:28.698Z"
   },
   {
    "duration": 639,
    "start_time": "2024-03-10T09:01:22.202Z"
   },
   {
    "duration": 815,
    "start_time": "2024-03-10T09:01:38.364Z"
   },
   {
    "duration": 678,
    "start_time": "2024-03-10T09:02:19.819Z"
   },
   {
    "duration": 554,
    "start_time": "2024-03-10T09:02:28.107Z"
   },
   {
    "duration": 555,
    "start_time": "2024-03-10T09:02:40.939Z"
   },
   {
    "duration": 1347,
    "start_time": "2024-03-10T09:03:00.733Z"
   },
   {
    "duration": 0,
    "start_time": "2024-03-10T09:03:02.082Z"
   },
   {
    "duration": 10,
    "start_time": "2024-03-10T09:03:03.843Z"
   },
   {
    "duration": 7,
    "start_time": "2024-03-10T09:03:04.250Z"
   },
   {
    "duration": 46,
    "start_time": "2024-03-10T09:03:04.549Z"
   },
   {
    "duration": 11032,
    "start_time": "2024-03-10T09:03:05.452Z"
   },
   {
    "duration": 10,
    "start_time": "2024-03-10T09:03:16.486Z"
   },
   {
    "duration": 624,
    "start_time": "2024-03-10T09:03:16.498Z"
   },
   {
    "duration": 707,
    "start_time": "2024-03-10T09:03:46.844Z"
   },
   {
    "duration": 653,
    "start_time": "2024-03-10T09:03:59.546Z"
   },
   {
    "duration": 540,
    "start_time": "2024-03-10T09:04:02.068Z"
   },
   {
    "duration": 69,
    "start_time": "2024-03-10T09:04:54.687Z"
   },
   {
    "duration": 550,
    "start_time": "2024-03-10T09:05:32.157Z"
   },
   {
    "duration": 560,
    "start_time": "2024-03-10T09:05:38.011Z"
   },
   {
    "duration": 685,
    "start_time": "2024-03-10T09:05:40.800Z"
   },
   {
    "duration": 580,
    "start_time": "2024-03-10T09:05:46.317Z"
   },
   {
    "duration": 618,
    "start_time": "2024-03-10T09:05:55.531Z"
   },
   {
    "duration": 583,
    "start_time": "2024-03-10T09:06:05.843Z"
   },
   {
    "duration": 592,
    "start_time": "2024-03-10T09:06:14.717Z"
   },
   {
    "duration": 252,
    "start_time": "2024-03-10T09:07:14.284Z"
   },
   {
    "duration": 700,
    "start_time": "2024-03-10T09:07:17.794Z"
   },
   {
    "duration": 563,
    "start_time": "2024-03-10T09:07:23.404Z"
   },
   {
    "duration": 299,
    "start_time": "2024-03-10T09:07:40.248Z"
   },
   {
    "duration": 570,
    "start_time": "2024-03-10T09:08:22.747Z"
   },
   {
    "duration": 550,
    "start_time": "2024-03-10T09:08:58.485Z"
   },
   {
    "duration": 582,
    "start_time": "2024-03-10T09:09:05.103Z"
   },
   {
    "duration": 718,
    "start_time": "2024-03-10T09:20:13.525Z"
   },
   {
    "duration": 572,
    "start_time": "2024-03-10T09:20:36.477Z"
   },
   {
    "duration": 557,
    "start_time": "2024-03-10T09:20:54.672Z"
   },
   {
    "duration": 524,
    "start_time": "2024-03-10T09:21:36.926Z"
   },
   {
    "duration": 554,
    "start_time": "2024-03-10T09:21:40.460Z"
   },
   {
    "duration": 547,
    "start_time": "2024-03-10T09:21:53.804Z"
   },
   {
    "duration": 767,
    "start_time": "2024-03-10T09:22:07.125Z"
   },
   {
    "duration": 705,
    "start_time": "2024-03-10T09:22:12.125Z"
   },
   {
    "duration": 534,
    "start_time": "2024-03-10T09:23:44.950Z"
   },
   {
    "duration": 562,
    "start_time": "2024-03-10T09:24:11.603Z"
   },
   {
    "duration": 569,
    "start_time": "2024-03-10T09:31:24.832Z"
   },
   {
    "duration": 652,
    "start_time": "2024-03-10T09:31:38.079Z"
   },
   {
    "duration": 520,
    "start_time": "2024-03-10T09:31:51.403Z"
   },
   {
    "duration": 551,
    "start_time": "2024-03-10T09:32:01.159Z"
   },
   {
    "duration": 558,
    "start_time": "2024-03-10T09:32:08.519Z"
   },
   {
    "duration": 566,
    "start_time": "2024-03-10T09:32:17.542Z"
   },
   {
    "duration": 702,
    "start_time": "2024-03-10T09:32:23.902Z"
   },
   {
    "duration": 547,
    "start_time": "2024-03-10T09:32:27.734Z"
   },
   {
    "duration": 545,
    "start_time": "2024-03-10T09:32:43.552Z"
   },
   {
    "duration": 539,
    "start_time": "2024-03-10T09:32:49.855Z"
   },
   {
    "duration": 571,
    "start_time": "2024-03-10T09:34:01.224Z"
   },
   {
    "duration": 4,
    "start_time": "2024-03-10T09:34:51.583Z"
   },
   {
    "duration": 538,
    "start_time": "2024-03-10T09:35:23.153Z"
   },
   {
    "duration": 734,
    "start_time": "2024-03-10T09:35:38.522Z"
   },
   {
    "duration": 11,
    "start_time": "2024-03-10T09:35:46.100Z"
   },
   {
    "duration": 551,
    "start_time": "2024-03-10T09:35:48.643Z"
   },
   {
    "duration": 10,
    "start_time": "2024-03-10T09:37:26.206Z"
   },
   {
    "duration": 10,
    "start_time": "2024-03-10T09:41:25.446Z"
   },
   {
    "duration": 4,
    "start_time": "2024-03-10T09:41:44.783Z"
   },
   {
    "duration": 10,
    "start_time": "2024-03-10T09:41:50.918Z"
   },
   {
    "duration": 4,
    "start_time": "2024-03-10T09:41:53.302Z"
   },
   {
    "duration": 13,
    "start_time": "2024-03-10T09:42:04.335Z"
   },
   {
    "duration": 7,
    "start_time": "2024-03-10T09:42:07.015Z"
   },
   {
    "duration": 48,
    "start_time": "2024-03-10T09:42:08.576Z"
   },
   {
    "duration": 7211,
    "start_time": "2024-03-10T09:42:10.096Z"
   },
   {
    "duration": 6,
    "start_time": "2024-03-10T09:42:28.935Z"
   },
   {
    "duration": 48,
    "start_time": "2024-03-10T09:42:29.495Z"
   },
   {
    "duration": 11167,
    "start_time": "2024-03-10T09:42:30.319Z"
   },
   {
    "duration": 50,
    "start_time": "2024-03-10T09:42:50.120Z"
   },
   {
    "duration": 2488,
    "start_time": "2024-03-10T09:42:51.504Z"
   },
   {
    "duration": 7,
    "start_time": "2024-03-10T09:42:55.750Z"
   },
   {
    "duration": 9,
    "start_time": "2024-03-10T09:42:57.304Z"
   },
   {
    "duration": 7,
    "start_time": "2024-03-10T09:42:57.760Z"
   },
   {
    "duration": 48,
    "start_time": "2024-03-10T09:42:58.711Z"
   },
   {
    "duration": 10629,
    "start_time": "2024-03-10T09:43:03.487Z"
   },
   {
    "duration": 8,
    "start_time": "2024-03-10T09:46:28.032Z"
   },
   {
    "duration": 49,
    "start_time": "2024-03-10T09:46:28.440Z"
   },
   {
    "duration": 6727,
    "start_time": "2024-03-10T09:46:29.344Z"
   },
   {
    "duration": 8,
    "start_time": "2024-03-10T09:46:40.384Z"
   },
   {
    "duration": 48,
    "start_time": "2024-03-10T09:46:41.919Z"
   },
   {
    "duration": 2374,
    "start_time": "2024-03-10T09:46:43.415Z"
   },
   {
    "duration": 4,
    "start_time": "2024-03-10T09:46:54.784Z"
   },
   {
    "duration": 11,
    "start_time": "2024-03-10T09:46:58.335Z"
   },
   {
    "duration": 11,
    "start_time": "2024-03-10T09:47:01.044Z"
   },
   {
    "duration": 7,
    "start_time": "2024-03-10T09:47:06.159Z"
   },
   {
    "duration": 6,
    "start_time": "2024-03-10T09:47:11.832Z"
   },
   {
    "duration": 8,
    "start_time": "2024-03-10T09:47:11.992Z"
   },
   {
    "duration": 47,
    "start_time": "2024-03-10T09:47:13.785Z"
   },
   {
    "duration": 11279,
    "start_time": "2024-03-10T09:47:16.033Z"
   },
   {
    "duration": 7,
    "start_time": "2024-03-10T09:47:56.344Z"
   },
   {
    "duration": 12,
    "start_time": "2024-03-10T09:54:11.650Z"
   },
   {
    "duration": 6,
    "start_time": "2024-03-10T09:54:15.073Z"
   },
   {
    "duration": 6,
    "start_time": "2024-03-10T09:54:18.249Z"
   },
   {
    "duration": 6,
    "start_time": "2024-03-10T09:57:42.320Z"
   },
   {
    "duration": 48,
    "start_time": "2024-03-10T09:57:43.146Z"
   },
   {
    "duration": 7646,
    "start_time": "2024-03-10T09:57:44.273Z"
   },
   {
    "duration": 7,
    "start_time": "2024-03-10T09:58:03.362Z"
   },
   {
    "duration": 56,
    "start_time": "2024-03-10T09:58:03.641Z"
   },
   {
    "duration": 12471,
    "start_time": "2024-03-10T09:58:04.547Z"
   },
   {
    "duration": 6,
    "start_time": "2024-03-10T10:00:15.594Z"
   },
   {
    "duration": 6,
    "start_time": "2024-03-10T10:00:28.371Z"
   },
   {
    "duration": 6,
    "start_time": "2024-03-10T10:00:28.514Z"
   },
   {
    "duration": 49,
    "start_time": "2024-03-10T10:00:28.827Z"
   },
   {
    "duration": 7046,
    "start_time": "2024-03-10T10:00:29.363Z"
   },
   {
    "duration": 12,
    "start_time": "2024-03-10T10:04:44.354Z"
   },
   {
    "duration": 11,
    "start_time": "2024-03-10T10:06:00.045Z"
   },
   {
    "duration": 2047,
    "start_time": "2024-03-10T10:06:21.846Z"
   },
   {
    "duration": 5,
    "start_time": "2024-03-10T10:06:23.895Z"
   },
   {
    "duration": 71,
    "start_time": "2024-03-10T10:06:23.902Z"
   },
   {
    "duration": 16,
    "start_time": "2024-03-10T10:06:23.975Z"
   },
   {
    "duration": 13,
    "start_time": "2024-03-10T10:06:23.993Z"
   },
   {
    "duration": 5,
    "start_time": "2024-03-10T10:06:24.008Z"
   },
   {
    "duration": 28,
    "start_time": "2024-03-10T10:06:24.014Z"
   },
   {
    "duration": 908,
    "start_time": "2024-03-10T10:06:24.043Z"
   },
   {
    "duration": 1192,
    "start_time": "2024-03-10T10:06:24.953Z"
   },
   {
    "duration": 4,
    "start_time": "2024-03-10T10:06:26.147Z"
   },
   {
    "duration": 16,
    "start_time": "2024-03-10T10:06:26.153Z"
   },
   {
    "duration": 7,
    "start_time": "2024-03-10T10:06:26.171Z"
   },
   {
    "duration": 24,
    "start_time": "2024-03-10T10:06:26.180Z"
   },
   {
    "duration": 30,
    "start_time": "2024-03-10T10:06:26.206Z"
   },
   {
    "duration": 1900,
    "start_time": "2024-03-10T10:06:26.238Z"
   },
   {
    "duration": 432,
    "start_time": "2024-03-10T10:06:28.139Z"
   },
   {
    "duration": 6,
    "start_time": "2024-03-10T10:06:28.572Z"
   },
   {
    "duration": 9,
    "start_time": "2024-03-10T10:06:28.580Z"
   },
   {
    "duration": 8,
    "start_time": "2024-03-10T10:06:28.591Z"
   },
   {
    "duration": 5,
    "start_time": "2024-03-10T10:06:28.601Z"
   },
   {
    "duration": 71,
    "start_time": "2024-03-10T10:06:28.607Z"
   },
   {
    "duration": 6686,
    "start_time": "2024-03-10T10:06:28.680Z"
   },
   {
    "duration": 146,
    "start_time": "2024-03-10T10:07:12.947Z"
   },
   {
    "duration": 5,
    "start_time": "2024-03-10T10:07:18.362Z"
   },
   {
    "duration": 50,
    "start_time": "2024-03-10T10:07:20.178Z"
   },
   {
    "duration": 6540,
    "start_time": "2024-03-10T10:07:20.945Z"
   },
   {
    "duration": 8,
    "start_time": "2024-03-10T10:09:13.444Z"
   },
   {
    "duration": 9,
    "start_time": "2024-03-10T10:34:02.182Z"
   },
   {
    "duration": 9,
    "start_time": "2024-03-10T10:34:16.679Z"
   },
   {
    "duration": 5,
    "start_time": "2024-03-10T10:34:18.534Z"
   },
   {
    "duration": 12,
    "start_time": "2024-03-10T10:34:20.053Z"
   },
   {
    "duration": 11,
    "start_time": "2024-03-10T10:34:31.320Z"
   },
   {
    "duration": 9,
    "start_time": "2024-03-10T10:34:55.015Z"
   },
   {
    "duration": 7,
    "start_time": "2024-03-10T10:34:55.774Z"
   },
   {
    "duration": 6,
    "start_time": "2024-03-10T10:34:56.103Z"
   },
   {
    "duration": 49,
    "start_time": "2024-03-10T10:34:57.342Z"
   },
   {
    "duration": 18,
    "start_time": "2024-03-10T10:35:02.205Z"
   },
   {
    "duration": 30,
    "start_time": "2024-03-10T10:35:07.909Z"
   },
   {
    "duration": 7,
    "start_time": "2024-03-10T10:45:05.487Z"
   },
   {
    "duration": 4,
    "start_time": "2024-03-10T10:45:05.637Z"
   },
   {
    "duration": 51,
    "start_time": "2024-03-10T10:45:06.101Z"
   },
   {
    "duration": 28,
    "start_time": "2024-03-10T10:45:07.038Z"
   },
   {
    "duration": 8,
    "start_time": "2024-03-10T10:45:28.294Z"
   },
   {
    "duration": 7,
    "start_time": "2024-03-10T10:45:30.101Z"
   },
   {
    "duration": 5,
    "start_time": "2024-03-10T10:45:31.022Z"
   },
   {
    "duration": 47,
    "start_time": "2024-03-10T10:45:32.406Z"
   },
   {
    "duration": 27,
    "start_time": "2024-03-10T10:45:35.274Z"
   },
   {
    "duration": 13,
    "start_time": "2024-03-10T10:47:00.340Z"
   },
   {
    "duration": 6,
    "start_time": "2024-03-10T10:47:01.173Z"
   },
   {
    "duration": 5,
    "start_time": "2024-03-10T10:47:01.613Z"
   },
   {
    "duration": 49,
    "start_time": "2024-03-10T10:47:02.502Z"
   },
   {
    "duration": 31,
    "start_time": "2024-03-10T10:47:03.309Z"
   },
   {
    "duration": 26,
    "start_time": "2024-03-10T10:47:08.324Z"
   },
   {
    "duration": 14,
    "start_time": "2024-03-10T10:47:35.733Z"
   },
   {
    "duration": 7,
    "start_time": "2024-03-10T10:47:36.261Z"
   },
   {
    "duration": 5,
    "start_time": "2024-03-10T10:47:36.444Z"
   },
   {
    "duration": 48,
    "start_time": "2024-03-10T10:47:37.237Z"
   },
   {
    "duration": 30,
    "start_time": "2024-03-10T10:47:38.266Z"
   },
   {
    "duration": 10,
    "start_time": "2024-03-10T10:47:49.377Z"
   },
   {
    "duration": 7,
    "start_time": "2024-03-10T10:47:49.938Z"
   },
   {
    "duration": 6,
    "start_time": "2024-03-10T10:47:50.060Z"
   },
   {
    "duration": 52,
    "start_time": "2024-03-10T10:47:50.598Z"
   },
   {
    "duration": 30,
    "start_time": "2024-03-10T10:47:51.221Z"
   },
   {
    "duration": 10,
    "start_time": "2024-03-10T10:48:05.607Z"
   },
   {
    "duration": 7,
    "start_time": "2024-03-10T10:48:06.283Z"
   },
   {
    "duration": 5,
    "start_time": "2024-03-10T10:48:06.427Z"
   },
   {
    "duration": 48,
    "start_time": "2024-03-10T10:48:06.732Z"
   },
   {
    "duration": 6230,
    "start_time": "2024-03-10T10:48:07.340Z"
   },
   {
    "duration": 21,
    "start_time": "2024-03-10T10:48:17.006Z"
   },
   {
    "duration": 1582,
    "start_time": "2024-03-10T10:48:17.508Z"
   },
   {
    "duration": 10,
    "start_time": "2024-03-10T10:51:28.092Z"
   },
   {
    "duration": 8,
    "start_time": "2024-03-10T10:51:28.630Z"
   },
   {
    "duration": 48,
    "start_time": "2024-03-10T10:51:29.316Z"
   },
   {
    "duration": 4032,
    "start_time": "2024-03-10T10:51:30.485Z"
   },
   {
    "duration": 9,
    "start_time": "2024-03-10T10:51:54.287Z"
   },
   {
    "duration": 7,
    "start_time": "2024-03-10T10:51:54.668Z"
   },
   {
    "duration": 46,
    "start_time": "2024-03-10T10:51:54.941Z"
   },
   {
    "duration": 5827,
    "start_time": "2024-03-10T10:51:55.645Z"
   },
   {
    "duration": 6,
    "start_time": "2024-03-10T10:55:07.342Z"
   },
   {
    "duration": 6,
    "start_time": "2024-03-10T10:56:01.310Z"
   },
   {
    "duration": 48,
    "start_time": "2024-03-10T10:56:04.006Z"
   },
   {
    "duration": 60,
    "start_time": "2024-03-10T10:56:15.879Z"
   },
   {
    "duration": 45,
    "start_time": "2024-03-10T10:56:58.201Z"
   },
   {
    "duration": 3705,
    "start_time": "2024-03-10T10:56:59.079Z"
   },
   {
    "duration": 10,
    "start_time": "2024-03-10T10:57:04.023Z"
   },
   {
    "duration": 7,
    "start_time": "2024-03-10T10:57:04.430Z"
   },
   {
    "duration": 48,
    "start_time": "2024-03-10T10:57:04.944Z"
   },
   {
    "duration": 6025,
    "start_time": "2024-03-10T10:57:07.488Z"
   },
   {
    "duration": 10,
    "start_time": "2024-03-10T10:57:15.663Z"
   },
   {
    "duration": 686,
    "start_time": "2024-03-10T10:57:16.120Z"
   },
   {
    "duration": 6,
    "start_time": "2024-03-10T10:57:21.495Z"
   },
   {
    "duration": 47,
    "start_time": "2024-03-10T10:57:21.847Z"
   },
   {
    "duration": 10681,
    "start_time": "2024-03-10T10:57:22.727Z"
   },
   {
    "duration": 10,
    "start_time": "2024-03-10T10:57:33.410Z"
   },
   {
    "duration": 565,
    "start_time": "2024-03-10T10:57:33.421Z"
   },
   {
    "duration": 11,
    "start_time": "2024-03-10T10:57:45.448Z"
   },
   {
    "duration": 6,
    "start_time": "2024-03-10T10:57:45.847Z"
   },
   {
    "duration": 55,
    "start_time": "2024-03-10T10:57:46.088Z"
   },
   {
    "duration": 21030,
    "start_time": "2024-03-10T10:57:46.377Z"
   },
   {
    "duration": 9,
    "start_time": "2024-03-10T10:58:07.409Z"
   },
   {
    "duration": 557,
    "start_time": "2024-03-10T10:58:07.419Z"
   },
   {
    "duration": 9,
    "start_time": "2024-03-10T10:58:17.952Z"
   },
   {
    "duration": 6,
    "start_time": "2024-03-10T10:58:18.342Z"
   },
   {
    "duration": 56,
    "start_time": "2024-03-10T10:58:18.632Z"
   },
   {
    "duration": 42079,
    "start_time": "2024-03-10T10:58:18.928Z"
   },
   {
    "duration": 10,
    "start_time": "2024-03-10T10:59:01.009Z"
   },
   {
    "duration": 570,
    "start_time": "2024-03-10T10:59:01.020Z"
   },
   {
    "duration": 11,
    "start_time": "2024-03-10T10:59:09.896Z"
   },
   {
    "duration": 8,
    "start_time": "2024-03-10T10:59:10.288Z"
   },
   {
    "duration": 47,
    "start_time": "2024-03-10T10:59:10.568Z"
   },
   {
    "duration": 21153,
    "start_time": "2024-03-10T10:59:10.856Z"
   },
   {
    "duration": 10,
    "start_time": "2024-03-10T10:59:32.012Z"
   },
   {
    "duration": 571,
    "start_time": "2024-03-10T10:59:32.024Z"
   },
   {
    "duration": 51,
    "start_time": "2024-03-10T10:59:32.597Z"
   },
   {
    "duration": 16056,
    "start_time": "2024-03-10T10:59:32.650Z"
   },
   {
    "duration": 0,
    "start_time": "2024-03-10T10:59:48.766Z"
   },
   {
    "duration": 6,
    "start_time": "2024-03-10T10:59:51.929Z"
   },
   {
    "duration": 7,
    "start_time": "2024-03-10T10:59:52.065Z"
   },
   {
    "duration": 9,
    "start_time": "2024-03-10T10:59:54.370Z"
   },
   {
    "duration": 6,
    "start_time": "2024-03-10T10:59:54.743Z"
   },
   {
    "duration": 9,
    "start_time": "2024-03-10T10:59:54.879Z"
   },
   {
    "duration": 48,
    "start_time": "2024-03-10T10:59:55.648Z"
   },
   {
    "duration": 20188,
    "start_time": "2024-03-10T10:59:56.729Z"
   },
   {
    "duration": 8,
    "start_time": "2024-03-10T11:00:16.965Z"
   },
   {
    "duration": 10,
    "start_time": "2024-03-10T11:02:31.628Z"
   },
   {
    "duration": 6,
    "start_time": "2024-03-10T11:02:32.194Z"
   },
   {
    "duration": 56,
    "start_time": "2024-03-10T11:02:32.547Z"
   },
   {
    "duration": 8,
    "start_time": "2024-03-10T11:02:32.922Z"
   },
   {
    "duration": 14907,
    "start_time": "2024-03-10T11:02:34.777Z"
   },
   {
    "duration": 10,
    "start_time": "2024-03-10T11:02:53.018Z"
   },
   {
    "duration": 7,
    "start_time": "2024-03-10T11:02:53.436Z"
   },
   {
    "duration": 49,
    "start_time": "2024-03-10T11:02:53.944Z"
   },
   {
    "duration": 9,
    "start_time": "2024-03-10T11:02:54.274Z"
   },
   {
    "duration": 9,
    "start_time": "2024-03-10T11:02:54.425Z"
   },
   {
    "duration": 20883,
    "start_time": "2024-03-10T11:02:54.825Z"
   },
   {
    "duration": 7,
    "start_time": "2024-03-10T11:03:15.710Z"
   },
   {
    "duration": 8,
    "start_time": "2024-03-10T11:03:38.530Z"
   },
   {
    "duration": 6,
    "start_time": "2024-03-10T11:04:38.323Z"
   },
   {
    "duration": 10,
    "start_time": "2024-03-10T11:04:38.747Z"
   },
   {
    "duration": 7,
    "start_time": "2024-03-10T11:04:40.546Z"
   },
   {
    "duration": 48,
    "start_time": "2024-03-10T11:04:41.370Z"
   },
   {
    "duration": 9,
    "start_time": "2024-03-10T11:04:42.123Z"
   },
   {
    "duration": 52,
    "start_time": "2024-03-10T11:04:52.210Z"
   },
   {
    "duration": 20997,
    "start_time": "2024-03-10T11:04:53.619Z"
   },
   {
    "duration": 48,
    "start_time": "2024-03-10T11:05:14.618Z"
   },
   {
    "duration": 677,
    "start_time": "2024-03-10T11:05:14.667Z"
   },
   {
    "duration": 3760,
    "start_time": "2024-03-10T11:14:36.725Z"
   },
   {
    "duration": 49,
    "start_time": "2024-03-10T11:14:41.093Z"
   },
   {
    "duration": 2775,
    "start_time": "2024-03-10T11:14:42.310Z"
   },
   {
    "duration": 53,
    "start_time": "2024-03-10T11:14:46.004Z"
   },
   {
    "duration": 39923,
    "start_time": "2024-03-10T11:14:46.196Z"
   },
   {
    "duration": 3,
    "start_time": "2024-03-10T11:18:09.287Z"
   },
   {
    "duration": 58,
    "start_time": "2024-03-10T11:18:14.678Z"
   },
   {
    "duration": 3614,
    "start_time": "2024-03-10T11:36:12.856Z"
   },
   {
    "duration": 223,
    "start_time": "2024-03-10T11:36:35.781Z"
   },
   {
    "duration": 6,
    "start_time": "2024-03-10T11:36:36.281Z"
   },
   {
    "duration": 4,
    "start_time": "2024-03-10T11:45:22.256Z"
   },
   {
    "duration": 3046,
    "start_time": "2024-03-10T11:53:33.087Z"
   },
   {
    "duration": 9,
    "start_time": "2024-03-10T11:53:57.439Z"
   },
   {
    "duration": 11,
    "start_time": "2024-03-10T11:58:58.608Z"
   },
   {
    "duration": 50,
    "start_time": "2024-03-10T11:58:59.155Z"
   },
   {
    "duration": 21443,
    "start_time": "2024-03-10T11:58:59.423Z"
   },
   {
    "duration": 11,
    "start_time": "2024-03-10T11:59:20.868Z"
   },
   {
    "duration": 602,
    "start_time": "2024-03-10T11:59:20.880Z"
   },
   {
    "duration": 51,
    "start_time": "2024-03-10T11:59:21.484Z"
   },
   {
    "duration": 49,
    "start_time": "2024-03-10T11:59:21.537Z"
   },
   {
    "duration": 11,
    "start_time": "2024-03-10T12:00:19.161Z"
   },
   {
    "duration": 7,
    "start_time": "2024-03-10T12:01:20.946Z"
   },
   {
    "duration": 4,
    "start_time": "2024-03-10T12:01:25.658Z"
   },
   {
    "duration": 4,
    "start_time": "2024-03-10T12:01:27.457Z"
   },
   {
    "duration": 5,
    "start_time": "2024-03-10T12:01:32.428Z"
   },
   {
    "duration": 10,
    "start_time": "2024-03-10T12:27:03.350Z"
   },
   {
    "duration": 6,
    "start_time": "2024-03-10T12:27:07.593Z"
   },
   {
    "duration": 48,
    "start_time": "2024-03-10T12:27:10.799Z"
   },
   {
    "duration": 75,
    "start_time": "2024-03-10T12:28:53.616Z"
   },
   {
    "duration": 20584,
    "start_time": "2024-03-10T12:28:58.383Z"
   },
   {
    "duration": 10,
    "start_time": "2024-03-10T12:29:40.279Z"
   },
   {
    "duration": 7,
    "start_time": "2024-03-10T12:29:42.655Z"
   },
   {
    "duration": 9,
    "start_time": "2024-03-10T12:32:19.841Z"
   },
   {
    "duration": 7,
    "start_time": "2024-03-10T12:32:20.214Z"
   },
   {
    "duration": 55,
    "start_time": "2024-03-10T12:32:20.641Z"
   },
   {
    "duration": 8739,
    "start_time": "2024-03-10T12:32:21.344Z"
   },
   {
    "duration": 9,
    "start_time": "2024-03-10T12:32:30.223Z"
   },
   {
    "duration": 8,
    "start_time": "2024-03-10T12:32:30.838Z"
   },
   {
    "duration": 22231,
    "start_time": "2024-03-10T12:32:42.983Z"
   },
   {
    "duration": 10,
    "start_time": "2024-03-10T12:33:05.215Z"
   },
   {
    "duration": 594,
    "start_time": "2024-03-10T12:33:05.226Z"
   },
   {
    "duration": 4,
    "start_time": "2024-03-10T12:42:56.341Z"
   },
   {
    "duration": 5,
    "start_time": "2024-03-10T12:43:02.125Z"
   },
   {
    "duration": 4,
    "start_time": "2024-03-10T12:45:18.615Z"
   },
   {
    "duration": 23,
    "start_time": "2024-03-10T14:43:07.802Z"
   },
   {
    "duration": 11,
    "start_time": "2024-03-10T14:43:25.666Z"
   },
   {
    "duration": 18,
    "start_time": "2024-03-10T14:43:35.494Z"
   },
   {
    "duration": 16,
    "start_time": "2024-03-10T14:43:39.375Z"
   },
   {
    "duration": 7,
    "start_time": "2024-03-10T14:43:54.135Z"
   },
   {
    "duration": 20,
    "start_time": "2024-03-10T14:44:00.719Z"
   },
   {
    "duration": 16,
    "start_time": "2024-03-10T14:44:37.007Z"
   },
   {
    "duration": 2816,
    "start_time": "2024-03-10T14:45:04.367Z"
   },
   {
    "duration": 2017,
    "start_time": "2024-03-10T14:45:15.718Z"
   },
   {
    "duration": 6,
    "start_time": "2024-03-10T14:45:17.736Z"
   },
   {
    "duration": 84,
    "start_time": "2024-03-10T14:45:17.743Z"
   },
   {
    "duration": 17,
    "start_time": "2024-03-10T14:45:17.828Z"
   },
   {
    "duration": 13,
    "start_time": "2024-03-10T14:45:17.846Z"
   },
   {
    "duration": 5,
    "start_time": "2024-03-10T14:45:17.860Z"
   },
   {
    "duration": 19,
    "start_time": "2024-03-10T14:45:17.866Z"
   },
   {
    "duration": 866,
    "start_time": "2024-03-10T14:45:17.886Z"
   },
   {
    "duration": 1153,
    "start_time": "2024-03-10T14:45:18.754Z"
   },
   {
    "duration": 4,
    "start_time": "2024-03-10T14:45:19.908Z"
   },
   {
    "duration": 6,
    "start_time": "2024-03-10T14:45:19.913Z"
   },
   {
    "duration": 9,
    "start_time": "2024-03-10T14:45:19.920Z"
   },
   {
    "duration": 4,
    "start_time": "2024-03-10T14:45:19.930Z"
   },
   {
    "duration": 48,
    "start_time": "2024-03-10T14:45:19.936Z"
   },
   {
    "duration": 1829,
    "start_time": "2024-03-10T14:45:19.985Z"
   },
   {
    "duration": 442,
    "start_time": "2024-03-10T14:45:21.815Z"
   },
   {
    "duration": 10,
    "start_time": "2024-03-10T14:45:22.258Z"
   },
   {
    "duration": 9,
    "start_time": "2024-03-10T14:45:22.269Z"
   },
   {
    "duration": 13,
    "start_time": "2024-03-10T14:45:22.280Z"
   },
   {
    "duration": 54,
    "start_time": "2024-03-10T14:45:22.294Z"
   },
   {
    "duration": 21168,
    "start_time": "2024-03-10T14:45:22.350Z"
   },
   {
    "duration": 52,
    "start_time": "2024-03-10T14:45:43.520Z"
   },
   {
    "duration": 518,
    "start_time": "2024-03-10T14:45:43.573Z"
   },
   {
    "duration": 47,
    "start_time": "2024-03-10T14:45:44.093Z"
   },
   {
    "duration": 164,
    "start_time": "2024-03-10T14:45:44.141Z"
   },
   {
    "duration": 3,
    "start_time": "2024-03-10T14:47:24.478Z"
   },
   {
    "duration": 4,
    "start_time": "2024-03-10T14:47:30.864Z"
   },
   {
    "duration": 37,
    "start_time": "2024-03-10T15:29:20.706Z"
   },
   {
    "duration": 13,
    "start_time": "2024-03-10T15:31:37.856Z"
   },
   {
    "duration": 13,
    "start_time": "2024-03-10T15:32:23.670Z"
   },
   {
    "duration": 32,
    "start_time": "2024-03-10T15:32:45.821Z"
   },
   {
    "duration": 14,
    "start_time": "2024-03-10T15:46:40.425Z"
   },
   {
    "duration": 7,
    "start_time": "2024-03-10T15:46:41.560Z"
   },
   {
    "duration": 48,
    "start_time": "2024-03-10T15:46:42.416Z"
   },
   {
    "duration": 22,
    "start_time": "2024-03-10T15:46:44.561Z"
   },
   {
    "duration": 13,
    "start_time": "2024-03-10T15:47:36.577Z"
   },
   {
    "duration": 49,
    "start_time": "2024-03-10T15:48:06.258Z"
   },
   {
    "duration": 29,
    "start_time": "2024-03-10T15:48:08.673Z"
   },
   {
    "duration": 13,
    "start_time": "2024-03-10T15:48:27.440Z"
   },
   {
    "duration": 6,
    "start_time": "2024-03-10T15:48:27.986Z"
   },
   {
    "duration": 52,
    "start_time": "2024-03-10T15:48:28.544Z"
   },
   {
    "duration": 24,
    "start_time": "2024-03-10T15:48:32.425Z"
   },
   {
    "duration": 12,
    "start_time": "2024-03-10T15:48:41.608Z"
   },
   {
    "duration": 6,
    "start_time": "2024-03-10T15:48:41.992Z"
   },
   {
    "duration": 57,
    "start_time": "2024-03-10T15:48:42.281Z"
   },
   {
    "duration": 29,
    "start_time": "2024-03-10T15:48:42.880Z"
   },
   {
    "duration": 11,
    "start_time": "2024-03-10T15:48:53.283Z"
   },
   {
    "duration": 6,
    "start_time": "2024-03-10T15:48:53.649Z"
   },
   {
    "duration": 49,
    "start_time": "2024-03-10T15:48:53.977Z"
   },
   {
    "duration": 20597,
    "start_time": "2024-03-10T15:48:54.704Z"
   },
   {
    "duration": 11,
    "start_time": "2024-03-10T15:49:15.303Z"
   },
   {
    "duration": 731,
    "start_time": "2024-03-10T15:49:15.315Z"
   },
   {
    "duration": 51,
    "start_time": "2024-03-10T15:49:16.048Z"
   },
   {
    "duration": 19092,
    "start_time": "2024-03-10T15:49:16.101Z"
   },
   {
    "duration": 11,
    "start_time": "2024-03-10T15:49:36.713Z"
   },
   {
    "duration": 82,
    "start_time": "2024-03-10T15:50:16.369Z"
   },
   {
    "duration": 4,
    "start_time": "2024-03-10T15:50:38.609Z"
   },
   {
    "duration": 6,
    "start_time": "2024-03-10T15:50:41.651Z"
   },
   {
    "duration": 5,
    "start_time": "2024-03-10T15:50:47.890Z"
   },
   {
    "duration": 5,
    "start_time": "2024-03-10T15:50:52.274Z"
   },
   {
    "duration": 5,
    "start_time": "2024-03-10T15:50:56.994Z"
   },
   {
    "duration": 5,
    "start_time": "2024-03-10T15:50:59.737Z"
   },
   {
    "duration": 5,
    "start_time": "2024-03-10T15:51:05.937Z"
   },
   {
    "duration": 4,
    "start_time": "2024-03-10T15:51:09.937Z"
   },
   {
    "duration": 85,
    "start_time": "2024-03-10T15:51:17.891Z"
   },
   {
    "duration": 83,
    "start_time": "2024-03-10T15:52:45.948Z"
   },
   {
    "duration": 4,
    "start_time": "2024-03-10T15:52:50.042Z"
   },
   {
    "duration": 5,
    "start_time": "2024-03-10T15:52:55.555Z"
   },
   {
    "duration": 4,
    "start_time": "2024-03-10T15:52:59.771Z"
   },
   {
    "duration": 4,
    "start_time": "2024-03-10T15:53:07.819Z"
   },
   {
    "duration": 5,
    "start_time": "2024-03-10T15:53:10.363Z"
   },
   {
    "duration": 4,
    "start_time": "2024-03-10T15:53:12.186Z"
   },
   {
    "duration": 5,
    "start_time": "2024-03-10T15:53:13.651Z"
   },
   {
    "duration": 4,
    "start_time": "2024-03-10T15:53:32.139Z"
   },
   {
    "duration": 5,
    "start_time": "2024-03-10T15:53:35.330Z"
   },
   {
    "duration": 4,
    "start_time": "2024-03-10T15:53:37.499Z"
   },
   {
    "duration": 5,
    "start_time": "2024-03-10T15:53:43.731Z"
   },
   {
    "duration": 5,
    "start_time": "2024-03-10T15:53:46.217Z"
   },
   {
    "duration": 4,
    "start_time": "2024-03-10T15:53:49.580Z"
   },
   {
    "duration": 4,
    "start_time": "2024-03-10T15:53:57.018Z"
   },
   {
    "duration": 4,
    "start_time": "2024-03-10T15:54:03.330Z"
   },
   {
    "duration": 8,
    "start_time": "2024-03-10T15:54:15.140Z"
   },
   {
    "duration": 54415,
    "start_time": "2024-03-10T15:54:27.676Z"
   },
   {
    "duration": 12,
    "start_time": "2024-03-10T15:55:23.170Z"
   },
   {
    "duration": 6172,
    "start_time": "2024-03-10T15:55:23.300Z"
   },
   {
    "duration": 0,
    "start_time": "2024-03-10T15:55:29.473Z"
   },
   {
    "duration": 9,
    "start_time": "2024-03-10T15:55:32.010Z"
   },
   {
    "duration": 52,
    "start_time": "2024-03-10T15:55:32.265Z"
   },
   {
    "duration": 21016,
    "start_time": "2024-03-10T15:55:32.593Z"
   },
   {
    "duration": 10,
    "start_time": "2024-03-10T15:55:54.314Z"
   },
   {
    "duration": 540,
    "start_time": "2024-03-10T15:55:54.482Z"
   },
   {
    "duration": 13,
    "start_time": "2024-03-10T15:55:56.561Z"
   },
   {
    "duration": 51,
    "start_time": "2024-03-10T15:56:12.226Z"
   },
   {
    "duration": 9,
    "start_time": "2024-03-10T15:56:22.667Z"
   },
   {
    "duration": 9,
    "start_time": "2024-03-10T15:57:53.988Z"
   },
   {
    "duration": 3,
    "start_time": "2024-03-10T15:57:59.100Z"
   },
   {
    "duration": 4,
    "start_time": "2024-03-10T15:58:07.981Z"
   },
   {
    "duration": 5990,
    "start_time": "2024-03-10T15:58:15.300Z"
   },
   {
    "duration": 11,
    "start_time": "2024-03-10T15:58:41.285Z"
   },
   {
    "duration": 6,
    "start_time": "2024-03-10T15:58:42.651Z"
   },
   {
    "duration": 49,
    "start_time": "2024-03-10T15:58:43.028Z"
   },
   {
    "duration": 21311,
    "start_time": "2024-03-10T15:58:44.107Z"
   },
   {
    "duration": 51,
    "start_time": "2024-03-10T15:59:05.420Z"
   },
   {
    "duration": 556,
    "start_time": "2024-03-10T15:59:05.472Z"
   },
   {
    "duration": 55,
    "start_time": "2024-03-10T15:59:06.030Z"
   },
   {
    "duration": 750718,
    "start_time": "2024-03-10T15:59:06.086Z"
   },
   {
    "duration": 0,
    "start_time": "2024-03-10T16:11:36.806Z"
   },
   {
    "duration": 0,
    "start_time": "2024-03-10T16:11:36.808Z"
   },
   {
    "duration": 12,
    "start_time": "2024-03-10T16:11:40.098Z"
   },
   {
    "duration": 7,
    "start_time": "2024-03-10T16:11:40.859Z"
   },
   {
    "duration": 48,
    "start_time": "2024-03-10T16:11:41.795Z"
   },
   {
    "duration": 21310,
    "start_time": "2024-03-10T16:11:42.604Z"
   },
   {
    "duration": 50,
    "start_time": "2024-03-10T16:12:03.915Z"
   },
   {
    "duration": 516,
    "start_time": "2024-03-10T16:12:03.967Z"
   },
   {
    "duration": 12,
    "start_time": "2024-03-10T16:12:21.442Z"
   },
   {
    "duration": 6,
    "start_time": "2024-03-10T16:12:21.844Z"
   },
   {
    "duration": 50,
    "start_time": "2024-03-10T16:12:22.115Z"
   },
   {
    "duration": 21412,
    "start_time": "2024-03-10T16:12:22.586Z"
   },
   {
    "duration": 10,
    "start_time": "2024-03-10T16:12:44.000Z"
   },
   {
    "duration": 716,
    "start_time": "2024-03-10T16:12:44.012Z"
   },
   {
    "duration": 59,
    "start_time": "2024-03-10T16:12:44.731Z"
   },
   {
    "duration": 6082,
    "start_time": "2024-03-10T16:12:47.507Z"
   },
   {
    "duration": 47,
    "start_time": "2024-03-10T16:13:14.084Z"
   },
   {
    "duration": 50479,
    "start_time": "2024-03-10T16:13:15.203Z"
   },
   {
    "duration": 13,
    "start_time": "2024-03-10T16:14:06.180Z"
   },
   {
    "duration": 27,
    "start_time": "2024-03-10T16:15:33.149Z"
   },
   {
    "duration": 1828,
    "start_time": "2024-03-10T16:15:34.963Z"
   },
   {
    "duration": 453,
    "start_time": "2024-03-10T16:15:36.793Z"
   },
   {
    "duration": 5,
    "start_time": "2024-03-10T16:15:37.248Z"
   },
   {
    "duration": 19,
    "start_time": "2024-03-10T16:15:37.255Z"
   },
   {
    "duration": 6,
    "start_time": "2024-03-10T16:15:37.305Z"
   },
   {
    "duration": 55,
    "start_time": "2024-03-10T16:15:37.584Z"
   },
   {
    "duration": 25,
    "start_time": "2024-03-10T16:15:37.878Z"
   },
   {
    "duration": 16,
    "start_time": "2024-03-10T16:15:38.155Z"
   },
   {
    "duration": 1626,
    "start_time": "2024-03-10T16:15:38.308Z"
   },
   {
    "duration": 0,
    "start_time": "2024-03-10T16:15:39.936Z"
   },
   {
    "duration": 0,
    "start_time": "2024-03-10T16:15:39.937Z"
   },
   {
    "duration": 55,
    "start_time": "2024-03-10T16:15:46.162Z"
   },
   {
    "duration": 5157,
    "start_time": "2024-03-10T16:15:46.685Z"
   },
   {
    "duration": 0,
    "start_time": "2024-03-10T16:15:51.843Z"
   },
   {
    "duration": 17,
    "start_time": "2024-03-10T16:16:35.037Z"
   },
   {
    "duration": 2023,
    "start_time": "2024-03-10T16:16:35.460Z"
   },
   {
    "duration": 28,
    "start_time": "2024-03-10T16:16:49.595Z"
   },
   {
    "duration": 1764,
    "start_time": "2024-03-10T16:16:52.020Z"
   },
   {
    "duration": 572,
    "start_time": "2024-03-10T16:16:53.786Z"
   },
   {
    "duration": 6,
    "start_time": "2024-03-10T16:16:54.365Z"
   },
   {
    "duration": 12,
    "start_time": "2024-03-10T16:16:54.372Z"
   },
   {
    "duration": 7,
    "start_time": "2024-03-10T16:16:55.860Z"
   },
   {
    "duration": 61,
    "start_time": "2024-03-10T16:16:56.564Z"
   },
   {
    "duration": 26,
    "start_time": "2024-03-10T16:16:57.340Z"
   },
   {
    "duration": 28,
    "start_time": "2024-03-10T16:17:13.731Z"
   },
   {
    "duration": 1813,
    "start_time": "2024-03-10T16:17:14.100Z"
   },
   {
    "duration": 471,
    "start_time": "2024-03-10T16:17:15.915Z"
   },
   {
    "duration": 6,
    "start_time": "2024-03-10T16:17:16.387Z"
   },
   {
    "duration": 40,
    "start_time": "2024-03-10T16:17:16.395Z"
   },
   {
    "duration": 7,
    "start_time": "2024-03-10T16:17:16.691Z"
   },
   {
    "duration": 62,
    "start_time": "2024-03-10T16:17:17.437Z"
   },
   {
    "duration": 26,
    "start_time": "2024-03-10T16:17:18.172Z"
   },
   {
    "duration": 27,
    "start_time": "2024-03-10T16:17:48.620Z"
   },
   {
    "duration": 1931,
    "start_time": "2024-03-10T16:17:48.883Z"
   },
   {
    "duration": 442,
    "start_time": "2024-03-10T16:17:50.816Z"
   },
   {
    "duration": 5,
    "start_time": "2024-03-10T16:17:51.265Z"
   },
   {
    "duration": 11,
    "start_time": "2024-03-10T16:17:51.272Z"
   },
   {
    "duration": 8,
    "start_time": "2024-03-10T16:17:51.756Z"
   },
   {
    "duration": 59,
    "start_time": "2024-03-10T16:17:52.659Z"
   },
   {
    "duration": 22431,
    "start_time": "2024-03-10T16:17:53.486Z"
   },
   {
    "duration": 13,
    "start_time": "2024-03-10T16:18:15.919Z"
   },
   {
    "duration": 578,
    "start_time": "2024-03-10T16:18:18.517Z"
   },
   {
    "duration": 60,
    "start_time": "2024-03-10T16:18:22.310Z"
   },
   {
    "duration": 128309,
    "start_time": "2024-03-10T16:18:22.485Z"
   },
   {
    "duration": 13,
    "start_time": "2024-03-10T16:20:38.933Z"
   },
   {
    "duration": 6,
    "start_time": "2024-03-10T16:20:39.565Z"
   },
   {
    "duration": 58,
    "start_time": "2024-03-10T16:20:40.061Z"
   },
   {
    "duration": 20980,
    "start_time": "2024-03-10T16:20:40.547Z"
   },
   {
    "duration": 17,
    "start_time": "2024-03-10T16:21:01.566Z"
   },
   {
    "duration": 0,
    "start_time": "2024-03-10T16:21:01.584Z"
   },
   {
    "duration": 12,
    "start_time": "2024-03-10T16:21:07.294Z"
   },
   {
    "duration": 18,
    "start_time": "2024-03-10T16:21:13.149Z"
   },
   {
    "duration": 10,
    "start_time": "2024-03-10T16:21:21.542Z"
   },
   {
    "duration": 538,
    "start_time": "2024-03-10T16:21:22.053Z"
   },
   {
    "duration": 58,
    "start_time": "2024-03-10T16:21:25.252Z"
   },
   {
    "duration": 41138,
    "start_time": "2024-03-10T16:21:26.150Z"
   },
   {
    "duration": 8490,
    "start_time": "2024-03-10T16:22:10.700Z"
   },
   {
    "duration": 136060,
    "start_time": "2024-03-10T16:22:19.500Z"
   },
   {
    "duration": 100,
    "start_time": "2024-03-10T16:25:43.678Z"
   },
   {
    "duration": 57,
    "start_time": "2024-03-10T16:25:49.978Z"
   },
   {
    "duration": 10,
    "start_time": "2024-03-10T16:25:55.245Z"
   },
   {
    "duration": 10,
    "start_time": "2024-03-10T16:25:57.854Z"
   },
   {
    "duration": 67,
    "start_time": "2024-03-10T16:26:00.838Z"
   },
   {
    "duration": 3,
    "start_time": "2024-03-10T16:26:06.775Z"
   },
   {
    "duration": 4,
    "start_time": "2024-03-10T16:26:09.030Z"
   },
   {
    "duration": 13,
    "start_time": "2024-03-10T16:28:22.851Z"
   },
   {
    "duration": 6,
    "start_time": "2024-03-10T16:28:24.060Z"
   },
   {
    "duration": 60,
    "start_time": "2024-03-10T16:28:24.964Z"
   },
   {
    "duration": 20887,
    "start_time": "2024-03-10T16:28:25.630Z"
   },
   {
    "duration": 9,
    "start_time": "2024-03-10T16:28:46.519Z"
   },
   {
    "duration": 578,
    "start_time": "2024-03-10T16:28:46.530Z"
   },
   {
    "duration": 65,
    "start_time": "2024-03-10T16:28:47.110Z"
   },
   {
    "duration": 21424,
    "start_time": "2024-03-10T16:28:47.177Z"
   },
   {
    "duration": 0,
    "start_time": "2024-03-10T16:29:08.603Z"
   },
   {
    "duration": 38110,
    "start_time": "2024-03-10T16:29:08.729Z"
   },
   {
    "duration": 4,
    "start_time": "2024-03-10T16:30:17.839Z"
   },
   {
    "duration": 4,
    "start_time": "2024-03-10T16:30:23.895Z"
   },
   {
    "duration": 5,
    "start_time": "2024-03-10T16:30:28.333Z"
   },
   {
    "duration": 4,
    "start_time": "2024-03-10T16:30:52.567Z"
   },
   {
    "duration": 4,
    "start_time": "2024-03-10T16:30:58.663Z"
   },
   {
    "duration": 12,
    "start_time": "2024-03-10T16:31:28.014Z"
   },
   {
    "duration": 6,
    "start_time": "2024-03-10T16:31:28.726Z"
   },
   {
    "duration": 57,
    "start_time": "2024-03-10T16:31:28.984Z"
   },
   {
    "duration": 21148,
    "start_time": "2024-03-10T16:31:29.253Z"
   },
   {
    "duration": 11,
    "start_time": "2024-03-10T16:31:50.402Z"
   },
   {
    "duration": 788,
    "start_time": "2024-03-10T16:31:50.414Z"
   },
   {
    "duration": 57,
    "start_time": "2024-03-10T16:31:53.367Z"
   },
   {
    "duration": 33569,
    "start_time": "2024-03-10T16:31:53.519Z"
   },
   {
    "duration": 20,
    "start_time": "2024-03-10T16:32:28.111Z"
   },
   {
    "duration": 6,
    "start_time": "2024-03-10T16:32:28.775Z"
   },
   {
    "duration": 56,
    "start_time": "2024-03-10T16:32:29.071Z"
   },
   {
    "duration": 21999,
    "start_time": "2024-03-10T16:32:29.399Z"
   },
   {
    "duration": 10,
    "start_time": "2024-03-10T16:32:51.400Z"
   },
   {
    "duration": 577,
    "start_time": "2024-03-10T16:32:51.412Z"
   },
   {
    "duration": 57,
    "start_time": "2024-03-10T16:32:51.990Z"
   },
   {
    "duration": 44,
    "start_time": "2024-03-10T16:32:52.048Z"
   },
   {
    "duration": 31,
    "start_time": "2024-03-10T16:32:56.998Z"
   },
   {
    "duration": 14,
    "start_time": "2024-03-10T16:33:24.128Z"
   },
   {
    "duration": 8,
    "start_time": "2024-03-10T16:33:25.215Z"
   },
   {
    "duration": 31,
    "start_time": "2024-03-10T16:33:28.488Z"
   },
   {
    "duration": 6,
    "start_time": "2024-03-10T16:33:56.951Z"
   },
   {
    "duration": 13,
    "start_time": "2024-03-10T16:33:57.206Z"
   },
   {
    "duration": 6,
    "start_time": "2024-03-10T16:33:57.727Z"
   },
   {
    "duration": 57,
    "start_time": "2024-03-10T16:33:58.014Z"
   },
   {
    "duration": 21028,
    "start_time": "2024-03-10T16:33:58.302Z"
   },
   {
    "duration": 38,
    "start_time": "2024-03-10T16:34:19.331Z"
   },
   {
    "duration": 527,
    "start_time": "2024-03-10T16:34:19.371Z"
   },
   {
    "duration": 70,
    "start_time": "2024-03-10T16:34:19.899Z"
   },
   {
    "duration": 29906,
    "start_time": "2024-03-10T16:34:19.971Z"
   },
   {
    "duration": 56,
    "start_time": "2024-03-10T16:35:40.382Z"
   },
   {
    "duration": 4,
    "start_time": "2024-03-10T16:35:46.633Z"
   },
   {
    "duration": 10,
    "start_time": "2024-03-10T16:35:49.251Z"
   },
   {
    "duration": 4,
    "start_time": "2024-03-10T16:35:51.015Z"
   },
   {
    "duration": 57,
    "start_time": "2024-03-10T16:36:00.169Z"
   },
   {
    "duration": 15,
    "start_time": "2024-03-10T16:36:18.746Z"
   },
   {
    "duration": 6,
    "start_time": "2024-03-10T16:36:19.321Z"
   },
   {
    "duration": 57,
    "start_time": "2024-03-10T16:36:19.728Z"
   },
   {
    "duration": 20915,
    "start_time": "2024-03-10T16:36:19.999Z"
   },
   {
    "duration": 10,
    "start_time": "2024-03-10T16:36:40.916Z"
   },
   {
    "duration": 571,
    "start_time": "2024-03-10T16:36:40.928Z"
   },
   {
    "duration": 65,
    "start_time": "2024-03-10T16:36:41.501Z"
   },
   {
    "duration": 30372,
    "start_time": "2024-03-10T16:36:41.568Z"
   },
   {
    "duration": 79,
    "start_time": "2024-03-10T16:37:15.882Z"
   },
   {
    "duration": 13,
    "start_time": "2024-03-10T16:37:22.802Z"
   },
   {
    "duration": 4,
    "start_time": "2024-03-10T16:37:25.874Z"
   },
   {
    "duration": 5,
    "start_time": "2024-03-10T16:37:28.048Z"
   },
   {
    "duration": 4,
    "start_time": "2024-03-10T16:37:36.025Z"
   },
   {
    "duration": 4,
    "start_time": "2024-03-10T16:37:41.144Z"
   },
   {
    "duration": 19,
    "start_time": "2024-03-10T16:39:38.770Z"
   },
   {
    "duration": 7,
    "start_time": "2024-03-10T16:39:40.809Z"
   },
   {
    "duration": 57,
    "start_time": "2024-03-10T16:39:41.121Z"
   },
   {
    "duration": 3647,
    "start_time": "2024-03-10T16:39:41.433Z"
   },
   {
    "duration": 0,
    "start_time": "2024-03-10T16:39:45.082Z"
   },
   {
    "duration": 0,
    "start_time": "2024-03-10T16:39:45.083Z"
   },
   {
    "duration": 0,
    "start_time": "2024-03-10T16:39:45.084Z"
   },
   {
    "duration": 0,
    "start_time": "2024-03-10T16:39:45.085Z"
   },
   {
    "duration": 0,
    "start_time": "2024-03-10T16:39:45.086Z"
   },
   {
    "duration": 2054,
    "start_time": "2024-03-10T16:39:59.282Z"
   },
   {
    "duration": 6,
    "start_time": "2024-03-10T16:40:01.337Z"
   },
   {
    "duration": 216,
    "start_time": "2024-03-10T16:40:01.345Z"
   },
   {
    "duration": 20,
    "start_time": "2024-03-10T16:40:01.563Z"
   },
   {
    "duration": 47,
    "start_time": "2024-03-10T16:40:01.584Z"
   },
   {
    "duration": 46,
    "start_time": "2024-03-10T16:40:01.632Z"
   },
   {
    "duration": 53,
    "start_time": "2024-03-10T16:40:01.680Z"
   },
   {
    "duration": 815,
    "start_time": "2024-03-10T16:40:01.734Z"
   },
   {
    "duration": 1150,
    "start_time": "2024-03-10T16:40:02.550Z"
   },
   {
    "duration": 3,
    "start_time": "2024-03-10T16:40:03.703Z"
   },
   {
    "duration": 4,
    "start_time": "2024-03-10T16:40:03.708Z"
   },
   {
    "duration": 8,
    "start_time": "2024-03-10T16:40:03.713Z"
   },
   {
    "duration": 13,
    "start_time": "2024-03-10T16:40:03.722Z"
   },
   {
    "duration": 39,
    "start_time": "2024-03-10T16:40:03.736Z"
   },
   {
    "duration": 1835,
    "start_time": "2024-03-10T16:40:03.777Z"
   },
   {
    "duration": 445,
    "start_time": "2024-03-10T16:40:05.613Z"
   },
   {
    "duration": 9,
    "start_time": "2024-03-10T16:40:06.060Z"
   },
   {
    "duration": 35,
    "start_time": "2024-03-10T16:40:06.070Z"
   },
   {
    "duration": 14,
    "start_time": "2024-03-10T16:40:06.106Z"
   },
   {
    "duration": 59,
    "start_time": "2024-03-10T16:40:06.121Z"
   },
   {
    "duration": 20016,
    "start_time": "2024-03-10T16:40:06.181Z"
   },
   {
    "duration": 11,
    "start_time": "2024-03-10T16:40:26.199Z"
   },
   {
    "duration": 574,
    "start_time": "2024-03-10T16:40:26.212Z"
   },
   {
    "duration": 57,
    "start_time": "2024-03-10T16:40:26.788Z"
   },
   {
    "duration": 1116047,
    "start_time": "2024-03-10T16:40:26.865Z"
   },
   {
    "duration": 4,
    "start_time": "2024-03-10T16:59:02.913Z"
   },
   {
    "duration": 3,
    "start_time": "2024-03-10T17:09:39.979Z"
   },
   {
    "duration": 4,
    "start_time": "2024-03-10T17:09:43.562Z"
   },
   {
    "duration": 4,
    "start_time": "2024-03-10T17:09:53.274Z"
   },
   {
    "duration": 59,
    "start_time": "2024-03-10T17:10:38.843Z"
   },
   {
    "duration": 158,
    "start_time": "2024-03-10T17:10:45.179Z"
   },
   {
    "duration": 68,
    "start_time": "2024-03-10T17:10:48.436Z"
   },
   {
    "duration": 4,
    "start_time": "2024-03-10T17:10:50.258Z"
   },
   {
    "duration": 10,
    "start_time": "2024-03-10T17:11:19.659Z"
   },
   {
    "duration": 136,
    "start_time": "2024-03-10T17:11:53.540Z"
   },
   {
    "duration": 13,
    "start_time": "2024-03-10T17:12:02.141Z"
   },
   {
    "duration": 9,
    "start_time": "2024-03-10T17:12:07.861Z"
   },
   {
    "duration": 11,
    "start_time": "2024-03-10T17:12:23.182Z"
   },
   {
    "duration": 14,
    "start_time": "2024-03-10T17:12:45.998Z"
   },
   {
    "duration": 15,
    "start_time": "2024-03-10T17:12:53.356Z"
   },
   {
    "duration": 14,
    "start_time": "2024-03-10T17:13:31.236Z"
   },
   {
    "duration": 13,
    "start_time": "2024-03-10T17:13:34.442Z"
   },
   {
    "duration": 8,
    "start_time": "2024-03-10T17:13:35.253Z"
   },
   {
    "duration": 11,
    "start_time": "2024-03-10T17:13:36.172Z"
   },
   {
    "duration": 6,
    "start_time": "2024-03-10T17:13:51.325Z"
   },
   {
    "duration": 12,
    "start_time": "2024-03-10T17:13:52.811Z"
   },
   {
    "duration": 12,
    "start_time": "2024-03-10T17:14:05.723Z"
   },
   {
    "duration": 15,
    "start_time": "2024-03-10T17:14:10.644Z"
   },
   {
    "duration": 12,
    "start_time": "2024-03-10T17:14:22.972Z"
   },
   {
    "duration": 6,
    "start_time": "2024-03-10T17:14:23.868Z"
   },
   {
    "duration": 66,
    "start_time": "2024-03-10T17:14:24.723Z"
   },
   {
    "duration": 11444,
    "start_time": "2024-03-10T17:14:25.541Z"
   },
   {
    "duration": 0,
    "start_time": "2024-03-10T17:14:36.987Z"
   },
   {
    "duration": 0,
    "start_time": "2024-03-10T17:14:36.989Z"
   },
   {
    "duration": 0,
    "start_time": "2024-03-10T17:14:36.991Z"
   },
   {
    "duration": 0,
    "start_time": "2024-03-10T17:14:36.993Z"
   },
   {
    "duration": 14,
    "start_time": "2024-03-10T17:14:42.220Z"
   },
   {
    "duration": 7,
    "start_time": "2024-03-10T17:14:42.602Z"
   },
   {
    "duration": 72,
    "start_time": "2024-03-10T17:14:42.882Z"
   },
   {
    "duration": 21647,
    "start_time": "2024-03-10T17:14:43.178Z"
   },
   {
    "duration": 10,
    "start_time": "2024-03-10T17:15:04.827Z"
   },
   {
    "duration": 674,
    "start_time": "2024-03-10T17:15:04.866Z"
   },
   {
    "duration": 68,
    "start_time": "2024-03-10T17:15:05.543Z"
   },
   {
    "duration": 12605,
    "start_time": "2024-03-10T17:15:05.613Z"
   },
   {
    "duration": 11,
    "start_time": "2024-03-10T17:15:18.220Z"
   },
   {
    "duration": 463,
    "start_time": "2024-03-11T07:08:59.897Z"
   },
   {
    "duration": 51760,
    "start_time": "2024-03-11T07:09:21.754Z"
   },
   {
    "duration": 2305,
    "start_time": "2024-03-11T07:10:25.197Z"
   },
   {
    "duration": 7,
    "start_time": "2024-03-11T07:10:27.504Z"
   },
   {
    "duration": 101,
    "start_time": "2024-03-11T07:10:28.827Z"
   },
   {
    "duration": 18,
    "start_time": "2024-03-11T07:10:29.407Z"
   },
   {
    "duration": 15,
    "start_time": "2024-03-11T07:10:29.804Z"
   },
   {
    "duration": 6,
    "start_time": "2024-03-11T07:10:30.294Z"
   },
   {
    "duration": 23,
    "start_time": "2024-03-11T07:10:30.811Z"
   },
   {
    "duration": 1071,
    "start_time": "2024-03-11T07:10:31.538Z"
   },
   {
    "duration": 1258,
    "start_time": "2024-03-11T07:10:33.627Z"
   },
   {
    "duration": 5,
    "start_time": "2024-03-11T07:10:34.887Z"
   },
   {
    "duration": 6,
    "start_time": "2024-03-11T07:10:34.893Z"
   },
   {
    "duration": 7,
    "start_time": "2024-03-11T07:10:34.922Z"
   },
   {
    "duration": 4,
    "start_time": "2024-03-11T07:10:35.079Z"
   },
   {
    "duration": 30,
    "start_time": "2024-03-11T07:10:36.221Z"
   },
   {
    "duration": 2101,
    "start_time": "2024-03-11T07:10:36.562Z"
   },
   {
    "duration": 452,
    "start_time": "2024-03-11T07:10:38.672Z"
   },
   {
    "duration": 7,
    "start_time": "2024-03-11T07:10:39.126Z"
   },
   {
    "duration": 25,
    "start_time": "2024-03-11T07:10:39.135Z"
   },
   {
    "duration": 7,
    "start_time": "2024-03-11T07:10:39.869Z"
   },
   {
    "duration": 65,
    "start_time": "2024-03-11T07:10:41.067Z"
   },
   {
    "duration": 23769,
    "start_time": "2024-03-11T07:10:41.809Z"
   },
   {
    "duration": 11,
    "start_time": "2024-03-11T07:11:09.937Z"
   },
   {
    "duration": 573,
    "start_time": "2024-03-11T07:11:10.218Z"
   },
   {
    "duration": 72,
    "start_time": "2024-03-11T07:11:16.964Z"
   },
   {
    "duration": 12941,
    "start_time": "2024-03-11T07:11:18.570Z"
   },
   {
    "duration": 10,
    "start_time": "2024-03-11T07:11:31.513Z"
   },
   {
    "duration": 33357,
    "start_time": "2024-03-11T07:11:41.106Z"
   },
   {
    "duration": 10,
    "start_time": "2024-03-11T07:12:14.473Z"
   },
   {
    "duration": 637,
    "start_time": "2024-03-11T07:12:55.177Z"
   },
   {
    "duration": 10,
    "start_time": "2024-03-11T07:13:19.994Z"
   },
   {
    "duration": 4,
    "start_time": "2024-03-11T07:13:33.626Z"
   },
   {
    "duration": 4,
    "start_time": "2024-03-11T07:13:57.096Z"
   },
   {
    "duration": 3,
    "start_time": "2024-03-11T07:14:00.362Z"
   },
   {
    "duration": 8,
    "start_time": "2024-03-11T07:14:02.961Z"
   },
   {
    "duration": 35019,
    "start_time": "2024-03-11T07:14:50.729Z"
   },
   {
    "duration": 65,
    "start_time": "2024-03-11T07:15:45.715Z"
   },
   {
    "duration": 23867,
    "start_time": "2024-03-11T07:15:46.537Z"
   },
   {
    "duration": 0,
    "start_time": "2024-03-11T07:16:10.406Z"
   },
   {
    "duration": 66,
    "start_time": "2024-03-11T07:16:12.488Z"
   },
   {
    "duration": 20457,
    "start_time": "2024-03-11T07:16:12.642Z"
   },
   {
    "duration": 0,
    "start_time": "2024-03-11T07:16:33.101Z"
   },
   {
    "duration": 3,
    "start_time": "2024-03-11T07:16:35.673Z"
   },
   {
    "duration": 10,
    "start_time": "2024-03-11T07:16:41.354Z"
   },
   {
    "duration": 13,
    "start_time": "2024-03-11T07:16:48.910Z"
   },
   {
    "duration": 6,
    "start_time": "2024-03-11T07:16:49.938Z"
   },
   {
    "duration": 13,
    "start_time": "2024-03-11T07:16:55.688Z"
   },
   {
    "duration": 61,
    "start_time": "2024-03-11T07:16:58.997Z"
   },
   {
    "duration": 23847,
    "start_time": "2024-03-11T07:17:02.434Z"
   },
   {
    "duration": 10,
    "start_time": "2024-03-11T07:17:29.747Z"
   },
   {
    "duration": 597,
    "start_time": "2024-03-11T07:17:35.730Z"
   },
   {
    "duration": 68,
    "start_time": "2024-03-11T07:17:48.881Z"
   },
   {
    "duration": 35331,
    "start_time": "2024-03-11T07:17:57.122Z"
   },
   {
    "duration": 11,
    "start_time": "2024-03-11T07:18:45.826Z"
   },
   {
    "duration": 61,
    "start_time": "2024-03-11T07:19:38.642Z"
   },
   {
    "duration": 35259,
    "start_time": "2024-03-11T07:19:40.810Z"
   },
   {
    "duration": 5,
    "start_time": "2024-03-11T07:27:51.540Z"
   },
   {
    "duration": 8,
    "start_time": "2024-03-11T07:27:57.035Z"
   },
   {
    "duration": 5,
    "start_time": "2024-03-11T07:28:02.636Z"
   },
   {
    "duration": 6,
    "start_time": "2024-03-11T07:30:26.916Z"
   },
   {
    "duration": 7,
    "start_time": "2024-03-11T07:30:30.251Z"
   },
   {
    "duration": 11,
    "start_time": "2024-03-11T07:31:59.117Z"
   },
   {
    "duration": 113,
    "start_time": "2024-03-11T07:36:31.500Z"
   },
   {
    "duration": 6,
    "start_time": "2024-03-11T07:37:12.587Z"
   },
   {
    "duration": 6,
    "start_time": "2024-03-11T07:37:31.669Z"
   },
   {
    "duration": 25156,
    "start_time": "2024-03-11T07:37:37.637Z"
   },
   {
    "duration": 13,
    "start_time": "2024-03-11T07:38:05.749Z"
   },
   {
    "duration": 3,
    "start_time": "2024-03-11T07:38:15.372Z"
   },
   {
    "duration": 4,
    "start_time": "2024-03-11T07:39:13.212Z"
   },
   {
    "duration": 13,
    "start_time": "2024-03-11T07:39:18.237Z"
   },
   {
    "duration": 12943,
    "start_time": "2024-03-11T07:39:23.747Z"
   },
   {
    "duration": 140041,
    "start_time": "2024-03-11T07:39:37.443Z"
   },
   {
    "duration": 5,
    "start_time": "2024-03-11T07:47:03.798Z"
   },
   {
    "duration": 11,
    "start_time": "2024-03-11T07:47:18.788Z"
   },
   {
    "duration": 10,
    "start_time": "2024-03-11T07:47:21.836Z"
   },
   {
    "duration": 5,
    "start_time": "2024-03-11T07:47:55.126Z"
   },
   {
    "duration": 1816289,
    "start_time": "2024-03-11T07:48:37.085Z"
   },
   {
    "duration": 5,
    "start_time": "2024-03-11T08:20:49.426Z"
   },
   {
    "duration": 10242,
    "start_time": "2024-03-11T08:21:41.962Z"
   },
   {
    "duration": 39097,
    "start_time": "2024-03-11T08:22:25.165Z"
   },
   {
    "duration": 12,
    "start_time": "2024-03-11T08:23:04.265Z"
   },
   {
    "duration": 563,
    "start_time": "2024-03-11T08:23:04.278Z"
   },
   {
    "duration": 589,
    "start_time": "2024-03-11T08:23:13.450Z"
   },
   {
    "duration": 4,
    "start_time": "2024-03-11T08:23:23.550Z"
   },
   {
    "duration": 2157,
    "start_time": "2024-03-11T08:23:28.816Z"
   },
   {
    "duration": 9,
    "start_time": "2024-03-11T08:23:30.975Z"
   },
   {
    "duration": 146,
    "start_time": "2024-03-11T08:23:30.985Z"
   },
   {
    "duration": 18,
    "start_time": "2024-03-11T08:23:31.132Z"
   },
   {
    "duration": 41,
    "start_time": "2024-03-11T08:23:31.151Z"
   },
   {
    "duration": 6,
    "start_time": "2024-03-11T08:23:31.770Z"
   },
   {
    "duration": 21,
    "start_time": "2024-03-11T08:23:32.178Z"
   },
   {
    "duration": 916,
    "start_time": "2024-03-11T08:23:32.538Z"
   },
   {
    "duration": 1270,
    "start_time": "2024-03-11T08:23:33.456Z"
   },
   {
    "duration": 4,
    "start_time": "2024-03-11T08:23:34.729Z"
   },
   {
    "duration": 36,
    "start_time": "2024-03-11T08:23:34.735Z"
   },
   {
    "duration": 7,
    "start_time": "2024-03-11T08:23:34.882Z"
   },
   {
    "duration": 5,
    "start_time": "2024-03-11T08:23:35.170Z"
   },
   {
    "duration": 32,
    "start_time": "2024-03-11T08:23:36.442Z"
   },
   {
    "duration": 1947,
    "start_time": "2024-03-11T08:23:37.073Z"
   },
   {
    "duration": 455,
    "start_time": "2024-03-11T08:23:39.022Z"
   },
   {
    "duration": 6,
    "start_time": "2024-03-11T08:23:39.478Z"
   },
   {
    "duration": 149,
    "start_time": "2024-03-11T08:23:39.660Z"
   },
   {
    "duration": 4,
    "start_time": "2024-03-11T08:24:15.579Z"
   },
   {
    "duration": 2216,
    "start_time": "2024-03-11T08:24:19.306Z"
   },
   {
    "duration": 8,
    "start_time": "2024-03-11T08:24:21.524Z"
   },
   {
    "duration": 65,
    "start_time": "2024-03-11T08:24:21.534Z"
   },
   {
    "duration": 17,
    "start_time": "2024-03-11T08:24:21.601Z"
   },
   {
    "duration": 17,
    "start_time": "2024-03-11T08:24:21.620Z"
   },
   {
    "duration": 6,
    "start_time": "2024-03-11T08:24:22.181Z"
   },
   {
    "duration": 22,
    "start_time": "2024-03-11T08:24:22.859Z"
   },
   {
    "duration": 927,
    "start_time": "2024-03-11T08:24:23.803Z"
   },
   {
    "duration": 1232,
    "start_time": "2024-03-11T08:24:24.732Z"
   },
   {
    "duration": 4,
    "start_time": "2024-03-11T08:24:25.972Z"
   },
   {
    "duration": 4,
    "start_time": "2024-03-11T08:24:26.274Z"
   },
   {
    "duration": 6,
    "start_time": "2024-03-11T08:24:26.931Z"
   },
   {
    "duration": 6,
    "start_time": "2024-03-11T08:24:27.074Z"
   },
   {
    "duration": 34,
    "start_time": "2024-03-11T08:24:28.356Z"
   },
   {
    "duration": 2021,
    "start_time": "2024-03-11T08:24:29.266Z"
   },
   {
    "duration": 461,
    "start_time": "2024-03-11T08:24:31.289Z"
   },
   {
    "duration": 6,
    "start_time": "2024-03-11T08:24:32.898Z"
   },
   {
    "duration": 13,
    "start_time": "2024-03-11T08:24:33.703Z"
   },
   {
    "duration": 7,
    "start_time": "2024-03-11T08:24:36.346Z"
   },
   {
    "duration": 65,
    "start_time": "2024-03-11T08:24:38.251Z"
   },
   {
    "duration": 16156,
    "start_time": "2024-03-11T08:24:40.361Z"
   },
   {
    "duration": 596,
    "start_time": "2024-03-11T08:25:00.724Z"
   },
   {
    "duration": 602,
    "start_time": "2024-03-11T08:25:03.811Z"
   },
   {
    "duration": 34503,
    "start_time": "2024-03-11T08:26:35.612Z"
   },
   {
    "duration": 10453,
    "start_time": "2024-03-11T08:27:12.099Z"
   },
   {
    "duration": 17230,
    "start_time": "2024-03-11T08:27:25.365Z"
   },
   {
    "duration": 4,
    "start_time": "2024-03-11T08:27:44.916Z"
   },
   {
    "duration": 91014,
    "start_time": "2024-03-11T08:27:50.970Z"
   },
   {
    "duration": 4,
    "start_time": "2024-03-11T08:29:21.986Z"
   },
   {
    "duration": 4,
    "start_time": "2024-03-11T08:29:24.627Z"
   },
   {
    "duration": 4,
    "start_time": "2024-03-11T08:29:30.404Z"
   },
   {
    "duration": 4,
    "start_time": "2024-03-11T08:29:40.939Z"
   },
   {
    "duration": 4,
    "start_time": "2024-03-11T08:30:05.404Z"
   },
   {
    "duration": 4,
    "start_time": "2024-03-11T08:30:30.892Z"
   },
   {
    "duration": 15,
    "start_time": "2024-03-11T08:32:46.611Z"
   },
   {
    "duration": 188715,
    "start_time": "2024-03-11T08:33:46.980Z"
   },
   {
    "duration": 3,
    "start_time": "2024-03-11T08:36:58.468Z"
   },
   {
    "duration": 580,
    "start_time": "2024-03-11T08:37:02.315Z"
   },
   {
    "duration": 9,
    "start_time": "2024-03-11T08:38:17.419Z"
   },
   {
    "duration": 5,
    "start_time": "2024-03-11T08:38:48.996Z"
   },
   {
    "duration": 4,
    "start_time": "2024-03-11T08:38:52.347Z"
   },
   {
    "duration": 2,
    "start_time": "2024-03-11T08:39:11.188Z"
   },
   {
    "duration": 591,
    "start_time": "2024-03-11T08:39:14.324Z"
   },
   {
    "duration": 4,
    "start_time": "2024-03-11T08:57:47.829Z"
   },
   {
    "duration": 9,
    "start_time": "2024-03-11T08:57:48.376Z"
   },
   {
    "duration": 50,
    "start_time": "2024-03-11T08:57:49.108Z"
   },
   {
    "duration": 12,
    "start_time": "2024-03-11T08:57:49.439Z"
   },
   {
    "duration": 15,
    "start_time": "2024-03-11T08:57:49.739Z"
   },
   {
    "duration": 7,
    "start_time": "2024-03-11T08:57:50.164Z"
   },
   {
    "duration": 30,
    "start_time": "2024-03-11T08:57:50.459Z"
   },
   {
    "duration": 841,
    "start_time": "2024-03-11T08:57:50.740Z"
   },
   {
    "duration": 1282,
    "start_time": "2024-03-11T08:57:51.583Z"
   },
   {
    "duration": 4,
    "start_time": "2024-03-11T08:57:52.872Z"
   },
   {
    "duration": 13,
    "start_time": "2024-03-11T08:57:52.877Z"
   },
   {
    "duration": 7,
    "start_time": "2024-03-11T08:57:53.220Z"
   },
   {
    "duration": 4,
    "start_time": "2024-03-11T08:57:53.451Z"
   },
   {
    "duration": 31,
    "start_time": "2024-03-11T08:57:54.988Z"
   },
   {
    "duration": 2085,
    "start_time": "2024-03-11T08:57:55.692Z"
   },
   {
    "duration": 496,
    "start_time": "2024-03-11T08:57:57.779Z"
   },
   {
    "duration": 6,
    "start_time": "2024-03-11T08:57:59.652Z"
   },
   {
    "duration": 14,
    "start_time": "2024-03-11T08:58:00.821Z"
   },
   {
    "duration": 2126,
    "start_time": "2024-03-11T09:10:20.710Z"
   },
   {
    "duration": 101,
    "start_time": "2024-03-11T09:11:46.852Z"
   },
   {
    "duration": 144,
    "start_time": "2024-03-11T09:11:50.058Z"
   },
   {
    "duration": 4,
    "start_time": "2024-03-11T09:11:55.659Z"
   },
   {
    "duration": 106,
    "start_time": "2024-03-11T09:11:56.163Z"
   },
   {
    "duration": 9,
    "start_time": "2024-03-11T09:12:00.771Z"
   },
   {
    "duration": 10,
    "start_time": "2024-03-11T09:12:04.882Z"
   },
   {
    "duration": 9,
    "start_time": "2024-03-11T09:12:09.833Z"
   },
   {
    "duration": 50,
    "start_time": "2024-03-11T09:12:10.345Z"
   },
   {
    "duration": 19,
    "start_time": "2024-03-11T09:12:10.619Z"
   },
   {
    "duration": 16,
    "start_time": "2024-03-11T09:12:10.881Z"
   },
   {
    "duration": 7,
    "start_time": "2024-03-11T09:12:11.152Z"
   },
   {
    "duration": 27,
    "start_time": "2024-03-11T09:12:11.426Z"
   },
   {
    "duration": 887,
    "start_time": "2024-03-11T09:12:11.706Z"
   },
   {
    "duration": 1243,
    "start_time": "2024-03-11T09:12:12.595Z"
   },
   {
    "duration": 3,
    "start_time": "2024-03-11T09:12:13.840Z"
   },
   {
    "duration": 21,
    "start_time": "2024-03-11T09:12:13.845Z"
   },
   {
    "duration": 37,
    "start_time": "2024-03-11T09:12:13.868Z"
   },
   {
    "duration": 21,
    "start_time": "2024-03-11T09:12:13.906Z"
   },
   {
    "duration": 30,
    "start_time": "2024-03-11T09:12:14.714Z"
   },
   {
    "duration": 1983,
    "start_time": "2024-03-11T09:12:15.010Z"
   },
   {
    "duration": 486,
    "start_time": "2024-03-11T09:12:16.995Z"
   },
   {
    "duration": 6,
    "start_time": "2024-03-11T09:12:17.483Z"
   },
   {
    "duration": 13,
    "start_time": "2024-03-11T09:12:17.490Z"
   },
   {
    "duration": 6,
    "start_time": "2024-03-11T09:12:17.745Z"
   },
   {
    "duration": 67,
    "start_time": "2024-03-11T09:12:18.362Z"
   },
   {
    "duration": 17116,
    "start_time": "2024-03-11T09:12:19.276Z"
   },
   {
    "duration": 607,
    "start_time": "2024-03-11T09:12:36.393Z"
   },
   {
    "duration": 51,
    "start_time": "2024-03-11T09:13:38.546Z"
   },
   {
    "duration": 12,
    "start_time": "2024-03-11T09:13:43.201Z"
   },
   {
    "duration": 14,
    "start_time": "2024-03-11T09:13:48.474Z"
   },
   {
    "duration": 6,
    "start_time": "2024-03-11T09:13:51.579Z"
   },
   {
    "duration": 22,
    "start_time": "2024-03-11T09:13:55.426Z"
   },
   {
    "duration": 855,
    "start_time": "2024-03-11T09:14:46.762Z"
   },
   {
    "duration": 1376,
    "start_time": "2024-03-11T09:15:09.462Z"
   },
   {
    "duration": 4,
    "start_time": "2024-03-11T09:15:53.001Z"
   },
   {
    "duration": 4,
    "start_time": "2024-03-11T09:15:56.161Z"
   },
   {
    "duration": 6,
    "start_time": "2024-03-11T09:15:58.737Z"
   },
   {
    "duration": 5,
    "start_time": "2024-03-11T09:16:00.106Z"
   },
   {
    "duration": 30,
    "start_time": "2024-03-11T09:24:20.266Z"
   },
   {
    "duration": 1935,
    "start_time": "2024-03-11T09:24:51.339Z"
   },
   {
    "duration": 1932,
    "start_time": "2024-03-11T09:25:33.290Z"
   },
   {
    "duration": 2061,
    "start_time": "2024-03-11T09:26:03.978Z"
   },
   {
    "duration": 2028,
    "start_time": "2024-03-11T09:26:37.546Z"
   },
   {
    "duration": 1867,
    "start_time": "2024-03-11T09:26:58.835Z"
   },
   {
    "duration": 2038,
    "start_time": "2024-03-11T09:27:06.465Z"
   },
   {
    "duration": 1842,
    "start_time": "2024-03-11T09:27:14.851Z"
   },
   {
    "duration": 2027,
    "start_time": "2024-03-11T09:27:46.219Z"
   },
   {
    "duration": 1832,
    "start_time": "2024-03-11T09:29:05.973Z"
   },
   {
    "duration": 471,
    "start_time": "2024-03-11T09:33:22.806Z"
   },
   {
    "duration": 38,
    "start_time": "2024-03-11T09:33:52.142Z"
   },
   {
    "duration": 629,
    "start_time": "2024-03-11T09:33:59.072Z"
   },
   {
    "duration": 6,
    "start_time": "2024-03-11T09:45:35.347Z"
   },
   {
    "duration": 13,
    "start_time": "2024-03-11T09:45:36.845Z"
   },
   {
    "duration": 7,
    "start_time": "2024-03-11T09:46:08.051Z"
   },
   {
    "duration": 68,
    "start_time": "2024-03-11T09:46:22.878Z"
   },
   {
    "duration": 17379,
    "start_time": "2024-03-11T09:46:28.541Z"
   },
   {
    "duration": 68,
    "start_time": "2024-03-11T09:46:49.402Z"
   },
   {
    "duration": 9355,
    "start_time": "2024-03-11T09:46:53.035Z"
   },
   {
    "duration": 73,
    "start_time": "2024-03-11T09:47:02.645Z"
   },
   {
    "duration": 11658,
    "start_time": "2024-03-11T09:47:04.370Z"
   },
   {
    "duration": 66,
    "start_time": "2024-03-11T09:47:17.354Z"
   },
   {
    "duration": 17887,
    "start_time": "2024-03-11T09:47:20.411Z"
   },
   {
    "duration": 583,
    "start_time": "2024-03-11T09:47:41.339Z"
   },
   {
    "duration": 67,
    "start_time": "2024-03-11T09:47:56.756Z"
   },
   {
    "duration": 16835,
    "start_time": "2024-03-11T09:47:57.179Z"
   },
   {
    "duration": 615,
    "start_time": "2024-03-11T09:48:17.020Z"
   },
   {
    "duration": 68,
    "start_time": "2024-03-11T09:48:20.492Z"
   },
   {
    "duration": 63158,
    "start_time": "2024-03-11T09:48:20.842Z"
   },
   {
    "duration": 602,
    "start_time": "2024-03-11T09:49:24.002Z"
   },
   {
    "duration": 7,
    "start_time": "2024-03-11T09:49:36.732Z"
   },
   {
    "duration": 71,
    "start_time": "2024-03-11T09:49:37.138Z"
   },
   {
    "duration": 11630,
    "start_time": "2024-03-11T09:49:37.748Z"
   },
   {
    "duration": 554,
    "start_time": "2024-03-11T09:49:49.379Z"
   },
   {
    "duration": 7,
    "start_time": "2024-03-11T09:49:57.572Z"
   },
   {
    "duration": 69,
    "start_time": "2024-03-11T09:49:58.300Z"
   },
   {
    "duration": 11053,
    "start_time": "2024-03-11T09:49:59.147Z"
   },
   {
    "duration": 726,
    "start_time": "2024-03-11T09:50:12.067Z"
   },
   {
    "duration": 8,
    "start_time": "2024-03-11T09:50:20.138Z"
   },
   {
    "duration": 77,
    "start_time": "2024-03-11T09:50:20.763Z"
   },
   {
    "duration": 65246,
    "start_time": "2024-03-11T09:50:21.461Z"
   },
   {
    "duration": 628,
    "start_time": "2024-03-11T09:51:26.709Z"
   },
   {
    "duration": 8,
    "start_time": "2024-03-11T09:52:10.811Z"
   },
   {
    "duration": 73,
    "start_time": "2024-03-11T09:52:16.516Z"
   },
   {
    "duration": 17478,
    "start_time": "2024-03-11T09:52:18.363Z"
   },
   {
    "duration": 609,
    "start_time": "2024-03-11T09:52:35.843Z"
   },
   {
    "duration": 6,
    "start_time": "2024-03-11T09:52:45.381Z"
   },
   {
    "duration": 69,
    "start_time": "2024-03-11T09:52:45.644Z"
   },
   {
    "duration": 20539,
    "start_time": "2024-03-11T09:52:45.891Z"
   },
   {
    "duration": 592,
    "start_time": "2024-03-11T09:53:06.432Z"
   },
   {
    "duration": 70,
    "start_time": "2024-03-11T09:53:18.412Z"
   },
   {
    "duration": 76919,
    "start_time": "2024-03-11T09:53:18.774Z"
   },
   {
    "duration": 581,
    "start_time": "2024-03-11T09:54:35.694Z"
   },
   {
    "duration": 71,
    "start_time": "2024-03-11T09:54:46.219Z"
   },
   {
    "duration": 8694,
    "start_time": "2024-03-11T09:54:46.781Z"
   },
   {
    "duration": 629,
    "start_time": "2024-03-11T09:54:55.478Z"
   },
   {
    "duration": 9,
    "start_time": "2024-03-11T09:55:02.086Z"
   },
   {
    "duration": 69,
    "start_time": "2024-03-11T09:55:02.348Z"
   },
   {
    "duration": 14096,
    "start_time": "2024-03-11T09:55:02.647Z"
   },
   {
    "duration": 737,
    "start_time": "2024-03-11T09:55:16.774Z"
   },
   {
    "duration": 8,
    "start_time": "2024-03-11T09:55:39.403Z"
   },
   {
    "duration": 71,
    "start_time": "2024-03-11T09:55:39.667Z"
   },
   {
    "duration": 6031,
    "start_time": "2024-03-11T09:55:39.951Z"
   },
   {
    "duration": 567,
    "start_time": "2024-03-11T09:55:45.984Z"
   },
   {
    "duration": 71,
    "start_time": "2024-03-11T09:55:49.957Z"
   },
   {
    "duration": 13674,
    "start_time": "2024-03-11T09:55:50.284Z"
   },
   {
    "duration": 597,
    "start_time": "2024-03-11T09:56:03.960Z"
   },
   {
    "duration": 7,
    "start_time": "2024-03-11T09:56:13.189Z"
   },
   {
    "duration": 72,
    "start_time": "2024-03-11T09:56:16.172Z"
   },
   {
    "duration": 9069,
    "start_time": "2024-03-11T09:56:16.635Z"
   },
   {
    "duration": 650,
    "start_time": "2024-03-11T09:56:25.706Z"
   },
   {
    "duration": 7,
    "start_time": "2024-03-11T09:57:22.613Z"
   },
   {
    "duration": 68,
    "start_time": "2024-03-11T09:57:22.917Z"
   },
   {
    "duration": 6984,
    "start_time": "2024-03-11T09:57:23.508Z"
   },
   {
    "duration": 78,
    "start_time": "2024-03-11T09:57:36.982Z"
   },
   {
    "duration": 7054,
    "start_time": "2024-03-11T09:57:37.573Z"
   },
   {
    "duration": 597,
    "start_time": "2024-03-11T09:57:46.987Z"
   },
   {
    "duration": 6,
    "start_time": "2024-03-11T09:57:53.141Z"
   },
   {
    "duration": 13,
    "start_time": "2024-03-11T09:57:53.703Z"
   },
   {
    "duration": 9,
    "start_time": "2024-03-11T09:57:54.125Z"
   },
   {
    "duration": 71,
    "start_time": "2024-03-11T09:57:54.574Z"
   },
   {
    "duration": 6653,
    "start_time": "2024-03-11T09:57:55.382Z"
   },
   {
    "duration": 736,
    "start_time": "2024-03-11T09:58:08.284Z"
   },
   {
    "duration": 7,
    "start_time": "2024-03-11T09:58:16.582Z"
   },
   {
    "duration": 72,
    "start_time": "2024-03-11T09:58:19.014Z"
   },
   {
    "duration": 17390,
    "start_time": "2024-03-11T09:58:20.029Z"
   },
   {
    "duration": 603,
    "start_time": "2024-03-11T09:58:37.421Z"
   },
   {
    "duration": 69,
    "start_time": "2024-03-11T09:58:41.405Z"
   },
   {
    "duration": 6870,
    "start_time": "2024-03-11T09:58:41.918Z"
   },
   {
    "duration": 562,
    "start_time": "2024-03-11T09:58:48.791Z"
   },
   {
    "duration": 70,
    "start_time": "2024-03-11T09:58:56.526Z"
   },
   {
    "duration": 33498,
    "start_time": "2024-03-11T09:58:56.788Z"
   },
   {
    "duration": 593,
    "start_time": "2024-03-11T09:59:30.288Z"
   },
   {
    "duration": 80,
    "start_time": "2024-03-11T09:59:35.740Z"
   },
   {
    "duration": 6794,
    "start_time": "2024-03-11T09:59:36.020Z"
   },
   {
    "duration": 610,
    "start_time": "2024-03-11T09:59:42.816Z"
   },
   {
    "duration": 87,
    "start_time": "2024-03-11T10:01:39.430Z"
   },
   {
    "duration": 33486,
    "start_time": "2024-03-11T10:01:39.715Z"
   },
   {
    "duration": 813,
    "start_time": "2024-03-11T10:02:13.202Z"
   },
   {
    "duration": 68,
    "start_time": "2024-03-11T10:02:22.653Z"
   },
   {
    "duration": 6753,
    "start_time": "2024-03-11T10:02:22.973Z"
   },
   {
    "duration": 622,
    "start_time": "2024-03-11T10:02:29.728Z"
   },
   {
    "duration": 71,
    "start_time": "2024-03-11T10:02:32.884Z"
   },
   {
    "duration": 67967,
    "start_time": "2024-03-11T10:02:33.173Z"
   },
   {
    "duration": 608,
    "start_time": "2024-03-11T10:03:41.141Z"
   },
   {
    "duration": 9,
    "start_time": "2024-03-11T10:15:24.522Z"
   },
   {
    "duration": 63501,
    "start_time": "2024-03-11T10:17:01.452Z"
   },
   {
    "duration": 5084,
    "start_time": "2024-03-11T10:18:08.225Z"
   },
   {
    "duration": 71117,
    "start_time": "2024-03-11T10:18:51.099Z"
   },
   {
    "duration": 138677,
    "start_time": "2024-03-11T10:20:12.806Z"
   },
   {
    "duration": 4,
    "start_time": "2024-03-11T10:22:31.485Z"
   },
   {
    "duration": 6,
    "start_time": "2024-03-11T10:24:00.947Z"
   },
   {
    "duration": 5,
    "start_time": "2024-03-11T10:24:17.179Z"
   },
   {
    "duration": 4,
    "start_time": "2024-03-11T10:24:21.763Z"
   },
   {
    "duration": 5,
    "start_time": "2024-03-11T10:24:28.627Z"
   },
   {
    "duration": 5,
    "start_time": "2024-03-11T10:24:34.106Z"
   },
   {
    "duration": 4,
    "start_time": "2024-03-11T10:24:35.451Z"
   },
   {
    "duration": 4,
    "start_time": "2024-03-11T10:24:40.395Z"
   },
   {
    "duration": 5,
    "start_time": "2024-03-11T10:24:46.419Z"
   },
   {
    "duration": 6,
    "start_time": "2024-03-11T10:24:59.827Z"
   },
   {
    "duration": 8158966,
    "start_time": "2024-03-11T10:26:58.828Z"
   },
   {
    "duration": 7,
    "start_time": "2024-03-11T12:56:45.149Z"
   },
   {
    "duration": 4,
    "start_time": "2024-03-11T12:56:53.301Z"
   },
   {
    "duration": 5,
    "start_time": "2024-03-11T12:56:57.115Z"
   },
   {
    "duration": 5,
    "start_time": "2024-03-11T12:56:59.941Z"
   },
   {
    "duration": 3,
    "start_time": "2024-03-11T12:58:40.181Z"
   },
   {
    "duration": 609,
    "start_time": "2024-03-11T13:01:11.213Z"
   },
   {
    "duration": 5,
    "start_time": "2024-03-11T14:21:48.442Z"
   },
   {
    "duration": 5,
    "start_time": "2024-03-11T14:21:52.299Z"
   },
   {
    "duration": 5,
    "start_time": "2024-03-11T14:21:55.410Z"
   },
   {
    "duration": 82,
    "start_time": "2024-03-11T14:48:22.098Z"
   },
   {
    "duration": 68,
    "start_time": "2024-03-11T14:48:32.761Z"
   },
   {
    "duration": 14,
    "start_time": "2024-03-11T14:48:38.898Z"
   },
   {
    "duration": 6,
    "start_time": "2024-03-11T14:48:50.472Z"
   },
   {
    "duration": 10,
    "start_time": "2024-03-11T14:48:56.025Z"
   },
   {
    "duration": 4,
    "start_time": "2024-03-11T14:49:00.226Z"
   },
   {
    "duration": 4,
    "start_time": "2024-03-11T14:49:02.540Z"
   },
   {
    "duration": 5,
    "start_time": "2024-03-11T14:49:04.105Z"
   },
   {
    "duration": 4,
    "start_time": "2024-03-11T14:49:05.563Z"
   },
   {
    "duration": 3,
    "start_time": "2024-03-11T14:49:08.514Z"
   },
   {
    "duration": 4,
    "start_time": "2024-03-11T14:49:11.042Z"
   },
   {
    "duration": 4,
    "start_time": "2024-03-11T14:49:13.345Z"
   },
   {
    "duration": 4,
    "start_time": "2024-03-11T14:49:19.619Z"
   },
   {
    "duration": 4,
    "start_time": "2024-03-11T14:49:21.977Z"
   },
   {
    "duration": 7,
    "start_time": "2024-03-11T14:49:53.298Z"
   },
   {
    "duration": 6,
    "start_time": "2024-03-11T14:50:10.586Z"
   },
   {
    "duration": 7,
    "start_time": "2024-03-11T14:50:17.297Z"
   },
   {
    "duration": 2214,
    "start_time": "2024-03-11T14:52:02.537Z"
   },
   {
    "duration": 9,
    "start_time": "2024-03-11T14:52:04.753Z"
   },
   {
    "duration": 88,
    "start_time": "2024-03-11T14:52:04.764Z"
   },
   {
    "duration": 16,
    "start_time": "2024-03-11T14:52:04.854Z"
   },
   {
    "duration": 13,
    "start_time": "2024-03-11T14:52:04.872Z"
   },
   {
    "duration": 14,
    "start_time": "2024-03-11T14:52:04.886Z"
   },
   {
    "duration": 55,
    "start_time": "2024-03-11T14:52:04.902Z"
   },
   {
    "duration": 915,
    "start_time": "2024-03-11T14:52:04.959Z"
   },
   {
    "duration": 1265,
    "start_time": "2024-03-11T14:52:05.875Z"
   },
   {
    "duration": 4,
    "start_time": "2024-03-11T14:52:07.143Z"
   },
   {
    "duration": 8,
    "start_time": "2024-03-11T14:52:07.148Z"
   },
   {
    "duration": 17,
    "start_time": "2024-03-11T14:52:07.157Z"
   },
   {
    "duration": 7,
    "start_time": "2024-03-11T14:52:07.176Z"
   },
   {
    "duration": 38,
    "start_time": "2024-03-11T14:52:07.185Z"
   },
   {
    "duration": 1932,
    "start_time": "2024-03-11T14:52:07.225Z"
   },
   {
    "duration": 447,
    "start_time": "2024-03-11T14:52:09.158Z"
   },
   {
    "duration": 6,
    "start_time": "2024-03-11T14:52:09.606Z"
   },
   {
    "duration": 13,
    "start_time": "2024-03-11T14:52:09.614Z"
   },
   {
    "duration": 16,
    "start_time": "2024-03-11T14:52:09.628Z"
   },
   {
    "duration": 81,
    "start_time": "2024-03-11T14:52:09.645Z"
   },
   {
    "duration": 51,
    "start_time": "2024-03-11T14:53:13.708Z"
   },
   {
    "duration": 5,
    "start_time": "2024-03-11T14:53:54.810Z"
   },
   {
    "duration": 7,
    "start_time": "2024-03-11T14:54:04.296Z"
   },
   {
    "duration": 2189,
    "start_time": "2024-03-11T14:54:09.301Z"
   },
   {
    "duration": 9,
    "start_time": "2024-03-11T14:54:11.492Z"
   },
   {
    "duration": 52,
    "start_time": "2024-03-11T14:54:11.503Z"
   },
   {
    "duration": 19,
    "start_time": "2024-03-11T14:54:11.557Z"
   },
   {
    "duration": 14,
    "start_time": "2024-03-11T14:54:11.578Z"
   },
   {
    "duration": 15,
    "start_time": "2024-03-11T14:54:11.593Z"
   },
   {
    "duration": 22,
    "start_time": "2024-03-11T14:54:11.610Z"
   },
   {
    "duration": 943,
    "start_time": "2024-03-11T14:54:11.634Z"
   },
   {
    "duration": 1246,
    "start_time": "2024-03-11T14:54:12.578Z"
   },
   {
    "duration": 5,
    "start_time": "2024-03-11T14:54:13.826Z"
   },
   {
    "duration": 9,
    "start_time": "2024-03-11T14:54:13.833Z"
   },
   {
    "duration": 13,
    "start_time": "2024-03-11T14:54:13.844Z"
   },
   {
    "duration": 15,
    "start_time": "2024-03-11T14:54:13.859Z"
   },
   {
    "duration": 33,
    "start_time": "2024-03-11T14:54:13.876Z"
   },
   {
    "duration": 1979,
    "start_time": "2024-03-11T14:54:13.910Z"
   },
   {
    "duration": 486,
    "start_time": "2024-03-11T14:54:15.891Z"
   },
   {
    "duration": 6,
    "start_time": "2024-03-11T14:54:16.379Z"
   },
   {
    "duration": 4,
    "start_time": "2024-03-11T14:54:47.017Z"
   },
   {
    "duration": 149,
    "start_time": "2024-03-11T14:55:59.673Z"
   },
   {
    "duration": 2169,
    "start_time": "2024-03-11T14:56:07.685Z"
   },
   {
    "duration": 9,
    "start_time": "2024-03-11T14:56:09.856Z"
   },
   {
    "duration": 53,
    "start_time": "2024-03-11T14:56:09.872Z"
   },
   {
    "duration": 19,
    "start_time": "2024-03-11T14:56:09.927Z"
   },
   {
    "duration": 15,
    "start_time": "2024-03-11T14:56:09.947Z"
   },
   {
    "duration": 10,
    "start_time": "2024-03-11T14:56:09.964Z"
   },
   {
    "duration": 23,
    "start_time": "2024-03-11T14:56:09.975Z"
   },
   {
    "duration": 965,
    "start_time": "2024-03-11T14:56:09.999Z"
   },
   {
    "duration": 1291,
    "start_time": "2024-03-11T14:56:10.966Z"
   },
   {
    "duration": 12,
    "start_time": "2024-03-11T14:56:12.261Z"
   },
   {
    "duration": 4,
    "start_time": "2024-03-11T14:56:12.276Z"
   },
   {
    "duration": 20,
    "start_time": "2024-03-11T14:56:12.282Z"
   },
   {
    "duration": 5,
    "start_time": "2024-03-11T14:56:12.303Z"
   },
   {
    "duration": 31,
    "start_time": "2024-03-11T14:56:12.310Z"
   },
   {
    "duration": 2036,
    "start_time": "2024-03-11T14:56:12.343Z"
   },
   {
    "duration": 461,
    "start_time": "2024-03-11T14:56:14.380Z"
   },
   {
    "duration": 5,
    "start_time": "2024-03-11T14:56:14.843Z"
   },
   {
    "duration": 23,
    "start_time": "2024-03-11T14:56:14.850Z"
   },
   {
    "duration": 26,
    "start_time": "2024-03-11T14:56:14.874Z"
   },
   {
    "duration": 86,
    "start_time": "2024-03-11T14:56:14.902Z"
   },
   {
    "duration": 6512,
    "start_time": "2024-03-11T14:56:14.990Z"
   },
   {
    "duration": 68,
    "start_time": "2024-03-11T14:57:08.449Z"
   },
   {
    "duration": 6296,
    "start_time": "2024-03-11T14:57:09.345Z"
   },
   {
    "duration": 71,
    "start_time": "2024-03-11T14:57:19.809Z"
   },
   {
    "duration": 13153,
    "start_time": "2024-03-11T14:57:21.121Z"
   },
   {
    "duration": 579,
    "start_time": "2024-03-11T14:57:34.275Z"
   },
   {
    "duration": 2276,
    "start_time": "2024-03-11T14:57:59.430Z"
   },
   {
    "duration": 10,
    "start_time": "2024-03-11T14:58:01.708Z"
   },
   {
    "duration": 119,
    "start_time": "2024-03-11T14:58:01.720Z"
   },
   {
    "duration": 34,
    "start_time": "2024-03-11T14:58:01.841Z"
   },
   {
    "duration": 66,
    "start_time": "2024-03-11T14:58:01.876Z"
   },
   {
    "duration": 83,
    "start_time": "2024-03-11T14:58:01.943Z"
   },
   {
    "duration": 94,
    "start_time": "2024-03-11T14:58:02.028Z"
   },
   {
    "duration": 874,
    "start_time": "2024-03-11T14:58:02.123Z"
   },
   {
    "duration": 1268,
    "start_time": "2024-03-11T14:58:02.999Z"
   },
   {
    "duration": 3,
    "start_time": "2024-03-11T14:58:04.274Z"
   },
   {
    "duration": 7,
    "start_time": "2024-03-11T14:58:04.279Z"
   },
   {
    "duration": 15,
    "start_time": "2024-03-11T14:58:04.287Z"
   },
   {
    "duration": 7,
    "start_time": "2024-03-11T14:58:04.303Z"
   },
   {
    "duration": 36,
    "start_time": "2024-03-11T14:58:04.312Z"
   },
   {
    "duration": 2013,
    "start_time": "2024-03-11T14:58:04.349Z"
   },
   {
    "duration": 429,
    "start_time": "2024-03-11T14:58:06.364Z"
   },
   {
    "duration": 7,
    "start_time": "2024-03-11T14:58:06.795Z"
   },
   {
    "duration": 37,
    "start_time": "2024-03-11T14:58:06.804Z"
   },
   {
    "duration": 21,
    "start_time": "2024-03-11T14:58:06.843Z"
   },
   {
    "duration": 90,
    "start_time": "2024-03-11T14:58:06.865Z"
   },
   {
    "duration": 13565,
    "start_time": "2024-03-11T14:58:06.957Z"
   },
   {
    "duration": 632,
    "start_time": "2024-03-11T14:58:20.525Z"
   },
   {
    "duration": 565,
    "start_time": "2024-03-11T14:59:50.683Z"
   },
   {
    "duration": 76,
    "start_time": "2024-03-11T14:59:55.530Z"
   },
   {
    "duration": 13385,
    "start_time": "2024-03-11T14:59:55.914Z"
   },
   {
    "duration": 741,
    "start_time": "2024-03-11T15:00:09.301Z"
   },
   {
    "duration": 467,
    "start_time": "2024-03-11T15:00:19.394Z"
   },
   {
    "duration": 13,
    "start_time": "2024-03-11T15:00:19.863Z"
   },
   {
    "duration": 12,
    "start_time": "2024-03-11T15:00:20.643Z"
   },
   {
    "duration": 7,
    "start_time": "2024-03-11T15:00:21.210Z"
   },
   {
    "duration": 70,
    "start_time": "2024-03-11T15:00:21.490Z"
   },
   {
    "duration": 6639,
    "start_time": "2024-03-11T15:00:21.793Z"
   },
   {
    "duration": 615,
    "start_time": "2024-03-11T15:00:28.434Z"
   },
   {
    "duration": 6,
    "start_time": "2024-03-11T15:00:35.673Z"
   },
   {
    "duration": 19,
    "start_time": "2024-03-11T15:00:36.241Z"
   },
   {
    "duration": 7,
    "start_time": "2024-03-11T15:00:36.705Z"
   },
   {
    "duration": 86,
    "start_time": "2024-03-11T15:00:36.994Z"
   },
   {
    "duration": 6548,
    "start_time": "2024-03-11T15:00:37.505Z"
   },
   {
    "duration": 580,
    "start_time": "2024-03-11T15:00:44.055Z"
   },
   {
    "duration": 2367,
    "start_time": "2024-03-11T15:00:58.521Z"
   },
   {
    "duration": 10,
    "start_time": "2024-03-11T15:01:00.890Z"
   },
   {
    "duration": 140,
    "start_time": "2024-03-11T15:01:00.901Z"
   },
   {
    "duration": 47,
    "start_time": "2024-03-11T15:01:01.043Z"
   },
   {
    "duration": 156,
    "start_time": "2024-03-11T15:01:01.091Z"
   },
   {
    "duration": 50,
    "start_time": "2024-03-11T15:01:01.248Z"
   },
   {
    "duration": 125,
    "start_time": "2024-03-11T15:01:01.299Z"
   },
   {
    "duration": 1055,
    "start_time": "2024-03-11T15:01:01.426Z"
   },
   {
    "duration": 1256,
    "start_time": "2024-03-11T15:01:02.482Z"
   },
   {
    "duration": 4,
    "start_time": "2024-03-11T15:01:03.741Z"
   },
   {
    "duration": 36,
    "start_time": "2024-03-11T15:01:03.747Z"
   },
   {
    "duration": 25,
    "start_time": "2024-03-11T15:01:03.784Z"
   },
   {
    "duration": 26,
    "start_time": "2024-03-11T15:01:03.811Z"
   },
   {
    "duration": 51,
    "start_time": "2024-03-11T15:01:03.839Z"
   },
   {
    "duration": 1968,
    "start_time": "2024-03-11T15:01:03.891Z"
   },
   {
    "duration": 429,
    "start_time": "2024-03-11T15:01:05.861Z"
   },
   {
    "duration": 6,
    "start_time": "2024-03-11T15:01:06.292Z"
   },
   {
    "duration": 24,
    "start_time": "2024-03-11T15:01:06.300Z"
   },
   {
    "duration": 17,
    "start_time": "2024-03-11T15:01:06.325Z"
   },
   {
    "duration": 77,
    "start_time": "2024-03-11T15:01:06.343Z"
   },
   {
    "duration": 6497,
    "start_time": "2024-03-11T15:01:06.422Z"
   },
   {
    "duration": 625,
    "start_time": "2024-03-11T15:01:12.921Z"
   },
   {
    "duration": 162,
    "start_time": "2024-03-11T15:01:13.548Z"
   },
   {
    "duration": 0,
    "start_time": "2024-03-11T15:01:13.711Z"
   },
   {
    "duration": 2200,
    "start_time": "2024-03-11T15:01:25.024Z"
   },
   {
    "duration": 12,
    "start_time": "2024-03-11T15:01:27.226Z"
   },
   {
    "duration": 71,
    "start_time": "2024-03-11T15:01:27.240Z"
   },
   {
    "duration": 18,
    "start_time": "2024-03-11T15:01:27.313Z"
   },
   {
    "duration": 21,
    "start_time": "2024-03-11T15:01:27.332Z"
   },
   {
    "duration": 27,
    "start_time": "2024-03-11T15:01:27.355Z"
   },
   {
    "duration": 37,
    "start_time": "2024-03-11T15:01:27.384Z"
   },
   {
    "duration": 940,
    "start_time": "2024-03-11T15:01:27.423Z"
   },
   {
    "duration": 1274,
    "start_time": "2024-03-11T15:01:28.373Z"
   },
   {
    "duration": 5,
    "start_time": "2024-03-11T15:01:29.650Z"
   },
   {
    "duration": 16,
    "start_time": "2024-03-11T15:01:29.657Z"
   },
   {
    "duration": 15,
    "start_time": "2024-03-11T15:01:29.674Z"
   },
   {
    "duration": 9,
    "start_time": "2024-03-11T15:01:29.690Z"
   },
   {
    "duration": 33,
    "start_time": "2024-03-11T15:01:29.701Z"
   },
   {
    "duration": 2029,
    "start_time": "2024-03-11T15:01:29.736Z"
   },
   {
    "duration": 456,
    "start_time": "2024-03-11T15:01:31.766Z"
   },
   {
    "duration": 6,
    "start_time": "2024-03-11T15:01:32.224Z"
   },
   {
    "duration": 57,
    "start_time": "2024-03-11T15:01:32.232Z"
   },
   {
    "duration": 52,
    "start_time": "2024-03-11T15:01:32.290Z"
   },
   {
    "duration": 102,
    "start_time": "2024-03-11T15:01:32.344Z"
   },
   {
    "duration": 6552,
    "start_time": "2024-03-11T15:01:32.447Z"
   },
   {
    "duration": 617,
    "start_time": "2024-03-11T15:01:39.001Z"
   },
   {
    "duration": 165,
    "start_time": "2024-03-11T15:01:39.619Z"
   },
   {
    "duration": 0,
    "start_time": "2024-03-11T15:01:39.785Z"
   },
   {
    "duration": 2228,
    "start_time": "2024-03-11T15:01:49.830Z"
   },
   {
    "duration": 9,
    "start_time": "2024-03-11T15:01:52.060Z"
   },
   {
    "duration": 63,
    "start_time": "2024-03-11T15:01:52.070Z"
   },
   {
    "duration": 20,
    "start_time": "2024-03-11T15:01:52.135Z"
   },
   {
    "duration": 16,
    "start_time": "2024-03-11T15:01:52.157Z"
   },
   {
    "duration": 35,
    "start_time": "2024-03-11T15:01:52.175Z"
   },
   {
    "duration": 39,
    "start_time": "2024-03-11T15:01:52.211Z"
   },
   {
    "duration": 925,
    "start_time": "2024-03-11T15:01:52.252Z"
   },
   {
    "duration": 1272,
    "start_time": "2024-03-11T15:01:53.178Z"
   },
   {
    "duration": 4,
    "start_time": "2024-03-11T15:01:54.452Z"
   },
   {
    "duration": 16,
    "start_time": "2024-03-11T15:01:54.457Z"
   },
   {
    "duration": 20,
    "start_time": "2024-03-11T15:01:54.474Z"
   },
   {
    "duration": 5,
    "start_time": "2024-03-11T15:01:54.495Z"
   },
   {
    "duration": 54,
    "start_time": "2024-03-11T15:01:54.503Z"
   },
   {
    "duration": 1976,
    "start_time": "2024-03-11T15:01:54.558Z"
   },
   {
    "duration": 444,
    "start_time": "2024-03-11T15:01:56.535Z"
   },
   {
    "duration": 7,
    "start_time": "2024-03-11T15:01:56.980Z"
   },
   {
    "duration": 41,
    "start_time": "2024-03-11T15:01:56.988Z"
   },
   {
    "duration": 25,
    "start_time": "2024-03-11T15:01:57.030Z"
   },
   {
    "duration": 75,
    "start_time": "2024-03-11T15:01:57.058Z"
   },
   {
    "duration": 6641,
    "start_time": "2024-03-11T15:01:57.135Z"
   },
   {
    "duration": 610,
    "start_time": "2024-03-11T15:02:03.778Z"
   },
   {
    "duration": 176,
    "start_time": "2024-03-11T15:02:04.391Z"
   },
   {
    "duration": 0,
    "start_time": "2024-03-11T15:02:04.569Z"
   },
   {
    "duration": 2202,
    "start_time": "2024-03-11T15:02:21.653Z"
   },
   {
    "duration": 9,
    "start_time": "2024-03-11T15:02:23.857Z"
   },
   {
    "duration": 65,
    "start_time": "2024-03-11T15:02:23.868Z"
   },
   {
    "duration": 18,
    "start_time": "2024-03-11T15:02:23.935Z"
   },
   {
    "duration": 42,
    "start_time": "2024-03-11T15:02:23.955Z"
   },
   {
    "duration": 14,
    "start_time": "2024-03-11T15:02:23.999Z"
   },
   {
    "duration": 25,
    "start_time": "2024-03-11T15:02:24.014Z"
   },
   {
    "duration": 911,
    "start_time": "2024-03-11T15:02:24.041Z"
   },
   {
    "duration": 1271,
    "start_time": "2024-03-11T15:02:24.953Z"
   },
   {
    "duration": 3,
    "start_time": "2024-03-11T15:02:26.227Z"
   },
   {
    "duration": 17,
    "start_time": "2024-03-11T15:02:26.232Z"
   },
   {
    "duration": 17,
    "start_time": "2024-03-11T15:02:26.250Z"
   },
   {
    "duration": 4,
    "start_time": "2024-03-11T15:02:26.268Z"
   },
   {
    "duration": 44,
    "start_time": "2024-03-11T15:02:26.274Z"
   },
   {
    "duration": 1992,
    "start_time": "2024-03-11T15:02:26.319Z"
   },
   {
    "duration": 464,
    "start_time": "2024-03-11T15:02:28.313Z"
   },
   {
    "duration": 6,
    "start_time": "2024-03-11T15:02:28.778Z"
   },
   {
    "duration": 14,
    "start_time": "2024-03-11T15:02:28.785Z"
   },
   {
    "duration": 13,
    "start_time": "2024-03-11T15:02:28.800Z"
   },
   {
    "duration": 85,
    "start_time": "2024-03-11T15:02:28.814Z"
   },
   {
    "duration": 6794,
    "start_time": "2024-03-11T15:02:28.901Z"
   },
   {
    "duration": 632,
    "start_time": "2024-03-11T15:02:35.696Z"
   },
   {
    "duration": 170,
    "start_time": "2024-03-11T15:02:36.329Z"
   },
   {
    "duration": 0,
    "start_time": "2024-03-11T15:02:36.500Z"
   },
   {
    "duration": 11,
    "start_time": "2024-03-11T15:02:39.542Z"
   },
   {
    "duration": 12,
    "start_time": "2024-03-11T15:02:39.555Z"
   },
   {
    "duration": 49,
    "start_time": "2024-03-11T15:02:39.569Z"
   },
   {
    "duration": 12,
    "start_time": "2024-03-11T15:02:39.620Z"
   },
   {
    "duration": 22,
    "start_time": "2024-03-11T15:02:39.633Z"
   },
   {
    "duration": 10,
    "start_time": "2024-03-11T15:02:39.656Z"
   },
   {
    "duration": 25,
    "start_time": "2024-03-11T15:02:39.668Z"
   },
   {
    "duration": 852,
    "start_time": "2024-03-11T15:02:39.695Z"
   },
   {
    "duration": 1419,
    "start_time": "2024-03-11T15:02:40.549Z"
   },
   {
    "duration": 4,
    "start_time": "2024-03-11T15:02:41.974Z"
   },
   {
    "duration": 22,
    "start_time": "2024-03-11T15:02:41.980Z"
   },
   {
    "duration": 12,
    "start_time": "2024-03-11T15:02:42.004Z"
   },
   {
    "duration": 7,
    "start_time": "2024-03-11T15:02:42.017Z"
   },
   {
    "duration": 32,
    "start_time": "2024-03-11T15:02:42.025Z"
   },
   {
    "duration": 1907,
    "start_time": "2024-03-11T15:02:42.059Z"
   },
   {
    "duration": 448,
    "start_time": "2024-03-11T15:02:43.967Z"
   },
   {
    "duration": 6,
    "start_time": "2024-03-11T15:02:44.417Z"
   },
   {
    "duration": 14,
    "start_time": "2024-03-11T15:02:44.424Z"
   },
   {
    "duration": 13,
    "start_time": "2024-03-11T15:02:44.440Z"
   },
   {
    "duration": 84,
    "start_time": "2024-03-11T15:02:44.455Z"
   },
   {
    "duration": 62957,
    "start_time": "2024-03-11T15:02:44.541Z"
   },
   {
    "duration": 761,
    "start_time": "2024-03-11T15:03:47.500Z"
   },
   {
    "duration": 26,
    "start_time": "2024-03-11T15:03:48.263Z"
   },
   {
    "duration": 0,
    "start_time": "2024-03-11T15:03:48.291Z"
   },
   {
    "duration": 24,
    "start_time": "2024-03-11T15:04:34.192Z"
   },
   {
    "duration": 22,
    "start_time": "2024-03-11T15:05:10.121Z"
   },
   {
    "duration": 15,
    "start_time": "2024-03-11T15:06:00.548Z"
   },
   {
    "duration": 7,
    "start_time": "2024-03-11T15:06:01.698Z"
   },
   {
    "duration": 76,
    "start_time": "2024-03-11T15:06:02.106Z"
   },
   {
    "duration": 65177,
    "start_time": "2024-03-11T15:06:02.466Z"
   },
   {
    "duration": 581,
    "start_time": "2024-03-11T15:07:07.672Z"
   },
   {
    "duration": 2316,
    "start_time": "2024-03-11T15:07:44.380Z"
   },
   {
    "duration": 9,
    "start_time": "2024-03-11T15:07:46.698Z"
   },
   {
    "duration": 86,
    "start_time": "2024-03-11T15:07:46.708Z"
   },
   {
    "duration": 18,
    "start_time": "2024-03-11T15:07:46.796Z"
   },
   {
    "duration": 56,
    "start_time": "2024-03-11T15:07:46.816Z"
   },
   {
    "duration": 20,
    "start_time": "2024-03-11T15:07:46.874Z"
   },
   {
    "duration": 27,
    "start_time": "2024-03-11T15:07:46.896Z"
   },
   {
    "duration": 945,
    "start_time": "2024-03-11T15:07:46.925Z"
   },
   {
    "duration": 1279,
    "start_time": "2024-03-11T15:07:47.873Z"
   },
   {
    "duration": 4,
    "start_time": "2024-03-11T15:07:49.155Z"
   },
   {
    "duration": 22,
    "start_time": "2024-03-11T15:07:49.161Z"
   },
   {
    "duration": 19,
    "start_time": "2024-03-11T15:07:49.185Z"
   },
   {
    "duration": 4,
    "start_time": "2024-03-11T15:07:49.205Z"
   },
   {
    "duration": 29,
    "start_time": "2024-03-11T15:07:49.212Z"
   },
   {
    "duration": 1954,
    "start_time": "2024-03-11T15:07:49.242Z"
   },
   {
    "duration": 485,
    "start_time": "2024-03-11T15:07:51.198Z"
   },
   {
    "duration": 6,
    "start_time": "2024-03-11T15:07:51.685Z"
   },
   {
    "duration": 20,
    "start_time": "2024-03-11T15:07:51.692Z"
   },
   {
    "duration": 15,
    "start_time": "2024-03-11T15:07:51.714Z"
   },
   {
    "duration": 83,
    "start_time": "2024-03-11T15:07:51.731Z"
   },
   {
    "duration": 63228,
    "start_time": "2024-03-11T15:07:51.816Z"
   },
   {
    "duration": 607,
    "start_time": "2024-03-11T15:08:55.045Z"
   },
   {
    "duration": 7413033,
    "start_time": "2024-03-11T15:08:55.654Z"
   },
   {
    "duration": 678,
    "start_time": "2024-03-11T17:12:28.688Z"
   },
   {
    "duration": 501,
    "start_time": "2024-03-13T08:57:24.747Z"
   },
   {
    "duration": 0,
    "start_time": "2024-03-13T08:57:25.250Z"
   },
   {
    "duration": 0,
    "start_time": "2024-03-13T08:57:25.251Z"
   },
   {
    "duration": 0,
    "start_time": "2024-03-13T08:57:25.252Z"
   },
   {
    "duration": 0,
    "start_time": "2024-03-13T08:57:25.253Z"
   },
   {
    "duration": 0,
    "start_time": "2024-03-13T08:57:25.254Z"
   },
   {
    "duration": 0,
    "start_time": "2024-03-13T08:57:25.266Z"
   },
   {
    "duration": 0,
    "start_time": "2024-03-13T08:57:25.267Z"
   },
   {
    "duration": 1,
    "start_time": "2024-03-13T08:57:25.268Z"
   },
   {
    "duration": 0,
    "start_time": "2024-03-13T08:57:25.270Z"
   },
   {
    "duration": 0,
    "start_time": "2024-03-13T08:57:25.271Z"
   },
   {
    "duration": 0,
    "start_time": "2024-03-13T08:57:25.272Z"
   },
   {
    "duration": 0,
    "start_time": "2024-03-13T08:57:25.274Z"
   },
   {
    "duration": 0,
    "start_time": "2024-03-13T08:57:25.275Z"
   },
   {
    "duration": 0,
    "start_time": "2024-03-13T08:57:25.276Z"
   },
   {
    "duration": 0,
    "start_time": "2024-03-13T08:57:25.277Z"
   },
   {
    "duration": 12017,
    "start_time": "2024-03-13T08:57:42.653Z"
   },
   {
    "duration": 2362,
    "start_time": "2024-03-13T08:58:12.394Z"
   },
   {
    "duration": 10,
    "start_time": "2024-03-13T08:58:14.759Z"
   },
   {
    "duration": 107,
    "start_time": "2024-03-13T08:58:14.771Z"
   },
   {
    "duration": 18,
    "start_time": "2024-03-13T08:58:14.880Z"
   },
   {
    "duration": 20,
    "start_time": "2024-03-13T08:58:14.899Z"
   },
   {
    "duration": 6,
    "start_time": "2024-03-13T08:58:14.920Z"
   },
   {
    "duration": 42,
    "start_time": "2024-03-13T08:58:14.928Z"
   },
   {
    "duration": 1092,
    "start_time": "2024-03-13T08:58:14.971Z"
   },
   {
    "duration": 1227,
    "start_time": "2024-03-13T08:58:16.065Z"
   },
   {
    "duration": 4,
    "start_time": "2024-03-13T08:58:17.295Z"
   },
   {
    "duration": 12,
    "start_time": "2024-03-13T08:58:17.302Z"
   },
   {
    "duration": 18,
    "start_time": "2024-03-13T08:58:17.316Z"
   },
   {
    "duration": 8,
    "start_time": "2024-03-13T08:58:17.335Z"
   },
   {
    "duration": 35,
    "start_time": "2024-03-13T08:58:17.344Z"
   },
   {
    "duration": 1870,
    "start_time": "2024-03-13T08:58:17.381Z"
   },
   {
    "duration": 420,
    "start_time": "2024-03-13T08:58:19.253Z"
   },
   {
    "duration": 407,
    "start_time": "2024-03-13T08:58:20.169Z"
   },
   {
    "duration": 72,
    "start_time": "2024-03-13T08:58:21.369Z"
   },
   {
    "duration": 152,
    "start_time": "2024-03-13T08:58:26.994Z"
   },
   {
    "duration": 8,
    "start_time": "2024-03-13T08:58:41.474Z"
   },
   {
    "duration": 7,
    "start_time": "2024-03-13T08:58:45.649Z"
   },
   {
    "duration": 7,
    "start_time": "2024-03-13T09:00:21.609Z"
   },
   {
    "duration": 2040,
    "start_time": "2024-03-13T09:00:25.486Z"
   },
   {
    "duration": 10,
    "start_time": "2024-03-13T09:00:27.528Z"
   },
   {
    "duration": 78,
    "start_time": "2024-03-13T09:00:27.540Z"
   },
   {
    "duration": 17,
    "start_time": "2024-03-13T09:00:27.620Z"
   },
   {
    "duration": 14,
    "start_time": "2024-03-13T09:00:27.640Z"
   },
   {
    "duration": 9,
    "start_time": "2024-03-13T09:00:27.656Z"
   },
   {
    "duration": 43,
    "start_time": "2024-03-13T09:00:27.667Z"
   },
   {
    "duration": 862,
    "start_time": "2024-03-13T09:00:27.713Z"
   },
   {
    "duration": 1148,
    "start_time": "2024-03-13T09:00:28.577Z"
   },
   {
    "duration": 4,
    "start_time": "2024-03-13T09:00:29.727Z"
   },
   {
    "duration": 7,
    "start_time": "2024-03-13T09:00:29.732Z"
   },
   {
    "duration": 21,
    "start_time": "2024-03-13T09:00:29.741Z"
   },
   {
    "duration": 15,
    "start_time": "2024-03-13T09:00:29.764Z"
   },
   {
    "duration": 39,
    "start_time": "2024-03-13T09:00:29.781Z"
   },
   {
    "duration": 1904,
    "start_time": "2024-03-13T09:00:29.822Z"
   },
   {
    "duration": 458,
    "start_time": "2024-03-13T09:00:31.728Z"
   },
   {
    "duration": 282,
    "start_time": "2024-03-13T09:00:32.188Z"
   },
   {
    "duration": 12,
    "start_time": "2024-03-13T09:00:36.171Z"
   },
   {
    "duration": 6,
    "start_time": "2024-03-13T09:04:44.827Z"
   },
   {
    "duration": 66,
    "start_time": "2024-03-13T09:04:46.931Z"
   },
   {
    "duration": 60051,
    "start_time": "2024-03-13T09:04:50.787Z"
   },
   {
    "duration": 563,
    "start_time": "2024-03-13T09:06:01.099Z"
   },
   {
    "duration": 3633,
    "start_time": "2024-03-13T09:06:08.670Z"
   },
   {
    "duration": 5,
    "start_time": "2024-03-13T09:06:21.822Z"
   },
   {
    "duration": 23119172,
    "start_time": "2024-03-13T09:06:29.998Z"
   },
   {
    "duration": 588,
    "start_time": "2024-03-13T15:45:55.374Z"
   }
  ],
  "celltoolbar": "Отсутствует",
  "kernelspec": {
   "display_name": "Python 3 (ipykernel)",
   "language": "python",
   "name": "python3"
  },
  "language_info": {
   "codemirror_mode": {
    "name": "ipython",
    "version": 3
   },
   "file_extension": ".py",
   "mimetype": "text/x-python",
   "name": "python",
   "nbconvert_exporter": "python",
   "pygments_lexer": "ipython3",
   "version": "3.9.5"
  },
  "toc": {
   "base_numbering": 1,
   "nav_menu": {},
   "number_sections": false,
   "sideBar": true,
   "skip_h1_title": false,
   "title_cell": "Table of Contents",
   "title_sidebar": "Contents",
   "toc_cell": false,
   "toc_position": {
    "height": "calc(100% - 180px)",
    "left": "10px",
    "top": "150px",
    "width": "378px"
   },
   "toc_section_display": true,
   "toc_window_display": true
  },
  "varInspector": {
   "cols": {
    "lenName": 16,
    "lenType": 16,
    "lenVar": 40
   },
   "kernels_config": {
    "python": {
     "delete_cmd_postfix": "",
     "delete_cmd_prefix": "del ",
     "library": "var_list.py",
     "varRefreshCmd": "print(var_dic_list())"
    },
    "r": {
     "delete_cmd_postfix": ") ",
     "delete_cmd_prefix": "rm(",
     "library": "var_list.r",
     "varRefreshCmd": "cat(var_dic_list()) "
    }
   },
   "types_to_exclude": [
    "module",
    "function",
    "builtin_function_or_method",
    "instance",
    "_Feature"
   ],
   "window_display": false
  }
 },
 "nbformat": 4,
 "nbformat_minor": 5
}
