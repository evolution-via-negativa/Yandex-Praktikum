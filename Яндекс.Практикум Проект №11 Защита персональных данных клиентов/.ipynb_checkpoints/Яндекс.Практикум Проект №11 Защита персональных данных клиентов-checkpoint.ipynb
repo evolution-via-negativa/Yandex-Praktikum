{
 "cells": [
  {
   "cell_type": "markdown",
   "metadata": {
    "toc": true
   },
   "source": [
    "<h1>Содержание<span class=\"tocSkip\"></span></h1>\n",
    "<div class=\"toc\"><ul class=\"toc-item\"><li><span><a href=\"#Загрузка-данных\" data-toc-modified-id=\"Загрузка-данных-1\"><span class=\"toc-item-num\">1&nbsp;&nbsp;</span>Загрузка данных</a></span></li><li><span><a href=\"#Умножение-матриц\" data-toc-modified-id=\"Умножение-матриц-2\"><span class=\"toc-item-num\">2&nbsp;&nbsp;</span>Умножение матриц</a></span></li><li><span><a href=\"#Алгоритм-преобразования\" data-toc-modified-id=\"Алгоритм-преобразования-3\"><span class=\"toc-item-num\">3&nbsp;&nbsp;</span>Алгоритм преобразования</a></span></li><li><span><a href=\"#Проверка-алгоритма\" data-toc-modified-id=\"Проверка-алгоритма-4\"><span class=\"toc-item-num\">4&nbsp;&nbsp;</span>Проверка алгоритма</a></span></li><li><span><a href=\"#Расшифровка-данных\" data-toc-modified-id=\"Расшифровка-данных-5\"><span class=\"toc-item-num\">5&nbsp;&nbsp;</span>Расшифровка данных</a></span></li><li><span><a href=\"#Вывод\" data-toc-modified-id=\"Вывод-6\"><span class=\"toc-item-num\">6&nbsp;&nbsp;</span>Вывод</a></span></li><li><span><a href=\"#Чек-лист-проверки\" data-toc-modified-id=\"Чек-лист-проверки-7\"><span class=\"toc-item-num\">7&nbsp;&nbsp;</span>Чек-лист проверки</a></span></li></ul></div>"
   ]
  },
  {
   "cell_type": "markdown",
   "metadata": {},
   "source": [
    "# Защита персональных данных клиентов"
   ]
  },
  {
   "cell_type": "markdown",
   "metadata": {},
   "source": [
    "Вам нужно защитить данные клиентов страховой компании «Хоть потоп». Разработайте такой метод преобразования данных, чтобы по ним было сложно восстановить персональную информацию. Обоснуйте корректность его работы.\n",
    "\n",
    "Нужно защитить данные, чтобы при преобразовании качество моделей машинного обучения не ухудшилось. Подбирать наилучшую модель не требуется."
   ]
  },
  {
   "cell_type": "code",
   "execution_count": 1,
   "metadata": {},
   "outputs": [],
   "source": [
    "import pandas as pd\n",
    "import numpy as np\n",
    "from sklearn.model_selection import train_test_split\n",
    "from sklearn.metrics import r2_score"
   ]
  },
  {
   "cell_type": "markdown",
   "metadata": {},
   "source": [
    "## Загрузка данных"
   ]
  },
  {
   "cell_type": "code",
   "execution_count": 2,
   "metadata": {},
   "outputs": [],
   "source": [
    "# Получим данные безопасным способом при помощи конструкции try-except\n",
    "try:\n",
    "    data = pd.read_csv('/datasets/insurance.csv')\n",
    "except:\n",
    "    data = pd.read_csv('https://code.s3.yandex.net/datasets/insurance.csv')"
   ]
  },
  {
   "cell_type": "code",
   "execution_count": 3,
   "metadata": {},
   "outputs": [
    {
     "data": {
      "text/html": [
       "<div>\n",
       "<style scoped>\n",
       "    .dataframe tbody tr th:only-of-type {\n",
       "        vertical-align: middle;\n",
       "    }\n",
       "\n",
       "    .dataframe tbody tr th {\n",
       "        vertical-align: top;\n",
       "    }\n",
       "\n",
       "    .dataframe thead th {\n",
       "        text-align: right;\n",
       "    }\n",
       "</style>\n",
       "<table border=\"1\" class=\"dataframe\">\n",
       "  <thead>\n",
       "    <tr style=\"text-align: right;\">\n",
       "      <th></th>\n",
       "      <th>Пол</th>\n",
       "      <th>Возраст</th>\n",
       "      <th>Зарплата</th>\n",
       "      <th>Члены семьи</th>\n",
       "      <th>Страховые выплаты</th>\n",
       "    </tr>\n",
       "  </thead>\n",
       "  <tbody>\n",
       "    <tr>\n",
       "      <th>3142</th>\n",
       "      <td>0</td>\n",
       "      <td>26.0</td>\n",
       "      <td>30000.0</td>\n",
       "      <td>0</td>\n",
       "      <td>0</td>\n",
       "    </tr>\n",
       "    <tr>\n",
       "      <th>4138</th>\n",
       "      <td>1</td>\n",
       "      <td>41.0</td>\n",
       "      <td>30900.0</td>\n",
       "      <td>1</td>\n",
       "      <td>0</td>\n",
       "    </tr>\n",
       "    <tr>\n",
       "      <th>249</th>\n",
       "      <td>1</td>\n",
       "      <td>40.0</td>\n",
       "      <td>45300.0</td>\n",
       "      <td>5</td>\n",
       "      <td>0</td>\n",
       "    </tr>\n",
       "    <tr>\n",
       "      <th>1345</th>\n",
       "      <td>0</td>\n",
       "      <td>39.0</td>\n",
       "      <td>37400.0</td>\n",
       "      <td>0</td>\n",
       "      <td>0</td>\n",
       "    </tr>\n",
       "    <tr>\n",
       "      <th>498</th>\n",
       "      <td>0</td>\n",
       "      <td>33.0</td>\n",
       "      <td>24000.0</td>\n",
       "      <td>2</td>\n",
       "      <td>0</td>\n",
       "    </tr>\n",
       "  </tbody>\n",
       "</table>\n",
       "</div>"
      ],
      "text/plain": [
       "      Пол  Возраст  Зарплата  Члены семьи  Страховые выплаты\n",
       "3142    0     26.0   30000.0            0                  0\n",
       "4138    1     41.0   30900.0            1                  0\n",
       "249     1     40.0   45300.0            5                  0\n",
       "1345    0     39.0   37400.0            0                  0\n",
       "498     0     33.0   24000.0            2                  0"
      ]
     },
     "execution_count": 3,
     "metadata": {},
     "output_type": "execute_result"
    }
   ],
   "source": [
    "data.sample(5)"
   ]
  },
  {
   "cell_type": "code",
   "execution_count": 4,
   "metadata": {},
   "outputs": [
    {
     "name": "stdout",
     "output_type": "stream",
     "text": [
      "<class 'pandas.core.frame.DataFrame'>\n",
      "RangeIndex: 5000 entries, 0 to 4999\n",
      "Data columns (total 5 columns):\n",
      " #   Column             Non-Null Count  Dtype  \n",
      "---  ------             --------------  -----  \n",
      " 0   Пол                5000 non-null   int64  \n",
      " 1   Возраст            5000 non-null   float64\n",
      " 2   Зарплата           5000 non-null   float64\n",
      " 3   Члены семьи        5000 non-null   int64  \n",
      " 4   Страховые выплаты  5000 non-null   int64  \n",
      "dtypes: float64(2), int64(3)\n",
      "memory usage: 195.4 KB\n"
     ]
    }
   ],
   "source": [
    "data.info()"
   ]
  },
  {
   "cell_type": "code",
   "execution_count": 5,
   "metadata": {},
   "outputs": [
    {
     "data": {
      "text/html": [
       "<div>\n",
       "<style scoped>\n",
       "    .dataframe tbody tr th:only-of-type {\n",
       "        vertical-align: middle;\n",
       "    }\n",
       "\n",
       "    .dataframe tbody tr th {\n",
       "        vertical-align: top;\n",
       "    }\n",
       "\n",
       "    .dataframe thead th {\n",
       "        text-align: right;\n",
       "    }\n",
       "</style>\n",
       "<table border=\"1\" class=\"dataframe\">\n",
       "  <thead>\n",
       "    <tr style=\"text-align: right;\">\n",
       "      <th></th>\n",
       "      <th>Пол</th>\n",
       "      <th>Возраст</th>\n",
       "      <th>Зарплата</th>\n",
       "      <th>Члены семьи</th>\n",
       "      <th>Страховые выплаты</th>\n",
       "    </tr>\n",
       "  </thead>\n",
       "  <tbody>\n",
       "    <tr>\n",
       "      <th>count</th>\n",
       "      <td>5000.000000</td>\n",
       "      <td>5000.000000</td>\n",
       "      <td>5000.000000</td>\n",
       "      <td>5000.000000</td>\n",
       "      <td>5000.000000</td>\n",
       "    </tr>\n",
       "    <tr>\n",
       "      <th>mean</th>\n",
       "      <td>0.499000</td>\n",
       "      <td>30.952800</td>\n",
       "      <td>39916.360000</td>\n",
       "      <td>1.194200</td>\n",
       "      <td>0.148000</td>\n",
       "    </tr>\n",
       "    <tr>\n",
       "      <th>std</th>\n",
       "      <td>0.500049</td>\n",
       "      <td>8.440807</td>\n",
       "      <td>9900.083569</td>\n",
       "      <td>1.091387</td>\n",
       "      <td>0.463183</td>\n",
       "    </tr>\n",
       "    <tr>\n",
       "      <th>min</th>\n",
       "      <td>0.000000</td>\n",
       "      <td>18.000000</td>\n",
       "      <td>5300.000000</td>\n",
       "      <td>0.000000</td>\n",
       "      <td>0.000000</td>\n",
       "    </tr>\n",
       "    <tr>\n",
       "      <th>25%</th>\n",
       "      <td>0.000000</td>\n",
       "      <td>24.000000</td>\n",
       "      <td>33300.000000</td>\n",
       "      <td>0.000000</td>\n",
       "      <td>0.000000</td>\n",
       "    </tr>\n",
       "    <tr>\n",
       "      <th>50%</th>\n",
       "      <td>0.000000</td>\n",
       "      <td>30.000000</td>\n",
       "      <td>40200.000000</td>\n",
       "      <td>1.000000</td>\n",
       "      <td>0.000000</td>\n",
       "    </tr>\n",
       "    <tr>\n",
       "      <th>75%</th>\n",
       "      <td>1.000000</td>\n",
       "      <td>37.000000</td>\n",
       "      <td>46600.000000</td>\n",
       "      <td>2.000000</td>\n",
       "      <td>0.000000</td>\n",
       "    </tr>\n",
       "    <tr>\n",
       "      <th>max</th>\n",
       "      <td>1.000000</td>\n",
       "      <td>65.000000</td>\n",
       "      <td>79000.000000</td>\n",
       "      <td>6.000000</td>\n",
       "      <td>5.000000</td>\n",
       "    </tr>\n",
       "  </tbody>\n",
       "</table>\n",
       "</div>"
      ],
      "text/plain": [
       "               Пол      Возраст      Зарплата  Члены семьи  Страховые выплаты\n",
       "count  5000.000000  5000.000000   5000.000000  5000.000000        5000.000000\n",
       "mean      0.499000    30.952800  39916.360000     1.194200           0.148000\n",
       "std       0.500049     8.440807   9900.083569     1.091387           0.463183\n",
       "min       0.000000    18.000000   5300.000000     0.000000           0.000000\n",
       "25%       0.000000    24.000000  33300.000000     0.000000           0.000000\n",
       "50%       0.000000    30.000000  40200.000000     1.000000           0.000000\n",
       "75%       1.000000    37.000000  46600.000000     2.000000           0.000000\n",
       "max       1.000000    65.000000  79000.000000     6.000000           5.000000"
      ]
     },
     "execution_count": 5,
     "metadata": {},
     "output_type": "execute_result"
    }
   ],
   "source": [
    "data.describe()"
   ]
  },
  {
   "cell_type": "markdown",
   "metadata": {},
   "source": [
    "## Умножение матриц"
   ]
  },
  {
   "cell_type": "markdown",
   "metadata": {},
   "source": [
    "В этом задании вы можете записывать формулы в *Jupyter Notebook.*\n",
    "\n",
    "Чтобы записать формулу внутри текста, окружите её символами доллара \\\\$; если снаружи —  двойными символами \\\\$\\\\$. Эти формулы записываются на языке вёрстки *LaTeX.* \n",
    "\n",
    "Для примера мы записали формулы линейной регрессии. Можете их скопировать и отредактировать, чтобы решить задачу.\n",
    "\n",
    "Работать в *LaTeX* необязательно."
   ]
  },
  {
   "cell_type": "markdown",
   "metadata": {},
   "source": [
    "Обозначения:\n",
    "\n",
    "- $X$ — матрица признаков (нулевой столбец состоит из единиц)\n",
    "\n",
    "- $\\tilde{X}$ — матрица признаков после преобразования\n",
    "\n",
    "- $y$ — вектор целевого признака\n",
    "\n",
    "- $P$ — матрица преобразования, на которую умножаются признаки\n",
    "\n",
    "- $w$ — вектор весов линейной регрессии (нулевой элемент равен сдвигу)\n",
    "\n",
    "- $\\tilde{w}$ — вектор весов линейной регрессии после преобразования\n",
    "\n",
    "- $a$ — вектор предсказаний линейной регрессии\n",
    "\n",
    "- $\\tilde{a}$ — вектор предсказаний линейной регрессии после преобразования"
   ]
  },
  {
   "cell_type": "markdown",
   "metadata": {},
   "source": [
    "Предсказания:\n",
    "\n",
    "$$\n",
    "a = Xw\n",
    "$$\n",
    "\n",
    "Задача обучения:\n",
    "\n",
    "$$\n",
    "w = \\arg\\min_w MSE(Xw, y)\n",
    "$$\n",
    "\n",
    "Формула обучения:\n",
    "\n",
    "$$\n",
    "w = (X^T X)^{-1} X^T y\n",
    "$$"
   ]
  },
  {
   "cell_type": "markdown",
   "metadata": {},
   "source": [
    "**Ответ:** Не изменится. Параметры линейной регрессии в исходной задаче и в преобразованной связаны следующим образом:  \n",
    "$$\n",
    "\\tilde{w} = P^{-1}w\n",
    "$$\n",
    "\n",
    "**Обоснование:** Пусть $X$ имеет размер $n \\times m$. По условию $P$ - обратимая матрица, а следовательно и квадратная размера $m \\times m$.\n",
    "\n",
    "Предсказания после преобразования:\n",
    "\n",
    "$$\n",
    "\\tilde{a} = \\tilde{X}\\tilde{w}\n",
    "$$\n",
    "\n",
    "Задача обучения после преобразования:\n",
    "\n",
    "$$\n",
    "\\tilde{w} = \\arg\\min_\\tilde{w} MSE(\\tilde{X}\\tilde{w}, y)\n",
    "$$\n",
    "\n",
    "Формула обучения после преобразования:\n",
    "\n",
    "$$\n",
    "\\tilde{w} = (\\tilde{X}^{T}\\tilde{X})^{-1}\\tilde{X}^{T}y \\\\\n",
    "\\tilde{w} = ((XP)^{T}XP)^{-1}(XP)^{T}y\n",
    "$$\n",
    "\n",
    "Применим свойство транспонированного произведения матриц:\n",
    "\n",
    "$$\n",
    "\\tilde{w} = (P^{T}X^{T}XP)^{-1}(XP)^{T}y \\\\\n",
    "\\tilde{w} = (P^{T}X^{T}XP)^{-1}P^{T}X^{T}y\n",
    "$$\n",
    "\n",
    "Можно заметить, что $P^{T}$, $X^{T}X$ и $P$ - квадратные обратимые матрицы размера $m \\times m$. Применим свойство обратимой матрицы для произведения:\n",
    "\n",
    "$$\n",
    "\\tilde{w} = P^{-1}(X^{T}X)^{-1}(P^{T})^{-1}P^{T}X^{T}y \\\\\n",
    "\\tilde{w} = P^{-1}(X^{T}X)^{-1}EX^{T}y \\\\\n",
    "\\tilde{w} = P^{-1}(X^{T}X)^{-1}X^{T}y \\\\\n",
    "\\tilde{w} = P^{-1}w\n",
    "$$\n",
    "\n",
    "Подставим полученное выражение в формулу для предсказания:\n",
    "\n",
    "$$\n",
    "\\tilde{a} = \\tilde{X}\\tilde{w} \\\\\n",
    "\\tilde{a} = XPP^{-1}w \\\\\n",
    "\\tilde{a} = XEw \\\\\n",
    "\\tilde{a} = Xw \\\\\n",
    "\\tilde{a} = a \\\\\n",
    "$$\n",
    "\n",
    "Таким образом качество линейной регрессии не изменится."
   ]
  },
  {
   "cell_type": "markdown",
   "metadata": {},
   "source": [
    "## Алгоритм преобразования"
   ]
  },
  {
   "cell_type": "markdown",
   "metadata": {},
   "source": [
    "**Алгоритм:** В качестве алгоритма преобразования предлагается умножение матрицы признаков на обратимую квадратную матрицу. Сгенерируем матрицу преобразований случайным образом так, что $P_{i,j} \\sim \\mathcal{N}(0, 1)$.\n",
    "\n",
    "**Шаги:**  \n",
    "1) Бесконечный цикл `while`, для которого единственным условием выхода будет успешная проверка случайно сгенерированной матрицы на обратимость  \n",
    "2) На очередной итерации цикла сгенерируем матрицу `P` с размером равным ширине матрицы признаков случайным образом  \n",
    "3) Проверим матрицу `P` на обратимость при помощи функции `np.linalg.inv`. Существуют и другие способы проверки матрицы на обратимость, например подсчёт детерминанта матрицы или числа обусловленности, но пока мы ограничимся способом, который был предложен в теории курса  \n",
    "4) Если сгенерировалась необратимая матрица, тогда функция `np.linalg.inv` выдаст ошибку, на экран напечатается соответствующее сообщение и цикл продолжит свою работу  \n",
    "5) Если сгенерировалась обратимая матрица, тогда функция `np.linalg.inv` успешно выполнится и цикл `while` будет прерван при помощи `break`  \n",
    "6) Сформируем матрицу $\\tilde{X}$ на основе сгенерированной матрицы $P$  \n",
    "7) Подсчитаем вектор весов $\\tilde{w}$ по соответсвующей формуле и сохраним его в качестве атрибута модели"
   ]
  },
  {
   "cell_type": "code",
   "execution_count": 6,
   "metadata": {},
   "outputs": [],
   "source": [
    "class LinearRegression:\n",
    "    \"\"\"Класс линейной регрессии\"\"\"\n",
    "    def __init__(self, encrypted=False):\n",
    "        \"\"\"Метод создания объекта линейной регрессии (с шифрованием)\"\"\"\n",
    "        self._encrypted = encrypted\n",
    "        \n",
    "    def fit(self, X, y):\n",
    "        \"\"\"Метод обучения модели для матрицы признаков\"\"\"\n",
    "        if self._encrypted:\n",
    "            while True:\n",
    "                try:\n",
    "                    # Случайным образом формируем матрицу преобразований\n",
    "                    self.P = np.random.normal(0, 1, (X.shape[1], X.shape[1]))\n",
    "                    np.linalg.inv(self.P)\n",
    "                    X = X @ self.P\n",
    "                    break\n",
    "                except np.linalg.LinAlgError:\n",
    "                    print(\"Матрица преобразования необратима\")\n",
    "                \n",
    "        # Формируем матрицу X с первым единичным полем\n",
    "        X = np.concatenate((np.ones((X.shape[0], 1)), X), axis=1)\n",
    "        # Найдём вектор весов по формуле\n",
    "        self.w = np.linalg.inv(X.T @ X) @ X.T @ y\n",
    "\n",
    "    def predict(self, X):\n",
    "        \"\"\"Метод получения прогноза для матрицы признаков\"\"\"\n",
    "        if self._encrypted:\n",
    "            X = X @ self.P\n",
    "            \n",
    "        X = np.concatenate((np.ones((X.shape[0], 1)), X), axis=1)\n",
    "        return X @ self.w "
   ]
  },
  {
   "cell_type": "markdown",
   "metadata": {},
   "source": [
    "**Обоснование:** Необратимые матрицы встречаются редко. Если сгенерировать случайную матрицу функцией `numpy.random.normal`, то вероятность получить необратимую матрицу близка к нулю.\n",
    "Найти обратную матрицу можно при помощи функции `numpy.linalg.inv`. Также она поможет проверить матрицу на обратимость: если матрица необратима, будет обнаружена ошибка."
   ]
  },
  {
   "cell_type": "markdown",
   "metadata": {},
   "source": [
    "## Проверка алгоритма"
   ]
  },
  {
   "cell_type": "markdown",
   "metadata": {},
   "source": [
    "Убедимся, что качество моделей одинаково."
   ]
  },
  {
   "cell_type": "code",
   "execution_count": 7,
   "metadata": {},
   "outputs": [
    {
     "data": {
      "text/html": [
       "<div>\n",
       "<style scoped>\n",
       "    .dataframe tbody tr th:only-of-type {\n",
       "        vertical-align: middle;\n",
       "    }\n",
       "\n",
       "    .dataframe tbody tr th {\n",
       "        vertical-align: top;\n",
       "    }\n",
       "\n",
       "    .dataframe thead th {\n",
       "        text-align: right;\n",
       "    }\n",
       "</style>\n",
       "<table border=\"1\" class=\"dataframe\">\n",
       "  <thead>\n",
       "    <tr style=\"text-align: right;\">\n",
       "      <th></th>\n",
       "      <th>R2 score</th>\n",
       "    </tr>\n",
       "  </thead>\n",
       "  <tbody>\n",
       "    <tr>\n",
       "      <th>Линейная регрессия</th>\n",
       "      <td>0.4104</td>\n",
       "    </tr>\n",
       "    <tr>\n",
       "      <th>Линейная регрессия c шифрованием</th>\n",
       "      <td>0.4104</td>\n",
       "    </tr>\n",
       "  </tbody>\n",
       "</table>\n",
       "</div>"
      ],
      "text/plain": [
       "                                  R2 score\n",
       "Линейная регрессия                  0.4104\n",
       "Линейная регрессия c шифрованием    0.4104"
      ]
     },
     "metadata": {},
     "output_type": "display_data"
    }
   ],
   "source": [
    "features = data.drop('Страховые выплаты', axis=1)\n",
    "target = data['Страховые выплаты']\n",
    "\n",
    "features_train, features_test, target_train, target_test = train_test_split(features, target, test_size=0.25)\n",
    "\n",
    "model = LinearRegression()\n",
    "model.fit(features_train, target_train)\n",
    "predictions = model.predict(features_test)\n",
    "\n",
    "encrypted_model = LinearRegression(encrypted=True)\n",
    "encrypted_model.fit(features_train, target_train)\n",
    "encrypted_predictions = model.predict(features_test)\n",
    "\n",
    "with pd.option_context('display.float_format', '{:0.4f}'.format):\n",
    "    display(pd.DataFrame(data=[r2_score(target_test, predictions), r2_score(target_test, encrypted_predictions)], \n",
    "                         columns=['R2 score'], \n",
    "                         index=['Линейная регрессия', 'Линейная регрессия c шифрованием']))"
   ]
  },
  {
   "cell_type": "markdown",
   "metadata": {},
   "source": [
    "Метрики `R2` обеих моделей совпали. Это подтверждает наше утверждение, что умножение матрицы признаков на случайную квадратную матрицу для шифрования данных не влияет на качество оценки модели машинного обучения."
   ]
  },
  {
   "cell_type": "markdown",
   "metadata": {},
   "source": [
    "## Расшифровка данных"
   ]
  },
  {
   "cell_type": "markdown",
   "metadata": {},
   "source": [
    "Убедимся, что после шифрования можно успешно восстановить изначальные данные. Для начала зашифруем матрицу признаков при помощи матрицы преобразования сгенерированной при обучении модели"
   ]
  },
  {
   "cell_type": "code",
   "execution_count": 8,
   "metadata": {},
   "outputs": [
    {
     "data": {
      "text/html": [
       "<div>\n",
       "<style scoped>\n",
       "    .dataframe tbody tr th:only-of-type {\n",
       "        vertical-align: middle;\n",
       "    }\n",
       "\n",
       "    .dataframe tbody tr th {\n",
       "        vertical-align: top;\n",
       "    }\n",
       "\n",
       "    .dataframe thead th {\n",
       "        text-align: right;\n",
       "    }\n",
       "</style>\n",
       "<table border=\"1\" class=\"dataframe\">\n",
       "  <thead>\n",
       "    <tr style=\"text-align: right;\">\n",
       "      <th></th>\n",
       "      <th>Пол</th>\n",
       "      <th>Возраст</th>\n",
       "      <th>Зарплата</th>\n",
       "      <th>Члены семьи</th>\n",
       "    </tr>\n",
       "  </thead>\n",
       "  <tbody>\n",
       "    <tr>\n",
       "      <th>4415</th>\n",
       "      <td>1</td>\n",
       "      <td>19.0000</td>\n",
       "      <td>46600.0000</td>\n",
       "      <td>2</td>\n",
       "    </tr>\n",
       "    <tr>\n",
       "      <th>1740</th>\n",
       "      <td>0</td>\n",
       "      <td>36.0000</td>\n",
       "      <td>41000.0000</td>\n",
       "      <td>1</td>\n",
       "    </tr>\n",
       "    <tr>\n",
       "      <th>2454</th>\n",
       "      <td>1</td>\n",
       "      <td>53.0000</td>\n",
       "      <td>50900.0000</td>\n",
       "      <td>1</td>\n",
       "    </tr>\n",
       "    <tr>\n",
       "      <th>3818</th>\n",
       "      <td>1</td>\n",
       "      <td>37.0000</td>\n",
       "      <td>30700.0000</td>\n",
       "      <td>1</td>\n",
       "    </tr>\n",
       "    <tr>\n",
       "      <th>475</th>\n",
       "      <td>1</td>\n",
       "      <td>23.0000</td>\n",
       "      <td>35500.0000</td>\n",
       "      <td>2</td>\n",
       "    </tr>\n",
       "    <tr>\n",
       "      <th>...</th>\n",
       "      <td>...</td>\n",
       "      <td>...</td>\n",
       "      <td>...</td>\n",
       "      <td>...</td>\n",
       "    </tr>\n",
       "    <tr>\n",
       "      <th>1823</th>\n",
       "      <td>1</td>\n",
       "      <td>25.0000</td>\n",
       "      <td>27900.0000</td>\n",
       "      <td>0</td>\n",
       "    </tr>\n",
       "    <tr>\n",
       "      <th>3219</th>\n",
       "      <td>0</td>\n",
       "      <td>37.0000</td>\n",
       "      <td>49200.0000</td>\n",
       "      <td>0</td>\n",
       "    </tr>\n",
       "    <tr>\n",
       "      <th>4502</th>\n",
       "      <td>1</td>\n",
       "      <td>22.0000</td>\n",
       "      <td>26800.0000</td>\n",
       "      <td>2</td>\n",
       "    </tr>\n",
       "    <tr>\n",
       "      <th>1954</th>\n",
       "      <td>0</td>\n",
       "      <td>26.0000</td>\n",
       "      <td>48700.0000</td>\n",
       "      <td>2</td>\n",
       "    </tr>\n",
       "    <tr>\n",
       "      <th>1252</th>\n",
       "      <td>0</td>\n",
       "      <td>25.0000</td>\n",
       "      <td>57000.0000</td>\n",
       "      <td>1</td>\n",
       "    </tr>\n",
       "  </tbody>\n",
       "</table>\n",
       "<p>3750 rows × 4 columns</p>\n",
       "</div>"
      ],
      "text/plain": [
       "      Пол  Возраст   Зарплата  Члены семьи\n",
       "4415    1  19.0000 46600.0000            2\n",
       "1740    0  36.0000 41000.0000            1\n",
       "2454    1  53.0000 50900.0000            1\n",
       "3818    1  37.0000 30700.0000            1\n",
       "475     1  23.0000 35500.0000            2\n",
       "...   ...      ...        ...          ...\n",
       "1823    1  25.0000 27900.0000            0\n",
       "3219    0  37.0000 49200.0000            0\n",
       "4502    1  22.0000 26800.0000            2\n",
       "1954    0  26.0000 48700.0000            2\n",
       "1252    0  25.0000 57000.0000            1\n",
       "\n",
       "[3750 rows x 4 columns]"
      ]
     },
     "metadata": {},
     "output_type": "display_data"
    },
    {
     "data": {
      "text/html": [
       "<div>\n",
       "<style scoped>\n",
       "    .dataframe tbody tr th:only-of-type {\n",
       "        vertical-align: middle;\n",
       "    }\n",
       "\n",
       "    .dataframe tbody tr th {\n",
       "        vertical-align: top;\n",
       "    }\n",
       "\n",
       "    .dataframe thead th {\n",
       "        text-align: right;\n",
       "    }\n",
       "</style>\n",
       "<table border=\"1\" class=\"dataframe\">\n",
       "  <thead>\n",
       "    <tr style=\"text-align: right;\">\n",
       "      <th></th>\n",
       "      <th>0</th>\n",
       "      <th>1</th>\n",
       "      <th>2</th>\n",
       "      <th>3</th>\n",
       "    </tr>\n",
       "  </thead>\n",
       "  <tbody>\n",
       "    <tr>\n",
       "      <th>4415</th>\n",
       "      <td>-27147.0391</td>\n",
       "      <td>20534.2935</td>\n",
       "      <td>57924.6737</td>\n",
       "      <td>16476.6381</td>\n",
       "    </tr>\n",
       "    <tr>\n",
       "      <th>1740</th>\n",
       "      <td>-23897.3473</td>\n",
       "      <td>18049.3469</td>\n",
       "      <td>50979.6771</td>\n",
       "      <td>14498.5289</td>\n",
       "    </tr>\n",
       "    <tr>\n",
       "      <th>2454</th>\n",
       "      <td>-29674.9969</td>\n",
       "      <td>22400.0216</td>\n",
       "      <td>63294.8662</td>\n",
       "      <td>17999.6473</td>\n",
       "    </tr>\n",
       "    <tr>\n",
       "      <th>3818</th>\n",
       "      <td>-17901.8402</td>\n",
       "      <td>13505.0591</td>\n",
       "      <td>38179.3645</td>\n",
       "      <td>10855.3259</td>\n",
       "    </tr>\n",
       "    <tr>\n",
       "      <th>475</th>\n",
       "      <td>-20686.3021</td>\n",
       "      <td>15634.2678</td>\n",
       "      <td>44133.5137</td>\n",
       "      <td>12550.7483</td>\n",
       "    </tr>\n",
       "    <tr>\n",
       "      <th>...</th>\n",
       "      <td>...</td>\n",
       "      <td>...</td>\n",
       "      <td>...</td>\n",
       "      <td>...</td>\n",
       "    </tr>\n",
       "    <tr>\n",
       "      <th>1823</th>\n",
       "      <td>-16264.3398</td>\n",
       "      <td>12282.8466</td>\n",
       "      <td>34690.4804</td>\n",
       "      <td>9867.3697</td>\n",
       "    </tr>\n",
       "    <tr>\n",
       "      <th>3219</th>\n",
       "      <td>-28673.8778</td>\n",
       "      <td>21666.8373</td>\n",
       "      <td>61170.8802</td>\n",
       "      <td>17401.0281</td>\n",
       "    </tr>\n",
       "    <tr>\n",
       "      <th>4502</th>\n",
       "      <td>-15619.6783</td>\n",
       "      <td>11797.6508</td>\n",
       "      <td>33321.0154</td>\n",
       "      <td>9473.7156</td>\n",
       "    </tr>\n",
       "    <tr>\n",
       "      <th>1954</th>\n",
       "      <td>-28373.1693</td>\n",
       "      <td>21453.9312</td>\n",
       "      <td>60540.8395</td>\n",
       "      <td>17219.6146</td>\n",
       "    </tr>\n",
       "    <tr>\n",
       "      <th>1252</th>\n",
       "      <td>-33206.5734</td>\n",
       "      <td>25117.4389</td>\n",
       "      <td>70854.7623</td>\n",
       "      <td>20157.4897</td>\n",
       "    </tr>\n",
       "  </tbody>\n",
       "</table>\n",
       "<p>3750 rows × 4 columns</p>\n",
       "</div>"
      ],
      "text/plain": [
       "               0          1          2          3\n",
       "4415 -27147.0391 20534.2935 57924.6737 16476.6381\n",
       "1740 -23897.3473 18049.3469 50979.6771 14498.5289\n",
       "2454 -29674.9969 22400.0216 63294.8662 17999.6473\n",
       "3818 -17901.8402 13505.0591 38179.3645 10855.3259\n",
       "475  -20686.3021 15634.2678 44133.5137 12550.7483\n",
       "...          ...        ...        ...        ...\n",
       "1823 -16264.3398 12282.8466 34690.4804  9867.3697\n",
       "3219 -28673.8778 21666.8373 61170.8802 17401.0281\n",
       "4502 -15619.6783 11797.6508 33321.0154  9473.7156\n",
       "1954 -28373.1693 21453.9312 60540.8395 17219.6146\n",
       "1252 -33206.5734 25117.4389 70854.7623 20157.4897\n",
       "\n",
       "[3750 rows x 4 columns]"
      ]
     },
     "metadata": {},
     "output_type": "display_data"
    }
   ],
   "source": [
    "encrypted_train = features_train @ encrypted_model.P\n",
    "\n",
    "with pd.option_context('display.float_format', '{:0.4f}'.format):\n",
    "    display(features_train)\n",
    "    display(encrypted_train)"
   ]
  },
  {
   "cell_type": "markdown",
   "metadata": {},
   "source": [
    "Можно заметить, что зашифрованные данные сильно отличаются от изначального набора данных. Теперь перейдём к расшифровке при помощи умножения на обратную матрицу"
   ]
  },
  {
   "cell_type": "code",
   "execution_count": 9,
   "metadata": {
    "scrolled": true
   },
   "outputs": [
    {
     "name": "stdout",
     "output_type": "stream",
     "text": [
      "Тренировочный и расшифрованный наборы данных совпадают с достаточно большой точностью\n"
     ]
    },
    {
     "data": {
      "text/html": [
       "<div>\n",
       "<style scoped>\n",
       "    .dataframe tbody tr th:only-of-type {\n",
       "        vertical-align: middle;\n",
       "    }\n",
       "\n",
       "    .dataframe tbody tr th {\n",
       "        vertical-align: top;\n",
       "    }\n",
       "\n",
       "    .dataframe thead th {\n",
       "        text-align: right;\n",
       "    }\n",
       "</style>\n",
       "<table border=\"1\" class=\"dataframe\">\n",
       "  <thead>\n",
       "    <tr style=\"text-align: right;\">\n",
       "      <th></th>\n",
       "      <th>Пол</th>\n",
       "      <th>Возраст</th>\n",
       "      <th>Зарплата</th>\n",
       "      <th>Члены семьи</th>\n",
       "    </tr>\n",
       "  </thead>\n",
       "  <tbody>\n",
       "    <tr>\n",
       "      <th>4415</th>\n",
       "      <td>1</td>\n",
       "      <td>19.0000</td>\n",
       "      <td>46600.0000</td>\n",
       "      <td>2</td>\n",
       "    </tr>\n",
       "    <tr>\n",
       "      <th>1740</th>\n",
       "      <td>0</td>\n",
       "      <td>36.0000</td>\n",
       "      <td>41000.0000</td>\n",
       "      <td>1</td>\n",
       "    </tr>\n",
       "    <tr>\n",
       "      <th>2454</th>\n",
       "      <td>1</td>\n",
       "      <td>53.0000</td>\n",
       "      <td>50900.0000</td>\n",
       "      <td>1</td>\n",
       "    </tr>\n",
       "    <tr>\n",
       "      <th>3818</th>\n",
       "      <td>1</td>\n",
       "      <td>37.0000</td>\n",
       "      <td>30700.0000</td>\n",
       "      <td>1</td>\n",
       "    </tr>\n",
       "    <tr>\n",
       "      <th>475</th>\n",
       "      <td>1</td>\n",
       "      <td>23.0000</td>\n",
       "      <td>35500.0000</td>\n",
       "      <td>2</td>\n",
       "    </tr>\n",
       "    <tr>\n",
       "      <th>...</th>\n",
       "      <td>...</td>\n",
       "      <td>...</td>\n",
       "      <td>...</td>\n",
       "      <td>...</td>\n",
       "    </tr>\n",
       "    <tr>\n",
       "      <th>1823</th>\n",
       "      <td>1</td>\n",
       "      <td>25.0000</td>\n",
       "      <td>27900.0000</td>\n",
       "      <td>0</td>\n",
       "    </tr>\n",
       "    <tr>\n",
       "      <th>3219</th>\n",
       "      <td>0</td>\n",
       "      <td>37.0000</td>\n",
       "      <td>49200.0000</td>\n",
       "      <td>0</td>\n",
       "    </tr>\n",
       "    <tr>\n",
       "      <th>4502</th>\n",
       "      <td>1</td>\n",
       "      <td>22.0000</td>\n",
       "      <td>26800.0000</td>\n",
       "      <td>2</td>\n",
       "    </tr>\n",
       "    <tr>\n",
       "      <th>1954</th>\n",
       "      <td>0</td>\n",
       "      <td>26.0000</td>\n",
       "      <td>48700.0000</td>\n",
       "      <td>2</td>\n",
       "    </tr>\n",
       "    <tr>\n",
       "      <th>1252</th>\n",
       "      <td>0</td>\n",
       "      <td>25.0000</td>\n",
       "      <td>57000.0000</td>\n",
       "      <td>1</td>\n",
       "    </tr>\n",
       "  </tbody>\n",
       "</table>\n",
       "<p>3750 rows × 4 columns</p>\n",
       "</div>"
      ],
      "text/plain": [
       "      Пол  Возраст   Зарплата  Члены семьи\n",
       "4415    1  19.0000 46600.0000            2\n",
       "1740    0  36.0000 41000.0000            1\n",
       "2454    1  53.0000 50900.0000            1\n",
       "3818    1  37.0000 30700.0000            1\n",
       "475     1  23.0000 35500.0000            2\n",
       "...   ...      ...        ...          ...\n",
       "1823    1  25.0000 27900.0000            0\n",
       "3219    0  37.0000 49200.0000            0\n",
       "4502    1  22.0000 26800.0000            2\n",
       "1954    0  26.0000 48700.0000            2\n",
       "1252    0  25.0000 57000.0000            1\n",
       "\n",
       "[3750 rows x 4 columns]"
      ]
     },
     "metadata": {},
     "output_type": "display_data"
    },
    {
     "data": {
      "text/html": [
       "<div>\n",
       "<style scoped>\n",
       "    .dataframe tbody tr th:only-of-type {\n",
       "        vertical-align: middle;\n",
       "    }\n",
       "\n",
       "    .dataframe tbody tr th {\n",
       "        vertical-align: top;\n",
       "    }\n",
       "\n",
       "    .dataframe thead th {\n",
       "        text-align: right;\n",
       "    }\n",
       "</style>\n",
       "<table border=\"1\" class=\"dataframe\">\n",
       "  <thead>\n",
       "    <tr style=\"text-align: right;\">\n",
       "      <th></th>\n",
       "      <th>0</th>\n",
       "      <th>1</th>\n",
       "      <th>2</th>\n",
       "      <th>3</th>\n",
       "    </tr>\n",
       "  </thead>\n",
       "  <tbody>\n",
       "    <tr>\n",
       "      <th>4415</th>\n",
       "      <td>1.0000</td>\n",
       "      <td>19.0000</td>\n",
       "      <td>46600.0000</td>\n",
       "      <td>2.0000</td>\n",
       "    </tr>\n",
       "    <tr>\n",
       "      <th>1740</th>\n",
       "      <td>-0.0000</td>\n",
       "      <td>36.0000</td>\n",
       "      <td>41000.0000</td>\n",
       "      <td>1.0000</td>\n",
       "    </tr>\n",
       "    <tr>\n",
       "      <th>2454</th>\n",
       "      <td>1.0000</td>\n",
       "      <td>53.0000</td>\n",
       "      <td>50900.0000</td>\n",
       "      <td>1.0000</td>\n",
       "    </tr>\n",
       "    <tr>\n",
       "      <th>3818</th>\n",
       "      <td>1.0000</td>\n",
       "      <td>37.0000</td>\n",
       "      <td>30700.0000</td>\n",
       "      <td>1.0000</td>\n",
       "    </tr>\n",
       "    <tr>\n",
       "      <th>475</th>\n",
       "      <td>1.0000</td>\n",
       "      <td>23.0000</td>\n",
       "      <td>35500.0000</td>\n",
       "      <td>2.0000</td>\n",
       "    </tr>\n",
       "    <tr>\n",
       "      <th>...</th>\n",
       "      <td>...</td>\n",
       "      <td>...</td>\n",
       "      <td>...</td>\n",
       "      <td>...</td>\n",
       "    </tr>\n",
       "    <tr>\n",
       "      <th>1823</th>\n",
       "      <td>1.0000</td>\n",
       "      <td>25.0000</td>\n",
       "      <td>27900.0000</td>\n",
       "      <td>-0.0000</td>\n",
       "    </tr>\n",
       "    <tr>\n",
       "      <th>3219</th>\n",
       "      <td>-0.0000</td>\n",
       "      <td>37.0000</td>\n",
       "      <td>49200.0000</td>\n",
       "      <td>-0.0000</td>\n",
       "    </tr>\n",
       "    <tr>\n",
       "      <th>4502</th>\n",
       "      <td>1.0000</td>\n",
       "      <td>22.0000</td>\n",
       "      <td>26800.0000</td>\n",
       "      <td>2.0000</td>\n",
       "    </tr>\n",
       "    <tr>\n",
       "      <th>1954</th>\n",
       "      <td>-0.0000</td>\n",
       "      <td>26.0000</td>\n",
       "      <td>48700.0000</td>\n",
       "      <td>2.0000</td>\n",
       "    </tr>\n",
       "    <tr>\n",
       "      <th>1252</th>\n",
       "      <td>0.0000</td>\n",
       "      <td>25.0000</td>\n",
       "      <td>57000.0000</td>\n",
       "      <td>1.0000</td>\n",
       "    </tr>\n",
       "  </tbody>\n",
       "</table>\n",
       "<p>3750 rows × 4 columns</p>\n",
       "</div>"
      ],
      "text/plain": [
       "           0       1          2       3\n",
       "4415  1.0000 19.0000 46600.0000  2.0000\n",
       "1740 -0.0000 36.0000 41000.0000  1.0000\n",
       "2454  1.0000 53.0000 50900.0000  1.0000\n",
       "3818  1.0000 37.0000 30700.0000  1.0000\n",
       "475   1.0000 23.0000 35500.0000  2.0000\n",
       "...      ...     ...        ...     ...\n",
       "1823  1.0000 25.0000 27900.0000 -0.0000\n",
       "3219 -0.0000 37.0000 49200.0000 -0.0000\n",
       "4502  1.0000 22.0000 26800.0000  2.0000\n",
       "1954 -0.0000 26.0000 48700.0000  2.0000\n",
       "1252  0.0000 25.0000 57000.0000  1.0000\n",
       "\n",
       "[3750 rows x 4 columns]"
      ]
     },
     "metadata": {},
     "output_type": "display_data"
    }
   ],
   "source": [
    "decrypted_train = encrypted_train @ np.linalg.inv(encrypted_model.P)\n",
    "\n",
    "if np.allclose(features_train, decrypted_train):\n",
    "    print('Тренировочный и расшифрованный наборы данных совпадают с достаточно большой точностью')\n",
    "else:\n",
    "    print('Тренировочный и расшифрованный наборы данных не совпадают')\n",
    "    \n",
    "with pd.option_context('display.float_format', '{:0.4f}'.format):\n",
    "    display(features_train)\n",
    "    display(decrypted_train)"
   ]
  },
  {
   "cell_type": "markdown",
   "metadata": {},
   "source": [
    "## Вывод"
   ]
  },
  {
   "cell_type": "markdown",
   "metadata": {},
   "source": [
    "В ходе работы были проделаны следующие шаги:\n",
    "- Загрузили данные и провели небольшой разведочный анализ данных. В данных отсутствуют пропуски и аномальные значения\n",
    "- Строго доказали, что при умножении матрицы признаков на обратимую матрицу, качество линейной регрессии не изменится. А также показали как будут связаны параметры линейной регрессии в исходной задаче и в преобразованной ($\\tilde{w} = P^{-1}w$)\n",
    "- Предложили алгоритм преобразования по шагам при помощи изученной в теории функции `np.linalg.inv` и обосновали его. А также написали класс линейной регрессии, в который заложен данный алгоритм\n",
    "- Разделили данные на обучающую и тестовую выборки. Обучили две модели линейной регресси (без шифрования и с шифрованием) и проверили их метрики качества на тестовой выборке. Как и было доказано в теории результаты совпадают\n",
    "- Убедились, что после шифрования можно успешно восстановить изначальные данные"
   ]
  },
  {
   "cell_type": "markdown",
   "metadata": {},
   "source": [
    "## Чек-лист проверки"
   ]
  },
  {
   "cell_type": "markdown",
   "metadata": {},
   "source": [
    "Поставьте 'x' в выполненных пунктах. Далее нажмите Shift+Enter."
   ]
  },
  {
   "cell_type": "markdown",
   "metadata": {},
   "source": [
    "- [x]  Jupyter Notebook открыт\n",
    "- [x]  Весь код выполняется без ошибок\n",
    "- [x]  Ячейки с кодом расположены в порядке исполнения\n",
    "- [x]  Выполнен шаг 1: данные загружены\n",
    "- [x]  Выполнен шаг 2: получен ответ на вопрос об умножении матриц\n",
    "    - [x]  Указан правильный вариант ответа\n",
    "    - [x]  Вариант обоснован\n",
    "- [x]  Выполнен шаг 3: предложен алгоритм преобразования\n",
    "    - [x]  Алгоритм описан\n",
    "    - [x]  Алгоритм обоснован\n",
    "- [x]  Выполнен шаг 4: алгоритм проверен\n",
    "    - [x]  Алгоритм реализован\n",
    "    - [x]  Проведено сравнение качества моделей до и после преобразования"
   ]
  }
 ],
 "metadata": {
  "ExecuteTimeLog": [
   {
    "duration": 43,
    "start_time": "2023-12-14T10:26:32.471Z"
   },
   {
    "duration": 1438,
    "start_time": "2023-12-14T10:26:44.182Z"
   },
   {
    "duration": 76,
    "start_time": "2023-12-14T10:26:49.906Z"
   },
   {
    "duration": 51,
    "start_time": "2023-12-16T17:02:24.735Z"
   },
   {
    "duration": 1642,
    "start_time": "2023-12-16T17:02:29.392Z"
   },
   {
    "duration": 4,
    "start_time": "2023-12-16T17:02:33.034Z"
   },
   {
    "duration": 4,
    "start_time": "2023-12-16T17:02:40.130Z"
   },
   {
    "duration": 5,
    "start_time": "2023-12-16T17:02:52.667Z"
   },
   {
    "duration": 4,
    "start_time": "2023-12-16T17:03:12.112Z"
   },
   {
    "duration": 70,
    "start_time": "2023-12-16T19:33:33.958Z"
   },
   {
    "duration": 7,
    "start_time": "2023-12-16T19:48:14.193Z"
   },
   {
    "duration": 67,
    "start_time": "2023-12-16T20:04:21.108Z"
   },
   {
    "duration": 74,
    "start_time": "2023-12-16T20:04:23.709Z"
   },
   {
    "duration": 12,
    "start_time": "2023-12-16T20:04:23.844Z"
   },
   {
    "duration": 22,
    "start_time": "2023-12-16T20:04:40.836Z"
   },
   {
    "duration": 13,
    "start_time": "2023-12-16T20:04:52.284Z"
   },
   {
    "duration": 5,
    "start_time": "2023-12-16T20:05:01.557Z"
   },
   {
    "duration": 13,
    "start_time": "2023-12-16T20:05:35.260Z"
   },
   {
    "duration": 45,
    "start_time": "2023-12-16T20:05:44.628Z"
   },
   {
    "duration": 16,
    "start_time": "2023-12-16T20:05:47.687Z"
   },
   {
    "duration": 105,
    "start_time": "2023-12-16T20:06:50.392Z"
   },
   {
    "duration": 31,
    "start_time": "2023-12-16T20:06:55.372Z"
   },
   {
    "duration": 6,
    "start_time": "2023-12-16T20:07:36.374Z"
   },
   {
    "duration": 106,
    "start_time": "2023-12-16T20:07:38.981Z"
   },
   {
    "duration": 7,
    "start_time": "2023-12-16T20:07:49.902Z"
   },
   {
    "duration": 82,
    "start_time": "2023-12-16T20:07:52.013Z"
   },
   {
    "duration": 8,
    "start_time": "2023-12-16T20:07:58.877Z"
   },
   {
    "duration": 7,
    "start_time": "2023-12-16T20:08:00.005Z"
   },
   {
    "duration": 72,
    "start_time": "2023-12-16T20:08:00.725Z"
   },
   {
    "duration": 6,
    "start_time": "2023-12-16T20:08:07.173Z"
   },
   {
    "duration": 34,
    "start_time": "2023-12-16T20:08:08.158Z"
   },
   {
    "duration": 7,
    "start_time": "2023-12-16T20:08:22.373Z"
   },
   {
    "duration": 36,
    "start_time": "2023-12-16T20:08:23.254Z"
   },
   {
    "duration": 7,
    "start_time": "2023-12-16T20:27:32.204Z"
   },
   {
    "duration": 13,
    "start_time": "2023-12-16T20:27:41.906Z"
   },
   {
    "duration": 15,
    "start_time": "2023-12-16T20:28:31.096Z"
   },
   {
    "duration": 9,
    "start_time": "2023-12-16T20:28:41.241Z"
   },
   {
    "duration": 10,
    "start_time": "2023-12-16T20:28:45.954Z"
   },
   {
    "duration": 36,
    "start_time": "2023-12-16T20:32:35.778Z"
   },
   {
    "duration": 5,
    "start_time": "2023-12-16T20:32:43.292Z"
   },
   {
    "duration": 11,
    "start_time": "2023-12-16T20:33:01.531Z"
   },
   {
    "duration": 21,
    "start_time": "2023-12-16T20:33:17.450Z"
   },
   {
    "duration": 10,
    "start_time": "2023-12-16T20:39:31.813Z"
   },
   {
    "duration": 5,
    "start_time": "2023-12-16T20:39:33.253Z"
   },
   {
    "duration": 3,
    "start_time": "2023-12-16T20:43:57.131Z"
   },
   {
    "duration": 5,
    "start_time": "2023-12-16T20:44:50.190Z"
   },
   {
    "duration": 11,
    "start_time": "2023-12-16T20:45:04.806Z"
   },
   {
    "duration": 3,
    "start_time": "2023-12-16T20:45:44.368Z"
   },
   {
    "duration": 16,
    "start_time": "2023-12-16T20:45:49.166Z"
   },
   {
    "duration": 3,
    "start_time": "2023-12-16T20:45:57.935Z"
   },
   {
    "duration": 10,
    "start_time": "2023-12-16T20:46:01.120Z"
   },
   {
    "duration": 3,
    "start_time": "2023-12-16T20:46:24.988Z"
   },
   {
    "duration": 5,
    "start_time": "2023-12-16T20:50:07.969Z"
   },
   {
    "duration": 5,
    "start_time": "2023-12-16T20:50:08.264Z"
   },
   {
    "duration": 5,
    "start_time": "2023-12-16T20:50:08.552Z"
   },
   {
    "duration": 10,
    "start_time": "2023-12-16T20:51:45.753Z"
   },
   {
    "duration": 8,
    "start_time": "2023-12-16T20:52:44.642Z"
   },
   {
    "duration": 8,
    "start_time": "2023-12-16T20:52:48.248Z"
   },
   {
    "duration": 11,
    "start_time": "2023-12-16T20:53:03.865Z"
   },
   {
    "duration": 8,
    "start_time": "2023-12-16T20:53:22.976Z"
   },
   {
    "duration": 8,
    "start_time": "2023-12-16T20:54:04.107Z"
   },
   {
    "duration": 9,
    "start_time": "2023-12-16T20:54:04.849Z"
   },
   {
    "duration": 7,
    "start_time": "2023-12-16T20:54:26.167Z"
   },
   {
    "duration": 8,
    "start_time": "2023-12-16T20:55:06.718Z"
   },
   {
    "duration": 8,
    "start_time": "2023-12-16T20:55:07.449Z"
   },
   {
    "duration": 8,
    "start_time": "2023-12-16T20:55:17.361Z"
   },
   {
    "duration": 8,
    "start_time": "2023-12-16T20:55:17.574Z"
   },
   {
    "duration": 9,
    "start_time": "2023-12-16T20:55:20.436Z"
   },
   {
    "duration": 8,
    "start_time": "2023-12-16T20:55:20.635Z"
   },
   {
    "duration": 8,
    "start_time": "2023-12-16T20:55:22.585Z"
   },
   {
    "duration": 8,
    "start_time": "2023-12-16T20:55:22.782Z"
   },
   {
    "duration": 9,
    "start_time": "2023-12-16T20:55:25.433Z"
   },
   {
    "duration": 8,
    "start_time": "2023-12-16T20:55:25.626Z"
   },
   {
    "duration": 8,
    "start_time": "2023-12-16T20:55:27.027Z"
   },
   {
    "duration": 9,
    "start_time": "2023-12-16T20:55:27.209Z"
   },
   {
    "duration": 9,
    "start_time": "2023-12-16T20:55:28.755Z"
   },
   {
    "duration": 8,
    "start_time": "2023-12-16T20:55:28.908Z"
   },
   {
    "duration": 9,
    "start_time": "2023-12-16T20:55:30.234Z"
   },
   {
    "duration": 8,
    "start_time": "2023-12-16T20:55:30.419Z"
   },
   {
    "duration": 8,
    "start_time": "2023-12-16T20:55:36.002Z"
   },
   {
    "duration": 8,
    "start_time": "2023-12-16T20:55:36.234Z"
   },
   {
    "duration": 10,
    "start_time": "2023-12-16T20:55:47.666Z"
   },
   {
    "duration": 69,
    "start_time": "2023-12-16T20:55:47.817Z"
   },
   {
    "duration": 11,
    "start_time": "2023-12-16T20:56:07.274Z"
   },
   {
    "duration": 45,
    "start_time": "2023-12-16T20:56:15.954Z"
   },
   {
    "duration": 75,
    "start_time": "2023-12-16T20:56:21.637Z"
   },
   {
    "duration": 43,
    "start_time": "2023-12-16T20:56:23.581Z"
   },
   {
    "duration": 9,
    "start_time": "2023-12-16T20:56:54.641Z"
   },
   {
    "duration": 9,
    "start_time": "2023-12-16T20:56:59.450Z"
   },
   {
    "duration": 20,
    "start_time": "2023-12-16T20:57:00.018Z"
   },
   {
    "duration": 2,
    "start_time": "2023-12-16T20:57:28.362Z"
   },
   {
    "duration": 28,
    "start_time": "2023-12-16T20:57:30.418Z"
   },
   {
    "duration": 8,
    "start_time": "2023-12-16T20:57:31.195Z"
   },
   {
    "duration": 9,
    "start_time": "2023-12-16T20:57:34.474Z"
   },
   {
    "duration": 20,
    "start_time": "2023-12-16T20:57:39.972Z"
   },
   {
    "duration": 1034,
    "start_time": "2023-12-16T20:58:53.666Z"
   },
   {
    "duration": 27,
    "start_time": "2023-12-16T20:59:03.283Z"
   },
   {
    "duration": 16,
    "start_time": "2023-12-16T20:59:05.147Z"
   },
   {
    "duration": 10,
    "start_time": "2023-12-16T20:59:05.477Z"
   },
   {
    "duration": 22,
    "start_time": "2023-12-16T20:59:05.836Z"
   },
   {
    "duration": 5,
    "start_time": "2023-12-16T21:02:06.729Z"
   },
   {
    "duration": 16,
    "start_time": "2023-12-16T21:02:53.893Z"
   },
   {
    "duration": 1022,
    "start_time": "2023-12-16T21:04:16.895Z"
   },
   {
    "duration": 28,
    "start_time": "2023-12-16T21:04:17.919Z"
   },
   {
    "duration": 14,
    "start_time": "2023-12-16T21:04:17.948Z"
   },
   {
    "duration": 11,
    "start_time": "2023-12-16T21:04:17.963Z"
   },
   {
    "duration": 25,
    "start_time": "2023-12-16T21:04:17.975Z"
   },
   {
    "duration": 5,
    "start_time": "2023-12-16T21:04:18.002Z"
   },
   {
    "duration": 18,
    "start_time": "2023-12-16T21:04:18.008Z"
   },
   {
    "duration": 1032,
    "start_time": "2023-12-16T21:04:57.261Z"
   },
   {
    "duration": 27,
    "start_time": "2023-12-16T21:04:58.295Z"
   },
   {
    "duration": 16,
    "start_time": "2023-12-16T21:04:58.324Z"
   },
   {
    "duration": 9,
    "start_time": "2023-12-16T21:04:58.342Z"
   },
   {
    "duration": 35,
    "start_time": "2023-12-16T21:04:58.352Z"
   },
   {
    "duration": 5,
    "start_time": "2023-12-16T21:04:58.388Z"
   },
   {
    "duration": 23,
    "start_time": "2023-12-16T21:04:58.395Z"
   },
   {
    "duration": 2681,
    "start_time": "2023-12-16T21:27:19.835Z"
   },
   {
    "duration": 30,
    "start_time": "2023-12-16T21:27:22.518Z"
   },
   {
    "duration": 14,
    "start_time": "2023-12-16T21:27:22.549Z"
   },
   {
    "duration": 12,
    "start_time": "2023-12-16T21:27:22.565Z"
   },
   {
    "duration": 19,
    "start_time": "2023-12-16T21:27:22.579Z"
   },
   {
    "duration": 5,
    "start_time": "2023-12-16T21:27:22.599Z"
   },
   {
    "duration": 24,
    "start_time": "2023-12-16T21:27:22.606Z"
   },
   {
    "duration": 74,
    "start_time": "2023-12-17T14:30:50.946Z"
   },
   {
    "duration": 41,
    "start_time": "2023-12-17T14:32:15.841Z"
   },
   {
    "duration": 1056,
    "start_time": "2023-12-17T14:32:19.629Z"
   },
   {
    "duration": 76,
    "start_time": "2023-12-17T14:32:20.687Z"
   },
   {
    "duration": 16,
    "start_time": "2023-12-17T14:32:20.765Z"
   },
   {
    "duration": 25,
    "start_time": "2023-12-17T14:32:20.782Z"
   },
   {
    "duration": 38,
    "start_time": "2023-12-17T14:32:20.808Z"
   },
   {
    "duration": 10,
    "start_time": "2023-12-17T14:32:20.847Z"
   },
   {
    "duration": 55,
    "start_time": "2023-12-17T14:32:20.859Z"
   },
   {
    "duration": 225,
    "start_time": "2023-12-17T14:32:20.915Z"
   },
   {
    "duration": 11,
    "start_time": "2023-12-17T14:32:30.011Z"
   },
   {
    "duration": 18,
    "start_time": "2023-12-17T14:39:10.433Z"
   },
   {
    "duration": 18,
    "start_time": "2023-12-17T14:39:28.492Z"
   },
   {
    "duration": 70,
    "start_time": "2023-12-17T14:42:18.222Z"
   },
   {
    "duration": 17,
    "start_time": "2023-12-17T14:42:48.277Z"
   },
   {
    "duration": 22,
    "start_time": "2023-12-17T14:42:56.751Z"
   },
   {
    "duration": 20,
    "start_time": "2023-12-17T14:43:51.662Z"
   },
   {
    "duration": 75,
    "start_time": "2023-12-17T14:43:59.222Z"
   },
   {
    "duration": 77,
    "start_time": "2023-12-17T14:44:08.526Z"
   },
   {
    "duration": 102,
    "start_time": "2023-12-17T14:44:13.288Z"
   },
   {
    "duration": 47,
    "start_time": "2023-12-17T14:44:48.543Z"
   },
   {
    "duration": 56,
    "start_time": "2023-12-17T14:46:11.432Z"
   },
   {
    "duration": 47,
    "start_time": "2023-12-17T14:46:26.942Z"
   },
   {
    "duration": 16,
    "start_time": "2023-12-17T14:46:51.960Z"
   },
   {
    "duration": 1125,
    "start_time": "2023-12-17T15:05:10.818Z"
   },
   {
    "duration": 29,
    "start_time": "2023-12-17T15:05:11.945Z"
   },
   {
    "duration": 18,
    "start_time": "2023-12-17T15:05:11.975Z"
   },
   {
    "duration": 20,
    "start_time": "2023-12-17T15:05:11.996Z"
   },
   {
    "duration": 37,
    "start_time": "2023-12-17T15:05:12.018Z"
   },
   {
    "duration": 10,
    "start_time": "2023-12-17T15:05:12.056Z"
   },
   {
    "duration": 59,
    "start_time": "2023-12-17T15:05:12.067Z"
   },
   {
    "duration": 171,
    "start_time": "2023-12-17T15:05:12.128Z"
   },
   {
    "duration": 105,
    "start_time": "2023-12-17T15:05:12.300Z"
   },
   {
    "duration": 58,
    "start_time": "2023-12-17T15:07:14.432Z"
   },
   {
    "duration": 1050,
    "start_time": "2023-12-17T15:07:22.083Z"
   },
   {
    "duration": 28,
    "start_time": "2023-12-17T15:07:23.135Z"
   },
   {
    "duration": 15,
    "start_time": "2023-12-17T15:07:23.165Z"
   },
   {
    "duration": 27,
    "start_time": "2023-12-17T15:07:23.182Z"
   },
   {
    "duration": 36,
    "start_time": "2023-12-17T15:07:23.210Z"
   },
   {
    "duration": 6,
    "start_time": "2023-12-17T15:07:23.248Z"
   },
   {
    "duration": 33,
    "start_time": "2023-12-17T15:07:23.255Z"
   },
   {
    "duration": 111,
    "start_time": "2023-12-17T15:07:23.290Z"
   },
   {
    "duration": 186,
    "start_time": "2023-12-17T15:07:23.403Z"
   },
   {
    "duration": 6,
    "start_time": "2023-12-17T15:12:46.215Z"
   },
   {
    "duration": 4337,
    "start_time": "2023-12-17T15:12:49.205Z"
   },
   {
    "duration": 6,
    "start_time": "2023-12-17T15:13:02.536Z"
   },
   {
    "duration": 1031,
    "start_time": "2023-12-17T15:13:05.507Z"
   },
   {
    "duration": 29,
    "start_time": "2023-12-17T15:13:06.540Z"
   },
   {
    "duration": 19,
    "start_time": "2023-12-17T15:13:06.570Z"
   },
   {
    "duration": 22,
    "start_time": "2023-12-17T15:13:06.591Z"
   },
   {
    "duration": 28,
    "start_time": "2023-12-17T15:13:06.615Z"
   },
   {
    "duration": 6,
    "start_time": "2023-12-17T15:13:06.644Z"
   },
   {
    "duration": 42,
    "start_time": "2023-12-17T15:13:06.651Z"
   },
   {
    "duration": 103,
    "start_time": "2023-12-17T15:13:06.696Z"
   },
   {
    "duration": 190,
    "start_time": "2023-12-17T15:13:06.801Z"
   },
   {
    "duration": 1021,
    "start_time": "2023-12-17T15:14:28.341Z"
   },
   {
    "duration": 30,
    "start_time": "2023-12-17T15:14:29.364Z"
   },
   {
    "duration": 14,
    "start_time": "2023-12-17T15:14:29.396Z"
   },
   {
    "duration": 24,
    "start_time": "2023-12-17T15:14:29.411Z"
   },
   {
    "duration": 20,
    "start_time": "2023-12-17T15:14:29.436Z"
   },
   {
    "duration": 6,
    "start_time": "2023-12-17T15:14:29.458Z"
   },
   {
    "duration": 32,
    "start_time": "2023-12-17T15:14:29.465Z"
   },
   {
    "duration": 189,
    "start_time": "2023-12-17T15:14:29.499Z"
   },
   {
    "duration": 19,
    "start_time": "2023-12-17T15:14:29.689Z"
   }
  ],
  "kernelspec": {
   "display_name": "Python 3 (ipykernel)",
   "language": "python",
   "name": "python3"
  },
  "language_info": {
   "codemirror_mode": {
    "name": "ipython",
    "version": 3
   },
   "file_extension": ".py",
   "mimetype": "text/x-python",
   "name": "python",
   "nbconvert_exporter": "python",
   "pygments_lexer": "ipython3",
   "version": "3.12.1"
  },
  "toc": {
   "base_numbering": 1,
   "nav_menu": {},
   "number_sections": true,
   "sideBar": true,
   "skip_h1_title": true,
   "title_cell": "Содержание",
   "title_sidebar": "Contents",
   "toc_cell": true,
   "toc_position": {},
   "toc_section_display": true,
   "toc_window_display": false
  }
 },
 "nbformat": 4,
 "nbformat_minor": 4
}
