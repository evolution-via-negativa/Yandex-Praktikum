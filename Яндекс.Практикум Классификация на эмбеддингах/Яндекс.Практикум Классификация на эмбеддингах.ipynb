{
 "cells": [
  {
   "cell_type": "markdown",
   "metadata": {
    "deletable": false,
    "editable": false,
    "tags": [
     "045a5103-bb0f-4fb7-835a-238e053b2157"
    ]
   },
   "source": [
    "# Классификация на эмбеддингах"
   ]
  },
  {
   "cell_type": "code",
   "execution_count": 16,
   "metadata": {},
   "outputs": [],
   "source": [
    "import numpy as np\n",
    "import pandas as pd\n",
    "import torch\n",
    "import transformers\n",
    "from tqdm import notebook\n",
    "from sklearn.linear_model import LogisticRegression\n",
    "from sklearn.metrics import accuracy_score\n",
    "from sklearn.model_selection import cross_val_score\n",
    "from sklearn.model_selection import train_test_split"
   ]
  },
  {
   "cell_type": "code",
   "execution_count": 2,
   "metadata": {},
   "outputs": [],
   "source": [
    "df_tweets = pd.read_csv('/datasets/tweets.csv')\n",
    "df_tweets = df_tweets.sample(400)"
   ]
  },
  {
   "cell_type": "code",
   "execution_count": 3,
   "metadata": {},
   "outputs": [],
   "source": [
    "tokenizer = transformers.BertTokenizer(\n",
    "    vocab_file='/datasets/ds_bert/vocab.txt')\n",
    "\n",
    "tokenized = df_tweets['text'].apply(\n",
    "    lambda x: tokenizer.encode(x, add_special_tokens=True))\n",
    "\n",
    "max_len = 0\n",
    "for i in tokenized.values:\n",
    "    if len(i) > max_len:\n",
    "        max_len = len(i)\n",
    "\n",
    "padded = np.array([i + [0]*(max_len - len(i)) for i in tokenized.values])\n",
    "\n",
    "attention_mask = np.where(padded != 0, 1, 0)"
   ]
  },
  {
   "cell_type": "code",
   "execution_count": 4,
   "metadata": {},
   "outputs": [
    {
     "name": "stderr",
     "output_type": "stream",
     "text": [
      "Some weights of the model checkpoint at /datasets/ds_bert/rubert_model.bin were not used when initializing BertModel: ['cls.seq_relationship.weight', 'cls.predictions.transform.LayerNorm.bias', 'cls.predictions.decoder.weight', 'cls.predictions.transform.dense.weight', 'cls.predictions.decoder.bias', 'cls.predictions.transform.LayerNorm.weight', 'cls.predictions.transform.dense.bias', 'cls.seq_relationship.bias', 'cls.predictions.bias']\n",
      "- This IS expected if you are initializing BertModel from the checkpoint of a model trained on another task or with another architecture (e.g. initializing a BertForSequenceClassification model from a BertForPreTraining model).\n",
      "- This IS NOT expected if you are initializing BertModel from the checkpoint of a model that you expect to be exactly identical (initializing a BertForSequenceClassification model from a BertForSequenceClassification model).\n"
     ]
    }
   ],
   "source": [
    "config = transformers.BertConfig.from_json_file(\n",
    "    '/datasets/ds_bert/bert_config.json')\n",
    "model = transformers.BertModel.from_pretrained(\n",
    "    '/datasets/ds_bert/rubert_model.bin', config=config)"
   ]
  },
  {
   "cell_type": "code",
   "execution_count": 5,
   "metadata": {},
   "outputs": [
    {
     "data": {
      "application/vnd.jupyter.widget-view+json": {
       "model_id": "12f1f5573e8b4289ad5c5bea9980154f",
       "version_major": 2,
       "version_minor": 0
      },
      "text/plain": [
       "  0%|          | 0/4 [00:00<?, ?it/s]"
      ]
     },
     "metadata": {},
     "output_type": "display_data"
    }
   ],
   "source": [
    "batch_size = 100\n",
    "embeddings = []\n",
    "for i in notebook.tqdm(range(padded.shape[0] // batch_size)):\n",
    "        batch = torch.LongTensor(padded[batch_size*i:batch_size*(i+1)]) \n",
    "        attention_mask_batch = torch.LongTensor(attention_mask[batch_size*i:batch_size*(i+1)])\n",
    "        \n",
    "        with torch.no_grad():\n",
    "            batch_embeddings = model(batch, attention_mask=attention_mask_batch)\n",
    "        \n",
    "        embeddings.append(batch_embeddings[0][:,0,:].numpy())"
   ]
  },
  {
   "cell_type": "code",
   "execution_count": 17,
   "metadata": {},
   "outputs": [
    {
     "name": "stdout",
     "output_type": "stream",
     "text": [
      "0.925\n"
     ]
    }
   ],
   "source": [
    "features = np.concatenate(embeddings)\n",
    "\n",
    "# обучите и протестируйте модель\n",
    "data = pd.DataFrame(features)\n",
    "data['positive'] = df_tweets['positive'].values\n",
    "train, test = train_test_split(data, test_size=0.5)\n",
    "\n",
    "X_train = train.drop(['positive'], axis=1)\n",
    "y_train = train['positive']\n",
    "X_test = test.drop(['positive'], axis=1)\n",
    "y_test = test['positive']\n",
    "\n",
    "model = LogisticRegression()\n",
    "model.fit(X_train, y_train)\n",
    "print(accuracy_score(y_test, model.predict(X_test)))"
   ]
  },
  {
   "cell_type": "code",
   "execution_count": null,
   "metadata": {},
   "outputs": [],
   "source": []
  }
 ],
 "metadata": {
  "ExecuteTimeLog": [
   {
    "duration": 2745,
    "start_time": "2024-04-29T12:25:31.267Z"
   },
   {
    "duration": 45,
    "start_time": "2024-04-29T12:25:36.685Z"
   },
   {
    "duration": 4087,
    "start_time": "2024-04-29T12:25:38.005Z"
   },
   {
    "duration": 32777,
    "start_time": "2024-04-29T12:25:51.788Z"
   },
   {
    "duration": 2282,
    "start_time": "2024-04-29T12:59:06.668Z"
   },
   {
    "duration": 173,
    "start_time": "2024-04-29T12:59:08.953Z"
   },
   {
    "duration": 4326,
    "start_time": "2024-04-29T12:59:09.128Z"
   },
   {
    "duration": 2469,
    "start_time": "2024-04-29T12:59:19.945Z"
   },
   {
    "duration": 44,
    "start_time": "2024-04-29T12:59:22.415Z"
   },
   {
    "duration": 2027,
    "start_time": "2024-04-29T12:59:22.461Z"
   },
   {
    "duration": 2246,
    "start_time": "2024-04-29T12:59:34.550Z"
   },
   {
    "duration": 45,
    "start_time": "2024-04-29T12:59:36.798Z"
   },
   {
    "duration": 2028,
    "start_time": "2024-04-29T12:59:36.847Z"
   },
   {
    "duration": 22251,
    "start_time": "2024-04-29T12:59:38.878Z"
   },
   {
    "duration": 69660,
    "start_time": "2024-04-29T13:00:01.130Z"
   },
   {
    "duration": 83,
    "start_time": "2024-04-29T13:01:10.795Z"
   },
   {
    "duration": 28,
    "start_time": "2024-04-29T13:03:00.264Z"
   },
   {
    "duration": 25,
    "start_time": "2024-04-29T13:03:18.033Z"
   },
   {
    "duration": 6,
    "start_time": "2024-04-29T13:03:38.871Z"
   },
   {
    "duration": 4,
    "start_time": "2024-04-29T13:03:50.631Z"
   },
   {
    "duration": 25,
    "start_time": "2024-04-29T13:03:53.670Z"
   },
   {
    "duration": 295,
    "start_time": "2024-04-29T13:04:59.040Z"
   },
   {
    "duration": 10,
    "start_time": "2024-04-29T13:05:13.015Z"
   },
   {
    "duration": 22,
    "start_time": "2024-04-29T13:06:07.807Z"
   },
   {
    "duration": 1144,
    "start_time": "2024-04-29T13:06:16.535Z"
   },
   {
    "duration": 4,
    "start_time": "2024-04-29T13:06:45.174Z"
   },
   {
    "duration": 752,
    "start_time": "2024-04-29T13:06:47.127Z"
   }
  ],
  "kernelspec": {
   "display_name": "Python 3 (ipykernel)",
   "language": "python",
   "name": "python3"
  },
  "language_info": {
   "codemirror_mode": {
    "name": "ipython",
    "version": 3
   },
   "file_extension": ".py",
   "mimetype": "text/x-python",
   "name": "python",
   "nbconvert_exporter": "python",
   "pygments_lexer": "ipython3",
   "version": "3.9.5"
  },
  "toc": {
   "base_numbering": 1,
   "nav_menu": {},
   "number_sections": true,
   "sideBar": true,
   "skip_h1_title": true,
   "title_cell": "Table of Contents",
   "title_sidebar": "Contents",
   "toc_cell": false,
   "toc_position": {},
   "toc_section_display": true,
   "toc_window_display": false
  }
 },
 "nbformat": 4,
 "nbformat_minor": 2
}
