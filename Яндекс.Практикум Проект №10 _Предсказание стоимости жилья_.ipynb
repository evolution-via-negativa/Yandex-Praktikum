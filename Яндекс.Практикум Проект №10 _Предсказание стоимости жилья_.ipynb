{
 "cells": [
  {
   "cell_type": "markdown",
   "id": "391242c9",
   "metadata": {},
   "source": [
    "<font color='blue' size=5><b>Комментарий ревьюера</b></font>\n",
    "\n",
    "<font color='blue'>Привет, Артем! Меня зовут Павел Григорьев, и я буду проверять этот проект.<br>Моя основная цель - не указать на совершённые тобой ошибки, а поделиться своим опытом и помочь тебе совершенствоваться как профессионалу.<br>Спасибо за проделанную работу! Предлагаю общаться на «ты».</font>\n",
    "<details>\n",
    "\t<summary><u>Инструкция по организационным моментам (кликабельно)</u></summary>\n",
    "<font color='blue'>Я буду использовать различные цвета, чтобы было удобнее воспринимать мои комментарии:</font>\n",
    "\n",
    "\n",
    "---\n",
    "\n",
    "\n",
    "<font color='blue'>синий текст - просто текст комментария</font>\n",
    "\n",
    "<font color='green'>✔️ и зеленый текст - все отлично</font>\n",
    "\n",
    "<font color='orange'>⚠️ и оранжевый текст - сделано все правильно, однако есть рекомендации, на что стоит обратить внимание</font>\n",
    "\n",
    "<font color='red'>❌ и красный текст - есть недочеты</font>\n",
    "\n",
    "\n",
    "</details>    \n",
    "    </br>\n",
    "<font color='blue'>Пожалуйста, не удаляй мои комментарии в случае возврата работы, так будет проще разобраться, какие были недочеты, а также сразу увидеть исправленное. </font>\n",
    "\n",
    "Ответы на мои комментарии лучше тоже помечать.\n",
    "Например: <font color='purple'><b>Комментарий студента</b></font>\n",
    "\n",
    "<font color='blue'><b>Давай смотреть, что получилось!</b></font>"
   ]
  },
  {
   "cell_type": "markdown",
   "id": "6cbfbf0c",
   "metadata": {},
   "source": [
    "<font color='blue' size=3><b>Комментарий ревьюера 2</b></font>\n",
    "\n",
    "<font color='blue'>Привет еще раз. Спасибо, за исправления. Оформление комментариев по работе сохраняется. Только обозначим, что это вторая итерация.</font> "
   ]
  },
  {
   "cell_type": "markdown",
   "id": "GEqQaHzsZ_bA",
   "metadata": {
    "id": "GEqQaHzsZ_bA"
   },
   "source": [
    "# Предсказание стоимости жилья\n",
    "\n",
    "В проекте вам нужно обучить модель линейной регрессии на данных о жилье в Калифорнии в 1990 году. На основе данных нужно предсказать медианную стоимость дома в жилом массиве. Обучите модель и сделайте предсказания на тестовой выборке. Для оценки качества модели используйте метрики RMSE, MAE и R2."
   ]
  },
  {
   "cell_type": "code",
   "execution_count": 1,
   "id": "5414af63",
   "metadata": {},
   "outputs": [],
   "source": [
    "# Обновим pyspark до версии 3.4.0 для доступа к функции median\n",
    "!pip install --upgrade pyspark>=3.4.0\n",
    "\n",
    "import pyspark\n",
    "from pyspark.ml import Pipeline\n",
    "from pyspark.ml.tuning import CrossValidator, ParamGridBuilder\n",
    "from pyspark.ml.feature import StringIndexer, OneHotEncoder, VectorAssembler, StandardScaler\n",
    "from pyspark.ml.regression import LinearRegression\n",
    "from pyspark.ml.evaluation import RegressionEvaluator\n",
    "from pyspark.sql import SparkSession\n",
    "from pyspark.sql.types import *\n",
    "from pyspark.sql.functions import isnan, when, count, col, median, rand\n",
    "\n",
    "RANDOM_SEED = 3074"
   ]
  },
  {
   "cell_type": "markdown",
   "id": "8b353786",
   "metadata": {},
   "source": [
    "<font color='blue'><b>Комментарий ревьюера: </b></font> ✔️\\\n",
    "<font color='green'> Хорошее оформление импортов! \\\n",
    "Импорты собраны в одной ячейке, разделены на функциональные группы пустой строкой.</font>"
   ]
  },
  {
   "cell_type": "markdown",
   "id": "53871372",
   "metadata": {
    "id": "53871372"
   },
   "source": [
    "## Подготовка данных"
   ]
  },
  {
   "cell_type": "markdown",
   "id": "e9d96058",
   "metadata": {},
   "source": [
    "### Инициализируем локальную Spark-сессию"
   ]
  },
  {
   "cell_type": "code",
   "execution_count": 2,
   "id": "df92e3ec",
   "metadata": {
    "id": "df92e3ec"
   },
   "outputs": [
    {
     "name": "stderr",
     "output_type": "stream",
     "text": [
      "Setting default log level to \"WARN\".\n",
      "To adjust logging level use sc.setLogLevel(newLevel). For SparkR, use setLogLevel(newLevel).\n",
      "23/11/03 19:41:03 WARN NativeCodeLoader: Unable to load native-hadoop library for your platform... using builtin-java classes where applicable\n"
     ]
    }
   ],
   "source": [
    "spark = SparkSession.builder.master(\"local\").appName(\"Median house value Prediction\").getOrCreate()"
   ]
  },
  {
   "cell_type": "markdown",
   "id": "ee41160b",
   "metadata": {},
   "source": [
    "### Прочитаем содержимое файла `/datasets/housing.csv`"
   ]
  },
  {
   "cell_type": "code",
   "execution_count": 3,
   "id": "3593041c",
   "metadata": {},
   "outputs": [],
   "source": [
    "schema = StructType([\n",
    "    StructField('longitude', DoubleType(), nullable=True),\n",
    "    StructField('latitude', DoubleType(), nullable=True),\n",
    "    StructField('housing_median_age', DoubleType(), nullable=True),\n",
    "    StructField('total_rooms', DoubleType(), nullable=True),\n",
    "    StructField('total_bedrooms', DoubleType(), nullable=True),\n",
    "    StructField('population', DoubleType(), nullable=True),\n",
    "    StructField('households', DoubleType(), nullable=True),\n",
    "    StructField('median_income', DoubleType(), nullable=True),\n",
    "    StructField('median_house_value', DoubleType(), nullable=True),\n",
    "    StructField('ocean_proximity', StringType(), nullable=True)]\n",
    ")\n",
    "\n",
    "data = spark.read.load('/datasets/housing.csv', format=\"csv\", sep=',', inferSchema=False, schema=schema, header='true')"
   ]
  },
  {
   "cell_type": "markdown",
   "id": "2737267d",
   "metadata": {},
   "source": [
    "### Выведем тип данных колонок и несколько наугад выбранных строк датасета"
   ]
  },
  {
   "cell_type": "code",
   "execution_count": 4,
   "id": "c76a7445",
   "metadata": {
    "scrolled": false
   },
   "outputs": [
    {
     "name": "stdout",
     "output_type": "stream",
     "text": [
      "root\n",
      " |-- longitude: double (nullable = true)\n",
      " |-- latitude: double (nullable = true)\n",
      " |-- housing_median_age: double (nullable = true)\n",
      " |-- total_rooms: double (nullable = true)\n",
      " |-- total_bedrooms: double (nullable = true)\n",
      " |-- population: double (nullable = true)\n",
      " |-- households: double (nullable = true)\n",
      " |-- median_income: double (nullable = true)\n",
      " |-- median_house_value: double (nullable = true)\n",
      " |-- ocean_proximity: string (nullable = true)\n",
      "\n"
     ]
    },
    {
     "name": "stderr",
     "output_type": "stream",
     "text": [
      "                                                                                \r"
     ]
    },
    {
     "name": "stdout",
     "output_type": "stream",
     "text": [
      "-RECORD 0-----------------------\n",
      " longitude          | -121.2    \n",
      " latitude           | 37.79     \n",
      " housing_median_age | 36.0      \n",
      " total_rooms        | 866.0     \n",
      " total_bedrooms     | 160.0     \n",
      " population         | 502.0     \n",
      " households         | 149.0     \n",
      " median_income      | 2.4798    \n",
      " median_house_value | 101500.0  \n",
      " ocean_proximity    | INLAND    \n",
      "-RECORD 1-----------------------\n",
      " longitude          | -120.86   \n",
      " latitude           | 37.73     \n",
      " housing_median_age | 27.0      \n",
      " total_rooms        | 508.0     \n",
      " total_bedrooms     | 93.0      \n",
      " population         | 263.0     \n",
      " households         | 81.0      \n",
      " median_income      | 3.1136    \n",
      " median_house_value | 183300.0  \n",
      " ocean_proximity    | INLAND    \n",
      "-RECORD 2-----------------------\n",
      " longitude          | -118.49   \n",
      " latitude           | 34.26     \n",
      " housing_median_age | 27.0      \n",
      " total_rooms        | 2722.0    \n",
      " total_bedrooms     | 468.0     \n",
      " population         | 1164.0    \n",
      " households         | 419.0     \n",
      " median_income      | 4.6591    \n",
      " median_house_value | 239900.0  \n",
      " ocean_proximity    | <1H OCEAN \n",
      "-RECORD 3-----------------------\n",
      " longitude          | -122.43   \n",
      " latitude           | 37.79     \n",
      " housing_median_age | 52.0      \n",
      " total_rooms        | 3219.0    \n",
      " total_bedrooms     | 969.0     \n",
      " population         | 1152.0    \n",
      " households         | 830.0     \n",
      " median_income      | 4.2042    \n",
      " median_house_value | 500001.0  \n",
      " ocean_proximity    | NEAR BAY  \n",
      "-RECORD 4-----------------------\n",
      " longitude          | -119.71   \n",
      " latitude           | 34.42     \n",
      " housing_median_age | 52.0      \n",
      " total_rooms        | 1838.0    \n",
      " total_bedrooms     | 692.0     \n",
      " population         | 851.0     \n",
      " households         | 576.0     \n",
      " median_income      | 1.4851    \n",
      " median_house_value | 237500.0  \n",
      " ocean_proximity    | <1H OCEAN \n",
      "\n"
     ]
    }
   ],
   "source": [
    "data.printSchema()\n",
    "data.orderBy(rand()).limit(5).show(vertical=True)"
   ]
  },
  {
   "cell_type": "markdown",
   "id": "f6eea671",
   "metadata": {},
   "source": [
    "<font color='blue'><b>Комментарий ревьюера: </b></font> ✔️\\\n",
    "<font color='green'> Отлично!  Выведены типы данных и первые строчки таблицы.</font>"
   ]
  },
  {
   "cell_type": "markdown",
   "id": "7efe5d80",
   "metadata": {},
   "source": [
    "### Исследуем данные на наличие пропусков и заполним их, выбрав значения по своему усмотрению"
   ]
  },
  {
   "cell_type": "code",
   "execution_count": 5,
   "id": "ad4b017d",
   "metadata": {},
   "outputs": [
    {
     "name": "stderr",
     "output_type": "stream",
     "text": [
      "[Stage 1:>                                                          (0 + 1) / 1]\r"
     ]
    },
    {
     "name": "stdout",
     "output_type": "stream",
     "text": [
      "-RECORD 0-----------------\n",
      " longitude          | 0   \n",
      " latitude           | 0   \n",
      " housing_median_age | 0   \n",
      " total_rooms        | 0   \n",
      " total_bedrooms     | 207 \n",
      " population         | 0   \n",
      " households         | 0   \n",
      " median_income      | 0   \n",
      " median_house_value | 0   \n",
      " ocean_proximity    | 0   \n",
      "\n"
     ]
    },
    {
     "name": "stderr",
     "output_type": "stream",
     "text": [
      "                                                                                \r"
     ]
    }
   ],
   "source": [
    "#check\n",
    "data.select([count(when(isnan(c) | col(c).isNull(), c)).alias(c) for c in data.columns]).show(vertical=True)"
   ]
  },
  {
   "cell_type": "markdown",
   "id": "cd5ff6e9",
   "metadata": {},
   "source": [
    "<font color='blue'><b>Комментарий ревьюера: </b></font> ✔️\\\n",
    "<font color='green'>Обнаружены пропуски!</font>"
   ]
  },
  {
   "cell_type": "code",
   "execution_count": 6,
   "id": "43b4694e",
   "metadata": {},
   "outputs": [
    {
     "name": "stderr",
     "output_type": "stream",
     "text": [
      "[Stage 4:>                                                          (0 + 1) / 1]\r"
     ]
    },
    {
     "name": "stdout",
     "output_type": "stream",
     "text": [
      "+-------+------------------+\n",
      "|summary|    total_bedrooms|\n",
      "+-------+------------------+\n",
      "|  count|             20433|\n",
      "|   mean| 537.8705525375618|\n",
      "| stddev|421.38507007403115|\n",
      "|    min|               1.0|\n",
      "|    25%|             296.0|\n",
      "|    50%|             435.0|\n",
      "|    75%|             647.0|\n",
      "|    max|            6445.0|\n",
      "+-------+------------------+\n",
      "\n"
     ]
    },
    {
     "name": "stderr",
     "output_type": "stream",
     "text": [
      "                                                                                \r"
     ]
    }
   ],
   "source": [
    "#check\n",
    "summary = data.select('total_bedrooms').summary()\n",
    "summary.show()"
   ]
  },
  {
   "cell_type": "markdown",
   "id": "ac53c789",
   "metadata": {},
   "source": [
    "Можно заметить, что в столбце `total_bedrooms` присутствуют аномальные значения. В таком случае разумнее будет заполнить пропуски медианным значением вместо среднего"
   ]
  },
  {
   "cell_type": "code",
   "execution_count": 7,
   "id": "c718b7ac",
   "metadata": {},
   "outputs": [],
   "source": [
    "data = data.na.fill(value=float(summary.where(col('summary') == '50%').collect()[0].total_bedrooms), subset=['total_bedrooms'])"
   ]
  },
  {
   "cell_type": "code",
   "execution_count": 8,
   "id": "e9c5810a",
   "metadata": {},
   "outputs": [
    {
     "name": "stdout",
     "output_type": "stream",
     "text": [
      "-RECORD 0-----------------\n",
      " longitude          | 0   \n",
      " latitude           | 0   \n",
      " housing_median_age | 0   \n",
      " total_rooms        | 0   \n",
      " total_bedrooms     | 0   \n",
      " population         | 0   \n",
      " households         | 0   \n",
      " median_income      | 0   \n",
      " median_house_value | 0   \n",
      " ocean_proximity    | 0   \n",
      "\n"
     ]
    }
   ],
   "source": [
    "#check\n",
    "data.select([count(when(isnan(c) | col(c).isNull(), c)).alias(c) for c in data.columns]).show(vertical=True)"
   ]
  },
  {
   "cell_type": "markdown",
   "id": "a6f8127a",
   "metadata": {},
   "source": [
    "<font color='blue'><b>Комментарий ревьюера: </b></font> ✔️\\\n",
    "<font color='green'>Заполнили пропуски!</font>"
   ]
  },
  {
   "cell_type": "markdown",
   "id": "328f91a8",
   "metadata": {},
   "source": [
    "### Соберём все преобразования признаков в один массив для дальнейшего использования в pipeline"
   ]
  },
  {
   "cell_type": "code",
   "execution_count": 9,
   "id": "5f41a6d3",
   "metadata": {
    "scrolled": true
   },
   "outputs": [],
   "source": [
    "indexer = StringIndexer(inputCols=['ocean_proximity'], outputCols=['ocean_proximity_idx']) \n",
    "encoder = OneHotEncoder(inputCols=['ocean_proximity_idx'], outputCols=['ocean_proximity_ohe'])\n",
    "categorical_assembler = VectorAssembler(inputCols=['ocean_proximity_ohe'], outputCol='categorical_features')\n",
    "numerical_assembler = VectorAssembler(inputCols=['longitude', 'latitude', 'housing_median_age', 'total_rooms',\n",
    "                                                 'total_bedrooms', 'population', 'households', 'median_income'],\n",
    "                                      outputCol='numerical_features')\n",
    "scaler = StandardScaler(inputCol='numerical_features', outputCol='numerical_features_scaled')\n",
    "features_assembler = VectorAssembler(inputCols=['categorical_features','numerical_features_scaled'], \n",
    "                                     outputCol='features')\n",
    "\n",
    "transformations = [indexer, encoder, categorical_assembler, numerical_assembler, scaler, features_assembler]"
   ]
  },
  {
   "cell_type": "markdown",
   "id": "2b5f875b",
   "metadata": {},
   "source": [
    "<font color='blue'><b>Комментарий ревьюера 2: </b></font> ⚠️<a id='handleInvalid'></a>\\\n",
    "<font color='blue'>Бывает так, что в тестовых данных случается категория которой нет в обучающих. В StringIndexer есть три стратегии обработки незнакомых Лейблов.\n",
    "1. Выбрасывать исключение (по умолчанию).\n",
    "2. Игнорировать строки с незнакомыми лейблами.\n",
    "3. Выделять для всех незнакомых лейблов отдельную категорию.\n",
    "\n",
    "За это отвечает аргумент [handleInvalid](https://spark.apache.org/docs/latest/api/python/reference/api/pyspark.ml.feature.StringIndexer.html#pyspark.ml.feature.StringIndexer.handleInvalid), в который нужно передать \"error\",\"skip\" или \"keep\" соответственно.</font>"
   ]
  },
  {
   "cell_type": "markdown",
   "id": "e996572e",
   "metadata": {},
   "source": [
    "<font color='blue'><b>Комментарий ревьюера: </b></font> ❌\\\n",
    "<font color='red'><s>Кодирование и Стандартизацию нужно проводить после разделения на выборки трансформерами обучеными на обучающих данных.</s></font>"
   ]
  },
  {
   "cell_type": "markdown",
   "id": "640fa9be",
   "metadata": {},
   "source": [
    "<font color='purple'><b>Исправлено</b></font>"
   ]
  },
  {
   "cell_type": "markdown",
   "id": "3113df0e",
   "metadata": {},
   "source": [
    "<font color='blue'><b>Комментарий ревьюера: </b></font> ⚠️\\\n",
    "<font color='blue'>Можно использовать [Pipeline](https://habr.com/ru/post/522296/)</font>"
   ]
  },
  {
   "cell_type": "markdown",
   "id": "2a9a799b",
   "metadata": {},
   "source": [
    "<font color='purple'><b>Исправлено. Добавлен Pipeline</b></font>"
   ]
  },
  {
   "cell_type": "markdown",
   "id": "f9505634",
   "metadata": {},
   "source": [
    "<font color='blue'><b>Комментарий ревьюера 2: </b></font> ✔️\\\n",
    "<font color='green'> Отлично, что используешь Pipeline, для предобработки. \\\n",
    "Утечки информации между выборками исключены, даже если применять кроссвалидацию!</font>"
   ]
  },
  {
   "cell_type": "markdown",
   "id": "0a0ff3f1",
   "metadata": {},
   "source": [
    "### Разделим данные на выборку для обучения и выборку для тестирования качества модели"
   ]
  },
  {
   "cell_type": "code",
   "execution_count": 10,
   "id": "1beb785f",
   "metadata": {},
   "outputs": [],
   "source": [
    "train_data, test_data = data.randomSplit([.8,.2], seed=RANDOM_SEED)"
   ]
  },
  {
   "cell_type": "markdown",
   "id": "2857c3de",
   "metadata": {},
   "source": [
    "<font color='blue'><b>Комментарий ревьюера: </b></font> ✔️\\\n",
    "<font color='green'> Здорово , что у нас есть выборка для тестов!</font>"
   ]
  },
  {
   "cell_type": "markdown",
   "id": "9f0a82f3",
   "metadata": {
    "id": "9f0a82f3"
   },
   "source": [
    "## Обучение моделей"
   ]
  },
  {
   "cell_type": "markdown",
   "id": "8d41176d",
   "metadata": {},
   "source": [
    "### Построим модель линейной регрессии, используя и числовые и категориальные переменные"
   ]
  },
  {
   "cell_type": "code",
   "execution_count": 11,
   "id": "bddb08c4",
   "metadata": {
    "id": "bddb08c4"
   },
   "outputs": [
    {
     "name": "stderr",
     "output_type": "stream",
     "text": [
      "23/11/03 19:41:36 WARN InstanceBuilder: Failed to load implementation from:dev.ludovic.netlib.blas.JNIBLAS\n",
      "23/11/03 19:43:21 WARN BlockManager: Asked to remove block broadcast_4318_piece0, which does not exist\n",
      "23/11/03 19:44:23 WARN BlockManager: Asked to remove block broadcast_8136, which does not exist\n",
      "23/11/03 19:55:30 WARN BlockManager: Asked to remove block broadcast_52883, which does not exist\n",
      "23/11/03 19:56:34 WARN BlockManager: Asked to remove block broadcast_57509_piece0, which does not exist\n",
      "23/11/03 20:11:46 WARN BlockManager: Asked to remove block broadcast_123119, which does not exist\n",
      "23/11/03 20:20:51 WARN BlockManager: Asked to remove block broadcast_162841, which does not exist\n",
      "                                                                                \r"
     ]
    }
   ],
   "source": [
    "lr = LinearRegression(featuresCol='features', labelCol='median_house_value')\n",
    "paramGrid = ParamGridBuilder() \\\n",
    "    .addGrid(lr.regParam, [0.1, 0.01]) \\\n",
    "    .addGrid(lr.elasticNetParam, [1, 0.1, 0.01]) \\\n",
    "    .addGrid(lr.maxIter, [10, 100, 1000]) \\\n",
    "    .addGrid(lr.solver, ['normal', 'l-bfgs']) \\\n",
    "    .build()\n",
    "crossval = CrossValidator(estimator=lr,\n",
    "                          estimatorParamMaps=paramGrid,\n",
    "                          evaluator=RegressionEvaluator(labelCol='median_house_value'),\n",
    "                          numFolds=5,\n",
    "                          parallelism=2)\n",
    "                      \n",
    "model = Pipeline(stages=transformations+[crossval]).fit(train_data)"
   ]
  },
  {
   "cell_type": "markdown",
   "id": "de0820c5",
   "metadata": {},
   "source": [
    "<font color='blue'><b>Комментарий ревьюера: </b></font> ✔️\\\n",
    "<font color='green'> Здорово , что используешь кроссвалидацию!</font>\\\n",
    "<font color='darkorange'> Но здесь точно нужен Pipeline для исключения утечек между обучающими и валидационными данными.</font>"
   ]
  },
  {
   "cell_type": "markdown",
   "id": "cce4e7e0",
   "metadata": {},
   "source": [
    "<font color='purple'><b>Исправлено. Добавлен Pipeline</b></font>"
   ]
  },
  {
   "cell_type": "markdown",
   "id": "075960c0",
   "metadata": {},
   "source": [
    "<font color='blue'><b>Комментарий ревьюера 2: </b></font> ✔️\\\n",
    "<font color='green'> 👍</font>"
   ]
  },
  {
   "cell_type": "markdown",
   "id": "d1bee0e5",
   "metadata": {},
   "source": [
    "### Построим модель линейной регрессии, используя только числовые переменные"
   ]
  },
  {
   "cell_type": "code",
   "execution_count": 12,
   "id": "b8cd2bf2",
   "metadata": {},
   "outputs": [
    {
     "name": "stderr",
     "output_type": "stream",
     "text": [
      "                                                                                \r"
     ]
    }
   ],
   "source": [
    "lr = LinearRegression(featuresCol='numerical_features_scaled', labelCol='median_house_value')\n",
    "paramGrid = ParamGridBuilder() \\\n",
    "    .addGrid(lr.regParam, [0.1, 0.01]) \\\n",
    "    .addGrid(lr.elasticNetParam, [1, 0.1, 0.01]) \\\n",
    "    .addGrid(lr.maxIter, [10, 100, 1000]) \\\n",
    "    .addGrid(lr.solver, ['normal', 'l-bfgs']) \\\n",
    "    .build()\n",
    "crossval = CrossValidator(estimator=lr,\n",
    "                          estimatorParamMaps=paramGrid,\n",
    "                          evaluator=RegressionEvaluator(labelCol='median_house_value'),\n",
    "                          numFolds=5,\n",
    "                          parallelism=2)\n",
    "                      \n",
    "model_numerical = Pipeline(stages=transformations+[crossval]).fit(train_data)"
   ]
  },
  {
   "cell_type": "markdown",
   "id": "757fd103",
   "metadata": {
    "id": "757fd103"
   },
   "source": [
    "## Анализ результатов"
   ]
  },
  {
   "cell_type": "code",
   "execution_count": 13,
   "id": "c510ccda",
   "metadata": {},
   "outputs": [],
   "source": [
    "evaluator = RegressionEvaluator(labelCol='median_house_value')"
   ]
  },
  {
   "cell_type": "markdown",
   "id": "6987a5af",
   "metadata": {},
   "source": [
    "### Выведем результаты работы модели линейной регрессии, обученной на полном наборе данных"
   ]
  },
  {
   "cell_type": "code",
   "execution_count": 14,
   "id": "b4cd2a4e",
   "metadata": {},
   "outputs": [
    {
     "name": "stdout",
     "output_type": "stream",
     "text": [
      "model RMSE: 69661.9509\n",
      "model MAE: 49966.071\n",
      "model R2: 0.6314\n"
     ]
    }
   ],
   "source": [
    "print('model RMSE:', round(evaluator.setParams(metricName=\"rmse\").evaluate(model.transform(test_data)), 4))\n",
    "print('model MAE:', round(evaluator.setParams(metricName=\"mae\").evaluate(model.transform(test_data)), 4))\n",
    "print('model R2:', round(evaluator.setParams(metricName=\"r2\").evaluate(model.transform(test_data)), 4))"
   ]
  },
  {
   "cell_type": "markdown",
   "id": "2444fce6",
   "metadata": {},
   "source": [
    "### Выведем результаты работы модели линейной регрессии, обученной на неполном наборе данных (только количественные переменные)"
   ]
  },
  {
   "cell_type": "code",
   "execution_count": 15,
   "id": "75c0b35b",
   "metadata": {},
   "outputs": [
    {
     "name": "stdout",
     "output_type": "stream",
     "text": [
      "model_numerical RMSE: 70894.1874\n",
      "model_numerical MAE: 51307.8333\n",
      "model_numerical R2: 0.6182\n"
     ]
    }
   ],
   "source": [
    "print('model_numerical RMSE:', round(evaluator.setParams(metricName=\"rmse\").evaluate(model_numerical.transform(test_data)), 4))\n",
    "print('model_numerical MAE:', round(evaluator.setParams(metricName='mae').evaluate(model_numerical.transform(test_data)), 4))\n",
    "print('model_numerical R2:', round(evaluator.setParams(metricName='r2').evaluate(model_numerical.transform(test_data)), 4))"
   ]
  },
  {
   "cell_type": "markdown",
   "id": "97f93c30",
   "metadata": {},
   "source": [
    "<font color='blue'><b>Комментарий ревьюера :</b></font> ✔️\\\n",
    "<font color='green'>Тестирование проведено верно.</font>"
   ]
  },
  {
   "cell_type": "code",
   "execution_count": 16,
   "id": "cfc23517",
   "metadata": {},
   "outputs": [],
   "source": [
    "spark.stop()"
   ]
  },
  {
   "cell_type": "markdown",
   "id": "9cc603b5",
   "metadata": {},
   "source": [
    "<font color='blue'><b>Комментарий ревьюера: </b></font> ⚠️\\\n",
    "<font color='darkorange'>Не забывай останавливать сессию `spark.stop()`</font>"
   ]
  },
  {
   "cell_type": "markdown",
   "id": "7c420642",
   "metadata": {},
   "source": [
    "<font color='purple'><b>Исправлено</b></font>"
   ]
  },
  {
   "cell_type": "markdown",
   "id": "09d30f32",
   "metadata": {},
   "source": [
    "<font color='blue'><b>Комментарий ревьюера 2: </b></font> ✔️\\\n",
    "<font color='green'>Здорово, что не забываешь останавливать сессию!</font>"
   ]
  },
  {
   "cell_type": "markdown",
   "id": "f5ad54ee",
   "metadata": {},
   "source": [
    "### Вывод"
   ]
  },
  {
   "cell_type": "markdown",
   "id": "b0f67fb8",
   "metadata": {},
   "source": [
    "Результаты работы модели линейной регрессии, обученной на полном наборе данных, чуть лучше, чем результаты работы модели, обученной на неполном наборе данных, по всем трём метрикам. Можно предположить, что существует зависимость между признаком `ocean_proximity` и целевым признаком `median_house_value` и первая модель успешно уловила эту взаимосвязь"
   ]
  },
  {
   "cell_type": "markdown",
   "id": "72065b27",
   "metadata": {},
   "source": [
    "<font color='blue'><b>Комментарий ревьюера: </b></font> ✔️\\\n",
    "<font color='green'> Очень приятно видеть вывод в конце проекта!\\\n",
    "Приведены ответы на главные вопросы проекта.</font>"
   ]
  },
  {
   "cell_type": "markdown",
   "id": "0867d2d9",
   "metadata": {},
   "source": [
    "<font color='blue'><b>Итоговый комментарий ревьюера</b></font>\\\n",
    "<font color='green'> Артем, хороший проект получился!\n",
    "Большое спасибо за проделанную работу. Видно, что приложено много усилий.\n",
    "</font>\n",
    "\n",
    "<font color='blue'>Что нужно исправить:</font>\n",
    "<ul><font color='red'>Стандартизация и Кодировка для train и test по отдельности обработчиком обученным на train.</font></ul>\n",
    "\n",
    "<font color='blue'>Что можно сделать лучше:</font>\n",
    "<font color='orange'>В работе я оставил несколько советов. Буду рад, если ты учтешь их.</font></ul>\n",
    "\n",
    "<font color='blue'><b>Жду новую версию проекта :)</b></font>"
   ]
  },
  {
   "cell_type": "markdown",
   "id": "8fc39d71",
   "metadata": {},
   "source": [
    "<font color='blue'><b>Итоговый комментарий ревьюера 2</b></font>\\\n",
    "<font color='green'> Артем, проект принят! \\\n",
    "Все этапы пройдены. Все рекомендации учтены.\\\n",
    "Надеюсь, тебе понравился процесс выполнения и результат.</font> \\\n",
    "<font color='blue'><b>Спасибо, удачи в освоении профессии!</b></font>"
   ]
  },
  {
   "cell_type": "markdown",
   "id": "459b5822",
   "metadata": {},
   "source": [
    "<font color='green'>Немного полезного материала:\n",
    "+  https://sparkbyexamples.com/pyspark-tutorial/, https://sparkbyexamples.com/\n",
    "+  https://github.com/dvgodoy/handyspark\n",
    "+  https://www.tutorialspoint.com/pyspark/index.htm\n",
    "+  https://www.guru99.com/pyspark-tutorial.html\n",
    "+  https://databricks.com/spark/getting-started-with-apache-spark/machine-learning#load-sample-data\n",
    "</font>"
   ]
  }
 ],
 "metadata": {
  "ExecuteTimeLog": [
   {
    "duration": 44,
    "start_time": "2023-10-30T12:02:04.898Z"
   },
   {
    "duration": 272,
    "start_time": "2023-10-30T12:02:06.379Z"
   },
   {
    "duration": 24963,
    "start_time": "2023-10-30T12:02:06.843Z"
   },
   {
    "duration": 6,
    "start_time": "2023-10-30T12:02:44.566Z"
   },
   {
    "duration": 95,
    "start_time": "2023-10-30T12:07:22.819Z"
   },
   {
    "duration": 23,
    "start_time": "2023-10-30T12:07:37.987Z"
   },
   {
    "duration": 3,
    "start_time": "2023-10-30T12:07:52.062Z"
   },
   {
    "duration": 3,
    "start_time": "2023-10-30T12:07:54.067Z"
   },
   {
    "duration": 635,
    "start_time": "2023-10-30T12:07:54.479Z"
   },
   {
    "duration": 3104,
    "start_time": "2023-10-30T12:08:09.739Z"
   },
   {
    "duration": 84,
    "start_time": "2023-10-30T12:08:28.627Z"
   },
   {
    "duration": 4474,
    "start_time": "2023-10-30T12:08:38.571Z"
   },
   {
    "duration": 528,
    "start_time": "2023-10-30T12:09:38.020Z"
   },
   {
    "duration": 2022,
    "start_time": "2023-10-30T12:10:26.063Z"
   },
   {
    "duration": 421,
    "start_time": "2023-10-30T12:10:28.144Z"
   },
   {
    "duration": 386,
    "start_time": "2023-10-30T12:10:30.459Z"
   },
   {
    "duration": 43,
    "start_time": "2023-10-30T12:10:41.261Z"
   },
   {
    "duration": 261,
    "start_time": "2023-10-30T12:10:42.993Z"
   },
   {
    "duration": 704,
    "start_time": "2023-10-30T12:10:52.054Z"
   },
   {
    "duration": 652,
    "start_time": "2023-10-30T12:10:53.614Z"
   },
   {
    "duration": 312,
    "start_time": "2023-10-30T12:10:54.268Z"
   },
   {
    "duration": 711,
    "start_time": "2023-10-30T12:11:10.950Z"
   },
   {
    "duration": 616,
    "start_time": "2023-10-30T12:12:02.846Z"
   },
   {
    "duration": 44,
    "start_time": "2023-10-30T12:12:13.341Z"
   },
   {
    "duration": 202,
    "start_time": "2023-10-30T12:12:13.453Z"
   },
   {
    "duration": 4,
    "start_time": "2023-10-30T13:38:57.091Z"
   },
   {
    "duration": 404,
    "start_time": "2023-10-30T13:40:16.655Z"
   },
   {
    "duration": 233,
    "start_time": "2023-10-30T13:41:24.463Z"
   },
   {
    "duration": 146,
    "start_time": "2023-10-30T13:41:32.217Z"
   },
   {
    "duration": 214,
    "start_time": "2023-10-30T13:43:16.789Z"
   },
   {
    "duration": 186,
    "start_time": "2023-10-30T13:43:23.475Z"
   },
   {
    "duration": 199,
    "start_time": "2023-10-30T13:43:34.521Z"
   },
   {
    "duration": 9,
    "start_time": "2023-10-30T13:54:55.619Z"
   },
   {
    "duration": 13,
    "start_time": "2023-10-30T13:55:02.357Z"
   },
   {
    "duration": 3,
    "start_time": "2023-10-30T13:55:06.139Z"
   },
   {
    "duration": 3,
    "start_time": "2023-10-30T13:55:09.700Z"
   },
   {
    "duration": 1547,
    "start_time": "2023-10-30T13:55:12.211Z"
   },
   {
    "duration": 1162,
    "start_time": "2023-10-30T13:56:43.596Z"
   },
   {
    "duration": 580,
    "start_time": "2023-10-30T13:56:56.893Z"
   },
   {
    "duration": 537,
    "start_time": "2023-10-30T13:57:00.454Z"
   },
   {
    "duration": 489,
    "start_time": "2023-10-30T13:57:07.884Z"
   },
   {
    "duration": 16,
    "start_time": "2023-10-30T13:57:30.315Z"
   },
   {
    "duration": 10,
    "start_time": "2023-10-30T13:57:37.254Z"
   },
   {
    "duration": 3,
    "start_time": "2023-10-30T13:57:42.371Z"
   },
   {
    "duration": 9,
    "start_time": "2023-10-30T13:57:44.307Z"
   },
   {
    "duration": 865,
    "start_time": "2023-10-30T13:58:07.332Z"
   },
   {
    "duration": 585,
    "start_time": "2023-10-30T13:58:13.523Z"
   },
   {
    "duration": 635,
    "start_time": "2023-10-30T13:58:16.627Z"
   },
   {
    "duration": 596,
    "start_time": "2023-10-30T13:58:26.366Z"
   },
   {
    "duration": 6,
    "start_time": "2023-10-30T14:51:27.017Z"
   },
   {
    "duration": 13,
    "start_time": "2023-10-30T14:51:35.779Z"
   },
   {
    "duration": 153,
    "start_time": "2023-10-30T14:51:39.310Z"
   },
   {
    "duration": 15,
    "start_time": "2023-10-30T14:52:18.541Z"
   },
   {
    "duration": 153,
    "start_time": "2023-10-30T14:52:21.602Z"
   },
   {
    "duration": 11,
    "start_time": "2023-10-30T14:52:31.625Z"
   },
   {
    "duration": 200,
    "start_time": "2023-10-30T14:54:56.129Z"
   },
   {
    "duration": 189,
    "start_time": "2023-10-30T14:55:11.545Z"
   },
   {
    "duration": 48,
    "start_time": "2023-10-30T14:55:19.816Z"
   },
   {
    "duration": 172,
    "start_time": "2023-10-30T14:55:22.881Z"
   },
   {
    "duration": 147,
    "start_time": "2023-10-30T14:55:44.503Z"
   },
   {
    "duration": 103,
    "start_time": "2023-10-30T14:55:57.047Z"
   },
   {
    "duration": 19,
    "start_time": "2023-10-30T14:55:58.918Z"
   },
   {
    "duration": 87,
    "start_time": "2023-10-30T14:56:03.599Z"
   },
   {
    "duration": 301,
    "start_time": "2023-10-30T14:57:41.954Z"
   },
   {
    "duration": 318,
    "start_time": "2023-10-30T14:58:18.476Z"
   },
   {
    "duration": 164,
    "start_time": "2023-10-30T14:59:44.522Z"
   },
   {
    "duration": 12,
    "start_time": "2023-10-30T14:59:58.114Z"
   },
   {
    "duration": 21,
    "start_time": "2023-10-30T15:00:00.617Z"
   },
   {
    "duration": 214,
    "start_time": "2023-10-30T15:00:04.001Z"
   },
   {
    "duration": 146,
    "start_time": "2023-10-30T15:00:13.882Z"
   },
   {
    "duration": 21,
    "start_time": "2023-10-30T15:04:16.271Z"
   },
   {
    "duration": 18,
    "start_time": "2023-10-30T15:04:18.914Z"
   },
   {
    "duration": 28,
    "start_time": "2023-10-30T16:23:34.447Z"
   },
   {
    "duration": 61,
    "start_time": "2023-10-30T16:23:36.903Z"
   },
   {
    "duration": 1392,
    "start_time": "2023-10-30T16:23:41.579Z"
   },
   {
    "duration": 605,
    "start_time": "2023-10-30T16:27:58.760Z"
   },
   {
    "duration": 130,
    "start_time": "2023-10-30T16:32:43.756Z"
   },
   {
    "duration": 982,
    "start_time": "2023-10-30T16:32:53.893Z"
   },
   {
    "duration": 458,
    "start_time": "2023-10-30T16:33:11.516Z"
   },
   {
    "duration": 7,
    "start_time": "2023-10-30T16:40:08.523Z"
   },
   {
    "duration": 8,
    "start_time": "2023-10-30T16:45:57.699Z"
   },
   {
    "duration": 15,
    "start_time": "2023-10-30T16:46:00.483Z"
   },
   {
    "duration": 16,
    "start_time": "2023-10-30T16:46:12.091Z"
   },
   {
    "duration": 11,
    "start_time": "2023-10-30T16:46:31.564Z"
   },
   {
    "duration": 8,
    "start_time": "2023-10-30T16:46:33.915Z"
   },
   {
    "duration": 10,
    "start_time": "2023-10-30T16:46:49.556Z"
   },
   {
    "duration": 4,
    "start_time": "2023-10-30T16:46:51.989Z"
   },
   {
    "duration": 51495,
    "start_time": "2023-10-30T16:47:52.303Z"
   },
   {
    "duration": 4,
    "start_time": "2023-10-30T16:49:15.422Z"
   },
   {
    "duration": 2483,
    "start_time": "2023-10-30T16:49:17.851Z"
   },
   {
    "duration": 4,
    "start_time": "2023-10-30T16:49:22.104Z"
   },
   {
    "duration": 2588,
    "start_time": "2023-10-30T16:49:30.327Z"
   },
   {
    "duration": 4,
    "start_time": "2023-10-30T16:49:34.825Z"
   },
   {
    "duration": 251,
    "start_time": "2023-10-30T16:49:41.365Z"
   },
   {
    "duration": 2854,
    "start_time": "2023-10-30T17:18:32.166Z"
   },
   {
    "duration": 11,
    "start_time": "2023-10-30T17:18:50.328Z"
   },
   {
    "duration": 15121,
    "start_time": "2023-10-30T17:18:53.051Z"
   },
   {
    "duration": 3469,
    "start_time": "2023-10-30T17:19:08.175Z"
   },
   {
    "duration": 7337,
    "start_time": "2023-10-30T17:19:46.609Z"
   },
   {
    "duration": 3167,
    "start_time": "2023-10-30T17:19:57.908Z"
   },
   {
    "duration": 1424,
    "start_time": "2023-10-30T17:20:03.021Z"
   },
   {
    "duration": 2294,
    "start_time": "2023-10-30T17:20:05.386Z"
   },
   {
    "duration": 1171,
    "start_time": "2023-10-30T17:20:10.174Z"
   },
   {
    "duration": 50,
    "start_time": "2023-10-30T17:20:22.686Z"
   },
   {
    "duration": 3,
    "start_time": "2023-10-30T17:20:45.217Z"
   },
   {
    "duration": 887,
    "start_time": "2023-10-30T17:20:54.370Z"
   },
   {
    "duration": 825,
    "start_time": "2023-10-30T17:21:25.721Z"
   },
   {
    "duration": 7,
    "start_time": "2023-10-30T17:21:32.505Z"
   },
   {
    "duration": 244,
    "start_time": "2023-10-30T17:22:15.255Z"
   },
   {
    "duration": 752,
    "start_time": "2023-10-30T17:23:11.907Z"
   },
   {
    "duration": 49,
    "start_time": "2023-10-30T17:23:25.370Z"
   },
   {
    "duration": 5,
    "start_time": "2023-10-30T17:23:31.466Z"
   },
   {
    "duration": 729,
    "start_time": "2023-10-30T17:23:46.256Z"
   },
   {
    "duration": 22,
    "start_time": "2023-10-30T17:25:34.223Z"
   },
   {
    "duration": 760,
    "start_time": "2023-10-30T17:25:37.187Z"
   },
   {
    "duration": 715,
    "start_time": "2023-10-30T17:25:46.264Z"
   },
   {
    "duration": 8,
    "start_time": "2023-10-30T17:25:59.115Z"
   },
   {
    "duration": 621,
    "start_time": "2023-10-30T17:26:04.056Z"
   },
   {
    "duration": 591,
    "start_time": "2023-10-30T17:27:05.868Z"
   },
   {
    "duration": 439,
    "start_time": "2023-10-30T17:27:28.028Z"
   },
   {
    "duration": 460,
    "start_time": "2023-10-30T17:27:32.699Z"
   },
   {
    "duration": 780,
    "start_time": "2023-10-30T17:27:36.401Z"
   },
   {
    "duration": 366,
    "start_time": "2023-10-30T17:27:42.820Z"
   },
   {
    "duration": 127,
    "start_time": "2023-10-30T17:30:12.533Z"
   },
   {
    "duration": 442,
    "start_time": "2023-10-30T17:30:14.220Z"
   },
   {
    "duration": 442,
    "start_time": "2023-10-30T17:30:26.341Z"
   },
   {
    "duration": 486,
    "start_time": "2023-10-30T17:30:45.760Z"
   },
   {
    "duration": 950,
    "start_time": "2023-10-30T17:30:47.701Z"
   },
   {
    "duration": 391,
    "start_time": "2023-10-30T17:31:02.284Z"
   },
   {
    "duration": 686,
    "start_time": "2023-10-30T17:31:13.782Z"
   },
   {
    "duration": 616,
    "start_time": "2023-10-30T17:31:45.941Z"
   },
   {
    "duration": 371,
    "start_time": "2023-10-30T17:31:50.199Z"
   },
   {
    "duration": 311,
    "start_time": "2023-10-30T17:33:01.574Z"
   },
   {
    "duration": 664,
    "start_time": "2023-10-30T17:33:04.099Z"
   },
   {
    "duration": 717,
    "start_time": "2023-10-30T17:33:10.938Z"
   },
   {
    "duration": 467,
    "start_time": "2023-10-30T17:33:12.677Z"
   },
   {
    "duration": 488,
    "start_time": "2023-10-30T17:40:58.095Z"
   },
   {
    "duration": 859,
    "start_time": "2023-10-30T17:40:58.688Z"
   },
   {
    "duration": 688,
    "start_time": "2023-10-30T17:41:01.164Z"
   },
   {
    "duration": 1289,
    "start_time": "2023-10-30T17:41:01.883Z"
   },
   {
    "duration": 555,
    "start_time": "2023-10-30T17:41:08.129Z"
   },
   {
    "duration": 6,
    "start_time": "2023-10-30T17:48:40.834Z"
   },
   {
    "duration": 2849,
    "start_time": "2023-10-30T17:48:46.614Z"
   },
   {
    "duration": 15278,
    "start_time": "2023-10-30T17:48:50.970Z"
   },
   {
    "duration": 3283,
    "start_time": "2023-10-30T17:50:04.003Z"
   },
   {
    "duration": 15687,
    "start_time": "2023-10-30T17:50:10.663Z"
   },
   {
    "duration": 1790,
    "start_time": "2023-10-30T17:52:43.072Z"
   },
   {
    "duration": 3411,
    "start_time": "2023-10-30T17:52:47.375Z"
   },
   {
    "duration": 16403,
    "start_time": "2023-10-30T17:52:50.789Z"
   },
   {
    "duration": 1695,
    "start_time": "2023-10-30T17:55:20.674Z"
   },
   {
    "duration": 1112,
    "start_time": "2023-10-30T17:55:25.490Z"
   },
   {
    "duration": 1156,
    "start_time": "2023-10-30T17:55:29.435Z"
   },
   {
    "duration": 3359,
    "start_time": "2023-10-30T17:55:42.972Z"
   },
   {
    "duration": 15393,
    "start_time": "2023-10-30T17:55:46.665Z"
   },
   {
    "duration": 3401,
    "start_time": "2023-10-30T18:03:23.818Z"
   },
   {
    "duration": 14074,
    "start_time": "2023-10-30T18:03:28.072Z"
   },
   {
    "duration": 3972,
    "start_time": "2023-10-30T18:04:23.092Z"
   },
   {
    "duration": 13695,
    "start_time": "2023-10-30T18:04:27.066Z"
   },
   {
    "duration": 3850,
    "start_time": "2023-10-30T18:04:56.870Z"
   },
   {
    "duration": 13957,
    "start_time": "2023-10-30T18:05:00.723Z"
   },
   {
    "duration": 4528,
    "start_time": "2023-10-30T18:05:18.195Z"
   },
   {
    "duration": 13931,
    "start_time": "2023-10-30T18:05:22.725Z"
   },
   {
    "duration": 3224,
    "start_time": "2023-10-30T18:05:39.536Z"
   },
   {
    "duration": 6802,
    "start_time": "2023-10-30T18:05:42.763Z"
   },
   {
    "duration": 2777,
    "start_time": "2023-10-30T18:05:54.036Z"
   },
   {
    "duration": 14152,
    "start_time": "2023-10-30T18:05:56.815Z"
   },
   {
    "duration": 3625,
    "start_time": "2023-10-30T18:06:10.969Z"
   },
   {
    "duration": 6754,
    "start_time": "2023-10-30T18:06:14.598Z"
   },
   {
    "duration": 2793,
    "start_time": "2023-10-30T18:06:26.172Z"
   },
   {
    "duration": 2306,
    "start_time": "2023-10-30T18:06:29.058Z"
   },
   {
    "duration": 2746,
    "start_time": "2023-10-30T18:07:24.577Z"
   },
   {
    "duration": 59,
    "start_time": "2023-10-30T18:07:27.325Z"
   },
   {
    "duration": 7,
    "start_time": "2023-10-30T18:07:41.357Z"
   },
   {
    "duration": 14816,
    "start_time": "2023-10-30T18:07:52.005Z"
   },
   {
    "duration": 1695,
    "start_time": "2023-10-30T18:08:08.684Z"
   },
   {
    "duration": 1818,
    "start_time": "2023-10-30T18:08:10.734Z"
   },
   {
    "duration": 7759,
    "start_time": "2023-10-30T18:08:13.304Z"
   },
   {
    "duration": 2654,
    "start_time": "2023-10-30T18:08:45.363Z"
   },
   {
    "duration": 14674,
    "start_time": "2023-10-30T18:08:48.019Z"
   },
   {
    "duration": 3491,
    "start_time": "2023-10-30T18:09:02.695Z"
   },
   {
    "duration": 7385,
    "start_time": "2023-10-30T18:09:06.188Z"
   },
   {
    "duration": 3388,
    "start_time": "2023-10-30T18:09:13.577Z"
   },
   {
    "duration": 2400,
    "start_time": "2023-10-30T18:09:16.967Z"
   },
   {
    "duration": 1680,
    "start_time": "2023-10-30T18:09:19.368Z"
   },
   {
    "duration": 1406,
    "start_time": "2023-10-30T18:09:21.050Z"
   },
   {
    "duration": 2794,
    "start_time": "2023-10-30T18:17:31.208Z"
   },
   {
    "duration": 91,
    "start_time": "2023-10-30T18:17:45.601Z"
   },
   {
    "duration": 18,
    "start_time": "2023-10-30T20:26:00.339Z"
   },
   {
    "duration": 91,
    "start_time": "2023-10-30T20:26:16.941Z"
   },
   {
    "duration": 1711,
    "start_time": "2023-10-30T20:26:26.061Z"
   },
   {
    "duration": 874,
    "start_time": "2023-10-30T20:26:32.372Z"
   },
   {
    "duration": 56,
    "start_time": "2023-10-30T20:26:41.374Z"
   },
   {
    "duration": 3145,
    "start_time": "2023-10-30T20:26:51.659Z"
   },
   {
    "duration": 14659,
    "start_time": "2023-10-30T20:26:54.806Z"
   },
   {
    "duration": 3502,
    "start_time": "2023-10-30T20:27:09.467Z"
   },
   {
    "duration": 7714,
    "start_time": "2023-10-30T20:27:12.971Z"
   },
   {
    "duration": 3328,
    "start_time": "2023-10-30T20:27:20.745Z"
   },
   {
    "duration": 2674,
    "start_time": "2023-10-30T20:27:24.076Z"
   },
   {
    "duration": 1612,
    "start_time": "2023-10-30T20:27:26.752Z"
   },
   {
    "duration": 1407,
    "start_time": "2023-10-30T20:27:28.366Z"
   },
   {
    "duration": 2303,
    "start_time": "2023-10-30T20:27:29.775Z"
   },
   {
    "duration": 98,
    "start_time": "2023-10-30T20:27:43.164Z"
   },
   {
    "duration": 60,
    "start_time": "2023-10-30T20:28:02.416Z"
   },
   {
    "duration": 3133,
    "start_time": "2023-10-30T20:28:05.484Z"
   },
   {
    "duration": 15018,
    "start_time": "2023-10-30T20:28:08.619Z"
   },
   {
    "duration": 3717,
    "start_time": "2023-10-30T20:28:23.639Z"
   },
   {
    "duration": 7716,
    "start_time": "2023-10-30T20:28:27.359Z"
   },
   {
    "duration": 3473,
    "start_time": "2023-10-30T20:28:35.077Z"
   },
   {
    "duration": 2413,
    "start_time": "2023-10-30T20:28:38.554Z"
   },
   {
    "duration": 1604,
    "start_time": "2023-10-30T20:28:40.968Z"
   },
   {
    "duration": 1396,
    "start_time": "2023-10-30T20:28:42.575Z"
   },
   {
    "duration": 396,
    "start_time": "2023-10-30T20:28:43.973Z"
   },
   {
    "duration": 3291,
    "start_time": "2023-10-30T20:29:42.932Z"
   },
   {
    "duration": 15558,
    "start_time": "2023-10-30T20:29:46.225Z"
   },
   {
    "duration": 4496,
    "start_time": "2023-10-30T20:30:01.786Z"
   },
   {
    "duration": 7980,
    "start_time": "2023-10-30T20:30:06.284Z"
   },
   {
    "duration": 3623,
    "start_time": "2023-10-30T20:30:14.267Z"
   },
   {
    "duration": 2601,
    "start_time": "2023-10-30T20:30:17.945Z"
   },
   {
    "duration": 1326,
    "start_time": "2023-10-30T20:30:20.548Z"
   },
   {
    "duration": 1486,
    "start_time": "2023-10-30T20:30:21.877Z"
   },
   {
    "duration": 407,
    "start_time": "2023-10-30T20:30:23.364Z"
   },
   {
    "duration": 2584,
    "start_time": "2023-10-30T20:30:47.640Z"
   },
   {
    "duration": 2669,
    "start_time": "2023-10-30T20:32:30.142Z"
   },
   {
    "duration": 65,
    "start_time": "2023-10-30T20:32:44.981Z"
   },
   {
    "duration": 775,
    "start_time": "2023-10-30T20:32:50.200Z"
   },
   {
    "duration": 49,
    "start_time": "2023-10-30T20:33:01.117Z"
   },
   {
    "duration": 3317,
    "start_time": "2023-10-30T20:33:04.299Z"
   },
   {
    "duration": 14752,
    "start_time": "2023-10-30T20:33:07.618Z"
   },
   {
    "duration": 3540,
    "start_time": "2023-10-30T20:33:22.372Z"
   },
   {
    "duration": 7351,
    "start_time": "2023-10-30T20:33:25.914Z"
   },
   {
    "duration": 3292,
    "start_time": "2023-10-30T20:33:33.267Z"
   },
   {
    "duration": 2590,
    "start_time": "2023-10-30T20:33:36.561Z"
   },
   {
    "duration": 1601,
    "start_time": "2023-10-30T20:33:39.154Z"
   },
   {
    "duration": 1312,
    "start_time": "2023-10-30T20:33:40.759Z"
   },
   {
    "duration": 2598,
    "start_time": "2023-10-30T20:33:42.073Z"
   },
   {
    "duration": 991,
    "start_time": "2023-10-30T20:33:44.673Z"
   },
   {
    "duration": 2702,
    "start_time": "2023-10-30T20:37:34.411Z"
   },
   {
    "duration": 3546,
    "start_time": "2023-10-30T20:46:31.980Z"
   },
   {
    "duration": 14880,
    "start_time": "2023-10-30T20:46:35.528Z"
   },
   {
    "duration": 3776,
    "start_time": "2023-10-30T20:46:50.411Z"
   },
   {
    "duration": 8586,
    "start_time": "2023-10-30T20:46:54.190Z"
   },
   {
    "duration": 4032,
    "start_time": "2023-10-30T20:47:02.778Z"
   },
   {
    "duration": 3140,
    "start_time": "2023-10-30T20:47:06.811Z"
   },
   {
    "duration": 1698,
    "start_time": "2023-10-30T20:47:09.952Z"
   },
   {
    "duration": 1739,
    "start_time": "2023-10-30T20:47:11.652Z"
   },
   {
    "duration": 2945,
    "start_time": "2023-10-30T20:48:56.444Z"
   },
   {
    "duration": 3664,
    "start_time": "2023-10-30T20:49:07.321Z"
   },
   {
    "duration": 15726,
    "start_time": "2023-10-30T20:49:10.991Z"
   },
   {
    "duration": 4606,
    "start_time": "2023-10-30T20:49:26.751Z"
   },
   {
    "duration": 9545,
    "start_time": "2023-10-30T20:49:31.359Z"
   },
   {
    "duration": 3551,
    "start_time": "2023-10-30T20:49:40.945Z"
   },
   {
    "duration": 2855,
    "start_time": "2023-10-30T20:49:44.498Z"
   },
   {
    "duration": 2089,
    "start_time": "2023-10-30T20:49:47.357Z"
   },
   {
    "duration": 1707,
    "start_time": "2023-10-30T20:49:49.447Z"
   },
   {
    "duration": 3445,
    "start_time": "2023-10-30T20:49:51.155Z"
   },
   {
    "duration": 2893,
    "start_time": "2023-10-30T20:51:00.282Z"
   },
   {
    "duration": 106,
    "start_time": "2023-10-30T20:51:24.228Z"
   },
   {
    "duration": 38,
    "start_time": "2023-10-30T20:51:28.108Z"
   },
   {
    "duration": 1262,
    "start_time": "2023-10-30T20:51:36.228Z"
   },
   {
    "duration": 55,
    "start_time": "2023-10-30T20:52:19.984Z"
   },
   {
    "duration": 3508,
    "start_time": "2023-10-30T20:52:23.830Z"
   },
   {
    "duration": 16141,
    "start_time": "2023-10-30T20:52:27.340Z"
   },
   {
    "duration": 4523,
    "start_time": "2023-10-30T20:52:43.483Z"
   },
   {
    "duration": 10575,
    "start_time": "2023-10-30T20:52:48.008Z"
   },
   {
    "duration": 3209,
    "start_time": "2023-10-30T20:52:58.585Z"
   },
   {
    "duration": 2945,
    "start_time": "2023-10-30T20:53:01.844Z"
   },
   {
    "duration": 1458,
    "start_time": "2023-10-30T20:53:04.843Z"
   },
   {
    "duration": 1337,
    "start_time": "2023-10-30T20:53:06.344Z"
   },
   {
    "duration": 2492,
    "start_time": "2023-10-30T20:53:07.683Z"
   },
   {
    "duration": 145,
    "start_time": "2023-10-30T20:53:35.966Z"
   },
   {
    "duration": 3355,
    "start_time": "2023-10-30T20:53:39.722Z"
   },
   {
    "duration": 15523,
    "start_time": "2023-10-30T20:53:43.079Z"
   },
   {
    "duration": 4847,
    "start_time": "2023-10-30T20:53:58.606Z"
   },
   {
    "duration": 10726,
    "start_time": "2023-10-30T20:54:03.455Z"
   },
   {
    "duration": 3489,
    "start_time": "2023-10-30T20:54:14.183Z"
   },
   {
    "duration": 2804,
    "start_time": "2023-10-30T20:54:17.675Z"
   },
   {
    "duration": 1506,
    "start_time": "2023-10-30T20:54:20.480Z"
   },
   {
    "duration": 1532,
    "start_time": "2023-10-30T20:54:22.051Z"
   },
   {
    "duration": 3908,
    "start_time": "2023-10-30T20:54:23.586Z"
   },
   {
    "duration": 138,
    "start_time": "2023-10-30T20:56:34.407Z"
   },
   {
    "duration": 682,
    "start_time": "2023-10-30T20:56:41.677Z"
   },
   {
    "duration": 15,
    "start_time": "2023-10-30T21:01:03.396Z"
   },
   {
    "duration": 50,
    "start_time": "2023-10-31T14:37:36.108Z"
   },
   {
    "duration": 53135,
    "start_time": "2023-10-31T14:37:40.904Z"
   },
   {
    "duration": 16703,
    "start_time": "2023-10-31T14:38:34.042Z"
   },
   {
    "duration": 3819,
    "start_time": "2023-10-31T14:38:50.747Z"
   },
   {
    "duration": 8395,
    "start_time": "2023-10-31T14:38:54.568Z"
   },
   {
    "duration": 2706,
    "start_time": "2023-10-31T14:39:02.965Z"
   },
   {
    "duration": 2488,
    "start_time": "2023-10-31T14:39:05.673Z"
   },
   {
    "duration": 1177,
    "start_time": "2023-10-31T14:39:08.163Z"
   },
   {
    "duration": 1298,
    "start_time": "2023-10-31T14:39:09.341Z"
   },
   {
    "duration": 3033,
    "start_time": "2023-10-31T14:39:10.641Z"
   },
   {
    "duration": 99,
    "start_time": "2023-10-31T14:42:46.073Z"
   },
   {
    "duration": 2834,
    "start_time": "2023-10-31T14:43:04.458Z"
   },
   {
    "duration": 13357,
    "start_time": "2023-10-31T14:43:07.294Z"
   },
   {
    "duration": 3388,
    "start_time": "2023-10-31T14:43:20.653Z"
   },
   {
    "duration": 7320,
    "start_time": "2023-10-31T14:43:26.532Z"
   },
   {
    "duration": 2386,
    "start_time": "2023-10-31T14:43:33.854Z"
   },
   {
    "duration": 2001,
    "start_time": "2023-10-31T14:43:36.241Z"
   },
   {
    "duration": 1000,
    "start_time": "2023-10-31T14:43:38.244Z"
   },
   {
    "duration": 1019,
    "start_time": "2023-10-31T14:43:39.245Z"
   },
   {
    "duration": 2626,
    "start_time": "2023-10-31T14:43:42.918Z"
   },
   {
    "duration": 112,
    "start_time": "2023-10-31T14:43:48.147Z"
   },
   {
    "duration": 1430,
    "start_time": "2023-10-31T14:44:23.223Z"
   },
   {
    "duration": 498,
    "start_time": "2023-10-31T14:44:30.863Z"
   },
   {
    "duration": 3,
    "start_time": "2023-10-31T15:01:47.153Z"
   },
   {
    "duration": 3,
    "start_time": "2023-10-31T15:01:56.548Z"
   },
   {
    "duration": 3,
    "start_time": "2023-10-31T15:02:08.176Z"
   },
   {
    "duration": 40,
    "start_time": "2023-10-31T15:04:45.950Z"
   },
   {
    "duration": 2826,
    "start_time": "2023-10-31T15:04:54.128Z"
   },
   {
    "duration": 12991,
    "start_time": "2023-10-31T15:04:56.956Z"
   },
   {
    "duration": 3497,
    "start_time": "2023-10-31T15:05:09.949Z"
   },
   {
    "duration": 6820,
    "start_time": "2023-10-31T15:05:13.448Z"
   },
   {
    "duration": 2382,
    "start_time": "2023-10-31T15:05:20.270Z"
   },
   {
    "duration": 2010,
    "start_time": "2023-10-31T15:05:22.654Z"
   },
   {
    "duration": 989,
    "start_time": "2023-10-31T15:05:24.666Z"
   },
   {
    "duration": 1001,
    "start_time": "2023-10-31T15:05:25.657Z"
   },
   {
    "duration": 779,
    "start_time": "2023-10-31T15:05:50.961Z"
   },
   {
    "duration": 1789,
    "start_time": "2023-10-31T15:05:56.293Z"
   },
   {
    "duration": 48,
    "start_time": "2023-10-31T15:06:15.684Z"
   },
   {
    "duration": 1056,
    "start_time": "2023-10-31T15:06:21.098Z"
   },
   {
    "duration": 1221,
    "start_time": "2023-10-31T15:07:37.953Z"
   },
   {
    "duration": 39,
    "start_time": "2023-10-31T15:11:43.980Z"
   },
   {
    "duration": 1188,
    "start_time": "2023-10-31T15:11:51.488Z"
   },
   {
    "duration": 471,
    "start_time": "2023-10-31T15:11:53.795Z"
   },
   {
    "duration": 40,
    "start_time": "2023-10-31T15:12:21.903Z"
   },
   {
    "duration": 971,
    "start_time": "2023-10-31T15:12:24.192Z"
   },
   {
    "duration": 7,
    "start_time": "2023-10-31T15:14:34.888Z"
   },
   {
    "duration": 3294,
    "start_time": "2023-10-31T15:14:40.862Z"
   },
   {
    "duration": 42932,
    "start_time": "2023-10-31T22:13:49.264Z"
   },
   {
    "duration": 49,
    "start_time": "2023-11-01T09:00:00.948Z"
   },
   {
    "duration": 45305,
    "start_time": "2023-11-01T09:00:05.071Z"
   },
   {
    "duration": 13739,
    "start_time": "2023-11-01T09:00:50.378Z"
   },
   {
    "duration": 3589,
    "start_time": "2023-11-01T09:01:04.119Z"
   },
   {
    "duration": 7700,
    "start_time": "2023-11-01T09:01:07.711Z"
   },
   {
    "duration": 2522,
    "start_time": "2023-11-01T09:01:15.414Z"
   },
   {
    "duration": 2574,
    "start_time": "2023-11-01T09:01:17.938Z"
   },
   {
    "duration": 1493,
    "start_time": "2023-11-01T09:01:20.514Z"
   },
   {
    "duration": 1120,
    "start_time": "2023-11-01T09:01:22.009Z"
   },
   {
    "duration": 1899,
    "start_time": "2023-11-01T09:01:23.131Z"
   },
   {
    "duration": 1802,
    "start_time": "2023-11-01T09:01:25.032Z"
   },
   {
    "duration": 1272,
    "start_time": "2023-11-01T09:01:26.836Z"
   },
   {
    "duration": 18,
    "start_time": "2023-11-01T09:01:28.109Z"
   },
   {
    "duration": 7889,
    "start_time": "2023-11-01T09:01:28.129Z"
   },
   {
    "duration": 3086,
    "start_time": "2023-11-01T09:01:48.340Z"
   },
   {
    "duration": 2672,
    "start_time": "2023-11-01T09:02:11.504Z"
   },
   {
    "duration": 2514,
    "start_time": "2023-11-01T09:03:13.902Z"
   },
   {
    "duration": 3259,
    "start_time": "2023-11-01T09:04:42.533Z"
   },
   {
    "duration": 1776,
    "start_time": "2023-11-01T09:04:51.959Z"
   },
   {
    "duration": 1590,
    "start_time": "2023-11-01T09:05:03.034Z"
   },
   {
    "duration": 1613,
    "start_time": "2023-11-01T09:05:16.823Z"
   },
   {
    "duration": 2444,
    "start_time": "2023-11-01T09:28:23.059Z"
   },
   {
    "duration": 72,
    "start_time": "2023-11-01T09:37:18.900Z"
   },
   {
    "duration": 28,
    "start_time": "2023-11-01T09:37:24.493Z"
   },
   {
    "duration": 3320,
    "start_time": "2023-11-01T09:37:33.393Z"
   },
   {
    "duration": 6536,
    "start_time": "2023-11-01T09:39:14.618Z"
   },
   {
    "duration": 5594,
    "start_time": "2023-11-01T09:39:25.153Z"
   },
   {
    "duration": 1299,
    "start_time": "2023-11-01T09:39:31.733Z"
   },
   {
    "duration": 3014,
    "start_time": "2023-11-01T09:39:52.408Z"
   },
   {
    "duration": 1205,
    "start_time": "2023-11-01T10:17:54.207Z"
   },
   {
    "duration": 2818,
    "start_time": "2023-11-01T10:18:18.408Z"
   },
   {
    "duration": 214,
    "start_time": "2023-11-01T10:19:33.908Z"
   },
   {
    "duration": 2990,
    "start_time": "2023-11-01T10:19:40.285Z"
   },
   {
    "duration": 13976,
    "start_time": "2023-11-01T10:19:43.278Z"
   },
   {
    "duration": 3473,
    "start_time": "2023-11-01T10:19:57.256Z"
   },
   {
    "duration": 8797,
    "start_time": "2023-11-01T10:20:00.731Z"
   },
   {
    "duration": 3091,
    "start_time": "2023-11-01T10:20:09.531Z"
   },
   {
    "duration": 2813,
    "start_time": "2023-11-01T10:20:12.625Z"
   },
   {
    "duration": 1279,
    "start_time": "2023-11-01T10:20:15.440Z"
   },
   {
    "duration": 1221,
    "start_time": "2023-11-01T10:20:16.722Z"
   },
   {
    "duration": 2036,
    "start_time": "2023-11-01T10:20:18.007Z"
   },
   {
    "duration": 2072,
    "start_time": "2023-11-01T10:20:20.045Z"
   },
   {
    "duration": 98,
    "start_time": "2023-11-01T10:20:22.119Z"
   },
   {
    "duration": 20,
    "start_time": "2023-11-01T10:20:22.219Z"
   },
   {
    "duration": 9911,
    "start_time": "2023-11-01T10:20:22.307Z"
   },
   {
    "duration": 14,
    "start_time": "2023-11-01T10:21:49.134Z"
   },
   {
    "duration": 1857,
    "start_time": "2023-11-01T10:22:15.454Z"
   },
   {
    "duration": 183146,
    "start_time": "2023-11-01T14:41:10.391Z"
   },
   {
    "duration": 3649,
    "start_time": "2023-11-01T15:42:26.923Z"
   },
   {
    "duration": 14260,
    "start_time": "2023-11-01T15:42:30.574Z"
   },
   {
    "duration": 3310,
    "start_time": "2023-11-01T15:42:48.735Z"
   },
   {
    "duration": 7559,
    "start_time": "2023-11-01T15:42:56.452Z"
   },
   {
    "duration": 2807,
    "start_time": "2023-11-01T15:43:04.014Z"
   },
   {
    "duration": 2954,
    "start_time": "2023-11-01T15:43:33.314Z"
   },
   {
    "duration": 13799,
    "start_time": "2023-11-01T15:43:36.270Z"
   },
   {
    "duration": 3508,
    "start_time": "2023-11-01T15:43:50.106Z"
   },
   {
    "duration": 7992,
    "start_time": "2023-11-01T15:43:53.617Z"
   },
   {
    "duration": 2626,
    "start_time": "2023-11-01T15:44:01.611Z"
   },
   {
    "duration": 2368,
    "start_time": "2023-11-01T15:44:04.239Z"
   },
   {
    "duration": 1041,
    "start_time": "2023-11-01T15:44:06.609Z"
   },
   {
    "duration": 1077,
    "start_time": "2023-11-01T15:44:07.652Z"
   },
   {
    "duration": 1993,
    "start_time": "2023-11-01T15:44:08.731Z"
   },
   {
    "duration": 1690,
    "start_time": "2023-11-01T15:44:10.727Z"
   },
   {
    "duration": 91,
    "start_time": "2023-11-01T15:44:12.419Z"
   },
   {
    "duration": 156,
    "start_time": "2023-11-01T15:44:12.512Z"
   },
   {
    "duration": 4932,
    "start_time": "2023-11-01T15:44:19.077Z"
   },
   {
    "duration": 3208,
    "start_time": "2023-11-01T16:14:48.165Z"
   },
   {
    "duration": 14137,
    "start_time": "2023-11-01T16:14:51.375Z"
   },
   {
    "duration": 3400,
    "start_time": "2023-11-01T16:15:05.515Z"
   },
   {
    "duration": 7717,
    "start_time": "2023-11-01T16:15:08.918Z"
   },
   {
    "duration": 2705,
    "start_time": "2023-11-01T16:15:16.637Z"
   },
   {
    "duration": 2264,
    "start_time": "2023-11-01T16:15:19.344Z"
   },
   {
    "duration": 1025,
    "start_time": "2023-11-01T16:15:21.610Z"
   },
   {
    "duration": 1090,
    "start_time": "2023-11-01T16:15:22.636Z"
   },
   {
    "duration": 2079,
    "start_time": "2023-11-01T16:15:23.728Z"
   },
   {
    "duration": 1798,
    "start_time": "2023-11-01T16:15:25.809Z"
   },
   {
    "duration": 27,
    "start_time": "2023-11-01T16:15:27.609Z"
   },
   {
    "duration": 76,
    "start_time": "2023-11-01T16:15:27.638Z"
   },
   {
    "duration": 84,
    "start_time": "2023-11-01T16:15:41.698Z"
   },
   {
    "duration": 37701,
    "start_time": "2023-11-01T16:15:54.668Z"
   },
   {
    "duration": 100,
    "start_time": "2023-11-01T20:43:31.135Z"
   },
   {
    "duration": 54,
    "start_time": "2023-11-01T20:43:37.518Z"
   },
   {
    "duration": 55339,
    "start_time": "2023-11-01T20:43:42.077Z"
   },
   {
    "duration": 16440,
    "start_time": "2023-11-01T20:44:37.419Z"
   },
   {
    "duration": 3337,
    "start_time": "2023-11-01T20:44:53.861Z"
   },
   {
    "duration": 8863,
    "start_time": "2023-11-01T20:44:57.200Z"
   },
   {
    "duration": 2710,
    "start_time": "2023-11-01T20:45:06.065Z"
   },
   {
    "duration": 2596,
    "start_time": "2023-11-01T20:45:08.777Z"
   },
   {
    "duration": 1092,
    "start_time": "2023-11-01T20:45:11.375Z"
   },
   {
    "duration": 1478,
    "start_time": "2023-11-01T20:45:12.469Z"
   },
   {
    "duration": 2112,
    "start_time": "2023-11-01T20:45:13.949Z"
   },
   {
    "duration": 1820,
    "start_time": "2023-11-01T20:45:16.063Z"
   },
   {
    "duration": 26,
    "start_time": "2023-11-01T20:45:17.946Z"
   },
   {
    "duration": 89,
    "start_time": "2023-11-01T20:45:17.975Z"
   },
   {
    "duration": 28108,
    "start_time": "2023-11-01T20:45:18.066Z"
   },
   {
    "duration": 46,
    "start_time": "2023-11-02T07:34:30.138Z"
   },
   {
    "duration": 6,
    "start_time": "2023-11-02T07:35:36.142Z"
   },
   {
    "duration": 51784,
    "start_time": "2023-11-02T07:35:40.369Z"
   },
   {
    "duration": 15816,
    "start_time": "2023-11-02T07:36:32.155Z"
   },
   {
    "duration": 3944,
    "start_time": "2023-11-02T07:36:47.973Z"
   },
   {
    "duration": 10729,
    "start_time": "2023-11-02T07:36:51.918Z"
   },
   {
    "duration": 3389,
    "start_time": "2023-11-02T07:37:02.649Z"
   },
   {
    "duration": 3100,
    "start_time": "2023-11-02T07:37:06.041Z"
   },
   {
    "duration": 1419,
    "start_time": "2023-11-02T07:37:09.142Z"
   },
   {
    "duration": 1733,
    "start_time": "2023-11-02T07:37:10.608Z"
   },
   {
    "duration": 2564,
    "start_time": "2023-11-02T07:37:12.343Z"
   },
   {
    "duration": 2451,
    "start_time": "2023-11-02T07:37:14.909Z"
   },
   {
    "duration": 153,
    "start_time": "2023-11-02T07:37:17.361Z"
   },
   {
    "duration": 34,
    "start_time": "2023-11-02T07:37:17.516Z"
   },
   {
    "duration": 3,
    "start_time": "2023-11-02T07:37:17.552Z"
   },
   {
    "duration": 8922,
    "start_time": "2023-11-02T07:38:14.021Z"
   },
   {
    "duration": 3,
    "start_time": "2023-11-02T07:39:26.397Z"
   },
   {
    "duration": 2075,
    "start_time": "2023-11-02T07:39:27.158Z"
   },
   {
    "duration": 31320,
    "start_time": "2023-11-02T07:39:52.598Z"
   },
   {
    "duration": 4,
    "start_time": "2023-11-02T07:41:17.770Z"
   },
   {
    "duration": 4541,
    "start_time": "2023-11-02T07:41:18.499Z"
   },
   {
    "duration": 23409,
    "start_time": "2023-11-02T07:41:28.333Z"
   },
   {
    "duration": 4,
    "start_time": "2023-11-02T07:41:56.211Z"
   },
   {
    "duration": 12560,
    "start_time": "2023-11-02T07:41:56.699Z"
   },
   {
    "duration": 12921,
    "start_time": "2023-11-02T07:42:58.818Z"
   },
   {
    "duration": 11870,
    "start_time": "2023-11-02T07:44:02.977Z"
   },
   {
    "duration": 9781,
    "start_time": "2023-11-02T07:44:14.849Z"
   },
   {
    "duration": 10059,
    "start_time": "2023-11-02T07:48:15.999Z"
   },
   {
    "duration": 8695,
    "start_time": "2023-11-02T07:48:26.060Z"
   },
   {
    "duration": 10,
    "start_time": "2023-11-02T07:48:34.807Z"
   },
   {
    "duration": 0,
    "start_time": "2023-11-02T07:48:34.819Z"
   },
   {
    "duration": 13,
    "start_time": "2023-11-02T07:49:14.289Z"
   },
   {
    "duration": 6,
    "start_time": "2023-11-02T07:49:19.330Z"
   },
   {
    "duration": 8928,
    "start_time": "2023-11-02T07:49:42.238Z"
   },
   {
    "duration": 0,
    "start_time": "2023-11-02T07:49:51.167Z"
   },
   {
    "duration": 0,
    "start_time": "2023-11-02T07:49:51.169Z"
   },
   {
    "duration": 0,
    "start_time": "2023-11-02T07:49:51.170Z"
   },
   {
    "duration": 63,
    "start_time": "2023-11-02T07:54:29.378Z"
   },
   {
    "duration": 793,
    "start_time": "2023-11-02T07:55:08.869Z"
   },
   {
    "duration": 652,
    "start_time": "2023-11-02T07:55:25.302Z"
   },
   {
    "duration": 543,
    "start_time": "2023-11-02T07:56:41.129Z"
   },
   {
    "duration": 50,
    "start_time": "2023-11-02T07:57:34.418Z"
   },
   {
    "duration": 28,
    "start_time": "2023-11-02T07:58:03.049Z"
   },
   {
    "duration": 1019,
    "start_time": "2023-11-02T10:58:53.608Z"
   },
   {
    "duration": 665,
    "start_time": "2023-11-02T11:01:20.583Z"
   },
   {
    "duration": 383,
    "start_time": "2023-11-02T11:01:41.454Z"
   },
   {
    "duration": 505,
    "start_time": "2023-11-02T11:02:03.412Z"
   },
   {
    "duration": 779,
    "start_time": "2023-11-02T11:02:13.886Z"
   },
   {
    "duration": 1606,
    "start_time": "2023-11-02T11:02:32.911Z"
   },
   {
    "duration": 1230,
    "start_time": "2023-11-02T11:03:15.265Z"
   },
   {
    "duration": 1194,
    "start_time": "2023-11-02T11:03:24.266Z"
   },
   {
    "duration": 1113,
    "start_time": "2023-11-02T11:03:33.861Z"
   },
   {
    "duration": 1654,
    "start_time": "2023-11-02T11:03:53.354Z"
   },
   {
    "duration": 3163,
    "start_time": "2023-11-02T11:04:12.205Z"
   },
   {
    "duration": 1540,
    "start_time": "2023-11-02T11:04:15.369Z"
   },
   {
    "duration": 0,
    "start_time": "2023-11-02T11:04:16.912Z"
   },
   {
    "duration": 0,
    "start_time": "2023-11-02T11:04:16.914Z"
   },
   {
    "duration": 0,
    "start_time": "2023-11-02T11:04:16.915Z"
   },
   {
    "duration": 0,
    "start_time": "2023-11-02T11:04:16.917Z"
   },
   {
    "duration": 0,
    "start_time": "2023-11-02T11:04:16.918Z"
   },
   {
    "duration": 0,
    "start_time": "2023-11-02T11:04:16.919Z"
   },
   {
    "duration": 0,
    "start_time": "2023-11-02T11:04:16.920Z"
   },
   {
    "duration": 0,
    "start_time": "2023-11-02T11:04:16.921Z"
   },
   {
    "duration": 0,
    "start_time": "2023-11-02T11:04:16.922Z"
   },
   {
    "duration": 0,
    "start_time": "2023-11-02T11:04:16.923Z"
   },
   {
    "duration": 0,
    "start_time": "2023-11-02T11:04:16.924Z"
   },
   {
    "duration": 0,
    "start_time": "2023-11-02T11:04:16.925Z"
   },
   {
    "duration": 0,
    "start_time": "2023-11-02T11:04:16.927Z"
   },
   {
    "duration": 0,
    "start_time": "2023-11-02T11:04:16.928Z"
   },
   {
    "duration": 5588,
    "start_time": "2023-11-02T11:04:23.640Z"
   },
   {
    "duration": 13982,
    "start_time": "2023-11-02T11:04:29.229Z"
   },
   {
    "duration": 3642,
    "start_time": "2023-11-02T11:04:43.213Z"
   },
   {
    "duration": 7883,
    "start_time": "2023-11-02T11:04:46.858Z"
   },
   {
    "duration": 2626,
    "start_time": "2023-11-02T11:04:54.808Z"
   },
   {
    "duration": 2101,
    "start_time": "2023-11-02T11:04:57.435Z"
   },
   {
    "duration": 1105,
    "start_time": "2023-11-02T11:04:59.538Z"
   },
   {
    "duration": 1113,
    "start_time": "2023-11-02T11:05:00.708Z"
   },
   {
    "duration": 1913,
    "start_time": "2023-11-02T11:05:01.823Z"
   },
   {
    "duration": 1782,
    "start_time": "2023-11-02T11:05:03.738Z"
   },
   {
    "duration": 107,
    "start_time": "2023-11-02T11:05:05.522Z"
   },
   {
    "duration": 77,
    "start_time": "2023-11-02T11:05:05.631Z"
   },
   {
    "duration": 24311,
    "start_time": "2023-11-02T11:05:05.710Z"
   },
   {
    "duration": 24064,
    "start_time": "2023-11-02T11:05:30.023Z"
   },
   {
    "duration": 2077,
    "start_time": "2023-11-02T11:05:54.089Z"
   },
   {
    "duration": 2476,
    "start_time": "2023-11-02T11:05:56.169Z"
   },
   {
    "duration": 2100,
    "start_time": "2023-11-02T11:20:48.897Z"
   },
   {
    "duration": 55,
    "start_time": "2023-11-02T20:56:41.652Z"
   },
   {
    "duration": 49232,
    "start_time": "2023-11-02T20:56:49.124Z"
   },
   {
    "duration": 14345,
    "start_time": "2023-11-02T20:57:38.359Z"
   },
   {
    "duration": 3617,
    "start_time": "2023-11-02T20:57:52.706Z"
   },
   {
    "duration": 10802,
    "start_time": "2023-11-02T20:57:56.325Z"
   },
   {
    "duration": 3096,
    "start_time": "2023-11-02T20:58:07.130Z"
   },
   {
    "duration": 2612,
    "start_time": "2023-11-02T20:58:10.229Z"
   },
   {
    "duration": 1293,
    "start_time": "2023-11-02T20:58:12.842Z"
   },
   {
    "duration": 1378,
    "start_time": "2023-11-02T20:58:14.137Z"
   },
   {
    "duration": 2095,
    "start_time": "2023-11-02T20:58:15.518Z"
   },
   {
    "duration": 1923,
    "start_time": "2023-11-02T20:58:17.615Z"
   },
   {
    "duration": 178,
    "start_time": "2023-11-02T20:58:19.540Z"
   },
   {
    "duration": 24,
    "start_time": "2023-11-02T20:58:19.720Z"
   },
   {
    "duration": 28143,
    "start_time": "2023-11-02T20:58:29.179Z"
   },
   {
    "duration": 2400905,
    "start_time": "2023-11-02T20:59:03.533Z"
   },
   {
    "duration": 15589,
    "start_time": "2023-11-02T22:26:23.294Z"
   },
   {
    "duration": 2039,
    "start_time": "2023-11-02T22:26:38.885Z"
   },
   {
    "duration": 1682,
    "start_time": "2023-11-02T22:26:40.926Z"
   },
   {
    "duration": 45759,
    "start_time": "2023-11-03T12:30:06.829Z"
   },
   {
    "duration": 15359,
    "start_time": "2023-11-03T12:30:52.590Z"
   },
   {
    "duration": 3420,
    "start_time": "2023-11-03T12:31:07.952Z"
   },
   {
    "duration": 9569,
    "start_time": "2023-11-03T12:31:11.374Z"
   },
   {
    "duration": 2908,
    "start_time": "2023-11-03T12:31:20.946Z"
   },
   {
    "duration": 2372,
    "start_time": "2023-11-03T12:31:23.857Z"
   },
   {
    "duration": 1308,
    "start_time": "2023-11-03T12:31:26.231Z"
   },
   {
    "duration": 1121,
    "start_time": "2023-11-03T12:31:27.541Z"
   },
   {
    "duration": 1917,
    "start_time": "2023-11-03T12:31:28.724Z"
   },
   {
    "duration": 1895,
    "start_time": "2023-11-03T12:31:30.643Z"
   },
   {
    "duration": 205,
    "start_time": "2023-11-03T12:31:32.540Z"
   },
   {
    "duration": 2245,
    "start_time": "2023-11-03T12:31:32.747Z"
   },
   {
    "duration": 2832084,
    "start_time": "2023-11-03T12:31:34.994Z"
   },
   {
    "duration": 391063,
    "start_time": "2023-11-03T13:18:47.080Z"
   },
   {
    "duration": 1746,
    "start_time": "2023-11-03T13:25:18.144Z"
   },
   {
    "duration": 1779,
    "start_time": "2023-11-03T13:25:19.892Z"
   },
   {
    "duration": 10,
    "start_time": "2023-11-03T13:25:31.038Z"
   },
   {
    "duration": 2069,
    "start_time": "2023-11-03T13:25:31.875Z"
   },
   {
    "duration": 2164,
    "start_time": "2023-11-03T13:25:33.946Z"
   },
   {
    "duration": 88,
    "start_time": "2023-11-03T13:53:09.436Z"
   },
   {
    "duration": 1280,
    "start_time": "2023-11-03T13:53:30.375Z"
   },
   {
    "duration": 490,
    "start_time": "2023-11-03T13:53:45.201Z"
   },
   {
    "duration": 1133,
    "start_time": "2023-11-03T13:54:13.441Z"
   },
   {
    "duration": 53,
    "start_time": "2023-11-03T18:53:51.083Z"
   },
   {
    "duration": 3041,
    "start_time": "2023-11-03T18:54:02.444Z"
   },
   {
    "duration": 13785,
    "start_time": "2023-11-03T18:54:05.487Z"
   },
   {
    "duration": 3358,
    "start_time": "2023-11-03T18:54:19.274Z"
   },
   {
    "duration": 7791,
    "start_time": "2023-11-03T18:54:22.634Z"
   },
   {
    "duration": 2523,
    "start_time": "2023-11-03T18:54:30.427Z"
   },
   {
    "duration": 2380,
    "start_time": "2023-11-03T18:54:32.951Z"
   },
   {
    "duration": 1013,
    "start_time": "2023-11-03T18:54:35.333Z"
   },
   {
    "duration": 1194,
    "start_time": "2023-11-03T18:54:36.348Z"
   },
   {
    "duration": 85,
    "start_time": "2023-11-03T18:54:37.544Z"
   },
   {
    "duration": 1920,
    "start_time": "2023-11-03T18:54:37.631Z"
   },
   {
    "duration": 13,
    "start_time": "2023-11-03T18:54:45.338Z"
   },
   {
    "duration": 772,
    "start_time": "2023-11-03T18:54:45.955Z"
   },
   {
    "duration": 1354,
    "start_time": "2023-11-03T18:57:14.778Z"
   },
   {
    "duration": 2913,
    "start_time": "2023-11-03T19:19:35.770Z"
   },
   {
    "duration": 13783,
    "start_time": "2023-11-03T19:19:38.685Z"
   },
   {
    "duration": 3355,
    "start_time": "2023-11-03T19:19:52.470Z"
   },
   {
    "duration": 8199,
    "start_time": "2023-11-03T19:19:55.828Z"
   },
   {
    "duration": 2816,
    "start_time": "2023-11-03T19:20:04.029Z"
   },
   {
    "duration": 2388,
    "start_time": "2023-11-03T19:20:06.847Z"
   },
   {
    "duration": 994,
    "start_time": "2023-11-03T19:20:09.237Z"
   },
   {
    "duration": 1030,
    "start_time": "2023-11-03T19:20:10.234Z"
   },
   {
    "duration": 64,
    "start_time": "2023-11-03T19:20:20.925Z"
   },
   {
    "duration": 21,
    "start_time": "2023-11-03T19:20:24.738Z"
   },
   {
    "duration": 115,
    "start_time": "2023-11-03T19:21:21.840Z"
   },
   {
    "duration": 2384,
    "start_time": "2023-11-03T19:21:38.431Z"
   },
   {
    "duration": 2613,
    "start_time": "2023-11-03T19:22:07.436Z"
   },
   {
    "duration": 43,
    "start_time": "2023-11-03T19:27:23.902Z"
   },
   {
    "duration": 13,
    "start_time": "2023-11-03T19:27:26.216Z"
   },
   {
    "duration": 25281,
    "start_time": "2023-11-03T19:27:28.444Z"
   },
   {
    "duration": 9,
    "start_time": "2023-11-03T19:28:01.060Z"
   },
   {
    "duration": 2355,
    "start_time": "2023-11-03T19:28:02.012Z"
   },
   {
    "duration": 14535,
    "start_time": "2023-11-03T19:30:21.998Z"
   },
   {
    "duration": 7,
    "start_time": "2023-11-03T19:30:45.253Z"
   },
   {
    "duration": 1818,
    "start_time": "2023-11-03T19:30:45.818Z"
   },
   {
    "duration": 89,
    "start_time": "2023-11-03T19:30:47.637Z"
   },
   {
    "duration": 1770,
    "start_time": "2023-11-03T19:32:32.662Z"
   },
   {
    "duration": 1530,
    "start_time": "2023-11-03T19:32:39.566Z"
   },
   {
    "duration": 2041,
    "start_time": "2023-11-03T19:32:45.215Z"
   },
   {
    "duration": 1667,
    "start_time": "2023-11-03T19:32:54.719Z"
   },
   {
    "duration": 1657,
    "start_time": "2023-11-03T19:34:04.093Z"
   },
   {
    "duration": 2091,
    "start_time": "2023-11-03T19:35:01.137Z"
   },
   {
    "duration": 528,
    "start_time": "2023-11-03T19:35:20.094Z"
   },
   {
    "duration": 2898,
    "start_time": "2023-11-03T19:35:56.389Z"
   },
   {
    "duration": 14050,
    "start_time": "2023-11-03T19:35:59.687Z"
   },
   {
    "duration": 3319,
    "start_time": "2023-11-03T19:36:15.410Z"
   },
   {
    "duration": 8113,
    "start_time": "2023-11-03T19:36:20.635Z"
   },
   {
    "duration": 2609,
    "start_time": "2023-11-03T19:36:28.750Z"
   },
   {
    "duration": 2061,
    "start_time": "2023-11-03T19:36:33.377Z"
   },
   {
    "duration": 1011,
    "start_time": "2023-11-03T19:36:39.737Z"
   },
   {
    "duration": 1179,
    "start_time": "2023-11-03T19:36:40.750Z"
   },
   {
    "duration": 62,
    "start_time": "2023-11-03T19:36:52.689Z"
   },
   {
    "duration": 18,
    "start_time": "2023-11-03T19:37:01.494Z"
   },
   {
    "duration": 25419,
    "start_time": "2023-11-03T19:37:07.527Z"
   },
   {
    "duration": 14386,
    "start_time": "2023-11-03T19:38:17.839Z"
   },
   {
    "duration": 7,
    "start_time": "2023-11-03T19:38:34.771Z"
   },
   {
    "duration": 2274,
    "start_time": "2023-11-03T19:38:36.104Z"
   },
   {
    "duration": 2121,
    "start_time": "2023-11-03T19:38:40.936Z"
   },
   {
    "duration": 283,
    "start_time": "2023-11-03T19:38:49.683Z"
   },
   {
    "duration": 3113,
    "start_time": "2023-11-03T19:39:56.655Z"
   },
   {
    "duration": 14069,
    "start_time": "2023-11-03T19:39:59.770Z"
   },
   {
    "duration": 3319,
    "start_time": "2023-11-03T19:40:13.841Z"
   },
   {
    "duration": 7971,
    "start_time": "2023-11-03T19:40:17.163Z"
   },
   {
    "duration": 2716,
    "start_time": "2023-11-03T19:40:25.137Z"
   },
   {
    "duration": 2375,
    "start_time": "2023-11-03T19:40:27.856Z"
   },
   {
    "duration": 1196,
    "start_time": "2023-11-03T19:40:30.233Z"
   },
   {
    "duration": 1110,
    "start_time": "2023-11-03T19:40:31.431Z"
   },
   {
    "duration": 130,
    "start_time": "2023-11-03T19:40:32.542Z"
   },
   {
    "duration": 52,
    "start_time": "2023-11-03T19:40:32.674Z"
   },
   {
    "duration": 84,
    "start_time": "2023-11-03T19:40:32.728Z"
   },
   {
    "duration": 0,
    "start_time": "2023-11-03T19:40:32.814Z"
   },
   {
    "duration": 0,
    "start_time": "2023-11-03T19:40:32.815Z"
   },
   {
    "duration": 0,
    "start_time": "2023-11-03T19:40:32.817Z"
   },
   {
    "duration": 0,
    "start_time": "2023-11-03T19:40:32.819Z"
   },
   {
    "duration": 0,
    "start_time": "2023-11-03T19:40:32.820Z"
   },
   {
    "duration": 3162,
    "start_time": "2023-11-03T19:40:51.525Z"
   },
   {
    "duration": 14051,
    "start_time": "2023-11-03T19:40:54.689Z"
   },
   {
    "duration": 3408,
    "start_time": "2023-11-03T19:41:08.742Z"
   },
   {
    "duration": 8079,
    "start_time": "2023-11-03T19:41:12.152Z"
   },
   {
    "duration": 2703,
    "start_time": "2023-11-03T19:41:20.234Z"
   },
   {
    "duration": 1999,
    "start_time": "2023-11-03T19:41:22.940Z"
   },
   {
    "duration": 1190,
    "start_time": "2023-11-03T19:41:24.941Z"
   },
   {
    "duration": 1019,
    "start_time": "2023-11-03T19:41:26.133Z"
   },
   {
    "duration": 181,
    "start_time": "2023-11-03T19:41:27.154Z"
   },
   {
    "duration": 18,
    "start_time": "2023-11-03T19:41:27.337Z"
   },
   {
    "duration": 2524390,
    "start_time": "2023-11-03T19:41:27.356Z"
   },
   {
    "duration": 379507,
    "start_time": "2023-11-03T20:23:31.747Z"
   },
   {
    "duration": 7,
    "start_time": "2023-11-03T20:29:51.256Z"
   },
   {
    "duration": 1602,
    "start_time": "2023-11-03T20:29:51.265Z"
   },
   {
    "duration": 1602,
    "start_time": "2023-11-03T20:29:52.869Z"
   },
   {
    "duration": 888,
    "start_time": "2023-11-03T20:29:54.473Z"
   }
  ],
  "colab": {
   "name": "PySparkSprint.ipynb",
   "provenance": []
  },
  "kernelspec": {
   "display_name": "Python 3 (ipykernel)",
   "language": "python",
   "name": "python3"
  },
  "language_info": {
   "codemirror_mode": {
    "name": "ipython",
    "version": 3
   },
   "file_extension": ".py",
   "mimetype": "text/x-python",
   "name": "python",
   "nbconvert_exporter": "python",
   "pygments_lexer": "ipython3",
   "version": "3.9.5"
  },
  "toc": {
   "base_numbering": 1,
   "nav_menu": {},
   "number_sections": true,
   "sideBar": true,
   "skip_h1_title": true,
   "title_cell": "Table of Contents",
   "title_sidebar": "Contents",
   "toc_cell": false,
   "toc_position": {
    "height": "calc(100% - 180px)",
    "left": "10px",
    "top": "150px",
    "width": "371px"
   },
   "toc_section_display": true,
   "toc_window_display": true
  }
 },
 "nbformat": 4,
 "nbformat_minor": 5
}
