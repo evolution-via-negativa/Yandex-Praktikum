{
 "cells": [
  {
   "cell_type": "markdown",
   "metadata": {
    "deletable": false,
    "editable": false,
    "tags": [
     "90174557-ccbc-4d19-b780-5988d67a3706"
    ]
   },
   "source": [
    "# Предобработка твитов"
   ]
  },
  {
   "cell_type": "code",
   "execution_count": 54,
   "metadata": {},
   "outputs": [
    {
     "name": "stdout",
     "output_type": "stream",
     "text": [
      "(133,)\n"
     ]
    }
   ],
   "source": [
    "import numpy as np\n",
    "import pandas as pd\n",
    "import torch\n",
    "import transformers\n",
    "\n",
    "# загрузим файл с твитами\n",
    "data = pd.read_csv('/datasets/tweets.csv')\n",
    "\n",
    "# инициализируем токенизатор\n",
    "tokenizer = transformers.BertTokenizer(\n",
    "    vocab_file='/datasets/ds_bert/vocab.txt')\n",
    "\n",
    "# токенизируем текст\n",
    "data['vector'] = data['text'].apply(lambda x: np.array(tokenizer.encode(x, add_special_tokens=True)))\n",
    "\n",
    "# применим padding к векторам\n",
    "n = max(data['vector'].apply(lambda x: len(x)))\n",
    "\n",
    "# англ. вектор с отступами\n",
    "data['padded'] = data['vector'].apply(lambda x: np.concatenate((x, [0]*(n - len(x)))))\n",
    "\n",
    "# создадим маску для важных токенов\n",
    "data['attention_mask'] = data['padded'].apply(lambda x: np.where(np.array(x) != 0, 1, 0))\n",
    "\n",
    "print(data['attention_mask'].iloc[0].shape)"
   ]
  }
 ],
 "metadata": {
  "ExecuteTimeLog": [
   {
    "duration": 51,
    "start_time": "2024-04-29T10:22:22.287Z"
   },
   {
    "duration": 559,
    "start_time": "2024-04-29T10:22:27.998Z"
   },
   {
    "duration": 52,
    "start_time": "2024-04-29T10:23:55.449Z"
   },
   {
    "duration": 337,
    "start_time": "2024-04-29T10:27:24.627Z"
   },
   {
    "duration": 3714,
    "start_time": "2024-04-29T10:27:28.802Z"
   },
   {
    "duration": 0,
    "start_time": "2024-04-29T10:27:32.517Z"
   },
   {
    "duration": 193,
    "start_time": "2024-04-29T10:27:41.352Z"
   },
   {
    "duration": 2117,
    "start_time": "2024-04-29T10:27:42.345Z"
   },
   {
    "duration": 2418,
    "start_time": "2024-04-29T10:29:38.810Z"
   },
   {
    "duration": 2131,
    "start_time": "2024-04-29T10:30:44.412Z"
   },
   {
    "duration": 8,
    "start_time": "2024-04-29T10:31:20.971Z"
   },
   {
    "duration": 7,
    "start_time": "2024-04-29T10:31:25.363Z"
   },
   {
    "duration": 19,
    "start_time": "2024-04-29T10:35:03.380Z"
   },
   {
    "duration": 3539,
    "start_time": "2024-04-29T10:35:04.828Z"
   },
   {
    "duration": 0,
    "start_time": "2024-04-29T10:35:08.368Z"
   },
   {
    "duration": 2498,
    "start_time": "2024-04-29T10:35:21.236Z"
   },
   {
    "duration": 2288,
    "start_time": "2024-04-29T10:35:27.437Z"
   },
   {
    "duration": 18,
    "start_time": "2024-04-29T10:35:29.891Z"
   },
   {
    "duration": 2328,
    "start_time": "2024-04-29T10:36:00.869Z"
   },
   {
    "duration": 24,
    "start_time": "2024-04-29T10:36:03.199Z"
   },
   {
    "duration": 7,
    "start_time": "2024-04-29T10:36:15.652Z"
   },
   {
    "duration": 5,
    "start_time": "2024-04-29T10:36:21.101Z"
   },
   {
    "duration": 7,
    "start_time": "2024-04-29T10:36:34.741Z"
   },
   {
    "duration": 2374,
    "start_time": "2024-04-29T10:37:28.205Z"
   },
   {
    "duration": 6,
    "start_time": "2024-04-29T10:37:35.612Z"
   },
   {
    "duration": 5,
    "start_time": "2024-04-29T10:38:19.822Z"
   },
   {
    "duration": 5,
    "start_time": "2024-04-29T10:38:31.205Z"
   },
   {
    "duration": 2375,
    "start_time": "2024-04-29T10:38:51.653Z"
   },
   {
    "duration": 4,
    "start_time": "2024-04-29T10:38:55.509Z"
   },
   {
    "duration": 1754,
    "start_time": "2024-04-29T10:39:52.222Z"
   },
   {
    "duration": 2369,
    "start_time": "2024-04-29T10:39:55.572Z"
   },
   {
    "duration": 3,
    "start_time": "2024-04-29T10:39:57.943Z"
   },
   {
    "duration": 16,
    "start_time": "2024-04-29T10:40:09.134Z"
   },
   {
    "duration": 6,
    "start_time": "2024-04-29T10:40:29.270Z"
   },
   {
    "duration": 6,
    "start_time": "2024-04-29T10:40:45.654Z"
   },
   {
    "duration": 4,
    "start_time": "2024-04-29T10:40:53.805Z"
   },
   {
    "duration": 4,
    "start_time": "2024-04-29T10:40:59.197Z"
   },
   {
    "duration": 3,
    "start_time": "2024-04-29T10:41:03.055Z"
   },
   {
    "duration": 6,
    "start_time": "2024-04-29T10:41:10.943Z"
   },
   {
    "duration": 4,
    "start_time": "2024-04-29T10:41:33.487Z"
   },
   {
    "duration": 4,
    "start_time": "2024-04-29T10:41:37.327Z"
   },
   {
    "duration": 5,
    "start_time": "2024-04-29T10:42:39.639Z"
   },
   {
    "duration": 5,
    "start_time": "2024-04-29T10:42:50.695Z"
   },
   {
    "duration": 2641,
    "start_time": "2024-04-29T10:43:11.007Z"
   },
   {
    "duration": 2360,
    "start_time": "2024-04-29T10:44:31.568Z"
   },
   {
    "duration": 5,
    "start_time": "2024-04-29T10:44:35.471Z"
   },
   {
    "duration": 10,
    "start_time": "2024-04-29T10:44:40.624Z"
   },
   {
    "duration": 4,
    "start_time": "2024-04-29T10:45:02.985Z"
   },
   {
    "duration": 13,
    "start_time": "2024-04-29T10:45:08.928Z"
   },
   {
    "duration": 12,
    "start_time": "2024-04-29T10:45:29.681Z"
   },
   {
    "duration": 87,
    "start_time": "2024-04-29T10:45:57.872Z"
   },
   {
    "duration": 4,
    "start_time": "2024-04-29T10:46:08.872Z"
   },
   {
    "duration": 80,
    "start_time": "2024-04-29T10:46:37.064Z"
   },
   {
    "duration": 2351,
    "start_time": "2024-04-29T10:46:53.345Z"
   },
   {
    "duration": 14,
    "start_time": "2024-04-29T10:46:59.385Z"
   },
   {
    "duration": 2440,
    "start_time": "2024-04-29T10:47:35.593Z"
   }
  ],
  "kernelspec": {
   "display_name": "Python 3 (ipykernel)",
   "language": "python",
   "name": "python3"
  },
  "language_info": {
   "codemirror_mode": {
    "name": "ipython",
    "version": 3
   },
   "file_extension": ".py",
   "mimetype": "text/x-python",
   "name": "python",
   "nbconvert_exporter": "python",
   "pygments_lexer": "ipython3",
   "version": "3.9.5"
  },
  "toc": {
   "base_numbering": 1,
   "nav_menu": {},
   "number_sections": true,
   "sideBar": true,
   "skip_h1_title": true,
   "title_cell": "Table of Contents",
   "title_sidebar": "Contents",
   "toc_cell": false,
   "toc_position": {},
   "toc_section_display": true,
   "toc_window_display": false
  }
 },
 "nbformat": 4,
 "nbformat_minor": 2
}
