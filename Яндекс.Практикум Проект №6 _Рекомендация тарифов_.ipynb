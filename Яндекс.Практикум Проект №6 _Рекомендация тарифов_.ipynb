{
 "cells": [
  {
   "cell_type": "markdown",
   "metadata": {},
   "source": [
    "<div class=\"alert alert-info\">\n",
    "<font size=\"5\"><b>Комментарий ревьюера</b></font>\n",
    "\n",
    "Привет Артём! Меня зовут Марат, и я буду твоим ревьюером. Спешу сообщить что все ключевые этапы в работе выполнены,  с задачей тебе удалось справиться. По поводу обращения - в IT сфере принято общаться на «ты» :) Но, если привычней на «вы», дай знать. Как ревьюера моя задача помочь тебе в развитии, дав хорошие советы. Я внимательно посмотрю твой код, ознакомлюсь с твоими выводами и оставлю комментарии. Где то могу предложить небольшие исправление в коде, но ненавязчиво. Где потребуются уточнения, я оставлю много наводящих вопросов. Они помогут тебя с поиском верного решения.\n",
    "\n",
    "Все мои комментарии размечены по цветам, для лучшего восприятия. \n",
    "    \n",
    "<div class=\"alert alert-success\">Зеленым цветом и словом «Успех» отмечены особо удачные и элегантные решения, которыми ты можешь гордиться. </div>\n",
    "        \n",
    "<div class=\"alert alert-warning\">Желтым и значком словом «Совет», помечены решения у которых есть альтернативные решения, более оптимальные. Ты можешь найти их сразу и доработать проект, или отложить это на потом, для будущих проектах. Проект будет принят и без их доработки. </div>\n",
    "        \n",
    "<div class=\"alert alert-danger\"> Красным цветом и значком словом «Ошибка» помечу твои решения, на которые стоит обратить внимание прежде всего. После их доработки проект будет принят. </div>\n",
    "        \n",
    "Залог успеха - работа сообща, взаимное уважение и работа в диалоге. Поэтому, помечай свои ответные комментарии на мои реплики заметным цветом или курсивом, так мне будет легче их отслеживать. Пожалуйста, не изменяй и не удаляй мои комментарии. Все это поможет выполнить повторную проверку быстрей.\n",
    "\n",
    "</div>"
   ]
  },
  {
   "cell_type": "markdown",
   "metadata": {},
   "source": [
    "# Рекомендация тарифов"
   ]
  },
  {
   "cell_type": "markdown",
   "metadata": {},
   "source": [
    "В вашем распоряжении данные о поведении клиентов, которые уже перешли на эти тарифы (из проекта курса «Статистический анализ данных»). Нужно построить модель для задачи классификации, которая выберет подходящий тариф. Предобработка данных не понадобится — вы её уже сделали.\n",
    "\n",
    "Постройте модель с максимально большим значением *accuracy*. Чтобы сдать проект успешно, нужно довести долю правильных ответов по крайней мере до 0.75. Проверьте *accuracy* на тестовой выборке самостоятельно."
   ]
  },
  {
   "cell_type": "markdown",
   "metadata": {},
   "source": [
    "**План проекта:**\n",
    "1) Открытие и изучение файла с данными \\\n",
    "2) Разбиение данных на обучающую, валидационную и тестовую выборки \\\n",
    "3) Исследование трёх моделей — `DecisionTreeClassifier`, `RandomForestClassifier`, `LogisticRegression` \\\n",
    "4) Проверка исследуемых моделей на тестовой выборке \\\n",
    "5) Проверка исследуемых моделей на адекватность \\\n",
    "6) Общий вывод"
   ]
  },
  {
   "cell_type": "markdown",
   "metadata": {},
   "source": [
    "<div class=\"alert alert-success\">\n",
    "<font size=\"5\"><b>Комментарий ревьюера</b></font>\n",
    "\n",
    "Успех:\n",
    "\n",
    "\n",
    "Вступление в работу очень важно, так человек, который смотрит твой проект (и на работе в том числе) будет сразу введен в курс дела.\n",
    "\n",
    "\n",
    "\n",
    "\n",
    "\n",
    "</div>"
   ]
  },
  {
   "cell_type": "code",
   "execution_count": 1,
   "metadata": {},
   "outputs": [],
   "source": [
    "import pandas as pd\n",
    "import matplotlib.pyplot as plt\n",
    "from sklearn.model_selection import train_test_split\n",
    "from sklearn.metrics import accuracy_score \n",
    "from sklearn.tree import DecisionTreeClassifier \n",
    "from sklearn.ensemble import RandomForestClassifier \n",
    "from sklearn.linear_model import LogisticRegression\n",
    "from sklearn.dummy import DummyClassifier\n",
    "from tqdm import tqdm"
   ]
  },
  {
   "cell_type": "markdown",
   "metadata": {},
   "source": [
    "<div class=\"alert alert-success\">\n",
    "<font size=\"5\"><b>Комментарий ревьюера</b></font>\n",
    "\n",
    "Успех:\n",
    "\n",
    "Собираем все импорты в верхней части, чтобы легче было ориентироваться и добавлять новые по необходимости. \n",
    "\n",
    "\n",
    "<div class=\"alert alert-warning\">\n",
    "\n",
    "Совет:     \n",
    "    \n",
    "    \n",
    "\n",
    "\n",
    "- кстати есть рекомендации PEP-8 при написании кода, в том числе и для импортов. Если интересно можешь почитать [тут](https://pythonworld.ru/osnovy/pep-8-rukovodstvo-po-napisaniyu-koda-na-python.html), в будущем пригодится )  \n",
    "\n"
   ]
  },
  {
   "cell_type": "markdown",
   "metadata": {},
   "source": [
    "## Откройте и изучите файл"
   ]
  },
  {
   "cell_type": "code",
   "execution_count": 2,
   "metadata": {},
   "outputs": [],
   "source": [
    "# Получим данные о поведении клиентов безопасным способом при помощи конструкции try-except\n",
    "try:\n",
    "    data = pd.read_csv('/datasets/users_behavior.csv')\n",
    "except:\n",
    "    data = pd.read_csv('https://code.s3.yandex.net/datasets/users_behavior.csv')"
   ]
  },
  {
   "cell_type": "markdown",
   "metadata": {},
   "source": [
    "<div class=\"alert alert-success\">\n",
    "<font size=\"5\"><b>Комментарий ревьюера</b></font>\n",
    "\n",
    "Молодец что используешь конструкцию try - except (if - else), этим ты проявляешь уважение к тем кто будет работать с твоим кодом.\n",
    "\n",
    "</div>"
   ]
  },
  {
   "cell_type": "code",
   "execution_count": 3,
   "metadata": {},
   "outputs": [
    {
     "data": {
      "text/html": [
       "<div>\n",
       "<style scoped>\n",
       "    .dataframe tbody tr th:only-of-type {\n",
       "        vertical-align: middle;\n",
       "    }\n",
       "\n",
       "    .dataframe tbody tr th {\n",
       "        vertical-align: top;\n",
       "    }\n",
       "\n",
       "    .dataframe thead th {\n",
       "        text-align: right;\n",
       "    }\n",
       "</style>\n",
       "<table border=\"1\" class=\"dataframe\">\n",
       "  <thead>\n",
       "    <tr style=\"text-align: right;\">\n",
       "      <th></th>\n",
       "      <th>calls</th>\n",
       "      <th>minutes</th>\n",
       "      <th>messages</th>\n",
       "      <th>mb_used</th>\n",
       "      <th>is_ultra</th>\n",
       "    </tr>\n",
       "  </thead>\n",
       "  <tbody>\n",
       "    <tr>\n",
       "      <th>0</th>\n",
       "      <td>40.0</td>\n",
       "      <td>311.90</td>\n",
       "      <td>83.0</td>\n",
       "      <td>19915.42</td>\n",
       "      <td>0</td>\n",
       "    </tr>\n",
       "    <tr>\n",
       "      <th>1</th>\n",
       "      <td>85.0</td>\n",
       "      <td>516.75</td>\n",
       "      <td>56.0</td>\n",
       "      <td>22696.96</td>\n",
       "      <td>0</td>\n",
       "    </tr>\n",
       "    <tr>\n",
       "      <th>2</th>\n",
       "      <td>77.0</td>\n",
       "      <td>467.66</td>\n",
       "      <td>86.0</td>\n",
       "      <td>21060.45</td>\n",
       "      <td>0</td>\n",
       "    </tr>\n",
       "    <tr>\n",
       "      <th>3</th>\n",
       "      <td>106.0</td>\n",
       "      <td>745.53</td>\n",
       "      <td>81.0</td>\n",
       "      <td>8437.39</td>\n",
       "      <td>1</td>\n",
       "    </tr>\n",
       "    <tr>\n",
       "      <th>4</th>\n",
       "      <td>66.0</td>\n",
       "      <td>418.74</td>\n",
       "      <td>1.0</td>\n",
       "      <td>14502.75</td>\n",
       "      <td>0</td>\n",
       "    </tr>\n",
       "    <tr>\n",
       "      <th>5</th>\n",
       "      <td>58.0</td>\n",
       "      <td>344.56</td>\n",
       "      <td>21.0</td>\n",
       "      <td>15823.37</td>\n",
       "      <td>0</td>\n",
       "    </tr>\n",
       "    <tr>\n",
       "      <th>6</th>\n",
       "      <td>57.0</td>\n",
       "      <td>431.64</td>\n",
       "      <td>20.0</td>\n",
       "      <td>3738.90</td>\n",
       "      <td>1</td>\n",
       "    </tr>\n",
       "    <tr>\n",
       "      <th>7</th>\n",
       "      <td>15.0</td>\n",
       "      <td>132.40</td>\n",
       "      <td>6.0</td>\n",
       "      <td>21911.60</td>\n",
       "      <td>0</td>\n",
       "    </tr>\n",
       "    <tr>\n",
       "      <th>8</th>\n",
       "      <td>7.0</td>\n",
       "      <td>43.39</td>\n",
       "      <td>3.0</td>\n",
       "      <td>2538.67</td>\n",
       "      <td>1</td>\n",
       "    </tr>\n",
       "    <tr>\n",
       "      <th>9</th>\n",
       "      <td>90.0</td>\n",
       "      <td>665.41</td>\n",
       "      <td>38.0</td>\n",
       "      <td>17358.61</td>\n",
       "      <td>0</td>\n",
       "    </tr>\n",
       "  </tbody>\n",
       "</table>\n",
       "</div>"
      ],
      "text/plain": [
       "   calls  minutes  messages   mb_used  is_ultra\n",
       "0   40.0   311.90      83.0  19915.42         0\n",
       "1   85.0   516.75      56.0  22696.96         0\n",
       "2   77.0   467.66      86.0  21060.45         0\n",
       "3  106.0   745.53      81.0   8437.39         1\n",
       "4   66.0   418.74       1.0  14502.75         0\n",
       "5   58.0   344.56      21.0  15823.37         0\n",
       "6   57.0   431.64      20.0   3738.90         1\n",
       "7   15.0   132.40       6.0  21911.60         0\n",
       "8    7.0    43.39       3.0   2538.67         1\n",
       "9   90.0   665.41      38.0  17358.61         0"
      ]
     },
     "execution_count": 3,
     "metadata": {},
     "output_type": "execute_result"
    }
   ],
   "source": [
    "data.head(10)"
   ]
  },
  {
   "cell_type": "code",
   "execution_count": 4,
   "metadata": {},
   "outputs": [
    {
     "name": "stdout",
     "output_type": "stream",
     "text": [
      "<class 'pandas.core.frame.DataFrame'>\n",
      "RangeIndex: 3214 entries, 0 to 3213\n",
      "Data columns (total 5 columns):\n",
      " #   Column    Non-Null Count  Dtype  \n",
      "---  ------    --------------  -----  \n",
      " 0   calls     3214 non-null   float64\n",
      " 1   minutes   3214 non-null   float64\n",
      " 2   messages  3214 non-null   float64\n",
      " 3   mb_used   3214 non-null   float64\n",
      " 4   is_ultra  3214 non-null   int64  \n",
      "dtypes: float64(4), int64(1)\n",
      "memory usage: 125.7 KB\n"
     ]
    }
   ],
   "source": [
    "data.info()"
   ]
  },
  {
   "cell_type": "code",
   "execution_count": 5,
   "metadata": {},
   "outputs": [
    {
     "data": {
      "text/html": [
       "<div>\n",
       "<style scoped>\n",
       "    .dataframe tbody tr th:only-of-type {\n",
       "        vertical-align: middle;\n",
       "    }\n",
       "\n",
       "    .dataframe tbody tr th {\n",
       "        vertical-align: top;\n",
       "    }\n",
       "\n",
       "    .dataframe thead th {\n",
       "        text-align: right;\n",
       "    }\n",
       "</style>\n",
       "<table border=\"1\" class=\"dataframe\">\n",
       "  <thead>\n",
       "    <tr style=\"text-align: right;\">\n",
       "      <th></th>\n",
       "      <th>calls</th>\n",
       "      <th>minutes</th>\n",
       "      <th>messages</th>\n",
       "      <th>mb_used</th>\n",
       "      <th>is_ultra</th>\n",
       "    </tr>\n",
       "  </thead>\n",
       "  <tbody>\n",
       "    <tr>\n",
       "      <th>count</th>\n",
       "      <td>3214.000000</td>\n",
       "      <td>3214.000000</td>\n",
       "      <td>3214.000000</td>\n",
       "      <td>3214.000000</td>\n",
       "      <td>3214.000000</td>\n",
       "    </tr>\n",
       "    <tr>\n",
       "      <th>mean</th>\n",
       "      <td>63.038892</td>\n",
       "      <td>438.208787</td>\n",
       "      <td>38.281269</td>\n",
       "      <td>17207.673836</td>\n",
       "      <td>0.306472</td>\n",
       "    </tr>\n",
       "    <tr>\n",
       "      <th>std</th>\n",
       "      <td>33.236368</td>\n",
       "      <td>234.569872</td>\n",
       "      <td>36.148326</td>\n",
       "      <td>7570.968246</td>\n",
       "      <td>0.461100</td>\n",
       "    </tr>\n",
       "    <tr>\n",
       "      <th>min</th>\n",
       "      <td>0.000000</td>\n",
       "      <td>0.000000</td>\n",
       "      <td>0.000000</td>\n",
       "      <td>0.000000</td>\n",
       "      <td>0.000000</td>\n",
       "    </tr>\n",
       "    <tr>\n",
       "      <th>25%</th>\n",
       "      <td>40.000000</td>\n",
       "      <td>274.575000</td>\n",
       "      <td>9.000000</td>\n",
       "      <td>12491.902500</td>\n",
       "      <td>0.000000</td>\n",
       "    </tr>\n",
       "    <tr>\n",
       "      <th>50%</th>\n",
       "      <td>62.000000</td>\n",
       "      <td>430.600000</td>\n",
       "      <td>30.000000</td>\n",
       "      <td>16943.235000</td>\n",
       "      <td>0.000000</td>\n",
       "    </tr>\n",
       "    <tr>\n",
       "      <th>75%</th>\n",
       "      <td>82.000000</td>\n",
       "      <td>571.927500</td>\n",
       "      <td>57.000000</td>\n",
       "      <td>21424.700000</td>\n",
       "      <td>1.000000</td>\n",
       "    </tr>\n",
       "    <tr>\n",
       "      <th>max</th>\n",
       "      <td>244.000000</td>\n",
       "      <td>1632.060000</td>\n",
       "      <td>224.000000</td>\n",
       "      <td>49745.730000</td>\n",
       "      <td>1.000000</td>\n",
       "    </tr>\n",
       "  </tbody>\n",
       "</table>\n",
       "</div>"
      ],
      "text/plain": [
       "             calls      minutes     messages       mb_used     is_ultra\n",
       "count  3214.000000  3214.000000  3214.000000   3214.000000  3214.000000\n",
       "mean     63.038892   438.208787    38.281269  17207.673836     0.306472\n",
       "std      33.236368   234.569872    36.148326   7570.968246     0.461100\n",
       "min       0.000000     0.000000     0.000000      0.000000     0.000000\n",
       "25%      40.000000   274.575000     9.000000  12491.902500     0.000000\n",
       "50%      62.000000   430.600000    30.000000  16943.235000     0.000000\n",
       "75%      82.000000   571.927500    57.000000  21424.700000     1.000000\n",
       "max     244.000000  1632.060000   224.000000  49745.730000     1.000000"
      ]
     },
     "execution_count": 5,
     "metadata": {},
     "output_type": "execute_result"
    }
   ],
   "source": [
    "data.describe()"
   ]
  },
  {
   "cell_type": "code",
   "execution_count": 6,
   "metadata": {
    "scrolled": true
   },
   "outputs": [
    {
     "data": {
      "image/png": "[encoded data removed]",
      "text/plain": [
       "<Figure size 864x288 with 1 Axes>"
      ]
     },
     "metadata": {
      "needs_background": "light"
     },
     "output_type": "display_data"
    }
   ],
   "source": [
    "data.is_ultra.value_counts(normalize=True).plot(kind='bar', \n",
    "                                                figsize=(12, 4),\n",
    "                                                title='Баланс классов в целевом признаке',\n",
    "                                                grid=True);\n",
    "plt.xticks(rotation=360);"
   ]
  },
  {
   "cell_type": "code",
   "execution_count": 7,
   "metadata": {},
   "outputs": [
    {
     "data": {
      "text/html": [
       "<div>\n",
       "<style scoped>\n",
       "    .dataframe tbody tr th:only-of-type {\n",
       "        vertical-align: middle;\n",
       "    }\n",
       "\n",
       "    .dataframe tbody tr th {\n",
       "        vertical-align: top;\n",
       "    }\n",
       "\n",
       "    .dataframe thead th {\n",
       "        text-align: right;\n",
       "    }\n",
       "</style>\n",
       "<table border=\"1\" class=\"dataframe\">\n",
       "  <thead>\n",
       "    <tr style=\"text-align: right;\">\n",
       "      <th></th>\n",
       "      <th>calls</th>\n",
       "      <th>minutes</th>\n",
       "      <th>messages</th>\n",
       "      <th>mb_used</th>\n",
       "      <th>is_ultra</th>\n",
       "    </tr>\n",
       "  </thead>\n",
       "  <tbody>\n",
       "    <tr>\n",
       "      <th>calls</th>\n",
       "      <td>1.000000</td>\n",
       "      <td>0.982083</td>\n",
       "      <td>0.177385</td>\n",
       "      <td>0.286442</td>\n",
       "      <td>0.207122</td>\n",
       "    </tr>\n",
       "    <tr>\n",
       "      <th>minutes</th>\n",
       "      <td>0.982083</td>\n",
       "      <td>1.000000</td>\n",
       "      <td>0.173110</td>\n",
       "      <td>0.280967</td>\n",
       "      <td>0.206955</td>\n",
       "    </tr>\n",
       "    <tr>\n",
       "      <th>messages</th>\n",
       "      <td>0.177385</td>\n",
       "      <td>0.173110</td>\n",
       "      <td>1.000000</td>\n",
       "      <td>0.195721</td>\n",
       "      <td>0.203830</td>\n",
       "    </tr>\n",
       "    <tr>\n",
       "      <th>mb_used</th>\n",
       "      <td>0.286442</td>\n",
       "      <td>0.280967</td>\n",
       "      <td>0.195721</td>\n",
       "      <td>1.000000</td>\n",
       "      <td>0.198568</td>\n",
       "    </tr>\n",
       "    <tr>\n",
       "      <th>is_ultra</th>\n",
       "      <td>0.207122</td>\n",
       "      <td>0.206955</td>\n",
       "      <td>0.203830</td>\n",
       "      <td>0.198568</td>\n",
       "      <td>1.000000</td>\n",
       "    </tr>\n",
       "  </tbody>\n",
       "</table>\n",
       "</div>"
      ],
      "text/plain": [
       "             calls   minutes  messages   mb_used  is_ultra\n",
       "calls     1.000000  0.982083  0.177385  0.286442  0.207122\n",
       "minutes   0.982083  1.000000  0.173110  0.280967  0.206955\n",
       "messages  0.177385  0.173110  1.000000  0.195721  0.203830\n",
       "mb_used   0.286442  0.280967  0.195721  1.000000  0.198568\n",
       "is_ultra  0.207122  0.206955  0.203830  0.198568  1.000000"
      ]
     },
     "execution_count": 7,
     "metadata": {},
     "output_type": "execute_result"
    }
   ],
   "source": [
    "data.corr()"
   ]
  },
  {
   "cell_type": "markdown",
   "metadata": {},
   "source": [
    "Благодаря выводу метода `info()` можно заметить, что:\n",
    "* в данных отсутствуют пропуски\n",
    "* в данных отсутствуют несоответствия типов\n",
    "* в данных отсутствуют нарушения правила хорошего стиля в названии столбцов\n",
    "\n",
    "В описании проекта сказано, что предобработка данных не понадобится, поэтому этот этап мы пропустим. Разобъём данные на выборки, а после этого сразу перейдём к исследованию моделей."
   ]
  },
  {
   "cell_type": "markdown",
   "metadata": {},
   "source": [
    "<div class=\"alert alert-success\">\n",
    "<font size=\"5\"><b>Комментарий ревьюера</b></font>\n",
    "\n",
    "Успех:\n",
    "\n",
    "👍 Данные изучены.\n",
    "\n",
    "\n",
    "    \n",
    "\n",
    "<div class=\"alert alert-warning\">\n",
    "\n",
    "\n",
    "\n",
    "Совет: \n",
    "\n",
    "\n",
    "- .info (дает тебе информацию о пропусках и типах данных), а .describe (медианы, квантили, max, min итд) это такой джентльменский набор при первичной разведке данных (EDA).  \n",
    "\n",
    "\n",
    "\n",
    "- Можно еще отдельно проверить датасет на сбалансированность классов в таргете. Это помогло бы решить бонусное задание сразу (Только не надо балансировать данные, это тема следующего проекта).\n",
    "\n",
    "\n",
    "\n",
    "\n",
    "- Можно посмотреть корреляцию признаков. Знаешь что такое мультиколлинеарность, какие два типа проблем возникает, для каких моделей и какие варианты решения?\n",
    "\n",
    "\n",
    "\n",
    "\n",
    "</div>\n"
   ]
  },
  {
   "cell_type": "markdown",
   "metadata": {},
   "source": [
    "<div class=\"alert alert-info\">\n",
    "<font size=\"5\"><b>Комментарий</b></font>\n",
    "    \n",
    "Обновлено\n",
    "</div>"
   ]
  },
  {
   "cell_type": "markdown",
   "metadata": {},
   "source": [
    "<div class=\"alert alert-success\">\n",
    "<font size=\"5\"><b>Комментарий ревьюераV2</b></font>\n",
    "\n",
    "\n",
    "\n",
    "Успех 👍:\n",
    "\n",
    "\n",
    "\n",
    "Отлично.  Как едешь у нас и дисбаланс, и мультиколлинеарность\n",
    "\n",
    "\n",
    "\n",
    "\n",
    "</div>\n"
   ]
  },
  {
   "cell_type": "markdown",
   "metadata": {},
   "source": [
    "## Разбейте данные на выборки"
   ]
  },
  {
   "cell_type": "code",
   "execution_count": 8,
   "metadata": {},
   "outputs": [],
   "source": [
    "# Вспомогательная функция для подсчёта соотношения размера некоторой выборки от размера данных\n",
    "def size_pct(sample_data):\n",
    "    return round(sample_data.shape[0] / len(data), 2) * 100"
   ]
  },
  {
   "cell_type": "code",
   "execution_count": 9,
   "metadata": {
    "scrolled": false
   },
   "outputs": [],
   "source": [
    "# Разделим исходные данные на обучающую, валидационную и тестовую выборки в соотношении 3:1:1\n",
    "train_data, test_data = train_test_split(data, test_size=0.2, random_state=12345, stratify=data.is_ultra)\n",
    "train_data, valid_data = train_test_split(train_data, test_size=0.25, random_state=12345, stratify=train_data.is_ultra)"
   ]
  },
  {
   "cell_type": "code",
   "execution_count": 10,
   "metadata": {},
   "outputs": [
    {
     "name": "stdout",
     "output_type": "stream",
     "text": [
      "Соотношение размера обучающей выборки от размера данных: 60.0%\n",
      "Соотношение размера валидационной выборки от размера данных: 20.0%\n",
      "Соотношение размера тестовой выборки от размера данных: 20.0%\n"
     ]
    }
   ],
   "source": [
    "# check\n",
    "print(f'Соотношение размера обучающей выборки от размера данных: {size_pct(train_data)}%')\n",
    "print(f'Соотношение размера валидационной выборки от размера данных: {size_pct(valid_data)}%')\n",
    "print(f'Соотношение размера тестовой выборки от размера данных: {size_pct(test_data)}%')"
   ]
  },
  {
   "cell_type": "markdown",
   "metadata": {},
   "source": [
    "Для удобства создадим отдельные переменные для признаков и целевого признака "
   ]
  },
  {
   "cell_type": "code",
   "execution_count": 11,
   "metadata": {},
   "outputs": [],
   "source": [
    "# Разделим обучающую выборку\n",
    "train_features = train_data.drop(['is_ultra'], axis=1) \n",
    "train_target = train_data['is_ultra']\n",
    "\n",
    "# Разделим валидационную выборку\n",
    "valid_features = valid_data.drop(['is_ultra'], axis=1)\n",
    "valid_target = valid_data['is_ultra']\n",
    "\n",
    "# Разделим тестовую выборку\n",
    "test_features = test_data.drop(['is_ultra'], axis=1)\n",
    "test_target = test_data['is_ultra']"
   ]
  },
  {
   "cell_type": "markdown",
   "metadata": {},
   "source": [
    "<div class=\"alert alert-success\">\n",
    "<font size=\"5\"><b>Комментарий ревьюера</b></font>\n",
    "\n",
    "Успех:\n",
    "\n",
    "Все правильно!\n",
    "\n",
    "Здорово что проконтролировано разбиение (можно с помощью .shape,  можно .len)\n",
    "\n",
    "\n",
    "\n",
    "<div class=\"alert alert-warning\">\n",
    "\n",
    "\n",
    "\n",
    "Совет: \n",
    "\n",
    "\n",
    "- Обрати внимание на аргумент stratify, он позволит сохранить изначальное распределение таргетов во всех новых датасетах.  Существующий дисбаланс никуда не денется, но в каждом датасете он будет одинаковым. [Почитать](https://pythonru.com/baza-znanij/sklearn-train-test-split) можно тут\n",
    "\n",
    "\n",
    "\n"
   ]
  },
  {
   "cell_type": "markdown",
   "metadata": {},
   "source": [
    "<div class=\"alert alert-info\">\n",
    "<font size=\"5\"><b>Комментарий</b></font>\n",
    "    \n",
    "Обновлено\n",
    "</div>"
   ]
  },
  {
   "cell_type": "markdown",
   "metadata": {},
   "source": [
    "<div class=\"alert alert-success\">\n",
    "<font size=\"5\"><b>Комментарий ревьюераV2</b></font>\n",
    "\n",
    "\n",
    "\n",
    "Успех 👍:\n",
    "\n",
    "\n",
    "\n",
    "👍\n",
    "\n",
    "\n",
    "\n",
    "\n",
    "</div>\n"
   ]
  },
  {
   "cell_type": "markdown",
   "metadata": {},
   "source": [
    "## Исследуйте модели"
   ]
  },
  {
   "cell_type": "code",
   "execution_count": 12,
   "metadata": {},
   "outputs": [],
   "source": [
    "# Функция для обновления наилучшей модели\n",
    "def best_model_update(best_model, best_accuracy, model_constructor, params):\n",
    "    model = model_constructor(**params)\n",
    "    model.fit(train_features, train_target)\n",
    "    predictions = model.predict(valid_features)\n",
    "    accuracy = accuracy_score(valid_target, predictions)\n",
    "    if accuracy > best_accuracy:\n",
    "        best_model = model\n",
    "        best_accuracy = accuracy\n",
    "        \n",
    "    return best_model, best_accuracy"
   ]
  },
  {
   "cell_type": "code",
   "execution_count": 13,
   "metadata": {},
   "outputs": [
    {
     "name": "stderr",
     "output_type": "stream",
     "text": [
      "100%|██████████| 50/50 [00:02<00:00, 24.25it/s]\n",
      "100%|██████████| 41/41 [00:49<00:00,  1.21s/it]\n",
      "100%|██████████| 91/91 [00:04<00:00, 21.74it/s]\n"
     ]
    },
    {
     "data": {
      "image/png": "[encoded data removed]",
      "text/plain": [
       "<Figure size 864x288 with 1 Axes>"
      ]
     },
     "metadata": {
      "needs_background": "light"
     },
     "output_type": "display_data"
    }
   ],
   "source": [
    "# Перебором значений гиперпараметра max_depth найдём наилучшую модель решающего дерева\n",
    "train_accuracy_list = []\n",
    "valid_accuracy_list = []\n",
    "\n",
    "best_tree_model = None\n",
    "best_tree_accuracy = 0.0\n",
    "for depth in tqdm(range(1, 51)):\n",
    "    best_tree_model, best_tree_accuracy = best_model_update(best_tree_model,\n",
    "                                                            best_tree_accuracy,\n",
    "                                                            DecisionTreeClassifier,\n",
    "                                                            {'max_depth': depth, 'random_state': 12345})\n",
    "    \n",
    "    # Сохраним точность текущей модели дерева решений на обучающей и валидационной выборках в список для построения графиков\n",
    "    train_accuracy_list.append(accuracy_score(train_target, best_tree_model.predict(train_features)))\n",
    "    valid_accuracy_list.append(best_tree_accuracy)\n",
    "    \n",
    "\n",
    "# Перебором значений гиперпараметров n_estimators и max_depth найдём наилучшую модель случайного леса\n",
    "best_forest_model = None\n",
    "best_forest_accuracy = 0.0\n",
    "for est in tqdm(range(10, 51)):\n",
    "    for depth in range (1, 11):\n",
    "        best_forest_model, best_forest_accuracy = best_model_update(best_forest_model,\n",
    "                                                                    best_forest_accuracy,\n",
    "                                                                    RandomForestClassifier,\n",
    "                                                                    {'max_depth': depth, \n",
    "                                                                     'n_estimators': est,\n",
    "                                                                     'random_state': 12345})\n",
    "\n",
    "# Перебором значений гиперпараметра max_iter найдём наилучшую модель логистической регрессии\n",
    "best_logistic_model = None\n",
    "best_logistic_accuracy = 0.0\n",
    "for max_iter in tqdm(range(100, 1001, 10)):\n",
    "    best_logistic_model, best_logistic_accuracy = best_model_update(best_logistic_model,\n",
    "                                                                    best_logistic_accuracy,\n",
    "                                                                    LogisticRegression,\n",
    "                                                                    {'solver': 'lbfgs', \n",
    "                                                                     'max_iter': max_iter,\n",
    "                                                                     'random_state': 12345})\n",
    "    \n",
    "\n",
    "# Построим графики зависимости accuracy от max_depth на обучающей и валидационной выборках\n",
    "ax = pd.DataFrame((zip(range(1, 11), train_accuracy_list)), columns=['max_depth', 'train_accuracy']).plot(\n",
    "    'max_depth',\n",
    "    'train_accuracy',\n",
    "    figsize=(12, 4),\n",
    "    legend=False,\n",
    "    grid=True,\n",
    "    alpha=0.75,\n",
    "    xlabel='max_depth',\n",
    "    ylabel='train_accuracy',\n",
    "    title='Зависимость train_accuracy от max_depth');\n",
    "\n",
    "pd.DataFrame((zip(range(1, 11), valid_accuracy_list)), columns=['max_depth', 'valid_accuracy']).plot(\n",
    "    'max_depth',\n",
    "    'valid_accuracy',\n",
    "    ax=ax,\n",
    "    figsize=(12, 4),\n",
    "    legend=False,\n",
    "    grid=True,\n",
    "    alpha=0.75,\n",
    "    xlabel='max_depth',\n",
    "    ylabel='valid_accuracy',\n",
    "    title='Зависимость valid_accuracy от max_depth');"
   ]
  },
  {
   "cell_type": "markdown",
   "metadata": {},
   "source": [
    "<div class=\"alert alert-success\">\n",
    "<font size=\"5\"><b>Комментарий ревьюера</b></font>\n",
    "\n",
    "Успех:\n",
    " \n",
    "Логика моделирования не нарушена\n",
    "\n",
    " - модель обучена на обучающем наборе\n",
    " - получена оценка качества на валидационном наборе\n",
    " - перебор гиперпараметров осуществляется в цикле\n",
    "\n",
    "\n",
    "\n",
    "\n",
    "\n",
    "<div class=\"alert alert-warning\">\n",
    "\n",
    "\n",
    "Совет: \n",
    "\n",
    "\n",
    "\n",
    "    \n",
    "- Когда что то долго крутиться, можно использовать  %%time - ставишь на самый вверх ячейки с кодом, время выполнения которого хочешь замерить, может не знаешь.  Быстрее не станет, но все будут видеть стоит ли ждать не отходя от ПК или можно сходить чаек поставить )) \n",
    "    \n",
    "    Или tqdm, это ещё лучше, потому что он показывает интерактивно, на каком этапе расчетов мы находимся\n",
    "\n",
    "    \n",
    "    from tqdm import tqdm\n",
    "\n",
    "\n",
    "    for n_estimators in tqdm(range(3,58)):\n",
    "\n",
    "        ..........\n",
    "\n",
    "\n",
    "\n",
    "(дальше мы будем уходить от неэффективных в питоне циклов к apply.  Там тоже есть аналог прогресс-баров:  .progress_apply)\n",
    "    \n",
    "И будет красиво )   \n",
    "     \n",
    "    \n",
    "    \n",
    "Советы для дерева решений:\n",
    "\n",
    "\n",
    "- Можно добавить график, хорошо оформленный график украсит проект. Тут на графике можно посмотреть как при изменении max_depth меняется точность на train и validation датасете (для этого собираем наши метрики на валидации и train в списки, а затем по ним обычный plt.plot()) Такой способ используют чтобы лучше отследить переобучение, но для этого стоит взять пернебор по max_depth поглубже\n",
    "\n",
    "\n",
    "- tree_plot можно построить, с max_depth равной 3 или 4 (глубже уже будет громоздко) - глянуть как DT сплиты делает, будет понимание как модель принимает решения: какие признаки  использует, на каких значениях делает разбиение вправо - влево \n",
    "\n",
    "\n",
    "\n",
    "\n",
    "</div>\n",
    "\n"
   ]
  },
  {
   "cell_type": "markdown",
   "metadata": {},
   "source": [
    "<div class=\"alert alert-info\">\n",
    "<font size=\"5\"><b>Комментарий</b></font>\n",
    "    \n",
    "Обновлено\n",
    "</div>"
   ]
  },
  {
   "cell_type": "markdown",
   "metadata": {},
   "source": [
    "<div class=\"alert alert-warning\">\n",
    "<font size=\"5\"><b>Комментарий ревьюераV2</b></font>\n",
    "\n",
    "\n",
    "\n",
    "Совет 🤔:\n",
    "\n",
    "\n",
    "\n",
    "Я предлагал построить график,  на котором будет видно как у дерева решения, после достижения пика, начинает падать   Метрика на валидации по мере увеличение глубины дерева, в то время как Метрика на тренировочной стремится к единице. Такая наглядная иллюстрация процесса переобучения\n"
   ]
  },
  {
   "cell_type": "code",
   "execution_count": 14,
   "metadata": {},
   "outputs": [
    {
     "name": "stdout",
     "output_type": "stream",
     "text": [
      "Наилучшее значение accuracy для модели DecisionTreeClassifier — 0.8165\n",
      "Наилучшее значение accuracy для модели RandomForestClassifier — 0.832\n",
      "Наилучшее значение accuracy для модели LogisticRegression — 0.7558\n"
     ]
    }
   ],
   "source": [
    "# check\n",
    "print(f'Наилучшее значение accuracy для модели DecisionTreeClassifier — {round(best_tree_accuracy, 4)}')\n",
    "print(f'Наилучшее значение accuracy для модели RandomForestClassifier — {round(best_forest_accuracy, 4)}')\n",
    "print(f'Наилучшее значение accuracy для модели LogisticRegression — {round(best_logistic_accuracy, 4)}')"
   ]
  },
  {
   "cell_type": "code",
   "execution_count": 15,
   "metadata": {},
   "outputs": [
    {
     "name": "stdout",
     "output_type": "stream",
     "text": [
      "Оптимальное значение параметра max_depth для модели DecisionTreeClassifier — 5\n",
      "Оптимальные значения параметров max_depth и n_estimators для модели RandomForestClassifier — 8 10\n",
      "Оптимальное значение параметра max_iter для модели LogisticRegression — 100\n"
     ]
    }
   ],
   "source": [
    "# check\n",
    "print('Оптимальное значение параметра max_depth для модели DecisionTreeClassifier —', best_tree_model.get_params()['max_depth'])\n",
    "print('Оптимальные значения параметров max_depth и n_estimators для модели RandomForestClassifier —',\n",
    "      best_forest_model.get_params()[\"max_depth\"],\n",
    "      best_forest_model.get_params()[\"n_estimators\"])\n",
    "print('Оптимальное значение параметра max_iter для модели LogisticRegression —', best_logistic_model.get_params()[\"max_iter\"])"
   ]
  },
  {
   "cell_type": "markdown",
   "metadata": {},
   "source": [
    "При помощи перебора различных значений мы нашли оптимальные гиперпараметры для каждой из моделей:\n",
    "- `DecisionTreeClassifier` со значением `max_depth = 7`\n",
    "- `RandomForestClassifier` со значением `max_depth = 10` и `n_estimators = 36`\n",
    "- `LogisticRegression` со значением `max_iter = 100`\n",
    "\n",
    "Наилучшее значение `accuracy` на валидационной выборке показала модель `RandomForestClassifier` — `0.832`"
   ]
  },
  {
   "cell_type": "markdown",
   "metadata": {},
   "source": [
    "\n",
    "<div class=\"alert alert-success\">\n",
    "<font size=\"5\"><b>Комментарий ревьюера</b></font>\n",
    "\n",
    "Успех:\n",
    "\n",
    "\n",
    "Все верно, RF лучший. \n",
    "\n",
    "\n",
    "<div class=\"alert alert-warning\">\n",
    "\n",
    "\n",
    "Совет: \n",
    "\n",
    "Если есть желание можешь ответить на вопросики ))    \n",
    "\n",
    "\n",
    "\n",
    "- Как назвать ситуацию, когда на валидации при увеличении глубины дерева (модель DT), метрика качества стала снижаться? Как по твоему в это же время вела себя эта же метрика на train?\n",
    "\n",
    "\n",
    "- Насколько знаю вы еще под капот моделям не заглядывали, но может знаешь почему обычно RF показывает более высокие результаты из выбранных?\n",
    "\n",
    "\n",
    "- Мы решаем задачу классификации (а еще есть задача регрессии), а в названии модели с помощью которой мы решаем задачу \"классификации\" (Логистическая регрессия) есть слово \"регрессия\".  Нет ли тут парадокса? )\n",
    "    \n",
    "\n",
    "- Почему логистическая регрессия показывать на много более худшие результаты?  \n",
    "\n",
    "\n",
    "</div>\n",
    "\n",
    "\n",
    "\n"
   ]
  },
  {
   "cell_type": "markdown",
   "metadata": {},
   "source": [
    "<div class=\"alert alert-info\">\n",
    "<font size=\"5\"><b>Комментарий</b></font>\n",
    "    \n",
    "- Такая ситуация называется переобучением. На графике выше можно увидеть, что при увеличении max_depth с 4 до 5 метрика качества на валидационной выборке стала снижаться, а на обучающей наоборот продолжила увеличиваться.\n",
    "    \n",
    "- Возможно потому, что модель RF представляет из себя ансамбль деревьев. В статистике хорошо известно интуитивное соображение, согласно которому усреднение результатов наблюдений может дать более устойчивую и надежную оценку.\n",
    "    \n",
    "- Насколько мне известно логистическая регрессия предсказывает вероятность принадлежности объекта к тому или иному классу, то есть число из отрезка [0, 1], а затем уже к этому числу применяется какой-нибудь decision rule (например p >= 0.5), который помогает классифицировать объект.\n",
    "    \n",
    "- Эта модель более простая, чем например RF. У неё меньше параметров поэтому она может хуже улавливать сложные закономерности. Зато у неё почти нет проблем с переобучением.\n",
    "</div>"
   ]
  },
  {
   "cell_type": "markdown",
   "metadata": {},
   "source": [
    "<div class=\"alert alert-success\">\n",
    "<font size=\"5\"><b>Комментарий ревьюераV2</b></font>\n",
    "\n",
    "\n",
    "Успех:\n",
    "\n",
    "\n",
    "Дополню чуть\n",
    "\n",
    "1. Верно, переобучение. Что ты на графике плохо видно )\n",
    "    \n",
    "    \n",
    "2. Да, в RF обучается несколько деревьев, а решение принимается путем голосования. Каждое дерево в RF учится на своем датасете (используется техника бутстрап), таким образом достигается \"независимость\" этих самых деревьев, в итоге ошибка разброса снижается.\n",
    "\n",
    "    \n",
    "3. \"Регрессия\", потому что внутри нее скалярное произведение (как и в линейной регрессии), дающее на выходе вещественное число (от + бесконечности до - бесконечности), на это число вешают сигмойду, логарифм и получают значение от 0 до 1 (вероятность класса).   \n",
    "    \n",
    "    \n",
    "4. А можно и так сказать, и действительно у Логистической регрессии с переобучением нет проблем. Логистическая регрессия плоха (и хороша с другой стороны) тем что это линейный классификатор: обьекты на классы разделяем гиперплоскостью (прямой если на плоскости), а в данном датасете видимо более сложные, нелинейные связи между признаками и таргетом.   А RF с DT с этим справляются. На других данных  LR могла оказаться лучше, например потому что RF не может экстраполировать. \n",
    "\n",
    "\n",
    "</div>"
   ]
  },
  {
   "cell_type": "markdown",
   "metadata": {},
   "source": [
    "## Проверьте модель на тестовой выборке"
   ]
  },
  {
   "cell_type": "code",
   "execution_count": 16,
   "metadata": {},
   "outputs": [
    {
     "name": "stdout",
     "output_type": "stream",
     "text": [
      "Значение accuracy на тестовой выборке для наилучшей модели RandomForestClassifier — 0.8149\n"
     ]
    }
   ],
   "source": [
    "# Тестируем модель RandomForestClassifier\n",
    "best_forest_model.fit(pd.concat([train_features, valid_features]), pd.concat([train_target, valid_target]))\n",
    "print('Значение accuracy на тестовой выборке для наилучшей модели RandomForestClassifier —',\n",
    "      round(accuracy_score(test_target, best_forest_model.predict(test_features)), 4))"
   ]
  },
  {
   "cell_type": "markdown",
   "metadata": {},
   "source": [
    "Наилучшее значение `accuracy` на тестовой выборке также показала модель `RandomForestClassifier` — `0.8149`. Оно практически совпадает со значением `accuracy` на валидационной выборке"
   ]
  },
  {
   "cell_type": "markdown",
   "metadata": {},
   "source": [
    "\n",
    "<div class=\"alert alert-danger\">\n",
    "<font size=\"5\"><b>Комментарий ревьюера</b></font>\n",
    "\n",
    "\n",
    "\n",
    "\n",
    "Ошибка:\n",
    "\n",
    "\n",
    "\n",
    "\n",
    "К данному этапу мы должны подойти с одной выбранной моделью. Артём, о логике использования датасетов:\n",
    "    \n",
    "\n",
    "\n",
    "\n",
    "\n",
    "1. На train мы обучаем\n",
    "2. По валидации смотрим на результаты обучения (следим чтобы не было переобучения и/или делаем подбор гиперпараметров).  И выбираем лучшую модель. \n",
    "3. Тестовая (out-of_sample) у нас для финальной проверки, когда определена модель с конкретными гиперпараметрами. Использование тестовой выборки, чтобы еще раз посмотреть на модели - это нарушение логической цепочки моделирования. \n",
    "\n",
    "А в таком виде, может сложиться впечатление что мы на тестовой по прежнему что то выбираем, но выбор сделан, и если лучшая на валидации покажет на test результат хуже требуемого, мы начнем процесс моделирования сначала.\n",
    "    \n",
    " [Вот](https://towardsdatascience.com/why-do-we-need-a-validation-set-in-addition-to-training-and-test-sets-5cf4a65550e0   ) тут можно дополнительно почитать.\n",
    "\n",
    "<div class=\"alert alert-warning\">\n",
    "   \n",
    "Совет: \n",
    "\n",
    "- Как попробовать улучшить результат, не мучаясь с кодом?! Смотри - мы сформировали train выборку на которой обучаем модель, а валидационную используем для поиска лучших значений гиперпараметров. Оке, нашли их. Так почему бы теперь модель с выбранными гиперпараметрами не обучить на тренировочной + валидационной выборке (только не нужно делать новые сплиты, используй pd.concat(), к примеру)?! Чем больше данных, тем лучше модель может обучиться. И эту дообученную модель проверим на тесте. Гаранитий что станет лучше нет, но ML это постоянные эксперименты.\n",
    "</div>\n"
   ]
  },
  {
   "cell_type": "markdown",
   "metadata": {},
   "source": [
    "<div class=\"alert alert-info\">\n",
    "<font size=\"5\"><b>Комментарий</b></font>\n",
    "    \n",
    "Обновлено\n",
    "</div>"
   ]
  },
  {
   "cell_type": "markdown",
   "metadata": {},
   "source": [
    "\n",
    "\n",
    "<div class=\"alert alert-success\">\n",
    "<font size=\"5\"><b>Комментарий ревьюераV2</b></font>\n",
    "\n",
    "Успех:\n",
    "\n",
    "А теперь логика не нарушена. Если студент получил на тесте accuraсy  выше 0,78, это считается отличным результатом. Тобой подбиралась лучшая комбинация не по одному гиперпараметру + дообучил и вот он результат!\n",
    "\n",
    "\n",
    "\n",
    "\n",
    "\n",
    "\n",
    "</div>"
   ]
  },
  {
   "cell_type": "markdown",
   "metadata": {},
   "source": [
    "## (бонус) Проверьте модели на адекватность"
   ]
  },
  {
   "cell_type": "code",
   "execution_count": 17,
   "metadata": {},
   "outputs": [
    {
     "name": "stdout",
     "output_type": "stream",
     "text": [
      "Точность наивной модели на тестовой выборке: 0.6936\n"
     ]
    }
   ],
   "source": [
    "dummy_model = DummyClassifier(strategy='most_frequent')\n",
    "dummy_model.fit(pd.concat([train_features, valid_features]), pd.concat([train_target, valid_target]))\n",
    "\n",
    "print('Точность наивной модели на тестовой выборке:', round(accuracy_score(test_target, dummy_model.predict(test_features)), 4))"
   ]
  },
  {
   "cell_type": "markdown",
   "metadata": {},
   "source": [
    "Мы проверили нашу наилучшую модель на адекватность. В результате точность наилучшей модели `RandomForestClassifier` значительно превосходит точность наивной модели. (`0.8149` против `0.6936`)"
   ]
  },
  {
   "cell_type": "markdown",
   "metadata": {},
   "source": [
    "\n",
    "\n",
    "\n",
    "<div class=\"alert alert-warning\">\n",
    "<font size=\"5\"><b>Комментарий ревьюера</b></font>\n",
    "\n",
    "Совет:\n",
    "\n",
    "\n",
    "Смысл проверки на адекватность в нашем проекте, это сравнение прогноза нашей лучшей модели, с прогнозом наивной модели\n",
    "\n",
    "Артём, бонусное на то и бонусное, но можешь попробовать его решить с моей подсказкой.    \n",
    "\n",
    "Ключевое это помнить  что у нас дисбаланс в таргете (нулей гораздно больше чем единиц) и четко понимать как считается accuracy.\n",
    "В чем смысл проверки модели на адекватность  при дисбалансе? Вот смотри - обучили мы какую то модель, которая на test показывает 90% accuraсy. Шикарная модель скажем мы. А если в датасете у нас в метках таргета единичек 99,9% (допустим тренируем на данных где 1 это \"кирпич упал на голову человеку когда он вышел из дома\"), а нулей 0,1% (\"не упал\")?! Все также утверждаем что наша модель шикарная?! Нет, потому что всегда можно предсказывать что не упадает (единички) и accuracy будет равна 99,9%\n",
    "\n",
    "Вот и тут мы сравниваем нашу обученную модель с примитивным прогнозом самого частого таргета. Какой у нас самый частый класс? Нули. Так посмотри accuracy_score target_test и ряда из одних нулей. Сколько будет?. \n",
    "\n",
    "\n",
    "    \n",
    "    \n",
    "\n",
    "При проверке на адекватность модели, рекомендую ознакомиться с [Dummy Models](https://scikit-learn.org/stable/modules/generated/sklearn.dummy.DummyClassifier.html), это удобная обертка для константных моделей и сделает тоже самое что я описал на словах\n",
    "\n",
    "</div>"
   ]
  },
  {
   "cell_type": "markdown",
   "metadata": {},
   "source": [
    "<div class=\"alert alert-info\">\n",
    "<font size=\"5\"><b>Комментарий</b></font>\n",
    "    \n",
    "Обновлено\n",
    "</div>"
   ]
  },
  {
   "cell_type": "markdown",
   "metadata": {},
   "source": [
    "<div class=\"alert alert-success\">\n",
    "<font size=\"5\"><b>Комментарий ревьюераV2</b></font>\n",
    "\n",
    "\n",
    "\n",
    "Успех 👍:\n",
    "\n",
    "\n",
    "\n",
    "👍\n",
    "\n",
    "\n",
    "\n",
    "\n",
    "</div>\n"
   ]
  },
  {
   "cell_type": "markdown",
   "metadata": {},
   "source": [
    "## Общий вывод"
   ]
  },
  {
   "cell_type": "markdown",
   "metadata": {},
   "source": [
    "- Мы открыли и изучили файл с данными. Предобработка данных нам не понадобилась, поэтому этот этап мы пропустили\n",
    "- Мы разбили исходные данные на обучающую, валидационную и тестовую выборки в соотношении 3:1:1\n",
    "- Мы исследовали три модели — `DecisionTreeClassifier`, `RandomForestClassifier`, `LogisticRegression`. На валидационной выборке лучше всего показала себя модель `RandomForestClassifier`. Значение `accuracy` у этой модель — `0.832`\n",
    "- Мы проверили наилучшую модель `RandomForestClassifier` на тестовой выборке. Значение `accuracy` в данном случае — `0.8149`. Оно практически совпадает со значением `accuracy` на валидационной выборке\n",
    "- Мы проверили наилучшую модель `RandomForestClassifier` на адекватность, сравнив её с наивной моделью. В результате точность наилучшей модели `RandomForestClassifier` значительно превосходит точность наивной модели. (`0.8149` против `0.6936`)"
   ]
  },
  {
   "cell_type": "markdown",
   "metadata": {},
   "source": [
    "\n",
    "<div class=\"alert alert-info\">\n",
    "<font size=\"5\"><b>Комментарий ревьюера</b></font>\n",
    "\n",
    "\n",
    "\n",
    "\n",
    "Артём, у тебя старательно выполненная работа, все четко, осмысленно. Выводы присутствуют, с комментированием кода тоже никаких проблем нет, твоих объяснений достаточно для понимания коллегами хода твоих мыслей. \n",
    "\n",
    "    \n",
    "    \n",
    "    \n",
    "\n",
    "Я оставил небольшие советы и вопросики (если есть время и желание можешь воспользоваться/ответить): \n",
    "\n",
    "\n",
    "\n",
    "\n",
    "- обрати внимание на проверку сбалансированность классов в таргете в разделе EDA\n",
    "- использовать stratify\n",
    "- добавить график метрики    \n",
    "- как можно улучшить результаты \n",
    "\n",
    "\n",
    "\n",
    "    \n",
    "    \n",
    "Обязательное к исправлению:\n",
    "\n",
    "\n",
    "\n",
    "\n",
    "\n",
    "- к моменту проверки качества прогноза на тесте, приходим с уже одной выбранной моделью с лучшими гиперпараметрами выбранными на валидации\n",
    "\n",
    "- стоит переделать бонусное задание с учётом моего комментария (по желанию, это все таки бонусное)\n",
    " \n",
    "\n",
    "    \n",
    "    \n",
    "    \n",
    "Жду исправлений, для принятия проекта. Если какие то вопросы, то сразу спрашивай ) \n",
    "\n",
    "\n",
    "\n",
    "\n",
    "\n",
    "</div>"
   ]
  },
  {
   "cell_type": "markdown",
   "metadata": {},
   "source": [
    "\n",
    "<div class=\"alert alert-info\">\n",
    "<font size=\"5\"><b>Комментарий ревьюераV2</b></font>\n",
    "\n",
    "Спасибо за работу!    \n",
    "\n",
    "    \n",
    "Красное исправлено,  желтые советы использованы, на  вопросы есть ответы  (это все было по желанию), значит стремишься развиваться, а желание и интерес это главное. Надеюсь мои советы и вопросики были полезны и в копилочку знаний упало что то новое, а проект стал лучше, и симпатичней.\n",
    "\n",
    "\n",
    "\n",
    "Отличная работа Артём. Желаю успехов в дальнейшей учебе!\n"
   ]
  },
  {
   "cell_type": "markdown",
   "metadata": {},
   "source": [
    "## Чек-лист готовности проекта"
   ]
  },
  {
   "cell_type": "markdown",
   "metadata": {},
   "source": [
    "Поставьте 'x' в выполненных пунктах. Далее нажмите Shift+Enter."
   ]
  },
  {
   "cell_type": "markdown",
   "metadata": {},
   "source": [
    "- [x] Jupyter Notebook открыт\n",
    "- [x] Весь код исполняется без ошибок\n",
    "- [x] Ячейки с кодом расположены в порядке исполнения\n",
    "- [x] Выполнено задание 1: данные загружены и изучены\n",
    "- [x] Выполнено задание 2: данные разбиты на три выборки\n",
    "- [x] Выполнено задание 3: проведено исследование моделей\n",
    "    - [x] Рассмотрено больше одной модели\n",
    "    - [x] Рассмотрено хотя бы 3 значения гипепараметров для какой-нибудь модели\n",
    "    - [x] Написаны выводы по результатам исследования\n",
    "- [x] Выполнено задание 4: Проведено тестирование\n",
    "- [x] Удалось достичь accuracy не меньше 0.75\n"
   ]
  }
 ],
 "metadata": {
  "ExecuteTimeLog": [
   {
    "duration": 51,
    "start_time": "2023-06-07T13:49:57.774Z"
   },
   {
    "duration": 490,
    "start_time": "2023-06-07T13:50:07.535Z"
   },
   {
    "duration": 135,
    "start_time": "2023-06-07T13:50:08.027Z"
   },
   {
    "duration": 17,
    "start_time": "2023-06-07T13:57:46.409Z"
   },
   {
    "duration": 12,
    "start_time": "2023-06-07T13:57:56.573Z"
   },
   {
    "duration": 20,
    "start_time": "2023-06-07T14:02:16.340Z"
   },
   {
    "duration": 3,
    "start_time": "2023-06-07T14:04:07.275Z"
   },
   {
    "duration": 32,
    "start_time": "2023-06-07T14:04:08.186Z"
   },
   {
    "duration": 16,
    "start_time": "2023-06-07T14:04:09.338Z"
   },
   {
    "duration": 11,
    "start_time": "2023-06-07T14:04:11.257Z"
   },
   {
    "duration": 85,
    "start_time": "2023-06-07T14:04:14.419Z"
   },
   {
    "duration": 6,
    "start_time": "2023-06-07T14:06:10.064Z"
   },
   {
    "duration": 19,
    "start_time": "2023-06-07T14:08:04.839Z"
   },
   {
    "duration": 23,
    "start_time": "2023-06-07T14:08:21.528Z"
   },
   {
    "duration": 25,
    "start_time": "2023-06-07T14:10:13.743Z"
   },
   {
    "duration": 9,
    "start_time": "2023-06-07T14:21:46.556Z"
   },
   {
    "duration": 16,
    "start_time": "2023-06-07T14:21:57.997Z"
   },
   {
    "duration": 6,
    "start_time": "2023-06-07T14:22:57.979Z"
   },
   {
    "duration": 18,
    "start_time": "2023-06-07T14:23:00.656Z"
   },
   {
    "duration": 12,
    "start_time": "2023-06-07T16:31:56.055Z"
   },
   {
    "duration": 5,
    "start_time": "2023-06-07T16:32:32.601Z"
   },
   {
    "duration": 5,
    "start_time": "2023-06-07T16:33:32.804Z"
   },
   {
    "duration": 23,
    "start_time": "2023-06-07T16:33:59.444Z"
   },
   {
    "duration": 6,
    "start_time": "2023-06-07T16:34:55.017Z"
   },
   {
    "duration": 5,
    "start_time": "2023-06-07T16:35:03.125Z"
   },
   {
    "duration": 5,
    "start_time": "2023-06-07T16:35:17.880Z"
   },
   {
    "duration": 7,
    "start_time": "2023-06-07T16:35:23.108Z"
   },
   {
    "duration": 6,
    "start_time": "2023-06-07T16:35:28.189Z"
   },
   {
    "duration": 10,
    "start_time": "2023-06-07T16:35:37.381Z"
   },
   {
    "duration": 6,
    "start_time": "2023-06-07T16:36:31.003Z"
   },
   {
    "duration": 119,
    "start_time": "2023-06-07T16:37:26.602Z"
   },
   {
    "duration": 9,
    "start_time": "2023-06-07T16:37:28.903Z"
   },
   {
    "duration": 5,
    "start_time": "2023-06-07T16:37:50.105Z"
   },
   {
    "duration": 10,
    "start_time": "2023-06-07T16:37:57.047Z"
   },
   {
    "duration": 5,
    "start_time": "2023-06-07T16:51:13.540Z"
   },
   {
    "duration": 189,
    "start_time": "2023-06-07T16:51:23.124Z"
   },
   {
    "duration": 6,
    "start_time": "2023-06-07T16:51:28.843Z"
   },
   {
    "duration": 7,
    "start_time": "2023-06-07T16:51:32.778Z"
   },
   {
    "duration": 5,
    "start_time": "2023-06-07T16:51:36.062Z"
   },
   {
    "duration": 9,
    "start_time": "2023-06-07T16:51:41.670Z"
   },
   {
    "duration": 14,
    "start_time": "2023-06-07T16:58:25.764Z"
   },
   {
    "duration": 69,
    "start_time": "2023-06-07T16:58:29.533Z"
   },
   {
    "duration": 4,
    "start_time": "2023-06-07T16:58:31.739Z"
   },
   {
    "duration": 8,
    "start_time": "2023-06-07T16:58:41.377Z"
   },
   {
    "duration": 1103,
    "start_time": "2023-06-08T16:37:20.123Z"
   },
   {
    "duration": 164,
    "start_time": "2023-06-08T16:37:21.230Z"
   },
   {
    "duration": 18,
    "start_time": "2023-06-08T16:37:21.396Z"
   },
   {
    "duration": 12,
    "start_time": "2023-06-08T16:37:21.459Z"
   },
   {
    "duration": 7,
    "start_time": "2023-06-08T16:37:22.769Z"
   },
   {
    "duration": 4,
    "start_time": "2023-06-08T16:37:22.975Z"
   },
   {
    "duration": 3,
    "start_time": "2023-06-08T16:37:23.851Z"
   },
   {
    "duration": 106,
    "start_time": "2023-06-08T16:47:02.561Z"
   },
   {
    "duration": 6,
    "start_time": "2023-06-08T16:47:06.570Z"
   },
   {
    "duration": 4,
    "start_time": "2023-06-08T16:47:07.052Z"
   },
   {
    "duration": 13,
    "start_time": "2023-06-08T16:47:07.430Z"
   },
   {
    "duration": 6,
    "start_time": "2023-06-08T16:47:22.397Z"
   },
   {
    "duration": 5,
    "start_time": "2023-06-08T16:49:54.469Z"
   },
   {
    "duration": 11,
    "start_time": "2023-06-08T16:50:12.306Z"
   },
   {
    "duration": 11,
    "start_time": "2023-06-08T16:50:26.049Z"
   },
   {
    "duration": 71,
    "start_time": "2023-06-08T16:50:34.354Z"
   },
   {
    "duration": 14,
    "start_time": "2023-06-08T16:50:46.256Z"
   },
   {
    "duration": 76,
    "start_time": "2023-06-08T16:50:52.082Z"
   },
   {
    "duration": 71,
    "start_time": "2023-06-08T16:51:10.826Z"
   },
   {
    "duration": 78,
    "start_time": "2023-06-08T16:58:18.965Z"
   },
   {
    "duration": 75,
    "start_time": "2023-06-08T16:58:28.884Z"
   },
   {
    "duration": 214,
    "start_time": "2023-06-08T17:07:00.825Z"
   },
   {
    "duration": 10,
    "start_time": "2023-06-08T17:07:07.811Z"
   },
   {
    "duration": 9,
    "start_time": "2023-06-08T17:07:12.263Z"
   },
   {
    "duration": 3,
    "start_time": "2023-06-08T17:07:25.830Z"
   },
   {
    "duration": 9,
    "start_time": "2023-06-08T17:07:30.427Z"
   },
   {
    "duration": 3,
    "start_time": "2023-06-08T17:07:32.974Z"
   },
   {
    "duration": 113,
    "start_time": "2023-06-08T17:07:57.777Z"
   },
   {
    "duration": 11,
    "start_time": "2023-06-08T17:08:01.981Z"
   },
   {
    "duration": 3,
    "start_time": "2023-06-08T17:08:10.925Z"
   },
   {
    "duration": 4,
    "start_time": "2023-06-08T17:08:15.308Z"
   },
   {
    "duration": 3,
    "start_time": "2023-06-08T17:08:28.651Z"
   },
   {
    "duration": 4,
    "start_time": "2023-06-08T17:08:46.597Z"
   },
   {
    "duration": 3,
    "start_time": "2023-06-08T17:10:23.400Z"
   },
   {
    "duration": 3,
    "start_time": "2023-06-08T17:10:28.213Z"
   },
   {
    "duration": 11,
    "start_time": "2023-06-08T17:10:31.381Z"
   },
   {
    "duration": 99,
    "start_time": "2023-06-08T17:10:40.381Z"
   },
   {
    "duration": 9,
    "start_time": "2023-06-08T17:10:56.159Z"
   },
   {
    "duration": 4,
    "start_time": "2023-06-08T17:11:01.256Z"
   },
   {
    "duration": 3,
    "start_time": "2023-06-08T17:11:09.750Z"
   },
   {
    "duration": 5,
    "start_time": "2023-06-08T17:11:26.611Z"
   },
   {
    "duration": 11,
    "start_time": "2023-06-08T17:11:28.963Z"
   },
   {
    "duration": 2,
    "start_time": "2023-06-08T17:11:55.706Z"
   },
   {
    "duration": 4,
    "start_time": "2023-06-08T17:11:59.579Z"
   },
   {
    "duration": 72,
    "start_time": "2023-06-08T17:15:05.297Z"
   },
   {
    "duration": 114,
    "start_time": "2023-06-08T17:15:31.048Z"
   },
   {
    "duration": 32955,
    "start_time": "2023-06-08T17:15:39.930Z"
   },
   {
    "duration": 4,
    "start_time": "2023-06-08T17:16:12.887Z"
   },
   {
    "duration": 3,
    "start_time": "2023-06-08T17:16:34.050Z"
   },
   {
    "duration": 132495,
    "start_time": "2023-06-08T17:16:41.668Z"
   },
   {
    "duration": 0,
    "start_time": "2023-06-08T17:18:54.164Z"
   },
   {
    "duration": 32820,
    "start_time": "2023-06-08T17:18:55.356Z"
   },
   {
    "duration": 4,
    "start_time": "2023-06-08T17:19:28.178Z"
   },
   {
    "duration": 4,
    "start_time": "2023-06-08T17:19:38.395Z"
   },
   {
    "duration": 3,
    "start_time": "2023-06-08T17:19:47.699Z"
   },
   {
    "duration": 13981,
    "start_time": "2023-06-08T17:19:55.658Z"
   },
   {
    "duration": 4,
    "start_time": "2023-06-08T17:20:09.641Z"
   },
   {
    "duration": 13775,
    "start_time": "2023-06-08T17:20:13.466Z"
   },
   {
    "duration": 3,
    "start_time": "2023-06-08T17:20:27.243Z"
   },
   {
    "duration": 31664,
    "start_time": "2023-06-08T17:20:41.946Z"
   },
   {
    "duration": 4,
    "start_time": "2023-06-08T17:21:27.148Z"
   },
   {
    "duration": 84790,
    "start_time": "2023-06-08T17:21:34.805Z"
   },
   {
    "duration": 0,
    "start_time": "2023-06-08T17:22:59.597Z"
   },
   {
    "duration": 30110,
    "start_time": "2023-06-08T17:23:02.528Z"
   },
   {
    "duration": 31855,
    "start_time": "2023-06-08T17:23:34.889Z"
   },
   {
    "duration": 3,
    "start_time": "2023-06-08T17:27:05.593Z"
   },
   {
    "duration": 3,
    "start_time": "2023-06-08T17:27:20.844Z"
   },
   {
    "duration": 33160,
    "start_time": "2023-06-08T17:30:31.949Z"
   },
   {
    "duration": 4,
    "start_time": "2023-06-08T17:31:05.111Z"
   },
   {
    "duration": 3,
    "start_time": "2023-06-08T17:31:24.253Z"
   },
   {
    "duration": 7,
    "start_time": "2023-06-08T17:31:27.975Z"
   },
   {
    "duration": 33616,
    "start_time": "2023-06-08T17:31:38.943Z"
   },
   {
    "duration": 4,
    "start_time": "2023-06-08T17:32:16.162Z"
   },
   {
    "duration": 32291,
    "start_time": "2023-06-08T17:33:37.937Z"
   },
   {
    "duration": 4,
    "start_time": "2023-06-08T17:34:10.230Z"
   },
   {
    "duration": 4,
    "start_time": "2023-06-08T17:34:24.923Z"
   },
   {
    "duration": 78,
    "start_time": "2023-06-08T17:35:12.594Z"
   },
   {
    "duration": 3469,
    "start_time": "2023-06-08T17:35:24.642Z"
   },
   {
    "duration": 3119,
    "start_time": "2023-06-08T17:35:39.141Z"
   },
   {
    "duration": 4,
    "start_time": "2023-06-08T17:35:54.763Z"
   },
   {
    "duration": 36653,
    "start_time": "2023-06-08T17:36:04.903Z"
   },
   {
    "duration": 5,
    "start_time": "2023-06-08T17:36:41.557Z"
   },
   {
    "duration": 38741,
    "start_time": "2023-06-08T17:36:57.304Z"
   },
   {
    "duration": 4,
    "start_time": "2023-06-08T17:37:36.047Z"
   },
   {
    "duration": 8,
    "start_time": "2023-06-08T17:37:44.934Z"
   },
   {
    "duration": 4,
    "start_time": "2023-06-08T17:38:41.101Z"
   },
   {
    "duration": 5,
    "start_time": "2023-06-08T17:39:00.918Z"
   },
   {
    "duration": 13,
    "start_time": "2023-06-08T17:39:14.688Z"
   },
   {
    "duration": 4,
    "start_time": "2023-06-08T17:39:25.509Z"
   },
   {
    "duration": 126,
    "start_time": "2023-06-08T17:40:22.932Z"
   },
   {
    "duration": 4,
    "start_time": "2023-06-08T17:40:27.844Z"
   },
   {
    "duration": 4,
    "start_time": "2023-06-08T17:40:41.366Z"
   },
   {
    "duration": 109,
    "start_time": "2023-06-08T17:41:45.759Z"
   },
   {
    "duration": 6,
    "start_time": "2023-06-08T17:41:52.458Z"
   },
   {
    "duration": 6,
    "start_time": "2023-06-08T17:42:00.043Z"
   },
   {
    "duration": 5,
    "start_time": "2023-06-08T17:43:32.607Z"
   },
   {
    "duration": 4,
    "start_time": "2023-06-08T17:44:53.953Z"
   },
   {
    "duration": 3,
    "start_time": "2023-06-08T17:45:32.462Z"
   },
   {
    "duration": 4,
    "start_time": "2023-06-08T17:46:03.211Z"
   },
   {
    "duration": 6,
    "start_time": "2023-06-08T17:46:34.749Z"
   },
   {
    "duration": 19,
    "start_time": "2023-06-08T17:46:56.088Z"
   },
   {
    "duration": 43,
    "start_time": "2023-06-09T21:01:05.104Z"
   },
   {
    "duration": 1000,
    "start_time": "2023-06-09T21:01:09.442Z"
   },
   {
    "duration": 62,
    "start_time": "2023-06-09T21:01:10.444Z"
   },
   {
    "duration": 15,
    "start_time": "2023-06-09T21:01:10.507Z"
   },
   {
    "duration": 9,
    "start_time": "2023-06-09T21:01:10.524Z"
   },
   {
    "duration": 5,
    "start_time": "2023-06-09T21:01:10.535Z"
   },
   {
    "duration": 3,
    "start_time": "2023-06-09T21:01:10.542Z"
   },
   {
    "duration": 8,
    "start_time": "2023-06-09T21:01:10.546Z"
   },
   {
    "duration": 4,
    "start_time": "2023-06-09T21:01:10.555Z"
   },
   {
    "duration": 28540,
    "start_time": "2023-06-09T21:01:10.560Z"
   },
   {
    "duration": 6,
    "start_time": "2023-06-09T21:01:39.102Z"
   },
   {
    "duration": 16,
    "start_time": "2023-06-09T21:01:39.109Z"
   },
   {
    "duration": 60,
    "start_time": "2023-06-09T21:06:23.818Z"
   },
   {
    "duration": 4,
    "start_time": "2023-06-09T21:06:56.820Z"
   },
   {
    "duration": 54,
    "start_time": "2023-06-09T21:08:47.520Z"
   },
   {
    "duration": 54,
    "start_time": "2023-06-09T21:09:00.353Z"
   },
   {
    "duration": 43,
    "start_time": "2023-06-09T21:09:12.031Z"
   },
   {
    "duration": 4,
    "start_time": "2023-06-09T21:09:14.878Z"
   },
   {
    "duration": 4,
    "start_time": "2023-06-09T21:09:30.871Z"
   },
   {
    "duration": 43,
    "start_time": "2023-06-09T21:09:47.881Z"
   },
   {
    "duration": 4,
    "start_time": "2023-06-09T21:09:54.281Z"
   },
   {
    "duration": 57,
    "start_time": "2023-06-09T21:11:00.585Z"
   },
   {
    "duration": 5,
    "start_time": "2023-06-09T21:11:06.993Z"
   },
   {
    "duration": 4,
    "start_time": "2023-06-09T21:11:54.180Z"
   },
   {
    "duration": 5,
    "start_time": "2023-06-09T21:12:06.828Z"
   },
   {
    "duration": 4,
    "start_time": "2023-06-09T21:12:21.489Z"
   },
   {
    "duration": 4,
    "start_time": "2023-06-09T21:12:26.943Z"
   },
   {
    "duration": 28512,
    "start_time": "2023-06-09T21:12:56.147Z"
   },
   {
    "duration": 3,
    "start_time": "2023-06-09T21:13:24.661Z"
   },
   {
    "duration": 10,
    "start_time": "2023-06-09T21:13:24.666Z"
   },
   {
    "duration": 4,
    "start_time": "2023-06-09T21:14:06.353Z"
   },
   {
    "duration": 5,
    "start_time": "2023-06-09T21:14:06.753Z"
   },
   {
    "duration": 4,
    "start_time": "2023-06-09T21:14:22.874Z"
   },
   {
    "duration": 4,
    "start_time": "2023-06-09T21:14:25.808Z"
   },
   {
    "duration": 4,
    "start_time": "2023-06-09T21:14:40.197Z"
   },
   {
    "duration": 6,
    "start_time": "2023-06-09T21:15:16.063Z"
   },
   {
    "duration": 8,
    "start_time": "2023-06-09T21:15:24.845Z"
   },
   {
    "duration": 4,
    "start_time": "2023-06-09T21:15:38.936Z"
   },
   {
    "duration": 4,
    "start_time": "2023-06-09T21:15:45.884Z"
   },
   {
    "duration": 44,
    "start_time": "2023-06-09T21:18:21.918Z"
   },
   {
    "duration": 48,
    "start_time": "2023-06-09T21:18:24.282Z"
   },
   {
    "duration": 4,
    "start_time": "2023-06-09T21:18:35.384Z"
   },
   {
    "duration": 4,
    "start_time": "2023-06-09T21:18:41.428Z"
   },
   {
    "duration": 4,
    "start_time": "2023-06-09T21:18:53.591Z"
   },
   {
    "duration": 4,
    "start_time": "2023-06-09T21:18:57.587Z"
   },
   {
    "duration": 4,
    "start_time": "2023-06-09T21:18:59.723Z"
   },
   {
    "duration": 4,
    "start_time": "2023-06-09T21:19:07.287Z"
   },
   {
    "duration": 4,
    "start_time": "2023-06-09T21:19:40.432Z"
   },
   {
    "duration": 4,
    "start_time": "2023-06-09T21:19:47.615Z"
   },
   {
    "duration": 4,
    "start_time": "2023-06-09T21:19:51.876Z"
   },
   {
    "duration": 4,
    "start_time": "2023-06-09T21:19:55.880Z"
   },
   {
    "duration": 5,
    "start_time": "2023-06-09T21:26:10.026Z"
   },
   {
    "duration": 16,
    "start_time": "2023-06-09T21:27:28.671Z"
   },
   {
    "duration": 16,
    "start_time": "2023-06-09T21:27:54.584Z"
   },
   {
    "duration": 15,
    "start_time": "2023-06-09T21:28:08.882Z"
   },
   {
    "duration": 16,
    "start_time": "2023-06-09T21:28:31.311Z"
   },
   {
    "duration": 14,
    "start_time": "2023-06-09T21:41:32.268Z"
   },
   {
    "duration": 9,
    "start_time": "2023-06-09T21:43:28.991Z"
   },
   {
    "duration": 9,
    "start_time": "2023-06-09T21:45:40.180Z"
   },
   {
    "duration": 8,
    "start_time": "2023-06-09T21:45:51.610Z"
   },
   {
    "duration": 13,
    "start_time": "2023-06-09T21:45:59.369Z"
   },
   {
    "duration": 13,
    "start_time": "2023-06-09T21:46:13.231Z"
   },
   {
    "duration": 15,
    "start_time": "2023-06-09T21:46:27.500Z"
   },
   {
    "duration": 10,
    "start_time": "2023-06-09T21:46:40.624Z"
   },
   {
    "duration": 17,
    "start_time": "2023-06-09T21:47:25.306Z"
   },
   {
    "duration": 2,
    "start_time": "2023-06-09T21:51:22.981Z"
   },
   {
    "duration": 46,
    "start_time": "2023-06-09T21:51:29.007Z"
   },
   {
    "duration": 4,
    "start_time": "2023-06-09T21:51:30.968Z"
   },
   {
    "duration": 7,
    "start_time": "2023-06-09T21:51:33.989Z"
   },
   {
    "duration": 13,
    "start_time": "2023-06-09T21:51:41.141Z"
   },
   {
    "duration": 7,
    "start_time": "2023-06-09T21:52:08.209Z"
   },
   {
    "duration": 8,
    "start_time": "2023-06-09T21:52:38.692Z"
   },
   {
    "duration": 12,
    "start_time": "2023-06-09T21:52:41.943Z"
   },
   {
    "duration": 8,
    "start_time": "2023-06-09T21:52:55.009Z"
   },
   {
    "duration": 48,
    "start_time": "2023-06-09T21:53:12.916Z"
   },
   {
    "duration": 12,
    "start_time": "2023-06-09T21:53:14.587Z"
   },
   {
    "duration": 5,
    "start_time": "2023-06-09T21:53:18.470Z"
   },
   {
    "duration": 9,
    "start_time": "2023-06-09T21:53:22.415Z"
   },
   {
    "duration": 11,
    "start_time": "2023-06-09T21:53:38.129Z"
   },
   {
    "duration": 8,
    "start_time": "2023-06-09T21:53:46.750Z"
   },
   {
    "duration": 15,
    "start_time": "2023-06-09T21:54:04.461Z"
   },
   {
    "duration": 12,
    "start_time": "2023-06-09T21:54:08.371Z"
   },
   {
    "duration": 8,
    "start_time": "2023-06-09T21:57:29.788Z"
   },
   {
    "duration": 9,
    "start_time": "2023-06-09T21:57:58.928Z"
   },
   {
    "duration": 7,
    "start_time": "2023-06-09T21:58:26.281Z"
   },
   {
    "duration": 6,
    "start_time": "2023-06-09T21:58:35.843Z"
   },
   {
    "duration": 6,
    "start_time": "2023-06-09T21:58:46.665Z"
   },
   {
    "duration": 12,
    "start_time": "2023-06-09T22:13:45.395Z"
   },
   {
    "duration": 477,
    "start_time": "2023-06-09T22:14:40.008Z"
   },
   {
    "duration": 616,
    "start_time": "2023-06-09T22:14:46.670Z"
   },
   {
    "duration": 3,
    "start_time": "2023-06-09T22:15:19.151Z"
   },
   {
    "duration": 28,
    "start_time": "2023-06-09T22:15:20.057Z"
   },
   {
    "duration": 9,
    "start_time": "2023-06-09T22:15:20.184Z"
   },
   {
    "duration": 10,
    "start_time": "2023-06-09T22:15:20.433Z"
   },
   {
    "duration": 5,
    "start_time": "2023-06-09T22:15:21.878Z"
   },
   {
    "duration": 3,
    "start_time": "2023-06-09T22:15:22.161Z"
   },
   {
    "duration": 6,
    "start_time": "2023-06-09T22:15:22.838Z"
   },
   {
    "duration": 3,
    "start_time": "2023-06-09T22:15:24.517Z"
   },
   {
    "duration": 26983,
    "start_time": "2023-06-09T22:15:24.972Z"
   },
   {
    "duration": 0,
    "start_time": "2023-06-09T22:15:51.957Z"
   },
   {
    "duration": 0,
    "start_time": "2023-06-09T22:15:51.958Z"
   },
   {
    "duration": 0,
    "start_time": "2023-06-09T22:15:51.959Z"
   },
   {
    "duration": 0,
    "start_time": "2023-06-09T22:15:51.960Z"
   },
   {
    "duration": 0,
    "start_time": "2023-06-09T22:15:51.961Z"
   },
   {
    "duration": 1229,
    "start_time": "2023-06-09T22:15:55.247Z"
   },
   {
    "duration": 29,
    "start_time": "2023-06-09T22:15:56.478Z"
   },
   {
    "duration": 13,
    "start_time": "2023-06-09T22:15:56.509Z"
   },
   {
    "duration": 10,
    "start_time": "2023-06-09T22:15:56.524Z"
   },
   {
    "duration": 6,
    "start_time": "2023-06-09T22:15:56.535Z"
   },
   {
    "duration": 7,
    "start_time": "2023-06-09T22:15:56.542Z"
   },
   {
    "duration": 5,
    "start_time": "2023-06-09T22:15:56.550Z"
   },
   {
    "duration": 4,
    "start_time": "2023-06-09T22:15:56.557Z"
   },
   {
    "duration": 28638,
    "start_time": "2023-06-09T22:15:56.562Z"
   },
   {
    "duration": 6,
    "start_time": "2023-06-09T22:16:25.202Z"
   },
   {
    "duration": 7,
    "start_time": "2023-06-09T22:16:25.210Z"
   },
   {
    "duration": 18,
    "start_time": "2023-06-09T22:16:25.218Z"
   },
   {
    "duration": 9,
    "start_time": "2023-06-09T22:16:25.237Z"
   },
   {
    "duration": 636,
    "start_time": "2023-06-09T22:16:25.248Z"
   },
   {
    "duration": 46,
    "start_time": "2023-06-09T22:16:25.886Z"
   },
   {
    "duration": 0,
    "start_time": "2023-06-09T22:16:25.933Z"
   },
   {
    "duration": 19275,
    "start_time": "2023-06-09T22:16:44.073Z"
   },
   {
    "duration": 0,
    "start_time": "2023-06-09T22:17:54.221Z"
   },
   {
    "duration": 40782,
    "start_time": "2023-06-09T22:17:58.103Z"
   },
   {
    "duration": 14,
    "start_time": "2023-06-09T22:19:08.901Z"
   },
   {
    "duration": 13,
    "start_time": "2023-06-09T22:19:16.595Z"
   },
   {
    "duration": 11,
    "start_time": "2023-06-09T22:19:20.344Z"
   },
   {
    "duration": 171,
    "start_time": "2023-06-09T22:20:38.662Z"
   },
   {
    "duration": 196,
    "start_time": "2023-06-09T22:20:46.368Z"
   },
   {
    "duration": 5569,
    "start_time": "2023-06-09T22:20:59.965Z"
   },
   {
    "duration": 11208,
    "start_time": "2023-06-09T22:21:08.500Z"
   },
   {
    "duration": 0,
    "start_time": "2023-06-09T22:21:19.712Z"
   },
   {
    "duration": 10,
    "start_time": "2023-06-09T22:21:21.140Z"
   },
   {
    "duration": 13,
    "start_time": "2023-06-09T22:23:21.554Z"
   },
   {
    "duration": 14,
    "start_time": "2023-06-09T22:23:26.424Z"
   },
   {
    "duration": 11,
    "start_time": "2023-06-09T22:24:29.398Z"
   },
   {
    "duration": 27716,
    "start_time": "2023-06-09T22:24:38.714Z"
   },
   {
    "duration": 121,
    "start_time": "2023-06-09T22:26:12.956Z"
   },
   {
    "duration": 452,
    "start_time": "2023-06-09T22:26:17.711Z"
   },
   {
    "duration": 387,
    "start_time": "2023-06-09T22:26:55.197Z"
   },
   {
    "duration": 389,
    "start_time": "2023-06-09T22:26:58.660Z"
   },
   {
    "duration": 403,
    "start_time": "2023-06-09T22:27:17.092Z"
   },
   {
    "duration": 404,
    "start_time": "2023-06-09T22:28:26.361Z"
   },
   {
    "duration": 937,
    "start_time": "2023-06-09T22:30:51.510Z"
   },
   {
    "duration": 431,
    "start_time": "2023-06-09T22:31:21.725Z"
   },
   {
    "duration": 438,
    "start_time": "2023-06-09T22:31:26.216Z"
   },
   {
    "duration": 417,
    "start_time": "2023-06-09T22:35:40.636Z"
   },
   {
    "duration": 13,
    "start_time": "2023-06-09T22:36:25.245Z"
   },
   {
    "duration": 409,
    "start_time": "2023-06-09T22:36:37.269Z"
   },
   {
    "duration": 430,
    "start_time": "2023-06-09T22:36:57.215Z"
   },
   {
    "duration": 423,
    "start_time": "2023-06-09T22:37:05.792Z"
   },
   {
    "duration": 12,
    "start_time": "2023-06-09T22:51:22.442Z"
   },
   {
    "duration": 11,
    "start_time": "2023-06-09T22:51:28.496Z"
   },
   {
    "duration": 14,
    "start_time": "2023-06-09T22:51:33.557Z"
   },
   {
    "duration": 18,
    "start_time": "2023-06-09T22:51:36.299Z"
   },
   {
    "duration": 22,
    "start_time": "2023-06-09T22:51:59.104Z"
   },
   {
    "duration": 19,
    "start_time": "2023-06-09T22:52:03.128Z"
   },
   {
    "duration": 26,
    "start_time": "2023-06-09T22:52:17.031Z"
   },
   {
    "duration": 54,
    "start_time": "2023-06-09T22:52:38.878Z"
   },
   {
    "duration": 19,
    "start_time": "2023-06-09T22:52:40.987Z"
   },
   {
    "duration": 26,
    "start_time": "2023-06-09T22:53:05.557Z"
   },
   {
    "duration": 10,
    "start_time": "2023-06-09T23:06:46.309Z"
   },
   {
    "duration": 10,
    "start_time": "2023-06-09T23:09:51.376Z"
   },
   {
    "duration": 11,
    "start_time": "2023-06-09T23:12:14.757Z"
   },
   {
    "duration": 13,
    "start_time": "2023-06-09T23:12:18.267Z"
   },
   {
    "duration": 12,
    "start_time": "2023-06-09T23:13:02.219Z"
   },
   {
    "duration": 9,
    "start_time": "2023-06-09T23:13:08.993Z"
   },
   {
    "duration": 5,
    "start_time": "2023-06-09T23:13:56.243Z"
   },
   {
    "duration": 5,
    "start_time": "2023-06-09T23:13:58.281Z"
   },
   {
    "duration": 10,
    "start_time": "2023-06-09T23:13:58.475Z"
   },
   {
    "duration": 5,
    "start_time": "2023-06-09T23:13:58.672Z"
   },
   {
    "duration": 5,
    "start_time": "2023-06-09T23:21:27.470Z"
   },
   {
    "duration": 5,
    "start_time": "2023-06-09T23:21:27.739Z"
   },
   {
    "duration": 9,
    "start_time": "2023-06-09T23:21:28.086Z"
   },
   {
    "duration": 5,
    "start_time": "2023-06-09T23:21:28.403Z"
   },
   {
    "duration": 5,
    "start_time": "2023-06-09T23:21:32.711Z"
   },
   {
    "duration": 5,
    "start_time": "2023-06-09T23:21:33.106Z"
   },
   {
    "duration": 9,
    "start_time": "2023-06-09T23:21:33.527Z"
   },
   {
    "duration": 5,
    "start_time": "2023-06-09T23:21:33.849Z"
   },
   {
    "duration": 6,
    "start_time": "2023-06-09T23:21:48.269Z"
   },
   {
    "duration": 6,
    "start_time": "2023-06-09T23:21:50.627Z"
   },
   {
    "duration": 10,
    "start_time": "2023-06-09T23:21:50.753Z"
   },
   {
    "duration": 6,
    "start_time": "2023-06-09T23:21:51.005Z"
   },
   {
    "duration": 5,
    "start_time": "2023-06-09T23:24:11.147Z"
   },
   {
    "duration": 5,
    "start_time": "2023-06-09T23:24:54.425Z"
   },
   {
    "duration": 5,
    "start_time": "2023-06-09T23:24:59.421Z"
   },
   {
    "duration": 4,
    "start_time": "2023-06-09T23:25:07.434Z"
   },
   {
    "duration": 10,
    "start_time": "2023-06-09T23:25:12.827Z"
   },
   {
    "duration": 5,
    "start_time": "2023-06-09T23:25:16.340Z"
   },
   {
    "duration": 10,
    "start_time": "2023-06-09T23:25:50.652Z"
   },
   {
    "duration": 7,
    "start_time": "2023-06-09T23:25:58.370Z"
   },
   {
    "duration": 6,
    "start_time": "2023-06-09T23:27:44.673Z"
   },
   {
    "duration": 9,
    "start_time": "2023-06-09T23:27:55.468Z"
   },
   {
    "duration": 5,
    "start_time": "2023-06-09T23:27:57.784Z"
   },
   {
    "duration": 4,
    "start_time": "2023-06-09T23:38:49.810Z"
   },
   {
    "duration": 1174,
    "start_time": "2023-06-09T23:38:53.077Z"
   },
   {
    "duration": 29,
    "start_time": "2023-06-09T23:38:55.120Z"
   },
   {
    "duration": 14,
    "start_time": "2023-06-09T23:39:04.343Z"
   },
   {
    "duration": 11,
    "start_time": "2023-06-09T23:39:05.138Z"
   },
   {
    "duration": 5,
    "start_time": "2023-06-09T23:39:56.594Z"
   },
   {
    "duration": 3,
    "start_time": "2023-06-09T23:40:07.013Z"
   },
   {
    "duration": 48,
    "start_time": "2023-06-09T23:44:35.571Z"
   },
   {
    "duration": 92,
    "start_time": "2023-06-09T23:44:48.460Z"
   },
   {
    "duration": 3,
    "start_time": "2023-06-09T23:44:51.244Z"
   },
   {
    "duration": 6,
    "start_time": "2023-06-09T23:44:51.508Z"
   },
   {
    "duration": 3,
    "start_time": "2023-06-09T23:44:53.705Z"
   },
   {
    "duration": 4,
    "start_time": "2023-06-09T23:45:27.365Z"
   },
   {
    "duration": 3,
    "start_time": "2023-06-09T23:45:56.726Z"
   },
   {
    "duration": 6,
    "start_time": "2023-06-09T23:45:57.271Z"
   },
   {
    "duration": 4,
    "start_time": "2023-06-09T23:45:57.557Z"
   },
   {
    "duration": 1105,
    "start_time": "2023-06-09T23:46:25.636Z"
   },
   {
    "duration": 29,
    "start_time": "2023-06-09T23:46:26.743Z"
   },
   {
    "duration": 13,
    "start_time": "2023-06-09T23:46:26.773Z"
   },
   {
    "duration": 9,
    "start_time": "2023-06-09T23:46:26.787Z"
   },
   {
    "duration": 3,
    "start_time": "2023-06-09T23:46:28.437Z"
   },
   {
    "duration": 6,
    "start_time": "2023-06-09T23:46:29.425Z"
   },
   {
    "duration": 3,
    "start_time": "2023-06-09T23:46:29.800Z"
   },
   {
    "duration": 6,
    "start_time": "2023-06-09T23:47:34.005Z"
   },
   {
    "duration": 3,
    "start_time": "2023-06-09T23:48:11.160Z"
   },
   {
    "duration": 28430,
    "start_time": "2023-06-09T23:48:17.023Z"
   },
   {
    "duration": 4,
    "start_time": "2023-06-09T23:49:13.685Z"
   },
   {
    "duration": 5,
    "start_time": "2023-06-09T23:49:31.192Z"
   },
   {
    "duration": 4,
    "start_time": "2023-06-09T23:49:53.147Z"
   },
   {
    "duration": 4,
    "start_time": "2023-06-09T23:50:27.799Z"
   },
   {
    "duration": 5,
    "start_time": "2023-06-09T23:50:30.655Z"
   },
   {
    "duration": 5,
    "start_time": "2023-06-09T23:50:43.443Z"
   },
   {
    "duration": 5,
    "start_time": "2023-06-09T23:50:45.963Z"
   },
   {
    "duration": 1210,
    "start_time": "2023-06-09T23:52:47.843Z"
   },
   {
    "duration": 29,
    "start_time": "2023-06-09T23:52:49.055Z"
   },
   {
    "duration": 12,
    "start_time": "2023-06-09T23:52:49.085Z"
   },
   {
    "duration": 9,
    "start_time": "2023-06-09T23:52:49.099Z"
   },
   {
    "duration": 3,
    "start_time": "2023-06-09T23:52:49.221Z"
   },
   {
    "duration": 5,
    "start_time": "2023-06-09T23:52:49.390Z"
   },
   {
    "duration": 3,
    "start_time": "2023-06-09T23:52:49.686Z"
   },
   {
    "duration": 6,
    "start_time": "2023-06-09T23:52:50.018Z"
   },
   {
    "duration": 4,
    "start_time": "2023-06-09T23:52:50.562Z"
   },
   {
    "duration": 28496,
    "start_time": "2023-06-09T23:52:50.855Z"
   },
   {
    "duration": 4,
    "start_time": "2023-06-09T23:53:19.353Z"
   },
   {
    "duration": 9,
    "start_time": "2023-06-09T23:53:19.358Z"
   },
   {
    "duration": 15,
    "start_time": "2023-06-09T23:53:27.481Z"
   },
   {
    "duration": 18,
    "start_time": "2023-06-09T23:53:42.903Z"
   },
   {
    "duration": 15,
    "start_time": "2023-06-09T23:53:51.914Z"
   },
   {
    "duration": 5,
    "start_time": "2023-06-09T23:55:02.325Z"
   },
   {
    "duration": 492,
    "start_time": "2023-06-09T23:55:05.333Z"
   },
   {
    "duration": 4,
    "start_time": "2023-06-09T23:58:04.272Z"
   },
   {
    "duration": 4,
    "start_time": "2023-06-09T23:58:14.987Z"
   },
   {
    "duration": 4,
    "start_time": "2023-06-09T23:58:23.578Z"
   },
   {
    "duration": 1117,
    "start_time": "2023-06-09T23:58:58.126Z"
   },
   {
    "duration": 28,
    "start_time": "2023-06-09T23:58:59.245Z"
   },
   {
    "duration": 12,
    "start_time": "2023-06-09T23:58:59.275Z"
   },
   {
    "duration": 26,
    "start_time": "2023-06-09T23:58:59.288Z"
   },
   {
    "duration": 6,
    "start_time": "2023-06-09T23:58:59.316Z"
   },
   {
    "duration": 19,
    "start_time": "2023-06-09T23:58:59.323Z"
   },
   {
    "duration": 15,
    "start_time": "2023-06-09T23:58:59.343Z"
   },
   {
    "duration": 15,
    "start_time": "2023-06-09T23:58:59.360Z"
   },
   {
    "duration": 19,
    "start_time": "2023-06-09T23:58:59.376Z"
   },
   {
    "duration": 27622,
    "start_time": "2023-06-09T23:58:59.396Z"
   },
   {
    "duration": 4,
    "start_time": "2023-06-09T23:59:27.019Z"
   },
   {
    "duration": 5,
    "start_time": "2023-06-09T23:59:27.796Z"
   },
   {
    "duration": 16,
    "start_time": "2023-06-09T23:59:37.857Z"
   },
   {
    "duration": 6,
    "start_time": "2023-06-09T23:59:42.335Z"
   },
   {
    "duration": 500,
    "start_time": "2023-06-09T23:59:43.669Z"
   },
   {
    "duration": 24,
    "start_time": "2023-06-10T00:03:05.017Z"
   },
   {
    "duration": 5,
    "start_time": "2023-06-10T00:03:27.378Z"
   },
   {
    "duration": 5,
    "start_time": "2023-06-10T00:06:45.246Z"
   },
   {
    "duration": 5,
    "start_time": "2023-06-10T00:06:55.132Z"
   },
   {
    "duration": 10,
    "start_time": "2023-06-10T00:06:55.427Z"
   },
   {
    "duration": 5,
    "start_time": "2023-06-10T00:06:55.783Z"
   },
   {
    "duration": 1224,
    "start_time": "2023-06-10T00:20:15.124Z"
   },
   {
    "duration": 31,
    "start_time": "2023-06-10T00:20:16.350Z"
   },
   {
    "duration": 18,
    "start_time": "2023-06-10T00:20:16.383Z"
   },
   {
    "duration": 24,
    "start_time": "2023-06-10T00:20:16.403Z"
   },
   {
    "duration": 14,
    "start_time": "2023-06-10T00:20:16.429Z"
   },
   {
    "duration": 10,
    "start_time": "2023-06-10T00:20:16.445Z"
   },
   {
    "duration": 7,
    "start_time": "2023-06-10T00:20:16.457Z"
   },
   {
    "duration": 17,
    "start_time": "2023-06-10T00:20:16.465Z"
   },
   {
    "duration": 7,
    "start_time": "2023-06-10T00:20:16.484Z"
   },
   {
    "duration": 2919,
    "start_time": "2023-06-10T04:07:10.167Z"
   },
   {
    "duration": 116,
    "start_time": "2023-06-10T04:07:13.088Z"
   },
   {
    "duration": 13,
    "start_time": "2023-06-10T04:07:13.205Z"
   },
   {
    "duration": 35,
    "start_time": "2023-06-10T04:07:13.220Z"
   },
   {
    "duration": 13,
    "start_time": "2023-06-10T04:07:13.256Z"
   },
   {
    "duration": 24,
    "start_time": "2023-06-10T04:07:13.270Z"
   },
   {
    "duration": 24,
    "start_time": "2023-06-10T04:07:13.296Z"
   },
   {
    "duration": 30,
    "start_time": "2023-06-10T04:07:13.321Z"
   },
   {
    "duration": 30,
    "start_time": "2023-06-10T04:07:13.352Z"
   },
   {
    "duration": 29997,
    "start_time": "2023-06-10T04:07:13.384Z"
   },
   {
    "duration": 3,
    "start_time": "2023-06-10T04:07:43.383Z"
   },
   {
    "duration": 28,
    "start_time": "2023-06-10T04:07:43.388Z"
   },
   {
    "duration": 36,
    "start_time": "2023-06-10T04:07:43.417Z"
   },
   {
    "duration": 5,
    "start_time": "2023-06-10T04:07:43.455Z"
   },
   {
    "duration": 504,
    "start_time": "2023-06-10T04:07:43.461Z"
   },
   {
    "duration": 23,
    "start_time": "2023-06-10T04:07:43.967Z"
   },
   {
    "duration": 24,
    "start_time": "2023-06-10T04:07:43.992Z"
   },
   {
    "duration": 8,
    "start_time": "2023-06-10T04:07:44.018Z"
   },
   {
    "duration": 11,
    "start_time": "2023-06-10T04:07:44.027Z"
   },
   {
    "duration": 4,
    "start_time": "2023-06-10T04:07:44.040Z"
   },
   {
    "duration": 52,
    "start_time": "2023-06-10T20:15:23.325Z"
   },
   {
    "duration": 1871,
    "start_time": "2023-06-10T20:15:27.012Z"
   },
   {
    "duration": 137,
    "start_time": "2023-06-10T20:15:28.885Z"
   },
   {
    "duration": 32,
    "start_time": "2023-06-10T20:15:29.025Z"
   },
   {
    "duration": 12,
    "start_time": "2023-06-10T20:15:29.059Z"
   },
   {
    "duration": 87,
    "start_time": "2023-06-10T20:15:29.073Z"
   },
   {
    "duration": 3,
    "start_time": "2023-06-10T20:15:29.162Z"
   },
   {
    "duration": 22,
    "start_time": "2023-06-10T20:15:29.166Z"
   },
   {
    "duration": 52,
    "start_time": "2023-06-10T20:15:29.190Z"
   },
   {
    "duration": 7,
    "start_time": "2023-06-10T20:15:29.244Z"
   },
   {
    "duration": 18,
    "start_time": "2023-06-10T20:15:29.253Z"
   },
   {
    "duration": 36794,
    "start_time": "2023-06-10T20:15:29.274Z"
   },
   {
    "duration": 5,
    "start_time": "2023-06-10T20:16:06.069Z"
   },
   {
    "duration": 9,
    "start_time": "2023-06-10T20:16:06.075Z"
   },
   {
    "duration": 24,
    "start_time": "2023-06-10T20:16:06.086Z"
   },
   {
    "duration": 31,
    "start_time": "2023-06-10T20:16:06.112Z"
   },
   {
    "duration": 646,
    "start_time": "2023-06-10T20:16:06.145Z"
   },
   {
    "duration": 55,
    "start_time": "2023-06-10T20:16:06.792Z"
   },
   {
    "duration": 8,
    "start_time": "2023-06-10T20:16:06.849Z"
   },
   {
    "duration": 24,
    "start_time": "2023-06-10T20:16:06.859Z"
   },
   {
    "duration": 14,
    "start_time": "2023-06-10T20:16:06.885Z"
   },
   {
    "duration": 16,
    "start_time": "2023-06-10T20:16:06.901Z"
   },
   {
    "duration": 6,
    "start_time": "2023-06-10T20:19:49.158Z"
   },
   {
    "duration": 6,
    "start_time": "2023-06-10T20:19:53.965Z"
   },
   {
    "duration": 71,
    "start_time": "2023-06-10T20:22:36.765Z"
   },
   {
    "duration": 132,
    "start_time": "2023-06-10T20:22:38.919Z"
   },
   {
    "duration": 114,
    "start_time": "2023-06-10T20:22:49.817Z"
   },
   {
    "duration": 121,
    "start_time": "2023-06-10T20:23:39.584Z"
   },
   {
    "duration": 112,
    "start_time": "2023-06-10T20:23:42.718Z"
   },
   {
    "duration": 110,
    "start_time": "2023-06-10T20:25:19.434Z"
   },
   {
    "duration": 78,
    "start_time": "2023-06-10T20:26:23.383Z"
   },
   {
    "duration": 122,
    "start_time": "2023-06-10T20:26:27.732Z"
   },
   {
    "duration": 112,
    "start_time": "2023-06-10T20:26:30.951Z"
   },
   {
    "duration": 113,
    "start_time": "2023-06-10T20:26:40.411Z"
   },
   {
    "duration": 114,
    "start_time": "2023-06-10T20:26:51.332Z"
   },
   {
    "duration": 120,
    "start_time": "2023-06-10T20:26:54.059Z"
   },
   {
    "duration": 127,
    "start_time": "2023-06-10T20:27:19.153Z"
   },
   {
    "duration": 227,
    "start_time": "2023-06-10T20:27:34.353Z"
   },
   {
    "duration": 109,
    "start_time": "2023-06-10T20:27:47.953Z"
   },
   {
    "duration": 116,
    "start_time": "2023-06-10T20:27:52.937Z"
   },
   {
    "duration": 124,
    "start_time": "2023-06-10T20:29:52.471Z"
   },
   {
    "duration": 126,
    "start_time": "2023-06-10T20:29:57.852Z"
   },
   {
    "duration": 127,
    "start_time": "2023-06-10T20:30:09.800Z"
   },
   {
    "duration": 12,
    "start_time": "2023-06-10T20:31:02.061Z"
   },
   {
    "duration": 9,
    "start_time": "2023-06-10T20:43:54.173Z"
   },
   {
    "duration": 12,
    "start_time": "2023-06-10T20:44:01.835Z"
   },
   {
    "duration": 5,
    "start_time": "2023-06-10T20:44:17.794Z"
   },
   {
    "duration": 1815,
    "start_time": "2023-06-13T13:21:20.347Z"
   },
   {
    "duration": 89,
    "start_time": "2023-06-13T13:21:22.165Z"
   },
   {
    "duration": 15,
    "start_time": "2023-06-13T13:21:22.256Z"
   },
   {
    "duration": 11,
    "start_time": "2023-06-13T13:21:22.273Z"
   },
   {
    "duration": 78,
    "start_time": "2023-06-13T13:21:22.285Z"
   },
   {
    "duration": 291,
    "start_time": "2023-06-13T13:21:22.365Z"
   },
   {
    "duration": 10,
    "start_time": "2023-06-13T13:21:22.658Z"
   },
   {
    "duration": 5,
    "start_time": "2023-06-13T13:21:22.669Z"
   },
   {
    "duration": 8,
    "start_time": "2023-06-13T13:21:22.676Z"
   },
   {
    "duration": 13,
    "start_time": "2023-06-13T13:21:22.687Z"
   },
   {
    "duration": 57,
    "start_time": "2023-06-13T13:21:22.701Z"
   },
   {
    "duration": 6,
    "start_time": "2023-06-13T13:21:22.759Z"
   },
   {
    "duration": 36352,
    "start_time": "2023-06-13T13:21:22.766Z"
   },
   {
    "duration": 4,
    "start_time": "2023-06-13T13:21:59.120Z"
   },
   {
    "duration": 6,
    "start_time": "2023-06-13T13:21:59.127Z"
   },
   {
    "duration": 31,
    "start_time": "2023-06-13T13:21:59.134Z"
   },
   {
    "duration": 6,
    "start_time": "2023-06-13T13:21:59.166Z"
   },
   {
    "duration": 495,
    "start_time": "2023-06-13T13:21:59.173Z"
   },
   {
    "duration": 26,
    "start_time": "2023-06-13T13:21:59.670Z"
   },
   {
    "duration": 5,
    "start_time": "2023-06-13T13:21:59.697Z"
   },
   {
    "duration": 8,
    "start_time": "2023-06-13T13:21:59.704Z"
   },
   {
    "duration": 18,
    "start_time": "2023-06-13T13:21:59.713Z"
   },
   {
    "duration": 6,
    "start_time": "2023-06-13T13:21:59.753Z"
   },
   {
    "duration": 7,
    "start_time": "2023-06-13T13:22:27.081Z"
   },
   {
    "duration": 31607,
    "start_time": "2023-06-13T13:23:19.892Z"
   },
   {
    "duration": 34808,
    "start_time": "2023-06-13T13:29:54.408Z"
   },
   {
    "duration": 231,
    "start_time": "2023-06-13T13:30:33.991Z"
   },
   {
    "duration": 202,
    "start_time": "2023-06-13T13:30:46.836Z"
   },
   {
    "duration": 208,
    "start_time": "2023-06-13T13:31:15.288Z"
   },
   {
    "duration": 224,
    "start_time": "2023-06-13T13:31:32.816Z"
   },
   {
    "duration": 707,
    "start_time": "2023-06-13T13:31:49.892Z"
   },
   {
    "duration": 738,
    "start_time": "2023-06-13T13:32:00.316Z"
   },
   {
    "duration": 208,
    "start_time": "2023-06-13T13:32:19.517Z"
   },
   {
    "duration": 199,
    "start_time": "2023-06-13T13:35:51.701Z"
   },
   {
    "duration": 294,
    "start_time": "2023-06-13T13:35:58.106Z"
   },
   {
    "duration": 215,
    "start_time": "2023-06-13T13:36:07.649Z"
   },
   {
    "duration": 212,
    "start_time": "2023-06-13T13:36:28.378Z"
   },
   {
    "duration": 98,
    "start_time": "2023-06-13T13:39:39.631Z"
   },
   {
    "duration": 93,
    "start_time": "2023-06-13T13:39:59.293Z"
   },
   {
    "duration": 212,
    "start_time": "2023-06-13T13:42:05.761Z"
   },
   {
    "duration": 120,
    "start_time": "2023-06-13T13:42:13.455Z"
   },
   {
    "duration": 102,
    "start_time": "2023-06-13T13:42:26.538Z"
   },
   {
    "duration": 94,
    "start_time": "2023-06-13T13:42:37.727Z"
   },
   {
    "duration": 389,
    "start_time": "2023-06-13T13:43:00.398Z"
   },
   {
    "duration": 391,
    "start_time": "2023-06-13T13:43:58.156Z"
   },
   {
    "duration": 383,
    "start_time": "2023-06-13T13:44:04.205Z"
   },
   {
    "duration": 355,
    "start_time": "2023-06-13T13:44:47.147Z"
   },
   {
    "duration": 328,
    "start_time": "2023-06-13T13:44:51.617Z"
   },
   {
    "duration": 380,
    "start_time": "2023-06-13T13:45:04.608Z"
   },
   {
    "duration": 97,
    "start_time": "2023-06-13T13:45:26.794Z"
   },
   {
    "duration": 87,
    "start_time": "2023-06-13T13:45:30.610Z"
   },
   {
    "duration": 67,
    "start_time": "2023-06-13T13:45:34.523Z"
   },
   {
    "duration": 371,
    "start_time": "2023-06-13T13:45:45.000Z"
   },
   {
    "duration": 332,
    "start_time": "2023-06-13T13:46:01.948Z"
   },
   {
    "duration": 70,
    "start_time": "2023-06-13T13:46:28.587Z"
   },
   {
    "duration": 373,
    "start_time": "2023-06-13T13:46:32.806Z"
   },
   {
    "duration": 446,
    "start_time": "2023-06-13T13:46:40.447Z"
   },
   {
    "duration": 372,
    "start_time": "2023-06-13T13:46:54.946Z"
   },
   {
    "duration": 69,
    "start_time": "2023-06-13T13:47:13.434Z"
   },
   {
    "duration": 262,
    "start_time": "2023-06-13T13:47:16.196Z"
   },
   {
    "duration": 254,
    "start_time": "2023-06-13T13:47:53.538Z"
   },
   {
    "duration": 93,
    "start_time": "2023-06-13T13:48:28.992Z"
   },
   {
    "duration": 260,
    "start_time": "2023-06-13T13:48:32.756Z"
   },
   {
    "duration": 261,
    "start_time": "2023-06-13T13:49:00.412Z"
   },
   {
    "duration": 240,
    "start_time": "2023-06-13T13:49:11.548Z"
   },
   {
    "duration": 1142,
    "start_time": "2023-06-13T13:49:41.148Z"
   },
   {
    "duration": 218,
    "start_time": "2023-06-13T13:49:45.828Z"
   },
   {
    "duration": 71,
    "start_time": "2023-06-13T13:50:29.037Z"
   },
   {
    "duration": 251,
    "start_time": "2023-06-13T13:50:31.832Z"
   },
   {
    "duration": 259,
    "start_time": "2023-06-13T13:50:46.523Z"
   },
   {
    "duration": 233,
    "start_time": "2023-06-13T13:52:10.333Z"
   },
   {
    "duration": 227,
    "start_time": "2023-06-13T13:52:26.053Z"
   },
   {
    "duration": 225,
    "start_time": "2023-06-13T13:52:45.844Z"
   },
   {
    "duration": 34323,
    "start_time": "2023-06-13T13:53:48.494Z"
   },
   {
    "duration": 35018,
    "start_time": "2023-06-13T14:02:20.889Z"
   },
   {
    "duration": 9,
    "start_time": "2023-06-13T14:03:47.988Z"
   },
   {
    "duration": 10,
    "start_time": "2023-06-13T14:03:56.642Z"
   },
   {
    "duration": 1492,
    "start_time": "2023-06-13T14:04:45.864Z"
   },
   {
    "duration": 1512,
    "start_time": "2023-06-13T14:04:52.214Z"
   },
   {
    "duration": 823,
    "start_time": "2023-06-13T14:05:02.254Z"
   },
   {
    "duration": 781,
    "start_time": "2023-06-13T14:05:23.557Z"
   },
   {
    "duration": 825,
    "start_time": "2023-06-13T14:05:27.217Z"
   },
   {
    "duration": 788,
    "start_time": "2023-06-13T14:06:04.532Z"
   },
   {
    "duration": 807,
    "start_time": "2023-06-13T14:06:10.052Z"
   },
   {
    "duration": 810,
    "start_time": "2023-06-13T14:06:12.561Z"
   },
   {
    "duration": 8,
    "start_time": "2023-06-13T14:19:57.900Z"
   },
   {
    "duration": 1358,
    "start_time": "2023-06-13T14:20:07.351Z"
   },
   {
    "duration": 39,
    "start_time": "2023-06-13T14:20:08.710Z"
   },
   {
    "duration": 13,
    "start_time": "2023-06-13T14:20:08.750Z"
   },
   {
    "duration": 12,
    "start_time": "2023-06-13T14:20:08.765Z"
   },
   {
    "duration": 24,
    "start_time": "2023-06-13T14:20:08.779Z"
   },
   {
    "duration": 138,
    "start_time": "2023-06-13T14:20:08.805Z"
   },
   {
    "duration": 17,
    "start_time": "2023-06-13T14:20:08.944Z"
   },
   {
    "duration": 7,
    "start_time": "2023-06-13T14:20:08.962Z"
   },
   {
    "duration": 9,
    "start_time": "2023-06-13T14:20:08.971Z"
   },
   {
    "duration": 4,
    "start_time": "2023-06-13T14:20:08.981Z"
   },
   {
    "duration": 6,
    "start_time": "2023-06-13T14:20:08.987Z"
   },
   {
    "duration": 4,
    "start_time": "2023-06-13T14:20:08.995Z"
   },
   {
    "duration": 34577,
    "start_time": "2023-06-13T14:20:09.001Z"
   },
   {
    "duration": 3,
    "start_time": "2023-06-13T14:20:43.580Z"
   },
   {
    "duration": 16,
    "start_time": "2023-06-13T14:20:43.585Z"
   },
   {
    "duration": 13,
    "start_time": "2023-06-13T14:20:43.603Z"
   },
   {
    "duration": 22,
    "start_time": "2023-06-13T14:20:43.618Z"
   },
   {
    "duration": 480,
    "start_time": "2023-06-13T14:20:43.641Z"
   },
   {
    "duration": 39,
    "start_time": "2023-06-13T14:20:44.123Z"
   },
   {
    "duration": 5,
    "start_time": "2023-06-13T14:20:44.163Z"
   },
   {
    "duration": 8,
    "start_time": "2023-06-13T14:20:44.170Z"
   },
   {
    "duration": 8,
    "start_time": "2023-06-13T14:20:44.180Z"
   },
   {
    "duration": 6,
    "start_time": "2023-06-13T14:20:44.189Z"
   },
   {
    "duration": 83,
    "start_time": "2023-06-13T14:22:00.245Z"
   },
   {
    "duration": 107,
    "start_time": "2023-06-13T14:25:37.738Z"
   },
   {
    "duration": 42,
    "start_time": "2023-06-13T14:26:46.086Z"
   },
   {
    "duration": 41,
    "start_time": "2023-06-13T14:27:00.286Z"
   },
   {
    "duration": 462,
    "start_time": "2023-06-13T14:38:14.521Z"
   },
   {
    "duration": 9,
    "start_time": "2023-06-13T14:41:24.329Z"
   },
   {
    "duration": 9,
    "start_time": "2023-06-13T14:41:29.994Z"
   },
   {
    "duration": 9,
    "start_time": "2023-06-13T14:41:47.505Z"
   },
   {
    "duration": 6,
    "start_time": "2023-06-13T14:41:49.241Z"
   },
   {
    "duration": 9,
    "start_time": "2023-06-13T14:43:31.543Z"
   },
   {
    "duration": 4,
    "start_time": "2023-06-13T14:43:36.706Z"
   },
   {
    "duration": 5,
    "start_time": "2023-06-13T14:43:39.686Z"
   },
   {
    "duration": 6,
    "start_time": "2023-06-13T14:44:30.680Z"
   },
   {
    "duration": 5,
    "start_time": "2023-06-13T14:45:09.478Z"
   },
   {
    "duration": 65,
    "start_time": "2023-06-13T14:45:54.410Z"
   },
   {
    "duration": 6,
    "start_time": "2023-06-13T14:45:57.624Z"
   },
   {
    "duration": 6,
    "start_time": "2023-06-13T14:46:07.476Z"
   },
   {
    "duration": 5,
    "start_time": "2023-06-13T14:48:15.623Z"
   },
   {
    "duration": 7,
    "start_time": "2023-06-13T14:48:18.529Z"
   },
   {
    "duration": 1369,
    "start_time": "2023-06-13T14:50:52.355Z"
   },
   {
    "duration": 30,
    "start_time": "2023-06-13T14:50:53.726Z"
   },
   {
    "duration": 14,
    "start_time": "2023-06-13T14:50:53.758Z"
   },
   {
    "duration": 17,
    "start_time": "2023-06-13T14:50:53.775Z"
   },
   {
    "duration": 27,
    "start_time": "2023-06-13T14:50:53.795Z"
   },
   {
    "duration": 156,
    "start_time": "2023-06-13T14:50:53.823Z"
   },
   {
    "duration": 10,
    "start_time": "2023-06-13T14:50:53.981Z"
   },
   {
    "duration": 3,
    "start_time": "2023-06-13T14:50:53.992Z"
   },
   {
    "duration": 9,
    "start_time": "2023-06-13T14:50:53.997Z"
   },
   {
    "duration": 20,
    "start_time": "2023-06-13T14:50:54.008Z"
   },
   {
    "duration": 8,
    "start_time": "2023-06-13T14:50:54.029Z"
   },
   {
    "duration": 19,
    "start_time": "2023-06-13T14:50:54.039Z"
   },
   {
    "duration": 32034,
    "start_time": "2023-06-13T14:50:54.061Z"
   },
   {
    "duration": 3,
    "start_time": "2023-06-13T14:51:26.097Z"
   },
   {
    "duration": 15,
    "start_time": "2023-06-13T14:51:26.101Z"
   },
   {
    "duration": 58,
    "start_time": "2023-06-13T14:51:26.117Z"
   },
   {
    "duration": 4,
    "start_time": "2023-06-13T14:51:26.177Z"
   },
   {
    "duration": 6,
    "start_time": "2023-06-13T14:52:10.139Z"
   },
   {
    "duration": 81,
    "start_time": "2023-06-27T21:33:53.540Z"
   },
   {
    "duration": 2322,
    "start_time": "2023-06-27T21:34:01.361Z"
   },
   {
    "duration": 177,
    "start_time": "2023-06-27T21:34:03.687Z"
   },
   {
    "duration": 33,
    "start_time": "2023-06-27T21:34:03.866Z"
   },
   {
    "duration": 40,
    "start_time": "2023-06-27T21:34:03.903Z"
   },
   {
    "duration": 65,
    "start_time": "2023-06-27T21:34:03.946Z"
   },
   {
    "duration": 397,
    "start_time": "2023-06-27T21:34:04.014Z"
   },
   {
    "duration": 23,
    "start_time": "2023-06-27T21:34:04.413Z"
   },
   {
    "duration": 33,
    "start_time": "2023-06-27T21:34:04.440Z"
   },
   {
    "duration": 38,
    "start_time": "2023-06-27T21:34:04.476Z"
   },
   {
    "duration": 11,
    "start_time": "2023-06-27T21:34:04.518Z"
   },
   {
    "duration": 25,
    "start_time": "2023-06-27T21:34:04.536Z"
   },
   {
    "duration": 21,
    "start_time": "2023-06-27T21:34:04.566Z"
   },
   {
    "duration": 56152,
    "start_time": "2023-06-27T21:34:04.590Z"
   },
   {
    "duration": 6,
    "start_time": "2023-06-27T21:35:00.745Z"
   },
   {
    "duration": 43,
    "start_time": "2023-06-27T21:35:00.753Z"
   },
   {
    "duration": 178,
    "start_time": "2023-06-27T21:35:00.797Z"
   },
   {
    "duration": 12,
    "start_time": "2023-06-27T21:35:00.985Z"
   }
  ],
  "kernelspec": {
   "display_name": "Python 3 (ipykernel)",
   "language": "python",
   "name": "python3"
  },
  "language_info": {
   "codemirror_mode": {
    "name": "ipython",
    "version": 3
   },
   "file_extension": ".py",
   "mimetype": "text/x-python",
   "name": "python",
   "nbconvert_exporter": "python",
   "pygments_lexer": "ipython3",
   "version": "3.9.5"
  },
  "toc": {
   "base_numbering": 1,
   "nav_menu": {},
   "number_sections": true,
   "sideBar": true,
   "skip_h1_title": true,
   "title_cell": "Table of Contents",
   "title_sidebar": "Contents",
   "toc_cell": false,
   "toc_position": {
    "height": "calc(100% - 180px)",
    "left": "10px",
    "top": "150px",
    "width": "371px"
   },
   "toc_section_display": true,
   "toc_window_display": true
  }
 },
 "nbformat": 4,
 "nbformat_minor": 2
}
