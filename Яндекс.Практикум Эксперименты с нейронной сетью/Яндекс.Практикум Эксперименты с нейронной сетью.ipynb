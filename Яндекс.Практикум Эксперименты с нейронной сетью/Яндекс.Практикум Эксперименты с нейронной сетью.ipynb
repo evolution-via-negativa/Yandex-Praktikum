{
 "cells": [
  {
   "cell_type": "code",
   "execution_count": 7,
   "id": "e431cf8e",
   "metadata": {
    "tags": [
     "8a66d949-19b0-42c6-b57a-6c922f0684ab"
    ]
   },
   "outputs": [],
   "source": [
    "import random\n",
    "import numpy as np\n",
    "import pandas as pd\n",
    "import torch\n",
    "import torch.nn as nn\n",
    "\n",
    "from sklearn.model_selection import train_test_split\n",
    "\n",
    "\n",
    "random.seed(0)\n",
    "np.random.seed(0)\n",
    "torch.manual_seed(0)\n",
    "torch.use_deterministic_algorithms(True)"
   ]
  },
  {
   "cell_type": "code",
   "execution_count": 8,
   "id": "055325bf",
   "metadata": {},
   "outputs": [],
   "source": [
    "data = pd.read_csv('/datasets/Electrical_Grid_Stability.csv', sep=';')\n",
    "\n",
    "X_train, X_test, y_train, y_test = train_test_split(\n",
    "    data.drop(columns=['stability']), \n",
    "    data.stability, \n",
    "    test_size=0.3, \n",
    "    shuffle=True,\n",
    "    random_state=42)\n",
    "\n",
    "X_train = torch.FloatTensor(X_train.values)\n",
    "X_test = torch.FloatTensor(X_test.values)\n",
    "y_train = torch.FloatTensor(y_train.values)\n",
    "y_test = torch.FloatTensor(y_test.values)"
   ]
  },
  {
   "cell_type": "code",
   "execution_count": 9,
   "id": "aab76e53",
   "metadata": {},
   "outputs": [],
   "source": [
    "def init_weights(layer):\n",
    "    if type(layer) == nn.Linear: # Проверка, что слой — полносвязный\n",
    "        nn.init.normal_(layer.weight, mean=0, std=1)\n",
    "        nn.init.normal_(layer.bias, mean=0, std=1)"
   ]
  },
  {
   "cell_type": "code",
   "execution_count": 10,
   "id": "eb24e472",
   "metadata": {},
   "outputs": [
    {
     "data": {
      "text/plain": [
       "Sequential(\n",
       "  (0): Linear(in_features=12, out_features=6, bias=True)\n",
       "  (1): Tanh()\n",
       "  (2): Linear(in_features=6, out_features=2, bias=True)\n",
       "  (3): ReLU()\n",
       "  (4): Linear(in_features=2, out_features=6, bias=True)\n",
       "  (5): ReLU()\n",
       "  (6): Linear(in_features=6, out_features=1, bias=True)\n",
       "  (7): Sigmoid()\n",
       ")"
      ]
     },
     "execution_count": 10,
     "metadata": {},
     "output_type": "execute_result"
    }
   ],
   "source": [
    "n_in_neurons = 12\n",
    "n_hidden_neurons_1 = 6\n",
    "n_hidden_neurons_2 = 2\n",
    "n_hidden_neurons_3 = 6\n",
    "n_out_neurons = 1 \n",
    "\n",
    "net = nn.Sequential(\n",
    "    nn.Linear(n_in_neurons, n_hidden_neurons_1),\n",
    "    nn.Tanh(),\n",
    "    nn.Linear(n_hidden_neurons_1, n_hidden_neurons_2),\n",
    "    nn.ReLU(),\n",
    "    nn.Linear(n_hidden_neurons_2, n_hidden_neurons_3),\n",
    "    nn.ReLU(),\n",
    "    nn.Linear(n_hidden_neurons_3, n_out_neurons), \n",
    "    nn.Sigmoid()\n",
    ")\n",
    "\n",
    "net.apply(init_weights) "
   ]
  },
  {
   "cell_type": "code",
   "execution_count": 11,
   "id": "4f75e24b",
   "metadata": {},
   "outputs": [],
   "source": [
    "optimizer = torch.optim.AdamW(net.parameters(), lr=1e-3)\n",
    "\n",
    "loss = nn.BCELoss()\n",
    "\n",
    "num_epochs = 100"
   ]
  },
  {
   "cell_type": "code",
   "execution_count": 12,
   "id": "048b5ed1",
   "metadata": {},
   "outputs": [
    {
     "name": "stdout",
     "output_type": "stream",
     "text": [
      "tensor(0.4605)\n",
      "tensor(0.4824)\n",
      "tensor(0.5030)\n",
      "tensor(0.5219)\n",
      "tensor(0.5383)\n",
      "tensor(0.5540)\n",
      "tensor(0.5679)\n",
      "tensor(0.5795)\n",
      "tensor(0.5894)\n",
      "tensor(0.5958)\n",
      "tensor(0.6004)\n"
     ]
    }
   ],
   "source": [
    "for epoch in range(num_epochs):\n",
    "    optimizer.zero_grad()\n",
    "    \n",
    "    preds = net.forward(X_train).flatten()\n",
    "            \n",
    "    loss_value = loss(preds, y_train)\n",
    "\n",
    "    loss_value.backward()\n",
    "            \n",
    "    optimizer.step()\n",
    "\n",
    "    if epoch % 10 == 0 or epoch == num_epochs - 1:\n",
    "        net.eval()\n",
    "        test_preds = net.forward(X_test)\n",
    "        accuracy = (torch.round(test_preds) == y_test).float().mean().data\n",
    "        print(accuracy)"
   ]
  }
 ],
 "metadata": {
  "ExecuteTimeLog": [
   {
    "duration": 1673,
    "start_time": "2024-03-02T13:04:50.792Z"
   },
   {
    "duration": 107,
    "start_time": "2024-03-02T13:07:46.133Z"
   },
   {
    "duration": 5,
    "start_time": "2024-03-02T13:07:49.045Z"
   },
   {
    "duration": 3,
    "start_time": "2024-03-02T13:07:52.541Z"
   },
   {
    "duration": 1486,
    "start_time": "2024-03-02T13:07:52.700Z"
   },
   {
    "duration": 1504,
    "start_time": "2024-03-02T13:09:20.370Z"
   },
   {
    "duration": 58,
    "start_time": "2024-03-02T13:09:21.876Z"
   },
   {
    "duration": 4,
    "start_time": "2024-03-02T13:09:21.936Z"
   },
   {
    "duration": 1542,
    "start_time": "2024-03-02T13:09:48.211Z"
   },
   {
    "duration": 57,
    "start_time": "2024-03-02T13:09:49.755Z"
   },
   {
    "duration": 4,
    "start_time": "2024-03-02T13:09:49.814Z"
   },
   {
    "duration": 7,
    "start_time": "2024-03-02T13:09:49.820Z"
   },
   {
    "duration": 3,
    "start_time": "2024-03-02T13:13:47.928Z"
   },
   {
    "duration": 1516,
    "start_time": "2024-03-02T13:13:53.535Z"
   },
   {
    "duration": 58,
    "start_time": "2024-03-02T13:13:55.053Z"
   },
   {
    "duration": 5,
    "start_time": "2024-03-02T13:13:55.112Z"
   },
   {
    "duration": 29,
    "start_time": "2024-03-02T13:13:55.118Z"
   },
   {
    "duration": 125,
    "start_time": "2024-03-02T13:13:55.149Z"
   },
   {
    "duration": 3,
    "start_time": "2024-03-02T13:14:11.696Z"
   },
   {
    "duration": 1540,
    "start_time": "2024-03-02T13:14:12.232Z"
   },
   {
    "duration": 3,
    "start_time": "2024-03-02T13:18:02.257Z"
   },
   {
    "duration": 1505,
    "start_time": "2024-03-02T13:18:05.567Z"
   },
   {
    "duration": 58,
    "start_time": "2024-03-02T13:18:07.073Z"
   },
   {
    "duration": 3,
    "start_time": "2024-03-02T13:18:07.133Z"
   },
   {
    "duration": 16,
    "start_time": "2024-03-02T13:18:07.138Z"
   },
   {
    "duration": 1513,
    "start_time": "2024-03-02T13:18:23.760Z"
   },
   {
    "duration": 57,
    "start_time": "2024-03-02T13:18:25.275Z"
   },
   {
    "duration": 3,
    "start_time": "2024-03-02T13:18:25.334Z"
   },
   {
    "duration": 129,
    "start_time": "2024-03-02T13:18:25.339Z"
   },
   {
    "duration": 10,
    "start_time": "2024-03-02T13:18:33.154Z"
   },
   {
    "duration": 1477,
    "start_time": "2024-03-02T13:18:38.205Z"
   },
   {
    "duration": 57,
    "start_time": "2024-03-02T13:18:39.684Z"
   },
   {
    "duration": 3,
    "start_time": "2024-03-02T13:18:39.743Z"
   },
   {
    "duration": 10,
    "start_time": "2024-03-02T13:18:39.747Z"
   },
   {
    "duration": 3,
    "start_time": "2024-03-02T13:18:39.758Z"
   },
   {
    "duration": 1707,
    "start_time": "2024-03-02T13:18:39.766Z"
   },
   {
    "duration": 1681,
    "start_time": "2024-03-02T13:18:45.105Z"
   },
   {
    "duration": 1434,
    "start_time": "2024-03-02T13:18:50.026Z"
   },
   {
    "duration": 58,
    "start_time": "2024-03-02T13:18:51.462Z"
   },
   {
    "duration": 4,
    "start_time": "2024-03-02T13:18:51.521Z"
   },
   {
    "duration": 44,
    "start_time": "2024-03-02T13:18:51.527Z"
   },
   {
    "duration": 12,
    "start_time": "2024-03-02T13:18:51.574Z"
   },
   {
    "duration": 1684,
    "start_time": "2024-03-02T13:18:51.587Z"
   },
   {
    "duration": 3,
    "start_time": "2024-03-02T13:18:59.714Z"
   },
   {
    "duration": 6,
    "start_time": "2024-03-02T13:18:59.897Z"
   },
   {
    "duration": 4,
    "start_time": "2024-03-02T13:19:00.537Z"
   },
   {
    "duration": 1459,
    "start_time": "2024-03-02T13:19:01.010Z"
   },
   {
    "duration": 1467,
    "start_time": "2024-03-02T13:19:18.393Z"
   },
   {
    "duration": 57,
    "start_time": "2024-03-02T13:19:19.862Z"
   },
   {
    "duration": 3,
    "start_time": "2024-03-02T13:19:19.921Z"
   },
   {
    "duration": 21,
    "start_time": "2024-03-02T13:19:19.926Z"
   },
   {
    "duration": 25,
    "start_time": "2024-03-02T13:19:19.948Z"
   },
   {
    "duration": 1599,
    "start_time": "2024-03-02T13:19:19.975Z"
   },
   {
    "duration": 4,
    "start_time": "2024-03-02T13:19:28.218Z"
   },
   {
    "duration": 69,
    "start_time": "2024-03-02T13:19:28.224Z"
   },
   {
    "duration": 4,
    "start_time": "2024-03-02T13:19:28.295Z"
   },
   {
    "duration": 7,
    "start_time": "2024-03-02T13:19:28.300Z"
   },
   {
    "duration": 9,
    "start_time": "2024-03-02T13:19:28.309Z"
   },
   {
    "duration": 1767,
    "start_time": "2024-03-02T13:19:28.319Z"
   },
   {
    "duration": 3,
    "start_time": "2024-03-02T13:19:35.794Z"
   },
   {
    "duration": 4,
    "start_time": "2024-03-02T13:19:41.690Z"
   },
   {
    "duration": 56,
    "start_time": "2024-03-02T13:19:41.696Z"
   },
   {
    "duration": 3,
    "start_time": "2024-03-02T13:19:41.754Z"
   },
   {
    "duration": 8,
    "start_time": "2024-03-02T13:19:41.759Z"
   },
   {
    "duration": 3,
    "start_time": "2024-03-02T13:19:41.769Z"
   },
   {
    "duration": 1699,
    "start_time": "2024-03-02T13:19:41.773Z"
   },
   {
    "duration": 4,
    "start_time": "2024-03-02T13:19:48.075Z"
   },
   {
    "duration": 56,
    "start_time": "2024-03-02T13:19:48.080Z"
   },
   {
    "duration": 2,
    "start_time": "2024-03-02T13:19:48.138Z"
   },
   {
    "duration": 14,
    "start_time": "2024-03-02T13:19:48.142Z"
   },
   {
    "duration": 3,
    "start_time": "2024-03-02T13:19:48.158Z"
   },
   {
    "duration": 1811,
    "start_time": "2024-03-02T13:19:48.163Z"
   },
   {
    "duration": 3,
    "start_time": "2024-03-02T13:20:16.435Z"
   },
   {
    "duration": 4,
    "start_time": "2024-03-02T13:20:18.042Z"
   },
   {
    "duration": 60,
    "start_time": "2024-03-02T13:20:18.047Z"
   },
   {
    "duration": 3,
    "start_time": "2024-03-02T13:20:18.108Z"
   },
   {
    "duration": 134,
    "start_time": "2024-03-02T13:20:18.113Z"
   },
   {
    "duration": 0,
    "start_time": "2024-03-02T13:20:18.248Z"
   },
   {
    "duration": 0,
    "start_time": "2024-03-02T13:20:18.250Z"
   },
   {
    "duration": 4,
    "start_time": "2024-03-08T15:07:20.487Z"
   },
   {
    "duration": 50,
    "start_time": "2024-03-08T15:07:20.743Z"
   },
   {
    "duration": 2,
    "start_time": "2024-03-08T15:07:21.120Z"
   },
   {
    "duration": 8,
    "start_time": "2024-03-08T15:07:21.560Z"
   },
   {
    "duration": 3,
    "start_time": "2024-03-08T15:07:22.295Z"
   },
   {
    "duration": 1566,
    "start_time": "2024-03-08T15:07:22.455Z"
   }
  ],
  "celltoolbar": "Tags",
  "kernelspec": {
   "display_name": "Python 3 (ipykernel)",
   "language": "python",
   "name": "python3"
  },
  "language_info": {
   "codemirror_mode": {
    "name": "ipython",
    "version": 3
   },
   "file_extension": ".py",
   "mimetype": "text/x-python",
   "name": "python",
   "nbconvert_exporter": "python",
   "pygments_lexer": "ipython3",
   "version": "3.9.5"
  },
  "toc": {
   "base_numbering": 1,
   "nav_menu": {},
   "number_sections": true,
   "sideBar": true,
   "skip_h1_title": true,
   "title_cell": "Table of Contents",
   "title_sidebar": "Contents",
   "toc_cell": false,
   "toc_position": {},
   "toc_section_display": true,
   "toc_window_display": false
  }
 },
 "nbformat": 4,
 "nbformat_minor": 5
}
