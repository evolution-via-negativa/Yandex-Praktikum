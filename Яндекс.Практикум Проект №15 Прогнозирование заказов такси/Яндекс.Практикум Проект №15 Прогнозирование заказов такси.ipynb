{
 "cells": [
  {
   "cell_type": "markdown",
   "metadata": {
    "toc": true
   },
   "source": [
    "<h1>Содержание<span class=\"tocSkip\"></span></h1>\n",
    "<div class=\"toc\"><ul class=\"toc-item\"><li><span><a href=\"#Подготовка\" data-toc-modified-id=\"Подготовка-1\"><span class=\"toc-item-num\">1&nbsp;&nbsp;</span>Подготовка</a></span><ul class=\"toc-item\"><li><span><a href=\"#Загрузка-данных:\" data-toc-modified-id=\"Загрузка-данных:-1.1\"><span class=\"toc-item-num\">1.1&nbsp;&nbsp;</span>Загрузка данных:</a></span></li><li><span><a href=\"#Ресемплирование-данных:\" data-toc-modified-id=\"Ресемплирование-данных:-1.2\"><span class=\"toc-item-num\">1.2&nbsp;&nbsp;</span>Ресемплирование данных:</a></span></li></ul></li><li><span><a href=\"#Анализ\" data-toc-modified-id=\"Анализ-2\"><span class=\"toc-item-num\">2&nbsp;&nbsp;</span>Анализ</a></span><ul class=\"toc-item\"><li><span><a href=\"#Ознакомимся-с-набором-данных:\" data-toc-modified-id=\"Ознакомимся-с-набором-данных:-2.1\"><span class=\"toc-item-num\">2.1&nbsp;&nbsp;</span>Ознакомимся с набором данных:</a></span></li><li><span><a href=\"#Отобразим-информацию-для-краткого-обзора-данных:\" data-toc-modified-id=\"Отобразим-информацию-для-краткого-обзора-данных:-2.2\"><span class=\"toc-item-num\">2.2&nbsp;&nbsp;</span>Отобразим информацию для краткого обзора данных:</a></span></li><li><span><a href=\"#Посчитаем-количество-пропущенных-значений:\" data-toc-modified-id=\"Посчитаем-количество-пропущенных-значений:-2.3\"><span class=\"toc-item-num\">2.3&nbsp;&nbsp;</span>Посчитаем количество пропущенных значений:</a></span></li><li><span><a href=\"#Отобразим-таблицу-с-описательной-статистикой-столбцов:\" data-toc-modified-id=\"Отобразим-таблицу-с-описательной-статистикой-столбцов:-2.4\"><span class=\"toc-item-num\">2.4&nbsp;&nbsp;</span>Отобразим таблицу с описательной статистикой столбцов:</a></span></li><li><span><a href=\"#Отобразим-гистограммы-распределений-значений-столбцов:\" data-toc-modified-id=\"Отобразим-гистограммы-распределений-значений-столбцов:-2.5\"><span class=\"toc-item-num\">2.5&nbsp;&nbsp;</span>Отобразим гистограммы распределений значений столбцов:</a></span></li><li><span><a href=\"#Краткий-вывод:\" data-toc-modified-id=\"Краткий-вывод:-2.6\"><span class=\"toc-item-num\">2.6&nbsp;&nbsp;</span>Краткий вывод:</a></span></li></ul></li><li><span><a href=\"#Обучение\" data-toc-modified-id=\"Обучение-3\"><span class=\"toc-item-num\">3&nbsp;&nbsp;</span>Обучение</a></span><ul class=\"toc-item\"><li><span><a href=\"#Создадим-дополнительные-признаки:\" data-toc-modified-id=\"Создадим-дополнительные-признаки:-3.1\"><span class=\"toc-item-num\">3.1&nbsp;&nbsp;</span>Создадим дополнительные признаки:</a></span></li><li><span><a href=\"#Разделим-данные-на-обучающую,-валидационную-и-тестовую-выборки-в-соотношении-$80\\%/10\\%/10\\%$:\" data-toc-modified-id=\"Разделим-данные-на-обучающую,-валидационную-и-тестовую-выборки-в-соотношении-$80\\%/10\\%/10\\%$:-3.2\"><span class=\"toc-item-num\">3.2&nbsp;&nbsp;</span>Разделим данные на обучающую, валидационную и тестовую выборки в соотношении $80\\%/10\\%/10\\%$:</a></span></li><li><span><a href=\"#Создадим-и-обучим-базовую-модель:\" data-toc-modified-id=\"Создадим-и-обучим-базовую-модель:-3.3\"><span class=\"toc-item-num\">3.3&nbsp;&nbsp;</span>Создадим и обучим базовую модель:</a></span></li><li><span><a href=\"#Попробуем-улучшить-прогнозирование-при-помощи-модели-линейной-регрессии:\" data-toc-modified-id=\"Попробуем-улучшить-прогнозирование-при-помощи-модели-линейной-регрессии:-3.4\"><span class=\"toc-item-num\">3.4&nbsp;&nbsp;</span>Попробуем улучшить прогнозирование при помощи модели линейной регрессии:</a></span></li><li><span><a href=\"#Смоделируем-несколько-моделей-с-перебором-гиперпараметров:\" data-toc-modified-id=\"Смоделируем-несколько-моделей-с-перебором-гиперпараметров:-3.5\"><span class=\"toc-item-num\">3.5&nbsp;&nbsp;</span>Смоделируем несколько моделей с перебором гиперпараметров:</a></span></li><li><span><a href=\"#Проанализируем-результаты-моделирования-и-выберем-наилучшую-модель:\" data-toc-modified-id=\"Проанализируем-результаты-моделирования-и-выберем-наилучшую-модель:-3.6\"><span class=\"toc-item-num\">3.6&nbsp;&nbsp;</span>Проанализируем результаты моделирования и выберем наилучшую модель:</a></span></li><li><span><a href=\"#Краткий-вывод:\" data-toc-modified-id=\"Краткий-вывод:-3.7\"><span class=\"toc-item-num\">3.7&nbsp;&nbsp;</span>Краткий вывод:</a></span></li></ul></li><li><span><a href=\"#Тестирование\" data-toc-modified-id=\"Тестирование-4\"><span class=\"toc-item-num\">4&nbsp;&nbsp;</span>Тестирование</a></span><ul class=\"toc-item\"><li><span><a href=\"#Краткий-вывод:\" data-toc-modified-id=\"Краткий-вывод:-4.1\"><span class=\"toc-item-num\">4.1&nbsp;&nbsp;</span>Краткий вывод:</a></span></li></ul></li><li><span><a href=\"#Вывод:\" data-toc-modified-id=\"Вывод:-5\"><span class=\"toc-item-num\">5&nbsp;&nbsp;</span>Вывод:</a></span></li></ul></div>"
   ]
  },
  {
   "cell_type": "markdown",
   "metadata": {},
   "source": [
    "#  Прогнозирование заказов такси"
   ]
  },
  {
   "cell_type": "markdown",
   "metadata": {},
   "source": [
    "Компания «Чётенькое такси» собрала исторические данные о заказах такси в аэропортах. Чтобы привлекать больше водителей в период пиковой нагрузки, нужно спрогнозировать количество заказов такси на следующий час. Постройте модель для такого предсказания.\n",
    "\n",
    "Значение метрики *RMSE* на тестовой выборке должно быть не больше 48.\n",
    "\n",
    "Вам нужно:\n",
    "\n",
    "1. Загрузить данные и выполнить их ресемплирование по одному часу.\n",
    "2. Проанализировать данные.\n",
    "3. Обучить разные модели с различными гиперпараметрами. Сделать тестовую выборку размером 10% от исходных данных.\n",
    "4. Проверить данные на тестовой выборке и сделать выводы.\n",
    "\n",
    "\n",
    "Данные лежат в файле `taxi.csv`. Количество заказов находится в столбце `num_orders` (от англ. *number of orders*, «число заказов»).\n",
    "\n",
    "Импортируем полезные библиотеки, которые пригодятся нам в дальнейшем"
   ]
  },
  {
   "cell_type": "code",
   "execution_count": 1,
   "metadata": {},
   "outputs": [
    {
     "name": "stdout",
     "output_type": "stream",
     "text": [
      "Requirement already satisfied: numpy==1.26.4 in /opt/conda/lib/python3.9/site-packages (1.26.4)\n",
      "Requirement already satisfied: optuna in /opt/conda/lib/python3.9/site-packages (3.6.1)\n",
      "Requirement already satisfied: scikit-learn~=1.4.0 in /opt/conda/lib/python3.9/site-packages (1.4.2)\n",
      "Requirement already satisfied: scipy>=1.6.0 in /opt/conda/lib/python3.9/site-packages (from scikit-learn~=1.4.0) (1.13.1)\n",
      "Requirement already satisfied: threadpoolctl>=2.0.0 in /opt/conda/lib/python3.9/site-packages (from scikit-learn~=1.4.0) (3.1.0)\n",
      "Requirement already satisfied: joblib>=1.2.0 in /opt/conda/lib/python3.9/site-packages (from scikit-learn~=1.4.0) (1.4.2)\n",
      "Requirement already satisfied: tqdm in /opt/conda/lib/python3.9/site-packages (from optuna) (4.61.2)\n",
      "Requirement already satisfied: packaging>=20.0 in /opt/conda/lib/python3.9/site-packages (from optuna) (21.3)\n",
      "Requirement already satisfied: PyYAML in /opt/conda/lib/python3.9/site-packages (from optuna) (6.0)\n",
      "Requirement already satisfied: colorlog in /opt/conda/lib/python3.9/site-packages (from optuna) (6.8.2)\n",
      "Requirement already satisfied: alembic>=1.5.0 in /opt/conda/lib/python3.9/site-packages (from optuna) (1.6.5)\n",
      "Requirement already satisfied: sqlalchemy>=1.3.0 in /opt/conda/lib/python3.9/site-packages (from optuna) (1.4.20)\n",
      "Requirement already satisfied: Mako in /opt/conda/lib/python3.9/site-packages (from alembic>=1.5.0->optuna) (1.1.4)\n",
      "Requirement already satisfied: python-dateutil in /opt/conda/lib/python3.9/site-packages (from alembic>=1.5.0->optuna) (2.9.0.post0)\n",
      "Requirement already satisfied: python-editor>=0.3 in /opt/conda/lib/python3.9/site-packages (from alembic>=1.5.0->optuna) (1.0.4)\n",
      "Requirement already satisfied: pyparsing!=3.0.5,>=2.0.2 in /opt/conda/lib/python3.9/site-packages (from packaging>=20.0->optuna) (2.4.7)\n",
      "Requirement already satisfied: greenlet!=0.4.17 in /opt/conda/lib/python3.9/site-packages (from sqlalchemy>=1.3.0->optuna) (1.1.0)\n",
      "Requirement already satisfied: MarkupSafe>=0.9.2 in /opt/conda/lib/python3.9/site-packages (from Mako->alembic>=1.5.0->optuna) (2.1.1)\n",
      "Requirement already satisfied: six>=1.5 in /opt/conda/lib/python3.9/site-packages (from python-dateutil->alembic>=1.5.0->optuna) (1.16.0)\n"
     ]
    }
   ],
   "source": [
    "!pip install numpy==1.26.4 optuna scikit-learn~=1.4.0\n",
    "import numpy as np\n",
    "import pandas as pd\n",
    "import matplotlib.pyplot as plt\n",
    "import optuna\n",
    "from statsmodels.tsa.stattools import adfuller\n",
    "from IPython.core.display import display, HTML\n",
    "from sklearn.metrics import root_mean_squared_error\n",
    "from sklearn.model_selection import train_test_split\n",
    "from sklearn.dummy import DummyRegressor\n",
    "from sklearn.linear_model import LinearRegression\n",
    "from sklearn.tree import DecisionTreeRegressor\n",
    "from sklearn.ensemble import RandomForestRegressor\n",
    "from statsmodels.tsa.seasonal import seasonal_decompose"
   ]
  },
  {
   "cell_type": "markdown",
   "metadata": {},
   "source": [
    "Объявим константы и зададим параметры по умолчанию, которые понадобятся нам в дальнейшем"
   ]
  },
  {
   "cell_type": "code",
   "execution_count": 2,
   "metadata": {},
   "outputs": [
    {
     "data": {
      "text/html": [
       "<style>.container { width:75% !important; }</style>"
      ],
      "text/plain": [
       "<IPython.core.display.HTML object>"
      ]
     },
     "metadata": {},
     "output_type": "display_data"
    }
   ],
   "source": [
    "RANDOM_STATE = 144210\n",
    "SMALL_SIZE = 12\n",
    "MEDIUM_SIZE = 18\n",
    "BIGGER_SIZE = 24\n",
    "\n",
    "display(HTML(\"<style>.container { width:75% !important; }</style>\"))\n",
    "pd.set_option('display.precision', 2)\n",
    "pd.set_option('display.float_format', '{:.2f}'.format)\n",
    "plt.rc('font', size=SMALL_SIZE)                                    # controls default text sizes\n",
    "plt.rc('axes', titlesize=MEDIUM_SIZE)                              # fontsize of the axes title\n",
    "plt.rc('axes', labelsize=MEDIUM_SIZE)                              # fontsize of the x and y labels\n",
    "plt.rc('xtick', labelsize=SMALL_SIZE)                              # fontsize of the tick labels\n",
    "plt.rc('ytick', labelsize=SMALL_SIZE)                              # fontsize of the tick labels\n",
    "plt.rc('legend', fontsize=SMALL_SIZE)                              # legend fontsize\n",
    "plt.rc('figure', titlesize=BIGGER_SIZE)                            # fontsize of the figure title\n",
    "plt.rc('figure', figsize=(18, 6))                                  # size of the figure"
   ]
  },
  {
   "cell_type": "markdown",
   "metadata": {},
   "source": [
    "## Подготовка"
   ]
  },
  {
   "cell_type": "markdown",
   "metadata": {},
   "source": [
    "### Загрузка данных:"
   ]
  },
  {
   "cell_type": "code",
   "execution_count": 3,
   "metadata": {},
   "outputs": [],
   "source": [
    "data = pd.read_csv('https://code.s3.yandex.net/datasets/taxi.csv', index_col='datetime', parse_dates=['datetime'])"
   ]
  },
  {
   "cell_type": "markdown",
   "metadata": {},
   "source": [
    "### Ресемплирование данных:"
   ]
  },
  {
   "cell_type": "code",
   "execution_count": 4,
   "metadata": {},
   "outputs": [],
   "source": [
    "data = data.resample('1h').sum()"
   ]
  },
  {
   "cell_type": "markdown",
   "metadata": {},
   "source": [
    "## Анализ"
   ]
  },
  {
   "cell_type": "markdown",
   "metadata": {},
   "source": [
    "### Ознакомимся с набором данных:"
   ]
  },
  {
   "cell_type": "code",
   "execution_count": 5,
   "metadata": {},
   "outputs": [
    {
     "data": {
      "text/html": [
       "<div>\n",
       "<style scoped>\n",
       "    .dataframe tbody tr th:only-of-type {\n",
       "        vertical-align: middle;\n",
       "    }\n",
       "\n",
       "    .dataframe tbody tr th {\n",
       "        vertical-align: top;\n",
       "    }\n",
       "\n",
       "    .dataframe thead th {\n",
       "        text-align: right;\n",
       "    }\n",
       "</style>\n",
       "<table border=\"1\" class=\"dataframe\">\n",
       "  <thead>\n",
       "    <tr style=\"text-align: right;\">\n",
       "      <th></th>\n",
       "      <th>num_orders</th>\n",
       "    </tr>\n",
       "    <tr>\n",
       "      <th>datetime</th>\n",
       "      <th></th>\n",
       "    </tr>\n",
       "  </thead>\n",
       "  <tbody>\n",
       "    <tr>\n",
       "      <th>2018-03-01 00:00:00</th>\n",
       "      <td>124</td>\n",
       "    </tr>\n",
       "    <tr>\n",
       "      <th>2018-03-01 01:00:00</th>\n",
       "      <td>85</td>\n",
       "    </tr>\n",
       "    <tr>\n",
       "      <th>2018-03-01 02:00:00</th>\n",
       "      <td>71</td>\n",
       "    </tr>\n",
       "    <tr>\n",
       "      <th>2018-03-01 03:00:00</th>\n",
       "      <td>66</td>\n",
       "    </tr>\n",
       "    <tr>\n",
       "      <th>2018-03-01 04:00:00</th>\n",
       "      <td>43</td>\n",
       "    </tr>\n",
       "    <tr>\n",
       "      <th>2018-03-01 05:00:00</th>\n",
       "      <td>6</td>\n",
       "    </tr>\n",
       "    <tr>\n",
       "      <th>2018-03-01 06:00:00</th>\n",
       "      <td>12</td>\n",
       "    </tr>\n",
       "    <tr>\n",
       "      <th>2018-03-01 07:00:00</th>\n",
       "      <td>15</td>\n",
       "    </tr>\n",
       "  </tbody>\n",
       "</table>\n",
       "</div>"
      ],
      "text/plain": [
       "                     num_orders\n",
       "datetime                       \n",
       "2018-03-01 00:00:00         124\n",
       "2018-03-01 01:00:00          85\n",
       "2018-03-01 02:00:00          71\n",
       "2018-03-01 03:00:00          66\n",
       "2018-03-01 04:00:00          43\n",
       "2018-03-01 05:00:00           6\n",
       "2018-03-01 06:00:00          12\n",
       "2018-03-01 07:00:00          15"
      ]
     },
     "execution_count": 5,
     "metadata": {},
     "output_type": "execute_result"
    }
   ],
   "source": [
    "data.head(8)"
   ]
  },
  {
   "cell_type": "markdown",
   "metadata": {},
   "source": [
    "### Отобразим информацию для краткого обзора данных:"
   ]
  },
  {
   "cell_type": "code",
   "execution_count": 6,
   "metadata": {},
   "outputs": [
    {
     "name": "stdout",
     "output_type": "stream",
     "text": [
      "<class 'pandas.core.frame.DataFrame'>\n",
      "DatetimeIndex: 4416 entries, 2018-03-01 00:00:00 to 2018-08-31 23:00:00\n",
      "Freq: h\n",
      "Data columns (total 1 columns):\n",
      " #   Column      Non-Null Count  Dtype\n",
      "---  ------      --------------  -----\n",
      " 0   num_orders  4416 non-null   int64\n",
      "dtypes: int64(1)\n",
      "memory usage: 69.0 KB\n"
     ]
    }
   ],
   "source": [
    "data.info()"
   ]
  },
  {
   "cell_type": "markdown",
   "metadata": {},
   "source": [
    "### Посчитаем количество пропущенных значений:"
   ]
  },
  {
   "cell_type": "code",
   "execution_count": 7,
   "metadata": {},
   "outputs": [
    {
     "data": {
      "text/plain": [
       "num_orders    0\n",
       "dtype: int64"
      ]
     },
     "execution_count": 7,
     "metadata": {},
     "output_type": "execute_result"
    }
   ],
   "source": [
    "data.isna().sum()"
   ]
  },
  {
   "cell_type": "markdown",
   "metadata": {},
   "source": [
    "### Отобразим таблицу с описательной статистикой столбцов:"
   ]
  },
  {
   "cell_type": "code",
   "execution_count": 8,
   "metadata": {},
   "outputs": [
    {
     "data": {
      "text/html": [
       "<div>\n",
       "<style scoped>\n",
       "    .dataframe tbody tr th:only-of-type {\n",
       "        vertical-align: middle;\n",
       "    }\n",
       "\n",
       "    .dataframe tbody tr th {\n",
       "        vertical-align: top;\n",
       "    }\n",
       "\n",
       "    .dataframe thead th {\n",
       "        text-align: right;\n",
       "    }\n",
       "</style>\n",
       "<table border=\"1\" class=\"dataframe\">\n",
       "  <thead>\n",
       "    <tr style=\"text-align: right;\">\n",
       "      <th></th>\n",
       "      <th>num_orders</th>\n",
       "    </tr>\n",
       "  </thead>\n",
       "  <tbody>\n",
       "    <tr>\n",
       "      <th>count</th>\n",
       "      <td>4416.00</td>\n",
       "    </tr>\n",
       "    <tr>\n",
       "      <th>mean</th>\n",
       "      <td>84.42</td>\n",
       "    </tr>\n",
       "    <tr>\n",
       "      <th>std</th>\n",
       "      <td>45.02</td>\n",
       "    </tr>\n",
       "    <tr>\n",
       "      <th>min</th>\n",
       "      <td>0.00</td>\n",
       "    </tr>\n",
       "    <tr>\n",
       "      <th>25%</th>\n",
       "      <td>54.00</td>\n",
       "    </tr>\n",
       "    <tr>\n",
       "      <th>50%</th>\n",
       "      <td>78.00</td>\n",
       "    </tr>\n",
       "    <tr>\n",
       "      <th>75%</th>\n",
       "      <td>107.00</td>\n",
       "    </tr>\n",
       "    <tr>\n",
       "      <th>max</th>\n",
       "      <td>462.00</td>\n",
       "    </tr>\n",
       "  </tbody>\n",
       "</table>\n",
       "</div>"
      ],
      "text/plain": [
       "       num_orders\n",
       "count     4416.00\n",
       "mean        84.42\n",
       "std         45.02\n",
       "min          0.00\n",
       "25%         54.00\n",
       "50%         78.00\n",
       "75%        107.00\n",
       "max        462.00"
      ]
     },
     "execution_count": 8,
     "metadata": {},
     "output_type": "execute_result"
    }
   ],
   "source": [
    "data.describe()"
   ]
  },
  {
   "cell_type": "markdown",
   "metadata": {},
   "source": [
    "### Отобразим гистограммы распределений значений столбцов:"
   ]
  },
  {
   "cell_type": "markdown",
   "metadata": {},
   "source": [
    "Для начала проанализируем сам временной ряд. Выясним можно ли считать временной ряд стационарным. Будем использовать тест Дики — Фуллера для проверки на стационарность. Возьмём $\\alpha = 0.01$\n",
    "\n",
    "$H_{0}$ - авторегрессионная модель временного ряда имеет единичный корень и временной ряд нельзя считать стационарным  \n",
    "$H_{1}$ - авторегрессионная модель временного ряда не имеет единичных кореней и временной ряд можно считать стационарным"
   ]
  },
  {
   "cell_type": "code",
   "execution_count": 9,
   "metadata": {},
   "outputs": [
    {
     "name": "stdout",
     "output_type": "stream",
     "text": [
      "ADF Statistic: -3.068900\n",
      "p-value: 0.028900\n",
      "Fail to reject the null hypothesis (H0), the data has a unit root and is non-stationary\n"
     ]
    }
   ],
   "source": [
    "alpha = 0.01\n",
    "result = adfuller(data)\n",
    "p_value = result[1]\n",
    "\n",
    "print('ADF Statistic: %f' % round(result[0], 4))\n",
    "print('p-value: %f' % round(p_value, 4))\n",
    "print('Fail to reject the null hypothesis (H0), the data has a unit root and is non-stationary' if p_value > alpha else \n",
    "      'Reject the null hypothesis (H0), the data does not have a unit root and is stationary')"
   ]
  },
  {
   "cell_type": "markdown",
   "metadata": {},
   "source": [
    "Дополнительно оценим стационарность с помощью сглаживания скользящим средним. Если сглаженное среднее будет увеличиваться со временем, то ряд нельзя считать стационарным"
   ]
  },
  {
   "cell_type": "code",
   "execution_count": 10,
   "metadata": {},
   "outputs": [
    {
     "data": {
      "image/png": "[encoded data removed]",
      "text/plain": [
       "<Figure size 432x288 with 1 Axes>"
      ]
     },
     "metadata": {
      "needs_background": "light"
     },
     "output_type": "display_data"
    }
   ],
   "source": [
    "ax = plt.subplot()\n",
    "data.plot(ax=ax)\n",
    "data['num_orders'].rolling(90).mean().plot(ax=ax, grid=True, legend=False, title='trend plot', xlabel='datetime', ylabel='num_orders');"
   ]
  },
  {
   "cell_type": "markdown",
   "metadata": {},
   "source": [
    "На графике можно пронаблюдать трендовую составляющую. Изучим также сезонную составляющую временного ряда"
   ]
  },
  {
   "cell_type": "code",
   "execution_count": 11,
   "metadata": {},
   "outputs": [
    {
     "data": {
      "image/png": "[encoded data removed]",
      "text/plain": [
       "<Figure size 432x288 with 1 Axes>"
      ]
     },
     "metadata": {
      "needs_background": "light"
     },
     "output_type": "display_data"
    }
   ],
   "source": [
    "seasonal_decompose(data).seasonal.head(168).plot(grid=True, legend=False, title='seasonal plot', xlabel='datetime', ylabel='num_orders');"
   ]
  },
  {
   "cell_type": "markdown",
   "metadata": {},
   "source": [
    "Продолжим работать с исходным временным рядом не смотря на то, что в нём присутствует незначительная трендовая составляющая и его нельзя считать стационарным"
   ]
  },
  {
   "cell_type": "code",
   "execution_count": 12,
   "metadata": {
    "scrolled": false
   },
   "outputs": [
    {
     "data": {
      "image/png": "[encoded data removed]",
      "text/plain": [
       "<Figure size 432x288 with 1 Axes>"
      ]
     },
     "metadata": {
      "needs_background": "light"
     },
     "output_type": "display_data"
    }
   ],
   "source": [
    "data.plot(kind='hist', bins=25, edgecolor='black', grid=True, legend=True, title='first difference histogram', xlabel='num_orders', ylabel='frequency');"
   ]
  },
  {
   "cell_type": "markdown",
   "metadata": {},
   "source": [
    "### Краткий вывод:\n",
    "- в данных содержится количество заказов такси за период времени с марта по август $2018$ года включительно\n",
    "- в данных отсутствуют пропуски\n",
    "- во временном ряде присутствует сезонность с периодом один день\n",
    "- ранним утром и вечером можно наблюдать пики заказов, а в полночь наоборот - спад \n",
    "- временной ряд нельзя считать стационарным, так как в нём присутствует трендовая составляющая"
   ]
  },
  {
   "cell_type": "markdown",
   "metadata": {},
   "source": [
    "## Обучение"
   ]
  },
  {
   "cell_type": "markdown",
   "metadata": {},
   "source": [
    "### Создадим дополнительные признаки:"
   ]
  },
  {
   "cell_type": "code",
   "execution_count": 13,
   "metadata": {},
   "outputs": [],
   "source": [
    "data['day'] = data.index.day\n",
    "\n",
    "for interval in [1, 24, 48, 168]:\n",
    "    data[f'num_orders_shift_{interval}'] = data['num_orders'].shift(interval)\n",
    "    \n",
    "    if interval > 1:\n",
    "        data[f'moving_average_{interval}'] = data['num_orders'].rolling(interval, closed='left').mean()"
   ]
  },
  {
   "cell_type": "code",
   "execution_count": 14,
   "metadata": {
    "scrolled": false
   },
   "outputs": [
    {
     "data": {
      "text/html": [
       "<div>\n",
       "<style scoped>\n",
       "    .dataframe tbody tr th:only-of-type {\n",
       "        vertical-align: middle;\n",
       "    }\n",
       "\n",
       "    .dataframe tbody tr th {\n",
       "        vertical-align: top;\n",
       "    }\n",
       "\n",
       "    .dataframe thead th {\n",
       "        text-align: right;\n",
       "    }\n",
       "</style>\n",
       "<table border=\"1\" class=\"dataframe\">\n",
       "  <thead>\n",
       "    <tr style=\"text-align: right;\">\n",
       "      <th></th>\n",
       "      <th>num_orders</th>\n",
       "      <th>day</th>\n",
       "      <th>num_orders_shift_1</th>\n",
       "      <th>num_orders_shift_24</th>\n",
       "      <th>moving_average_24</th>\n",
       "      <th>num_orders_shift_48</th>\n",
       "      <th>moving_average_48</th>\n",
       "      <th>num_orders_shift_168</th>\n",
       "      <th>moving_average_168</th>\n",
       "    </tr>\n",
       "    <tr>\n",
       "      <th>datetime</th>\n",
       "      <th></th>\n",
       "      <th></th>\n",
       "      <th></th>\n",
       "      <th></th>\n",
       "      <th></th>\n",
       "      <th></th>\n",
       "      <th></th>\n",
       "      <th></th>\n",
       "      <th></th>\n",
       "    </tr>\n",
       "  </thead>\n",
       "  <tbody>\n",
       "    <tr>\n",
       "      <th>2018-08-31 16:00:00</th>\n",
       "      <td>197</td>\n",
       "      <td>31</td>\n",
       "      <td>116.00</td>\n",
       "      <td>254.00</td>\n",
       "      <td>171.21</td>\n",
       "      <td>220.00</td>\n",
       "      <td>168.35</td>\n",
       "      <td>188.00</td>\n",
       "      <td>153.55</td>\n",
       "    </tr>\n",
       "    <tr>\n",
       "      <th>2018-08-31 17:00:00</th>\n",
       "      <td>217</td>\n",
       "      <td>31</td>\n",
       "      <td>197.00</td>\n",
       "      <td>342.00</td>\n",
       "      <td>168.83</td>\n",
       "      <td>159.00</td>\n",
       "      <td>167.88</td>\n",
       "      <td>170.00</td>\n",
       "      <td>153.60</td>\n",
       "    </tr>\n",
       "    <tr>\n",
       "      <th>2018-08-31 18:00:00</th>\n",
       "      <td>207</td>\n",
       "      <td>31</td>\n",
       "      <td>217.00</td>\n",
       "      <td>177.00</td>\n",
       "      <td>163.62</td>\n",
       "      <td>120.00</td>\n",
       "      <td>169.08</td>\n",
       "      <td>137.00</td>\n",
       "      <td>153.88</td>\n",
       "    </tr>\n",
       "    <tr>\n",
       "      <th>2018-08-31 19:00:00</th>\n",
       "      <td>136</td>\n",
       "      <td>31</td>\n",
       "      <td>207.00</td>\n",
       "      <td>72.00</td>\n",
       "      <td>164.88</td>\n",
       "      <td>169.00</td>\n",
       "      <td>170.90</td>\n",
       "      <td>113.00</td>\n",
       "      <td>154.30</td>\n",
       "    </tr>\n",
       "    <tr>\n",
       "      <th>2018-08-31 20:00:00</th>\n",
       "      <td>154</td>\n",
       "      <td>31</td>\n",
       "      <td>136.00</td>\n",
       "      <td>142.00</td>\n",
       "      <td>167.54</td>\n",
       "      <td>191.00</td>\n",
       "      <td>170.21</td>\n",
       "      <td>179.00</td>\n",
       "      <td>154.43</td>\n",
       "    </tr>\n",
       "    <tr>\n",
       "      <th>2018-08-31 21:00:00</th>\n",
       "      <td>159</td>\n",
       "      <td>31</td>\n",
       "      <td>154.00</td>\n",
       "      <td>198.00</td>\n",
       "      <td>168.04</td>\n",
       "      <td>170.00</td>\n",
       "      <td>169.44</td>\n",
       "      <td>166.00</td>\n",
       "      <td>154.29</td>\n",
       "    </tr>\n",
       "    <tr>\n",
       "      <th>2018-08-31 22:00:00</th>\n",
       "      <td>223</td>\n",
       "      <td>31</td>\n",
       "      <td>159.00</td>\n",
       "      <td>158.00</td>\n",
       "      <td>166.42</td>\n",
       "      <td>177.00</td>\n",
       "      <td>169.21</td>\n",
       "      <td>242.00</td>\n",
       "      <td>154.24</td>\n",
       "    </tr>\n",
       "    <tr>\n",
       "      <th>2018-08-31 23:00:00</th>\n",
       "      <td>205</td>\n",
       "      <td>31</td>\n",
       "      <td>223.00</td>\n",
       "      <td>246.00</td>\n",
       "      <td>169.12</td>\n",
       "      <td>265.00</td>\n",
       "      <td>170.17</td>\n",
       "      <td>173.00</td>\n",
       "      <td>154.13</td>\n",
       "    </tr>\n",
       "  </tbody>\n",
       "</table>\n",
       "</div>"
      ],
      "text/plain": [
       "                     num_orders  day  num_orders_shift_1  num_orders_shift_24  \\\n",
       "datetime                                                                        \n",
       "2018-08-31 16:00:00         197   31              116.00               254.00   \n",
       "2018-08-31 17:00:00         217   31              197.00               342.00   \n",
       "2018-08-31 18:00:00         207   31              217.00               177.00   \n",
       "2018-08-31 19:00:00         136   31              207.00                72.00   \n",
       "2018-08-31 20:00:00         154   31              136.00               142.00   \n",
       "2018-08-31 21:00:00         159   31              154.00               198.00   \n",
       "2018-08-31 22:00:00         223   31              159.00               158.00   \n",
       "2018-08-31 23:00:00         205   31              223.00               246.00   \n",
       "\n",
       "                     moving_average_24  num_orders_shift_48  \\\n",
       "datetime                                                      \n",
       "2018-08-31 16:00:00             171.21               220.00   \n",
       "2018-08-31 17:00:00             168.83               159.00   \n",
       "2018-08-31 18:00:00             163.62               120.00   \n",
       "2018-08-31 19:00:00             164.88               169.00   \n",
       "2018-08-31 20:00:00             167.54               191.00   \n",
       "2018-08-31 21:00:00             168.04               170.00   \n",
       "2018-08-31 22:00:00             166.42               177.00   \n",
       "2018-08-31 23:00:00             169.12               265.00   \n",
       "\n",
       "                     moving_average_48  num_orders_shift_168  \\\n",
       "datetime                                                       \n",
       "2018-08-31 16:00:00             168.35                188.00   \n",
       "2018-08-31 17:00:00             167.88                170.00   \n",
       "2018-08-31 18:00:00             169.08                137.00   \n",
       "2018-08-31 19:00:00             170.90                113.00   \n",
       "2018-08-31 20:00:00             170.21                179.00   \n",
       "2018-08-31 21:00:00             169.44                166.00   \n",
       "2018-08-31 22:00:00             169.21                242.00   \n",
       "2018-08-31 23:00:00             170.17                173.00   \n",
       "\n",
       "                     moving_average_168  \n",
       "datetime                                 \n",
       "2018-08-31 16:00:00              153.55  \n",
       "2018-08-31 17:00:00              153.60  \n",
       "2018-08-31 18:00:00              153.88  \n",
       "2018-08-31 19:00:00              154.30  \n",
       "2018-08-31 20:00:00              154.43  \n",
       "2018-08-31 21:00:00              154.29  \n",
       "2018-08-31 22:00:00              154.24  \n",
       "2018-08-31 23:00:00              154.13  "
      ]
     },
     "execution_count": 14,
     "metadata": {},
     "output_type": "execute_result"
    }
   ],
   "source": [
    "# check\n",
    "data.tail(8)"
   ]
  },
  {
   "cell_type": "markdown",
   "metadata": {},
   "source": [
    "Отобразим все скользящие средние на графике"
   ]
  },
  {
   "cell_type": "code",
   "execution_count": 15,
   "metadata": {
    "scrolled": false
   },
   "outputs": [
    {
     "data": {
      "image/png": "[encoded data removed]",
      "text/plain": [
       "<Figure size 432x288 with 1 Axes>"
      ]
     },
     "metadata": {
      "needs_background": "light"
     },
     "output_type": "display_data"
    },
    {
     "data": {
      "image/png": "[encoded data removed]",
      "text/plain": [
       "<Figure size 432x288 with 1 Axes>"
      ]
     },
     "metadata": {
      "needs_background": "light"
     },
     "output_type": "display_data"
    },
    {
     "data": {
      "image/png": "[encoded data removed]",
      "text/plain": [
       "<Figure size 432x288 with 1 Axes>"
      ]
     },
     "metadata": {
      "needs_background": "light"
     },
     "output_type": "display_data"
    }
   ],
   "source": [
    "for moving_average in [col for col in data.columns if 'moving_average' in col]:\n",
    "    data[['num_orders', moving_average]].plot(grid=True, legend=True, xlabel='datetime', ylabel='num_orders')\n",
    "    plt.show()"
   ]
  },
  {
   "cell_type": "markdown",
   "metadata": {},
   "source": [
    "Вне зависимости от интвервала окна, на всех графиках можно пронаблюдать трендовую составляющую"
   ]
  },
  {
   "cell_type": "markdown",
   "metadata": {},
   "source": [
    "### Разделим данные на обучающую, валидационную и тестовую выборки в соотношении $80\\%/10\\%/10\\%$:"
   ]
  },
  {
   "cell_type": "code",
   "execution_count": 16,
   "metadata": {},
   "outputs": [
    {
     "data": {
      "text/html": [
       "<div>\n",
       "<style scoped>\n",
       "    .dataframe tbody tr th:only-of-type {\n",
       "        vertical-align: middle;\n",
       "    }\n",
       "\n",
       "    .dataframe tbody tr th {\n",
       "        vertical-align: top;\n",
       "    }\n",
       "\n",
       "    .dataframe thead th {\n",
       "        text-align: right;\n",
       "    }\n",
       "</style>\n",
       "<table border=\"1\" class=\"dataframe\">\n",
       "  <thead>\n",
       "    <tr style=\"text-align: right;\">\n",
       "      <th></th>\n",
       "      <th>size_proportion</th>\n",
       "    </tr>\n",
       "  </thead>\n",
       "  <tbody>\n",
       "    <tr>\n",
       "      <th>train</th>\n",
       "      <td>79.99</td>\n",
       "    </tr>\n",
       "    <tr>\n",
       "      <th>valid</th>\n",
       "      <td>10.00</td>\n",
       "    </tr>\n",
       "    <tr>\n",
       "      <th>test</th>\n",
       "      <td>10.00</td>\n",
       "    </tr>\n",
       "  </tbody>\n",
       "</table>\n",
       "</div>"
      ],
      "text/plain": [
       "       size_proportion\n",
       "train            79.99\n",
       "valid            10.00\n",
       "test             10.00"
      ]
     },
     "execution_count": 16,
     "metadata": {},
     "output_type": "execute_result"
    }
   ],
   "source": [
    "data = data.dropna()\n",
    "train, valid = train_test_split(data, shuffle=False, test_size=0.2)\n",
    "valid, test = train_test_split(valid, shuffle=False, test_size=0.5)\n",
    "\n",
    "X_train, X_valid, X_test = [dataset.drop(['num_orders'], axis=1) for dataset in [train, valid, test]]\n",
    "y_train, y_valid, y_test = [dataset['num_orders'] for dataset in [train, valid, test]]\n",
    "\n",
    "# check\n",
    "pd.DataFrame(data=[round(dataset.shape[0] / data.shape[0] * 100, 2) for dataset in [X_train, X_valid, X_test]],\n",
    "             index=['train', 'valid', 'test'],\n",
    "             columns=['size_proportion'])"
   ]
  },
  {
   "cell_type": "markdown",
   "metadata": {},
   "source": [
    "### Создадим и обучим базовую модель:"
   ]
  },
  {
   "cell_type": "code",
   "execution_count": 17,
   "metadata": {},
   "outputs": [
    {
     "data": {
      "text/html": [
       "<style>#sk-container-id-1 {\n",
       "  /* Definition of color scheme common for light and dark mode */\n",
       "  --sklearn-color-text: black;\n",
       "  --sklearn-color-line: gray;\n",
       "  /* Definition of color scheme for unfitted estimators */\n",
       "  --sklearn-color-unfitted-level-0: #fff5e6;\n",
       "  --sklearn-color-unfitted-level-1: #f6e4d2;\n",
       "  --sklearn-color-unfitted-level-2: #ffe0b3;\n",
       "  --sklearn-color-unfitted-level-3: chocolate;\n",
       "  /* Definition of color scheme for fitted estimators */\n",
       "  --sklearn-color-fitted-level-0: #f0f8ff;\n",
       "  --sklearn-color-fitted-level-1: #d4ebff;\n",
       "  --sklearn-color-fitted-level-2: #b3dbfd;\n",
       "  --sklearn-color-fitted-level-3: cornflowerblue;\n",
       "\n",
       "  /* Specific color for light theme */\n",
       "  --sklearn-color-text-on-default-background: var(--sg-text-color, var(--theme-code-foreground, var(--jp-content-font-color1, black)));\n",
       "  --sklearn-color-background: var(--sg-background-color, var(--theme-background, var(--jp-layout-color0, white)));\n",
       "  --sklearn-color-border-box: var(--sg-text-color, var(--theme-code-foreground, var(--jp-content-font-color1, black)));\n",
       "  --sklearn-color-icon: #696969;\n",
       "\n",
       "  @media (prefers-color-scheme: dark) {\n",
       "    /* Redefinition of color scheme for dark theme */\n",
       "    --sklearn-color-text-on-default-background: var(--sg-text-color, var(--theme-code-foreground, var(--jp-content-font-color1, white)));\n",
       "    --sklearn-color-background: var(--sg-background-color, var(--theme-background, var(--jp-layout-color0, #111)));\n",
       "    --sklearn-color-border-box: var(--sg-text-color, var(--theme-code-foreground, var(--jp-content-font-color1, white)));\n",
       "    --sklearn-color-icon: #878787;\n",
       "  }\n",
       "}\n",
       "\n",
       "#sk-container-id-1 {\n",
       "  color: var(--sklearn-color-text);\n",
       "}\n",
       "\n",
       "#sk-container-id-1 pre {\n",
       "  padding: 0;\n",
       "}\n",
       "\n",
       "#sk-container-id-1 input.sk-hidden--visually {\n",
       "  border: 0;\n",
       "  clip: rect(1px 1px 1px 1px);\n",
       "  clip: rect(1px, 1px, 1px, 1px);\n",
       "  height: 1px;\n",
       "  margin: -1px;\n",
       "  overflow: hidden;\n",
       "  padding: 0;\n",
       "  position: absolute;\n",
       "  width: 1px;\n",
       "}\n",
       "\n",
       "#sk-container-id-1 div.sk-dashed-wrapped {\n",
       "  border: 1px dashed var(--sklearn-color-line);\n",
       "  margin: 0 0.4em 0.5em 0.4em;\n",
       "  box-sizing: border-box;\n",
       "  padding-bottom: 0.4em;\n",
       "  background-color: var(--sklearn-color-background);\n",
       "}\n",
       "\n",
       "#sk-container-id-1 div.sk-container {\n",
       "  /* jupyter's `normalize.less` sets `[hidden] { display: none; }`\n",
       "     but bootstrap.min.css set `[hidden] { display: none !important; }`\n",
       "     so we also need the `!important` here to be able to override the\n",
       "     default hidden behavior on the sphinx rendered scikit-learn.org.\n",
       "     See: https://github.com/scikit-learn/scikit-learn/issues/21755 */\n",
       "  display: inline-block !important;\n",
       "  position: relative;\n",
       "}\n",
       "\n",
       "#sk-container-id-1 div.sk-text-repr-fallback {\n",
       "  display: none;\n",
       "}\n",
       "\n",
       "div.sk-parallel-item,\n",
       "div.sk-serial,\n",
       "div.sk-item {\n",
       "  /* draw centered vertical line to link estimators */\n",
       "  background-image: linear-gradient(var(--sklearn-color-text-on-default-background), var(--sklearn-color-text-on-default-background));\n",
       "  background-size: 2px 100%;\n",
       "  background-repeat: no-repeat;\n",
       "  background-position: center center;\n",
       "}\n",
       "\n",
       "/* Parallel-specific style estimator block */\n",
       "\n",
       "#sk-container-id-1 div.sk-parallel-item::after {\n",
       "  content: \"\";\n",
       "  width: 100%;\n",
       "  border-bottom: 2px solid var(--sklearn-color-text-on-default-background);\n",
       "  flex-grow: 1;\n",
       "}\n",
       "\n",
       "#sk-container-id-1 div.sk-parallel {\n",
       "  display: flex;\n",
       "  align-items: stretch;\n",
       "  justify-content: center;\n",
       "  background-color: var(--sklearn-color-background);\n",
       "  position: relative;\n",
       "}\n",
       "\n",
       "#sk-container-id-1 div.sk-parallel-item {\n",
       "  display: flex;\n",
       "  flex-direction: column;\n",
       "}\n",
       "\n",
       "#sk-container-id-1 div.sk-parallel-item:first-child::after {\n",
       "  align-self: flex-end;\n",
       "  width: 50%;\n",
       "}\n",
       "\n",
       "#sk-container-id-1 div.sk-parallel-item:last-child::after {\n",
       "  align-self: flex-start;\n",
       "  width: 50%;\n",
       "}\n",
       "\n",
       "#sk-container-id-1 div.sk-parallel-item:only-child::after {\n",
       "  width: 0;\n",
       "}\n",
       "\n",
       "/* Serial-specific style estimator block */\n",
       "\n",
       "#sk-container-id-1 div.sk-serial {\n",
       "  display: flex;\n",
       "  flex-direction: column;\n",
       "  align-items: center;\n",
       "  background-color: var(--sklearn-color-background);\n",
       "  padding-right: 1em;\n",
       "  padding-left: 1em;\n",
       "}\n",
       "\n",
       "\n",
       "/* Toggleable style: style used for estimator/Pipeline/ColumnTransformer box that is\n",
       "clickable and can be expanded/collapsed.\n",
       "- Pipeline and ColumnTransformer use this feature and define the default style\n",
       "- Estimators will overwrite some part of the style using the `sk-estimator` class\n",
       "*/\n",
       "\n",
       "/* Pipeline and ColumnTransformer style (default) */\n",
       "\n",
       "#sk-container-id-1 div.sk-toggleable {\n",
       "  /* Default theme specific background. It is overwritten whether we have a\n",
       "  specific estimator or a Pipeline/ColumnTransformer */\n",
       "  background-color: var(--sklearn-color-background);\n",
       "}\n",
       "\n",
       "/* Toggleable label */\n",
       "#sk-container-id-1 label.sk-toggleable__label {\n",
       "  cursor: pointer;\n",
       "  display: block;\n",
       "  width: 100%;\n",
       "  margin-bottom: 0;\n",
       "  padding: 0.5em;\n",
       "  box-sizing: border-box;\n",
       "  text-align: center;\n",
       "}\n",
       "\n",
       "#sk-container-id-1 label.sk-toggleable__label-arrow:before {\n",
       "  /* Arrow on the left of the label */\n",
       "  content: \"▸\";\n",
       "  float: left;\n",
       "  margin-right: 0.25em;\n",
       "  color: var(--sklearn-color-icon);\n",
       "}\n",
       "\n",
       "#sk-container-id-1 label.sk-toggleable__label-arrow:hover:before {\n",
       "  color: var(--sklearn-color-text);\n",
       "}\n",
       "\n",
       "/* Toggleable content - dropdown */\n",
       "\n",
       "#sk-container-id-1 div.sk-toggleable__content {\n",
       "  max-height: 0;\n",
       "  max-width: 0;\n",
       "  overflow: hidden;\n",
       "  text-align: left;\n",
       "  /* unfitted */\n",
       "  background-color: var(--sklearn-color-unfitted-level-0);\n",
       "}\n",
       "\n",
       "#sk-container-id-1 div.sk-toggleable__content.fitted {\n",
       "  /* fitted */\n",
       "  background-color: var(--sklearn-color-fitted-level-0);\n",
       "}\n",
       "\n",
       "#sk-container-id-1 div.sk-toggleable__content pre {\n",
       "  margin: 0.2em;\n",
       "  border-radius: 0.25em;\n",
       "  color: var(--sklearn-color-text);\n",
       "  /* unfitted */\n",
       "  background-color: var(--sklearn-color-unfitted-level-0);\n",
       "}\n",
       "\n",
       "#sk-container-id-1 div.sk-toggleable__content.fitted pre {\n",
       "  /* unfitted */\n",
       "  background-color: var(--sklearn-color-fitted-level-0);\n",
       "}\n",
       "\n",
       "#sk-container-id-1 input.sk-toggleable__control:checked~div.sk-toggleable__content {\n",
       "  /* Expand drop-down */\n",
       "  max-height: 200px;\n",
       "  max-width: 100%;\n",
       "  overflow: auto;\n",
       "}\n",
       "\n",
       "#sk-container-id-1 input.sk-toggleable__control:checked~label.sk-toggleable__label-arrow:before {\n",
       "  content: \"▾\";\n",
       "}\n",
       "\n",
       "/* Pipeline/ColumnTransformer-specific style */\n",
       "\n",
       "#sk-container-id-1 div.sk-label input.sk-toggleable__control:checked~label.sk-toggleable__label {\n",
       "  color: var(--sklearn-color-text);\n",
       "  background-color: var(--sklearn-color-unfitted-level-2);\n",
       "}\n",
       "\n",
       "#sk-container-id-1 div.sk-label.fitted input.sk-toggleable__control:checked~label.sk-toggleable__label {\n",
       "  background-color: var(--sklearn-color-fitted-level-2);\n",
       "}\n",
       "\n",
       "/* Estimator-specific style */\n",
       "\n",
       "/* Colorize estimator box */\n",
       "#sk-container-id-1 div.sk-estimator input.sk-toggleable__control:checked~label.sk-toggleable__label {\n",
       "  /* unfitted */\n",
       "  background-color: var(--sklearn-color-unfitted-level-2);\n",
       "}\n",
       "\n",
       "#sk-container-id-1 div.sk-estimator.fitted input.sk-toggleable__control:checked~label.sk-toggleable__label {\n",
       "  /* fitted */\n",
       "  background-color: var(--sklearn-color-fitted-level-2);\n",
       "}\n",
       "\n",
       "#sk-container-id-1 div.sk-label label.sk-toggleable__label,\n",
       "#sk-container-id-1 div.sk-label label {\n",
       "  /* The background is the default theme color */\n",
       "  color: var(--sklearn-color-text-on-default-background);\n",
       "}\n",
       "\n",
       "/* On hover, darken the color of the background */\n",
       "#sk-container-id-1 div.sk-label:hover label.sk-toggleable__label {\n",
       "  color: var(--sklearn-color-text);\n",
       "  background-color: var(--sklearn-color-unfitted-level-2);\n",
       "}\n",
       "\n",
       "/* Label box, darken color on hover, fitted */\n",
       "#sk-container-id-1 div.sk-label.fitted:hover label.sk-toggleable__label.fitted {\n",
       "  color: var(--sklearn-color-text);\n",
       "  background-color: var(--sklearn-color-fitted-level-2);\n",
       "}\n",
       "\n",
       "/* Estimator label */\n",
       "\n",
       "#sk-container-id-1 div.sk-label label {\n",
       "  font-family: monospace;\n",
       "  font-weight: bold;\n",
       "  display: inline-block;\n",
       "  line-height: 1.2em;\n",
       "}\n",
       "\n",
       "#sk-container-id-1 div.sk-label-container {\n",
       "  text-align: center;\n",
       "}\n",
       "\n",
       "/* Estimator-specific */\n",
       "#sk-container-id-1 div.sk-estimator {\n",
       "  font-family: monospace;\n",
       "  border: 1px dotted var(--sklearn-color-border-box);\n",
       "  border-radius: 0.25em;\n",
       "  box-sizing: border-box;\n",
       "  margin-bottom: 0.5em;\n",
       "  /* unfitted */\n",
       "  background-color: var(--sklearn-color-unfitted-level-0);\n",
       "}\n",
       "\n",
       "#sk-container-id-1 div.sk-estimator.fitted {\n",
       "  /* fitted */\n",
       "  background-color: var(--sklearn-color-fitted-level-0);\n",
       "}\n",
       "\n",
       "/* on hover */\n",
       "#sk-container-id-1 div.sk-estimator:hover {\n",
       "  /* unfitted */\n",
       "  background-color: var(--sklearn-color-unfitted-level-2);\n",
       "}\n",
       "\n",
       "#sk-container-id-1 div.sk-estimator.fitted:hover {\n",
       "  /* fitted */\n",
       "  background-color: var(--sklearn-color-fitted-level-2);\n",
       "}\n",
       "\n",
       "/* Specification for estimator info (e.g. \"i\" and \"?\") */\n",
       "\n",
       "/* Common style for \"i\" and \"?\" */\n",
       "\n",
       ".sk-estimator-doc-link,\n",
       "a:link.sk-estimator-doc-link,\n",
       "a:visited.sk-estimator-doc-link {\n",
       "  float: right;\n",
       "  font-size: smaller;\n",
       "  line-height: 1em;\n",
       "  font-family: monospace;\n",
       "  background-color: var(--sklearn-color-background);\n",
       "  border-radius: 1em;\n",
       "  height: 1em;\n",
       "  width: 1em;\n",
       "  text-decoration: none !important;\n",
       "  margin-left: 1ex;\n",
       "  /* unfitted */\n",
       "  border: var(--sklearn-color-unfitted-level-1) 1pt solid;\n",
       "  color: var(--sklearn-color-unfitted-level-1);\n",
       "}\n",
       "\n",
       ".sk-estimator-doc-link.fitted,\n",
       "a:link.sk-estimator-doc-link.fitted,\n",
       "a:visited.sk-estimator-doc-link.fitted {\n",
       "  /* fitted */\n",
       "  border: var(--sklearn-color-fitted-level-1) 1pt solid;\n",
       "  color: var(--sklearn-color-fitted-level-1);\n",
       "}\n",
       "\n",
       "/* On hover */\n",
       "div.sk-estimator:hover .sk-estimator-doc-link:hover,\n",
       ".sk-estimator-doc-link:hover,\n",
       "div.sk-label-container:hover .sk-estimator-doc-link:hover,\n",
       ".sk-estimator-doc-link:hover {\n",
       "  /* unfitted */\n",
       "  background-color: var(--sklearn-color-unfitted-level-3);\n",
       "  color: var(--sklearn-color-background);\n",
       "  text-decoration: none;\n",
       "}\n",
       "\n",
       "div.sk-estimator.fitted:hover .sk-estimator-doc-link.fitted:hover,\n",
       ".sk-estimator-doc-link.fitted:hover,\n",
       "div.sk-label-container:hover .sk-estimator-doc-link.fitted:hover,\n",
       ".sk-estimator-doc-link.fitted:hover {\n",
       "  /* fitted */\n",
       "  background-color: var(--sklearn-color-fitted-level-3);\n",
       "  color: var(--sklearn-color-background);\n",
       "  text-decoration: none;\n",
       "}\n",
       "\n",
       "/* Span, style for the box shown on hovering the info icon */\n",
       ".sk-estimator-doc-link span {\n",
       "  display: none;\n",
       "  z-index: 9999;\n",
       "  position: relative;\n",
       "  font-weight: normal;\n",
       "  right: .2ex;\n",
       "  padding: .5ex;\n",
       "  margin: .5ex;\n",
       "  width: min-content;\n",
       "  min-width: 20ex;\n",
       "  max-width: 50ex;\n",
       "  color: var(--sklearn-color-text);\n",
       "  box-shadow: 2pt 2pt 4pt #999;\n",
       "  /* unfitted */\n",
       "  background: var(--sklearn-color-unfitted-level-0);\n",
       "  border: .5pt solid var(--sklearn-color-unfitted-level-3);\n",
       "}\n",
       "\n",
       ".sk-estimator-doc-link.fitted span {\n",
       "  /* fitted */\n",
       "  background: var(--sklearn-color-fitted-level-0);\n",
       "  border: var(--sklearn-color-fitted-level-3);\n",
       "}\n",
       "\n",
       ".sk-estimator-doc-link:hover span {\n",
       "  display: block;\n",
       "}\n",
       "\n",
       "/* \"?\"-specific style due to the `<a>` HTML tag */\n",
       "\n",
       "#sk-container-id-1 a.estimator_doc_link {\n",
       "  float: right;\n",
       "  font-size: 1rem;\n",
       "  line-height: 1em;\n",
       "  font-family: monospace;\n",
       "  background-color: var(--sklearn-color-background);\n",
       "  border-radius: 1rem;\n",
       "  height: 1rem;\n",
       "  width: 1rem;\n",
       "  text-decoration: none;\n",
       "  /* unfitted */\n",
       "  color: var(--sklearn-color-unfitted-level-1);\n",
       "  border: var(--sklearn-color-unfitted-level-1) 1pt solid;\n",
       "}\n",
       "\n",
       "#sk-container-id-1 a.estimator_doc_link.fitted {\n",
       "  /* fitted */\n",
       "  border: var(--sklearn-color-fitted-level-1) 1pt solid;\n",
       "  color: var(--sklearn-color-fitted-level-1);\n",
       "}\n",
       "\n",
       "/* On hover */\n",
       "#sk-container-id-1 a.estimator_doc_link:hover {\n",
       "  /* unfitted */\n",
       "  background-color: var(--sklearn-color-unfitted-level-3);\n",
       "  color: var(--sklearn-color-background);\n",
       "  text-decoration: none;\n",
       "}\n",
       "\n",
       "#sk-container-id-1 a.estimator_doc_link.fitted:hover {\n",
       "  /* fitted */\n",
       "  background-color: var(--sklearn-color-fitted-level-3);\n",
       "}\n",
       "</style><div id=\"sk-container-id-1\" class=\"sk-top-container\"><div class=\"sk-text-repr-fallback\"><pre>DummyRegressor(strategy=&#x27;median&#x27;)</pre><b>In a Jupyter environment, please rerun this cell to show the HTML representation or trust the notebook. <br />On GitHub, the HTML representation is unable to render, please try loading this page with nbviewer.org.</b></div><div class=\"sk-container\" hidden><div class=\"sk-item\"><div class=\"sk-estimator fitted sk-toggleable\"><input class=\"sk-toggleable__control sk-hidden--visually\" id=\"sk-estimator-id-1\" type=\"checkbox\" checked><label for=\"sk-estimator-id-1\" class=\"sk-toggleable__label fitted sk-toggleable__label-arrow fitted\">&nbsp;&nbsp;DummyRegressor<a class=\"sk-estimator-doc-link fitted\" rel=\"noreferrer\" target=\"_blank\" href=\"https://scikit-learn.org/1.4/modules/generated/sklearn.dummy.DummyRegressor.html\">?<span>Documentation for DummyRegressor</span></a><span class=\"sk-estimator-doc-link fitted\">i<span>Fitted</span></span></label><div class=\"sk-toggleable__content fitted\"><pre>DummyRegressor(strategy=&#x27;median&#x27;)</pre></div> </div></div></div></div>"
      ],
      "text/plain": [
       "DummyRegressor(strategy='median')"
      ]
     },
     "execution_count": 17,
     "metadata": {},
     "output_type": "execute_result"
    }
   ],
   "source": [
    "baseline_model = DummyRegressor(strategy='median')\n",
    "baseline_model.fit(X_train, y_train)"
   ]
  },
  {
   "cell_type": "markdown",
   "metadata": {},
   "source": [
    "Протестируем базовую модель на валидационной выборке"
   ]
  },
  {
   "cell_type": "code",
   "execution_count": 18,
   "metadata": {},
   "outputs": [
    {
     "data": {
      "text/html": [
       "<div>\n",
       "<style scoped>\n",
       "    .dataframe tbody tr th:only-of-type {\n",
       "        vertical-align: middle;\n",
       "    }\n",
       "\n",
       "    .dataframe tbody tr th {\n",
       "        vertical-align: top;\n",
       "    }\n",
       "\n",
       "    .dataframe thead th {\n",
       "        text-align: right;\n",
       "    }\n",
       "</style>\n",
       "<table border=\"1\" class=\"dataframe\">\n",
       "  <thead>\n",
       "    <tr style=\"text-align: right;\">\n",
       "      <th></th>\n",
       "      <th>RMSE</th>\n",
       "    </tr>\n",
       "  </thead>\n",
       "  <tbody>\n",
       "    <tr>\n",
       "      <th>DummyRegressor</th>\n",
       "      <td>60.26</td>\n",
       "    </tr>\n",
       "  </tbody>\n",
       "</table>\n",
       "</div>"
      ],
      "text/plain": [
       "                RMSE\n",
       "DummyRegressor 60.26"
      ]
     },
     "execution_count": 18,
     "metadata": {},
     "output_type": "execute_result"
    }
   ],
   "source": [
    "valid_results = pd.DataFrame(columns=['RMSE'])\n",
    "valid_results.loc['DummyRegressor'] = root_mean_squared_error(y_valid, baseline_model.predict(X_valid))\n",
    "valid_results"
   ]
  },
  {
   "cell_type": "markdown",
   "metadata": {},
   "source": [
    "### Попробуем улучшить прогнозирование при помощи модели линейной регрессии:"
   ]
  },
  {
   "cell_type": "code",
   "execution_count": 19,
   "metadata": {},
   "outputs": [
    {
     "data": {
      "text/html": [
       "<style>#sk-container-id-2 {\n",
       "  /* Definition of color scheme common for light and dark mode */\n",
       "  --sklearn-color-text: black;\n",
       "  --sklearn-color-line: gray;\n",
       "  /* Definition of color scheme for unfitted estimators */\n",
       "  --sklearn-color-unfitted-level-0: #fff5e6;\n",
       "  --sklearn-color-unfitted-level-1: #f6e4d2;\n",
       "  --sklearn-color-unfitted-level-2: #ffe0b3;\n",
       "  --sklearn-color-unfitted-level-3: chocolate;\n",
       "  /* Definition of color scheme for fitted estimators */\n",
       "  --sklearn-color-fitted-level-0: #f0f8ff;\n",
       "  --sklearn-color-fitted-level-1: #d4ebff;\n",
       "  --sklearn-color-fitted-level-2: #b3dbfd;\n",
       "  --sklearn-color-fitted-level-3: cornflowerblue;\n",
       "\n",
       "  /* Specific color for light theme */\n",
       "  --sklearn-color-text-on-default-background: var(--sg-text-color, var(--theme-code-foreground, var(--jp-content-font-color1, black)));\n",
       "  --sklearn-color-background: var(--sg-background-color, var(--theme-background, var(--jp-layout-color0, white)));\n",
       "  --sklearn-color-border-box: var(--sg-text-color, var(--theme-code-foreground, var(--jp-content-font-color1, black)));\n",
       "  --sklearn-color-icon: #696969;\n",
       "\n",
       "  @media (prefers-color-scheme: dark) {\n",
       "    /* Redefinition of color scheme for dark theme */\n",
       "    --sklearn-color-text-on-default-background: var(--sg-text-color, var(--theme-code-foreground, var(--jp-content-font-color1, white)));\n",
       "    --sklearn-color-background: var(--sg-background-color, var(--theme-background, var(--jp-layout-color0, #111)));\n",
       "    --sklearn-color-border-box: var(--sg-text-color, var(--theme-code-foreground, var(--jp-content-font-color1, white)));\n",
       "    --sklearn-color-icon: #878787;\n",
       "  }\n",
       "}\n",
       "\n",
       "#sk-container-id-2 {\n",
       "  color: var(--sklearn-color-text);\n",
       "}\n",
       "\n",
       "#sk-container-id-2 pre {\n",
       "  padding: 0;\n",
       "}\n",
       "\n",
       "#sk-container-id-2 input.sk-hidden--visually {\n",
       "  border: 0;\n",
       "  clip: rect(1px 1px 1px 1px);\n",
       "  clip: rect(1px, 1px, 1px, 1px);\n",
       "  height: 1px;\n",
       "  margin: -1px;\n",
       "  overflow: hidden;\n",
       "  padding: 0;\n",
       "  position: absolute;\n",
       "  width: 1px;\n",
       "}\n",
       "\n",
       "#sk-container-id-2 div.sk-dashed-wrapped {\n",
       "  border: 1px dashed var(--sklearn-color-line);\n",
       "  margin: 0 0.4em 0.5em 0.4em;\n",
       "  box-sizing: border-box;\n",
       "  padding-bottom: 0.4em;\n",
       "  background-color: var(--sklearn-color-background);\n",
       "}\n",
       "\n",
       "#sk-container-id-2 div.sk-container {\n",
       "  /* jupyter's `normalize.less` sets `[hidden] { display: none; }`\n",
       "     but bootstrap.min.css set `[hidden] { display: none !important; }`\n",
       "     so we also need the `!important` here to be able to override the\n",
       "     default hidden behavior on the sphinx rendered scikit-learn.org.\n",
       "     See: https://github.com/scikit-learn/scikit-learn/issues/21755 */\n",
       "  display: inline-block !important;\n",
       "  position: relative;\n",
       "}\n",
       "\n",
       "#sk-container-id-2 div.sk-text-repr-fallback {\n",
       "  display: none;\n",
       "}\n",
       "\n",
       "div.sk-parallel-item,\n",
       "div.sk-serial,\n",
       "div.sk-item {\n",
       "  /* draw centered vertical line to link estimators */\n",
       "  background-image: linear-gradient(var(--sklearn-color-text-on-default-background), var(--sklearn-color-text-on-default-background));\n",
       "  background-size: 2px 100%;\n",
       "  background-repeat: no-repeat;\n",
       "  background-position: center center;\n",
       "}\n",
       "\n",
       "/* Parallel-specific style estimator block */\n",
       "\n",
       "#sk-container-id-2 div.sk-parallel-item::after {\n",
       "  content: \"\";\n",
       "  width: 100%;\n",
       "  border-bottom: 2px solid var(--sklearn-color-text-on-default-background);\n",
       "  flex-grow: 1;\n",
       "}\n",
       "\n",
       "#sk-container-id-2 div.sk-parallel {\n",
       "  display: flex;\n",
       "  align-items: stretch;\n",
       "  justify-content: center;\n",
       "  background-color: var(--sklearn-color-background);\n",
       "  position: relative;\n",
       "}\n",
       "\n",
       "#sk-container-id-2 div.sk-parallel-item {\n",
       "  display: flex;\n",
       "  flex-direction: column;\n",
       "}\n",
       "\n",
       "#sk-container-id-2 div.sk-parallel-item:first-child::after {\n",
       "  align-self: flex-end;\n",
       "  width: 50%;\n",
       "}\n",
       "\n",
       "#sk-container-id-2 div.sk-parallel-item:last-child::after {\n",
       "  align-self: flex-start;\n",
       "  width: 50%;\n",
       "}\n",
       "\n",
       "#sk-container-id-2 div.sk-parallel-item:only-child::after {\n",
       "  width: 0;\n",
       "}\n",
       "\n",
       "/* Serial-specific style estimator block */\n",
       "\n",
       "#sk-container-id-2 div.sk-serial {\n",
       "  display: flex;\n",
       "  flex-direction: column;\n",
       "  align-items: center;\n",
       "  background-color: var(--sklearn-color-background);\n",
       "  padding-right: 1em;\n",
       "  padding-left: 1em;\n",
       "}\n",
       "\n",
       "\n",
       "/* Toggleable style: style used for estimator/Pipeline/ColumnTransformer box that is\n",
       "clickable and can be expanded/collapsed.\n",
       "- Pipeline and ColumnTransformer use this feature and define the default style\n",
       "- Estimators will overwrite some part of the style using the `sk-estimator` class\n",
       "*/\n",
       "\n",
       "/* Pipeline and ColumnTransformer style (default) */\n",
       "\n",
       "#sk-container-id-2 div.sk-toggleable {\n",
       "  /* Default theme specific background. It is overwritten whether we have a\n",
       "  specific estimator or a Pipeline/ColumnTransformer */\n",
       "  background-color: var(--sklearn-color-background);\n",
       "}\n",
       "\n",
       "/* Toggleable label */\n",
       "#sk-container-id-2 label.sk-toggleable__label {\n",
       "  cursor: pointer;\n",
       "  display: block;\n",
       "  width: 100%;\n",
       "  margin-bottom: 0;\n",
       "  padding: 0.5em;\n",
       "  box-sizing: border-box;\n",
       "  text-align: center;\n",
       "}\n",
       "\n",
       "#sk-container-id-2 label.sk-toggleable__label-arrow:before {\n",
       "  /* Arrow on the left of the label */\n",
       "  content: \"▸\";\n",
       "  float: left;\n",
       "  margin-right: 0.25em;\n",
       "  color: var(--sklearn-color-icon);\n",
       "}\n",
       "\n",
       "#sk-container-id-2 label.sk-toggleable__label-arrow:hover:before {\n",
       "  color: var(--sklearn-color-text);\n",
       "}\n",
       "\n",
       "/* Toggleable content - dropdown */\n",
       "\n",
       "#sk-container-id-2 div.sk-toggleable__content {\n",
       "  max-height: 0;\n",
       "  max-width: 0;\n",
       "  overflow: hidden;\n",
       "  text-align: left;\n",
       "  /* unfitted */\n",
       "  background-color: var(--sklearn-color-unfitted-level-0);\n",
       "}\n",
       "\n",
       "#sk-container-id-2 div.sk-toggleable__content.fitted {\n",
       "  /* fitted */\n",
       "  background-color: var(--sklearn-color-fitted-level-0);\n",
       "}\n",
       "\n",
       "#sk-container-id-2 div.sk-toggleable__content pre {\n",
       "  margin: 0.2em;\n",
       "  border-radius: 0.25em;\n",
       "  color: var(--sklearn-color-text);\n",
       "  /* unfitted */\n",
       "  background-color: var(--sklearn-color-unfitted-level-0);\n",
       "}\n",
       "\n",
       "#sk-container-id-2 div.sk-toggleable__content.fitted pre {\n",
       "  /* unfitted */\n",
       "  background-color: var(--sklearn-color-fitted-level-0);\n",
       "}\n",
       "\n",
       "#sk-container-id-2 input.sk-toggleable__control:checked~div.sk-toggleable__content {\n",
       "  /* Expand drop-down */\n",
       "  max-height: 200px;\n",
       "  max-width: 100%;\n",
       "  overflow: auto;\n",
       "}\n",
       "\n",
       "#sk-container-id-2 input.sk-toggleable__control:checked~label.sk-toggleable__label-arrow:before {\n",
       "  content: \"▾\";\n",
       "}\n",
       "\n",
       "/* Pipeline/ColumnTransformer-specific style */\n",
       "\n",
       "#sk-container-id-2 div.sk-label input.sk-toggleable__control:checked~label.sk-toggleable__label {\n",
       "  color: var(--sklearn-color-text);\n",
       "  background-color: var(--sklearn-color-unfitted-level-2);\n",
       "}\n",
       "\n",
       "#sk-container-id-2 div.sk-label.fitted input.sk-toggleable__control:checked~label.sk-toggleable__label {\n",
       "  background-color: var(--sklearn-color-fitted-level-2);\n",
       "}\n",
       "\n",
       "/* Estimator-specific style */\n",
       "\n",
       "/* Colorize estimator box */\n",
       "#sk-container-id-2 div.sk-estimator input.sk-toggleable__control:checked~label.sk-toggleable__label {\n",
       "  /* unfitted */\n",
       "  background-color: var(--sklearn-color-unfitted-level-2);\n",
       "}\n",
       "\n",
       "#sk-container-id-2 div.sk-estimator.fitted input.sk-toggleable__control:checked~label.sk-toggleable__label {\n",
       "  /* fitted */\n",
       "  background-color: var(--sklearn-color-fitted-level-2);\n",
       "}\n",
       "\n",
       "#sk-container-id-2 div.sk-label label.sk-toggleable__label,\n",
       "#sk-container-id-2 div.sk-label label {\n",
       "  /* The background is the default theme color */\n",
       "  color: var(--sklearn-color-text-on-default-background);\n",
       "}\n",
       "\n",
       "/* On hover, darken the color of the background */\n",
       "#sk-container-id-2 div.sk-label:hover label.sk-toggleable__label {\n",
       "  color: var(--sklearn-color-text);\n",
       "  background-color: var(--sklearn-color-unfitted-level-2);\n",
       "}\n",
       "\n",
       "/* Label box, darken color on hover, fitted */\n",
       "#sk-container-id-2 div.sk-label.fitted:hover label.sk-toggleable__label.fitted {\n",
       "  color: var(--sklearn-color-text);\n",
       "  background-color: var(--sklearn-color-fitted-level-2);\n",
       "}\n",
       "\n",
       "/* Estimator label */\n",
       "\n",
       "#sk-container-id-2 div.sk-label label {\n",
       "  font-family: monospace;\n",
       "  font-weight: bold;\n",
       "  display: inline-block;\n",
       "  line-height: 1.2em;\n",
       "}\n",
       "\n",
       "#sk-container-id-2 div.sk-label-container {\n",
       "  text-align: center;\n",
       "}\n",
       "\n",
       "/* Estimator-specific */\n",
       "#sk-container-id-2 div.sk-estimator {\n",
       "  font-family: monospace;\n",
       "  border: 1px dotted var(--sklearn-color-border-box);\n",
       "  border-radius: 0.25em;\n",
       "  box-sizing: border-box;\n",
       "  margin-bottom: 0.5em;\n",
       "  /* unfitted */\n",
       "  background-color: var(--sklearn-color-unfitted-level-0);\n",
       "}\n",
       "\n",
       "#sk-container-id-2 div.sk-estimator.fitted {\n",
       "  /* fitted */\n",
       "  background-color: var(--sklearn-color-fitted-level-0);\n",
       "}\n",
       "\n",
       "/* on hover */\n",
       "#sk-container-id-2 div.sk-estimator:hover {\n",
       "  /* unfitted */\n",
       "  background-color: var(--sklearn-color-unfitted-level-2);\n",
       "}\n",
       "\n",
       "#sk-container-id-2 div.sk-estimator.fitted:hover {\n",
       "  /* fitted */\n",
       "  background-color: var(--sklearn-color-fitted-level-2);\n",
       "}\n",
       "\n",
       "/* Specification for estimator info (e.g. \"i\" and \"?\") */\n",
       "\n",
       "/* Common style for \"i\" and \"?\" */\n",
       "\n",
       ".sk-estimator-doc-link,\n",
       "a:link.sk-estimator-doc-link,\n",
       "a:visited.sk-estimator-doc-link {\n",
       "  float: right;\n",
       "  font-size: smaller;\n",
       "  line-height: 1em;\n",
       "  font-family: monospace;\n",
       "  background-color: var(--sklearn-color-background);\n",
       "  border-radius: 1em;\n",
       "  height: 1em;\n",
       "  width: 1em;\n",
       "  text-decoration: none !important;\n",
       "  margin-left: 1ex;\n",
       "  /* unfitted */\n",
       "  border: var(--sklearn-color-unfitted-level-1) 1pt solid;\n",
       "  color: var(--sklearn-color-unfitted-level-1);\n",
       "}\n",
       "\n",
       ".sk-estimator-doc-link.fitted,\n",
       "a:link.sk-estimator-doc-link.fitted,\n",
       "a:visited.sk-estimator-doc-link.fitted {\n",
       "  /* fitted */\n",
       "  border: var(--sklearn-color-fitted-level-1) 1pt solid;\n",
       "  color: var(--sklearn-color-fitted-level-1);\n",
       "}\n",
       "\n",
       "/* On hover */\n",
       "div.sk-estimator:hover .sk-estimator-doc-link:hover,\n",
       ".sk-estimator-doc-link:hover,\n",
       "div.sk-label-container:hover .sk-estimator-doc-link:hover,\n",
       ".sk-estimator-doc-link:hover {\n",
       "  /* unfitted */\n",
       "  background-color: var(--sklearn-color-unfitted-level-3);\n",
       "  color: var(--sklearn-color-background);\n",
       "  text-decoration: none;\n",
       "}\n",
       "\n",
       "div.sk-estimator.fitted:hover .sk-estimator-doc-link.fitted:hover,\n",
       ".sk-estimator-doc-link.fitted:hover,\n",
       "div.sk-label-container:hover .sk-estimator-doc-link.fitted:hover,\n",
       ".sk-estimator-doc-link.fitted:hover {\n",
       "  /* fitted */\n",
       "  background-color: var(--sklearn-color-fitted-level-3);\n",
       "  color: var(--sklearn-color-background);\n",
       "  text-decoration: none;\n",
       "}\n",
       "\n",
       "/* Span, style for the box shown on hovering the info icon */\n",
       ".sk-estimator-doc-link span {\n",
       "  display: none;\n",
       "  z-index: 9999;\n",
       "  position: relative;\n",
       "  font-weight: normal;\n",
       "  right: .2ex;\n",
       "  padding: .5ex;\n",
       "  margin: .5ex;\n",
       "  width: min-content;\n",
       "  min-width: 20ex;\n",
       "  max-width: 50ex;\n",
       "  color: var(--sklearn-color-text);\n",
       "  box-shadow: 2pt 2pt 4pt #999;\n",
       "  /* unfitted */\n",
       "  background: var(--sklearn-color-unfitted-level-0);\n",
       "  border: .5pt solid var(--sklearn-color-unfitted-level-3);\n",
       "}\n",
       "\n",
       ".sk-estimator-doc-link.fitted span {\n",
       "  /* fitted */\n",
       "  background: var(--sklearn-color-fitted-level-0);\n",
       "  border: var(--sklearn-color-fitted-level-3);\n",
       "}\n",
       "\n",
       ".sk-estimator-doc-link:hover span {\n",
       "  display: block;\n",
       "}\n",
       "\n",
       "/* \"?\"-specific style due to the `<a>` HTML tag */\n",
       "\n",
       "#sk-container-id-2 a.estimator_doc_link {\n",
       "  float: right;\n",
       "  font-size: 1rem;\n",
       "  line-height: 1em;\n",
       "  font-family: monospace;\n",
       "  background-color: var(--sklearn-color-background);\n",
       "  border-radius: 1rem;\n",
       "  height: 1rem;\n",
       "  width: 1rem;\n",
       "  text-decoration: none;\n",
       "  /* unfitted */\n",
       "  color: var(--sklearn-color-unfitted-level-1);\n",
       "  border: var(--sklearn-color-unfitted-level-1) 1pt solid;\n",
       "}\n",
       "\n",
       "#sk-container-id-2 a.estimator_doc_link.fitted {\n",
       "  /* fitted */\n",
       "  border: var(--sklearn-color-fitted-level-1) 1pt solid;\n",
       "  color: var(--sklearn-color-fitted-level-1);\n",
       "}\n",
       "\n",
       "/* On hover */\n",
       "#sk-container-id-2 a.estimator_doc_link:hover {\n",
       "  /* unfitted */\n",
       "  background-color: var(--sklearn-color-unfitted-level-3);\n",
       "  color: var(--sklearn-color-background);\n",
       "  text-decoration: none;\n",
       "}\n",
       "\n",
       "#sk-container-id-2 a.estimator_doc_link.fitted:hover {\n",
       "  /* fitted */\n",
       "  background-color: var(--sklearn-color-fitted-level-3);\n",
       "}\n",
       "</style><div id=\"sk-container-id-2\" class=\"sk-top-container\"><div class=\"sk-text-repr-fallback\"><pre>LinearRegression()</pre><b>In a Jupyter environment, please rerun this cell to show the HTML representation or trust the notebook. <br />On GitHub, the HTML representation is unable to render, please try loading this page with nbviewer.org.</b></div><div class=\"sk-container\" hidden><div class=\"sk-item\"><div class=\"sk-estimator fitted sk-toggleable\"><input class=\"sk-toggleable__control sk-hidden--visually\" id=\"sk-estimator-id-2\" type=\"checkbox\" checked><label for=\"sk-estimator-id-2\" class=\"sk-toggleable__label fitted sk-toggleable__label-arrow fitted\">&nbsp;&nbsp;LinearRegression<a class=\"sk-estimator-doc-link fitted\" rel=\"noreferrer\" target=\"_blank\" href=\"https://scikit-learn.org/1.4/modules/generated/sklearn.linear_model.LinearRegression.html\">?<span>Documentation for LinearRegression</span></a><span class=\"sk-estimator-doc-link fitted\">i<span>Fitted</span></span></label><div class=\"sk-toggleable__content fitted\"><pre>LinearRegression()</pre></div> </div></div></div></div>"
      ],
      "text/plain": [
       "LinearRegression()"
      ]
     },
     "execution_count": 19,
     "metadata": {},
     "output_type": "execute_result"
    }
   ],
   "source": [
    "linear_model = LinearRegression()\n",
    "linear_model.fit(X_train, y_train)"
   ]
  },
  {
   "cell_type": "markdown",
   "metadata": {},
   "source": [
    "Протестируем модель линейной регрессии на валидационной выборке"
   ]
  },
  {
   "cell_type": "code",
   "execution_count": 20,
   "metadata": {},
   "outputs": [
    {
     "data": {
      "text/html": [
       "<div>\n",
       "<style scoped>\n",
       "    .dataframe tbody tr th:only-of-type {\n",
       "        vertical-align: middle;\n",
       "    }\n",
       "\n",
       "    .dataframe tbody tr th {\n",
       "        vertical-align: top;\n",
       "    }\n",
       "\n",
       "    .dataframe thead th {\n",
       "        text-align: right;\n",
       "    }\n",
       "</style>\n",
       "<table border=\"1\" class=\"dataframe\">\n",
       "  <thead>\n",
       "    <tr style=\"text-align: right;\">\n",
       "      <th></th>\n",
       "      <th>RMSE</th>\n",
       "    </tr>\n",
       "  </thead>\n",
       "  <tbody>\n",
       "    <tr>\n",
       "      <th>DummyRegressor</th>\n",
       "      <td>60.26</td>\n",
       "    </tr>\n",
       "    <tr>\n",
       "      <th>LinearRegression</th>\n",
       "      <td>30.49</td>\n",
       "    </tr>\n",
       "  </tbody>\n",
       "</table>\n",
       "</div>"
      ],
      "text/plain": [
       "                  RMSE\n",
       "DummyRegressor   60.26\n",
       "LinearRegression 30.49"
      ]
     },
     "execution_count": 20,
     "metadata": {},
     "output_type": "execute_result"
    }
   ],
   "source": [
    "valid_results.loc['LinearRegression'] = root_mean_squared_error(y_valid, linear_model.predict(X_valid))\n",
    "valid_results"
   ]
  },
  {
   "cell_type": "markdown",
   "metadata": {},
   "source": [
    "### Смоделируем несколько моделей с перебором гиперпараметров:\n",
    "Будем использовать следующие модели:\n",
    "- `DecisionTreeRegressor`\n",
    "- `RandomForestRegressor`"
   ]
  },
  {
   "cell_type": "code",
   "execution_count": 21,
   "metadata": {},
   "outputs": [
    {
     "name": "stderr",
     "output_type": "stream",
     "text": [
      "[I 2024-07-06 16:37:03,877] A new study created in memory with name: no-name-e2aead2b-95d6-4872-9afb-c47ff2017a1a\n",
      "[I 2024-07-06 16:37:03,890] Trial 0 finished with value: 33.59525545087417 and parameters: {'regressor': 'DecisionTreeRegressor', 'decision_tree_regressor__max_depth': 4, 'decision_tree_regressor__min_samples_split': 64}. Best is trial 0 with value: 33.59525545087417.\n",
      "[I 2024-07-06 16:37:03,922] Trial 1 finished with value: 42.31722481850469 and parameters: {'regressor': 'DecisionTreeRegressor', 'decision_tree_regressor__max_depth': 32, 'decision_tree_regressor__min_samples_split': 4}. Best is trial 0 with value: 33.59525545087417.\n",
      "[I 2024-07-06 16:37:03,936] Trial 2 finished with value: 33.59525545087417 and parameters: {'regressor': 'DecisionTreeRegressor', 'decision_tree_regressor__max_depth': 4, 'decision_tree_regressor__min_samples_split': 16}. Best is trial 0 with value: 33.59525545087417.\n",
      "[I 2024-07-06 16:37:04,608] Trial 3 finished with value: 33.05550831591212 and parameters: {'regressor': 'RandomForestRegressor', 'random_forest_regressor__max_depth': 4, 'random_forest_regressor__min_samples_split': 64, 'random_forest_regressor__max_leaf_nodes': 16}. Best is trial 3 with value: 33.05550831591212.\n",
      "[I 2024-07-06 16:37:04,630] Trial 4 finished with value: 32.85931798884843 and parameters: {'regressor': 'DecisionTreeRegressor', 'decision_tree_regressor__max_depth': 64, 'decision_tree_regressor__min_samples_split': 64}. Best is trial 4 with value: 32.85931798884843.\n",
      "[I 2024-07-06 16:37:05,550] Trial 5 finished with value: 31.256760224684577 and parameters: {'regressor': 'RandomForestRegressor', 'random_forest_regressor__max_depth': 64, 'random_forest_regressor__min_samples_split': 32, 'random_forest_regressor__max_leaf_nodes': 32}. Best is trial 5 with value: 31.256760224684577.\n",
      "[I 2024-07-06 16:37:06,202] Trial 6 finished with value: 34.505052584060074 and parameters: {'regressor': 'RandomForestRegressor', 'random_forest_regressor__max_depth': 32, 'random_forest_regressor__min_samples_split': 4, 'random_forest_regressor__max_leaf_nodes': 8}. Best is trial 5 with value: 31.256760224684577.\n",
      "[I 2024-07-06 16:37:06,225] Trial 7 finished with value: 36.434556328170075 and parameters: {'regressor': 'DecisionTreeRegressor', 'decision_tree_regressor__max_depth': 16, 'decision_tree_regressor__min_samples_split': 32}. Best is trial 5 with value: 31.256760224684577.\n",
      "[I 2024-07-06 16:37:06,259] Trial 8 finished with value: 42.464379536403975 and parameters: {'regressor': 'DecisionTreeRegressor', 'decision_tree_regressor__max_depth': 32, 'decision_tree_regressor__min_samples_split': 2}. Best is trial 5 with value: 31.256760224684577.\n",
      "[I 2024-07-06 16:37:06,282] Trial 9 finished with value: 35.7149641354924 and parameters: {'regressor': 'DecisionTreeRegressor', 'decision_tree_regressor__max_depth': 8, 'decision_tree_regressor__min_samples_split': 4}. Best is trial 5 with value: 31.256760224684577.\n",
      "[I 2024-07-06 16:37:07,208] Trial 10 finished with value: 31.256760224684577 and parameters: {'regressor': 'RandomForestRegressor', 'random_forest_regressor__max_depth': 64, 'random_forest_regressor__min_samples_split': 32, 'random_forest_regressor__max_leaf_nodes': 32}. Best is trial 5 with value: 31.256760224684577.\n",
      "[I 2024-07-06 16:37:08,129] Trial 11 finished with value: 31.256760224684577 and parameters: {'regressor': 'RandomForestRegressor', 'random_forest_regressor__max_depth': 64, 'random_forest_regressor__min_samples_split': 32, 'random_forest_regressor__max_leaf_nodes': 32}. Best is trial 5 with value: 31.256760224684577.\n",
      "[I 2024-07-06 16:37:09,060] Trial 12 finished with value: 31.256760224684577 and parameters: {'regressor': 'RandomForestRegressor', 'random_forest_regressor__max_depth': 64, 'random_forest_regressor__min_samples_split': 32, 'random_forest_regressor__max_leaf_nodes': 32}. Best is trial 5 with value: 31.256760224684577.\n",
      "[I 2024-07-06 16:37:09,413] Trial 13 finished with value: 44.95327600265522 and parameters: {'regressor': 'RandomForestRegressor', 'random_forest_regressor__max_depth': 16, 'random_forest_regressor__min_samples_split': 16, 'random_forest_regressor__max_leaf_nodes': 2}. Best is trial 5 with value: 31.256760224684577.\n",
      "[I 2024-07-06 16:37:09,770] Trial 14 finished with value: 37.92927326389063 and parameters: {'regressor': 'RandomForestRegressor', 'random_forest_regressor__max_depth': 2, 'random_forest_regressor__min_samples_split': 32, 'random_forest_regressor__max_leaf_nodes': 32}. Best is trial 5 with value: 31.256760224684577.\n",
      "[I 2024-07-06 16:37:10,875] Trial 15 finished with value: 31.21782267846839 and parameters: {'regressor': 'RandomForestRegressor', 'random_forest_regressor__max_depth': 64, 'random_forest_regressor__min_samples_split': 2, 'random_forest_regressor__max_leaf_nodes': 64}. Best is trial 15 with value: 31.21782267846839.\n",
      "[I 2024-07-06 16:37:11,935] Trial 16 finished with value: 31.142183258284415 and parameters: {'regressor': 'RandomForestRegressor', 'random_forest_regressor__max_depth': 8, 'random_forest_regressor__min_samples_split': 2, 'random_forest_regressor__max_leaf_nodes': 64}. Best is trial 16 with value: 31.142183258284415.\n",
      "[I 2024-07-06 16:37:12,982] Trial 17 finished with value: 31.142183258284415 and parameters: {'regressor': 'RandomForestRegressor', 'random_forest_regressor__max_depth': 8, 'random_forest_regressor__min_samples_split': 2, 'random_forest_regressor__max_leaf_nodes': 64}. Best is trial 16 with value: 31.142183258284415.\n",
      "[I 2024-07-06 16:37:14,038] Trial 18 finished with value: 31.142183258284415 and parameters: {'regressor': 'RandomForestRegressor', 'random_forest_regressor__max_depth': 8, 'random_forest_regressor__min_samples_split': 2, 'random_forest_regressor__max_leaf_nodes': 64}. Best is trial 16 with value: 31.142183258284415.\n",
      "[I 2024-07-06 16:37:15,119] Trial 19 finished with value: 31.142183258284415 and parameters: {'regressor': 'RandomForestRegressor', 'random_forest_regressor__max_depth': 8, 'random_forest_regressor__min_samples_split': 2, 'random_forest_regressor__max_leaf_nodes': 64}. Best is trial 16 with value: 31.142183258284415.\n",
      "[I 2024-07-06 16:37:15,621] Trial 20 finished with value: 37.92927326389063 and parameters: {'regressor': 'RandomForestRegressor', 'random_forest_regressor__max_depth': 8, 'random_forest_regressor__min_samples_split': 8, 'random_forest_regressor__max_leaf_nodes': 4}. Best is trial 16 with value: 31.142183258284415.\n",
      "[I 2024-07-06 16:37:17,039] Trial 21 finished with value: 31.142183258284415 and parameters: {'regressor': 'RandomForestRegressor', 'random_forest_regressor__max_depth': 8, 'random_forest_regressor__min_samples_split': 2, 'random_forest_regressor__max_leaf_nodes': 64}. Best is trial 16 with value: 31.142183258284415.\n",
      "[I 2024-07-06 16:37:18,109] Trial 22 finished with value: 31.142183258284415 and parameters: {'regressor': 'RandomForestRegressor', 'random_forest_regressor__max_depth': 8, 'random_forest_regressor__min_samples_split': 2, 'random_forest_regressor__max_leaf_nodes': 64}. Best is trial 16 with value: 31.142183258284415.\n",
      "[I 2024-07-06 16:37:19,183] Trial 23 finished with value: 31.142183258284415 and parameters: {'regressor': 'RandomForestRegressor', 'random_forest_regressor__max_depth': 8, 'random_forest_regressor__min_samples_split': 2, 'random_forest_regressor__max_leaf_nodes': 64}. Best is trial 16 with value: 31.142183258284415.\n",
      "[I 2024-07-06 16:37:20,256] Trial 24 finished with value: 31.142183258284415 and parameters: {'regressor': 'RandomForestRegressor', 'random_forest_regressor__max_depth': 8, 'random_forest_regressor__min_samples_split': 2, 'random_forest_regressor__max_leaf_nodes': 64}. Best is trial 16 with value: 31.142183258284415.\n",
      "[I 2024-07-06 16:37:21,339] Trial 25 finished with value: 31.142183258284415 and parameters: {'regressor': 'RandomForestRegressor', 'random_forest_regressor__max_depth': 8, 'random_forest_regressor__min_samples_split': 2, 'random_forest_regressor__max_leaf_nodes': 64}. Best is trial 16 with value: 31.142183258284415.\n",
      "[I 2024-07-06 16:37:21,718] Trial 26 finished with value: 44.95327600265522 and parameters: {'regressor': 'RandomForestRegressor', 'random_forest_regressor__max_depth': 4, 'random_forest_regressor__min_samples_split': 8, 'random_forest_regressor__max_leaf_nodes': 2}. Best is trial 16 with value: 31.142183258284415.\n",
      "[I 2024-07-06 16:37:22,361] Trial 27 finished with value: 34.505052584060074 and parameters: {'regressor': 'RandomForestRegressor', 'random_forest_regressor__max_depth': 32, 'random_forest_regressor__min_samples_split': 16, 'random_forest_regressor__max_leaf_nodes': 8}. Best is trial 16 with value: 31.142183258284415.\n",
      "[I 2024-07-06 16:37:23,177] Trial 28 finished with value: 32.33858566139495 and parameters: {'regressor': 'RandomForestRegressor', 'random_forest_regressor__max_depth': 16, 'random_forest_regressor__min_samples_split': 4, 'random_forest_regressor__max_leaf_nodes': 16}. Best is trial 16 with value: 31.142183258284415.\n",
      "[I 2024-07-06 16:37:23,537] Trial 29 finished with value: 37.92927326389063 and parameters: {'regressor': 'RandomForestRegressor', 'random_forest_regressor__max_depth': 2, 'random_forest_regressor__min_samples_split': 64, 'random_forest_regressor__max_leaf_nodes': 4}. Best is trial 16 with value: 31.142183258284415.\n",
      "[I 2024-07-06 16:37:24,688] Trial 30 finished with value: 31.142183258284415 and parameters: {'regressor': 'RandomForestRegressor', 'random_forest_regressor__max_depth': 8, 'random_forest_regressor__min_samples_split': 2, 'random_forest_regressor__max_leaf_nodes': 64}. Best is trial 16 with value: 31.142183258284415.\n",
      "[I 2024-07-06 16:37:25,796] Trial 31 finished with value: 31.142183258284415 and parameters: {'regressor': 'RandomForestRegressor', 'random_forest_regressor__max_depth': 8, 'random_forest_regressor__min_samples_split': 2, 'random_forest_regressor__max_leaf_nodes': 64}. Best is trial 16 with value: 31.142183258284415.\n",
      "[I 2024-07-06 16:37:26,939] Trial 32 finished with value: 31.142183258284415 and parameters: {'regressor': 'RandomForestRegressor', 'random_forest_regressor__max_depth': 8, 'random_forest_regressor__min_samples_split': 2, 'random_forest_regressor__max_leaf_nodes': 64}. Best is trial 16 with value: 31.142183258284415.\n",
      "[I 2024-07-06 16:37:28,059] Trial 33 finished with value: 31.142183258284415 and parameters: {'regressor': 'RandomForestRegressor', 'random_forest_regressor__max_depth': 8, 'random_forest_regressor__min_samples_split': 2, 'random_forest_regressor__max_leaf_nodes': 64}. Best is trial 16 with value: 31.142183258284415.\n",
      "[I 2024-07-06 16:37:28,070] Trial 34 finished with value: 38.085780785778375 and parameters: {'regressor': 'DecisionTreeRegressor', 'decision_tree_regressor__max_depth': 2, 'decision_tree_regressor__min_samples_split': 8}. Best is trial 16 with value: 31.142183258284415.\n",
      "[I 2024-07-06 16:37:29,197] Trial 35 finished with value: 31.142183258284415 and parameters: {'regressor': 'RandomForestRegressor', 'random_forest_regressor__max_depth': 8, 'random_forest_regressor__min_samples_split': 2, 'random_forest_regressor__max_leaf_nodes': 64}. Best is trial 16 with value: 31.142183258284415.\n",
      "[I 2024-07-06 16:37:29,241] Trial 36 finished with value: 42.464379536403975 and parameters: {'regressor': 'DecisionTreeRegressor', 'decision_tree_regressor__max_depth': 64, 'decision_tree_regressor__min_samples_split': 2}. Best is trial 16 with value: 31.142183258284415.\n",
      "[I 2024-07-06 16:37:30,331] Trial 37 finished with value: 31.142183258284415 and parameters: {'regressor': 'RandomForestRegressor', 'random_forest_regressor__max_depth': 8, 'random_forest_regressor__min_samples_split': 2, 'random_forest_regressor__max_leaf_nodes': 64}. Best is trial 16 with value: 31.142183258284415.\n",
      "[I 2024-07-06 16:37:31,433] Trial 38 finished with value: 31.142183258284415 and parameters: {'regressor': 'RandomForestRegressor', 'random_forest_regressor__max_depth': 8, 'random_forest_regressor__min_samples_split': 2, 'random_forest_regressor__max_leaf_nodes': 64}. Best is trial 16 with value: 31.142183258284415.\n",
      "[I 2024-07-06 16:37:31,464] Trial 39 finished with value: 41.35096702040646 and parameters: {'regressor': 'DecisionTreeRegressor', 'decision_tree_regressor__max_depth': 16, 'decision_tree_regressor__min_samples_split': 8}. Best is trial 16 with value: 31.142183258284415.\n",
      "[I 2024-07-06 16:37:32,104] Trial 40 finished with value: 33.05550831591212 and parameters: {'regressor': 'RandomForestRegressor', 'random_forest_regressor__max_depth': 4, 'random_forest_regressor__min_samples_split': 64, 'random_forest_regressor__max_leaf_nodes': 16}. Best is trial 16 with value: 31.142183258284415.\n",
      "[I 2024-07-06 16:37:33,223] Trial 41 finished with value: 31.142183258284415 and parameters: {'regressor': 'RandomForestRegressor', 'random_forest_regressor__max_depth': 8, 'random_forest_regressor__min_samples_split': 2, 'random_forest_regressor__max_leaf_nodes': 64}. Best is trial 16 with value: 31.142183258284415.\n",
      "[I 2024-07-06 16:37:34,315] Trial 42 finished with value: 31.142183258284415 and parameters: {'regressor': 'RandomForestRegressor', 'random_forest_regressor__max_depth': 8, 'random_forest_regressor__min_samples_split': 2, 'random_forest_regressor__max_leaf_nodes': 64}. Best is trial 16 with value: 31.142183258284415.\n",
      "[I 2024-07-06 16:37:35,431] Trial 43 finished with value: 31.142183258284415 and parameters: {'regressor': 'RandomForestRegressor', 'random_forest_regressor__max_depth': 8, 'random_forest_regressor__min_samples_split': 2, 'random_forest_regressor__max_leaf_nodes': 64}. Best is trial 16 with value: 31.142183258284415.\n",
      "[I 2024-07-06 16:37:36,108] Trial 44 finished with value: 34.505052584060074 and parameters: {'regressor': 'RandomForestRegressor', 'random_forest_regressor__max_depth': 32, 'random_forest_regressor__min_samples_split': 4, 'random_forest_regressor__max_leaf_nodes': 8}. Best is trial 16 with value: 31.142183258284415.\n",
      "[I 2024-07-06 16:37:37,227] Trial 45 finished with value: 31.142183258284415 and parameters: {'regressor': 'RandomForestRegressor', 'random_forest_regressor__max_depth': 8, 'random_forest_regressor__min_samples_split': 2, 'random_forest_regressor__max_leaf_nodes': 64}. Best is trial 16 with value: 31.142183258284415.\n",
      "[I 2024-07-06 16:37:37,239] Trial 46 finished with value: 38.085780785778375 and parameters: {'regressor': 'DecisionTreeRegressor', 'decision_tree_regressor__max_depth': 2, 'decision_tree_regressor__min_samples_split': 16}. Best is trial 16 with value: 31.142183258284415.\n",
      "[I 2024-07-06 16:37:37,763] Trial 47 finished with value: 37.92927326389063 and parameters: {'regressor': 'RandomForestRegressor', 'random_forest_regressor__max_depth': 16, 'random_forest_regressor__min_samples_split': 16, 'random_forest_regressor__max_leaf_nodes': 4}. Best is trial 16 with value: 31.142183258284415.\n",
      "[I 2024-07-06 16:37:38,139] Trial 48 finished with value: 44.95327600265522 and parameters: {'regressor': 'RandomForestRegressor', 'random_forest_regressor__max_depth': 2, 'random_forest_regressor__min_samples_split': 8, 'random_forest_regressor__max_leaf_nodes': 2}. Best is trial 16 with value: 31.142183258284415.\n",
      "[I 2024-07-06 16:37:38,780] Trial 49 finished with value: 33.05550831591212 and parameters: {'regressor': 'RandomForestRegressor', 'random_forest_regressor__max_depth': 4, 'random_forest_regressor__min_samples_split': 64, 'random_forest_regressor__max_leaf_nodes': 64}. Best is trial 16 with value: 31.142183258284415.\n",
      "[I 2024-07-06 16:37:38,806] Trial 50 finished with value: 34.02043441097729 and parameters: {'regressor': 'DecisionTreeRegressor', 'decision_tree_regressor__max_depth': 8, 'decision_tree_regressor__min_samples_split': 32}. Best is trial 16 with value: 31.142183258284415.\n",
      "[I 2024-07-06 16:37:39,935] Trial 51 finished with value: 31.142183258284415 and parameters: {'regressor': 'RandomForestRegressor', 'random_forest_regressor__max_depth': 8, 'random_forest_regressor__min_samples_split': 2, 'random_forest_regressor__max_leaf_nodes': 64}. Best is trial 16 with value: 31.142183258284415.\n",
      "[I 2024-07-06 16:37:41,012] Trial 52 finished with value: 31.142183258284415 and parameters: {'regressor': 'RandomForestRegressor', 'random_forest_regressor__max_depth': 8, 'random_forest_regressor__min_samples_split': 2, 'random_forest_regressor__max_leaf_nodes': 64}. Best is trial 16 with value: 31.142183258284415.\n",
      "[I 2024-07-06 16:37:41,849] Trial 53 finished with value: 32.338451495124275 and parameters: {'regressor': 'RandomForestRegressor', 'random_forest_regressor__max_depth': 8, 'random_forest_regressor__min_samples_split': 2, 'random_forest_regressor__max_leaf_nodes': 16}. Best is trial 16 with value: 31.142183258284415.\n",
      "[I 2024-07-06 16:37:42,938] Trial 54 finished with value: 31.142183258284415 and parameters: {'regressor': 'RandomForestRegressor', 'random_forest_regressor__max_depth': 8, 'random_forest_regressor__min_samples_split': 2, 'random_forest_regressor__max_leaf_nodes': 64}. Best is trial 16 with value: 31.142183258284415.\n",
      "[I 2024-07-06 16:37:43,889] Trial 55 finished with value: 31.256760224684577 and parameters: {'regressor': 'RandomForestRegressor', 'random_forest_regressor__max_depth': 64, 'random_forest_regressor__min_samples_split': 32, 'random_forest_regressor__max_leaf_nodes': 32}. Best is trial 16 with value: 31.142183258284415.\n",
      "[I 2024-07-06 16:37:44,986] Trial 56 finished with value: 31.142183258284415 and parameters: {'regressor': 'RandomForestRegressor', 'random_forest_regressor__max_depth': 8, 'random_forest_regressor__min_samples_split': 2, 'random_forest_regressor__max_leaf_nodes': 64}. Best is trial 16 with value: 31.142183258284415.\n",
      "[I 2024-07-06 16:37:45,695] Trial 57 finished with value: 34.505052584060074 and parameters: {'regressor': 'RandomForestRegressor', 'random_forest_regressor__max_depth': 8, 'random_forest_regressor__min_samples_split': 4, 'random_forest_regressor__max_leaf_nodes': 8}. Best is trial 16 with value: 31.142183258284415.\n",
      "[I 2024-07-06 16:37:46,857] Trial 58 finished with value: 31.21782267846839 and parameters: {'regressor': 'RandomForestRegressor', 'random_forest_regressor__max_depth': 32, 'random_forest_regressor__min_samples_split': 2, 'random_forest_regressor__max_leaf_nodes': 64}. Best is trial 16 with value: 31.142183258284415.\n",
      "[I 2024-07-06 16:37:47,268] Trial 59 finished with value: 44.95327600265522 and parameters: {'regressor': 'RandomForestRegressor', 'random_forest_regressor__max_depth': 8, 'random_forest_regressor__min_samples_split': 16, 'random_forest_regressor__max_leaf_nodes': 2}. Best is trial 16 with value: 31.142183258284415.\n",
      "[I 2024-07-06 16:37:48,220] Trial 60 finished with value: 31.256760224684577 and parameters: {'regressor': 'RandomForestRegressor', 'random_forest_regressor__max_depth': 16, 'random_forest_regressor__min_samples_split': 32, 'random_forest_regressor__max_leaf_nodes': 32}. Best is trial 16 with value: 31.142183258284415.\n",
      "[I 2024-07-06 16:37:49,323] Trial 61 finished with value: 31.142183258284415 and parameters: {'regressor': 'RandomForestRegressor', 'random_forest_regressor__max_depth': 8, 'random_forest_regressor__min_samples_split': 2, 'random_forest_regressor__max_leaf_nodes': 64}. Best is trial 16 with value: 31.142183258284415.\n",
      "[I 2024-07-06 16:37:50,428] Trial 62 finished with value: 31.142183258284415 and parameters: {'regressor': 'RandomForestRegressor', 'random_forest_regressor__max_depth': 8, 'random_forest_regressor__min_samples_split': 2, 'random_forest_regressor__max_leaf_nodes': 64}. Best is trial 16 with value: 31.142183258284415.\n",
      "[I 2024-07-06 16:37:50,791] Trial 63 finished with value: 37.92927326389063 and parameters: {'regressor': 'RandomForestRegressor', 'random_forest_regressor__max_depth': 2, 'random_forest_regressor__min_samples_split': 2, 'random_forest_regressor__max_leaf_nodes': 64}. Best is trial 16 with value: 31.142183258284415.\n",
      "[I 2024-07-06 16:37:51,920] Trial 64 finished with value: 31.08281845691941 and parameters: {'regressor': 'RandomForestRegressor', 'random_forest_regressor__max_depth': 8, 'random_forest_regressor__min_samples_split': 8, 'random_forest_regressor__max_leaf_nodes': 64}. Best is trial 64 with value: 31.08281845691941.\n",
      "[I 2024-07-06 16:37:52,435] Trial 65 finished with value: 37.92927326389063 and parameters: {'regressor': 'RandomForestRegressor', 'random_forest_regressor__max_depth': 64, 'random_forest_regressor__min_samples_split': 8, 'random_forest_regressor__max_leaf_nodes': 4}. Best is trial 64 with value: 31.08281845691941.\n",
      "[I 2024-07-06 16:37:53,548] Trial 66 finished with value: 31.08281845691941 and parameters: {'regressor': 'RandomForestRegressor', 'random_forest_regressor__max_depth': 8, 'random_forest_regressor__min_samples_split': 8, 'random_forest_regressor__max_leaf_nodes': 64}. Best is trial 64 with value: 31.08281845691941.\n",
      "[I 2024-07-06 16:37:54,662] Trial 67 finished with value: 31.08281845691941 and parameters: {'regressor': 'RandomForestRegressor', 'random_forest_regressor__max_depth': 8, 'random_forest_regressor__min_samples_split': 8, 'random_forest_regressor__max_leaf_nodes': 64}. Best is trial 64 with value: 31.08281845691941.\n",
      "[I 2024-07-06 16:37:55,777] Trial 68 finished with value: 31.08281845691941 and parameters: {'regressor': 'RandomForestRegressor', 'random_forest_regressor__max_depth': 8, 'random_forest_regressor__min_samples_split': 8, 'random_forest_regressor__max_leaf_nodes': 64}. Best is trial 64 with value: 31.08281845691941.\n",
      "[I 2024-07-06 16:37:56,889] Trial 69 finished with value: 31.08281845691941 and parameters: {'regressor': 'RandomForestRegressor', 'random_forest_regressor__max_depth': 8, 'random_forest_regressor__min_samples_split': 8, 'random_forest_regressor__max_leaf_nodes': 64}. Best is trial 64 with value: 31.08281845691941.\n",
      "[I 2024-07-06 16:37:56,911] Trial 70 finished with value: 34.02043441097729 and parameters: {'regressor': 'DecisionTreeRegressor', 'decision_tree_regressor__max_depth': 8, 'decision_tree_regressor__min_samples_split': 32}. Best is trial 64 with value: 31.08281845691941.\n",
      "[I 2024-07-06 16:37:58,042] Trial 71 finished with value: 31.08281845691941 and parameters: {'regressor': 'RandomForestRegressor', 'random_forest_regressor__max_depth': 8, 'random_forest_regressor__min_samples_split': 8, 'random_forest_regressor__max_leaf_nodes': 64}. Best is trial 64 with value: 31.08281845691941.\n",
      "[I 2024-07-06 16:37:59,137] Trial 72 finished with value: 31.08281845691941 and parameters: {'regressor': 'RandomForestRegressor', 'random_forest_regressor__max_depth': 8, 'random_forest_regressor__min_samples_split': 8, 'random_forest_regressor__max_leaf_nodes': 64}. Best is trial 64 with value: 31.08281845691941.\n",
      "[I 2024-07-06 16:38:00,239] Trial 73 finished with value: 31.08281845691941 and parameters: {'regressor': 'RandomForestRegressor', 'random_forest_regressor__max_depth': 8, 'random_forest_regressor__min_samples_split': 8, 'random_forest_regressor__max_leaf_nodes': 64}. Best is trial 64 with value: 31.08281845691941.\n",
      "[I 2024-07-06 16:38:01,351] Trial 74 finished with value: 31.08281845691941 and parameters: {'regressor': 'RandomForestRegressor', 'random_forest_regressor__max_depth': 8, 'random_forest_regressor__min_samples_split': 8, 'random_forest_regressor__max_leaf_nodes': 64}. Best is trial 64 with value: 31.08281845691941.\n",
      "[I 2024-07-06 16:38:02,426] Trial 75 finished with value: 31.08281845691941 and parameters: {'regressor': 'RandomForestRegressor', 'random_forest_regressor__max_depth': 8, 'random_forest_regressor__min_samples_split': 8, 'random_forest_regressor__max_leaf_nodes': 64}. Best is trial 64 with value: 31.08281845691941.\n",
      "[I 2024-07-06 16:38:03,513] Trial 76 finished with value: 31.08281845691941 and parameters: {'regressor': 'RandomForestRegressor', 'random_forest_regressor__max_depth': 8, 'random_forest_regressor__min_samples_split': 8, 'random_forest_regressor__max_leaf_nodes': 64}. Best is trial 64 with value: 31.08281845691941.\n",
      "[I 2024-07-06 16:38:04,621] Trial 77 finished with value: 31.08281845691941 and parameters: {'regressor': 'RandomForestRegressor', 'random_forest_regressor__max_depth': 8, 'random_forest_regressor__min_samples_split': 8, 'random_forest_regressor__max_leaf_nodes': 64}. Best is trial 64 with value: 31.08281845691941.\n",
      "[I 2024-07-06 16:38:05,283] Trial 78 finished with value: 32.97114716236413 and parameters: {'regressor': 'RandomForestRegressor', 'random_forest_regressor__max_depth': 4, 'random_forest_regressor__min_samples_split': 8, 'random_forest_regressor__max_leaf_nodes': 64}. Best is trial 64 with value: 31.08281845691941.\n",
      "[I 2024-07-06 16:38:06,078] Trial 79 finished with value: 32.32510277662309 and parameters: {'regressor': 'RandomForestRegressor', 'random_forest_regressor__max_depth': 8, 'random_forest_regressor__min_samples_split': 8, 'random_forest_regressor__max_leaf_nodes': 16}. Best is trial 64 with value: 31.08281845691941.\n",
      "[I 2024-07-06 16:38:07,026] Trial 80 finished with value: 31.34646559161625 and parameters: {'regressor': 'RandomForestRegressor', 'random_forest_regressor__max_depth': 32, 'random_forest_regressor__min_samples_split': 8, 'random_forest_regressor__max_leaf_nodes': 32}. Best is trial 64 with value: 31.08281845691941.\n",
      "[I 2024-07-06 16:38:08,132] Trial 81 finished with value: 31.08281845691941 and parameters: {'regressor': 'RandomForestRegressor', 'random_forest_regressor__max_depth': 8, 'random_forest_regressor__min_samples_split': 8, 'random_forest_regressor__max_leaf_nodes': 64}. Best is trial 64 with value: 31.08281845691941.\n",
      "[I 2024-07-06 16:38:09,206] Trial 82 finished with value: 31.08281845691941 and parameters: {'regressor': 'RandomForestRegressor', 'random_forest_regressor__max_depth': 8, 'random_forest_regressor__min_samples_split': 8, 'random_forest_regressor__max_leaf_nodes': 64}. Best is trial 64 with value: 31.08281845691941.\n",
      "[I 2024-07-06 16:38:10,295] Trial 83 finished with value: 31.08281845691941 and parameters: {'regressor': 'RandomForestRegressor', 'random_forest_regressor__max_depth': 8, 'random_forest_regressor__min_samples_split': 8, 'random_forest_regressor__max_leaf_nodes': 64}. Best is trial 64 with value: 31.08281845691941.\n",
      "[I 2024-07-06 16:38:11,407] Trial 84 finished with value: 31.08281845691941 and parameters: {'regressor': 'RandomForestRegressor', 'random_forest_regressor__max_depth': 8, 'random_forest_regressor__min_samples_split': 8, 'random_forest_regressor__max_leaf_nodes': 64}. Best is trial 64 with value: 31.08281845691941.\n",
      "[I 2024-07-06 16:38:12,063] Trial 85 finished with value: 34.505052584060074 and parameters: {'regressor': 'RandomForestRegressor', 'random_forest_regressor__max_depth': 8, 'random_forest_regressor__min_samples_split': 8, 'random_forest_regressor__max_leaf_nodes': 8}. Best is trial 64 with value: 31.08281845691941.\n",
      "[I 2024-07-06 16:38:13,163] Trial 86 finished with value: 31.13335433993397 and parameters: {'regressor': 'RandomForestRegressor', 'random_forest_regressor__max_depth': 64, 'random_forest_regressor__min_samples_split': 8, 'random_forest_regressor__max_leaf_nodes': 64}. Best is trial 64 with value: 31.08281845691941.\n",
      "[I 2024-07-06 16:38:13,532] Trial 87 finished with value: 44.95327600265522 and parameters: {'regressor': 'RandomForestRegressor', 'random_forest_regressor__max_depth': 8, 'random_forest_regressor__min_samples_split': 8, 'random_forest_regressor__max_leaf_nodes': 2}. Best is trial 64 with value: 31.08281845691941.\n",
      "[I 2024-07-06 16:38:13,561] Trial 88 finished with value: 41.35096702040646 and parameters: {'regressor': 'DecisionTreeRegressor', 'decision_tree_regressor__max_depth': 16, 'decision_tree_regressor__min_samples_split': 8}. Best is trial 64 with value: 31.08281845691941.\n",
      "[I 2024-07-06 16:38:14,691] Trial 89 finished with value: 31.13335433993397 and parameters: {'regressor': 'RandomForestRegressor', 'random_forest_regressor__max_depth': 16, 'random_forest_regressor__min_samples_split': 8, 'random_forest_regressor__max_leaf_nodes': 64}. Best is trial 64 with value: 31.08281845691941.\n",
      "[I 2024-07-06 16:38:15,208] Trial 90 finished with value: 37.92927326389063 and parameters: {'regressor': 'RandomForestRegressor', 'random_forest_regressor__max_depth': 2, 'random_forest_regressor__min_samples_split': 8, 'random_forest_regressor__max_leaf_nodes': 64}. Best is trial 64 with value: 31.08281845691941.\n",
      "[I 2024-07-06 16:38:17,008] Trial 91 finished with value: 31.08281845691941 and parameters: {'regressor': 'RandomForestRegressor', 'random_forest_regressor__max_depth': 8, 'random_forest_regressor__min_samples_split': 8, 'random_forest_regressor__max_leaf_nodes': 64}. Best is trial 64 with value: 31.08281845691941.\n",
      "[I 2024-07-06 16:38:18,110] Trial 92 finished with value: 31.08281845691941 and parameters: {'regressor': 'RandomForestRegressor', 'random_forest_regressor__max_depth': 8, 'random_forest_regressor__min_samples_split': 8, 'random_forest_regressor__max_leaf_nodes': 64}. Best is trial 64 with value: 31.08281845691941.\n",
      "[I 2024-07-06 16:38:19,180] Trial 93 finished with value: 31.08281845691941 and parameters: {'regressor': 'RandomForestRegressor', 'random_forest_regressor__max_depth': 8, 'random_forest_regressor__min_samples_split': 8, 'random_forest_regressor__max_leaf_nodes': 64}. Best is trial 64 with value: 31.08281845691941.\n",
      "[I 2024-07-06 16:38:20,256] Trial 94 finished with value: 31.08281845691941 and parameters: {'regressor': 'RandomForestRegressor', 'random_forest_regressor__max_depth': 8, 'random_forest_regressor__min_samples_split': 8, 'random_forest_regressor__max_leaf_nodes': 64}. Best is trial 64 with value: 31.08281845691941.\n",
      "[I 2024-07-06 16:38:20,780] Trial 95 finished with value: 37.92927326389063 and parameters: {'regressor': 'RandomForestRegressor', 'random_forest_regressor__max_depth': 8, 'random_forest_regressor__min_samples_split': 8, 'random_forest_regressor__max_leaf_nodes': 4}. Best is trial 64 with value: 31.08281845691941.\n",
      "[I 2024-07-06 16:38:21,876] Trial 96 finished with value: 31.08281845691941 and parameters: {'regressor': 'RandomForestRegressor', 'random_forest_regressor__max_depth': 8, 'random_forest_regressor__min_samples_split': 8, 'random_forest_regressor__max_leaf_nodes': 64}. Best is trial 64 with value: 31.08281845691941.\n",
      "[I 2024-07-06 16:38:22,965] Trial 97 finished with value: 31.08281845691941 and parameters: {'regressor': 'RandomForestRegressor', 'random_forest_regressor__max_depth': 8, 'random_forest_regressor__min_samples_split': 8, 'random_forest_regressor__max_leaf_nodes': 64}. Best is trial 64 with value: 31.08281845691941.\n",
      "[I 2024-07-06 16:38:24,065] Trial 98 finished with value: 31.08281845691941 and parameters: {'regressor': 'RandomForestRegressor', 'random_forest_regressor__max_depth': 8, 'random_forest_regressor__min_samples_split': 8, 'random_forest_regressor__max_leaf_nodes': 64}. Best is trial 64 with value: 31.08281845691941.\n",
      "[I 2024-07-06 16:38:25,172] Trial 99 finished with value: 31.08281845691941 and parameters: {'regressor': 'RandomForestRegressor', 'random_forest_regressor__max_depth': 8, 'random_forest_regressor__min_samples_split': 8, 'random_forest_regressor__max_leaf_nodes': 64}. Best is trial 64 with value: 31.08281845691941.\n"
     ]
    }
   ],
   "source": [
    "powers_of_two = [2**i for i in range(1, 7)]\n",
    "\n",
    "def objective(trial):\n",
    "    regressor_name = trial.suggest_categorical('regressor', ['DecisionTreeRegressor', 'RandomForestRegressor'])\n",
    "    \n",
    "    if regressor_name == 'DecisionTreeRegressor':\n",
    "        regressor = DecisionTreeRegressor(max_depth=trial.suggest_categorical('decision_tree_regressor__max_depth',  powers_of_two),\n",
    "                                            min_samples_split=trial.suggest_categorical('decision_tree_regressor__min_samples_split', powers_of_two),\n",
    "                                            random_state=RANDOM_STATE)\n",
    "    elif regressor_name == 'RandomForestRegressor':\n",
    "        regressor = RandomForestRegressor(max_depth=trial.suggest_categorical('random_forest_regressor__max_depth', powers_of_two),\n",
    "                                            min_samples_split=trial.suggest_categorical('random_forest_regressor__min_samples_split', powers_of_two),\n",
    "                                            max_leaf_nodes=trial.suggest_categorical('random_forest_regressor__max_leaf_nodes', powers_of_two),\n",
    "                                            random_state=RANDOM_STATE)\n",
    "\n",
    "        \n",
    "    regressor.fit(X_train, y_train)\n",
    "    return root_mean_squared_error(y_valid, regressor.predict(X_valid))\n",
    "\n",
    "study = optuna.create_study(sampler=optuna.samplers.TPESampler(seed=RANDOM_STATE))\n",
    "study.optimize(objective, n_trials=100)"
   ]
  },
  {
   "cell_type": "markdown",
   "metadata": {},
   "source": [
    "###  Проанализируем результаты моделирования и выберем наилучшую модель:"
   ]
  },
  {
   "cell_type": "markdown",
   "metadata": {},
   "source": [
    "Категоризируем каждый шаг оптимизации в зависимости от классификатора"
   ]
  },
  {
   "cell_type": "code",
   "execution_count": 22,
   "metadata": {},
   "outputs": [
    {
     "name": "stderr",
     "output_type": "stream",
     "text": [
      "[I 2024-07-06 16:38:25,181] A new study created in memory with name: no-name-4bf16275-6455-4664-8742-acdc8135495d\n",
      "[I 2024-07-06 16:38:25,190] A new study created in memory with name: no-name-ff714a7a-a542-4254-b03a-1e080afc433b\n"
     ]
    },
    {
     "data": {
      "text/html": [
       "<div>\n",
       "<style scoped>\n",
       "    .dataframe tbody tr th:only-of-type {\n",
       "        vertical-align: middle;\n",
       "    }\n",
       "\n",
       "    .dataframe tbody tr th {\n",
       "        vertical-align: top;\n",
       "    }\n",
       "\n",
       "    .dataframe thead th {\n",
       "        text-align: right;\n",
       "    }\n",
       "</style>\n",
       "<table border=\"1\" class=\"dataframe\">\n",
       "  <thead>\n",
       "    <tr style=\"text-align: right;\">\n",
       "      <th></th>\n",
       "      <th>RMSE</th>\n",
       "    </tr>\n",
       "  </thead>\n",
       "  <tbody>\n",
       "    <tr>\n",
       "      <th>LinearRegression</th>\n",
       "      <td>30.49</td>\n",
       "    </tr>\n",
       "    <tr>\n",
       "      <th>RandomForestRegressor</th>\n",
       "      <td>31.08</td>\n",
       "    </tr>\n",
       "    <tr>\n",
       "      <th>DecisionTreeRegressor</th>\n",
       "      <td>32.86</td>\n",
       "    </tr>\n",
       "    <tr>\n",
       "      <th>DummyRegressor</th>\n",
       "      <td>60.26</td>\n",
       "    </tr>\n",
       "  </tbody>\n",
       "</table>\n",
       "</div>"
      ],
      "text/plain": [
       "                       RMSE\n",
       "LinearRegression      30.49\n",
       "RandomForestRegressor 31.08\n",
       "DecisionTreeRegressor 32.86\n",
       "DummyRegressor        60.26"
      ]
     },
     "execution_count": 22,
     "metadata": {},
     "output_type": "execute_result"
    }
   ],
   "source": [
    "for regressor_name in ['DecisionTreeRegressor', 'RandomForestRegressor']:    \n",
    "    regressor_study = optuna.create_study()\n",
    "    regressor_study.add_trials([optuna.trial.create_trial(params=trial.params, distributions=trial.distributions, values=trial.values) \n",
    "                                 for trial in study.get_trials(deepcopy=False) if trial.params['regressor'] == regressor_name])\n",
    "    valid_results.loc[regressor_name] = regressor_study.trials_dataframe().value.min()\n",
    "    \n",
    "valid_results.sort_values(by='RMSE')"
   ]
  },
  {
   "cell_type": "markdown",
   "metadata": {},
   "source": [
    "### Краткий вывод:\n",
    "- хуже всего с прогнозированием справилась модель `DummyRegressor`\n",
    "- лучше всего с прогнозированием справилась модель `LinearRegression`. Возможно это связано с переобучением более сложных моделей и малым количеством объектов в обучающей выборке"
   ]
  },
  {
   "cell_type": "markdown",
   "metadata": {},
   "source": [
    "## Тестирование"
   ]
  },
  {
   "cell_type": "markdown",
   "metadata": {},
   "source": [
    "По результатам тестирования различных моделей на валидационной выборке выберем модель `LinearRegression` в качестве наилучшей. Протестируем её на тестовой выборке"
   ]
  },
  {
   "cell_type": "code",
   "execution_count": 23,
   "metadata": {},
   "outputs": [
    {
     "data": {
      "text/html": [
       "<div>\n",
       "<style scoped>\n",
       "    .dataframe tbody tr th:only-of-type {\n",
       "        vertical-align: middle;\n",
       "    }\n",
       "\n",
       "    .dataframe tbody tr th {\n",
       "        vertical-align: top;\n",
       "    }\n",
       "\n",
       "    .dataframe thead th {\n",
       "        text-align: right;\n",
       "    }\n",
       "</style>\n",
       "<table border=\"1\" class=\"dataframe\">\n",
       "  <thead>\n",
       "    <tr style=\"text-align: right;\">\n",
       "      <th></th>\n",
       "      <th>RMSE</th>\n",
       "    </tr>\n",
       "  </thead>\n",
       "  <tbody>\n",
       "    <tr>\n",
       "      <th>LinearRegression</th>\n",
       "      <td>34.96</td>\n",
       "    </tr>\n",
       "  </tbody>\n",
       "</table>\n",
       "</div>"
      ],
      "text/plain": [
       "                  RMSE\n",
       "LinearRegression 34.96"
      ]
     },
     "execution_count": 23,
     "metadata": {},
     "output_type": "execute_result"
    }
   ],
   "source": [
    "test_results = pd.DataFrame(columns=['RMSE'])\n",
    "test_results.loc['LinearRegression'] = root_mean_squared_error(y_test, linear_model.predict(X_test))\n",
    "test_results"
   ]
  },
  {
   "cell_type": "markdown",
   "metadata": {},
   "source": [
    "Проанализируем разницу между значениями тестовой выборки и предсказаниями наилучшей модели"
   ]
  },
  {
   "cell_type": "code",
   "execution_count": 24,
   "metadata": {},
   "outputs": [
    {
     "data": {
      "image/png": "[encoded data removed]",
      "text/plain": [
       "<Figure size 432x288 with 1 Axes>"
      ]
     },
     "metadata": {
      "needs_background": "light"
     },
     "output_type": "display_data"
    }
   ],
   "source": [
    "pd.DataFrame(data=zip(y_test, linear_model.predict(X_test)),\n",
    "             index=y_test.index,\n",
    "             columns=['y', 'predictions']).plot(grid=True, legend=True, xlabel='datetime', ylabel='num_orders');"
   ]
  },
  {
   "cell_type": "markdown",
   "metadata": {},
   "source": [
    "Можно заметить, что модель плохо справляется с аномальными значениями"
   ]
  },
  {
   "cell_type": "markdown",
   "metadata": {},
   "source": [
    "### Краткий вывод:\n",
    "- на тестовой выборке модель `LinearRegression` показала чуть большее значение `RMSE`, чем на валидационной выборке\n",
    "- наилучшая модель `LinearRegression` справилась с прогнозированием лучше наивной модели `DummyRegressor`"
   ]
  },
  {
   "cell_type": "markdown",
   "metadata": {},
   "source": [
    "## Вывод:\n",
    "- в данных содержится количество заказов такси за период времени с марта по август $2018$ года включительно\n",
    "- в данных отсутствуют пропуски\n",
    "- во временном ряде присутствует сезонность с периодом один день\n",
    "- ранним утром и вечером можно наблюдать пики заказов, а в полночь наоборот - спад \n",
    "- временной ряд нельзя считать стационарным, так как в нём присутствует трендовая составляющая\n",
    "- разность первого порядка можно считать стационарной\n",
    "- хуже всего с прогнозированием справилась модель `DummyRegressor`\n",
    "- лучше всего с прогнозированием справилась модель `LinearRegression`. Возможно это связано с тем, что другие модели подверглись переобучению и что количество объектов в обучающей выборке достаточно мало\n",
    "- на тестовой выборке модель `LinearRegression` показала чуть большее значение `RMSE`, чем на валидационной выборке\n",
    "- наилучшая модель `LinearRegression` справилась с прогнозированием лучше наивной модели `DummyRegressor`"
   ]
  }
 ],
 "metadata": {
  "ExecuteTimeLog": [
   {
    "duration": 66,
    "start_time": "2024-04-07T14:11:53.239Z"
   },
   {
    "duration": 1432,
    "start_time": "2024-04-07T14:12:00.266Z"
   },
   {
    "duration": 0,
    "start_time": "2024-04-07T14:12:01.699Z"
   },
   {
    "duration": 179,
    "start_time": "2024-04-07T14:12:02.320Z"
   },
   {
    "duration": 4,
    "start_time": "2024-04-07T14:14:31.062Z"
   },
   {
    "duration": 49,
    "start_time": "2024-04-07T14:14:46.149Z"
   },
   {
    "duration": 9,
    "start_time": "2024-04-07T14:14:57.208Z"
   },
   {
    "duration": 8,
    "start_time": "2024-04-07T14:15:39.446Z"
   },
   {
    "duration": 52,
    "start_time": "2024-04-07T14:15:46.321Z"
   },
   {
    "duration": 14,
    "start_time": "2024-04-07T14:15:54.497Z"
   },
   {
    "duration": 51,
    "start_time": "2024-04-07T14:16:01.625Z"
   },
   {
    "duration": 11,
    "start_time": "2024-04-07T14:16:35.508Z"
   },
   {
    "duration": 10,
    "start_time": "2024-04-07T14:16:44.019Z"
   },
   {
    "duration": 9652,
    "start_time": "2024-04-07T14:16:46.931Z"
   },
   {
    "duration": 0,
    "start_time": "2024-04-07T14:16:56.584Z"
   },
   {
    "duration": 0,
    "start_time": "2024-04-07T14:16:56.585Z"
   },
   {
    "duration": 3,
    "start_time": "2024-04-07T14:18:02.172Z"
   },
   {
    "duration": 189,
    "start_time": "2024-04-07T14:18:07.886Z"
   },
   {
    "duration": 73,
    "start_time": "2024-04-07T14:18:11.501Z"
   },
   {
    "duration": 10,
    "start_time": "2024-04-07T14:18:40.286Z"
   },
   {
    "duration": 10260,
    "start_time": "2024-04-08T16:27:33.668Z"
   },
   {
    "duration": 0,
    "start_time": "2024-04-08T16:27:43.929Z"
   },
   {
    "duration": 0,
    "start_time": "2024-04-08T16:27:43.930Z"
   },
   {
    "duration": 0,
    "start_time": "2024-04-08T16:27:43.931Z"
   },
   {
    "duration": 135,
    "start_time": "2024-04-08T16:27:59.917Z"
   },
   {
    "duration": 9,
    "start_time": "2024-04-08T16:28:43.546Z"
   },
   {
    "duration": 6,
    "start_time": "2024-04-08T16:28:49.756Z"
   },
   {
    "duration": 6,
    "start_time": "2024-04-08T16:28:52.978Z"
   },
   {
    "duration": 6,
    "start_time": "2024-04-08T16:29:20.480Z"
   },
   {
    "duration": 11,
    "start_time": "2024-04-08T16:29:43.129Z"
   },
   {
    "duration": 12,
    "start_time": "2024-04-08T16:31:29.906Z"
   },
   {
    "duration": 131,
    "start_time": "2024-04-08T16:31:55.535Z"
   },
   {
    "duration": 603,
    "start_time": "2024-04-08T16:32:13.603Z"
   },
   {
    "duration": 233,
    "start_time": "2024-04-08T16:32:22.863Z"
   },
   {
    "duration": 104,
    "start_time": "2024-04-08T16:32:26.343Z"
   },
   {
    "duration": 9,
    "start_time": "2024-04-08T16:32:37.811Z"
   },
   {
    "duration": 8,
    "start_time": "2024-04-08T16:32:46.937Z"
   },
   {
    "duration": 314,
    "start_time": "2024-04-08T16:32:50.952Z"
   },
   {
    "duration": 38,
    "start_time": "2024-04-08T16:32:52.097Z"
   },
   {
    "duration": 60,
    "start_time": "2024-04-08T16:32:54.840Z"
   },
   {
    "duration": 6,
    "start_time": "2024-04-08T16:32:55.631Z"
   },
   {
    "duration": 8,
    "start_time": "2024-04-08T16:32:56.151Z"
   },
   {
    "duration": 5,
    "start_time": "2024-04-08T16:32:56.672Z"
   },
   {
    "duration": 10,
    "start_time": "2024-04-08T16:32:57.471Z"
   },
   {
    "duration": 185,
    "start_time": "2024-04-08T16:32:58.208Z"
   },
   {
    "duration": 38,
    "start_time": "2024-04-08T16:33:08.064Z"
   },
   {
    "duration": 62,
    "start_time": "2024-04-08T16:33:10.416Z"
   },
   {
    "duration": 60,
    "start_time": "2024-04-08T16:33:11.375Z"
   },
   {
    "duration": 6,
    "start_time": "2024-04-08T16:33:11.784Z"
   },
   {
    "duration": 7,
    "start_time": "2024-04-08T16:33:12.256Z"
   },
   {
    "duration": 5,
    "start_time": "2024-04-08T16:33:12.935Z"
   },
   {
    "duration": 9,
    "start_time": "2024-04-08T16:33:13.815Z"
   },
   {
    "duration": 132,
    "start_time": "2024-04-08T16:33:14.625Z"
   },
   {
    "duration": 144,
    "start_time": "2024-04-08T16:33:23.378Z"
   },
   {
    "duration": 147,
    "start_time": "2024-04-08T16:33:51.885Z"
   },
   {
    "duration": 140,
    "start_time": "2024-04-08T16:33:56.359Z"
   },
   {
    "duration": 142,
    "start_time": "2024-04-08T16:34:16.115Z"
   },
   {
    "duration": 146,
    "start_time": "2024-04-08T16:34:19.795Z"
   },
   {
    "duration": 145,
    "start_time": "2024-04-08T16:34:22.397Z"
   },
   {
    "duration": 146,
    "start_time": "2024-04-08T16:34:28.315Z"
   },
   {
    "duration": 152,
    "start_time": "2024-04-08T16:34:33.596Z"
   },
   {
    "duration": 143,
    "start_time": "2024-04-08T16:34:37.835Z"
   },
   {
    "duration": 215,
    "start_time": "2024-04-08T16:34:48.446Z"
   },
   {
    "duration": 137,
    "start_time": "2024-04-08T16:34:52.166Z"
   },
   {
    "duration": 146,
    "start_time": "2024-04-08T16:34:56.948Z"
   },
   {
    "duration": 140,
    "start_time": "2024-04-08T16:34:59.351Z"
   },
   {
    "duration": 5,
    "start_time": "2024-04-08T16:39:37.853Z"
   },
   {
    "duration": 8,
    "start_time": "2024-04-08T16:39:45.502Z"
   },
   {
    "duration": 9,
    "start_time": "2024-04-08T16:40:18.260Z"
   },
   {
    "duration": 9,
    "start_time": "2024-04-08T16:40:22.455Z"
   },
   {
    "duration": 151,
    "start_time": "2024-04-08T16:40:54.698Z"
   },
   {
    "duration": 155,
    "start_time": "2024-04-08T16:40:58.561Z"
   },
   {
    "duration": 8,
    "start_time": "2024-04-08T16:41:07.505Z"
   },
   {
    "duration": 132,
    "start_time": "2024-04-08T16:41:14.979Z"
   },
   {
    "duration": 259,
    "start_time": "2024-04-08T16:41:23.587Z"
   },
   {
    "duration": 394,
    "start_time": "2024-04-08T16:41:34.891Z"
   },
   {
    "duration": 444,
    "start_time": "2024-04-08T16:43:03.254Z"
   },
   {
    "duration": 406,
    "start_time": "2024-04-08T16:43:12.974Z"
   },
   {
    "duration": 414,
    "start_time": "2024-04-08T16:43:24.615Z"
   },
   {
    "duration": 418,
    "start_time": "2024-04-08T16:43:27.830Z"
   },
   {
    "duration": 8,
    "start_time": "2024-04-08T16:43:41.222Z"
   },
   {
    "duration": 4,
    "start_time": "2024-04-08T16:43:56.935Z"
   },
   {
    "duration": 10179,
    "start_time": "2024-04-08T16:44:08.552Z"
   },
   {
    "duration": 53,
    "start_time": "2024-04-08T16:44:18.732Z"
   },
   {
    "duration": 58,
    "start_time": "2024-04-08T16:44:18.786Z"
   },
   {
    "duration": 9,
    "start_time": "2024-04-08T16:44:18.852Z"
   },
   {
    "duration": 8,
    "start_time": "2024-04-08T16:44:22.462Z"
   },
   {
    "duration": 404,
    "start_time": "2024-04-08T16:44:33.337Z"
   },
   {
    "duration": 457,
    "start_time": "2024-04-08T16:45:58.106Z"
   },
   {
    "duration": 168,
    "start_time": "2024-04-08T16:46:05.338Z"
   },
   {
    "duration": 11,
    "start_time": "2024-04-08T16:46:08.634Z"
   },
   {
    "duration": 105,
    "start_time": "2024-04-08T16:46:35.676Z"
   },
   {
    "duration": 12,
    "start_time": "2024-04-08T16:48:02.360Z"
   },
   {
    "duration": 708,
    "start_time": "2024-04-08T16:48:32.413Z"
   },
   {
    "duration": 418,
    "start_time": "2024-04-08T16:48:43.985Z"
   },
   {
    "duration": 532,
    "start_time": "2024-04-08T16:48:50.864Z"
   },
   {
    "duration": 407,
    "start_time": "2024-04-08T16:49:04.472Z"
   },
   {
    "duration": 81,
    "start_time": "2024-04-08T16:49:54.373Z"
   },
   {
    "duration": 19,
    "start_time": "2024-04-08T16:49:58.291Z"
   },
   {
    "duration": 22,
    "start_time": "2024-04-08T16:50:02.683Z"
   },
   {
    "duration": 22,
    "start_time": "2024-04-08T16:50:09.930Z"
   },
   {
    "duration": 17,
    "start_time": "2024-04-08T16:50:43.925Z"
   },
   {
    "duration": 162,
    "start_time": "2024-04-08T16:50:57.454Z"
   },
   {
    "duration": 274,
    "start_time": "2024-04-08T16:51:25.934Z"
   },
   {
    "duration": 278,
    "start_time": "2024-04-08T16:51:31.902Z"
   },
   {
    "duration": 84,
    "start_time": "2024-04-08T16:52:05.223Z"
   },
   {
    "duration": 404,
    "start_time": "2024-04-08T16:52:08.582Z"
   },
   {
    "duration": 270,
    "start_time": "2024-04-08T16:52:25.097Z"
   },
   {
    "duration": 397,
    "start_time": "2024-04-08T16:52:39.161Z"
   },
   {
    "duration": 543,
    "start_time": "2024-04-08T16:52:50.617Z"
   },
   {
    "duration": 472,
    "start_time": "2024-04-08T16:52:54.561Z"
   },
   {
    "duration": 484,
    "start_time": "2024-04-08T16:52:58.978Z"
   },
   {
    "duration": 424,
    "start_time": "2024-04-08T16:53:04.436Z"
   },
   {
    "duration": 16,
    "start_time": "2024-04-08T16:55:25.152Z"
   },
   {
    "duration": 460,
    "start_time": "2024-04-08T16:55:29.939Z"
   },
   {
    "duration": 4,
    "start_time": "2024-04-08T16:57:00.383Z"
   },
   {
    "duration": 636,
    "start_time": "2024-04-08T16:57:02.883Z"
   },
   {
    "duration": 606,
    "start_time": "2024-04-08T16:57:12.706Z"
   },
   {
    "duration": 676,
    "start_time": "2024-04-08T16:57:20.321Z"
   },
   {
    "duration": 755,
    "start_time": "2024-04-08T16:57:29.347Z"
   },
   {
    "duration": 689,
    "start_time": "2024-04-08T16:57:33.562Z"
   },
   {
    "duration": 11,
    "start_time": "2024-04-08T16:58:46.898Z"
   },
   {
    "duration": 15,
    "start_time": "2024-04-08T16:59:05.917Z"
   },
   {
    "duration": 712,
    "start_time": "2024-04-08T16:59:13.854Z"
   },
   {
    "duration": 740,
    "start_time": "2024-04-08T16:59:24.981Z"
   },
   {
    "duration": 665,
    "start_time": "2024-04-08T16:59:29.429Z"
   },
   {
    "duration": 505,
    "start_time": "2024-04-08T16:59:36.086Z"
   },
   {
    "duration": 531,
    "start_time": "2024-04-08T16:59:37.925Z"
   },
   {
    "duration": 587,
    "start_time": "2024-04-08T16:59:48.654Z"
   },
   {
    "duration": 512,
    "start_time": "2024-04-08T16:59:53.927Z"
   },
   {
    "duration": 501,
    "start_time": "2024-04-08T17:00:04.797Z"
   },
   {
    "duration": 504,
    "start_time": "2024-04-08T17:00:12.135Z"
   },
   {
    "duration": 604,
    "start_time": "2024-04-08T17:00:24.560Z"
   },
   {
    "duration": 518,
    "start_time": "2024-04-08T17:00:39.225Z"
   },
   {
    "duration": 6,
    "start_time": "2024-04-08T17:01:07.906Z"
   },
   {
    "duration": 9,
    "start_time": "2024-04-08T17:01:10.825Z"
   },
   {
    "duration": 7516,
    "start_time": "2024-04-09T08:53:08.596Z"
   },
   {
    "duration": 25,
    "start_time": "2024-04-09T08:53:16.116Z"
   },
   {
    "duration": 72,
    "start_time": "2024-04-09T08:58:56.272Z"
   },
   {
    "duration": 704,
    "start_time": "2024-04-09T08:59:03.879Z"
   },
   {
    "duration": 481,
    "start_time": "2024-04-09T09:01:02.954Z"
   },
   {
    "duration": 655,
    "start_time": "2024-04-09T09:01:12.178Z"
   },
   {
    "duration": 78,
    "start_time": "2024-04-09T09:01:24.787Z"
   },
   {
    "duration": 665,
    "start_time": "2024-04-09T09:01:29.217Z"
   },
   {
    "duration": 640,
    "start_time": "2024-04-09T09:01:36.240Z"
   },
   {
    "duration": 738,
    "start_time": "2024-04-09T09:02:48.738Z"
   },
   {
    "duration": 651,
    "start_time": "2024-04-09T09:03:01.481Z"
   },
   {
    "duration": 598,
    "start_time": "2024-04-09T09:03:06.961Z"
   },
   {
    "duration": 14,
    "start_time": "2024-04-09T09:06:51.698Z"
   },
   {
    "duration": 11,
    "start_time": "2024-04-09T09:22:20.013Z"
   },
   {
    "duration": 7,
    "start_time": "2024-04-09T09:22:33.052Z"
   },
   {
    "duration": 12,
    "start_time": "2024-04-09T09:22:45.646Z"
   },
   {
    "duration": 11,
    "start_time": "2024-04-09T09:22:49.804Z"
   },
   {
    "duration": 8,
    "start_time": "2024-04-09T09:23:55.437Z"
   },
   {
    "duration": 763,
    "start_time": "2024-04-09T09:27:05.599Z"
   },
   {
    "duration": 7467,
    "start_time": "2024-04-09T09:27:18.391Z"
   },
   {
    "duration": 37,
    "start_time": "2024-04-09T09:27:25.860Z"
   },
   {
    "duration": 66,
    "start_time": "2024-04-09T09:27:25.899Z"
   },
   {
    "duration": 650,
    "start_time": "2024-04-09T09:27:27.886Z"
   },
   {
    "duration": 701,
    "start_time": "2024-04-09T09:27:42.974Z"
   },
   {
    "duration": 595,
    "start_time": "2024-04-09T09:28:05.086Z"
   },
   {
    "duration": 609,
    "start_time": "2024-04-09T09:28:43.502Z"
   },
   {
    "duration": 754,
    "start_time": "2024-04-09T09:28:49.766Z"
   },
   {
    "duration": 333,
    "start_time": "2024-04-09T09:29:55.999Z"
   },
   {
    "duration": 282,
    "start_time": "2024-04-09T09:30:07.813Z"
   },
   {
    "duration": 131,
    "start_time": "2024-04-09T09:30:15.558Z"
   },
   {
    "duration": 347,
    "start_time": "2024-04-09T09:32:59.480Z"
   },
   {
    "duration": 321,
    "start_time": "2024-04-09T09:33:14.663Z"
   },
   {
    "duration": 343,
    "start_time": "2024-04-09T09:33:18.559Z"
   },
   {
    "duration": 199,
    "start_time": "2024-04-09T09:33:30.576Z"
   },
   {
    "duration": 230,
    "start_time": "2024-04-09T09:34:15.503Z"
   },
   {
    "duration": 11,
    "start_time": "2024-04-09T09:35:09.217Z"
   },
   {
    "duration": 170,
    "start_time": "2024-04-09T09:35:13.809Z"
   },
   {
    "duration": 167,
    "start_time": "2024-04-09T09:35:21.353Z"
   },
   {
    "duration": 169,
    "start_time": "2024-04-09T09:35:25.297Z"
   },
   {
    "duration": 340,
    "start_time": "2024-04-09T09:35:32.303Z"
   },
   {
    "duration": 450,
    "start_time": "2024-04-09T09:36:15.256Z"
   },
   {
    "duration": 560,
    "start_time": "2024-04-09T09:36:19.576Z"
   },
   {
    "duration": 241,
    "start_time": "2024-04-09T09:36:26.656Z"
   },
   {
    "duration": 203,
    "start_time": "2024-04-09T09:36:33.041Z"
   },
   {
    "duration": 210,
    "start_time": "2024-04-09T09:36:40.408Z"
   },
   {
    "duration": 261,
    "start_time": "2024-04-09T09:36:57.745Z"
   },
   {
    "duration": 240,
    "start_time": "2024-04-09T09:37:01.697Z"
   },
   {
    "duration": 228,
    "start_time": "2024-04-09T09:37:06.297Z"
   },
   {
    "duration": 344,
    "start_time": "2024-04-09T09:37:15.074Z"
   },
   {
    "duration": 9,
    "start_time": "2024-04-09T09:37:34.425Z"
   },
   {
    "duration": 201,
    "start_time": "2024-04-09T09:37:53.249Z"
   },
   {
    "duration": 389,
    "start_time": "2024-04-09T09:38:09.082Z"
   },
   {
    "duration": 574,
    "start_time": "2024-04-09T09:38:23.090Z"
   },
   {
    "duration": 326,
    "start_time": "2024-04-09T09:38:28.353Z"
   },
   {
    "duration": 336,
    "start_time": "2024-04-09T09:38:32.321Z"
   },
   {
    "duration": 285,
    "start_time": "2024-04-09T09:38:44.009Z"
   },
   {
    "duration": 307,
    "start_time": "2024-04-09T09:39:16.482Z"
   },
   {
    "duration": 288,
    "start_time": "2024-04-09T09:39:21.993Z"
   },
   {
    "duration": 298,
    "start_time": "2024-04-09T09:40:07.586Z"
   },
   {
    "duration": 274,
    "start_time": "2024-04-09T09:40:12.554Z"
   },
   {
    "duration": 630,
    "start_time": "2024-04-09T09:40:16.810Z"
   },
   {
    "duration": 282,
    "start_time": "2024-04-09T09:40:19.698Z"
   },
   {
    "duration": 324,
    "start_time": "2024-04-09T09:40:22.258Z"
   },
   {
    "duration": 257,
    "start_time": "2024-04-09T09:40:30.915Z"
   },
   {
    "duration": 326,
    "start_time": "2024-04-09T09:40:42.745Z"
   },
   {
    "duration": 347,
    "start_time": "2024-04-09T09:40:56.616Z"
   },
   {
    "duration": 315,
    "start_time": "2024-04-09T09:41:00.770Z"
   },
   {
    "duration": 286,
    "start_time": "2024-04-09T09:42:09.923Z"
   },
   {
    "duration": 289,
    "start_time": "2024-04-09T09:44:36.490Z"
   },
   {
    "duration": 352,
    "start_time": "2024-04-09T09:45:56.636Z"
   },
   {
    "duration": 653,
    "start_time": "2024-04-09T09:46:00.524Z"
   },
   {
    "duration": 328,
    "start_time": "2024-04-09T09:46:03.970Z"
   },
   {
    "duration": 345,
    "start_time": "2024-04-09T09:46:14.404Z"
   },
   {
    "duration": 340,
    "start_time": "2024-04-09T09:46:17.211Z"
   },
   {
    "duration": 309,
    "start_time": "2024-04-09T09:46:25.859Z"
   },
   {
    "duration": 322,
    "start_time": "2024-04-09T09:46:32.051Z"
   },
   {
    "duration": 342,
    "start_time": "2024-04-09T09:46:33.733Z"
   },
   {
    "duration": 296,
    "start_time": "2024-04-09T09:46:55.405Z"
   },
   {
    "duration": 321,
    "start_time": "2024-04-09T09:47:08.548Z"
   },
   {
    "duration": 319,
    "start_time": "2024-04-09T09:47:11.043Z"
   },
   {
    "duration": 238,
    "start_time": "2024-04-09T09:49:19.701Z"
   },
   {
    "duration": 507,
    "start_time": "2024-04-09T09:49:22.931Z"
   },
   {
    "duration": 221,
    "start_time": "2024-04-09T09:49:30.044Z"
   },
   {
    "duration": 213,
    "start_time": "2024-04-09T09:49:34.987Z"
   },
   {
    "duration": 15,
    "start_time": "2024-04-09T09:51:48.038Z"
   },
   {
    "duration": 163,
    "start_time": "2024-04-09T09:52:06.420Z"
   },
   {
    "duration": 155,
    "start_time": "2024-04-09T09:52:09.379Z"
   },
   {
    "duration": 157,
    "start_time": "2024-04-09T09:52:11.772Z"
   },
   {
    "duration": 159,
    "start_time": "2024-04-09T09:52:14.829Z"
   },
   {
    "duration": 150,
    "start_time": "2024-04-09T09:52:37.276Z"
   },
   {
    "duration": 154,
    "start_time": "2024-04-09T09:52:40.908Z"
   },
   {
    "duration": 7152,
    "start_time": "2024-04-09T09:52:48.515Z"
   },
   {
    "duration": 42,
    "start_time": "2024-04-09T09:52:55.669Z"
   },
   {
    "duration": 115,
    "start_time": "2024-04-09T09:52:55.713Z"
   },
   {
    "duration": 341,
    "start_time": "2024-04-09T09:52:55.830Z"
   },
   {
    "duration": 221,
    "start_time": "2024-04-09T09:52:56.173Z"
   },
   {
    "duration": 556,
    "start_time": "2024-04-09T09:54:07.852Z"
   },
   {
    "duration": 308,
    "start_time": "2024-04-09T09:54:15.084Z"
   },
   {
    "duration": 328,
    "start_time": "2024-04-09T09:54:22.916Z"
   },
   {
    "duration": 305,
    "start_time": "2024-04-09T09:55:49.765Z"
   },
   {
    "duration": 70,
    "start_time": "2024-04-09T09:55:55.156Z"
   },
   {
    "duration": 209,
    "start_time": "2024-04-09T09:56:00.469Z"
   },
   {
    "duration": 310,
    "start_time": "2024-04-09T09:57:23.053Z"
   },
   {
    "duration": 412,
    "start_time": "2024-04-09T09:57:43.837Z"
   },
   {
    "duration": 309,
    "start_time": "2024-04-09T09:57:52.327Z"
   },
   {
    "duration": 321,
    "start_time": "2024-04-09T09:57:55.558Z"
   },
   {
    "duration": 307,
    "start_time": "2024-04-09T09:57:59.878Z"
   },
   {
    "duration": 286,
    "start_time": "2024-04-09T09:58:11.270Z"
   },
   {
    "duration": 197,
    "start_time": "2024-04-09T10:03:06.039Z"
   },
   {
    "duration": 216,
    "start_time": "2024-04-09T10:03:25.746Z"
   },
   {
    "duration": 423,
    "start_time": "2024-04-09T10:03:40.944Z"
   },
   {
    "duration": 12,
    "start_time": "2024-04-09T10:03:50.511Z"
   },
   {
    "duration": 212,
    "start_time": "2024-04-09T10:04:13.904Z"
   },
   {
    "duration": 291,
    "start_time": "2024-04-09T10:04:22.703Z"
   },
   {
    "duration": 200,
    "start_time": "2024-04-09T10:04:29.950Z"
   },
   {
    "duration": 15,
    "start_time": "2024-04-09T10:05:11.857Z"
   },
   {
    "duration": 9,
    "start_time": "2024-04-09T10:05:18.815Z"
   },
   {
    "duration": 448,
    "start_time": "2024-04-09T10:07:40.601Z"
   },
   {
    "duration": 19,
    "start_time": "2024-04-09T10:07:59.817Z"
   },
   {
    "duration": 7223,
    "start_time": "2024-04-09T10:08:09.236Z"
   },
   {
    "duration": 28,
    "start_time": "2024-04-09T10:08:16.461Z"
   },
   {
    "duration": 77,
    "start_time": "2024-04-09T10:08:16.491Z"
   },
   {
    "duration": 333,
    "start_time": "2024-04-09T10:08:16.570Z"
   },
   {
    "duration": 226,
    "start_time": "2024-04-09T10:08:16.905Z"
   },
   {
    "duration": 133,
    "start_time": "2024-04-09T10:08:17.132Z"
   },
   {
    "duration": 91,
    "start_time": "2024-04-09T10:08:22.921Z"
   },
   {
    "duration": 13,
    "start_time": "2024-04-09T10:09:23.577Z"
   },
   {
    "duration": 9,
    "start_time": "2024-04-09T10:09:31.880Z"
   },
   {
    "duration": 13,
    "start_time": "2024-04-09T10:12:33.123Z"
   },
   {
    "duration": 16,
    "start_time": "2024-04-09T10:12:36.161Z"
   },
   {
    "duration": 312,
    "start_time": "2024-04-09T10:12:51.843Z"
   },
   {
    "duration": 18,
    "start_time": "2024-04-09T10:13:07.738Z"
   },
   {
    "duration": 15,
    "start_time": "2024-04-09T10:13:18.362Z"
   },
   {
    "duration": 25,
    "start_time": "2024-04-09T10:13:21.849Z"
   },
   {
    "duration": 29,
    "start_time": "2024-04-09T10:13:39.322Z"
   },
   {
    "duration": 11,
    "start_time": "2024-04-09T10:15:39.514Z"
   },
   {
    "duration": 8,
    "start_time": "2024-04-09T10:15:45.130Z"
   },
   {
    "duration": 7,
    "start_time": "2024-04-09T10:15:46.932Z"
   },
   {
    "duration": 7,
    "start_time": "2024-04-09T10:15:53.834Z"
   },
   {
    "duration": 7,
    "start_time": "2024-04-09T10:15:55.603Z"
   },
   {
    "duration": 7414,
    "start_time": "2024-04-09T10:16:00.907Z"
   },
   {
    "duration": 75,
    "start_time": "2024-04-09T10:16:08.322Z"
   },
   {
    "duration": 79,
    "start_time": "2024-04-09T10:16:08.399Z"
   },
   {
    "duration": 318,
    "start_time": "2024-04-09T10:16:08.481Z"
   },
   {
    "duration": 211,
    "start_time": "2024-04-09T10:16:08.800Z"
   },
   {
    "duration": 10,
    "start_time": "2024-04-09T10:16:09.012Z"
   },
   {
    "duration": 22,
    "start_time": "2024-04-09T10:16:09.023Z"
   },
   {
    "duration": 7,
    "start_time": "2024-04-09T10:16:33.180Z"
   },
   {
    "duration": 7778,
    "start_time": "2024-04-09T10:20:16.792Z"
   },
   {
    "duration": 29,
    "start_time": "2024-04-09T10:20:24.571Z"
   },
   {
    "duration": 295,
    "start_time": "2024-04-09T10:20:24.601Z"
   },
   {
    "duration": 326,
    "start_time": "2024-04-09T10:20:24.897Z"
   },
   {
    "duration": 221,
    "start_time": "2024-04-09T10:20:25.225Z"
   },
   {
    "duration": 15,
    "start_time": "2024-04-09T10:20:25.448Z"
   },
   {
    "duration": 7,
    "start_time": "2024-04-09T10:20:31.556Z"
   },
   {
    "duration": 10,
    "start_time": "2024-04-09T10:20:35.974Z"
   },
   {
    "duration": 6,
    "start_time": "2024-04-09T10:21:49.556Z"
   },
   {
    "duration": 11,
    "start_time": "2024-04-09T10:21:54.357Z"
   },
   {
    "duration": 188,
    "start_time": "2024-04-09T10:28:01.119Z"
   },
   {
    "duration": 286,
    "start_time": "2024-04-09T10:28:04.223Z"
   },
   {
    "duration": 182,
    "start_time": "2024-04-09T10:28:06.608Z"
   },
   {
    "duration": 192,
    "start_time": "2024-04-09T10:28:42.583Z"
   },
   {
    "duration": 188,
    "start_time": "2024-04-09T10:28:47.287Z"
   },
   {
    "duration": 272,
    "start_time": "2024-04-09T10:28:50.870Z"
   },
   {
    "duration": 260,
    "start_time": "2024-04-09T10:30:22.583Z"
   },
   {
    "duration": 7241,
    "start_time": "2024-04-09T10:36:56.463Z"
   },
   {
    "duration": 32,
    "start_time": "2024-04-09T10:37:03.706Z"
   },
   {
    "duration": 67,
    "start_time": "2024-04-09T10:37:03.739Z"
   },
   {
    "duration": 321,
    "start_time": "2024-04-09T10:37:03.807Z"
   },
   {
    "duration": 224,
    "start_time": "2024-04-09T10:37:04.129Z"
   },
   {
    "duration": 15,
    "start_time": "2024-04-09T10:37:04.354Z"
   },
   {
    "duration": 7,
    "start_time": "2024-04-09T10:37:11.513Z"
   },
   {
    "duration": 11,
    "start_time": "2024-04-09T10:37:14.009Z"
   },
   {
    "duration": 6,
    "start_time": "2024-04-09T10:37:16.408Z"
   },
   {
    "duration": 11,
    "start_time": "2024-04-09T10:37:17.641Z"
   },
   {
    "duration": 175,
    "start_time": "2024-04-09T10:37:18.625Z"
   },
   {
    "duration": 321,
    "start_time": "2024-04-09T10:37:22.105Z"
   },
   {
    "duration": 10,
    "start_time": "2024-04-09T11:00:55.559Z"
   },
   {
    "duration": 10,
    "start_time": "2024-04-09T11:01:01.072Z"
   },
   {
    "duration": 264,
    "start_time": "2024-04-09T11:01:09.151Z"
   },
   {
    "duration": 282,
    "start_time": "2024-04-09T11:01:17.215Z"
   },
   {
    "duration": 283,
    "start_time": "2024-04-09T11:01:26.318Z"
   },
   {
    "duration": 285,
    "start_time": "2024-04-09T11:01:29.126Z"
   },
   {
    "duration": 282,
    "start_time": "2024-04-09T11:05:23.449Z"
   },
   {
    "duration": 3,
    "start_time": "2024-04-09T11:05:38.585Z"
   },
   {
    "duration": 3150,
    "start_time": "2024-04-09T11:05:47.881Z"
   },
   {
    "duration": 2501,
    "start_time": "2024-04-09T11:08:47.419Z"
   },
   {
    "duration": 63,
    "start_time": "2024-04-09T11:09:02.002Z"
   },
   {
    "duration": 3124,
    "start_time": "2024-04-09T11:09:06.602Z"
   },
   {
    "duration": 8,
    "start_time": "2024-04-09T11:09:35.794Z"
   },
   {
    "duration": 5,
    "start_time": "2024-04-09T11:09:44.082Z"
   },
   {
    "duration": 6,
    "start_time": "2024-04-09T11:09:49.001Z"
   },
   {
    "duration": 9,
    "start_time": "2024-04-09T11:09:55.914Z"
   },
   {
    "duration": 2961,
    "start_time": "2024-04-09T11:10:02.065Z"
   },
   {
    "duration": 3779,
    "start_time": "2024-04-09T11:10:34.747Z"
   },
   {
    "duration": 5,
    "start_time": "2024-04-09T11:10:46.666Z"
   },
   {
    "duration": 3175,
    "start_time": "2024-04-09T11:10:56.162Z"
   },
   {
    "duration": 59,
    "start_time": "2024-04-09T11:11:13.666Z"
   },
   {
    "duration": 3674,
    "start_time": "2024-04-09T11:11:16.058Z"
   },
   {
    "duration": 2595,
    "start_time": "2024-04-09T11:11:26.034Z"
   },
   {
    "duration": 4276,
    "start_time": "2024-04-09T11:11:41.961Z"
   },
   {
    "duration": 3614,
    "start_time": "2024-04-09T11:11:56.624Z"
   },
   {
    "duration": 3990,
    "start_time": "2024-04-09T11:12:24.025Z"
   },
   {
    "duration": 12,
    "start_time": "2024-04-09T11:20:53.635Z"
   },
   {
    "duration": 294,
    "start_time": "2024-04-09T11:20:56.529Z"
   },
   {
    "duration": 280,
    "start_time": "2024-04-09T11:21:01.361Z"
   },
   {
    "duration": 270,
    "start_time": "2024-04-09T11:21:06.594Z"
   },
   {
    "duration": 272,
    "start_time": "2024-04-09T11:21:10.184Z"
   },
   {
    "duration": 311,
    "start_time": "2024-04-09T11:21:29.289Z"
   },
   {
    "duration": 406,
    "start_time": "2024-04-09T11:22:41.033Z"
   },
   {
    "duration": 325,
    "start_time": "2024-04-09T11:22:45.761Z"
   },
   {
    "duration": 327,
    "start_time": "2024-04-09T11:22:48.899Z"
   },
   {
    "duration": 314,
    "start_time": "2024-04-09T11:23:13.427Z"
   },
   {
    "duration": 337,
    "start_time": "2024-04-09T11:23:16.698Z"
   },
   {
    "duration": 356,
    "start_time": "2024-04-09T11:23:19.716Z"
   },
   {
    "duration": 416,
    "start_time": "2024-04-09T11:23:21.377Z"
   },
   {
    "duration": 327,
    "start_time": "2024-04-09T11:23:24.514Z"
   },
   {
    "duration": 16,
    "start_time": "2024-04-09T12:48:33.930Z"
   },
   {
    "duration": 6545,
    "start_time": "2024-04-09T12:48:39.033Z"
   },
   {
    "duration": 7037,
    "start_time": "2024-04-09T12:48:50.218Z"
   },
   {
    "duration": 0,
    "start_time": "2024-04-09T12:48:57.257Z"
   },
   {
    "duration": 0,
    "start_time": "2024-04-09T12:48:57.258Z"
   },
   {
    "duration": 0,
    "start_time": "2024-04-09T12:48:57.259Z"
   },
   {
    "duration": 0,
    "start_time": "2024-04-09T12:48:57.260Z"
   },
   {
    "duration": 0,
    "start_time": "2024-04-09T12:48:57.261Z"
   },
   {
    "duration": 0,
    "start_time": "2024-04-09T12:48:57.262Z"
   },
   {
    "duration": 0,
    "start_time": "2024-04-09T12:48:57.263Z"
   },
   {
    "duration": 0,
    "start_time": "2024-04-09T12:48:57.265Z"
   },
   {
    "duration": 0,
    "start_time": "2024-04-09T12:48:57.266Z"
   },
   {
    "duration": 0,
    "start_time": "2024-04-09T12:48:57.267Z"
   },
   {
    "duration": 0,
    "start_time": "2024-04-09T12:48:57.268Z"
   },
   {
    "duration": 0,
    "start_time": "2024-04-09T12:48:57.269Z"
   },
   {
    "duration": 0,
    "start_time": "2024-04-09T12:48:57.270Z"
   },
   {
    "duration": 108,
    "start_time": "2024-04-09T12:49:24.329Z"
   },
   {
    "duration": 7527,
    "start_time": "2024-04-09T12:49:33.507Z"
   },
   {
    "duration": 26,
    "start_time": "2024-04-09T12:49:41.035Z"
   },
   {
    "duration": 111,
    "start_time": "2024-04-09T12:49:41.064Z"
   },
   {
    "duration": 389,
    "start_time": "2024-04-09T12:49:41.178Z"
   },
   {
    "duration": 231,
    "start_time": "2024-04-09T12:49:41.569Z"
   },
   {
    "duration": 98,
    "start_time": "2024-04-09T12:49:41.801Z"
   },
   {
    "duration": 15,
    "start_time": "2024-04-09T12:49:41.901Z"
   },
   {
    "duration": 9,
    "start_time": "2024-04-09T12:49:41.918Z"
   },
   {
    "duration": 6,
    "start_time": "2024-04-09T12:49:41.929Z"
   },
   {
    "duration": 10,
    "start_time": "2024-04-09T12:49:41.937Z"
   },
   {
    "duration": 213,
    "start_time": "2024-04-09T12:49:41.949Z"
   },
   {
    "duration": 270,
    "start_time": "2024-04-09T12:49:42.163Z"
   },
   {
    "duration": 312,
    "start_time": "2024-04-09T12:49:42.435Z"
   },
   {
    "duration": 6,
    "start_time": "2024-04-09T12:49:42.749Z"
   },
   {
    "duration": 138,
    "start_time": "2024-04-09T13:02:40.519Z"
   },
   {
    "duration": 6,
    "start_time": "2024-04-09T16:02:42.386Z"
   },
   {
    "duration": 5,
    "start_time": "2024-04-09T16:02:51.089Z"
   },
   {
    "duration": 5,
    "start_time": "2024-04-09T16:02:55.945Z"
   },
   {
    "duration": 6,
    "start_time": "2024-04-09T16:02:59.337Z"
   },
   {
    "duration": 5,
    "start_time": "2024-04-09T16:03:13.056Z"
   },
   {
    "duration": 11,
    "start_time": "2024-04-09T16:03:36.906Z"
   },
   {
    "duration": 4,
    "start_time": "2024-04-09T17:43:16.145Z"
   },
   {
    "duration": 4,
    "start_time": "2024-04-09T17:43:26.776Z"
   },
   {
    "duration": 7731,
    "start_time": "2024-04-10T08:04:05.505Z"
   },
   {
    "duration": 0,
    "start_time": "2024-04-10T08:04:13.238Z"
   },
   {
    "duration": 7287,
    "start_time": "2024-04-10T08:04:21.857Z"
   },
   {
    "duration": 7197,
    "start_time": "2024-04-10T08:04:33.100Z"
   },
   {
    "duration": 27,
    "start_time": "2024-04-10T08:04:40.298Z"
   },
   {
    "duration": 636,
    "start_time": "2024-04-10T08:04:40.327Z"
   },
   {
    "duration": 356,
    "start_time": "2024-04-10T08:04:40.965Z"
   },
   {
    "duration": 238,
    "start_time": "2024-04-10T08:04:41.322Z"
   },
   {
    "duration": 100,
    "start_time": "2024-04-10T08:04:41.561Z"
   },
   {
    "duration": 7,
    "start_time": "2024-04-10T08:04:41.662Z"
   },
   {
    "duration": 18,
    "start_time": "2024-04-10T08:04:41.670Z"
   },
   {
    "duration": 6,
    "start_time": "2024-04-10T08:04:41.689Z"
   },
   {
    "duration": 14,
    "start_time": "2024-04-10T08:04:41.697Z"
   },
   {
    "duration": 253,
    "start_time": "2024-04-10T08:04:41.713Z"
   },
   {
    "duration": 304,
    "start_time": "2024-04-10T08:04:41.968Z"
   },
   {
    "duration": 5,
    "start_time": "2024-04-10T08:04:42.274Z"
   },
   {
    "duration": 6,
    "start_time": "2024-04-10T08:04:42.280Z"
   },
   {
    "duration": 6,
    "start_time": "2024-04-10T08:04:42.288Z"
   },
   {
    "duration": 12,
    "start_time": "2024-04-10T08:04:42.296Z"
   },
   {
    "duration": 377,
    "start_time": "2024-04-10T08:04:42.310Z"
   },
   {
    "duration": 5,
    "start_time": "2024-04-10T08:04:42.689Z"
   },
   {
    "duration": 33,
    "start_time": "2024-04-10T08:04:42.695Z"
   },
   {
    "duration": 149,
    "start_time": "2024-04-10T08:04:42.729Z"
   },
   {
    "duration": 7,
    "start_time": "2024-04-10T10:11:29.656Z"
   },
   {
    "duration": 2073,
    "start_time": "2024-04-10T10:11:40.911Z"
   },
   {
    "duration": 1818,
    "start_time": "2024-04-10T10:12:38.870Z"
   },
   {
    "duration": 1969,
    "start_time": "2024-04-10T10:13:26.518Z"
   },
   {
    "duration": 1974,
    "start_time": "2024-04-10T10:15:15.518Z"
   },
   {
    "duration": 1738,
    "start_time": "2024-04-10T10:16:05.656Z"
   },
   {
    "duration": 1803,
    "start_time": "2024-04-10T10:16:25.088Z"
   },
   {
    "duration": 1875,
    "start_time": "2024-04-10T10:30:41.008Z"
   },
   {
    "duration": 1894,
    "start_time": "2024-04-10T10:30:45.592Z"
   },
   {
    "duration": 197,
    "start_time": "2024-04-10T10:32:10.290Z"
   },
   {
    "duration": 279,
    "start_time": "2024-04-10T10:32:35.225Z"
   },
   {
    "duration": 275,
    "start_time": "2024-04-10T10:32:42.720Z"
   },
   {
    "duration": 369,
    "start_time": "2024-04-10T10:32:49.088Z"
   },
   {
    "duration": 290,
    "start_time": "2024-04-10T10:32:52.832Z"
   },
   {
    "duration": 286,
    "start_time": "2024-04-10T10:32:56.088Z"
   },
   {
    "duration": 275,
    "start_time": "2024-04-10T10:33:06.744Z"
   },
   {
    "duration": 17,
    "start_time": "2024-04-10T10:40:20.356Z"
   },
   {
    "duration": 6,
    "start_time": "2024-04-10T10:44:23.199Z"
   },
   {
    "duration": 12,
    "start_time": "2024-04-10T10:44:32.438Z"
   },
   {
    "duration": 9,
    "start_time": "2024-04-10T10:56:25.865Z"
   },
   {
    "duration": 14,
    "start_time": "2024-04-10T10:56:27.572Z"
   },
   {
    "duration": 5,
    "start_time": "2024-04-10T10:56:47.313Z"
   },
   {
    "duration": 16,
    "start_time": "2024-04-10T10:56:58.986Z"
   },
   {
    "duration": 13,
    "start_time": "2024-04-10T10:57:08.267Z"
   },
   {
    "duration": 12,
    "start_time": "2024-04-10T11:00:17.474Z"
   },
   {
    "duration": 12,
    "start_time": "2024-04-10T11:00:38.971Z"
   },
   {
    "duration": 13,
    "start_time": "2024-04-10T11:00:45.068Z"
   },
   {
    "duration": 5,
    "start_time": "2024-04-10T11:00:56.084Z"
   },
   {
    "duration": 22,
    "start_time": "2024-04-10T11:01:00.075Z"
   },
   {
    "duration": 4,
    "start_time": "2024-04-10T11:01:41.483Z"
   },
   {
    "duration": 4,
    "start_time": "2024-04-10T11:02:51.371Z"
   },
   {
    "duration": 1101,
    "start_time": "2024-04-10T11:03:44.707Z"
   },
   {
    "duration": 659,
    "start_time": "2024-04-10T11:03:58.452Z"
   },
   {
    "duration": 138,
    "start_time": "2024-04-10T11:04:13.906Z"
   },
   {
    "duration": 258,
    "start_time": "2024-04-10T11:04:18.973Z"
   },
   {
    "duration": 288,
    "start_time": "2024-04-10T11:04:26.260Z"
   },
   {
    "duration": 318,
    "start_time": "2024-04-10T11:04:31.572Z"
   },
   {
    "duration": 289,
    "start_time": "2024-04-10T11:04:34.358Z"
   },
   {
    "duration": 396,
    "start_time": "2024-04-10T11:04:37.132Z"
   },
   {
    "duration": 290,
    "start_time": "2024-04-10T11:04:46.787Z"
   },
   {
    "duration": 282,
    "start_time": "2024-04-10T11:04:51.963Z"
   },
   {
    "duration": 281,
    "start_time": "2024-04-10T11:04:57.155Z"
   },
   {
    "duration": 278,
    "start_time": "2024-04-10T11:05:03.700Z"
   },
   {
    "duration": 14,
    "start_time": "2024-04-10T11:06:35.299Z"
   },
   {
    "duration": 19,
    "start_time": "2024-04-10T11:06:41.075Z"
   },
   {
    "duration": 5,
    "start_time": "2024-04-10T11:07:25.676Z"
   },
   {
    "duration": 4,
    "start_time": "2024-04-10T11:07:44.469Z"
   },
   {
    "duration": 1376,
    "start_time": "2024-04-10T11:45:30.096Z"
   },
   {
    "duration": 31,
    "start_time": "2024-04-10T11:45:31.475Z"
   },
   {
    "duration": 143,
    "start_time": "2024-04-10T11:45:32.905Z"
   },
   {
    "duration": 345,
    "start_time": "2024-04-10T11:45:34.179Z"
   },
   {
    "duration": 241,
    "start_time": "2024-04-10T11:45:34.985Z"
   },
   {
    "duration": 86,
    "start_time": "2024-04-10T11:45:35.937Z"
   },
   {
    "duration": 7,
    "start_time": "2024-04-10T11:45:37.249Z"
   },
   {
    "duration": 10,
    "start_time": "2024-04-10T11:45:37.984Z"
   },
   {
    "duration": 5,
    "start_time": "2024-04-10T11:45:38.650Z"
   },
   {
    "duration": 12,
    "start_time": "2024-04-10T11:45:38.978Z"
   },
   {
    "duration": 2163,
    "start_time": "2024-04-10T11:45:39.730Z"
   },
   {
    "duration": 291,
    "start_time": "2024-04-10T11:45:41.984Z"
   },
   {
    "duration": 324,
    "start_time": "2024-04-10T11:45:42.282Z"
   },
   {
    "duration": 3,
    "start_time": "2024-04-10T11:46:30.818Z"
   },
   {
    "duration": 3,
    "start_time": "2024-04-10T11:46:37.457Z"
   },
   {
    "duration": 17,
    "start_time": "2024-04-10T11:46:41.233Z"
   },
   {
    "duration": 1075,
    "start_time": "2024-04-10T11:46:41.609Z"
   },
   {
    "duration": 15,
    "start_time": "2024-04-10T11:46:51.049Z"
   },
   {
    "duration": 17,
    "start_time": "2024-04-10T11:46:57.632Z"
   },
   {
    "duration": 1650,
    "start_time": "2024-04-10T11:47:06.217Z"
   },
   {
    "duration": 407,
    "start_time": "2024-04-10T11:47:35.290Z"
   },
   {
    "duration": 9,
    "start_time": "2024-04-10T11:47:48.065Z"
   },
   {
    "duration": 9,
    "start_time": "2024-04-10T11:47:53.249Z"
   },
   {
    "duration": 3,
    "start_time": "2024-04-10T11:47:56.689Z"
   },
   {
    "duration": 4,
    "start_time": "2024-04-10T11:48:01.561Z"
   },
   {
    "duration": 4,
    "start_time": "2024-04-10T11:48:07.569Z"
   },
   {
    "duration": 440,
    "start_time": "2024-04-10T11:48:17.834Z"
   },
   {
    "duration": 1709,
    "start_time": "2024-04-10T11:48:34.305Z"
   },
   {
    "duration": 1670,
    "start_time": "2024-04-10T11:48:42.529Z"
   },
   {
    "duration": 70,
    "start_time": "2024-04-10T11:51:28.881Z"
   },
   {
    "duration": 4,
    "start_time": "2024-04-10T11:51:37.249Z"
   },
   {
    "duration": 6,
    "start_time": "2024-04-10T11:53:05.929Z"
   },
   {
    "duration": 4,
    "start_time": "2024-04-10T11:53:06.342Z"
   },
   {
    "duration": 8,
    "start_time": "2024-04-10T11:53:19.611Z"
   },
   {
    "duration": 3,
    "start_time": "2024-04-10T11:53:20.082Z"
   },
   {
    "duration": 7,
    "start_time": "2024-04-10T11:53:38.170Z"
   },
   {
    "duration": 4,
    "start_time": "2024-04-10T11:53:39.546Z"
   },
   {
    "duration": 4,
    "start_time": "2024-04-10T11:53:44.098Z"
   },
   {
    "duration": 9,
    "start_time": "2024-04-10T11:54:02.530Z"
   },
   {
    "duration": 11,
    "start_time": "2024-04-10T11:54:17.514Z"
   },
   {
    "duration": 16,
    "start_time": "2024-04-10T11:54:22.074Z"
   },
   {
    "duration": 21,
    "start_time": "2024-04-10T11:54:40.923Z"
   },
   {
    "duration": 6,
    "start_time": "2024-04-10T11:54:53.405Z"
   },
   {
    "duration": 20,
    "start_time": "2024-04-10T11:54:59.955Z"
   },
   {
    "duration": 40,
    "start_time": "2024-04-10T11:55:02.347Z"
   },
   {
    "duration": 16,
    "start_time": "2024-04-10T11:55:29.019Z"
   },
   {
    "duration": 10,
    "start_time": "2024-04-10T11:55:34.234Z"
   },
   {
    "duration": 15,
    "start_time": "2024-04-10T11:55:35.569Z"
   },
   {
    "duration": 1368,
    "start_time": "2024-04-10T11:55:58.796Z"
   },
   {
    "duration": 46,
    "start_time": "2024-04-10T11:56:00.166Z"
   },
   {
    "duration": 112,
    "start_time": "2024-04-10T11:56:00.214Z"
   },
   {
    "duration": 346,
    "start_time": "2024-04-10T11:56:00.329Z"
   },
   {
    "duration": 248,
    "start_time": "2024-04-10T11:56:00.676Z"
   },
   {
    "duration": 115,
    "start_time": "2024-04-10T11:56:00.926Z"
   },
   {
    "duration": 8,
    "start_time": "2024-04-10T11:56:01.042Z"
   },
   {
    "duration": 95,
    "start_time": "2024-04-10T11:56:01.052Z"
   },
   {
    "duration": 139,
    "start_time": "2024-04-10T11:56:01.151Z"
   },
   {
    "duration": 63,
    "start_time": "2024-04-10T11:56:01.292Z"
   },
   {
    "duration": 2436,
    "start_time": "2024-04-10T11:56:01.356Z"
   },
   {
    "duration": 322,
    "start_time": "2024-04-10T11:56:03.883Z"
   },
   {
    "duration": 8,
    "start_time": "2024-04-10T11:57:48.139Z"
   },
   {
    "duration": 201,
    "start_time": "2024-04-10T11:57:49.195Z"
   },
   {
    "duration": 936,
    "start_time": "2024-04-10T12:02:49.988Z"
   },
   {
    "duration": 5,
    "start_time": "2024-04-10T12:02:56.211Z"
   },
   {
    "duration": 11,
    "start_time": "2024-04-10T12:03:00.748Z"
   },
   {
    "duration": 12,
    "start_time": "2024-04-10T12:03:01.187Z"
   },
   {
    "duration": 10,
    "start_time": "2024-04-10T12:03:22.620Z"
   },
   {
    "duration": 3,
    "start_time": "2024-04-10T12:03:37.621Z"
   },
   {
    "duration": 9,
    "start_time": "2024-04-10T12:03:41.228Z"
   },
   {
    "duration": 12,
    "start_time": "2024-04-10T12:03:45.580Z"
   },
   {
    "duration": 4,
    "start_time": "2024-04-10T12:03:52.764Z"
   },
   {
    "duration": 10,
    "start_time": "2024-04-10T12:03:59.252Z"
   },
   {
    "duration": 11,
    "start_time": "2024-04-10T12:04:06.331Z"
   },
   {
    "duration": 15,
    "start_time": "2024-04-10T12:04:07.140Z"
   },
   {
    "duration": 12,
    "start_time": "2024-04-10T12:04:09.643Z"
   },
   {
    "duration": 10,
    "start_time": "2024-04-10T12:04:14.395Z"
   },
   {
    "duration": 6,
    "start_time": "2024-04-10T12:04:35.110Z"
   },
   {
    "duration": 7,
    "start_time": "2024-04-10T12:08:45.814Z"
   },
   {
    "duration": 5,
    "start_time": "2024-04-10T12:09:07.277Z"
   },
   {
    "duration": 9,
    "start_time": "2024-04-10T12:10:09.022Z"
   },
   {
    "duration": 7,
    "start_time": "2024-04-10T12:10:13.621Z"
   },
   {
    "duration": 5,
    "start_time": "2024-04-10T12:55:22.229Z"
   },
   {
    "duration": 58,
    "start_time": "2024-04-10T12:55:24.475Z"
   },
   {
    "duration": 3,
    "start_time": "2024-04-10T12:55:30.604Z"
   },
   {
    "duration": 14,
    "start_time": "2024-04-10T12:55:39.964Z"
   },
   {
    "duration": 3,
    "start_time": "2024-04-10T12:55:45.036Z"
   },
   {
    "duration": 4,
    "start_time": "2024-04-10T12:55:46.460Z"
   },
   {
    "duration": 11,
    "start_time": "2024-04-10T12:55:55.837Z"
   },
   {
    "duration": 4,
    "start_time": "2024-04-10T12:56:00.092Z"
   },
   {
    "duration": 6,
    "start_time": "2024-04-10T12:56:00.211Z"
   },
   {
    "duration": 5,
    "start_time": "2024-04-10T12:56:10.644Z"
   },
   {
    "duration": 6,
    "start_time": "2024-04-10T12:56:15.228Z"
   },
   {
    "duration": 4,
    "start_time": "2024-04-10T12:56:37.964Z"
   },
   {
    "duration": 5,
    "start_time": "2024-04-10T12:56:38.269Z"
   },
   {
    "duration": 4,
    "start_time": "2024-04-10T12:56:39.805Z"
   },
   {
    "duration": 5,
    "start_time": "2024-04-10T12:56:47.246Z"
   },
   {
    "duration": 6,
    "start_time": "2024-04-10T12:56:52.485Z"
   },
   {
    "duration": 5,
    "start_time": "2024-04-10T12:56:56.664Z"
   },
   {
    "duration": 5,
    "start_time": "2024-04-10T12:56:58.740Z"
   },
   {
    "duration": 4,
    "start_time": "2024-04-10T12:57:00.783Z"
   },
   {
    "duration": 6,
    "start_time": "2024-04-10T12:57:05.829Z"
   },
   {
    "duration": 5,
    "start_time": "2024-04-10T12:57:09.261Z"
   },
   {
    "duration": 6,
    "start_time": "2024-04-10T12:57:14.085Z"
   },
   {
    "duration": 5,
    "start_time": "2024-04-10T12:57:26.917Z"
   },
   {
    "duration": 6,
    "start_time": "2024-04-10T12:57:29.485Z"
   },
   {
    "duration": 5,
    "start_time": "2024-04-10T12:57:32.415Z"
   },
   {
    "duration": 6,
    "start_time": "2024-04-10T12:57:35.061Z"
   },
   {
    "duration": 4,
    "start_time": "2024-04-10T12:57:40.910Z"
   },
   {
    "duration": 6,
    "start_time": "2024-04-10T12:57:41.246Z"
   },
   {
    "duration": 6,
    "start_time": "2024-04-10T12:57:47.085Z"
   },
   {
    "duration": 8,
    "start_time": "2024-04-10T12:58:01.360Z"
   },
   {
    "duration": 10,
    "start_time": "2024-04-10T12:59:42.208Z"
   },
   {
    "duration": 4,
    "start_time": "2024-04-10T12:59:43.918Z"
   },
   {
    "duration": 9,
    "start_time": "2024-04-10T13:00:26.161Z"
   },
   {
    "duration": 9,
    "start_time": "2024-04-10T13:00:35.000Z"
   },
   {
    "duration": 4,
    "start_time": "2024-04-10T13:02:44.785Z"
   },
   {
    "duration": 4,
    "start_time": "2024-04-10T13:02:59.240Z"
   },
   {
    "duration": 63,
    "start_time": "2024-04-10T13:03:14.794Z"
   },
   {
    "duration": 10,
    "start_time": "2024-04-10T13:04:43.053Z"
   },
   {
    "duration": 11,
    "start_time": "2024-04-10T13:04:53.508Z"
   },
   {
    "duration": 10,
    "start_time": "2024-04-10T13:04:59.387Z"
   },
   {
    "duration": 19,
    "start_time": "2024-04-10T13:05:49.908Z"
   },
   {
    "duration": 11,
    "start_time": "2024-04-10T13:08:43.557Z"
   },
   {
    "duration": 10,
    "start_time": "2024-04-10T13:08:47.109Z"
   },
   {
    "duration": 11,
    "start_time": "2024-04-10T13:08:50.125Z"
   },
   {
    "duration": 12,
    "start_time": "2024-04-10T13:08:54.549Z"
   },
   {
    "duration": 11,
    "start_time": "2024-04-10T13:08:56.485Z"
   },
   {
    "duration": 13,
    "start_time": "2024-04-10T13:09:04.037Z"
   },
   {
    "duration": 11,
    "start_time": "2024-04-10T13:09:06.287Z"
   },
   {
    "duration": 12,
    "start_time": "2024-04-10T13:09:14.557Z"
   },
   {
    "duration": 12,
    "start_time": "2024-04-10T13:09:16.437Z"
   },
   {
    "duration": 10,
    "start_time": "2024-04-10T13:09:26.223Z"
   },
   {
    "duration": 19,
    "start_time": "2024-04-10T13:10:18.854Z"
   },
   {
    "duration": 76,
    "start_time": "2024-04-10T13:10:46.059Z"
   },
   {
    "duration": 16,
    "start_time": "2024-04-10T13:10:49.781Z"
   },
   {
    "duration": 15,
    "start_time": "2024-04-10T13:11:09.408Z"
   },
   {
    "duration": 20,
    "start_time": "2024-04-10T13:34:03.306Z"
   },
   {
    "duration": 15,
    "start_time": "2024-04-10T13:35:14.194Z"
   },
   {
    "duration": 15,
    "start_time": "2024-04-10T13:35:17.003Z"
   },
   {
    "duration": 23,
    "start_time": "2024-04-10T13:36:00.418Z"
   },
   {
    "duration": 24,
    "start_time": "2024-04-10T13:38:50.145Z"
   },
   {
    "duration": 16,
    "start_time": "2024-04-10T13:38:53.889Z"
   },
   {
    "duration": 19,
    "start_time": "2024-04-10T13:39:11.873Z"
   },
   {
    "duration": 18,
    "start_time": "2024-04-10T13:39:22.761Z"
   },
   {
    "duration": 3,
    "start_time": "2024-04-10T13:39:24.008Z"
   },
   {
    "duration": 4,
    "start_time": "2024-04-10T13:39:26.672Z"
   },
   {
    "duration": 4,
    "start_time": "2024-04-10T13:40:04.872Z"
   },
   {
    "duration": 4,
    "start_time": "2024-04-10T13:41:59.561Z"
   },
   {
    "duration": 19,
    "start_time": "2024-04-10T14:39:05.832Z"
   },
   {
    "duration": 5,
    "start_time": "2024-04-10T14:39:13.615Z"
   },
   {
    "duration": 3592,
    "start_time": "2024-04-10T14:39:16.718Z"
   },
   {
    "duration": 209,
    "start_time": "2024-04-10T14:39:23.878Z"
   },
   {
    "duration": 4,
    "start_time": "2024-04-10T14:39:29.485Z"
   },
   {
    "duration": 4,
    "start_time": "2024-04-10T14:39:30.181Z"
   },
   {
    "duration": 5,
    "start_time": "2024-04-10T14:39:30.935Z"
   },
   {
    "duration": 857,
    "start_time": "2024-04-10T14:39:31.855Z"
   },
   {
    "duration": 4652,
    "start_time": "2024-04-10T14:39:50.264Z"
   },
   {
    "duration": 21138,
    "start_time": "2024-04-10T14:43:14.912Z"
   },
   {
    "duration": 21057,
    "start_time": "2024-04-10T14:48:14.902Z"
   },
   {
    "duration": 30,
    "start_time": "2024-04-10T14:55:40.151Z"
   },
   {
    "duration": 36,
    "start_time": "2024-04-10T14:55:57.337Z"
   },
   {
    "duration": 13,
    "start_time": "2024-04-10T15:03:54.711Z"
   },
   {
    "duration": 21000,
    "start_time": "2024-04-10T15:04:11.599Z"
   },
   {
    "duration": 31,
    "start_time": "2024-04-10T15:04:32.601Z"
   },
   {
    "duration": 11,
    "start_time": "2024-04-10T15:04:32.634Z"
   },
   {
    "duration": 12,
    "start_time": "2024-04-10T15:04:46.322Z"
   },
   {
    "duration": 3,
    "start_time": "2024-04-10T15:04:55.215Z"
   },
   {
    "duration": 11,
    "start_time": "2024-04-10T15:04:59.752Z"
   },
   {
    "duration": 3,
    "start_time": "2024-04-10T15:05:05.246Z"
   },
   {
    "duration": 27,
    "start_time": "2024-04-10T15:05:08.622Z"
   },
   {
    "duration": 158,
    "start_time": "2024-04-10T15:05:22.455Z"
   },
   {
    "duration": 4,
    "start_time": "2024-04-10T15:07:08.281Z"
   },
   {
    "duration": 171,
    "start_time": "2024-04-10T15:07:13.344Z"
   },
   {
    "duration": 3,
    "start_time": "2024-04-10T15:07:36.514Z"
   },
   {
    "duration": 58,
    "start_time": "2024-04-10T15:07:36.817Z"
   },
   {
    "duration": 3,
    "start_time": "2024-04-10T15:07:46.610Z"
   },
   {
    "duration": 57,
    "start_time": "2024-04-10T15:07:48.474Z"
   },
   {
    "duration": 4,
    "start_time": "2024-04-10T15:08:05.250Z"
   },
   {
    "duration": 207,
    "start_time": "2024-04-10T15:08:09.418Z"
   },
   {
    "duration": 3,
    "start_time": "2024-04-10T15:15:17.465Z"
   },
   {
    "duration": 4,
    "start_time": "2024-04-10T15:15:17.919Z"
   },
   {
    "duration": 4,
    "start_time": "2024-04-10T15:15:18.360Z"
   },
   {
    "duration": 21313,
    "start_time": "2024-04-10T15:15:18.928Z"
   },
   {
    "duration": 42,
    "start_time": "2024-04-10T15:15:40.242Z"
   },
   {
    "duration": 317,
    "start_time": "2024-04-10T15:15:40.286Z"
   },
   {
    "duration": 3,
    "start_time": "2024-04-10T15:15:40.605Z"
   },
   {
    "duration": 48,
    "start_time": "2024-04-10T15:15:40.609Z"
   },
   {
    "duration": 46,
    "start_time": "2024-04-10T15:16:17.143Z"
   },
   {
    "duration": 1439,
    "start_time": "2024-04-10T15:16:28.916Z"
   },
   {
    "duration": 37,
    "start_time": "2024-04-10T15:16:30.357Z"
   },
   {
    "duration": 107,
    "start_time": "2024-04-10T15:16:30.395Z"
   },
   {
    "duration": 411,
    "start_time": "2024-04-10T15:16:30.503Z"
   },
   {
    "duration": 322,
    "start_time": "2024-04-10T15:16:30.917Z"
   },
   {
    "duration": 15,
    "start_time": "2024-04-10T15:16:31.241Z"
   },
   {
    "duration": 31,
    "start_time": "2024-04-10T15:16:31.258Z"
   },
   {
    "duration": 162,
    "start_time": "2024-04-10T15:16:31.290Z"
   },
   {
    "duration": 61,
    "start_time": "2024-04-10T15:16:31.454Z"
   },
   {
    "duration": 80,
    "start_time": "2024-04-10T15:16:31.517Z"
   },
   {
    "duration": 2186,
    "start_time": "2024-04-10T15:16:31.599Z"
   },
   {
    "duration": 203,
    "start_time": "2024-04-10T15:16:33.881Z"
   },
   {
    "duration": 18,
    "start_time": "2024-04-10T15:16:34.086Z"
   },
   {
    "duration": 92,
    "start_time": "2024-04-10T15:16:34.106Z"
   },
   {
    "duration": 18,
    "start_time": "2024-04-10T15:16:36.209Z"
   },
   {
    "duration": 4,
    "start_time": "2024-04-10T15:16:36.881Z"
   },
   {
    "duration": 4,
    "start_time": "2024-04-10T15:16:37.919Z"
   },
   {
    "duration": 5,
    "start_time": "2024-04-10T15:16:38.512Z"
   },
   {
    "duration": 88812,
    "start_time": "2024-04-10T15:16:39.177Z"
   },
   {
    "duration": 202,
    "start_time": "2024-04-10T15:18:07.992Z"
   },
   {
    "duration": 166,
    "start_time": "2024-04-10T15:18:08.196Z"
   },
   {
    "duration": 4,
    "start_time": "2024-04-10T15:18:08.364Z"
   },
   {
    "duration": 265,
    "start_time": "2024-04-10T15:18:08.381Z"
   },
   {
    "duration": 123,
    "start_time": "2024-04-10T15:18:36.193Z"
   },
   {
    "duration": 66,
    "start_time": "2024-04-10T15:19:02.530Z"
   },
   {
    "duration": 2122,
    "start_time": "2024-04-10T15:19:37.076Z"
   },
   {
    "duration": 1921,
    "start_time": "2024-04-10T15:19:45.378Z"
   },
   {
    "duration": 2011,
    "start_time": "2024-04-10T15:20:01.737Z"
   },
   {
    "duration": 30,
    "start_time": "2024-04-10T15:20:28.275Z"
   },
   {
    "duration": 155,
    "start_time": "2024-04-10T15:20:29.914Z"
   },
   {
    "duration": 4,
    "start_time": "2024-04-10T15:21:28.308Z"
   },
   {
    "duration": 30,
    "start_time": "2024-04-10T15:21:37.892Z"
   },
   {
    "duration": 59,
    "start_time": "2024-04-10T15:22:10.381Z"
   },
   {
    "duration": 33,
    "start_time": "2024-04-10T15:22:13.603Z"
   },
   {
    "duration": 20,
    "start_time": "2024-04-10T16:12:26.145Z"
   },
   {
    "duration": 9,
    "start_time": "2024-04-10T16:12:52.311Z"
   },
   {
    "duration": 8,
    "start_time": "2024-04-10T16:13:38.195Z"
   },
   {
    "duration": 8,
    "start_time": "2024-04-10T16:15:48.697Z"
   },
   {
    "duration": 53439,
    "start_time": "2024-04-10T16:15:50.216Z"
   },
   {
    "duration": 9,
    "start_time": "2024-04-10T16:16:43.962Z"
   },
   {
    "duration": 3933,
    "start_time": "2024-04-10T16:16:44.241Z"
   },
   {
    "duration": 10,
    "start_time": "2024-04-10T16:18:52.554Z"
   },
   {
    "duration": 5727,
    "start_time": "2024-04-10T16:18:52.690Z"
   },
   {
    "duration": 29479,
    "start_time": "2024-04-10T16:23:55.131Z"
   },
   {
    "duration": 11231,
    "start_time": "2024-04-10T16:24:26.915Z"
   },
   {
    "duration": 8,
    "start_time": "2024-04-10T16:24:39.068Z"
   },
   {
    "duration": 0,
    "start_time": "2024-04-10T16:24:46.487Z"
   },
   {
    "duration": 63,
    "start_time": "2024-04-10T17:37:36.650Z"
   },
   {
    "duration": 488546,
    "start_time": "2024-04-10T17:37:44.424Z"
   },
   {
    "duration": 0,
    "start_time": "2024-04-10T17:45:52.972Z"
   },
   {
    "duration": 0,
    "start_time": "2024-04-10T17:45:52.982Z"
   },
   {
    "duration": 0,
    "start_time": "2024-04-10T17:45:52.983Z"
   },
   {
    "duration": 3,
    "start_time": "2024-04-10T17:45:57.051Z"
   },
   {
    "duration": 3,
    "start_time": "2024-04-10T17:45:57.450Z"
   },
   {
    "duration": 4,
    "start_time": "2024-04-10T17:45:58.052Z"
   },
   {
    "duration": 11,
    "start_time": "2024-04-10T17:45:59.106Z"
   },
   {
    "duration": 7,
    "start_time": "2024-04-10T17:45:59.944Z"
   },
   {
    "duration": 6839,
    "start_time": "2024-04-10T17:46:05.164Z"
   },
   {
    "duration": 24139,
    "start_time": "2024-04-10T17:46:18.196Z"
   },
   {
    "duration": 27,
    "start_time": "2024-04-10T17:47:22.971Z"
   },
   {
    "duration": 52,
    "start_time": "2024-04-10T17:47:24.932Z"
   },
   {
    "duration": 18,
    "start_time": "2024-04-10T17:49:47.156Z"
   },
   {
    "duration": 53,
    "start_time": "2024-04-10T17:49:49.140Z"
   },
   {
    "duration": 14,
    "start_time": "2024-04-10T17:49:52.539Z"
   },
   {
    "duration": 13,
    "start_time": "2024-04-10T17:50:07.890Z"
   },
   {
    "duration": 7,
    "start_time": "2024-04-10T17:53:32.996Z"
   },
   {
    "duration": 22,
    "start_time": "2024-04-10T17:53:39.995Z"
   },
   {
    "duration": 17,
    "start_time": "2024-04-10T17:53:45.366Z"
   },
   {
    "duration": 12,
    "start_time": "2024-04-10T17:54:21.436Z"
   },
   {
    "duration": 74645,
    "start_time": "2024-04-10T17:54:29.061Z"
   },
   {
    "duration": 40,
    "start_time": "2024-04-10T17:55:43.708Z"
   },
   {
    "duration": 19,
    "start_time": "2024-04-10T18:20:27.575Z"
   },
   {
    "duration": 116,
    "start_time": "2024-04-10T18:20:28.417Z"
   },
   {
    "duration": 19,
    "start_time": "2024-04-10T18:20:29.199Z"
   },
   {
    "duration": 42,
    "start_time": "2024-04-10T18:20:30.843Z"
   },
   {
    "duration": 15,
    "start_time": "2024-04-10T18:21:23.486Z"
   },
   {
    "duration": 18,
    "start_time": "2024-04-10T18:21:23.800Z"
   },
   {
    "duration": 81,
    "start_time": "2024-04-10T18:22:28.563Z"
   },
   {
    "duration": 115,
    "start_time": "2024-04-10T18:22:52.512Z"
   },
   {
    "duration": 90,
    "start_time": "2024-04-10T18:23:00.250Z"
   },
   {
    "duration": 78,
    "start_time": "2024-04-10T18:31:22.963Z"
   },
   {
    "duration": 81,
    "start_time": "2024-04-10T18:31:38.648Z"
   },
   {
    "duration": 93,
    "start_time": "2024-04-10T18:31:45.409Z"
   },
   {
    "duration": 11986,
    "start_time": "2024-04-11T08:41:09.137Z"
   },
   {
    "duration": 1241,
    "start_time": "2024-04-11T08:41:27.302Z"
   },
   {
    "duration": 200,
    "start_time": "2024-04-11T08:41:39.419Z"
   },
   {
    "duration": 42,
    "start_time": "2024-04-11T08:41:42.089Z"
   },
   {
    "duration": 123,
    "start_time": "2024-04-11T08:41:47.775Z"
   },
   {
    "duration": 337,
    "start_time": "2024-04-11T08:41:54.479Z"
   },
   {
    "duration": 6,
    "start_time": "2024-04-11T08:47:09.443Z"
   },
   {
    "duration": 87,
    "start_time": "2024-04-11T08:47:19.176Z"
   },
   {
    "duration": 5,
    "start_time": "2024-04-11T08:47:33.960Z"
   },
   {
    "duration": 5,
    "start_time": "2024-04-11T08:49:01.281Z"
   },
   {
    "duration": 5,
    "start_time": "2024-04-11T08:49:40.346Z"
   },
   {
    "duration": 8,
    "start_time": "2024-04-11T08:51:09.346Z"
   },
   {
    "duration": 177,
    "start_time": "2024-04-11T08:51:19.297Z"
   },
   {
    "duration": 249,
    "start_time": "2024-04-11T08:51:26.665Z"
   },
   {
    "duration": 164,
    "start_time": "2024-04-11T08:51:45.826Z"
   },
   {
    "duration": 247,
    "start_time": "2024-04-11T08:52:09.238Z"
   },
   {
    "duration": 281,
    "start_time": "2024-04-11T08:52:13.410Z"
   },
   {
    "duration": 7,
    "start_time": "2024-04-11T08:53:06.867Z"
   },
   {
    "duration": 8,
    "start_time": "2024-04-11T08:53:45.418Z"
   },
   {
    "duration": 7,
    "start_time": "2024-04-11T08:53:56.706Z"
   },
   {
    "duration": 278,
    "start_time": "2024-04-11T08:54:05.082Z"
   },
   {
    "duration": 40,
    "start_time": "2024-04-11T09:17:00.201Z"
   },
   {
    "duration": 5,
    "start_time": "2024-04-11T09:17:08.392Z"
   },
   {
    "duration": 270,
    "start_time": "2024-04-11T09:17:16.112Z"
   },
   {
    "duration": 11,
    "start_time": "2024-04-11T09:19:44.081Z"
   },
   {
    "duration": 94,
    "start_time": "2024-04-11T09:19:49.129Z"
   },
   {
    "duration": 10,
    "start_time": "2024-04-11T09:19:51.143Z"
   },
   {
    "duration": 4,
    "start_time": "2024-04-11T09:19:53.881Z"
   },
   {
    "duration": 7,
    "start_time": "2024-04-11T09:19:59.480Z"
   },
   {
    "duration": 5,
    "start_time": "2024-04-11T09:20:03.465Z"
   },
   {
    "duration": 9,
    "start_time": "2024-04-11T09:20:06.193Z"
   },
   {
    "duration": 4,
    "start_time": "2024-04-11T09:20:08.308Z"
   },
   {
    "duration": 11,
    "start_time": "2024-04-11T09:20:11.776Z"
   },
   {
    "duration": 5,
    "start_time": "2024-04-11T09:20:26.586Z"
   },
   {
    "duration": 10,
    "start_time": "2024-04-11T09:20:28.905Z"
   },
   {
    "duration": 5,
    "start_time": "2024-04-11T09:22:09.802Z"
   },
   {
    "duration": 88,
    "start_time": "2024-04-11T09:22:14.232Z"
   },
   {
    "duration": 5,
    "start_time": "2024-04-11T09:22:16.242Z"
   },
   {
    "duration": 10,
    "start_time": "2024-04-11T09:22:18.833Z"
   },
   {
    "duration": 11,
    "start_time": "2024-04-11T09:22:23.104Z"
   },
   {
    "duration": 6,
    "start_time": "2024-04-11T09:22:26.129Z"
   },
   {
    "duration": 5,
    "start_time": "2024-04-11T09:22:41.961Z"
   },
   {
    "duration": 7,
    "start_time": "2024-04-11T09:22:45.561Z"
   },
   {
    "duration": 13,
    "start_time": "2024-04-11T09:22:47.985Z"
   },
   {
    "duration": 5,
    "start_time": "2024-04-11T09:22:50.553Z"
   },
   {
    "duration": 6,
    "start_time": "2024-04-11T09:22:54.088Z"
   },
   {
    "duration": 12,
    "start_time": "2024-04-11T09:22:56.665Z"
   },
   {
    "duration": 280,
    "start_time": "2024-04-11T09:23:43.409Z"
   },
   {
    "duration": 274,
    "start_time": "2024-04-11T09:24:46.074Z"
   },
   {
    "duration": 257,
    "start_time": "2024-04-11T09:24:51.977Z"
   },
   {
    "duration": 266,
    "start_time": "2024-04-11T09:25:10.017Z"
   },
   {
    "duration": 268,
    "start_time": "2024-04-11T09:25:28.858Z"
   },
   {
    "duration": 257,
    "start_time": "2024-04-11T09:25:41.434Z"
   },
   {
    "duration": 13,
    "start_time": "2024-04-11T09:25:47.799Z"
   },
   {
    "duration": 244,
    "start_time": "2024-04-11T09:25:52.171Z"
   },
   {
    "duration": 261,
    "start_time": "2024-04-11T09:26:06.802Z"
   },
   {
    "duration": 280,
    "start_time": "2024-04-11T09:27:05.010Z"
   },
   {
    "duration": 269,
    "start_time": "2024-04-11T09:27:37.400Z"
   },
   {
    "duration": 280,
    "start_time": "2024-04-11T09:27:48.948Z"
   },
   {
    "duration": 264,
    "start_time": "2024-04-11T09:28:33.988Z"
   },
   {
    "duration": 562,
    "start_time": "2024-04-11T09:28:54.311Z"
   },
   {
    "duration": 5,
    "start_time": "2024-04-11T09:29:57.475Z"
   },
   {
    "duration": 11,
    "start_time": "2024-04-11T09:30:00.994Z"
   },
   {
    "duration": 266,
    "start_time": "2024-04-11T09:30:09.946Z"
   },
   {
    "duration": 273,
    "start_time": "2024-04-11T09:30:34.931Z"
   },
   {
    "duration": 262,
    "start_time": "2024-04-11T09:31:43.668Z"
   },
   {
    "duration": 265,
    "start_time": "2024-04-11T09:31:48.179Z"
   },
   {
    "duration": 280,
    "start_time": "2024-04-11T09:31:54.354Z"
   },
   {
    "duration": 283,
    "start_time": "2024-04-11T09:31:58.819Z"
   },
   {
    "duration": 254,
    "start_time": "2024-04-11T09:32:02.739Z"
   },
   {
    "duration": 258,
    "start_time": "2024-04-11T09:32:09.091Z"
   },
   {
    "duration": 263,
    "start_time": "2024-04-11T09:32:13.851Z"
   },
   {
    "duration": 275,
    "start_time": "2024-04-11T09:32:18.659Z"
   },
   {
    "duration": 267,
    "start_time": "2024-04-11T09:32:22.940Z"
   },
   {
    "duration": 89,
    "start_time": "2024-04-11T09:33:07.375Z"
   },
   {
    "duration": 18,
    "start_time": "2024-04-11T09:33:12.979Z"
   },
   {
    "duration": 16,
    "start_time": "2024-04-11T09:33:21.371Z"
   },
   {
    "duration": 268,
    "start_time": "2024-04-11T09:33:29.651Z"
   },
   {
    "duration": 266,
    "start_time": "2024-04-11T09:33:44.075Z"
   },
   {
    "duration": 14,
    "start_time": "2024-04-11T09:35:28.604Z"
   },
   {
    "duration": 12,
    "start_time": "2024-04-11T09:35:35.447Z"
   },
   {
    "duration": 16,
    "start_time": "2024-04-11T09:35:53.348Z"
   },
   {
    "duration": 264,
    "start_time": "2024-04-11T09:35:59.200Z"
   },
   {
    "duration": 13,
    "start_time": "2024-04-11T09:39:02.509Z"
   },
   {
    "duration": 15845,
    "start_time": "2024-04-11T09:39:24.655Z"
   },
   {
    "duration": 678,
    "start_time": "2024-04-11T09:39:59.106Z"
   },
   {
    "duration": 7,
    "start_time": "2024-04-11T09:40:03.328Z"
   },
   {
    "duration": 1661,
    "start_time": "2024-04-11T09:40:08.974Z"
   },
   {
    "duration": 43,
    "start_time": "2024-04-11T09:40:10.637Z"
   },
   {
    "duration": 80,
    "start_time": "2024-04-11T09:40:10.681Z"
   },
   {
    "duration": 280,
    "start_time": "2024-04-11T09:40:10.763Z"
   },
   {
    "duration": 130,
    "start_time": "2024-04-11T09:40:11.044Z"
   },
   {
    "duration": 0,
    "start_time": "2024-04-11T09:40:11.176Z"
   },
   {
    "duration": 0,
    "start_time": "2024-04-11T09:40:11.178Z"
   },
   {
    "duration": 0,
    "start_time": "2024-04-11T09:40:11.179Z"
   },
   {
    "duration": 0,
    "start_time": "2024-04-11T09:40:11.180Z"
   },
   {
    "duration": 0,
    "start_time": "2024-04-11T09:40:11.181Z"
   },
   {
    "duration": 0,
    "start_time": "2024-04-11T09:40:11.182Z"
   },
   {
    "duration": 0,
    "start_time": "2024-04-11T09:40:11.183Z"
   },
   {
    "duration": 0,
    "start_time": "2024-04-11T09:40:11.184Z"
   },
   {
    "duration": 0,
    "start_time": "2024-04-11T09:40:11.185Z"
   },
   {
    "duration": 0,
    "start_time": "2024-04-11T09:40:11.186Z"
   },
   {
    "duration": 0,
    "start_time": "2024-04-11T09:40:11.187Z"
   },
   {
    "duration": 0,
    "start_time": "2024-04-11T09:40:11.188Z"
   },
   {
    "duration": 0,
    "start_time": "2024-04-11T09:40:11.189Z"
   },
   {
    "duration": 0,
    "start_time": "2024-04-11T09:40:11.190Z"
   },
   {
    "duration": 0,
    "start_time": "2024-04-11T09:40:11.191Z"
   },
   {
    "duration": 0,
    "start_time": "2024-04-11T09:40:11.192Z"
   },
   {
    "duration": 0,
    "start_time": "2024-04-11T09:40:11.193Z"
   },
   {
    "duration": 0,
    "start_time": "2024-04-11T09:40:11.194Z"
   },
   {
    "duration": 0,
    "start_time": "2024-04-11T09:40:11.195Z"
   },
   {
    "duration": 0,
    "start_time": "2024-04-11T09:40:11.196Z"
   },
   {
    "duration": 0,
    "start_time": "2024-04-11T09:40:11.197Z"
   },
   {
    "duration": 0,
    "start_time": "2024-04-11T09:40:11.198Z"
   },
   {
    "duration": 1618,
    "start_time": "2024-04-11T09:40:18.793Z"
   },
   {
    "duration": 8598,
    "start_time": "2024-04-11T09:40:51.030Z"
   },
   {
    "duration": 1737,
    "start_time": "2024-04-11T09:41:14.074Z"
   },
   {
    "duration": 1238,
    "start_time": "2024-04-11T09:41:26.190Z"
   },
   {
    "duration": 4483,
    "start_time": "2024-04-11T09:43:18.078Z"
   },
   {
    "duration": 1677,
    "start_time": "2024-04-11T09:43:28.010Z"
   },
   {
    "duration": 44,
    "start_time": "2024-04-11T09:43:29.689Z"
   },
   {
    "duration": 119,
    "start_time": "2024-04-11T09:43:32.829Z"
   },
   {
    "duration": 279,
    "start_time": "2024-04-11T09:43:34.110Z"
   },
   {
    "duration": 273,
    "start_time": "2024-04-11T09:43:41.973Z"
   },
   {
    "duration": 136,
    "start_time": "2024-04-11T09:43:46.909Z"
   },
   {
    "duration": 6,
    "start_time": "2024-04-11T09:44:18.326Z"
   },
   {
    "duration": 5,
    "start_time": "2024-04-11T09:44:24.670Z"
   },
   {
    "duration": 5,
    "start_time": "2024-04-11T09:46:10.286Z"
   },
   {
    "duration": 5,
    "start_time": "2024-04-11T09:46:16.909Z"
   },
   {
    "duration": 5,
    "start_time": "2024-04-11T09:46:20.472Z"
   },
   {
    "duration": 5,
    "start_time": "2024-04-11T09:46:23.991Z"
   },
   {
    "duration": 6,
    "start_time": "2024-04-11T09:46:26.685Z"
   },
   {
    "duration": 5,
    "start_time": "2024-04-11T09:46:29.013Z"
   },
   {
    "duration": 248,
    "start_time": "2024-04-11T09:46:45.207Z"
   },
   {
    "duration": 87,
    "start_time": "2024-04-11T09:47:11.487Z"
   },
   {
    "duration": 134,
    "start_time": "2024-04-11T09:47:52.376Z"
   },
   {
    "duration": 13,
    "start_time": "2024-04-11T09:50:06.696Z"
   },
   {
    "duration": 4,
    "start_time": "2024-04-11T09:50:13.055Z"
   },
   {
    "duration": 10,
    "start_time": "2024-04-11T09:50:15.183Z"
   },
   {
    "duration": 10,
    "start_time": "2024-04-11T09:50:16.831Z"
   },
   {
    "duration": 13,
    "start_time": "2024-04-11T09:50:18.943Z"
   },
   {
    "duration": 4,
    "start_time": "2024-04-11T09:50:42.107Z"
   },
   {
    "duration": 10,
    "start_time": "2024-04-11T09:50:43.671Z"
   },
   {
    "duration": 89,
    "start_time": "2024-04-11T09:55:48.137Z"
   },
   {
    "duration": 11,
    "start_time": "2024-04-11T09:55:52.530Z"
   },
   {
    "duration": 12,
    "start_time": "2024-04-11T09:55:55.185Z"
   },
   {
    "duration": 6,
    "start_time": "2024-04-11T09:56:26.577Z"
   },
   {
    "duration": 13,
    "start_time": "2024-04-11T09:56:34.257Z"
   },
   {
    "duration": 11,
    "start_time": "2024-04-11T09:56:39.042Z"
   },
   {
    "duration": 7,
    "start_time": "2024-04-11T09:56:55.323Z"
   },
   {
    "duration": 11,
    "start_time": "2024-04-11T09:56:58.185Z"
   },
   {
    "duration": 13,
    "start_time": "2024-04-11T09:58:06.648Z"
   },
   {
    "duration": 262,
    "start_time": "2024-04-11T09:58:13.463Z"
   },
   {
    "duration": 4,
    "start_time": "2024-04-11T09:58:24.051Z"
   },
   {
    "duration": 87,
    "start_time": "2024-04-11T09:58:26.203Z"
   },
   {
    "duration": 11,
    "start_time": "2024-04-11T09:58:27.603Z"
   },
   {
    "duration": 12,
    "start_time": "2024-04-11T09:58:37.211Z"
   },
   {
    "duration": 268,
    "start_time": "2024-04-11T09:58:54.021Z"
   },
   {
    "duration": 5,
    "start_time": "2024-04-11T09:58:59.802Z"
   },
   {
    "duration": 10,
    "start_time": "2024-04-11T09:59:02.298Z"
   },
   {
    "duration": 4,
    "start_time": "2024-04-11T09:59:14.318Z"
   },
   {
    "duration": 266,
    "start_time": "2024-04-11T09:59:35.515Z"
   },
   {
    "duration": 6,
    "start_time": "2024-04-11T09:59:55.355Z"
   },
   {
    "duration": 269,
    "start_time": "2024-04-11T10:00:13.300Z"
   },
   {
    "duration": 382,
    "start_time": "2024-04-11T10:23:56.898Z"
   },
   {
    "duration": 8,
    "start_time": "2024-04-11T10:26:07.018Z"
   },
   {
    "duration": 297,
    "start_time": "2024-04-11T10:26:10.917Z"
   },
   {
    "duration": 92,
    "start_time": "2024-04-11T10:26:29.730Z"
   },
   {
    "duration": 334,
    "start_time": "2024-04-11T10:26:32.012Z"
   },
   {
    "duration": 4,
    "start_time": "2024-04-11T10:26:52.298Z"
   },
   {
    "duration": 7,
    "start_time": "2024-04-11T10:27:09.058Z"
   },
   {
    "duration": 4,
    "start_time": "2024-04-11T10:27:11.339Z"
   },
   {
    "duration": 296,
    "start_time": "2024-04-11T10:27:18.202Z"
   },
   {
    "duration": 290,
    "start_time": "2024-04-11T10:27:25.330Z"
   },
   {
    "duration": 315,
    "start_time": "2024-04-11T10:27:29.986Z"
   },
   {
    "duration": 286,
    "start_time": "2024-04-11T10:27:33.186Z"
   },
   {
    "duration": 298,
    "start_time": "2024-04-11T10:27:41.233Z"
   },
   {
    "duration": 186,
    "start_time": "2024-04-11T10:27:44.794Z"
   },
   {
    "duration": 210,
    "start_time": "2024-04-11T10:28:05.000Z"
   },
   {
    "duration": 120,
    "start_time": "2024-04-11T10:28:26.034Z"
   },
   {
    "duration": 203,
    "start_time": "2024-04-11T10:28:30.747Z"
   },
   {
    "duration": 131,
    "start_time": "2024-04-11T10:29:11.434Z"
   },
   {
    "duration": 204,
    "start_time": "2024-04-11T10:29:18.317Z"
   },
   {
    "duration": 89,
    "start_time": "2024-04-11T10:29:31.251Z"
   },
   {
    "duration": 219,
    "start_time": "2024-04-11T10:29:34.314Z"
   },
   {
    "duration": 215,
    "start_time": "2024-04-11T10:29:38.738Z"
   },
   {
    "duration": 218,
    "start_time": "2024-04-11T10:30:09.138Z"
   },
   {
    "duration": 205,
    "start_time": "2024-04-11T10:30:25.801Z"
   },
   {
    "duration": 94,
    "start_time": "2024-04-11T10:30:38.978Z"
   },
   {
    "duration": 227,
    "start_time": "2024-04-11T10:30:50.442Z"
   },
   {
    "duration": 14,
    "start_time": "2024-04-11T10:31:20.058Z"
   },
   {
    "duration": 4,
    "start_time": "2024-04-11T10:31:23.347Z"
   },
   {
    "duration": 5,
    "start_time": "2024-04-11T10:31:37.833Z"
   },
   {
    "duration": 227,
    "start_time": "2024-04-11T10:32:00.506Z"
   },
   {
    "duration": 15,
    "start_time": "2024-04-11T10:32:12.826Z"
   },
   {
    "duration": 11,
    "start_time": "2024-04-11T10:32:19.402Z"
   },
   {
    "duration": 220,
    "start_time": "2024-04-11T10:32:22.322Z"
   },
   {
    "duration": 12,
    "start_time": "2024-04-11T10:32:29.090Z"
   },
   {
    "duration": 221,
    "start_time": "2024-04-11T10:32:58.555Z"
   },
   {
    "duration": 120,
    "start_time": "2024-04-11T10:33:13.210Z"
   },
   {
    "duration": 268,
    "start_time": "2024-04-11T10:33:15.273Z"
   },
   {
    "duration": 223,
    "start_time": "2024-04-11T10:38:10.794Z"
   },
   {
    "duration": 224,
    "start_time": "2024-04-11T10:38:26.202Z"
   },
   {
    "duration": 229,
    "start_time": "2024-04-11T10:38:45.337Z"
   },
   {
    "duration": 209,
    "start_time": "2024-04-11T10:38:54.603Z"
   },
   {
    "duration": 221,
    "start_time": "2024-04-11T10:38:57.644Z"
   },
   {
    "duration": 159,
    "start_time": "2024-04-11T10:39:39.602Z"
   },
   {
    "duration": 221,
    "start_time": "2024-04-11T10:39:42.514Z"
   },
   {
    "duration": 211,
    "start_time": "2024-04-11T10:39:50.731Z"
   },
   {
    "duration": 213,
    "start_time": "2024-04-11T10:40:03.163Z"
   },
   {
    "duration": 120,
    "start_time": "2024-04-11T10:40:19.666Z"
   },
   {
    "duration": 227,
    "start_time": "2024-04-11T10:40:25.084Z"
   },
   {
    "duration": 328,
    "start_time": "2024-04-11T10:40:42.627Z"
   },
   {
    "duration": 220,
    "start_time": "2024-04-11T10:40:46.675Z"
   },
   {
    "duration": 219,
    "start_time": "2024-04-11T10:40:59.123Z"
   },
   {
    "duration": 215,
    "start_time": "2024-04-11T10:41:10.719Z"
   },
   {
    "duration": 213,
    "start_time": "2024-04-11T10:41:14.355Z"
   },
   {
    "duration": 204,
    "start_time": "2024-04-11T10:41:17.730Z"
   },
   {
    "duration": 210,
    "start_time": "2024-04-11T10:41:28.523Z"
   },
   {
    "duration": 213,
    "start_time": "2024-04-11T10:41:36.076Z"
   },
   {
    "duration": 231,
    "start_time": "2024-04-11T10:41:43.594Z"
   },
   {
    "duration": 273,
    "start_time": "2024-04-11T10:42:06.812Z"
   },
   {
    "duration": 400,
    "start_time": "2024-04-11T10:46:51.668Z"
   },
   {
    "duration": 209,
    "start_time": "2024-04-11T10:48:03.164Z"
   },
   {
    "duration": 241,
    "start_time": "2024-04-11T10:49:20.998Z"
   },
   {
    "duration": 127,
    "start_time": "2024-04-11T10:49:28.069Z"
   },
   {
    "duration": 221,
    "start_time": "2024-04-11T10:49:29.875Z"
   },
   {
    "duration": 220,
    "start_time": "2024-04-11T10:49:34.467Z"
   },
   {
    "duration": 252,
    "start_time": "2024-04-11T10:49:41.971Z"
   },
   {
    "duration": 213,
    "start_time": "2024-04-11T10:49:46.718Z"
   },
   {
    "duration": 231,
    "start_time": "2024-04-11T10:49:51.644Z"
   },
   {
    "duration": 224,
    "start_time": "2024-04-11T10:50:05.972Z"
   },
   {
    "duration": 335,
    "start_time": "2024-04-11T10:50:09.780Z"
   },
   {
    "duration": 284,
    "start_time": "2024-04-11T10:50:16.460Z"
   },
   {
    "duration": 195,
    "start_time": "2024-04-11T10:50:20.379Z"
   },
   {
    "duration": 13,
    "start_time": "2024-04-11T10:50:24.523Z"
   },
   {
    "duration": 10,
    "start_time": "2024-04-11T10:50:31.446Z"
   },
   {
    "duration": 7,
    "start_time": "2024-04-11T10:50:36.211Z"
   },
   {
    "duration": 9,
    "start_time": "2024-04-11T10:50:38.036Z"
   },
   {
    "duration": 5,
    "start_time": "2024-04-11T10:50:45.100Z"
   },
   {
    "duration": 8,
    "start_time": "2024-04-11T10:50:50.220Z"
   },
   {
    "duration": 5,
    "start_time": "2024-04-11T10:50:51.628Z"
   },
   {
    "duration": 10,
    "start_time": "2024-04-11T10:50:52.253Z"
   },
   {
    "duration": 1660,
    "start_time": "2024-04-11T10:51:33.100Z"
   },
   {
    "duration": 1421,
    "start_time": "2024-04-11T10:51:36.140Z"
   },
   {
    "duration": 167,
    "start_time": "2024-04-11T10:51:37.860Z"
   },
   {
    "duration": 13,
    "start_time": "2024-04-11T10:55:04.557Z"
   },
   {
    "duration": 17,
    "start_time": "2024-04-11T10:55:22.445Z"
   },
   {
    "duration": 22,
    "start_time": "2024-04-11T10:55:26.374Z"
   },
   {
    "duration": 18,
    "start_time": "2024-04-11T10:55:38.885Z"
   },
   {
    "duration": 163,
    "start_time": "2024-04-11T10:55:57.158Z"
   },
   {
    "duration": 94,
    "start_time": "2024-04-11T10:56:06.669Z"
   },
   {
    "duration": 2432,
    "start_time": "2024-04-11T10:56:08.229Z"
   },
   {
    "duration": 151,
    "start_time": "2024-04-11T10:56:36.406Z"
   },
   {
    "duration": 2467,
    "start_time": "2024-04-11T10:56:46.277Z"
   },
   {
    "duration": 2449,
    "start_time": "2024-04-11T10:56:50.541Z"
   },
   {
    "duration": 2439,
    "start_time": "2024-04-11T10:56:58.542Z"
   },
   {
    "duration": 2435,
    "start_time": "2024-04-11T10:57:10.390Z"
   },
   {
    "duration": 2304,
    "start_time": "2024-04-11T10:57:13.422Z"
   },
   {
    "duration": 18,
    "start_time": "2024-04-11T10:57:32.287Z"
   },
   {
    "duration": 2412,
    "start_time": "2024-04-11T10:57:34.807Z"
   },
   {
    "duration": 1834,
    "start_time": "2024-04-11T10:57:45.028Z"
   },
   {
    "duration": 41,
    "start_time": "2024-04-11T10:57:46.864Z"
   },
   {
    "duration": 134,
    "start_time": "2024-04-11T10:57:46.908Z"
   },
   {
    "duration": 236,
    "start_time": "2024-04-11T10:57:47.044Z"
   },
   {
    "duration": 320,
    "start_time": "2024-04-11T10:57:47.282Z"
   },
   {
    "duration": 215,
    "start_time": "2024-04-11T10:57:47.604Z"
   },
   {
    "duration": 7,
    "start_time": "2024-04-11T10:57:47.820Z"
   },
   {
    "duration": 22,
    "start_time": "2024-04-11T10:57:47.828Z"
   },
   {
    "duration": 46,
    "start_time": "2024-04-11T10:57:47.851Z"
   },
   {
    "duration": 22,
    "start_time": "2024-04-11T10:57:47.898Z"
   },
   {
    "duration": 27,
    "start_time": "2024-04-11T10:57:47.921Z"
   },
   {
    "duration": 1618,
    "start_time": "2024-04-11T10:57:47.950Z"
   },
   {
    "duration": 365,
    "start_time": "2024-04-11T10:57:49.571Z"
   },
   {
    "duration": 40,
    "start_time": "2024-04-11T10:57:49.941Z"
   },
   {
    "duration": 1993,
    "start_time": "2024-04-11T10:57:51.086Z"
   },
   {
    "duration": 1690,
    "start_time": "2024-04-11T10:58:23.199Z"
   },
   {
    "duration": 45,
    "start_time": "2024-04-11T10:58:24.891Z"
   },
   {
    "duration": 91,
    "start_time": "2024-04-11T10:58:24.937Z"
   },
   {
    "duration": 273,
    "start_time": "2024-04-11T10:58:25.030Z"
   },
   {
    "duration": 311,
    "start_time": "2024-04-11T10:58:25.304Z"
   },
   {
    "duration": 197,
    "start_time": "2024-04-11T10:58:25.617Z"
   },
   {
    "duration": 6,
    "start_time": "2024-04-11T10:58:25.816Z"
   },
   {
    "duration": 12,
    "start_time": "2024-04-11T10:58:25.824Z"
   },
   {
    "duration": 8,
    "start_time": "2024-04-11T10:58:25.838Z"
   },
   {
    "duration": 6,
    "start_time": "2024-04-11T10:58:25.860Z"
   },
   {
    "duration": 9,
    "start_time": "2024-04-11T10:58:25.868Z"
   },
   {
    "duration": 1888,
    "start_time": "2024-04-11T10:58:25.878Z"
   },
   {
    "duration": 373,
    "start_time": "2024-04-11T10:58:27.768Z"
   },
   {
    "duration": 22,
    "start_time": "2024-04-11T10:58:37.038Z"
   },
   {
    "duration": 2110,
    "start_time": "2024-04-11T10:58:37.927Z"
   },
   {
    "duration": 1868,
    "start_time": "2024-04-11T10:58:49.400Z"
   },
   {
    "duration": 1729,
    "start_time": "2024-04-11T10:58:53.294Z"
   },
   {
    "duration": 1923,
    "start_time": "2024-04-11T10:58:58.252Z"
   },
   {
    "duration": 1759,
    "start_time": "2024-04-11T10:59:02.992Z"
   },
   {
    "duration": 1767,
    "start_time": "2024-04-11T10:59:06.815Z"
   },
   {
    "duration": 2023,
    "start_time": "2024-04-11T10:59:20.343Z"
   },
   {
    "duration": 1939,
    "start_time": "2024-04-11T10:59:23.097Z"
   },
   {
    "duration": 1893,
    "start_time": "2024-04-11T10:59:26.656Z"
   },
   {
    "duration": 16,
    "start_time": "2024-04-11T10:59:39.247Z"
   },
   {
    "duration": 3,
    "start_time": "2024-04-11T10:59:52.807Z"
   },
   {
    "duration": 3,
    "start_time": "2024-04-11T10:59:54.448Z"
   },
   {
    "duration": 5,
    "start_time": "2024-04-11T10:59:57.039Z"
   },
   {
    "duration": 17,
    "start_time": "2024-04-11T11:00:01.432Z"
   },
   {
    "duration": 8,
    "start_time": "2024-04-11T11:00:07.135Z"
   },
   {
    "duration": 155,
    "start_time": "2024-04-11T11:01:07.113Z"
   },
   {
    "duration": 17,
    "start_time": "2024-04-11T11:01:15.440Z"
   },
   {
    "duration": 4,
    "start_time": "2024-04-11T11:01:19.056Z"
   },
   {
    "duration": 7,
    "start_time": "2024-04-11T11:01:23.912Z"
   },
   {
    "duration": 4,
    "start_time": "2024-04-11T11:02:24.464Z"
   },
   {
    "duration": 7,
    "start_time": "2024-04-11T11:02:27.888Z"
   },
   {
    "duration": 9,
    "start_time": "2024-04-11T11:02:32.937Z"
   },
   {
    "duration": 9,
    "start_time": "2024-04-11T11:03:01.610Z"
   },
   {
    "duration": 9,
    "start_time": "2024-04-11T11:03:05.881Z"
   },
   {
    "duration": 5,
    "start_time": "2024-04-11T11:03:18.506Z"
   },
   {
    "duration": 4,
    "start_time": "2024-04-11T11:03:23.978Z"
   },
   {
    "duration": 8,
    "start_time": "2024-04-11T11:03:24.834Z"
   },
   {
    "duration": 10,
    "start_time": "2024-04-11T11:03:27.450Z"
   },
   {
    "duration": 9,
    "start_time": "2024-04-11T11:03:38.674Z"
   },
   {
    "duration": 7,
    "start_time": "2024-04-11T11:03:47.387Z"
   },
   {
    "duration": 9,
    "start_time": "2024-04-11T11:03:48.201Z"
   },
   {
    "duration": 8,
    "start_time": "2024-04-11T11:03:48.921Z"
   },
   {
    "duration": 11,
    "start_time": "2024-04-11T11:04:01.450Z"
   },
   {
    "duration": 7,
    "start_time": "2024-04-11T11:04:04.779Z"
   },
   {
    "duration": 9,
    "start_time": "2024-04-11T11:04:08.619Z"
   },
   {
    "duration": 9,
    "start_time": "2024-04-11T11:04:09.507Z"
   },
   {
    "duration": 5,
    "start_time": "2024-04-11T11:04:13.282Z"
   },
   {
    "duration": 3,
    "start_time": "2024-04-11T11:04:14.297Z"
   },
   {
    "duration": 7,
    "start_time": "2024-04-11T11:04:15.219Z"
   },
   {
    "duration": 5,
    "start_time": "2024-04-11T11:04:31.532Z"
   },
   {
    "duration": 3,
    "start_time": "2024-04-11T11:04:32.601Z"
   },
   {
    "duration": 8,
    "start_time": "2024-04-11T11:04:33.473Z"
   },
   {
    "duration": 9,
    "start_time": "2024-04-11T11:04:35.818Z"
   },
   {
    "duration": 11,
    "start_time": "2024-04-11T11:04:49.361Z"
   },
   {
    "duration": 20,
    "start_time": "2024-04-11T11:04:57.219Z"
   },
   {
    "duration": 74404,
    "start_time": "2024-04-11T11:05:02.996Z"
   },
   {
    "duration": 17,
    "start_time": "2024-04-11T11:06:20.153Z"
   },
   {
    "duration": 76,
    "start_time": "2024-04-11T11:06:24.988Z"
   },
   {
    "duration": 68,
    "start_time": "2024-04-11T11:07:34.236Z"
   },
   {
    "duration": 5,
    "start_time": "2024-04-11T11:24:25.050Z"
   },
   {
    "duration": 5,
    "start_time": "2024-04-11T11:24:35.817Z"
   },
   {
    "duration": 7,
    "start_time": "2024-04-11T11:25:36.298Z"
   },
   {
    "duration": 5,
    "start_time": "2024-04-11T11:25:42.367Z"
   },
   {
    "duration": 7,
    "start_time": "2024-04-11T11:25:48.192Z"
   },
   {
    "duration": 8,
    "start_time": "2024-04-11T11:25:58.824Z"
   },
   {
    "duration": 10,
    "start_time": "2024-04-11T11:26:21.985Z"
   },
   {
    "duration": 8,
    "start_time": "2024-04-11T11:26:30.770Z"
   },
   {
    "duration": 10,
    "start_time": "2024-04-11T11:26:34.010Z"
   },
   {
    "duration": 24598,
    "start_time": "2024-04-11T11:26:46.587Z"
   },
   {
    "duration": 3,
    "start_time": "2024-04-11T11:27:20.121Z"
   },
   {
    "duration": 54634,
    "start_time": "2024-04-11T11:27:41.235Z"
   },
   {
    "duration": 152643,
    "start_time": "2024-04-11T11:28:45.493Z"
   },
   {
    "duration": 138236,
    "start_time": "2024-04-11T11:34:39.164Z"
   },
   {
    "duration": 4,
    "start_time": "2024-04-11T11:41:22.134Z"
   },
   {
    "duration": 2127,
    "start_time": "2024-04-11T11:41:42.438Z"
   },
   {
    "duration": 12877,
    "start_time": "2024-04-11T11:42:13.384Z"
   },
   {
    "duration": 13,
    "start_time": "2024-04-11T11:42:46.958Z"
   },
   {
    "duration": 13720,
    "start_time": "2024-04-11T11:43:05.854Z"
   },
   {
    "duration": 9,
    "start_time": "2024-04-11T11:45:12.608Z"
   },
   {
    "duration": 12199,
    "start_time": "2024-04-11T11:45:50.466Z"
   },
   {
    "duration": 326,
    "start_time": "2024-04-11T11:46:02.668Z"
   },
   {
    "duration": 1727,
    "start_time": "2024-04-11T11:56:57.434Z"
   },
   {
    "duration": 43,
    "start_time": "2024-04-11T11:57:00.072Z"
   },
   {
    "duration": 93,
    "start_time": "2024-04-11T11:57:01.418Z"
   },
   {
    "duration": 230,
    "start_time": "2024-04-11T11:57:02.699Z"
   },
   {
    "duration": 297,
    "start_time": "2024-04-11T11:57:04.114Z"
   },
   {
    "duration": 204,
    "start_time": "2024-04-11T11:57:05.580Z"
   },
   {
    "duration": 6,
    "start_time": "2024-04-11T11:57:06.690Z"
   },
   {
    "duration": 8,
    "start_time": "2024-04-11T11:57:08.938Z"
   },
   {
    "duration": 9,
    "start_time": "2024-04-11T11:57:09.931Z"
   },
   {
    "duration": 5,
    "start_time": "2024-04-11T11:57:10.723Z"
   },
   {
    "duration": 12,
    "start_time": "2024-04-11T11:57:11.459Z"
   },
   {
    "duration": 1573,
    "start_time": "2024-04-11T11:57:12.595Z"
   },
   {
    "duration": 269,
    "start_time": "2024-04-11T11:57:14.261Z"
   },
   {
    "duration": 19,
    "start_time": "2024-04-11T11:57:15.227Z"
   },
   {
    "duration": 1960,
    "start_time": "2024-04-11T11:57:17.042Z"
   },
   {
    "duration": 15,
    "start_time": "2024-04-11T11:57:19.004Z"
   },
   {
    "duration": 7,
    "start_time": "2024-04-11T11:57:20.218Z"
   },
   {
    "duration": 8,
    "start_time": "2024-04-11T11:57:25.843Z"
   },
   {
    "duration": 10,
    "start_time": "2024-04-11T11:57:27.801Z"
   },
   {
    "duration": 12325,
    "start_time": "2024-04-11T11:57:28.243Z"
   },
   {
    "duration": 99,
    "start_time": "2024-04-11T11:57:40.661Z"
   },
   {
    "duration": 6,
    "start_time": "2024-04-11T11:58:24.602Z"
   },
   {
    "duration": 3,
    "start_time": "2024-04-11T11:58:29.114Z"
   },
   {
    "duration": 5,
    "start_time": "2024-04-11T11:58:36.731Z"
   },
   {
    "duration": 6,
    "start_time": "2024-04-11T11:58:49.164Z"
   },
   {
    "duration": 4,
    "start_time": "2024-04-11T11:59:07.843Z"
   },
   {
    "duration": 7,
    "start_time": "2024-04-11T12:00:27.788Z"
   },
   {
    "duration": 4,
    "start_time": "2024-04-11T12:00:31.074Z"
   },
   {
    "duration": 4,
    "start_time": "2024-04-11T12:00:51.563Z"
   },
   {
    "duration": 3,
    "start_time": "2024-04-11T12:01:11.491Z"
   },
   {
    "duration": 3,
    "start_time": "2024-04-11T12:01:13.747Z"
   },
   {
    "duration": 4,
    "start_time": "2024-04-11T12:04:31.596Z"
   },
   {
    "duration": 16,
    "start_time": "2024-04-11T12:06:06.408Z"
   },
   {
    "duration": 1718,
    "start_time": "2024-04-11T12:06:19.498Z"
   },
   {
    "duration": 43,
    "start_time": "2024-04-11T12:06:21.219Z"
   },
   {
    "duration": 143,
    "start_time": "2024-04-11T12:06:21.263Z"
   },
   {
    "duration": 259,
    "start_time": "2024-04-11T12:06:21.408Z"
   },
   {
    "duration": 310,
    "start_time": "2024-04-11T12:06:21.670Z"
   },
   {
    "duration": 225,
    "start_time": "2024-04-11T12:06:21.982Z"
   },
   {
    "duration": 6,
    "start_time": "2024-04-11T12:06:22.209Z"
   },
   {
    "duration": 7,
    "start_time": "2024-04-11T12:06:22.216Z"
   },
   {
    "duration": 8,
    "start_time": "2024-04-11T12:06:22.224Z"
   },
   {
    "duration": 27,
    "start_time": "2024-04-11T12:06:22.233Z"
   },
   {
    "duration": 10,
    "start_time": "2024-04-11T12:06:22.261Z"
   },
   {
    "duration": 1491,
    "start_time": "2024-04-11T12:06:22.272Z"
   },
   {
    "duration": 365,
    "start_time": "2024-04-11T12:06:23.765Z"
   },
   {
    "duration": 14,
    "start_time": "2024-04-11T12:06:24.791Z"
   },
   {
    "duration": 11,
    "start_time": "2024-04-11T12:06:29.278Z"
   },
   {
    "duration": 1521,
    "start_time": "2024-04-11T12:06:42.717Z"
   },
   {
    "duration": 14,
    "start_time": "2024-04-11T12:06:47.341Z"
   },
   {
    "duration": 6,
    "start_time": "2024-04-11T12:06:48.494Z"
   },
   {
    "duration": 9,
    "start_time": "2024-04-11T12:06:50.021Z"
   },
   {
    "duration": 12,
    "start_time": "2024-04-11T12:06:51.087Z"
   },
   {
    "duration": 5268,
    "start_time": "2024-04-11T12:06:51.598Z"
   },
   {
    "duration": 91,
    "start_time": "2024-04-11T12:06:56.869Z"
   },
   {
    "duration": 5,
    "start_time": "2024-04-11T12:06:56.962Z"
   },
   {
    "duration": 10,
    "start_time": "2024-04-11T12:11:55.662Z"
   },
   {
    "duration": 9,
    "start_time": "2024-04-11T12:12:01.157Z"
   },
   {
    "duration": 98583,
    "start_time": "2024-04-11T12:12:02.190Z"
   },
   {
    "duration": 20,
    "start_time": "2024-04-11T12:14:19.495Z"
   },
   {
    "duration": 49,
    "start_time": "2024-04-11T12:14:24.431Z"
   },
   {
    "duration": 62,
    "start_time": "2024-04-11T12:17:40.737Z"
   },
   {
    "duration": 4,
    "start_time": "2024-04-11T12:18:09.455Z"
   },
   {
    "duration": 63164,
    "start_time": "2024-04-11T12:18:21.088Z"
   },
   {
    "duration": 53150,
    "start_time": "2024-04-11T12:21:47.665Z"
   },
   {
    "duration": 0,
    "start_time": "2024-04-11T12:22:40.816Z"
   },
   {
    "duration": 15,
    "start_time": "2024-04-11T12:22:42.432Z"
   },
   {
    "duration": 1708,
    "start_time": "2024-04-11T12:22:48.827Z"
   },
   {
    "duration": 46,
    "start_time": "2024-04-11T12:22:50.537Z"
   },
   {
    "duration": 82,
    "start_time": "2024-04-11T12:22:50.584Z"
   },
   {
    "duration": 238,
    "start_time": "2024-04-11T12:22:50.668Z"
   },
   {
    "duration": 302,
    "start_time": "2024-04-11T12:22:50.908Z"
   },
   {
    "duration": 210,
    "start_time": "2024-04-11T12:22:51.212Z"
   },
   {
    "duration": 6,
    "start_time": "2024-04-11T12:22:51.424Z"
   },
   {
    "duration": 7,
    "start_time": "2024-04-11T12:22:51.432Z"
   },
   {
    "duration": 27,
    "start_time": "2024-04-11T12:22:51.441Z"
   },
   {
    "duration": 12,
    "start_time": "2024-04-11T12:22:51.470Z"
   },
   {
    "duration": 13,
    "start_time": "2024-04-11T12:22:51.484Z"
   },
   {
    "duration": 1763,
    "start_time": "2024-04-11T12:22:51.499Z"
   },
   {
    "duration": 367,
    "start_time": "2024-04-11T12:22:53.264Z"
   },
   {
    "duration": 22,
    "start_time": "2024-04-11T12:22:55.297Z"
   },
   {
    "duration": 1496,
    "start_time": "2024-04-11T12:22:58.145Z"
   },
   {
    "duration": 18,
    "start_time": "2024-04-11T12:22:59.642Z"
   },
   {
    "duration": 6,
    "start_time": "2024-04-11T12:23:00.185Z"
   },
   {
    "duration": 9,
    "start_time": "2024-04-11T12:23:01.049Z"
   },
   {
    "duration": 9,
    "start_time": "2024-04-11T12:23:02.129Z"
   },
   {
    "duration": 10,
    "start_time": "2024-04-11T12:23:02.793Z"
   },
   {
    "duration": 63198,
    "start_time": "2024-04-11T12:23:03.506Z"
   },
   {
    "duration": 19,
    "start_time": "2024-04-11T12:24:09.930Z"
   },
   {
    "duration": 188,
    "start_time": "2024-04-11T12:24:10.739Z"
   },
   {
    "duration": 76,
    "start_time": "2024-04-11T12:24:18.789Z"
   },
   {
    "duration": 67,
    "start_time": "2024-04-11T12:24:26.114Z"
   },
   {
    "duration": 17,
    "start_time": "2024-04-11T12:28:31.436Z"
   },
   {
    "duration": 61,
    "start_time": "2024-04-11T12:28:43.970Z"
   },
   {
    "duration": 65,
    "start_time": "2024-04-11T12:29:02.932Z"
   },
   {
    "duration": 62,
    "start_time": "2024-04-11T12:29:32.444Z"
   },
   {
    "duration": 164,
    "start_time": "2024-04-11T12:29:37.509Z"
   },
   {
    "duration": 77,
    "start_time": "2024-04-11T12:30:03.379Z"
   },
   {
    "duration": 67,
    "start_time": "2024-04-11T12:31:13.445Z"
   },
   {
    "duration": 64,
    "start_time": "2024-04-11T12:31:28.171Z"
   },
   {
    "duration": 1614,
    "start_time": "2024-04-11T12:31:41.912Z"
   },
   {
    "duration": 44,
    "start_time": "2024-04-11T12:31:43.528Z"
   },
   {
    "duration": 79,
    "start_time": "2024-04-11T12:31:43.573Z"
   },
   {
    "duration": 235,
    "start_time": "2024-04-11T12:31:43.654Z"
   },
   {
    "duration": 295,
    "start_time": "2024-04-11T12:31:43.892Z"
   },
   {
    "duration": 210,
    "start_time": "2024-04-11T12:31:44.189Z"
   },
   {
    "duration": 7,
    "start_time": "2024-04-11T12:31:44.400Z"
   },
   {
    "duration": 9,
    "start_time": "2024-04-11T12:31:44.409Z"
   },
   {
    "duration": 8,
    "start_time": "2024-04-11T12:31:44.420Z"
   },
   {
    "duration": 29,
    "start_time": "2024-04-11T12:31:44.430Z"
   },
   {
    "duration": 10,
    "start_time": "2024-04-11T12:31:44.461Z"
   },
   {
    "duration": 1690,
    "start_time": "2024-04-11T12:31:44.473Z"
   },
   {
    "duration": 363,
    "start_time": "2024-04-11T12:31:46.165Z"
   },
   {
    "duration": 16,
    "start_time": "2024-04-11T12:31:46.530Z"
   },
   {
    "duration": 1492,
    "start_time": "2024-04-11T12:31:46.548Z"
   },
   {
    "duration": 29,
    "start_time": "2024-04-11T12:31:48.041Z"
   },
   {
    "duration": 6,
    "start_time": "2024-04-11T12:31:48.071Z"
   },
   {
    "duration": 35,
    "start_time": "2024-04-11T12:31:48.078Z"
   },
   {
    "duration": 14,
    "start_time": "2024-04-11T12:31:48.114Z"
   },
   {
    "duration": 129,
    "start_time": "2024-04-11T12:31:48.130Z"
   },
   {
    "duration": 63617,
    "start_time": "2024-04-11T12:31:48.261Z"
   },
   {
    "duration": 140,
    "start_time": "2024-04-11T12:32:55.612Z"
   },
   {
    "duration": 6,
    "start_time": "2024-04-11T12:33:03.396Z"
   },
   {
    "duration": 75,
    "start_time": "2024-04-11T12:33:07.628Z"
   },
   {
    "duration": 10,
    "start_time": "2024-04-11T12:33:31.956Z"
   },
   {
    "duration": 9,
    "start_time": "2024-04-11T12:33:32.732Z"
   },
   {
    "duration": 12,
    "start_time": "2024-04-11T12:33:35.021Z"
   },
   {
    "duration": 61,
    "start_time": "2024-04-11T12:33:40.612Z"
   },
   {
    "duration": 58,
    "start_time": "2024-04-11T12:33:54.964Z"
   },
   {
    "duration": 60,
    "start_time": "2024-04-11T12:34:03.948Z"
   },
   {
    "duration": 58,
    "start_time": "2024-04-11T12:34:07.645Z"
   },
   {
    "duration": 11,
    "start_time": "2024-04-11T12:39:11.973Z"
   },
   {
    "duration": 1772,
    "start_time": "2024-04-11T12:49:10.033Z"
   },
   {
    "duration": 47,
    "start_time": "2024-04-11T12:49:11.807Z"
   },
   {
    "duration": 44,
    "start_time": "2024-04-11T12:49:17.808Z"
   },
   {
    "duration": 132,
    "start_time": "2024-04-11T12:49:21.023Z"
   },
   {
    "duration": 223,
    "start_time": "2024-04-11T12:49:48.391Z"
   },
   {
    "duration": 309,
    "start_time": "2024-04-11T12:50:10.470Z"
   },
   {
    "duration": 194,
    "start_time": "2024-04-11T12:50:17.344Z"
   },
   {
    "duration": 8,
    "start_time": "2024-04-11T12:53:04.547Z"
   },
   {
    "duration": 9,
    "start_time": "2024-04-11T12:53:12.359Z"
   },
   {
    "duration": 6,
    "start_time": "2024-04-11T12:53:17.166Z"
   },
   {
    "duration": 14,
    "start_time": "2024-04-11T12:53:24.511Z"
   },
   {
    "duration": 18657,
    "start_time": "2024-04-11T12:54:37.809Z"
   },
   {
    "duration": 289,
    "start_time": "2024-04-11T12:54:56.468Z"
   },
   {
    "duration": 17,
    "start_time": "2024-04-11T12:55:16.120Z"
   },
   {
    "duration": 27828,
    "start_time": "2024-04-11T12:55:24.488Z"
   },
   {
    "duration": 18,
    "start_time": "2024-04-11T12:56:11.807Z"
   },
   {
    "duration": 17,
    "start_time": "2024-04-11T12:56:27.969Z"
   },
   {
    "duration": 7,
    "start_time": "2024-04-11T12:56:30.952Z"
   },
   {
    "duration": 9,
    "start_time": "2024-04-11T12:56:37.216Z"
   },
   {
    "duration": 6,
    "start_time": "2024-04-11T12:57:03.480Z"
   },
   {
    "duration": 9,
    "start_time": "2024-04-11T12:57:04.384Z"
   },
   {
    "duration": 18,
    "start_time": "2024-04-11T12:57:07.016Z"
   },
   {
    "duration": 13,
    "start_time": "2024-04-11T12:57:08.031Z"
   },
   {
    "duration": 35208,
    "start_time": "2024-04-11T12:57:14.968Z"
   },
   {
    "duration": 68,
    "start_time": "2024-04-11T12:58:15.319Z"
   },
   {
    "duration": 12,
    "start_time": "2024-04-11T12:58:22.056Z"
   },
   {
    "duration": 1698,
    "start_time": "2024-04-11T13:04:06.782Z"
   },
   {
    "duration": 51,
    "start_time": "2024-04-11T13:04:08.482Z"
   },
   {
    "duration": 91,
    "start_time": "2024-04-11T13:04:08.534Z"
   },
   {
    "duration": 232,
    "start_time": "2024-04-11T13:04:08.626Z"
   },
   {
    "duration": 305,
    "start_time": "2024-04-11T13:04:08.859Z"
   },
   {
    "duration": 200,
    "start_time": "2024-04-11T13:04:09.166Z"
   },
   {
    "duration": 6,
    "start_time": "2024-04-11T13:04:09.368Z"
   },
   {
    "duration": 19,
    "start_time": "2024-04-11T13:04:09.375Z"
   },
   {
    "duration": 21,
    "start_time": "2024-04-11T13:04:09.395Z"
   },
   {
    "duration": 6,
    "start_time": "2024-04-11T13:04:09.418Z"
   },
   {
    "duration": 23,
    "start_time": "2024-04-11T13:04:09.425Z"
   },
   {
    "duration": 1714,
    "start_time": "2024-04-11T13:04:09.449Z"
   },
   {
    "duration": 362,
    "start_time": "2024-04-11T13:04:11.165Z"
   },
   {
    "duration": 19,
    "start_time": "2024-04-11T13:04:11.529Z"
   },
   {
    "duration": 1518,
    "start_time": "2024-04-11T13:04:11.549Z"
   },
   {
    "duration": 15,
    "start_time": "2024-04-11T13:04:13.069Z"
   },
   {
    "duration": 6,
    "start_time": "2024-04-11T13:04:13.086Z"
   },
   {
    "duration": 45,
    "start_time": "2024-04-11T13:04:13.094Z"
   },
   {
    "duration": 14,
    "start_time": "2024-04-11T13:04:13.140Z"
   },
   {
    "duration": 201,
    "start_time": "2024-04-11T13:04:13.159Z"
   },
   {
    "duration": 64934,
    "start_time": "2024-04-11T13:04:13.362Z"
   },
   {
    "duration": 67,
    "start_time": "2024-04-11T13:05:18.298Z"
   },
   {
    "duration": 9,
    "start_time": "2024-04-11T13:05:18.367Z"
   },
   {
    "duration": 52,
    "start_time": "2024-04-13T08:08:09.994Z"
   },
   {
    "duration": 28052,
    "start_time": "2024-04-13T08:08:16.147Z"
   },
   {
    "duration": 1756,
    "start_time": "2024-04-13T08:08:53.522Z"
   },
   {
    "duration": 31,
    "start_time": "2024-04-13T08:08:56.315Z"
   },
   {
    "duration": 132,
    "start_time": "2024-04-13T08:09:02.275Z"
   },
   {
    "duration": 8,
    "start_time": "2024-04-13T08:09:04.201Z"
   },
   {
    "duration": 10,
    "start_time": "2024-04-13T08:09:12.036Z"
   },
   {
    "duration": 5,
    "start_time": "2024-04-13T08:09:18.018Z"
   },
   {
    "duration": 9,
    "start_time": "2024-04-13T08:09:19.305Z"
   },
   {
    "duration": 7,
    "start_time": "2024-04-13T08:10:43.251Z"
   },
   {
    "duration": 8,
    "start_time": "2024-04-13T08:10:45.074Z"
   },
   {
    "duration": 6,
    "start_time": "2024-04-13T08:10:50.067Z"
   },
   {
    "duration": 10,
    "start_time": "2024-04-13T08:10:50.970Z"
   },
   {
    "duration": 2214,
    "start_time": "2024-04-13T08:11:05.107Z"
   },
   {
    "duration": 1445,
    "start_time": "2024-04-13T09:38:48.975Z"
   },
   {
    "duration": 60,
    "start_time": "2024-04-13T09:41:21.570Z"
   },
   {
    "duration": 558,
    "start_time": "2024-04-13T09:48:36.345Z"
   },
   {
    "duration": 750,
    "start_time": "2024-04-13T09:49:04.901Z"
   },
   {
    "duration": 596,
    "start_time": "2024-04-13T09:49:10.451Z"
   },
   {
    "duration": 128,
    "start_time": "2024-04-13T09:49:15.555Z"
   },
   {
    "duration": 641,
    "start_time": "2024-04-13T09:49:20.594Z"
   },
   {
    "duration": 10,
    "start_time": "2024-04-13T09:49:25.987Z"
   },
   {
    "duration": 480,
    "start_time": "2024-04-13T09:49:29.601Z"
   },
   {
    "duration": 590,
    "start_time": "2024-04-13T09:49:32.306Z"
   },
   {
    "duration": 520,
    "start_time": "2024-04-13T09:49:37.186Z"
   },
   {
    "duration": 527,
    "start_time": "2024-04-13T09:49:56.858Z"
   },
   {
    "duration": 507,
    "start_time": "2024-04-13T09:50:09.434Z"
   },
   {
    "duration": 487,
    "start_time": "2024-04-13T09:50:12.402Z"
   },
   {
    "duration": 488,
    "start_time": "2024-04-13T09:50:20.290Z"
   },
   {
    "duration": 648,
    "start_time": "2024-04-13T09:51:04.658Z"
   },
   {
    "duration": 534,
    "start_time": "2024-04-13T09:52:15.195Z"
   },
   {
    "duration": 523,
    "start_time": "2024-04-13T09:53:37.844Z"
   },
   {
    "duration": 218,
    "start_time": "2024-04-13T09:59:37.595Z"
   },
   {
    "duration": 533,
    "start_time": "2024-04-13T10:04:46.300Z"
   },
   {
    "duration": 234,
    "start_time": "2024-04-13T10:05:07.043Z"
   },
   {
    "duration": 13,
    "start_time": "2024-04-13T14:01:06.375Z"
   },
   {
    "duration": 17,
    "start_time": "2024-04-13T14:01:14.474Z"
   },
   {
    "duration": 11,
    "start_time": "2024-04-13T14:01:28.753Z"
   },
   {
    "duration": 9,
    "start_time": "2024-04-13T14:01:46.983Z"
   },
   {
    "duration": 10,
    "start_time": "2024-04-13T14:01:55.841Z"
   },
   {
    "duration": 10,
    "start_time": "2024-04-13T14:02:12.698Z"
   },
   {
    "duration": 10,
    "start_time": "2024-04-13T14:02:54.634Z"
   },
   {
    "duration": 10,
    "start_time": "2024-04-13T14:02:59.977Z"
   },
   {
    "duration": 10,
    "start_time": "2024-04-13T14:03:08.923Z"
   },
   {
    "duration": 9,
    "start_time": "2024-04-13T14:03:12.170Z"
   },
   {
    "duration": 13,
    "start_time": "2024-04-13T14:03:15.443Z"
   },
   {
    "duration": 4,
    "start_time": "2024-04-13T14:09:42.372Z"
   },
   {
    "duration": 9,
    "start_time": "2024-04-13T14:10:01.219Z"
   },
   {
    "duration": 9,
    "start_time": "2024-04-13T14:10:04.897Z"
   },
   {
    "duration": 8,
    "start_time": "2024-04-13T14:19:38.005Z"
   },
   {
    "duration": 9,
    "start_time": "2024-04-13T14:19:42.237Z"
   },
   {
    "duration": 9,
    "start_time": "2024-04-13T14:20:00.908Z"
   },
   {
    "duration": 8,
    "start_time": "2024-04-13T14:20:05.491Z"
   },
   {
    "duration": 11,
    "start_time": "2024-04-13T14:20:07.675Z"
   },
   {
    "duration": 5,
    "start_time": "2024-04-13T14:20:24.788Z"
   },
   {
    "duration": 9,
    "start_time": "2024-04-13T14:20:33.308Z"
   },
   {
    "duration": 36,
    "start_time": "2024-04-13T14:20:42.011Z"
   },
   {
    "duration": 32,
    "start_time": "2024-04-13T14:20:46.252Z"
   },
   {
    "duration": 1811,
    "start_time": "2024-04-13T14:24:35.822Z"
   },
   {
    "duration": 30,
    "start_time": "2024-04-13T14:24:37.634Z"
   },
   {
    "duration": 86,
    "start_time": "2024-04-13T14:24:37.665Z"
   },
   {
    "duration": 6,
    "start_time": "2024-04-13T14:24:37.753Z"
   },
   {
    "duration": 8,
    "start_time": "2024-04-13T14:24:37.761Z"
   },
   {
    "duration": 9,
    "start_time": "2024-04-13T14:24:37.770Z"
   },
   {
    "duration": 5,
    "start_time": "2024-04-13T14:24:37.781Z"
   },
   {
    "duration": 35,
    "start_time": "2024-04-13T14:24:37.787Z"
   },
   {
    "duration": 2291,
    "start_time": "2024-04-13T14:24:37.824Z"
   },
   {
    "duration": 661,
    "start_time": "2024-04-13T14:24:40.118Z"
   },
   {
    "duration": 10,
    "start_time": "2024-04-13T14:24:40.780Z"
   },
   {
    "duration": 34,
    "start_time": "2024-04-13T14:24:40.792Z"
   },
   {
    "duration": 34,
    "start_time": "2024-04-13T14:24:56.181Z"
   },
   {
    "duration": 487,
    "start_time": "2024-04-13T14:25:03.347Z"
   },
   {
    "duration": 470,
    "start_time": "2024-04-13T14:25:58.133Z"
   },
   {
    "duration": 92,
    "start_time": "2024-04-13T14:54:14.008Z"
   },
   {
    "duration": 1492,
    "start_time": "2024-04-13T14:54:40.336Z"
   },
   {
    "duration": 538,
    "start_time": "2024-04-13T14:57:37.705Z"
   },
   {
    "duration": 620,
    "start_time": "2024-04-13T14:57:47.104Z"
   },
   {
    "duration": 503,
    "start_time": "2024-04-13T14:58:37.327Z"
   },
   {
    "duration": 10,
    "start_time": "2024-04-13T14:58:58.473Z"
   },
   {
    "duration": 2,
    "start_time": "2024-04-13T15:00:12.456Z"
   },
   {
    "duration": 3,
    "start_time": "2024-04-13T15:01:58.518Z"
   },
   {
    "duration": 48,
    "start_time": "2024-04-13T15:09:40.508Z"
   },
   {
    "duration": 1771,
    "start_time": "2024-04-13T15:09:45.550Z"
   },
   {
    "duration": 36,
    "start_time": "2024-04-13T15:09:47.323Z"
   },
   {
    "duration": 79,
    "start_time": "2024-04-13T15:09:47.361Z"
   },
   {
    "duration": 6,
    "start_time": "2024-04-13T15:09:47.442Z"
   },
   {
    "duration": 11,
    "start_time": "2024-04-13T15:09:47.449Z"
   },
   {
    "duration": 9,
    "start_time": "2024-04-13T15:09:47.462Z"
   },
   {
    "duration": 6,
    "start_time": "2024-04-13T15:09:47.473Z"
   },
   {
    "duration": 34,
    "start_time": "2024-04-13T15:09:47.481Z"
   },
   {
    "duration": 2106,
    "start_time": "2024-04-13T15:09:47.517Z"
   },
   {
    "duration": 1236,
    "start_time": "2024-04-13T15:09:49.715Z"
   },
   {
    "duration": 9,
    "start_time": "2024-04-13T15:09:50.953Z"
   },
   {
    "duration": 17,
    "start_time": "2024-04-13T15:09:50.965Z"
   },
   {
    "duration": 1702,
    "start_time": "2024-04-13T15:09:51.015Z"
   },
   {
    "duration": 624,
    "start_time": "2024-04-13T15:09:52.721Z"
   },
   {
    "duration": 9,
    "start_time": "2024-04-13T15:09:54.055Z"
   },
   {
    "duration": 3,
    "start_time": "2024-04-13T15:09:55.111Z"
   },
   {
    "duration": 12,
    "start_time": "2024-04-13T15:23:11.087Z"
   },
   {
    "duration": 11,
    "start_time": "2024-04-13T15:23:21.086Z"
   },
   {
    "duration": 513,
    "start_time": "2024-04-13T15:25:07.879Z"
   },
   {
    "duration": 243,
    "start_time": "2024-04-13T15:25:18.199Z"
   },
   {
    "duration": 221,
    "start_time": "2024-04-13T15:25:21.871Z"
   },
   {
    "duration": 237,
    "start_time": "2024-04-13T15:25:28.262Z"
   },
   {
    "duration": 323,
    "start_time": "2024-04-13T15:25:31.767Z"
   },
   {
    "duration": 16,
    "start_time": "2024-04-13T15:27:08.246Z"
   },
   {
    "duration": 14,
    "start_time": "2024-04-13T15:27:17.584Z"
   },
   {
    "duration": 12,
    "start_time": "2024-04-13T15:27:33.305Z"
   },
   {
    "duration": 58,
    "start_time": "2024-04-13T15:41:33.978Z"
   },
   {
    "duration": 568,
    "start_time": "2024-04-13T15:41:44.777Z"
   },
   {
    "duration": 996,
    "start_time": "2024-04-13T15:41:50.584Z"
   },
   {
    "duration": 984,
    "start_time": "2024-04-13T15:42:12.882Z"
   },
   {
    "duration": 976,
    "start_time": "2024-04-13T15:42:21.001Z"
   },
   {
    "duration": 884,
    "start_time": "2024-04-13T15:42:24.969Z"
   },
   {
    "duration": 475,
    "start_time": "2024-04-13T15:43:33.585Z"
   },
   {
    "duration": 999,
    "start_time": "2024-04-13T15:43:48.393Z"
   },
   {
    "duration": 909,
    "start_time": "2024-04-13T15:44:12.249Z"
   },
   {
    "duration": 889,
    "start_time": "2024-04-13T15:44:32.697Z"
   },
   {
    "duration": 924,
    "start_time": "2024-04-13T15:44:37.977Z"
   },
   {
    "duration": 1841,
    "start_time": "2024-04-13T15:46:57.199Z"
   },
   {
    "duration": 29,
    "start_time": "2024-04-13T15:46:59.042Z"
   },
   {
    "duration": 148,
    "start_time": "2024-04-13T15:47:05.208Z"
   },
   {
    "duration": 7,
    "start_time": "2024-04-13T15:47:07.512Z"
   },
   {
    "duration": 10,
    "start_time": "2024-04-13T15:47:09.801Z"
   },
   {
    "duration": 8,
    "start_time": "2024-04-13T15:47:12.490Z"
   },
   {
    "duration": 9,
    "start_time": "2024-04-13T15:47:13.369Z"
   },
   {
    "duration": 5,
    "start_time": "2024-04-13T15:47:14.202Z"
   },
   {
    "duration": 12,
    "start_time": "2024-04-13T15:47:15.056Z"
   },
   {
    "duration": 2078,
    "start_time": "2024-04-13T15:47:20.242Z"
   },
   {
    "duration": 574,
    "start_time": "2024-04-13T15:47:35.981Z"
   },
   {
    "duration": 9,
    "start_time": "2024-04-13T15:47:53.138Z"
   },
   {
    "duration": 9,
    "start_time": "2024-04-13T15:47:56.722Z"
   },
   {
    "duration": 496,
    "start_time": "2024-04-13T15:48:01.146Z"
   },
   {
    "duration": 480,
    "start_time": "2024-04-13T15:48:06.327Z"
   },
   {
    "duration": 466,
    "start_time": "2024-04-13T15:48:10.161Z"
   },
   {
    "duration": 577,
    "start_time": "2024-04-13T15:48:13.751Z"
   },
   {
    "duration": 490,
    "start_time": "2024-04-13T15:48:16.216Z"
   },
   {
    "duration": 456,
    "start_time": "2024-04-13T15:48:38.761Z"
   },
   {
    "duration": 450,
    "start_time": "2024-04-13T15:48:52.546Z"
   },
   {
    "duration": 490,
    "start_time": "2024-04-13T15:49:26.457Z"
   },
   {
    "duration": 466,
    "start_time": "2024-04-13T15:49:51.154Z"
   },
   {
    "duration": 452,
    "start_time": "2024-04-13T15:49:58.625Z"
   },
   {
    "duration": 579,
    "start_time": "2024-04-13T15:50:06.489Z"
   },
   {
    "duration": 268,
    "start_time": "2024-04-13T15:51:09.921Z"
   },
   {
    "duration": 8,
    "start_time": "2024-04-13T15:51:14.208Z"
   },
   {
    "duration": 1767,
    "start_time": "2024-04-13T15:51:14.857Z"
   },
   {
    "duration": 641,
    "start_time": "2024-04-13T15:51:16.716Z"
   },
   {
    "duration": 2,
    "start_time": "2024-04-13T15:51:46.211Z"
   },
   {
    "duration": 210,
    "start_time": "2024-04-13T15:51:50.817Z"
   },
   {
    "duration": 8,
    "start_time": "2024-04-13T15:52:54.593Z"
   },
   {
    "duration": 7,
    "start_time": "2024-04-13T15:53:49.584Z"
   },
   {
    "duration": 537,
    "start_time": "2024-04-13T15:53:55.641Z"
   },
   {
    "duration": 13,
    "start_time": "2024-04-13T15:54:04.345Z"
   },
   {
    "duration": 13,
    "start_time": "2024-04-13T15:54:09.024Z"
   },
   {
    "duration": 13,
    "start_time": "2024-04-13T15:54:11.649Z"
   },
   {
    "duration": 13,
    "start_time": "2024-04-13T15:54:23.689Z"
   },
   {
    "duration": 16,
    "start_time": "2024-04-13T15:54:31.538Z"
   },
   {
    "duration": 225,
    "start_time": "2024-04-13T15:54:44.424Z"
   },
   {
    "duration": 248,
    "start_time": "2024-04-13T15:54:59.554Z"
   },
   {
    "duration": 530,
    "start_time": "2024-04-13T15:55:18.825Z"
   },
   {
    "duration": 417,
    "start_time": "2024-04-13T15:55:26.201Z"
   },
   {
    "duration": 214,
    "start_time": "2024-04-13T15:57:34.930Z"
   },
   {
    "duration": 101,
    "start_time": "2024-04-13T15:57:41.994Z"
   },
   {
    "duration": 237,
    "start_time": "2024-04-13T15:57:44.122Z"
   },
   {
    "duration": 240,
    "start_time": "2024-04-13T15:57:46.113Z"
   },
   {
    "duration": 237,
    "start_time": "2024-04-13T16:00:33.562Z"
   },
   {
    "duration": 665,
    "start_time": "2024-04-13T16:00:46.905Z"
   },
   {
    "duration": 238,
    "start_time": "2024-04-13T16:00:54.913Z"
   },
   {
    "duration": 514,
    "start_time": "2024-04-13T16:01:09.713Z"
   },
   {
    "duration": 62,
    "start_time": "2024-04-13T16:01:43.858Z"
   },
   {
    "duration": 230,
    "start_time": "2024-04-13T16:02:09.706Z"
   },
   {
    "duration": 66,
    "start_time": "2024-04-13T16:05:54.234Z"
   },
   {
    "duration": 1773,
    "start_time": "2024-04-13T16:06:07.424Z"
   },
   {
    "duration": 30,
    "start_time": "2024-04-13T16:06:09.199Z"
   },
   {
    "duration": 75,
    "start_time": "2024-04-13T16:06:09.230Z"
   },
   {
    "duration": 7,
    "start_time": "2024-04-13T16:06:09.307Z"
   },
   {
    "duration": 25,
    "start_time": "2024-04-13T16:06:09.315Z"
   },
   {
    "duration": 13,
    "start_time": "2024-04-13T16:06:09.342Z"
   },
   {
    "duration": 9,
    "start_time": "2024-04-13T16:06:09.357Z"
   },
   {
    "duration": 7,
    "start_time": "2024-04-13T16:06:09.367Z"
   },
   {
    "duration": 13,
    "start_time": "2024-04-13T16:06:09.375Z"
   },
   {
    "duration": 1738,
    "start_time": "2024-04-13T16:06:09.389Z"
   },
   {
    "duration": 688,
    "start_time": "2024-04-13T16:06:11.215Z"
   },
   {
    "duration": 243,
    "start_time": "2024-04-13T16:06:11.904Z"
   },
   {
    "duration": 6,
    "start_time": "2024-04-13T16:06:12.149Z"
   },
   {
    "duration": 2067,
    "start_time": "2024-04-13T16:06:12.156Z"
   },
   {
    "duration": 735,
    "start_time": "2024-04-13T16:06:14.225Z"
   },
   {
    "duration": 270,
    "start_time": "2024-04-13T16:06:14.962Z"
   },
   {
    "duration": 3,
    "start_time": "2024-04-13T16:06:15.234Z"
   },
   {
    "duration": 277,
    "start_time": "2024-04-13T16:06:15.239Z"
   },
   {
    "duration": 9,
    "start_time": "2024-04-13T16:06:15.518Z"
   },
   {
    "duration": 10,
    "start_time": "2024-04-13T16:06:19.959Z"
   },
   {
    "duration": 1625,
    "start_time": "2024-04-13T16:06:21.200Z"
   },
   {
    "duration": 18,
    "start_time": "2024-04-13T16:32:14.129Z"
   },
   {
    "duration": 8,
    "start_time": "2024-04-13T16:32:15.215Z"
   },
   {
    "duration": 10,
    "start_time": "2024-04-13T16:32:16.025Z"
   },
   {
    "duration": 10,
    "start_time": "2024-04-13T16:32:24.480Z"
   },
   {
    "duration": 11,
    "start_time": "2024-04-13T16:32:28.110Z"
   },
   {
    "duration": 4,
    "start_time": "2024-04-13T16:33:00.443Z"
   },
   {
    "duration": 4,
    "start_time": "2024-04-13T16:33:14.654Z"
   },
   {
    "duration": 25643,
    "start_time": "2024-04-13T16:43:35.499Z"
   },
   {
    "duration": 22702,
    "start_time": "2024-04-13T16:44:02.453Z"
   },
   {
    "duration": 27,
    "start_time": "2024-04-13T16:44:25.157Z"
   },
   {
    "duration": 24,
    "start_time": "2024-04-13T16:44:54.794Z"
   },
   {
    "duration": 26,
    "start_time": "2024-04-13T16:45:14.574Z"
   },
   {
    "duration": 27729,
    "start_time": "2024-04-13T16:45:29.267Z"
   },
   {
    "duration": 1810,
    "start_time": "2024-04-13T16:50:33.893Z"
   },
   {
    "duration": 30,
    "start_time": "2024-04-13T16:50:35.705Z"
   },
   {
    "duration": 140,
    "start_time": "2024-04-13T16:50:35.737Z"
   },
   {
    "duration": 6,
    "start_time": "2024-04-13T16:50:35.879Z"
   },
   {
    "duration": 37,
    "start_time": "2024-04-13T16:50:35.887Z"
   },
   {
    "duration": 27,
    "start_time": "2024-04-13T16:50:35.926Z"
   },
   {
    "duration": 43,
    "start_time": "2024-04-13T16:50:35.954Z"
   },
   {
    "duration": 13,
    "start_time": "2024-04-13T16:50:35.999Z"
   },
   {
    "duration": 37,
    "start_time": "2024-04-13T16:50:36.013Z"
   },
   {
    "duration": 2081,
    "start_time": "2024-04-13T16:50:36.051Z"
   },
   {
    "duration": 666,
    "start_time": "2024-04-13T16:50:38.217Z"
   },
   {
    "duration": 248,
    "start_time": "2024-04-13T16:50:38.885Z"
   },
   {
    "duration": 6,
    "start_time": "2024-04-13T16:50:39.135Z"
   },
   {
    "duration": 1677,
    "start_time": "2024-04-13T16:50:39.144Z"
   },
   {
    "duration": 709,
    "start_time": "2024-04-13T16:50:40.823Z"
   },
   {
    "duration": 272,
    "start_time": "2024-04-13T16:50:41.534Z"
   },
   {
    "duration": 3,
    "start_time": "2024-04-13T16:50:41.809Z"
   },
   {
    "duration": 214,
    "start_time": "2024-04-13T16:50:41.815Z"
   },
   {
    "duration": 9,
    "start_time": "2024-04-13T16:50:42.030Z"
   },
   {
    "duration": 10,
    "start_time": "2024-04-13T16:50:42.041Z"
   },
   {
    "duration": 1789,
    "start_time": "2024-04-13T16:50:54.108Z"
   },
   {
    "duration": 32,
    "start_time": "2024-04-13T16:50:55.899Z"
   },
   {
    "duration": 80,
    "start_time": "2024-04-13T16:50:55.933Z"
   },
   {
    "duration": 6,
    "start_time": "2024-04-13T16:50:56.015Z"
   },
   {
    "duration": 13,
    "start_time": "2024-04-13T16:50:56.023Z"
   },
   {
    "duration": 12,
    "start_time": "2024-04-13T16:50:56.038Z"
   },
   {
    "duration": 26,
    "start_time": "2024-04-13T16:50:56.052Z"
   },
   {
    "duration": 9,
    "start_time": "2024-04-13T16:50:56.080Z"
   },
   {
    "duration": 11,
    "start_time": "2024-04-13T16:50:56.091Z"
   },
   {
    "duration": 2018,
    "start_time": "2024-04-13T16:50:56.104Z"
   },
   {
    "duration": 911,
    "start_time": "2024-04-13T16:50:58.124Z"
   },
   {
    "duration": 244,
    "start_time": "2024-04-13T16:50:59.037Z"
   },
   {
    "duration": 6,
    "start_time": "2024-04-13T16:50:59.282Z"
   },
   {
    "duration": 1637,
    "start_time": "2024-04-13T16:50:59.290Z"
   },
   {
    "duration": 542,
    "start_time": "2024-04-13T16:51:01.015Z"
   },
   {
    "duration": 251,
    "start_time": "2024-04-13T16:51:01.558Z"
   },
   {
    "duration": 3,
    "start_time": "2024-04-13T16:51:01.814Z"
   },
   {
    "duration": 241,
    "start_time": "2024-04-13T16:51:01.818Z"
   },
   {
    "duration": 9,
    "start_time": "2024-04-13T16:51:02.060Z"
   },
   {
    "duration": 29,
    "start_time": "2024-04-13T16:51:02.071Z"
   },
   {
    "duration": 1617,
    "start_time": "2024-04-13T16:51:02.102Z"
   },
   {
    "duration": 15,
    "start_time": "2024-04-13T16:51:03.720Z"
   },
   {
    "duration": 5,
    "start_time": "2024-04-13T16:51:03.737Z"
   },
   {
    "duration": 11,
    "start_time": "2024-04-13T16:51:03.744Z"
   },
   {
    "duration": 61,
    "start_time": "2024-04-13T16:51:03.757Z"
   },
   {
    "duration": 96,
    "start_time": "2024-04-13T16:51:03.824Z"
   },
   {
    "duration": 66096,
    "start_time": "2024-04-13T16:51:03.921Z"
   },
   {
    "duration": 39,
    "start_time": "2024-04-13T16:52:10.020Z"
   },
   {
    "duration": 9,
    "start_time": "2024-04-13T16:52:10.061Z"
   },
   {
    "duration": 60,
    "start_time": "2024-04-13T16:52:10.072Z"
   },
   {
    "duration": 292,
    "start_time": "2024-04-13T17:00:15.867Z"
   },
   {
    "duration": 131,
    "start_time": "2024-04-13T17:00:37.716Z"
   },
   {
    "duration": 429,
    "start_time": "2024-04-13T17:00:53.930Z"
   },
   {
    "duration": 301,
    "start_time": "2024-04-13T17:01:09.428Z"
   },
   {
    "duration": 332,
    "start_time": "2024-04-13T17:01:19.610Z"
   },
   {
    "duration": 1397,
    "start_time": "2024-04-13T17:02:42.836Z"
   },
   {
    "duration": 8316,
    "start_time": "2024-04-13T17:02:52.035Z"
   },
   {
    "duration": 7553,
    "start_time": "2024-04-13T17:03:09.908Z"
   },
   {
    "duration": 7684,
    "start_time": "2024-04-13T17:03:45.707Z"
   },
   {
    "duration": 7428,
    "start_time": "2024-04-13T17:04:41.641Z"
   },
   {
    "duration": 803,
    "start_time": "2024-04-13T17:05:13.347Z"
   },
   {
    "duration": 640,
    "start_time": "2024-04-13T17:05:18.332Z"
   },
   {
    "duration": 613,
    "start_time": "2024-04-13T17:05:21.771Z"
   },
   {
    "duration": 610,
    "start_time": "2024-04-13T17:05:26.106Z"
   },
   {
    "duration": 671,
    "start_time": "2024-04-13T17:05:28.225Z"
   },
   {
    "duration": 648,
    "start_time": "2024-04-13T17:05:32.979Z"
   },
   {
    "duration": 651,
    "start_time": "2024-04-13T17:05:37.035Z"
   },
   {
    "duration": 7746,
    "start_time": "2024-04-13T17:05:42.482Z"
   },
   {
    "duration": 1890,
    "start_time": "2024-04-13T17:05:57.363Z"
   },
   {
    "duration": 644,
    "start_time": "2024-04-13T17:06:02.659Z"
   },
   {
    "duration": 3034,
    "start_time": "2024-04-13T17:06:08.779Z"
   },
   {
    "duration": 2215,
    "start_time": "2024-04-13T17:06:20.619Z"
   },
   {
    "duration": 616,
    "start_time": "2024-04-13T17:06:25.451Z"
   },
   {
    "duration": 1360,
    "start_time": "2024-04-13T17:06:31.483Z"
   },
   {
    "duration": 1383,
    "start_time": "2024-04-13T17:06:41.595Z"
   },
   {
    "duration": 1740,
    "start_time": "2024-04-13T17:06:50.275Z"
   },
   {
    "duration": 1456,
    "start_time": "2024-04-13T17:07:08.147Z"
   },
   {
    "duration": 650,
    "start_time": "2024-04-13T17:07:19.905Z"
   },
   {
    "duration": 21,
    "start_time": "2024-04-13T17:07:51.290Z"
   },
   {
    "duration": 6,
    "start_time": "2024-04-13T17:08:04.649Z"
   },
   {
    "duration": 8,
    "start_time": "2024-04-13T17:08:13.323Z"
   },
   {
    "duration": 4,
    "start_time": "2024-04-13T17:08:21.938Z"
   },
   {
    "duration": 6,
    "start_time": "2024-04-13T17:08:24.851Z"
   },
   {
    "duration": 5,
    "start_time": "2024-04-13T17:10:21.937Z"
   },
   {
    "duration": 69,
    "start_time": "2024-04-13T17:10:37.450Z"
   },
   {
    "duration": 19,
    "start_time": "2024-04-13T17:10:59.682Z"
   },
   {
    "duration": 6,
    "start_time": "2024-04-13T17:11:17.147Z"
   },
   {
    "duration": 1872,
    "start_time": "2024-04-13T17:11:27.673Z"
   },
   {
    "duration": 31,
    "start_time": "2024-04-13T17:11:29.547Z"
   },
   {
    "duration": 86,
    "start_time": "2024-04-13T17:11:29.580Z"
   },
   {
    "duration": 6,
    "start_time": "2024-04-13T17:11:29.668Z"
   },
   {
    "duration": 22,
    "start_time": "2024-04-13T17:11:29.676Z"
   },
   {
    "duration": 21,
    "start_time": "2024-04-13T17:11:29.699Z"
   },
   {
    "duration": 18,
    "start_time": "2024-04-13T17:11:29.721Z"
   },
   {
    "duration": 21,
    "start_time": "2024-04-13T17:11:29.740Z"
   },
   {
    "duration": 25,
    "start_time": "2024-04-13T17:11:29.762Z"
   },
   {
    "duration": 2030,
    "start_time": "2024-04-13T17:11:29.789Z"
   },
   {
    "duration": 693,
    "start_time": "2024-04-13T17:11:31.822Z"
   },
   {
    "duration": 256,
    "start_time": "2024-04-13T17:11:32.517Z"
   },
   {
    "duration": 6,
    "start_time": "2024-04-13T17:11:32.774Z"
   },
   {
    "duration": 2340,
    "start_time": "2024-04-13T17:11:32.782Z"
   },
   {
    "duration": 746,
    "start_time": "2024-04-13T17:11:35.124Z"
   },
   {
    "duration": 261,
    "start_time": "2024-04-13T17:11:35.872Z"
   },
   {
    "duration": 4,
    "start_time": "2024-04-13T17:11:36.135Z"
   },
   {
    "duration": 215,
    "start_time": "2024-04-13T17:11:36.141Z"
   },
   {
    "duration": 10,
    "start_time": "2024-04-13T17:11:36.357Z"
   },
   {
    "duration": 10,
    "start_time": "2024-04-13T17:11:36.368Z"
   },
   {
    "duration": 1677,
    "start_time": "2024-04-13T17:11:36.379Z"
   },
   {
    "duration": 16,
    "start_time": "2024-04-13T17:11:38.057Z"
   },
   {
    "duration": 8,
    "start_time": "2024-04-13T17:11:38.075Z"
   },
   {
    "duration": 30,
    "start_time": "2024-04-13T17:11:38.085Z"
   },
   {
    "duration": 17,
    "start_time": "2024-04-13T17:11:38.117Z"
   },
   {
    "duration": 86,
    "start_time": "2024-04-13T17:11:38.135Z"
   },
   {
    "duration": 66461,
    "start_time": "2024-04-13T17:11:38.314Z"
   },
   {
    "duration": 51,
    "start_time": "2024-04-13T17:12:44.777Z"
   },
   {
    "duration": 11,
    "start_time": "2024-04-13T17:12:52.730Z"
   },
   {
    "duration": 887,
    "start_time": "2024-04-13T17:13:00.922Z"
   },
   {
    "duration": 585,
    "start_time": "2024-04-13T17:14:41.540Z"
   },
   {
    "duration": 627,
    "start_time": "2024-04-13T17:14:45.875Z"
   },
   {
    "duration": 8420,
    "start_time": "2024-04-13T17:15:13.491Z"
   },
   {
    "duration": 1594,
    "start_time": "2024-04-13T17:15:23.708Z"
   },
   {
    "duration": 1729,
    "start_time": "2024-04-13T17:16:32.491Z"
   },
   {
    "duration": 1529,
    "start_time": "2024-04-13T17:18:49.522Z"
   },
   {
    "duration": 266,
    "start_time": "2024-04-13T17:19:43.299Z"
   },
   {
    "duration": 1528,
    "start_time": "2024-04-13T17:23:50.414Z"
   },
   {
    "duration": 1542,
    "start_time": "2024-04-13T17:23:56.951Z"
   },
   {
    "duration": 1593,
    "start_time": "2024-04-13T17:24:02.934Z"
   },
   {
    "duration": 1747,
    "start_time": "2024-04-13T17:24:51.184Z"
   },
   {
    "duration": 1540,
    "start_time": "2024-04-13T17:25:28.456Z"
   },
   {
    "duration": 1514,
    "start_time": "2024-04-13T17:25:39.705Z"
   },
   {
    "duration": 1540,
    "start_time": "2024-04-13T17:26:24.384Z"
   },
   {
    "duration": 1514,
    "start_time": "2024-04-13T17:26:39.336Z"
   },
   {
    "duration": 1596,
    "start_time": "2024-04-13T17:26:53.465Z"
   },
   {
    "duration": 1564,
    "start_time": "2024-04-13T17:27:04.097Z"
   },
   {
    "duration": 1542,
    "start_time": "2024-04-13T17:27:08.041Z"
   },
   {
    "duration": 2422,
    "start_time": "2024-04-13T17:27:22.922Z"
   },
   {
    "duration": 1558,
    "start_time": "2024-04-13T17:27:30.306Z"
   },
   {
    "duration": 63,
    "start_time": "2024-04-13T17:27:34.793Z"
   },
   {
    "duration": 1551,
    "start_time": "2024-04-13T17:27:36.346Z"
   },
   {
    "duration": 1545,
    "start_time": "2024-04-13T17:28:21.562Z"
   },
   {
    "duration": 0,
    "start_time": "2024-04-13T17:28:25.466Z"
   },
   {
    "duration": 1565,
    "start_time": "2024-04-13T17:28:27.530Z"
   },
   {
    "duration": 1510,
    "start_time": "2024-04-13T17:28:29.391Z"
   },
   {
    "duration": 1534,
    "start_time": "2024-04-13T17:28:34.577Z"
   },
   {
    "duration": 1558,
    "start_time": "2024-04-13T17:31:48.019Z"
   },
   {
    "duration": 147,
    "start_time": "2024-04-13T17:31:58.310Z"
   },
   {
    "duration": 1548,
    "start_time": "2024-04-13T17:32:04.235Z"
   },
   {
    "duration": 144,
    "start_time": "2024-04-13T17:33:11.131Z"
   },
   {
    "duration": 145,
    "start_time": "2024-04-13T17:33:28.963Z"
   },
   {
    "duration": 1534,
    "start_time": "2024-04-13T17:33:40.227Z"
   },
   {
    "duration": 1520,
    "start_time": "2024-04-13T17:36:58.685Z"
   },
   {
    "duration": 1526,
    "start_time": "2024-04-13T17:37:01.939Z"
   },
   {
    "duration": 1543,
    "start_time": "2024-04-13T17:37:26.899Z"
   },
   {
    "duration": 16,
    "start_time": "2024-04-13T17:38:06.805Z"
   },
   {
    "duration": 7,
    "start_time": "2024-04-13T17:38:18.029Z"
   },
   {
    "duration": 1505,
    "start_time": "2024-04-13T17:38:20.252Z"
   },
   {
    "duration": 1530,
    "start_time": "2024-04-13T17:38:22.981Z"
   },
   {
    "duration": 1591,
    "start_time": "2024-04-13T17:38:26.108Z"
   },
   {
    "duration": 720,
    "start_time": "2024-04-13T17:38:32.621Z"
   },
   {
    "duration": 1813,
    "start_time": "2024-04-13T17:38:37.526Z"
   },
   {
    "duration": 74,
    "start_time": "2024-04-13T17:40:30.429Z"
   },
   {
    "duration": 1827,
    "start_time": "2024-04-13T17:40:41.483Z"
   },
   {
    "duration": 35,
    "start_time": "2024-04-13T17:40:43.312Z"
   },
   {
    "duration": 82,
    "start_time": "2024-04-13T17:40:43.348Z"
   },
   {
    "duration": 6,
    "start_time": "2024-04-13T17:40:43.432Z"
   },
   {
    "duration": 16,
    "start_time": "2024-04-13T17:40:43.440Z"
   },
   {
    "duration": 10,
    "start_time": "2024-04-13T17:40:43.458Z"
   },
   {
    "duration": 8,
    "start_time": "2024-04-13T17:40:43.471Z"
   },
   {
    "duration": 7,
    "start_time": "2024-04-13T17:40:43.480Z"
   },
   {
    "duration": 35,
    "start_time": "2024-04-13T17:40:43.489Z"
   },
   {
    "duration": 2188,
    "start_time": "2024-04-13T17:40:43.527Z"
   },
   {
    "duration": 657,
    "start_time": "2024-04-13T17:40:45.718Z"
   },
   {
    "duration": 252,
    "start_time": "2024-04-13T17:40:46.377Z"
   },
   {
    "duration": 5,
    "start_time": "2024-04-13T17:40:46.631Z"
   },
   {
    "duration": 1779,
    "start_time": "2024-04-13T17:40:46.638Z"
   },
   {
    "duration": 541,
    "start_time": "2024-04-13T17:40:48.514Z"
   },
   {
    "duration": 242,
    "start_time": "2024-04-13T17:40:49.056Z"
   },
   {
    "duration": 15,
    "start_time": "2024-04-13T17:40:49.299Z"
   },
   {
    "duration": 209,
    "start_time": "2024-04-13T17:40:49.316Z"
   },
   {
    "duration": 8,
    "start_time": "2024-04-13T17:40:49.527Z"
   },
   {
    "duration": 9,
    "start_time": "2024-04-13T17:40:49.536Z"
   },
   {
    "duration": 1553,
    "start_time": "2024-04-13T17:40:49.547Z"
   },
   {
    "duration": 19,
    "start_time": "2024-04-13T17:40:51.101Z"
   },
   {
    "duration": 22,
    "start_time": "2024-04-13T17:40:51.121Z"
   },
   {
    "duration": 33,
    "start_time": "2024-04-13T17:40:51.144Z"
   },
   {
    "duration": 36,
    "start_time": "2024-04-13T17:40:51.179Z"
   },
   {
    "duration": 104,
    "start_time": "2024-04-13T17:40:51.216Z"
   },
   {
    "duration": 65724,
    "start_time": "2024-04-13T17:40:51.322Z"
   },
   {
    "duration": 44,
    "start_time": "2024-04-13T17:41:57.049Z"
   },
   {
    "duration": 26,
    "start_time": "2024-04-13T17:41:57.095Z"
   },
   {
    "duration": 750,
    "start_time": "2024-04-13T17:41:57.123Z"
   },
   {
    "duration": 702,
    "start_time": "2024-04-13T17:44:27.503Z"
   },
   {
    "duration": 2112,
    "start_time": "2024-04-13T17:44:33.531Z"
   },
   {
    "duration": 71,
    "start_time": "2024-04-13T17:44:35.645Z"
   },
   {
    "duration": 128,
    "start_time": "2024-04-13T17:44:35.718Z"
   },
   {
    "duration": 7,
    "start_time": "2024-04-13T17:44:35.848Z"
   },
   {
    "duration": 64,
    "start_time": "2024-04-13T17:44:35.856Z"
   },
   {
    "duration": 8,
    "start_time": "2024-04-13T17:44:35.922Z"
   },
   {
    "duration": 6,
    "start_time": "2024-04-13T17:44:35.932Z"
   },
   {
    "duration": 12,
    "start_time": "2024-04-13T17:44:35.940Z"
   },
   {
    "duration": 2468,
    "start_time": "2024-04-13T17:44:35.954Z"
   },
   {
    "duration": 802,
    "start_time": "2024-04-13T17:44:38.426Z"
   },
   {
    "duration": 235,
    "start_time": "2024-04-13T17:44:39.231Z"
   },
   {
    "duration": 6,
    "start_time": "2024-04-13T17:44:39.468Z"
   },
   {
    "duration": 1649,
    "start_time": "2024-04-13T17:44:39.476Z"
   },
   {
    "duration": 613,
    "start_time": "2024-04-13T17:44:41.216Z"
   },
   {
    "duration": 246,
    "start_time": "2024-04-13T17:44:41.830Z"
   },
   {
    "duration": 3,
    "start_time": "2024-04-13T17:44:42.078Z"
   },
   {
    "duration": 214,
    "start_time": "2024-04-13T17:44:42.082Z"
   },
   {
    "duration": 16,
    "start_time": "2024-04-13T17:44:42.298Z"
   },
   {
    "duration": 9,
    "start_time": "2024-04-13T17:44:42.316Z"
   },
   {
    "duration": 1566,
    "start_time": "2024-04-13T17:44:42.327Z"
   },
   {
    "duration": 22,
    "start_time": "2024-04-13T17:44:43.894Z"
   },
   {
    "duration": 6,
    "start_time": "2024-04-13T17:44:43.918Z"
   },
   {
    "duration": 11,
    "start_time": "2024-04-13T17:44:43.926Z"
   },
   {
    "duration": 17,
    "start_time": "2024-04-13T17:44:43.938Z"
   },
   {
    "duration": 96,
    "start_time": "2024-04-13T17:44:44.022Z"
   },
   {
    "duration": 65533,
    "start_time": "2024-04-13T17:44:44.119Z"
   },
   {
    "duration": 42,
    "start_time": "2024-04-13T17:45:49.654Z"
   },
   {
    "duration": 9,
    "start_time": "2024-04-13T17:45:49.714Z"
   },
   {
    "duration": 724,
    "start_time": "2024-04-13T17:45:49.725Z"
   },
   {
    "duration": 717,
    "start_time": "2024-04-13T17:47:11.815Z"
   },
   {
    "duration": 1765,
    "start_time": "2024-04-13T17:47:18.590Z"
   },
   {
    "duration": 33,
    "start_time": "2024-04-13T17:47:20.357Z"
   },
   {
    "duration": 93,
    "start_time": "2024-04-13T17:47:20.392Z"
   },
   {
    "duration": 6,
    "start_time": "2024-04-13T17:47:20.487Z"
   },
   {
    "duration": 17,
    "start_time": "2024-04-13T17:47:20.495Z"
   },
   {
    "duration": 22,
    "start_time": "2024-04-13T17:47:20.514Z"
   },
   {
    "duration": 16,
    "start_time": "2024-04-13T17:47:20.538Z"
   },
   {
    "duration": 36,
    "start_time": "2024-04-13T17:47:20.555Z"
   },
   {
    "duration": 1926,
    "start_time": "2024-04-13T17:47:20.592Z"
   },
   {
    "duration": 743,
    "start_time": "2024-04-13T17:47:22.520Z"
   },
   {
    "duration": 238,
    "start_time": "2024-04-13T17:47:23.265Z"
   },
   {
    "duration": 10,
    "start_time": "2024-04-13T17:47:23.504Z"
   },
   {
    "duration": 1599,
    "start_time": "2024-04-13T17:47:23.517Z"
   },
   {
    "duration": 629,
    "start_time": "2024-04-13T17:47:25.122Z"
   },
   {
    "duration": 256,
    "start_time": "2024-04-13T17:47:25.753Z"
   },
   {
    "duration": 3,
    "start_time": "2024-04-13T17:47:26.014Z"
   },
   {
    "duration": 204,
    "start_time": "2024-04-13T17:47:26.019Z"
   },
   {
    "duration": 9,
    "start_time": "2024-04-13T17:47:26.225Z"
   },
   {
    "duration": 13,
    "start_time": "2024-04-13T17:47:26.235Z"
   },
   {
    "duration": 1612,
    "start_time": "2024-04-13T17:47:26.250Z"
   },
   {
    "duration": 17,
    "start_time": "2024-04-13T17:47:27.864Z"
   },
   {
    "duration": 7,
    "start_time": "2024-04-13T17:47:27.883Z"
   },
   {
    "duration": 33,
    "start_time": "2024-04-13T17:47:27.891Z"
   },
   {
    "duration": 9,
    "start_time": "2024-04-13T17:47:27.925Z"
   },
   {
    "duration": 80,
    "start_time": "2024-04-13T17:47:27.936Z"
   },
   {
    "duration": 66773,
    "start_time": "2024-04-13T17:47:28.018Z"
   },
   {
    "duration": 51,
    "start_time": "2024-04-13T17:48:34.793Z"
   },
   {
    "duration": 13,
    "start_time": "2024-04-13T17:48:34.846Z"
   },
   {
    "duration": 741,
    "start_time": "2024-04-13T17:48:34.861Z"
   },
   {
    "duration": 1727,
    "start_time": "2024-04-13T17:51:27.541Z"
   },
   {
    "duration": 36,
    "start_time": "2024-04-13T17:51:29.270Z"
   },
   {
    "duration": 158,
    "start_time": "2024-04-13T17:51:29.308Z"
   },
   {
    "duration": 6,
    "start_time": "2024-04-13T17:51:29.468Z"
   },
   {
    "duration": 8,
    "start_time": "2024-04-13T17:51:29.476Z"
   },
   {
    "duration": 10,
    "start_time": "2024-04-13T17:51:29.486Z"
   },
   {
    "duration": 6,
    "start_time": "2024-04-13T17:51:29.498Z"
   },
   {
    "duration": 14,
    "start_time": "2024-04-13T17:51:29.505Z"
   },
   {
    "duration": 2198,
    "start_time": "2024-04-13T17:51:29.520Z"
   },
   {
    "duration": 671,
    "start_time": "2024-04-13T17:51:31.724Z"
   },
   {
    "duration": 249,
    "start_time": "2024-04-13T17:51:32.397Z"
   },
   {
    "duration": 6,
    "start_time": "2024-04-13T17:51:32.648Z"
   },
   {
    "duration": 1767,
    "start_time": "2024-04-13T17:51:32.655Z"
   },
   {
    "duration": 701,
    "start_time": "2024-04-13T17:51:34.425Z"
   },
   {
    "duration": 253,
    "start_time": "2024-04-13T17:51:35.127Z"
   },
   {
    "duration": 4,
    "start_time": "2024-04-13T17:51:35.382Z"
   },
   {
    "duration": 233,
    "start_time": "2024-04-13T17:51:35.388Z"
   },
   {
    "duration": 8,
    "start_time": "2024-04-13T17:51:35.623Z"
   },
   {
    "duration": 10,
    "start_time": "2024-04-13T17:51:35.633Z"
   },
   {
    "duration": 1654,
    "start_time": "2024-04-13T17:51:35.645Z"
   },
   {
    "duration": 24,
    "start_time": "2024-04-13T17:51:37.301Z"
   },
   {
    "duration": 6,
    "start_time": "2024-04-13T17:51:37.327Z"
   },
   {
    "duration": 9,
    "start_time": "2024-04-13T17:51:37.334Z"
   },
   {
    "duration": 9,
    "start_time": "2024-04-13T17:51:37.344Z"
   },
   {
    "duration": 101,
    "start_time": "2024-04-13T17:51:37.417Z"
   },
   {
    "duration": 1819,
    "start_time": "2024-04-13T17:55:05.006Z"
   },
   {
    "duration": 56,
    "start_time": "2024-04-13T17:55:06.827Z"
   },
   {
    "duration": 76,
    "start_time": "2024-04-13T17:55:06.884Z"
   },
   {
    "duration": 6,
    "start_time": "2024-04-13T17:55:06.962Z"
   },
   {
    "duration": 29,
    "start_time": "2024-04-13T17:55:06.969Z"
   },
   {
    "duration": 9,
    "start_time": "2024-04-13T17:55:06.999Z"
   },
   {
    "duration": 5,
    "start_time": "2024-04-13T17:55:07.009Z"
   },
   {
    "duration": 9,
    "start_time": "2024-04-13T17:55:07.016Z"
   },
   {
    "duration": 2089,
    "start_time": "2024-04-13T17:55:07.027Z"
   },
   {
    "duration": 660,
    "start_time": "2024-04-13T17:55:09.119Z"
   },
   {
    "duration": 240,
    "start_time": "2024-04-13T17:55:09.780Z"
   },
   {
    "duration": 7,
    "start_time": "2024-04-13T17:55:10.022Z"
   },
   {
    "duration": 1692,
    "start_time": "2024-04-13T17:55:10.031Z"
   },
   {
    "duration": 698,
    "start_time": "2024-04-13T17:55:11.726Z"
   },
   {
    "duration": 244,
    "start_time": "2024-04-13T17:55:12.426Z"
   },
   {
    "duration": 3,
    "start_time": "2024-04-13T17:55:12.672Z"
   },
   {
    "duration": 229,
    "start_time": "2024-04-13T17:55:12.677Z"
   },
   {
    "duration": 13,
    "start_time": "2024-04-13T17:55:12.908Z"
   },
   {
    "duration": 23,
    "start_time": "2024-04-13T17:55:12.923Z"
   },
   {
    "duration": 1624,
    "start_time": "2024-04-13T17:55:12.947Z"
   },
   {
    "duration": 15,
    "start_time": "2024-04-13T17:55:14.573Z"
   },
   {
    "duration": 7,
    "start_time": "2024-04-13T17:55:14.590Z"
   },
   {
    "duration": 23,
    "start_time": "2024-04-13T17:55:14.599Z"
   },
   {
    "duration": 11,
    "start_time": "2024-04-13T17:55:14.624Z"
   },
   {
    "duration": 88,
    "start_time": "2024-04-13T17:55:14.637Z"
   },
   {
    "duration": 66171,
    "start_time": "2024-04-13T17:55:14.815Z"
   },
   {
    "duration": 47,
    "start_time": "2024-04-13T17:56:20.988Z"
   },
   {
    "duration": 12,
    "start_time": "2024-04-13T17:56:21.039Z"
   },
   {
    "duration": 767,
    "start_time": "2024-04-13T17:56:21.052Z"
   },
   {
    "duration": 1515,
    "start_time": "2024-04-15T09:00:52.095Z"
   },
   {
    "duration": 0,
    "start_time": "2024-04-15T09:00:53.612Z"
   },
   {
    "duration": 333,
    "start_time": "2024-04-15T09:00:53.959Z"
   },
   {
    "duration": 28600,
    "start_time": "2024-04-15T09:00:58.755Z"
   },
   {
    "duration": 1875,
    "start_time": "2024-04-15T09:01:34.229Z"
   },
   {
    "duration": 53,
    "start_time": "2024-04-15T09:01:36.107Z"
   },
   {
    "duration": 115,
    "start_time": "2024-04-15T09:01:39.167Z"
   },
   {
    "duration": 7,
    "start_time": "2024-04-15T09:01:41.145Z"
   },
   {
    "duration": 9,
    "start_time": "2024-04-15T09:01:45.481Z"
   },
   {
    "duration": 10,
    "start_time": "2024-04-15T09:01:46.240Z"
   },
   {
    "duration": 5,
    "start_time": "2024-04-15T09:01:46.936Z"
   },
   {
    "duration": 9,
    "start_time": "2024-04-15T09:01:47.561Z"
   },
   {
    "duration": 2287,
    "start_time": "2024-04-15T09:01:49.497Z"
   },
   {
    "duration": 602,
    "start_time": "2024-04-15T09:01:51.879Z"
   },
   {
    "duration": 1710,
    "start_time": "2024-04-15T09:07:44.074Z"
   },
   {
    "duration": 554,
    "start_time": "2024-04-15T09:08:00.371Z"
   },
   {
    "duration": 262,
    "start_time": "2024-04-15T09:08:03.264Z"
   },
   {
    "duration": 1889,
    "start_time": "2024-04-15T09:09:35.642Z"
   },
   {
    "duration": 89,
    "start_time": "2024-04-15T09:09:37.533Z"
   },
   {
    "duration": 96,
    "start_time": "2024-04-15T09:09:39.239Z"
   },
   {
    "duration": 6,
    "start_time": "2024-04-15T09:09:40.429Z"
   },
   {
    "duration": 9,
    "start_time": "2024-04-15T09:09:42.783Z"
   },
   {
    "duration": 10,
    "start_time": "2024-04-15T09:09:43.437Z"
   },
   {
    "duration": 7,
    "start_time": "2024-04-15T09:09:44.728Z"
   },
   {
    "duration": 10,
    "start_time": "2024-04-15T09:09:45.192Z"
   },
   {
    "duration": 2055,
    "start_time": "2024-04-15T09:09:46.535Z"
   },
   {
    "duration": 675,
    "start_time": "2024-04-15T09:09:48.686Z"
   },
   {
    "duration": 255,
    "start_time": "2024-04-15T09:09:50.286Z"
   },
   {
    "duration": 241,
    "start_time": "2024-04-15T09:09:54.589Z"
   },
   {
    "duration": 10,
    "start_time": "2024-04-15T09:10:23.870Z"
   },
   {
    "duration": 10,
    "start_time": "2024-04-15T09:10:28.628Z"
   },
   {
    "duration": 1659,
    "start_time": "2024-04-15T09:10:35.190Z"
   },
   {
    "duration": 19,
    "start_time": "2024-04-15T09:16:11.572Z"
   },
   {
    "duration": 7,
    "start_time": "2024-04-15T09:16:18.314Z"
   },
   {
    "duration": 11,
    "start_time": "2024-04-15T09:16:20.098Z"
   },
   {
    "duration": 14,
    "start_time": "2024-04-15T09:16:25.186Z"
   },
   {
    "duration": 10,
    "start_time": "2024-04-15T09:16:26.824Z"
   },
   {
    "duration": 83573,
    "start_time": "2024-04-15T09:16:32.507Z"
   },
   {
    "duration": 67,
    "start_time": "2024-04-15T09:31:28.615Z"
   },
   {
    "duration": 14,
    "start_time": "2024-04-15T09:31:51.940Z"
   },
   {
    "duration": 806,
    "start_time": "2024-04-15T09:32:47.604Z"
   },
   {
    "duration": 819,
    "start_time": "2024-04-15T09:32:56.228Z"
   },
   {
    "duration": 827,
    "start_time": "2024-04-15T09:33:08.323Z"
   },
   {
    "duration": 933,
    "start_time": "2024-04-15T09:33:14.173Z"
   },
   {
    "duration": 10,
    "start_time": "2024-04-15T09:33:43.767Z"
   },
   {
    "duration": 10,
    "start_time": "2024-04-15T09:33:49.549Z"
   },
   {
    "duration": 10,
    "start_time": "2024-04-15T09:33:53.605Z"
   },
   {
    "duration": 10,
    "start_time": "2024-04-15T09:33:55.878Z"
   },
   {
    "duration": 11,
    "start_time": "2024-04-15T09:33:58.773Z"
   },
   {
    "duration": 84047,
    "start_time": "2024-04-15T09:34:02.640Z"
   },
   {
    "duration": 42,
    "start_time": "2024-04-15T09:35:26.689Z"
   },
   {
    "duration": 11,
    "start_time": "2024-04-15T09:35:26.734Z"
   },
   {
    "duration": 863,
    "start_time": "2024-04-15T09:35:26.748Z"
   },
   {
    "duration": 11,
    "start_time": "2024-04-15T09:37:40.645Z"
   },
   {
    "duration": 283,
    "start_time": "2024-04-15T09:37:41.917Z"
   },
   {
    "duration": 280,
    "start_time": "2024-04-15T09:39:22.757Z"
   },
   {
    "duration": 257,
    "start_time": "2024-04-15T09:39:26.534Z"
   },
   {
    "duration": 297,
    "start_time": "2024-04-15T09:40:21.093Z"
   },
   {
    "duration": 466,
    "start_time": "2024-04-15T09:40:41.757Z"
   },
   {
    "duration": 305,
    "start_time": "2024-04-15T09:40:50.406Z"
   },
   {
    "duration": 327,
    "start_time": "2024-04-15T09:41:07.868Z"
   },
   {
    "duration": 462,
    "start_time": "2024-04-15T09:41:25.533Z"
   },
   {
    "duration": 323,
    "start_time": "2024-04-15T09:41:29.150Z"
   },
   {
    "duration": 377,
    "start_time": "2024-04-15T09:41:41.326Z"
   },
   {
    "duration": 330,
    "start_time": "2024-04-15T09:46:31.044Z"
   },
   {
    "duration": 355,
    "start_time": "2024-04-15T09:47:03.164Z"
   },
   {
    "duration": 134,
    "start_time": "2024-04-15T09:47:25.271Z"
   },
   {
    "duration": 2631,
    "start_time": "2024-04-15T09:47:46.773Z"
   },
   {
    "duration": 44,
    "start_time": "2024-04-15T09:47:49.406Z"
   },
   {
    "duration": 446,
    "start_time": "2024-04-15T09:47:49.451Z"
   },
   {
    "duration": 7,
    "start_time": "2024-04-15T09:47:49.899Z"
   },
   {
    "duration": 10,
    "start_time": "2024-04-15T09:47:49.908Z"
   },
   {
    "duration": 10,
    "start_time": "2024-04-15T09:47:49.919Z"
   },
   {
    "duration": 9,
    "start_time": "2024-04-15T09:47:49.930Z"
   },
   {
    "duration": 26,
    "start_time": "2024-04-15T09:47:49.942Z"
   },
   {
    "duration": 1901,
    "start_time": "2024-04-15T09:47:49.980Z"
   },
   {
    "duration": 736,
    "start_time": "2024-04-15T09:47:51.885Z"
   },
   {
    "duration": 246,
    "start_time": "2024-04-15T09:47:52.623Z"
   },
   {
    "duration": 233,
    "start_time": "2024-04-15T09:47:52.870Z"
   },
   {
    "duration": 10,
    "start_time": "2024-04-15T09:47:53.105Z"
   },
   {
    "duration": 10,
    "start_time": "2024-04-15T09:47:53.116Z"
   },
   {
    "duration": 1622,
    "start_time": "2024-04-15T09:47:53.127Z"
   },
   {
    "duration": 15,
    "start_time": "2024-04-15T09:47:54.751Z"
   },
   {
    "duration": 16,
    "start_time": "2024-04-15T09:47:54.767Z"
   },
   {
    "duration": 10,
    "start_time": "2024-04-15T09:47:54.784Z"
   },
   {
    "duration": 33,
    "start_time": "2024-04-15T09:47:54.795Z"
   },
   {
    "duration": 55,
    "start_time": "2024-04-15T09:47:54.831Z"
   },
   {
    "duration": 80683,
    "start_time": "2024-04-15T09:47:54.888Z"
   },
   {
    "duration": 46,
    "start_time": "2024-04-15T09:49:15.573Z"
   },
   {
    "duration": 39,
    "start_time": "2024-04-15T09:49:15.620Z"
   },
   {
    "duration": 378,
    "start_time": "2024-04-15T09:49:15.660Z"
   },
   {
    "duration": 51,
    "start_time": "2024-05-28T10:26:28.217Z"
   },
   {
    "duration": 5098,
    "start_time": "2024-07-06T16:36:54.243Z"
   },
   {
    "duration": 35,
    "start_time": "2024-07-06T16:36:59.344Z"
   },
   {
    "duration": 72,
    "start_time": "2024-07-06T16:36:59.380Z"
   },
   {
    "duration": 5,
    "start_time": "2024-07-06T16:36:59.453Z"
   },
   {
    "duration": 28,
    "start_time": "2024-07-06T16:36:59.460Z"
   },
   {
    "duration": 7,
    "start_time": "2024-07-06T16:36:59.489Z"
   },
   {
    "duration": 11,
    "start_time": "2024-07-06T16:36:59.497Z"
   },
   {
    "duration": 23,
    "start_time": "2024-07-06T16:36:59.509Z"
   },
   {
    "duration": 1145,
    "start_time": "2024-07-06T16:36:59.534Z"
   },
   {
    "duration": 801,
    "start_time": "2024-07-06T16:37:00.680Z"
   },
   {
    "duration": 308,
    "start_time": "2024-07-06T16:37:01.482Z"
   },
   {
    "duration": 290,
    "start_time": "2024-07-06T16:37:01.791Z"
   },
   {
    "duration": 8,
    "start_time": "2024-07-06T16:37:02.082Z"
   },
   {
    "duration": 36,
    "start_time": "2024-07-06T16:37:02.092Z"
   },
   {
    "duration": 1522,
    "start_time": "2024-07-06T16:37:02.129Z"
   },
   {
    "duration": 20,
    "start_time": "2024-07-06T16:37:03.652Z"
   },
   {
    "duration": 7,
    "start_time": "2024-07-06T16:37:03.673Z"
   },
   {
    "duration": 8,
    "start_time": "2024-07-06T16:37:03.681Z"
   },
   {
    "duration": 27,
    "start_time": "2024-07-06T16:37:03.690Z"
   },
   {
    "duration": 153,
    "start_time": "2024-07-06T16:37:03.718Z"
   },
   {
    "duration": 81302,
    "start_time": "2024-07-06T16:37:03.873Z"
   },
   {
    "duration": 54,
    "start_time": "2024-07-06T16:38:25.178Z"
   },
   {
    "duration": 8,
    "start_time": "2024-07-06T16:38:25.233Z"
   },
   {
    "duration": 431,
    "start_time": "2024-07-06T16:38:25.243Z"
   }
  ],
  "kernelspec": {
   "display_name": "Python 3 (ipykernel)",
   "language": "python",
   "name": "python3"
  },
  "language_info": {
   "codemirror_mode": {
    "name": "ipython",
    "version": 3
   },
   "file_extension": ".py",
   "mimetype": "text/x-python",
   "name": "python",
   "nbconvert_exporter": "python",
   "pygments_lexer": "ipython3",
   "version": "3.9.5"
  },
  "toc": {
   "base_numbering": 1,
   "nav_menu": {},
   "number_sections": true,
   "sideBar": true,
   "skip_h1_title": true,
   "title_cell": "Содержание",
   "title_sidebar": "Contents",
   "toc_cell": true,
   "toc_position": {
    "height": "calc(100% - 180px)",
    "left": "10px",
    "top": "150px",
    "width": "196px"
   },
   "toc_section_display": true,
   "toc_window_display": true
  }
 },
 "nbformat": 4,
 "nbformat_minor": 2
}
