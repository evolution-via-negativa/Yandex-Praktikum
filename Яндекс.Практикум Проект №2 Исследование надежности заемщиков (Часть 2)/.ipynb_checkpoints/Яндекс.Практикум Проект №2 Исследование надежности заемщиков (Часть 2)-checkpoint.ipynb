{
 "cells": [
  {
   "cell_type": "markdown",
   "id": "c81daeeb",
   "metadata": {
    "deletable": false,
    "id": "c81daeeb"
   },
   "source": [
    "# Исследование надежности заемщиков\n"
   ]
  },
  {
   "cell_type": "markdown",
   "id": "827c20bf",
   "metadata": {
    "id": "827c20bf"
   },
   "source": [
    "Во второй части проекта вы выполните шаги 3 и 4. Их вручную проверит ревьюер.\n",
    "Чтобы вам не пришлось писать код заново для шагов 1 и 2, мы добавили авторские решения в ячейки с кодом. \n",
    "\n"
   ]
  },
  {
   "cell_type": "markdown",
   "id": "744d7639",
   "metadata": {
    "deletable": false,
    "id": "744d7639"
   },
   "source": [
    "## Откройте таблицу и изучите общую информацию о данных"
   ]
  },
  {
   "cell_type": "markdown",
   "id": "e7a14c31",
   "metadata": {
    "deletable": false,
    "id": "e7a14c31"
   },
   "source": [
    "**Задание 1. Импортируйте библиотеку pandas. Считайте данные из csv-файла в датафрейм и сохраните в переменную `data`. Путь к файлу:**\n",
    "\n",
    "`/datasets/data.csv`"
   ]
  },
  {
   "cell_type": "code",
   "execution_count": 1,
   "id": "7bcf75c9",
   "metadata": {
    "deletable": false,
    "id": "7bcf75c9"
   },
   "outputs": [],
   "source": [
    "import pandas as pd\n",
    "\n",
    "try:\n",
    "    data = pd.read_csv('/datasets/data.csv')\n",
    "except:\n",
    "    data = pd.read_csv('https://code.s3.yandex.net/datasets/data.csv')"
   ]
  },
  {
   "cell_type": "markdown",
   "id": "b8038fe3",
   "metadata": {
    "deletable": false,
    "id": "b8038fe3"
   },
   "source": [
    "**Задание 2. Выведите первые 20 строчек датафрейма `data` на экран.**"
   ]
  },
  {
   "cell_type": "code",
   "execution_count": 2,
   "id": "2a7cab99",
   "metadata": {
    "deletable": false,
    "id": "2a7cab99",
    "outputId": "1a8f3ef2-d323-4ec2-ddf7-89670b5944c4"
   },
   "outputs": [
    {
     "data": {
      "text/html": [
       "<div>\n",
       "<style scoped>\n",
       "    .dataframe tbody tr th:only-of-type {\n",
       "        vertical-align: middle;\n",
       "    }\n",
       "\n",
       "    .dataframe tbody tr th {\n",
       "        vertical-align: top;\n",
       "    }\n",
       "\n",
       "    .dataframe thead th {\n",
       "        text-align: right;\n",
       "    }\n",
       "</style>\n",
       "<table border=\"1\" class=\"dataframe\">\n",
       "  <thead>\n",
       "    <tr style=\"text-align: right;\">\n",
       "      <th></th>\n",
       "      <th>children</th>\n",
       "      <th>days_employed</th>\n",
       "      <th>dob_years</th>\n",
       "      <th>education</th>\n",
       "      <th>education_id</th>\n",
       "      <th>family_status</th>\n",
       "      <th>family_status_id</th>\n",
       "      <th>gender</th>\n",
       "      <th>income_type</th>\n",
       "      <th>debt</th>\n",
       "      <th>total_income</th>\n",
       "      <th>purpose</th>\n",
       "    </tr>\n",
       "  </thead>\n",
       "  <tbody>\n",
       "    <tr>\n",
       "      <th>0</th>\n",
       "      <td>1</td>\n",
       "      <td>-8437.673028</td>\n",
       "      <td>42</td>\n",
       "      <td>высшее</td>\n",
       "      <td>0</td>\n",
       "      <td>женат / замужем</td>\n",
       "      <td>0</td>\n",
       "      <td>F</td>\n",
       "      <td>сотрудник</td>\n",
       "      <td>0</td>\n",
       "      <td>253875.639453</td>\n",
       "      <td>покупка жилья</td>\n",
       "    </tr>\n",
       "    <tr>\n",
       "      <th>1</th>\n",
       "      <td>1</td>\n",
       "      <td>-4024.803754</td>\n",
       "      <td>36</td>\n",
       "      <td>среднее</td>\n",
       "      <td>1</td>\n",
       "      <td>женат / замужем</td>\n",
       "      <td>0</td>\n",
       "      <td>F</td>\n",
       "      <td>сотрудник</td>\n",
       "      <td>0</td>\n",
       "      <td>112080.014102</td>\n",
       "      <td>приобретение автомобиля</td>\n",
       "    </tr>\n",
       "    <tr>\n",
       "      <th>2</th>\n",
       "      <td>0</td>\n",
       "      <td>-5623.422610</td>\n",
       "      <td>33</td>\n",
       "      <td>Среднее</td>\n",
       "      <td>1</td>\n",
       "      <td>женат / замужем</td>\n",
       "      <td>0</td>\n",
       "      <td>M</td>\n",
       "      <td>сотрудник</td>\n",
       "      <td>0</td>\n",
       "      <td>145885.952297</td>\n",
       "      <td>покупка жилья</td>\n",
       "    </tr>\n",
       "    <tr>\n",
       "      <th>3</th>\n",
       "      <td>3</td>\n",
       "      <td>-4124.747207</td>\n",
       "      <td>32</td>\n",
       "      <td>среднее</td>\n",
       "      <td>1</td>\n",
       "      <td>женат / замужем</td>\n",
       "      <td>0</td>\n",
       "      <td>M</td>\n",
       "      <td>сотрудник</td>\n",
       "      <td>0</td>\n",
       "      <td>267628.550329</td>\n",
       "      <td>дополнительное образование</td>\n",
       "    </tr>\n",
       "    <tr>\n",
       "      <th>4</th>\n",
       "      <td>0</td>\n",
       "      <td>340266.072047</td>\n",
       "      <td>53</td>\n",
       "      <td>среднее</td>\n",
       "      <td>1</td>\n",
       "      <td>гражданский брак</td>\n",
       "      <td>1</td>\n",
       "      <td>F</td>\n",
       "      <td>пенсионер</td>\n",
       "      <td>0</td>\n",
       "      <td>158616.077870</td>\n",
       "      <td>сыграть свадьбу</td>\n",
       "    </tr>\n",
       "    <tr>\n",
       "      <th>5</th>\n",
       "      <td>0</td>\n",
       "      <td>-926.185831</td>\n",
       "      <td>27</td>\n",
       "      <td>высшее</td>\n",
       "      <td>0</td>\n",
       "      <td>гражданский брак</td>\n",
       "      <td>1</td>\n",
       "      <td>M</td>\n",
       "      <td>компаньон</td>\n",
       "      <td>0</td>\n",
       "      <td>255763.565419</td>\n",
       "      <td>покупка жилья</td>\n",
       "    </tr>\n",
       "    <tr>\n",
       "      <th>6</th>\n",
       "      <td>0</td>\n",
       "      <td>-2879.202052</td>\n",
       "      <td>43</td>\n",
       "      <td>высшее</td>\n",
       "      <td>0</td>\n",
       "      <td>женат / замужем</td>\n",
       "      <td>0</td>\n",
       "      <td>F</td>\n",
       "      <td>компаньон</td>\n",
       "      <td>0</td>\n",
       "      <td>240525.971920</td>\n",
       "      <td>операции с жильем</td>\n",
       "    </tr>\n",
       "    <tr>\n",
       "      <th>7</th>\n",
       "      <td>0</td>\n",
       "      <td>-152.779569</td>\n",
       "      <td>50</td>\n",
       "      <td>СРЕДНЕЕ</td>\n",
       "      <td>1</td>\n",
       "      <td>женат / замужем</td>\n",
       "      <td>0</td>\n",
       "      <td>M</td>\n",
       "      <td>сотрудник</td>\n",
       "      <td>0</td>\n",
       "      <td>135823.934197</td>\n",
       "      <td>образование</td>\n",
       "    </tr>\n",
       "    <tr>\n",
       "      <th>8</th>\n",
       "      <td>2</td>\n",
       "      <td>-6929.865299</td>\n",
       "      <td>35</td>\n",
       "      <td>ВЫСШЕЕ</td>\n",
       "      <td>0</td>\n",
       "      <td>гражданский брак</td>\n",
       "      <td>1</td>\n",
       "      <td>F</td>\n",
       "      <td>сотрудник</td>\n",
       "      <td>0</td>\n",
       "      <td>95856.832424</td>\n",
       "      <td>на проведение свадьбы</td>\n",
       "    </tr>\n",
       "    <tr>\n",
       "      <th>9</th>\n",
       "      <td>0</td>\n",
       "      <td>-2188.756445</td>\n",
       "      <td>41</td>\n",
       "      <td>среднее</td>\n",
       "      <td>1</td>\n",
       "      <td>женат / замужем</td>\n",
       "      <td>0</td>\n",
       "      <td>M</td>\n",
       "      <td>сотрудник</td>\n",
       "      <td>0</td>\n",
       "      <td>144425.938277</td>\n",
       "      <td>покупка жилья для семьи</td>\n",
       "    </tr>\n",
       "    <tr>\n",
       "      <th>10</th>\n",
       "      <td>2</td>\n",
       "      <td>-4171.483647</td>\n",
       "      <td>36</td>\n",
       "      <td>высшее</td>\n",
       "      <td>0</td>\n",
       "      <td>женат / замужем</td>\n",
       "      <td>0</td>\n",
       "      <td>M</td>\n",
       "      <td>компаньон</td>\n",
       "      <td>0</td>\n",
       "      <td>113943.491460</td>\n",
       "      <td>покупка недвижимости</td>\n",
       "    </tr>\n",
       "    <tr>\n",
       "      <th>11</th>\n",
       "      <td>0</td>\n",
       "      <td>-792.701887</td>\n",
       "      <td>40</td>\n",
       "      <td>среднее</td>\n",
       "      <td>1</td>\n",
       "      <td>женат / замужем</td>\n",
       "      <td>0</td>\n",
       "      <td>F</td>\n",
       "      <td>сотрудник</td>\n",
       "      <td>0</td>\n",
       "      <td>77069.234271</td>\n",
       "      <td>покупка коммерческой недвижимости</td>\n",
       "    </tr>\n",
       "    <tr>\n",
       "      <th>12</th>\n",
       "      <td>0</td>\n",
       "      <td>NaN</td>\n",
       "      <td>65</td>\n",
       "      <td>среднее</td>\n",
       "      <td>1</td>\n",
       "      <td>гражданский брак</td>\n",
       "      <td>1</td>\n",
       "      <td>M</td>\n",
       "      <td>пенсионер</td>\n",
       "      <td>0</td>\n",
       "      <td>NaN</td>\n",
       "      <td>сыграть свадьбу</td>\n",
       "    </tr>\n",
       "    <tr>\n",
       "      <th>13</th>\n",
       "      <td>0</td>\n",
       "      <td>-1846.641941</td>\n",
       "      <td>54</td>\n",
       "      <td>неоконченное высшее</td>\n",
       "      <td>2</td>\n",
       "      <td>женат / замужем</td>\n",
       "      <td>0</td>\n",
       "      <td>F</td>\n",
       "      <td>сотрудник</td>\n",
       "      <td>0</td>\n",
       "      <td>130458.228857</td>\n",
       "      <td>приобретение автомобиля</td>\n",
       "    </tr>\n",
       "    <tr>\n",
       "      <th>14</th>\n",
       "      <td>0</td>\n",
       "      <td>-1844.956182</td>\n",
       "      <td>56</td>\n",
       "      <td>высшее</td>\n",
       "      <td>0</td>\n",
       "      <td>гражданский брак</td>\n",
       "      <td>1</td>\n",
       "      <td>F</td>\n",
       "      <td>компаньон</td>\n",
       "      <td>1</td>\n",
       "      <td>165127.911772</td>\n",
       "      <td>покупка жилой недвижимости</td>\n",
       "    </tr>\n",
       "    <tr>\n",
       "      <th>15</th>\n",
       "      <td>1</td>\n",
       "      <td>-972.364419</td>\n",
       "      <td>26</td>\n",
       "      <td>среднее</td>\n",
       "      <td>1</td>\n",
       "      <td>женат / замужем</td>\n",
       "      <td>0</td>\n",
       "      <td>F</td>\n",
       "      <td>сотрудник</td>\n",
       "      <td>0</td>\n",
       "      <td>116820.904450</td>\n",
       "      <td>строительство собственной недвижимости</td>\n",
       "    </tr>\n",
       "    <tr>\n",
       "      <th>16</th>\n",
       "      <td>0</td>\n",
       "      <td>-1719.934226</td>\n",
       "      <td>35</td>\n",
       "      <td>среднее</td>\n",
       "      <td>1</td>\n",
       "      <td>женат / замужем</td>\n",
       "      <td>0</td>\n",
       "      <td>F</td>\n",
       "      <td>сотрудник</td>\n",
       "      <td>0</td>\n",
       "      <td>289202.704229</td>\n",
       "      <td>недвижимость</td>\n",
       "    </tr>\n",
       "    <tr>\n",
       "      <th>17</th>\n",
       "      <td>0</td>\n",
       "      <td>-2369.999720</td>\n",
       "      <td>33</td>\n",
       "      <td>высшее</td>\n",
       "      <td>0</td>\n",
       "      <td>гражданский брак</td>\n",
       "      <td>1</td>\n",
       "      <td>M</td>\n",
       "      <td>сотрудник</td>\n",
       "      <td>0</td>\n",
       "      <td>90410.586745</td>\n",
       "      <td>строительство недвижимости</td>\n",
       "    </tr>\n",
       "    <tr>\n",
       "      <th>18</th>\n",
       "      <td>0</td>\n",
       "      <td>400281.136913</td>\n",
       "      <td>53</td>\n",
       "      <td>среднее</td>\n",
       "      <td>1</td>\n",
       "      <td>вдовец / вдова</td>\n",
       "      <td>2</td>\n",
       "      <td>F</td>\n",
       "      <td>пенсионер</td>\n",
       "      <td>0</td>\n",
       "      <td>56823.777243</td>\n",
       "      <td>на покупку подержанного автомобиля</td>\n",
       "    </tr>\n",
       "    <tr>\n",
       "      <th>19</th>\n",
       "      <td>0</td>\n",
       "      <td>-10038.818549</td>\n",
       "      <td>48</td>\n",
       "      <td>СРЕДНЕЕ</td>\n",
       "      <td>1</td>\n",
       "      <td>в разводе</td>\n",
       "      <td>3</td>\n",
       "      <td>F</td>\n",
       "      <td>сотрудник</td>\n",
       "      <td>0</td>\n",
       "      <td>242831.107982</td>\n",
       "      <td>на покупку своего автомобиля</td>\n",
       "    </tr>\n",
       "  </tbody>\n",
       "</table>\n",
       "</div>"
      ],
      "text/plain": [
       "    children  days_employed  dob_years            education  education_id  \\\n",
       "0          1   -8437.673028         42               высшее             0   \n",
       "1          1   -4024.803754         36              среднее             1   \n",
       "2          0   -5623.422610         33              Среднее             1   \n",
       "3          3   -4124.747207         32              среднее             1   \n",
       "4          0  340266.072047         53              среднее             1   \n",
       "5          0    -926.185831         27               высшее             0   \n",
       "6          0   -2879.202052         43               высшее             0   \n",
       "7          0    -152.779569         50              СРЕДНЕЕ             1   \n",
       "8          2   -6929.865299         35               ВЫСШЕЕ             0   \n",
       "9          0   -2188.756445         41              среднее             1   \n",
       "10         2   -4171.483647         36               высшее             0   \n",
       "11         0    -792.701887         40              среднее             1   \n",
       "12         0            NaN         65              среднее             1   \n",
       "13         0   -1846.641941         54  неоконченное высшее             2   \n",
       "14         0   -1844.956182         56               высшее             0   \n",
       "15         1    -972.364419         26              среднее             1   \n",
       "16         0   -1719.934226         35              среднее             1   \n",
       "17         0   -2369.999720         33               высшее             0   \n",
       "18         0  400281.136913         53              среднее             1   \n",
       "19         0  -10038.818549         48              СРЕДНЕЕ             1   \n",
       "\n",
       "       family_status  family_status_id gender income_type  debt  \\\n",
       "0    женат / замужем                 0      F   сотрудник     0   \n",
       "1    женат / замужем                 0      F   сотрудник     0   \n",
       "2    женат / замужем                 0      M   сотрудник     0   \n",
       "3    женат / замужем                 0      M   сотрудник     0   \n",
       "4   гражданский брак                 1      F   пенсионер     0   \n",
       "5   гражданский брак                 1      M   компаньон     0   \n",
       "6    женат / замужем                 0      F   компаньон     0   \n",
       "7    женат / замужем                 0      M   сотрудник     0   \n",
       "8   гражданский брак                 1      F   сотрудник     0   \n",
       "9    женат / замужем                 0      M   сотрудник     0   \n",
       "10   женат / замужем                 0      M   компаньон     0   \n",
       "11   женат / замужем                 0      F   сотрудник     0   \n",
       "12  гражданский брак                 1      M   пенсионер     0   \n",
       "13   женат / замужем                 0      F   сотрудник     0   \n",
       "14  гражданский брак                 1      F   компаньон     1   \n",
       "15   женат / замужем                 0      F   сотрудник     0   \n",
       "16   женат / замужем                 0      F   сотрудник     0   \n",
       "17  гражданский брак                 1      M   сотрудник     0   \n",
       "18    вдовец / вдова                 2      F   пенсионер     0   \n",
       "19         в разводе                 3      F   сотрудник     0   \n",
       "\n",
       "     total_income                                 purpose  \n",
       "0   253875.639453                           покупка жилья  \n",
       "1   112080.014102                 приобретение автомобиля  \n",
       "2   145885.952297                           покупка жилья  \n",
       "3   267628.550329              дополнительное образование  \n",
       "4   158616.077870                         сыграть свадьбу  \n",
       "5   255763.565419                           покупка жилья  \n",
       "6   240525.971920                       операции с жильем  \n",
       "7   135823.934197                             образование  \n",
       "8    95856.832424                   на проведение свадьбы  \n",
       "9   144425.938277                 покупка жилья для семьи  \n",
       "10  113943.491460                    покупка недвижимости  \n",
       "11   77069.234271       покупка коммерческой недвижимости  \n",
       "12            NaN                         сыграть свадьбу  \n",
       "13  130458.228857                 приобретение автомобиля  \n",
       "14  165127.911772              покупка жилой недвижимости  \n",
       "15  116820.904450  строительство собственной недвижимости  \n",
       "16  289202.704229                            недвижимость  \n",
       "17   90410.586745              строительство недвижимости  \n",
       "18   56823.777243      на покупку подержанного автомобиля  \n",
       "19  242831.107982            на покупку своего автомобиля  "
      ]
     },
     "execution_count": 2,
     "metadata": {},
     "output_type": "execute_result"
    }
   ],
   "source": [
    "data.head(20)"
   ]
  },
  {
   "cell_type": "markdown",
   "id": "1c12e233",
   "metadata": {
    "deletable": false,
    "id": "1c12e233"
   },
   "source": [
    "**Задание 3. Выведите основную информацию о датафрейме с помощью метода `info()`.**"
   ]
  },
  {
   "cell_type": "code",
   "execution_count": 3,
   "id": "2b757bca",
   "metadata": {
    "deletable": false,
    "id": "2b757bca",
    "outputId": "15376089-8dad-46c9-b520-c05248d43158"
   },
   "outputs": [
    {
     "name": "stdout",
     "output_type": "stream",
     "text": [
      "<class 'pandas.core.frame.DataFrame'>\n",
      "RangeIndex: 21525 entries, 0 to 21524\n",
      "Data columns (total 12 columns):\n",
      " #   Column            Non-Null Count  Dtype  \n",
      "---  ------            --------------  -----  \n",
      " 0   children          21525 non-null  int64  \n",
      " 1   days_employed     19351 non-null  float64\n",
      " 2   dob_years         21525 non-null  int64  \n",
      " 3   education         21525 non-null  object \n",
      " 4   education_id      21525 non-null  int64  \n",
      " 5   family_status     21525 non-null  object \n",
      " 6   family_status_id  21525 non-null  int64  \n",
      " 7   gender            21525 non-null  object \n",
      " 8   income_type       21525 non-null  object \n",
      " 9   debt              21525 non-null  int64  \n",
      " 10  total_income      19351 non-null  float64\n",
      " 11  purpose           21525 non-null  object \n",
      "dtypes: float64(2), int64(5), object(5)\n",
      "memory usage: 2.0+ MB\n"
     ]
    }
   ],
   "source": [
    "data.info()"
   ]
  },
  {
   "cell_type": "markdown",
   "id": "333ec665",
   "metadata": {
    "deletable": false,
    "id": "333ec665"
   },
   "source": [
    "## Предобработка данных"
   ]
  },
  {
   "cell_type": "markdown",
   "id": "02d92d53",
   "metadata": {
    "deletable": false,
    "id": "02d92d53"
   },
   "source": [
    "### Удаление пропусков"
   ]
  },
  {
   "cell_type": "markdown",
   "id": "cd84967c",
   "metadata": {
    "deletable": false,
    "id": "cd84967c"
   },
   "source": [
    "**Задание 4. Выведите количество пропущенных значений для каждого столбца. Используйте комбинацию двух методов.**"
   ]
  },
  {
   "cell_type": "code",
   "execution_count": 4,
   "id": "7f9b2309",
   "metadata": {
    "deletable": false,
    "id": "7f9b2309",
    "outputId": "81f4d817-781c-465c-ed15-91ce4446810d"
   },
   "outputs": [
    {
     "data": {
      "text/plain": [
       "children               0\n",
       "days_employed       2174\n",
       "dob_years              0\n",
       "education              0\n",
       "education_id           0\n",
       "family_status          0\n",
       "family_status_id       0\n",
       "gender                 0\n",
       "income_type            0\n",
       "debt                   0\n",
       "total_income        2174\n",
       "purpose                0\n",
       "dtype: int64"
      ]
     },
     "execution_count": 4,
     "metadata": {},
     "output_type": "execute_result"
    }
   ],
   "source": [
    "data.isna().sum()"
   ]
  },
  {
   "cell_type": "markdown",
   "id": "db86e27b",
   "metadata": {
    "deletable": false,
    "id": "db86e27b"
   },
   "source": [
    "**Задание 5. В двух столбцах есть пропущенные значения. Один из них — `days_employed`. Пропуски в этом столбце вы обработаете на следующем этапе. Другой столбец с пропущенными значениями — `total_income` — хранит данные о доходах. На сумму дохода сильнее всего влияет тип занятости, поэтому заполнить пропуски в этом столбце нужно медианным значением по каждому типу из столбца `income_type`. Например, у человека с типом занятости `сотрудник` пропуск в столбце `total_income` должен быть заполнен медианным доходом среди всех записей с тем же типом.**"
   ]
  },
  {
   "cell_type": "code",
   "execution_count": 5,
   "id": "42006a93",
   "metadata": {
    "deletable": false,
    "id": "42006a93"
   },
   "outputs": [],
   "source": [
    "for t in data['income_type'].unique():\n",
    "    data.loc[(data['income_type'] == t) & (data['total_income'].isna()), 'total_income'] = \\\n",
    "    data.loc[(data['income_type'] == t), 'total_income'].median()"
   ]
  },
  {
   "cell_type": "markdown",
   "id": "89da5ece",
   "metadata": {
    "deletable": false,
    "id": "89da5ece"
   },
   "source": [
    "### Обработка аномальных значений"
   ]
  },
  {
   "cell_type": "markdown",
   "id": "57964554",
   "metadata": {
    "deletable": false,
    "id": "57964554"
   },
   "source": [
    "**Задание 6. В данных могут встречаться артефакты (аномалии) — значения, которые не отражают действительность и появились по какой-то ошибке. таким артефактом будет отрицательное количество дней трудового стажа в столбце `days_employed`. Для реальных данных это нормально. Обработайте значения в этом столбце: замените все отрицательные значения положительными с помощью метода `abs()`.**"
   ]
  },
  {
   "cell_type": "code",
   "execution_count": 6,
   "id": "f6f055bf",
   "metadata": {
    "deletable": false,
    "id": "f6f055bf"
   },
   "outputs": [],
   "source": [
    "data['days_employed'] = data['days_employed'].abs()"
   ]
  },
  {
   "cell_type": "markdown",
   "id": "6107dd2f",
   "metadata": {
    "deletable": false,
    "id": "6107dd2f"
   },
   "source": [
    "**Задание 7. Для каждого типа занятости выведите медианное значение трудового стажа `days_employed` в днях.**"
   ]
  },
  {
   "cell_type": "code",
   "execution_count": 7,
   "id": "85a5faf6",
   "metadata": {
    "deletable": false,
    "id": "85a5faf6",
    "outputId": "801ef80e-522b-4668-f34e-565af7432bcf"
   },
   "outputs": [
    {
     "data": {
      "text/plain": [
       "income_type\n",
       "безработный        366413.652744\n",
       "в декрете            3296.759962\n",
       "госслужащий          2689.368353\n",
       "компаньон            1547.382223\n",
       "пенсионер          365213.306266\n",
       "предприниматель       520.848083\n",
       "сотрудник            1574.202821\n",
       "студент               578.751554\n",
       "Name: days_employed, dtype: float64"
      ]
     },
     "execution_count": 7,
     "metadata": {},
     "output_type": "execute_result"
    }
   ],
   "source": [
    "data.groupby('income_type')['days_employed'].median()"
   ]
  },
  {
   "cell_type": "markdown",
   "id": "38d1a030",
   "metadata": {
    "deletable": false,
    "id": "38d1a030"
   },
   "source": [
    "У двух типов (безработные и пенсионеры) получатся аномально большие значения. Исправить такие значения сложно, поэтому оставьте их как есть. Тем более этот столбец не понадобится вам для исследования."
   ]
  },
  {
   "cell_type": "markdown",
   "id": "d8a9f147",
   "metadata": {
    "deletable": false,
    "id": "d8a9f147"
   },
   "source": [
    "**Задание 8. Выведите перечень уникальных значений столбца `children`.**"
   ]
  },
  {
   "cell_type": "code",
   "execution_count": 8,
   "id": "ef5056eb",
   "metadata": {
    "deletable": false,
    "id": "ef5056eb",
    "outputId": "6975b15c-7f95-4697-d16d-a0c79b657b03"
   },
   "outputs": [
    {
     "data": {
      "text/plain": [
       "array([ 1,  0,  3,  2, -1,  4, 20,  5])"
      ]
     },
     "execution_count": 8,
     "metadata": {},
     "output_type": "execute_result"
    }
   ],
   "source": [
    "data['children'].unique()    "
   ]
  },
  {
   "cell_type": "markdown",
   "id": "40b9ebf2",
   "metadata": {
    "deletable": false,
    "id": "40b9ebf2"
   },
   "source": [
    "**Задание 9. В столбце `children` есть два аномальных значения. Удалите строки, в которых встречаются такие аномальные значения из датафрейма `data`.**"
   ]
  },
  {
   "cell_type": "code",
   "execution_count": 9,
   "id": "3ff9801d",
   "metadata": {
    "deletable": false,
    "id": "3ff9801d"
   },
   "outputs": [],
   "source": [
    "data = data[~data['children'].isin([-1, 20])]"
   ]
  },
  {
   "cell_type": "markdown",
   "id": "bbc4d0ce",
   "metadata": {
    "deletable": false,
    "id": "bbc4d0ce"
   },
   "source": [
    "**Задание 10. Ещё раз выведите перечень уникальных значений столбца `children`, чтобы убедиться, что артефакты удалены.**"
   ]
  },
  {
   "cell_type": "code",
   "execution_count": 10,
   "id": "ad4fa8b7",
   "metadata": {
    "deletable": false,
    "id": "ad4fa8b7",
    "outputId": "b2097101-d49d-44d9-901b-32a65c9463d1"
   },
   "outputs": [
    {
     "data": {
      "text/plain": [
       "array([1, 0, 3, 2, 4, 5])"
      ]
     },
     "execution_count": 10,
     "metadata": {},
     "output_type": "execute_result"
    }
   ],
   "source": [
    "data['children'].unique()"
   ]
  },
  {
   "cell_type": "markdown",
   "id": "75440b63",
   "metadata": {
    "deletable": false,
    "id": "75440b63"
   },
   "source": [
    "### Удаление пропусков (продолжение)"
   ]
  },
  {
   "cell_type": "markdown",
   "id": "f4ea573f",
   "metadata": {
    "deletable": false,
    "id": "f4ea573f"
   },
   "source": [
    "**Задание 11. Заполните пропуски в столбце `days_employed` медианными значениями по каждого типа занятости `income_type`.**"
   ]
  },
  {
   "cell_type": "code",
   "execution_count": 11,
   "id": "af6b1a7e",
   "metadata": {
    "deletable": false,
    "id": "af6b1a7e"
   },
   "outputs": [],
   "source": [
    "for t in data['income_type'].unique():\n",
    "    data.loc[(data['income_type'] == t) & (data['days_employed'].isna()), 'days_employed'] = \\\n",
    "    data.loc[(data['income_type'] == t), 'days_employed'].median()"
   ]
  },
  {
   "cell_type": "markdown",
   "id": "2753f40d",
   "metadata": {
    "deletable": false,
    "id": "2753f40d"
   },
   "source": [
    "**Задание 12. Убедитесь, что все пропуски заполнены. Проверьте себя и ещё раз выведите количество пропущенных значений для каждого столбца с помощью двух методов.**"
   ]
  },
  {
   "cell_type": "code",
   "execution_count": 12,
   "id": "55f78bc2",
   "metadata": {
    "deletable": false,
    "id": "55f78bc2",
    "outputId": "8da1e4e1-358e-4e87-98c9-f261bce0a7b2"
   },
   "outputs": [
    {
     "data": {
      "text/plain": [
       "children            0\n",
       "days_employed       0\n",
       "dob_years           0\n",
       "education           0\n",
       "education_id        0\n",
       "family_status       0\n",
       "family_status_id    0\n",
       "gender              0\n",
       "income_type         0\n",
       "debt                0\n",
       "total_income        0\n",
       "purpose             0\n",
       "dtype: int64"
      ]
     },
     "execution_count": 12,
     "metadata": {},
     "output_type": "execute_result"
    }
   ],
   "source": [
    "data.isna().sum()"
   ]
  },
  {
   "cell_type": "markdown",
   "id": "ddc81e43",
   "metadata": {
    "deletable": false,
    "id": "ddc81e43"
   },
   "source": [
    "### Изменение типов данных"
   ]
  },
  {
   "cell_type": "markdown",
   "id": "42d19d24",
   "metadata": {
    "deletable": false,
    "id": "42d19d24"
   },
   "source": [
    "**Задание 13. Замените вещественный тип данных в столбце `total_income` на целочисленный с помощью метода `astype()`.**"
   ]
  },
  {
   "cell_type": "code",
   "execution_count": 13,
   "id": "920b65ad",
   "metadata": {
    "deletable": false,
    "id": "920b65ad"
   },
   "outputs": [],
   "source": [
    "data['total_income'] = data['total_income'].astype(int)"
   ]
  },
  {
   "cell_type": "markdown",
   "id": "80c420ba",
   "metadata": {
    "deletable": false,
    "id": "80c420ba"
   },
   "source": [
    "### Обработка дубликатов"
   ]
  },
  {
   "cell_type": "markdown",
   "id": "dc587695",
   "metadata": {
    "deletable": false,
    "id": "dc587695"
   },
   "source": [
    "**Задание 14. Выведите на экран количество строк-дубликатов в данных. Если такие строки присутствуют, удалите их.**"
   ]
  },
  {
   "cell_type": "code",
   "execution_count": 14,
   "id": "3ee445e4",
   "metadata": {
    "deletable": false,
    "id": "3ee445e4",
    "outputId": "9684deba-1934-42d1-99e1-cda61740f822"
   },
   "outputs": [
    {
     "data": {
      "text/plain": [
       "54"
      ]
     },
     "execution_count": 14,
     "metadata": {},
     "output_type": "execute_result"
    }
   ],
   "source": [
    "data.duplicated().sum()"
   ]
  },
  {
   "cell_type": "code",
   "execution_count": 15,
   "id": "8575fe05",
   "metadata": {
    "deletable": false,
    "id": "8575fe05"
   },
   "outputs": [],
   "source": [
    "data = data.drop_duplicates()"
   ]
  },
  {
   "cell_type": "markdown",
   "id": "9771a76c",
   "metadata": {
    "deletable": false,
    "id": "9771a76c"
   },
   "source": [
    "**Задание 15. Обработайте неявные дубликаты в столбце `education`. В этом столбце есть одни и те же значения, но записанные по-разному: с использованием заглавных и строчных букв. Приведите их к нижнему регистру. Проверьте остальные столбцы.**"
   ]
  },
  {
   "cell_type": "code",
   "execution_count": 16,
   "id": "a9f8e2bf",
   "metadata": {
    "deletable": false,
    "id": "a9f8e2bf"
   },
   "outputs": [
    {
     "data": {
      "text/plain": [
       "array(['высшее', 'среднее', 'неоконченное высшее', 'начальное',\n",
       "       'ученая степень'], dtype=object)"
      ]
     },
     "execution_count": 16,
     "metadata": {},
     "output_type": "execute_result"
    }
   ],
   "source": [
    "data['education'] = data['education'].str.lower()\n",
    "data['education'].unique()"
   ]
  },
  {
   "cell_type": "markdown",
   "id": "9904cf55",
   "metadata": {
    "deletable": false,
    "id": "9904cf55"
   },
   "source": [
    "### Категоризация данных"
   ]
  },
  {
   "cell_type": "markdown",
   "id": "72fcc8a2",
   "metadata": {
    "deletable": false,
    "id": "72fcc8a2"
   },
   "source": [
    "**Задание 16. На основании диапазонов, указанных ниже, создайте в датафрейме `data` столбец `total_income_category` с категориями:**\n",
    "\n",
    "- 0–30000 — `'E'`;\n",
    "- 30001–50000 — `'D'`;\n",
    "- 50001–200000 — `'C'`;\n",
    "- 200001–1000000 — `'B'`;\n",
    "- 1000001 и выше — `'A'`.\n",
    "\n",
    "\n",
    "**Например, кредитополучателю с доходом 25000 нужно назначить категорию `'E'`, а клиенту, получающему 235000, — `'B'`. Используйте собственную функцию с именем `categorize_income()` и метод `apply()`.**"
   ]
  },
  {
   "cell_type": "code",
   "execution_count": 17,
   "id": "e1771346",
   "metadata": {
    "deletable": false,
    "id": "e1771346"
   },
   "outputs": [],
   "source": [
    "def categorize_income(income):\n",
    "    try:\n",
    "        if 0 <= income <= 30000:\n",
    "            return 'E'\n",
    "        elif 30001 <= income <= 50000:\n",
    "            return 'D'\n",
    "        elif 50001 <= income <= 200000:\n",
    "            return 'C'\n",
    "        elif 200001 <= income <= 1000000:\n",
    "            return 'B'\n",
    "        elif income >= 1000001:\n",
    "            return 'A'\n",
    "    except:\n",
    "        pass"
   ]
  },
  {
   "cell_type": "code",
   "execution_count": 18,
   "id": "d5f3586d",
   "metadata": {
    "deletable": false,
    "id": "d5f3586d"
   },
   "outputs": [],
   "source": [
    "data['total_income_category'] = data['total_income'].apply(categorize_income)"
   ]
  },
  {
   "cell_type": "markdown",
   "id": "dde49b5c",
   "metadata": {
    "deletable": false,
    "id": "dde49b5c"
   },
   "source": [
    "**Задание 17. Выведите на экран перечень уникальных целей взятия кредита из столбца `purpose`.**"
   ]
  },
  {
   "cell_type": "code",
   "execution_count": 19,
   "id": "f67ce9b3",
   "metadata": {
    "deletable": false,
    "id": "f67ce9b3",
    "outputId": "673c12d9-7d7e-4ae0-9812-c622c89dd244"
   },
   "outputs": [
    {
     "data": {
      "text/plain": [
       "array(['покупка жилья', 'приобретение автомобиля',\n",
       "       'дополнительное образование', 'сыграть свадьбу',\n",
       "       'операции с жильем', 'образование', 'на проведение свадьбы',\n",
       "       'покупка жилья для семьи', 'покупка недвижимости',\n",
       "       'покупка коммерческой недвижимости', 'покупка жилой недвижимости',\n",
       "       'строительство собственной недвижимости', 'недвижимость',\n",
       "       'строительство недвижимости', 'на покупку подержанного автомобиля',\n",
       "       'на покупку своего автомобиля',\n",
       "       'операции с коммерческой недвижимостью',\n",
       "       'строительство жилой недвижимости', 'жилье',\n",
       "       'операции со своей недвижимостью', 'автомобили',\n",
       "       'заняться образованием', 'сделка с подержанным автомобилем',\n",
       "       'получение образования', 'автомобиль', 'свадьба',\n",
       "       'получение дополнительного образования', 'покупка своего жилья',\n",
       "       'операции с недвижимостью', 'получение высшего образования',\n",
       "       'свой автомобиль', 'сделка с автомобилем',\n",
       "       'профильное образование', 'высшее образование',\n",
       "       'покупка жилья для сдачи', 'на покупку автомобиля', 'ремонт жилью',\n",
       "       'заняться высшим образованием'], dtype=object)"
      ]
     },
     "execution_count": 19,
     "metadata": {},
     "output_type": "execute_result"
    }
   ],
   "source": [
    "data['purpose'].unique()"
   ]
  },
  {
   "cell_type": "markdown",
   "id": "85d0aef0",
   "metadata": {
    "deletable": false,
    "id": "85d0aef0"
   },
   "source": [
    "**Задание 18. Создайте функцию, которая на основании данных из столбца `purpose` сформирует новый столбец `purpose_category`, в который войдут следующие категории:**\n",
    "\n",
    "- `'операции с автомобилем'`,\n",
    "- `'операции с недвижимостью'`,\n",
    "- `'проведение свадьбы'`,\n",
    "- `'получение образования'`.\n",
    "\n",
    "**Например, если в столбце `purpose` находится подстрока `'на покупку автомобиля'`, то в столбце `purpose_category` должна появиться строка `'операции с автомобилем'`.**\n",
    "\n",
    "**Используйте собственную функцию с именем `categorize_purpose()` и метод `apply()`. Изучите данные в столбце `purpose` и определите, какие подстроки помогут вам правильно определить категорию.**"
   ]
  },
  {
   "cell_type": "code",
   "execution_count": 20,
   "id": "e149fab4",
   "metadata": {
    "deletable": false,
    "id": "e149fab4"
   },
   "outputs": [],
   "source": [
    "def categorize_purpose(row):\n",
    "    try:\n",
    "        if 'автом' in row:\n",
    "            return 'операции с автомобилем'\n",
    "        elif 'жил' in row or 'недвиж' in row:\n",
    "            return 'операции с недвижимостью'\n",
    "        elif 'свад' in row:\n",
    "            return 'проведение свадьбы'\n",
    "        elif 'образов' in row:\n",
    "            return 'получение образования'\n",
    "    except:\n",
    "        return 'нет категории'"
   ]
  },
  {
   "cell_type": "code",
   "execution_count": 21,
   "id": "bf36e69b",
   "metadata": {
    "deletable": false,
    "id": "bf36e69b"
   },
   "outputs": [],
   "source": [
    "data['purpose_category'] = data['purpose'].apply(categorize_purpose)"
   ]
  },
  {
   "cell_type": "markdown",
   "id": "09b242bf",
   "metadata": {
    "deletable": false,
    "editable": false,
    "id": "09b242bf"
   },
   "source": [
    "## Исследуйте данные и ответьте на вопросы"
   ]
  },
  {
   "cell_type": "markdown",
   "id": "f6b190f4",
   "metadata": {},
   "source": [
    "Для начала подключим несколько полезных для исследования модулей и напишем функцию для тестирования гипотезы независимости двух случайных величин. Она пригодится нам в дальнейшем. Будем использовать тест $\\chi^2$ на независимость, так как случайные величины, с которыми мы будем работать являются категориальными.  \n",
    "\n",
    "**X**, **Y** - две (возможно зависимые) случайные величины  \n",
    "**H<sub>0</sub>** - основная гипотеза (**X** и **Y** - независимые случайные величины)  \n",
    "**H<sub>1</sub>** - альтернативная гипотеза (**X** и **Y** - зависимые случайные величины)  \n",
    "$\\alpha$ - уровень статистической значимости"
   ]
  },
  {
   "cell_type": "code",
   "execution_count": 22,
   "id": "89163d34",
   "metadata": {},
   "outputs": [],
   "source": [
    "import statsmodels.api as sm\n",
    "import seaborn as sns\n",
    "\n",
    "sns.set(rc = {'figure.figsize':(12, 4.8)})\n",
    "\n",
    "def test_association(contingency_tab, alpha):\n",
    "    result = sm.stats.Table(contingency_tab).test_nominal_association()\n",
    "\n",
    "    print('alpha:', alpha)\n",
    "    print('p-value:', result.pvalue)\n",
    "    if result.pvalue > alpha:\n",
    "        print('Гипотеза о независимости не отвергнута. Будем считать, что случайные величины независимы')\n",
    "    else:\n",
    "        print('Гипотеза о независимости отвергнута. Будем считать, что случайные величины зависимы')"
   ]
  },
  {
   "cell_type": "markdown",
   "id": "c5d66278",
   "metadata": {
    "deletable": false,
    "editable": false,
    "id": "c5d66278"
   },
   "source": [
    "**Задание 19. Есть ли зависимость между количеством детей и возвратом кредита в срок?**"
   ]
  },
  {
   "cell_type": "code",
   "execution_count": 23,
   "id": "2cacfc4a",
   "metadata": {
    "id": "2cacfc4a"
   },
   "outputs": [
    {
     "data": {
      "text/html": [
       "<div>\n",
       "<style scoped>\n",
       "    .dataframe tbody tr th:only-of-type {\n",
       "        vertical-align: middle;\n",
       "    }\n",
       "\n",
       "    .dataframe tbody tr th {\n",
       "        vertical-align: top;\n",
       "    }\n",
       "\n",
       "    .dataframe thead th {\n",
       "        text-align: right;\n",
       "    }\n",
       "</style>\n",
       "<table border=\"1\" class=\"dataframe\">\n",
       "  <thead>\n",
       "    <tr style=\"text-align: right;\">\n",
       "      <th>debt</th>\n",
       "      <th>0</th>\n",
       "      <th>1</th>\n",
       "      <th>debt_pct</th>\n",
       "    </tr>\n",
       "    <tr>\n",
       "      <th>children</th>\n",
       "      <th></th>\n",
       "      <th></th>\n",
       "      <th></th>\n",
       "    </tr>\n",
       "  </thead>\n",
       "  <tbody>\n",
       "    <tr>\n",
       "      <th>0</th>\n",
       "      <td>13044</td>\n",
       "      <td>1063</td>\n",
       "      <td>0.075353</td>\n",
       "    </tr>\n",
       "    <tr>\n",
       "      <th>1</th>\n",
       "      <td>4365</td>\n",
       "      <td>444</td>\n",
       "      <td>0.092327</td>\n",
       "    </tr>\n",
       "    <tr>\n",
       "      <th>2</th>\n",
       "      <td>1858</td>\n",
       "      <td>194</td>\n",
       "      <td>0.094542</td>\n",
       "    </tr>\n",
       "    <tr>\n",
       "      <th>3</th>\n",
       "      <td>303</td>\n",
       "      <td>27</td>\n",
       "      <td>0.081818</td>\n",
       "    </tr>\n",
       "    <tr>\n",
       "      <th>4</th>\n",
       "      <td>37</td>\n",
       "      <td>4</td>\n",
       "      <td>0.097561</td>\n",
       "    </tr>\n",
       "    <tr>\n",
       "      <th>5</th>\n",
       "      <td>9</td>\n",
       "      <td>0</td>\n",
       "      <td>0.000000</td>\n",
       "    </tr>\n",
       "  </tbody>\n",
       "</table>\n",
       "</div>"
      ],
      "text/plain": [
       "debt          0     1  debt_pct\n",
       "children                       \n",
       "0         13044  1063  0.075353\n",
       "1          4365   444  0.092327\n",
       "2          1858   194  0.094542\n",
       "3           303    27  0.081818\n",
       "4            37     4  0.097561\n",
       "5             9     0  0.000000"
      ]
     },
     "execution_count": 23,
     "metadata": {},
     "output_type": "execute_result"
    }
   ],
   "source": [
    "# Ваш код будет здесь. Вы можете создавать новые ячейки.\n",
    "\n",
    "# Сводная таблица, которая показывает частоту и процентное соотношение значений\n",
    "# задолженности по возврату кредита в срок в зависимости от количества детей\n",
    "children_pivot = data[['children', 'debt']].pivot_table(index='children',\n",
    "                                                        columns='debt',\n",
    "                                                        aggfunc=len,\n",
    "                                                        fill_value=0)\n",
    "children_pivot['debt_pct'] = children_pivot.apply(lambda x: x / x.sum(), axis=1)[1]\n",
    "children_pivot"
   ]
  },
  {
   "cell_type": "code",
   "execution_count": 24,
   "id": "9eadc463",
   "metadata": {},
   "outputs": [
    {
     "data": {
      "text/plain": [
       "(<AxesSubplot:xlabel='children'>,)"
      ]
     },
     "execution_count": 24,
     "metadata": {},
     "output_type": "execute_result"
    },
    {
     "data": {
      "image/png": "[encoded data removed]",
      "text/plain": [
       "<Figure size 864x345.6 with 1 Axes>"
      ]
     },
     "metadata": {},
     "output_type": "display_data"
    }
   ],
   "source": [
    "# Зависимость числа заёмщиков от количества детей\n",
    "sns.barplot(x=children_pivot.index, y=children_pivot[0] + children_pivot[1]),"
   ]
  },
  {
   "cell_type": "markdown",
   "id": "5564f7d9",
   "metadata": {},
   "source": [
    "Число заёмщиков, у которых количество детей равно 5, слишком мало. (меньше эвристического значения 30, то есть не достаточно для получения статистически значимых результатов) Такое малое число заёмщиков на одну категорию может значительно исказить результаты исследования. Поэтому далее рассматривать их в нашем исследовании мы не будем и нам придётся их удалить."
   ]
  },
  {
   "cell_type": "code",
   "execution_count": 25,
   "id": "21327950",
   "metadata": {},
   "outputs": [
    {
     "data": {
      "text/plain": [
       "<AxesSubplot:xlabel='children', ylabel='debt_pct'>"
      ]
     },
     "execution_count": 25,
     "metadata": {},
     "output_type": "execute_result"
    },
    {
     "data": {
      "image/png": "[encoded data removed]",
      "text/plain": [
       "<Figure size 864x345.6 with 1 Axes>"
      ]
     },
     "metadata": {},
     "output_type": "display_data"
    }
   ],
   "source": [
    "# Удаляем заёмщиков с количеством детей равным пяти из cводной таблицы\n",
    "children_pivot = children_pivot[children_pivot.index != 5]\n",
    "# Зависимость процентного соотношения задолженности по возврату кредита в срок от количества детей\n",
    "sns.barplot(x=children_pivot.index, y=children_pivot['debt_pct'])"
   ]
  },
  {
   "cell_type": "markdown",
   "id": "251715b8",
   "metadata": {},
   "source": [
    "Из данных, приведённых выше, можно сформулировать гипотезу о том, что заёмщики, которые совсем не имеют детей, в среднем реже имеют задолженность по возврату кредита в срок, чем заёмщики с детьми. Для того, чтобы проверить эту гипотезу, разделим заёмщиков на две категории. Первая категория - заёмщики без детей, вторая категория - заёмщики с детьми."
   ]
  },
  {
   "cell_type": "code",
   "execution_count": 26,
   "id": "65cf521a",
   "metadata": {},
   "outputs": [
    {
     "data": {
      "text/html": [
       "<div>\n",
       "<style scoped>\n",
       "    .dataframe tbody tr th:only-of-type {\n",
       "        vertical-align: middle;\n",
       "    }\n",
       "\n",
       "    .dataframe tbody tr th {\n",
       "        vertical-align: top;\n",
       "    }\n",
       "\n",
       "    .dataframe thead th {\n",
       "        text-align: right;\n",
       "    }\n",
       "</style>\n",
       "<table border=\"1\" class=\"dataframe\">\n",
       "  <thead>\n",
       "    <tr style=\"text-align: right;\">\n",
       "      <th>debt</th>\n",
       "      <th>0</th>\n",
       "      <th>1</th>\n",
       "      <th>debt_pct</th>\n",
       "    </tr>\n",
       "    <tr>\n",
       "      <th>has_children</th>\n",
       "      <th></th>\n",
       "      <th></th>\n",
       "      <th></th>\n",
       "    </tr>\n",
       "  </thead>\n",
       "  <tbody>\n",
       "    <tr>\n",
       "      <th>False</th>\n",
       "      <td>13044</td>\n",
       "      <td>1063</td>\n",
       "      <td>0.075353</td>\n",
       "    </tr>\n",
       "    <tr>\n",
       "      <th>True</th>\n",
       "      <td>6572</td>\n",
       "      <td>669</td>\n",
       "      <td>0.092391</td>\n",
       "    </tr>\n",
       "  </tbody>\n",
       "</table>\n",
       "</div>"
      ],
      "text/plain": [
       "debt              0     1  debt_pct\n",
       "has_children                       \n",
       "False         13044  1063  0.075353\n",
       "True           6572   669  0.092391"
      ]
     },
     "execution_count": 26,
     "metadata": {},
     "output_type": "execute_result"
    }
   ],
   "source": [
    "# Создаём новый столбец, который определяет наличие детей у заёмщика\n",
    "data['has_children'] = data['children'].apply(lambda x: x != 0)\n",
    "\n",
    "# Сводная таблица, которая показывает частоту и процентное соотношение значений\n",
    "# задолженности по возврату кредита в срок в зависимости от наличия детей\n",
    "has_children_pivot = data[['has_children', 'debt']].pivot_table(index='has_children',\n",
    "                                                                columns='debt',\n",
    "                                                                aggfunc=len, \n",
    "                                                                fill_value=0)\n",
    "has_children_pivot['debt_pct'] = has_children_pivot.apply(lambda x: x / x.sum(), axis=1)[1]\n",
    "has_children_pivot"
   ]
  },
  {
   "cell_type": "code",
   "execution_count": 27,
   "id": "b87608c1",
   "metadata": {},
   "outputs": [
    {
     "data": {
      "text/plain": [
       "<AxesSubplot:xlabel='has_children', ylabel='debt_pct'>"
      ]
     },
     "execution_count": 27,
     "metadata": {},
     "output_type": "execute_result"
    },
    {
     "data": {
      "image/png": "[encoded data removed]",
      "text/plain": [
       "<Figure size 864x345.6 with 1 Axes>"
      ]
     },
     "metadata": {},
     "output_type": "display_data"
    }
   ],
   "source": [
    "# Зависимость процентного соотношения задолженности по возврату кредита в срок от наличия детей\n",
    "sns.barplot(x=has_children_pivot.index, y=has_children_pivot['debt_pct'])"
   ]
  },
  {
   "cell_type": "code",
   "execution_count": 28,
   "id": "f9f17efd",
   "metadata": {},
   "outputs": [
    {
     "name": "stdout",
     "output_type": "stream",
     "text": [
      "alpha: 0.01\n",
      "p-value: 1.585216161636982e-05\n",
      "Гипотеза о независимости отвергнута. Будем считать, что случайные величины зависимы\n"
     ]
    }
   ],
   "source": [
    "# Тестируем гипотезу независимости двух случайных величин - has_children и debt\n",
    "test_association(has_children_pivot[[0, 1]].values, 0.01)"
   ]
  },
  {
   "cell_type": "markdown",
   "id": "5a6f9efe",
   "metadata": {},
   "source": [
    "Теперь рассмотрим только заёмщиков с детьми. Выясним есть ли зависимость между количеством детей и возвратом кредита в срок при условии, что у заёмщика есть дети."
   ]
  },
  {
   "cell_type": "code",
   "execution_count": 29,
   "id": "a7420de0",
   "metadata": {},
   "outputs": [
    {
     "data": {
      "text/plain": [
       "<AxesSubplot:xlabel='children'>"
      ]
     },
     "execution_count": 29,
     "metadata": {},
     "output_type": "execute_result"
    },
    {
     "data": {
      "image/png": "[encoded data removed]",
      "text/plain": [
       "<Figure size 864x345.6 with 1 Axes>"
      ]
     },
     "metadata": {},
     "output_type": "display_data"
    }
   ],
   "source": [
    "# Удаляем заёмщиков без детей из cводной таблицы\n",
    "children_pivot = children_pivot[children_pivot.index != 0]\n",
    "# Зависимость процентного соотношения задолженности по возврату кредита в срок от количества детей (от 1 до 4)\n",
    "sns.barplot(x=children_pivot.index, y=children_pivot['debt_pct'].values)"
   ]
  },
  {
   "cell_type": "code",
   "execution_count": 30,
   "id": "9f0f3824",
   "metadata": {},
   "outputs": [
    {
     "name": "stdout",
     "output_type": "stream",
     "text": [
      "alpha: 0.01\n",
      "p-value: 0.5067620059846485\n",
      "Гипотеза о независимости не отвергнута. Будем считать, что случайные величины независимы\n"
     ]
    }
   ],
   "source": [
    "# Тестируем гипотезу независимости двух случайных величин - children (со значениями от 1 до 4) и debt\n",
    "test_association(children_pivot, 0.01)"
   ]
  },
  {
   "cell_type": "markdown",
   "id": "3a6b99ec",
   "metadata": {
    "deletable": false,
    "id": "3a6b99ec"
   },
   "source": [
    "**Вывод:**\n",
    "- Большинство заёмщиков всё-таки не имеют детей.\n",
    "- С увеличением количества детей убывает соответсвующее число заёмщиков.\n",
    "- Число заёмщиков с 5 детьми слишком мало.  \n",
    "\n",
    "Есть зависимость между **наличием** детей и возвратом кредита в срок. Но, если у заёмщика есть дети, то возврат кредита в срок не зависит от их **количества**. Также опираясь на исследования и графики, приведённые выше, можно предположить, что заёмщики без детей реже имеют задолженность по возврату кредита в срок, чем заёмщики с детьми."
   ]
  },
  {
   "cell_type": "markdown",
   "id": "97be82ca",
   "metadata": {
    "deletable": false,
    "editable": false,
    "id": "97be82ca"
   },
   "source": [
    "**Задание 20. Есть ли зависимость между семейным положением и возвратом кредита в срок?**"
   ]
  },
  {
   "cell_type": "code",
   "execution_count": 31,
   "id": "dc3f7ee8",
   "metadata": {
    "id": "dc3f7ee8"
   },
   "outputs": [
    {
     "data": {
      "text/html": [
       "<div>\n",
       "<style scoped>\n",
       "    .dataframe tbody tr th:only-of-type {\n",
       "        vertical-align: middle;\n",
       "    }\n",
       "\n",
       "    .dataframe tbody tr th {\n",
       "        vertical-align: top;\n",
       "    }\n",
       "\n",
       "    .dataframe thead th {\n",
       "        text-align: right;\n",
       "    }\n",
       "</style>\n",
       "<table border=\"1\" class=\"dataframe\">\n",
       "  <thead>\n",
       "    <tr style=\"text-align: right;\">\n",
       "      <th>debt</th>\n",
       "      <th>0</th>\n",
       "      <th>1</th>\n",
       "      <th>debt_pct</th>\n",
       "    </tr>\n",
       "    <tr>\n",
       "      <th>family_status</th>\n",
       "      <th></th>\n",
       "      <th></th>\n",
       "      <th></th>\n",
       "    </tr>\n",
       "  </thead>\n",
       "  <tbody>\n",
       "    <tr>\n",
       "      <th>Не женат / не замужем</th>\n",
       "      <td>2523</td>\n",
       "      <td>273</td>\n",
       "      <td>0.097639</td>\n",
       "    </tr>\n",
       "    <tr>\n",
       "      <th>в разводе</th>\n",
       "      <td>1105</td>\n",
       "      <td>84</td>\n",
       "      <td>0.070648</td>\n",
       "    </tr>\n",
       "    <tr>\n",
       "      <th>вдовец / вдова</th>\n",
       "      <td>888</td>\n",
       "      <td>63</td>\n",
       "      <td>0.066246</td>\n",
       "    </tr>\n",
       "    <tr>\n",
       "      <th>гражданский брак</th>\n",
       "      <td>3761</td>\n",
       "      <td>385</td>\n",
       "      <td>0.092861</td>\n",
       "    </tr>\n",
       "    <tr>\n",
       "      <th>женат / замужем</th>\n",
       "      <td>11339</td>\n",
       "      <td>927</td>\n",
       "      <td>0.075575</td>\n",
       "    </tr>\n",
       "  </tbody>\n",
       "</table>\n",
       "</div>"
      ],
      "text/plain": [
       "debt                       0    1  debt_pct\n",
       "family_status                              \n",
       "Не женат / не замужем   2523  273  0.097639\n",
       "в разводе               1105   84  0.070648\n",
       "вдовец / вдова           888   63  0.066246\n",
       "гражданский брак        3761  385  0.092861\n",
       "женат / замужем        11339  927  0.075575"
      ]
     },
     "execution_count": 31,
     "metadata": {},
     "output_type": "execute_result"
    }
   ],
   "source": [
    "# Ваш код будет здесь. Вы можете создавать новые ячейки.\n",
    "\n",
    "# Сводная таблица, которая показывает частоту и процентное соотношение значений\n",
    "# задолженности по возврату кредита в срок в зависимости от семейного положения\n",
    "family_status_pivot = data[['family_status', 'debt']].pivot_table(index='family_status',\n",
    "                                                                  columns='debt',\n",
    "                                                                  aggfunc=len,\n",
    "                                                                  fill_value=0)\n",
    "family_status_pivot['debt_pct'] = family_status_pivot.apply(lambda x: x / x.sum(), axis=1)[1]\n",
    "family_status_pivot"
   ]
  },
  {
   "cell_type": "code",
   "execution_count": 32,
   "id": "97bbaf1a",
   "metadata": {},
   "outputs": [
    {
     "data": {
      "text/plain": [
       "<AxesSubplot:xlabel='family_status'>"
      ]
     },
     "execution_count": 32,
     "metadata": {},
     "output_type": "execute_result"
    },
    {
     "data": {
      "image/png": "[encoded data removed]",
      "text/plain": [
       "<Figure size 864x345.6 with 1 Axes>"
      ]
     },
     "metadata": {},
     "output_type": "display_data"
    }
   ],
   "source": [
    "# Зависимость числа заёмщиков от семейного положения\n",
    "sns.barplot(x=family_status_pivot.index, y=family_status_pivot[0] + family_status_pivot[1])"
   ]
  },
  {
   "cell_type": "code",
   "execution_count": 33,
   "id": "30355059",
   "metadata": {},
   "outputs": [
    {
     "data": {
      "text/plain": [
       "<AxesSubplot:xlabel='family_status', ylabel='debt_pct'>"
      ]
     },
     "execution_count": 33,
     "metadata": {},
     "output_type": "execute_result"
    },
    {
     "data": {
      "image/png": "[encoded data removed]",
      "text/plain": [
       "<Figure size 864x345.6 with 1 Axes>"
      ]
     },
     "metadata": {},
     "output_type": "display_data"
    }
   ],
   "source": [
    "# Зависимость процентного соотношения задолженности по возврату кредита в срок от семейного положения\n",
    "sns.barplot(x=family_status_pivot.index, y=family_status_pivot['debt_pct'])"
   ]
  },
  {
   "cell_type": "code",
   "execution_count": 34,
   "id": "1009a5cf",
   "metadata": {},
   "outputs": [
    {
     "name": "stdout",
     "output_type": "stream",
     "text": [
      "alpha: 0.01\n",
      "p-value: 1.5518119199531277e-05\n",
      "Гипотеза о независимости отвергнута. Будем считать, что случайные величины зависимы\n"
     ]
    }
   ],
   "source": [
    "# Тестируем гипотезу независимости двух случайных величин - family_status и debt\n",
    "test_association(family_status_pivot[[0, 1]].values, 0.01)"
   ]
  },
  {
   "cell_type": "markdown",
   "id": "1cef7837",
   "metadata": {
    "deletable": false,
    "id": "1cef7837"
   },
   "source": [
    "**Вывод:**  \n",
    "- Большинство заёмщиков имеют семейное положение `женат / замужем`.  \n",
    "- Меньше всего заёмщиков с семейным положением `в разводе` и `вдовец / вдова`.  \n",
    "\n",
    "Есть зависимость между семейным положением и возвратом кредита в срок. Также опираясь на исследования и графики, приведённые выше, можно предположить, что заёмщики, которые имеют семейное положение `в разводе` или `вдовец/вдова`, реже имеют задолженность по возврату кредита в срок, чем все остальные заёмщики."
   ]
  },
  {
   "cell_type": "markdown",
   "id": "1e8b2fca",
   "metadata": {
    "deletable": false,
    "editable": false,
    "id": "1e8b2fca"
   },
   "source": [
    "**Задание 21. Есть ли зависимость между уровнем дохода и возвратом кредита в срок?**"
   ]
  },
  {
   "cell_type": "code",
   "execution_count": 35,
   "id": "cd7e3720",
   "metadata": {
    "id": "cd7e3720"
   },
   "outputs": [
    {
     "data": {
      "text/html": [
       "<div>\n",
       "<style scoped>\n",
       "    .dataframe tbody tr th:only-of-type {\n",
       "        vertical-align: middle;\n",
       "    }\n",
       "\n",
       "    .dataframe tbody tr th {\n",
       "        vertical-align: top;\n",
       "    }\n",
       "\n",
       "    .dataframe thead th {\n",
       "        text-align: right;\n",
       "    }\n",
       "</style>\n",
       "<table border=\"1\" class=\"dataframe\">\n",
       "  <thead>\n",
       "    <tr style=\"text-align: right;\">\n",
       "      <th>debt</th>\n",
       "      <th>0</th>\n",
       "      <th>1</th>\n",
       "      <th>debt_pct</th>\n",
       "    </tr>\n",
       "    <tr>\n",
       "      <th>total_income_category</th>\n",
       "      <th></th>\n",
       "      <th></th>\n",
       "      <th></th>\n",
       "    </tr>\n",
       "  </thead>\n",
       "  <tbody>\n",
       "    <tr>\n",
       "      <th>A</th>\n",
       "      <td>23</td>\n",
       "      <td>2</td>\n",
       "      <td>0.080000</td>\n",
       "    </tr>\n",
       "    <tr>\n",
       "      <th>B</th>\n",
       "      <td>4660</td>\n",
       "      <td>354</td>\n",
       "      <td>0.070602</td>\n",
       "    </tr>\n",
       "    <tr>\n",
       "      <th>C</th>\n",
       "      <td>14585</td>\n",
       "      <td>1353</td>\n",
       "      <td>0.084891</td>\n",
       "    </tr>\n",
       "    <tr>\n",
       "      <th>D</th>\n",
       "      <td>328</td>\n",
       "      <td>21</td>\n",
       "      <td>0.060172</td>\n",
       "    </tr>\n",
       "    <tr>\n",
       "      <th>E</th>\n",
       "      <td>20</td>\n",
       "      <td>2</td>\n",
       "      <td>0.090909</td>\n",
       "    </tr>\n",
       "  </tbody>\n",
       "</table>\n",
       "</div>"
      ],
      "text/plain": [
       "debt                       0     1  debt_pct\n",
       "total_income_category                       \n",
       "A                         23     2  0.080000\n",
       "B                       4660   354  0.070602\n",
       "C                      14585  1353  0.084891\n",
       "D                        328    21  0.060172\n",
       "E                         20     2  0.090909"
      ]
     },
     "execution_count": 35,
     "metadata": {},
     "output_type": "execute_result"
    }
   ],
   "source": [
    "# Ваш код будет здесь. Вы можете создавать новые ячейки.\n",
    "\n",
    "# Сводная таблица, которая показывает частоту и процентное соотношение значений\n",
    "# задолженности по возврату кредита в срок в зависимости от категории уровня дохода\n",
    "total_income_category_pivot = data[['total_income_category', 'debt']].pivot_table(index='total_income_category',\n",
    "                                                                                  columns='debt',\n",
    "                                                                                  aggfunc=len,\n",
    "                                                                                  fill_value=0)\n",
    "total_income_category_pivot['debt_pct'] = total_income_category_pivot.apply(lambda x: x / x.sum(), axis=1)[1]\n",
    "total_income_category_pivot"
   ]
  },
  {
   "cell_type": "code",
   "execution_count": 36,
   "id": "90fe2b8f",
   "metadata": {},
   "outputs": [
    {
     "data": {
      "text/plain": [
       "<AxesSubplot:xlabel='total_income_category'>"
      ]
     },
     "execution_count": 36,
     "metadata": {},
     "output_type": "execute_result"
    },
    {
     "data": {
      "image/png": "[encoded data removed]",
      "text/plain": [
       "<Figure size 864x345.6 with 1 Axes>"
      ]
     },
     "metadata": {},
     "output_type": "display_data"
    }
   ],
   "source": [
    "# Зависимость числа заёмщиков от категории уровня дохода\n",
    "sns.barplot(x=total_income_category_pivot.index, y=total_income_category_pivot[0] + total_income_category_pivot[1])"
   ]
  },
  {
   "cell_type": "markdown",
   "id": "ce22fbe2",
   "metadata": {},
   "source": [
    "Число заёмщиков с категорией уровня дохода `A` или `E` слишком мало. (меньше эвристического значения 30, то есть не достаточно для получения статистически значимых результатов) Такое малое число заёмщиков на одну категорию может значительно исказить результаты исследования. Поэтому далее рассматривать их в нашем исследовании мы не будем и нам придётся их удалить."
   ]
  },
  {
   "cell_type": "code",
   "execution_count": 38,
   "id": "91204936",
   "metadata": {},
   "outputs": [
    {
     "data": {
      "text/plain": [
       "<AxesSubplot:xlabel='total_income_category', ylabel='debt_pct'>"
      ]
     },
     "execution_count": 38,
     "metadata": {},
     "output_type": "execute_result"
    },
    {
     "data": {
      "image/png": "[encoded data removed]",
      "text/plain": [
       "<Figure size 864x345.6 with 1 Axes>"
      ]
     },
     "metadata": {},
     "output_type": "display_data"
    }
   ],
   "source": [
    "# Удаляем заёмщиков с категорией уровня дохода A или E из cводной таблицы\n",
    "total_income_category_pivot = total_income_category_pivot[total_income_category_pivot.index != 'A']\n",
    "total_income_category_pivot = total_income_category_pivot[total_income_category_pivot.index != 'E']\n",
    "# Зависимость процентного соотношения задолженности по возврату кредита в срок от категории уровня дохода\n",
    "sns.barplot(x=total_income_category_pivot.index, y=total_income_category_pivot['debt_pct'])"
   ]
  },
  {
   "cell_type": "code",
   "execution_count": 39,
   "id": "ae9f16ee",
   "metadata": {},
   "outputs": [
    {
     "name": "stdout",
     "output_type": "stream",
     "text": [
      "alpha: 0.01\n",
      "p-value: 0.0018954150024207417\n",
      "Гипотеза о независимости отвергнута. Будем считать, что случайные величины зависимы\n"
     ]
    }
   ],
   "source": [
    "# Тестируем гипотезу независимости двух случайных величин - total_income_category и debt\n",
    "test_association(total_income_category_pivot[[0, 1]].values, 0.01)"
   ]
  },
  {
   "cell_type": "markdown",
   "id": "e8593def",
   "metadata": {
    "deletable": false,
    "id": "e8593def"
   },
   "source": [
    "**Вывод:**  \n",
    "- Большинство заёмщиков имеют категорию уровня дохода `C`.  \n",
    "- Число заёмщиков с категорией уровня дохода `A` и `E` слишком мало.  \n",
    "\n",
    "Есть зависимость между категорией уровня дохода (уровнем дохода) и возвратом кредита в срок. Также опираясь на исследования и графики, приведённые выше, можно предположить, что заёмщики с категорией уровня дохода `C` чаще имеют задолженность по возврату кредита в срок, чем все остальные заёмщики."
   ]
  },
  {
   "cell_type": "markdown",
   "id": "99ecbd1f",
   "metadata": {
    "deletable": false,
    "editable": false,
    "id": "99ecbd1f"
   },
   "source": [
    "**Задание 22. Как разные цели кредита влияют на его возврат в срок?**"
   ]
  },
  {
   "cell_type": "code",
   "execution_count": 44,
   "id": "2b687290",
   "metadata": {
    "id": "2b687290"
   },
   "outputs": [
    {
     "data": {
      "text/html": [
       "<div>\n",
       "<style scoped>\n",
       "    .dataframe tbody tr th:only-of-type {\n",
       "        vertical-align: middle;\n",
       "    }\n",
       "\n",
       "    .dataframe tbody tr th {\n",
       "        vertical-align: top;\n",
       "    }\n",
       "\n",
       "    .dataframe thead th {\n",
       "        text-align: right;\n",
       "    }\n",
       "</style>\n",
       "<table border=\"1\" class=\"dataframe\">\n",
       "  <thead>\n",
       "    <tr style=\"text-align: right;\">\n",
       "      <th>debt</th>\n",
       "      <th>0</th>\n",
       "      <th>1</th>\n",
       "      <th>debt_pct</th>\n",
       "    </tr>\n",
       "    <tr>\n",
       "      <th>purpose_category</th>\n",
       "      <th></th>\n",
       "      <th></th>\n",
       "      <th></th>\n",
       "    </tr>\n",
       "  </thead>\n",
       "  <tbody>\n",
       "    <tr>\n",
       "      <th>операции с автомобилем</th>\n",
       "      <td>3881</td>\n",
       "      <td>400</td>\n",
       "      <td>0.093436</td>\n",
       "    </tr>\n",
       "    <tr>\n",
       "      <th>операции с недвижимостью</th>\n",
       "      <td>9974</td>\n",
       "      <td>780</td>\n",
       "      <td>0.072531</td>\n",
       "    </tr>\n",
       "    <tr>\n",
       "      <th>получение образования</th>\n",
       "      <td>3620</td>\n",
       "      <td>369</td>\n",
       "      <td>0.092504</td>\n",
       "    </tr>\n",
       "    <tr>\n",
       "      <th>проведение свадьбы</th>\n",
       "      <td>2141</td>\n",
       "      <td>183</td>\n",
       "      <td>0.078744</td>\n",
       "    </tr>\n",
       "  </tbody>\n",
       "</table>\n",
       "</div>"
      ],
      "text/plain": [
       "debt                         0    1  debt_pct\n",
       "purpose_category                             \n",
       "операции с автомобилем    3881  400  0.093436\n",
       "операции с недвижимостью  9974  780  0.072531\n",
       "получение образования     3620  369  0.092504\n",
       "проведение свадьбы        2141  183  0.078744"
      ]
     },
     "execution_count": 44,
     "metadata": {},
     "output_type": "execute_result"
    }
   ],
   "source": [
    "# Ваш код будет здесь. Вы можете создавать новые ячейки.\n",
    "\n",
    "# Сводная таблица, которая показывает частоту и процентное соотношение значений\n",
    "# задолженности по возврату кредита в срок в зависимости от категории цели кредита\n",
    "purpose_category_pivot = data[['purpose_category', 'debt']].pivot_table(index='purpose_category',\n",
    "                                                                        columns='debt',\n",
    "                                                                        aggfunc=len,\n",
    "                                                                        fill_value=0)\n",
    "purpose_category_pivot['debt_pct'] = purpose_category_pivot.apply(lambda x: x / x.sum(), axis=1)[1]\n",
    "purpose_category_pivot"
   ]
  },
  {
   "cell_type": "code",
   "execution_count": 48,
   "id": "2000e2b3",
   "metadata": {},
   "outputs": [
    {
     "data": {
      "text/plain": [
       "<AxesSubplot:xlabel='purpose_category'>"
      ]
     },
     "execution_count": 48,
     "metadata": {},
     "output_type": "execute_result"
    },
    {
     "data": {
      "image/png": "[encoded data removed]",
      "text/plain": [
       "<Figure size 864x345.6 with 1 Axes>"
      ]
     },
     "metadata": {},
     "output_type": "display_data"
    }
   ],
   "source": [
    "# Зависимость числа заёмщиков от категории цели кредита\n",
    "sns.barplot(x=purpose_category_pivot.index, y=purpose_category_pivot[0] + purpose_category_pivot[1])"
   ]
  },
  {
   "cell_type": "code",
   "execution_count": 50,
   "id": "3d6c5a12",
   "metadata": {},
   "outputs": [
    {
     "data": {
      "text/plain": [
       "<AxesSubplot:xlabel='purpose_category', ylabel='debt_pct'>"
      ]
     },
     "execution_count": 50,
     "metadata": {},
     "output_type": "execute_result"
    },
    {
     "data": {
      "image/png": "[encoded data removed]",
      "text/plain": [
       "<Figure size 864x345.6 with 1 Axes>"
      ]
     },
     "metadata": {},
     "output_type": "display_data"
    }
   ],
   "source": [
    "# Зависимость процентного соотношения задолженности по возврату кредита в срок от категории цели кредита\n",
    "sns.barplot(x=purpose_category_pivot.index, y=purpose_category_pivot['debt_pct'])"
   ]
  },
  {
   "cell_type": "code",
   "execution_count": 51,
   "id": "2f98c946",
   "metadata": {},
   "outputs": [
    {
     "name": "stdout",
     "output_type": "stream",
     "text": [
      "alpha: 0.01\n",
      "p-value: 7.62944205490168e-06\n",
      "Гипотеза о независимости отвергнута. Будем считать, что случайные величины зависимы\n"
     ]
    }
   ],
   "source": [
    "# Тестируем гипотезу независимости двух случайных величин - purpose_category и debt\n",
    "test_association(purpose_category_pivot[[0, 1]].values, 0.01)"
   ]
  },
  {
   "cell_type": "markdown",
   "id": "b4bb2ce6",
   "metadata": {
    "deletable": false,
    "id": "b4bb2ce6"
   },
   "source": [
    "**Вывод:**  \n",
    "- Большинство заёмщиков берут кредит с целью `операции с недвижимостью`.\n",
    "- Меньше всего заёмщиков с категорией `проведение свадьбы`.  \n",
    "\n",
    "Есть зависимость между категорией цели кредита (целью кредита) и возвратом кредита в срок. Также опираясь на исследования и графики, приведённые выше, можно предположить, что заёмщики с категориями цели кредита `операции с недвижимостью` и `проведение свадьбы` реже имеют задолженность по возврату кредита в срок, чем все остальные заёмщики."
   ]
  },
  {
   "cell_type": "markdown",
   "id": "09c3ac4c",
   "metadata": {
    "deletable": false,
    "editable": false,
    "id": "09c3ac4c"
   },
   "source": [
    "**Задание 23. Приведите возможные причины появления пропусков в исходных данных.**"
   ]
  },
  {
   "cell_type": "markdown",
   "id": "669dc0dd",
   "metadata": {},
   "source": [
    "Рассмотрим данные с пропусками до их замены. Для этого заново считаем данные из csv-файла в переменную `data` и отфильтруем строки с пропущенными значениями."
   ]
  },
  {
   "cell_type": "code",
   "execution_count": 52,
   "id": "c84ee338",
   "metadata": {},
   "outputs": [
    {
     "data": {
      "text/plain": [
       "True"
      ]
     },
     "execution_count": 52,
     "metadata": {},
     "output_type": "execute_result"
    }
   ],
   "source": [
    "try:\n",
    "    data = pd.read_csv('/datasets/data.csv')\n",
    "except:\n",
    "    data = pd.read_csv('https://code.s3.yandex.net/datasets/data.csv')\n",
    "\n",
    "# Проверяем появляются ли пропуски в обоих столбцах одновременно\n",
    "all(data[data['days_employed'].isna()].index == data[data['total_income'].isna()].index)"
   ]
  },
  {
   "cell_type": "code",
   "execution_count": 53,
   "id": "e930ef27",
   "metadata": {},
   "outputs": [
    {
     "data": {
      "text/html": [
       "<div>\n",
       "<style scoped>\n",
       "    .dataframe tbody tr th:only-of-type {\n",
       "        vertical-align: middle;\n",
       "    }\n",
       "\n",
       "    .dataframe tbody tr th {\n",
       "        vertical-align: top;\n",
       "    }\n",
       "\n",
       "    .dataframe thead th {\n",
       "        text-align: right;\n",
       "    }\n",
       "</style>\n",
       "<table border=\"1\" class=\"dataframe\">\n",
       "  <thead>\n",
       "    <tr style=\"text-align: right;\">\n",
       "      <th></th>\n",
       "      <th>children</th>\n",
       "      <th>days_employed</th>\n",
       "      <th>dob_years</th>\n",
       "      <th>education</th>\n",
       "      <th>education_id</th>\n",
       "      <th>family_status</th>\n",
       "      <th>family_status_id</th>\n",
       "      <th>gender</th>\n",
       "      <th>income_type</th>\n",
       "      <th>debt</th>\n",
       "      <th>total_income</th>\n",
       "      <th>purpose</th>\n",
       "    </tr>\n",
       "  </thead>\n",
       "  <tbody>\n",
       "    <tr>\n",
       "      <th>12</th>\n",
       "      <td>0</td>\n",
       "      <td>NaN</td>\n",
       "      <td>65</td>\n",
       "      <td>среднее</td>\n",
       "      <td>1</td>\n",
       "      <td>гражданский брак</td>\n",
       "      <td>1</td>\n",
       "      <td>M</td>\n",
       "      <td>пенсионер</td>\n",
       "      <td>0</td>\n",
       "      <td>NaN</td>\n",
       "      <td>сыграть свадьбу</td>\n",
       "    </tr>\n",
       "    <tr>\n",
       "      <th>26</th>\n",
       "      <td>0</td>\n",
       "      <td>NaN</td>\n",
       "      <td>41</td>\n",
       "      <td>среднее</td>\n",
       "      <td>1</td>\n",
       "      <td>женат / замужем</td>\n",
       "      <td>0</td>\n",
       "      <td>M</td>\n",
       "      <td>госслужащий</td>\n",
       "      <td>0</td>\n",
       "      <td>NaN</td>\n",
       "      <td>образование</td>\n",
       "    </tr>\n",
       "    <tr>\n",
       "      <th>29</th>\n",
       "      <td>0</td>\n",
       "      <td>NaN</td>\n",
       "      <td>63</td>\n",
       "      <td>среднее</td>\n",
       "      <td>1</td>\n",
       "      <td>Не женат / не замужем</td>\n",
       "      <td>4</td>\n",
       "      <td>F</td>\n",
       "      <td>пенсионер</td>\n",
       "      <td>0</td>\n",
       "      <td>NaN</td>\n",
       "      <td>строительство жилой недвижимости</td>\n",
       "    </tr>\n",
       "    <tr>\n",
       "      <th>41</th>\n",
       "      <td>0</td>\n",
       "      <td>NaN</td>\n",
       "      <td>50</td>\n",
       "      <td>среднее</td>\n",
       "      <td>1</td>\n",
       "      <td>женат / замужем</td>\n",
       "      <td>0</td>\n",
       "      <td>F</td>\n",
       "      <td>госслужащий</td>\n",
       "      <td>0</td>\n",
       "      <td>NaN</td>\n",
       "      <td>сделка с подержанным автомобилем</td>\n",
       "    </tr>\n",
       "    <tr>\n",
       "      <th>55</th>\n",
       "      <td>0</td>\n",
       "      <td>NaN</td>\n",
       "      <td>54</td>\n",
       "      <td>среднее</td>\n",
       "      <td>1</td>\n",
       "      <td>гражданский брак</td>\n",
       "      <td>1</td>\n",
       "      <td>F</td>\n",
       "      <td>пенсионер</td>\n",
       "      <td>1</td>\n",
       "      <td>NaN</td>\n",
       "      <td>сыграть свадьбу</td>\n",
       "    </tr>\n",
       "    <tr>\n",
       "      <th>65</th>\n",
       "      <td>0</td>\n",
       "      <td>NaN</td>\n",
       "      <td>21</td>\n",
       "      <td>среднее</td>\n",
       "      <td>1</td>\n",
       "      <td>Не женат / не замужем</td>\n",
       "      <td>4</td>\n",
       "      <td>M</td>\n",
       "      <td>компаньон</td>\n",
       "      <td>0</td>\n",
       "      <td>NaN</td>\n",
       "      <td>операции с коммерческой недвижимостью</td>\n",
       "    </tr>\n",
       "    <tr>\n",
       "      <th>67</th>\n",
       "      <td>0</td>\n",
       "      <td>NaN</td>\n",
       "      <td>52</td>\n",
       "      <td>высшее</td>\n",
       "      <td>0</td>\n",
       "      <td>женат / замужем</td>\n",
       "      <td>0</td>\n",
       "      <td>F</td>\n",
       "      <td>пенсионер</td>\n",
       "      <td>0</td>\n",
       "      <td>NaN</td>\n",
       "      <td>покупка жилья для семьи</td>\n",
       "    </tr>\n",
       "    <tr>\n",
       "      <th>72</th>\n",
       "      <td>1</td>\n",
       "      <td>NaN</td>\n",
       "      <td>32</td>\n",
       "      <td>высшее</td>\n",
       "      <td>0</td>\n",
       "      <td>женат / замужем</td>\n",
       "      <td>0</td>\n",
       "      <td>M</td>\n",
       "      <td>госслужащий</td>\n",
       "      <td>0</td>\n",
       "      <td>NaN</td>\n",
       "      <td>операции с коммерческой недвижимостью</td>\n",
       "    </tr>\n",
       "    <tr>\n",
       "      <th>82</th>\n",
       "      <td>2</td>\n",
       "      <td>NaN</td>\n",
       "      <td>50</td>\n",
       "      <td>высшее</td>\n",
       "      <td>0</td>\n",
       "      <td>женат / замужем</td>\n",
       "      <td>0</td>\n",
       "      <td>F</td>\n",
       "      <td>сотрудник</td>\n",
       "      <td>0</td>\n",
       "      <td>NaN</td>\n",
       "      <td>жилье</td>\n",
       "    </tr>\n",
       "    <tr>\n",
       "      <th>83</th>\n",
       "      <td>0</td>\n",
       "      <td>NaN</td>\n",
       "      <td>52</td>\n",
       "      <td>среднее</td>\n",
       "      <td>1</td>\n",
       "      <td>женат / замужем</td>\n",
       "      <td>0</td>\n",
       "      <td>M</td>\n",
       "      <td>сотрудник</td>\n",
       "      <td>0</td>\n",
       "      <td>NaN</td>\n",
       "      <td>жилье</td>\n",
       "    </tr>\n",
       "    <tr>\n",
       "      <th>90</th>\n",
       "      <td>2</td>\n",
       "      <td>NaN</td>\n",
       "      <td>35</td>\n",
       "      <td>высшее</td>\n",
       "      <td>0</td>\n",
       "      <td>женат / замужем</td>\n",
       "      <td>0</td>\n",
       "      <td>F</td>\n",
       "      <td>сотрудник</td>\n",
       "      <td>0</td>\n",
       "      <td>NaN</td>\n",
       "      <td>операции с жильем</td>\n",
       "    </tr>\n",
       "    <tr>\n",
       "      <th>94</th>\n",
       "      <td>1</td>\n",
       "      <td>NaN</td>\n",
       "      <td>34</td>\n",
       "      <td>высшее</td>\n",
       "      <td>0</td>\n",
       "      <td>гражданский брак</td>\n",
       "      <td>1</td>\n",
       "      <td>F</td>\n",
       "      <td>компаньон</td>\n",
       "      <td>0</td>\n",
       "      <td>NaN</td>\n",
       "      <td>на проведение свадьбы</td>\n",
       "    </tr>\n",
       "    <tr>\n",
       "      <th>96</th>\n",
       "      <td>0</td>\n",
       "      <td>NaN</td>\n",
       "      <td>44</td>\n",
       "      <td>СРЕДНЕЕ</td>\n",
       "      <td>1</td>\n",
       "      <td>женат / замужем</td>\n",
       "      <td>0</td>\n",
       "      <td>F</td>\n",
       "      <td>сотрудник</td>\n",
       "      <td>0</td>\n",
       "      <td>NaN</td>\n",
       "      <td>покупка жилой недвижимости</td>\n",
       "    </tr>\n",
       "    <tr>\n",
       "      <th>97</th>\n",
       "      <td>0</td>\n",
       "      <td>NaN</td>\n",
       "      <td>47</td>\n",
       "      <td>высшее</td>\n",
       "      <td>0</td>\n",
       "      <td>женат / замужем</td>\n",
       "      <td>0</td>\n",
       "      <td>F</td>\n",
       "      <td>сотрудник</td>\n",
       "      <td>0</td>\n",
       "      <td>NaN</td>\n",
       "      <td>профильное образование</td>\n",
       "    </tr>\n",
       "    <tr>\n",
       "      <th>120</th>\n",
       "      <td>0</td>\n",
       "      <td>NaN</td>\n",
       "      <td>46</td>\n",
       "      <td>среднее</td>\n",
       "      <td>1</td>\n",
       "      <td>женат / замужем</td>\n",
       "      <td>0</td>\n",
       "      <td>F</td>\n",
       "      <td>сотрудник</td>\n",
       "      <td>0</td>\n",
       "      <td>NaN</td>\n",
       "      <td>высшее образование</td>\n",
       "    </tr>\n",
       "    <tr>\n",
       "      <th>121</th>\n",
       "      <td>0</td>\n",
       "      <td>NaN</td>\n",
       "      <td>29</td>\n",
       "      <td>высшее</td>\n",
       "      <td>0</td>\n",
       "      <td>женат / замужем</td>\n",
       "      <td>0</td>\n",
       "      <td>F</td>\n",
       "      <td>компаньон</td>\n",
       "      <td>0</td>\n",
       "      <td>NaN</td>\n",
       "      <td>автомобиль</td>\n",
       "    </tr>\n",
       "    <tr>\n",
       "      <th>135</th>\n",
       "      <td>0</td>\n",
       "      <td>NaN</td>\n",
       "      <td>27</td>\n",
       "      <td>среднее</td>\n",
       "      <td>1</td>\n",
       "      <td>женат / замужем</td>\n",
       "      <td>0</td>\n",
       "      <td>M</td>\n",
       "      <td>компаньон</td>\n",
       "      <td>0</td>\n",
       "      <td>NaN</td>\n",
       "      <td>жилье</td>\n",
       "    </tr>\n",
       "    <tr>\n",
       "      <th>141</th>\n",
       "      <td>0</td>\n",
       "      <td>NaN</td>\n",
       "      <td>39</td>\n",
       "      <td>среднее</td>\n",
       "      <td>1</td>\n",
       "      <td>гражданский брак</td>\n",
       "      <td>1</td>\n",
       "      <td>M</td>\n",
       "      <td>сотрудник</td>\n",
       "      <td>0</td>\n",
       "      <td>NaN</td>\n",
       "      <td>свадьба</td>\n",
       "    </tr>\n",
       "    <tr>\n",
       "      <th>145</th>\n",
       "      <td>0</td>\n",
       "      <td>NaN</td>\n",
       "      <td>62</td>\n",
       "      <td>среднее</td>\n",
       "      <td>1</td>\n",
       "      <td>женат / замужем</td>\n",
       "      <td>0</td>\n",
       "      <td>M</td>\n",
       "      <td>пенсионер</td>\n",
       "      <td>0</td>\n",
       "      <td>NaN</td>\n",
       "      <td>строительство недвижимости</td>\n",
       "    </tr>\n",
       "    <tr>\n",
       "      <th>174</th>\n",
       "      <td>0</td>\n",
       "      <td>NaN</td>\n",
       "      <td>55</td>\n",
       "      <td>высшее</td>\n",
       "      <td>0</td>\n",
       "      <td>вдовец / вдова</td>\n",
       "      <td>2</td>\n",
       "      <td>F</td>\n",
       "      <td>компаньон</td>\n",
       "      <td>0</td>\n",
       "      <td>NaN</td>\n",
       "      <td>свой автомобиль</td>\n",
       "    </tr>\n",
       "    <tr>\n",
       "      <th>181</th>\n",
       "      <td>0</td>\n",
       "      <td>NaN</td>\n",
       "      <td>26</td>\n",
       "      <td>среднее</td>\n",
       "      <td>1</td>\n",
       "      <td>гражданский брак</td>\n",
       "      <td>1</td>\n",
       "      <td>F</td>\n",
       "      <td>компаньон</td>\n",
       "      <td>1</td>\n",
       "      <td>NaN</td>\n",
       "      <td>покупка жилья для семьи</td>\n",
       "    </tr>\n",
       "    <tr>\n",
       "      <th>189</th>\n",
       "      <td>1</td>\n",
       "      <td>NaN</td>\n",
       "      <td>30</td>\n",
       "      <td>среднее</td>\n",
       "      <td>1</td>\n",
       "      <td>Не женат / не замужем</td>\n",
       "      <td>4</td>\n",
       "      <td>F</td>\n",
       "      <td>сотрудник</td>\n",
       "      <td>0</td>\n",
       "      <td>NaN</td>\n",
       "      <td>свой автомобиль</td>\n",
       "    </tr>\n",
       "    <tr>\n",
       "      <th>205</th>\n",
       "      <td>1</td>\n",
       "      <td>NaN</td>\n",
       "      <td>31</td>\n",
       "      <td>высшее</td>\n",
       "      <td>0</td>\n",
       "      <td>женат / замужем</td>\n",
       "      <td>0</td>\n",
       "      <td>F</td>\n",
       "      <td>сотрудник</td>\n",
       "      <td>0</td>\n",
       "      <td>NaN</td>\n",
       "      <td>на покупку подержанного автомобиля</td>\n",
       "    </tr>\n",
       "    <tr>\n",
       "      <th>220</th>\n",
       "      <td>1</td>\n",
       "      <td>NaN</td>\n",
       "      <td>23</td>\n",
       "      <td>неоконченное высшее</td>\n",
       "      <td>2</td>\n",
       "      <td>гражданский брак</td>\n",
       "      <td>1</td>\n",
       "      <td>F</td>\n",
       "      <td>компаньон</td>\n",
       "      <td>0</td>\n",
       "      <td>NaN</td>\n",
       "      <td>сыграть свадьбу</td>\n",
       "    </tr>\n",
       "    <tr>\n",
       "      <th>241</th>\n",
       "      <td>0</td>\n",
       "      <td>NaN</td>\n",
       "      <td>47</td>\n",
       "      <td>среднее</td>\n",
       "      <td>1</td>\n",
       "      <td>женат / замужем</td>\n",
       "      <td>0</td>\n",
       "      <td>M</td>\n",
       "      <td>сотрудник</td>\n",
       "      <td>0</td>\n",
       "      <td>NaN</td>\n",
       "      <td>строительство собственной недвижимости</td>\n",
       "    </tr>\n",
       "    <tr>\n",
       "      <th>242</th>\n",
       "      <td>0</td>\n",
       "      <td>NaN</td>\n",
       "      <td>58</td>\n",
       "      <td>среднее</td>\n",
       "      <td>1</td>\n",
       "      <td>женат / замужем</td>\n",
       "      <td>0</td>\n",
       "      <td>F</td>\n",
       "      <td>госслужащий</td>\n",
       "      <td>0</td>\n",
       "      <td>NaN</td>\n",
       "      <td>покупка своего жилья</td>\n",
       "    </tr>\n",
       "    <tr>\n",
       "      <th>247</th>\n",
       "      <td>1</td>\n",
       "      <td>NaN</td>\n",
       "      <td>60</td>\n",
       "      <td>высшее</td>\n",
       "      <td>0</td>\n",
       "      <td>женат / замужем</td>\n",
       "      <td>0</td>\n",
       "      <td>F</td>\n",
       "      <td>пенсионер</td>\n",
       "      <td>1</td>\n",
       "      <td>NaN</td>\n",
       "      <td>заняться высшим образованием</td>\n",
       "    </tr>\n",
       "    <tr>\n",
       "      <th>250</th>\n",
       "      <td>0</td>\n",
       "      <td>NaN</td>\n",
       "      <td>54</td>\n",
       "      <td>высшее</td>\n",
       "      <td>0</td>\n",
       "      <td>женат / замужем</td>\n",
       "      <td>0</td>\n",
       "      <td>F</td>\n",
       "      <td>сотрудник</td>\n",
       "      <td>0</td>\n",
       "      <td>NaN</td>\n",
       "      <td>сделка с подержанным автомобилем</td>\n",
       "    </tr>\n",
       "    <tr>\n",
       "      <th>264</th>\n",
       "      <td>2</td>\n",
       "      <td>NaN</td>\n",
       "      <td>40</td>\n",
       "      <td>среднее</td>\n",
       "      <td>1</td>\n",
       "      <td>в разводе</td>\n",
       "      <td>3</td>\n",
       "      <td>F</td>\n",
       "      <td>сотрудник</td>\n",
       "      <td>0</td>\n",
       "      <td>NaN</td>\n",
       "      <td>недвижимость</td>\n",
       "    </tr>\n",
       "    <tr>\n",
       "      <th>278</th>\n",
       "      <td>1</td>\n",
       "      <td>NaN</td>\n",
       "      <td>23</td>\n",
       "      <td>Среднее</td>\n",
       "      <td>1</td>\n",
       "      <td>гражданский брак</td>\n",
       "      <td>1</td>\n",
       "      <td>F</td>\n",
       "      <td>сотрудник</td>\n",
       "      <td>1</td>\n",
       "      <td>NaN</td>\n",
       "      <td>автомобиль</td>\n",
       "    </tr>\n",
       "    <tr>\n",
       "      <th>279</th>\n",
       "      <td>0</td>\n",
       "      <td>NaN</td>\n",
       "      <td>44</td>\n",
       "      <td>Среднее</td>\n",
       "      <td>1</td>\n",
       "      <td>гражданский брак</td>\n",
       "      <td>1</td>\n",
       "      <td>F</td>\n",
       "      <td>сотрудник</td>\n",
       "      <td>0</td>\n",
       "      <td>NaN</td>\n",
       "      <td>операции со своей недвижимостью</td>\n",
       "    </tr>\n",
       "    <tr>\n",
       "      <th>280</th>\n",
       "      <td>0</td>\n",
       "      <td>NaN</td>\n",
       "      <td>66</td>\n",
       "      <td>среднее</td>\n",
       "      <td>1</td>\n",
       "      <td>женат / замужем</td>\n",
       "      <td>0</td>\n",
       "      <td>F</td>\n",
       "      <td>пенсионер</td>\n",
       "      <td>0</td>\n",
       "      <td>NaN</td>\n",
       "      <td>операции с жильем</td>\n",
       "    </tr>\n",
       "    <tr>\n",
       "      <th>312</th>\n",
       "      <td>1</td>\n",
       "      <td>NaN</td>\n",
       "      <td>33</td>\n",
       "      <td>среднее</td>\n",
       "      <td>1</td>\n",
       "      <td>гражданский брак</td>\n",
       "      <td>1</td>\n",
       "      <td>M</td>\n",
       "      <td>сотрудник</td>\n",
       "      <td>1</td>\n",
       "      <td>NaN</td>\n",
       "      <td>покупка жилья для сдачи</td>\n",
       "    </tr>\n",
       "    <tr>\n",
       "      <th>317</th>\n",
       "      <td>0</td>\n",
       "      <td>NaN</td>\n",
       "      <td>21</td>\n",
       "      <td>высшее</td>\n",
       "      <td>0</td>\n",
       "      <td>Не женат / не замужем</td>\n",
       "      <td>4</td>\n",
       "      <td>M</td>\n",
       "      <td>сотрудник</td>\n",
       "      <td>0</td>\n",
       "      <td>NaN</td>\n",
       "      <td>сделка с автомобилем</td>\n",
       "    </tr>\n",
       "    <tr>\n",
       "      <th>320</th>\n",
       "      <td>0</td>\n",
       "      <td>NaN</td>\n",
       "      <td>63</td>\n",
       "      <td>среднее</td>\n",
       "      <td>1</td>\n",
       "      <td>вдовец / вдова</td>\n",
       "      <td>2</td>\n",
       "      <td>F</td>\n",
       "      <td>сотрудник</td>\n",
       "      <td>0</td>\n",
       "      <td>NaN</td>\n",
       "      <td>на покупку подержанного автомобиля</td>\n",
       "    </tr>\n",
       "    <tr>\n",
       "      <th>321</th>\n",
       "      <td>1</td>\n",
       "      <td>NaN</td>\n",
       "      <td>34</td>\n",
       "      <td>высшее</td>\n",
       "      <td>0</td>\n",
       "      <td>гражданский брак</td>\n",
       "      <td>1</td>\n",
       "      <td>M</td>\n",
       "      <td>компаньон</td>\n",
       "      <td>0</td>\n",
       "      <td>NaN</td>\n",
       "      <td>на проведение свадьбы</td>\n",
       "    </tr>\n",
       "    <tr>\n",
       "      <th>322</th>\n",
       "      <td>0</td>\n",
       "      <td>NaN</td>\n",
       "      <td>56</td>\n",
       "      <td>СРЕДНЕЕ</td>\n",
       "      <td>1</td>\n",
       "      <td>гражданский брак</td>\n",
       "      <td>1</td>\n",
       "      <td>F</td>\n",
       "      <td>пенсионер</td>\n",
       "      <td>1</td>\n",
       "      <td>NaN</td>\n",
       "      <td>сыграть свадьбу</td>\n",
       "    </tr>\n",
       "    <tr>\n",
       "      <th>328</th>\n",
       "      <td>0</td>\n",
       "      <td>NaN</td>\n",
       "      <td>69</td>\n",
       "      <td>среднее</td>\n",
       "      <td>1</td>\n",
       "      <td>вдовец / вдова</td>\n",
       "      <td>2</td>\n",
       "      <td>F</td>\n",
       "      <td>сотрудник</td>\n",
       "      <td>0</td>\n",
       "      <td>NaN</td>\n",
       "      <td>приобретение автомобиля</td>\n",
       "    </tr>\n",
       "    <tr>\n",
       "      <th>360</th>\n",
       "      <td>0</td>\n",
       "      <td>NaN</td>\n",
       "      <td>27</td>\n",
       "      <td>среднее</td>\n",
       "      <td>1</td>\n",
       "      <td>женат / замужем</td>\n",
       "      <td>0</td>\n",
       "      <td>M</td>\n",
       "      <td>компаньон</td>\n",
       "      <td>0</td>\n",
       "      <td>NaN</td>\n",
       "      <td>покупка жилья для сдачи</td>\n",
       "    </tr>\n",
       "    <tr>\n",
       "      <th>361</th>\n",
       "      <td>0</td>\n",
       "      <td>NaN</td>\n",
       "      <td>59</td>\n",
       "      <td>среднее</td>\n",
       "      <td>1</td>\n",
       "      <td>вдовец / вдова</td>\n",
       "      <td>2</td>\n",
       "      <td>F</td>\n",
       "      <td>пенсионер</td>\n",
       "      <td>0</td>\n",
       "      <td>NaN</td>\n",
       "      <td>жилье</td>\n",
       "    </tr>\n",
       "  </tbody>\n",
       "</table>\n",
       "</div>"
      ],
      "text/plain": [
       "     children  days_employed  dob_years            education  education_id  \\\n",
       "12          0            NaN         65              среднее             1   \n",
       "26          0            NaN         41              среднее             1   \n",
       "29          0            NaN         63              среднее             1   \n",
       "41          0            NaN         50              среднее             1   \n",
       "55          0            NaN         54              среднее             1   \n",
       "65          0            NaN         21              среднее             1   \n",
       "67          0            NaN         52               высшее             0   \n",
       "72          1            NaN         32               высшее             0   \n",
       "82          2            NaN         50               высшее             0   \n",
       "83          0            NaN         52              среднее             1   \n",
       "90          2            NaN         35               высшее             0   \n",
       "94          1            NaN         34               высшее             0   \n",
       "96          0            NaN         44              СРЕДНЕЕ             1   \n",
       "97          0            NaN         47               высшее             0   \n",
       "120         0            NaN         46              среднее             1   \n",
       "121         0            NaN         29               высшее             0   \n",
       "135         0            NaN         27              среднее             1   \n",
       "141         0            NaN         39              среднее             1   \n",
       "145         0            NaN         62              среднее             1   \n",
       "174         0            NaN         55               высшее             0   \n",
       "181         0            NaN         26              среднее             1   \n",
       "189         1            NaN         30              среднее             1   \n",
       "205         1            NaN         31               высшее             0   \n",
       "220         1            NaN         23  неоконченное высшее             2   \n",
       "241         0            NaN         47              среднее             1   \n",
       "242         0            NaN         58              среднее             1   \n",
       "247         1            NaN         60               высшее             0   \n",
       "250         0            NaN         54               высшее             0   \n",
       "264         2            NaN         40              среднее             1   \n",
       "278         1            NaN         23              Среднее             1   \n",
       "279         0            NaN         44              Среднее             1   \n",
       "280         0            NaN         66              среднее             1   \n",
       "312         1            NaN         33              среднее             1   \n",
       "317         0            NaN         21               высшее             0   \n",
       "320         0            NaN         63              среднее             1   \n",
       "321         1            NaN         34               высшее             0   \n",
       "322         0            NaN         56              СРЕДНЕЕ             1   \n",
       "328         0            NaN         69              среднее             1   \n",
       "360         0            NaN         27              среднее             1   \n",
       "361         0            NaN         59              среднее             1   \n",
       "\n",
       "             family_status  family_status_id gender  income_type  debt  \\\n",
       "12        гражданский брак                 1      M    пенсионер     0   \n",
       "26         женат / замужем                 0      M  госслужащий     0   \n",
       "29   Не женат / не замужем                 4      F    пенсионер     0   \n",
       "41         женат / замужем                 0      F  госслужащий     0   \n",
       "55        гражданский брак                 1      F    пенсионер     1   \n",
       "65   Не женат / не замужем                 4      M    компаньон     0   \n",
       "67         женат / замужем                 0      F    пенсионер     0   \n",
       "72         женат / замужем                 0      M  госслужащий     0   \n",
       "82         женат / замужем                 0      F    сотрудник     0   \n",
       "83         женат / замужем                 0      M    сотрудник     0   \n",
       "90         женат / замужем                 0      F    сотрудник     0   \n",
       "94        гражданский брак                 1      F    компаньон     0   \n",
       "96         женат / замужем                 0      F    сотрудник     0   \n",
       "97         женат / замужем                 0      F    сотрудник     0   \n",
       "120        женат / замужем                 0      F    сотрудник     0   \n",
       "121        женат / замужем                 0      F    компаньон     0   \n",
       "135        женат / замужем                 0      M    компаньон     0   \n",
       "141       гражданский брак                 1      M    сотрудник     0   \n",
       "145        женат / замужем                 0      M    пенсионер     0   \n",
       "174         вдовец / вдова                 2      F    компаньон     0   \n",
       "181       гражданский брак                 1      F    компаньон     1   \n",
       "189  Не женат / не замужем                 4      F    сотрудник     0   \n",
       "205        женат / замужем                 0      F    сотрудник     0   \n",
       "220       гражданский брак                 1      F    компаньон     0   \n",
       "241        женат / замужем                 0      M    сотрудник     0   \n",
       "242        женат / замужем                 0      F  госслужащий     0   \n",
       "247        женат / замужем                 0      F    пенсионер     1   \n",
       "250        женат / замужем                 0      F    сотрудник     0   \n",
       "264              в разводе                 3      F    сотрудник     0   \n",
       "278       гражданский брак                 1      F    сотрудник     1   \n",
       "279       гражданский брак                 1      F    сотрудник     0   \n",
       "280        женат / замужем                 0      F    пенсионер     0   \n",
       "312       гражданский брак                 1      M    сотрудник     1   \n",
       "317  Не женат / не замужем                 4      M    сотрудник     0   \n",
       "320         вдовец / вдова                 2      F    сотрудник     0   \n",
       "321       гражданский брак                 1      M    компаньон     0   \n",
       "322       гражданский брак                 1      F    пенсионер     1   \n",
       "328         вдовец / вдова                 2      F    сотрудник     0   \n",
       "360        женат / замужем                 0      M    компаньон     0   \n",
       "361         вдовец / вдова                 2      F    пенсионер     0   \n",
       "\n",
       "     total_income                                 purpose  \n",
       "12            NaN                         сыграть свадьбу  \n",
       "26            NaN                             образование  \n",
       "29            NaN        строительство жилой недвижимости  \n",
       "41            NaN        сделка с подержанным автомобилем  \n",
       "55            NaN                         сыграть свадьбу  \n",
       "65            NaN   операции с коммерческой недвижимостью  \n",
       "67            NaN                 покупка жилья для семьи  \n",
       "72            NaN   операции с коммерческой недвижимостью  \n",
       "82            NaN                                   жилье  \n",
       "83            NaN                                   жилье  \n",
       "90            NaN                       операции с жильем  \n",
       "94            NaN                   на проведение свадьбы  \n",
       "96            NaN              покупка жилой недвижимости  \n",
       "97            NaN                  профильное образование  \n",
       "120           NaN                      высшее образование  \n",
       "121           NaN                              автомобиль  \n",
       "135           NaN                                   жилье  \n",
       "141           NaN                                 свадьба  \n",
       "145           NaN              строительство недвижимости  \n",
       "174           NaN                         свой автомобиль  \n",
       "181           NaN                 покупка жилья для семьи  \n",
       "189           NaN                         свой автомобиль  \n",
       "205           NaN      на покупку подержанного автомобиля  \n",
       "220           NaN                         сыграть свадьбу  \n",
       "241           NaN  строительство собственной недвижимости  \n",
       "242           NaN                    покупка своего жилья  \n",
       "247           NaN            заняться высшим образованием  \n",
       "250           NaN        сделка с подержанным автомобилем  \n",
       "264           NaN                            недвижимость  \n",
       "278           NaN                              автомобиль  \n",
       "279           NaN         операции со своей недвижимостью  \n",
       "280           NaN                       операции с жильем  \n",
       "312           NaN                 покупка жилья для сдачи  \n",
       "317           NaN                    сделка с автомобилем  \n",
       "320           NaN      на покупку подержанного автомобиля  \n",
       "321           NaN                   на проведение свадьбы  \n",
       "322           NaN                         сыграть свадьбу  \n",
       "328           NaN                 приобретение автомобиля  \n",
       "360           NaN                 покупка жилья для сдачи  \n",
       "361           NaN                                   жилье  "
      ]
     },
     "execution_count": 53,
     "metadata": {},
     "output_type": "execute_result"
    }
   ],
   "source": [
    "# Оставляем только строки с пропусками\n",
    "data = data[data['days_employed'].isna()]\n",
    "data.head(40)"
   ]
  },
  {
   "cell_type": "markdown",
   "id": "9da2ceda",
   "metadata": {
    "deletable": false,
    "id": "9da2ceda"
   },
   "source": [
    "*Ответ:* Пропуски были обнаружены в двух столбцах - `days_employed` и `total_income`. Причём они наблюдались в обоих столбцах одновременно. Пропуски бывают трёх типов:\n",
    "- полностью случайные (**MCAR**)   \n",
    "- случайные (**MAR**)  \n",
    "- неслучайные (**MNAR**)   \n",
    "\n",
    "Исследуя строки с пропусками не удаётся обнаружить никаких закономерностей со значениями в других столбцах. Не похоже, что в данной задаче пропуски относятся к случайному и неслучайному типам. Значит остаётся один вариант - пропуски появились полностью случайным образом. И вероятность встретить пропуск не зависит ни от каких других значений."
   ]
  },
  {
   "cell_type": "markdown",
   "id": "7b0487d6",
   "metadata": {
    "deletable": false,
    "editable": false,
    "id": "7b0487d6"
   },
   "source": [
    "**Задание 24. Объясните, почему заполнить пропуски медианным значением — лучшее решение для количественных переменных.**"
   ]
  },
  {
   "cell_type": "markdown",
   "id": "9d08506d",
   "metadata": {},
   "source": [
    "Рассмотрим данные с пропусками до их замены. Для этого заново считаем данные из csv-файла в переменную `data`. Отфильтруем строки с типом занятости `безработный` и `пенсионер`, так как у этих двух типов занятости получаются аномально большие значения в столбце `days_employed`."
   ]
  },
  {
   "cell_type": "code",
   "execution_count": 54,
   "id": "17f9abf2",
   "metadata": {},
   "outputs": [],
   "source": [
    "try:\n",
    "    data = pd.read_csv('/datasets/data.csv')\n",
    "except:\n",
    "    data = pd.read_csv('https://code.s3.yandex.net/datasets/data.csv')\n",
    "    \n",
    "data['days_employed'] = data['days_employed'].abs()\n",
    "data = data[~data['income_type'].isin(['безработный', 'пенсионер'])]"
   ]
  },
  {
   "cell_type": "markdown",
   "id": "a2476f29",
   "metadata": {},
   "source": [
    "Посмотрим на распределение значений случайной величины `days_employed` без учёта безработных и пенсионеров."
   ]
  },
  {
   "cell_type": "code",
   "execution_count": 46,
   "id": "cc91397e",
   "metadata": {},
   "outputs": [
    {
     "data": {
      "text/plain": [
       "<AxesSubplot:xlabel='days_employed', ylabel='Count'>"
      ]
     },
     "execution_count": 46,
     "metadata": {},
     "output_type": "execute_result"
    },
    {
     "data": {
      "image/png": "[encoded data removed]",
      "text/plain": [
       "<Figure size 864x345.6 with 1 Axes>"
      ]
     },
     "metadata": {},
     "output_type": "display_data"
    }
   ],
   "source": [
    "sns.histplot(data['days_employed'])"
   ]
  },
  {
   "cell_type": "markdown",
   "id": "bacac626",
   "metadata": {},
   "source": [
    "Даже не смотря на то что мы удалили строки с безработными и пенсионерами, на гистограмме распределения значений случайной величины `days_employed` можно заметить достаточно большие значения, которые сильно выделяются среди большинства. Из-за таких больших значений среднее арифметическое может некорректно характеризовать данные. Проверим насколько значения среднего арифметического больше значений медианы для разных типов занятости в процентном соотношении по отношению к значениям медианы."
   ]
  },
  {
   "cell_type": "code",
   "execution_count": 55,
   "id": "cb3b6832",
   "metadata": {},
   "outputs": [
    {
     "data": {
      "text/plain": [
       "income_type\n",
       "в декрете          0.000000\n",
       "госслужащий        0.264199\n",
       "компаньон          0.364578\n",
       "предприниматель    0.000000\n",
       "сотрудник          0.477890\n",
       "студент            0.000000\n",
       "Name: days_employed, dtype: float64"
      ]
     },
     "execution_count": 55,
     "metadata": {},
     "output_type": "execute_result"
    }
   ],
   "source": [
    "days_employed_mean = data.groupby('income_type')['days_employed'].agg('mean')\n",
    "days_employed_median = data.groupby('income_type')['days_employed'].agg('median')\n",
    "(days_employed_mean - days_employed_median) / days_employed_median"
   ]
  },
  {
   "cell_type": "markdown",
   "id": "52b5b5d4",
   "metadata": {},
   "source": [
    "Проделаем те же самые рассуждения для значений случайной величины `total_income` без учёта безработных и пенсионеров."
   ]
  },
  {
   "cell_type": "code",
   "execution_count": 56,
   "id": "3c43d8bb",
   "metadata": {},
   "outputs": [
    {
     "data": {
      "text/plain": [
       "<AxesSubplot:xlabel='total_income', ylabel='Count'>"
      ]
     },
     "execution_count": 56,
     "metadata": {},
     "output_type": "execute_result"
    },
    {
     "data": {
      "image/png": "[encoded data removed]",
      "text/plain": [
       "<Figure size 864x345.6 with 1 Axes>"
      ]
     },
     "metadata": {},
     "output_type": "display_data"
    }
   ],
   "source": [
    "sns.histplot(data['total_income'])"
   ]
  },
  {
   "cell_type": "code",
   "execution_count": 49,
   "id": "34a6bd41",
   "metadata": {},
   "outputs": [
    {
     "data": {
      "text/plain": [
       "income_type\n",
       "в декрете          0.000000\n",
       "госслужащий        0.135930\n",
       "компаньон          0.174402\n",
       "предприниматель    0.000000\n",
       "сотрудник          0.131743\n",
       "студент            0.000000\n",
       "Name: total_income, dtype: float64"
      ]
     },
     "execution_count": 49,
     "metadata": {},
     "output_type": "execute_result"
    }
   ],
   "source": [
    "total_income_mean = data.groupby('income_type')['total_income'].agg('mean')\n",
    "total_income_median = data.groupby('income_type')['total_income'].agg('median')\n",
    "(total_income_mean - total_income_median) / total_income_median"
   ]
  },
  {
   "cell_type": "markdown",
   "id": "7ecf2b8e",
   "metadata": {
    "deletable": false,
    "id": "7ecf2b8e"
   },
   "source": [
    "*Ответ:* Существует огромное множество методов обработки пропусков для количественных переменных. Самые популярные и в то же время самые простые методы получили название *ad-hoc*:\n",
    "- заполнение пропусков нулями  \n",
    "- заполнение медианой\n",
    "- заполнение средним арифметическим значением  \n",
    "- введение индикаторных переменных и т.д.  \n",
    "\n",
    "Среди *ad-hoc* методов для решения нашей задачи подходит заполнение медианой и средним арифметическим. Среднее значение некорректно характеризует данные, когда некоторые значения сильно выделяются среди большинства. Именно поэтому заполнение пропусков медианным значением — лучшее решение для количественных переменных в нашей задаче."
   ]
  },
  {
   "cell_type": "markdown",
   "id": "6db5255a",
   "metadata": {
    "deletable": false,
    "editable": false,
    "id": "6db5255a"
   },
   "source": [
    "## Общий вывод."
   ]
  },
  {
   "cell_type": "markdown",
   "id": "bad65432",
   "metadata": {
    "id": "bad65432"
   },
   "source": [
    "Напишите ваш общий вывод.\n",
    "\n",
    "В нашем исследовании мы попытались ответить на четыре вопроса:  \n",
    "1. **Есть ли зависимость между количеством детей и возвратом кредита в срок?**  \n",
    "Есть зависимость между наличием детей и возвратом кредита в срок. Если у заёмщика есть дети, то возврат кредита в срок не зависит от их количества.  \n",
    "2. **Есть ли зависимость между семейным положением и возвратом кредита в срок?**   \n",
    "Есть зависимость между семейным положением и возвратом кредита в срок.  \n",
    "3. **Есть ли зависимость между уровнем дохода и возвратом кредита в срок?**  \n",
    "Есть зависимость между категорией уровня дохода (уровнем дохода) и возвратом кредита в срок.  \n",
    "4. **Как разные цели кредита влияют на его возврат в срок?**  \n",
    "Опираясь на наши исследования можно предположить, что заёмщики с категориями цели кредита `операции с недвижимостью` и `проведение свадьбы` реже имеют задолженность по возврату кредита в срок, чем все остальные заёмщики.\n",
    "\n",
    "Также мы выяснили возможные причины появления пропусков в исходных данных и попытались объяснить, почему заполнить пропуски медианным значением — лучшее решение для количественных переменных в нашей задаче:\n",
    "- Вероятнее всего пропуски возникли полностью случайным образом. (**MCAR**)\n",
    "- Среднее значение некорректно характеризует данные, когда некоторые значения сильно выделяются среди большинства. Именно поэтому для заполнения пропусков в нашей задаче лучше подходит медианное значение."
   ]
  }
 ],
 "metadata": {
  "ExecuteTimeLog": [
   {
    "duration": 69,
    "start_time": "2022-07-22T10:04:09.479Z"
   },
   {
    "duration": 18,
    "start_time": "2022-07-22T10:04:09.550Z"
   },
   {
    "duration": 36,
    "start_time": "2022-07-22T10:04:09.570Z"
   },
   {
    "duration": 19,
    "start_time": "2022-07-22T10:04:09.608Z"
   },
   {
    "duration": 43,
    "start_time": "2022-07-22T10:04:09.629Z"
   },
   {
    "duration": 3,
    "start_time": "2022-07-22T10:04:09.674Z"
   },
   {
    "duration": 15,
    "start_time": "2022-07-22T10:04:09.678Z"
   },
   {
    "duration": 15,
    "start_time": "2022-07-22T10:04:09.694Z"
   },
   {
    "duration": 24,
    "start_time": "2022-07-22T10:04:09.711Z"
   },
   {
    "duration": 11,
    "start_time": "2022-07-22T10:04:09.737Z"
   },
   {
    "duration": 47,
    "start_time": "2022-07-22T10:04:09.749Z"
   },
   {
    "duration": 9,
    "start_time": "2022-07-22T10:04:09.798Z"
   },
   {
    "duration": 6,
    "start_time": "2022-07-22T10:04:09.809Z"
   },
   {
    "duration": 24,
    "start_time": "2022-07-22T10:04:09.817Z"
   },
   {
    "duration": 17,
    "start_time": "2022-07-22T10:04:09.843Z"
   },
   {
    "duration": 17,
    "start_time": "2022-07-22T10:04:09.862Z"
   },
   {
    "duration": 12,
    "start_time": "2022-07-22T10:04:09.880Z"
   },
   {
    "duration": 18,
    "start_time": "2022-07-22T10:04:09.893Z"
   },
   {
    "duration": 24,
    "start_time": "2022-07-22T10:04:09.913Z"
   },
   {
    "duration": 12,
    "start_time": "2022-07-22T10:04:09.939Z"
   },
   {
    "duration": 28,
    "start_time": "2022-07-22T10:04:09.952Z"
   },
   {
    "duration": 443,
    "start_time": "2022-07-22T10:04:20.473Z"
   },
   {
    "duration": 23,
    "start_time": "2022-07-22T10:04:20.918Z"
   },
   {
    "duration": 14,
    "start_time": "2022-07-22T10:04:20.942Z"
   },
   {
    "duration": 8,
    "start_time": "2022-07-22T10:04:20.958Z"
   },
   {
    "duration": 35,
    "start_time": "2022-07-22T10:04:20.968Z"
   },
   {
    "duration": 4,
    "start_time": "2022-07-22T10:04:21.004Z"
   },
   {
    "duration": 35,
    "start_time": "2022-07-22T10:04:21.010Z"
   },
   {
    "duration": 4,
    "start_time": "2022-07-22T10:04:21.047Z"
   },
   {
    "duration": 12,
    "start_time": "2022-07-22T10:04:21.053Z"
   },
   {
    "duration": 4,
    "start_time": "2022-07-22T10:04:21.067Z"
   },
   {
    "duration": 42,
    "start_time": "2022-07-22T10:04:21.072Z"
   },
   {
    "duration": 24,
    "start_time": "2022-07-22T10:04:21.116Z"
   },
   {
    "duration": 4,
    "start_time": "2022-07-22T10:04:21.142Z"
   },
   {
    "duration": 25,
    "start_time": "2022-07-22T10:04:21.148Z"
   },
   {
    "duration": 20,
    "start_time": "2022-07-22T10:04:21.174Z"
   },
   {
    "duration": 11,
    "start_time": "2022-07-22T10:04:21.196Z"
   },
   {
    "duration": 30,
    "start_time": "2022-07-22T10:04:21.210Z"
   },
   {
    "duration": 13,
    "start_time": "2022-07-22T10:04:21.242Z"
   },
   {
    "duration": 13,
    "start_time": "2022-07-22T10:04:21.257Z"
   },
   {
    "duration": 5,
    "start_time": "2022-07-22T10:04:21.272Z"
   },
   {
    "duration": 13,
    "start_time": "2022-07-22T10:04:21.278Z"
   },
   {
    "duration": 7,
    "start_time": "2022-07-22T10:04:33.568Z"
   },
   {
    "duration": 67,
    "start_time": "2022-07-22T10:04:52.243Z"
   },
   {
    "duration": 7,
    "start_time": "2022-07-22T10:05:13.937Z"
   },
   {
    "duration": 56,
    "start_time": "2022-07-22T15:07:39.649Z"
   },
   {
    "duration": 813,
    "start_time": "2022-07-22T15:07:43.833Z"
   },
   {
    "duration": 36,
    "start_time": "2022-07-22T15:07:44.649Z"
   },
   {
    "duration": 26,
    "start_time": "2022-07-22T15:07:44.687Z"
   },
   {
    "duration": 15,
    "start_time": "2022-07-22T15:07:44.716Z"
   },
   {
    "duration": 77,
    "start_time": "2022-07-22T15:07:44.740Z"
   },
   {
    "duration": 12,
    "start_time": "2022-07-22T15:07:44.822Z"
   },
   {
    "duration": 25,
    "start_time": "2022-07-22T15:07:44.837Z"
   },
   {
    "duration": 5,
    "start_time": "2022-07-22T15:07:44.864Z"
   },
   {
    "duration": 14,
    "start_time": "2022-07-22T15:07:44.871Z"
   },
   {
    "duration": 12,
    "start_time": "2022-07-22T15:07:44.887Z"
   },
   {
    "duration": 72,
    "start_time": "2022-07-22T15:07:44.902Z"
   },
   {
    "duration": 18,
    "start_time": "2022-07-22T15:07:44.977Z"
   },
   {
    "duration": 22,
    "start_time": "2022-07-22T15:07:44.998Z"
   },
   {
    "duration": 47,
    "start_time": "2022-07-22T15:07:45.026Z"
   },
   {
    "duration": 28,
    "start_time": "2022-07-22T15:07:45.076Z"
   },
   {
    "duration": 19,
    "start_time": "2022-07-22T15:07:45.106Z"
   },
   {
    "duration": 30,
    "start_time": "2022-07-22T15:07:45.128Z"
   },
   {
    "duration": 18,
    "start_time": "2022-07-22T15:07:45.162Z"
   },
   {
    "duration": 8,
    "start_time": "2022-07-22T15:07:45.183Z"
   },
   {
    "duration": 5,
    "start_time": "2022-07-22T15:07:45.194Z"
   },
   {
    "duration": 80,
    "start_time": "2022-07-22T15:07:45.212Z"
   },
   {
    "duration": 19,
    "start_time": "2022-07-22T15:07:45.294Z"
   },
   {
    "duration": 9,
    "start_time": "2022-07-22T15:07:48.180Z"
   },
   {
    "duration": 6,
    "start_time": "2022-07-22T15:07:56.794Z"
   },
   {
    "duration": 12,
    "start_time": "2022-07-22T15:08:03.124Z"
   },
   {
    "duration": 54,
    "start_time": "2022-07-22T15:08:52.884Z"
   },
   {
    "duration": 8,
    "start_time": "2022-07-22T15:08:59.744Z"
   },
   {
    "duration": 14,
    "start_time": "2022-07-22T15:09:28.833Z"
   },
   {
    "duration": 913,
    "start_time": "2022-07-22T15:09:43.346Z"
   },
   {
    "duration": 792,
    "start_time": "2022-07-22T15:15:22.080Z"
   },
   {
    "duration": 11,
    "start_time": "2022-07-22T15:15:37.078Z"
   },
   {
    "duration": 4,
    "start_time": "2022-07-22T15:16:07.508Z"
   },
   {
    "duration": 3,
    "start_time": "2022-07-22T15:16:20.640Z"
   },
   {
    "duration": 20,
    "start_time": "2022-07-22T15:16:22.604Z"
   },
   {
    "duration": 7,
    "start_time": "2022-07-22T15:21:06.945Z"
   },
   {
    "duration": 11,
    "start_time": "2022-07-22T15:21:37.388Z"
   },
   {
    "duration": 10,
    "start_time": "2022-07-22T15:29:20.890Z"
   },
   {
    "duration": 21,
    "start_time": "2022-07-22T15:38:09.235Z"
   },
   {
    "duration": 15,
    "start_time": "2022-07-22T15:38:14.096Z"
   },
   {
    "duration": 158,
    "start_time": "2022-07-22T15:41:01.250Z"
   },
   {
    "duration": 116,
    "start_time": "2022-07-22T15:41:06.956Z"
   },
   {
    "duration": 75,
    "start_time": "2022-07-22T15:49:24.561Z"
   },
   {
    "duration": 30,
    "start_time": "2022-07-22T15:49:46.706Z"
   },
   {
    "duration": 70,
    "start_time": "2022-07-22T15:50:04.279Z"
   },
   {
    "duration": 1901,
    "start_time": "2022-07-22T15:53:24.640Z"
   },
   {
    "duration": 112,
    "start_time": "2022-07-22T15:53:56.040Z"
   },
   {
    "duration": 24,
    "start_time": "2022-07-22T15:54:06.018Z"
   },
   {
    "duration": 238,
    "start_time": "2022-07-22T15:54:25.341Z"
   },
   {
    "duration": 59,
    "start_time": "2022-07-22T15:57:17.185Z"
   },
   {
    "duration": 219,
    "start_time": "2022-07-22T15:57:31.285Z"
   },
   {
    "duration": 289,
    "start_time": "2022-07-22T15:57:37.360Z"
   },
   {
    "duration": 248,
    "start_time": "2022-07-22T15:57:47.048Z"
   },
   {
    "duration": 398,
    "start_time": "2022-07-22T15:57:51.938Z"
   },
   {
    "duration": 423,
    "start_time": "2022-07-22T15:57:55.473Z"
   },
   {
    "duration": 322,
    "start_time": "2022-07-22T15:59:04.765Z"
   },
   {
    "duration": 196,
    "start_time": "2022-07-22T16:01:21.435Z"
   },
   {
    "duration": 218,
    "start_time": "2022-07-22T16:01:39.327Z"
   },
   {
    "duration": 297,
    "start_time": "2022-07-22T16:01:45.449Z"
   },
   {
    "duration": 24,
    "start_time": "2022-07-22T16:03:08.787Z"
   },
   {
    "duration": 60,
    "start_time": "2022-07-22T16:03:16.321Z"
   },
   {
    "duration": 38,
    "start_time": "2022-07-22T16:03:35.064Z"
   },
   {
    "duration": 13,
    "start_time": "2022-07-22T16:12:02.865Z"
   },
   {
    "duration": 20,
    "start_time": "2022-07-22T16:12:12.384Z"
   },
   {
    "duration": 12,
    "start_time": "2022-07-22T16:12:16.166Z"
   },
   {
    "duration": 12,
    "start_time": "2022-07-22T16:12:25.924Z"
   },
   {
    "duration": 16,
    "start_time": "2022-07-22T16:13:49.238Z"
   },
   {
    "duration": 142,
    "start_time": "2022-07-22T16:14:13.661Z"
   },
   {
    "duration": 21,
    "start_time": "2022-07-22T16:15:40.637Z"
   },
   {
    "duration": 22,
    "start_time": "2022-07-22T16:16:46.882Z"
   },
   {
    "duration": 11,
    "start_time": "2022-07-22T16:17:53.669Z"
   },
   {
    "duration": 13,
    "start_time": "2022-07-22T16:18:05.167Z"
   },
   {
    "duration": 165,
    "start_time": "2022-07-22T16:18:57.882Z"
   },
   {
    "duration": 646,
    "start_time": "2022-07-22T16:19:12.403Z"
   },
   {
    "duration": 34,
    "start_time": "2022-07-22T16:19:13.058Z"
   },
   {
    "duration": 19,
    "start_time": "2022-07-22T16:19:13.093Z"
   },
   {
    "duration": 56,
    "start_time": "2022-07-22T16:19:13.114Z"
   },
   {
    "duration": 45,
    "start_time": "2022-07-22T16:19:13.172Z"
   },
   {
    "duration": 4,
    "start_time": "2022-07-22T16:19:13.220Z"
   },
   {
    "duration": 35,
    "start_time": "2022-07-22T16:19:13.240Z"
   },
   {
    "duration": 18,
    "start_time": "2022-07-22T16:19:13.277Z"
   },
   {
    "duration": 25,
    "start_time": "2022-07-22T16:19:13.298Z"
   },
   {
    "duration": 38,
    "start_time": "2022-07-22T16:19:13.325Z"
   },
   {
    "duration": 60,
    "start_time": "2022-07-22T16:19:13.365Z"
   },
   {
    "duration": 16,
    "start_time": "2022-07-22T16:19:13.427Z"
   },
   {
    "duration": 34,
    "start_time": "2022-07-22T16:19:13.445Z"
   },
   {
    "duration": 25,
    "start_time": "2022-07-22T16:19:13.482Z"
   },
   {
    "duration": 32,
    "start_time": "2022-07-22T16:19:13.509Z"
   },
   {
    "duration": 34,
    "start_time": "2022-07-22T16:19:13.548Z"
   },
   {
    "duration": 18,
    "start_time": "2022-07-22T16:19:13.586Z"
   },
   {
    "duration": 52,
    "start_time": "2022-07-22T16:19:13.606Z"
   },
   {
    "duration": 12,
    "start_time": "2022-07-22T16:19:13.660Z"
   },
   {
    "duration": 13,
    "start_time": "2022-07-22T16:19:13.675Z"
   },
   {
    "duration": 28,
    "start_time": "2022-07-22T16:19:13.689Z"
   },
   {
    "duration": 12,
    "start_time": "2022-07-22T16:19:15.437Z"
   },
   {
    "duration": 1128,
    "start_time": "2022-07-22T16:19:19.119Z"
   },
   {
    "duration": 217,
    "start_time": "2022-07-22T16:19:25.243Z"
   },
   {
    "duration": 165,
    "start_time": "2022-07-22T16:19:39.152Z"
   },
   {
    "duration": 53,
    "start_time": "2022-07-22T17:55:58.505Z"
   },
   {
    "duration": 19,
    "start_time": "2022-07-22T17:58:22.289Z"
   },
   {
    "duration": 27,
    "start_time": "2022-07-22T18:08:38.535Z"
   },
   {
    "duration": 9,
    "start_time": "2022-07-22T18:08:43.097Z"
   },
   {
    "duration": 12,
    "start_time": "2022-07-22T18:08:51.176Z"
   },
   {
    "duration": 10,
    "start_time": "2022-07-22T18:08:54.045Z"
   },
   {
    "duration": 13,
    "start_time": "2022-07-22T18:09:09.231Z"
   },
   {
    "duration": 18,
    "start_time": "2022-07-22T18:09:17.040Z"
   },
   {
    "duration": 11,
    "start_time": "2022-07-22T18:09:22.965Z"
   },
   {
    "duration": 26,
    "start_time": "2022-07-22T18:10:13.889Z"
   },
   {
    "duration": 12,
    "start_time": "2022-07-22T18:10:57.927Z"
   },
   {
    "duration": 146,
    "start_time": "2022-07-22T18:20:14.906Z"
   },
   {
    "duration": 821,
    "start_time": "2022-07-23T13:51:06.339Z"
   },
   {
    "duration": 32,
    "start_time": "2022-07-23T13:51:07.163Z"
   },
   {
    "duration": 38,
    "start_time": "2022-07-23T13:51:07.197Z"
   },
   {
    "duration": 28,
    "start_time": "2022-07-23T13:51:07.239Z"
   },
   {
    "duration": 59,
    "start_time": "2022-07-23T13:51:07.269Z"
   },
   {
    "duration": 6,
    "start_time": "2022-07-23T13:51:07.330Z"
   },
   {
    "duration": 16,
    "start_time": "2022-07-23T13:51:07.338Z"
   },
   {
    "duration": 4,
    "start_time": "2022-07-23T13:51:07.356Z"
   },
   {
    "duration": 13,
    "start_time": "2022-07-23T13:51:07.362Z"
   },
   {
    "duration": 4,
    "start_time": "2022-07-23T13:51:07.377Z"
   },
   {
    "duration": 47,
    "start_time": "2022-07-23T13:51:07.383Z"
   },
   {
    "duration": 16,
    "start_time": "2022-07-23T13:51:07.432Z"
   },
   {
    "duration": 11,
    "start_time": "2022-07-23T13:51:07.450Z"
   },
   {
    "duration": 23,
    "start_time": "2022-07-23T13:51:07.464Z"
   },
   {
    "duration": 26,
    "start_time": "2022-07-23T13:51:07.489Z"
   },
   {
    "duration": 19,
    "start_time": "2022-07-23T13:51:07.520Z"
   },
   {
    "duration": 12,
    "start_time": "2022-07-23T13:51:07.543Z"
   },
   {
    "duration": 13,
    "start_time": "2022-07-23T13:51:07.557Z"
   },
   {
    "duration": 17,
    "start_time": "2022-07-23T13:51:07.571Z"
   },
   {
    "duration": 4,
    "start_time": "2022-07-23T13:51:07.590Z"
   },
   {
    "duration": 13,
    "start_time": "2022-07-23T13:51:07.596Z"
   },
   {
    "duration": 41,
    "start_time": "2022-07-23T13:51:07.611Z"
   },
   {
    "duration": 11,
    "start_time": "2022-07-23T13:51:09.794Z"
   },
   {
    "duration": 1209,
    "start_time": "2022-07-23T13:51:10.796Z"
   },
   {
    "duration": 208,
    "start_time": "2022-07-23T13:51:22.119Z"
   },
   {
    "duration": 174,
    "start_time": "2022-07-23T13:51:31.976Z"
   },
   {
    "duration": 202,
    "start_time": "2022-07-23T13:51:55.375Z"
   },
   {
    "duration": 133,
    "start_time": "2022-07-23T13:52:07.551Z"
   },
   {
    "duration": 53,
    "start_time": "2022-07-23T18:10:03.502Z"
   },
   {
    "duration": 740,
    "start_time": "2022-07-23T18:10:07.714Z"
   },
   {
    "duration": 34,
    "start_time": "2022-07-23T18:10:08.457Z"
   },
   {
    "duration": 17,
    "start_time": "2022-07-23T18:10:08.493Z"
   },
   {
    "duration": 28,
    "start_time": "2022-07-23T18:10:08.512Z"
   },
   {
    "duration": 34,
    "start_time": "2022-07-23T18:10:08.542Z"
   },
   {
    "duration": 4,
    "start_time": "2022-07-23T18:10:08.578Z"
   },
   {
    "duration": 14,
    "start_time": "2022-07-23T18:10:08.584Z"
   },
   {
    "duration": 26,
    "start_time": "2022-07-23T18:10:08.600Z"
   },
   {
    "duration": 27,
    "start_time": "2022-07-23T18:10:08.628Z"
   },
   {
    "duration": 5,
    "start_time": "2022-07-23T18:10:08.657Z"
   },
   {
    "duration": 39,
    "start_time": "2022-07-23T18:10:08.663Z"
   },
   {
    "duration": 11,
    "start_time": "2022-07-23T18:10:08.705Z"
   },
   {
    "duration": 6,
    "start_time": "2022-07-23T18:10:08.718Z"
   },
   {
    "duration": 53,
    "start_time": "2022-07-23T18:10:08.726Z"
   },
   {
    "duration": 17,
    "start_time": "2022-07-23T18:10:08.781Z"
   },
   {
    "duration": 15,
    "start_time": "2022-07-23T18:10:08.799Z"
   },
   {
    "duration": 26,
    "start_time": "2022-07-23T18:10:08.816Z"
   },
   {
    "duration": 26,
    "start_time": "2022-07-23T18:10:08.843Z"
   },
   {
    "duration": 18,
    "start_time": "2022-07-23T18:10:08.871Z"
   },
   {
    "duration": 4,
    "start_time": "2022-07-23T18:10:08.891Z"
   },
   {
    "duration": 16,
    "start_time": "2022-07-23T18:10:08.897Z"
   },
   {
    "duration": 39,
    "start_time": "2022-07-23T18:10:10.355Z"
   },
   {
    "duration": 15,
    "start_time": "2022-07-23T18:10:21.149Z"
   },
   {
    "duration": 16,
    "start_time": "2022-07-23T18:10:31.621Z"
   },
   {
    "duration": 29,
    "start_time": "2022-07-23T18:10:40.013Z"
   },
   {
    "duration": 24,
    "start_time": "2022-07-23T18:11:35.177Z"
   },
   {
    "duration": 23,
    "start_time": "2022-07-23T18:12:14.159Z"
   },
   {
    "duration": 13,
    "start_time": "2022-07-23T18:13:00.379Z"
   },
   {
    "duration": 25,
    "start_time": "2022-07-23T18:13:27.517Z"
   },
   {
    "duration": 28,
    "start_time": "2022-07-23T18:13:46.238Z"
   },
   {
    "duration": 29,
    "start_time": "2022-07-23T18:13:55.201Z"
   },
   {
    "duration": 27,
    "start_time": "2022-07-23T18:14:11.809Z"
   },
   {
    "duration": 21,
    "start_time": "2022-07-23T18:14:48.309Z"
   },
   {
    "duration": 40,
    "start_time": "2022-07-23T18:19:54.933Z"
   },
   {
    "duration": 34,
    "start_time": "2022-07-23T18:20:04.119Z"
   },
   {
    "duration": 37,
    "start_time": "2022-07-23T18:20:48.945Z"
   },
   {
    "duration": 34,
    "start_time": "2022-07-23T18:21:03.295Z"
   },
   {
    "duration": 23,
    "start_time": "2022-07-23T18:25:38.442Z"
   },
   {
    "duration": 15,
    "start_time": "2022-07-23T18:32:44.820Z"
   },
   {
    "duration": 20,
    "start_time": "2022-07-23T18:32:54.415Z"
   },
   {
    "duration": 535,
    "start_time": "2022-07-23T18:33:39.347Z"
   },
   {
    "duration": 7,
    "start_time": "2022-07-23T18:33:43.022Z"
   },
   {
    "duration": 5,
    "start_time": "2022-07-23T18:33:46.559Z"
   },
   {
    "duration": 5,
    "start_time": "2022-07-23T18:33:48.185Z"
   },
   {
    "duration": 4,
    "start_time": "2022-07-23T18:33:50.444Z"
   },
   {
    "duration": 470,
    "start_time": "2022-07-23T18:33:58.895Z"
   },
   {
    "duration": 23,
    "start_time": "2022-07-23T18:33:59.367Z"
   },
   {
    "duration": 16,
    "start_time": "2022-07-23T18:33:59.392Z"
   },
   {
    "duration": 36,
    "start_time": "2022-07-23T18:33:59.410Z"
   },
   {
    "duration": 36,
    "start_time": "2022-07-23T18:33:59.448Z"
   },
   {
    "duration": 4,
    "start_time": "2022-07-23T18:33:59.486Z"
   },
   {
    "duration": 14,
    "start_time": "2022-07-23T18:33:59.492Z"
   },
   {
    "duration": 13,
    "start_time": "2022-07-23T18:33:59.526Z"
   },
   {
    "duration": 12,
    "start_time": "2022-07-23T18:33:59.544Z"
   },
   {
    "duration": 5,
    "start_time": "2022-07-23T18:33:59.559Z"
   },
   {
    "duration": 73,
    "start_time": "2022-07-23T18:33:59.566Z"
   },
   {
    "duration": 15,
    "start_time": "2022-07-23T18:33:59.641Z"
   },
   {
    "duration": 4,
    "start_time": "2022-07-23T18:33:59.659Z"
   },
   {
    "duration": 30,
    "start_time": "2022-07-23T18:33:59.666Z"
   },
   {
    "duration": 45,
    "start_time": "2022-07-23T18:33:59.698Z"
   },
   {
    "duration": 11,
    "start_time": "2022-07-23T18:33:59.745Z"
   },
   {
    "duration": 8,
    "start_time": "2022-07-23T18:33:59.758Z"
   },
   {
    "duration": 17,
    "start_time": "2022-07-23T18:33:59.767Z"
   },
   {
    "duration": 12,
    "start_time": "2022-07-23T18:33:59.786Z"
   },
   {
    "duration": 5,
    "start_time": "2022-07-23T18:33:59.800Z"
   },
   {
    "duration": 22,
    "start_time": "2022-07-23T18:33:59.824Z"
   },
   {
    "duration": 24,
    "start_time": "2022-07-23T18:34:01.748Z"
   },
   {
    "duration": 84,
    "start_time": "2022-07-23T18:34:02.610Z"
   },
   {
    "duration": 428,
    "start_time": "2022-07-23T18:34:18.332Z"
   },
   {
    "duration": 5,
    "start_time": "2022-07-23T18:34:23.318Z"
   },
   {
    "duration": 21,
    "start_time": "2022-07-23T18:36:54.268Z"
   },
   {
    "duration": 6,
    "start_time": "2022-07-23T18:36:55.006Z"
   },
   {
    "duration": 47,
    "start_time": "2022-07-23T18:47:33.055Z"
   },
   {
    "duration": 20,
    "start_time": "2022-07-23T18:47:49.149Z"
   },
   {
    "duration": 25,
    "start_time": "2022-07-23T18:49:47.255Z"
   },
   {
    "duration": 25,
    "start_time": "2022-07-23T18:50:14.222Z"
   },
   {
    "duration": 27,
    "start_time": "2022-07-23T18:50:42.744Z"
   },
   {
    "duration": 25,
    "start_time": "2022-07-23T18:51:16.439Z"
   },
   {
    "duration": 27,
    "start_time": "2022-07-23T18:52:23.945Z"
   },
   {
    "duration": 24,
    "start_time": "2022-07-23T18:54:23.256Z"
   },
   {
    "duration": 32,
    "start_time": "2022-07-23T18:54:30.115Z"
   },
   {
    "duration": 34,
    "start_time": "2022-07-23T18:54:34.011Z"
   },
   {
    "duration": 42,
    "start_time": "2022-07-23T18:58:05.619Z"
   },
   {
    "duration": 32,
    "start_time": "2022-07-23T18:58:13.695Z"
   },
   {
    "duration": 19,
    "start_time": "2022-07-23T18:58:23.197Z"
   },
   {
    "duration": 9,
    "start_time": "2022-07-23T19:01:07.980Z"
   },
   {
    "duration": 9,
    "start_time": "2022-07-23T19:01:11.948Z"
   },
   {
    "duration": 201,
    "start_time": "2022-07-23T19:01:39.831Z"
   },
   {
    "duration": 4,
    "start_time": "2022-07-23T19:01:45.101Z"
   },
   {
    "duration": 7,
    "start_time": "2022-07-23T19:01:58.238Z"
   },
   {
    "duration": 8,
    "start_time": "2022-07-23T19:06:50.140Z"
   },
   {
    "duration": 8,
    "start_time": "2022-07-23T19:08:00.174Z"
   },
   {
    "duration": 9,
    "start_time": "2022-07-23T19:08:07.023Z"
   },
   {
    "duration": 11,
    "start_time": "2022-07-23T19:08:08.524Z"
   },
   {
    "duration": 42,
    "start_time": "2022-07-23T19:08:53.674Z"
   },
   {
    "duration": 44,
    "start_time": "2022-07-23T19:08:56.176Z"
   },
   {
    "duration": 8,
    "start_time": "2022-07-23T19:09:04.841Z"
   },
   {
    "duration": 24,
    "start_time": "2022-07-23T19:09:57.883Z"
   },
   {
    "duration": 5,
    "start_time": "2022-07-23T19:10:32.249Z"
   },
   {
    "duration": 6,
    "start_time": "2022-07-23T19:11:23.842Z"
   },
   {
    "duration": 3,
    "start_time": "2022-07-23T19:11:28.995Z"
   },
   {
    "duration": 1235,
    "start_time": "2022-07-23T19:12:19.904Z"
   },
   {
    "duration": 651,
    "start_time": "2022-07-23T19:12:30.861Z"
   },
   {
    "duration": 4,
    "start_time": "2022-07-23T19:12:40.741Z"
   },
   {
    "duration": 6,
    "start_time": "2022-07-23T19:12:49.002Z"
   },
   {
    "duration": 5,
    "start_time": "2022-07-23T19:12:53.645Z"
   },
   {
    "duration": 7,
    "start_time": "2022-07-23T19:13:11.989Z"
   },
   {
    "duration": 30,
    "start_time": "2022-07-23T19:13:29.219Z"
   },
   {
    "duration": 4,
    "start_time": "2022-07-23T19:13:32.850Z"
   },
   {
    "duration": 3,
    "start_time": "2022-07-23T19:13:37.840Z"
   },
   {
    "duration": 4,
    "start_time": "2022-07-23T19:13:41.207Z"
   },
   {
    "duration": 6,
    "start_time": "2022-07-23T19:13:56.983Z"
   },
   {
    "duration": 9,
    "start_time": "2022-07-23T19:14:16.316Z"
   },
   {
    "duration": 6,
    "start_time": "2022-07-23T19:14:20.786Z"
   },
   {
    "duration": 4,
    "start_time": "2022-07-23T19:14:24.365Z"
   },
   {
    "duration": 6,
    "start_time": "2022-07-23T19:14:25.681Z"
   },
   {
    "duration": 141,
    "start_time": "2022-07-23T19:14:41.638Z"
   },
   {
    "duration": 138,
    "start_time": "2022-07-23T19:15:28.153Z"
   },
   {
    "duration": 44,
    "start_time": "2022-07-23T19:15:39.115Z"
   },
   {
    "duration": 230,
    "start_time": "2022-07-23T19:15:51.441Z"
   },
   {
    "duration": 26,
    "start_time": "2022-07-23T19:16:35.711Z"
   },
   {
    "duration": 131,
    "start_time": "2022-07-23T19:16:40.008Z"
   },
   {
    "duration": 129,
    "start_time": "2022-07-23T19:16:58.717Z"
   },
   {
    "duration": 24,
    "start_time": "2022-07-23T19:18:35.441Z"
   },
   {
    "duration": 134,
    "start_time": "2022-07-23T19:18:42.505Z"
   },
   {
    "duration": 122,
    "start_time": "2022-07-23T19:18:48.156Z"
   },
   {
    "duration": 7,
    "start_time": "2022-07-23T19:27:26.430Z"
   },
   {
    "duration": 8,
    "start_time": "2022-07-23T19:27:44.081Z"
   },
   {
    "duration": 10,
    "start_time": "2022-07-23T19:28:14.339Z"
   },
   {
    "duration": 7,
    "start_time": "2022-07-23T19:28:38.279Z"
   },
   {
    "duration": 8,
    "start_time": "2022-07-23T19:28:53.949Z"
   },
   {
    "duration": 51,
    "start_time": "2022-07-23T19:34:04.915Z"
   },
   {
    "duration": 40,
    "start_time": "2022-07-23T19:34:21.870Z"
   },
   {
    "duration": 50,
    "start_time": "2022-07-23T19:34:36.159Z"
   },
   {
    "duration": 40,
    "start_time": "2022-07-23T19:34:43.770Z"
   },
   {
    "duration": 49,
    "start_time": "2022-07-23T19:34:56.560Z"
   },
   {
    "duration": 52,
    "start_time": "2022-07-23T19:35:11.369Z"
   },
   {
    "duration": 37,
    "start_time": "2022-07-23T19:35:21.677Z"
   },
   {
    "duration": 40,
    "start_time": "2022-07-23T19:35:28.209Z"
   },
   {
    "duration": 126,
    "start_time": "2022-07-23T19:35:43.974Z"
   },
   {
    "duration": 524,
    "start_time": "2022-07-23T19:35:54.932Z"
   },
   {
    "duration": 23,
    "start_time": "2022-07-23T19:35:55.458Z"
   },
   {
    "duration": 15,
    "start_time": "2022-07-23T19:35:55.483Z"
   },
   {
    "duration": 33,
    "start_time": "2022-07-23T19:35:55.500Z"
   },
   {
    "duration": 40,
    "start_time": "2022-07-23T19:35:55.534Z"
   },
   {
    "duration": 3,
    "start_time": "2022-07-23T19:35:55.576Z"
   },
   {
    "duration": 13,
    "start_time": "2022-07-23T19:35:55.581Z"
   },
   {
    "duration": 29,
    "start_time": "2022-07-23T19:35:55.596Z"
   },
   {
    "duration": 10,
    "start_time": "2022-07-23T19:35:55.627Z"
   },
   {
    "duration": 4,
    "start_time": "2022-07-23T19:35:55.640Z"
   },
   {
    "duration": 38,
    "start_time": "2022-07-23T19:35:55.645Z"
   },
   {
    "duration": 9,
    "start_time": "2022-07-23T19:35:55.686Z"
   },
   {
    "duration": 29,
    "start_time": "2022-07-23T19:35:55.697Z"
   },
   {
    "duration": 21,
    "start_time": "2022-07-23T19:35:55.727Z"
   },
   {
    "duration": 16,
    "start_time": "2022-07-23T19:35:55.749Z"
   },
   {
    "duration": 11,
    "start_time": "2022-07-23T19:35:55.767Z"
   },
   {
    "duration": 7,
    "start_time": "2022-07-23T19:35:55.780Z"
   },
   {
    "duration": 37,
    "start_time": "2022-07-23T19:35:55.789Z"
   },
   {
    "duration": 6,
    "start_time": "2022-07-23T19:35:55.827Z"
   },
   {
    "duration": 4,
    "start_time": "2022-07-23T19:35:55.835Z"
   },
   {
    "duration": 13,
    "start_time": "2022-07-23T19:35:55.840Z"
   },
   {
    "duration": 29,
    "start_time": "2022-07-23T19:35:57.047Z"
   },
   {
    "duration": 854,
    "start_time": "2022-07-23T19:36:00.272Z"
   },
   {
    "duration": 140,
    "start_time": "2022-07-23T19:36:10.102Z"
   },
   {
    "duration": 125,
    "start_time": "2022-07-23T19:36:19.402Z"
   },
   {
    "duration": 117,
    "start_time": "2022-07-23T19:36:55.668Z"
   },
   {
    "duration": 200,
    "start_time": "2022-07-23T19:37:36.452Z"
   },
   {
    "duration": 126,
    "start_time": "2022-07-23T19:38:04.342Z"
   },
   {
    "duration": 8,
    "start_time": "2022-07-23T19:38:07.706Z"
   },
   {
    "duration": 208,
    "start_time": "2022-07-23T19:38:11.238Z"
   },
   {
    "duration": 34,
    "start_time": "2022-07-23T19:41:55.383Z"
   },
   {
    "duration": 148,
    "start_time": "2022-07-23T19:42:26.188Z"
   },
   {
    "duration": 120,
    "start_time": "2022-07-23T19:42:31.469Z"
   },
   {
    "duration": 153,
    "start_time": "2022-07-23T19:44:00.719Z"
   },
   {
    "duration": 107,
    "start_time": "2022-07-23T19:44:20.898Z"
   },
   {
    "duration": 108,
    "start_time": "2022-07-23T19:44:40.643Z"
   },
   {
    "duration": 91,
    "start_time": "2022-07-23T20:03:25.618Z"
   },
   {
    "duration": 105,
    "start_time": "2022-07-23T20:03:55.610Z"
   },
   {
    "duration": 7,
    "start_time": "2022-07-23T20:28:39.344Z"
   },
   {
    "duration": 7,
    "start_time": "2022-07-23T20:29:48.180Z"
   },
   {
    "duration": 6,
    "start_time": "2022-07-23T20:30:13.591Z"
   },
   {
    "duration": 6,
    "start_time": "2022-07-23T20:30:34.428Z"
   },
   {
    "duration": 47,
    "start_time": "2022-07-23T20:30:45.665Z"
   },
   {
    "duration": 426,
    "start_time": "2022-07-23T20:30:52.968Z"
   },
   {
    "duration": 21,
    "start_time": "2022-07-23T20:30:53.396Z"
   },
   {
    "duration": 15,
    "start_time": "2022-07-23T20:30:53.418Z"
   },
   {
    "duration": 9,
    "start_time": "2022-07-23T20:30:53.435Z"
   },
   {
    "duration": 42,
    "start_time": "2022-07-23T20:30:53.445Z"
   },
   {
    "duration": 3,
    "start_time": "2022-07-23T20:30:53.488Z"
   },
   {
    "duration": 10,
    "start_time": "2022-07-23T20:30:53.493Z"
   },
   {
    "duration": 20,
    "start_time": "2022-07-23T20:30:53.505Z"
   },
   {
    "duration": 9,
    "start_time": "2022-07-23T20:30:53.526Z"
   },
   {
    "duration": 5,
    "start_time": "2022-07-23T20:30:53.537Z"
   },
   {
    "duration": 38,
    "start_time": "2022-07-23T20:30:53.544Z"
   },
   {
    "duration": 10,
    "start_time": "2022-07-23T20:30:53.584Z"
   },
   {
    "duration": 29,
    "start_time": "2022-07-23T20:30:53.596Z"
   },
   {
    "duration": 22,
    "start_time": "2022-07-23T20:30:53.627Z"
   },
   {
    "duration": 18,
    "start_time": "2022-07-23T20:30:53.650Z"
   },
   {
    "duration": 14,
    "start_time": "2022-07-23T20:30:53.669Z"
   },
   {
    "duration": 7,
    "start_time": "2022-07-23T20:30:53.685Z"
   },
   {
    "duration": 34,
    "start_time": "2022-07-23T20:30:53.694Z"
   },
   {
    "duration": 10,
    "start_time": "2022-07-23T20:30:53.729Z"
   },
   {
    "duration": 5,
    "start_time": "2022-07-23T20:30:53.741Z"
   },
   {
    "duration": 13,
    "start_time": "2022-07-23T20:30:53.747Z"
   },
   {
    "duration": 26,
    "start_time": "2022-07-23T20:30:54.968Z"
   },
   {
    "duration": 889,
    "start_time": "2022-07-23T20:30:56.086Z"
   },
   {
    "duration": 204,
    "start_time": "2022-07-23T20:31:00.881Z"
   },
   {
    "duration": 143,
    "start_time": "2022-07-23T20:31:07.174Z"
   },
   {
    "duration": 6,
    "start_time": "2022-07-23T20:31:09.482Z"
   },
   {
    "duration": 82,
    "start_time": "2022-07-23T20:31:33.921Z"
   },
   {
    "duration": 6,
    "start_time": "2022-07-23T20:31:43.321Z"
   },
   {
    "duration": 490,
    "start_time": "2022-07-23T20:31:53.792Z"
   },
   {
    "duration": 24,
    "start_time": "2022-07-23T20:31:54.284Z"
   },
   {
    "duration": 18,
    "start_time": "2022-07-23T20:31:54.310Z"
   },
   {
    "duration": 11,
    "start_time": "2022-07-23T20:31:54.330Z"
   },
   {
    "duration": 42,
    "start_time": "2022-07-23T20:31:54.343Z"
   },
   {
    "duration": 3,
    "start_time": "2022-07-23T20:31:54.387Z"
   },
   {
    "duration": 13,
    "start_time": "2022-07-23T20:31:54.391Z"
   },
   {
    "duration": 18,
    "start_time": "2022-07-23T20:31:54.406Z"
   },
   {
    "duration": 13,
    "start_time": "2022-07-23T20:31:54.426Z"
   },
   {
    "duration": 7,
    "start_time": "2022-07-23T20:31:54.442Z"
   },
   {
    "duration": 42,
    "start_time": "2022-07-23T20:31:54.450Z"
   },
   {
    "duration": 10,
    "start_time": "2022-07-23T20:31:54.495Z"
   },
   {
    "duration": 4,
    "start_time": "2022-07-23T20:31:54.525Z"
   },
   {
    "duration": 23,
    "start_time": "2022-07-23T20:31:54.531Z"
   },
   {
    "duration": 18,
    "start_time": "2022-07-23T20:31:54.556Z"
   },
   {
    "duration": 15,
    "start_time": "2022-07-23T20:31:54.576Z"
   },
   {
    "duration": 31,
    "start_time": "2022-07-23T20:31:54.593Z"
   },
   {
    "duration": 26,
    "start_time": "2022-07-23T20:31:54.627Z"
   },
   {
    "duration": 8,
    "start_time": "2022-07-23T20:31:54.655Z"
   },
   {
    "duration": 9,
    "start_time": "2022-07-23T20:31:54.664Z"
   },
   {
    "duration": 15,
    "start_time": "2022-07-23T20:31:54.675Z"
   },
   {
    "duration": 24,
    "start_time": "2022-07-23T20:31:56.516Z"
   },
   {
    "duration": 840,
    "start_time": "2022-07-23T20:31:59.545Z"
   },
   {
    "duration": 190,
    "start_time": "2022-07-23T20:32:05.849Z"
   },
   {
    "duration": 448,
    "start_time": "2022-07-23T20:32:27.163Z"
   },
   {
    "duration": 23,
    "start_time": "2022-07-23T20:32:27.613Z"
   },
   {
    "duration": 15,
    "start_time": "2022-07-23T20:32:27.637Z"
   },
   {
    "duration": 10,
    "start_time": "2022-07-23T20:32:27.654Z"
   },
   {
    "duration": 33,
    "start_time": "2022-07-23T20:32:27.666Z"
   },
   {
    "duration": 4,
    "start_time": "2022-07-23T20:32:27.723Z"
   },
   {
    "duration": 11,
    "start_time": "2022-07-23T20:32:27.728Z"
   },
   {
    "duration": 4,
    "start_time": "2022-07-23T20:32:27.741Z"
   },
   {
    "duration": 9,
    "start_time": "2022-07-23T20:32:27.747Z"
   },
   {
    "duration": 4,
    "start_time": "2022-07-23T20:32:27.757Z"
   },
   {
    "duration": 61,
    "start_time": "2022-07-23T20:32:27.763Z"
   },
   {
    "duration": 10,
    "start_time": "2022-07-23T20:32:27.825Z"
   },
   {
    "duration": 5,
    "start_time": "2022-07-23T20:32:27.836Z"
   },
   {
    "duration": 20,
    "start_time": "2022-07-23T20:32:27.844Z"
   },
   {
    "duration": 16,
    "start_time": "2022-07-23T20:32:27.865Z"
   },
   {
    "duration": 11,
    "start_time": "2022-07-23T20:32:27.882Z"
   },
   {
    "duration": 32,
    "start_time": "2022-07-23T20:32:27.894Z"
   },
   {
    "duration": 18,
    "start_time": "2022-07-23T20:32:27.928Z"
   },
   {
    "duration": 6,
    "start_time": "2022-07-23T20:32:27.947Z"
   },
   {
    "duration": 3,
    "start_time": "2022-07-23T20:32:27.955Z"
   },
   {
    "duration": 11,
    "start_time": "2022-07-23T20:32:27.959Z"
   },
   {
    "duration": 25,
    "start_time": "2022-07-23T20:32:28.732Z"
   },
   {
    "duration": 867,
    "start_time": "2022-07-23T20:32:30.657Z"
   },
   {
    "duration": 113,
    "start_time": "2022-07-23T20:32:36.966Z"
   },
   {
    "duration": 201,
    "start_time": "2022-07-23T20:32:39.887Z"
   },
   {
    "duration": 6,
    "start_time": "2022-07-23T20:33:17.628Z"
   },
   {
    "duration": 7,
    "start_time": "2022-07-23T20:35:51.516Z"
   },
   {
    "duration": 6,
    "start_time": "2022-07-23T20:38:12.990Z"
   },
   {
    "duration": 8,
    "start_time": "2022-07-23T20:38:24.818Z"
   },
   {
    "duration": 7,
    "start_time": "2022-07-23T20:38:50.614Z"
   },
   {
    "duration": 6,
    "start_time": "2022-07-23T20:48:16.306Z"
   },
   {
    "duration": 137,
    "start_time": "2022-07-23T20:48:23.196Z"
   },
   {
    "duration": 30,
    "start_time": "2022-07-23T20:48:52.372Z"
   },
   {
    "duration": 26,
    "start_time": "2022-07-23T20:49:28.113Z"
   },
   {
    "duration": 23,
    "start_time": "2022-07-23T20:51:48.186Z"
   },
   {
    "duration": 24,
    "start_time": "2022-07-23T20:51:54.425Z"
   },
   {
    "duration": 103,
    "start_time": "2022-07-23T20:52:15.912Z"
   },
   {
    "duration": 22,
    "start_time": "2022-07-23T20:54:31.010Z"
   },
   {
    "duration": 104,
    "start_time": "2022-07-23T20:54:37.868Z"
   },
   {
    "duration": 57,
    "start_time": "2022-07-23T20:55:04.083Z"
   },
   {
    "duration": 25,
    "start_time": "2022-07-23T20:55:11.214Z"
   },
   {
    "duration": 200,
    "start_time": "2022-07-23T20:55:18.069Z"
   },
   {
    "duration": 24,
    "start_time": "2022-07-23T20:55:32.688Z"
   },
   {
    "duration": 483,
    "start_time": "2022-07-23T20:55:55.603Z"
   },
   {
    "duration": 21,
    "start_time": "2022-07-23T20:55:56.088Z"
   },
   {
    "duration": 14,
    "start_time": "2022-07-23T20:55:56.111Z"
   },
   {
    "duration": 11,
    "start_time": "2022-07-23T20:55:56.127Z"
   },
   {
    "duration": 33,
    "start_time": "2022-07-23T20:55:56.140Z"
   },
   {
    "duration": 3,
    "start_time": "2022-07-23T20:55:56.175Z"
   },
   {
    "duration": 12,
    "start_time": "2022-07-23T20:55:56.180Z"
   },
   {
    "duration": 4,
    "start_time": "2022-07-23T20:55:56.194Z"
   },
   {
    "duration": 32,
    "start_time": "2022-07-23T20:55:56.199Z"
   },
   {
    "duration": 4,
    "start_time": "2022-07-23T20:55:56.233Z"
   },
   {
    "duration": 36,
    "start_time": "2022-07-23T20:55:56.238Z"
   },
   {
    "duration": 10,
    "start_time": "2022-07-23T20:55:56.275Z"
   },
   {
    "duration": 8,
    "start_time": "2022-07-23T20:55:56.287Z"
   },
   {
    "duration": 42,
    "start_time": "2022-07-23T20:55:56.297Z"
   },
   {
    "duration": 16,
    "start_time": "2022-07-23T20:55:56.341Z"
   },
   {
    "duration": 11,
    "start_time": "2022-07-23T20:55:56.358Z"
   },
   {
    "duration": 7,
    "start_time": "2022-07-23T20:55:56.371Z"
   },
   {
    "duration": 16,
    "start_time": "2022-07-23T20:55:56.380Z"
   },
   {
    "duration": 5,
    "start_time": "2022-07-23T20:55:56.398Z"
   },
   {
    "duration": 25,
    "start_time": "2022-07-23T20:55:56.404Z"
   },
   {
    "duration": 12,
    "start_time": "2022-07-23T20:55:56.431Z"
   },
   {
    "duration": 81,
    "start_time": "2022-07-23T20:55:58.039Z"
   },
   {
    "duration": 32,
    "start_time": "2022-07-23T20:56:04.541Z"
   },
   {
    "duration": 25,
    "start_time": "2022-07-23T20:56:30.678Z"
   },
   {
    "duration": 892,
    "start_time": "2022-07-23T20:56:40.707Z"
   },
   {
    "duration": 113,
    "start_time": "2022-07-23T20:57:28.146Z"
   },
   {
    "duration": 69,
    "start_time": "2022-07-23T20:58:08.864Z"
   },
   {
    "duration": 117,
    "start_time": "2022-07-23T20:58:16.489Z"
   },
   {
    "duration": 10,
    "start_time": "2022-07-23T21:00:08.299Z"
   },
   {
    "duration": 7,
    "start_time": "2022-07-23T21:00:14.236Z"
   },
   {
    "duration": 13,
    "start_time": "2022-07-23T21:00:52.318Z"
   },
   {
    "duration": 89,
    "start_time": "2022-07-23T21:02:08.015Z"
   },
   {
    "duration": 108,
    "start_time": "2022-07-23T21:02:26.642Z"
   },
   {
    "duration": 73,
    "start_time": "2022-07-23T21:03:20.541Z"
   },
   {
    "duration": 49,
    "start_time": "2022-07-23T21:03:26.708Z"
   },
   {
    "duration": 60,
    "start_time": "2022-07-23T21:03:45.893Z"
   },
   {
    "duration": 286,
    "start_time": "2022-07-23T21:05:00.513Z"
   },
   {
    "duration": 490,
    "start_time": "2022-07-23T21:05:10.449Z"
   },
   {
    "duration": 30,
    "start_time": "2022-07-23T21:05:10.941Z"
   },
   {
    "duration": 22,
    "start_time": "2022-07-23T21:05:10.973Z"
   },
   {
    "duration": 29,
    "start_time": "2022-07-23T21:05:10.996Z"
   },
   {
    "duration": 51,
    "start_time": "2022-07-23T21:05:11.027Z"
   },
   {
    "duration": 4,
    "start_time": "2022-07-23T21:05:11.080Z"
   },
   {
    "duration": 13,
    "start_time": "2022-07-23T21:05:11.086Z"
   },
   {
    "duration": 24,
    "start_time": "2022-07-23T21:05:11.101Z"
   },
   {
    "duration": 10,
    "start_time": "2022-07-23T21:05:11.126Z"
   },
   {
    "duration": 9,
    "start_time": "2022-07-23T21:05:11.138Z"
   },
   {
    "duration": 44,
    "start_time": "2022-07-23T21:05:11.149Z"
   },
   {
    "duration": 10,
    "start_time": "2022-07-23T21:05:11.194Z"
   },
   {
    "duration": 4,
    "start_time": "2022-07-23T21:05:11.205Z"
   },
   {
    "duration": 18,
    "start_time": "2022-07-23T21:05:11.224Z"
   },
   {
    "duration": 17,
    "start_time": "2022-07-23T21:05:11.243Z"
   },
   {
    "duration": 11,
    "start_time": "2022-07-23T21:05:11.262Z"
   },
   {
    "duration": 10,
    "start_time": "2022-07-23T21:05:11.274Z"
   },
   {
    "duration": 14,
    "start_time": "2022-07-23T21:05:11.286Z"
   },
   {
    "duration": 7,
    "start_time": "2022-07-23T21:05:11.323Z"
   },
   {
    "duration": 5,
    "start_time": "2022-07-23T21:05:11.332Z"
   },
   {
    "duration": 11,
    "start_time": "2022-07-23T21:05:11.339Z"
   },
   {
    "duration": 21,
    "start_time": "2022-07-23T21:05:13.163Z"
   },
   {
    "duration": 882,
    "start_time": "2022-07-23T21:05:39.978Z"
   },
   {
    "duration": 125,
    "start_time": "2022-07-23T21:05:50.939Z"
   },
   {
    "duration": 251,
    "start_time": "2022-07-23T21:05:58.548Z"
   },
   {
    "duration": 121,
    "start_time": "2022-07-23T21:06:03.249Z"
   },
   {
    "duration": 7,
    "start_time": "2022-07-23T21:06:21.002Z"
   },
   {
    "duration": 6,
    "start_time": "2022-07-23T21:12:06.090Z"
   },
   {
    "duration": 32,
    "start_time": "2022-07-23T21:13:30.565Z"
   },
   {
    "duration": 18,
    "start_time": "2022-07-23T21:14:01.556Z"
   },
   {
    "duration": 34,
    "start_time": "2022-07-23T21:14:08.217Z"
   },
   {
    "duration": 27,
    "start_time": "2022-07-23T21:15:04.470Z"
   },
   {
    "duration": 24,
    "start_time": "2022-07-23T21:15:43.072Z"
   },
   {
    "duration": 148,
    "start_time": "2022-07-23T21:16:00.864Z"
   },
   {
    "duration": 243,
    "start_time": "2022-07-23T21:16:15.021Z"
   },
   {
    "duration": 146,
    "start_time": "2022-07-23T21:16:24.621Z"
   },
   {
    "duration": 105,
    "start_time": "2022-07-23T21:16:48.489Z"
   },
   {
    "duration": 49,
    "start_time": "2022-07-23T21:17:23.762Z"
   },
   {
    "duration": 151,
    "start_time": "2022-07-23T21:17:48.573Z"
   },
   {
    "duration": 7,
    "start_time": "2022-07-23T21:21:15.341Z"
   },
   {
    "duration": 7,
    "start_time": "2022-07-23T21:21:29.367Z"
   },
   {
    "duration": 816,
    "start_time": "2022-07-24T20:00:11.148Z"
   },
   {
    "duration": 36,
    "start_time": "2022-07-24T20:00:11.966Z"
   },
   {
    "duration": 30,
    "start_time": "2022-07-24T20:00:12.004Z"
   },
   {
    "duration": 14,
    "start_time": "2022-07-24T20:00:12.040Z"
   },
   {
    "duration": 42,
    "start_time": "2022-07-24T20:00:12.056Z"
   },
   {
    "duration": 4,
    "start_time": "2022-07-24T20:00:12.099Z"
   },
   {
    "duration": 28,
    "start_time": "2022-07-24T20:00:12.105Z"
   },
   {
    "duration": 26,
    "start_time": "2022-07-24T20:00:12.134Z"
   },
   {
    "duration": 15,
    "start_time": "2022-07-24T20:00:12.163Z"
   },
   {
    "duration": 7,
    "start_time": "2022-07-24T20:00:12.182Z"
   },
   {
    "duration": 59,
    "start_time": "2022-07-24T20:00:12.191Z"
   },
   {
    "duration": 12,
    "start_time": "2022-07-24T20:00:12.253Z"
   },
   {
    "duration": 4,
    "start_time": "2022-07-24T20:00:12.267Z"
   },
   {
    "duration": 32,
    "start_time": "2022-07-24T20:00:12.273Z"
   },
   {
    "duration": 28,
    "start_time": "2022-07-24T20:00:12.326Z"
   },
   {
    "duration": 23,
    "start_time": "2022-07-24T20:00:12.357Z"
   },
   {
    "duration": 14,
    "start_time": "2022-07-24T20:00:12.383Z"
   },
   {
    "duration": 19,
    "start_time": "2022-07-24T20:00:12.400Z"
   },
   {
    "duration": 13,
    "start_time": "2022-07-24T20:00:12.425Z"
   },
   {
    "duration": 13,
    "start_time": "2022-07-24T20:00:12.443Z"
   },
   {
    "duration": 13,
    "start_time": "2022-07-24T20:00:12.458Z"
   },
   {
    "duration": 3,
    "start_time": "2022-07-24T20:02:31.505Z"
   },
   {
    "duration": 49,
    "start_time": "2022-07-24T20:09:22.452Z"
   },
   {
    "duration": 59,
    "start_time": "2022-07-24T20:18:07.903Z"
   },
   {
    "duration": 21,
    "start_time": "2022-07-24T20:24:30.265Z"
   },
   {
    "duration": 19,
    "start_time": "2022-07-24T20:24:48.550Z"
   },
   {
    "duration": 1110,
    "start_time": "2022-07-24T20:24:49.961Z"
   },
   {
    "duration": 115,
    "start_time": "2022-07-24T20:24:52.389Z"
   },
   {
    "duration": 21,
    "start_time": "2022-07-24T20:25:02.364Z"
   },
   {
    "duration": 130,
    "start_time": "2022-07-24T20:25:08.660Z"
   },
   {
    "duration": 638,
    "start_time": "2022-07-25T18:14:44.156Z"
   },
   {
    "duration": 20,
    "start_time": "2022-07-25T18:14:44.796Z"
   },
   {
    "duration": 13,
    "start_time": "2022-07-25T18:14:44.818Z"
   },
   {
    "duration": 9,
    "start_time": "2022-07-25T18:14:44.833Z"
   },
   {
    "duration": 32,
    "start_time": "2022-07-25T18:14:44.844Z"
   },
   {
    "duration": 2,
    "start_time": "2022-07-25T18:14:44.878Z"
   },
   {
    "duration": 11,
    "start_time": "2022-07-25T18:14:44.882Z"
   },
   {
    "duration": 4,
    "start_time": "2022-07-25T18:14:44.895Z"
   },
   {
    "duration": 8,
    "start_time": "2022-07-25T18:14:44.901Z"
   },
   {
    "duration": 26,
    "start_time": "2022-07-25T18:14:44.912Z"
   },
   {
    "duration": 34,
    "start_time": "2022-07-25T18:14:44.939Z"
   },
   {
    "duration": 9,
    "start_time": "2022-07-25T18:14:44.975Z"
   },
   {
    "duration": 4,
    "start_time": "2022-07-25T18:14:44.985Z"
   },
   {
    "duration": 19,
    "start_time": "2022-07-25T18:14:44.990Z"
   },
   {
    "duration": 38,
    "start_time": "2022-07-25T18:14:45.011Z"
   },
   {
    "duration": 10,
    "start_time": "2022-07-25T18:14:45.051Z"
   },
   {
    "duration": 8,
    "start_time": "2022-07-25T18:14:45.063Z"
   },
   {
    "duration": 12,
    "start_time": "2022-07-25T18:14:45.072Z"
   },
   {
    "duration": 10,
    "start_time": "2022-07-25T18:14:45.086Z"
   },
   {
    "duration": 7,
    "start_time": "2022-07-25T18:14:45.098Z"
   },
   {
    "duration": 13,
    "start_time": "2022-07-25T18:14:45.106Z"
   },
   {
    "duration": 29,
    "start_time": "2022-07-25T18:14:45.120Z"
   },
   {
    "duration": 993,
    "start_time": "2022-07-25T18:14:45.151Z"
   },
   {
    "duration": 113,
    "start_time": "2022-07-25T18:14:46.146Z"
   },
   {
    "duration": 217,
    "start_time": "2022-07-25T18:14:46.261Z"
   },
   {
    "duration": 123,
    "start_time": "2022-07-25T18:14:46.480Z"
   },
   {
    "duration": 7,
    "start_time": "2022-07-25T18:14:46.605Z"
   },
   {
    "duration": 19,
    "start_time": "2022-07-25T18:14:48.461Z"
   },
   {
    "duration": 120,
    "start_time": "2022-07-25T18:14:49.465Z"
   },
   {
    "duration": 282,
    "start_time": "2022-07-25T18:28:48.961Z"
   },
   {
    "duration": 18,
    "start_time": "2022-07-25T18:29:01.344Z"
   },
   {
    "duration": 848,
    "start_time": "2022-07-25T18:30:52.807Z"
   },
   {
    "duration": 25,
    "start_time": "2022-07-25T18:31:54.860Z"
   },
   {
    "duration": 9,
    "start_time": "2022-07-25T18:31:59.226Z"
   },
   {
    "duration": 9,
    "start_time": "2022-07-25T18:32:05.447Z"
   },
   {
    "duration": 17,
    "start_time": "2022-07-25T18:32:11.945Z"
   },
   {
    "duration": 807,
    "start_time": "2022-07-25T18:33:15.731Z"
   },
   {
    "duration": 109,
    "start_time": "2022-07-25T18:33:36.058Z"
   },
   {
    "duration": 124,
    "start_time": "2022-07-25T18:34:59.050Z"
   },
   {
    "duration": 23,
    "start_time": "2022-07-25T18:35:07.788Z"
   },
   {
    "duration": 779,
    "start_time": "2022-07-25T18:35:51.292Z"
   },
   {
    "duration": 100,
    "start_time": "2022-07-25T18:36:12.346Z"
   },
   {
    "duration": 440,
    "start_time": "2022-07-25T18:36:31.598Z"
   },
   {
    "duration": 22,
    "start_time": "2022-07-25T18:36:32.040Z"
   },
   {
    "duration": 15,
    "start_time": "2022-07-25T18:36:32.064Z"
   },
   {
    "duration": 10,
    "start_time": "2022-07-25T18:36:32.081Z"
   },
   {
    "duration": 56,
    "start_time": "2022-07-25T18:36:32.092Z"
   },
   {
    "duration": 3,
    "start_time": "2022-07-25T18:36:32.150Z"
   },
   {
    "duration": 13,
    "start_time": "2022-07-25T18:36:32.155Z"
   },
   {
    "duration": 10,
    "start_time": "2022-07-25T18:36:32.170Z"
   },
   {
    "duration": 11,
    "start_time": "2022-07-25T18:36:32.181Z"
   },
   {
    "duration": 4,
    "start_time": "2022-07-25T18:36:32.194Z"
   },
   {
    "duration": 48,
    "start_time": "2022-07-25T18:36:32.199Z"
   },
   {
    "duration": 9,
    "start_time": "2022-07-25T18:36:32.249Z"
   },
   {
    "duration": 5,
    "start_time": "2022-07-25T18:36:32.260Z"
   },
   {
    "duration": 25,
    "start_time": "2022-07-25T18:36:32.266Z"
   },
   {
    "duration": 19,
    "start_time": "2022-07-25T18:36:32.293Z"
   },
   {
    "duration": 28,
    "start_time": "2022-07-25T18:36:32.314Z"
   },
   {
    "duration": 5,
    "start_time": "2022-07-25T18:36:32.343Z"
   },
   {
    "duration": 11,
    "start_time": "2022-07-25T18:36:32.350Z"
   },
   {
    "duration": 6,
    "start_time": "2022-07-25T18:36:32.362Z"
   },
   {
    "duration": 4,
    "start_time": "2022-07-25T18:36:32.369Z"
   },
   {
    "duration": 12,
    "start_time": "2022-07-25T18:36:32.374Z"
   },
   {
    "duration": 19,
    "start_time": "2022-07-25T18:36:32.815Z"
   },
   {
    "duration": 849,
    "start_time": "2022-07-25T18:36:33.508Z"
   },
   {
    "duration": 108,
    "start_time": "2022-07-25T18:36:35.952Z"
   },
   {
    "duration": 195,
    "start_time": "2022-07-25T18:36:36.942Z"
   },
   {
    "duration": 108,
    "start_time": "2022-07-25T18:36:38.442Z"
   },
   {
    "duration": 120,
    "start_time": "2022-07-25T18:42:00.591Z"
   },
   {
    "duration": 159,
    "start_time": "2022-07-25T18:42:12.607Z"
   },
   {
    "duration": 228,
    "start_time": "2022-07-25T18:42:53.759Z"
   },
   {
    "duration": 100,
    "start_time": "2022-07-25T18:42:59.595Z"
   },
   {
    "duration": 3,
    "start_time": "2022-07-25T18:54:32.877Z"
   },
   {
    "duration": 5,
    "start_time": "2022-07-25T18:54:33.416Z"
   },
   {
    "duration": 445,
    "start_time": "2022-07-25T18:54:54.377Z"
   },
   {
    "duration": 20,
    "start_time": "2022-07-25T18:54:54.824Z"
   },
   {
    "duration": 14,
    "start_time": "2022-07-25T18:54:54.846Z"
   },
   {
    "duration": 11,
    "start_time": "2022-07-25T18:54:54.862Z"
   },
   {
    "duration": 34,
    "start_time": "2022-07-25T18:54:54.874Z"
   },
   {
    "duration": 3,
    "start_time": "2022-07-25T18:54:54.910Z"
   },
   {
    "duration": 34,
    "start_time": "2022-07-25T18:54:54.915Z"
   },
   {
    "duration": 4,
    "start_time": "2022-07-25T18:54:54.951Z"
   },
   {
    "duration": 8,
    "start_time": "2022-07-25T18:54:54.957Z"
   },
   {
    "duration": 3,
    "start_time": "2022-07-25T18:54:54.970Z"
   },
   {
    "duration": 34,
    "start_time": "2022-07-25T18:54:54.975Z"
   },
   {
    "duration": 33,
    "start_time": "2022-07-25T18:54:55.011Z"
   },
   {
    "duration": 7,
    "start_time": "2022-07-25T18:54:55.046Z"
   },
   {
    "duration": 19,
    "start_time": "2022-07-25T18:54:55.055Z"
   },
   {
    "duration": 17,
    "start_time": "2022-07-25T18:54:55.075Z"
   },
   {
    "duration": 11,
    "start_time": "2022-07-25T18:54:55.093Z"
   },
   {
    "duration": 10,
    "start_time": "2022-07-25T18:54:55.105Z"
   },
   {
    "duration": 24,
    "start_time": "2022-07-25T18:54:55.117Z"
   },
   {
    "duration": 5,
    "start_time": "2022-07-25T18:54:55.143Z"
   },
   {
    "duration": 5,
    "start_time": "2022-07-25T18:54:55.150Z"
   },
   {
    "duration": 11,
    "start_time": "2022-07-25T18:54:55.156Z"
   },
   {
    "duration": 21,
    "start_time": "2022-07-25T18:54:55.169Z"
   },
   {
    "duration": 854,
    "start_time": "2022-07-25T18:54:55.192Z"
   },
   {
    "duration": 112,
    "start_time": "2022-07-25T18:54:56.047Z"
   },
   {
    "duration": 199,
    "start_time": "2022-07-25T18:54:56.161Z"
   },
   {
    "duration": 6,
    "start_time": "2022-07-25T18:54:56.361Z"
   },
   {
    "duration": 117,
    "start_time": "2022-07-25T18:54:56.368Z"
   },
   {
    "duration": 5,
    "start_time": "2022-07-25T18:54:56.488Z"
   },
   {
    "duration": 20,
    "start_time": "2022-07-25T18:54:56.495Z"
   },
   {
    "duration": 123,
    "start_time": "2022-07-25T18:54:56.517Z"
   },
   {
    "duration": 7,
    "start_time": "2022-07-25T18:54:56.641Z"
   },
   {
    "duration": 5,
    "start_time": "2022-07-25T18:54:56.649Z"
   },
   {
    "duration": 5,
    "start_time": "2022-07-25T18:54:56.655Z"
   },
   {
    "duration": 7,
    "start_time": "2022-07-25T18:55:24.266Z"
   },
   {
    "duration": 6,
    "start_time": "2022-07-25T18:56:45.477Z"
   },
   {
    "duration": 6,
    "start_time": "2022-07-25T18:56:51.052Z"
   },
   {
    "duration": 179,
    "start_time": "2022-07-25T18:56:55.473Z"
   },
   {
    "duration": 5,
    "start_time": "2022-07-25T18:56:58.364Z"
   },
   {
    "duration": 5,
    "start_time": "2022-07-25T18:57:04.116Z"
   },
   {
    "duration": 5,
    "start_time": "2022-07-25T18:57:40.495Z"
   },
   {
    "duration": 6,
    "start_time": "2022-07-25T18:58:49.175Z"
   },
   {
    "duration": 46,
    "start_time": "2022-07-25T19:01:06.457Z"
   },
   {
    "duration": 68,
    "start_time": "2022-07-25T19:01:15.041Z"
   },
   {
    "duration": 63,
    "start_time": "2022-07-25T19:01:19.671Z"
   },
   {
    "duration": 105,
    "start_time": "2022-07-25T19:01:44.622Z"
   },
   {
    "duration": 18,
    "start_time": "2022-07-25T19:02:38.248Z"
   },
   {
    "duration": 17,
    "start_time": "2022-07-25T19:02:42.415Z"
   },
   {
    "duration": 17,
    "start_time": "2022-07-25T19:02:44.560Z"
   },
   {
    "duration": 109,
    "start_time": "2022-07-25T19:02:54.060Z"
   },
   {
    "duration": 126,
    "start_time": "2022-07-25T19:03:31.461Z"
   },
   {
    "duration": 179,
    "start_time": "2022-07-25T19:03:38.880Z"
   },
   {
    "duration": 22,
    "start_time": "2022-07-25T19:03:46.550Z"
   },
   {
    "duration": 141,
    "start_time": "2022-07-25T19:04:32.222Z"
   },
   {
    "duration": 123,
    "start_time": "2022-07-25T19:05:26.022Z"
   },
   {
    "duration": 132,
    "start_time": "2022-07-25T19:06:44.779Z"
   },
   {
    "duration": 107,
    "start_time": "2022-07-25T19:07:04.561Z"
   },
   {
    "duration": 158,
    "start_time": "2022-07-25T19:07:42.541Z"
   },
   {
    "duration": 166,
    "start_time": "2022-07-25T19:07:54.739Z"
   },
   {
    "duration": 164,
    "start_time": "2022-07-25T19:08:02.155Z"
   },
   {
    "duration": 50,
    "start_time": "2022-07-26T09:30:12.941Z"
   },
   {
    "duration": 530,
    "start_time": "2022-07-26T09:30:23.369Z"
   },
   {
    "duration": 25,
    "start_time": "2022-07-26T09:30:23.901Z"
   },
   {
    "duration": 18,
    "start_time": "2022-07-26T09:30:23.928Z"
   },
   {
    "duration": 19,
    "start_time": "2022-07-26T09:30:23.948Z"
   },
   {
    "duration": 35,
    "start_time": "2022-07-26T09:30:23.974Z"
   },
   {
    "duration": 4,
    "start_time": "2022-07-26T09:30:24.011Z"
   },
   {
    "duration": 13,
    "start_time": "2022-07-26T09:30:24.016Z"
   },
   {
    "duration": 5,
    "start_time": "2022-07-26T09:30:24.030Z"
   },
   {
    "duration": 30,
    "start_time": "2022-07-26T09:30:24.037Z"
   },
   {
    "duration": 5,
    "start_time": "2022-07-26T09:30:24.071Z"
   },
   {
    "duration": 43,
    "start_time": "2022-07-26T09:30:24.078Z"
   },
   {
    "duration": 9,
    "start_time": "2022-07-26T09:30:24.123Z"
   },
   {
    "duration": 5,
    "start_time": "2022-07-26T09:30:24.133Z"
   },
   {
    "duration": 33,
    "start_time": "2022-07-26T09:30:24.140Z"
   },
   {
    "duration": 16,
    "start_time": "2022-07-26T09:30:24.174Z"
   },
   {
    "duration": 10,
    "start_time": "2022-07-26T09:30:24.191Z"
   },
   {
    "duration": 6,
    "start_time": "2022-07-26T09:30:24.203Z"
   },
   {
    "duration": 15,
    "start_time": "2022-07-26T09:30:24.211Z"
   },
   {
    "duration": 7,
    "start_time": "2022-07-26T09:30:24.228Z"
   },
   {
    "duration": 27,
    "start_time": "2022-07-26T09:30:24.237Z"
   },
   {
    "duration": 14,
    "start_time": "2022-07-26T09:30:24.266Z"
   },
   {
    "duration": 9,
    "start_time": "2022-07-26T09:30:25.511Z"
   },
   {
    "duration": 43,
    "start_time": "2022-07-26T09:30:27.950Z"
   },
   {
    "duration": 1079,
    "start_time": "2022-07-26T09:30:31.670Z"
   },
   {
    "duration": 35,
    "start_time": "2022-07-26T09:30:46.569Z"
   },
   {
    "duration": 36,
    "start_time": "2022-07-26T09:30:49.096Z"
   },
   {
    "duration": 77,
    "start_time": "2022-07-26T09:35:24.372Z"
   },
   {
    "duration": 148,
    "start_time": "2022-07-26T09:36:48.112Z"
   },
   {
    "duration": 66,
    "start_time": "2022-07-26T09:37:06.196Z"
   },
   {
    "duration": 45,
    "start_time": "2022-07-26T09:38:13.223Z"
   },
   {
    "duration": 36,
    "start_time": "2022-07-26T09:38:57.207Z"
   },
   {
    "duration": 41,
    "start_time": "2022-07-26T09:39:04.971Z"
   },
   {
    "duration": 44,
    "start_time": "2022-07-26T09:39:08.150Z"
   },
   {
    "duration": 46,
    "start_time": "2022-07-26T09:39:12.993Z"
   },
   {
    "duration": 46,
    "start_time": "2022-07-26T09:39:17.051Z"
   },
   {
    "duration": 43,
    "start_time": "2022-07-26T09:39:35.822Z"
   },
   {
    "duration": 141,
    "start_time": "2022-07-26T09:39:41.671Z"
   },
   {
    "duration": 48,
    "start_time": "2022-07-26T09:39:52.174Z"
   },
   {
    "duration": 719,
    "start_time": "2022-07-26T09:39:56.378Z"
   },
   {
    "duration": 757,
    "start_time": "2022-07-26T09:40:03.703Z"
   },
   {
    "duration": 3041,
    "start_time": "2022-07-26T09:40:17.113Z"
   },
   {
    "duration": 53,
    "start_time": "2022-07-26T09:40:24.641Z"
   },
   {
    "duration": 42,
    "start_time": "2022-07-26T09:42:23.235Z"
   },
   {
    "duration": 42,
    "start_time": "2022-07-26T09:42:26.668Z"
   },
   {
    "duration": 43,
    "start_time": "2022-07-26T09:42:31.966Z"
   },
   {
    "duration": 38,
    "start_time": "2022-07-26T09:43:39.123Z"
   },
   {
    "duration": 49,
    "start_time": "2022-07-26T09:43:56.425Z"
   },
   {
    "duration": 37,
    "start_time": "2022-07-26T09:44:01.740Z"
   },
   {
    "duration": 41,
    "start_time": "2022-07-26T09:49:46.203Z"
   },
   {
    "duration": 41,
    "start_time": "2022-07-26T09:49:49.467Z"
   },
   {
    "duration": 45,
    "start_time": "2022-07-26T09:53:51.520Z"
   },
   {
    "duration": 42,
    "start_time": "2022-07-26T09:53:54.141Z"
   },
   {
    "duration": 47,
    "start_time": "2022-07-26T09:54:25.058Z"
   },
   {
    "duration": 35,
    "start_time": "2022-07-26T09:54:27.796Z"
   },
   {
    "duration": 59,
    "start_time": "2022-07-26T09:55:33.507Z"
   },
   {
    "duration": 36,
    "start_time": "2022-07-26T09:55:38.165Z"
   },
   {
    "duration": 36,
    "start_time": "2022-07-26T09:55:48.974Z"
   },
   {
    "duration": 1327,
    "start_time": "2022-07-26T09:56:29.453Z"
   },
   {
    "duration": 453,
    "start_time": "2022-07-26T09:56:47.143Z"
   },
   {
    "duration": 22,
    "start_time": "2022-07-26T09:56:47.597Z"
   },
   {
    "duration": 42,
    "start_time": "2022-07-26T09:56:47.620Z"
   },
   {
    "duration": 11,
    "start_time": "2022-07-26T09:56:47.666Z"
   },
   {
    "duration": 43,
    "start_time": "2022-07-26T09:56:47.680Z"
   },
   {
    "duration": 4,
    "start_time": "2022-07-26T09:56:47.724Z"
   },
   {
    "duration": 13,
    "start_time": "2022-07-26T09:56:47.729Z"
   },
   {
    "duration": 9,
    "start_time": "2022-07-26T09:56:47.744Z"
   },
   {
    "duration": 23,
    "start_time": "2022-07-26T09:56:47.760Z"
   },
   {
    "duration": 8,
    "start_time": "2022-07-26T09:56:47.784Z"
   },
   {
    "duration": 39,
    "start_time": "2022-07-26T09:56:47.794Z"
   },
   {
    "duration": 10,
    "start_time": "2022-07-26T09:56:47.834Z"
   },
   {
    "duration": 25,
    "start_time": "2022-07-26T09:56:47.845Z"
   },
   {
    "duration": 22,
    "start_time": "2022-07-26T09:56:47.872Z"
   },
   {
    "duration": 20,
    "start_time": "2022-07-26T09:56:47.896Z"
   },
   {
    "duration": 13,
    "start_time": "2022-07-26T09:56:47.918Z"
   },
   {
    "duration": 6,
    "start_time": "2022-07-26T09:56:47.933Z"
   },
   {
    "duration": 25,
    "start_time": "2022-07-26T09:56:47.941Z"
   },
   {
    "duration": 12,
    "start_time": "2022-07-26T09:56:47.968Z"
   },
   {
    "duration": 5,
    "start_time": "2022-07-26T09:56:47.982Z"
   },
   {
    "duration": 17,
    "start_time": "2022-07-26T09:56:47.988Z"
   },
   {
    "duration": 1163,
    "start_time": "2022-07-26T09:56:51.500Z"
   },
   {
    "duration": 21,
    "start_time": "2022-07-26T09:57:04.471Z"
   },
   {
    "duration": 26,
    "start_time": "2022-07-26T09:57:12.848Z"
   },
   {
    "duration": 21,
    "start_time": "2022-07-26T09:57:20.272Z"
   },
   {
    "duration": 22,
    "start_time": "2022-07-26T09:58:18.917Z"
   },
   {
    "duration": 17,
    "start_time": "2022-07-26T09:58:36.490Z"
   },
   {
    "duration": 20,
    "start_time": "2022-07-26T09:58:39.605Z"
   },
   {
    "duration": 19,
    "start_time": "2022-07-26T09:59:06.510Z"
   },
   {
    "duration": 22,
    "start_time": "2022-07-26T09:59:14.870Z"
   },
   {
    "duration": 207,
    "start_time": "2022-07-26T09:59:28.658Z"
   },
   {
    "duration": 30,
    "start_time": "2022-07-26T09:59:33.240Z"
   },
   {
    "duration": 36,
    "start_time": "2022-07-26T10:00:34.443Z"
   },
   {
    "duration": 34,
    "start_time": "2022-07-26T10:01:00.270Z"
   },
   {
    "duration": 19,
    "start_time": "2022-07-26T10:01:09.676Z"
   },
   {
    "duration": 19,
    "start_time": "2022-07-26T10:01:12.012Z"
   },
   {
    "duration": 28,
    "start_time": "2022-07-26T10:01:36.068Z"
   },
   {
    "duration": 25,
    "start_time": "2022-07-26T10:02:04.680Z"
   },
   {
    "duration": 1100,
    "start_time": "2022-07-26T10:02:34.985Z"
   },
   {
    "duration": 17,
    "start_time": "2022-07-26T10:02:40.194Z"
   },
   {
    "duration": 19,
    "start_time": "2022-07-26T10:02:48.736Z"
   },
   {
    "duration": 24,
    "start_time": "2022-07-26T10:03:03.688Z"
   },
   {
    "duration": 17,
    "start_time": "2022-07-26T10:03:09.872Z"
   },
   {
    "duration": 16,
    "start_time": "2022-07-26T10:03:20.527Z"
   },
   {
    "duration": 16,
    "start_time": "2022-07-26T10:03:24.122Z"
   },
   {
    "duration": 22,
    "start_time": "2022-07-26T10:03:27.409Z"
   },
   {
    "duration": 21,
    "start_time": "2022-07-26T10:04:20.722Z"
   },
   {
    "duration": 4,
    "start_time": "2022-07-26T10:04:34.523Z"
   },
   {
    "duration": 25,
    "start_time": "2022-07-26T10:04:38.788Z"
   },
   {
    "duration": 25,
    "start_time": "2022-07-26T10:04:54.851Z"
   },
   {
    "duration": 25,
    "start_time": "2022-07-26T10:05:31.242Z"
   },
   {
    "duration": 30,
    "start_time": "2022-07-26T10:07:08.869Z"
   },
   {
    "duration": 22,
    "start_time": "2022-07-26T10:08:46.420Z"
   },
   {
    "duration": 323,
    "start_time": "2022-07-26T10:08:53.818Z"
   },
   {
    "duration": 23,
    "start_time": "2022-07-26T10:09:03.469Z"
   },
   {
    "duration": 25,
    "start_time": "2022-07-26T10:09:28.489Z"
   },
   {
    "duration": 22,
    "start_time": "2022-07-26T10:10:10.188Z"
   },
   {
    "duration": 22,
    "start_time": "2022-07-26T10:10:17.409Z"
   },
   {
    "duration": 26,
    "start_time": "2022-07-26T10:10:27.020Z"
   },
   {
    "duration": 30,
    "start_time": "2022-07-26T10:10:32.892Z"
   },
   {
    "duration": 25,
    "start_time": "2022-07-26T10:11:32.900Z"
   },
   {
    "duration": 26,
    "start_time": "2022-07-26T10:11:35.493Z"
   },
   {
    "duration": 37,
    "start_time": "2022-07-26T10:13:07.363Z"
   },
   {
    "duration": 26,
    "start_time": "2022-07-26T10:13:18.482Z"
   },
   {
    "duration": 24,
    "start_time": "2022-07-26T10:13:29.075Z"
   },
   {
    "duration": 26,
    "start_time": "2022-07-26T10:13:33.613Z"
   },
   {
    "duration": 22,
    "start_time": "2022-07-26T10:13:36.324Z"
   },
   {
    "duration": 46,
    "start_time": "2022-07-26T10:56:44.363Z"
   },
   {
    "duration": 4,
    "start_time": "2022-07-26T10:57:13.535Z"
   },
   {
    "duration": 4,
    "start_time": "2022-07-26T10:57:17.400Z"
   },
   {
    "duration": 65,
    "start_time": "2022-07-26T10:57:20.629Z"
   },
   {
    "duration": 59,
    "start_time": "2022-07-26T10:57:50.821Z"
   },
   {
    "duration": 59,
    "start_time": "2022-07-26T10:57:54.704Z"
   },
   {
    "duration": 62,
    "start_time": "2022-07-26T10:57:57.726Z"
   },
   {
    "duration": 67,
    "start_time": "2022-07-26T10:58:08.495Z"
   },
   {
    "duration": 74,
    "start_time": "2022-07-26T10:59:28.213Z"
   },
   {
    "duration": 35,
    "start_time": "2022-07-26T10:59:40.302Z"
   },
   {
    "duration": 34,
    "start_time": "2022-07-26T10:59:43.124Z"
   },
   {
    "duration": 23,
    "start_time": "2022-07-26T11:15:34.878Z"
   },
   {
    "duration": 23,
    "start_time": "2022-07-26T11:15:52.785Z"
   },
   {
    "duration": 56,
    "start_time": "2022-07-26T11:17:47.409Z"
   },
   {
    "duration": 57,
    "start_time": "2022-07-26T11:18:00.927Z"
   },
   {
    "duration": 24,
    "start_time": "2022-07-26T11:18:22.192Z"
   },
   {
    "duration": 19,
    "start_time": "2022-07-26T11:19:17.189Z"
   },
   {
    "duration": 23,
    "start_time": "2022-07-26T11:19:21.603Z"
   },
   {
    "duration": 28,
    "start_time": "2022-07-26T11:19:26.666Z"
   },
   {
    "duration": 28,
    "start_time": "2022-07-26T11:19:30.686Z"
   },
   {
    "duration": 25,
    "start_time": "2022-07-26T11:19:38.109Z"
   },
   {
    "duration": 36,
    "start_time": "2022-07-26T11:19:42.888Z"
   },
   {
    "duration": 35,
    "start_time": "2022-07-26T11:19:46.319Z"
   },
   {
    "duration": 24,
    "start_time": "2022-07-26T11:20:19.502Z"
   },
   {
    "duration": 37,
    "start_time": "2022-07-26T11:21:06.349Z"
   },
   {
    "duration": 1125,
    "start_time": "2022-07-26T11:22:03.702Z"
   },
   {
    "duration": 33,
    "start_time": "2022-07-26T11:27:40.987Z"
   },
   {
    "duration": 190,
    "start_time": "2022-07-26T11:27:48.133Z"
   },
   {
    "duration": 35,
    "start_time": "2022-07-26T11:27:58.252Z"
   },
   {
    "duration": 24,
    "start_time": "2022-07-26T11:29:03.479Z"
   },
   {
    "duration": 33,
    "start_time": "2022-07-26T11:29:07.479Z"
   },
   {
    "duration": 46,
    "start_time": "2022-07-26T11:31:09.985Z"
   },
   {
    "duration": 42,
    "start_time": "2022-07-26T11:31:27.975Z"
   },
   {
    "duration": 33,
    "start_time": "2022-07-26T11:32:54.670Z"
   },
   {
    "duration": 26,
    "start_time": "2022-07-26T11:33:07.633Z"
   },
   {
    "duration": 31,
    "start_time": "2022-07-26T11:33:13.808Z"
   },
   {
    "duration": 31,
    "start_time": "2022-07-26T11:34:25.360Z"
   },
   {
    "duration": 20,
    "start_time": "2022-07-26T11:34:33.670Z"
   },
   {
    "duration": 28,
    "start_time": "2022-07-26T11:34:41.832Z"
   },
   {
    "duration": 19,
    "start_time": "2022-07-26T11:35:45.144Z"
   },
   {
    "duration": 22,
    "start_time": "2022-07-26T11:35:49.150Z"
   },
   {
    "duration": 14,
    "start_time": "2022-07-26T11:35:54.108Z"
   },
   {
    "duration": 8,
    "start_time": "2022-07-26T11:36:07.089Z"
   },
   {
    "duration": 23,
    "start_time": "2022-07-26T11:36:13.647Z"
   },
   {
    "duration": 24,
    "start_time": "2022-07-26T11:36:21.994Z"
   },
   {
    "duration": 17,
    "start_time": "2022-07-26T11:36:25.981Z"
   },
   {
    "duration": 15,
    "start_time": "2022-07-26T11:36:53.549Z"
   },
   {
    "duration": 16,
    "start_time": "2022-07-26T11:36:57.134Z"
   },
   {
    "duration": 24,
    "start_time": "2022-07-26T11:37:08.817Z"
   },
   {
    "duration": 16,
    "start_time": "2022-07-26T11:37:11.532Z"
   },
   {
    "duration": 15,
    "start_time": "2022-07-26T11:41:53.876Z"
   },
   {
    "duration": 22,
    "start_time": "2022-07-26T11:43:04.234Z"
   },
   {
    "duration": 16,
    "start_time": "2022-07-26T11:43:20.571Z"
   },
   {
    "duration": 25,
    "start_time": "2022-07-26T11:43:25.360Z"
   },
   {
    "duration": 15,
    "start_time": "2022-07-26T11:43:30.747Z"
   },
   {
    "duration": 15,
    "start_time": "2022-07-26T11:44:15.519Z"
   },
   {
    "duration": 9,
    "start_time": "2022-07-26T11:44:25.436Z"
   },
   {
    "duration": 15,
    "start_time": "2022-07-26T11:44:38.638Z"
   },
   {
    "duration": 12,
    "start_time": "2022-07-26T11:44:41.252Z"
   },
   {
    "duration": 15,
    "start_time": "2022-07-26T11:45:22.480Z"
   },
   {
    "duration": 80,
    "start_time": "2022-07-26T11:46:46.384Z"
   },
   {
    "duration": 15,
    "start_time": "2022-07-26T11:46:56.898Z"
   },
   {
    "duration": 20,
    "start_time": "2022-07-26T11:47:02.377Z"
   },
   {
    "duration": 20,
    "start_time": "2022-07-26T11:47:05.222Z"
   },
   {
    "duration": 20,
    "start_time": "2022-07-26T11:47:35.836Z"
   },
   {
    "duration": 19,
    "start_time": "2022-07-26T11:47:41.432Z"
   },
   {
    "duration": 23,
    "start_time": "2022-07-26T11:47:50.300Z"
   },
   {
    "duration": 16,
    "start_time": "2022-07-26T11:47:56.369Z"
   },
   {
    "duration": 19,
    "start_time": "2022-07-26T11:48:12.240Z"
   },
   {
    "duration": 17,
    "start_time": "2022-07-26T11:48:38.185Z"
   },
   {
    "duration": 21,
    "start_time": "2022-07-26T11:48:53.785Z"
   },
   {
    "duration": 19,
    "start_time": "2022-07-26T11:48:55.975Z"
   },
   {
    "duration": 20,
    "start_time": "2022-07-26T11:51:23.834Z"
   },
   {
    "duration": 725,
    "start_time": "2022-07-26T11:52:29.832Z"
   },
   {
    "duration": 110,
    "start_time": "2022-07-26T11:52:57.671Z"
   },
   {
    "duration": 108,
    "start_time": "2022-07-26T11:54:23.995Z"
   },
   {
    "duration": 87,
    "start_time": "2022-07-26T11:55:20.450Z"
   },
   {
    "duration": 94,
    "start_time": "2022-07-26T11:55:40.388Z"
   },
   {
    "duration": 19,
    "start_time": "2022-07-26T11:55:58.034Z"
   },
   {
    "duration": 103,
    "start_time": "2022-07-26T11:56:05.660Z"
   },
   {
    "duration": 111,
    "start_time": "2022-07-26T11:56:45.058Z"
   },
   {
    "duration": 93,
    "start_time": "2022-07-26T11:57:20.712Z"
   },
   {
    "duration": 104,
    "start_time": "2022-07-26T11:57:39.135Z"
   },
   {
    "duration": 122,
    "start_time": "2022-07-26T11:57:46.216Z"
   },
   {
    "duration": 100,
    "start_time": "2022-07-26T11:58:01.227Z"
   },
   {
    "duration": 20,
    "start_time": "2022-07-26T11:58:39.299Z"
   },
   {
    "duration": 81,
    "start_time": "2022-07-26T11:58:57.126Z"
   },
   {
    "duration": 1144,
    "start_time": "2022-07-26T12:01:46.470Z"
   },
   {
    "duration": 6,
    "start_time": "2022-07-26T12:01:49.133Z"
   },
   {
    "duration": 69,
    "start_time": "2022-07-26T12:04:10.436Z"
   },
   {
    "duration": 3,
    "start_time": "2022-07-26T12:04:14.956Z"
   },
   {
    "duration": 7,
    "start_time": "2022-07-26T12:04:17.457Z"
   },
   {
    "duration": 96,
    "start_time": "2022-07-26T12:04:46.862Z"
   },
   {
    "duration": 6,
    "start_time": "2022-07-26T12:05:17.417Z"
   },
   {
    "duration": 7,
    "start_time": "2022-07-26T12:05:24.994Z"
   },
   {
    "duration": 8,
    "start_time": "2022-07-26T12:05:33.166Z"
   },
   {
    "duration": 6,
    "start_time": "2022-07-26T12:05:41.135Z"
   },
   {
    "duration": 8,
    "start_time": "2022-07-26T12:05:44.669Z"
   },
   {
    "duration": 9,
    "start_time": "2022-07-26T12:05:50.915Z"
   },
   {
    "duration": 6,
    "start_time": "2022-07-26T12:05:54.708Z"
   },
   {
    "duration": 9,
    "start_time": "2022-07-26T12:06:00.574Z"
   },
   {
    "duration": 6,
    "start_time": "2022-07-26T12:06:14.655Z"
   },
   {
    "duration": 6,
    "start_time": "2022-07-26T12:06:29.702Z"
   },
   {
    "duration": 8,
    "start_time": "2022-07-26T12:06:34.515Z"
   },
   {
    "duration": 5,
    "start_time": "2022-07-26T12:07:02.630Z"
   },
   {
    "duration": 8,
    "start_time": "2022-07-26T12:07:07.317Z"
   },
   {
    "duration": 8,
    "start_time": "2022-07-26T12:07:10.043Z"
   },
   {
    "duration": 6,
    "start_time": "2022-07-26T12:07:24.102Z"
   },
   {
    "duration": 104,
    "start_time": "2022-07-26T12:08:00.364Z"
   },
   {
    "duration": 99,
    "start_time": "2022-07-26T12:08:04.203Z"
   },
   {
    "duration": 5,
    "start_time": "2022-07-26T12:08:07.488Z"
   },
   {
    "duration": 10,
    "start_time": "2022-07-26T12:08:21.620Z"
   },
   {
    "duration": 115,
    "start_time": "2022-07-26T12:08:31.269Z"
   },
   {
    "duration": 6,
    "start_time": "2022-07-26T12:12:13.829Z"
   },
   {
    "duration": 100,
    "start_time": "2022-07-26T12:13:11.099Z"
   },
   {
    "duration": 11,
    "start_time": "2022-07-26T12:13:52.096Z"
   },
   {
    "duration": 7,
    "start_time": "2022-07-26T12:14:02.585Z"
   },
   {
    "duration": 37,
    "start_time": "2022-07-26T12:16:11.863Z"
   },
   {
    "duration": 1287,
    "start_time": "2022-07-26T12:17:00.795Z"
   },
   {
    "duration": 72,
    "start_time": "2022-07-26T12:17:12.175Z"
   },
   {
    "duration": 30,
    "start_time": "2022-07-26T12:17:16.196Z"
   },
   {
    "duration": 21,
    "start_time": "2022-07-26T12:17:32.829Z"
   },
   {
    "duration": 18,
    "start_time": "2022-07-26T12:18:08.639Z"
   },
   {
    "duration": 1256,
    "start_time": "2022-07-26T12:18:19.448Z"
   },
   {
    "duration": 44,
    "start_time": "2022-07-26T12:18:36.502Z"
   },
   {
    "duration": 1262,
    "start_time": "2022-07-26T12:19:02.029Z"
   },
   {
    "duration": 23,
    "start_time": "2022-07-26T12:19:05.638Z"
   },
   {
    "duration": 19,
    "start_time": "2022-07-26T12:20:18.952Z"
   },
   {
    "duration": 21,
    "start_time": "2022-07-26T12:20:32.722Z"
   },
   {
    "duration": 134,
    "start_time": "2022-07-26T12:21:03.631Z"
   },
   {
    "duration": 152,
    "start_time": "2022-07-26T12:21:31.378Z"
   },
   {
    "duration": 175,
    "start_time": "2022-07-26T12:21:49.223Z"
   },
   {
    "duration": 117,
    "start_time": "2022-07-26T12:23:45.712Z"
   },
   {
    "duration": 139,
    "start_time": "2022-07-26T12:23:51.102Z"
   },
   {
    "duration": 134,
    "start_time": "2022-07-26T12:24:00.220Z"
   },
   {
    "duration": 118,
    "start_time": "2022-07-26T12:24:59.816Z"
   },
   {
    "duration": 120,
    "start_time": "2022-07-26T12:25:06.993Z"
   },
   {
    "duration": 18,
    "start_time": "2022-07-26T12:27:18.562Z"
   },
   {
    "duration": 173,
    "start_time": "2022-07-26T12:27:26.023Z"
   },
   {
    "duration": 1202,
    "start_time": "2022-07-26T12:27:54.445Z"
   },
   {
    "duration": 1205,
    "start_time": "2022-07-26T12:28:25.224Z"
   },
   {
    "duration": 4,
    "start_time": "2022-07-26T12:28:32.253Z"
   },
   {
    "duration": 17,
    "start_time": "2022-07-26T12:29:07.106Z"
   },
   {
    "duration": 112,
    "start_time": "2022-07-26T12:29:24.990Z"
   },
   {
    "duration": 97,
    "start_time": "2022-07-26T12:29:31.922Z"
   },
   {
    "duration": 88,
    "start_time": "2022-07-26T12:29:45.147Z"
   },
   {
    "duration": 42,
    "start_time": "2022-07-26T12:33:36.444Z"
   },
   {
    "duration": 125,
    "start_time": "2022-07-26T12:33:58.355Z"
   },
   {
    "duration": 142,
    "start_time": "2022-07-26T12:34:34.688Z"
   },
   {
    "duration": 150,
    "start_time": "2022-07-26T12:34:40.386Z"
   },
   {
    "duration": 326,
    "start_time": "2022-07-26T12:34:56.305Z"
   },
   {
    "duration": 159,
    "start_time": "2022-07-26T12:35:07.396Z"
   },
   {
    "duration": 136,
    "start_time": "2022-07-26T12:35:13.281Z"
   },
   {
    "duration": 165,
    "start_time": "2022-07-26T12:35:21.059Z"
   },
   {
    "duration": 18,
    "start_time": "2022-07-26T12:35:40.813Z"
   },
   {
    "duration": 109,
    "start_time": "2022-07-26T12:35:44.277Z"
   },
   {
    "duration": 123,
    "start_time": "2022-07-26T12:37:00.160Z"
   },
   {
    "duration": 126,
    "start_time": "2022-07-26T12:38:52.129Z"
   },
   {
    "duration": 102,
    "start_time": "2022-07-26T12:40:06.760Z"
   },
   {
    "duration": 13,
    "start_time": "2022-07-26T12:40:20.221Z"
   },
   {
    "duration": 135,
    "start_time": "2022-07-26T12:41:56.005Z"
   },
   {
    "duration": 116,
    "start_time": "2022-07-26T12:44:43.257Z"
   },
   {
    "duration": 127,
    "start_time": "2022-07-26T12:44:47.438Z"
   },
   {
    "duration": 21,
    "start_time": "2022-07-26T12:45:29.966Z"
   },
   {
    "duration": 24,
    "start_time": "2022-07-26T12:45:39.572Z"
   },
   {
    "duration": 18,
    "start_time": "2022-07-26T12:45:53.316Z"
   },
   {
    "duration": 21,
    "start_time": "2022-07-26T12:45:59.542Z"
   },
   {
    "duration": 395,
    "start_time": "2022-07-26T12:47:32.538Z"
   },
   {
    "duration": 19,
    "start_time": "2022-07-26T12:47:40.944Z"
   },
   {
    "duration": 27,
    "start_time": "2022-07-26T12:47:47.785Z"
   },
   {
    "duration": 20,
    "start_time": "2022-07-26T12:48:18.489Z"
   },
   {
    "duration": 16,
    "start_time": "2022-07-26T12:48:37.379Z"
   },
   {
    "duration": 22,
    "start_time": "2022-07-26T12:48:59.253Z"
   },
   {
    "duration": 17,
    "start_time": "2022-07-26T12:51:00.606Z"
   },
   {
    "duration": 25,
    "start_time": "2022-07-26T12:51:06.247Z"
   },
   {
    "duration": 18,
    "start_time": "2022-07-26T12:51:40.645Z"
   },
   {
    "duration": 16,
    "start_time": "2022-07-26T12:51:45.408Z"
   },
   {
    "duration": 16,
    "start_time": "2022-07-26T12:52:03.122Z"
   },
   {
    "duration": 15,
    "start_time": "2022-07-26T12:52:28.638Z"
   },
   {
    "duration": 13,
    "start_time": "2022-07-26T12:52:33.667Z"
   },
   {
    "duration": 13,
    "start_time": "2022-07-26T12:52:46.398Z"
   },
   {
    "duration": 21,
    "start_time": "2022-07-26T12:52:50.697Z"
   },
   {
    "duration": 28,
    "start_time": "2022-07-26T12:52:56.479Z"
   },
   {
    "duration": 21,
    "start_time": "2022-07-26T12:53:00.252Z"
   },
   {
    "duration": 13,
    "start_time": "2022-07-26T12:53:05.196Z"
   },
   {
    "duration": 24,
    "start_time": "2022-07-26T12:53:14.809Z"
   },
   {
    "duration": 17,
    "start_time": "2022-07-26T12:53:24.642Z"
   },
   {
    "duration": 15,
    "start_time": "2022-07-26T12:53:52.465Z"
   },
   {
    "duration": 25,
    "start_time": "2022-07-26T12:57:57.188Z"
   },
   {
    "duration": 25,
    "start_time": "2022-07-26T12:58:10.590Z"
   },
   {
    "duration": 20,
    "start_time": "2022-07-26T12:58:16.723Z"
   },
   {
    "duration": 22,
    "start_time": "2022-07-26T12:58:22.762Z"
   },
   {
    "duration": 20,
    "start_time": "2022-07-26T12:58:44.496Z"
   },
   {
    "duration": 23,
    "start_time": "2022-07-26T12:58:47.276Z"
   },
   {
    "duration": 21,
    "start_time": "2022-07-26T12:59:02.100Z"
   },
   {
    "duration": 16,
    "start_time": "2022-07-26T12:59:05.306Z"
   },
   {
    "duration": 129,
    "start_time": "2022-07-26T12:59:45.224Z"
   },
   {
    "duration": 19,
    "start_time": "2022-07-26T13:00:07.012Z"
   },
   {
    "duration": 145,
    "start_time": "2022-07-26T13:00:12.545Z"
   },
   {
    "duration": 197,
    "start_time": "2022-07-26T13:00:15.837Z"
   },
   {
    "duration": 129,
    "start_time": "2022-07-26T13:00:31.395Z"
   },
   {
    "duration": 156,
    "start_time": "2022-07-26T13:00:36.939Z"
   },
   {
    "duration": 182,
    "start_time": "2022-07-26T13:00:51.426Z"
   },
   {
    "duration": 136,
    "start_time": "2022-07-26T13:01:17.060Z"
   },
   {
    "duration": 142,
    "start_time": "2022-07-26T13:01:22.474Z"
   },
   {
    "duration": 136,
    "start_time": "2022-07-26T13:01:26.960Z"
   },
   {
    "duration": 120,
    "start_time": "2022-07-26T13:01:46.691Z"
   },
   {
    "duration": 129,
    "start_time": "2022-07-26T13:03:08.928Z"
   },
   {
    "duration": 27,
    "start_time": "2022-07-26T13:03:13.538Z"
   },
   {
    "duration": 331,
    "start_time": "2022-07-26T13:03:14.794Z"
   },
   {
    "duration": 138,
    "start_time": "2022-07-26T13:03:16.386Z"
   },
   {
    "duration": 6,
    "start_time": "2022-07-26T13:03:17.710Z"
   },
   {
    "duration": 124,
    "start_time": "2022-07-26T13:03:18.915Z"
   },
   {
    "duration": 6,
    "start_time": "2022-07-26T13:03:21.441Z"
   },
   {
    "duration": 26,
    "start_time": "2022-07-26T13:03:51.814Z"
   },
   {
    "duration": 144,
    "start_time": "2022-07-26T13:04:02.452Z"
   },
   {
    "duration": 119,
    "start_time": "2022-07-26T13:04:23.676Z"
   },
   {
    "duration": 18,
    "start_time": "2022-07-26T13:04:25.597Z"
   },
   {
    "duration": 30,
    "start_time": "2022-07-26T13:06:37.546Z"
   },
   {
    "duration": 116,
    "start_time": "2022-07-26T13:07:02.987Z"
   },
   {
    "duration": 136,
    "start_time": "2022-07-26T13:08:10.772Z"
   },
   {
    "duration": 130,
    "start_time": "2022-07-26T13:08:17.837Z"
   },
   {
    "duration": 119,
    "start_time": "2022-07-26T13:08:22.985Z"
   },
   {
    "duration": 120,
    "start_time": "2022-07-26T13:08:26.872Z"
   },
   {
    "duration": 160,
    "start_time": "2022-07-26T13:09:10.250Z"
   },
   {
    "duration": 142,
    "start_time": "2022-07-26T13:09:13.338Z"
   },
   {
    "duration": 188,
    "start_time": "2022-07-26T13:09:18.837Z"
   },
   {
    "duration": 286,
    "start_time": "2022-07-26T13:09:31.081Z"
   },
   {
    "duration": 209,
    "start_time": "2022-07-26T13:09:37.073Z"
   },
   {
    "duration": 225,
    "start_time": "2022-07-26T13:09:42.700Z"
   },
   {
    "duration": 493,
    "start_time": "2022-07-26T13:09:48.078Z"
   },
   {
    "duration": 152,
    "start_time": "2022-07-26T13:10:02.274Z"
   },
   {
    "duration": 98,
    "start_time": "2022-07-26T13:10:05.380Z"
   },
   {
    "duration": 120,
    "start_time": "2022-07-26T13:13:04.685Z"
   },
   {
    "duration": 455,
    "start_time": "2022-07-26T13:13:23.457Z"
   },
   {
    "duration": 20,
    "start_time": "2022-07-26T13:13:23.914Z"
   },
   {
    "duration": 13,
    "start_time": "2022-07-26T13:13:23.936Z"
   },
   {
    "duration": 18,
    "start_time": "2022-07-26T13:13:23.950Z"
   },
   {
    "duration": 33,
    "start_time": "2022-07-26T13:13:23.970Z"
   },
   {
    "duration": 3,
    "start_time": "2022-07-26T13:13:24.004Z"
   },
   {
    "duration": 15,
    "start_time": "2022-07-26T13:13:24.008Z"
   },
   {
    "duration": 4,
    "start_time": "2022-07-26T13:13:24.024Z"
   },
   {
    "duration": 27,
    "start_time": "2022-07-26T13:13:24.030Z"
   },
   {
    "duration": 9,
    "start_time": "2022-07-26T13:13:24.062Z"
   },
   {
    "duration": 30,
    "start_time": "2022-07-26T13:13:24.072Z"
   },
   {
    "duration": 9,
    "start_time": "2022-07-26T13:13:24.103Z"
   },
   {
    "duration": 3,
    "start_time": "2022-07-26T13:13:24.113Z"
   },
   {
    "duration": 42,
    "start_time": "2022-07-26T13:13:24.119Z"
   },
   {
    "duration": 16,
    "start_time": "2022-07-26T13:13:24.166Z"
   },
   {
    "duration": 10,
    "start_time": "2022-07-26T13:13:24.184Z"
   },
   {
    "duration": 10,
    "start_time": "2022-07-26T13:13:24.196Z"
   },
   {
    "duration": 11,
    "start_time": "2022-07-26T13:13:24.207Z"
   },
   {
    "duration": 5,
    "start_time": "2022-07-26T13:13:24.220Z"
   },
   {
    "duration": 30,
    "start_time": "2022-07-26T13:13:24.227Z"
   },
   {
    "duration": 18,
    "start_time": "2022-07-26T13:13:24.258Z"
   },
   {
    "duration": 759,
    "start_time": "2022-07-26T13:13:24.277Z"
   },
   {
    "duration": 139,
    "start_time": "2022-07-26T13:13:25.038Z"
   },
   {
    "duration": 105,
    "start_time": "2022-07-26T13:13:25.178Z"
   },
   {
    "duration": 188,
    "start_time": "2022-07-26T13:13:25.284Z"
   },
   {
    "duration": 112,
    "start_time": "2022-07-26T13:13:25.474Z"
   },
   {
    "duration": 6,
    "start_time": "2022-07-26T13:13:25.588Z"
   },
   {
    "duration": 24,
    "start_time": "2022-07-26T13:13:25.596Z"
   },
   {
    "duration": 226,
    "start_time": "2022-07-26T13:13:27.399Z"
   },
   {
    "duration": 229,
    "start_time": "2022-07-26T13:13:30.820Z"
   },
   {
    "duration": 134,
    "start_time": "2022-07-26T13:13:41.303Z"
   },
   {
    "duration": 123,
    "start_time": "2022-07-26T13:13:45.760Z"
   },
   {
    "duration": 158,
    "start_time": "2022-07-26T13:15:05.117Z"
   },
   {
    "duration": 164,
    "start_time": "2022-07-26T13:15:09.754Z"
   },
   {
    "duration": 144,
    "start_time": "2022-07-26T13:15:11.638Z"
   },
   {
    "duration": 162,
    "start_time": "2022-07-26T13:15:13.354Z"
   },
   {
    "duration": 151,
    "start_time": "2022-07-26T13:15:14.726Z"
   },
   {
    "duration": 205,
    "start_time": "2022-07-26T13:15:16.053Z"
   },
   {
    "duration": 153,
    "start_time": "2022-07-26T13:15:18.018Z"
   },
   {
    "duration": 156,
    "start_time": "2022-07-26T13:15:19.538Z"
   },
   {
    "duration": 93,
    "start_time": "2022-07-26T13:15:23.296Z"
   },
   {
    "duration": 248,
    "start_time": "2022-07-26T13:15:26.548Z"
   },
   {
    "duration": 164,
    "start_time": "2022-07-26T13:15:29.403Z"
   },
   {
    "duration": 254,
    "start_time": "2022-07-26T13:15:32.208Z"
   },
   {
    "duration": 233,
    "start_time": "2022-07-26T13:15:34.340Z"
   },
   {
    "duration": 222,
    "start_time": "2022-07-26T13:15:36.422Z"
   },
   {
    "duration": 230,
    "start_time": "2022-07-26T13:15:38.162Z"
   },
   {
    "duration": 153,
    "start_time": "2022-07-26T13:15:41.672Z"
   },
   {
    "duration": 174,
    "start_time": "2022-07-26T13:15:46.926Z"
   },
   {
    "duration": 183,
    "start_time": "2022-07-26T13:15:54.031Z"
   },
   {
    "duration": 156,
    "start_time": "2022-07-26T13:15:59.283Z"
   },
   {
    "duration": 170,
    "start_time": "2022-07-26T13:16:10.717Z"
   },
   {
    "duration": 154,
    "start_time": "2022-07-26T13:16:14.765Z"
   },
   {
    "duration": 164,
    "start_time": "2022-07-26T13:16:17.044Z"
   },
   {
    "duration": 149,
    "start_time": "2022-07-26T13:16:19.076Z"
   },
   {
    "duration": 184,
    "start_time": "2022-07-26T13:16:22.238Z"
   },
   {
    "duration": 166,
    "start_time": "2022-07-26T13:16:25.820Z"
   },
   {
    "duration": 287,
    "start_time": "2022-07-26T13:16:34.990Z"
   },
   {
    "duration": 174,
    "start_time": "2022-07-26T13:16:49.029Z"
   },
   {
    "duration": 170,
    "start_time": "2022-07-26T13:16:55.868Z"
   },
   {
    "duration": 156,
    "start_time": "2022-07-26T13:17:02.237Z"
   },
   {
    "duration": 181,
    "start_time": "2022-07-26T13:17:06.142Z"
   },
   {
    "duration": 178,
    "start_time": "2022-07-26T13:17:09.102Z"
   },
   {
    "duration": 194,
    "start_time": "2022-07-26T13:17:15.078Z"
   },
   {
    "duration": 200,
    "start_time": "2022-07-26T13:17:30.771Z"
   },
   {
    "duration": 175,
    "start_time": "2022-07-26T13:17:34.493Z"
   },
   {
    "duration": 151,
    "start_time": "2022-07-26T13:17:38.583Z"
   },
   {
    "duration": 153,
    "start_time": "2022-07-26T13:17:48.663Z"
   },
   {
    "duration": 154,
    "start_time": "2022-07-26T13:17:50.805Z"
   },
   {
    "duration": 181,
    "start_time": "2022-07-26T13:17:55.038Z"
   },
   {
    "duration": 155,
    "start_time": "2022-07-26T13:18:02.988Z"
   },
   {
    "duration": 185,
    "start_time": "2022-07-26T13:18:06.239Z"
   },
   {
    "duration": 157,
    "start_time": "2022-07-26T13:18:10.019Z"
   },
   {
    "duration": 152,
    "start_time": "2022-07-26T13:18:11.982Z"
   },
   {
    "duration": 149,
    "start_time": "2022-07-26T13:18:17.738Z"
   },
   {
    "duration": 191,
    "start_time": "2022-07-26T13:18:24.605Z"
   },
   {
    "duration": 152,
    "start_time": "2022-07-26T13:18:28.069Z"
   },
   {
    "duration": 302,
    "start_time": "2022-07-26T13:18:30.199Z"
   },
   {
    "duration": 150,
    "start_time": "2022-07-26T13:18:34.845Z"
   },
   {
    "duration": 4,
    "start_time": "2022-07-26T13:19:39.769Z"
   },
   {
    "duration": 6,
    "start_time": "2022-07-26T13:19:52.767Z"
   },
   {
    "duration": 3,
    "start_time": "2022-07-26T13:20:07.372Z"
   },
   {
    "duration": 3,
    "start_time": "2022-07-26T13:20:21.195Z"
   },
   {
    "duration": 8,
    "start_time": "2022-07-26T13:20:31.763Z"
   },
   {
    "duration": 19,
    "start_time": "2022-07-26T13:20:35.822Z"
   },
   {
    "duration": 3,
    "start_time": "2022-07-26T13:21:43.942Z"
   },
   {
    "duration": 4,
    "start_time": "2022-07-26T13:21:44.612Z"
   },
   {
    "duration": 22,
    "start_time": "2022-07-26T13:21:45.638Z"
   },
   {
    "duration": 131,
    "start_time": "2022-07-26T13:21:46.790Z"
   },
   {
    "duration": 112,
    "start_time": "2022-07-26T13:21:57.162Z"
   },
   {
    "duration": 6,
    "start_time": "2022-07-26T13:21:57.832Z"
   },
   {
    "duration": 19,
    "start_time": "2022-07-26T13:21:58.978Z"
   },
   {
    "duration": 137,
    "start_time": "2022-07-26T13:21:59.567Z"
   },
   {
    "duration": 464,
    "start_time": "2022-07-26T13:22:08.716Z"
   },
   {
    "duration": 22,
    "start_time": "2022-07-26T13:22:09.181Z"
   },
   {
    "duration": 14,
    "start_time": "2022-07-26T13:22:09.204Z"
   },
   {
    "duration": 9,
    "start_time": "2022-07-26T13:22:09.220Z"
   },
   {
    "duration": 57,
    "start_time": "2022-07-26T13:22:09.231Z"
   },
   {
    "duration": 4,
    "start_time": "2022-07-26T13:22:09.289Z"
   },
   {
    "duration": 10,
    "start_time": "2022-07-26T13:22:09.294Z"
   },
   {
    "duration": 4,
    "start_time": "2022-07-26T13:22:09.305Z"
   },
   {
    "duration": 8,
    "start_time": "2022-07-26T13:22:09.311Z"
   },
   {
    "duration": 5,
    "start_time": "2022-07-26T13:22:09.321Z"
   },
   {
    "duration": 45,
    "start_time": "2022-07-26T13:22:09.356Z"
   },
   {
    "duration": 8,
    "start_time": "2022-07-26T13:22:09.402Z"
   },
   {
    "duration": 3,
    "start_time": "2022-07-26T13:22:09.412Z"
   },
   {
    "duration": 18,
    "start_time": "2022-07-26T13:22:09.416Z"
   },
   {
    "duration": 31,
    "start_time": "2022-07-26T13:22:09.436Z"
   },
   {
    "duration": 14,
    "start_time": "2022-07-26T13:22:09.468Z"
   },
   {
    "duration": 4,
    "start_time": "2022-07-26T13:22:09.484Z"
   },
   {
    "duration": 11,
    "start_time": "2022-07-26T13:22:09.490Z"
   },
   {
    "duration": 8,
    "start_time": "2022-07-26T13:22:09.502Z"
   },
   {
    "duration": 2,
    "start_time": "2022-07-26T13:22:09.512Z"
   },
   {
    "duration": 11,
    "start_time": "2022-07-26T13:22:09.515Z"
   },
   {
    "duration": 933,
    "start_time": "2022-07-26T13:22:09.527Z"
   },
   {
    "duration": 4,
    "start_time": "2022-07-26T13:22:10.461Z"
   },
   {
    "duration": 35,
    "start_time": "2022-07-26T13:22:10.466Z"
   },
   {
    "duration": 149,
    "start_time": "2022-07-26T13:22:10.502Z"
   },
   {
    "duration": 119,
    "start_time": "2022-07-26T13:22:10.659Z"
   },
   {
    "duration": 5,
    "start_time": "2022-07-26T13:22:10.779Z"
   },
   {
    "duration": 198,
    "start_time": "2022-07-26T13:22:10.786Z"
   },
   {
    "duration": 6,
    "start_time": "2022-07-26T13:22:10.985Z"
   },
   {
    "duration": 20,
    "start_time": "2022-07-26T13:22:10.992Z"
   },
   {
    "duration": 129,
    "start_time": "2022-07-26T13:22:12.198Z"
   },
   {
    "duration": 3,
    "start_time": "2022-07-26T13:22:19.408Z"
   },
   {
    "duration": 157,
    "start_time": "2022-07-26T13:22:24.626Z"
   },
   {
    "duration": 4,
    "start_time": "2022-07-26T13:22:32.115Z"
   },
   {
    "duration": 141,
    "start_time": "2022-07-26T13:22:36.251Z"
   },
   {
    "duration": 3,
    "start_time": "2022-07-26T13:22:47.693Z"
   },
   {
    "duration": 154,
    "start_time": "2022-07-26T13:22:52.642Z"
   },
   {
    "duration": 115,
    "start_time": "2022-07-26T13:23:02.167Z"
   },
   {
    "duration": 113,
    "start_time": "2022-07-26T13:23:07.884Z"
   },
   {
    "duration": 144,
    "start_time": "2022-07-26T13:23:11.021Z"
   },
   {
    "duration": 44,
    "start_time": "2022-07-26T13:23:17.699Z"
   },
   {
    "duration": 466,
    "start_time": "2022-07-26T13:23:19.878Z"
   },
   {
    "duration": 25,
    "start_time": "2022-07-26T13:23:20.581Z"
   },
   {
    "duration": 13,
    "start_time": "2022-07-26T13:23:20.608Z"
   },
   {
    "duration": 9,
    "start_time": "2022-07-26T13:23:20.623Z"
   },
   {
    "duration": 65,
    "start_time": "2022-07-26T13:23:20.635Z"
   },
   {
    "duration": 4,
    "start_time": "2022-07-26T13:23:20.702Z"
   },
   {
    "duration": 13,
    "start_time": "2022-07-26T13:23:20.707Z"
   },
   {
    "duration": 5,
    "start_time": "2022-07-26T13:23:20.721Z"
   },
   {
    "duration": 28,
    "start_time": "2022-07-26T13:23:20.728Z"
   },
   {
    "duration": 10,
    "start_time": "2022-07-26T13:23:20.758Z"
   },
   {
    "duration": 30,
    "start_time": "2022-07-26T13:23:20.770Z"
   },
   {
    "duration": 7,
    "start_time": "2022-07-26T13:23:20.802Z"
   },
   {
    "duration": 3,
    "start_time": "2022-07-26T13:23:20.811Z"
   },
   {
    "duration": 18,
    "start_time": "2022-07-26T13:23:20.815Z"
   },
   {
    "duration": 38,
    "start_time": "2022-07-26T13:23:20.835Z"
   },
   {
    "duration": 16,
    "start_time": "2022-07-26T13:23:20.875Z"
   },
   {
    "duration": 5,
    "start_time": "2022-07-26T13:23:20.893Z"
   },
   {
    "duration": 14,
    "start_time": "2022-07-26T13:23:20.899Z"
   },
   {
    "duration": 11,
    "start_time": "2022-07-26T13:23:20.914Z"
   },
   {
    "duration": 4,
    "start_time": "2022-07-26T13:23:20.927Z"
   },
   {
    "duration": 12,
    "start_time": "2022-07-26T13:23:20.952Z"
   },
   {
    "duration": 883,
    "start_time": "2022-07-26T13:23:20.965Z"
   },
   {
    "duration": 12,
    "start_time": "2022-07-26T13:23:21.850Z"
   },
   {
    "duration": 40,
    "start_time": "2022-07-26T13:23:21.865Z"
   },
   {
    "duration": 165,
    "start_time": "2022-07-26T13:23:22.834Z"
   },
   {
    "duration": 3,
    "start_time": "2022-07-26T13:23:33.115Z"
   },
   {
    "duration": 7,
    "start_time": "2022-07-26T13:23:34.683Z"
   },
   {
    "duration": 23,
    "start_time": "2022-07-26T13:23:35.348Z"
   },
   {
    "duration": 189,
    "start_time": "2022-07-26T13:23:36.087Z"
   },
   {
    "duration": 197,
    "start_time": "2022-07-26T13:23:42.423Z"
   },
   {
    "duration": 8,
    "start_time": "2022-07-26T13:23:44.053Z"
   },
   {
    "duration": 128,
    "start_time": "2022-07-26T13:23:45.217Z"
   },
   {
    "duration": 10,
    "start_time": "2022-07-26T13:23:50.754Z"
   },
   {
    "duration": 18,
    "start_time": "2022-07-26T13:25:14.172Z"
   },
   {
    "duration": 144,
    "start_time": "2022-07-26T13:25:16.355Z"
   },
   {
    "duration": 107,
    "start_time": "2022-07-26T13:25:37.802Z"
   },
   {
    "duration": 22,
    "start_time": "2022-07-26T13:25:41.715Z"
   },
   {
    "duration": 99,
    "start_time": "2022-07-26T13:25:47.131Z"
   },
   {
    "duration": 7,
    "start_time": "2022-07-26T13:26:08.106Z"
   },
   {
    "duration": 5,
    "start_time": "2022-07-26T13:26:11.975Z"
   },
   {
    "duration": 6,
    "start_time": "2022-07-26T13:26:14.364Z"
   },
   {
    "duration": 14,
    "start_time": "2022-07-26T13:26:23.961Z"
   },
   {
    "duration": 5,
    "start_time": "2022-07-26T13:27:46.803Z"
   },
   {
    "duration": 127,
    "start_time": "2022-07-26T13:27:55.677Z"
   },
   {
    "duration": 6,
    "start_time": "2022-07-26T13:28:04.914Z"
   },
   {
    "duration": 26,
    "start_time": "2022-07-26T13:28:15.016Z"
   },
   {
    "duration": 163,
    "start_time": "2022-07-26T13:28:23.799Z"
   },
   {
    "duration": 92,
    "start_time": "2022-07-26T13:28:30.878Z"
   },
   {
    "duration": 7,
    "start_time": "2022-07-26T13:28:44.666Z"
   },
   {
    "duration": 13,
    "start_time": "2022-07-26T13:29:00.471Z"
   },
   {
    "duration": 4,
    "start_time": "2022-07-26T14:08:57.702Z"
   },
   {
    "duration": 95,
    "start_time": "2022-07-26T14:10:06.937Z"
   },
   {
    "duration": 177,
    "start_time": "2022-07-26T14:10:43.423Z"
   },
   {
    "duration": 104,
    "start_time": "2022-07-26T14:10:48.704Z"
   },
   {
    "duration": 14,
    "start_time": "2022-07-26T14:10:55.753Z"
   },
   {
    "duration": 19,
    "start_time": "2022-07-26T14:11:34.047Z"
   },
   {
    "duration": 153,
    "start_time": "2022-07-26T14:12:30.335Z"
   },
   {
    "duration": 18,
    "start_time": "2022-07-26T14:19:55.545Z"
   },
   {
    "duration": 27,
    "start_time": "2022-07-26T14:21:29.708Z"
   },
   {
    "duration": 9,
    "start_time": "2022-07-26T14:21:31.932Z"
   },
   {
    "duration": 82,
    "start_time": "2022-07-26T14:21:35.233Z"
   },
   {
    "duration": 15,
    "start_time": "2022-07-26T14:21:35.317Z"
   },
   {
    "duration": 15,
    "start_time": "2022-07-26T14:21:35.351Z"
   },
   {
    "duration": 9,
    "start_time": "2022-07-26T14:21:35.368Z"
   },
   {
    "duration": 30,
    "start_time": "2022-07-26T14:21:35.378Z"
   },
   {
    "duration": 4,
    "start_time": "2022-07-26T14:21:35.409Z"
   },
   {
    "duration": 9,
    "start_time": "2022-07-26T14:21:35.414Z"
   },
   {
    "duration": 32,
    "start_time": "2022-07-26T14:21:35.424Z"
   },
   {
    "duration": 7,
    "start_time": "2022-07-26T14:21:35.457Z"
   },
   {
    "duration": 4,
    "start_time": "2022-07-26T14:21:35.466Z"
   },
   {
    "duration": 32,
    "start_time": "2022-07-26T14:21:35.471Z"
   },
   {
    "duration": 9,
    "start_time": "2022-07-26T14:21:35.505Z"
   },
   {
    "duration": 4,
    "start_time": "2022-07-26T14:21:35.515Z"
   },
   {
    "duration": 48,
    "start_time": "2022-07-26T14:21:35.520Z"
   },
   {
    "duration": 16,
    "start_time": "2022-07-26T14:21:35.569Z"
   },
   {
    "duration": 9,
    "start_time": "2022-07-26T14:21:35.587Z"
   },
   {
    "duration": 6,
    "start_time": "2022-07-26T14:21:35.597Z"
   },
   {
    "duration": 10,
    "start_time": "2022-07-26T14:21:35.605Z"
   },
   {
    "duration": 8,
    "start_time": "2022-07-26T14:21:35.617Z"
   },
   {
    "duration": 26,
    "start_time": "2022-07-26T14:21:35.627Z"
   },
   {
    "duration": 11,
    "start_time": "2022-07-26T14:21:35.655Z"
   },
   {
    "duration": 4,
    "start_time": "2022-07-26T14:21:35.668Z"
   },
   {
    "duration": 7,
    "start_time": "2022-07-26T14:21:35.673Z"
   },
   {
    "duration": 23,
    "start_time": "2022-07-26T14:21:35.682Z"
   },
   {
    "duration": 164,
    "start_time": "2022-07-26T14:21:35.707Z"
   },
   {
    "duration": 22,
    "start_time": "2022-07-26T14:21:35.873Z"
   },
   {
    "duration": 130,
    "start_time": "2022-07-26T14:21:35.896Z"
   },
   {
    "duration": 6,
    "start_time": "2022-07-26T14:21:36.030Z"
   },
   {
    "duration": 190,
    "start_time": "2022-07-26T14:21:36.037Z"
   },
   {
    "duration": 6,
    "start_time": "2022-07-26T14:21:36.229Z"
   },
   {
    "duration": 36,
    "start_time": "2022-07-26T14:21:36.237Z"
   },
   {
    "duration": 154,
    "start_time": "2022-07-26T14:21:36.274Z"
   },
   {
    "duration": 5,
    "start_time": "2022-07-26T14:21:36.430Z"
   },
   {
    "duration": 29,
    "start_time": "2022-07-26T14:21:36.436Z"
   },
   {
    "duration": 224,
    "start_time": "2022-07-26T14:21:36.467Z"
   },
   {
    "duration": 5,
    "start_time": "2022-07-26T14:21:46.012Z"
   },
   {
    "duration": 227,
    "start_time": "2022-07-26T14:24:08.770Z"
   },
   {
    "duration": 35,
    "start_time": "2022-07-26T14:24:41.185Z"
   },
   {
    "duration": 436,
    "start_time": "2022-07-26T14:24:53.047Z"
   },
   {
    "duration": 513,
    "start_time": "2022-07-26T14:25:25.180Z"
   },
   {
    "duration": 6,
    "start_time": "2022-07-26T14:25:59.521Z"
   },
   {
    "duration": 128,
    "start_time": "2022-07-26T14:28:18.076Z"
   },
   {
    "duration": 6,
    "start_time": "2022-07-26T14:28:20.999Z"
   },
   {
    "duration": 5,
    "start_time": "2022-07-26T14:28:30.703Z"
   },
   {
    "duration": 19,
    "start_time": "2022-07-26T14:28:43.744Z"
   },
   {
    "duration": 122,
    "start_time": "2022-07-26T14:28:44.122Z"
   },
   {
    "duration": 7,
    "start_time": "2022-07-26T14:28:44.686Z"
   },
   {
    "duration": 118,
    "start_time": "2022-07-26T14:35:05.447Z"
   },
   {
    "duration": 18,
    "start_time": "2022-07-26T14:35:06.389Z"
   },
   {
    "duration": 97,
    "start_time": "2022-07-26T14:35:07.627Z"
   },
   {
    "duration": 5,
    "start_time": "2022-07-26T14:35:10.240Z"
   },
   {
    "duration": 118,
    "start_time": "2022-07-26T14:35:12.474Z"
   },
   {
    "duration": 453,
    "start_time": "2022-07-26T14:35:22.732Z"
   },
   {
    "duration": 21,
    "start_time": "2022-07-26T14:35:23.187Z"
   },
   {
    "duration": 14,
    "start_time": "2022-07-26T14:35:23.210Z"
   },
   {
    "duration": 27,
    "start_time": "2022-07-26T14:35:23.226Z"
   },
   {
    "duration": 36,
    "start_time": "2022-07-26T14:35:23.255Z"
   },
   {
    "duration": 3,
    "start_time": "2022-07-26T14:35:23.292Z"
   },
   {
    "duration": 10,
    "start_time": "2022-07-26T14:35:23.296Z"
   },
   {
    "duration": 4,
    "start_time": "2022-07-26T14:35:23.308Z"
   },
   {
    "duration": 7,
    "start_time": "2022-07-26T14:35:23.314Z"
   },
   {
    "duration": 33,
    "start_time": "2022-07-26T14:35:23.322Z"
   },
   {
    "duration": 31,
    "start_time": "2022-07-26T14:35:23.356Z"
   },
   {
    "duration": 9,
    "start_time": "2022-07-26T14:35:23.389Z"
   },
   {
    "duration": 3,
    "start_time": "2022-07-26T14:35:23.401Z"
   },
   {
    "duration": 18,
    "start_time": "2022-07-26T14:35:23.405Z"
   },
   {
    "duration": 42,
    "start_time": "2022-07-26T14:35:23.424Z"
   },
   {
    "duration": 10,
    "start_time": "2022-07-26T14:35:23.468Z"
   },
   {
    "duration": 8,
    "start_time": "2022-07-26T14:35:23.480Z"
   },
   {
    "duration": 9,
    "start_time": "2022-07-26T14:35:23.490Z"
   },
   {
    "duration": 6,
    "start_time": "2022-07-26T14:35:23.501Z"
   },
   {
    "duration": 8,
    "start_time": "2022-07-26T14:35:23.508Z"
   },
   {
    "duration": 9,
    "start_time": "2022-07-26T14:35:23.517Z"
   },
   {
    "duration": 1351,
    "start_time": "2022-07-26T14:35:24.196Z"
   },
   {
    "duration": 4,
    "start_time": "2022-07-26T14:35:25.549Z"
   },
   {
    "duration": 32,
    "start_time": "2022-07-26T14:35:25.554Z"
   },
   {
    "duration": 165,
    "start_time": "2022-07-26T14:35:25.588Z"
   },
   {
    "duration": 28,
    "start_time": "2022-07-26T14:35:26.067Z"
   },
   {
    "duration": 105,
    "start_time": "2022-07-26T14:35:26.629Z"
   },
   {
    "duration": 5,
    "start_time": "2022-07-26T14:35:27.088Z"
   },
   {
    "duration": 201,
    "start_time": "2022-07-26T14:35:27.953Z"
   },
   {
    "duration": 6,
    "start_time": "2022-07-26T14:35:31.827Z"
   },
   {
    "duration": 18,
    "start_time": "2022-07-26T14:35:43.296Z"
   },
   {
    "duration": 131,
    "start_time": "2022-07-26T14:35:44.323Z"
   },
   {
    "duration": 22,
    "start_time": "2022-07-26T14:35:47.365Z"
   },
   {
    "duration": 122,
    "start_time": "2022-07-26T14:36:58.454Z"
   },
   {
    "duration": 19,
    "start_time": "2022-07-26T14:36:59.899Z"
   },
   {
    "duration": 106,
    "start_time": "2022-07-26T14:37:00.350Z"
   },
   {
    "duration": 5,
    "start_time": "2022-07-26T14:37:00.805Z"
   },
   {
    "duration": 115,
    "start_time": "2022-07-26T14:37:02.459Z"
   },
   {
    "duration": 5,
    "start_time": "2022-07-26T14:37:03.102Z"
   },
   {
    "duration": 24,
    "start_time": "2022-07-26T14:37:06.036Z"
   },
   {
    "duration": 131,
    "start_time": "2022-07-26T14:37:12.818Z"
   },
   {
    "duration": 5,
    "start_time": "2022-07-26T14:37:13.464Z"
   },
   {
    "duration": 18,
    "start_time": "2022-07-26T14:37:16.522Z"
   },
   {
    "duration": 124,
    "start_time": "2022-07-26T14:37:17.155Z"
   },
   {
    "duration": 73,
    "start_time": "2022-07-26T14:37:43.371Z"
   },
   {
    "duration": 115,
    "start_time": "2022-07-26T14:40:44.826Z"
   },
   {
    "duration": 20,
    "start_time": "2022-07-26T14:40:45.816Z"
   },
   {
    "duration": 113,
    "start_time": "2022-07-26T14:40:46.261Z"
   },
   {
    "duration": 5,
    "start_time": "2022-07-26T14:40:46.523Z"
   },
   {
    "duration": 152,
    "start_time": "2022-07-26T14:40:47.094Z"
   },
   {
    "duration": 6,
    "start_time": "2022-07-26T14:40:47.403Z"
   },
   {
    "duration": 24,
    "start_time": "2022-07-26T14:40:48.342Z"
   },
   {
    "duration": 149,
    "start_time": "2022-07-26T14:40:48.588Z"
   },
   {
    "duration": 7,
    "start_time": "2022-07-26T14:40:48.817Z"
   },
   {
    "duration": 21,
    "start_time": "2022-07-26T14:40:49.640Z"
   },
   {
    "duration": 123,
    "start_time": "2022-07-26T14:41:42.818Z"
   },
   {
    "duration": 5,
    "start_time": "2022-07-26T14:41:53.827Z"
   },
   {
    "duration": 19,
    "start_time": "2022-07-26T14:42:02.015Z"
   },
   {
    "duration": 130,
    "start_time": "2022-07-26T14:42:02.884Z"
   },
   {
    "duration": 5,
    "start_time": "2022-07-26T14:42:03.672Z"
   },
   {
    "duration": 18,
    "start_time": "2022-07-26T14:42:11.880Z"
   },
   {
    "duration": 132,
    "start_time": "2022-07-26T14:42:13.092Z"
   },
   {
    "duration": 196,
    "start_time": "2022-07-26T14:42:17.300Z"
   },
   {
    "duration": 5,
    "start_time": "2022-07-26T14:43:06.219Z"
   },
   {
    "duration": 5,
    "start_time": "2022-07-26T14:43:09.413Z"
   },
   {
    "duration": 25,
    "start_time": "2022-07-26T14:43:11.006Z"
   },
   {
    "duration": 123,
    "start_time": "2022-07-26T14:43:17.033Z"
   },
   {
    "duration": 5,
    "start_time": "2022-07-26T14:43:28.540Z"
   },
   {
    "duration": 18,
    "start_time": "2022-07-26T14:45:26.980Z"
   },
   {
    "duration": 120,
    "start_time": "2022-07-26T14:45:27.799Z"
   },
   {
    "duration": 5,
    "start_time": "2022-07-26T14:45:28.107Z"
   },
   {
    "duration": 20,
    "start_time": "2022-07-26T14:46:25.285Z"
   },
   {
    "duration": 20,
    "start_time": "2022-07-26T14:47:39.459Z"
   },
   {
    "duration": 123,
    "start_time": "2022-07-26T14:47:58.797Z"
   },
   {
    "duration": 3,
    "start_time": "2022-07-26T14:48:11.963Z"
   },
   {
    "duration": 65,
    "start_time": "2022-07-26T14:48:18.112Z"
   },
   {
    "duration": 14,
    "start_time": "2022-07-26T14:48:18.179Z"
   },
   {
    "duration": 14,
    "start_time": "2022-07-26T14:48:18.195Z"
   },
   {
    "duration": 8,
    "start_time": "2022-07-26T14:48:18.211Z"
   },
   {
    "duration": 54,
    "start_time": "2022-07-26T14:48:18.220Z"
   },
   {
    "duration": 3,
    "start_time": "2022-07-26T14:48:18.275Z"
   },
   {
    "duration": 10,
    "start_time": "2022-07-26T14:48:18.280Z"
   },
   {
    "duration": 4,
    "start_time": "2022-07-26T14:48:18.291Z"
   },
   {
    "duration": 9,
    "start_time": "2022-07-26T14:48:18.297Z"
   },
   {
    "duration": 5,
    "start_time": "2022-07-26T14:48:18.310Z"
   },
   {
    "duration": 61,
    "start_time": "2022-07-26T14:48:18.316Z"
   },
   {
    "duration": 8,
    "start_time": "2022-07-26T14:48:18.378Z"
   },
   {
    "duration": 9,
    "start_time": "2022-07-26T14:48:18.387Z"
   },
   {
    "duration": 20,
    "start_time": "2022-07-26T14:48:18.398Z"
   },
   {
    "duration": 15,
    "start_time": "2022-07-26T14:48:18.419Z"
   },
   {
    "duration": 20,
    "start_time": "2022-07-26T14:48:18.435Z"
   },
   {
    "duration": 6,
    "start_time": "2022-07-26T14:48:18.457Z"
   },
   {
    "duration": 11,
    "start_time": "2022-07-26T14:48:18.464Z"
   },
   {
    "duration": 10,
    "start_time": "2022-07-26T14:48:18.476Z"
   },
   {
    "duration": 3,
    "start_time": "2022-07-26T14:48:18.487Z"
   },
   {
    "duration": 11,
    "start_time": "2022-07-26T14:48:18.492Z"
   },
   {
    "duration": 3,
    "start_time": "2022-07-26T14:48:18.505Z"
   },
   {
    "duration": 5,
    "start_time": "2022-07-26T14:48:18.510Z"
   },
   {
    "duration": 42,
    "start_time": "2022-07-26T14:48:18.517Z"
   },
   {
    "duration": 142,
    "start_time": "2022-07-26T14:48:18.561Z"
   },
   {
    "duration": 20,
    "start_time": "2022-07-26T14:48:18.704Z"
   },
   {
    "duration": 113,
    "start_time": "2022-07-26T14:48:18.725Z"
   },
   {
    "duration": 12,
    "start_time": "2022-07-26T14:48:18.841Z"
   },
   {
    "duration": 130,
    "start_time": "2022-07-26T14:48:18.854Z"
   },
   {
    "duration": 5,
    "start_time": "2022-07-26T14:48:18.986Z"
   },
   {
    "duration": 22,
    "start_time": "2022-07-26T14:48:18.993Z"
   },
   {
    "duration": 156,
    "start_time": "2022-07-26T14:48:19.017Z"
   },
   {
    "duration": 5,
    "start_time": "2022-07-26T14:48:19.175Z"
   },
   {
    "duration": 22,
    "start_time": "2022-07-26T14:48:19.182Z"
   },
   {
    "duration": 146,
    "start_time": "2022-07-26T14:48:19.206Z"
   },
   {
    "duration": 4,
    "start_time": "2022-07-26T14:48:19.354Z"
   },
   {
    "duration": 18,
    "start_time": "2022-07-26T14:48:21.003Z"
   },
   {
    "duration": 122,
    "start_time": "2022-07-26T14:48:21.392Z"
   },
   {
    "duration": 5,
    "start_time": "2022-07-26T14:49:11.059Z"
   },
   {
    "duration": 23,
    "start_time": "2022-07-26T15:07:29.439Z"
   },
   {
    "duration": 153,
    "start_time": "2022-07-26T15:07:31.092Z"
   },
   {
    "duration": 5,
    "start_time": "2022-07-26T15:12:03.638Z"
   },
   {
    "duration": 22,
    "start_time": "2022-07-26T15:16:09.031Z"
   },
   {
    "duration": 131,
    "start_time": "2022-07-26T15:16:09.759Z"
   },
   {
    "duration": 5,
    "start_time": "2022-07-26T15:16:10.487Z"
   },
   {
    "duration": 19,
    "start_time": "2022-07-26T15:20:52.620Z"
   },
   {
    "duration": 146,
    "start_time": "2022-07-26T15:23:13.902Z"
   },
   {
    "duration": 129,
    "start_time": "2022-07-26T15:23:34.348Z"
   },
   {
    "duration": 168,
    "start_time": "2022-07-26T15:23:46.081Z"
   },
   {
    "duration": 159,
    "start_time": "2022-07-26T15:24:00.108Z"
   },
   {
    "duration": 269,
    "start_time": "2022-07-26T15:25:03.800Z"
   },
   {
    "duration": 148,
    "start_time": "2022-07-26T15:25:26.058Z"
   },
   {
    "duration": 122,
    "start_time": "2022-07-26T15:25:39.449Z"
   },
   {
    "duration": 119,
    "start_time": "2022-07-26T15:25:54.126Z"
   },
   {
    "duration": 120,
    "start_time": "2022-07-26T15:25:55.392Z"
   },
   {
    "duration": 135,
    "start_time": "2022-07-26T15:26:29.267Z"
   },
   {
    "duration": 146,
    "start_time": "2022-07-26T15:26:29.488Z"
   },
   {
    "duration": 23,
    "start_time": "2022-07-26T15:26:30.542Z"
   },
   {
    "duration": 134,
    "start_time": "2022-07-26T15:26:31.036Z"
   },
   {
    "duration": 5,
    "start_time": "2022-07-26T15:27:03.262Z"
   },
   {
    "duration": 141,
    "start_time": "2022-07-26T15:27:16.085Z"
   },
   {
    "duration": 119,
    "start_time": "2022-07-26T15:28:17.029Z"
   },
   {
    "duration": 19,
    "start_time": "2022-07-26T15:28:20.741Z"
   },
   {
    "duration": 104,
    "start_time": "2022-07-26T15:29:03.534Z"
   },
   {
    "duration": 104,
    "start_time": "2022-07-26T15:30:05.666Z"
   },
   {
    "duration": 5,
    "start_time": "2022-07-26T15:30:15.928Z"
   },
   {
    "duration": 114,
    "start_time": "2022-07-26T15:30:54.327Z"
   },
   {
    "duration": 127,
    "start_time": "2022-07-26T15:31:13.152Z"
   },
   {
    "duration": 158,
    "start_time": "2022-07-26T15:31:56.542Z"
   },
   {
    "duration": 3,
    "start_time": "2022-07-26T15:32:27.800Z"
   },
   {
    "duration": 176,
    "start_time": "2022-07-26T15:32:59.028Z"
   },
   {
    "duration": 151,
    "start_time": "2022-07-26T15:33:20.436Z"
   },
   {
    "duration": 26,
    "start_time": "2022-07-26T15:33:28.383Z"
   },
   {
    "duration": 153,
    "start_time": "2022-07-26T15:33:29.106Z"
   },
   {
    "duration": 143,
    "start_time": "2022-07-26T15:33:33.153Z"
   },
   {
    "duration": 258,
    "start_time": "2022-07-26T15:33:49.377Z"
   },
   {
    "duration": 20,
    "start_time": "2022-07-26T15:34:16.444Z"
   },
   {
    "duration": 110,
    "start_time": "2022-07-26T15:34:22.029Z"
   },
   {
    "duration": 99,
    "start_time": "2022-07-26T15:34:28.680Z"
   },
   {
    "duration": 5,
    "start_time": "2022-07-26T15:34:31.929Z"
   },
   {
    "duration": 120,
    "start_time": "2022-07-26T15:34:44.234Z"
   },
   {
    "duration": 129,
    "start_time": "2022-07-26T15:35:08.662Z"
   },
   {
    "duration": 132,
    "start_time": "2022-07-26T15:35:11.303Z"
   },
   {
    "duration": 5,
    "start_time": "2022-07-26T15:36:14.200Z"
   },
   {
    "duration": 21,
    "start_time": "2022-07-26T15:36:24.460Z"
   },
   {
    "duration": 155,
    "start_time": "2022-07-26T15:36:50.484Z"
   },
   {
    "duration": 158,
    "start_time": "2022-07-26T15:36:51.171Z"
   },
   {
    "duration": 6,
    "start_time": "2022-07-26T15:36:51.840Z"
   },
   {
    "duration": 19,
    "start_time": "2022-07-26T15:36:53.097Z"
   },
   {
    "duration": 128,
    "start_time": "2022-07-26T15:37:04.039Z"
   },
   {
    "duration": 20,
    "start_time": "2022-07-26T15:37:10.451Z"
   },
   {
    "duration": 145,
    "start_time": "2022-07-26T15:37:11.202Z"
   },
   {
    "duration": 155,
    "start_time": "2022-07-26T15:37:27.499Z"
   },
   {
    "duration": 153,
    "start_time": "2022-07-26T15:37:47.386Z"
   },
   {
    "duration": 5,
    "start_time": "2022-07-26T15:37:51.613Z"
   },
   {
    "duration": 27,
    "start_time": "2022-07-26T15:38:06.037Z"
   },
   {
    "duration": 136,
    "start_time": "2022-07-26T15:38:21.155Z"
   },
   {
    "duration": 1263,
    "start_time": "2022-07-26T15:38:50.231Z"
   },
   {
    "duration": 146,
    "start_time": "2022-07-26T15:38:58.197Z"
   },
   {
    "duration": 5,
    "start_time": "2022-07-26T15:39:03.308Z"
   },
   {
    "duration": 22,
    "start_time": "2022-07-26T16:18:13.961Z"
   },
   {
    "duration": 38,
    "start_time": "2022-07-26T16:18:24.198Z"
   },
   {
    "duration": 31,
    "start_time": "2022-07-26T16:18:37.188Z"
   },
   {
    "duration": 437,
    "start_time": "2022-07-26T16:18:54.077Z"
   },
   {
    "duration": 23,
    "start_time": "2022-07-26T16:18:54.515Z"
   },
   {
    "duration": 14,
    "start_time": "2022-07-26T16:18:54.539Z"
   },
   {
    "duration": 12,
    "start_time": "2022-07-26T16:18:54.555Z"
   },
   {
    "duration": 37,
    "start_time": "2022-07-26T16:18:54.569Z"
   },
   {
    "duration": 4,
    "start_time": "2022-07-26T16:18:54.608Z"
   },
   {
    "duration": 19,
    "start_time": "2022-07-26T16:18:54.614Z"
   },
   {
    "duration": 19,
    "start_time": "2022-07-26T16:18:54.634Z"
   },
   {
    "duration": 7,
    "start_time": "2022-07-26T16:18:54.654Z"
   },
   {
    "duration": 5,
    "start_time": "2022-07-26T16:18:54.663Z"
   },
   {
    "duration": 42,
    "start_time": "2022-07-26T16:18:54.670Z"
   },
   {
    "duration": 10,
    "start_time": "2022-07-26T16:18:54.713Z"
   },
   {
    "duration": 29,
    "start_time": "2022-07-26T16:18:54.724Z"
   },
   {
    "duration": 23,
    "start_time": "2022-07-26T16:18:54.754Z"
   },
   {
    "duration": 16,
    "start_time": "2022-07-26T16:18:54.778Z"
   },
   {
    "duration": 11,
    "start_time": "2022-07-26T16:18:54.795Z"
   },
   {
    "duration": 5,
    "start_time": "2022-07-26T16:18:54.808Z"
   },
   {
    "duration": 11,
    "start_time": "2022-07-26T16:18:54.814Z"
   },
   {
    "duration": 30,
    "start_time": "2022-07-26T16:18:54.826Z"
   },
   {
    "duration": 4,
    "start_time": "2022-07-26T16:18:54.857Z"
   },
   {
    "duration": 8,
    "start_time": "2022-07-26T16:18:55.842Z"
   },
   {
    "duration": 32,
    "start_time": "2022-07-26T16:18:59.222Z"
   },
   {
    "duration": 1427,
    "start_time": "2022-07-26T16:19:19.321Z"
   },
   {
    "duration": 84,
    "start_time": "2022-07-26T16:19:27.687Z"
   },
   {
    "duration": 21,
    "start_time": "2022-07-26T16:19:30.014Z"
   },
   {
    "duration": 11,
    "start_time": "2022-07-26T16:19:37.155Z"
   },
   {
    "duration": 10,
    "start_time": "2022-07-26T16:19:49.716Z"
   },
   {
    "duration": 433,
    "start_time": "2022-07-26T16:20:14.064Z"
   },
   {
    "duration": 20,
    "start_time": "2022-07-26T16:20:14.499Z"
   },
   {
    "duration": 13,
    "start_time": "2022-07-26T16:20:14.520Z"
   },
   {
    "duration": 9,
    "start_time": "2022-07-26T16:20:17.387Z"
   },
   {
    "duration": 10,
    "start_time": "2022-07-26T16:20:20.446Z"
   },
   {
    "duration": 25,
    "start_time": "2022-07-26T16:20:23.275Z"
   },
   {
    "duration": 41,
    "start_time": "2022-07-26T16:20:31.499Z"
   },
   {
    "duration": 62,
    "start_time": "2022-07-26T16:21:09.541Z"
   },
   {
    "duration": 9,
    "start_time": "2022-07-26T16:21:25.652Z"
   },
   {
    "duration": 9,
    "start_time": "2022-07-26T16:21:30.390Z"
   },
   {
    "duration": 8,
    "start_time": "2022-07-26T16:22:24.107Z"
   },
   {
    "duration": 19,
    "start_time": "2022-07-26T16:22:33.763Z"
   },
   {
    "duration": 19,
    "start_time": "2022-07-26T16:22:55.519Z"
   },
   {
    "duration": 19,
    "start_time": "2022-07-26T16:23:06.540Z"
   },
   {
    "duration": 31,
    "start_time": "2022-07-26T16:23:33.963Z"
   },
   {
    "duration": 29,
    "start_time": "2022-07-26T16:27:32.597Z"
   },
   {
    "duration": 17,
    "start_time": "2022-07-26T16:29:31.571Z"
   },
   {
    "duration": 17,
    "start_time": "2022-07-26T16:29:35.225Z"
   },
   {
    "duration": 16,
    "start_time": "2022-07-26T16:29:37.797Z"
   },
   {
    "duration": 27,
    "start_time": "2022-07-26T16:29:45.765Z"
   },
   {
    "duration": 473,
    "start_time": "2022-07-26T16:30:04.323Z"
   },
   {
    "duration": 27,
    "start_time": "2022-07-26T16:30:04.798Z"
   },
   {
    "duration": 14,
    "start_time": "2022-07-26T16:30:04.827Z"
   },
   {
    "duration": 9,
    "start_time": "2022-07-26T16:30:06.992Z"
   },
   {
    "duration": 22,
    "start_time": "2022-07-26T16:30:12.723Z"
   },
   {
    "duration": 22,
    "start_time": "2022-07-26T16:30:20.470Z"
   },
   {
    "duration": 21,
    "start_time": "2022-07-26T16:30:23.782Z"
   },
   {
    "duration": 26,
    "start_time": "2022-07-26T16:30:26.837Z"
   },
   {
    "duration": 24,
    "start_time": "2022-07-26T16:30:30.403Z"
   },
   {
    "duration": 21,
    "start_time": "2022-07-26T16:30:34.511Z"
   },
   {
    "duration": 14,
    "start_time": "2022-07-26T16:30:39.300Z"
   },
   {
    "duration": 16,
    "start_time": "2022-07-26T16:30:42.802Z"
   },
   {
    "duration": 20,
    "start_time": "2022-07-26T16:30:50.181Z"
   },
   {
    "duration": 22,
    "start_time": "2022-07-26T16:30:55.569Z"
   },
   {
    "duration": 24,
    "start_time": "2022-07-26T16:30:58.823Z"
   },
   {
    "duration": 19,
    "start_time": "2022-07-26T16:31:01.491Z"
   },
   {
    "duration": 19,
    "start_time": "2022-07-26T16:31:03.585Z"
   },
   {
    "duration": 19,
    "start_time": "2022-07-26T16:31:12.122Z"
   },
   {
    "duration": 76,
    "start_time": "2022-07-26T16:36:42.800Z"
   },
   {
    "duration": 116,
    "start_time": "2022-07-26T16:46:17.293Z"
   },
   {
    "duration": 893,
    "start_time": "2022-07-26T16:46:25.852Z"
   },
   {
    "duration": 170,
    "start_time": "2022-07-26T16:47:38.962Z"
   },
   {
    "duration": 67,
    "start_time": "2022-07-26T16:47:43.177Z"
   },
   {
    "duration": 81,
    "start_time": "2022-07-26T16:47:56.978Z"
   },
   {
    "duration": 66,
    "start_time": "2022-07-26T16:48:22.170Z"
   },
   {
    "duration": 261,
    "start_time": "2022-07-26T16:48:58.438Z"
   },
   {
    "duration": 277,
    "start_time": "2022-07-26T16:49:26.335Z"
   },
   {
    "duration": 260,
    "start_time": "2022-07-26T16:49:30.299Z"
   },
   {
    "duration": 240,
    "start_time": "2022-07-26T16:49:44.081Z"
   },
   {
    "duration": 255,
    "start_time": "2022-07-26T16:49:57.346Z"
   },
   {
    "duration": 107,
    "start_time": "2022-07-26T16:50:37.612Z"
   },
   {
    "duration": 56,
    "start_time": "2022-07-26T16:50:46.280Z"
   },
   {
    "duration": 191,
    "start_time": "2022-07-26T16:50:51.861Z"
   },
   {
    "duration": 175,
    "start_time": "2022-07-26T16:51:09.720Z"
   },
   {
    "duration": 256,
    "start_time": "2022-07-26T16:51:30.865Z"
   },
   {
    "duration": 163,
    "start_time": "2022-07-26T16:51:38.471Z"
   },
   {
    "duration": 167,
    "start_time": "2022-07-26T16:51:43.065Z"
   },
   {
    "duration": 152,
    "start_time": "2022-07-26T16:51:47.397Z"
   },
   {
    "duration": 173,
    "start_time": "2022-07-26T16:51:56.454Z"
   },
   {
    "duration": 196,
    "start_time": "2022-07-26T16:52:06.223Z"
   },
   {
    "duration": 162,
    "start_time": "2022-07-26T16:52:16.395Z"
   },
   {
    "duration": 220,
    "start_time": "2022-07-26T16:52:32.451Z"
   },
   {
    "duration": 228,
    "start_time": "2022-07-26T16:52:37.002Z"
   },
   {
    "duration": 250,
    "start_time": "2022-07-26T16:52:53.195Z"
   },
   {
    "duration": 231,
    "start_time": "2022-07-26T16:52:55.988Z"
   },
   {
    "duration": 259,
    "start_time": "2022-07-26T16:53:25.083Z"
   },
   {
    "duration": 196,
    "start_time": "2022-07-26T16:53:27.552Z"
   },
   {
    "duration": 231,
    "start_time": "2022-07-26T16:53:57.264Z"
   },
   {
    "duration": 188,
    "start_time": "2022-07-26T16:53:57.663Z"
   },
   {
    "duration": 278,
    "start_time": "2022-07-26T16:55:16.787Z"
   },
   {
    "duration": 203,
    "start_time": "2022-07-26T16:55:17.067Z"
   },
   {
    "duration": 296,
    "start_time": "2022-07-26T16:55:32.832Z"
   },
   {
    "duration": 294,
    "start_time": "2022-07-26T16:55:34.919Z"
   },
   {
    "duration": 259,
    "start_time": "2022-07-26T16:55:58.535Z"
   },
   {
    "duration": 282,
    "start_time": "2022-07-26T16:56:00.174Z"
   },
   {
    "duration": 224,
    "start_time": "2022-07-26T16:56:19.802Z"
   },
   {
    "duration": 185,
    "start_time": "2022-07-26T16:56:20.028Z"
   },
   {
    "duration": 338,
    "start_time": "2022-07-26T16:56:46.152Z"
   },
   {
    "duration": 194,
    "start_time": "2022-07-26T16:56:46.492Z"
   },
   {
    "duration": 257,
    "start_time": "2022-07-26T16:57:11.768Z"
   },
   {
    "duration": 199,
    "start_time": "2022-07-26T16:57:12.690Z"
   },
   {
    "duration": 236,
    "start_time": "2022-07-26T16:57:22.382Z"
   },
   {
    "duration": 278,
    "start_time": "2022-07-26T16:57:23.292Z"
   },
   {
    "duration": 246,
    "start_time": "2022-07-26T16:57:23.572Z"
   },
   {
    "duration": 508,
    "start_time": "2022-07-26T16:57:31.435Z"
   },
   {
    "duration": 492,
    "start_time": "2022-07-26T16:57:31.945Z"
   },
   {
    "duration": 3,
    "start_time": "2022-07-26T16:57:48.331Z"
   },
   {
    "duration": 11,
    "start_time": "2022-07-26T16:57:48.702Z"
   },
   {
    "duration": 1278,
    "start_time": "2022-07-26T16:57:51.894Z"
   },
   {
    "duration": 0,
    "start_time": "2022-07-26T16:57:53.174Z"
   },
   {
    "duration": 3,
    "start_time": "2022-07-26T16:58:04.491Z"
   },
   {
    "duration": 9,
    "start_time": "2022-07-26T16:58:04.918Z"
   },
   {
    "duration": 79,
    "start_time": "2022-07-26T16:58:14.511Z"
   },
   {
    "duration": 100,
    "start_time": "2022-07-26T16:58:21.682Z"
   },
   {
    "duration": 97,
    "start_time": "2022-07-26T16:58:44.543Z"
   },
   {
    "duration": 297,
    "start_time": "2022-07-26T16:58:50.583Z"
   },
   {
    "duration": 232,
    "start_time": "2022-07-26T16:58:56.743Z"
   },
   {
    "duration": 176,
    "start_time": "2022-07-26T16:58:59.075Z"
   },
   {
    "duration": 68,
    "start_time": "2022-07-26T17:01:10.363Z"
   },
   {
    "duration": 15,
    "start_time": "2022-07-26T17:01:10.433Z"
   },
   {
    "duration": 29,
    "start_time": "2022-07-26T17:01:10.450Z"
   },
   {
    "duration": 9,
    "start_time": "2022-07-26T17:01:10.482Z"
   },
   {
    "duration": 31,
    "start_time": "2022-07-26T17:01:10.492Z"
   },
   {
    "duration": 4,
    "start_time": "2022-07-26T17:01:10.524Z"
   },
   {
    "duration": 26,
    "start_time": "2022-07-26T17:01:10.529Z"
   },
   {
    "duration": 8,
    "start_time": "2022-07-26T17:01:10.557Z"
   },
   {
    "duration": 24,
    "start_time": "2022-07-26T17:01:10.568Z"
   },
   {
    "duration": 7,
    "start_time": "2022-07-26T17:01:10.596Z"
   },
   {
    "duration": 77,
    "start_time": "2022-07-26T17:01:10.604Z"
   },
   {
    "duration": 14,
    "start_time": "2022-07-26T17:01:10.683Z"
   },
   {
    "duration": 5,
    "start_time": "2022-07-26T17:01:10.698Z"
   },
   {
    "duration": 29,
    "start_time": "2022-07-26T17:01:10.705Z"
   },
   {
    "duration": 47,
    "start_time": "2022-07-26T17:01:10.736Z"
   },
   {
    "duration": 11,
    "start_time": "2022-07-26T17:01:10.785Z"
   },
   {
    "duration": 6,
    "start_time": "2022-07-26T17:01:10.798Z"
   },
   {
    "duration": 16,
    "start_time": "2022-07-26T17:01:10.805Z"
   },
   {
    "duration": 6,
    "start_time": "2022-07-26T17:01:10.823Z"
   },
   {
    "duration": 27,
    "start_time": "2022-07-26T17:01:10.831Z"
   },
   {
    "duration": 18,
    "start_time": "2022-07-26T17:01:10.861Z"
   },
   {
    "duration": 322,
    "start_time": "2022-07-26T17:01:10.881Z"
   },
   {
    "duration": 3,
    "start_time": "2022-07-26T17:01:11.205Z"
   },
   {
    "duration": 25,
    "start_time": "2022-07-26T17:01:11.210Z"
   },
   {
    "duration": 191,
    "start_time": "2022-07-26T17:01:11.237Z"
   },
   {
    "duration": 179,
    "start_time": "2022-07-26T17:01:11.430Z"
   },
   {
    "duration": 19,
    "start_time": "2022-07-26T17:01:11.611Z"
   },
   {
    "duration": 152,
    "start_time": "2022-07-26T17:01:11.633Z"
   },
   {
    "duration": 5,
    "start_time": "2022-07-26T17:01:11.786Z"
   },
   {
    "duration": 141,
    "start_time": "2022-07-26T17:01:11.793Z"
   },
   {
    "duration": 6,
    "start_time": "2022-07-26T17:01:11.935Z"
   },
   {
    "duration": 25,
    "start_time": "2022-07-26T17:01:11.953Z"
   },
   {
    "duration": 169,
    "start_time": "2022-07-26T17:01:11.980Z"
   },
   {
    "duration": 166,
    "start_time": "2022-07-26T17:01:12.151Z"
   },
   {
    "duration": 5,
    "start_time": "2022-07-26T17:01:12.319Z"
   },
   {
    "duration": 42,
    "start_time": "2022-07-26T17:01:12.325Z"
   },
   {
    "duration": 189,
    "start_time": "2022-07-26T17:01:12.369Z"
   },
   {
    "duration": 172,
    "start_time": "2022-07-26T17:01:12.560Z"
   },
   {
    "duration": 7,
    "start_time": "2022-07-26T17:01:12.734Z"
   },
   {
    "duration": 40,
    "start_time": "2022-07-26T17:01:12.752Z"
   },
   {
    "duration": 177,
    "start_time": "2022-07-26T17:01:12.794Z"
   },
   {
    "duration": 163,
    "start_time": "2022-07-26T17:01:12.974Z"
   },
   {
    "duration": 13,
    "start_time": "2022-07-26T17:01:13.139Z"
   },
   {
    "duration": 96,
    "start_time": "2022-07-26T17:01:53.621Z"
   },
   {
    "duration": 0,
    "start_time": "2022-07-26T17:02:27.090Z"
   },
   {
    "duration": 3996,
    "start_time": "2022-07-26T17:02:28.714Z"
   },
   {
    "duration": 1004,
    "start_time": "2022-07-26T17:02:41.950Z"
   },
   {
    "duration": 410,
    "start_time": "2022-07-26T17:02:48.493Z"
   },
   {
    "duration": 259,
    "start_time": "2022-07-26T17:02:59.143Z"
   },
   {
    "duration": 288,
    "start_time": "2022-07-26T17:03:09.539Z"
   },
   {
    "duration": 313,
    "start_time": "2022-07-26T17:03:42.374Z"
   },
   {
    "duration": 317,
    "start_time": "2022-07-26T17:03:47.645Z"
   },
   {
    "duration": 297,
    "start_time": "2022-07-26T17:03:53.557Z"
   },
   {
    "duration": 343,
    "start_time": "2022-07-26T17:03:59.138Z"
   },
   {
    "duration": 421,
    "start_time": "2022-07-26T17:04:05.787Z"
   },
   {
    "duration": 489,
    "start_time": "2022-07-26T17:04:17.331Z"
   },
   {
    "duration": 1731,
    "start_time": "2022-07-26T17:04:30.021Z"
   },
   {
    "duration": 2467,
    "start_time": "2022-07-26T17:04:51.563Z"
   },
   {
    "duration": 65,
    "start_time": "2022-07-26T17:05:22.349Z"
   },
   {
    "duration": 1648,
    "start_time": "2022-07-26T17:05:27.177Z"
   },
   {
    "duration": 519,
    "start_time": "2022-07-26T17:05:40.946Z"
   },
   {
    "duration": 250,
    "start_time": "2022-07-26T17:05:52.203Z"
   },
   {
    "duration": 218,
    "start_time": "2022-07-26T17:05:56.989Z"
   },
   {
    "duration": 277,
    "start_time": "2022-07-26T17:06:07.333Z"
   },
   {
    "duration": 2516,
    "start_time": "2022-07-26T17:20:26.053Z"
   },
   {
    "duration": 22,
    "start_time": "2022-07-26T17:20:40.611Z"
   },
   {
    "duration": 315,
    "start_time": "2022-07-26T17:21:06.654Z"
   },
   {
    "duration": 6,
    "start_time": "2022-07-26T17:21:57.973Z"
   },
   {
    "duration": 22,
    "start_time": "2022-07-26T17:22:01.360Z"
   },
   {
    "duration": 325,
    "start_time": "2022-07-26T17:22:07.102Z"
   },
   {
    "duration": 331,
    "start_time": "2022-07-26T17:22:44.837Z"
   },
   {
    "duration": 371,
    "start_time": "2022-07-26T17:23:03.884Z"
   },
   {
    "duration": 363,
    "start_time": "2022-07-26T17:23:29.621Z"
   },
   {
    "duration": 337,
    "start_time": "2022-07-26T17:23:33.272Z"
   },
   {
    "duration": 342,
    "start_time": "2022-07-26T17:28:09.131Z"
   },
   {
    "duration": 14,
    "start_time": "2022-07-26T17:28:15.133Z"
   },
   {
    "duration": 17,
    "start_time": "2022-07-26T17:28:32.892Z"
   },
   {
    "duration": 85,
    "start_time": "2022-07-26T17:28:47.734Z"
   },
   {
    "duration": 11,
    "start_time": "2022-07-26T17:28:52.831Z"
   },
   {
    "duration": 10,
    "start_time": "2022-07-26T17:28:57.464Z"
   },
   {
    "duration": 16,
    "start_time": "2022-07-26T17:29:02.568Z"
   },
   {
    "duration": 65,
    "start_time": "2022-07-26T17:29:18.261Z"
   },
   {
    "duration": 9,
    "start_time": "2022-07-26T17:29:18.706Z"
   },
   {
    "duration": 10,
    "start_time": "2022-07-26T17:29:19.274Z"
   },
   {
    "duration": 10,
    "start_time": "2022-07-26T17:29:31.292Z"
   },
   {
    "duration": 10,
    "start_time": "2022-07-26T17:29:33.069Z"
   },
   {
    "duration": 10,
    "start_time": "2022-07-26T17:29:33.327Z"
   },
   {
    "duration": 17,
    "start_time": "2022-07-26T17:29:36.352Z"
   },
   {
    "duration": 10,
    "start_time": "2022-07-26T17:29:39.433Z"
   },
   {
    "duration": 11,
    "start_time": "2022-07-26T17:29:39.882Z"
   },
   {
    "duration": 7,
    "start_time": "2022-07-26T17:30:49.142Z"
   },
   {
    "duration": 10,
    "start_time": "2022-07-26T17:31:02.222Z"
   },
   {
    "duration": 10,
    "start_time": "2022-07-26T17:31:02.430Z"
   },
   {
    "duration": 10,
    "start_time": "2022-07-26T17:31:22.334Z"
   },
   {
    "duration": 8,
    "start_time": "2022-07-26T17:31:22.598Z"
   },
   {
    "duration": 8,
    "start_time": "2022-07-26T17:31:40.247Z"
   },
   {
    "duration": 7,
    "start_time": "2022-07-26T17:31:40.424Z"
   },
   {
    "duration": 1619,
    "start_time": "2022-07-26T17:33:18.104Z"
   },
   {
    "duration": 340,
    "start_time": "2022-07-26T17:34:24.669Z"
   },
   {
    "duration": 330,
    "start_time": "2022-07-26T17:34:50.877Z"
   },
   {
    "duration": 10,
    "start_time": "2022-07-26T17:34:51.859Z"
   },
   {
    "duration": 8,
    "start_time": "2022-07-26T17:34:52.635Z"
   },
   {
    "duration": 94,
    "start_time": "2022-07-26T17:36:46.125Z"
   },
   {
    "duration": 365,
    "start_time": "2022-07-26T17:36:49.294Z"
   },
   {
    "duration": 14,
    "start_time": "2022-07-26T17:42:27.743Z"
   },
   {
    "duration": 9,
    "start_time": "2022-07-26T17:42:34.137Z"
   },
   {
    "duration": 9,
    "start_time": "2022-07-26T17:42:37.355Z"
   },
   {
    "duration": 9,
    "start_time": "2022-07-26T17:42:59.702Z"
   },
   {
    "duration": 10,
    "start_time": "2022-07-26T17:43:44.661Z"
   },
   {
    "duration": 81,
    "start_time": "2022-07-26T17:44:26.136Z"
   },
   {
    "duration": 13,
    "start_time": "2022-07-26T17:45:01.956Z"
   },
   {
    "duration": 75,
    "start_time": "2022-07-26T17:50:32.136Z"
   },
   {
    "duration": 532,
    "start_time": "2022-07-26T17:50:52.869Z"
   },
   {
    "duration": 1868,
    "start_time": "2022-07-26T17:50:59.544Z"
   },
   {
    "duration": 474,
    "start_time": "2022-07-26T17:51:17.407Z"
   },
   {
    "duration": 554,
    "start_time": "2022-07-26T17:51:17.883Z"
   },
   {
    "duration": 14,
    "start_time": "2022-07-26T17:51:56.430Z"
   },
   {
    "duration": 15,
    "start_time": "2022-07-26T17:52:05.283Z"
   },
   {
    "duration": 1576,
    "start_time": "2022-07-26T17:53:47.793Z"
   },
   {
    "duration": 104,
    "start_time": "2022-07-26T17:58:12.739Z"
   },
   {
    "duration": 283,
    "start_time": "2022-07-26T17:58:17.007Z"
   },
   {
    "duration": 110,
    "start_time": "2022-07-26T19:34:29.216Z"
   },
   {
    "duration": 98,
    "start_time": "2022-07-26T19:40:23.434Z"
   },
   {
    "duration": 73,
    "start_time": "2022-07-26T19:40:27.331Z"
   },
   {
    "duration": 75,
    "start_time": "2022-07-26T19:40:33.612Z"
   },
   {
    "duration": 64,
    "start_time": "2022-07-26T19:45:04.165Z"
   },
   {
    "duration": 62,
    "start_time": "2022-07-26T19:46:02.896Z"
   },
   {
    "duration": 262,
    "start_time": "2022-07-26T19:46:03.719Z"
   },
   {
    "duration": 10,
    "start_time": "2022-07-26T19:47:23.270Z"
   },
   {
    "duration": 9,
    "start_time": "2022-07-26T19:47:47.348Z"
   },
   {
    "duration": 532,
    "start_time": "2022-07-28T10:25:06.950Z"
   },
   {
    "duration": 25,
    "start_time": "2022-07-28T10:25:11.015Z"
   },
   {
    "duration": 18,
    "start_time": "2022-07-28T10:25:15.071Z"
   },
   {
    "duration": 10,
    "start_time": "2022-07-28T10:25:19.320Z"
   },
   {
    "duration": 725,
    "start_time": "2022-07-28T15:21:52.834Z"
   },
   {
    "duration": 28,
    "start_time": "2022-07-28T15:21:55.184Z"
   },
   {
    "duration": 15,
    "start_time": "2022-07-28T15:21:57.834Z"
   },
   {
    "duration": 13,
    "start_time": "2022-07-28T15:22:08.298Z"
   },
   {
    "duration": 33,
    "start_time": "2022-07-28T15:22:39.115Z"
   },
   {
    "duration": 4,
    "start_time": "2022-07-28T15:22:50.077Z"
   },
   {
    "duration": 3,
    "start_time": "2022-07-28T15:23:43.749Z"
   },
   {
    "duration": 8,
    "start_time": "2022-07-28T15:23:45.180Z"
   },
   {
    "duration": 4,
    "start_time": "2022-07-28T15:23:49.789Z"
   },
   {
    "duration": 7,
    "start_time": "2022-07-28T15:23:53.732Z"
   },
   {
    "duration": 5,
    "start_time": "2022-07-28T15:24:01.180Z"
   },
   {
    "duration": 5,
    "start_time": "2022-07-28T15:27:06.180Z"
   },
   {
    "duration": 539,
    "start_time": "2022-07-28T15:27:16.139Z"
   },
   {
    "duration": 25,
    "start_time": "2022-07-28T15:27:16.681Z"
   },
   {
    "duration": 16,
    "start_time": "2022-07-28T15:27:16.707Z"
   },
   {
    "duration": 13,
    "start_time": "2022-07-28T15:27:16.725Z"
   },
   {
    "duration": 54,
    "start_time": "2022-07-28T15:27:16.739Z"
   },
   {
    "duration": 3,
    "start_time": "2022-07-28T15:27:16.795Z"
   },
   {
    "duration": 13,
    "start_time": "2022-07-28T15:27:16.799Z"
   },
   {
    "duration": 6,
    "start_time": "2022-07-28T15:27:16.813Z"
   },
   {
    "duration": 8,
    "start_time": "2022-07-28T15:27:20.477Z"
   },
   {
    "duration": 4,
    "start_time": "2022-07-28T15:27:21.812Z"
   },
   {
    "duration": 40,
    "start_time": "2022-07-28T15:27:24.149Z"
   },
   {
    "duration": 18,
    "start_time": "2022-07-28T15:27:24.871Z"
   },
   {
    "duration": 4,
    "start_time": "2022-07-28T15:27:28.980Z"
   },
   {
    "duration": 24,
    "start_time": "2022-07-28T15:27:30.648Z"
   },
   {
    "duration": 16,
    "start_time": "2022-07-28T15:27:31.030Z"
   },
   {
    "duration": 12,
    "start_time": "2022-07-28T15:27:42.890Z"
   },
   {
    "duration": 4,
    "start_time": "2022-07-28T15:27:57.348Z"
   },
   {
    "duration": 10,
    "start_time": "2022-07-28T15:27:58.376Z"
   },
   {
    "duration": 6,
    "start_time": "2022-07-28T15:28:02.737Z"
   },
   {
    "duration": 4,
    "start_time": "2022-07-28T15:28:31.427Z"
   },
   {
    "duration": 9,
    "start_time": "2022-07-28T15:28:32.136Z"
   },
   {
    "duration": 2180,
    "start_time": "2022-07-28T15:34:21.624Z"
   },
   {
    "duration": 4,
    "start_time": "2022-07-28T15:38:06.944Z"
   },
   {
    "duration": 44,
    "start_time": "2022-07-28T15:40:57.057Z"
   },
   {
    "duration": 179,
    "start_time": "2022-07-28T15:41:08.077Z"
   },
   {
    "duration": 164,
    "start_time": "2022-07-28T15:41:48.295Z"
   },
   {
    "duration": 237,
    "start_time": "2022-07-28T15:55:37.362Z"
   },
   {
    "duration": 147,
    "start_time": "2022-07-28T15:57:13.914Z"
   },
   {
    "duration": 22,
    "start_time": "2022-07-28T16:03:13.509Z"
   },
   {
    "duration": 135,
    "start_time": "2022-07-28T16:04:05.094Z"
   },
   {
    "duration": 104,
    "start_time": "2022-07-28T16:07:29.275Z"
   },
   {
    "duration": 128,
    "start_time": "2022-07-28T16:09:36.533Z"
   },
   {
    "duration": 117,
    "start_time": "2022-07-28T16:12:19.455Z"
   },
   {
    "duration": 499,
    "start_time": "2022-07-28T16:12:38.941Z"
   },
   {
    "duration": 20,
    "start_time": "2022-07-28T16:12:39.442Z"
   },
   {
    "duration": 13,
    "start_time": "2022-07-28T16:12:39.464Z"
   },
   {
    "duration": 9,
    "start_time": "2022-07-28T16:12:39.478Z"
   },
   {
    "duration": 31,
    "start_time": "2022-07-28T16:12:39.489Z"
   },
   {
    "duration": 3,
    "start_time": "2022-07-28T16:12:39.522Z"
   },
   {
    "duration": 10,
    "start_time": "2022-07-28T16:12:39.526Z"
   },
   {
    "duration": 24,
    "start_time": "2022-07-28T16:12:39.537Z"
   },
   {
    "duration": 10,
    "start_time": "2022-07-28T16:12:39.563Z"
   },
   {
    "duration": 5,
    "start_time": "2022-07-28T16:12:39.575Z"
   },
   {
    "duration": 38,
    "start_time": "2022-07-28T16:12:39.581Z"
   },
   {
    "duration": 8,
    "start_time": "2022-07-28T16:12:39.621Z"
   },
   {
    "duration": 3,
    "start_time": "2022-07-28T16:12:39.631Z"
   },
   {
    "duration": 36,
    "start_time": "2022-07-28T16:12:39.635Z"
   },
   {
    "duration": 14,
    "start_time": "2022-07-28T16:12:39.673Z"
   },
   {
    "duration": 10,
    "start_time": "2022-07-28T16:12:39.689Z"
   },
   {
    "duration": 4,
    "start_time": "2022-07-28T16:12:39.700Z"
   },
   {
    "duration": 14,
    "start_time": "2022-07-28T16:12:39.705Z"
   },
   {
    "duration": 8,
    "start_time": "2022-07-28T16:12:39.720Z"
   },
   {
    "duration": 3,
    "start_time": "2022-07-28T16:12:39.729Z"
   },
   {
    "duration": 8,
    "start_time": "2022-07-28T16:12:43.954Z"
   },
   {
    "duration": 869,
    "start_time": "2022-07-28T16:12:45.316Z"
   },
   {
    "duration": 27,
    "start_time": "2022-07-28T16:12:48.616Z"
   },
   {
    "duration": 144,
    "start_time": "2022-07-28T16:12:49.273Z"
   },
   {
    "duration": 132,
    "start_time": "2022-07-28T16:12:50.113Z"
   },
   {
    "duration": 22,
    "start_time": "2022-07-28T16:12:51.010Z"
   },
   {
    "duration": 176,
    "start_time": "2022-07-28T16:12:51.490Z"
   },
   {
    "duration": 5,
    "start_time": "2022-07-28T16:12:52.479Z"
   },
   {
    "duration": 117,
    "start_time": "2022-07-28T16:12:54.080Z"
   },
   {
    "duration": 5,
    "start_time": "2022-07-28T16:12:54.616Z"
   },
   {
    "duration": 20,
    "start_time": "2022-07-28T16:12:57.595Z"
   },
   {
    "duration": 140,
    "start_time": "2022-07-28T16:12:58.501Z"
   },
   {
    "duration": 144,
    "start_time": "2022-07-28T16:13:30.801Z"
   },
   {
    "duration": 144,
    "start_time": "2022-07-28T16:14:47.010Z"
   },
   {
    "duration": 27,
    "start_time": "2022-07-28T16:18:34.045Z"
   },
   {
    "duration": 159,
    "start_time": "2022-07-28T16:19:22.277Z"
   },
   {
    "duration": 127,
    "start_time": "2022-07-28T16:21:33.591Z"
   },
   {
    "duration": 5,
    "start_time": "2022-07-28T16:22:07.321Z"
   },
   {
    "duration": 18,
    "start_time": "2022-07-28T16:23:38.122Z"
   },
   {
    "duration": 128,
    "start_time": "2022-07-28T16:26:20.878Z"
   },
   {
    "duration": 140,
    "start_time": "2022-07-28T16:28:05.639Z"
   },
   {
    "duration": 6,
    "start_time": "2022-07-28T16:28:34.742Z"
   },
   {
    "duration": 86,
    "start_time": "2022-07-28T16:31:36.510Z"
   },
   {
    "duration": 70,
    "start_time": "2022-07-28T16:31:51.667Z"
   },
   {
    "duration": 74,
    "start_time": "2022-07-28T16:32:03.753Z"
   },
   {
    "duration": 184,
    "start_time": "2022-07-28T16:32:17.172Z"
   },
   {
    "duration": 73,
    "start_time": "2022-07-28T16:35:24.749Z"
   },
   {
    "duration": 74,
    "start_time": "2022-07-28T16:35:59.343Z"
   },
   {
    "duration": 91,
    "start_time": "2022-07-28T16:36:18.165Z"
   },
   {
    "duration": 19,
    "start_time": "2022-07-28T16:36:35.572Z"
   },
   {
    "duration": 71,
    "start_time": "2022-07-28T16:36:38.216Z"
   },
   {
    "duration": 81,
    "start_time": "2022-07-28T16:36:42.678Z"
   },
   {
    "duration": 71,
    "start_time": "2022-07-28T16:37:32.088Z"
   },
   {
    "duration": 18,
    "start_time": "2022-07-28T16:37:49.833Z"
   },
   {
    "duration": 80,
    "start_time": "2022-07-28T16:43:46.656Z"
   },
   {
    "duration": 167,
    "start_time": "2022-07-28T16:47:18.230Z"
   },
   {
    "duration": 180,
    "start_time": "2022-07-28T16:47:22.825Z"
   },
   {
    "duration": 165,
    "start_time": "2022-07-28T16:47:34.800Z"
   },
   {
    "duration": 214,
    "start_time": "2022-07-28T16:47:39.298Z"
   },
   {
    "duration": 545,
    "start_time": "2022-07-28T16:47:48.430Z"
   },
   {
    "duration": 94,
    "start_time": "2022-07-28T16:51:09.082Z"
   },
   {
    "duration": 20,
    "start_time": "2022-07-28T16:51:11.269Z"
   },
   {
    "duration": 74,
    "start_time": "2022-07-28T16:51:13.136Z"
   },
   {
    "duration": 291,
    "start_time": "2022-07-28T16:51:14.012Z"
   },
   {
    "duration": 479,
    "start_time": "2022-07-28T16:51:23.364Z"
   },
   {
    "duration": 22,
    "start_time": "2022-07-28T16:51:23.845Z"
   },
   {
    "duration": 17,
    "start_time": "2022-07-28T16:51:23.869Z"
   },
   {
    "duration": 10,
    "start_time": "2022-07-28T16:51:23.888Z"
   },
   {
    "duration": 33,
    "start_time": "2022-07-28T16:51:23.900Z"
   },
   {
    "duration": 25,
    "start_time": "2022-07-28T16:51:23.935Z"
   },
   {
    "duration": 7,
    "start_time": "2022-07-28T16:51:23.963Z"
   },
   {
    "duration": 5,
    "start_time": "2022-07-28T16:51:23.971Z"
   },
   {
    "duration": 9,
    "start_time": "2022-07-28T16:51:23.978Z"
   },
   {
    "duration": 4,
    "start_time": "2022-07-28T16:51:23.989Z"
   },
   {
    "duration": 35,
    "start_time": "2022-07-28T16:51:23.995Z"
   },
   {
    "duration": 34,
    "start_time": "2022-07-28T16:51:24.032Z"
   },
   {
    "duration": 4,
    "start_time": "2022-07-28T16:51:24.068Z"
   },
   {
    "duration": 26,
    "start_time": "2022-07-28T16:51:24.074Z"
   },
   {
    "duration": 18,
    "start_time": "2022-07-28T16:51:24.101Z"
   },
   {
    "duration": 11,
    "start_time": "2022-07-28T16:51:24.121Z"
   },
   {
    "duration": 4,
    "start_time": "2022-07-28T16:51:24.160Z"
   },
   {
    "duration": 19,
    "start_time": "2022-07-28T16:51:24.165Z"
   },
   {
    "duration": 10,
    "start_time": "2022-07-28T16:51:24.185Z"
   },
   {
    "duration": 4,
    "start_time": "2022-07-28T16:51:24.196Z"
   },
   {
    "duration": 14,
    "start_time": "2022-07-28T16:51:24.201Z"
   },
   {
    "duration": 979,
    "start_time": "2022-07-28T16:51:24.217Z"
   },
   {
    "duration": 29,
    "start_time": "2022-07-28T16:51:25.197Z"
   },
   {
    "duration": 196,
    "start_time": "2022-07-28T16:51:25.227Z"
   },
   {
    "duration": 147,
    "start_time": "2022-07-28T16:51:25.425Z"
   },
   {
    "duration": 22,
    "start_time": "2022-07-28T16:51:25.573Z"
   },
   {
    "duration": 197,
    "start_time": "2022-07-28T16:51:25.596Z"
   },
   {
    "duration": 5,
    "start_time": "2022-07-28T16:51:25.797Z"
   },
   {
    "duration": 143,
    "start_time": "2022-07-28T16:51:25.803Z"
   },
   {
    "duration": 14,
    "start_time": "2022-07-28T16:51:25.948Z"
   },
   {
    "duration": 22,
    "start_time": "2022-07-28T16:51:25.964Z"
   },
   {
    "duration": 165,
    "start_time": "2022-07-28T16:51:25.987Z"
   },
   {
    "duration": 206,
    "start_time": "2022-07-28T16:51:26.154Z"
   },
   {
    "duration": 6,
    "start_time": "2022-07-28T16:51:26.363Z"
   },
   {
    "duration": 28,
    "start_time": "2022-07-28T16:51:26.371Z"
   },
   {
    "duration": 194,
    "start_time": "2022-07-28T16:51:26.404Z"
   },
   {
    "duration": 150,
    "start_time": "2022-07-28T16:51:26.600Z"
   },
   {
    "duration": 6,
    "start_time": "2022-07-28T16:51:26.760Z"
   },
   {
    "duration": 24,
    "start_time": "2022-07-28T16:51:26.767Z"
   },
   {
    "duration": 155,
    "start_time": "2022-07-28T16:51:26.793Z"
   },
   {
    "duration": 144,
    "start_time": "2022-07-28T16:51:26.949Z"
   },
   {
    "duration": 5,
    "start_time": "2022-07-28T16:51:27.094Z"
   },
   {
    "duration": 80,
    "start_time": "2022-07-28T16:51:27.100Z"
   },
   {
    "duration": 20,
    "start_time": "2022-07-28T16:51:27.181Z"
   },
   {
    "duration": 72,
    "start_time": "2022-07-28T16:51:29.770Z"
   },
   {
    "duration": 304,
    "start_time": "2022-07-28T16:51:30.794Z"
   },
   {
    "duration": 11,
    "start_time": "2022-07-28T16:51:40.735Z"
   },
   {
    "duration": 636,
    "start_time": "2022-07-28T16:51:41.830Z"
   },
   {
    "duration": 12,
    "start_time": "2022-07-28T16:51:44.131Z"
   },
   {
    "duration": 577,
    "start_time": "2023-03-14T19:44:33.237Z"
   },
   {
    "duration": 25,
    "start_time": "2023-03-14T19:44:35.005Z"
   },
   {
    "duration": 16,
    "start_time": "2023-03-14T19:45:36.019Z"
   },
   {
    "duration": 11,
    "start_time": "2023-03-14T19:45:55.489Z"
   },
   {
    "duration": 11,
    "start_time": "2023-03-14T20:16:06.308Z"
   },
   {
    "duration": 131,
    "start_time": "2023-03-14T20:16:14.197Z"
   },
   {
    "duration": 23,
    "start_time": "2023-03-14T20:16:14.331Z"
   },
   {
    "duration": 34,
    "start_time": "2023-03-14T20:16:14.359Z"
   },
   {
    "duration": 45,
    "start_time": "2023-03-14T20:16:14.397Z"
   },
   {
    "duration": 73,
    "start_time": "2023-03-14T20:16:14.446Z"
   },
   {
    "duration": 3,
    "start_time": "2023-03-14T20:16:14.522Z"
   },
   {
    "duration": 7,
    "start_time": "2023-03-14T20:16:16.695Z"
   },
   {
    "duration": 11,
    "start_time": "2023-03-14T20:16:17.795Z"
   },
   {
    "duration": 514,
    "start_time": "2023-03-14T20:16:24.370Z"
   },
   {
    "duration": 28,
    "start_time": "2023-03-14T20:16:24.886Z"
   },
   {
    "duration": 25,
    "start_time": "2023-03-14T20:16:24.916Z"
   },
   {
    "duration": 38,
    "start_time": "2023-03-14T20:16:24.944Z"
   },
   {
    "duration": 55,
    "start_time": "2023-03-14T20:16:24.986Z"
   },
   {
    "duration": 4,
    "start_time": "2023-03-14T20:16:28.062Z"
   },
   {
    "duration": 12,
    "start_time": "2023-03-14T20:16:28.953Z"
   },
   {
    "duration": 6,
    "start_time": "2023-03-14T20:16:38.495Z"
   },
   {
    "duration": 10,
    "start_time": "2023-03-14T20:16:45.831Z"
   },
   {
    "duration": 9,
    "start_time": "2023-03-14T20:17:16.103Z"
   },
   {
    "duration": 6,
    "start_time": "2023-03-14T20:17:17.645Z"
   },
   {
    "duration": 53,
    "start_time": "2023-03-14T20:17:48.208Z"
   },
   {
    "duration": 17,
    "start_time": "2023-03-14T20:18:12.600Z"
   },
   {
    "duration": 6,
    "start_time": "2023-03-14T20:18:19.264Z"
   },
   {
    "duration": 34,
    "start_time": "2023-03-14T20:18:23.490Z"
   },
   {
    "duration": 28,
    "start_time": "2023-03-14T20:18:24.023Z"
   },
   {
    "duration": 27,
    "start_time": "2023-03-14T20:18:31.388Z"
   },
   {
    "duration": 5,
    "start_time": "2023-03-14T20:18:36.196Z"
   },
   {
    "duration": 6,
    "start_time": "2023-03-14T20:19:26.011Z"
   },
   {
    "duration": 40,
    "start_time": "2023-03-14T20:19:26.559Z"
   },
   {
    "duration": 7,
    "start_time": "2023-03-14T20:19:56.563Z"
   },
   {
    "duration": 8,
    "start_time": "2023-03-14T20:20:12.860Z"
   },
   {
    "duration": 5,
    "start_time": "2023-03-14T20:20:38.592Z"
   },
   {
    "duration": 18,
    "start_time": "2023-03-14T20:20:46.469Z"
   },
   {
    "duration": 1928,
    "start_time": "2023-03-14T20:21:49.132Z"
   },
   {
    "duration": 36,
    "start_time": "2023-03-14T20:22:18.481Z"
   },
   {
    "duration": 232,
    "start_time": "2023-03-14T20:22:55.949Z"
   },
   {
    "duration": 29,
    "start_time": "2023-03-14T20:24:44.979Z"
   },
   {
    "duration": 26,
    "start_time": "2023-03-14T20:24:56.204Z"
   },
   {
    "duration": 124,
    "start_time": "2023-03-14T20:25:13.023Z"
   },
   {
    "duration": 7,
    "start_time": "2023-03-14T20:25:22.640Z"
   },
   {
    "duration": 7,
    "start_time": "2023-03-14T20:27:37.996Z"
   },
   {
    "duration": 249,
    "start_time": "2023-03-14T20:28:19.044Z"
   },
   {
    "duration": 11,
    "start_time": "2023-03-14T20:28:22.790Z"
   },
   {
    "duration": 26,
    "start_time": "2023-03-14T20:32:50.440Z"
   },
   {
    "duration": 130,
    "start_time": "2023-03-14T20:36:27.893Z"
   },
   {
    "duration": 481,
    "start_time": "2023-03-14T20:36:35.306Z"
   },
   {
    "duration": 23,
    "start_time": "2023-03-14T20:36:35.789Z"
   },
   {
    "duration": 27,
    "start_time": "2023-03-14T20:36:35.813Z"
   },
   {
    "duration": 22,
    "start_time": "2023-03-14T20:36:35.841Z"
   },
   {
    "duration": 39,
    "start_time": "2023-03-14T20:36:35.865Z"
   },
   {
    "duration": 4,
    "start_time": "2023-03-14T20:36:35.905Z"
   },
   {
    "duration": 19,
    "start_time": "2023-03-14T20:36:35.910Z"
   },
   {
    "duration": 13,
    "start_time": "2023-03-14T20:36:35.930Z"
   },
   {
    "duration": 18,
    "start_time": "2023-03-14T20:36:35.945Z"
   },
   {
    "duration": 23,
    "start_time": "2023-03-14T20:36:35.964Z"
   },
   {
    "duration": 41,
    "start_time": "2023-03-14T20:36:35.989Z"
   },
   {
    "duration": 11,
    "start_time": "2023-03-14T20:36:36.032Z"
   },
   {
    "duration": 27,
    "start_time": "2023-03-14T20:36:36.044Z"
   },
   {
    "duration": 39,
    "start_time": "2023-03-14T20:36:36.078Z"
   },
   {
    "duration": 20,
    "start_time": "2023-03-14T20:36:36.119Z"
   },
   {
    "duration": 21,
    "start_time": "2023-03-14T20:36:36.141Z"
   },
   {
    "duration": 13,
    "start_time": "2023-03-14T20:36:36.164Z"
   },
   {
    "duration": 31,
    "start_time": "2023-03-14T20:36:36.179Z"
   },
   {
    "duration": 28,
    "start_time": "2023-03-14T20:36:36.212Z"
   },
   {
    "duration": 19,
    "start_time": "2023-03-14T20:36:36.242Z"
   },
   {
    "duration": 36,
    "start_time": "2023-03-14T20:36:36.263Z"
   },
   {
    "duration": 931,
    "start_time": "2023-03-14T20:36:36.301Z"
   },
   {
    "duration": 28,
    "start_time": "2023-03-14T20:36:37.234Z"
   },
   {
    "duration": 188,
    "start_time": "2023-03-14T20:36:37.269Z"
   },
   {
    "duration": 158,
    "start_time": "2023-03-14T20:36:37.459Z"
   },
   {
    "duration": 21,
    "start_time": "2023-03-14T20:36:37.618Z"
   },
   {
    "duration": 210,
    "start_time": "2023-03-14T20:36:37.641Z"
   },
   {
    "duration": 5,
    "start_time": "2023-03-14T20:36:37.853Z"
   },
   {
    "duration": 136,
    "start_time": "2023-03-14T20:36:37.868Z"
   },
   {
    "duration": 7,
    "start_time": "2023-03-14T20:36:38.006Z"
   },
   {
    "duration": 22,
    "start_time": "2023-03-14T20:36:38.015Z"
   },
   {
    "duration": 187,
    "start_time": "2023-03-14T20:36:38.039Z"
   },
   {
    "duration": 178,
    "start_time": "2023-03-14T20:36:38.228Z"
   },
   {
    "duration": 5,
    "start_time": "2023-03-14T20:36:38.408Z"
   },
   {
    "duration": 33,
    "start_time": "2023-03-14T20:36:38.415Z"
   },
   {
    "duration": 171,
    "start_time": "2023-03-14T20:36:38.450Z"
   },
   {
    "duration": 155,
    "start_time": "2023-03-14T20:36:42.292Z"
   },
   {
    "duration": 160,
    "start_time": "2023-03-14T20:37:04.525Z"
   },
   {
    "duration": 6,
    "start_time": "2023-03-14T20:37:06.507Z"
   },
   {
    "duration": 21,
    "start_time": "2023-03-14T20:39:27.338Z"
   },
   {
    "duration": 38,
    "start_time": "2023-03-14T20:40:15.167Z"
   },
   {
    "duration": 20,
    "start_time": "2023-03-14T20:41:19.930Z"
   },
   {
    "duration": 20,
    "start_time": "2023-03-14T20:42:27.641Z"
   },
   {
    "duration": 26,
    "start_time": "2023-03-14T20:43:58.561Z"
   },
   {
    "duration": 158,
    "start_time": "2023-03-14T20:43:58.907Z"
   },
   {
    "duration": 188,
    "start_time": "2023-03-14T20:44:51.356Z"
   },
   {
    "duration": 6,
    "start_time": "2023-03-14T20:44:54.262Z"
   },
   {
    "duration": 153,
    "start_time": "2023-03-14T20:48:29.518Z"
   },
   {
    "duration": 189,
    "start_time": "2023-03-14T20:48:31.126Z"
   },
   {
    "duration": 156,
    "start_time": "2023-03-14T20:49:16.794Z"
   },
   {
    "duration": 6,
    "start_time": "2023-03-14T20:49:19.659Z"
   },
   {
    "duration": 85,
    "start_time": "2023-03-14T20:53:10.218Z"
   },
   {
    "duration": 27,
    "start_time": "2023-03-14T20:53:18.347Z"
   },
   {
    "duration": 94,
    "start_time": "2023-03-14T20:54:34.463Z"
   },
   {
    "duration": 11,
    "start_time": "2023-03-14T20:56:05.441Z"
   },
   {
    "duration": 680,
    "start_time": "2023-03-14T20:56:17.350Z"
   }
  ],
  "celltoolbar": "Edit Metadata",
  "colab": {
   "name": "dpp_template_part2.ipynb",
   "provenance": []
  },
  "kernelspec": {
   "display_name": "Python 3 (ipykernel)",
   "language": "python",
   "name": "python3"
  },
  "language_info": {
   "codemirror_mode": {
    "name": "ipython",
    "version": 3
   },
   "file_extension": ".py",
   "mimetype": "text/x-python",
   "name": "python",
   "nbconvert_exporter": "python",
   "pygments_lexer": "ipython3",
   "version": "3.12.1"
  },
  "toc": {
   "base_numbering": 1,
   "nav_menu": {},
   "number_sections": true,
   "sideBar": true,
   "skip_h1_title": true,
   "title_cell": "Table of Contents",
   "title_sidebar": "Contents",
   "toc_cell": false,
   "toc_position": {},
   "toc_section_display": true,
   "toc_window_display": false
  }
 },
 "nbformat": 4,
 "nbformat_minor": 5
}
