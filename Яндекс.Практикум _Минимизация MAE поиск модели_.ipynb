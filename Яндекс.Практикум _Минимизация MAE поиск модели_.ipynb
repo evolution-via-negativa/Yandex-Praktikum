{
 "cells": [
  {
   "cell_type": "code",
   "execution_count": 1,
   "metadata": {
    "tags": [
     "7a19f70a-81c4-4d48-a297-18f91c278629"
    ]
   },
   "outputs": [],
   "source": [
    "# Не удаляйте эту ячейку!"
   ]
  },
  {
   "cell_type": "code",
   "execution_count": 2,
   "metadata": {},
   "outputs": [],
   "source": [
    "import pandas as pd\n",
    "from sklearn.model_selection import train_test_split\n",
    "from sklearn.linear_model import LinearRegression\n",
    "from sklearn.tree import DecisionTreeRegressor\n",
    "from sklearn.ensemble import RandomForestRegressor\n",
    "from sklearn.metrics import mean_absolute_error\n",
    "\n",
    "data = pd.read_csv('/datasets/flights_preprocessed.csv')\n",
    "\n",
    "target = data['Arrival Delay']\n",
    "features = data.drop(['Arrival Delay'] , axis=1)\n",
    "features_train, features_valid, target_train, target_valid = train_test_split(\n",
    "    features, target, test_size=0.25, random_state=12345)"
   ]
  },
  {
   "cell_type": "code",
   "execution_count": 3,
   "metadata": {},
   "outputs": [
    {
     "name": "stdout",
     "output_type": "stream",
     "text": [
      "27.436250978085834\n"
     ]
    }
   ],
   "source": [
    "model = LinearRegression()\n",
    "model.fit(features_train, target_train)\n",
    "predictions_valid = model.predict(features_valid)\n",
    "\n",
    "print(mean_absolute_error(target_valid, predictions_valid))"
   ]
  },
  {
   "cell_type": "code",
   "execution_count": 16,
   "metadata": {},
   "outputs": [
    {
     "name": "stdout",
     "output_type": "stream",
     "text": [
      "12\n",
      "CPU times: user 27.4 s, sys: 16 ms, total: 27.4 s\n",
      "Wall time: 27.5 s\n"
     ]
    }
   ],
   "source": [
    "%%time\n",
    "\n",
    "best_model_depth = 1\n",
    "best_model_score = float(\"inf\")\n",
    "\n",
    "for depth in range(1, 16, 1):\n",
    "    model = RandomForestRegressor(n_estimators=20, max_depth=depth, random_state=12345)\n",
    "    model.fit(features_train, target_train)\n",
    "    # < напишите код здесь >\n",
    "    predictions_valid = model.predict(features_valid)\n",
    "    score = mean_absolute_error(target_valid, predictions_valid)\n",
    "    if score < best_model_score:\n",
    "        best_model_score = score\n",
    "        best_model_depth = depth\n",
    "        \n",
    "print(best_model_depth)"
   ]
  },
  {
   "cell_type": "code",
   "execution_count": 17,
   "metadata": {},
   "outputs": [
    {
     "name": "stdout",
     "output_type": "stream",
     "text": [
      "22.469041005849554\n",
      "25.47745895064548\n",
      "CPU times: user 13.8 s, sys: 16 ms, total: 13.8 s\n",
      "Wall time: 13.8 s\n"
     ]
    }
   ],
   "source": [
    "%%time\n",
    "\n",
    "model = RandomForestRegressor(n_estimators=100, \n",
    "    max_depth=12, random_state=12345) # < напишите код здесь >, random_state=12345)\n",
    "# обучите модель на тренировочной выборке\n",
    "model.fit(features_train, target_train)\n",
    "\n",
    "predictions_train = model.predict(features_train) # получите предсказания на обучающей выборке\n",
    "predictions_valid = model.predict(features_valid) # получите предсказания на валидационной выборке\n",
    "\n",
    "print(mean_absolute_error(target_train, predictions_train)) # посчитайте mean_absolute_error на обучающей выборке\n",
    "print(mean_absolute_error(target_valid, predictions_valid)) # посчитайте mean_absolute_error на валидационной выборке"
   ]
  }
 ],
 "metadata": {
  "ExecuteTimeLog": [
   {
    "duration": 172,
    "start_time": "2023-06-24T20:01:51.711Z"
   },
   {
    "duration": 296,
    "start_time": "2023-06-24T20:01:52.116Z"
   },
   {
    "duration": 4,
    "start_time": "2023-06-24T20:02:37.142Z"
   },
   {
    "duration": 1376,
    "start_time": "2023-06-24T20:02:37.356Z"
   },
   {
    "duration": 170,
    "start_time": "2023-06-24T20:02:38.734Z"
   },
   {
    "duration": 16923,
    "start_time": "2023-06-24T20:02:38.909Z"
   },
   {
    "duration": 27171,
    "start_time": "2023-06-24T20:03:33.953Z"
   },
   {
    "duration": 7,
    "start_time": "2023-06-24T20:04:20.850Z"
   },
   {
    "duration": 27423,
    "start_time": "2023-06-24T20:04:28.294Z"
   },
   {
    "duration": 3,
    "start_time": "2023-06-24T20:04:55.719Z"
   },
   {
    "duration": 26985,
    "start_time": "2023-06-24T20:05:11.295Z"
   },
   {
    "duration": 11,
    "start_time": "2023-06-24T20:05:50.636Z"
   },
   {
    "duration": 1483,
    "start_time": "2023-06-24T20:06:17.436Z"
   },
   {
    "duration": 1483,
    "start_time": "2023-06-24T20:06:25.570Z"
   },
   {
    "duration": 27196,
    "start_time": "2023-06-24T20:06:33.548Z"
   },
   {
    "duration": 1492,
    "start_time": "2023-06-24T20:07:00.745Z"
   },
   {
    "duration": 19015,
    "start_time": "2023-06-24T20:07:16.941Z"
   },
   {
    "duration": 27475,
    "start_time": "2023-06-24T20:08:03.374Z"
   },
   {
    "duration": 13816,
    "start_time": "2023-06-24T20:08:44.628Z"
   }
  ],
  "kernelspec": {
   "display_name": "Python 3 (ipykernel)",
   "language": "python",
   "name": "python3"
  },
  "language_info": {
   "codemirror_mode": {
    "name": "ipython",
    "version": 3
   },
   "file_extension": ".py",
   "mimetype": "text/x-python",
   "name": "python",
   "nbconvert_exporter": "python",
   "pygments_lexer": "ipython3",
   "version": "3.9.5"
  },
  "toc": {
   "base_numbering": 1,
   "nav_menu": {},
   "number_sections": true,
   "sideBar": true,
   "skip_h1_title": true,
   "title_cell": "Table of Contents",
   "title_sidebar": "Contents",
   "toc_cell": false,
   "toc_position": {},
   "toc_section_display": true,
   "toc_window_display": false
  }
 },
 "nbformat": 4,
 "nbformat_minor": 2
}
