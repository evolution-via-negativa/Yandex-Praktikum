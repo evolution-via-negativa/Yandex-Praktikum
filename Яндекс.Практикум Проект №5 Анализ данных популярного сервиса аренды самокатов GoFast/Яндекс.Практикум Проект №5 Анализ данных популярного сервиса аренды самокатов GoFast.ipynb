{
 "cells": [
  {
   "cell_type": "markdown",
   "id": "0f3fe435",
   "metadata": {},
   "source": [
    "<div style=\"border:solid green 3px; padding: 20px\">\n",
    "<b>🥇 Артём, спасибо за доработки, проект принят, молодец!</b>\n",
    "    \n",
    "Ты провел отличную работу над ошибками! Уверен, ты обязательно достигнешь своей цели! Успехов в дальнейшем обучении! 🙂\n",
    "    "
   ]
  },
  {
   "cell_type": "markdown",
   "id": "1e28705e",
   "metadata": {},
   "source": [
    "Артём, привет! Меня зовут Ефимов Денис и сегодня я буду делать ревью твоего проекта!\\\n",
    "В Практикуме принято общаться на \"ты\", однако если это неудобно - дай знать, и можем перейти на более официальное общение.\n",
    "\n",
    "Ниже ты найдешь мои комментарии - пожалуйста, не перемещай, не изменяй и не удаляй их. Я буду использовать цветовую разметку: \n",
    "\n",
    "<div class=\"alert alert-block alert-success\">\n",
    "<b>✅Комментарий ревьюера:</b> Если все сделано хорошо. </div>\n",
    "\n",
    "<div class=\"alert alert-block alert-warning\">\n",
    "<b>🔁Комментарий ревьюера:</b> Некритичное замечание; если таких замечаний меньше трех — проект может быть принят без их отработки.</div>\n",
    "\n",
    "<div class=\"alert alert-block alert-danger\">\n",
    "<b>❌Комментарий ревьюера:</b> Грубая ошибка, необходимо исправить, иначе проект не будет принят.\n",
    "</div>\n",
    "\n",
    "Давай работать над проектом в диалоге: если ты что-то меняешь в проекте или отвечаешь на мои комментарии — пиши об этом. Мне будет легче отследить изменения, если ты выделишь свои комментарии:\n",
    "Например так:\n",
    "<div class=\"alert alert-block alert-info\">\n",
    "<b>🔄Комментарий студента:</b> \n",
    "Hello World! ✔\n",
    "</div>\n",
    "\n",
    "Или можешь использовать эту галочку ✔ в моих комментариях, если писать особо нечего.\n",
    "\n",
    "<div class=\"alert alert-block alert-warning\">\n",
    "<b>Общее впечатление:</b> \n",
    "    \n",
    "- Ты проделал огромную работу и проект получился впечатляющим:)\n",
    "- У меня есть несколько замечаний, исправив которые ты сделаешь проект еще лучше.\n",
    "- Пробегись по моим комментариям, исправь недочёты и всё будет отлично :)\n",
    "    \n",
    "</div>\n",
    "\n"
   ]
  },
  {
   "cell_type": "markdown",
   "id": "d45738e4",
   "metadata": {},
   "source": [
    "# Анализ данных популярного сервиса аренды самокатов **GoFast**"
   ]
  },
  {
   "cell_type": "markdown",
   "id": "7e2cd699",
   "metadata": {},
   "source": [
    "**План проекта:**\n",
    "- ***Шаг 1. Загрузка данных:***\n",
    "    * Считывание csv-файлов с данными с помощью библиотеки pandas и сохранение их в датафреймы\n",
    "    * Вывод первых строк каждого набора данных. Изучение общей информации о каждом датафрейме\n",
    "- ***Шаг 2. Предобработка данных:***\n",
    "    * Приведение столбца `date` к типу даты pandas\n",
    "    * Создание нового столбца с номером месяца на основе столбца `date`\n",
    "    * Проверка наличия пропущенных значений и дубликатов в датафреймах. Обработка таких значений\n",
    "- ***Шаг 3. Исследовательский анализ данных:***\n",
    "    * Анализ частоты встречаемости городов\n",
    "    * Анализ соотношения пользователей с подпиской и без подписки\n",
    "    * Анализ возраста пользователей\n",
    "    * Анализ расстояния, которое пользователь преодолел за одну поездку\n",
    "    * Анализ продолжительности поездок\n",
    "- ***Шаг 4. Объединение данных:***\n",
    "    * Объединение данных о пользователях, поездках и подписках в один датафрейм\n",
    "    * Создание двух датафреймов c данными о пользователях без подписки и с данными о пользователях с подпиской\n",
    "    * Визуализация информации о расстоянии и времени поездок для пользователей обеих категорий\n",
    "- ***Шаг 5. Подсчёт выручки:***\n",
    "    * Создание датафрейма с агрегированными данными о поездках на основе датафрейма с объединёнными данными из шага 4: нахождение суммарного расстояния, количества поездок и суммарного времени для каждого пользователя за каждый месяц\n",
    "    * Добавление столбца с помесячной выручкой, которую принёс каждый пользователь в этот же датафрейм\n",
    "- ***Шаг 6. Проверка гипотез:***\n",
    "    * Проверка гипотезы о том, что пользователи с подпиской тратят больше времени на поездки\n",
    "    * Проверка гипотезы о том, что расстояние, которое проезжают пользователи с подпиской за одну поездку, не превышает 3130 метров\n",
    "    * Проверка гипотезы о том, что помесячная выручка от пользователей с подпиской по месяцам выше, чем выручка от пользователей без подписки\n",
    "    * Ответ на вопрос \"Какой тест вам понадобился бы для проверки гипотезы с данными о количестве обращений до обновления и после него?\"\n",
    "- ***Шаг 7 (необязательное задание). Распределения:***\n",
    "    * **Задание 1.** Отделу маркетинга GoFast поставили задачу: нужно провести акцию с раздачей промокодов на один бесплатный месяц подписки, в рамках которой как минимум 100 существующих клиентов должны продлить эту подписку. То есть по завершении периода действия подписки пользователь может либо отказаться от неё, либо продлить, совершив соответствующий платёж. Эта акция уже проводилась ранее и по итогу выяснилось, что после бесплатного пробного периода подписку продлевают 10 % пользователей. Выясните, какое минимальное количество промокодов нужно разослать, чтобы вероятность не выполнить план была примерно 5 %. Подберите параметры распределения, описывающего эту ситуацию, постройте график распределения и сформулируйте ответ на вопрос о количестве промокодов.\n",
    "    * **Задание 2.** Отдел маркетинга рассылает клиентам push-уведомления в мобильном приложении. Клиенты могут открыть его или не открывать. Известно, что уведомления открывают около 40% получивших клиентов. Отдел планирует разослать 1 млн уведомлений. С помощью аппроксимации постройте примерный график распределения и оцените вероятность того, что уведомление откроют не более 399,5 тыс. пользователей."
   ]
  },
  {
   "cell_type": "markdown",
   "id": "c2ad7572",
   "metadata": {},
   "source": [
    "<div class=\"alert alert-block alert-success\">\n",
    "<b>✅Комментарий ревьюера:</b> Молодец, что написал введение! ✔</div>"
   ]
  },
  {
   "cell_type": "code",
   "execution_count": 1,
   "id": "fb9ac58a",
   "metadata": {},
   "outputs": [],
   "source": [
    "import pandas as pd\n",
    "import numpy as np\n",
    "import scipy.stats as st\n",
    "import matplotlib.pyplot as plt\n",
    "from math import sqrt"
   ]
  },
  {
   "cell_type": "markdown",
   "id": "e3b809f9",
   "metadata": {},
   "source": [
    "#### Шаг 1. Загрузка данных"
   ]
  },
  {
   "cell_type": "code",
   "execution_count": 2,
   "id": "850a2da3",
   "metadata": {},
   "outputs": [],
   "source": [
    "# Получим данные по пользователям безопасным способом при помощи конструкции try-except\n",
    "try:\n",
    "    users_data = pd.read_csv('/datasets/users_go.csv')\n",
    "except:\n",
    "    users_data = pd.read_csv('https://code.s3.yandex.net/datasets/users_go.csv')"
   ]
  },
  {
   "cell_type": "markdown",
   "id": "d3d44164",
   "metadata": {},
   "source": [
    "<div class=\"alert alert-block alert-success\">\n",
    "<b>✅Комментарий ревьюера:</b> Здорово, что используешь конструкцию try-except! ✔</div>"
   ]
  },
  {
   "cell_type": "code",
   "execution_count": 3,
   "id": "d81dc28f",
   "metadata": {},
   "outputs": [
    {
     "data": {
      "text/html": [
       "<div>\n",
       "<style scoped>\n",
       "    .dataframe tbody tr th:only-of-type {\n",
       "        vertical-align: middle;\n",
       "    }\n",
       "\n",
       "    .dataframe tbody tr th {\n",
       "        vertical-align: top;\n",
       "    }\n",
       "\n",
       "    .dataframe thead th {\n",
       "        text-align: right;\n",
       "    }\n",
       "</style>\n",
       "<table border=\"1\" class=\"dataframe\">\n",
       "  <thead>\n",
       "    <tr style=\"text-align: right;\">\n",
       "      <th></th>\n",
       "      <th>user_id</th>\n",
       "      <th>name</th>\n",
       "      <th>age</th>\n",
       "      <th>city</th>\n",
       "      <th>subscription_type</th>\n",
       "    </tr>\n",
       "  </thead>\n",
       "  <tbody>\n",
       "    <tr>\n",
       "      <th>0</th>\n",
       "      <td>1</td>\n",
       "      <td>Кира</td>\n",
       "      <td>22</td>\n",
       "      <td>Тюмень</td>\n",
       "      <td>ultra</td>\n",
       "    </tr>\n",
       "    <tr>\n",
       "      <th>1</th>\n",
       "      <td>2</td>\n",
       "      <td>Станислав</td>\n",
       "      <td>31</td>\n",
       "      <td>Омск</td>\n",
       "      <td>ultra</td>\n",
       "    </tr>\n",
       "    <tr>\n",
       "      <th>2</th>\n",
       "      <td>3</td>\n",
       "      <td>Алексей</td>\n",
       "      <td>20</td>\n",
       "      <td>Москва</td>\n",
       "      <td>ultra</td>\n",
       "    </tr>\n",
       "    <tr>\n",
       "      <th>3</th>\n",
       "      <td>4</td>\n",
       "      <td>Константин</td>\n",
       "      <td>26</td>\n",
       "      <td>Ростов-на-Дону</td>\n",
       "      <td>ultra</td>\n",
       "    </tr>\n",
       "    <tr>\n",
       "      <th>4</th>\n",
       "      <td>5</td>\n",
       "      <td>Адель</td>\n",
       "      <td>28</td>\n",
       "      <td>Омск</td>\n",
       "      <td>ultra</td>\n",
       "    </tr>\n",
       "    <tr>\n",
       "      <th>5</th>\n",
       "      <td>6</td>\n",
       "      <td>Регина</td>\n",
       "      <td>25</td>\n",
       "      <td>Краснодар</td>\n",
       "      <td>ultra</td>\n",
       "    </tr>\n",
       "    <tr>\n",
       "      <th>6</th>\n",
       "      <td>7</td>\n",
       "      <td>Игорь</td>\n",
       "      <td>23</td>\n",
       "      <td>Омск</td>\n",
       "      <td>ultra</td>\n",
       "    </tr>\n",
       "    <tr>\n",
       "      <th>7</th>\n",
       "      <td>8</td>\n",
       "      <td>Юрий</td>\n",
       "      <td>23</td>\n",
       "      <td>Краснодар</td>\n",
       "      <td>ultra</td>\n",
       "    </tr>\n",
       "    <tr>\n",
       "      <th>8</th>\n",
       "      <td>9</td>\n",
       "      <td>Ян</td>\n",
       "      <td>21</td>\n",
       "      <td>Пятигорск</td>\n",
       "      <td>ultra</td>\n",
       "    </tr>\n",
       "    <tr>\n",
       "      <th>9</th>\n",
       "      <td>10</td>\n",
       "      <td>Валерий</td>\n",
       "      <td>18</td>\n",
       "      <td>Екатеринбург</td>\n",
       "      <td>ultra</td>\n",
       "    </tr>\n",
       "  </tbody>\n",
       "</table>\n",
       "</div>"
      ],
      "text/plain": [
       "   user_id        name  age            city subscription_type\n",
       "0        1        Кира   22          Тюмень             ultra\n",
       "1        2   Станислав   31            Омск             ultra\n",
       "2        3     Алексей   20          Москва             ultra\n",
       "3        4  Константин   26  Ростов-на-Дону             ultra\n",
       "4        5       Адель   28            Омск             ultra\n",
       "5        6      Регина   25       Краснодар             ultra\n",
       "6        7       Игорь   23            Омск             ultra\n",
       "7        8        Юрий   23       Краснодар             ultra\n",
       "8        9          Ян   21       Пятигорск             ultra\n",
       "9       10     Валерий   18    Екатеринбург             ultra"
      ]
     },
     "execution_count": 3,
     "metadata": {},
     "output_type": "execute_result"
    }
   ],
   "source": [
    "users_data.head(10)"
   ]
  },
  {
   "cell_type": "code",
   "execution_count": 4,
   "id": "905582c2",
   "metadata": {},
   "outputs": [
    {
     "name": "stdout",
     "output_type": "stream",
     "text": [
      "<class 'pandas.core.frame.DataFrame'>\n",
      "RangeIndex: 1565 entries, 0 to 1564\n",
      "Data columns (total 5 columns):\n",
      " #   Column             Non-Null Count  Dtype \n",
      "---  ------             --------------  ----- \n",
      " 0   user_id            1565 non-null   int64 \n",
      " 1   name               1565 non-null   object\n",
      " 2   age                1565 non-null   int64 \n",
      " 3   city               1565 non-null   object\n",
      " 4   subscription_type  1565 non-null   object\n",
      "dtypes: int64(2), object(3)\n",
      "memory usage: 61.3+ KB\n"
     ]
    }
   ],
   "source": [
    "users_data.info()"
   ]
  },
  {
   "cell_type": "code",
   "execution_count": 5,
   "id": "d878e5f3",
   "metadata": {},
   "outputs": [],
   "source": [
    "# Получим данные по поездкам безопасным способом при помощи конструкции try-except\n",
    "try:\n",
    "    rides_data = pd.read_csv('/datasets/rides_go.csv')\n",
    "except:\n",
    "    rides_data = pd.read_csv('https://code.s3.yandex.net/datasets/rides_go.csv')"
   ]
  },
  {
   "cell_type": "code",
   "execution_count": 6,
   "id": "99084ddb",
   "metadata": {},
   "outputs": [
    {
     "data": {
      "text/html": [
       "<div>\n",
       "<style scoped>\n",
       "    .dataframe tbody tr th:only-of-type {\n",
       "        vertical-align: middle;\n",
       "    }\n",
       "\n",
       "    .dataframe tbody tr th {\n",
       "        vertical-align: top;\n",
       "    }\n",
       "\n",
       "    .dataframe thead th {\n",
       "        text-align: right;\n",
       "    }\n",
       "</style>\n",
       "<table border=\"1\" class=\"dataframe\">\n",
       "  <thead>\n",
       "    <tr style=\"text-align: right;\">\n",
       "      <th></th>\n",
       "      <th>user_id</th>\n",
       "      <th>distance</th>\n",
       "      <th>duration</th>\n",
       "      <th>date</th>\n",
       "    </tr>\n",
       "  </thead>\n",
       "  <tbody>\n",
       "    <tr>\n",
       "      <th>0</th>\n",
       "      <td>1</td>\n",
       "      <td>4409.919140</td>\n",
       "      <td>25.599769</td>\n",
       "      <td>2021-01-01</td>\n",
       "    </tr>\n",
       "    <tr>\n",
       "      <th>1</th>\n",
       "      <td>1</td>\n",
       "      <td>2617.592153</td>\n",
       "      <td>15.816871</td>\n",
       "      <td>2021-01-18</td>\n",
       "    </tr>\n",
       "    <tr>\n",
       "      <th>2</th>\n",
       "      <td>1</td>\n",
       "      <td>754.159807</td>\n",
       "      <td>6.232113</td>\n",
       "      <td>2021-04-20</td>\n",
       "    </tr>\n",
       "    <tr>\n",
       "      <th>3</th>\n",
       "      <td>1</td>\n",
       "      <td>2694.783254</td>\n",
       "      <td>18.511000</td>\n",
       "      <td>2021-08-11</td>\n",
       "    </tr>\n",
       "    <tr>\n",
       "      <th>4</th>\n",
       "      <td>1</td>\n",
       "      <td>4028.687306</td>\n",
       "      <td>26.265803</td>\n",
       "      <td>2021-08-28</td>\n",
       "    </tr>\n",
       "    <tr>\n",
       "      <th>5</th>\n",
       "      <td>1</td>\n",
       "      <td>2770.890808</td>\n",
       "      <td>16.650138</td>\n",
       "      <td>2021-10-09</td>\n",
       "    </tr>\n",
       "    <tr>\n",
       "      <th>6</th>\n",
       "      <td>1</td>\n",
       "      <td>3039.020292</td>\n",
       "      <td>14.927879</td>\n",
       "      <td>2021-10-19</td>\n",
       "    </tr>\n",
       "    <tr>\n",
       "      <th>7</th>\n",
       "      <td>1</td>\n",
       "      <td>2842.118050</td>\n",
       "      <td>23.117468</td>\n",
       "      <td>2021-11-06</td>\n",
       "    </tr>\n",
       "    <tr>\n",
       "      <th>8</th>\n",
       "      <td>1</td>\n",
       "      <td>3412.690668</td>\n",
       "      <td>15.238072</td>\n",
       "      <td>2021-11-14</td>\n",
       "    </tr>\n",
       "    <tr>\n",
       "      <th>9</th>\n",
       "      <td>1</td>\n",
       "      <td>748.690645</td>\n",
       "      <td>15.041884</td>\n",
       "      <td>2021-11-22</td>\n",
       "    </tr>\n",
       "  </tbody>\n",
       "</table>\n",
       "</div>"
      ],
      "text/plain": [
       "   user_id     distance   duration        date\n",
       "0        1  4409.919140  25.599769  2021-01-01\n",
       "1        1  2617.592153  15.816871  2021-01-18\n",
       "2        1   754.159807   6.232113  2021-04-20\n",
       "3        1  2694.783254  18.511000  2021-08-11\n",
       "4        1  4028.687306  26.265803  2021-08-28\n",
       "5        1  2770.890808  16.650138  2021-10-09\n",
       "6        1  3039.020292  14.927879  2021-10-19\n",
       "7        1  2842.118050  23.117468  2021-11-06\n",
       "8        1  3412.690668  15.238072  2021-11-14\n",
       "9        1   748.690645  15.041884  2021-11-22"
      ]
     },
     "execution_count": 6,
     "metadata": {},
     "output_type": "execute_result"
    }
   ],
   "source": [
    "rides_data.head(10)"
   ]
  },
  {
   "cell_type": "code",
   "execution_count": 7,
   "id": "b78bee0b",
   "metadata": {},
   "outputs": [
    {
     "name": "stdout",
     "output_type": "stream",
     "text": [
      "<class 'pandas.core.frame.DataFrame'>\n",
      "RangeIndex: 18068 entries, 0 to 18067\n",
      "Data columns (total 4 columns):\n",
      " #   Column    Non-Null Count  Dtype  \n",
      "---  ------    --------------  -----  \n",
      " 0   user_id   18068 non-null  int64  \n",
      " 1   distance  18068 non-null  float64\n",
      " 2   duration  18068 non-null  float64\n",
      " 3   date      18068 non-null  object \n",
      "dtypes: float64(2), int64(1), object(1)\n",
      "memory usage: 564.8+ KB\n"
     ]
    }
   ],
   "source": [
    "rides_data.info()"
   ]
  },
  {
   "cell_type": "code",
   "execution_count": 8,
   "id": "cbc351bf",
   "metadata": {},
   "outputs": [],
   "source": [
    "# Получим данные по подпискам безопасным способом при помощи конструкции try-except\n",
    "try:\n",
    "    subscriptions_data = pd.read_csv('/datasets/subscriptions_go.csv')\n",
    "except:\n",
    "    subscriptions_data = pd.read_csv('https://code.s3.yandex.net/datasets/subscriptions_go.csv')"
   ]
  },
  {
   "cell_type": "code",
   "execution_count": 9,
   "id": "28d0df69",
   "metadata": {},
   "outputs": [
    {
     "data": {
      "text/html": [
       "<div>\n",
       "<style scoped>\n",
       "    .dataframe tbody tr th:only-of-type {\n",
       "        vertical-align: middle;\n",
       "    }\n",
       "\n",
       "    .dataframe tbody tr th {\n",
       "        vertical-align: top;\n",
       "    }\n",
       "\n",
       "    .dataframe thead th {\n",
       "        text-align: right;\n",
       "    }\n",
       "</style>\n",
       "<table border=\"1\" class=\"dataframe\">\n",
       "  <thead>\n",
       "    <tr style=\"text-align: right;\">\n",
       "      <th></th>\n",
       "      <th>subscription_type</th>\n",
       "      <th>minute_price</th>\n",
       "      <th>start_ride_price</th>\n",
       "      <th>subscription_fee</th>\n",
       "    </tr>\n",
       "  </thead>\n",
       "  <tbody>\n",
       "    <tr>\n",
       "      <th>0</th>\n",
       "      <td>free</td>\n",
       "      <td>8</td>\n",
       "      <td>50</td>\n",
       "      <td>0</td>\n",
       "    </tr>\n",
       "    <tr>\n",
       "      <th>1</th>\n",
       "      <td>ultra</td>\n",
       "      <td>6</td>\n",
       "      <td>0</td>\n",
       "      <td>199</td>\n",
       "    </tr>\n",
       "  </tbody>\n",
       "</table>\n",
       "</div>"
      ],
      "text/plain": [
       "  subscription_type  minute_price  start_ride_price  subscription_fee\n",
       "0              free             8                50                 0\n",
       "1             ultra             6                 0               199"
      ]
     },
     "execution_count": 9,
     "metadata": {},
     "output_type": "execute_result"
    }
   ],
   "source": [
    "subscriptions_data.head()"
   ]
  },
  {
   "cell_type": "code",
   "execution_count": 10,
   "id": "56c39ff1",
   "metadata": {},
   "outputs": [
    {
     "name": "stdout",
     "output_type": "stream",
     "text": [
      "<class 'pandas.core.frame.DataFrame'>\n",
      "RangeIndex: 2 entries, 0 to 1\n",
      "Data columns (total 4 columns):\n",
      " #   Column             Non-Null Count  Dtype \n",
      "---  ------             --------------  ----- \n",
      " 0   subscription_type  2 non-null      object\n",
      " 1   minute_price       2 non-null      int64 \n",
      " 2   start_ride_price   2 non-null      int64 \n",
      " 3   subscription_fee   2 non-null      int64 \n",
      "dtypes: int64(3), object(1)\n",
      "memory usage: 192.0+ bytes\n"
     ]
    }
   ],
   "source": [
    "subscriptions_data.info()"
   ]
  },
  {
   "cell_type": "markdown",
   "id": "752b5e3d",
   "metadata": {},
   "source": [
    "Данные были заружены в три различных датафрейма - `users_data`, `rides_data` и `subscriptions_data`. Замечания по данным:\n",
    "- нумерация в столбце `user_id` начинается с единицы, а не с нуля.\n",
    "- тип данных в столбце `date` не соответсвует данным, которые в нём хранятся\n",
    "- в данных отсутствуют пропущенные значения `NaN` или `None` "
   ]
  },
  {
   "cell_type": "markdown",
   "id": "948cd647",
   "metadata": {},
   "source": [
    "<div class=\"alert alert-block alert-success\">\n",
    "<b>✅Комментарий ревьюера:</b> Отлично, с данными познакомились! ✔</div>"
   ]
  },
  {
   "cell_type": "markdown",
   "id": "d43388e4",
   "metadata": {},
   "source": [
    "#### Шаг 2. Предобработка данных"
   ]
  },
  {
   "cell_type": "markdown",
   "id": "a61ab3d9",
   "metadata": {},
   "source": [
    "##### Приведём столбец `date` к типу даты pandas"
   ]
  },
  {
   "cell_type": "code",
   "execution_count": 11,
   "id": "fe8db226",
   "metadata": {},
   "outputs": [
    {
     "data": {
      "text/plain": [
       "user_id       int64\n",
       "distance    float64\n",
       "duration    float64\n",
       "date         object\n",
       "dtype: object"
      ]
     },
     "execution_count": 11,
     "metadata": {},
     "output_type": "execute_result"
    }
   ],
   "source": [
    "# check\n",
    "rides_data.dtypes"
   ]
  },
  {
   "cell_type": "code",
   "execution_count": 12,
   "id": "90b46ea2",
   "metadata": {},
   "outputs": [],
   "source": [
    "rides_data.date = pd.to_datetime(rides_data.date)"
   ]
  },
  {
   "cell_type": "code",
   "execution_count": 13,
   "id": "126c35bd",
   "metadata": {},
   "outputs": [
    {
     "data": {
      "text/plain": [
       "user_id              int64\n",
       "distance           float64\n",
       "duration           float64\n",
       "date        datetime64[ns]\n",
       "dtype: object"
      ]
     },
     "execution_count": 13,
     "metadata": {},
     "output_type": "execute_result"
    }
   ],
   "source": [
    "#check\n",
    "rides_data.dtypes"
   ]
  },
  {
   "cell_type": "markdown",
   "id": "2b1bc200",
   "metadata": {},
   "source": [
    "##### Создадим новый столбец с номером месяца на основе столбца date."
   ]
  },
  {
   "cell_type": "code",
   "execution_count": 14,
   "id": "f7a66f19",
   "metadata": {},
   "outputs": [],
   "source": [
    "rides_data['month'] = rides_data.date.dt.month"
   ]
  },
  {
   "cell_type": "code",
   "execution_count": 15,
   "id": "2badaede",
   "metadata": {},
   "outputs": [
    {
     "data": {
      "text/html": [
       "<div>\n",
       "<style scoped>\n",
       "    .dataframe tbody tr th:only-of-type {\n",
       "        vertical-align: middle;\n",
       "    }\n",
       "\n",
       "    .dataframe tbody tr th {\n",
       "        vertical-align: top;\n",
       "    }\n",
       "\n",
       "    .dataframe thead th {\n",
       "        text-align: right;\n",
       "    }\n",
       "</style>\n",
       "<table border=\"1\" class=\"dataframe\">\n",
       "  <thead>\n",
       "    <tr style=\"text-align: right;\">\n",
       "      <th></th>\n",
       "      <th>date</th>\n",
       "      <th>month</th>\n",
       "    </tr>\n",
       "  </thead>\n",
       "  <tbody>\n",
       "    <tr>\n",
       "      <th>0</th>\n",
       "      <td>2021-01-01</td>\n",
       "      <td>1</td>\n",
       "    </tr>\n",
       "    <tr>\n",
       "      <th>1</th>\n",
       "      <td>2021-01-18</td>\n",
       "      <td>1</td>\n",
       "    </tr>\n",
       "    <tr>\n",
       "      <th>2</th>\n",
       "      <td>2021-04-20</td>\n",
       "      <td>4</td>\n",
       "    </tr>\n",
       "    <tr>\n",
       "      <th>3</th>\n",
       "      <td>2021-08-11</td>\n",
       "      <td>8</td>\n",
       "    </tr>\n",
       "    <tr>\n",
       "      <th>4</th>\n",
       "      <td>2021-08-28</td>\n",
       "      <td>8</td>\n",
       "    </tr>\n",
       "    <tr>\n",
       "      <th>5</th>\n",
       "      <td>2021-10-09</td>\n",
       "      <td>10</td>\n",
       "    </tr>\n",
       "    <tr>\n",
       "      <th>6</th>\n",
       "      <td>2021-10-19</td>\n",
       "      <td>10</td>\n",
       "    </tr>\n",
       "    <tr>\n",
       "      <th>7</th>\n",
       "      <td>2021-11-06</td>\n",
       "      <td>11</td>\n",
       "    </tr>\n",
       "    <tr>\n",
       "      <th>8</th>\n",
       "      <td>2021-11-14</td>\n",
       "      <td>11</td>\n",
       "    </tr>\n",
       "    <tr>\n",
       "      <th>9</th>\n",
       "      <td>2021-11-22</td>\n",
       "      <td>11</td>\n",
       "    </tr>\n",
       "  </tbody>\n",
       "</table>\n",
       "</div>"
      ],
      "text/plain": [
       "        date  month\n",
       "0 2021-01-01      1\n",
       "1 2021-01-18      1\n",
       "2 2021-04-20      4\n",
       "3 2021-08-11      8\n",
       "4 2021-08-28      8\n",
       "5 2021-10-09     10\n",
       "6 2021-10-19     10\n",
       "7 2021-11-06     11\n",
       "8 2021-11-14     11\n",
       "9 2021-11-22     11"
      ]
     },
     "execution_count": 15,
     "metadata": {},
     "output_type": "execute_result"
    }
   ],
   "source": [
    "# check\n",
    "rides_data[['date', 'month']].head(10)"
   ]
  },
  {
   "cell_type": "code",
   "execution_count": 16,
   "id": "4af3d20a",
   "metadata": {},
   "outputs": [
    {
     "data": {
      "text/plain": [
       "count                            18068\n",
       "mean     2021-06-30 19:47:21.266327296\n",
       "min                2021-01-01 00:00:00\n",
       "25%                2021-04-02 00:00:00\n",
       "50%                2021-06-30 00:00:00\n",
       "75%                2021-09-28 00:00:00\n",
       "max                2021-12-30 00:00:00\n",
       "Name: date, dtype: object"
      ]
     },
     "execution_count": 16,
     "metadata": {},
     "output_type": "execute_result"
    }
   ],
   "source": [
    "# Данные за 2021 год\n",
    "rides_data['date'].describe(datetime_is_numeric=True)"
   ]
  },
  {
   "cell_type": "markdown",
   "id": "e3ad5ed2",
   "metadata": {},
   "source": [
    "<div class=\"alert alert-block alert-warning\">\n",
    "<b>🔁Комментарий ревьюера:</b> \n",
    "\n",
    "Дополнительно можно проверить данные за какой период у нас имеются ✔</div>"
   ]
  },
  {
   "cell_type": "markdown",
   "id": "844567dd",
   "metadata": {},
   "source": [
    "<div class=\"alert alert-block alert-success\">\n",
    "<b>✅Комментарий ревьюера 2:</b> Отлично, исправлено!👍  </div>"
   ]
  },
  {
   "cell_type": "markdown",
   "id": "5664271a",
   "metadata": {},
   "source": [
    "##### Проверим наличие пропущенных значений и дубликатов в датафреймах. Обработаем их, если такие значения присутствуют."
   ]
  },
  {
   "cell_type": "code",
   "execution_count": 17,
   "id": "26adf9da",
   "metadata": {},
   "outputs": [
    {
     "data": {
      "text/plain": [
       "user_id              0\n",
       "name                 0\n",
       "age                  0\n",
       "city                 0\n",
       "subscription_type    0\n",
       "dtype: int64"
      ]
     },
     "execution_count": 17,
     "metadata": {},
     "output_type": "execute_result"
    }
   ],
   "source": [
    "# check\n",
    "users_data.isna().sum()"
   ]
  },
  {
   "cell_type": "code",
   "execution_count": 18,
   "id": "8d69341b",
   "metadata": {},
   "outputs": [
    {
     "data": {
      "text/plain": [
       "user_id     0\n",
       "distance    0\n",
       "duration    0\n",
       "date        0\n",
       "month       0\n",
       "dtype: int64"
      ]
     },
     "execution_count": 18,
     "metadata": {},
     "output_type": "execute_result"
    }
   ],
   "source": [
    "# check\n",
    "rides_data.isna().sum()"
   ]
  },
  {
   "cell_type": "code",
   "execution_count": 19,
   "id": "fba51f21",
   "metadata": {},
   "outputs": [
    {
     "data": {
      "text/plain": [
       "subscription_type    0\n",
       "minute_price         0\n",
       "start_ride_price     0\n",
       "subscription_fee     0\n",
       "dtype: int64"
      ]
     },
     "execution_count": 19,
     "metadata": {},
     "output_type": "execute_result"
    }
   ],
   "source": [
    "# check\n",
    "subscriptions_data.isna().sum()"
   ]
  },
  {
   "cell_type": "code",
   "execution_count": 20,
   "id": "a94526aa",
   "metadata": {},
   "outputs": [
    {
     "data": {
      "text/plain": [
       "array(['Агата', 'Аделина', 'Адель', 'Айдар', 'Александр', 'Александра',\n",
       "       'Алексей', 'Алина', 'Алиса', 'Алия', 'Алла', 'Альберт', 'Альбина',\n",
       "       'Алёна', 'Амалия', 'Амина', 'Амир', 'Анастасия', 'Анатолий',\n",
       "       'Ангелина', 'Андрей', 'Анжелика', 'Анна', 'Антон', 'Антонина',\n",
       "       'Ариана', 'Арина', 'Арсен', 'Арсений', 'Артемий', 'Артур', 'Артём',\n",
       "       'Богдан', 'Борис', 'Вадим', 'Валентина', 'Валерий', 'Валерия',\n",
       "       'Варвара', 'Василий', 'Василина', 'Василиса', 'Вера', 'Вероника',\n",
       "       'Виктор', 'Виктория', 'Виолетта', 'Виталий', 'Виталина', 'Влад',\n",
       "       'Влада', 'Владимир', 'Владислав', 'Владислава', 'Всеволод',\n",
       "       'Вячеслав', 'Галина', 'Георгий', 'Герман', 'Глеб', 'Гордей',\n",
       "       'Григорий', 'Давид', 'Дамир', 'Даниил', 'Данил', 'Данила',\n",
       "       'Даниэль', 'Дарина', 'Дарья', 'Демид', 'Денис', 'Диана', 'Дмитрий',\n",
       "       'Ева', 'Евгений', 'Евгения', 'Егор', 'Екатерина', 'Елена',\n",
       "       'Елизавета', 'Елисей', 'Есения', 'Жанна', 'Зарина', 'Захар',\n",
       "       'Злата', 'Иван', 'Игнат', 'Игорь', 'Ильдар', 'Илья', 'Инна',\n",
       "       'Ирина', 'Камилла', 'Карина', 'Каролина', 'Кира', 'Кирилл',\n",
       "       'Константин', 'Кристина', 'Ксения', 'Лариса', 'Лев', 'Леонид',\n",
       "       'Лиана', 'Лидия', 'Лилия', 'Любовь', 'Людмила', 'Мадина', 'Майя',\n",
       "       'Макар', 'Максим', 'Марат', 'Маргарита', 'Марина', 'Мария', 'Марк',\n",
       "       'Марсель', 'Матвей', 'Мелания', 'Милана', 'Милена', 'Мирон',\n",
       "       'Мирослав', 'Мирослава', 'Михаил', 'Назар', 'Наталия', 'Наталья',\n",
       "       'Наташа', 'Нелли', 'Ника', 'Никита', 'Николай', 'Нина', 'Одиссей',\n",
       "       'Оксана', 'Олег', 'Олеся', 'Ольга', 'Павел', 'Петр', 'Платон',\n",
       "       'Полина', 'Радмир', 'Рамиль', 'Регина', 'Роберт', 'Родион',\n",
       "       'Роман', 'Ростислав', 'Руслан', 'Рустам', 'Савелий', 'Самир',\n",
       "       'Самира', 'Светлана', 'Святогор', 'Святослав', 'Семен', 'Сергей',\n",
       "       'Снежана', 'София', 'Софья', 'Станислав', 'Степан', 'Стефания',\n",
       "       'Таисия', 'Тамара', 'Тамерлан', 'Татьяна', 'Тимофей', 'Тимур',\n",
       "       'Тихон', 'Ульяна', 'Федор', 'Эвелина', 'Эдуард', 'Элина',\n",
       "       'Эльвира', 'Эльмира', 'Эмилия', 'Эмиль', 'Юлиана', 'Юлия', 'Юрий',\n",
       "       'Ян', 'Яна', 'Яромир', 'Ярослав', 'Ярослава', 'Ясмина'],\n",
       "      dtype=object)"
      ]
     },
     "execution_count": 20,
     "metadata": {},
     "output_type": "execute_result"
    }
   ],
   "source": [
    "# check\n",
    "users_data.name.sort_values().unique()"
   ]
  },
  {
   "cell_type": "code",
   "execution_count": 21,
   "id": "8ab4c120",
   "metadata": {},
   "outputs": [],
   "source": [
    "substrings = [\n",
    "    ('Адель', 'Аделина'),\n",
    "    ('Наталия', 'Наталья'),\n",
    "    ('Наташа', 'Наталья'),\n",
    "    ('София', 'Софья')\n",
    "]\n",
    "\n",
    "for old_substring, new_substring in substrings:\n",
    "    users_data.name = users_data.name.apply(lambda x: x.replace(old_substring, new_substring)) "
   ]
  },
  {
   "cell_type": "markdown",
   "id": "6d964148",
   "metadata": {},
   "source": [
    "<div class=\"alert alert-block alert-warning\">\n",
    "<b>🔁Комментарий ревьюера:</b> \n",
    "\n",
    "А имеет ли в данном случае значение то, под каким именем зарегистрировался пользователь?</div>\n"
   ]
  },
  {
   "cell_type": "markdown",
   "id": "7161fec7",
   "metadata": {},
   "source": [
    "<div class=\"alert alert-block alert-info\">\n",
    "<b>🔄Комментарий студента:</b> \n",
    "Возможно это могло понадобиться при дальнейшем исследовании. Постфактум можно сказать, что эти изменения\n",
    "не повлияли на результаты анализа данных ✔\n",
    "</div>"
   ]
  },
  {
   "cell_type": "markdown",
   "id": "e74f974a",
   "metadata": {},
   "source": [
    "<div class=\"alert alert-block alert-success\">\n",
    "<b>✅Комментарий ревьюера 2:</b>👍  </div>"
   ]
  },
  {
   "cell_type": "code",
   "execution_count": 22,
   "id": "a8c93098",
   "metadata": {},
   "outputs": [
    {
     "data": {
      "text/plain": [
       "array(['Агата', 'Аделина', 'Айдар', 'Александр', 'Александра', 'Алексей',\n",
       "       'Алина', 'Алиса', 'Алия', 'Алла', 'Альберт', 'Альбина', 'Алёна',\n",
       "       'Амалия', 'Амина', 'Амир', 'Анастасия', 'Анатолий', 'Ангелина',\n",
       "       'Андрей', 'Анжелика', 'Анна', 'Антон', 'Антонина', 'Ариана',\n",
       "       'Арина', 'Арсен', 'Арсений', 'Артемий', 'Артур', 'Артём', 'Богдан',\n",
       "       'Борис', 'Вадим', 'Валентина', 'Валерий', 'Валерия', 'Варвара',\n",
       "       'Василий', 'Василина', 'Василиса', 'Вера', 'Вероника', 'Виктор',\n",
       "       'Виктория', 'Виолетта', 'Виталий', 'Виталина', 'Влад', 'Влада',\n",
       "       'Владимир', 'Владислав', 'Владислава', 'Всеволод', 'Вячеслав',\n",
       "       'Галина', 'Георгий', 'Герман', 'Глеб', 'Гордей', 'Григорий',\n",
       "       'Давид', 'Дамир', 'Даниил', 'Данил', 'Данила', 'Даниэль', 'Дарина',\n",
       "       'Дарья', 'Демид', 'Денис', 'Диана', 'Дмитрий', 'Ева', 'Евгений',\n",
       "       'Евгения', 'Егор', 'Екатерина', 'Елена', 'Елизавета', 'Елисей',\n",
       "       'Есения', 'Жанна', 'Зарина', 'Захар', 'Злата', 'Иван', 'Игнат',\n",
       "       'Игорь', 'Ильдар', 'Илья', 'Инна', 'Ирина', 'Камилла', 'Карина',\n",
       "       'Каролина', 'Кира', 'Кирилл', 'Константин', 'Кристина', 'Ксения',\n",
       "       'Лариса', 'Лев', 'Леонид', 'Лиана', 'Лидия', 'Лилия', 'Любовь',\n",
       "       'Людмила', 'Мадина', 'Майя', 'Макар', 'Максим', 'Марат',\n",
       "       'Маргарита', 'Марина', 'Мария', 'Марк', 'Марсель', 'Матвей',\n",
       "       'Мелания', 'Милана', 'Милена', 'Мирон', 'Мирослав', 'Мирослава',\n",
       "       'Михаил', 'Назар', 'Наталья', 'Нелли', 'Ника', 'Никита', 'Николай',\n",
       "       'Нина', 'Одиссей', 'Оксана', 'Олег', 'Олеся', 'Ольга', 'Павел',\n",
       "       'Петр', 'Платон', 'Полина', 'Радмир', 'Рамиль', 'Регина', 'Роберт',\n",
       "       'Родион', 'Роман', 'Ростислав', 'Руслан', 'Рустам', 'Савелий',\n",
       "       'Самир', 'Самира', 'Светлана', 'Святогор', 'Святослав', 'Семен',\n",
       "       'Сергей', 'Снежана', 'Софья', 'Станислав', 'Степан', 'Стефания',\n",
       "       'Таисия', 'Тамара', 'Тамерлан', 'Татьяна', 'Тимофей', 'Тимур',\n",
       "       'Тихон', 'Ульяна', 'Федор', 'Эвелина', 'Эдуард', 'Элина',\n",
       "       'Эльвира', 'Эльмира', 'Эмилия', 'Эмиль', 'Юлиана', 'Юлия', 'Юрий',\n",
       "       'Ян', 'Яна', 'Яромир', 'Ярослав', 'Ярослава', 'Ясмина'],\n",
       "      dtype=object)"
      ]
     },
     "execution_count": 22,
     "metadata": {},
     "output_type": "execute_result"
    }
   ],
   "source": [
    "# check\n",
    "users_data.name.sort_values().unique()"
   ]
  },
  {
   "cell_type": "code",
   "execution_count": 23,
   "id": "68505e21",
   "metadata": {},
   "outputs": [
    {
     "data": {
      "text/plain": [
       "31"
      ]
     },
     "execution_count": 23,
     "metadata": {},
     "output_type": "execute_result"
    }
   ],
   "source": [
    "# check\n",
    "users_data.duplicated().sum()"
   ]
  },
  {
   "cell_type": "code",
   "execution_count": 24,
   "id": "90120faf",
   "metadata": {},
   "outputs": [],
   "source": [
    "users_data.drop_duplicates(inplace=True)"
   ]
  },
  {
   "cell_type": "code",
   "execution_count": 25,
   "id": "57e8cb16",
   "metadata": {},
   "outputs": [
    {
     "data": {
      "text/plain": [
       "0"
      ]
     },
     "execution_count": 25,
     "metadata": {},
     "output_type": "execute_result"
    }
   ],
   "source": [
    "# check\n",
    "users_data.duplicated().sum()"
   ]
  },
  {
   "cell_type": "code",
   "execution_count": 26,
   "id": "2cd5f2bc",
   "metadata": {},
   "outputs": [
    {
     "data": {
      "text/plain": [
       "0"
      ]
     },
     "execution_count": 26,
     "metadata": {},
     "output_type": "execute_result"
    }
   ],
   "source": [
    "# check\n",
    "rides_data.duplicated().sum()"
   ]
  },
  {
   "cell_type": "code",
   "execution_count": 27,
   "id": "8faee1fd",
   "metadata": {},
   "outputs": [
    {
     "data": {
      "text/plain": [
       "0"
      ]
     },
     "execution_count": 27,
     "metadata": {},
     "output_type": "execute_result"
    }
   ],
   "source": [
    "# check\n",
    "subscriptions_data.duplicated().sum()"
   ]
  },
  {
   "cell_type": "markdown",
   "id": "729e2a9d",
   "metadata": {},
   "source": [
    "Мы преобразовали типы данных там, где это потребовалось. В данных отсутствовали пропуски, но были найдены неявные и явные дубликаты"
   ]
  },
  {
   "cell_type": "markdown",
   "id": "6e682f88",
   "metadata": {},
   "source": [
    "<div class=\"alert alert-block alert-success\">\n",
    "<b>✅Комментарий ревьюера:</b> Предобработка данных проведена успешно! ✔</div>"
   ]
  },
  {
   "cell_type": "markdown",
   "id": "e3fbc332",
   "metadata": {},
   "source": [
    "#### Шаг 3. Исследовательский анализ данных"
   ]
  },
  {
   "cell_type": "markdown",
   "id": "dc2ea71c",
   "metadata": {},
   "source": [
    "##### Частота встречаемости городов"
   ]
  },
  {
   "cell_type": "code",
   "execution_count": 28,
   "id": "226f5361",
   "metadata": {},
   "outputs": [
    {
     "data": {
      "text/plain": [
       "Пятигорск         219\n",
       "Екатеринбург      204\n",
       "Ростов-на-Дону    198\n",
       "Краснодар         193\n",
       "Сочи              189\n",
       "Омск              183\n",
       "Тюмень            180\n",
       "Москва            168\n",
       "Name: city, dtype: int64"
      ]
     },
     "execution_count": 28,
     "metadata": {},
     "output_type": "execute_result"
    }
   ],
   "source": [
    "users_data.city.value_counts()"
   ]
  },
  {
   "cell_type": "code",
   "execution_count": 29,
   "id": "3a04c994",
   "metadata": {},
   "outputs": [
    {
     "data": {
      "image/png": "[encoded data removed]",
      "text/plain": [
       "<Figure size 864x288 with 1 Axes>"
      ]
     },
     "metadata": {
      "needs_background": "light"
     },
     "output_type": "display_data"
    }
   ],
   "source": [
    "users_data.city.value_counts().plot(kind='barh',\n",
    "                                    figsize=(12, 4),\n",
    "                                    rot=-5,\n",
    "                                    fontsize=16,\n",
    "                                    title='Частота встречаемости городов',\n",
    "                                    grid=True);"
   ]
  },
  {
   "cell_type": "markdown",
   "id": "37bbd822",
   "metadata": {},
   "source": [
    "<div class=\"alert alert-block alert-warning\">\n",
    "<b>🔁Комментарий ревьюера:</b> \n",
    "\n",
    "Для удобства лучше повернуть график на 90 градусов. ✔</div>"
   ]
  },
  {
   "cell_type": "markdown",
   "id": "48469d20",
   "metadata": {},
   "source": [
    "<div class=\"alert alert-block alert-success\">\n",
    "<b>✅Комментарий ревьюера 2:</b> Отлично, исправлено!👍  </div>"
   ]
  },
  {
   "cell_type": "markdown",
   "id": "3bfab86a",
   "metadata": {},
   "source": [
    "##### Соотношение пользователей с подпиской и без подписки"
   ]
  },
  {
   "cell_type": "code",
   "execution_count": 30,
   "id": "a8a26acc",
   "metadata": {},
   "outputs": [
    {
     "data": {
      "text/plain": [
       "free     835\n",
       "ultra    699\n",
       "Name: subscription_type, dtype: int64"
      ]
     },
     "execution_count": 30,
     "metadata": {},
     "output_type": "execute_result"
    }
   ],
   "source": [
    "users_data.subscription_type.value_counts()"
   ]
  },
  {
   "cell_type": "code",
   "execution_count": 31,
   "id": "5307691d",
   "metadata": {},
   "outputs": [
    {
     "data": {
      "image/png": "[encoded data removed]",
      "text/plain": [
       "<Figure size 864x288 with 1 Axes>"
      ]
     },
     "metadata": {},
     "output_type": "display_data"
    }
   ],
   "source": [
    "users_data.subscription_type.value_counts().plot(kind='pie',\n",
    "                                                 figsize=(12, 4),\n",
    "                                                 autopct='%1.1f%%',\n",
    "                                                 title='Cоотношение пользователей с подпиской и без подписки',\n",
    "                                                 shadow=True,\n",
    "                                                 grid=True);"
   ]
  },
  {
   "cell_type": "markdown",
   "id": "a4fd7d40",
   "metadata": {},
   "source": [
    "<div class=\"alert alert-block alert-warning\">\n",
    "<b>🔁Комментарий ревьюера:</b>\n",
    "\n",
    "Тут отлично подошла бы круговая диаграмма с соотношением групп пользователей в % ✔</div>"
   ]
  },
  {
   "cell_type": "markdown",
   "id": "85ea1ed4",
   "metadata": {},
   "source": [
    "<div class=\"alert alert-block alert-success\">\n",
    "<b>✅Комментарий ревьюера 2:</b> Отлично, исправлено!👍  </div>"
   ]
  },
  {
   "cell_type": "markdown",
   "id": "2920701b",
   "metadata": {},
   "source": [
    "##### Возраст пользователей"
   ]
  },
  {
   "cell_type": "code",
   "execution_count": 32,
   "id": "aafb16bd",
   "metadata": {},
   "outputs": [
    {
     "data": {
      "text/plain": [
       "12      4\n",
       "13      8\n",
       "14      9\n",
       "15     13\n",
       "16     19\n",
       "17     26\n",
       "18     46\n",
       "19     47\n",
       "20     71\n",
       "21     93\n",
       "22    119\n",
       "23    129\n",
       "24    132\n",
       "25    145\n",
       "26    131\n",
       "27    119\n",
       "28    112\n",
       "29     68\n",
       "30     68\n",
       "31     48\n",
       "32     41\n",
       "33     39\n",
       "34     19\n",
       "35     15\n",
       "36      6\n",
       "37      2\n",
       "38      3\n",
       "39      1\n",
       "43      1\n",
       "Name: age, dtype: int64"
      ]
     },
     "execution_count": 32,
     "metadata": {},
     "output_type": "execute_result"
    }
   ],
   "source": [
    "users_data.age.value_counts().sort_index()"
   ]
  },
  {
   "cell_type": "code",
   "execution_count": 33,
   "id": "d91c0436",
   "metadata": {},
   "outputs": [
    {
     "data": {
      "image/png": "[encoded data removed]",
      "text/plain": [
       "<Figure size 864x288 with 1 Axes>"
      ]
     },
     "metadata": {
      "needs_background": "light"
     },
     "output_type": "display_data"
    }
   ],
   "source": [
    "users_data.age.value_counts().sort_index().plot(kind='bar',\n",
    "                                                figsize=(12, 4),\n",
    "                                                title='Возраст пользователей',\n",
    "                                                grid=True);\n",
    "plt.xlabel('возраст')\n",
    "plt.ylabel('количество пользователей')\n",
    "plt.xticks(rotation=360);"
   ]
  },
  {
   "cell_type": "markdown",
   "id": "b11b5e3a",
   "metadata": {},
   "source": [
    "<div class=\"alert alert-block alert-success\">\n",
    "<b>✅Комментарий ревьюера:</b> Очень хорошо, что подписываешь графики. ✔</div>"
   ]
  },
  {
   "cell_type": "markdown",
   "id": "8ae82d7d",
   "metadata": {},
   "source": [
    "<div class=\"alert alert-block alert-danger\">\n",
    "<b>❌Комментарий ревьюера:</b>\n",
    "    \n",
    "Но оси на граифках тоже нужно подписывать. Есть [хорошая статья](https://devpractice.ru/matplotlib-lesson-3-3-text-elements/), которая подскажет как это правильно сделать). ✔ </div>"
   ]
  },
  {
   "cell_type": "markdown",
   "id": "7699b454",
   "metadata": {},
   "source": [
    "<div class=\"alert alert-block alert-success\">\n",
    "<b>✅Комментарий ревьюера 2:</b> Отлично, исправлено!👍  </div>"
   ]
  },
  {
   "cell_type": "markdown",
   "id": "b920f027",
   "metadata": {},
   "source": [
    "<div class=\"alert alert-block alert-warning\">\n",
    "<b>🔁Комментарий ревьюера:</b> \n",
    "\n",
    "Значения на оси х стоит развернуть. ✔</div>"
   ]
  },
  {
   "cell_type": "markdown",
   "id": "9387c9ed",
   "metadata": {},
   "source": [
    "<div class=\"alert alert-block alert-success\">\n",
    "<b>✅Комментарий ревьюера 2:</b> Отлично, исправлено!👍  </div>"
   ]
  },
  {
   "cell_type": "markdown",
   "id": "36f68ef1",
   "metadata": {},
   "source": [
    "##### Расстояние, которое пользователь преодолел за одну поездку"
   ]
  },
  {
   "cell_type": "code",
   "execution_count": 34,
   "id": "35d67848",
   "metadata": {},
   "outputs": [
    {
     "data": {
      "image/png": "[encoded data removed]",
      "text/plain": [
       "<Figure size 864x288 with 1 Axes>"
      ]
     },
     "metadata": {
      "needs_background": "light"
     },
     "output_type": "display_data"
    }
   ],
   "source": [
    "rides_data.distance.plot(kind='hist',\n",
    "                         bins=100,\n",
    "                         figsize=(12, 4),\n",
    "                         title='Расстояние, которое пользователь преодолел за одну поездку',\n",
    "                         grid=True);\n",
    "plt.xlabel('расстояние');\n",
    "plt.ylabel('частота');"
   ]
  },
  {
   "cell_type": "markdown",
   "id": "082a8ec0",
   "metadata": {},
   "source": [
    "##### Продолжительность поездок"
   ]
  },
  {
   "cell_type": "code",
   "execution_count": 35,
   "id": "50b502c2",
   "metadata": {},
   "outputs": [
    {
     "data": {
      "image/png": "[encoded data removed]",
      "text/plain": [
       "<Figure size 864x288 with 1 Axes>"
      ]
     },
     "metadata": {
      "needs_background": "light"
     },
     "output_type": "display_data"
    }
   ],
   "source": [
    "rides_data.duration.plot(kind='hist',\n",
    "                         bins=100,\n",
    "                         figsize=(12, 4),\n",
    "                         title='Продолжительность поездок',\n",
    "                         grid=True);\n",
    "plt.xlabel('продолжительность');\n",
    "plt.ylabel('частота');"
   ]
  },
  {
   "cell_type": "code",
   "execution_count": 36,
   "id": "d3519403",
   "metadata": {},
   "outputs": [
    {
     "data": {
      "text/plain": [
       "0.500000     95\n",
       "22.184080     1\n",
       "25.866000     1\n",
       "22.837062     1\n",
       "19.173800     1\n",
       "             ..\n",
       "18.843765     1\n",
       "17.644888     1\n",
       "22.477965     1\n",
       "19.745218     1\n",
       "16.537044     1\n",
       "Name: duration, Length: 17974, dtype: int64"
      ]
     },
     "execution_count": 36,
     "metadata": {},
     "output_type": "execute_result"
    }
   ],
   "source": [
    "rides_data.duration.value_counts()"
   ]
  },
  {
   "cell_type": "code",
   "execution_count": 37,
   "id": "1ae254ae",
   "metadata": {},
   "outputs": [
    {
     "data": {
      "text/plain": [
       "count      95.000000\n",
       "mean     5113.176549\n",
       "std       658.254104\n",
       "min      4030.308008\n",
       "25%      4611.510820\n",
       "50%      5052.769411\n",
       "75%      5488.459099\n",
       "max      7211.007745\n",
       "Name: distance, dtype: float64"
      ]
     },
     "execution_count": 37,
     "metadata": {},
     "output_type": "execute_result"
    }
   ],
   "source": [
    "# check\n",
    "rides_data[rides_data.duration == 0.5].distance.describe()"
   ]
  },
  {
   "cell_type": "code",
   "execution_count": 38,
   "id": "c4399c9a",
   "metadata": {},
   "outputs": [
    {
     "data": {
      "image/png": "[encoded data removed]",
      "text/plain": [
       "<Figure size 864x288 with 1 Axes>"
      ]
     },
     "metadata": {
      "needs_background": "light"
     },
     "output_type": "display_data"
    }
   ],
   "source": [
    "rides_data[rides_data.duration == 0.5].distance.plot(kind='hist',\n",
    "                                                     bins=10,\n",
    "                                                     figsize=(12, 4),\n",
    "                                                     title='Расстояние, которое пользователь преодолел за одну поездку',\n",
    "                                                     grid=True);\n",
    "plt.xlabel('расстояние');\n",
    "plt.ylabel('частота');"
   ]
  },
  {
   "cell_type": "markdown",
   "id": "8940fb71",
   "metadata": {},
   "source": [
    "- больше всего поездок в Пятигорске, меньше всего в Москве\n",
    "- пользователей без подписки чуть больше, чем пользователей с подпиской\n",
    "- возраст пользователей предположительно имеет нормальное распределение с наиболее частым значением (мода) - 25 лет\n",
    "- расстояние, которое пользователь преодолел за одну поездку имеет две моды - около `500м` и `3000м`. Можно предположить, что среди пользователей есть две категории - те, кто решил воспользоватся самокатом для развлечения, и те, кто решил воспользоватся им для перемещения из пункта `A` в пункт `B`\n",
    "- средняя продолжительность поездки - `15`-`20` минут. Также можно заметить большое количество поездок с нулевой продолжительностью поездки - пик со значением `0.5`. Такие поездки имеют завышенное среднее расстояние поездки."
   ]
  },
  {
   "cell_type": "markdown",
   "id": "cd188a38",
   "metadata": {},
   "source": [
    "<div class=\"alert alert-block alert-warning\">\n",
    "<b>🔁Комментарий ревьюера:</b> \n",
    "    \n",
    "Молодец, что обратил внимание на странный пик около 0! Строки с этими значениями стоит рассмотреть на предмет аномалий. ✔</div>"
   ]
  },
  {
   "cell_type": "markdown",
   "id": "8c8d4b50",
   "metadata": {},
   "source": [
    "<div class=\"alert alert-block alert-success\">\n",
    "<b>✅Комментарий ревьюера 2:</b> Отлично, исправлено!👍  </div>"
   ]
  },
  {
   "cell_type": "markdown",
   "id": "58e703b1",
   "metadata": {},
   "source": [
    "#### Шаг 4. Объединение данных"
   ]
  },
  {
   "cell_type": "markdown",
   "id": "151d0083",
   "metadata": {},
   "source": [
    "##### Объединим данные о пользователях, поездках и подписках в один датафрейм"
   ]
  },
  {
   "cell_type": "code",
   "execution_count": 39,
   "id": "9158548b",
   "metadata": {},
   "outputs": [],
   "source": [
    "data = pd.merge(pd.merge(users_data, rides_data, how='outer'), subscriptions_data, how='outer')"
   ]
  },
  {
   "cell_type": "code",
   "execution_count": 40,
   "id": "1d806758",
   "metadata": {},
   "outputs": [
    {
     "data": {
      "text/html": [
       "<div>\n",
       "<style scoped>\n",
       "    .dataframe tbody tr th:only-of-type {\n",
       "        vertical-align: middle;\n",
       "    }\n",
       "\n",
       "    .dataframe tbody tr th {\n",
       "        vertical-align: top;\n",
       "    }\n",
       "\n",
       "    .dataframe thead th {\n",
       "        text-align: right;\n",
       "    }\n",
       "</style>\n",
       "<table border=\"1\" class=\"dataframe\">\n",
       "  <thead>\n",
       "    <tr style=\"text-align: right;\">\n",
       "      <th></th>\n",
       "      <th>user_id</th>\n",
       "      <th>name</th>\n",
       "      <th>age</th>\n",
       "      <th>city</th>\n",
       "      <th>subscription_type</th>\n",
       "      <th>distance</th>\n",
       "      <th>duration</th>\n",
       "      <th>date</th>\n",
       "      <th>month</th>\n",
       "      <th>minute_price</th>\n",
       "      <th>start_ride_price</th>\n",
       "      <th>subscription_fee</th>\n",
       "    </tr>\n",
       "  </thead>\n",
       "  <tbody>\n",
       "    <tr>\n",
       "      <th>0</th>\n",
       "      <td>1</td>\n",
       "      <td>Кира</td>\n",
       "      <td>22</td>\n",
       "      <td>Тюмень</td>\n",
       "      <td>ultra</td>\n",
       "      <td>4409.919140</td>\n",
       "      <td>25.599769</td>\n",
       "      <td>2021-01-01</td>\n",
       "      <td>1</td>\n",
       "      <td>6</td>\n",
       "      <td>0</td>\n",
       "      <td>199</td>\n",
       "    </tr>\n",
       "    <tr>\n",
       "      <th>1</th>\n",
       "      <td>1</td>\n",
       "      <td>Кира</td>\n",
       "      <td>22</td>\n",
       "      <td>Тюмень</td>\n",
       "      <td>ultra</td>\n",
       "      <td>2617.592153</td>\n",
       "      <td>15.816871</td>\n",
       "      <td>2021-01-18</td>\n",
       "      <td>1</td>\n",
       "      <td>6</td>\n",
       "      <td>0</td>\n",
       "      <td>199</td>\n",
       "    </tr>\n",
       "    <tr>\n",
       "      <th>2</th>\n",
       "      <td>1</td>\n",
       "      <td>Кира</td>\n",
       "      <td>22</td>\n",
       "      <td>Тюмень</td>\n",
       "      <td>ultra</td>\n",
       "      <td>754.159807</td>\n",
       "      <td>6.232113</td>\n",
       "      <td>2021-04-20</td>\n",
       "      <td>4</td>\n",
       "      <td>6</td>\n",
       "      <td>0</td>\n",
       "      <td>199</td>\n",
       "    </tr>\n",
       "    <tr>\n",
       "      <th>3</th>\n",
       "      <td>1</td>\n",
       "      <td>Кира</td>\n",
       "      <td>22</td>\n",
       "      <td>Тюмень</td>\n",
       "      <td>ultra</td>\n",
       "      <td>2694.783254</td>\n",
       "      <td>18.511000</td>\n",
       "      <td>2021-08-11</td>\n",
       "      <td>8</td>\n",
       "      <td>6</td>\n",
       "      <td>0</td>\n",
       "      <td>199</td>\n",
       "    </tr>\n",
       "    <tr>\n",
       "      <th>4</th>\n",
       "      <td>1</td>\n",
       "      <td>Кира</td>\n",
       "      <td>22</td>\n",
       "      <td>Тюмень</td>\n",
       "      <td>ultra</td>\n",
       "      <td>4028.687306</td>\n",
       "      <td>26.265803</td>\n",
       "      <td>2021-08-28</td>\n",
       "      <td>8</td>\n",
       "      <td>6</td>\n",
       "      <td>0</td>\n",
       "      <td>199</td>\n",
       "    </tr>\n",
       "    <tr>\n",
       "      <th>...</th>\n",
       "      <td>...</td>\n",
       "      <td>...</td>\n",
       "      <td>...</td>\n",
       "      <td>...</td>\n",
       "      <td>...</td>\n",
       "      <td>...</td>\n",
       "      <td>...</td>\n",
       "      <td>...</td>\n",
       "      <td>...</td>\n",
       "      <td>...</td>\n",
       "      <td>...</td>\n",
       "      <td>...</td>\n",
       "    </tr>\n",
       "    <tr>\n",
       "      <th>18063</th>\n",
       "      <td>1534</td>\n",
       "      <td>Альберт</td>\n",
       "      <td>25</td>\n",
       "      <td>Краснодар</td>\n",
       "      <td>free</td>\n",
       "      <td>3781.098080</td>\n",
       "      <td>19.822962</td>\n",
       "      <td>2021-11-04</td>\n",
       "      <td>11</td>\n",
       "      <td>8</td>\n",
       "      <td>50</td>\n",
       "      <td>0</td>\n",
       "    </tr>\n",
       "    <tr>\n",
       "      <th>18064</th>\n",
       "      <td>1534</td>\n",
       "      <td>Альберт</td>\n",
       "      <td>25</td>\n",
       "      <td>Краснодар</td>\n",
       "      <td>free</td>\n",
       "      <td>2840.423057</td>\n",
       "      <td>21.409799</td>\n",
       "      <td>2021-11-16</td>\n",
       "      <td>11</td>\n",
       "      <td>8</td>\n",
       "      <td>50</td>\n",
       "      <td>0</td>\n",
       "    </tr>\n",
       "    <tr>\n",
       "      <th>18065</th>\n",
       "      <td>1534</td>\n",
       "      <td>Альберт</td>\n",
       "      <td>25</td>\n",
       "      <td>Краснодар</td>\n",
       "      <td>free</td>\n",
       "      <td>3826.185507</td>\n",
       "      <td>18.435051</td>\n",
       "      <td>2021-11-18</td>\n",
       "      <td>11</td>\n",
       "      <td>8</td>\n",
       "      <td>50</td>\n",
       "      <td>0</td>\n",
       "    </tr>\n",
       "    <tr>\n",
       "      <th>18066</th>\n",
       "      <td>1534</td>\n",
       "      <td>Альберт</td>\n",
       "      <td>25</td>\n",
       "      <td>Краснодар</td>\n",
       "      <td>free</td>\n",
       "      <td>2902.308661</td>\n",
       "      <td>16.674362</td>\n",
       "      <td>2021-11-27</td>\n",
       "      <td>11</td>\n",
       "      <td>8</td>\n",
       "      <td>50</td>\n",
       "      <td>0</td>\n",
       "    </tr>\n",
       "    <tr>\n",
       "      <th>18067</th>\n",
       "      <td>1534</td>\n",
       "      <td>Альберт</td>\n",
       "      <td>25</td>\n",
       "      <td>Краснодар</td>\n",
       "      <td>free</td>\n",
       "      <td>2371.711192</td>\n",
       "      <td>15.893917</td>\n",
       "      <td>2021-12-29</td>\n",
       "      <td>12</td>\n",
       "      <td>8</td>\n",
       "      <td>50</td>\n",
       "      <td>0</td>\n",
       "    </tr>\n",
       "  </tbody>\n",
       "</table>\n",
       "<p>18068 rows × 12 columns</p>\n",
       "</div>"
      ],
      "text/plain": [
       "       user_id     name  age       city subscription_type     distance  \\\n",
       "0            1     Кира   22     Тюмень             ultra  4409.919140   \n",
       "1            1     Кира   22     Тюмень             ultra  2617.592153   \n",
       "2            1     Кира   22     Тюмень             ultra   754.159807   \n",
       "3            1     Кира   22     Тюмень             ultra  2694.783254   \n",
       "4            1     Кира   22     Тюмень             ultra  4028.687306   \n",
       "...        ...      ...  ...        ...               ...          ...   \n",
       "18063     1534  Альберт   25  Краснодар              free  3781.098080   \n",
       "18064     1534  Альберт   25  Краснодар              free  2840.423057   \n",
       "18065     1534  Альберт   25  Краснодар              free  3826.185507   \n",
       "18066     1534  Альберт   25  Краснодар              free  2902.308661   \n",
       "18067     1534  Альберт   25  Краснодар              free  2371.711192   \n",
       "\n",
       "        duration       date  month  minute_price  start_ride_price  \\\n",
       "0      25.599769 2021-01-01      1             6                 0   \n",
       "1      15.816871 2021-01-18      1             6                 0   \n",
       "2       6.232113 2021-04-20      4             6                 0   \n",
       "3      18.511000 2021-08-11      8             6                 0   \n",
       "4      26.265803 2021-08-28      8             6                 0   \n",
       "...          ...        ...    ...           ...               ...   \n",
       "18063  19.822962 2021-11-04     11             8                50   \n",
       "18064  21.409799 2021-11-16     11             8                50   \n",
       "18065  18.435051 2021-11-18     11             8                50   \n",
       "18066  16.674362 2021-11-27     11             8                50   \n",
       "18067  15.893917 2021-12-29     12             8                50   \n",
       "\n",
       "       subscription_fee  \n",
       "0                   199  \n",
       "1                   199  \n",
       "2                   199  \n",
       "3                   199  \n",
       "4                   199  \n",
       "...                 ...  \n",
       "18063                 0  \n",
       "18064                 0  \n",
       "18065                 0  \n",
       "18066                 0  \n",
       "18067                 0  \n",
       "\n",
       "[18068 rows x 12 columns]"
      ]
     },
     "execution_count": 40,
     "metadata": {},
     "output_type": "execute_result"
    }
   ],
   "source": [
    "# check\n",
    "data"
   ]
  },
  {
   "cell_type": "code",
   "execution_count": 41,
   "id": "70f37118",
   "metadata": {},
   "outputs": [
    {
     "name": "stdout",
     "output_type": "stream",
     "text": [
      "Размеры таблицы users_data: (1534, 5)\n",
      "Размеры таблицы rides_data: (18068, 5)\n",
      "Размеры таблицы subscriptions_data: (2, 4)\n",
      "Размеры общей таблицы: (18068, 12)\n"
     ]
    }
   ],
   "source": [
    "# check\n",
    "print('Размеры таблицы users_data:', users_data.shape)\n",
    "print('Размеры таблицы rides_data:', rides_data.shape)\n",
    "print('Размеры таблицы subscriptions_data:', subscriptions_data.shape)\n",
    "print('Размеры общей таблицы:', data.shape)"
   ]
  },
  {
   "cell_type": "markdown",
   "id": "77775821",
   "metadata": {},
   "source": [
    "Размерность общей таблицы должна быть равна: $(max(1534, 18068, 2), (5 + 5 + 4 - 2)) = (18068, 12)$"
   ]
  },
  {
   "cell_type": "markdown",
   "id": "fd68b299",
   "metadata": {},
   "source": [
    "<div class=\"alert alert-block alert-warning\">\n",
    "<b>🔁Комментарий ревьюера:</b>\n",
    "\n",
    "Тут стоит сравнить размерность полученной таблицы с размерностями таблиц до объединения, чтобы убедиться что мы ничего не потеряли. ✔\n",
    "\n",
    "</div>"
   ]
  },
  {
   "cell_type": "markdown",
   "id": "56b21346",
   "metadata": {},
   "source": [
    "<div class=\"alert alert-block alert-success\">\n",
    "<b>✅Комментарий ревьюера 2:</b> Отлично, исправлено!👍  </div>"
   ]
  },
  {
   "cell_type": "markdown",
   "id": "89f17042",
   "metadata": {},
   "source": [
    "##### Создадим ещё два датафрейма c данными о пользователях без подписки и с данными о пользователях с подпиской"
   ]
  },
  {
   "cell_type": "code",
   "execution_count": 42,
   "id": "ce539f68",
   "metadata": {},
   "outputs": [],
   "source": [
    "free_data = data[data.subscription_type == 'free']\n",
    "ultra_data = data[data.subscription_type == 'ultra']"
   ]
  },
  {
   "cell_type": "markdown",
   "id": "39331ee8",
   "metadata": {},
   "source": [
    "<div class=\"alert alert-block alert-success\">\n",
    "<b>✅Комментарий ревьюера:</b> Таблицы созданы верно! ✔</div>"
   ]
  },
  {
   "cell_type": "code",
   "execution_count": 43,
   "id": "0eb59908",
   "metadata": {},
   "outputs": [
    {
     "data": {
      "text/html": [
       "<div>\n",
       "<style scoped>\n",
       "    .dataframe tbody tr th:only-of-type {\n",
       "        vertical-align: middle;\n",
       "    }\n",
       "\n",
       "    .dataframe tbody tr th {\n",
       "        vertical-align: top;\n",
       "    }\n",
       "\n",
       "    .dataframe thead th {\n",
       "        text-align: right;\n",
       "    }\n",
       "</style>\n",
       "<table border=\"1\" class=\"dataframe\">\n",
       "  <thead>\n",
       "    <tr style=\"text-align: right;\">\n",
       "      <th></th>\n",
       "      <th>user_id</th>\n",
       "      <th>name</th>\n",
       "      <th>age</th>\n",
       "      <th>city</th>\n",
       "      <th>subscription_type</th>\n",
       "      <th>distance</th>\n",
       "      <th>duration</th>\n",
       "      <th>date</th>\n",
       "      <th>month</th>\n",
       "      <th>minute_price</th>\n",
       "      <th>start_ride_price</th>\n",
       "      <th>subscription_fee</th>\n",
       "    </tr>\n",
       "  </thead>\n",
       "  <tbody>\n",
       "    <tr>\n",
       "      <th>6500</th>\n",
       "      <td>700</td>\n",
       "      <td>Айдар</td>\n",
       "      <td>22</td>\n",
       "      <td>Омск</td>\n",
       "      <td>free</td>\n",
       "      <td>2515.690719</td>\n",
       "      <td>14.944286</td>\n",
       "      <td>2021-01-02</td>\n",
       "      <td>1</td>\n",
       "      <td>8</td>\n",
       "      <td>50</td>\n",
       "      <td>0</td>\n",
       "    </tr>\n",
       "    <tr>\n",
       "      <th>6501</th>\n",
       "      <td>700</td>\n",
       "      <td>Айдар</td>\n",
       "      <td>22</td>\n",
       "      <td>Омск</td>\n",
       "      <td>free</td>\n",
       "      <td>846.932642</td>\n",
       "      <td>16.234663</td>\n",
       "      <td>2021-02-01</td>\n",
       "      <td>2</td>\n",
       "      <td>8</td>\n",
       "      <td>50</td>\n",
       "      <td>0</td>\n",
       "    </tr>\n",
       "    <tr>\n",
       "      <th>6502</th>\n",
       "      <td>700</td>\n",
       "      <td>Айдар</td>\n",
       "      <td>22</td>\n",
       "      <td>Омск</td>\n",
       "      <td>free</td>\n",
       "      <td>4004.434142</td>\n",
       "      <td>20.016628</td>\n",
       "      <td>2021-02-04</td>\n",
       "      <td>2</td>\n",
       "      <td>8</td>\n",
       "      <td>50</td>\n",
       "      <td>0</td>\n",
       "    </tr>\n",
       "    <tr>\n",
       "      <th>6503</th>\n",
       "      <td>700</td>\n",
       "      <td>Айдар</td>\n",
       "      <td>22</td>\n",
       "      <td>Омск</td>\n",
       "      <td>free</td>\n",
       "      <td>1205.911290</td>\n",
       "      <td>9.782872</td>\n",
       "      <td>2021-02-10</td>\n",
       "      <td>2</td>\n",
       "      <td>8</td>\n",
       "      <td>50</td>\n",
       "      <td>0</td>\n",
       "    </tr>\n",
       "    <tr>\n",
       "      <th>6504</th>\n",
       "      <td>700</td>\n",
       "      <td>Айдар</td>\n",
       "      <td>22</td>\n",
       "      <td>Омск</td>\n",
       "      <td>free</td>\n",
       "      <td>3047.379435</td>\n",
       "      <td>17.427673</td>\n",
       "      <td>2021-02-14</td>\n",
       "      <td>2</td>\n",
       "      <td>8</td>\n",
       "      <td>50</td>\n",
       "      <td>0</td>\n",
       "    </tr>\n",
       "    <tr>\n",
       "      <th>6505</th>\n",
       "      <td>700</td>\n",
       "      <td>Айдар</td>\n",
       "      <td>22</td>\n",
       "      <td>Омск</td>\n",
       "      <td>free</td>\n",
       "      <td>4342.002254</td>\n",
       "      <td>22.368009</td>\n",
       "      <td>2021-02-23</td>\n",
       "      <td>2</td>\n",
       "      <td>8</td>\n",
       "      <td>50</td>\n",
       "      <td>0</td>\n",
       "    </tr>\n",
       "    <tr>\n",
       "      <th>6506</th>\n",
       "      <td>700</td>\n",
       "      <td>Айдар</td>\n",
       "      <td>22</td>\n",
       "      <td>Омск</td>\n",
       "      <td>free</td>\n",
       "      <td>3798.334905</td>\n",
       "      <td>18.243756</td>\n",
       "      <td>2021-03-03</td>\n",
       "      <td>3</td>\n",
       "      <td>8</td>\n",
       "      <td>50</td>\n",
       "      <td>0</td>\n",
       "    </tr>\n",
       "    <tr>\n",
       "      <th>6507</th>\n",
       "      <td>700</td>\n",
       "      <td>Айдар</td>\n",
       "      <td>22</td>\n",
       "      <td>Омск</td>\n",
       "      <td>free</td>\n",
       "      <td>2984.551206</td>\n",
       "      <td>15.424899</td>\n",
       "      <td>2021-04-09</td>\n",
       "      <td>4</td>\n",
       "      <td>8</td>\n",
       "      <td>50</td>\n",
       "      <td>0</td>\n",
       "    </tr>\n",
       "    <tr>\n",
       "      <th>6508</th>\n",
       "      <td>700</td>\n",
       "      <td>Айдар</td>\n",
       "      <td>22</td>\n",
       "      <td>Омск</td>\n",
       "      <td>free</td>\n",
       "      <td>3360.107141</td>\n",
       "      <td>16.765497</td>\n",
       "      <td>2021-06-12</td>\n",
       "      <td>6</td>\n",
       "      <td>8</td>\n",
       "      <td>50</td>\n",
       "      <td>0</td>\n",
       "    </tr>\n",
       "    <tr>\n",
       "      <th>6509</th>\n",
       "      <td>700</td>\n",
       "      <td>Айдар</td>\n",
       "      <td>22</td>\n",
       "      <td>Омск</td>\n",
       "      <td>free</td>\n",
       "      <td>2567.543847</td>\n",
       "      <td>11.312160</td>\n",
       "      <td>2021-06-23</td>\n",
       "      <td>6</td>\n",
       "      <td>8</td>\n",
       "      <td>50</td>\n",
       "      <td>0</td>\n",
       "    </tr>\n",
       "  </tbody>\n",
       "</table>\n",
       "</div>"
      ],
      "text/plain": [
       "      user_id   name  age  city subscription_type     distance   duration  \\\n",
       "6500      700  Айдар   22  Омск              free  2515.690719  14.944286   \n",
       "6501      700  Айдар   22  Омск              free   846.932642  16.234663   \n",
       "6502      700  Айдар   22  Омск              free  4004.434142  20.016628   \n",
       "6503      700  Айдар   22  Омск              free  1205.911290   9.782872   \n",
       "6504      700  Айдар   22  Омск              free  3047.379435  17.427673   \n",
       "6505      700  Айдар   22  Омск              free  4342.002254  22.368009   \n",
       "6506      700  Айдар   22  Омск              free  3798.334905  18.243756   \n",
       "6507      700  Айдар   22  Омск              free  2984.551206  15.424899   \n",
       "6508      700  Айдар   22  Омск              free  3360.107141  16.765497   \n",
       "6509      700  Айдар   22  Омск              free  2567.543847  11.312160   \n",
       "\n",
       "           date  month  minute_price  start_ride_price  subscription_fee  \n",
       "6500 2021-01-02      1             8                50                 0  \n",
       "6501 2021-02-01      2             8                50                 0  \n",
       "6502 2021-02-04      2             8                50                 0  \n",
       "6503 2021-02-10      2             8                50                 0  \n",
       "6504 2021-02-14      2             8                50                 0  \n",
       "6505 2021-02-23      2             8                50                 0  \n",
       "6506 2021-03-03      3             8                50                 0  \n",
       "6507 2021-04-09      4             8                50                 0  \n",
       "6508 2021-06-12      6             8                50                 0  \n",
       "6509 2021-06-23      6             8                50                 0  "
      ]
     },
     "execution_count": 43,
     "metadata": {},
     "output_type": "execute_result"
    }
   ],
   "source": [
    "# check\n",
    "free_data.head(10)"
   ]
  },
  {
   "cell_type": "code",
   "execution_count": 44,
   "id": "23cf92da",
   "metadata": {},
   "outputs": [
    {
     "data": {
      "text/html": [
       "<div>\n",
       "<style scoped>\n",
       "    .dataframe tbody tr th:only-of-type {\n",
       "        vertical-align: middle;\n",
       "    }\n",
       "\n",
       "    .dataframe tbody tr th {\n",
       "        vertical-align: top;\n",
       "    }\n",
       "\n",
       "    .dataframe thead th {\n",
       "        text-align: right;\n",
       "    }\n",
       "</style>\n",
       "<table border=\"1\" class=\"dataframe\">\n",
       "  <thead>\n",
       "    <tr style=\"text-align: right;\">\n",
       "      <th></th>\n",
       "      <th>user_id</th>\n",
       "      <th>name</th>\n",
       "      <th>age</th>\n",
       "      <th>city</th>\n",
       "      <th>subscription_type</th>\n",
       "      <th>distance</th>\n",
       "      <th>duration</th>\n",
       "      <th>date</th>\n",
       "      <th>month</th>\n",
       "      <th>minute_price</th>\n",
       "      <th>start_ride_price</th>\n",
       "      <th>subscription_fee</th>\n",
       "    </tr>\n",
       "  </thead>\n",
       "  <tbody>\n",
       "    <tr>\n",
       "      <th>0</th>\n",
       "      <td>1</td>\n",
       "      <td>Кира</td>\n",
       "      <td>22</td>\n",
       "      <td>Тюмень</td>\n",
       "      <td>ultra</td>\n",
       "      <td>4409.919140</td>\n",
       "      <td>25.599769</td>\n",
       "      <td>2021-01-01</td>\n",
       "      <td>1</td>\n",
       "      <td>6</td>\n",
       "      <td>0</td>\n",
       "      <td>199</td>\n",
       "    </tr>\n",
       "    <tr>\n",
       "      <th>1</th>\n",
       "      <td>1</td>\n",
       "      <td>Кира</td>\n",
       "      <td>22</td>\n",
       "      <td>Тюмень</td>\n",
       "      <td>ultra</td>\n",
       "      <td>2617.592153</td>\n",
       "      <td>15.816871</td>\n",
       "      <td>2021-01-18</td>\n",
       "      <td>1</td>\n",
       "      <td>6</td>\n",
       "      <td>0</td>\n",
       "      <td>199</td>\n",
       "    </tr>\n",
       "    <tr>\n",
       "      <th>2</th>\n",
       "      <td>1</td>\n",
       "      <td>Кира</td>\n",
       "      <td>22</td>\n",
       "      <td>Тюмень</td>\n",
       "      <td>ultra</td>\n",
       "      <td>754.159807</td>\n",
       "      <td>6.232113</td>\n",
       "      <td>2021-04-20</td>\n",
       "      <td>4</td>\n",
       "      <td>6</td>\n",
       "      <td>0</td>\n",
       "      <td>199</td>\n",
       "    </tr>\n",
       "    <tr>\n",
       "      <th>3</th>\n",
       "      <td>1</td>\n",
       "      <td>Кира</td>\n",
       "      <td>22</td>\n",
       "      <td>Тюмень</td>\n",
       "      <td>ultra</td>\n",
       "      <td>2694.783254</td>\n",
       "      <td>18.511000</td>\n",
       "      <td>2021-08-11</td>\n",
       "      <td>8</td>\n",
       "      <td>6</td>\n",
       "      <td>0</td>\n",
       "      <td>199</td>\n",
       "    </tr>\n",
       "    <tr>\n",
       "      <th>4</th>\n",
       "      <td>1</td>\n",
       "      <td>Кира</td>\n",
       "      <td>22</td>\n",
       "      <td>Тюмень</td>\n",
       "      <td>ultra</td>\n",
       "      <td>4028.687306</td>\n",
       "      <td>26.265803</td>\n",
       "      <td>2021-08-28</td>\n",
       "      <td>8</td>\n",
       "      <td>6</td>\n",
       "      <td>0</td>\n",
       "      <td>199</td>\n",
       "    </tr>\n",
       "    <tr>\n",
       "      <th>5</th>\n",
       "      <td>1</td>\n",
       "      <td>Кира</td>\n",
       "      <td>22</td>\n",
       "      <td>Тюмень</td>\n",
       "      <td>ultra</td>\n",
       "      <td>2770.890808</td>\n",
       "      <td>16.650138</td>\n",
       "      <td>2021-10-09</td>\n",
       "      <td>10</td>\n",
       "      <td>6</td>\n",
       "      <td>0</td>\n",
       "      <td>199</td>\n",
       "    </tr>\n",
       "    <tr>\n",
       "      <th>6</th>\n",
       "      <td>1</td>\n",
       "      <td>Кира</td>\n",
       "      <td>22</td>\n",
       "      <td>Тюмень</td>\n",
       "      <td>ultra</td>\n",
       "      <td>3039.020292</td>\n",
       "      <td>14.927879</td>\n",
       "      <td>2021-10-19</td>\n",
       "      <td>10</td>\n",
       "      <td>6</td>\n",
       "      <td>0</td>\n",
       "      <td>199</td>\n",
       "    </tr>\n",
       "    <tr>\n",
       "      <th>7</th>\n",
       "      <td>1</td>\n",
       "      <td>Кира</td>\n",
       "      <td>22</td>\n",
       "      <td>Тюмень</td>\n",
       "      <td>ultra</td>\n",
       "      <td>2842.118050</td>\n",
       "      <td>23.117468</td>\n",
       "      <td>2021-11-06</td>\n",
       "      <td>11</td>\n",
       "      <td>6</td>\n",
       "      <td>0</td>\n",
       "      <td>199</td>\n",
       "    </tr>\n",
       "    <tr>\n",
       "      <th>8</th>\n",
       "      <td>1</td>\n",
       "      <td>Кира</td>\n",
       "      <td>22</td>\n",
       "      <td>Тюмень</td>\n",
       "      <td>ultra</td>\n",
       "      <td>3412.690668</td>\n",
       "      <td>15.238072</td>\n",
       "      <td>2021-11-14</td>\n",
       "      <td>11</td>\n",
       "      <td>6</td>\n",
       "      <td>0</td>\n",
       "      <td>199</td>\n",
       "    </tr>\n",
       "    <tr>\n",
       "      <th>9</th>\n",
       "      <td>1</td>\n",
       "      <td>Кира</td>\n",
       "      <td>22</td>\n",
       "      <td>Тюмень</td>\n",
       "      <td>ultra</td>\n",
       "      <td>748.690645</td>\n",
       "      <td>15.041884</td>\n",
       "      <td>2021-11-22</td>\n",
       "      <td>11</td>\n",
       "      <td>6</td>\n",
       "      <td>0</td>\n",
       "      <td>199</td>\n",
       "    </tr>\n",
       "  </tbody>\n",
       "</table>\n",
       "</div>"
      ],
      "text/plain": [
       "   user_id  name  age    city subscription_type     distance   duration  \\\n",
       "0        1  Кира   22  Тюмень             ultra  4409.919140  25.599769   \n",
       "1        1  Кира   22  Тюмень             ultra  2617.592153  15.816871   \n",
       "2        1  Кира   22  Тюмень             ultra   754.159807   6.232113   \n",
       "3        1  Кира   22  Тюмень             ultra  2694.783254  18.511000   \n",
       "4        1  Кира   22  Тюмень             ultra  4028.687306  26.265803   \n",
       "5        1  Кира   22  Тюмень             ultra  2770.890808  16.650138   \n",
       "6        1  Кира   22  Тюмень             ultra  3039.020292  14.927879   \n",
       "7        1  Кира   22  Тюмень             ultra  2842.118050  23.117468   \n",
       "8        1  Кира   22  Тюмень             ultra  3412.690668  15.238072   \n",
       "9        1  Кира   22  Тюмень             ultra   748.690645  15.041884   \n",
       "\n",
       "        date  month  minute_price  start_ride_price  subscription_fee  \n",
       "0 2021-01-01      1             6                 0               199  \n",
       "1 2021-01-18      1             6                 0               199  \n",
       "2 2021-04-20      4             6                 0               199  \n",
       "3 2021-08-11      8             6                 0               199  \n",
       "4 2021-08-28      8             6                 0               199  \n",
       "5 2021-10-09     10             6                 0               199  \n",
       "6 2021-10-19     10             6                 0               199  \n",
       "7 2021-11-06     11             6                 0               199  \n",
       "8 2021-11-14     11             6                 0               199  \n",
       "9 2021-11-22     11             6                 0               199  "
      ]
     },
     "execution_count": 44,
     "metadata": {},
     "output_type": "execute_result"
    }
   ],
   "source": [
    "# check\n",
    "ultra_data.head(10)"
   ]
  },
  {
   "cell_type": "markdown",
   "id": "f4574c85",
   "metadata": {},
   "source": [
    "##### Визуализируем информацию о расстоянии и времени поездок для пользователей обеих категорий"
   ]
  },
  {
   "cell_type": "code",
   "execution_count": 45,
   "id": "61597494",
   "metadata": {},
   "outputs": [
    {
     "data": {
      "image/png": "[encoded data removed]",
      "text/plain": [
       "<Figure size 864x288 with 1 Axes>"
      ]
     },
     "metadata": {
      "needs_background": "light"
     },
     "output_type": "display_data"
    }
   ],
   "source": [
    "ax = free_data.distance.plot(kind='hist',\n",
    "                             bins=100,\n",
    "                             alpha=0.75,\n",
    "                             figsize=(12, 4),\n",
    "                             title='Расстояние, которое пользователь преодолел за одну поездку',\n",
    "                             grid=True,\n",
    "                             legend=True);\n",
    "\n",
    "ultra_data.distance.plot(kind='hist',\n",
    "                         bins=100,\n",
    "                         alpha=0.75,\n",
    "                         ax=ax,\n",
    "                         grid=True,\n",
    "                         legend=True);\n",
    "\n",
    "plt.xlabel('расстояние');\n",
    "plt.ylabel('частота');\n",
    "ax.legend(['Пользователи без подписки', 'Пользователи с подпиской']);"
   ]
  },
  {
   "cell_type": "markdown",
   "id": "702edc78",
   "metadata": {},
   "source": [
    "<div class=\"alert alert-block alert-warning\">\n",
    "<b>🔁Комментарий ревьюера:</b> \n",
    "\n",
    "Оси на графиках тоже нужно подписывать и на том языке, на котором выполнен проект, то есть в нашем случае на русском ✔</div>"
   ]
  },
  {
   "cell_type": "markdown",
   "id": "bb2ac69f",
   "metadata": {},
   "source": [
    "<div class=\"alert alert-block alert-success\">\n",
    "<b>✅Комментарий ревьюера 2:</b> Отлично, исправлено!👍  </div>"
   ]
  },
  {
   "cell_type": "code",
   "execution_count": 46,
   "id": "c66e2d2b",
   "metadata": {},
   "outputs": [
    {
     "name": "stdout",
     "output_type": "stream",
     "text": [
      "Среднее расстояние, которое пользователь без подписки преодолел за одну поездку: 3045.0\n",
      "Среднее расстояние, которое пользователь c подпиской преодолел за одну поездку: 3115.0\n",
      "\n",
      "Медианное расстояние, которое пользователь без подписки преодолел за одну поездку: 3115.0\n",
      "Медианное расстояние, которое пользователь c подпиской преодолел за одну поездку: 3149.0\n"
     ]
    }
   ],
   "source": [
    "print('Среднее расстояние, которое пользователь без подписки преодолел за одну поездку:', free_data.distance.mean().round())\n",
    "print('Среднее расстояние, которое пользователь c подпиской преодолел за одну поездку:', ultra_data.distance.mean().round())\n",
    "print()\n",
    "print('Медианное расстояние, которое пользователь без подписки преодолел за одну поездку:', free_data.distance.median().round())\n",
    "print('Медианное расстояние, которое пользователь c подпиской преодолел за одну поездку:', ultra_data.distance.median().round())\n"
   ]
  },
  {
   "cell_type": "code",
   "execution_count": 47,
   "id": "88101862",
   "metadata": {},
   "outputs": [
    {
     "data": {
      "image/png": "[encoded data removed]",
      "text/plain": [
       "<Figure size 864x288 with 1 Axes>"
      ]
     },
     "metadata": {
      "needs_background": "light"
     },
     "output_type": "display_data"
    }
   ],
   "source": [
    "ax = free_data.duration.plot(kind='hist',\n",
    "                             bins=100,\n",
    "                             alpha=0.75,\n",
    "                             figsize=(12, 4),\n",
    "                             title='Продолжительность поездок',\n",
    "                             grid=True,\n",
    "                             legend=True);\n",
    "\n",
    "ultra_data.duration.plot(kind='hist',\n",
    "                         bins=100,\n",
    "                         alpha=0.75,\n",
    "                         ax=ax,\n",
    "                         grid=True,\n",
    "                         legend=True);\n",
    "\n",
    "plt.xlabel('продолжительность');\n",
    "plt.ylabel('частота');\n",
    "ax.legend(['Пользователи без подписки', 'Пользователи с подпиской']);"
   ]
  },
  {
   "cell_type": "code",
   "execution_count": 48,
   "id": "21561eda",
   "metadata": {},
   "outputs": [
    {
     "name": "stdout",
     "output_type": "stream",
     "text": [
      "Средняя продолжительность поездки для пользователей без подписки: 17.0\n",
      "Средняя продолжительность поездки для пользователей с подпиской: 19.0\n",
      "\n",
      "Медианная продолжительность поездки для пользователей без подписки: 17.0\n",
      "Медианная продолжительность поездки для пользователей с подпиской: 18.0\n"
     ]
    }
   ],
   "source": [
    "print('Средняя продолжительность поездки для пользователей без подписки:', free_data.duration.mean().round())\n",
    "print('Средняя продолжительность поездки для пользователей с подпиской:', ultra_data.duration.mean().round())\n",
    "print()\n",
    "print('Медианная продолжительность поездки для пользователей без подписки:', free_data.duration.median().round())\n",
    "print('Медианная продолжительность поездки для пользователей с подпиской:', ultra_data.duration.median().round())\n"
   ]
  },
  {
   "cell_type": "markdown",
   "id": "e300b252",
   "metadata": {},
   "source": [
    "<div class=\"alert alert-block alert-success\">\n",
    "<b>✅Комментарий ревьюера:</b> Графики получились очень наглядными, молодец! ✔</div>"
   ]
  },
  {
   "cell_type": "markdown",
   "id": "9ba5d8c4",
   "metadata": {},
   "source": [
    "Можно сформулировать гипотезу о том, что в среднем пользователи с подпиской преодолевают большее расстояние и тратят больше времени на поездку"
   ]
  },
  {
   "cell_type": "markdown",
   "id": "a816b1e6",
   "metadata": {},
   "source": [
    "#### Шаг 5. Подсчёт выручки"
   ]
  },
  {
   "cell_type": "code",
   "execution_count": 49,
   "id": "a85c4cb8",
   "metadata": {},
   "outputs": [
    {
     "data": {
      "text/plain": [
       "0    25.599769\n",
       "1    15.816871\n",
       "2     6.232113\n",
       "3    18.511000\n",
       "4    26.265803\n",
       "5    16.650138\n",
       "6    14.927879\n",
       "7    23.117468\n",
       "8    15.238072\n",
       "9    15.041884\n",
       "Name: duration, dtype: float64"
      ]
     },
     "execution_count": 49,
     "metadata": {},
     "output_type": "execute_result"
    }
   ],
   "source": [
    "# check\n",
    "data.duration.head(10)"
   ]
  },
  {
   "cell_type": "code",
   "execution_count": 50,
   "id": "dbc58e2d",
   "metadata": {},
   "outputs": [],
   "source": [
    "# Округлим длительность каждой поездки до целой минуты\n",
    "data.duration = data.duration.apply(np.ceil)"
   ]
  },
  {
   "cell_type": "code",
   "execution_count": 51,
   "id": "3f52a2b6",
   "metadata": {},
   "outputs": [
    {
     "data": {
      "text/plain": [
       "0    26.0\n",
       "1    16.0\n",
       "2     7.0\n",
       "3    19.0\n",
       "4    27.0\n",
       "5    17.0\n",
       "6    15.0\n",
       "7    24.0\n",
       "8    16.0\n",
       "9    16.0\n",
       "Name: duration, dtype: float64"
      ]
     },
     "execution_count": 51,
     "metadata": {},
     "output_type": "execute_result"
    }
   ],
   "source": [
    "# check\n",
    "data.duration.head(10)"
   ]
  },
  {
   "cell_type": "markdown",
   "id": "1267ac32",
   "metadata": {
    "id": "5766e785"
   },
   "source": [
    "<div class=\"alert alert-block alert-danger\">\n",
    "<b>❌Комментарий ревьюера:</b> \n",
    "    \n",
    "Перед построением сводной таблицы и расчетом выручки длительность каждой поездки должна быть округлена до целой минуты.\n",
    "    \n",
    "    \n",
    "P.S. Обязательно **до следующего целого числа** ✔\n",
    "</div>"
   ]
  },
  {
   "cell_type": "markdown",
   "id": "7098981f",
   "metadata": {},
   "source": [
    "<div class=\"alert alert-block alert-success\">\n",
    "<b>✅Комментарий ревьюера 2:</b> Отлично, исправлено!👍  </div>"
   ]
  },
  {
   "cell_type": "markdown",
   "id": "e85fe111",
   "metadata": {},
   "source": [
    "##### Создадим датафрейм с агрегированными данными о поездках на основе датафрейма с объединёнными данными из шага 4: найдём суммарное расстояние, количество поездок и суммарное время для каждого пользователя за каждый месяц"
   ]
  },
  {
   "cell_type": "code",
   "execution_count": 52,
   "id": "57486c01",
   "metadata": {},
   "outputs": [],
   "source": [
    "aggregated_data = data.pivot_table(index=['user_id', 'month'], values=['distance', 'duration'], aggfunc=['sum', 'count'])\n",
    "aggregated_data.drop(columns=aggregated_data.columns[-1], axis=1, inplace=True)\n",
    "aggregated_data.columns = aggregated_data.columns.droplevel()\n",
    "aggregated_data.columns = ['total_distance', 'total_duration', 'n']"
   ]
  },
  {
   "cell_type": "code",
   "execution_count": 53,
   "id": "bb73e671",
   "metadata": {},
   "outputs": [
    {
     "data": {
      "text/html": [
       "<div>\n",
       "<style scoped>\n",
       "    .dataframe tbody tr th:only-of-type {\n",
       "        vertical-align: middle;\n",
       "    }\n",
       "\n",
       "    .dataframe tbody tr th {\n",
       "        vertical-align: top;\n",
       "    }\n",
       "\n",
       "    .dataframe thead th {\n",
       "        text-align: right;\n",
       "    }\n",
       "</style>\n",
       "<table border=\"1\" class=\"dataframe\">\n",
       "  <thead>\n",
       "    <tr style=\"text-align: right;\">\n",
       "      <th></th>\n",
       "      <th></th>\n",
       "      <th>total_distance</th>\n",
       "      <th>total_duration</th>\n",
       "      <th>n</th>\n",
       "    </tr>\n",
       "    <tr>\n",
       "      <th>user_id</th>\n",
       "      <th>month</th>\n",
       "      <th></th>\n",
       "      <th></th>\n",
       "      <th></th>\n",
       "    </tr>\n",
       "  </thead>\n",
       "  <tbody>\n",
       "    <tr>\n",
       "      <th rowspan=\"5\" valign=\"top\">1</th>\n",
       "      <th>1</th>\n",
       "      <td>7027.511294</td>\n",
       "      <td>42.0</td>\n",
       "      <td>2</td>\n",
       "    </tr>\n",
       "    <tr>\n",
       "      <th>4</th>\n",
       "      <td>754.159807</td>\n",
       "      <td>7.0</td>\n",
       "      <td>1</td>\n",
       "    </tr>\n",
       "    <tr>\n",
       "      <th>8</th>\n",
       "      <td>6723.470560</td>\n",
       "      <td>46.0</td>\n",
       "      <td>2</td>\n",
       "    </tr>\n",
       "    <tr>\n",
       "      <th>10</th>\n",
       "      <td>5809.911100</td>\n",
       "      <td>32.0</td>\n",
       "      <td>2</td>\n",
       "    </tr>\n",
       "    <tr>\n",
       "      <th>11</th>\n",
       "      <td>7003.499363</td>\n",
       "      <td>56.0</td>\n",
       "      <td>3</td>\n",
       "    </tr>\n",
       "    <tr>\n",
       "      <th>...</th>\n",
       "      <th>...</th>\n",
       "      <td>...</td>\n",
       "      <td>...</td>\n",
       "      <td>...</td>\n",
       "    </tr>\n",
       "    <tr>\n",
       "      <th rowspan=\"5\" valign=\"top\">1534</th>\n",
       "      <th>6</th>\n",
       "      <td>3409.468534</td>\n",
       "      <td>26.0</td>\n",
       "      <td>2</td>\n",
       "    </tr>\n",
       "    <tr>\n",
       "      <th>8</th>\n",
       "      <td>7622.453034</td>\n",
       "      <td>48.0</td>\n",
       "      <td>2</td>\n",
       "    </tr>\n",
       "    <tr>\n",
       "      <th>9</th>\n",
       "      <td>4928.173852</td>\n",
       "      <td>23.0</td>\n",
       "      <td>1</td>\n",
       "    </tr>\n",
       "    <tr>\n",
       "      <th>11</th>\n",
       "      <td>13350.015305</td>\n",
       "      <td>78.0</td>\n",
       "      <td>4</td>\n",
       "    </tr>\n",
       "    <tr>\n",
       "      <th>12</th>\n",
       "      <td>2371.711192</td>\n",
       "      <td>16.0</td>\n",
       "      <td>1</td>\n",
       "    </tr>\n",
       "  </tbody>\n",
       "</table>\n",
       "<p>11331 rows × 3 columns</p>\n",
       "</div>"
      ],
      "text/plain": [
       "               total_distance  total_duration  n\n",
       "user_id month                                   \n",
       "1       1         7027.511294            42.0  2\n",
       "        4          754.159807             7.0  1\n",
       "        8         6723.470560            46.0  2\n",
       "        10        5809.911100            32.0  2\n",
       "        11        7003.499363            56.0  3\n",
       "...                       ...             ... ..\n",
       "1534    6         3409.468534            26.0  2\n",
       "        8         7622.453034            48.0  2\n",
       "        9         4928.173852            23.0  1\n",
       "        11       13350.015305            78.0  4\n",
       "        12        2371.711192            16.0  1\n",
       "\n",
       "[11331 rows x 3 columns]"
      ]
     },
     "execution_count": 53,
     "metadata": {},
     "output_type": "execute_result"
    }
   ],
   "source": [
    "# check\n",
    "aggregated_data"
   ]
  },
  {
   "cell_type": "markdown",
   "id": "c7b6d7f9",
   "metadata": {},
   "source": [
    "##### В этот же датафрейм добавим столбец с помесячной выручкой, которую принёс каждый пользователь"
   ]
  },
  {
   "cell_type": "code",
   "execution_count": 54,
   "id": "1b9425b1",
   "metadata": {},
   "outputs": [],
   "source": [
    "def revenue(row):\n",
    "    return np.ceil(row.start_ride_price * row.n + row.minute_price * row.total_duration + row.subscription_fee)"
   ]
  },
  {
   "cell_type": "code",
   "execution_count": 55,
   "id": "11f457f3",
   "metadata": {},
   "outputs": [
    {
     "data": {
      "text/html": [
       "<div>\n",
       "<style scoped>\n",
       "    .dataframe tbody tr th:only-of-type {\n",
       "        vertical-align: middle;\n",
       "    }\n",
       "\n",
       "    .dataframe tbody tr th {\n",
       "        vertical-align: top;\n",
       "    }\n",
       "\n",
       "    .dataframe thead th {\n",
       "        text-align: right;\n",
       "    }\n",
       "</style>\n",
       "<table border=\"1\" class=\"dataframe\">\n",
       "  <thead>\n",
       "    <tr style=\"text-align: right;\">\n",
       "      <th></th>\n",
       "      <th></th>\n",
       "      <th>total_distance</th>\n",
       "      <th>total_duration</th>\n",
       "      <th>n</th>\n",
       "      <th>subscription_type</th>\n",
       "      <th>minute_price</th>\n",
       "      <th>start_ride_price</th>\n",
       "      <th>subscription_fee</th>\n",
       "      <th>revenue</th>\n",
       "    </tr>\n",
       "    <tr>\n",
       "      <th>user_id</th>\n",
       "      <th>month</th>\n",
       "      <th></th>\n",
       "      <th></th>\n",
       "      <th></th>\n",
       "      <th></th>\n",
       "      <th></th>\n",
       "      <th></th>\n",
       "      <th></th>\n",
       "      <th></th>\n",
       "    </tr>\n",
       "  </thead>\n",
       "  <tbody>\n",
       "    <tr>\n",
       "      <th rowspan=\"5\" valign=\"top\">1</th>\n",
       "      <th>1</th>\n",
       "      <td>7027.511294</td>\n",
       "      <td>42.0</td>\n",
       "      <td>2</td>\n",
       "      <td>ultra</td>\n",
       "      <td>6</td>\n",
       "      <td>0</td>\n",
       "      <td>199</td>\n",
       "      <td>451.0</td>\n",
       "    </tr>\n",
       "    <tr>\n",
       "      <th>4</th>\n",
       "      <td>754.159807</td>\n",
       "      <td>7.0</td>\n",
       "      <td>1</td>\n",
       "      <td>ultra</td>\n",
       "      <td>6</td>\n",
       "      <td>0</td>\n",
       "      <td>199</td>\n",
       "      <td>241.0</td>\n",
       "    </tr>\n",
       "    <tr>\n",
       "      <th>8</th>\n",
       "      <td>6723.470560</td>\n",
       "      <td>46.0</td>\n",
       "      <td>2</td>\n",
       "      <td>ultra</td>\n",
       "      <td>6</td>\n",
       "      <td>0</td>\n",
       "      <td>199</td>\n",
       "      <td>475.0</td>\n",
       "    </tr>\n",
       "    <tr>\n",
       "      <th>10</th>\n",
       "      <td>5809.911100</td>\n",
       "      <td>32.0</td>\n",
       "      <td>2</td>\n",
       "      <td>ultra</td>\n",
       "      <td>6</td>\n",
       "      <td>0</td>\n",
       "      <td>199</td>\n",
       "      <td>391.0</td>\n",
       "    </tr>\n",
       "    <tr>\n",
       "      <th>11</th>\n",
       "      <td>7003.499363</td>\n",
       "      <td>56.0</td>\n",
       "      <td>3</td>\n",
       "      <td>ultra</td>\n",
       "      <td>6</td>\n",
       "      <td>0</td>\n",
       "      <td>199</td>\n",
       "      <td>535.0</td>\n",
       "    </tr>\n",
       "    <tr>\n",
       "      <th>...</th>\n",
       "      <th>...</th>\n",
       "      <td>...</td>\n",
       "      <td>...</td>\n",
       "      <td>...</td>\n",
       "      <td>...</td>\n",
       "      <td>...</td>\n",
       "      <td>...</td>\n",
       "      <td>...</td>\n",
       "      <td>...</td>\n",
       "    </tr>\n",
       "    <tr>\n",
       "      <th rowspan=\"5\" valign=\"top\">1534</th>\n",
       "      <th>6</th>\n",
       "      <td>3409.468534</td>\n",
       "      <td>26.0</td>\n",
       "      <td>2</td>\n",
       "      <td>free</td>\n",
       "      <td>8</td>\n",
       "      <td>50</td>\n",
       "      <td>0</td>\n",
       "      <td>308.0</td>\n",
       "    </tr>\n",
       "    <tr>\n",
       "      <th>8</th>\n",
       "      <td>7622.453034</td>\n",
       "      <td>48.0</td>\n",
       "      <td>2</td>\n",
       "      <td>free</td>\n",
       "      <td>8</td>\n",
       "      <td>50</td>\n",
       "      <td>0</td>\n",
       "      <td>484.0</td>\n",
       "    </tr>\n",
       "    <tr>\n",
       "      <th>9</th>\n",
       "      <td>4928.173852</td>\n",
       "      <td>23.0</td>\n",
       "      <td>1</td>\n",
       "      <td>free</td>\n",
       "      <td>8</td>\n",
       "      <td>50</td>\n",
       "      <td>0</td>\n",
       "      <td>234.0</td>\n",
       "    </tr>\n",
       "    <tr>\n",
       "      <th>11</th>\n",
       "      <td>13350.015305</td>\n",
       "      <td>78.0</td>\n",
       "      <td>4</td>\n",
       "      <td>free</td>\n",
       "      <td>8</td>\n",
       "      <td>50</td>\n",
       "      <td>0</td>\n",
       "      <td>824.0</td>\n",
       "    </tr>\n",
       "    <tr>\n",
       "      <th>12</th>\n",
       "      <td>2371.711192</td>\n",
       "      <td>16.0</td>\n",
       "      <td>1</td>\n",
       "      <td>free</td>\n",
       "      <td>8</td>\n",
       "      <td>50</td>\n",
       "      <td>0</td>\n",
       "      <td>178.0</td>\n",
       "    </tr>\n",
       "  </tbody>\n",
       "</table>\n",
       "<p>11331 rows × 8 columns</p>\n",
       "</div>"
      ],
      "text/plain": [
       "               total_distance  total_duration  n subscription_type  \\\n",
       "user_id month                                                        \n",
       "1       1         7027.511294            42.0  2             ultra   \n",
       "        4          754.159807             7.0  1             ultra   \n",
       "        8         6723.470560            46.0  2             ultra   \n",
       "        10        5809.911100            32.0  2             ultra   \n",
       "        11        7003.499363            56.0  3             ultra   \n",
       "...                       ...             ... ..               ...   \n",
       "1534    6         3409.468534            26.0  2              free   \n",
       "        8         7622.453034            48.0  2              free   \n",
       "        9         4928.173852            23.0  1              free   \n",
       "        11       13350.015305            78.0  4              free   \n",
       "        12        2371.711192            16.0  1              free   \n",
       "\n",
       "               minute_price  start_ride_price  subscription_fee  revenue  \n",
       "user_id month                                                             \n",
       "1       1                 6                 0               199    451.0  \n",
       "        4                 6                 0               199    241.0  \n",
       "        8                 6                 0               199    475.0  \n",
       "        10                6                 0               199    391.0  \n",
       "        11                6                 0               199    535.0  \n",
       "...                     ...               ...               ...      ...  \n",
       "1534    6                 8                50                 0    308.0  \n",
       "        8                 8                50                 0    484.0  \n",
       "        9                 8                50                 0    234.0  \n",
       "        11                8                50                 0    824.0  \n",
       "        12                8                50                 0    178.0  \n",
       "\n",
       "[11331 rows x 8 columns]"
      ]
     },
     "execution_count": 55,
     "metadata": {},
     "output_type": "execute_result"
    }
   ],
   "source": [
    "subscription_columns = ['subscription_type', 'minute_price', 'start_ride_price', 'subscription_fee']\n",
    "aggregated_data[subscription_columns] = data.groupby(['user_id', 'month'])[subscription_columns].first()\n",
    "aggregated_data['revenue'] = aggregated_data.apply(revenue, axis=1)\n",
    "aggregated_data"
   ]
  },
  {
   "cell_type": "markdown",
   "id": "dcb8b3cd",
   "metadata": {},
   "source": [
    "<div class=\"alert alert-block alert-warning\">\n",
    "<b>🔁Комментарий ревьюера:</b> \n",
    "    \n",
    "Кажется ты все слишком усложнил)\n",
    "\n",
    "В объединенной таблице data у нас уже есть все данные по тарифам для расчета выручки, их можно перенести в aggregated_data, указав при группировке для них агрегирующую функцию 'first'. Тогда соответствующие столбцы со стоимостями можно будет использовать в функции для расчета выручки и формула будет единой для обеих групп пользователей.\n",
    "\n",
    "P.S. Таким образом выручку можно будет посчитать в одну строку ✔</div>"
   ]
  },
  {
   "cell_type": "markdown",
   "id": "e85cc93d",
   "metadata": {},
   "source": [
    "<div class=\"alert alert-block alert-success\">\n",
    "<b>✅Комментарий ревьюера 2:</b> Отлично, исправлено!👍  </div>"
   ]
  },
  {
   "cell_type": "code",
   "execution_count": 56,
   "id": "d8acbca3",
   "metadata": {},
   "outputs": [
    {
     "data": {
      "image/png": "[encoded data removed]",
      "text/plain": [
       "<Figure size 864x288 with 1 Axes>"
      ]
     },
     "metadata": {
      "needs_background": "light"
     },
     "output_type": "display_data"
    }
   ],
   "source": [
    "aggregated_data.revenue.plot(kind='hist', bins=100, figsize=(12, 4), title='Распределение помесячной выручки', grid=True);\n",
    "plt.xlabel('выручка');\n",
    "plt.ylabel('частота');"
   ]
  },
  {
   "cell_type": "markdown",
   "id": "573753a8",
   "metadata": {},
   "source": [
    "Распределение помесячной выручки имеет две моды. Точно также как и распределение расстояния, которое пользователь преодолел за одну поездку"
   ]
  },
  {
   "cell_type": "markdown",
   "id": "bb964786",
   "metadata": {},
   "source": [
    "#### Шаг 6. Проверка гипотез"
   ]
  },
  {
   "cell_type": "markdown",
   "id": "fb209ee8",
   "metadata": {},
   "source": [
    "##### Проверим гипотезу о том, что пользователи с подпиской тратят больше времени на поездки"
   ]
  },
  {
   "cell_type": "markdown",
   "id": "1d94c8d2",
   "metadata": {},
   "source": [
    "$H_0$: Пользователи с подпиской и пользователи без подписки в среднем тратят одинаковое время на поездки ($\\mu_1$ = $\\mu_2$) \\\n",
    "$H_1$: Пользователи с подпиской тратят больше времени на поездки, чем пользователи без подписки ($\\mu_1$ > $\\mu_2$)"
   ]
  },
  {
   "cell_type": "markdown",
   "id": "61df4d6c",
   "metadata": {},
   "source": [
    "<div class=\"alert alert-block alert-success\">\n",
    "<b>✅Комментарий ревьюера:</b> Здорово, что формулируешь гипотезы перед проверкой ✔</div>"
   ]
  },
  {
   "cell_type": "code",
   "execution_count": 57,
   "id": "4360a527",
   "metadata": {},
   "outputs": [
    {
     "name": "stdout",
     "output_type": "stream",
     "text": [
      "Среднее значение продолжительности поездок для пользователей без подписки: 17.39\n",
      "Среднее значение продолжительности поездок для пользователей с подпиской: 18.54\n",
      "p-значение: 1.2804098316645618e-34\n",
      "Отвергаем нулевую гипотезу\n"
     ]
    }
   ],
   "source": [
    "alpha = 0.05\n",
    "results = st.ttest_ind(ultra_data.duration.values, free_data.duration.values, alternative='greater')\n",
    "\n",
    "print('Среднее значение продолжительности поездок для пользователей без подписки:', free_data.duration.mean().round(2))\n",
    "print('Среднее значение продолжительности поездок для пользователей с подпиской:', ultra_data.duration.mean().round(2))\n",
    "print('p-значение:', results.pvalue)\n",
    "\n",
    "if results.pvalue < alpha:\n",
    "    print('Отвергаем нулевую гипотезу')\n",
    "else:\n",
    "    print('Не получилось отвергнуть нулевую гипотезу')"
   ]
  },
  {
   "cell_type": "markdown",
   "id": "590d6e1f",
   "metadata": {},
   "source": [
    "<div class=\"alert alert-block alert-warning\">\n",
    "<b>🔁Комментарий ревьюера:</b>\n",
    "\n",
    "Дополнительно можно вывести средние значения продолжительности поездок для каждой категории пользователей. ✔</div>"
   ]
  },
  {
   "cell_type": "markdown",
   "id": "14f50f75",
   "metadata": {},
   "source": [
    "<div class=\"alert alert-block alert-success\">\n",
    "<b>✅Комментарий ревьюера 2:</b> Отлично, исправлено!👍  </div>"
   ]
  },
  {
   "cell_type": "markdown",
   "id": "62adc0dd",
   "metadata": {},
   "source": [
    "Будем считать, что пользователи с подпиской тратят больше времени на поездки, чем пользователи без подписки"
   ]
  },
  {
   "cell_type": "markdown",
   "id": "b07b18de",
   "metadata": {},
   "source": [
    "##### Проверим гипотезу о том, что расстояние, которое проезжают пользователи с подпиской за одну поездку, не превышает 3130 метров?"
   ]
  },
  {
   "cell_type": "markdown",
   "id": "ac762b54",
   "metadata": {},
   "source": [
    "$H_0$: Расстояние, которое проезжают пользователи с подпиской за одну поездку, равно 3130 метрам ($\\mu$ = 3130) \\\n",
    "$H_1$: Расстояние, которое проезжают пользователи с подпиской за одну поездку, больше 3130 метров ($\\mu$ > 3130)"
   ]
  },
  {
   "cell_type": "code",
   "execution_count": 58,
   "id": "d3ab19b2",
   "metadata": {},
   "outputs": [
    {
     "name": "stdout",
     "output_type": "stream",
     "text": [
      "Среднее значение расстояния, которое проезжают пользователи с подпиской за одну поездку: 3115.45\n",
      "p-значение: 0.9195368847849785\n",
      "Не получилось отвергнуть нулевую гипотезу\n"
     ]
    }
   ],
   "source": [
    "alpha = 0.05\n",
    "interested_value = 3130\n",
    "\n",
    "results = st.ttest_1samp(ultra_data.distance.values, interested_value, alternative='greater')\n",
    "\n",
    "print('Среднее значение расстояния, которое проезжают пользователи с подпиской за одну поездку:', \n",
    "      ultra_data.distance.mean().round(2))\n",
    "print('p-значение:', results.pvalue)\n",
    "\n",
    "if results.pvalue < alpha:\n",
    "    print('Отвергаем нулевую гипотезу')\n",
    "else:\n",
    "    print('Не получилось отвергнуть нулевую гипотезу')"
   ]
  },
  {
   "cell_type": "markdown",
   "id": "5f804ff9",
   "metadata": {},
   "source": [
    "Будем считать, что расстояние, которое проезжают пользователи с подпиской за одну поездку равно `3130` метрам, то есть не превышает `3130` метров"
   ]
  },
  {
   "cell_type": "markdown",
   "id": "0c5ec76c",
   "metadata": {},
   "source": [
    "##### Проверим гипотезу о том, что помесячная выручка от пользователей с подпиской по месяцам выше, чем выручка от пользователей без подписки"
   ]
  },
  {
   "cell_type": "markdown",
   "id": "d9dfca4d",
   "metadata": {},
   "source": [
    "$H_0$: Помесячная выручка от пользователей с подпиской и от пользователей без подписки равны ($\\mu_1$ = $\\mu_2$) \\\n",
    "$H_1$: Помесячная выручка от пользователей с подпиской больше, чем у пользователей без подписки ($\\mu_1$ > $\\mu_2$)"
   ]
  },
  {
   "cell_type": "code",
   "execution_count": 59,
   "id": "21203682",
   "metadata": {},
   "outputs": [],
   "source": [
    "#aggregated_data['subscription_type'] = aggregated_data.apply(get_subscription_type, axis=1)"
   ]
  },
  {
   "cell_type": "markdown",
   "id": "8b2865d9",
   "metadata": {},
   "source": [
    "<div class=\"alert alert-block alert-warning\">\n",
    "<b>🔁Комментарий ревьюера 2:</b> \n",
    "    \n",
    "Код в этой ячейке падал с ошибкой, поэтому я его закомментировал ✔</div>"
   ]
  },
  {
   "cell_type": "code",
   "execution_count": 60,
   "id": "82d6cf7f",
   "metadata": {},
   "outputs": [
    {
     "name": "stdout",
     "output_type": "stream",
     "text": [
      "p-значение: 1.8850394384715216e-31\n",
      "Отвергаем нулевую гипотезу\n"
     ]
    }
   ],
   "source": [
    "alpha = 0.05\n",
    "results = st.ttest_ind(aggregated_data[aggregated_data.subscription_type=='ultra'].revenue.values, \n",
    "                       aggregated_data[aggregated_data.subscription_type=='free'].revenue.values, \n",
    "                       alternative='greater')\n",
    "\n",
    "print('p-значение:', results.pvalue)\n",
    "\n",
    "if results.pvalue < alpha:\n",
    "    print('Отвергаем нулевую гипотезу')\n",
    "else:\n",
    "    print('Не получилось отвергнуть нулевую гипотезу')"
   ]
  },
  {
   "cell_type": "markdown",
   "id": "6218524f",
   "metadata": {},
   "source": [
    "Будем считать, что помесячная выручка от пользователей с подпиской по месяцам в среднем выше, чем выручка от пользователей без подписки"
   ]
  },
  {
   "cell_type": "markdown",
   "id": "9c469441",
   "metadata": {},
   "source": [
    "<div class=\"alert alert-block alert-success\">\n",
    "<b>✅Комментарий ревьюера:</b> \n",
    "\n",
    "Проверки гипотез и полученные результаты правильные, молодец! ✔</div>"
   ]
  },
  {
   "cell_type": "markdown",
   "id": "4e7f141c",
   "metadata": {},
   "source": [
    "##### Некоторый файл содержит для каждого пользователя данные о количестве обращений до обновления и после него. Какой тест вам понадобился бы для проверки этой гипотезы?"
   ]
  },
  {
   "cell_type": "markdown",
   "id": "95a39cd2",
   "metadata": {},
   "source": [
    "Так как обе выборки (обращения до обновления и обращения после обновления) зависимы для такой задачи подойдёт тест на равенство средних для зависимых (парных) выборок - `st.ttest_rel(before, after)`"
   ]
  },
  {
   "cell_type": "markdown",
   "id": "fdd9f78c",
   "metadata": {},
   "source": [
    "<div class=\"alert alert-block alert-success\">\n",
    "<b>✅Комментарий ревьюера:</b> Абсолютно верно ✔</div>"
   ]
  },
  {
   "cell_type": "markdown",
   "id": "6881e45b",
   "metadata": {},
   "source": [
    "#### Шаг 7. Распределения"
   ]
  },
  {
   "cell_type": "markdown",
   "id": "d2d2ff0d",
   "metadata": {},
   "source": [
    "#####  Отделу маркетинга GoFast поставили задачу: нужно провести акцию с раздачей промокодов на один бесплатный месяц подписки, в рамках которой как минимум 100 существующих клиентов должны продлить эту подписку. То есть по завершении периода действия подписки пользователь может либо отказаться от неё, либо продлить, совершив соответствующий платёж. Эта акция уже проводилась ранее и по итогу выяснилось, что после бесплатного пробного периода подписку продлевают 10 % пользователей. Выясните, какое минимальное количество промокодов нужно разослать, чтобы вероятность не выполнить план была примерно 5 %. Подберите параметры распределения, описывающего эту ситуацию, постройте график распределения и сформулируйте ответ на вопрос о количестве промокодов."
   ]
  },
  {
   "cell_type": "markdown",
   "id": "adf10502",
   "metadata": {},
   "source": [
    "Подберём подходящее значение параметра `n` в цикле "
   ]
  },
  {
   "cell_type": "code",
   "execution_count": 61,
   "id": "2550fd35",
   "metadata": {},
   "outputs": [
    {
     "name": "stdout",
     "output_type": "stream",
     "text": [
      "N=1000 prob=0.5266\n",
      "N=1010 prob=0.4847\n",
      "N=1020 prob=0.4432\n",
      "N=1030 prob=0.4026\n",
      "N=1040 prob=0.3633\n",
      "N=1050 prob=0.3256\n",
      "N=1060 prob=0.2899\n",
      "N=1070 prob=0.2563\n",
      "N=1080 prob=0.2251\n",
      "N=1090 prob=0.1963\n",
      "N=1100 prob=0.1701\n",
      "N=1110 prob=0.1463\n",
      "N=1120 prob=0.1251\n",
      "N=1130 prob=0.1061\n",
      "N=1140 prob=0.0895\n",
      "N=1150 prob=0.0749\n",
      "N=1160 prob=0.0623\n",
      "N=1170 prob=0.0515\n",
      "N=1180 prob=0.0423\n",
      "N=1190 prob=0.0345\n",
      "N=1200 prob=0.028\n",
      "N=1210 prob=0.0225\n",
      "N=1220 prob=0.018\n",
      "N=1230 prob=0.0143\n",
      "N=1240 prob=0.0113\n",
      "N=1250 prob=0.0089\n"
     ]
    }
   ],
   "source": [
    "k = 100 # минимум клиентов, которые должны продлить подписку\n",
    "p = 0.1 # вероятность успеха (продления подписки)\n",
    "n_start = 1000\n",
    "n_end = 1250\n",
    "step = 10\n",
    "\n",
    "for n in range(n_start, n_end + step, step):\n",
    "    print(f'N={n}', f'prob={st.binom.cdf(k, n, p).round(4)}')"
   ]
  },
  {
   "cell_type": "code",
   "execution_count": 68,
   "id": "98d14a9e",
   "metadata": {},
   "outputs": [
    {
     "name": "stdout",
     "output_type": "stream",
     "text": [
      "Сумма всех вероятностей для значений k от 0 до 100:\n",
      " 0.04954795210203093\n",
      "\n",
      "Результат работы метода cdf:\n",
      " 0.04954795210203071\n"
     ]
    },
    {
     "data": {
      "image/png": "[encoded data removed]",
      "text/plain": [
       "<Figure size 432x288 with 1 Axes>"
      ]
     },
     "metadata": {
      "needs_background": "light"
     },
     "output_type": "display_data"
    }
   ],
   "source": [
    "k = 100 # минимум клиентов, которые должны продлить подписку\n",
    "n = 1172 # количество попыток\n",
    "p = 0.1 # вероятность успеха (продления подписки)\n",
    "\n",
    "distr = []\n",
    "\n",
    "for i in range(0, n + 1):\n",
    "    current_value = st.binom.pmf(i, n, p)\n",
    "    distr.append(current_value)\n",
    "    \n",
    "plt.bar(range(0, n + 1), distr, color=['red'] * 100 + ['blue'] * (n - 99))\n",
    "plt.xlim(60, 180);\n",
    "plt.xlabel('количество клиентов');\n",
    "plt.ylabel('вероятность');\n",
    "print('Сумма всех вероятностей для значений k от 0 до 100:\\n', sum(distr[:101]))\n",
    "print()\n",
    "print('Результат работы метода cdf:\\n', st.binom.cdf(k, n, p))"
   ]
  },
  {
   "cell_type": "markdown",
   "id": "eb4ca044",
   "metadata": {},
   "source": [
    "Необходимо разослать около `1172` купонов для того, чтобы вероятность не выполнить план была примерно `5%`"
   ]
  },
  {
   "cell_type": "markdown",
   "id": "603370a1",
   "metadata": {},
   "source": [
    "<div class=\"alert alert-block alert-warning\">\n",
    "<b>🔁Комментарий ревьюера:</b> \n",
    "    \n",
    "А каким образом было подобрано число n = 1172?\n",
    "\n",
    "Лучше подбирать подходящее значение параметра n (в цикле) для заданного параметра p = 0.1 с помощью метода cdf() ✔</div>"
   ]
  },
  {
   "cell_type": "markdown",
   "id": "940262b2",
   "metadata": {},
   "source": [
    "##### Отдел маркетинга рассылает клиентам push-уведомления в мобильном приложении. Клиенты могут открыть его или не открывать. Известно, что уведомления открывают около 40% получивших клиентов. Отдел планирует разослать 1 млн уведомлений. С помощью аппроксимации постройте примерный график распределения и оцените вероятность того, что уведомление откроют не более 399,5 тыс. пользователей."
   ]
  },
  {
   "cell_type": "markdown",
   "id": "bb8e2eea",
   "metadata": {},
   "source": [
    "Можно заметить, что выполняется условие для аппроксимации:\n",
    "\n",
    "$\\mu = n * p = 400000$ \\\n",
    "$\\sigma = \\sqrt(n * p * (1 - p)) \\approx 490$\n",
    "\n",
    "$\\mu \\pm 3\\sigma \\in [0, n]$"
   ]
  },
  {
   "cell_type": "code",
   "execution_count": 69,
   "id": "62493d00",
   "metadata": {},
   "outputs": [],
   "source": [
    "# зададим функцию, которая выдаёт <num> чисел,\n",
    "# равномерно распределённых от <start> до <stop>\n",
    "# (понадобится для визуализации нормального распределения)\n",
    "def linspace(start, stop, num):\n",
    "    step = (stop - start) / (num - 1)\n",
    "    result = []\n",
    "    for i in range(num):\n",
    "        result.append(start + step * i)\n",
    "    return result"
   ]
  },
  {
   "cell_type": "code",
   "execution_count": 70,
   "id": "19283e1a",
   "metadata": {},
   "outputs": [
    {
     "name": "stdout",
     "output_type": "stream",
     "text": [
      "0.15371708296369768\n"
     ]
    },
    {
     "data": {
      "image/png": "[encoded data removed]",
      "text/plain": [
       "<Figure size 432x288 with 1 Axes>"
      ]
     },
     "metadata": {
      "needs_background": "light"
     },
     "output_type": "display_data"
    }
   ],
   "source": [
    "k = 399500 # пороговое количество пользователей, которые откроют уведомления\n",
    "n = 1000000 # количество уведомлений, которые планирует разослать отдел\n",
    "p = 0.4 # вероятность открыть уведомление\n",
    "\n",
    "mu = n * p\n",
    "sigma = sqrt(n * p * (1 - p))\n",
    "\n",
    "# границы промежутка, в котором будем строить аппроксимацию -\n",
    "# от n*p минус 4 ст.отклонения бином.распределения\n",
    "# до n*p плюс 4 ст.отклонения бином.распределения\n",
    "# (там, где вероятности значений почти не равны нулю)\n",
    "left = int(mu - 4 * sigma)\n",
    "right = int(mu + 4 * sigma)\n",
    "x = linspace(left, right, 100)\n",
    "\n",
    "# используем красную линию ширины 3 и прозрачности 0.3\n",
    "plt.plot(x, st.norm.pdf(x, mu, sigma), 'r-', lw=3, alpha=0.3)\n",
    "plt.xlabel('количество пользователей');\n",
    "plt.ylabel('вероятность');\n",
    "\n",
    "# оценим вероятность того, что уведомление откроют не более 399,5 тыс. пользователей\n",
    "distr = st.norm(mu, sigma)\n",
    "print(distr.cdf(k))"
   ]
  },
  {
   "cell_type": "markdown",
   "id": "a0ebc160",
   "metadata": {},
   "source": [
    "Вероятность того, что уведомление откроют не более `399,5` тыс. пользователей приблизительно равна `15%`"
   ]
  },
  {
   "cell_type": "markdown",
   "id": "3bb1a8ef",
   "metadata": {},
   "source": [
    "<div class=\"alert alert-block alert-success\">\n",
    "<b>✅Комментарий ревьюера:</b> Верно! ✔</div>"
   ]
  },
  {
   "cell_type": "markdown",
   "id": "30a69831",
   "metadata": {},
   "source": [
    "#### Шаг 8. Вывод"
   ]
  },
  {
   "cell_type": "markdown",
   "id": "38e941a3",
   "metadata": {},
   "source": [
    "**План проекта:**\n",
    "- ***Шаг 1. Загрузка данных:*** \\\n",
    "    Данные были заружены в три различных датафрейма - `users_data`, `rides_data` и `subscriptions_data`. Замечания по данным:\n",
    "    * нумерация в столбце `user_id` начинается с единицы, а не с нуля.\n",
    "    * тип данных в столбце `date` не соответсвует данным, которые в нём хранятся\n",
    "    * в данных отсутствуют пропущенные значения `NaN` или `None` \n",
    "- ***Шаг 2. Предобработка данных:*** \\\n",
    "    Мы преобразовали типы данных там, где это потребовалось. В данных отсутствовали пропуски, но были найдены неявные и явные дубликаты\n",
    "- ***Шаг 3. Исследовательский анализ данных:***\n",
    "    * больше всего поездок в Пятигорске, меньше всего в Москве\n",
    "    * пользователей без подписки чуть больше, чем пользователей с подпиской\n",
    "    * возраст пользователей предположительно имеет нормальное распределение с наиболее частым значением (мода) - 25 лет\n",
    "    * расстояние, которое пользователь преодолел за одну поездку имеет две моды - около `500м` и `3000м`. Можно предположить, что среди пользователей есть две категории - те, кто решил воспользоватся самокатом для развлечения, и те, кто решил воспользоватся им для перемещения из пункта `A` в пункт `B`\n",
    "    * средняя продолжительность поездки - `15`-`20` минут. Также можно заметить большое количество поездок с нулевой продолжительностью поездки - пик со значением `0.5`. Такие поездки имеют завышенное среднее расстояние поездки.\n",
    "- ***Шаг 4. Объединение данных:*** \\\n",
    "    Можно сформулировать гипотезу о том, что в среднем пользователи с подпиской преодолевают большее расстояние и тратят больше времени на поездку\n",
    "- ***Шаг 5. Подсчёт выручки:*** \\\n",
    "    Распределение помесячной выручки имеет две моды. Точно также как и распределение расстояния, которое пользователь преодолел за одну поездку\n",
    "- ***Шаг 6. Проверка гипотез:***\n",
    "    * Будем считать, что пользователи с подпиской тратят больше времени на поездки, чем пользователи без подписки\n",
    "    * Будем считать, что расстояние, которое проезжают пользователи с подпиской за одну поездку равно `3130` метрам, то есть не превышает `3130` метров\n",
    "    * Будем считать, что помесячная выручка от пользователей с подпиской по месяцам в среднем выше, чем выручка от пользователей без подписки\n",
    "    * Так как обе выборки (обращения до обновления и обращения после обновления) зависимы для такой задачи подойдёт тест на равенство средних для зависимых (парных) выборок - `st.ttest_rel(before, after)`\n",
    "- ***Шаг 7 (необязательное задание). Распределения:***\n",
    "    * Необходимо разослать около `1172` купонов для того, чтобы вероятность не выполнить план была примерно `5%`\n",
    "    * Вероятность того, что уведомление откроют не более `399,5` тыс. пользователей приблизительно равна `15%`"
   ]
  },
  {
   "cell_type": "markdown",
   "id": "d39c41aa",
   "metadata": {},
   "source": [
    "<div class=\"alert alert-block alert-success\">\n",
    "<b>✅Комментарий ревьюера:</b> \n",
    "\n",
    "\n",
    "Отличный итоговый вывод!\n",
    "\n",
    "В целом проект получился очень хороший, ты отлично обращаешься с данными и умеешь их анализировать, строишь прекрасные визуализации! Нужно только подправить несколько недочетов и будет супер!\n",
    "    \n",
    "    \n",
    "**Хочу обратить твое внимание на то, что после исправления замечаний в некоторых пунктах исследования могут измениться результаты, поэтому нужно будет подкорректировать выводы. ✔**\n",
    "</div>"
   ]
  },
  {
   "cell_type": "code",
   "execution_count": null,
   "id": "39e257d4",
   "metadata": {},
   "outputs": [],
   "source": []
  }
 ],
 "metadata": {
  "ExecuteTimeLog": [
   {
    "duration": 62,
    "start_time": "2023-05-23T14:29:42.760Z"
   },
   {
    "duration": 53,
    "start_time": "2023-05-23T14:29:47.352Z"
   },
   {
    "duration": 53,
    "start_time": "2023-05-23T14:29:52.173Z"
   },
   {
    "duration": 356,
    "start_time": "2023-05-23T14:29:55.208Z"
   },
   {
    "duration": 87,
    "start_time": "2023-05-23T14:29:55.798Z"
   },
   {
    "duration": 16,
    "start_time": "2023-05-23T14:29:59.944Z"
   },
   {
    "duration": 29,
    "start_time": "2023-05-23T14:30:09.770Z"
   },
   {
    "duration": 8,
    "start_time": "2023-05-23T14:30:09.897Z"
   },
   {
    "duration": 202,
    "start_time": "2023-05-23T14:30:53.292Z"
   },
   {
    "duration": 9,
    "start_time": "2023-05-23T14:30:56.689Z"
   },
   {
    "duration": 69,
    "start_time": "2023-05-23T14:32:05.468Z"
   },
   {
    "duration": 30,
    "start_time": "2023-05-23T14:32:06.602Z"
   },
   {
    "duration": 30,
    "start_time": "2023-05-23T14:32:06.944Z"
   },
   {
    "duration": 17,
    "start_time": "2023-05-23T14:32:07.372Z"
   },
   {
    "duration": 32,
    "start_time": "2023-05-23T14:32:45.612Z"
   },
   {
    "duration": 8,
    "start_time": "2023-05-23T14:32:45.864Z"
   },
   {
    "duration": 14,
    "start_time": "2023-05-23T14:32:46.100Z"
   },
   {
    "duration": 29,
    "start_time": "2023-05-23T14:32:53.787Z"
   },
   {
    "duration": 8,
    "start_time": "2023-05-23T14:32:55.092Z"
   },
   {
    "duration": 30,
    "start_time": "2023-05-23T14:32:57.275Z"
   },
   {
    "duration": 9,
    "start_time": "2023-05-23T14:32:57.758Z"
   },
   {
    "duration": 9,
    "start_time": "2023-05-23T14:33:02.043Z"
   },
   {
    "duration": 13,
    "start_time": "2023-05-23T14:33:04.549Z"
   },
   {
    "duration": 7,
    "start_time": "2023-05-23T14:33:27.511Z"
   },
   {
    "duration": 53,
    "start_time": "2023-05-23T14:33:33.772Z"
   },
   {
    "duration": 8,
    "start_time": "2023-05-23T14:33:34.003Z"
   },
   {
    "duration": 39,
    "start_time": "2023-05-23T14:33:42.200Z"
   },
   {
    "duration": 13,
    "start_time": "2023-05-23T14:33:42.821Z"
   },
   {
    "duration": 38,
    "start_time": "2023-05-23T14:33:46.661Z"
   },
   {
    "duration": 10,
    "start_time": "2023-05-23T14:33:46.790Z"
   },
   {
    "duration": 42,
    "start_time": "2023-05-23T14:33:50.047Z"
   },
   {
    "duration": 10,
    "start_time": "2023-05-23T14:33:50.255Z"
   },
   {
    "duration": 12,
    "start_time": "2023-05-23T14:33:58.567Z"
   },
   {
    "duration": 7,
    "start_time": "2023-05-23T14:34:18.582Z"
   },
   {
    "duration": 7,
    "start_time": "2023-05-23T14:34:23.027Z"
   },
   {
    "duration": 27,
    "start_time": "2023-05-23T14:34:25.326Z"
   },
   {
    "duration": 7,
    "start_time": "2023-05-23T14:34:25.469Z"
   },
   {
    "duration": 11,
    "start_time": "2023-05-23T14:34:31.483Z"
   },
   {
    "duration": 3,
    "start_time": "2023-05-23T14:36:19.551Z"
   },
   {
    "duration": 30,
    "start_time": "2023-05-23T14:36:20.554Z"
   },
   {
    "duration": 10,
    "start_time": "2023-05-23T14:36:20.986Z"
   },
   {
    "duration": 12,
    "start_time": "2023-05-23T14:36:21.640Z"
   },
   {
    "duration": 38,
    "start_time": "2023-05-23T14:36:21.984Z"
   },
   {
    "duration": 10,
    "start_time": "2023-05-23T14:36:22.678Z"
   },
   {
    "duration": 18,
    "start_time": "2023-05-23T14:36:23.094Z"
   },
   {
    "duration": 3,
    "start_time": "2023-05-23T14:36:52.699Z"
   },
   {
    "duration": 28,
    "start_time": "2023-05-23T14:36:53.526Z"
   },
   {
    "duration": 9,
    "start_time": "2023-05-23T14:36:54.287Z"
   },
   {
    "duration": 11,
    "start_time": "2023-05-23T14:36:54.876Z"
   },
   {
    "duration": 38,
    "start_time": "2023-05-23T14:36:55.153Z"
   },
   {
    "duration": 8,
    "start_time": "2023-05-23T14:36:55.567Z"
   },
   {
    "duration": 12,
    "start_time": "2023-05-23T14:36:55.885Z"
   },
   {
    "duration": 28,
    "start_time": "2023-05-23T14:36:56.224Z"
   },
   {
    "duration": 8,
    "start_time": "2023-05-23T14:36:56.799Z"
   },
   {
    "duration": 12,
    "start_time": "2023-05-23T14:36:57.256Z"
   },
   {
    "duration": 3,
    "start_time": "2023-05-23T14:42:18.188Z"
   },
   {
    "duration": 10,
    "start_time": "2023-05-23T14:43:24.337Z"
   },
   {
    "duration": 9,
    "start_time": "2023-05-23T14:43:26.220Z"
   },
   {
    "duration": 7,
    "start_time": "2023-05-23T14:50:31.011Z"
   },
   {
    "duration": 11,
    "start_time": "2023-05-23T14:50:38.368Z"
   },
   {
    "duration": 6,
    "start_time": "2023-05-23T14:50:42.690Z"
   },
   {
    "duration": 425,
    "start_time": "2023-05-23T14:51:01.436Z"
   },
   {
    "duration": 30,
    "start_time": "2023-05-23T14:51:01.863Z"
   },
   {
    "duration": 27,
    "start_time": "2023-05-23T14:51:01.895Z"
   },
   {
    "duration": 32,
    "start_time": "2023-05-23T14:51:01.924Z"
   },
   {
    "duration": 63,
    "start_time": "2023-05-23T14:51:01.958Z"
   },
   {
    "duration": 9,
    "start_time": "2023-05-23T14:51:02.022Z"
   },
   {
    "duration": 19,
    "start_time": "2023-05-23T14:51:02.033Z"
   },
   {
    "duration": 52,
    "start_time": "2023-05-23T14:51:02.054Z"
   },
   {
    "duration": 45,
    "start_time": "2023-05-23T14:51:02.108Z"
   },
   {
    "duration": 97,
    "start_time": "2023-05-23T14:51:02.155Z"
   },
   {
    "duration": 5,
    "start_time": "2023-05-23T14:51:03.504Z"
   },
   {
    "duration": 8,
    "start_time": "2023-05-23T14:51:06.311Z"
   },
   {
    "duration": 5,
    "start_time": "2023-05-23T14:51:06.765Z"
   },
   {
    "duration": 5,
    "start_time": "2023-05-23T14:51:26.518Z"
   },
   {
    "duration": 49,
    "start_time": "2023-05-23T14:51:26.908Z"
   },
   {
    "duration": 4,
    "start_time": "2023-05-23T14:51:27.137Z"
   },
   {
    "duration": 2,
    "start_time": "2023-05-23T14:53:11.180Z"
   },
   {
    "duration": 5,
    "start_time": "2023-05-23T14:53:12.582Z"
   },
   {
    "duration": 5,
    "start_time": "2023-05-23T14:53:12.780Z"
   },
   {
    "duration": 5,
    "start_time": "2023-05-23T14:53:15.296Z"
   },
   {
    "duration": 6,
    "start_time": "2023-05-23T14:53:24.120Z"
   },
   {
    "duration": 9,
    "start_time": "2023-05-23T14:53:48.198Z"
   },
   {
    "duration": 14,
    "start_time": "2023-05-23T14:54:12.318Z"
   },
   {
    "duration": 14,
    "start_time": "2023-05-23T14:54:21.595Z"
   },
   {
    "duration": 3,
    "start_time": "2023-05-23T14:56:14.300Z"
   },
   {
    "duration": 28,
    "start_time": "2023-05-23T14:56:15.038Z"
   },
   {
    "duration": 8,
    "start_time": "2023-05-23T14:56:15.892Z"
   },
   {
    "duration": 11,
    "start_time": "2023-05-23T14:56:20.516Z"
   },
   {
    "duration": 48,
    "start_time": "2023-05-23T14:56:20.780Z"
   },
   {
    "duration": 12,
    "start_time": "2023-05-23T14:56:21.342Z"
   },
   {
    "duration": 11,
    "start_time": "2023-05-23T14:56:21.700Z"
   },
   {
    "duration": 27,
    "start_time": "2023-05-23T14:56:23.038Z"
   },
   {
    "duration": 9,
    "start_time": "2023-05-23T14:56:23.239Z"
   },
   {
    "duration": 11,
    "start_time": "2023-05-23T14:56:24.142Z"
   },
   {
    "duration": 63,
    "start_time": "2023-05-23T14:56:44.258Z"
   },
   {
    "duration": 13,
    "start_time": "2023-05-23T14:56:45.875Z"
   },
   {
    "duration": 9,
    "start_time": "2023-05-23T14:56:46.010Z"
   },
   {
    "duration": 7,
    "start_time": "2023-05-23T14:56:49.493Z"
   },
   {
    "duration": 7,
    "start_time": "2023-05-23T14:56:49.898Z"
   },
   {
    "duration": 6,
    "start_time": "2023-05-23T14:56:50.794Z"
   },
   {
    "duration": 10,
    "start_time": "2023-05-23T14:56:51.874Z"
   },
   {
    "duration": 6,
    "start_time": "2023-05-23T14:57:06.492Z"
   },
   {
    "duration": 8,
    "start_time": "2023-05-23T14:57:22.849Z"
   },
   {
    "duration": 6,
    "start_time": "2023-05-23T14:57:33.443Z"
   },
   {
    "duration": 4,
    "start_time": "2023-05-23T14:58:17.967Z"
   },
   {
    "duration": 6,
    "start_time": "2023-05-23T14:58:24.534Z"
   },
   {
    "duration": 5,
    "start_time": "2023-05-23T14:58:53.514Z"
   },
   {
    "duration": 8,
    "start_time": "2023-05-23T14:59:09.260Z"
   },
   {
    "duration": 9,
    "start_time": "2023-05-23T15:15:41.984Z"
   },
   {
    "duration": 6,
    "start_time": "2023-05-23T15:16:01.403Z"
   },
   {
    "duration": 6,
    "start_time": "2023-05-23T15:16:07.680Z"
   },
   {
    "duration": 13,
    "start_time": "2023-05-23T15:16:27.245Z"
   },
   {
    "duration": 7,
    "start_time": "2023-05-23T15:16:31.675Z"
   },
   {
    "duration": 4,
    "start_time": "2023-05-23T15:16:36.309Z"
   },
   {
    "duration": 8,
    "start_time": "2023-05-23T15:16:44.157Z"
   },
   {
    "duration": 5,
    "start_time": "2023-05-23T15:16:47.932Z"
   },
   {
    "duration": 5,
    "start_time": "2023-05-23T15:16:53.433Z"
   },
   {
    "duration": 5,
    "start_time": "2023-05-23T15:17:01.512Z"
   },
   {
    "duration": 4,
    "start_time": "2023-05-23T15:17:14.244Z"
   },
   {
    "duration": 4,
    "start_time": "2023-05-23T15:17:17.817Z"
   },
   {
    "duration": 5,
    "start_time": "2023-05-23T15:17:35.078Z"
   },
   {
    "duration": 4,
    "start_time": "2023-05-23T15:17:43.435Z"
   },
   {
    "duration": 7,
    "start_time": "2023-05-23T15:17:46.967Z"
   },
   {
    "duration": 6,
    "start_time": "2023-05-23T15:17:50.767Z"
   },
   {
    "duration": 11,
    "start_time": "2023-05-23T15:17:53.336Z"
   },
   {
    "duration": 4,
    "start_time": "2023-05-23T15:17:57.312Z"
   },
   {
    "duration": 9,
    "start_time": "2023-05-23T15:18:22.363Z"
   },
   {
    "duration": 6,
    "start_time": "2023-05-23T15:18:30.377Z"
   },
   {
    "duration": 4,
    "start_time": "2023-05-23T15:18:34.788Z"
   },
   {
    "duration": 4,
    "start_time": "2023-05-23T15:18:38.249Z"
   },
   {
    "duration": 4,
    "start_time": "2023-05-23T15:18:40.866Z"
   },
   {
    "duration": 4,
    "start_time": "2023-05-23T15:18:43.441Z"
   },
   {
    "duration": 5,
    "start_time": "2023-05-23T15:19:18.234Z"
   },
   {
    "duration": 5,
    "start_time": "2023-05-23T15:19:42.070Z"
   },
   {
    "duration": 4,
    "start_time": "2023-05-23T15:19:42.478Z"
   },
   {
    "duration": 6,
    "start_time": "2023-05-23T15:19:42.735Z"
   },
   {
    "duration": 8,
    "start_time": "2023-05-23T15:19:57.290Z"
   },
   {
    "duration": 5,
    "start_time": "2023-05-23T15:19:57.807Z"
   },
   {
    "duration": 357,
    "start_time": "2023-05-23T15:20:14.418Z"
   },
   {
    "duration": 29,
    "start_time": "2023-05-23T15:20:14.777Z"
   },
   {
    "duration": 16,
    "start_time": "2023-05-23T15:20:14.808Z"
   },
   {
    "duration": 16,
    "start_time": "2023-05-23T15:20:14.826Z"
   },
   {
    "duration": 35,
    "start_time": "2023-05-23T15:20:14.844Z"
   },
   {
    "duration": 10,
    "start_time": "2023-05-23T15:20:14.880Z"
   },
   {
    "duration": 16,
    "start_time": "2023-05-23T15:20:14.891Z"
   },
   {
    "duration": 28,
    "start_time": "2023-05-23T15:20:14.909Z"
   },
   {
    "duration": 7,
    "start_time": "2023-05-23T15:20:14.939Z"
   },
   {
    "duration": 14,
    "start_time": "2023-05-23T15:20:14.949Z"
   },
   {
    "duration": 11,
    "start_time": "2023-05-23T15:20:14.964Z"
   },
   {
    "duration": 15,
    "start_time": "2023-05-23T15:20:14.977Z"
   },
   {
    "duration": 6,
    "start_time": "2023-05-23T15:20:14.994Z"
   },
   {
    "duration": 37,
    "start_time": "2023-05-23T15:20:15.001Z"
   },
   {
    "duration": 34,
    "start_time": "2023-05-23T15:20:15.040Z"
   },
   {
    "duration": 7,
    "start_time": "2023-05-23T15:20:15.076Z"
   },
   {
    "duration": 34,
    "start_time": "2023-05-23T15:20:15.085Z"
   },
   {
    "duration": 18,
    "start_time": "2023-05-23T15:20:15.121Z"
   },
   {
    "duration": 27,
    "start_time": "2023-05-23T15:20:15.140Z"
   },
   {
    "duration": 25,
    "start_time": "2023-05-23T15:20:15.170Z"
   },
   {
    "duration": 16,
    "start_time": "2023-05-23T15:20:15.197Z"
   },
   {
    "duration": 12,
    "start_time": "2023-05-23T15:20:35.772Z"
   },
   {
    "duration": 5,
    "start_time": "2023-05-23T15:21:05.357Z"
   },
   {
    "duration": 5,
    "start_time": "2023-05-23T15:21:05.771Z"
   },
   {
    "duration": 7,
    "start_time": "2023-05-23T15:21:06.062Z"
   },
   {
    "duration": 9,
    "start_time": "2023-05-23T15:21:06.266Z"
   },
   {
    "duration": 5,
    "start_time": "2023-05-23T15:21:06.536Z"
   },
   {
    "duration": 4,
    "start_time": "2023-05-23T15:24:32.793Z"
   },
   {
    "duration": 568,
    "start_time": "2023-05-23T15:25:52.379Z"
   },
   {
    "duration": 86,
    "start_time": "2023-05-23T15:26:02.586Z"
   },
   {
    "duration": 15,
    "start_time": "2023-05-23T15:26:11.743Z"
   },
   {
    "duration": 7,
    "start_time": "2023-05-23T15:26:28.234Z"
   },
   {
    "duration": 130,
    "start_time": "2023-05-23T15:26:35.095Z"
   },
   {
    "duration": 9,
    "start_time": "2023-05-23T15:26:42.834Z"
   },
   {
    "duration": 119,
    "start_time": "2023-05-23T15:26:46.885Z"
   },
   {
    "duration": 144,
    "start_time": "2023-05-23T15:26:51.536Z"
   },
   {
    "duration": 230,
    "start_time": "2023-05-23T15:28:30.697Z"
   },
   {
    "duration": 169,
    "start_time": "2023-05-23T15:28:34.703Z"
   },
   {
    "duration": 151,
    "start_time": "2023-05-23T15:28:38.782Z"
   },
   {
    "duration": 152,
    "start_time": "2023-05-23T15:28:54.818Z"
   },
   {
    "duration": 153,
    "start_time": "2023-05-23T15:29:00.951Z"
   },
   {
    "duration": 10,
    "start_time": "2023-05-23T15:29:41.250Z"
   },
   {
    "duration": 4,
    "start_time": "2023-05-23T15:29:44.752Z"
   },
   {
    "duration": 5,
    "start_time": "2023-05-23T15:29:48.477Z"
   },
   {
    "duration": 5,
    "start_time": "2023-05-23T15:29:54.839Z"
   },
   {
    "duration": 131,
    "start_time": "2023-05-23T15:30:03.245Z"
   },
   {
    "duration": 7,
    "start_time": "2023-05-23T15:57:21.846Z"
   },
   {
    "duration": 6,
    "start_time": "2023-05-23T15:57:35.886Z"
   },
   {
    "duration": 130,
    "start_time": "2023-05-23T15:57:36.055Z"
   },
   {
    "duration": 7,
    "start_time": "2023-05-23T16:00:00.159Z"
   },
   {
    "duration": 7,
    "start_time": "2023-05-23T16:00:15.671Z"
   },
   {
    "duration": 239,
    "start_time": "2023-05-23T16:00:27.901Z"
   },
   {
    "duration": 6,
    "start_time": "2023-05-23T16:00:37.343Z"
   },
   {
    "duration": 393,
    "start_time": "2023-05-23T16:00:45.054Z"
   },
   {
    "duration": 30,
    "start_time": "2023-05-23T16:00:45.448Z"
   },
   {
    "duration": 14,
    "start_time": "2023-05-23T16:00:45.480Z"
   },
   {
    "duration": 15,
    "start_time": "2023-05-23T16:00:45.495Z"
   },
   {
    "duration": 28,
    "start_time": "2023-05-23T16:00:45.512Z"
   },
   {
    "duration": 8,
    "start_time": "2023-05-23T16:00:45.542Z"
   },
   {
    "duration": 15,
    "start_time": "2023-05-23T16:00:45.551Z"
   },
   {
    "duration": 44,
    "start_time": "2023-05-23T16:00:45.567Z"
   },
   {
    "duration": 9,
    "start_time": "2023-05-23T16:00:45.613Z"
   },
   {
    "duration": 23,
    "start_time": "2023-05-23T16:00:45.623Z"
   },
   {
    "duration": 21,
    "start_time": "2023-05-23T16:00:45.648Z"
   },
   {
    "duration": 15,
    "start_time": "2023-05-23T16:00:45.671Z"
   },
   {
    "duration": 15,
    "start_time": "2023-05-23T16:00:45.688Z"
   },
   {
    "duration": 8,
    "start_time": "2023-05-23T16:00:45.705Z"
   },
   {
    "duration": 10,
    "start_time": "2023-05-23T16:00:45.715Z"
   },
   {
    "duration": 6,
    "start_time": "2023-05-23T16:00:45.727Z"
   },
   {
    "duration": 7,
    "start_time": "2023-05-23T16:00:45.735Z"
   },
   {
    "duration": 17,
    "start_time": "2023-05-23T16:00:45.743Z"
   },
   {
    "duration": 6,
    "start_time": "2023-05-23T16:00:45.762Z"
   },
   {
    "duration": 8,
    "start_time": "2023-05-23T16:00:45.769Z"
   },
   {
    "duration": 10,
    "start_time": "2023-05-23T16:00:45.778Z"
   },
   {
    "duration": 12,
    "start_time": "2023-05-23T16:00:45.789Z"
   },
   {
    "duration": 18,
    "start_time": "2023-05-23T16:00:45.803Z"
   },
   {
    "duration": 5,
    "start_time": "2023-05-23T16:00:45.823Z"
   },
   {
    "duration": 8,
    "start_time": "2023-05-23T16:00:45.830Z"
   },
   {
    "duration": 6,
    "start_time": "2023-05-23T16:00:45.858Z"
   },
   {
    "duration": 8,
    "start_time": "2023-05-23T16:00:45.866Z"
   },
   {
    "duration": 391,
    "start_time": "2023-05-23T16:00:45.876Z"
   },
   {
    "duration": 6,
    "start_time": "2023-05-23T16:00:46.269Z"
   },
   {
    "duration": 131,
    "start_time": "2023-05-23T16:00:46.276Z"
   },
   {
    "duration": 5,
    "start_time": "2023-05-23T16:00:48.009Z"
   },
   {
    "duration": 269,
    "start_time": "2023-05-23T16:00:49.785Z"
   },
   {
    "duration": 235,
    "start_time": "2023-05-23T16:00:58.067Z"
   },
   {
    "duration": 246,
    "start_time": "2023-05-23T16:01:39.711Z"
   },
   {
    "duration": 7,
    "start_time": "2023-05-23T16:02:04.070Z"
   },
   {
    "duration": 164,
    "start_time": "2023-05-23T16:02:04.252Z"
   },
   {
    "duration": 137,
    "start_time": "2023-05-23T16:02:17.360Z"
   },
   {
    "duration": 8,
    "start_time": "2023-05-23T16:02:51.314Z"
   },
   {
    "duration": 136,
    "start_time": "2023-05-23T16:02:51.592Z"
   },
   {
    "duration": 127,
    "start_time": "2023-05-23T16:03:06.050Z"
   },
   {
    "duration": 12,
    "start_time": "2023-05-23T16:03:08.895Z"
   },
   {
    "duration": 247,
    "start_time": "2023-05-23T16:03:10.850Z"
   },
   {
    "duration": 248,
    "start_time": "2023-05-23T16:03:20.996Z"
   },
   {
    "duration": 242,
    "start_time": "2023-05-23T16:03:29.371Z"
   },
   {
    "duration": 258,
    "start_time": "2023-05-23T16:03:38.893Z"
   },
   {
    "duration": 342,
    "start_time": "2023-05-23T16:03:47.905Z"
   },
   {
    "duration": 9,
    "start_time": "2023-05-23T16:44:12.385Z"
   },
   {
    "duration": 369,
    "start_time": "2023-05-23T16:45:46.812Z"
   },
   {
    "duration": 30,
    "start_time": "2023-05-23T16:45:47.184Z"
   },
   {
    "duration": 17,
    "start_time": "2023-05-23T16:45:47.216Z"
   },
   {
    "duration": 12,
    "start_time": "2023-05-23T16:45:47.234Z"
   },
   {
    "duration": 29,
    "start_time": "2023-05-23T16:45:47.248Z"
   },
   {
    "duration": 10,
    "start_time": "2023-05-23T16:45:47.279Z"
   },
   {
    "duration": 27,
    "start_time": "2023-05-23T16:45:47.292Z"
   },
   {
    "duration": 18,
    "start_time": "2023-05-23T16:45:47.321Z"
   },
   {
    "duration": 9,
    "start_time": "2023-05-23T16:45:47.341Z"
   },
   {
    "duration": 18,
    "start_time": "2023-05-23T16:45:47.352Z"
   },
   {
    "duration": 12,
    "start_time": "2023-05-23T16:45:47.372Z"
   },
   {
    "duration": 8,
    "start_time": "2023-05-23T16:45:47.385Z"
   },
   {
    "duration": 5,
    "start_time": "2023-05-23T16:45:47.394Z"
   },
   {
    "duration": 7,
    "start_time": "2023-05-23T16:45:47.400Z"
   },
   {
    "duration": 10,
    "start_time": "2023-05-23T16:45:47.408Z"
   },
   {
    "duration": 6,
    "start_time": "2023-05-23T16:45:47.419Z"
   },
   {
    "duration": 37,
    "start_time": "2023-05-23T16:45:47.426Z"
   },
   {
    "duration": 8,
    "start_time": "2023-05-23T16:45:47.466Z"
   },
   {
    "duration": 8,
    "start_time": "2023-05-23T16:45:47.475Z"
   },
   {
    "duration": 12,
    "start_time": "2023-05-23T16:45:47.484Z"
   },
   {
    "duration": 9,
    "start_time": "2023-05-23T16:45:47.497Z"
   },
   {
    "duration": 21,
    "start_time": "2023-05-23T16:45:47.508Z"
   },
   {
    "duration": 28,
    "start_time": "2023-05-23T16:45:47.531Z"
   },
   {
    "duration": 6,
    "start_time": "2023-05-23T16:45:47.561Z"
   },
   {
    "duration": 8,
    "start_time": "2023-05-23T16:45:47.569Z"
   },
   {
    "duration": 4,
    "start_time": "2023-05-23T16:45:47.579Z"
   },
   {
    "duration": 7,
    "start_time": "2023-05-23T16:45:47.584Z"
   },
   {
    "duration": 413,
    "start_time": "2023-05-23T16:45:47.593Z"
   },
   {
    "duration": 5,
    "start_time": "2023-05-23T16:45:48.007Z"
   },
   {
    "duration": 139,
    "start_time": "2023-05-23T16:45:48.014Z"
   },
   {
    "duration": 8,
    "start_time": "2023-05-23T16:45:48.157Z"
   },
   {
    "duration": 258,
    "start_time": "2023-05-23T16:45:48.886Z"
   },
   {
    "duration": 457,
    "start_time": "2023-05-23T16:46:21.218Z"
   },
   {
    "duration": 30,
    "start_time": "2023-05-23T16:46:21.677Z"
   },
   {
    "duration": 16,
    "start_time": "2023-05-23T16:46:21.709Z"
   },
   {
    "duration": 18,
    "start_time": "2023-05-23T16:46:21.727Z"
   },
   {
    "duration": 34,
    "start_time": "2023-05-23T16:46:21.747Z"
   },
   {
    "duration": 11,
    "start_time": "2023-05-23T16:46:21.783Z"
   },
   {
    "duration": 38,
    "start_time": "2023-05-23T16:46:21.796Z"
   },
   {
    "duration": 33,
    "start_time": "2023-05-23T16:46:21.836Z"
   },
   {
    "duration": 83,
    "start_time": "2023-05-23T16:46:21.874Z"
   },
   {
    "duration": 15,
    "start_time": "2023-05-23T16:46:21.959Z"
   },
   {
    "duration": 39,
    "start_time": "2023-05-23T16:46:21.975Z"
   },
   {
    "duration": 23,
    "start_time": "2023-05-23T16:46:22.016Z"
   },
   {
    "duration": 7,
    "start_time": "2023-05-23T16:46:22.041Z"
   },
   {
    "duration": 21,
    "start_time": "2023-05-23T16:46:22.051Z"
   },
   {
    "duration": 20,
    "start_time": "2023-05-23T16:46:22.074Z"
   },
   {
    "duration": 10,
    "start_time": "2023-05-23T16:46:22.096Z"
   },
   {
    "duration": 11,
    "start_time": "2023-05-23T16:46:22.108Z"
   },
   {
    "duration": 9,
    "start_time": "2023-05-23T16:46:22.120Z"
   },
   {
    "duration": 12,
    "start_time": "2023-05-23T16:46:22.131Z"
   },
   {
    "duration": 14,
    "start_time": "2023-05-23T16:46:22.145Z"
   },
   {
    "duration": 11,
    "start_time": "2023-05-23T16:46:22.161Z"
   },
   {
    "duration": 12,
    "start_time": "2023-05-23T16:46:22.174Z"
   },
   {
    "duration": 13,
    "start_time": "2023-05-23T16:46:22.188Z"
   },
   {
    "duration": 9,
    "start_time": "2023-05-23T16:46:22.203Z"
   },
   {
    "duration": 17,
    "start_time": "2023-05-23T16:46:22.214Z"
   },
   {
    "duration": 24,
    "start_time": "2023-05-23T16:46:22.233Z"
   },
   {
    "duration": 18,
    "start_time": "2023-05-23T16:46:22.259Z"
   },
   {
    "duration": 399,
    "start_time": "2023-05-23T16:46:22.280Z"
   },
   {
    "duration": 6,
    "start_time": "2023-05-23T16:46:22.681Z"
   },
   {
    "duration": 151,
    "start_time": "2023-05-23T16:46:22.688Z"
   },
   {
    "duration": 6,
    "start_time": "2023-05-23T16:46:22.840Z"
   },
   {
    "duration": 276,
    "start_time": "2023-05-23T16:46:22.858Z"
   },
   {
    "duration": 169,
    "start_time": "2023-05-23T16:46:23.608Z"
   },
   {
    "duration": 48,
    "start_time": "2023-05-23T16:46:28.525Z"
   },
   {
    "duration": 277,
    "start_time": "2023-05-23T16:46:30.623Z"
   },
   {
    "duration": 154,
    "start_time": "2023-05-23T16:46:33.054Z"
   },
   {
    "duration": 271,
    "start_time": "2023-05-23T16:46:41.973Z"
   },
   {
    "duration": 297,
    "start_time": "2023-05-23T17:00:47.654Z"
   },
   {
    "duration": 297,
    "start_time": "2023-05-23T17:01:56.907Z"
   },
   {
    "duration": 313,
    "start_time": "2023-05-23T17:02:05.035Z"
   },
   {
    "duration": 381,
    "start_time": "2023-05-23T17:02:29.293Z"
   },
   {
    "duration": 7,
    "start_time": "2023-05-23T17:04:54.948Z"
   },
   {
    "duration": 7,
    "start_time": "2023-05-23T17:05:00.690Z"
   },
   {
    "duration": 277,
    "start_time": "2023-05-23T17:05:07.654Z"
   },
   {
    "duration": 277,
    "start_time": "2023-05-23T17:05:27.603Z"
   },
   {
    "duration": 9,
    "start_time": "2023-05-23T17:05:42.171Z"
   },
   {
    "duration": 13,
    "start_time": "2023-05-23T17:05:51.550Z"
   },
   {
    "duration": 10,
    "start_time": "2023-05-23T17:05:59.950Z"
   },
   {
    "duration": 7,
    "start_time": "2023-05-23T17:06:04.279Z"
   },
   {
    "duration": 6,
    "start_time": "2023-05-23T17:06:07.201Z"
   },
   {
    "duration": 46,
    "start_time": "2023-05-23T17:09:17.715Z"
   },
   {
    "duration": 6,
    "start_time": "2023-05-23T17:09:20.182Z"
   },
   {
    "duration": 9,
    "start_time": "2023-05-23T17:09:25.452Z"
   },
   {
    "duration": 9,
    "start_time": "2023-05-23T17:09:31.854Z"
   },
   {
    "duration": 6,
    "start_time": "2023-05-23T17:09:39.388Z"
   },
   {
    "duration": 8,
    "start_time": "2023-05-23T17:10:00.203Z"
   },
   {
    "duration": 293,
    "start_time": "2023-05-23T17:10:01.972Z"
   },
   {
    "duration": 9,
    "start_time": "2023-05-23T17:10:55.484Z"
   },
   {
    "duration": 147,
    "start_time": "2023-05-23T17:10:55.782Z"
   },
   {
    "duration": 6,
    "start_time": "2023-05-23T17:10:57.795Z"
   },
   {
    "duration": 262,
    "start_time": "2023-05-23T17:10:58.980Z"
   },
   {
    "duration": 294,
    "start_time": "2023-05-23T17:11:04.349Z"
   },
   {
    "duration": 367,
    "start_time": "2023-05-23T18:54:38.993Z"
   },
   {
    "duration": 259,
    "start_time": "2023-05-23T18:54:40.453Z"
   },
   {
    "duration": 7,
    "start_time": "2023-05-23T19:39:06.750Z"
   },
   {
    "duration": 7,
    "start_time": "2023-05-23T19:39:07.159Z"
   },
   {
    "duration": 7,
    "start_time": "2023-05-23T19:39:09.283Z"
   },
   {
    "duration": 6,
    "start_time": "2023-05-23T19:39:09.503Z"
   },
   {
    "duration": 6,
    "start_time": "2023-05-23T19:39:09.918Z"
   },
   {
    "duration": 8,
    "start_time": "2023-05-23T19:39:12.112Z"
   },
   {
    "duration": 5,
    "start_time": "2023-05-23T19:39:12.365Z"
   },
   {
    "duration": 4,
    "start_time": "2023-05-23T19:43:55.063Z"
   },
   {
    "duration": 7,
    "start_time": "2023-05-23T19:44:07.944Z"
   },
   {
    "duration": 3,
    "start_time": "2023-05-23T19:47:32.347Z"
   },
   {
    "duration": 9,
    "start_time": "2023-05-23T19:47:35.112Z"
   },
   {
    "duration": 12,
    "start_time": "2023-05-23T19:48:29.457Z"
   },
   {
    "duration": 29,
    "start_time": "2023-05-23T19:48:31.921Z"
   },
   {
    "duration": 25,
    "start_time": "2023-05-23T19:53:03.648Z"
   },
   {
    "duration": 24,
    "start_time": "2023-05-23T19:53:09.348Z"
   },
   {
    "duration": 30,
    "start_time": "2023-05-23T19:53:12.155Z"
   },
   {
    "duration": 8,
    "start_time": "2023-05-23T19:53:45.690Z"
   },
   {
    "duration": 12,
    "start_time": "2023-05-23T19:53:53.357Z"
   },
   {
    "duration": 32,
    "start_time": "2023-05-23T19:54:18.614Z"
   },
   {
    "duration": 23,
    "start_time": "2023-05-23T19:54:25.528Z"
   },
   {
    "duration": 25,
    "start_time": "2023-05-23T19:54:31.674Z"
   },
   {
    "duration": 13,
    "start_time": "2023-05-23T19:58:28.772Z"
   },
   {
    "duration": 10,
    "start_time": "2023-05-23T19:58:35.520Z"
   },
   {
    "duration": 10,
    "start_time": "2023-05-23T19:58:47.714Z"
   },
   {
    "duration": 13,
    "start_time": "2023-05-23T19:59:18.484Z"
   },
   {
    "duration": 21,
    "start_time": "2023-05-23T19:59:21.612Z"
   },
   {
    "duration": 14,
    "start_time": "2023-05-23T19:59:30.247Z"
   },
   {
    "duration": 159,
    "start_time": "2023-05-23T20:03:02.114Z"
   },
   {
    "duration": 263,
    "start_time": "2023-05-23T20:03:13.186Z"
   },
   {
    "duration": 295,
    "start_time": "2023-05-23T20:03:39.638Z"
   },
   {
    "duration": 296,
    "start_time": "2023-05-23T20:04:03.039Z"
   },
   {
    "duration": 353,
    "start_time": "2023-05-23T20:04:42.332Z"
   },
   {
    "duration": 267,
    "start_time": "2023-05-23T20:05:46.012Z"
   },
   {
    "duration": 256,
    "start_time": "2023-05-23T20:05:46.836Z"
   },
   {
    "duration": 305,
    "start_time": "2023-05-23T20:06:23.620Z"
   },
   {
    "duration": 260,
    "start_time": "2023-05-23T20:06:28.629Z"
   },
   {
    "duration": 414,
    "start_time": "2023-05-23T20:06:41.590Z"
   },
   {
    "duration": 561,
    "start_time": "2023-05-23T20:09:51.835Z"
   },
   {
    "duration": 572,
    "start_time": "2023-05-23T20:10:15.852Z"
   },
   {
    "duration": 337,
    "start_time": "2023-05-23T20:12:37.341Z"
   },
   {
    "duration": 49,
    "start_time": "2023-05-23T20:12:53.484Z"
   },
   {
    "duration": 51,
    "start_time": "2023-05-23T20:12:59.560Z"
   },
   {
    "duration": 52,
    "start_time": "2023-05-23T20:12:59.713Z"
   },
   {
    "duration": 50,
    "start_time": "2023-05-23T20:13:04.411Z"
   },
   {
    "duration": 398,
    "start_time": "2023-05-23T20:13:07.046Z"
   },
   {
    "duration": 520,
    "start_time": "2023-05-23T20:13:16.649Z"
   },
   {
    "duration": 365,
    "start_time": "2023-05-23T20:13:19.050Z"
   },
   {
    "duration": 450,
    "start_time": "2023-05-23T20:13:22.584Z"
   },
   {
    "duration": 11,
    "start_time": "2023-05-23T20:14:17.262Z"
   },
   {
    "duration": 666,
    "start_time": "2023-05-23T20:15:53.742Z"
   },
   {
    "duration": 635,
    "start_time": "2023-05-23T20:16:17.438Z"
   },
   {
    "duration": 510,
    "start_time": "2023-05-23T20:16:24.976Z"
   },
   {
    "duration": 486,
    "start_time": "2023-05-23T20:16:36.348Z"
   },
   {
    "duration": 7,
    "start_time": "2023-05-23T20:16:42.026Z"
   },
   {
    "duration": 8,
    "start_time": "2023-05-23T20:17:41.861Z"
   },
   {
    "duration": 7,
    "start_time": "2023-05-23T20:18:06.227Z"
   },
   {
    "duration": 8,
    "start_time": "2023-05-23T20:18:13.386Z"
   },
   {
    "duration": 9,
    "start_time": "2023-05-23T20:18:48.411Z"
   },
   {
    "duration": 8,
    "start_time": "2023-05-23T20:18:53.191Z"
   },
   {
    "duration": 7,
    "start_time": "2023-05-23T20:19:12.402Z"
   },
   {
    "duration": 8,
    "start_time": "2023-05-23T20:19:16.121Z"
   },
   {
    "duration": 8,
    "start_time": "2023-05-23T20:19:20.055Z"
   },
   {
    "duration": 623,
    "start_time": "2023-05-23T20:19:47.161Z"
   },
   {
    "duration": 8,
    "start_time": "2023-05-23T20:19:49.455Z"
   },
   {
    "duration": 494,
    "start_time": "2023-05-23T20:19:49.751Z"
   },
   {
    "duration": 477,
    "start_time": "2023-05-23T20:20:08.077Z"
   },
   {
    "duration": 10,
    "start_time": "2023-05-23T20:21:01.350Z"
   },
   {
    "duration": 9,
    "start_time": "2023-05-23T20:21:09.841Z"
   },
   {
    "duration": 7,
    "start_time": "2023-05-23T20:22:40.260Z"
   },
   {
    "duration": 6,
    "start_time": "2023-05-23T20:22:51.480Z"
   },
   {
    "duration": 9,
    "start_time": "2023-05-23T20:22:58.096Z"
   },
   {
    "duration": 8,
    "start_time": "2023-05-23T20:23:09.908Z"
   },
   {
    "duration": 8,
    "start_time": "2023-05-23T20:23:24.208Z"
   },
   {
    "duration": 648,
    "start_time": "2023-05-23T20:24:29.508Z"
   },
   {
    "duration": 8,
    "start_time": "2023-05-23T20:24:30.157Z"
   },
   {
    "duration": 474,
    "start_time": "2023-05-23T20:24:30.429Z"
   },
   {
    "duration": 8,
    "start_time": "2023-05-23T20:24:30.904Z"
   },
   {
    "duration": 52,
    "start_time": "2023-05-24T10:27:42.617Z"
   },
   {
    "duration": 406,
    "start_time": "2023-05-24T10:27:48.902Z"
   },
   {
    "duration": 89,
    "start_time": "2023-05-24T10:27:49.310Z"
   },
   {
    "duration": 15,
    "start_time": "2023-05-24T10:27:49.401Z"
   },
   {
    "duration": 11,
    "start_time": "2023-05-24T10:27:49.418Z"
   },
   {
    "duration": 402,
    "start_time": "2023-05-24T10:27:49.431Z"
   },
   {
    "duration": 9,
    "start_time": "2023-05-24T10:27:49.834Z"
   },
   {
    "duration": 22,
    "start_time": "2023-05-24T10:27:49.844Z"
   },
   {
    "duration": 58,
    "start_time": "2023-05-24T10:27:49.867Z"
   },
   {
    "duration": 7,
    "start_time": "2023-05-24T10:27:49.927Z"
   },
   {
    "duration": 12,
    "start_time": "2023-05-24T10:27:49.937Z"
   },
   {
    "duration": 29,
    "start_time": "2023-05-24T10:27:49.950Z"
   },
   {
    "duration": 19,
    "start_time": "2023-05-24T10:27:49.981Z"
   },
   {
    "duration": 11,
    "start_time": "2023-05-24T10:27:50.002Z"
   },
   {
    "duration": 11,
    "start_time": "2023-05-24T10:27:50.014Z"
   },
   {
    "duration": 16,
    "start_time": "2023-05-24T10:27:50.026Z"
   },
   {
    "duration": 24,
    "start_time": "2023-05-24T10:27:50.043Z"
   },
   {
    "duration": 8,
    "start_time": "2023-05-24T10:27:50.068Z"
   },
   {
    "duration": 21,
    "start_time": "2023-05-24T10:27:50.078Z"
   },
   {
    "duration": 29,
    "start_time": "2023-05-24T10:27:50.101Z"
   },
   {
    "duration": 41,
    "start_time": "2023-05-24T10:27:50.132Z"
   },
   {
    "duration": 15,
    "start_time": "2023-05-24T10:27:50.175Z"
   },
   {
    "duration": 12,
    "start_time": "2023-05-24T10:27:50.191Z"
   },
   {
    "duration": 15,
    "start_time": "2023-05-24T10:27:50.204Z"
   },
   {
    "duration": 14,
    "start_time": "2023-05-24T10:27:50.221Z"
   },
   {
    "duration": 9,
    "start_time": "2023-05-24T10:27:50.237Z"
   },
   {
    "duration": 38,
    "start_time": "2023-05-24T10:27:50.247Z"
   },
   {
    "duration": 29,
    "start_time": "2023-05-24T10:27:50.286Z"
   },
   {
    "duration": 527,
    "start_time": "2023-05-24T10:27:50.318Z"
   },
   {
    "duration": 6,
    "start_time": "2023-05-24T10:27:50.847Z"
   },
   {
    "duration": 135,
    "start_time": "2023-05-24T10:27:50.855Z"
   },
   {
    "duration": 6,
    "start_time": "2023-05-24T10:27:50.992Z"
   },
   {
    "duration": 247,
    "start_time": "2023-05-24T10:27:51.006Z"
   },
   {
    "duration": 363,
    "start_time": "2023-05-24T10:27:51.254Z"
   },
   {
    "duration": 298,
    "start_time": "2023-05-24T10:27:51.620Z"
   },
   {
    "duration": 9,
    "start_time": "2023-05-24T10:27:51.920Z"
   },
   {
    "duration": 23,
    "start_time": "2023-05-24T10:27:51.930Z"
   },
   {
    "duration": 24,
    "start_time": "2023-05-24T10:27:51.955Z"
   },
   {
    "duration": 29,
    "start_time": "2023-05-24T10:27:51.981Z"
   },
   {
    "duration": 18,
    "start_time": "2023-05-24T10:27:52.012Z"
   },
   {
    "duration": 22,
    "start_time": "2023-05-24T10:27:52.032Z"
   },
   {
    "duration": 497,
    "start_time": "2023-05-24T10:27:52.056Z"
   },
   {
    "duration": 8,
    "start_time": "2023-05-24T10:27:52.555Z"
   },
   {
    "duration": 490,
    "start_time": "2023-05-24T10:27:52.564Z"
   },
   {
    "duration": 9,
    "start_time": "2023-05-24T10:27:53.056Z"
   },
   {
    "duration": 19,
    "start_time": "2023-05-24T10:27:53.211Z"
   },
   {
    "duration": 5,
    "start_time": "2023-05-24T10:28:55.197Z"
   },
   {
    "duration": 4,
    "start_time": "2023-05-24T10:30:08.320Z"
   },
   {
    "duration": 74,
    "start_time": "2023-05-24T10:30:10.793Z"
   },
   {
    "duration": 22,
    "start_time": "2023-05-24T10:30:46.023Z"
   },
   {
    "duration": 5,
    "start_time": "2023-05-24T10:31:42.062Z"
   },
   {
    "duration": 30,
    "start_time": "2023-05-24T10:32:17.512Z"
   },
   {
    "duration": 207,
    "start_time": "2023-05-24T10:33:50.484Z"
   },
   {
    "duration": 596,
    "start_time": "2023-05-24T10:34:08.073Z"
   },
   {
    "duration": 18,
    "start_time": "2023-05-24T10:34:46.141Z"
   },
   {
    "duration": 17,
    "start_time": "2023-05-24T10:34:49.287Z"
   },
   {
    "duration": 31,
    "start_time": "2023-05-24T10:34:54.258Z"
   },
   {
    "duration": 229,
    "start_time": "2023-05-24T10:35:54.061Z"
   },
   {
    "duration": 218,
    "start_time": "2023-05-24T10:35:58.062Z"
   },
   {
    "duration": 223,
    "start_time": "2023-05-24T10:36:03.419Z"
   },
   {
    "duration": 20,
    "start_time": "2023-05-24T10:36:18.698Z"
   },
   {
    "duration": 28,
    "start_time": "2023-05-24T10:36:21.772Z"
   },
   {
    "duration": 28,
    "start_time": "2023-05-24T10:36:58.014Z"
   },
   {
    "duration": 20,
    "start_time": "2023-05-24T10:37:08.493Z"
   },
   {
    "duration": 47,
    "start_time": "2023-05-24T10:37:14.161Z"
   },
   {
    "duration": 30,
    "start_time": "2023-05-24T11:03:31.221Z"
   },
   {
    "duration": 21,
    "start_time": "2023-05-24T11:03:50.066Z"
   },
   {
    "duration": 31,
    "start_time": "2023-05-24T11:03:54.964Z"
   },
   {
    "duration": 42,
    "start_time": "2023-05-24T11:04:07.846Z"
   },
   {
    "duration": 14,
    "start_time": "2023-05-24T11:04:21.202Z"
   },
   {
    "duration": 21,
    "start_time": "2023-05-24T11:06:07.261Z"
   },
   {
    "duration": 13,
    "start_time": "2023-05-24T11:06:07.569Z"
   },
   {
    "duration": 15,
    "start_time": "2023-05-24T11:11:19.453Z"
   },
   {
    "duration": 2671,
    "start_time": "2023-05-24T11:11:30.682Z"
   },
   {
    "duration": 2794,
    "start_time": "2023-05-24T11:11:48.113Z"
   },
   {
    "duration": 17,
    "start_time": "2023-05-24T11:12:00.299Z"
   },
   {
    "duration": 14,
    "start_time": "2023-05-24T11:12:08.692Z"
   },
   {
    "duration": 2138,
    "start_time": "2023-05-24T11:12:21.268Z"
   },
   {
    "duration": 1491,
    "start_time": "2023-05-24T11:12:37.657Z"
   },
   {
    "duration": 8777,
    "start_time": "2023-05-24T11:12:41.206Z"
   },
   {
    "duration": 1374,
    "start_time": "2023-05-24T11:12:52.394Z"
   },
   {
    "duration": 1345,
    "start_time": "2023-05-24T11:12:55.372Z"
   },
   {
    "duration": 927,
    "start_time": "2023-05-24T11:13:07.458Z"
   },
   {
    "duration": 8830,
    "start_time": "2023-05-24T11:13:44.064Z"
   },
   {
    "duration": 742,
    "start_time": "2023-05-24T11:28:53.886Z"
   },
   {
    "duration": 8774,
    "start_time": "2023-05-24T11:29:00.975Z"
   },
   {
    "duration": 15,
    "start_time": "2023-05-24T11:29:56.135Z"
   },
   {
    "duration": 18,
    "start_time": "2023-05-24T11:30:00.273Z"
   },
   {
    "duration": 14,
    "start_time": "2023-05-24T11:30:11.754Z"
   },
   {
    "duration": 46972,
    "start_time": "2023-05-24T11:30:21.081Z"
   },
   {
    "duration": 13,
    "start_time": "2023-05-24T11:31:22.723Z"
   },
   {
    "duration": 0,
    "start_time": "2023-05-24T11:31:43.403Z"
   },
   {
    "duration": 696,
    "start_time": "2023-05-24T11:31:46.415Z"
   },
   {
    "duration": 0,
    "start_time": "2023-05-24T11:32:00.501Z"
   },
   {
    "duration": 13846,
    "start_time": "2023-05-24T11:32:01.887Z"
   },
   {
    "duration": 889,
    "start_time": "2023-05-24T11:32:23.758Z"
   },
   {
    "duration": 832,
    "start_time": "2023-05-24T11:32:29.711Z"
   },
   {
    "duration": 7,
    "start_time": "2023-05-24T11:32:49.586Z"
   },
   {
    "duration": 8,
    "start_time": "2023-05-24T11:32:53.721Z"
   },
   {
    "duration": 775,
    "start_time": "2023-05-24T11:32:57.489Z"
   },
   {
    "duration": 8013,
    "start_time": "2023-05-24T11:33:20.721Z"
   },
   {
    "duration": 5461,
    "start_time": "2023-05-24T11:33:38.716Z"
   },
   {
    "duration": 8768,
    "start_time": "2023-05-24T11:34:19.409Z"
   },
   {
    "duration": 11,
    "start_time": "2023-05-24T11:35:47.098Z"
   },
   {
    "duration": 6,
    "start_time": "2023-05-24T11:35:51.780Z"
   },
   {
    "duration": 7,
    "start_time": "2023-05-24T11:38:19.452Z"
   },
   {
    "duration": 7,
    "start_time": "2023-05-24T11:38:21.977Z"
   },
   {
    "duration": 6,
    "start_time": "2023-05-24T11:38:22.263Z"
   },
   {
    "duration": 3,
    "start_time": "2023-05-24T11:38:33.677Z"
   },
   {
    "duration": 5,
    "start_time": "2023-05-24T11:38:35.435Z"
   },
   {
    "duration": 710,
    "start_time": "2023-05-24T11:38:40.462Z"
   },
   {
    "duration": 808,
    "start_time": "2023-05-24T11:38:51.864Z"
   },
   {
    "duration": 678,
    "start_time": "2023-05-24T11:38:53.579Z"
   },
   {
    "duration": 6,
    "start_time": "2023-05-24T11:38:59.812Z"
   },
   {
    "duration": 5,
    "start_time": "2023-05-24T11:39:02.600Z"
   },
   {
    "duration": 689,
    "start_time": "2023-05-24T11:39:08.388Z"
   },
   {
    "duration": 711,
    "start_time": "2023-05-24T11:39:11.767Z"
   },
   {
    "duration": 385,
    "start_time": "2023-05-24T11:39:29.873Z"
   },
   {
    "duration": 30,
    "start_time": "2023-05-24T11:39:30.260Z"
   },
   {
    "duration": 56,
    "start_time": "2023-05-24T11:39:30.291Z"
   },
   {
    "duration": 59,
    "start_time": "2023-05-24T11:39:30.349Z"
   },
   {
    "duration": 69,
    "start_time": "2023-05-24T11:39:30.410Z"
   },
   {
    "duration": 58,
    "start_time": "2023-05-24T11:39:30.480Z"
   },
   {
    "duration": 82,
    "start_time": "2023-05-24T11:39:30.539Z"
   },
   {
    "duration": 65,
    "start_time": "2023-05-24T11:39:30.622Z"
   },
   {
    "duration": 56,
    "start_time": "2023-05-24T11:39:30.689Z"
   },
   {
    "duration": 104,
    "start_time": "2023-05-24T11:39:30.746Z"
   },
   {
    "duration": 51,
    "start_time": "2023-05-24T11:39:30.851Z"
   },
   {
    "duration": 41,
    "start_time": "2023-05-24T11:39:30.903Z"
   },
   {
    "duration": 61,
    "start_time": "2023-05-24T11:39:30.946Z"
   },
   {
    "duration": 37,
    "start_time": "2023-05-24T11:39:31.009Z"
   },
   {
    "duration": 65,
    "start_time": "2023-05-24T11:39:31.048Z"
   },
   {
    "duration": 60,
    "start_time": "2023-05-24T11:39:31.115Z"
   },
   {
    "duration": 41,
    "start_time": "2023-05-24T11:39:31.177Z"
   },
   {
    "duration": 27,
    "start_time": "2023-05-24T11:39:31.220Z"
   },
   {
    "duration": 50,
    "start_time": "2023-05-24T11:39:31.248Z"
   },
   {
    "duration": 21,
    "start_time": "2023-05-24T11:39:31.300Z"
   },
   {
    "duration": 42,
    "start_time": "2023-05-24T11:39:31.322Z"
   },
   {
    "duration": 30,
    "start_time": "2023-05-24T11:39:31.365Z"
   },
   {
    "duration": 26,
    "start_time": "2023-05-24T11:39:31.396Z"
   },
   {
    "duration": 38,
    "start_time": "2023-05-24T11:39:31.423Z"
   },
   {
    "duration": 28,
    "start_time": "2023-05-24T11:39:31.463Z"
   },
   {
    "duration": 17,
    "start_time": "2023-05-24T11:39:31.492Z"
   },
   {
    "duration": 27,
    "start_time": "2023-05-24T11:39:31.510Z"
   },
   {
    "duration": 348,
    "start_time": "2023-05-24T11:39:31.538Z"
   },
   {
    "duration": 4,
    "start_time": "2023-05-24T11:39:31.888Z"
   },
   {
    "duration": 117,
    "start_time": "2023-05-24T11:39:31.894Z"
   },
   {
    "duration": 6,
    "start_time": "2023-05-24T11:39:32.012Z"
   },
   {
    "duration": 225,
    "start_time": "2023-05-24T11:39:32.019Z"
   },
   {
    "duration": 267,
    "start_time": "2023-05-24T11:39:32.245Z"
   },
   {
    "duration": 276,
    "start_time": "2023-05-24T11:39:32.513Z"
   },
   {
    "duration": 6,
    "start_time": "2023-05-24T11:39:32.790Z"
   },
   {
    "duration": 22,
    "start_time": "2023-05-24T11:39:32.797Z"
   },
   {
    "duration": 16,
    "start_time": "2023-05-24T11:39:32.820Z"
   },
   {
    "duration": 8,
    "start_time": "2023-05-24T11:39:32.837Z"
   },
   {
    "duration": 11,
    "start_time": "2023-05-24T11:39:32.846Z"
   },
   {
    "duration": 23,
    "start_time": "2023-05-24T11:39:32.858Z"
   },
   {
    "duration": 434,
    "start_time": "2023-05-24T11:39:32.884Z"
   },
   {
    "duration": 6,
    "start_time": "2023-05-24T11:39:33.320Z"
   },
   {
    "duration": 414,
    "start_time": "2023-05-24T11:39:33.327Z"
   },
   {
    "duration": 7,
    "start_time": "2023-05-24T11:39:33.743Z"
   },
   {
    "duration": 32,
    "start_time": "2023-05-24T11:39:33.751Z"
   },
   {
    "duration": 23,
    "start_time": "2023-05-24T11:39:33.784Z"
   },
   {
    "duration": 6,
    "start_time": "2023-05-24T11:40:04.102Z"
   },
   {
    "duration": 72,
    "start_time": "2023-05-24T11:40:35.854Z"
   },
   {
    "duration": 25035,
    "start_time": "2023-05-24T11:40:47.410Z"
   },
   {
    "duration": 381,
    "start_time": "2023-05-24T11:42:24.607Z"
   },
   {
    "duration": 365,
    "start_time": "2023-05-24T11:42:51.562Z"
   },
   {
    "duration": 357,
    "start_time": "2023-05-24T11:42:58.009Z"
   },
   {
    "duration": 381,
    "start_time": "2023-05-24T11:43:26.670Z"
   },
   {
    "duration": 0,
    "start_time": "2023-05-24T11:43:49.730Z"
   },
   {
    "duration": 14,
    "start_time": "2023-05-24T11:43:50.417Z"
   },
   {
    "duration": 0,
    "start_time": "2023-05-24T11:44:09.218Z"
   },
   {
    "duration": 14,
    "start_time": "2023-05-24T11:44:09.651Z"
   },
   {
    "duration": 0,
    "start_time": "2023-05-24T11:44:49.939Z"
   },
   {
    "duration": 728,
    "start_time": "2023-05-24T11:44:50.177Z"
   },
   {
    "duration": 33609,
    "start_time": "2023-05-24T11:45:01.540Z"
   },
   {
    "duration": 13,
    "start_time": "2023-05-24T11:51:08.418Z"
   },
   {
    "duration": 4,
    "start_time": "2023-05-24T11:51:17.422Z"
   },
   {
    "duration": 0,
    "start_time": "2023-05-24T11:51:32.933Z"
   },
   {
    "duration": 11311,
    "start_time": "2023-05-24T11:51:34.325Z"
   },
   {
    "duration": 353,
    "start_time": "2023-05-24T11:52:04.477Z"
   },
   {
    "duration": 343,
    "start_time": "2023-05-24T11:52:10.552Z"
   },
   {
    "duration": 0,
    "start_time": "2023-05-24T11:52:33.522Z"
   },
   {
    "duration": 0,
    "start_time": "2023-05-24T11:52:41.183Z"
   },
   {
    "duration": 0,
    "start_time": "2023-05-24T11:52:47.794Z"
   },
   {
    "duration": 703,
    "start_time": "2023-05-24T11:52:49.381Z"
   },
   {
    "duration": 24645,
    "start_time": "2023-05-24T11:52:57.223Z"
   },
   {
    "duration": 0,
    "start_time": "2023-05-24T11:53:55.986Z"
   },
   {
    "duration": 15223,
    "start_time": "2023-05-24T11:53:56.221Z"
   },
   {
    "duration": 5684,
    "start_time": "2023-05-24T11:54:45.294Z"
   },
   {
    "duration": 0,
    "start_time": "2023-05-24T11:54:50.979Z"
   },
   {
    "duration": 4505,
    "start_time": "2023-05-24T11:55:32.868Z"
   },
   {
    "duration": 10635,
    "start_time": "2023-05-24T11:55:37.584Z"
   },
   {
    "duration": 16902,
    "start_time": "2023-05-24T11:55:55.561Z"
   },
   {
    "duration": 21,
    "start_time": "2023-05-24T11:59:01.659Z"
   },
   {
    "duration": 15,
    "start_time": "2023-05-24T11:59:04.496Z"
   },
   {
    "duration": 14,
    "start_time": "2023-05-24T11:59:27.357Z"
   },
   {
    "duration": 385,
    "start_time": "2023-05-24T11:59:55.711Z"
   },
   {
    "duration": 37,
    "start_time": "2023-05-24T11:59:56.098Z"
   },
   {
    "duration": 15,
    "start_time": "2023-05-24T11:59:56.137Z"
   },
   {
    "duration": 11,
    "start_time": "2023-05-24T11:59:56.154Z"
   },
   {
    "duration": 48,
    "start_time": "2023-05-24T11:59:56.166Z"
   },
   {
    "duration": 8,
    "start_time": "2023-05-24T11:59:56.216Z"
   },
   {
    "duration": 32,
    "start_time": "2023-05-24T11:59:56.225Z"
   },
   {
    "duration": 22,
    "start_time": "2023-05-24T11:59:56.259Z"
   },
   {
    "duration": 7,
    "start_time": "2023-05-24T11:59:56.282Z"
   },
   {
    "duration": 28,
    "start_time": "2023-05-24T11:59:56.292Z"
   },
   {
    "duration": 19,
    "start_time": "2023-05-24T11:59:56.321Z"
   },
   {
    "duration": 12,
    "start_time": "2023-05-24T11:59:56.341Z"
   },
   {
    "duration": 7,
    "start_time": "2023-05-24T11:59:56.355Z"
   },
   {
    "duration": 17,
    "start_time": "2023-05-24T11:59:56.364Z"
   },
   {
    "duration": 8,
    "start_time": "2023-05-24T11:59:56.382Z"
   },
   {
    "duration": 10,
    "start_time": "2023-05-24T11:59:56.392Z"
   },
   {
    "duration": 11,
    "start_time": "2023-05-24T11:59:56.403Z"
   },
   {
    "duration": 4,
    "start_time": "2023-05-24T11:59:56.416Z"
   },
   {
    "duration": 8,
    "start_time": "2023-05-24T11:59:56.421Z"
   },
   {
    "duration": 21,
    "start_time": "2023-05-24T11:59:56.430Z"
   },
   {
    "duration": 14,
    "start_time": "2023-05-24T11:59:56.453Z"
   },
   {
    "duration": 9,
    "start_time": "2023-05-24T11:59:56.469Z"
   },
   {
    "duration": 14,
    "start_time": "2023-05-24T11:59:56.480Z"
   },
   {
    "duration": 20,
    "start_time": "2023-05-24T11:59:56.495Z"
   },
   {
    "duration": 21,
    "start_time": "2023-05-24T11:59:56.516Z"
   },
   {
    "duration": 17,
    "start_time": "2023-05-24T11:59:56.539Z"
   },
   {
    "duration": 6,
    "start_time": "2023-05-24T11:59:56.557Z"
   },
   {
    "duration": 367,
    "start_time": "2023-05-24T11:59:56.566Z"
   },
   {
    "duration": 5,
    "start_time": "2023-05-24T11:59:56.935Z"
   },
   {
    "duration": 119,
    "start_time": "2023-05-24T11:59:56.941Z"
   },
   {
    "duration": 5,
    "start_time": "2023-05-24T11:59:57.062Z"
   },
   {
    "duration": 232,
    "start_time": "2023-05-24T11:59:57.068Z"
   },
   {
    "duration": 291,
    "start_time": "2023-05-24T11:59:57.301Z"
   },
   {
    "duration": 236,
    "start_time": "2023-05-24T11:59:57.593Z"
   },
   {
    "duration": 7,
    "start_time": "2023-05-24T11:59:57.830Z"
   },
   {
    "duration": 26,
    "start_time": "2023-05-24T11:59:57.838Z"
   },
   {
    "duration": 23,
    "start_time": "2023-05-24T11:59:57.865Z"
   },
   {
    "duration": 22,
    "start_time": "2023-05-24T11:59:57.889Z"
   },
   {
    "duration": 11,
    "start_time": "2023-05-24T11:59:57.913Z"
   },
   {
    "duration": 15,
    "start_time": "2023-05-24T11:59:57.926Z"
   },
   {
    "duration": 437,
    "start_time": "2023-05-24T11:59:57.943Z"
   },
   {
    "duration": 6,
    "start_time": "2023-05-24T11:59:58.382Z"
   },
   {
    "duration": 448,
    "start_time": "2023-05-24T11:59:58.389Z"
   },
   {
    "duration": 8,
    "start_time": "2023-05-24T11:59:58.838Z"
   },
   {
    "duration": 23,
    "start_time": "2023-05-24T12:00:00.493Z"
   },
   {
    "duration": 14,
    "start_time": "2023-05-24T12:00:00.972Z"
   },
   {
    "duration": 0,
    "start_time": "2023-05-24T12:00:20.170Z"
   },
   {
    "duration": 9957,
    "start_time": "2023-05-24T12:00:20.756Z"
   },
   {
    "duration": 10817,
    "start_time": "2023-05-24T12:01:29.224Z"
   },
   {
    "duration": 2695,
    "start_time": "2023-05-24T12:01:54.094Z"
   },
   {
    "duration": 7,
    "start_time": "2023-05-24T12:01:57.003Z"
   },
   {
    "duration": 11260,
    "start_time": "2023-05-24T12:01:58.775Z"
   },
   {
    "duration": 13,
    "start_time": "2023-05-24T12:02:42.979Z"
   },
   {
    "duration": 7014,
    "start_time": "2023-05-24T12:02:47.959Z"
   },
   {
    "duration": 0,
    "start_time": "2023-05-24T12:02:54.975Z"
   },
   {
    "duration": 10866,
    "start_time": "2023-05-24T12:02:56.878Z"
   },
   {
    "duration": 7,
    "start_time": "2023-05-24T12:03:07.746Z"
   },
   {
    "duration": 197,
    "start_time": "2023-05-24T12:03:23.018Z"
   },
   {
    "duration": 193,
    "start_time": "2023-05-24T12:03:25.155Z"
   },
   {
    "duration": 207,
    "start_time": "2023-05-24T12:03:29.261Z"
   },
   {
    "duration": 202,
    "start_time": "2023-05-24T12:03:33.764Z"
   },
   {
    "duration": 522,
    "start_time": "2023-05-24T12:03:35.978Z"
   },
   {
    "duration": 329,
    "start_time": "2023-05-24T12:03:50.861Z"
   },
   {
    "duration": 29,
    "start_time": "2023-05-24T12:03:51.192Z"
   },
   {
    "duration": 14,
    "start_time": "2023-05-24T12:03:51.223Z"
   },
   {
    "duration": 16,
    "start_time": "2023-05-24T12:03:51.240Z"
   },
   {
    "duration": 37,
    "start_time": "2023-05-24T12:03:51.257Z"
   },
   {
    "duration": 8,
    "start_time": "2023-05-24T12:03:51.296Z"
   },
   {
    "duration": 12,
    "start_time": "2023-05-24T12:03:51.305Z"
   },
   {
    "duration": 16,
    "start_time": "2023-05-24T12:03:51.318Z"
   },
   {
    "duration": 7,
    "start_time": "2023-05-24T12:03:51.336Z"
   },
   {
    "duration": 12,
    "start_time": "2023-05-24T12:03:51.346Z"
   },
   {
    "duration": 11,
    "start_time": "2023-05-24T12:03:51.360Z"
   },
   {
    "duration": 16,
    "start_time": "2023-05-24T12:03:51.372Z"
   },
   {
    "duration": 6,
    "start_time": "2023-05-24T12:03:51.390Z"
   },
   {
    "duration": 9,
    "start_time": "2023-05-24T12:03:51.397Z"
   },
   {
    "duration": 19,
    "start_time": "2023-05-24T12:03:51.407Z"
   },
   {
    "duration": 11,
    "start_time": "2023-05-24T12:03:51.428Z"
   },
   {
    "duration": 36,
    "start_time": "2023-05-24T12:03:51.441Z"
   },
   {
    "duration": 8,
    "start_time": "2023-05-24T12:03:51.478Z"
   },
   {
    "duration": 16,
    "start_time": "2023-05-24T12:03:51.488Z"
   },
   {
    "duration": 8,
    "start_time": "2023-05-24T12:03:51.506Z"
   },
   {
    "duration": 6,
    "start_time": "2023-05-24T12:03:51.517Z"
   },
   {
    "duration": 7,
    "start_time": "2023-05-24T12:03:51.525Z"
   },
   {
    "duration": 12,
    "start_time": "2023-05-24T12:03:51.533Z"
   },
   {
    "duration": 14,
    "start_time": "2023-05-24T12:03:51.547Z"
   },
   {
    "duration": 19,
    "start_time": "2023-05-24T12:03:51.562Z"
   },
   {
    "duration": 13,
    "start_time": "2023-05-24T12:03:51.582Z"
   },
   {
    "duration": 19,
    "start_time": "2023-05-24T12:03:51.596Z"
   },
   {
    "duration": 378,
    "start_time": "2023-05-24T12:03:51.618Z"
   },
   {
    "duration": 11,
    "start_time": "2023-05-24T12:03:51.997Z"
   },
   {
    "duration": 127,
    "start_time": "2023-05-24T12:03:52.009Z"
   },
   {
    "duration": 6,
    "start_time": "2023-05-24T12:03:52.138Z"
   },
   {
    "duration": 236,
    "start_time": "2023-05-24T12:03:52.146Z"
   },
   {
    "duration": 399,
    "start_time": "2023-05-24T12:03:52.384Z"
   },
   {
    "duration": 230,
    "start_time": "2023-05-24T12:03:52.785Z"
   },
   {
    "duration": 7,
    "start_time": "2023-05-24T12:03:53.016Z"
   },
   {
    "duration": 18,
    "start_time": "2023-05-24T12:03:53.024Z"
   },
   {
    "duration": 17,
    "start_time": "2023-05-24T12:03:53.044Z"
   },
   {
    "duration": 9,
    "start_time": "2023-05-24T12:03:53.062Z"
   },
   {
    "duration": 36,
    "start_time": "2023-05-24T12:03:53.072Z"
   },
   {
    "duration": 22,
    "start_time": "2023-05-24T12:03:53.110Z"
   },
   {
    "duration": 433,
    "start_time": "2023-05-24T12:03:53.133Z"
   },
   {
    "duration": 7,
    "start_time": "2023-05-24T12:03:53.568Z"
   },
   {
    "duration": 491,
    "start_time": "2023-05-24T12:03:53.576Z"
   },
   {
    "duration": 7,
    "start_time": "2023-05-24T12:03:54.069Z"
   },
   {
    "duration": 34,
    "start_time": "2023-05-24T12:03:54.077Z"
   },
   {
    "duration": 13,
    "start_time": "2023-05-24T12:03:54.113Z"
   },
   {
    "duration": 10922,
    "start_time": "2023-05-24T12:03:54.894Z"
   },
   {
    "duration": 16,
    "start_time": "2023-05-24T12:04:05.819Z"
   },
   {
    "duration": 7,
    "start_time": "2023-05-24T12:04:19.970Z"
   },
   {
    "duration": 2,
    "start_time": "2023-05-24T12:05:56.089Z"
   },
   {
    "duration": 12138,
    "start_time": "2023-05-24T12:06:06.355Z"
   },
   {
    "duration": 17,
    "start_time": "2023-05-24T12:06:18.495Z"
   },
   {
    "duration": 3,
    "start_time": "2023-05-24T12:06:24.590Z"
   },
   {
    "duration": 11649,
    "start_time": "2023-05-24T12:06:24.719Z"
   },
   {
    "duration": 462,
    "start_time": "2023-05-24T14:36:33.024Z"
   },
   {
    "duration": 6,
    "start_time": "2023-05-24T14:37:57.660Z"
   },
   {
    "duration": 90,
    "start_time": "2023-05-24T14:38:19.901Z"
   },
   {
    "duration": 5,
    "start_time": "2023-05-24T14:38:26.372Z"
   },
   {
    "duration": 10,
    "start_time": "2023-05-24T14:39:16.342Z"
   },
   {
    "duration": 6,
    "start_time": "2023-05-24T14:39:24.259Z"
   },
   {
    "duration": 5,
    "start_time": "2023-05-24T14:40:04.149Z"
   },
   {
    "duration": 9,
    "start_time": "2023-05-24T14:44:15.154Z"
   },
   {
    "duration": 5,
    "start_time": "2023-05-24T14:44:19.792Z"
   },
   {
    "duration": 4,
    "start_time": "2023-05-24T14:45:19.700Z"
   },
   {
    "duration": 4,
    "start_time": "2023-05-24T14:45:26.962Z"
   },
   {
    "duration": 5,
    "start_time": "2023-05-24T14:45:28.971Z"
   },
   {
    "duration": 5,
    "start_time": "2023-05-24T14:53:30.547Z"
   },
   {
    "duration": 5,
    "start_time": "2023-05-24T15:01:53.352Z"
   },
   {
    "duration": 5,
    "start_time": "2023-05-24T15:02:05.210Z"
   },
   {
    "duration": 11,
    "start_time": "2023-05-24T15:05:58.551Z"
   },
   {
    "duration": 19,
    "start_time": "2023-05-24T15:06:00.921Z"
   },
   {
    "duration": 16,
    "start_time": "2023-05-24T15:06:26.546Z"
   },
   {
    "duration": 3,
    "start_time": "2023-05-24T15:07:04.991Z"
   },
   {
    "duration": 4,
    "start_time": "2023-05-24T15:10:08.333Z"
   },
   {
    "duration": 4,
    "start_time": "2023-05-24T15:10:08.633Z"
   },
   {
    "duration": 2648,
    "start_time": "2023-05-24T15:10:10.407Z"
   },
   {
    "duration": 7758,
    "start_time": "2023-05-24T15:10:13.257Z"
   },
   {
    "duration": 0,
    "start_time": "2023-05-24T15:10:21.016Z"
   },
   {
    "duration": 789,
    "start_time": "2023-05-24T15:10:25.338Z"
   },
   {
    "duration": 29,
    "start_time": "2023-05-24T15:10:26.129Z"
   },
   {
    "duration": 13,
    "start_time": "2023-05-24T15:10:26.160Z"
   },
   {
    "duration": 10,
    "start_time": "2023-05-24T15:10:26.174Z"
   },
   {
    "duration": 27,
    "start_time": "2023-05-24T15:10:26.186Z"
   },
   {
    "duration": 8,
    "start_time": "2023-05-24T15:10:26.214Z"
   },
   {
    "duration": 14,
    "start_time": "2023-05-24T15:10:26.223Z"
   },
   {
    "duration": 20,
    "start_time": "2023-05-24T15:10:26.238Z"
   },
   {
    "duration": 9,
    "start_time": "2023-05-24T15:10:26.259Z"
   },
   {
    "duration": 21,
    "start_time": "2023-05-24T15:10:26.269Z"
   },
   {
    "duration": 6,
    "start_time": "2023-05-24T15:10:26.292Z"
   },
   {
    "duration": 9,
    "start_time": "2023-05-24T15:10:26.299Z"
   },
   {
    "duration": 7,
    "start_time": "2023-05-24T15:10:26.310Z"
   },
   {
    "duration": 4,
    "start_time": "2023-05-24T15:10:26.320Z"
   },
   {
    "duration": 9,
    "start_time": "2023-05-24T15:10:26.325Z"
   },
   {
    "duration": 4,
    "start_time": "2023-05-24T15:10:26.336Z"
   },
   {
    "duration": 11,
    "start_time": "2023-05-24T15:10:26.342Z"
   },
   {
    "duration": 5,
    "start_time": "2023-05-24T15:10:26.354Z"
   },
   {
    "duration": 6,
    "start_time": "2023-05-24T15:10:26.360Z"
   },
   {
    "duration": 7,
    "start_time": "2023-05-24T15:10:26.406Z"
   },
   {
    "duration": 7,
    "start_time": "2023-05-24T15:10:26.414Z"
   },
   {
    "duration": 5,
    "start_time": "2023-05-24T15:10:26.422Z"
   },
   {
    "duration": 6,
    "start_time": "2023-05-24T15:10:26.428Z"
   },
   {
    "duration": 7,
    "start_time": "2023-05-24T15:10:26.435Z"
   },
   {
    "duration": 7,
    "start_time": "2023-05-24T15:10:26.443Z"
   },
   {
    "duration": 4,
    "start_time": "2023-05-24T15:10:26.452Z"
   },
   {
    "duration": 50,
    "start_time": "2023-05-24T15:10:26.457Z"
   },
   {
    "duration": 367,
    "start_time": "2023-05-24T15:10:26.509Z"
   },
   {
    "duration": 5,
    "start_time": "2023-05-24T15:10:26.878Z"
   },
   {
    "duration": 131,
    "start_time": "2023-05-24T15:10:26.884Z"
   },
   {
    "duration": 5,
    "start_time": "2023-05-24T15:10:27.017Z"
   },
   {
    "duration": 243,
    "start_time": "2023-05-24T15:10:27.023Z"
   },
   {
    "duration": 255,
    "start_time": "2023-05-24T15:10:27.267Z"
   },
   {
    "duration": 237,
    "start_time": "2023-05-24T15:10:27.524Z"
   },
   {
    "duration": 6,
    "start_time": "2023-05-24T15:10:27.763Z"
   },
   {
    "duration": 15,
    "start_time": "2023-05-24T15:10:27.770Z"
   },
   {
    "duration": 34,
    "start_time": "2023-05-24T15:10:27.786Z"
   },
   {
    "duration": 8,
    "start_time": "2023-05-24T15:10:27.822Z"
   },
   {
    "duration": 16,
    "start_time": "2023-05-24T15:10:27.831Z"
   },
   {
    "duration": 23,
    "start_time": "2023-05-24T15:10:27.848Z"
   },
   {
    "duration": 475,
    "start_time": "2023-05-24T15:10:27.874Z"
   },
   {
    "duration": 8,
    "start_time": "2023-05-24T15:10:28.351Z"
   },
   {
    "duration": 508,
    "start_time": "2023-05-24T15:10:28.360Z"
   },
   {
    "duration": 8,
    "start_time": "2023-05-24T15:10:28.870Z"
   },
   {
    "duration": 36,
    "start_time": "2023-05-24T15:10:28.879Z"
   },
   {
    "duration": 12,
    "start_time": "2023-05-24T15:10:28.916Z"
   },
   {
    "duration": 17,
    "start_time": "2023-05-24T15:10:28.929Z"
   },
   {
    "duration": 11644,
    "start_time": "2023-05-24T15:10:28.947Z"
   },
   {
    "duration": 4,
    "start_time": "2023-05-24T15:10:40.593Z"
   },
   {
    "duration": 5,
    "start_time": "2023-05-24T15:10:40.607Z"
   },
   {
    "duration": 21,
    "start_time": "2023-05-24T15:11:20.979Z"
   },
   {
    "duration": 133,
    "start_time": "2023-05-24T15:12:36.980Z"
   },
   {
    "duration": 45,
    "start_time": "2023-05-24T15:12:48.793Z"
   },
   {
    "duration": 3,
    "start_time": "2023-05-24T16:03:24.372Z"
   },
   {
    "duration": 3,
    "start_time": "2023-05-24T16:03:35.338Z"
   },
   {
    "duration": 12,
    "start_time": "2023-05-24T16:03:54.184Z"
   },
   {
    "duration": 7,
    "start_time": "2023-05-24T16:04:04.201Z"
   },
   {
    "duration": 12,
    "start_time": "2023-05-24T16:04:27.745Z"
   },
   {
    "duration": 18,
    "start_time": "2023-05-24T16:04:32.380Z"
   },
   {
    "duration": 6,
    "start_time": "2023-05-24T16:04:55.165Z"
   },
   {
    "duration": 8,
    "start_time": "2023-05-24T16:04:56.470Z"
   },
   {
    "duration": 5,
    "start_time": "2023-05-24T16:05:01.209Z"
   },
   {
    "duration": 4,
    "start_time": "2023-05-24T16:05:01.890Z"
   },
   {
    "duration": 6,
    "start_time": "2023-05-24T16:05:03.241Z"
   },
   {
    "duration": 723,
    "start_time": "2023-05-24T16:05:39.214Z"
   },
   {
    "duration": 9,
    "start_time": "2023-05-24T16:05:56.577Z"
   },
   {
    "duration": 763,
    "start_time": "2023-05-24T16:06:13.899Z"
   },
   {
    "duration": 6,
    "start_time": "2023-05-24T16:06:17.464Z"
   },
   {
    "duration": 12,
    "start_time": "2023-05-24T16:06:44.698Z"
   },
   {
    "duration": 7,
    "start_time": "2023-05-24T16:06:49.607Z"
   },
   {
    "duration": 6,
    "start_time": "2023-05-24T16:06:58.194Z"
   },
   {
    "duration": 4,
    "start_time": "2023-05-24T16:10:03.141Z"
   },
   {
    "duration": 9174,
    "start_time": "2023-05-24T16:10:04.759Z"
   },
   {
    "duration": 4,
    "start_time": "2023-05-24T16:11:27.016Z"
   },
   {
    "duration": 15,
    "start_time": "2023-05-24T16:12:25.831Z"
   },
   {
    "duration": 23,
    "start_time": "2023-05-24T16:14:28.757Z"
   },
   {
    "duration": 4,
    "start_time": "2023-05-24T16:14:57.734Z"
   },
   {
    "duration": 17,
    "start_time": "2023-05-24T16:15:00.760Z"
   },
   {
    "duration": 0,
    "start_time": "2023-05-24T16:15:50.951Z"
   },
   {
    "duration": 6316,
    "start_time": "2023-05-24T16:16:01.543Z"
   },
   {
    "duration": 4,
    "start_time": "2023-05-24T16:16:15.202Z"
   },
   {
    "duration": 8974,
    "start_time": "2023-05-24T16:16:15.558Z"
   },
   {
    "duration": 2843,
    "start_time": "2023-05-24T16:16:24.533Z"
   },
   {
    "duration": 2882,
    "start_time": "2023-05-24T16:17:25.353Z"
   },
   {
    "duration": 49,
    "start_time": "2023-05-24T16:17:35.202Z"
   },
   {
    "duration": 2890,
    "start_time": "2023-05-24T16:17:38.216Z"
   },
   {
    "duration": 2855,
    "start_time": "2023-05-24T16:23:47.442Z"
   },
   {
    "duration": 386,
    "start_time": "2023-05-24T16:24:52.154Z"
   },
   {
    "duration": 2973,
    "start_time": "2023-05-24T16:25:11.518Z"
   },
   {
    "duration": 6,
    "start_time": "2023-05-24T16:25:17.002Z"
   },
   {
    "duration": 557,
    "start_time": "2023-05-24T16:25:54.400Z"
   },
   {
    "duration": 9,
    "start_time": "2023-05-24T16:25:58.859Z"
   },
   {
    "duration": 9,
    "start_time": "2023-05-24T16:26:12.426Z"
   },
   {
    "duration": 15,
    "start_time": "2023-05-24T16:26:20.487Z"
   },
   {
    "duration": 374,
    "start_time": "2023-05-24T16:26:28.103Z"
   },
   {
    "duration": 16,
    "start_time": "2023-05-24T16:26:40.514Z"
   },
   {
    "duration": 9,
    "start_time": "2023-05-24T16:26:49.616Z"
   },
   {
    "duration": 367,
    "start_time": "2023-05-24T16:27:00.814Z"
   },
   {
    "duration": 10,
    "start_time": "2023-05-24T16:27:17.455Z"
   },
   {
    "duration": 7,
    "start_time": "2023-05-24T16:27:23.093Z"
   },
   {
    "duration": 8,
    "start_time": "2023-05-24T16:27:37.656Z"
   },
   {
    "duration": 17,
    "start_time": "2023-05-24T16:27:59.115Z"
   },
   {
    "duration": 8,
    "start_time": "2023-05-24T16:54:33.185Z"
   },
   {
    "duration": 4,
    "start_time": "2023-05-24T16:54:35.930Z"
   },
   {
    "duration": 4,
    "start_time": "2023-05-24T16:55:31.944Z"
   },
   {
    "duration": 4,
    "start_time": "2023-05-24T16:55:35.086Z"
   },
   {
    "duration": 4,
    "start_time": "2023-05-24T16:55:41.756Z"
   },
   {
    "duration": 5,
    "start_time": "2023-05-24T16:56:15.827Z"
   },
   {
    "duration": 4,
    "start_time": "2023-05-24T16:56:33.895Z"
   },
   {
    "duration": 4,
    "start_time": "2023-05-24T16:56:36.730Z"
   },
   {
    "duration": 4,
    "start_time": "2023-05-24T16:56:46.728Z"
   },
   {
    "duration": 4,
    "start_time": "2023-05-24T16:56:48.896Z"
   },
   {
    "duration": 5,
    "start_time": "2023-05-24T16:58:19.695Z"
   },
   {
    "duration": 5,
    "start_time": "2023-05-24T16:58:22.393Z"
   },
   {
    "duration": 45,
    "start_time": "2023-05-24T16:58:41.822Z"
   },
   {
    "duration": 4,
    "start_time": "2023-05-24T16:58:46.054Z"
   },
   {
    "duration": 4,
    "start_time": "2023-05-24T16:59:03.813Z"
   },
   {
    "duration": 10,
    "start_time": "2023-05-24T16:59:19.138Z"
   },
   {
    "duration": 29,
    "start_time": "2023-05-24T16:59:25.252Z"
   },
   {
    "duration": 54,
    "start_time": "2023-05-24T16:59:41.505Z"
   },
   {
    "duration": 9,
    "start_time": "2023-05-24T16:59:43.905Z"
   },
   {
    "duration": 309,
    "start_time": "2023-05-24T16:59:49.082Z"
   },
   {
    "duration": 314,
    "start_time": "2023-05-24T17:00:28.932Z"
   },
   {
    "duration": 7,
    "start_time": "2023-05-24T17:00:32.720Z"
   },
   {
    "duration": 57,
    "start_time": "2023-05-24T17:00:41.638Z"
   },
   {
    "duration": 41,
    "start_time": "2023-05-24T17:00:44.057Z"
   },
   {
    "duration": 4,
    "start_time": "2023-05-24T17:00:47.270Z"
   },
   {
    "duration": 5,
    "start_time": "2023-05-24T17:00:50.412Z"
   },
   {
    "duration": 5,
    "start_time": "2023-05-24T17:00:53.247Z"
   },
   {
    "duration": 4,
    "start_time": "2023-05-24T17:01:07.819Z"
   },
   {
    "duration": 4,
    "start_time": "2023-05-24T17:01:10.977Z"
   },
   {
    "duration": 4,
    "start_time": "2023-05-24T17:01:13.348Z"
   },
   {
    "duration": 4,
    "start_time": "2023-05-24T17:01:16.470Z"
   },
   {
    "duration": 5,
    "start_time": "2023-05-24T17:01:18.619Z"
   },
   {
    "duration": 4,
    "start_time": "2023-05-24T17:01:22.257Z"
   },
   {
    "duration": 4,
    "start_time": "2023-05-24T17:01:25.052Z"
   },
   {
    "duration": 5,
    "start_time": "2023-05-24T17:01:34.988Z"
   },
   {
    "duration": 3,
    "start_time": "2023-05-24T17:01:49.064Z"
   },
   {
    "duration": 3,
    "start_time": "2023-05-24T17:02:18.176Z"
   },
   {
    "duration": 3,
    "start_time": "2023-05-24T17:02:20.917Z"
   },
   {
    "duration": 4,
    "start_time": "2023-05-24T17:02:23.367Z"
   },
   {
    "duration": 9,
    "start_time": "2023-05-24T17:02:36.379Z"
   },
   {
    "duration": 1610,
    "start_time": "2023-05-24T17:02:39.571Z"
   },
   {
    "duration": 47,
    "start_time": "2023-05-24T17:02:50.522Z"
   },
   {
    "duration": 266,
    "start_time": "2023-05-24T17:02:53.559Z"
   },
   {
    "duration": 1548,
    "start_time": "2023-05-24T17:03:07.018Z"
   },
   {
    "duration": 323,
    "start_time": "2023-05-24T17:03:14.940Z"
   },
   {
    "duration": 269,
    "start_time": "2023-05-24T17:03:37.911Z"
   },
   {
    "duration": 291,
    "start_time": "2023-05-24T17:03:40.227Z"
   },
   {
    "duration": 252,
    "start_time": "2023-05-24T17:04:16.933Z"
   },
   {
    "duration": 226,
    "start_time": "2023-05-24T17:04:20.269Z"
   },
   {
    "duration": 277,
    "start_time": "2023-05-24T17:04:24.269Z"
   },
   {
    "duration": 234,
    "start_time": "2023-05-24T17:04:28.838Z"
   },
   {
    "duration": 422,
    "start_time": "2023-05-24T17:04:34.249Z"
   },
   {
    "duration": 200,
    "start_time": "2023-05-24T17:04:54.244Z"
   },
   {
    "duration": 261,
    "start_time": "2023-05-24T17:05:47.059Z"
   },
   {
    "duration": 282,
    "start_time": "2023-05-24T17:06:03.493Z"
   },
   {
    "duration": 142,
    "start_time": "2023-05-24T17:06:38.935Z"
   },
   {
    "duration": 41,
    "start_time": "2023-05-24T17:06:52.344Z"
   },
   {
    "duration": 139,
    "start_time": "2023-05-24T17:06:55.446Z"
   },
   {
    "duration": 1565,
    "start_time": "2023-05-24T17:07:37.060Z"
   },
   {
    "duration": 306,
    "start_time": "2023-05-24T17:07:42.879Z"
   },
   {
    "duration": 1645,
    "start_time": "2023-05-24T17:07:50.353Z"
   },
   {
    "duration": 48,
    "start_time": "2023-05-24T17:08:06.033Z"
   },
   {
    "duration": 46,
    "start_time": "2023-05-24T17:08:08.725Z"
   },
   {
    "duration": 238,
    "start_time": "2023-05-24T17:08:10.240Z"
   },
   {
    "duration": 1745,
    "start_time": "2023-05-24T17:08:22.164Z"
   },
   {
    "duration": 1398,
    "start_time": "2023-05-24T17:08:47.427Z"
   },
   {
    "duration": 1748,
    "start_time": "2023-05-24T17:09:04.326Z"
   },
   {
    "duration": 1815,
    "start_time": "2023-05-24T17:09:32.556Z"
   },
   {
    "duration": 1754,
    "start_time": "2023-05-24T17:09:56.175Z"
   },
   {
    "duration": 1968,
    "start_time": "2023-05-24T17:10:12.934Z"
   },
   {
    "duration": 1408,
    "start_time": "2023-05-24T17:10:18.512Z"
   },
   {
    "duration": 1787,
    "start_time": "2023-05-24T17:10:27.424Z"
   },
   {
    "duration": 253,
    "start_time": "2023-05-24T17:16:22.229Z"
   },
   {
    "duration": 1731,
    "start_time": "2023-05-24T17:17:10.750Z"
   },
   {
    "duration": 1727,
    "start_time": "2023-05-24T17:20:43.859Z"
   },
   {
    "duration": 1340,
    "start_time": "2023-05-24T17:20:48.059Z"
   },
   {
    "duration": 1831,
    "start_time": "2023-05-24T17:20:53.605Z"
   },
   {
    "duration": 1970,
    "start_time": "2023-05-24T17:21:13.333Z"
   },
   {
    "duration": 1794,
    "start_time": "2023-05-24T17:21:23.261Z"
   },
   {
    "duration": 1354,
    "start_time": "2023-05-24T17:22:56.727Z"
   },
   {
    "duration": 1819,
    "start_time": "2023-05-24T17:23:15.828Z"
   },
   {
    "duration": 1711,
    "start_time": "2023-05-24T17:23:26.374Z"
   },
   {
    "duration": 1759,
    "start_time": "2023-05-24T17:23:35.173Z"
   },
   {
    "duration": 3,
    "start_time": "2023-05-24T17:39:06.681Z"
   },
   {
    "duration": 8,
    "start_time": "2023-05-24T17:45:40.131Z"
   },
   {
    "duration": 4,
    "start_time": "2023-05-24T17:45:58.443Z"
   },
   {
    "duration": 3,
    "start_time": "2023-05-24T17:46:00.373Z"
   },
   {
    "duration": 4,
    "start_time": "2023-05-24T17:46:03.836Z"
   },
   {
    "duration": 109,
    "start_time": "2023-05-24T17:47:10.028Z"
   },
   {
    "duration": 91,
    "start_time": "2023-05-24T17:47:13.277Z"
   },
   {
    "duration": 127,
    "start_time": "2023-05-24T17:47:19.050Z"
   },
   {
    "duration": 13,
    "start_time": "2023-05-24T17:47:52.223Z"
   },
   {
    "duration": 12,
    "start_time": "2023-05-24T17:48:08.813Z"
   },
   {
    "duration": 2860,
    "start_time": "2023-05-24T17:48:16.547Z"
   },
   {
    "duration": 13,
    "start_time": "2023-05-24T17:48:25.753Z"
   },
   {
    "duration": 18,
    "start_time": "2023-05-24T17:48:45.481Z"
   },
   {
    "duration": 29870,
    "start_time": "2023-05-24T17:49:13.863Z"
   },
   {
    "duration": 166,
    "start_time": "2023-05-24T17:52:15.813Z"
   },
   {
    "duration": 125,
    "start_time": "2023-05-24T17:52:24.554Z"
   },
   {
    "duration": 124,
    "start_time": "2023-05-24T17:52:32.123Z"
   },
   {
    "duration": 123,
    "start_time": "2023-05-24T17:52:47.397Z"
   },
   {
    "duration": 148,
    "start_time": "2023-05-24T17:53:11.895Z"
   },
   {
    "duration": 4,
    "start_time": "2023-05-24T18:56:48.098Z"
   },
   {
    "duration": 4,
    "start_time": "2023-05-24T18:56:48.343Z"
   },
   {
    "duration": 159,
    "start_time": "2023-05-24T18:57:07.107Z"
   },
   {
    "duration": 144,
    "start_time": "2023-05-24T18:57:12.343Z"
   },
   {
    "duration": 133,
    "start_time": "2023-05-24T18:57:16.244Z"
   },
   {
    "duration": 171,
    "start_time": "2023-05-24T18:57:28.626Z"
   },
   {
    "duration": 3,
    "start_time": "2023-05-24T19:34:42.803Z"
   },
   {
    "duration": 30,
    "start_time": "2023-05-24T19:35:19.356Z"
   },
   {
    "duration": 9,
    "start_time": "2023-05-24T19:35:19.673Z"
   },
   {
    "duration": 14,
    "start_time": "2023-05-24T19:35:21.256Z"
   },
   {
    "duration": 42,
    "start_time": "2023-05-24T19:35:22.484Z"
   },
   {
    "duration": 9,
    "start_time": "2023-05-24T19:35:22.924Z"
   },
   {
    "duration": 14,
    "start_time": "2023-05-24T19:35:23.215Z"
   },
   {
    "duration": 27,
    "start_time": "2023-05-24T19:35:24.640Z"
   },
   {
    "duration": 9,
    "start_time": "2023-05-24T19:35:24.956Z"
   },
   {
    "duration": 11,
    "start_time": "2023-05-24T19:35:25.155Z"
   },
   {
    "duration": 5,
    "start_time": "2023-05-24T19:41:03.790Z"
   },
   {
    "duration": 6,
    "start_time": "2023-05-24T19:41:04.387Z"
   },
   {
    "duration": 4,
    "start_time": "2023-05-24T19:41:04.860Z"
   },
   {
    "duration": 6,
    "start_time": "2023-05-24T19:41:09.275Z"
   },
   {
    "duration": 8,
    "start_time": "2023-05-24T19:41:09.840Z"
   },
   {
    "duration": 8,
    "start_time": "2023-05-24T19:41:22.550Z"
   },
   {
    "duration": 6,
    "start_time": "2023-05-24T19:41:23.122Z"
   },
   {
    "duration": 6,
    "start_time": "2023-05-24T19:41:24.661Z"
   },
   {
    "duration": 6,
    "start_time": "2023-05-24T19:41:25.989Z"
   },
   {
    "duration": 5,
    "start_time": "2023-05-24T19:43:07.455Z"
   },
   {
    "duration": 8,
    "start_time": "2023-05-24T19:43:07.996Z"
   },
   {
    "duration": 6,
    "start_time": "2023-05-24T19:43:08.859Z"
   },
   {
    "duration": 5,
    "start_time": "2023-05-24T19:43:10.523Z"
   },
   {
    "duration": 7,
    "start_time": "2023-05-24T19:43:12.894Z"
   },
   {
    "duration": 7,
    "start_time": "2023-05-24T19:43:13.681Z"
   },
   {
    "duration": 6,
    "start_time": "2023-05-24T19:43:15.688Z"
   },
   {
    "duration": 5,
    "start_time": "2023-05-24T19:43:16.123Z"
   },
   {
    "duration": 6,
    "start_time": "2023-05-24T19:43:16.618Z"
   },
   {
    "duration": 10,
    "start_time": "2023-05-24T19:43:18.101Z"
   },
   {
    "duration": 5,
    "start_time": "2023-05-24T19:43:18.706Z"
   },
   {
    "duration": 7,
    "start_time": "2023-05-24T19:43:42.451Z"
   },
   {
    "duration": 159,
    "start_time": "2023-05-24T19:43:43.210Z"
   },
   {
    "duration": 6,
    "start_time": "2023-05-24T19:43:46.059Z"
   },
   {
    "duration": 125,
    "start_time": "2023-05-24T19:43:46.353Z"
   },
   {
    "duration": 7,
    "start_time": "2023-05-24T19:43:48.186Z"
   },
   {
    "duration": 350,
    "start_time": "2023-05-24T19:43:50.507Z"
   },
   {
    "duration": 237,
    "start_time": "2023-05-24T19:43:52.656Z"
   },
   {
    "duration": 739,
    "start_time": "2023-05-24T19:43:54.609Z"
   },
   {
    "duration": 10,
    "start_time": "2023-05-24T19:43:57.251Z"
   },
   {
    "duration": 16,
    "start_time": "2023-05-24T19:48:49.559Z"
   },
   {
    "duration": 18,
    "start_time": "2023-05-24T19:48:50.046Z"
   },
   {
    "duration": 8,
    "start_time": "2023-05-24T19:48:54.373Z"
   },
   {
    "duration": 11,
    "start_time": "2023-05-24T19:48:55.808Z"
   },
   {
    "duration": 12,
    "start_time": "2023-05-24T19:48:57.290Z"
   },
   {
    "duration": 439,
    "start_time": "2023-05-24T19:49:06.186Z"
   },
   {
    "duration": 7,
    "start_time": "2023-05-24T19:49:08.128Z"
   },
   {
    "duration": 409,
    "start_time": "2023-05-24T19:49:15.861Z"
   },
   {
    "duration": 7,
    "start_time": "2023-05-24T19:50:07.901Z"
   },
   {
    "duration": 21,
    "start_time": "2023-05-24T19:52:46.894Z"
   },
   {
    "duration": 13,
    "start_time": "2023-05-24T19:52:47.272Z"
   },
   {
    "duration": 4,
    "start_time": "2023-05-24T19:52:49.516Z"
   },
   {
    "duration": 8915,
    "start_time": "2023-05-24T19:52:50.599Z"
   },
   {
    "duration": 7,
    "start_time": "2023-05-24T19:53:32.205Z"
   },
   {
    "duration": 107,
    "start_time": "2023-05-24T19:53:36.225Z"
   },
   {
    "duration": 201,
    "start_time": "2023-05-24T19:53:42.159Z"
   },
   {
    "duration": 145,
    "start_time": "2023-05-24T19:53:47.015Z"
   },
   {
    "duration": 263,
    "start_time": "2023-05-24T19:54:30.254Z"
   },
   {
    "duration": 219,
    "start_time": "2023-05-24T19:55:23.651Z"
   },
   {
    "duration": 5,
    "start_time": "2023-05-24T19:56:31.690Z"
   },
   {
    "duration": 5,
    "start_time": "2023-05-24T19:56:54.150Z"
   },
   {
    "duration": 3152,
    "start_time": "2023-05-24T19:57:09.825Z"
   },
   {
    "duration": 8,
    "start_time": "2023-05-24T19:57:12.978Z"
   },
   {
    "duration": 1229,
    "start_time": "2023-05-25T16:19:10.671Z"
   },
   {
    "duration": 146,
    "start_time": "2023-05-25T16:19:11.903Z"
   },
   {
    "duration": 13,
    "start_time": "2023-05-25T16:19:12.051Z"
   },
   {
    "duration": 13,
    "start_time": "2023-05-25T16:19:12.066Z"
   },
   {
    "duration": 153,
    "start_time": "2023-05-25T16:19:12.081Z"
   },
   {
    "duration": 10,
    "start_time": "2023-05-25T16:19:12.236Z"
   },
   {
    "duration": 14,
    "start_time": "2023-05-25T16:19:12.248Z"
   },
   {
    "duration": 55,
    "start_time": "2023-05-25T16:19:12.264Z"
   },
   {
    "duration": 8,
    "start_time": "2023-05-25T16:19:12.321Z"
   },
   {
    "duration": 11,
    "start_time": "2023-05-25T16:19:12.332Z"
   },
   {
    "duration": 9,
    "start_time": "2023-05-25T16:19:12.345Z"
   },
   {
    "duration": 11,
    "start_time": "2023-05-25T16:19:12.355Z"
   },
   {
    "duration": 6,
    "start_time": "2023-05-25T16:19:12.368Z"
   },
   {
    "duration": 7,
    "start_time": "2023-05-25T16:19:12.375Z"
   },
   {
    "duration": 10,
    "start_time": "2023-05-25T16:19:12.384Z"
   },
   {
    "duration": 17,
    "start_time": "2023-05-25T16:19:12.395Z"
   },
   {
    "duration": 9,
    "start_time": "2023-05-25T16:19:12.414Z"
   },
   {
    "duration": 8,
    "start_time": "2023-05-25T16:19:12.424Z"
   },
   {
    "duration": 24,
    "start_time": "2023-05-25T16:19:12.434Z"
   },
   {
    "duration": 7,
    "start_time": "2023-05-25T16:19:12.460Z"
   },
   {
    "duration": 10,
    "start_time": "2023-05-25T16:19:12.469Z"
   },
   {
    "duration": 7,
    "start_time": "2023-05-25T16:19:12.480Z"
   },
   {
    "duration": 6,
    "start_time": "2023-05-25T16:19:12.489Z"
   },
   {
    "duration": 8,
    "start_time": "2023-05-25T16:19:12.496Z"
   },
   {
    "duration": 9,
    "start_time": "2023-05-25T16:19:12.506Z"
   },
   {
    "duration": 43,
    "start_time": "2023-05-25T16:19:12.517Z"
   },
   {
    "duration": 7,
    "start_time": "2023-05-25T16:19:12.562Z"
   },
   {
    "duration": 185,
    "start_time": "2023-05-25T16:19:12.574Z"
   },
   {
    "duration": 6,
    "start_time": "2023-05-25T16:19:12.761Z"
   },
   {
    "duration": 155,
    "start_time": "2023-05-25T16:19:12.769Z"
   },
   {
    "duration": 8,
    "start_time": "2023-05-25T16:19:12.926Z"
   },
   {
    "duration": 271,
    "start_time": "2023-05-25T16:19:12.935Z"
   },
   {
    "duration": 276,
    "start_time": "2023-05-25T16:19:13.208Z"
   },
   {
    "duration": 264,
    "start_time": "2023-05-25T16:19:13.486Z"
   },
   {
    "duration": 11,
    "start_time": "2023-05-25T16:19:13.751Z"
   },
   {
    "duration": 18,
    "start_time": "2023-05-25T16:19:13.763Z"
   },
   {
    "duration": 19,
    "start_time": "2023-05-25T16:19:13.783Z"
   },
   {
    "duration": 9,
    "start_time": "2023-05-25T16:19:13.804Z"
   },
   {
    "duration": 46,
    "start_time": "2023-05-25T16:19:13.815Z"
   },
   {
    "duration": 22,
    "start_time": "2023-05-25T16:19:13.863Z"
   },
   {
    "duration": 613,
    "start_time": "2023-05-25T16:19:13.887Z"
   },
   {
    "duration": 7,
    "start_time": "2023-05-25T16:19:14.503Z"
   },
   {
    "duration": 475,
    "start_time": "2023-05-25T16:19:14.512Z"
   },
   {
    "duration": 8,
    "start_time": "2023-05-25T16:19:14.988Z"
   },
   {
    "duration": 38,
    "start_time": "2023-05-25T16:19:14.997Z"
   },
   {
    "duration": 21,
    "start_time": "2023-05-25T16:19:15.037Z"
   },
   {
    "duration": 7,
    "start_time": "2023-05-25T16:19:15.060Z"
   },
   {
    "duration": 9666,
    "start_time": "2023-05-25T16:19:15.068Z"
   },
   {
    "duration": 275,
    "start_time": "2023-05-25T16:19:24.736Z"
   },
   {
    "duration": 5,
    "start_time": "2023-05-25T16:19:25.013Z"
   },
   {
    "duration": 9,
    "start_time": "2023-05-25T16:19:25.020Z"
   },
   {
    "duration": 3022,
    "start_time": "2023-05-25T16:19:25.031Z"
   },
   {
    "duration": 8,
    "start_time": "2023-05-25T16:19:28.056Z"
   },
   {
    "duration": 1767,
    "start_time": "2023-05-25T16:19:28.066Z"
   },
   {
    "duration": 4,
    "start_time": "2023-05-25T16:19:29.835Z"
   },
   {
    "duration": 161,
    "start_time": "2023-05-25T16:19:29.841Z"
   },
   {
    "duration": 6,
    "start_time": "2023-05-25T16:27:12.334Z"
   },
   {
    "duration": 18,
    "start_time": "2023-05-25T16:30:44.119Z"
   },
   {
    "duration": 1046,
    "start_time": "2023-05-25T16:34:25.733Z"
   },
   {
    "duration": 96,
    "start_time": "2023-05-25T16:34:26.781Z"
   },
   {
    "duration": 17,
    "start_time": "2023-05-25T16:34:26.879Z"
   },
   {
    "duration": 12,
    "start_time": "2023-05-25T16:34:26.898Z"
   },
   {
    "duration": 32,
    "start_time": "2023-05-25T16:34:26.912Z"
   },
   {
    "duration": 11,
    "start_time": "2023-05-25T16:34:26.946Z"
   },
   {
    "duration": 17,
    "start_time": "2023-05-25T16:34:26.959Z"
   },
   {
    "duration": 15,
    "start_time": "2023-05-25T16:34:26.978Z"
   },
   {
    "duration": 6,
    "start_time": "2023-05-25T16:34:26.995Z"
   },
   {
    "duration": 10,
    "start_time": "2023-05-25T16:34:27.004Z"
   },
   {
    "duration": 7,
    "start_time": "2023-05-25T16:34:27.016Z"
   },
   {
    "duration": 8,
    "start_time": "2023-05-25T16:34:27.025Z"
   },
   {
    "duration": 26,
    "start_time": "2023-05-25T16:34:27.034Z"
   },
   {
    "duration": 8,
    "start_time": "2023-05-25T16:34:27.062Z"
   },
   {
    "duration": 10,
    "start_time": "2023-05-25T16:34:27.072Z"
   },
   {
    "duration": 7,
    "start_time": "2023-05-25T16:34:27.084Z"
   },
   {
    "duration": 8,
    "start_time": "2023-05-25T16:34:27.093Z"
   },
   {
    "duration": 6,
    "start_time": "2023-05-25T16:34:27.104Z"
   },
   {
    "duration": 46,
    "start_time": "2023-05-25T16:34:27.112Z"
   },
   {
    "duration": 14,
    "start_time": "2023-05-25T16:34:27.160Z"
   },
   {
    "duration": 10,
    "start_time": "2023-05-25T16:34:27.176Z"
   },
   {
    "duration": 8,
    "start_time": "2023-05-25T16:34:27.188Z"
   },
   {
    "duration": 7,
    "start_time": "2023-05-25T16:34:27.198Z"
   },
   {
    "duration": 8,
    "start_time": "2023-05-25T16:34:27.207Z"
   },
   {
    "duration": 40,
    "start_time": "2023-05-25T16:34:27.218Z"
   },
   {
    "duration": 5,
    "start_time": "2023-05-25T16:34:27.260Z"
   },
   {
    "duration": 7,
    "start_time": "2023-05-25T16:34:27.266Z"
   },
   {
    "duration": 181,
    "start_time": "2023-05-25T16:34:27.276Z"
   },
   {
    "duration": 5,
    "start_time": "2023-05-25T16:34:27.459Z"
   },
   {
    "duration": 149,
    "start_time": "2023-05-25T16:34:27.466Z"
   },
   {
    "duration": 7,
    "start_time": "2023-05-25T16:34:27.617Z"
   },
   {
    "duration": 280,
    "start_time": "2023-05-25T16:34:27.626Z"
   },
   {
    "duration": 319,
    "start_time": "2023-05-25T16:34:27.908Z"
   },
   {
    "duration": 269,
    "start_time": "2023-05-25T16:34:28.229Z"
   },
   {
    "duration": 8,
    "start_time": "2023-05-25T16:34:28.500Z"
   },
   {
    "duration": 17,
    "start_time": "2023-05-25T16:34:28.510Z"
   },
   {
    "duration": 47,
    "start_time": "2023-05-25T16:34:28.529Z"
   },
   {
    "duration": 10,
    "start_time": "2023-05-25T16:34:28.578Z"
   },
   {
    "duration": 15,
    "start_time": "2023-05-25T16:34:28.589Z"
   },
   {
    "duration": 26,
    "start_time": "2023-05-25T16:34:28.607Z"
   },
   {
    "duration": 670,
    "start_time": "2023-05-25T16:34:28.636Z"
   },
   {
    "duration": 10,
    "start_time": "2023-05-25T16:34:29.309Z"
   },
   {
    "duration": 505,
    "start_time": "2023-05-25T16:34:29.321Z"
   },
   {
    "duration": 7,
    "start_time": "2023-05-25T16:34:29.828Z"
   },
   {
    "duration": 44,
    "start_time": "2023-05-25T16:34:29.837Z"
   },
   {
    "duration": 14,
    "start_time": "2023-05-25T16:34:29.884Z"
   },
   {
    "duration": 4,
    "start_time": "2023-05-25T16:34:29.899Z"
   },
   {
    "duration": 9853,
    "start_time": "2023-05-25T16:34:29.905Z"
   },
   {
    "duration": 268,
    "start_time": "2023-05-25T16:34:39.759Z"
   },
   {
    "duration": 5,
    "start_time": "2023-05-25T16:34:40.029Z"
   },
   {
    "duration": 21,
    "start_time": "2023-05-25T16:34:40.036Z"
   },
   {
    "duration": 3167,
    "start_time": "2023-05-25T16:34:40.059Z"
   },
   {
    "duration": 8,
    "start_time": "2023-05-25T16:34:43.228Z"
   },
   {
    "duration": 1806,
    "start_time": "2023-05-25T16:34:43.238Z"
   },
   {
    "duration": 4,
    "start_time": "2023-05-25T16:34:45.045Z"
   },
   {
    "duration": 155,
    "start_time": "2023-05-25T16:34:45.056Z"
   },
   {
    "duration": 67,
    "start_time": "2023-05-25T17:45:30.620Z"
   },
   {
    "duration": 1274,
    "start_time": "2023-05-25T17:45:34.714Z"
   },
   {
    "duration": 153,
    "start_time": "2023-05-25T17:45:35.991Z"
   },
   {
    "duration": 15,
    "start_time": "2023-05-25T17:45:36.146Z"
   },
   {
    "duration": 12,
    "start_time": "2023-05-25T17:45:36.164Z"
   },
   {
    "duration": 139,
    "start_time": "2023-05-25T17:45:36.178Z"
   },
   {
    "duration": 10,
    "start_time": "2023-05-25T17:45:36.319Z"
   },
   {
    "duration": 16,
    "start_time": "2023-05-25T17:45:36.331Z"
   },
   {
    "duration": 58,
    "start_time": "2023-05-25T17:45:36.349Z"
   },
   {
    "duration": 9,
    "start_time": "2023-05-25T17:45:36.409Z"
   },
   {
    "duration": 12,
    "start_time": "2023-05-25T17:45:36.422Z"
   },
   {
    "duration": 7,
    "start_time": "2023-05-25T17:45:36.436Z"
   },
   {
    "duration": 9,
    "start_time": "2023-05-25T17:45:36.445Z"
   },
   {
    "duration": 9,
    "start_time": "2023-05-25T17:45:36.456Z"
   },
   {
    "duration": 18,
    "start_time": "2023-05-25T17:45:36.467Z"
   },
   {
    "duration": 11,
    "start_time": "2023-05-25T17:45:36.487Z"
   },
   {
    "duration": 9,
    "start_time": "2023-05-25T17:45:36.499Z"
   },
   {
    "duration": 37,
    "start_time": "2023-05-25T17:45:36.509Z"
   },
   {
    "duration": 25,
    "start_time": "2023-05-25T17:45:36.549Z"
   },
   {
    "duration": 13,
    "start_time": "2023-05-25T17:45:36.576Z"
   },
   {
    "duration": 11,
    "start_time": "2023-05-25T17:45:36.591Z"
   },
   {
    "duration": 9,
    "start_time": "2023-05-25T17:45:36.604Z"
   },
   {
    "duration": 8,
    "start_time": "2023-05-25T17:45:36.615Z"
   },
   {
    "duration": 10,
    "start_time": "2023-05-25T17:45:36.625Z"
   },
   {
    "duration": 20,
    "start_time": "2023-05-25T17:45:36.637Z"
   },
   {
    "duration": 10,
    "start_time": "2023-05-25T17:45:36.659Z"
   },
   {
    "duration": 11,
    "start_time": "2023-05-25T17:45:36.671Z"
   },
   {
    "duration": 8,
    "start_time": "2023-05-25T17:45:36.684Z"
   },
   {
    "duration": 7,
    "start_time": "2023-05-25T17:45:36.697Z"
   },
   {
    "duration": 283,
    "start_time": "2023-05-25T17:45:36.706Z"
   },
   {
    "duration": 7,
    "start_time": "2023-05-25T17:45:36.992Z"
   },
   {
    "duration": 148,
    "start_time": "2023-05-25T17:45:37.001Z"
   },
   {
    "duration": 12,
    "start_time": "2023-05-25T17:45:37.151Z"
   },
   {
    "duration": 306,
    "start_time": "2023-05-25T17:45:37.164Z"
   },
   {
    "duration": 708,
    "start_time": "2023-05-25T17:45:37.472Z"
   },
   {
    "duration": 784,
    "start_time": "2023-05-25T17:45:38.183Z"
   },
   {
    "duration": 10,
    "start_time": "2023-05-25T17:45:38.969Z"
   },
   {
    "duration": 79,
    "start_time": "2023-05-25T17:45:38.981Z"
   },
   {
    "duration": 28,
    "start_time": "2023-05-25T17:45:39.062Z"
   },
   {
    "duration": 65,
    "start_time": "2023-05-25T17:45:39.092Z"
   },
   {
    "duration": 18,
    "start_time": "2023-05-25T17:45:39.160Z"
   },
   {
    "duration": 23,
    "start_time": "2023-05-25T17:45:39.180Z"
   },
   {
    "duration": 909,
    "start_time": "2023-05-25T17:45:39.207Z"
   },
   {
    "duration": 9,
    "start_time": "2023-05-25T17:45:40.118Z"
   },
   {
    "duration": 518,
    "start_time": "2023-05-25T17:45:40.129Z"
   },
   {
    "duration": 12,
    "start_time": "2023-05-25T17:45:40.650Z"
   },
   {
    "duration": 25,
    "start_time": "2023-05-25T17:45:40.663Z"
   },
   {
    "duration": 14,
    "start_time": "2023-05-25T17:45:40.690Z"
   },
   {
    "duration": 4,
    "start_time": "2023-05-25T17:45:40.706Z"
   },
   {
    "duration": 10470,
    "start_time": "2023-05-25T17:45:40.712Z"
   },
   {
    "duration": 339,
    "start_time": "2023-05-25T17:45:51.184Z"
   },
   {
    "duration": 12,
    "start_time": "2023-05-25T17:45:51.526Z"
   },
   {
    "duration": 17,
    "start_time": "2023-05-25T17:45:51.540Z"
   },
   {
    "duration": 3459,
    "start_time": "2023-05-25T17:45:51.560Z"
   },
   {
    "duration": 13,
    "start_time": "2023-05-25T17:45:55.022Z"
   },
   {
    "duration": 2035,
    "start_time": "2023-05-25T17:45:55.037Z"
   },
   {
    "duration": 4,
    "start_time": "2023-05-25T17:45:57.075Z"
   },
   {
    "duration": 180,
    "start_time": "2023-05-25T17:45:57.080Z"
   },
   {
    "duration": 6,
    "start_time": "2023-05-25T17:46:03.236Z"
   },
   {
    "duration": 63,
    "start_time": "2023-05-25T17:46:10.595Z"
   },
   {
    "duration": 6,
    "start_time": "2023-05-25T17:46:14.164Z"
   },
   {
    "duration": 5,
    "start_time": "2023-05-25T17:46:19.541Z"
   },
   {
    "duration": 11,
    "start_time": "2023-05-25T17:46:38.790Z"
   },
   {
    "duration": 11,
    "start_time": "2023-05-25T17:46:57.312Z"
   },
   {
    "duration": 9,
    "start_time": "2023-05-25T17:47:12.186Z"
   },
   {
    "duration": 11,
    "start_time": "2023-05-25T17:47:33.783Z"
   },
   {
    "duration": 45,
    "start_time": "2023-05-25T17:50:52.517Z"
   },
   {
    "duration": 47,
    "start_time": "2023-05-25T17:51:40.742Z"
   },
   {
    "duration": 48,
    "start_time": "2023-05-25T17:51:44.716Z"
   },
   {
    "duration": 12,
    "start_time": "2023-05-25T18:18:38.914Z"
   },
   {
    "duration": 328,
    "start_time": "2023-05-25T18:18:40.687Z"
   },
   {
    "duration": 49,
    "start_time": "2023-05-25T18:19:03.476Z"
   },
   {
    "duration": 169,
    "start_time": "2023-05-25T18:19:05.666Z"
   },
   {
    "duration": 51,
    "start_time": "2023-05-25T18:19:13.120Z"
   },
   {
    "duration": 161,
    "start_time": "2023-05-25T18:19:15.089Z"
   },
   {
    "duration": 91,
    "start_time": "2023-05-25T18:20:09.182Z"
   },
   {
    "duration": 92,
    "start_time": "2023-05-25T18:20:45.407Z"
   },
   {
    "duration": 100,
    "start_time": "2023-05-25T18:20:49.930Z"
   },
   {
    "duration": 59,
    "start_time": "2023-05-25T18:21:00.553Z"
   },
   {
    "duration": 11,
    "start_time": "2023-05-25T18:21:02.587Z"
   },
   {
    "duration": 108,
    "start_time": "2023-05-25T18:21:14.776Z"
   },
   {
    "duration": 101,
    "start_time": "2023-05-25T18:21:21.478Z"
   },
   {
    "duration": 102,
    "start_time": "2023-05-25T18:21:25.178Z"
   },
   {
    "duration": 112,
    "start_time": "2023-05-25T18:21:30.340Z"
   },
   {
    "duration": 258,
    "start_time": "2023-05-25T18:56:17.193Z"
   },
   {
    "duration": 75,
    "start_time": "2023-05-25T18:56:28.906Z"
   },
   {
    "duration": 263,
    "start_time": "2023-05-25T18:56:32.386Z"
   },
   {
    "duration": 360,
    "start_time": "2023-05-25T18:56:49.041Z"
   },
   {
    "duration": 308,
    "start_time": "2023-05-25T18:57:45.778Z"
   },
   {
    "duration": 277,
    "start_time": "2023-05-25T18:57:48.209Z"
   },
   {
    "duration": 280,
    "start_time": "2023-05-25T18:57:53.304Z"
   },
   {
    "duration": 320,
    "start_time": "2023-05-25T18:57:56.010Z"
   },
   {
    "duration": 319,
    "start_time": "2023-05-25T18:58:02.109Z"
   },
   {
    "duration": 397,
    "start_time": "2023-05-25T18:58:06.592Z"
   },
   {
    "duration": 330,
    "start_time": "2023-05-25T18:58:10.388Z"
   },
   {
    "duration": 313,
    "start_time": "2023-05-25T18:58:13.511Z"
   },
   {
    "duration": 272,
    "start_time": "2023-05-25T18:58:16.999Z"
   },
   {
    "duration": 291,
    "start_time": "2023-05-25T18:58:19.720Z"
   },
   {
    "duration": 264,
    "start_time": "2023-05-25T18:58:22.613Z"
   },
   {
    "duration": 374,
    "start_time": "2023-05-25T18:58:25.148Z"
   },
   {
    "duration": 274,
    "start_time": "2023-05-25T18:58:33.544Z"
   },
   {
    "duration": 296,
    "start_time": "2023-05-25T18:58:37.780Z"
   },
   {
    "duration": 16,
    "start_time": "2023-05-25T19:00:49.576Z"
   },
   {
    "duration": 18,
    "start_time": "2023-05-25T19:01:24.156Z"
   },
   {
    "duration": 29,
    "start_time": "2023-05-25T19:01:58.039Z"
   },
   {
    "duration": 23,
    "start_time": "2023-05-25T19:03:40.883Z"
   },
   {
    "duration": 14,
    "start_time": "2023-05-25T19:03:50.875Z"
   },
   {
    "duration": 14,
    "start_time": "2023-05-25T19:03:52.976Z"
   },
   {
    "duration": 20,
    "start_time": "2023-05-25T19:04:22.590Z"
   },
   {
    "duration": 21,
    "start_time": "2023-05-25T19:04:46.627Z"
   },
   {
    "duration": 6,
    "start_time": "2023-05-25T19:04:56.477Z"
   },
   {
    "duration": 22,
    "start_time": "2023-05-25T19:05:03.521Z"
   },
   {
    "duration": 11,
    "start_time": "2023-05-25T19:06:26.335Z"
   },
   {
    "duration": 3,
    "start_time": "2023-05-25T19:10:05.115Z"
   },
   {
    "duration": 4,
    "start_time": "2023-05-25T19:10:45.294Z"
   },
   {
    "duration": 4,
    "start_time": "2023-05-25T19:11:17.373Z"
   },
   {
    "duration": 7,
    "start_time": "2023-05-25T19:11:34.889Z"
   },
   {
    "duration": 5,
    "start_time": "2023-05-25T19:12:56.937Z"
   },
   {
    "duration": 175,
    "start_time": "2023-05-25T19:14:47.815Z"
   },
   {
    "duration": 171,
    "start_time": "2023-05-25T19:14:52.601Z"
   },
   {
    "duration": 169,
    "start_time": "2023-05-25T19:15:02.476Z"
   },
   {
    "duration": 160,
    "start_time": "2023-05-25T19:15:06.376Z"
   },
   {
    "duration": 347,
    "start_time": "2023-05-25T19:15:33.507Z"
   },
   {
    "duration": 315,
    "start_time": "2023-05-25T19:15:37.576Z"
   },
   {
    "duration": 298,
    "start_time": "2023-05-25T19:15:56.822Z"
   },
   {
    "duration": 307,
    "start_time": "2023-05-25T19:16:28.171Z"
   },
   {
    "duration": 267,
    "start_time": "2023-05-25T19:16:37.251Z"
   },
   {
    "duration": 269,
    "start_time": "2023-05-25T19:16:42.406Z"
   },
   {
    "duration": 507,
    "start_time": "2023-05-25T19:16:57.169Z"
   },
   {
    "duration": 325,
    "start_time": "2023-05-25T19:17:08.621Z"
   },
   {
    "duration": 312,
    "start_time": "2023-05-25T19:17:39.880Z"
   },
   {
    "duration": 289,
    "start_time": "2023-05-25T19:18:05.480Z"
   },
   {
    "duration": 517,
    "start_time": "2023-05-25T19:18:24.257Z"
   },
   {
    "duration": 694,
    "start_time": "2023-05-25T19:18:33.948Z"
   },
   {
    "duration": 346,
    "start_time": "2023-05-25T19:18:57.780Z"
   },
   {
    "duration": 1940,
    "start_time": "2023-05-25T19:19:28.710Z"
   },
   {
    "duration": 189,
    "start_time": "2023-05-25T19:19:55.253Z"
   },
   {
    "duration": 5,
    "start_time": "2023-05-25T19:22:49.124Z"
   },
   {
    "duration": 16,
    "start_time": "2023-05-25T19:22:56.247Z"
   },
   {
    "duration": 9,
    "start_time": "2023-05-25T19:23:02.275Z"
   },
   {
    "duration": 6,
    "start_time": "2023-05-25T19:23:16.672Z"
   },
   {
    "duration": 19,
    "start_time": "2023-05-25T19:23:22.286Z"
   },
   {
    "duration": 17,
    "start_time": "2023-05-25T19:23:26.251Z"
   },
   {
    "duration": 6,
    "start_time": "2023-05-25T19:23:28.091Z"
   },
   {
    "duration": 8,
    "start_time": "2023-05-25T19:23:35.163Z"
   },
   {
    "duration": 231,
    "start_time": "2023-05-25T19:23:51.603Z"
   },
   {
    "duration": 7,
    "start_time": "2023-05-25T19:23:55.922Z"
   },
   {
    "duration": 4,
    "start_time": "2023-05-25T19:24:16.903Z"
   },
   {
    "duration": 9,
    "start_time": "2023-05-25T19:24:29.480Z"
   },
   {
    "duration": 7,
    "start_time": "2023-05-25T19:24:39.839Z"
   },
   {
    "duration": 5,
    "start_time": "2023-05-25T19:24:43.736Z"
   },
   {
    "duration": 1136,
    "start_time": "2023-05-25T19:24:55.818Z"
   },
   {
    "duration": 81,
    "start_time": "2023-05-25T19:24:56.956Z"
   },
   {
    "duration": 33,
    "start_time": "2023-05-25T19:24:57.039Z"
   },
   {
    "duration": 15,
    "start_time": "2023-05-25T19:24:57.074Z"
   },
   {
    "duration": 49,
    "start_time": "2023-05-25T19:24:57.091Z"
   },
   {
    "duration": 11,
    "start_time": "2023-05-25T19:24:57.142Z"
   },
   {
    "duration": 21,
    "start_time": "2023-05-25T19:24:57.155Z"
   },
   {
    "duration": 16,
    "start_time": "2023-05-25T19:24:57.178Z"
   },
   {
    "duration": 9,
    "start_time": "2023-05-25T19:24:57.195Z"
   },
   {
    "duration": 15,
    "start_time": "2023-05-25T19:24:57.208Z"
   },
   {
    "duration": 7,
    "start_time": "2023-05-25T19:24:57.225Z"
   },
   {
    "duration": 25,
    "start_time": "2023-05-25T19:24:57.234Z"
   },
   {
    "duration": 7,
    "start_time": "2023-05-25T19:24:57.261Z"
   },
   {
    "duration": 13,
    "start_time": "2023-05-25T19:24:57.270Z"
   },
   {
    "duration": 11,
    "start_time": "2023-05-25T19:24:57.284Z"
   },
   {
    "duration": 11,
    "start_time": "2023-05-25T19:24:57.297Z"
   },
   {
    "duration": 8,
    "start_time": "2023-05-25T19:24:57.310Z"
   },
   {
    "duration": 54,
    "start_time": "2023-05-25T19:24:57.320Z"
   },
   {
    "duration": 7,
    "start_time": "2023-05-25T19:24:57.376Z"
   },
   {
    "duration": 7,
    "start_time": "2023-05-25T19:24:57.386Z"
   },
   {
    "duration": 10,
    "start_time": "2023-05-25T19:24:57.395Z"
   },
   {
    "duration": 9,
    "start_time": "2023-05-25T19:24:57.406Z"
   },
   {
    "duration": 7,
    "start_time": "2023-05-25T19:24:57.417Z"
   },
   {
    "duration": 39,
    "start_time": "2023-05-25T19:24:57.426Z"
   },
   {
    "duration": 11,
    "start_time": "2023-05-25T19:24:57.467Z"
   },
   {
    "duration": 10,
    "start_time": "2023-05-25T19:24:57.481Z"
   },
   {
    "duration": 6,
    "start_time": "2023-05-25T19:24:57.493Z"
   },
   {
    "duration": 6,
    "start_time": "2023-05-25T19:24:57.503Z"
   },
   {
    "duration": 253,
    "start_time": "2023-05-25T19:24:57.511Z"
   },
   {
    "duration": 12,
    "start_time": "2023-05-25T19:24:57.767Z"
   },
   {
    "duration": 148,
    "start_time": "2023-05-25T19:24:57.781Z"
   },
   {
    "duration": 9,
    "start_time": "2023-05-25T19:24:57.931Z"
   },
   {
    "duration": 652,
    "start_time": "2023-05-25T19:24:57.942Z"
   },
   {
    "duration": 762,
    "start_time": "2023-05-25T19:24:58.596Z"
   },
   {
    "duration": 620,
    "start_time": "2023-05-25T19:24:59.359Z"
   },
   {
    "duration": 9,
    "start_time": "2023-05-25T19:24:59.981Z"
   },
   {
    "duration": 209,
    "start_time": "2023-05-25T19:24:59.991Z"
   },
   {
    "duration": 0,
    "start_time": "2023-05-25T19:25:00.258Z"
   },
   {
    "duration": 0,
    "start_time": "2023-05-25T19:25:00.259Z"
   },
   {
    "duration": 0,
    "start_time": "2023-05-25T19:25:00.260Z"
   },
   {
    "duration": 0,
    "start_time": "2023-05-25T19:25:00.261Z"
   },
   {
    "duration": 0,
    "start_time": "2023-05-25T19:25:00.262Z"
   },
   {
    "duration": 0,
    "start_time": "2023-05-25T19:25:00.263Z"
   },
   {
    "duration": 0,
    "start_time": "2023-05-25T19:25:00.264Z"
   },
   {
    "duration": 0,
    "start_time": "2023-05-25T19:25:00.265Z"
   },
   {
    "duration": 0,
    "start_time": "2023-05-25T19:25:00.266Z"
   },
   {
    "duration": 0,
    "start_time": "2023-05-25T19:25:00.267Z"
   },
   {
    "duration": 0,
    "start_time": "2023-05-25T19:25:00.267Z"
   },
   {
    "duration": 0,
    "start_time": "2023-05-25T19:25:00.268Z"
   },
   {
    "duration": 0,
    "start_time": "2023-05-25T19:25:00.271Z"
   },
   {
    "duration": 0,
    "start_time": "2023-05-25T19:25:00.272Z"
   },
   {
    "duration": 0,
    "start_time": "2023-05-25T19:25:00.273Z"
   },
   {
    "duration": 0,
    "start_time": "2023-05-25T19:25:00.274Z"
   },
   {
    "duration": 0,
    "start_time": "2023-05-25T19:25:00.274Z"
   },
   {
    "duration": 0,
    "start_time": "2023-05-25T19:25:00.275Z"
   },
   {
    "duration": 0,
    "start_time": "2023-05-25T19:25:00.277Z"
   },
   {
    "duration": 0,
    "start_time": "2023-05-25T19:25:00.281Z"
   },
   {
    "duration": 0,
    "start_time": "2023-05-25T19:25:00.282Z"
   },
   {
    "duration": 0,
    "start_time": "2023-05-25T19:25:00.284Z"
   },
   {
    "duration": 0,
    "start_time": "2023-05-25T19:25:00.286Z"
   },
   {
    "duration": 0,
    "start_time": "2023-05-25T19:25:00.287Z"
   },
   {
    "duration": 0,
    "start_time": "2023-05-25T19:25:00.289Z"
   },
   {
    "duration": 0,
    "start_time": "2023-05-25T19:25:00.291Z"
   },
   {
    "duration": 3,
    "start_time": "2023-05-25T19:25:09.947Z"
   },
   {
    "duration": 47,
    "start_time": "2023-05-25T19:25:09.952Z"
   },
   {
    "duration": 13,
    "start_time": "2023-05-25T19:25:10.001Z"
   },
   {
    "duration": 14,
    "start_time": "2023-05-25T19:25:10.017Z"
   },
   {
    "duration": 41,
    "start_time": "2023-05-25T19:25:10.034Z"
   },
   {
    "duration": 12,
    "start_time": "2023-05-25T19:25:10.077Z"
   },
   {
    "duration": 15,
    "start_time": "2023-05-25T19:25:10.092Z"
   },
   {
    "duration": 21,
    "start_time": "2023-05-25T19:25:10.108Z"
   },
   {
    "duration": 8,
    "start_time": "2023-05-25T19:25:10.131Z"
   },
   {
    "duration": 41,
    "start_time": "2023-05-25T19:25:10.141Z"
   },
   {
    "duration": 5,
    "start_time": "2023-05-25T19:25:10.185Z"
   },
   {
    "duration": 17,
    "start_time": "2023-05-25T19:25:10.192Z"
   },
   {
    "duration": 7,
    "start_time": "2023-05-25T19:25:10.211Z"
   },
   {
    "duration": 9,
    "start_time": "2023-05-25T19:25:10.219Z"
   },
   {
    "duration": 8,
    "start_time": "2023-05-25T19:25:10.230Z"
   },
   {
    "duration": 16,
    "start_time": "2023-05-25T19:25:10.257Z"
   },
   {
    "duration": 10,
    "start_time": "2023-05-25T19:25:10.275Z"
   },
   {
    "duration": 7,
    "start_time": "2023-05-25T19:25:10.287Z"
   },
   {
    "duration": 8,
    "start_time": "2023-05-25T19:25:10.296Z"
   },
   {
    "duration": 12,
    "start_time": "2023-05-25T19:25:10.306Z"
   },
   {
    "duration": 7,
    "start_time": "2023-05-25T19:25:10.320Z"
   },
   {
    "duration": 12,
    "start_time": "2023-05-25T19:25:10.328Z"
   },
   {
    "duration": 7,
    "start_time": "2023-05-25T19:25:10.359Z"
   },
   {
    "duration": 8,
    "start_time": "2023-05-25T19:25:10.367Z"
   },
   {
    "duration": 7,
    "start_time": "2023-05-25T19:25:10.376Z"
   },
   {
    "duration": 9,
    "start_time": "2023-05-25T19:25:10.385Z"
   },
   {
    "duration": 6,
    "start_time": "2023-05-25T19:25:10.395Z"
   },
   {
    "duration": 8,
    "start_time": "2023-05-25T19:25:10.402Z"
   },
   {
    "duration": 216,
    "start_time": "2023-05-25T19:25:10.413Z"
   },
   {
    "duration": 7,
    "start_time": "2023-05-25T19:25:10.631Z"
   },
   {
    "duration": 347,
    "start_time": "2023-05-25T19:25:10.639Z"
   },
   {
    "duration": 7,
    "start_time": "2023-05-25T19:25:10.988Z"
   },
   {
    "duration": 797,
    "start_time": "2023-05-25T19:25:10.997Z"
   },
   {
    "duration": 689,
    "start_time": "2023-05-25T19:25:11.795Z"
   },
   {
    "duration": 616,
    "start_time": "2023-05-25T19:25:12.486Z"
   },
   {
    "duration": 6,
    "start_time": "2023-05-25T19:25:13.104Z"
   },
   {
    "duration": 60,
    "start_time": "2023-05-25T19:25:13.112Z"
   },
   {
    "duration": 0,
    "start_time": "2023-05-25T19:25:13.174Z"
   },
   {
    "duration": 0,
    "start_time": "2023-05-25T19:25:13.175Z"
   },
   {
    "duration": 0,
    "start_time": "2023-05-25T19:25:13.176Z"
   },
   {
    "duration": 0,
    "start_time": "2023-05-25T19:25:13.177Z"
   },
   {
    "duration": 0,
    "start_time": "2023-05-25T19:25:13.178Z"
   },
   {
    "duration": 0,
    "start_time": "2023-05-25T19:25:13.179Z"
   },
   {
    "duration": 0,
    "start_time": "2023-05-25T19:25:13.180Z"
   },
   {
    "duration": 1,
    "start_time": "2023-05-25T19:25:13.181Z"
   },
   {
    "duration": 0,
    "start_time": "2023-05-25T19:25:13.183Z"
   },
   {
    "duration": 0,
    "start_time": "2023-05-25T19:25:13.184Z"
   },
   {
    "duration": 0,
    "start_time": "2023-05-25T19:25:13.185Z"
   },
   {
    "duration": 0,
    "start_time": "2023-05-25T19:25:13.186Z"
   },
   {
    "duration": 0,
    "start_time": "2023-05-25T19:25:13.187Z"
   },
   {
    "duration": 0,
    "start_time": "2023-05-25T19:25:13.188Z"
   },
   {
    "duration": 0,
    "start_time": "2023-05-25T19:25:13.189Z"
   },
   {
    "duration": 0,
    "start_time": "2023-05-25T19:25:13.190Z"
   },
   {
    "duration": 0,
    "start_time": "2023-05-25T19:25:13.191Z"
   },
   {
    "duration": 0,
    "start_time": "2023-05-25T19:25:13.192Z"
   },
   {
    "duration": 0,
    "start_time": "2023-05-25T19:25:13.193Z"
   },
   {
    "duration": 0,
    "start_time": "2023-05-25T19:25:13.194Z"
   },
   {
    "duration": 0,
    "start_time": "2023-05-25T19:25:13.195Z"
   },
   {
    "duration": 0,
    "start_time": "2023-05-25T19:25:13.196Z"
   },
   {
    "duration": 0,
    "start_time": "2023-05-25T19:25:13.198Z"
   },
   {
    "duration": 0,
    "start_time": "2023-05-25T19:25:13.199Z"
   },
   {
    "duration": 0,
    "start_time": "2023-05-25T19:25:13.200Z"
   },
   {
    "duration": 0,
    "start_time": "2023-05-25T19:25:13.201Z"
   },
   {
    "duration": 12,
    "start_time": "2023-05-25T19:25:55.797Z"
   },
   {
    "duration": 12,
    "start_time": "2023-05-25T19:27:01.990Z"
   },
   {
    "duration": 11,
    "start_time": "2023-05-25T19:27:10.259Z"
   },
   {
    "duration": 15,
    "start_time": "2023-05-25T19:27:29.373Z"
   },
   {
    "duration": 10,
    "start_time": "2023-05-25T19:27:36.653Z"
   },
   {
    "duration": 10,
    "start_time": "2023-05-25T19:27:39.452Z"
   },
   {
    "duration": 264,
    "start_time": "2023-05-25T19:30:11.836Z"
   },
   {
    "duration": 242,
    "start_time": "2023-05-25T19:30:19.981Z"
   },
   {
    "duration": 165,
    "start_time": "2023-05-25T19:30:21.747Z"
   },
   {
    "duration": 252,
    "start_time": "2023-05-25T19:30:24.536Z"
   },
   {
    "duration": 165,
    "start_time": "2023-05-25T19:30:27.845Z"
   },
   {
    "duration": 159,
    "start_time": "2023-05-25T19:30:31.072Z"
   },
   {
    "duration": 153,
    "start_time": "2023-05-25T19:30:40.886Z"
   },
   {
    "duration": 181,
    "start_time": "2023-05-25T19:32:04.419Z"
   },
   {
    "duration": 181,
    "start_time": "2023-05-25T19:32:16.607Z"
   },
   {
    "duration": 48,
    "start_time": "2023-05-25T19:32:28.106Z"
   },
   {
    "duration": 215,
    "start_time": "2023-05-25T19:32:33.895Z"
   },
   {
    "duration": 170,
    "start_time": "2023-05-25T19:32:37.318Z"
   },
   {
    "duration": 176,
    "start_time": "2023-05-25T19:32:42.494Z"
   },
   {
    "duration": 174,
    "start_time": "2023-05-25T19:32:52.309Z"
   },
   {
    "duration": 179,
    "start_time": "2023-05-25T19:33:09.403Z"
   },
   {
    "duration": 256,
    "start_time": "2023-05-25T19:33:41.582Z"
   },
   {
    "duration": 17,
    "start_time": "2023-05-25T19:33:45.376Z"
   },
   {
    "duration": 22,
    "start_time": "2023-05-25T19:33:45.528Z"
   },
   {
    "duration": 4,
    "start_time": "2023-05-25T19:33:45.768Z"
   },
   {
    "duration": 10,
    "start_time": "2023-05-25T19:33:47.682Z"
   },
   {
    "duration": 14,
    "start_time": "2023-05-25T19:33:48.693Z"
   },
   {
    "duration": 13,
    "start_time": "2023-05-25T19:33:50.722Z"
   },
   {
    "duration": 556,
    "start_time": "2023-05-25T19:33:52.174Z"
   },
   {
    "duration": 8,
    "start_time": "2023-05-25T19:33:52.996Z"
   },
   {
    "duration": 503,
    "start_time": "2023-05-25T19:33:53.456Z"
   },
   {
    "duration": 8,
    "start_time": "2023-05-25T19:33:54.030Z"
   },
   {
    "duration": 6,
    "start_time": "2023-05-25T19:33:56.929Z"
   },
   {
    "duration": 7,
    "start_time": "2023-05-25T19:34:04.056Z"
   },
   {
    "duration": 6,
    "start_time": "2023-05-25T19:34:08.266Z"
   },
   {
    "duration": 4,
    "start_time": "2023-05-25T19:34:09.120Z"
   },
   {
    "duration": 5,
    "start_time": "2023-05-25T19:34:09.535Z"
   },
   {
    "duration": 26,
    "start_time": "2023-05-25T19:34:25.204Z"
   },
   {
    "duration": 17,
    "start_time": "2023-05-25T19:34:25.660Z"
   },
   {
    "duration": 4,
    "start_time": "2023-05-25T19:34:31.620Z"
   },
   {
    "duration": 10339,
    "start_time": "2023-05-25T19:34:32.244Z"
   },
   {
    "duration": 18,
    "start_time": "2023-05-25T19:37:40.305Z"
   },
   {
    "duration": 12,
    "start_time": "2023-05-25T19:39:32.506Z"
   },
   {
    "duration": 12,
    "start_time": "2023-05-25T19:39:48.457Z"
   },
   {
    "duration": 13,
    "start_time": "2023-05-25T19:40:22.374Z"
   },
   {
    "duration": 29,
    "start_time": "2023-05-25T19:40:24.817Z"
   },
   {
    "duration": 33,
    "start_time": "2023-05-25T19:40:55.422Z"
   },
   {
    "duration": 31,
    "start_time": "2023-05-25T19:41:04.247Z"
   },
   {
    "duration": 30,
    "start_time": "2023-05-25T19:41:08.463Z"
   },
   {
    "duration": 18,
    "start_time": "2023-05-25T19:41:34.353Z"
   },
   {
    "duration": 10,
    "start_time": "2023-05-25T19:42:12.564Z"
   },
   {
    "duration": 5,
    "start_time": "2023-05-25T19:42:57.680Z"
   },
   {
    "duration": 49,
    "start_time": "2023-05-25T19:43:01.119Z"
   },
   {
    "duration": 13,
    "start_time": "2023-05-25T19:43:07.959Z"
   },
   {
    "duration": 5,
    "start_time": "2023-05-25T19:43:10.470Z"
   },
   {
    "duration": 11,
    "start_time": "2023-05-25T19:43:16.093Z"
   },
   {
    "duration": 11,
    "start_time": "2023-05-25T19:43:22.223Z"
   },
   {
    "duration": 22,
    "start_time": "2023-05-25T19:43:28.869Z"
   },
   {
    "duration": 7,
    "start_time": "2023-05-25T19:43:33.270Z"
   },
   {
    "duration": 13,
    "start_time": "2023-05-25T19:43:59.175Z"
   },
   {
    "duration": 5,
    "start_time": "2023-05-25T19:44:04.423Z"
   },
   {
    "duration": 6,
    "start_time": "2023-05-25T19:44:24.049Z"
   },
   {
    "duration": 21,
    "start_time": "2023-05-25T19:44:29.326Z"
   },
   {
    "duration": 17,
    "start_time": "2023-05-25T19:44:44.408Z"
   },
   {
    "duration": 9,
    "start_time": "2023-05-25T19:45:03.028Z"
   },
   {
    "duration": 25,
    "start_time": "2023-05-25T19:45:08.122Z"
   },
   {
    "duration": 2242,
    "start_time": "2023-05-25T19:45:33.840Z"
   },
   {
    "duration": 24,
    "start_time": "2023-05-25T19:45:41.650Z"
   },
   {
    "duration": 25,
    "start_time": "2023-05-25T19:45:49.046Z"
   },
   {
    "duration": 27,
    "start_time": "2023-05-25T19:45:57.045Z"
   },
   {
    "duration": 25,
    "start_time": "2023-05-25T19:46:03.460Z"
   },
   {
    "duration": 25,
    "start_time": "2023-05-25T19:46:31.965Z"
   },
   {
    "duration": 16,
    "start_time": "2023-05-25T19:47:32.372Z"
   },
   {
    "duration": 29,
    "start_time": "2023-05-25T19:47:44.334Z"
   },
   {
    "duration": 4,
    "start_time": "2023-05-25T19:47:57.516Z"
   },
   {
    "duration": 398,
    "start_time": "2023-05-25T19:48:33.470Z"
   },
   {
    "duration": 377,
    "start_time": "2023-05-25T19:48:49.417Z"
   },
   {
    "duration": 3,
    "start_time": "2023-05-25T19:48:54.487Z"
   },
   {
    "duration": 439,
    "start_time": "2023-05-25T19:48:54.915Z"
   },
   {
    "duration": 289,
    "start_time": "2023-05-25T19:49:57.849Z"
   },
   {
    "duration": 6,
    "start_time": "2023-05-25T19:50:01.902Z"
   },
   {
    "duration": 8,
    "start_time": "2023-05-25T19:51:11.916Z"
   },
   {
    "duration": 7,
    "start_time": "2023-05-25T19:51:40.613Z"
   },
   {
    "duration": 7,
    "start_time": "2023-05-25T19:51:56.772Z"
   },
   {
    "duration": 5,
    "start_time": "2023-05-25T19:52:25.493Z"
   },
   {
    "duration": 6,
    "start_time": "2023-05-25T19:53:03.178Z"
   },
   {
    "duration": 11,
    "start_time": "2023-05-25T19:53:10.450Z"
   },
   {
    "duration": 6,
    "start_time": "2023-05-25T19:53:16.465Z"
   },
   {
    "duration": 7,
    "start_time": "2023-05-25T19:53:54.826Z"
   },
   {
    "duration": 6,
    "start_time": "2023-05-25T19:54:02.834Z"
   },
   {
    "duration": 6,
    "start_time": "2023-05-25T19:57:34.536Z"
   },
   {
    "duration": 3201,
    "start_time": "2023-05-25T19:57:39.556Z"
   },
   {
    "duration": 8,
    "start_time": "2023-05-25T19:57:42.759Z"
   },
   {
    "duration": 65,
    "start_time": "2023-05-25T19:59:02.274Z"
   },
   {
    "duration": 10,
    "start_time": "2023-05-25T19:59:21.579Z"
   },
   {
    "duration": 1747,
    "start_time": "2023-05-25T19:59:35.553Z"
   },
   {
    "duration": 1875,
    "start_time": "2023-05-25T19:59:38.777Z"
   },
   {
    "duration": 1861,
    "start_time": "2023-05-25T19:59:51.334Z"
   },
   {
    "duration": 1942,
    "start_time": "2023-05-25T19:59:54.931Z"
   },
   {
    "duration": 1887,
    "start_time": "2023-05-25T20:00:03.630Z"
   },
   {
    "duration": 1884,
    "start_time": "2023-05-25T20:00:28.288Z"
   },
   {
    "duration": 17,
    "start_time": "2023-05-25T20:00:32.722Z"
   },
   {
    "duration": 18,
    "start_time": "2023-05-25T20:00:40.200Z"
   },
   {
    "duration": 18,
    "start_time": "2023-05-25T20:00:47.984Z"
   },
   {
    "duration": 30,
    "start_time": "2023-05-25T20:01:01.034Z"
   },
   {
    "duration": 18,
    "start_time": "2023-05-25T20:01:15.249Z"
   },
   {
    "duration": 22,
    "start_time": "2023-05-25T20:01:31.724Z"
   },
   {
    "duration": 20,
    "start_time": "2023-05-25T20:01:41.531Z"
   },
   {
    "duration": 20,
    "start_time": "2023-05-25T20:01:46.585Z"
   },
   {
    "duration": 17,
    "start_time": "2023-05-25T20:01:58.186Z"
   },
   {
    "duration": 23,
    "start_time": "2023-05-25T20:02:01.403Z"
   },
   {
    "duration": 24,
    "start_time": "2023-05-25T20:03:22.515Z"
   },
   {
    "duration": 15,
    "start_time": "2023-05-25T20:03:47.058Z"
   },
   {
    "duration": 16,
    "start_time": "2023-05-25T20:04:00.003Z"
   },
   {
    "duration": 17,
    "start_time": "2023-05-25T20:04:06.579Z"
   },
   {
    "duration": 18,
    "start_time": "2023-05-25T20:04:12.094Z"
   },
   {
    "duration": 1836,
    "start_time": "2023-05-25T20:04:47.725Z"
   },
   {
    "duration": 4,
    "start_time": "2023-05-25T20:04:54.931Z"
   },
   {
    "duration": 173,
    "start_time": "2023-05-25T20:04:55.439Z"
   },
   {
    "duration": 987,
    "start_time": "2023-05-26T14:05:37.855Z"
   },
   {
    "duration": 51,
    "start_time": "2023-05-26T14:05:38.844Z"
   },
   {
    "duration": 26,
    "start_time": "2023-05-26T14:05:38.896Z"
   },
   {
    "duration": 11,
    "start_time": "2023-05-26T14:05:38.923Z"
   },
   {
    "duration": 32,
    "start_time": "2023-05-26T14:05:38.935Z"
   },
   {
    "duration": 8,
    "start_time": "2023-05-26T14:05:38.968Z"
   },
   {
    "duration": 12,
    "start_time": "2023-05-26T14:05:38.978Z"
   },
   {
    "duration": 14,
    "start_time": "2023-05-26T14:05:38.992Z"
   },
   {
    "duration": 6,
    "start_time": "2023-05-26T14:05:39.008Z"
   },
   {
    "duration": 17,
    "start_time": "2023-05-26T14:05:39.015Z"
   },
   {
    "duration": 7,
    "start_time": "2023-05-26T14:05:39.033Z"
   },
   {
    "duration": 11,
    "start_time": "2023-05-26T14:05:39.042Z"
   },
   {
    "duration": 16,
    "start_time": "2023-05-26T14:05:39.054Z"
   },
   {
    "duration": 6,
    "start_time": "2023-05-26T14:05:39.073Z"
   },
   {
    "duration": 19,
    "start_time": "2023-05-26T14:05:39.081Z"
   },
   {
    "duration": 9,
    "start_time": "2023-05-26T14:05:39.102Z"
   },
   {
    "duration": 8,
    "start_time": "2023-05-26T14:05:39.113Z"
   },
   {
    "duration": 8,
    "start_time": "2023-05-26T14:05:39.123Z"
   },
   {
    "duration": 5,
    "start_time": "2023-05-26T14:05:39.133Z"
   },
   {
    "duration": 12,
    "start_time": "2023-05-26T14:05:39.139Z"
   },
   {
    "duration": 7,
    "start_time": "2023-05-26T14:05:39.153Z"
   },
   {
    "duration": 11,
    "start_time": "2023-05-26T14:05:39.162Z"
   },
   {
    "duration": 17,
    "start_time": "2023-05-26T14:05:39.174Z"
   },
   {
    "duration": 25,
    "start_time": "2023-05-26T14:05:39.193Z"
   },
   {
    "duration": 5,
    "start_time": "2023-05-26T14:05:39.220Z"
   },
   {
    "duration": 12,
    "start_time": "2023-05-26T14:05:39.226Z"
   },
   {
    "duration": 11,
    "start_time": "2023-05-26T14:05:39.240Z"
   },
   {
    "duration": 12,
    "start_time": "2023-05-26T14:05:39.252Z"
   },
   {
    "duration": 167,
    "start_time": "2023-05-26T14:05:39.265Z"
   },
   {
    "duration": 5,
    "start_time": "2023-05-26T14:05:39.434Z"
   },
   {
    "duration": 105,
    "start_time": "2023-05-26T14:05:39.441Z"
   },
   {
    "duration": 6,
    "start_time": "2023-05-26T14:05:39.548Z"
   },
   {
    "duration": 256,
    "start_time": "2023-05-26T14:05:39.556Z"
   },
   {
    "duration": 252,
    "start_time": "2023-05-26T14:05:39.814Z"
   },
   {
    "duration": 238,
    "start_time": "2023-05-26T14:05:40.067Z"
   },
   {
    "duration": 12,
    "start_time": "2023-05-26T14:05:40.306Z"
   },
   {
    "duration": 9,
    "start_time": "2023-05-26T14:05:40.319Z"
   },
   {
    "duration": 164,
    "start_time": "2023-05-26T14:05:40.330Z"
   },
   {
    "duration": 25,
    "start_time": "2023-05-26T14:05:40.495Z"
   },
   {
    "duration": 20,
    "start_time": "2023-05-26T14:05:40.522Z"
   },
   {
    "duration": 5,
    "start_time": "2023-05-26T14:05:40.545Z"
   },
   {
    "duration": 19,
    "start_time": "2023-05-26T14:05:40.552Z"
   },
   {
    "duration": 12,
    "start_time": "2023-05-26T14:05:40.572Z"
   },
   {
    "duration": 16,
    "start_time": "2023-05-26T14:05:40.585Z"
   },
   {
    "duration": 536,
    "start_time": "2023-05-26T14:05:40.602Z"
   },
   {
    "duration": 7,
    "start_time": "2023-05-26T14:05:41.140Z"
   },
   {
    "duration": 433,
    "start_time": "2023-05-26T14:05:41.148Z"
   },
   {
    "duration": 6,
    "start_time": "2023-05-26T14:05:41.583Z"
   },
   {
    "duration": 17,
    "start_time": "2023-05-26T14:05:41.591Z"
   },
   {
    "duration": 7,
    "start_time": "2023-05-26T14:05:41.610Z"
   },
   {
    "duration": 8,
    "start_time": "2023-05-26T14:05:41.619Z"
   },
   {
    "duration": 34,
    "start_time": "2023-05-26T14:05:41.628Z"
   },
   {
    "duration": 13,
    "start_time": "2023-05-26T14:05:41.663Z"
   },
   {
    "duration": 3,
    "start_time": "2023-05-26T14:05:41.678Z"
   },
   {
    "duration": 374,
    "start_time": "2023-05-26T14:05:41.682Z"
   },
   {
    "duration": 241,
    "start_time": "2023-05-26T14:05:42.058Z"
   },
   {
    "duration": 16,
    "start_time": "2023-05-26T14:05:42.301Z"
   },
   {
    "duration": 5,
    "start_time": "2023-05-26T14:05:42.319Z"
   },
   {
    "duration": 110,
    "start_time": "2023-05-26T14:05:42.325Z"
   },
   {
    "duration": 0,
    "start_time": "2023-05-26T14:05:42.437Z"
   },
   {
    "duration": 0,
    "start_time": "2023-05-26T14:05:42.438Z"
   },
   {
    "duration": 0,
    "start_time": "2023-05-26T14:05:42.438Z"
   },
   {
    "duration": 0,
    "start_time": "2023-05-26T14:05:42.440Z"
   },
   {
    "duration": 0,
    "start_time": "2023-05-26T14:05:42.440Z"
   },
   {
    "duration": 6,
    "start_time": "2023-05-26T14:07:41.877Z"
   },
   {
    "duration": 8,
    "start_time": "2023-05-26T14:08:19.142Z"
   },
   {
    "duration": 2,
    "start_time": "2023-05-26T14:08:30.946Z"
   },
   {
    "duration": 898,
    "start_time": "2023-06-09T22:30:08.871Z"
   },
   {
    "duration": 143,
    "start_time": "2023-06-09T22:30:09.770Z"
   },
   {
    "duration": 16,
    "start_time": "2023-06-09T22:30:09.915Z"
   },
   {
    "duration": 9,
    "start_time": "2023-06-09T22:30:09.933Z"
   },
   {
    "duration": 154,
    "start_time": "2023-06-09T22:30:09.944Z"
   },
   {
    "duration": 8,
    "start_time": "2023-06-09T22:30:10.099Z"
   },
   {
    "duration": 13,
    "start_time": "2023-06-09T22:30:10.108Z"
   },
   {
    "duration": 62,
    "start_time": "2023-06-09T22:30:10.123Z"
   },
   {
    "duration": 8,
    "start_time": "2023-06-09T22:30:10.187Z"
   },
   {
    "duration": 14,
    "start_time": "2023-06-09T22:30:10.198Z"
   },
   {
    "duration": 12,
    "start_time": "2023-06-09T22:30:10.213Z"
   },
   {
    "duration": 10,
    "start_time": "2023-06-09T22:30:10.227Z"
   },
   {
    "duration": 11,
    "start_time": "2023-06-09T22:30:10.238Z"
   },
   {
    "duration": 13,
    "start_time": "2023-06-09T22:30:10.250Z"
   },
   {
    "duration": 11,
    "start_time": "2023-06-09T22:30:10.265Z"
   },
   {
    "duration": 8,
    "start_time": "2023-06-09T22:30:10.277Z"
   },
   {
    "duration": 5,
    "start_time": "2023-06-09T22:30:10.287Z"
   },
   {
    "duration": 21,
    "start_time": "2023-06-09T22:30:10.293Z"
   },
   {
    "duration": 8,
    "start_time": "2023-06-09T22:30:10.316Z"
   },
   {
    "duration": 20,
    "start_time": "2023-06-09T22:30:10.325Z"
   },
   {
    "duration": 13,
    "start_time": "2023-06-09T22:30:10.346Z"
   },
   {
    "duration": 12,
    "start_time": "2023-06-09T22:30:10.360Z"
   },
   {
    "duration": 13,
    "start_time": "2023-06-09T22:30:10.374Z"
   },
   {
    "duration": 17,
    "start_time": "2023-06-09T22:30:10.388Z"
   },
   {
    "duration": 11,
    "start_time": "2023-06-09T22:30:10.406Z"
   },
   {
    "duration": 16,
    "start_time": "2023-06-09T22:30:10.418Z"
   },
   {
    "duration": 4,
    "start_time": "2023-06-09T22:30:10.435Z"
   },
   {
    "duration": 4,
    "start_time": "2023-06-09T22:30:10.442Z"
   },
   {
    "duration": 152,
    "start_time": "2023-06-09T22:30:10.447Z"
   },
   {
    "duration": 9,
    "start_time": "2023-06-09T22:30:10.601Z"
   },
   {
    "duration": 96,
    "start_time": "2023-06-09T22:30:10.611Z"
   },
   {
    "duration": 5,
    "start_time": "2023-06-09T22:30:10.709Z"
   },
   {
    "duration": 231,
    "start_time": "2023-06-09T22:30:10.715Z"
   },
   {
    "duration": 255,
    "start_time": "2023-06-09T22:30:10.948Z"
   },
   {
    "duration": 218,
    "start_time": "2023-06-09T22:30:11.205Z"
   },
   {
    "duration": 6,
    "start_time": "2023-06-09T22:30:11.424Z"
   },
   {
    "duration": 10,
    "start_time": "2023-06-09T22:30:11.432Z"
   },
   {
    "duration": 147,
    "start_time": "2023-06-09T22:30:11.443Z"
   },
   {
    "duration": 21,
    "start_time": "2023-06-09T22:30:11.592Z"
   },
   {
    "duration": 15,
    "start_time": "2023-06-09T22:30:11.615Z"
   },
   {
    "duration": 4,
    "start_time": "2023-06-09T22:30:11.631Z"
   },
   {
    "duration": 10,
    "start_time": "2023-06-09T22:30:11.636Z"
   },
   {
    "duration": 14,
    "start_time": "2023-06-09T22:30:11.648Z"
   },
   {
    "duration": 14,
    "start_time": "2023-06-09T22:30:11.664Z"
   },
   {
    "duration": 464,
    "start_time": "2023-06-09T22:30:11.706Z"
   },
   {
    "duration": 6,
    "start_time": "2023-06-09T22:30:12.172Z"
   },
   {
    "duration": 462,
    "start_time": "2023-06-09T22:30:12.179Z"
   },
   {
    "duration": 6,
    "start_time": "2023-06-09T22:30:12.643Z"
   },
   {
    "duration": 7,
    "start_time": "2023-06-09T22:30:12.651Z"
   },
   {
    "duration": 9,
    "start_time": "2023-06-09T22:30:12.660Z"
   },
   {
    "duration": 10,
    "start_time": "2023-06-09T22:30:12.670Z"
   },
   {
    "duration": 28,
    "start_time": "2023-06-09T22:30:12.681Z"
   },
   {
    "duration": 13,
    "start_time": "2023-06-09T22:30:12.710Z"
   },
   {
    "duration": 18,
    "start_time": "2023-06-09T22:30:12.724Z"
   },
   {
    "duration": 341,
    "start_time": "2023-06-09T22:30:12.743Z"
   },
   {
    "duration": 223,
    "start_time": "2023-06-09T22:30:13.086Z"
   },
   {
    "duration": 6,
    "start_time": "2023-06-09T22:30:13.311Z"
   },
   {
    "duration": 5,
    "start_time": "2023-06-09T22:30:13.318Z"
   },
   {
    "duration": 9,
    "start_time": "2023-06-09T22:30:13.325Z"
   },
   {
    "duration": 20,
    "start_time": "2023-06-09T22:30:13.335Z"
   },
   {
    "duration": 13,
    "start_time": "2023-06-09T22:30:13.356Z"
   },
   {
    "duration": 1438,
    "start_time": "2023-06-09T22:30:13.371Z"
   },
   {
    "duration": 4,
    "start_time": "2023-06-09T22:30:14.811Z"
   },
   {
    "duration": 132,
    "start_time": "2023-06-09T22:30:14.816Z"
   },
   {
    "duration": 453,
    "start_time": "2023-06-09T22:32:28.846Z"
   },
   {
    "duration": 40,
    "start_time": "2023-06-09T22:32:44.882Z"
   },
   {
    "duration": 1538,
    "start_time": "2023-06-09T22:32:47.381Z"
   },
   {
    "duration": 947,
    "start_time": "2023-06-09T22:32:57.575Z"
   },
   {
    "duration": 71,
    "start_time": "2023-06-09T22:32:58.524Z"
   },
   {
    "duration": 12,
    "start_time": "2023-06-09T22:32:58.596Z"
   },
   {
    "duration": 24,
    "start_time": "2023-06-09T22:32:58.610Z"
   },
   {
    "duration": 41,
    "start_time": "2023-06-09T22:32:58.635Z"
   },
   {
    "duration": 9,
    "start_time": "2023-06-09T22:32:58.678Z"
   },
   {
    "duration": 24,
    "start_time": "2023-06-09T22:32:58.689Z"
   },
   {
    "duration": 18,
    "start_time": "2023-06-09T22:32:58.714Z"
   },
   {
    "duration": 6,
    "start_time": "2023-06-09T22:32:58.733Z"
   },
   {
    "duration": 10,
    "start_time": "2023-06-09T22:32:58.742Z"
   },
   {
    "duration": 14,
    "start_time": "2023-06-09T22:32:58.753Z"
   },
   {
    "duration": 25,
    "start_time": "2023-06-09T22:32:58.768Z"
   },
   {
    "duration": 22,
    "start_time": "2023-06-09T22:32:58.794Z"
   },
   {
    "duration": 21,
    "start_time": "2023-06-09T22:32:58.817Z"
   },
   {
    "duration": 11,
    "start_time": "2023-06-09T22:32:58.839Z"
   },
   {
    "duration": 10,
    "start_time": "2023-06-09T22:32:58.851Z"
   },
   {
    "duration": 7,
    "start_time": "2023-06-09T22:32:58.862Z"
   },
   {
    "duration": 6,
    "start_time": "2023-06-09T22:32:58.870Z"
   },
   {
    "duration": 6,
    "start_time": "2023-06-09T22:32:58.877Z"
   },
   {
    "duration": 20,
    "start_time": "2023-06-09T22:32:58.885Z"
   },
   {
    "duration": 10,
    "start_time": "2023-06-09T22:32:58.906Z"
   },
   {
    "duration": 21,
    "start_time": "2023-06-09T22:32:58.917Z"
   },
   {
    "duration": 14,
    "start_time": "2023-06-09T22:32:58.939Z"
   },
   {
    "duration": 16,
    "start_time": "2023-06-09T22:32:58.954Z"
   },
   {
    "duration": 7,
    "start_time": "2023-06-09T22:32:58.971Z"
   },
   {
    "duration": 18,
    "start_time": "2023-06-09T22:32:58.979Z"
   },
   {
    "duration": 20,
    "start_time": "2023-06-09T22:32:58.998Z"
   },
   {
    "duration": 24,
    "start_time": "2023-06-09T22:32:59.021Z"
   },
   {
    "duration": 155,
    "start_time": "2023-06-09T22:32:59.047Z"
   },
   {
    "duration": 5,
    "start_time": "2023-06-09T22:32:59.203Z"
   },
   {
    "duration": 82,
    "start_time": "2023-06-09T22:32:59.209Z"
   },
   {
    "duration": 15,
    "start_time": "2023-06-09T22:32:59.293Z"
   },
   {
    "duration": 234,
    "start_time": "2023-06-09T22:32:59.310Z"
   },
   {
    "duration": 229,
    "start_time": "2023-06-09T22:32:59.545Z"
   },
   {
    "duration": 230,
    "start_time": "2023-06-09T22:32:59.776Z"
   },
   {
    "duration": 6,
    "start_time": "2023-06-09T22:33:00.008Z"
   },
   {
    "duration": 33,
    "start_time": "2023-06-09T22:33:00.015Z"
   },
   {
    "duration": 150,
    "start_time": "2023-06-09T22:33:00.049Z"
   },
   {
    "duration": 16,
    "start_time": "2023-06-09T22:33:00.200Z"
   },
   {
    "duration": 54,
    "start_time": "2023-06-09T22:33:00.218Z"
   },
   {
    "duration": 20,
    "start_time": "2023-06-09T22:33:00.274Z"
   },
   {
    "duration": 43,
    "start_time": "2023-06-09T22:33:00.296Z"
   },
   {
    "duration": 58,
    "start_time": "2023-06-09T22:33:00.341Z"
   },
   {
    "duration": 65,
    "start_time": "2023-06-09T22:33:00.401Z"
   },
   {
    "duration": 543,
    "start_time": "2023-06-09T22:33:00.468Z"
   },
   {
    "duration": 7,
    "start_time": "2023-06-09T22:33:01.012Z"
   },
   {
    "duration": 448,
    "start_time": "2023-06-09T22:33:01.021Z"
   },
   {
    "duration": 6,
    "start_time": "2023-06-09T22:33:01.470Z"
   },
   {
    "duration": 35,
    "start_time": "2023-06-09T22:33:01.477Z"
   },
   {
    "duration": 27,
    "start_time": "2023-06-09T22:33:01.513Z"
   },
   {
    "duration": 36,
    "start_time": "2023-06-09T22:33:01.541Z"
   },
   {
    "duration": 52,
    "start_time": "2023-06-09T22:33:01.579Z"
   },
   {
    "duration": 30,
    "start_time": "2023-06-09T22:33:01.632Z"
   },
   {
    "duration": 36,
    "start_time": "2023-06-09T22:33:01.663Z"
   },
   {
    "duration": 368,
    "start_time": "2023-06-09T22:33:01.700Z"
   },
   {
    "duration": 225,
    "start_time": "2023-06-09T22:33:02.070Z"
   },
   {
    "duration": 11,
    "start_time": "2023-06-09T22:33:02.297Z"
   },
   {
    "duration": 37,
    "start_time": "2023-06-09T22:33:02.309Z"
   },
   {
    "duration": 46,
    "start_time": "2023-06-09T22:33:02.347Z"
   },
   {
    "duration": 31,
    "start_time": "2023-06-09T22:33:02.396Z"
   },
   {
    "duration": 23,
    "start_time": "2023-06-09T22:33:02.429Z"
   },
   {
    "duration": 1541,
    "start_time": "2023-06-09T22:33:02.453Z"
   },
   {
    "duration": 3,
    "start_time": "2023-06-09T22:33:03.995Z"
   },
   {
    "duration": 134,
    "start_time": "2023-06-09T22:33:03.999Z"
   },
   {
    "duration": 1600,
    "start_time": "2023-06-09T22:33:14.225Z"
   },
   {
    "duration": 354,
    "start_time": "2023-06-09T22:33:17.845Z"
   },
   {
    "duration": 1509,
    "start_time": "2023-06-09T22:33:38.313Z"
   },
   {
    "duration": 1843,
    "start_time": "2023-06-09T22:33:51.512Z"
   },
   {
    "duration": 3,
    "start_time": "2023-06-09T22:33:59.315Z"
   },
   {
    "duration": 126,
    "start_time": "2023-06-09T22:33:59.771Z"
   }
  ],
  "kernelspec": {
   "display_name": "Python 3 (ipykernel)",
   "language": "python",
   "name": "python3"
  },
  "language_info": {
   "codemirror_mode": {
    "name": "ipython",
    "version": 3
   },
   "file_extension": ".py",
   "mimetype": "text/x-python",
   "name": "python",
   "nbconvert_exporter": "python",
   "pygments_lexer": "ipython3",
   "version": "3.9.5"
  },
  "toc": {
   "base_numbering": 1,
   "nav_menu": {},
   "number_sections": true,
   "sideBar": true,
   "skip_h1_title": true,
   "title_cell": "Table of Contents",
   "title_sidebar": "Contents",
   "toc_cell": false,
   "toc_position": {
    "height": "calc(100% - 180px)",
    "left": "10px",
    "top": "150px",
    "width": "371px"
   },
   "toc_section_display": true,
   "toc_window_display": true
  }
 },
 "nbformat": 4,
 "nbformat_minor": 5
}
