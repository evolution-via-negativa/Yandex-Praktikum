{
 "cells": [
  {
   "cell_type": "markdown",
   "id": "23ccc102",
   "metadata": {
    "deletable": false,
    "editable": false,
    "id": "c81daeeb"
   },
   "source": [
    "# Исследование надежности заемщиков"
   ]
  },
  {
   "cell_type": "markdown",
   "id": "769e9dd4",
   "metadata": {
    "deletable": false,
    "editable": false,
    "id": "-G3EJWzf62s6"
   },
   "source": [
    "Это первая часть проекта, она будет проверена автоматически. Вторую часть проверит ревьюер. "
   ]
  },
  {
   "cell_type": "markdown",
   "id": "97288a5c",
   "metadata": {
    "deletable": false,
    "editable": false,
    "id": "744d7639"
   },
   "source": [
    "## Откройте таблицу и изучите общую информацию о данных"
   ]
  },
  {
   "cell_type": "markdown",
   "id": "5779243e",
   "metadata": {
    "deletable": false,
    "editable": false,
    "id": "e7a14c31",
    "tags": [
     "start_task"
    ]
   },
   "source": [
    "**Задание 1. Импортируйте библиотеку pandas. Считайте данные из csv-файла в датафрейм и сохраните в переменную `data`. Путь к файлу:**\n",
    "\n",
    "`/datasets/data.csv`"
   ]
  },
  {
   "cell_type": "code",
   "execution_count": 23,
   "id": "f945123f",
   "metadata": {
    "id": "7bcf75c9"
   },
   "outputs": [],
   "source": [
    "# импортируйте библиотеку pandas\n",
    "import pandas as pd "
   ]
  },
  {
   "cell_type": "code",
   "execution_count": 24,
   "id": "8fcaacdd",
   "metadata": {
    "id": "4d240ee2"
   },
   "outputs": [],
   "source": [
    "# прочитайте csv-файл\n",
    "try:\n",
    "    data = pd.read_csv('/datasets/data.csv')\n",
    "except:\n",
    "    data = pd.read_csv('https://code.s3.yandex.net/datasets/data.csv')"
   ]
  },
  {
   "cell_type": "markdown",
   "id": "1a41cc03",
   "metadata": {
    "deletable": false,
    "editable": false,
    "id": "b8038fe3",
    "tags": [
     "start_task"
    ]
   },
   "source": [
    "**Задание 2. Выведите первые 20 строчек датафрейма `data` на экран.**"
   ]
  },
  {
   "cell_type": "code",
   "execution_count": 25,
   "id": "d803eaa0",
   "metadata": {
    "id": "2a7cab99"
   },
   "outputs": [
    {
     "data": {
      "text/html": [
       "<div>\n",
       "<style scoped>\n",
       "    .dataframe tbody tr th:only-of-type {\n",
       "        vertical-align: middle;\n",
       "    }\n",
       "\n",
       "    .dataframe tbody tr th {\n",
       "        vertical-align: top;\n",
       "    }\n",
       "\n",
       "    .dataframe thead th {\n",
       "        text-align: right;\n",
       "    }\n",
       "</style>\n",
       "<table border=\"1\" class=\"dataframe\">\n",
       "  <thead>\n",
       "    <tr style=\"text-align: right;\">\n",
       "      <th></th>\n",
       "      <th>children</th>\n",
       "      <th>days_employed</th>\n",
       "      <th>dob_years</th>\n",
       "      <th>education</th>\n",
       "      <th>education_id</th>\n",
       "      <th>family_status</th>\n",
       "      <th>family_status_id</th>\n",
       "      <th>gender</th>\n",
       "      <th>income_type</th>\n",
       "      <th>debt</th>\n",
       "      <th>total_income</th>\n",
       "      <th>purpose</th>\n",
       "    </tr>\n",
       "  </thead>\n",
       "  <tbody>\n",
       "    <tr>\n",
       "      <th>0</th>\n",
       "      <td>1</td>\n",
       "      <td>-8437.673028</td>\n",
       "      <td>42</td>\n",
       "      <td>высшее</td>\n",
       "      <td>0</td>\n",
       "      <td>женат / замужем</td>\n",
       "      <td>0</td>\n",
       "      <td>F</td>\n",
       "      <td>сотрудник</td>\n",
       "      <td>0</td>\n",
       "      <td>253875.639453</td>\n",
       "      <td>покупка жилья</td>\n",
       "    </tr>\n",
       "    <tr>\n",
       "      <th>1</th>\n",
       "      <td>1</td>\n",
       "      <td>-4024.803754</td>\n",
       "      <td>36</td>\n",
       "      <td>среднее</td>\n",
       "      <td>1</td>\n",
       "      <td>женат / замужем</td>\n",
       "      <td>0</td>\n",
       "      <td>F</td>\n",
       "      <td>сотрудник</td>\n",
       "      <td>0</td>\n",
       "      <td>112080.014102</td>\n",
       "      <td>приобретение автомобиля</td>\n",
       "    </tr>\n",
       "    <tr>\n",
       "      <th>2</th>\n",
       "      <td>0</td>\n",
       "      <td>-5623.422610</td>\n",
       "      <td>33</td>\n",
       "      <td>Среднее</td>\n",
       "      <td>1</td>\n",
       "      <td>женат / замужем</td>\n",
       "      <td>0</td>\n",
       "      <td>M</td>\n",
       "      <td>сотрудник</td>\n",
       "      <td>0</td>\n",
       "      <td>145885.952297</td>\n",
       "      <td>покупка жилья</td>\n",
       "    </tr>\n",
       "    <tr>\n",
       "      <th>3</th>\n",
       "      <td>3</td>\n",
       "      <td>-4124.747207</td>\n",
       "      <td>32</td>\n",
       "      <td>среднее</td>\n",
       "      <td>1</td>\n",
       "      <td>женат / замужем</td>\n",
       "      <td>0</td>\n",
       "      <td>M</td>\n",
       "      <td>сотрудник</td>\n",
       "      <td>0</td>\n",
       "      <td>267628.550329</td>\n",
       "      <td>дополнительное образование</td>\n",
       "    </tr>\n",
       "    <tr>\n",
       "      <th>4</th>\n",
       "      <td>0</td>\n",
       "      <td>340266.072047</td>\n",
       "      <td>53</td>\n",
       "      <td>среднее</td>\n",
       "      <td>1</td>\n",
       "      <td>гражданский брак</td>\n",
       "      <td>1</td>\n",
       "      <td>F</td>\n",
       "      <td>пенсионер</td>\n",
       "      <td>0</td>\n",
       "      <td>158616.077870</td>\n",
       "      <td>сыграть свадьбу</td>\n",
       "    </tr>\n",
       "    <tr>\n",
       "      <th>5</th>\n",
       "      <td>0</td>\n",
       "      <td>-926.185831</td>\n",
       "      <td>27</td>\n",
       "      <td>высшее</td>\n",
       "      <td>0</td>\n",
       "      <td>гражданский брак</td>\n",
       "      <td>1</td>\n",
       "      <td>M</td>\n",
       "      <td>компаньон</td>\n",
       "      <td>0</td>\n",
       "      <td>255763.565419</td>\n",
       "      <td>покупка жилья</td>\n",
       "    </tr>\n",
       "    <tr>\n",
       "      <th>6</th>\n",
       "      <td>0</td>\n",
       "      <td>-2879.202052</td>\n",
       "      <td>43</td>\n",
       "      <td>высшее</td>\n",
       "      <td>0</td>\n",
       "      <td>женат / замужем</td>\n",
       "      <td>0</td>\n",
       "      <td>F</td>\n",
       "      <td>компаньон</td>\n",
       "      <td>0</td>\n",
       "      <td>240525.971920</td>\n",
       "      <td>операции с жильем</td>\n",
       "    </tr>\n",
       "    <tr>\n",
       "      <th>7</th>\n",
       "      <td>0</td>\n",
       "      <td>-152.779569</td>\n",
       "      <td>50</td>\n",
       "      <td>СРЕДНЕЕ</td>\n",
       "      <td>1</td>\n",
       "      <td>женат / замужем</td>\n",
       "      <td>0</td>\n",
       "      <td>M</td>\n",
       "      <td>сотрудник</td>\n",
       "      <td>0</td>\n",
       "      <td>135823.934197</td>\n",
       "      <td>образование</td>\n",
       "    </tr>\n",
       "    <tr>\n",
       "      <th>8</th>\n",
       "      <td>2</td>\n",
       "      <td>-6929.865299</td>\n",
       "      <td>35</td>\n",
       "      <td>ВЫСШЕЕ</td>\n",
       "      <td>0</td>\n",
       "      <td>гражданский брак</td>\n",
       "      <td>1</td>\n",
       "      <td>F</td>\n",
       "      <td>сотрудник</td>\n",
       "      <td>0</td>\n",
       "      <td>95856.832424</td>\n",
       "      <td>на проведение свадьбы</td>\n",
       "    </tr>\n",
       "    <tr>\n",
       "      <th>9</th>\n",
       "      <td>0</td>\n",
       "      <td>-2188.756445</td>\n",
       "      <td>41</td>\n",
       "      <td>среднее</td>\n",
       "      <td>1</td>\n",
       "      <td>женат / замужем</td>\n",
       "      <td>0</td>\n",
       "      <td>M</td>\n",
       "      <td>сотрудник</td>\n",
       "      <td>0</td>\n",
       "      <td>144425.938277</td>\n",
       "      <td>покупка жилья для семьи</td>\n",
       "    </tr>\n",
       "    <tr>\n",
       "      <th>10</th>\n",
       "      <td>2</td>\n",
       "      <td>-4171.483647</td>\n",
       "      <td>36</td>\n",
       "      <td>высшее</td>\n",
       "      <td>0</td>\n",
       "      <td>женат / замужем</td>\n",
       "      <td>0</td>\n",
       "      <td>M</td>\n",
       "      <td>компаньон</td>\n",
       "      <td>0</td>\n",
       "      <td>113943.491460</td>\n",
       "      <td>покупка недвижимости</td>\n",
       "    </tr>\n",
       "    <tr>\n",
       "      <th>11</th>\n",
       "      <td>0</td>\n",
       "      <td>-792.701887</td>\n",
       "      <td>40</td>\n",
       "      <td>среднее</td>\n",
       "      <td>1</td>\n",
       "      <td>женат / замужем</td>\n",
       "      <td>0</td>\n",
       "      <td>F</td>\n",
       "      <td>сотрудник</td>\n",
       "      <td>0</td>\n",
       "      <td>77069.234271</td>\n",
       "      <td>покупка коммерческой недвижимости</td>\n",
       "    </tr>\n",
       "    <tr>\n",
       "      <th>12</th>\n",
       "      <td>0</td>\n",
       "      <td>NaN</td>\n",
       "      <td>65</td>\n",
       "      <td>среднее</td>\n",
       "      <td>1</td>\n",
       "      <td>гражданский брак</td>\n",
       "      <td>1</td>\n",
       "      <td>M</td>\n",
       "      <td>пенсионер</td>\n",
       "      <td>0</td>\n",
       "      <td>NaN</td>\n",
       "      <td>сыграть свадьбу</td>\n",
       "    </tr>\n",
       "    <tr>\n",
       "      <th>13</th>\n",
       "      <td>0</td>\n",
       "      <td>-1846.641941</td>\n",
       "      <td>54</td>\n",
       "      <td>неоконченное высшее</td>\n",
       "      <td>2</td>\n",
       "      <td>женат / замужем</td>\n",
       "      <td>0</td>\n",
       "      <td>F</td>\n",
       "      <td>сотрудник</td>\n",
       "      <td>0</td>\n",
       "      <td>130458.228857</td>\n",
       "      <td>приобретение автомобиля</td>\n",
       "    </tr>\n",
       "    <tr>\n",
       "      <th>14</th>\n",
       "      <td>0</td>\n",
       "      <td>-1844.956182</td>\n",
       "      <td>56</td>\n",
       "      <td>высшее</td>\n",
       "      <td>0</td>\n",
       "      <td>гражданский брак</td>\n",
       "      <td>1</td>\n",
       "      <td>F</td>\n",
       "      <td>компаньон</td>\n",
       "      <td>1</td>\n",
       "      <td>165127.911772</td>\n",
       "      <td>покупка жилой недвижимости</td>\n",
       "    </tr>\n",
       "    <tr>\n",
       "      <th>15</th>\n",
       "      <td>1</td>\n",
       "      <td>-972.364419</td>\n",
       "      <td>26</td>\n",
       "      <td>среднее</td>\n",
       "      <td>1</td>\n",
       "      <td>женат / замужем</td>\n",
       "      <td>0</td>\n",
       "      <td>F</td>\n",
       "      <td>сотрудник</td>\n",
       "      <td>0</td>\n",
       "      <td>116820.904450</td>\n",
       "      <td>строительство собственной недвижимости</td>\n",
       "    </tr>\n",
       "    <tr>\n",
       "      <th>16</th>\n",
       "      <td>0</td>\n",
       "      <td>-1719.934226</td>\n",
       "      <td>35</td>\n",
       "      <td>среднее</td>\n",
       "      <td>1</td>\n",
       "      <td>женат / замужем</td>\n",
       "      <td>0</td>\n",
       "      <td>F</td>\n",
       "      <td>сотрудник</td>\n",
       "      <td>0</td>\n",
       "      <td>289202.704229</td>\n",
       "      <td>недвижимость</td>\n",
       "    </tr>\n",
       "    <tr>\n",
       "      <th>17</th>\n",
       "      <td>0</td>\n",
       "      <td>-2369.999720</td>\n",
       "      <td>33</td>\n",
       "      <td>высшее</td>\n",
       "      <td>0</td>\n",
       "      <td>гражданский брак</td>\n",
       "      <td>1</td>\n",
       "      <td>M</td>\n",
       "      <td>сотрудник</td>\n",
       "      <td>0</td>\n",
       "      <td>90410.586745</td>\n",
       "      <td>строительство недвижимости</td>\n",
       "    </tr>\n",
       "    <tr>\n",
       "      <th>18</th>\n",
       "      <td>0</td>\n",
       "      <td>400281.136913</td>\n",
       "      <td>53</td>\n",
       "      <td>среднее</td>\n",
       "      <td>1</td>\n",
       "      <td>вдовец / вдова</td>\n",
       "      <td>2</td>\n",
       "      <td>F</td>\n",
       "      <td>пенсионер</td>\n",
       "      <td>0</td>\n",
       "      <td>56823.777243</td>\n",
       "      <td>на покупку подержанного автомобиля</td>\n",
       "    </tr>\n",
       "    <tr>\n",
       "      <th>19</th>\n",
       "      <td>0</td>\n",
       "      <td>-10038.818549</td>\n",
       "      <td>48</td>\n",
       "      <td>СРЕДНЕЕ</td>\n",
       "      <td>1</td>\n",
       "      <td>в разводе</td>\n",
       "      <td>3</td>\n",
       "      <td>F</td>\n",
       "      <td>сотрудник</td>\n",
       "      <td>0</td>\n",
       "      <td>242831.107982</td>\n",
       "      <td>на покупку своего автомобиля</td>\n",
       "    </tr>\n",
       "  </tbody>\n",
       "</table>\n",
       "</div>"
      ],
      "text/plain": [
       "    children  days_employed  dob_years            education  education_id  \\\n",
       "0          1   -8437.673028         42               высшее             0   \n",
       "1          1   -4024.803754         36              среднее             1   \n",
       "2          0   -5623.422610         33              Среднее             1   \n",
       "3          3   -4124.747207         32              среднее             1   \n",
       "4          0  340266.072047         53              среднее             1   \n",
       "5          0    -926.185831         27               высшее             0   \n",
       "6          0   -2879.202052         43               высшее             0   \n",
       "7          0    -152.779569         50              СРЕДНЕЕ             1   \n",
       "8          2   -6929.865299         35               ВЫСШЕЕ             0   \n",
       "9          0   -2188.756445         41              среднее             1   \n",
       "10         2   -4171.483647         36               высшее             0   \n",
       "11         0    -792.701887         40              среднее             1   \n",
       "12         0            NaN         65              среднее             1   \n",
       "13         0   -1846.641941         54  неоконченное высшее             2   \n",
       "14         0   -1844.956182         56               высшее             0   \n",
       "15         1    -972.364419         26              среднее             1   \n",
       "16         0   -1719.934226         35              среднее             1   \n",
       "17         0   -2369.999720         33               высшее             0   \n",
       "18         0  400281.136913         53              среднее             1   \n",
       "19         0  -10038.818549         48              СРЕДНЕЕ             1   \n",
       "\n",
       "       family_status  family_status_id gender income_type  debt  \\\n",
       "0    женат / замужем                 0      F   сотрудник     0   \n",
       "1    женат / замужем                 0      F   сотрудник     0   \n",
       "2    женат / замужем                 0      M   сотрудник     0   \n",
       "3    женат / замужем                 0      M   сотрудник     0   \n",
       "4   гражданский брак                 1      F   пенсионер     0   \n",
       "5   гражданский брак                 1      M   компаньон     0   \n",
       "6    женат / замужем                 0      F   компаньон     0   \n",
       "7    женат / замужем                 0      M   сотрудник     0   \n",
       "8   гражданский брак                 1      F   сотрудник     0   \n",
       "9    женат / замужем                 0      M   сотрудник     0   \n",
       "10   женат / замужем                 0      M   компаньон     0   \n",
       "11   женат / замужем                 0      F   сотрудник     0   \n",
       "12  гражданский брак                 1      M   пенсионер     0   \n",
       "13   женат / замужем                 0      F   сотрудник     0   \n",
       "14  гражданский брак                 1      F   компаньон     1   \n",
       "15   женат / замужем                 0      F   сотрудник     0   \n",
       "16   женат / замужем                 0      F   сотрудник     0   \n",
       "17  гражданский брак                 1      M   сотрудник     0   \n",
       "18    вдовец / вдова                 2      F   пенсионер     0   \n",
       "19         в разводе                 3      F   сотрудник     0   \n",
       "\n",
       "     total_income                                 purpose  \n",
       "0   253875.639453                           покупка жилья  \n",
       "1   112080.014102                 приобретение автомобиля  \n",
       "2   145885.952297                           покупка жилья  \n",
       "3   267628.550329              дополнительное образование  \n",
       "4   158616.077870                         сыграть свадьбу  \n",
       "5   255763.565419                           покупка жилья  \n",
       "6   240525.971920                       операции с жильем  \n",
       "7   135823.934197                             образование  \n",
       "8    95856.832424                   на проведение свадьбы  \n",
       "9   144425.938277                 покупка жилья для семьи  \n",
       "10  113943.491460                    покупка недвижимости  \n",
       "11   77069.234271       покупка коммерческой недвижимости  \n",
       "12            NaN                         сыграть свадьбу  \n",
       "13  130458.228857                 приобретение автомобиля  \n",
       "14  165127.911772              покупка жилой недвижимости  \n",
       "15  116820.904450  строительство собственной недвижимости  \n",
       "16  289202.704229                            недвижимость  \n",
       "17   90410.586745              строительство недвижимости  \n",
       "18   56823.777243      на покупку подержанного автомобиля  \n",
       "19  242831.107982            на покупку своего автомобиля  "
      ]
     },
     "execution_count": 25,
     "metadata": {},
     "output_type": "execute_result"
    }
   ],
   "source": [
    "# ваш код здесь\n",
    "data.head(20)"
   ]
  },
  {
   "cell_type": "markdown",
   "id": "8273d150",
   "metadata": {
    "deletable": false,
    "editable": false,
    "id": "1c12e233",
    "tags": [
     "start_task"
    ]
   },
   "source": [
    "**Задание 3. Выведите основную информацию о датафрейме с помощью метода `info()`.**"
   ]
  },
  {
   "cell_type": "code",
   "execution_count": 26,
   "id": "5d9a9808",
   "metadata": {
    "id": "2b757bca"
   },
   "outputs": [
    {
     "name": "stdout",
     "output_type": "stream",
     "text": [
      "<class 'pandas.core.frame.DataFrame'>\n",
      "RangeIndex: 21525 entries, 0 to 21524\n",
      "Data columns (total 12 columns):\n",
      " #   Column            Non-Null Count  Dtype  \n",
      "---  ------            --------------  -----  \n",
      " 0   children          21525 non-null  int64  \n",
      " 1   days_employed     19351 non-null  float64\n",
      " 2   dob_years         21525 non-null  int64  \n",
      " 3   education         21525 non-null  object \n",
      " 4   education_id      21525 non-null  int64  \n",
      " 5   family_status     21525 non-null  object \n",
      " 6   family_status_id  21525 non-null  int64  \n",
      " 7   gender            21525 non-null  object \n",
      " 8   income_type       21525 non-null  object \n",
      " 9   debt              21525 non-null  int64  \n",
      " 10  total_income      19351 non-null  float64\n",
      " 11  purpose           21525 non-null  object \n",
      "dtypes: float64(2), int64(5), object(5)\n",
      "memory usage: 2.0+ MB\n"
     ]
    }
   ],
   "source": [
    "# ваш код здесь\n",
    "data.info()"
   ]
  },
  {
   "cell_type": "markdown",
   "id": "1de031d3",
   "metadata": {
    "deletable": false,
    "editable": false,
    "id": "333ec665"
   },
   "source": [
    "## Предобработка данных"
   ]
  },
  {
   "cell_type": "markdown",
   "id": "5f62de02",
   "metadata": {
    "deletable": false,
    "editable": false,
    "id": "02d92d53"
   },
   "source": [
    "### Удаление пропусков"
   ]
  },
  {
   "cell_type": "markdown",
   "id": "22a1162e",
   "metadata": {
    "deletable": false,
    "editable": false,
    "id": "cd84967c",
    "tags": [
     "start_task"
    ]
   },
   "source": [
    "**Задание 4. Выведите количество пропущенных значений для каждого столбца. Используйте комбинацию двух методов.**"
   ]
  },
  {
   "cell_type": "code",
   "execution_count": 27,
   "id": "41fde76b",
   "metadata": {
    "id": "7f9b2309"
   },
   "outputs": [
    {
     "name": "stdout",
     "output_type": "stream",
     "text": [
      "children               0\n",
      "days_employed       2174\n",
      "dob_years              0\n",
      "education              0\n",
      "education_id           0\n",
      "family_status          0\n",
      "family_status_id       0\n",
      "gender                 0\n",
      "income_type            0\n",
      "debt                   0\n",
      "total_income        2174\n",
      "purpose                0\n",
      "dtype: int64\n"
     ]
    }
   ],
   "source": [
    "# ваш код здесь\n",
    "print(data.isna().sum())"
   ]
  },
  {
   "cell_type": "markdown",
   "id": "14d5eb35",
   "metadata": {
    "deletable": false,
    "editable": false,
    "id": "db86e27b",
    "tags": [
     "start_task"
    ]
   },
   "source": [
    "**Задание 5. В двух столбцах есть пропущенные значения. Один из них — `days_employed`. Пропуски в этом столбце вы обработаете на следующем этапе. Другой столбец с пропущенными значениями — `total_income` — хранит данные о доходах. На сумму дохода сильнее всего влияет тип занятости, поэтому заполнить пропуски в этом столбце нужно медианным значением по каждому типу из столбца `income_type`. Например, у человека с типом занятости `сотрудник` пропуск в столбце `total_income` должен быть заполнен медианным доходом среди всех записей с тем же типом.**"
   ]
  },
  {
   "cell_type": "code",
   "execution_count": 28,
   "id": "57fd71d5",
   "metadata": {
    "id": "42006a93"
   },
   "outputs": [],
   "source": [
    "# ваш код здесь\n",
    "for i in data['income_type'].unique():\n",
    "    data.loc[(data['income_type'] == i) & (data['total_income'].isna()), 'total_income'] = \\\n",
    "    data.loc[(data['income_type'] == i), 'total_income'].median() "
   ]
  },
  {
   "cell_type": "markdown",
   "id": "b100fc70",
   "metadata": {
    "deletable": false,
    "editable": false,
    "id": "89da5ece"
   },
   "source": [
    "### Обработка аномальных значений"
   ]
  },
  {
   "cell_type": "markdown",
   "id": "0b7cfaa8",
   "metadata": {
    "deletable": false,
    "editable": false,
    "id": "57964554",
    "tags": [
     "start_task"
    ]
   },
   "source": [
    "**Задание 6. В данных могут встречаться артефакты (аномалии) — значения, которые не отражают действительность и появились по какой-то ошибке. Таким артефактом будет отрицательное количество дней трудового стажа в столбце `days_employed`. Для реальных данных это нормально. Обработайте значения в этом столбце: замените все отрицательные значения положительными с помощью метода `abs()`.**"
   ]
  },
  {
   "cell_type": "code",
   "execution_count": 29,
   "id": "5dd7a3a0",
   "metadata": {
    "id": "f6f055bf"
   },
   "outputs": [],
   "source": [
    "# ваш код здесь\n",
    "data['days_employed'] = data['days_employed'].abs()"
   ]
  },
  {
   "cell_type": "markdown",
   "id": "de3fdae3",
   "metadata": {
    "deletable": false,
    "editable": false,
    "id": "6107dd2f",
    "tags": [
     "start_task"
    ]
   },
   "source": [
    "**Задание 7. Для каждого типа занятости выведите медианное значение трудового стажа `days_employed` в днях.**"
   ]
  },
  {
   "cell_type": "code",
   "execution_count": 30,
   "id": "45371f84",
   "metadata": {
    "id": "85a5faf6"
   },
   "outputs": [
    {
     "data": {
      "text/plain": [
       "income_type\n",
       "безработный        366413.652744\n",
       "в декрете            3296.759962\n",
       "госслужащий          2689.368353\n",
       "компаньон            1547.382223\n",
       "пенсионер          365213.306266\n",
       "предприниматель       520.848083\n",
       "сотрудник            1574.202821\n",
       "студент               578.751554\n",
       "Name: days_employed, dtype: float64"
      ]
     },
     "execution_count": 30,
     "metadata": {},
     "output_type": "execute_result"
    }
   ],
   "source": [
    "# ваш код здесь\n",
    "data.groupby('income_type')['days_employed'].median()"
   ]
  },
  {
   "cell_type": "markdown",
   "id": "e150439a",
   "metadata": {
    "deletable": false,
    "editable": false,
    "id": "38d1a030"
   },
   "source": [
    "У двух типов (безработные и пенсионеры) получатся аномально большие значения. Исправить такие значения сложно, поэтому оставьте их как есть. Тем более этот столбец не понадобится вам для исследования."
   ]
  },
  {
   "cell_type": "markdown",
   "id": "cf5c08c9",
   "metadata": {
    "deletable": false,
    "editable": false,
    "id": "d8a9f147",
    "tags": [
     "start_task"
    ]
   },
   "source": [
    "**Задание 8. Выведите перечень уникальных значений столбца `children`.**"
   ]
  },
  {
   "cell_type": "code",
   "execution_count": 31,
   "id": "bff7eca0",
   "metadata": {
    "id": "ef5056eb"
   },
   "outputs": [
    {
     "data": {
      "text/plain": [
       "array([ 1,  0,  3,  2, -1,  4, 20,  5])"
      ]
     },
     "execution_count": 31,
     "metadata": {},
     "output_type": "execute_result"
    }
   ],
   "source": [
    "# ваш код здесь\n",
    "data['children'].unique()"
   ]
  },
  {
   "cell_type": "markdown",
   "id": "d6cf6d4a",
   "metadata": {
    "deletable": false,
    "editable": false,
    "id": "40b9ebf2",
    "tags": [
     "start_task"
    ]
   },
   "source": [
    "**Задание 9. В столбце `children` есть два аномальных значения. Удалите строки, в которых встречаются такие аномальные значения из датафрейма `data`.**"
   ]
  },
  {
   "cell_type": "code",
   "execution_count": 45,
   "id": "5ef3e439",
   "metadata": {
    "id": "3ff9801d"
   },
   "outputs": [],
   "source": [
    "# ваш код здесь\n",
    "data = data[~data['children'].isin([-1, 20])]"
   ]
  },
  {
   "cell_type": "markdown",
   "id": "6d1b7b74",
   "metadata": {
    "deletable": false,
    "editable": false,
    "id": "bbc4d0ce",
    "tags": [
     "start_task"
    ]
   },
   "source": [
    "**Задание 10. Ещё раз выведите перечень уникальных значений столбца `children`, чтобы убедиться, что артефакты удалены.**"
   ]
  },
  {
   "cell_type": "code",
   "execution_count": 46,
   "id": "0143363a",
   "metadata": {
    "id": "ad4fa8b7"
   },
   "outputs": [
    {
     "data": {
      "text/plain": [
       "array([1, 0, 3, 2, 4, 5])"
      ]
     },
     "execution_count": 46,
     "metadata": {},
     "output_type": "execute_result"
    }
   ],
   "source": [
    "# ваш код здесь\n",
    "data['children'].unique()"
   ]
  },
  {
   "cell_type": "markdown",
   "id": "a49dc7af",
   "metadata": {
    "deletable": false,
    "editable": false,
    "id": "75440b63"
   },
   "source": [
    "### Удаление пропусков (продолжение)"
   ]
  },
  {
   "cell_type": "markdown",
   "id": "4ac069d7",
   "metadata": {
    "deletable": false,
    "editable": false,
    "id": "f4ea573f",
    "tags": [
     "start_task"
    ]
   },
   "source": [
    "**Задание 11. Заполните пропуски в столбце `days_employed` медианными значениями по каждому типу занятости `income_type`.**"
   ]
  },
  {
   "cell_type": "code",
   "execution_count": 47,
   "id": "76c0a206",
   "metadata": {
    "id": "af6b1a7e"
   },
   "outputs": [],
   "source": [
    "# ваш код здесь\n",
    "for i in data['income_type'].unique():\n",
    "    data.loc[(data['income_type'] == i) & (data['days_employed'].isna()), 'days_employed'] = \\\n",
    "    data.loc[(data['income_type'] == i), 'days_employed'].median()"
   ]
  },
  {
   "cell_type": "markdown",
   "id": "4e7ef318",
   "metadata": {
    "deletable": false,
    "editable": false,
    "id": "2753f40d",
    "tags": [
     "start_task"
    ]
   },
   "source": [
    "**Задание 12. Убедитесь, что все пропуски заполнены. Проверьте себя и ещё раз выведите количество пропущенных значений для каждого столбца с помощью двух методов.**"
   ]
  },
  {
   "cell_type": "code",
   "execution_count": 35,
   "id": "9d8c3ebc",
   "metadata": {
    "id": "55f78bc2"
   },
   "outputs": [
    {
     "data": {
      "text/plain": [
       "children            0\n",
       "days_employed       0\n",
       "dob_years           0\n",
       "education           0\n",
       "education_id        0\n",
       "family_status       0\n",
       "family_status_id    0\n",
       "gender              0\n",
       "income_type         0\n",
       "debt                0\n",
       "total_income        0\n",
       "purpose             0\n",
       "dtype: int64"
      ]
     },
     "execution_count": 35,
     "metadata": {},
     "output_type": "execute_result"
    }
   ],
   "source": [
    "# ваш код здесь\n",
    "data.isna().sum()"
   ]
  },
  {
   "cell_type": "markdown",
   "id": "f19c3c2b",
   "metadata": {
    "deletable": false,
    "editable": false,
    "id": "ddc81e43"
   },
   "source": [
    "### Изменение типов данных"
   ]
  },
  {
   "cell_type": "markdown",
   "id": "5d2dfcbd",
   "metadata": {
    "deletable": false,
    "editable": false,
    "id": "42d19d24",
    "tags": [
     "start_task"
    ]
   },
   "source": [
    "**Задание 13. Замените вещественный тип данных в столбце `total_income` на целочисленный с помощью метода `astype()`.**"
   ]
  },
  {
   "cell_type": "code",
   "execution_count": 36,
   "id": "b22aba6e",
   "metadata": {
    "id": "920b65ad"
   },
   "outputs": [],
   "source": [
    "# ваш код здесь\n",
    "data['total_income'] = data['total_income'].astype('int')"
   ]
  },
  {
   "cell_type": "markdown",
   "id": "6785d9f2",
   "metadata": {
    "deletable": false,
    "editable": false,
    "id": "80c420ba"
   },
   "source": [
    "### Обработка дубликатов"
   ]
  },
  {
   "cell_type": "markdown",
   "id": "cceedc22",
   "metadata": {
    "deletable": false,
    "editable": false,
    "id": "dc587695",
    "tags": [
     "start_task"
    ]
   },
   "source": [
    "**Задание 14. Выведите на экран количество строк-дубликатов в данных. Если такие строки присутствуют, удалите их.**"
   ]
  },
  {
   "cell_type": "code",
   "execution_count": 37,
   "id": "0acae8fb",
   "metadata": {
    "id": "3ee445e4"
   },
   "outputs": [
    {
     "data": {
      "text/plain": [
       "54"
      ]
     },
     "execution_count": 37,
     "metadata": {},
     "output_type": "execute_result"
    }
   ],
   "source": [
    "# посчитайте дубликаты\n",
    "data.duplicated().sum()"
   ]
  },
  {
   "cell_type": "code",
   "execution_count": 38,
   "id": "d786d3e9",
   "metadata": {
    "id": "8575fe05"
   },
   "outputs": [],
   "source": [
    "# удалите дубликаты\n",
    "data = data.drop_duplicates()"
   ]
  },
  {
   "cell_type": "markdown",
   "id": "9f155d05",
   "metadata": {
    "deletable": false,
    "editable": false,
    "id": "9771a76c",
    "tags": [
     "start_task"
    ]
   },
   "source": [
    "**Задание 15. Обработайте неявные дубликаты в столбце `education`. В этом столбце есть одни и те же значения, но записанные по-разному: с использованием заглавных и строчных букв. Приведите их к нижнему регистру. Проверьте остальные столбцы.**"
   ]
  },
  {
   "cell_type": "code",
   "execution_count": 39,
   "id": "43ba0e34",
   "metadata": {
    "id": "a9f8e2bf"
   },
   "outputs": [
    {
     "data": {
      "text/plain": [
       "array(['высшее', 'среднее', 'неоконченное высшее', 'начальное',\n",
       "       'ученая степень'], dtype=object)"
      ]
     },
     "execution_count": 39,
     "metadata": {},
     "output_type": "execute_result"
    }
   ],
   "source": [
    "# ваш код здесь\n",
    "data['education'] = data['education'].str.lower()\n",
    "data['education'].unique()"
   ]
  },
  {
   "cell_type": "markdown",
   "id": "c7e06aff",
   "metadata": {
    "deletable": false,
    "editable": false,
    "id": "9904cf55"
   },
   "source": [
    "### Категоризация данных"
   ]
  },
  {
   "cell_type": "markdown",
   "id": "bc30d13b",
   "metadata": {
    "deletable": false,
    "editable": false,
    "id": "72fcc8a2",
    "tags": [
     "start_task"
    ]
   },
   "source": [
    "**Задание 16. На основании диапазонов, указанных ниже, создайте в датафрейме `data` столбец `total_income_category` с категориями:**\n",
    "\n",
    "- 0–30000 — `'E'`;\n",
    "- 30001–50000 — `'D'`;\n",
    "- 50001–200000 — `'C'`;\n",
    "- 200001–1000000 — `'B'`;\n",
    "- 1000001 и выше — `'A'`.\n",
    "\n",
    "\n",
    "**Например, кредитополучателю с доходом 25000 нужно назначить категорию `'E'`, а клиенту, получающему 235000, — `'B'`. Используйте собственную функцию с именем `categorize_income()` и метод `apply()`.**"
   ]
  },
  {
   "cell_type": "code",
   "execution_count": 40,
   "id": "f86f47ad",
   "metadata": {
    "id": "e1771346"
   },
   "outputs": [],
   "source": [
    "# создайте функцию categorize_income()\n",
    "def categorize_income(total_income):\n",
    "    if 0 <= total_income <= 30000:\n",
    "        return 'E'\n",
    "    elif 30001 <= total_income <= 50000:\n",
    "        return 'D'\n",
    "    elif 50001 <= total_income <= 200000:\n",
    "        return 'C'\n",
    "    elif 200001 <= total_income <= 1000000:\n",
    "        return 'B'\n",
    "    elif 1000001 <= total_income:\n",
    "        return 'A'"
   ]
  },
  {
   "cell_type": "code",
   "execution_count": 41,
   "id": "c6395c5b",
   "metadata": {
    "id": "d5f3586d"
   },
   "outputs": [],
   "source": [
    "# примените функцию методом apply()\n",
    "data['total_income_category'] = data['total_income'].apply(categorize_income)"
   ]
  },
  {
   "cell_type": "markdown",
   "id": "b5c5875f",
   "metadata": {
    "deletable": false,
    "editable": false,
    "id": "dde49b5c",
    "tags": [
     "start_task"
    ]
   },
   "source": [
    "**Задание 17. Выведите на экран перечень уникальных целей взятия кредита из столбца `purpose`.**"
   ]
  },
  {
   "cell_type": "code",
   "execution_count": 42,
   "id": "0bd20200",
   "metadata": {
    "id": "f67ce9b3"
   },
   "outputs": [
    {
     "data": {
      "text/plain": [
       "array(['покупка жилья', 'приобретение автомобиля',\n",
       "       'дополнительное образование', 'сыграть свадьбу',\n",
       "       'операции с жильем', 'образование', 'на проведение свадьбы',\n",
       "       'покупка жилья для семьи', 'покупка недвижимости',\n",
       "       'покупка коммерческой недвижимости', 'покупка жилой недвижимости',\n",
       "       'строительство собственной недвижимости', 'недвижимость',\n",
       "       'строительство недвижимости', 'на покупку подержанного автомобиля',\n",
       "       'на покупку своего автомобиля',\n",
       "       'операции с коммерческой недвижимостью',\n",
       "       'строительство жилой недвижимости', 'жилье',\n",
       "       'операции со своей недвижимостью', 'автомобили',\n",
       "       'заняться образованием', 'сделка с подержанным автомобилем',\n",
       "       'получение образования', 'автомобиль', 'свадьба',\n",
       "       'получение дополнительного образования', 'покупка своего жилья',\n",
       "       'операции с недвижимостью', 'получение высшего образования',\n",
       "       'свой автомобиль', 'сделка с автомобилем',\n",
       "       'профильное образование', 'высшее образование',\n",
       "       'покупка жилья для сдачи', 'на покупку автомобиля', 'ремонт жилью',\n",
       "       'заняться высшим образованием'], dtype=object)"
      ]
     },
     "execution_count": 42,
     "metadata": {},
     "output_type": "execute_result"
    }
   ],
   "source": [
    "# ваш код здесь\n",
    "data['purpose'].unique()"
   ]
  },
  {
   "cell_type": "markdown",
   "id": "29a05982",
   "metadata": {
    "deletable": false,
    "editable": false,
    "id": "85d0aef0",
    "tags": [
     "start_task"
    ]
   },
   "source": [
    "**Задание 18. Создайте функцию, которая на основании данных из столбца `purpose` сформирует новый столбец `purpose_category`, в который войдут следующие категории:**\n",
    "\n",
    "- `'операции с автомобилем'`,\n",
    "- `'операции с недвижимостью'`,\n",
    "- `'проведение свадьбы'`,\n",
    "- `'получение образования'`.\n",
    "\n",
    "**Например, если в столбце `purpose` находится подстрока `'на покупку автомобиля'`, то в столбце `purpose_category` должна появиться строка `'операции с автомобилем'`.**\n",
    "\n",
    "**Используйте собственную функцию с именем `categorize_purpose()` и метод `apply()`. Изучите данные в столбце `purpose` и определите, какие подстроки помогут вам правильно определить категорию.**"
   ]
  },
  {
   "cell_type": "code",
   "execution_count": 43,
   "id": "feac5dc2",
   "metadata": {
    "id": "e149fab4"
   },
   "outputs": [],
   "source": [
    "# создайте функцию categorize_purpose()\n",
    "def categorize_purpose(purpose):\n",
    "    if 'авто' in purpose:\n",
    "        return 'операции с автомобилем'\n",
    "    elif 'свадьб' in purpose:\n",
    "        return 'проведение свадьбы'\n",
    "    elif 'образовани' in purpose:\n",
    "        return 'получение образования'\n",
    "    else:\n",
    "        return 'операции с недвижимостью'"
   ]
  },
  {
   "cell_type": "code",
   "execution_count": 44,
   "id": "e4ca0df6",
   "metadata": {
    "id": "bf36e69b"
   },
   "outputs": [],
   "source": [
    "# примените функцию методом apply()\n",
    "data['purpose_category'] = data['purpose'].apply(categorize_purpose)"
   ]
  }
 ],
 "metadata": {
  "ExecuteTimeLog": [
   {
    "duration": 424,
    "start_time": "2022-07-19T19:51:18.771Z"
   },
   {
    "duration": 316,
    "start_time": "2022-07-19T19:51:19.790Z"
   },
   {
    "duration": 24,
    "start_time": "2022-07-19T19:51:56.328Z"
   },
   {
    "duration": 21,
    "start_time": "2022-07-19T19:52:10.440Z"
   },
   {
    "duration": 17,
    "start_time": "2022-07-19T19:53:49.613Z"
   },
   {
    "duration": 12,
    "start_time": "2022-07-19T19:55:30.050Z"
   },
   {
    "duration": 11,
    "start_time": "2022-07-19T19:55:38.804Z"
   },
   {
    "duration": 55,
    "start_time": "2022-07-19T20:06:46.128Z"
   },
   {
    "duration": 5,
    "start_time": "2022-07-19T20:06:49.323Z"
   },
   {
    "duration": 10,
    "start_time": "2022-07-19T20:06:54.256Z"
   },
   {
    "duration": 7,
    "start_time": "2022-07-19T20:07:19.392Z"
   },
   {
    "duration": 52,
    "start_time": "2022-07-19T20:07:44.284Z"
   },
   {
    "duration": 13,
    "start_time": "2022-07-19T20:07:49.329Z"
   },
   {
    "duration": 17,
    "start_time": "2022-07-19T20:07:53.105Z"
   },
   {
    "duration": 7,
    "start_time": "2022-07-19T20:08:36.350Z"
   },
   {
    "duration": 14,
    "start_time": "2022-07-19T20:09:28.428Z"
   },
   {
    "duration": 13,
    "start_time": "2022-07-19T20:09:31.451Z"
   },
   {
    "duration": 129,
    "start_time": "2022-07-19T20:09:35.636Z"
   },
   {
    "duration": 15,
    "start_time": "2022-07-19T20:09:37.155Z"
   },
   {
    "duration": 15,
    "start_time": "2022-07-19T20:10:49.315Z"
   },
   {
    "duration": 31,
    "start_time": "2022-07-19T20:13:22.356Z"
   },
   {
    "duration": 425,
    "start_time": "2022-07-19T20:16:35.541Z"
   },
   {
    "duration": 77,
    "start_time": "2022-07-19T20:16:35.968Z"
   },
   {
    "duration": 31,
    "start_time": "2022-07-19T20:16:39.224Z"
   },
   {
    "duration": 24,
    "start_time": "2022-07-19T20:16:40.570Z"
   },
   {
    "duration": 16,
    "start_time": "2022-07-19T20:16:42.523Z"
   },
   {
    "duration": 8,
    "start_time": "2022-07-19T20:17:22.079Z"
   },
   {
    "duration": 6,
    "start_time": "2022-07-19T20:17:53.302Z"
   },
   {
    "duration": 8,
    "start_time": "2022-07-19T20:18:21.678Z"
   },
   {
    "duration": 64,
    "start_time": "2022-07-19T20:19:00.094Z"
   },
   {
    "duration": 12,
    "start_time": "2022-07-19T20:19:03.105Z"
   },
   {
    "duration": 9,
    "start_time": "2022-07-19T20:19:25.790Z"
   },
   {
    "duration": 9,
    "start_time": "2022-07-19T20:19:30.305Z"
   },
   {
    "duration": 9,
    "start_time": "2022-07-19T20:19:35.435Z"
   },
   {
    "duration": 11,
    "start_time": "2022-07-19T20:19:46.602Z"
   },
   {
    "duration": 17,
    "start_time": "2022-07-19T20:20:00.987Z"
   },
   {
    "duration": 8,
    "start_time": "2022-07-19T20:20:05.582Z"
   },
   {
    "duration": 18,
    "start_time": "2022-07-19T20:20:19.273Z"
   },
   {
    "duration": 124,
    "start_time": "2022-07-19T20:21:47.612Z"
   },
   {
    "duration": 85,
    "start_time": "2022-07-19T20:21:55.485Z"
   },
   {
    "duration": 14,
    "start_time": "2022-07-19T20:23:19.870Z"
   },
   {
    "duration": 9,
    "start_time": "2022-07-19T20:23:51.520Z"
   },
   {
    "duration": 3,
    "start_time": "2022-07-19T20:26:09.666Z"
   },
   {
    "duration": 47,
    "start_time": "2022-07-19T20:26:16.742Z"
   },
   {
    "duration": 29,
    "start_time": "2022-07-19T20:26:30.926Z"
   },
   {
    "duration": 31,
    "start_time": "2022-07-19T20:27:56.206Z"
   },
   {
    "duration": 27,
    "start_time": "2022-07-19T20:28:06.782Z"
   },
   {
    "duration": 28,
    "start_time": "2022-07-19T20:28:18.790Z"
   },
   {
    "duration": 35,
    "start_time": "2022-07-19T20:28:31.842Z"
   },
   {
    "duration": 51,
    "start_time": "2022-07-19T20:28:35.383Z"
   },
   {
    "duration": 31,
    "start_time": "2022-07-19T20:30:37.290Z"
   },
   {
    "duration": 35,
    "start_time": "2022-07-19T20:31:05.414Z"
   },
   {
    "duration": 25,
    "start_time": "2022-07-19T20:31:34.570Z"
   },
   {
    "duration": 848,
    "start_time": "2022-07-19T20:31:53.038Z"
   },
   {
    "duration": 9,
    "start_time": "2022-07-19T20:34:32.498Z"
   },
   {
    "duration": 22,
    "start_time": "2022-07-19T20:34:36.586Z"
   },
   {
    "duration": 24,
    "start_time": "2022-07-19T20:34:50.022Z"
   },
   {
    "duration": 9,
    "start_time": "2022-07-19T20:34:57.626Z"
   },
   {
    "duration": 8,
    "start_time": "2022-07-19T20:35:02.670Z"
   },
   {
    "duration": 21,
    "start_time": "2022-07-19T20:35:11.230Z"
   },
   {
    "duration": 11,
    "start_time": "2022-07-19T20:35:38.881Z"
   },
   {
    "duration": 48,
    "start_time": "2022-07-20T17:50:11.883Z"
   },
   {
    "duration": 7,
    "start_time": "2022-07-20T17:50:18.691Z"
   },
   {
    "duration": 448,
    "start_time": "2022-07-20T17:50:23.161Z"
   },
   {
    "duration": 695,
    "start_time": "2022-07-20T17:50:23.612Z"
   },
   {
    "duration": 23,
    "start_time": "2022-07-20T17:50:24.309Z"
   },
   {
    "duration": 22,
    "start_time": "2022-07-20T17:50:24.334Z"
   },
   {
    "duration": 26,
    "start_time": "2022-07-20T17:50:24.359Z"
   },
   {
    "duration": 52,
    "start_time": "2022-07-20T17:50:24.388Z"
   },
   {
    "duration": 30,
    "start_time": "2022-07-20T17:51:15.396Z"
   },
   {
    "duration": 30,
    "start_time": "2022-07-20T17:51:19.758Z"
   },
   {
    "duration": 38,
    "start_time": "2022-07-20T17:51:30.313Z"
   },
   {
    "duration": 66,
    "start_time": "2022-07-20T17:55:15.374Z"
   },
   {
    "duration": 27,
    "start_time": "2022-07-20T17:55:42.619Z"
   },
   {
    "duration": 416,
    "start_time": "2022-07-20T17:56:07.541Z"
   },
   {
    "duration": 78,
    "start_time": "2022-07-20T17:56:07.959Z"
   },
   {
    "duration": 23,
    "start_time": "2022-07-20T17:56:08.039Z"
   },
   {
    "duration": 24,
    "start_time": "2022-07-20T17:56:08.065Z"
   },
   {
    "duration": 14,
    "start_time": "2022-07-20T17:56:08.091Z"
   },
   {
    "duration": 28,
    "start_time": "2022-07-20T17:56:10.387Z"
   },
   {
    "duration": 35,
    "start_time": "2022-07-20T18:31:09.317Z"
   },
   {
    "duration": 51,
    "start_time": "2022-07-20T18:31:17.124Z"
   },
   {
    "duration": 28,
    "start_time": "2022-07-20T18:31:24.628Z"
   },
   {
    "duration": 134,
    "start_time": "2022-07-20T18:37:43.757Z"
   },
   {
    "duration": 4,
    "start_time": "2022-07-20T18:37:52.494Z"
   },
   {
    "duration": 12,
    "start_time": "2022-07-20T18:47:50.867Z"
   },
   {
    "duration": 7,
    "start_time": "2022-07-20T18:48:14.145Z"
   },
   {
    "duration": 9,
    "start_time": "2022-07-20T18:49:44.633Z"
   },
   {
    "duration": 6,
    "start_time": "2022-07-20T18:50:14.141Z"
   },
   {
    "duration": 4,
    "start_time": "2022-07-20T18:50:21.730Z"
   },
   {
    "duration": 96,
    "start_time": "2022-07-20T18:54:02.488Z"
   },
   {
    "duration": 21,
    "start_time": "2022-07-20T18:54:25.155Z"
   },
   {
    "duration": 7,
    "start_time": "2022-07-20T18:55:19.438Z"
   },
   {
    "duration": 440,
    "start_time": "2022-07-20T18:55:31.078Z"
   },
   {
    "duration": 89,
    "start_time": "2022-07-20T18:55:31.520Z"
   },
   {
    "duration": 22,
    "start_time": "2022-07-20T18:55:31.611Z"
   },
   {
    "duration": 15,
    "start_time": "2022-07-20T18:55:31.635Z"
   },
   {
    "duration": 37,
    "start_time": "2022-07-20T18:55:31.652Z"
   },
   {
    "duration": 49,
    "start_time": "2022-07-20T18:55:31.692Z"
   },
   {
    "duration": 4,
    "start_time": "2022-07-20T18:55:31.743Z"
   },
   {
    "duration": 53,
    "start_time": "2022-07-20T18:55:31.749Z"
   },
   {
    "duration": 27,
    "start_time": "2022-07-20T18:55:31.804Z"
   },
   {
    "duration": 15,
    "start_time": "2022-07-20T18:55:39.180Z"
   },
   {
    "duration": 468,
    "start_time": "2022-07-20T18:57:20.159Z"
   },
   {
    "duration": 94,
    "start_time": "2022-07-20T18:57:20.628Z"
   },
   {
    "duration": 27,
    "start_time": "2022-07-20T18:57:20.725Z"
   },
   {
    "duration": 33,
    "start_time": "2022-07-20T18:57:20.755Z"
   },
   {
    "duration": 24,
    "start_time": "2022-07-20T18:57:20.794Z"
   },
   {
    "duration": 32,
    "start_time": "2022-07-20T18:57:20.820Z"
   },
   {
    "duration": 3,
    "start_time": "2022-07-20T18:57:20.854Z"
   },
   {
    "duration": 51,
    "start_time": "2022-07-20T18:57:20.859Z"
   },
   {
    "duration": 10,
    "start_time": "2022-07-20T18:57:20.912Z"
   },
   {
    "duration": 16,
    "start_time": "2022-07-20T18:57:53.082Z"
   },
   {
    "duration": 7,
    "start_time": "2022-07-20T18:58:01.124Z"
   },
   {
    "duration": 6,
    "start_time": "2022-07-20T19:02:07.898Z"
   },
   {
    "duration": 34,
    "start_time": "2022-07-20T19:08:21.696Z"
   },
   {
    "duration": 5,
    "start_time": "2022-07-20T19:08:22.723Z"
   },
   {
    "duration": 14,
    "start_time": "2022-07-20T19:08:23.388Z"
   },
   {
    "duration": 5,
    "start_time": "2022-07-20T19:08:24.444Z"
   },
   {
    "duration": 8,
    "start_time": "2022-07-20T19:08:24.992Z"
   },
   {
    "duration": 6,
    "start_time": "2022-07-20T19:08:25.459Z"
   },
   {
    "duration": 36,
    "start_time": "2022-07-20T19:08:53.802Z"
   },
   {
    "duration": 27,
    "start_time": "2022-07-20T19:09:31.563Z"
   },
   {
    "duration": 9,
    "start_time": "2022-07-20T19:10:24.689Z"
   },
   {
    "duration": 4,
    "start_time": "2022-07-20T19:10:37.692Z"
   },
   {
    "duration": 28,
    "start_time": "2022-07-20T19:13:43.768Z"
   },
   {
    "duration": 34,
    "start_time": "2022-07-20T19:14:04.165Z"
   },
   {
    "duration": 29,
    "start_time": "2022-07-20T19:14:30.000Z"
   },
   {
    "duration": 18,
    "start_time": "2022-07-20T19:14:47.042Z"
   },
   {
    "duration": 21,
    "start_time": "2022-07-20T19:14:52.807Z"
   },
   {
    "duration": 399,
    "start_time": "2022-07-20T19:15:06.597Z"
   },
   {
    "duration": 82,
    "start_time": "2022-07-20T19:15:06.998Z"
   },
   {
    "duration": 25,
    "start_time": "2022-07-20T19:15:07.088Z"
   },
   {
    "duration": 16,
    "start_time": "2022-07-20T19:15:07.115Z"
   },
   {
    "duration": 8,
    "start_time": "2022-07-20T19:15:07.133Z"
   },
   {
    "duration": 60,
    "start_time": "2022-07-20T19:15:07.143Z"
   },
   {
    "duration": 3,
    "start_time": "2022-07-20T19:15:07.205Z"
   },
   {
    "duration": 16,
    "start_time": "2022-07-20T19:15:07.210Z"
   },
   {
    "duration": 6,
    "start_time": "2022-07-20T19:15:07.227Z"
   },
   {
    "duration": 7,
    "start_time": "2022-07-20T19:15:07.236Z"
   },
   {
    "duration": 22,
    "start_time": "2022-07-20T19:15:07.245Z"
   },
   {
    "duration": 43,
    "start_time": "2022-07-20T19:15:07.273Z"
   },
   {
    "duration": 15,
    "start_time": "2022-07-20T19:15:07.318Z"
   },
   {
    "duration": 4,
    "start_time": "2022-07-20T19:15:07.336Z"
   },
   {
    "duration": 22,
    "start_time": "2022-07-20T19:15:10.131Z"
   },
   {
    "duration": 17,
    "start_time": "2022-07-20T19:15:14.223Z"
   },
   {
    "duration": 18,
    "start_time": "2022-07-20T19:15:17.799Z"
   },
   {
    "duration": 5,
    "start_time": "2022-07-20T19:15:59.194Z"
   },
   {
    "duration": 18,
    "start_time": "2022-07-20T19:17:28.127Z"
   },
   {
    "duration": 15,
    "start_time": "2022-07-20T19:18:04.294Z"
   },
   {
    "duration": 41,
    "start_time": "2022-07-20T19:18:24.348Z"
   },
   {
    "duration": 16,
    "start_time": "2022-07-20T19:18:35.526Z"
   },
   {
    "duration": 19,
    "start_time": "2022-07-20T19:19:17.507Z"
   },
   {
    "duration": 5,
    "start_time": "2022-07-20T19:21:18.309Z"
   },
   {
    "duration": 7,
    "start_time": "2022-07-20T19:21:23.601Z"
   },
   {
    "duration": 4,
    "start_time": "2022-07-20T19:27:35.235Z"
   },
   {
    "duration": 89,
    "start_time": "2022-07-20T19:28:08.865Z"
   },
   {
    "duration": 11,
    "start_time": "2022-07-20T19:28:14.195Z"
   },
   {
    "duration": 6,
    "start_time": "2022-07-20T19:28:35.853Z"
   },
   {
    "duration": 21,
    "start_time": "2022-07-20T19:28:41.862Z"
   },
   {
    "duration": 92,
    "start_time": "2022-07-20T19:29:12.309Z"
   },
   {
    "duration": 5,
    "start_time": "2022-07-20T19:29:16.041Z"
   },
   {
    "duration": 13,
    "start_time": "2022-07-20T19:29:19.484Z"
   },
   {
    "duration": 393,
    "start_time": "2022-07-21T17:29:08.336Z"
   },
   {
    "duration": 143,
    "start_time": "2022-07-21T17:29:08.731Z"
   },
   {
    "duration": 23,
    "start_time": "2022-07-21T17:29:09.643Z"
   },
   {
    "duration": 16,
    "start_time": "2022-07-21T17:29:10.578Z"
   },
   {
    "duration": 9,
    "start_time": "2022-07-21T17:29:13.064Z"
   },
   {
    "duration": 35,
    "start_time": "2022-07-21T17:29:14.369Z"
   },
   {
    "duration": 4,
    "start_time": "2022-07-21T17:29:16.194Z"
   },
   {
    "duration": 10,
    "start_time": "2022-07-21T17:29:17.828Z"
   },
   {
    "duration": 5,
    "start_time": "2022-07-21T17:29:18.727Z"
   },
   {
    "duration": 6,
    "start_time": "2022-07-21T17:29:19.224Z"
   },
   {
    "duration": 5,
    "start_time": "2022-07-21T17:29:19.580Z"
   },
   {
    "duration": 39,
    "start_time": "2022-07-21T17:29:20.262Z"
   },
   {
    "duration": 10,
    "start_time": "2022-07-21T17:29:20.607Z"
   },
   {
    "duration": 4,
    "start_time": "2022-07-21T17:29:21.276Z"
   },
   {
    "duration": 19,
    "start_time": "2022-07-21T17:29:21.987Z"
   },
   {
    "duration": 17,
    "start_time": "2022-07-21T17:29:22.292Z"
   },
   {
    "duration": 11,
    "start_time": "2022-07-21T17:29:25.682Z"
   },
   {
    "duration": 6,
    "start_time": "2022-07-21T17:29:50.993Z"
   },
   {
    "duration": 6,
    "start_time": "2022-07-21T17:29:58.078Z"
   },
   {
    "duration": 6,
    "start_time": "2022-07-21T17:30:42.469Z"
   },
   {
    "duration": 6,
    "start_time": "2022-07-21T17:30:46.117Z"
   },
   {
    "duration": 6,
    "start_time": "2022-07-21T17:31:03.000Z"
   },
   {
    "duration": 4,
    "start_time": "2022-07-21T17:31:08.177Z"
   },
   {
    "duration": 9,
    "start_time": "2022-07-21T17:31:41.229Z"
   },
   {
    "duration": 4,
    "start_time": "2022-07-21T17:33:34.482Z"
   },
   {
    "duration": 3,
    "start_time": "2022-07-21T17:34:26.755Z"
   },
   {
    "duration": 6,
    "start_time": "2022-07-21T18:24:47.320Z"
   },
   {
    "duration": 7,
    "start_time": "2022-07-21T18:55:20.305Z"
   },
   {
    "duration": 4,
    "start_time": "2022-07-21T18:55:31.649Z"
   },
   {
    "duration": 7,
    "start_time": "2022-07-21T18:55:36.693Z"
   },
   {
    "duration": 5,
    "start_time": "2022-07-21T18:55:39.644Z"
   },
   {
    "duration": 5,
    "start_time": "2022-07-21T18:55:41.111Z"
   },
   {
    "duration": 7,
    "start_time": "2022-07-21T18:55:45.203Z"
   },
   {
    "duration": 7,
    "start_time": "2022-07-21T18:57:16.307Z"
   },
   {
    "duration": 7,
    "start_time": "2022-07-21T18:57:24.522Z"
   },
   {
    "duration": 64,
    "start_time": "2022-07-21T18:57:37.442Z"
   },
   {
    "duration": 6,
    "start_time": "2022-07-21T18:58:24.016Z"
   },
   {
    "duration": 6,
    "start_time": "2022-07-21T18:59:26.699Z"
   },
   {
    "duration": 6,
    "start_time": "2022-07-21T18:59:29.658Z"
   },
   {
    "duration": 11,
    "start_time": "2022-07-21T19:00:05.501Z"
   },
   {
    "duration": 13,
    "start_time": "2022-07-21T19:08:24.199Z"
   },
   {
    "duration": 4,
    "start_time": "2022-07-21T19:09:06.216Z"
   },
   {
    "duration": 458,
    "start_time": "2022-07-21T19:11:55.497Z"
   },
   {
    "duration": 84,
    "start_time": "2022-07-21T19:11:55.957Z"
   },
   {
    "duration": 24,
    "start_time": "2022-07-21T19:11:56.043Z"
   },
   {
    "duration": 16,
    "start_time": "2022-07-21T19:11:56.068Z"
   },
   {
    "duration": 27,
    "start_time": "2022-07-21T19:11:56.086Z"
   },
   {
    "duration": 85,
    "start_time": "2022-07-21T19:11:56.115Z"
   },
   {
    "duration": 34,
    "start_time": "2022-07-21T19:11:56.201Z"
   },
   {
    "duration": 59,
    "start_time": "2022-07-21T19:11:56.236Z"
   },
   {
    "duration": 27,
    "start_time": "2022-07-21T19:11:56.297Z"
   },
   {
    "duration": 17,
    "start_time": "2022-07-21T19:11:56.325Z"
   },
   {
    "duration": 11,
    "start_time": "2022-07-21T19:11:56.344Z"
   },
   {
    "duration": 45,
    "start_time": "2022-07-21T19:11:56.356Z"
   },
   {
    "duration": 15,
    "start_time": "2022-07-21T19:11:56.403Z"
   },
   {
    "duration": 6,
    "start_time": "2022-07-21T19:11:56.421Z"
   },
   {
    "duration": 34,
    "start_time": "2022-07-21T19:11:56.429Z"
   },
   {
    "duration": 25,
    "start_time": "2022-07-21T19:11:56.465Z"
   },
   {
    "duration": 17,
    "start_time": "2022-07-21T19:11:56.509Z"
   },
   {
    "duration": 12,
    "start_time": "2022-07-21T19:11:56.528Z"
   },
   {
    "duration": 22,
    "start_time": "2022-07-21T19:11:56.543Z"
   },
   {
    "duration": 20,
    "start_time": "2022-07-21T19:11:56.568Z"
   },
   {
    "duration": 4,
    "start_time": "2022-07-21T19:11:57.903Z"
   },
   {
    "duration": 9,
    "start_time": "2022-07-21T19:11:58.216Z"
   },
   {
    "duration": 742,
    "start_time": "2023-03-03T11:48:51.028Z"
   },
   {
    "duration": 385,
    "start_time": "2023-03-03T11:49:37.930Z"
   },
   {
    "duration": 78,
    "start_time": "2023-03-03T11:49:38.634Z"
   },
   {
    "duration": 22,
    "start_time": "2023-03-03T11:49:55.743Z"
   },
   {
    "duration": 439,
    "start_time": "2023-03-03T11:50:31.386Z"
   },
   {
    "duration": 89,
    "start_time": "2023-03-03T11:50:31.831Z"
   },
   {
    "duration": 26,
    "start_time": "2023-03-03T11:50:31.923Z"
   },
   {
    "duration": 27,
    "start_time": "2023-03-03T11:50:35.797Z"
   },
   {
    "duration": 19,
    "start_time": "2023-03-03T11:51:43.202Z"
   },
   {
    "duration": 40,
    "start_time": "2023-03-03T11:53:18.477Z"
   },
   {
    "duration": 3,
    "start_time": "2023-03-03T11:54:02.666Z"
   },
   {
    "duration": 9,
    "start_time": "2023-03-03T11:54:39.697Z"
   },
   {
    "duration": 6,
    "start_time": "2023-03-03T11:56:26.116Z"
   },
   {
    "duration": 6,
    "start_time": "2023-03-03T11:56:53.349Z"
   },
   {
    "duration": 5,
    "start_time": "2023-03-03T11:57:08.361Z"
   },
   {
    "duration": 432,
    "start_time": "2023-03-03T11:57:27.983Z"
   },
   {
    "duration": 83,
    "start_time": "2023-03-03T11:57:28.417Z"
   },
   {
    "duration": 34,
    "start_time": "2023-03-03T11:57:28.501Z"
   },
   {
    "duration": 17,
    "start_time": "2023-03-03T11:57:28.540Z"
   },
   {
    "duration": 8,
    "start_time": "2023-03-03T11:57:28.559Z"
   },
   {
    "duration": 50,
    "start_time": "2023-03-03T11:57:28.569Z"
   },
   {
    "duration": 8,
    "start_time": "2023-03-03T11:57:28.620Z"
   },
   {
    "duration": 11,
    "start_time": "2023-03-03T11:57:28.635Z"
   },
   {
    "duration": 5,
    "start_time": "2023-03-03T11:57:28.648Z"
   },
   {
    "duration": 15,
    "start_time": "2023-03-03T11:57:28.655Z"
   },
   {
    "duration": 29,
    "start_time": "2023-03-03T11:57:28.672Z"
   },
   {
    "duration": 34,
    "start_time": "2023-03-03T11:57:58.925Z"
   },
   {
    "duration": 9,
    "start_time": "2023-03-03T11:59:22.761Z"
   },
   {
    "duration": 3,
    "start_time": "2023-03-03T12:00:35.751Z"
   },
   {
    "duration": 21,
    "start_time": "2023-03-03T12:02:17.225Z"
   },
   {
    "duration": 19,
    "start_time": "2023-03-03T12:02:27.824Z"
   },
   {
    "duration": 24,
    "start_time": "2023-03-03T12:02:34.057Z"
   },
   {
    "duration": 23,
    "start_time": "2023-03-03T12:02:55.259Z"
   },
   {
    "duration": 26,
    "start_time": "2023-03-03T12:02:56.432Z"
   },
   {
    "duration": 431,
    "start_time": "2023-03-03T12:03:32.232Z"
   },
   {
    "duration": 91,
    "start_time": "2023-03-03T12:03:32.665Z"
   },
   {
    "duration": 23,
    "start_time": "2023-03-03T12:03:32.758Z"
   },
   {
    "duration": 29,
    "start_time": "2023-03-03T12:03:32.784Z"
   },
   {
    "duration": 19,
    "start_time": "2023-03-03T12:03:32.816Z"
   },
   {
    "duration": 41,
    "start_time": "2023-03-03T12:03:32.837Z"
   },
   {
    "duration": 3,
    "start_time": "2023-03-03T12:03:32.880Z"
   },
   {
    "duration": 37,
    "start_time": "2023-03-03T12:03:32.885Z"
   },
   {
    "duration": 8,
    "start_time": "2023-03-03T12:03:32.932Z"
   },
   {
    "duration": 9,
    "start_time": "2023-03-03T12:03:32.943Z"
   },
   {
    "duration": 7,
    "start_time": "2023-03-03T12:03:32.953Z"
   },
   {
    "duration": 39,
    "start_time": "2023-03-03T12:03:32.962Z"
   },
   {
    "duration": 18,
    "start_time": "2023-03-03T12:03:33.003Z"
   },
   {
    "duration": 19,
    "start_time": "2023-03-03T12:03:33.036Z"
   },
   {
    "duration": 17,
    "start_time": "2023-03-03T12:03:34.475Z"
   },
   {
    "duration": 17,
    "start_time": "2023-03-03T12:03:35.627Z"
   },
   {
    "duration": 29,
    "start_time": "2023-03-03T12:04:16.066Z"
   },
   {
    "duration": 422,
    "start_time": "2023-03-03T12:04:35.474Z"
   },
   {
    "duration": 87,
    "start_time": "2023-03-03T12:04:35.899Z"
   },
   {
    "duration": 41,
    "start_time": "2023-03-03T12:04:35.988Z"
   },
   {
    "duration": 28,
    "start_time": "2023-03-03T12:04:36.033Z"
   },
   {
    "duration": 10,
    "start_time": "2023-03-03T12:04:36.063Z"
   },
   {
    "duration": 51,
    "start_time": "2023-03-03T12:04:36.074Z"
   },
   {
    "duration": 5,
    "start_time": "2023-03-03T12:04:36.135Z"
   },
   {
    "duration": 24,
    "start_time": "2023-03-03T12:04:36.142Z"
   },
   {
    "duration": 5,
    "start_time": "2023-03-03T12:04:36.168Z"
   },
   {
    "duration": 11,
    "start_time": "2023-03-03T12:04:36.174Z"
   },
   {
    "duration": 13,
    "start_time": "2023-03-03T12:04:36.187Z"
   },
   {
    "duration": 80,
    "start_time": "2023-03-03T12:04:36.201Z"
   },
   {
    "duration": 10,
    "start_time": "2023-03-03T12:04:36.282Z"
   },
   {
    "duration": 10,
    "start_time": "2023-03-03T12:04:36.295Z"
   },
   {
    "duration": 39,
    "start_time": "2023-03-03T12:04:36.313Z"
   },
   {
    "duration": 17,
    "start_time": "2023-03-03T12:04:36.353Z"
   },
   {
    "duration": 6,
    "start_time": "2023-03-03T12:04:48.033Z"
   },
   {
    "duration": 5,
    "start_time": "2023-03-03T12:05:08.933Z"
   },
   {
    "duration": 12,
    "start_time": "2023-03-03T12:05:09.475Z"
   },
   {
    "duration": 7,
    "start_time": "2023-03-03T12:05:10.080Z"
   },
   {
    "duration": 400,
    "start_time": "2023-03-03T12:06:40.584Z"
   },
   {
    "duration": 91,
    "start_time": "2023-03-03T12:06:40.986Z"
   },
   {
    "duration": 24,
    "start_time": "2023-03-03T12:06:41.079Z"
   },
   {
    "duration": 38,
    "start_time": "2023-03-03T12:06:41.108Z"
   },
   {
    "duration": 13,
    "start_time": "2023-03-03T12:06:41.149Z"
   },
   {
    "duration": 41,
    "start_time": "2023-03-03T12:06:41.164Z"
   },
   {
    "duration": 9,
    "start_time": "2023-03-03T12:06:41.210Z"
   },
   {
    "duration": 25,
    "start_time": "2023-03-03T12:06:41.221Z"
   },
   {
    "duration": 8,
    "start_time": "2023-03-03T12:06:41.247Z"
   },
   {
    "duration": 29,
    "start_time": "2023-03-03T12:06:41.256Z"
   },
   {
    "duration": 6,
    "start_time": "2023-03-03T12:06:41.286Z"
   },
   {
    "duration": 44,
    "start_time": "2023-03-03T12:06:41.293Z"
   },
   {
    "duration": 9,
    "start_time": "2023-03-03T12:06:41.339Z"
   },
   {
    "duration": 17,
    "start_time": "2023-03-03T12:06:41.350Z"
   },
   {
    "duration": 18,
    "start_time": "2023-03-03T12:06:42.231Z"
   },
   {
    "duration": 17,
    "start_time": "2023-03-03T12:06:42.753Z"
   },
   {
    "duration": 15,
    "start_time": "2023-03-03T12:06:44.646Z"
   },
   {
    "duration": 17,
    "start_time": "2023-03-03T12:08:12.384Z"
   },
   {
    "duration": 429,
    "start_time": "2023-03-03T12:08:49.935Z"
   },
   {
    "duration": 90,
    "start_time": "2023-03-03T12:08:50.366Z"
   },
   {
    "duration": 25,
    "start_time": "2023-03-03T12:08:50.458Z"
   },
   {
    "duration": 26,
    "start_time": "2023-03-03T12:08:50.485Z"
   },
   {
    "duration": 29,
    "start_time": "2023-03-03T12:08:50.516Z"
   },
   {
    "duration": 45,
    "start_time": "2023-03-03T12:08:50.547Z"
   },
   {
    "duration": 3,
    "start_time": "2023-03-03T12:08:50.594Z"
   },
   {
    "duration": 49,
    "start_time": "2023-03-03T12:08:50.598Z"
   },
   {
    "duration": 4,
    "start_time": "2023-03-03T12:08:50.648Z"
   },
   {
    "duration": 13,
    "start_time": "2023-03-03T12:08:50.654Z"
   },
   {
    "duration": 11,
    "start_time": "2023-03-03T12:08:50.669Z"
   },
   {
    "duration": 47,
    "start_time": "2023-03-03T12:08:50.681Z"
   },
   {
    "duration": 11,
    "start_time": "2023-03-03T12:08:50.731Z"
   },
   {
    "duration": 10,
    "start_time": "2023-03-03T12:08:50.744Z"
   },
   {
    "duration": 26,
    "start_time": "2023-03-03T12:08:50.756Z"
   },
   {
    "duration": 15,
    "start_time": "2023-03-03T12:08:50.784Z"
   },
   {
    "duration": 21,
    "start_time": "2023-03-03T12:08:50.806Z"
   },
   {
    "duration": 4,
    "start_time": "2023-03-03T12:10:01.494Z"
   },
   {
    "duration": 9,
    "start_time": "2023-03-03T12:10:18.577Z"
   },
   {
    "duration": 7,
    "start_time": "2023-03-03T12:10:37.230Z"
   },
   {
    "duration": 540,
    "start_time": "2023-03-14T20:14:16.909Z"
   },
   {
    "duration": 103,
    "start_time": "2023-03-14T20:14:17.451Z"
   },
   {
    "duration": 34,
    "start_time": "2023-03-14T20:14:17.556Z"
   },
   {
    "duration": 58,
    "start_time": "2023-03-14T20:14:17.594Z"
   },
   {
    "duration": 33,
    "start_time": "2023-03-14T20:14:17.654Z"
   },
   {
    "duration": 86,
    "start_time": "2023-03-14T20:14:17.690Z"
   },
   {
    "duration": 4,
    "start_time": "2023-03-14T20:14:17.780Z"
   },
   {
    "duration": 51,
    "start_time": "2023-03-14T20:14:17.786Z"
   },
   {
    "duration": 9,
    "start_time": "2023-03-14T20:14:17.839Z"
   },
   {
    "duration": 24,
    "start_time": "2023-03-14T20:14:17.852Z"
   },
   {
    "duration": 54,
    "start_time": "2023-03-14T20:14:17.878Z"
   },
   {
    "duration": 60,
    "start_time": "2023-03-14T20:14:17.934Z"
   },
   {
    "duration": 18,
    "start_time": "2023-03-14T20:14:17.996Z"
   },
   {
    "duration": 40,
    "start_time": "2023-03-14T20:14:18.017Z"
   },
   {
    "duration": 58,
    "start_time": "2023-03-14T20:14:18.059Z"
   },
   {
    "duration": 37,
    "start_time": "2023-03-14T20:14:18.119Z"
   },
   {
    "duration": 81,
    "start_time": "2023-03-14T20:14:18.158Z"
   },
   {
    "duration": 11,
    "start_time": "2023-03-14T20:14:18.241Z"
   },
   {
    "duration": 83,
    "start_time": "2023-03-14T20:14:18.254Z"
   },
   {
    "duration": 8,
    "start_time": "2023-03-14T20:14:18.339Z"
   },
   {
    "duration": 3,
    "start_time": "2023-03-14T20:14:18.348Z"
   },
   {
    "duration": 14,
    "start_time": "2023-03-14T20:14:18.353Z"
   },
   {
    "duration": 3,
    "start_time": "2023-03-14T20:15:59.041Z"
   },
   {
    "duration": 118,
    "start_time": "2023-03-14T20:15:59.046Z"
   },
   {
    "duration": 29,
    "start_time": "2023-03-14T20:15:59.166Z"
   },
   {
    "duration": 34,
    "start_time": "2023-03-14T20:15:59.197Z"
   },
   {
    "duration": 14,
    "start_time": "2023-03-14T20:15:59.234Z"
   },
   {
    "duration": 55,
    "start_time": "2023-03-14T20:15:59.250Z"
   },
   {
    "duration": 11,
    "start_time": "2023-03-14T20:15:59.307Z"
   },
   {
    "duration": 20,
    "start_time": "2023-03-14T20:15:59.319Z"
   },
   {
    "duration": 17,
    "start_time": "2023-03-14T20:15:59.341Z"
   },
   {
    "duration": 55,
    "start_time": "2023-03-14T20:15:59.361Z"
   },
   {
    "duration": 9,
    "start_time": "2023-03-14T20:15:59.419Z"
   },
   {
    "duration": 71,
    "start_time": "2023-03-14T20:15:59.430Z"
   },
   {
    "duration": 37,
    "start_time": "2023-03-14T20:15:59.506Z"
   },
   {
    "duration": 67,
    "start_time": "2023-03-14T20:15:59.546Z"
   },
   {
    "duration": 38,
    "start_time": "2023-03-14T20:15:59.615Z"
   },
   {
    "duration": 29,
    "start_time": "2023-03-14T20:15:59.656Z"
   },
   {
    "duration": 31,
    "start_time": "2023-03-14T20:15:59.687Z"
   },
   {
    "duration": 4,
    "start_time": "2023-03-14T20:15:59.720Z"
   },
   {
    "duration": 23,
    "start_time": "2023-03-14T20:15:59.726Z"
   },
   {
    "duration": 13,
    "start_time": "2023-03-14T20:15:59.752Z"
   },
   {
    "duration": 35,
    "start_time": "2023-03-14T20:15:59.766Z"
   },
   {
    "duration": 16,
    "start_time": "2023-03-14T20:15:59.803Z"
   },
   {
    "duration": 11,
    "start_time": "2023-03-14T20:17:54.216Z"
   },
   {
    "duration": 14,
    "start_time": "2023-03-14T20:17:54.894Z"
   },
   {
    "duration": 55,
    "start_time": "2023-03-14T20:17:56.365Z"
   }
  ],
  "colab": {
   "name": "dpp_template_part1.ipynb",
   "provenance": []
  },
  "kernelspec": {
   "display_name": "Python 3 (ipykernel)",
   "language": "python",
   "name": "python3"
  },
  "language_info": {
   "codemirror_mode": {
    "name": "ipython",
    "version": 3
   },
   "file_extension": ".py",
   "mimetype": "text/x-python",
   "name": "python",
   "nbconvert_exporter": "python",
   "pygments_lexer": "ipython3",
   "version": "3.9.5"
  },
  "toc": {
   "base_numbering": 1,
   "nav_menu": {},
   "number_sections": true,
   "sideBar": true,
   "skip_h1_title": true,
   "title_cell": "Table of Contents",
   "title_sidebar": "Contents",
   "toc_cell": false,
   "toc_position": {},
   "toc_section_display": true,
   "toc_window_display": false
  }
 },
 "nbformat": 4,
 "nbformat_minor": 5
}
