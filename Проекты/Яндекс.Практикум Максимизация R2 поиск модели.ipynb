{
 "cells": [
  {
   "cell_type": "code",
   "execution_count": null,
   "metadata": {
    "tags": [
     "f4eaa450-4b57-4b82-ab29-f851693d1019"
    ]
   },
   "outputs": [],
   "source": [
    "# Не удаляйте эту ячейку!"
   ]
  },
  {
   "cell_type": "code",
   "execution_count": 2,
   "metadata": {},
   "outputs": [],
   "source": [
    "import pandas as pd\n",
    "from sklearn.model_selection import train_test_split\n",
    "from sklearn.linear_model import LinearRegression\n",
    "from sklearn.tree import DecisionTreeRegressor\n",
    "from sklearn.ensemble import RandomForestRegressor\n",
    "\n",
    "data = pd.read_csv('/datasets/flights_preprocessed.csv')\n",
    "\n",
    "target = data['Arrival Delay']\n",
    "features = data.drop(['Arrival Delay'] , axis=1)\n",
    "features_train, features_valid, target_train, target_valid = train_test_split(\n",
    "    features, target, test_size=0.25, rzndom_state=12345)"
   ]
  },
  {
   "cell_type": "code",
   "execution_count": 3,
   "metadata": {},
   "outputs": [
    {
     "name": "stdout",
     "output_type": "stream",
     "text": [
      "0.09710497146204988\n"
     ]
    }
   ],
   "source": [
    "model = LinearRegression()\n",
    "model.fit(features_train, target_train)\n",
    "print(model.score(features_valid, target_valid))"
   ]
  },
  {
   "cell_type": "code",
   "execution_count": 5,
   "metadata": {},
   "outputs": [],
   "source": [
    "best_model_depth = 1\n",
    "best_model_score = 0\n",
    "\n",
    "for depth in range(1, 16, 1):\n",
    "    model = RandomForestRegressor(n_estimators=20, max_depth=depth, random_state=12345)\n",
    "    model.fit(features_train, target_train)\n",
    "    # < напишите код здесь >\n",
    "    score = model.score(features_valid, target_valid)\n",
    "    if score > best_model_score:\n",
    "        best_model_score = score\n",
    "        best_model_depth = depth"
   ]
  },
  {
   "cell_type": "code",
   "execution_count": 6,
   "metadata": {},
   "outputs": [
    {
     "name": "stdout",
     "output_type": "stream",
     "text": [
      "0.3784895029599671\n",
      "0.16457303855286742\n"
     ]
    }
   ],
   "source": [
    "model = RandomForestRegressor(n_estimators=60, \n",
    "    max_depth=best_model_depth, random_state=12345) # < напишите код здесь >, random_state=12345)\n",
    "model.fit(features_train, target_train)\n",
    "print(model.score(features_train, target_train))\n",
    "print(model.score(features_valid, target_valid))"
   ]
  },
  {
   "cell_type": "code",
   "execution_count": 8,
   "metadata": {},
   "outputs": [
    {
     "name": "stdout",
     "output_type": "stream",
     "text": [
      "CPU times: user 11.8 s, sys: 35.9 ms, total: 11.8 s\n",
      "Wall time: 11.8 s\n"
     ]
    },
    {
     "data": {
      "text/plain": [
       "RandomForestRegressor(max_depth=12, random_state=12345)"
      ]
     },
     "execution_count": 8,
     "metadata": {},
     "output_type": "execute_result"
    }
   ],
   "source": [
    "%%time\n",
    "\n",
    "model = RandomForestRegressor(n_estimators=100, max_depth=12, random_state=12345)\n",
    "model.fit(features_train, target_train)"
   ]
  }
 ],
 "metadata": {
  "ExecuteTimeLog": [
   {
    "duration": 1597,
    "start_time": "2021-06-24T08:19:30.427Z"
   },
   {
    "duration": 2134,
    "start_time": "2023-06-24T17:32:03.012Z"
   },
   {
    "duration": 238,
    "start_time": "2023-06-24T17:32:08.501Z"
   },
   {
    "duration": 221,
    "start_time": "2023-06-24T17:32:08.820Z"
   },
   {
    "duration": 26103,
    "start_time": "2023-06-24T18:14:26.042Z"
   },
   {
    "duration": 26114,
    "start_time": "2023-06-24T18:15:27.504Z"
   },
   {
    "duration": 7061,
    "start_time": "2023-06-24T18:15:53.620Z"
   },
   {
    "duration": 22672,
    "start_time": "2023-06-24T18:17:52.218Z"
   },
   {
    "duration": 11809,
    "start_time": "2023-06-24T18:18:37.862Z"
   }
  ],
  "kernelspec": {
   "display_name": "Python 3 (ipykernel)",
   "language": "python",
   "name": "python3"
  },
  "language_info": {
   "codemirror_mode": {
    "name": "ipython",
    "version": 3
   },
   "file_extension": ".py",
   "mimetype": "text/x-python",
   "name": "python",
   "nbconvert_exporter": "python",
   "pygments_lexer": "ipython3",
   "version": "3.9.5"
  },
  "toc": {
   "base_numbering": 1,
   "nav_menu": {},
   "number_sections": true,
   "sideBar": true,
   "skip_h1_title": true,
   "title_cell": "Table of Contents",
   "title_sidebar": "Contents",
   "toc_cell": false,
   "toc_position": {},
   "toc_section_display": true,
   "toc_window_display": false
  }
 },
 "nbformat": 4,
 "nbformat_minor": 2
}
