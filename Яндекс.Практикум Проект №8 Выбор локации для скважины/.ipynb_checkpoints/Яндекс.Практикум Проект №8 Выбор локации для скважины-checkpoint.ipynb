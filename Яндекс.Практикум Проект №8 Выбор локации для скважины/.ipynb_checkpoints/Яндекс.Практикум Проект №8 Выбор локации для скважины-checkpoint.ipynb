{
 "cells": [
  {
   "cell_type": "markdown",
   "metadata": {},
   "source": [
    "# Выбор локации для скважины"
   ]
  },
  {
   "cell_type": "markdown",
   "metadata": {},
   "source": [
    "Допустим, вы работаете в добывающей компании «ГлавРосГосНефть». Нужно решить, где бурить новую скважину.\n",
    "\n",
    "Вам предоставлены пробы нефти в трёх регионах: в каждом 10 000 месторождений, где измерили качество нефти и объём её запасов. Постройте модель машинного обучения, которая поможет определить регион, где добыча принесёт наибольшую прибыль. Проанализируйте возможную прибыль и риски техникой *Bootstrap.*\n",
    "\n",
    "Шаги для выбора локации:\n",
    "\n",
    "- В избранном регионе ищут месторождения, для каждого определяют значения признаков;\n",
    "- Строят модель и оценивают объём запасов;\n",
    "- Выбирают месторождения с самыми высокими оценками значений. Количество месторождений зависит от бюджета компании и стоимости разработки одной скважины;\n",
    "- Прибыль равна суммарной прибыли отобранных месторождений."
   ]
  },
  {
   "cell_type": "markdown",
   "metadata": {},
   "source": [
    "**План проекта:** \n",
    "\n",
    "1) Загрузка и подготовка данных \n",
    "2) Обучение и проверка модели \n",
    "3) Подготовка к расчёту прибыли \n",
    "4) Расчёт прибыли и рисков \n",
    "5) Общий вывод"
   ]
  },
  {
   "cell_type": "code",
   "execution_count": 1,
   "metadata": {},
   "outputs": [
    {
     "data": {
      "text/html": [
       "<style>.container { width:75% !important; }</style>"
      ],
      "text/plain": [
       "<IPython.core.display.HTML object>"
      ]
     },
     "metadata": {},
     "output_type": "display_data"
    }
   ],
   "source": [
    "from IPython.core.display import display, HTML\n",
    "display(HTML(\"<style>.container { width:75% !important; }</style>\"))\n",
    "\n",
    "import pandas as pd\n",
    "import numpy as np\n",
    "import matplotlib.pyplot as plt\n",
    "from sklearn.model_selection import train_test_split\n",
    "from sklearn.linear_model import LinearRegression\n",
    "from sklearn.metrics import mean_squared_error\n",
    "\n",
    "state = np.random.RandomState(12345)\n",
    "n_regions = 3"
   ]
  },
  {
   "cell_type": "markdown",
   "metadata": {},
   "source": [
    "## Загрузка и подготовка данных"
   ]
  },
  {
   "cell_type": "code",
   "execution_count": 2,
   "metadata": {},
   "outputs": [],
   "source": [
    "# Функция для получения данных безопасным способом при помощи конструкции try-except\n",
    "def catch(relative_path):\n",
    "    try:\n",
    "        return pd.read_csv(relative_path)\n",
    "    except:\n",
    "        return pd.read_csv('https://code.s3.yandex.net/' + relative_path)"
   ]
  },
  {
   "cell_type": "markdown",
   "metadata": {},
   "source": [
    "<div class=\"alert alert-success\">\n",
    "<h2> Комментарий ревьюера ✔️ <a class=\"tocSkip\"> </h2>\n",
    "\n",
    "Здорово, что ты используешь конструкцию `try-except`, это повышает отказоустойчивость кода\n",
    "\n",
    "</div>\n"
   ]
  },
  {
   "cell_type": "code",
   "execution_count": 3,
   "metadata": {},
   "outputs": [],
   "source": [
    "# Получим данные геологоразведки трёх регионов и объединим их в один датафрейм\n",
    "data = pd.concat([catch(f'/datasets/geo_data_{i}.csv').assign(region=i) for i in range(0, n_regions)])"
   ]
  },
  {
   "cell_type": "code",
   "execution_count": 4,
   "metadata": {},
   "outputs": [
    {
     "data": {
      "text/html": [
       "<div>\n",
       "<style scoped>\n",
       "    .dataframe tbody tr th:only-of-type {\n",
       "        vertical-align: middle;\n",
       "    }\n",
       "\n",
       "    .dataframe tbody tr th {\n",
       "        vertical-align: top;\n",
       "    }\n",
       "\n",
       "    .dataframe thead th {\n",
       "        text-align: right;\n",
       "    }\n",
       "</style>\n",
       "<table border=\"1\" class=\"dataframe\">\n",
       "  <thead>\n",
       "    <tr style=\"text-align: right;\">\n",
       "      <th></th>\n",
       "      <th>id</th>\n",
       "      <th>f0</th>\n",
       "      <th>f1</th>\n",
       "      <th>f2</th>\n",
       "      <th>product</th>\n",
       "      <th>region</th>\n",
       "    </tr>\n",
       "  </thead>\n",
       "  <tbody>\n",
       "    <tr>\n",
       "      <th>0</th>\n",
       "      <td>txEyH</td>\n",
       "      <td>0.705745</td>\n",
       "      <td>-0.497823</td>\n",
       "      <td>1.221170</td>\n",
       "      <td>105.280062</td>\n",
       "      <td>0</td>\n",
       "    </tr>\n",
       "    <tr>\n",
       "      <th>1</th>\n",
       "      <td>2acmU</td>\n",
       "      <td>1.334711</td>\n",
       "      <td>-0.340164</td>\n",
       "      <td>4.365080</td>\n",
       "      <td>73.037750</td>\n",
       "      <td>0</td>\n",
       "    </tr>\n",
       "    <tr>\n",
       "      <th>2</th>\n",
       "      <td>409Wp</td>\n",
       "      <td>1.022732</td>\n",
       "      <td>0.151990</td>\n",
       "      <td>1.419926</td>\n",
       "      <td>85.265647</td>\n",
       "      <td>0</td>\n",
       "    </tr>\n",
       "    <tr>\n",
       "      <th>3</th>\n",
       "      <td>iJLyR</td>\n",
       "      <td>-0.032172</td>\n",
       "      <td>0.139033</td>\n",
       "      <td>2.978566</td>\n",
       "      <td>168.620776</td>\n",
       "      <td>0</td>\n",
       "    </tr>\n",
       "    <tr>\n",
       "      <th>4</th>\n",
       "      <td>Xdl7t</td>\n",
       "      <td>1.988431</td>\n",
       "      <td>0.155413</td>\n",
       "      <td>4.751769</td>\n",
       "      <td>154.036647</td>\n",
       "      <td>0</td>\n",
       "    </tr>\n",
       "    <tr>\n",
       "      <th>5</th>\n",
       "      <td>wX4Hy</td>\n",
       "      <td>0.969570</td>\n",
       "      <td>0.489775</td>\n",
       "      <td>-0.735383</td>\n",
       "      <td>64.741541</td>\n",
       "      <td>0</td>\n",
       "    </tr>\n",
       "    <tr>\n",
       "      <th>6</th>\n",
       "      <td>tL6pL</td>\n",
       "      <td>0.645075</td>\n",
       "      <td>0.530656</td>\n",
       "      <td>1.780266</td>\n",
       "      <td>49.055285</td>\n",
       "      <td>0</td>\n",
       "    </tr>\n",
       "    <tr>\n",
       "      <th>7</th>\n",
       "      <td>BYPU6</td>\n",
       "      <td>-0.400648</td>\n",
       "      <td>0.808337</td>\n",
       "      <td>-5.624670</td>\n",
       "      <td>72.943292</td>\n",
       "      <td>0</td>\n",
       "    </tr>\n",
       "    <tr>\n",
       "      <th>8</th>\n",
       "      <td>j9Oui</td>\n",
       "      <td>0.643105</td>\n",
       "      <td>-0.551583</td>\n",
       "      <td>2.372141</td>\n",
       "      <td>113.356160</td>\n",
       "      <td>0</td>\n",
       "    </tr>\n",
       "    <tr>\n",
       "      <th>9</th>\n",
       "      <td>OLuZU</td>\n",
       "      <td>2.173381</td>\n",
       "      <td>0.563698</td>\n",
       "      <td>9.441852</td>\n",
       "      <td>127.910945</td>\n",
       "      <td>0</td>\n",
       "    </tr>\n",
       "  </tbody>\n",
       "</table>\n",
       "</div>"
      ],
      "text/plain": [
       "      id        f0        f1        f2     product  region\n",
       "0  txEyH  0.705745 -0.497823  1.221170  105.280062       0\n",
       "1  2acmU  1.334711 -0.340164  4.365080   73.037750       0\n",
       "2  409Wp  1.022732  0.151990  1.419926   85.265647       0\n",
       "3  iJLyR -0.032172  0.139033  2.978566  168.620776       0\n",
       "4  Xdl7t  1.988431  0.155413  4.751769  154.036647       0\n",
       "5  wX4Hy  0.969570  0.489775 -0.735383   64.741541       0\n",
       "6  tL6pL  0.645075  0.530656  1.780266   49.055285       0\n",
       "7  BYPU6 -0.400648  0.808337 -5.624670   72.943292       0\n",
       "8  j9Oui  0.643105 -0.551583  2.372141  113.356160       0\n",
       "9  OLuZU  2.173381  0.563698  9.441852  127.910945       0"
      ]
     },
     "execution_count": 4,
     "metadata": {},
     "output_type": "execute_result"
    }
   ],
   "source": [
    "# check\n",
    "data.head(10)"
   ]
  },
  {
   "cell_type": "code",
   "execution_count": 5,
   "metadata": {},
   "outputs": [
    {
     "data": {
      "text/html": [
       "<div>\n",
       "<style scoped>\n",
       "    .dataframe tbody tr th:only-of-type {\n",
       "        vertical-align: middle;\n",
       "    }\n",
       "\n",
       "    .dataframe tbody tr th {\n",
       "        vertical-align: top;\n",
       "    }\n",
       "\n",
       "    .dataframe thead th {\n",
       "        text-align: right;\n",
       "    }\n",
       "</style>\n",
       "<table border=\"1\" class=\"dataframe\">\n",
       "  <thead>\n",
       "    <tr style=\"text-align: right;\">\n",
       "      <th></th>\n",
       "      <th>id</th>\n",
       "      <th>f0</th>\n",
       "      <th>f1</th>\n",
       "      <th>f2</th>\n",
       "      <th>product</th>\n",
       "      <th>region</th>\n",
       "    </tr>\n",
       "  </thead>\n",
       "  <tbody>\n",
       "    <tr>\n",
       "      <th>99990</th>\n",
       "      <td>QlYmx</td>\n",
       "      <td>-1.182179</td>\n",
       "      <td>2.127844</td>\n",
       "      <td>2.338479</td>\n",
       "      <td>78.502786</td>\n",
       "      <td>2</td>\n",
       "    </tr>\n",
       "    <tr>\n",
       "      <th>99991</th>\n",
       "      <td>AAcyW</td>\n",
       "      <td>1.570887</td>\n",
       "      <td>-2.430724</td>\n",
       "      <td>5.733563</td>\n",
       "      <td>83.577214</td>\n",
       "      <td>2</td>\n",
       "    </tr>\n",
       "    <tr>\n",
       "      <th>99992</th>\n",
       "      <td>yDrAl</td>\n",
       "      <td>-2.365583</td>\n",
       "      <td>0.148640</td>\n",
       "      <td>2.062216</td>\n",
       "      <td>151.374166</td>\n",
       "      <td>2</td>\n",
       "    </tr>\n",
       "    <tr>\n",
       "      <th>99993</th>\n",
       "      <td>uHI1Q</td>\n",
       "      <td>2.633658</td>\n",
       "      <td>1.873285</td>\n",
       "      <td>-0.498951</td>\n",
       "      <td>33.627420</td>\n",
       "      <td>2</td>\n",
       "    </tr>\n",
       "    <tr>\n",
       "      <th>99994</th>\n",
       "      <td>B2U80</td>\n",
       "      <td>-1.889398</td>\n",
       "      <td>0.851823</td>\n",
       "      <td>6.805412</td>\n",
       "      <td>96.866615</td>\n",
       "      <td>2</td>\n",
       "    </tr>\n",
       "    <tr>\n",
       "      <th>99995</th>\n",
       "      <td>4GxBu</td>\n",
       "      <td>-1.777037</td>\n",
       "      <td>1.125220</td>\n",
       "      <td>6.263374</td>\n",
       "      <td>172.327046</td>\n",
       "      <td>2</td>\n",
       "    </tr>\n",
       "    <tr>\n",
       "      <th>99996</th>\n",
       "      <td>YKFjq</td>\n",
       "      <td>-1.261523</td>\n",
       "      <td>-0.894828</td>\n",
       "      <td>2.524545</td>\n",
       "      <td>138.748846</td>\n",
       "      <td>2</td>\n",
       "    </tr>\n",
       "    <tr>\n",
       "      <th>99997</th>\n",
       "      <td>tKPY3</td>\n",
       "      <td>-1.199934</td>\n",
       "      <td>-2.957637</td>\n",
       "      <td>5.219411</td>\n",
       "      <td>157.080080</td>\n",
       "      <td>2</td>\n",
       "    </tr>\n",
       "    <tr>\n",
       "      <th>99998</th>\n",
       "      <td>nmxp2</td>\n",
       "      <td>-2.419896</td>\n",
       "      <td>2.417221</td>\n",
       "      <td>-5.548444</td>\n",
       "      <td>51.795253</td>\n",
       "      <td>2</td>\n",
       "    </tr>\n",
       "    <tr>\n",
       "      <th>99999</th>\n",
       "      <td>V9kWn</td>\n",
       "      <td>-2.551421</td>\n",
       "      <td>-2.025625</td>\n",
       "      <td>6.090891</td>\n",
       "      <td>102.775767</td>\n",
       "      <td>2</td>\n",
       "    </tr>\n",
       "  </tbody>\n",
       "</table>\n",
       "</div>"
      ],
      "text/plain": [
       "          id        f0        f1        f2     product  region\n",
       "99990  QlYmx -1.182179  2.127844  2.338479   78.502786       2\n",
       "99991  AAcyW  1.570887 -2.430724  5.733563   83.577214       2\n",
       "99992  yDrAl -2.365583  0.148640  2.062216  151.374166       2\n",
       "99993  uHI1Q  2.633658  1.873285 -0.498951   33.627420       2\n",
       "99994  B2U80 -1.889398  0.851823  6.805412   96.866615       2\n",
       "99995  4GxBu -1.777037  1.125220  6.263374  172.327046       2\n",
       "99996  YKFjq -1.261523 -0.894828  2.524545  138.748846       2\n",
       "99997  tKPY3 -1.199934 -2.957637  5.219411  157.080080       2\n",
       "99998  nmxp2 -2.419896  2.417221 -5.548444   51.795253       2\n",
       "99999  V9kWn -2.551421 -2.025625  6.090891  102.775767       2"
      ]
     },
     "execution_count": 5,
     "metadata": {},
     "output_type": "execute_result"
    }
   ],
   "source": [
    "# check\n",
    "data.tail(10)"
   ]
  },
  {
   "cell_type": "code",
   "execution_count": 6,
   "metadata": {},
   "outputs": [
    {
     "name": "stdout",
     "output_type": "stream",
     "text": [
      "<class 'pandas.core.frame.DataFrame'>\n",
      "Int64Index: 300000 entries, 0 to 99999\n",
      "Data columns (total 6 columns):\n",
      " #   Column   Non-Null Count   Dtype  \n",
      "---  ------   --------------   -----  \n",
      " 0   id       300000 non-null  object \n",
      " 1   f0       300000 non-null  float64\n",
      " 2   f1       300000 non-null  float64\n",
      " 3   f2       300000 non-null  float64\n",
      " 4   product  300000 non-null  float64\n",
      " 5   region   300000 non-null  int64  \n",
      "dtypes: float64(4), int64(1), object(1)\n",
      "memory usage: 16.0+ MB\n"
     ]
    }
   ],
   "source": [
    "# check\n",
    "data.info()"
   ]
  },
  {
   "cell_type": "code",
   "execution_count": 7,
   "metadata": {},
   "outputs": [
    {
     "data": {
      "text/plain": [
       "0"
      ]
     },
     "execution_count": 7,
     "metadata": {},
     "output_type": "execute_result"
    }
   ],
   "source": [
    "# check\n",
    "data.duplicated().sum()"
   ]
  },
  {
   "cell_type": "code",
   "execution_count": 8,
   "metadata": {},
   "outputs": [
    {
     "data": {
      "text/plain": [
       "49"
      ]
     },
     "execution_count": 8,
     "metadata": {},
     "output_type": "execute_result"
    }
   ],
   "source": [
    "# check\n",
    "data.id.duplicated().sum()"
   ]
  },
  {
   "cell_type": "code",
   "execution_count": 9,
   "metadata": {},
   "outputs": [],
   "source": [
    "data.drop_duplicates(subset=['id'], inplace=True)"
   ]
  },
  {
   "cell_type": "code",
   "execution_count": 10,
   "metadata": {},
   "outputs": [
    {
     "data": {
      "text/plain": [
       "0"
      ]
     },
     "execution_count": 10,
     "metadata": {},
     "output_type": "execute_result"
    }
   ],
   "source": [
    "# check\n",
    "data.id.duplicated().sum()"
   ]
  },
  {
   "cell_type": "code",
   "execution_count": 11,
   "metadata": {},
   "outputs": [
    {
     "data": {
      "text/html": [
       "<div>\n",
       "<style scoped>\n",
       "    .dataframe tbody tr th:only-of-type {\n",
       "        vertical-align: middle;\n",
       "    }\n",
       "\n",
       "    .dataframe tbody tr th {\n",
       "        vertical-align: top;\n",
       "    }\n",
       "\n",
       "    .dataframe thead th {\n",
       "        text-align: right;\n",
       "    }\n",
       "</style>\n",
       "<table border=\"1\" class=\"dataframe\">\n",
       "  <thead>\n",
       "    <tr style=\"text-align: right;\">\n",
       "      <th></th>\n",
       "      <th>f0</th>\n",
       "      <th>f1</th>\n",
       "      <th>f2</th>\n",
       "      <th>product</th>\n",
       "      <th>region</th>\n",
       "    </tr>\n",
       "  </thead>\n",
       "  <tbody>\n",
       "    <tr>\n",
       "      <th>count</th>\n",
       "      <td>299951.000000</td>\n",
       "      <td>299951.000000</td>\n",
       "      <td>299951.000000</td>\n",
       "      <td>299951.000000</td>\n",
       "      <td>299951.000000</td>\n",
       "    </tr>\n",
       "    <tr>\n",
       "      <th>mean</th>\n",
       "      <td>0.547844</td>\n",
       "      <td>-1.516308</td>\n",
       "      <td>2.497415</td>\n",
       "      <td>85.439359</td>\n",
       "      <td>0.999950</td>\n",
       "    </tr>\n",
       "    <tr>\n",
       "      <th>std</th>\n",
       "      <td>5.316665</td>\n",
       "      <td>3.900250</td>\n",
       "      <td>2.916480</td>\n",
       "      <td>46.519744</td>\n",
       "      <td>0.816493</td>\n",
       "    </tr>\n",
       "    <tr>\n",
       "      <th>min</th>\n",
       "      <td>-31.609576</td>\n",
       "      <td>-26.358598</td>\n",
       "      <td>-12.088328</td>\n",
       "      <td>0.000000</td>\n",
       "      <td>0.000000</td>\n",
       "    </tr>\n",
       "    <tr>\n",
       "      <th>25%</th>\n",
       "      <td>-1.003028</td>\n",
       "      <td>-2.479142</td>\n",
       "      <td>0.648209</td>\n",
       "      <td>52.664541</td>\n",
       "      <td>0.000000</td>\n",
       "    </tr>\n",
       "    <tr>\n",
       "      <th>50%</th>\n",
       "      <td>0.347960</td>\n",
       "      <td>-0.229675</td>\n",
       "      <td>2.491200</td>\n",
       "      <td>84.038886</td>\n",
       "      <td>1.000000</td>\n",
       "    </tr>\n",
       "    <tr>\n",
       "      <th>75%</th>\n",
       "      <td>1.755369</td>\n",
       "      <td>0.678479</td>\n",
       "      <td>4.344939</td>\n",
       "      <td>124.170819</td>\n",
       "      <td>2.000000</td>\n",
       "    </tr>\n",
       "    <tr>\n",
       "      <th>max</th>\n",
       "      <td>29.421755</td>\n",
       "      <td>18.734063</td>\n",
       "      <td>16.739402</td>\n",
       "      <td>190.029838</td>\n",
       "      <td>2.000000</td>\n",
       "    </tr>\n",
       "  </tbody>\n",
       "</table>\n",
       "</div>"
      ],
      "text/plain": [
       "                  f0             f1             f2        product  \\\n",
       "count  299951.000000  299951.000000  299951.000000  299951.000000   \n",
       "mean        0.547844      -1.516308       2.497415      85.439359   \n",
       "std         5.316665       3.900250       2.916480      46.519744   \n",
       "min       -31.609576     -26.358598     -12.088328       0.000000   \n",
       "25%        -1.003028      -2.479142       0.648209      52.664541   \n",
       "50%         0.347960      -0.229675       2.491200      84.038886   \n",
       "75%         1.755369       0.678479       4.344939     124.170819   \n",
       "max        29.421755      18.734063      16.739402     190.029838   \n",
       "\n",
       "              region  \n",
       "count  299951.000000  \n",
       "mean        0.999950  \n",
       "std         0.816493  \n",
       "min         0.000000  \n",
       "25%         0.000000  \n",
       "50%         1.000000  \n",
       "75%         2.000000  \n",
       "max         2.000000  "
      ]
     },
     "execution_count": 11,
     "metadata": {},
     "output_type": "execute_result"
    }
   ],
   "source": [
    "# check\n",
    "data.describe()"
   ]
  },
  {
   "cell_type": "code",
   "execution_count": 12,
   "metadata": {},
   "outputs": [
    {
     "data": {
      "text/html": [
       "<div>\n",
       "<style scoped>\n",
       "    .dataframe tbody tr th:only-of-type {\n",
       "        vertical-align: middle;\n",
       "    }\n",
       "\n",
       "    .dataframe tbody tr th {\n",
       "        vertical-align: top;\n",
       "    }\n",
       "\n",
       "    .dataframe thead th {\n",
       "        text-align: right;\n",
       "    }\n",
       "</style>\n",
       "<table border=\"1\" class=\"dataframe\">\n",
       "  <thead>\n",
       "    <tr style=\"text-align: right;\">\n",
       "      <th></th>\n",
       "      <th>f0</th>\n",
       "      <th>f1</th>\n",
       "      <th>f2</th>\n",
       "      <th>product</th>\n",
       "      <th>region</th>\n",
       "    </tr>\n",
       "  </thead>\n",
       "  <tbody>\n",
       "    <tr>\n",
       "      <th>f0</th>\n",
       "      <td>1.0000</td>\n",
       "      <td>0.0855</td>\n",
       "      <td>-0.0009</td>\n",
       "      <td>-0.0304</td>\n",
       "      <td>-0.0383</td>\n",
       "    </tr>\n",
       "    <tr>\n",
       "      <th>f1</th>\n",
       "      <td>0.0855</td>\n",
       "      <td>1.0000</td>\n",
       "      <td>0.0000</td>\n",
       "      <td>0.1372</td>\n",
       "      <td>-0.0264</td>\n",
       "    </tr>\n",
       "    <tr>\n",
       "      <th>f2</th>\n",
       "      <td>-0.0009</td>\n",
       "      <td>0.0000</td>\n",
       "      <td>1.0000</td>\n",
       "      <td>0.5336</td>\n",
       "      <td>-0.0010</td>\n",
       "    </tr>\n",
       "    <tr>\n",
       "      <th>product</th>\n",
       "      <td>-0.0304</td>\n",
       "      <td>0.1372</td>\n",
       "      <td>0.5336</td>\n",
       "      <td>1.0000</td>\n",
       "      <td>0.0219</td>\n",
       "    </tr>\n",
       "    <tr>\n",
       "      <th>region</th>\n",
       "      <td>-0.0383</td>\n",
       "      <td>-0.0264</td>\n",
       "      <td>-0.0010</td>\n",
       "      <td>0.0219</td>\n",
       "      <td>1.0000</td>\n",
       "    </tr>\n",
       "  </tbody>\n",
       "</table>\n",
       "</div>"
      ],
      "text/plain": [
       "             f0      f1      f2  product  region\n",
       "f0       1.0000  0.0855 -0.0009  -0.0304 -0.0383\n",
       "f1       0.0855  1.0000  0.0000   0.1372 -0.0264\n",
       "f2      -0.0009  0.0000  1.0000   0.5336 -0.0010\n",
       "product -0.0304  0.1372  0.5336   1.0000  0.0219\n",
       "region  -0.0383 -0.0264 -0.0010   0.0219  1.0000"
      ]
     },
     "execution_count": 12,
     "metadata": {},
     "output_type": "execute_result"
    }
   ],
   "source": [
    "# check\n",
    "data.corr().round(4)"
   ]
  },
  {
   "cell_type": "markdown",
   "metadata": {},
   "source": [
    "В данных отсутствуют:\n",
    "- нарушения правил хорошего стиля в названии столбцов\n",
    "- пропуски\n",
    "- несоответствия типов\n",
    "\n",
    "Мы обнаружили высокое значение коэффициента корреляции между признаком `f2` и целевым признаком `product` (объём запасов в скважине) — `0.5336`. Необходимо дальнейшее исследование зависимости между этими признаками"
   ]
  },
  {
   "cell_type": "markdown",
   "metadata": {},
   "source": [
    "## Обучение и проверка модели"
   ]
  },
  {
   "cell_type": "code",
   "execution_count": 13,
   "metadata": {},
   "outputs": [
    {
     "name": "stdout",
     "output_type": "stream",
     "text": [
      "Для 0 региона:\n",
      "Cредний запас предсказанного сырья — 92.79\n",
      "RMSE модели линейной регрессии — 37.85\n",
      "\n",
      "Для 1 региона:\n",
      "Cредний запас предсказанного сырья — 68.88\n",
      "RMSE модели линейной регрессии — 0.9\n",
      "\n",
      "Для 2 региона:\n",
      "Cредний запас предсказанного сырья — 95.16\n",
      "RMSE модели линейной регрессии — 40.14\n",
      "\n"
     ]
    }
   ],
   "source": [
    "predictions_list = []\n",
    "target_list = []\n",
    "\n",
    "for region in data.region.unique():\n",
    "    # Разделим данные на обучающую и валидационную выборки в соотношении 75:25 для соответствующего региона\n",
    "    features = data[data.region == region][['f0', 'f1', 'f2']]\n",
    "    target = data[data.region == region]['product']\n",
    "    train_features, valid_features, train_target, valid_target = train_test_split(features, target, test_size=0.25, random_state=state)\n",
    "    \n",
    "        \n",
    "    # Обучим модель линейной регрессии на обучающей выборке\n",
    "    model = LinearRegression()\n",
    "    model.fit(train_features, train_target)\n",
    "    \n",
    "    # Сохраним предсказания и правильные ответы на валидационной выборке для каждого региона в соответствующие списки\n",
    "    predictions_list.append(pd.Series(model.predict(valid_features)).reset_index(drop=True))\n",
    "    target_list.append(pd.Series(valid_target).reset_index(drop=True))\n",
    "    \n",
    "    print(f'Для {region} региона:')\n",
    "    print(f'Cредний запас предсказанного сырья — {round(predictions_list[-1].mean(), 2)}')\n",
    "    print(f'RMSE модели линейной регрессии — {round(mean_squared_error(valid_target, predictions_list[-1], squared=False), 2)}')\n",
    "    print()"
   ]
  },
  {
   "cell_type": "markdown",
   "metadata": {},
   "source": [
    "- Средний запас предсказанного сырья в 1-ом регионе значительно ниже чем во всех остальных — `68.88`\n",
    "- RMSE модели линейной регрессии в 1-ом регионе значительно ниже чем во всех остальных — `0.9`"
   ]
  },
  {
   "cell_type": "markdown",
   "metadata": {},
   "source": [
    "## Подготовка к расчёту прибыли"
   ]
  },
  {
   "cell_type": "code",
   "execution_count": 14,
   "metadata": {},
   "outputs": [
    {
     "name": "stdout",
     "output_type": "stream",
     "text": [
      "Достаточный объём сырья для безубыточной разработки новой скважины: 111.11\n"
     ]
    }
   ],
   "source": [
    "N_WELLS = 200 # количество скважин, которые выбирают для разработки\n",
    "INCOME_PER_PRODUCT = 450000 # доход с каждой единицы продукта\n",
    "BUDGET = 1e10 # бюджет на разработку скважин в регионе \n",
    "MIN_AMOUNT = BUDGET / (N_WELLS * INCOME_PER_PRODUCT) # достаточный объём сырья для безубыточной разработки новой скважины\n",
    "\n",
    "print(f'Достаточный объём сырья для безубыточной разработки новой скважины: {round(MIN_AMOUNT, 2)}')"
   ]
  },
  {
   "cell_type": "markdown",
   "metadata": {},
   "source": [
    "Достаточный объём сырья для безубыточной разработки новой скважины (`111.11`) превышает средние объёмы предсказанного сырья во всех трёх регионах (`92.79` для 0-го региона, `68.88` для 1-го региона, `95.16` для 2-го региона). Иcходя из этих данных можно сделать вывод, что для выбора `топ-200` скважин нужна модель машинного обучения, так как если отбирать скважин случайным образом, то ничего хорошего не выйдет"
   ]
  },
  {
   "cell_type": "markdown",
   "metadata": {},
   "source": [
    "## Расчёт прибыли и рисков "
   ]
  },
  {
   "cell_type": "code",
   "execution_count": 15,
   "metadata": {},
   "outputs": [
    {
     "data": {
      "image/png": "[encoded data removed]",
      "text/plain": [
       "<Figure size 432x288 with 1 Axes>"
      ]
     },
     "metadata": {
      "needs_background": "light"
     },
     "output_type": "display_data"
    },
    {
     "name": "stdout",
     "output_type": "stream",
     "text": [
      "Средняя прибыль — 418148916.05\n",
      "95%-й доверительный интервал — (-122798121.91, 945509849.51)\n",
      "Риск убытков — 6.4%\n",
      "\n"
     ]
    },
    {
     "data": {
      "image/png": "[encoded data removed]",
      "text/plain": [
       "<Figure size 432x288 with 1 Axes>"
      ]
     },
     "metadata": {
      "needs_background": "light"
     },
     "output_type": "display_data"
    },
    {
     "name": "stdout",
     "output_type": "stream",
     "text": [
      "Средняя прибыль — 502188238.61\n",
      "95%-й доверительный интервал — (110236114.42, 957139712.61)\n",
      "Риск убытков — 1.0%\n",
      "\n"
     ]
    },
    {
     "data": {
      "image/png": "[encoded data removed]",
      "text/plain": [
       "<Figure size 432x288 with 1 Axes>"
      ]
     },
     "metadata": {
      "needs_background": "light"
     },
     "output_type": "display_data"
    },
    {
     "name": "stdout",
     "output_type": "stream",
     "text": [
      "Средняя прибыль — 315304509.55\n",
      "95%-й доверительный интервал — (-274647593.77, 851798643.92)\n",
      "Риск убытков — 12.8%\n",
      "\n"
     ]
    }
   ],
   "source": [
    "# Функция для расчёта прибыли по выбранным скважинам и предсказаниям модели\n",
    "def revenue(target, predictions, count=200):\n",
    "    # Выбираем скважины с максимальными значениями предсказаний\n",
    "    predictions_sorted = predictions.sort_values(ascending=False)\n",
    "    # Выбираем топ count целевых скважин\n",
    "    selected = target[predictions_sorted.index][:count]\n",
    "    # Расчитываем прибыль по формуле:\n",
    "    # <сумма целевого объёма сырья> * <доход с каждой единицы продукта> - <бюджет на разработку скважин в регионе>\n",
    "    return selected.sum() * INCOME_PER_PRODUCT - BUDGET\n",
    "\n",
    "for region in data.region.unique():\n",
    "    values = []\n",
    "    for i in range(1000):\n",
    "        target_sample = target_list[region].sample(n=500, replace=True, random_state=state)\n",
    "        predictions_sample = predictions_list[region][target_sample.index]\n",
    "        values.append(revenue(target_sample, predictions_sample, N_WELLS))\n",
    "        \n",
    "    values = pd.Series(values)\n",
    "    mean = round(values.mean(), 2)\n",
    "    lower = round(values.quantile(0.025), 2)\n",
    "    upper = round(values.quantile(0.975), 2)\n",
    "    risk = round((values < 0).mean() * 100, 2)\n",
    "    \n",
    "    # Построим гистограмму распределения прибыли\n",
    "    ax = values.plot(kind='hist', \n",
    "                     density=1,\n",
    "                     bins=20,\n",
    "                     grid=True,\n",
    "                     title=f'Распределение прибыли для {region} региона')\n",
    "    # Зелёным цветом обозначим доверительный интервал\n",
    "    for rect in ax.patches:\n",
    "        if lower < rect.get_x() < upper:\n",
    "            rect.set_color('green')\n",
    "    plt.show()\n",
    "    \n",
    "    print(f'Средняя прибыль — {round(values.mean(), 2)}')\n",
    "    print(f'95%-й доверительный интервал — {lower, upper}')\n",
    "    print(f'Риск убытков — {risk}%')\n",
    "    print()"
   ]
  },
  {
   "cell_type": "markdown",
   "metadata": {},
   "source": [
    "После оценки рисков нужно оставить лишь те регионы, в которых вероятность убытков меньше `2.5%`. Под такое условие подходит только 1-ый регион. В нём риск убытков оценивается в `1.0%`. Также в этом регионе наблюдается наибольшая средняя прибыль — `502188238.61`"
   ]
  },
  {
   "cell_type": "markdown",
   "metadata": {},
   "source": [
    "## Общий вывод "
   ]
  },
  {
   "cell_type": "markdown",
   "metadata": {},
   "source": [
    "**1) Загрузка и подготовка данных:**\n",
    "\n",
    "Мы загрузили данные безопасным способом и сохранили их в один датафрейм. В данных отсутствуют:\n",
    "\n",
    "- нарушения правил хорошего стиля в названии столбцов\n",
    "- пропуски\n",
    "- несоответствия типов\n",
    "    \n",
    "**2) Обучение и проверка модели:**\n",
    "- Мы разбили данные на обучающую и валидационную выборки в соотношении `75:25`\n",
    "- Обучили модель и сделали предсказания на валидационной выборке\n",
    "- Сохранили предсказания и правильные ответы на валидационной выборке\n",
    "- Напечатали на экране средний запас предсказанного сырья и RMSE модели\n",
    "- Средний запас предсказанного сырья в 1-ом регионе значительно ниже чем во всех остальных — `68.88`\n",
    "- RMSE модели линейной регрессии в 1-ом регионе значительно ниже чем во всех остальных — `0.9`\n",
    "\n",
    "**3) Подготовка к расчёту прибыли:** \n",
    "- Мы рассчитали достаточный объём сырья для безубыточной разработки новой скважины\n",
    "- Достаточный объём сырья для безубыточной разработки новой скважины (`111.11`) превышает средние объёмы предсказанного сырья во всех трёх регионах (`92.79` для 0-го региона, `68.88` для 1-го региона, `95.16` для 2-го региона). Иcходя из этих данных можно сделать вывод, что для выбора `топ-200` скважин нужна модель машинного обучения, так как если отбирать скважин случайным образом, то ничего хорошего не выйдет\n",
    "\n",
    "**4) Расчёт прибыли и рисков:**\n",
    "- Мы написали функцию для расчёта прибыли по выбранным скважинам и предсказаниям модели\n",
    "- Мы применили технику `Bootstrap` с 1000 выборок, чтобы найти распределение прибыли\n",
    "- После оценки рисков нужно оставить лишь те регионы, в которых вероятность убытков меньше `2.5%`. Под такое условие подходит только 1-ый регион. В нём риск убытков оценивается в `1.0%`. Также в этом регионе наблюдается наибольшая средняя прибыль — `502188238.61`"
   ]
  },
  {
   "cell_type": "markdown",
   "metadata": {},
   "source": [
    "## Чек-лист готовности проекта"
   ]
  },
  {
   "cell_type": "markdown",
   "metadata": {},
   "source": [
    "Поставьте 'x' в выполненных пунктах. Далее нажмите Shift+Enter."
   ]
  },
  {
   "cell_type": "markdown",
   "metadata": {},
   "source": [
    "- [x]  Jupyter Notebook открыт\n",
    "- [x]  Весь код выполняется без ошибок\n",
    "- [x]  Ячейки с кодом расположены в порядке исполнения\n",
    "- [x]  Выполнен шаг 1: данные подготовлены\n",
    "- [x]  Выполнен шаг 2: модели обучены и проверены\n",
    "    - [x]  Данные корректно разбиты на обучающую и валидационную выборки\n",
    "    - [x]  Модели обучены, предсказания сделаны\n",
    "    - [x]  Предсказания и правильные ответы на валидационной выборке сохранены\n",
    "    - [x]  На экране напечатаны результаты\n",
    "    - [x]  Сделаны выводы\n",
    "- [x]  Выполнен шаг 3: проведена подготовка к расчёту прибыли\n",
    "    - [x]  Для всех ключевых значений созданы константы Python\n",
    "    - [x]  Посчитано минимальное среднее количество продукта в месторождениях региона, достаточное для разработки\n",
    "    - [x]  По предыдущему пункту сделаны выводы\n",
    "    - [x]  Написана функция расчёта прибыли\n",
    "- [x]  Выполнен шаг 4: посчитаны риски и прибыль\n",
    "    - [x]  Проведена процедура *Bootstrap*\n",
    "    - [x]  Все параметры бутстрепа соответствуют условию\n",
    "    - [x]  Найдены все нужные величины\n",
    "    - [x]  Предложен регион для разработки месторождения\n",
    "    - [x]  Выбор региона обоснован"
   ]
  }
 ],
 "metadata": {
  "ExecuteTimeLog": [
   {
    "duration": 366,
    "start_time": "2023-07-15T20:00:18.665Z"
   },
   {
    "duration": 571,
    "start_time": "2023-07-15T20:01:07.974Z"
   },
   {
    "duration": 225,
    "start_time": "2023-07-15T20:01:43.620Z"
   },
   {
    "duration": 204,
    "start_time": "2023-07-15T20:01:44.043Z"
   },
   {
    "duration": 6,
    "start_time": "2023-07-15T20:03:08.406Z"
   },
   {
    "duration": 107,
    "start_time": "2023-07-15T20:04:51.950Z"
   },
   {
    "duration": 8,
    "start_time": "2023-07-15T20:04:59.494Z"
   },
   {
    "duration": 5,
    "start_time": "2023-07-15T20:05:09.355Z"
   },
   {
    "duration": 551,
    "start_time": "2023-07-15T20:05:13.462Z"
   },
   {
    "duration": 423,
    "start_time": "2023-07-15T20:05:37.885Z"
   },
   {
    "duration": 457,
    "start_time": "2023-07-15T20:08:31.119Z"
   },
   {
    "duration": 241,
    "start_time": "2023-07-15T20:09:11.625Z"
   },
   {
    "duration": 342,
    "start_time": "2023-07-15T20:09:20.215Z"
   },
   {
    "duration": 135,
    "start_time": "2023-07-15T20:09:24.722Z"
   },
   {
    "duration": 175,
    "start_time": "2023-07-15T20:09:35.983Z"
   },
   {
    "duration": 92,
    "start_time": "2023-07-15T20:09:41.771Z"
   },
   {
    "duration": 100,
    "start_time": "2023-07-15T20:09:43.905Z"
   },
   {
    "duration": 107,
    "start_time": "2023-07-15T20:09:45.983Z"
   },
   {
    "duration": 570,
    "start_time": "2023-07-15T20:11:55.007Z"
   },
   {
    "duration": 493,
    "start_time": "2023-07-15T20:12:01.082Z"
   },
   {
    "duration": 88,
    "start_time": "2023-07-15T20:16:35.000Z"
   },
   {
    "duration": 5,
    "start_time": "2023-07-15T20:17:36.464Z"
   },
   {
    "duration": 507,
    "start_time": "2023-07-15T20:18:41.705Z"
   },
   {
    "duration": 6,
    "start_time": "2023-07-15T20:18:45.849Z"
   },
   {
    "duration": 555,
    "start_time": "2023-07-15T20:18:52.370Z"
   },
   {
    "duration": 19,
    "start_time": "2023-07-15T20:18:56.933Z"
   },
   {
    "duration": 12,
    "start_time": "2023-07-15T20:19:03.562Z"
   },
   {
    "duration": 24,
    "start_time": "2023-07-15T20:19:06.646Z"
   },
   {
    "duration": 4,
    "start_time": "2023-07-15T20:19:59.872Z"
   },
   {
    "duration": 508,
    "start_time": "2023-07-15T20:20:00.032Z"
   },
   {
    "duration": 13,
    "start_time": "2023-07-15T20:20:25.598Z"
   },
   {
    "duration": 10,
    "start_time": "2023-07-15T20:20:27.159Z"
   },
   {
    "duration": 12,
    "start_time": "2023-07-15T20:20:27.451Z"
   },
   {
    "duration": 464,
    "start_time": "2023-07-15T20:25:43.656Z"
   },
   {
    "duration": 169,
    "start_time": "2023-07-15T20:25:50.080Z"
   },
   {
    "duration": 470,
    "start_time": "2023-07-15T20:25:54.251Z"
   },
   {
    "duration": 417,
    "start_time": "2023-07-15T20:26:13.651Z"
   },
   {
    "duration": 6,
    "start_time": "2023-07-15T20:26:19.604Z"
   },
   {
    "duration": 446,
    "start_time": "2023-07-15T20:26:25.439Z"
   },
   {
    "duration": 429,
    "start_time": "2023-07-15T20:26:26.808Z"
   },
   {
    "duration": 13,
    "start_time": "2023-07-15T20:26:27.384Z"
   },
   {
    "duration": 485,
    "start_time": "2023-07-15T20:29:33.677Z"
   },
   {
    "duration": 527,
    "start_time": "2023-07-15T20:29:35.886Z"
   },
   {
    "duration": 32,
    "start_time": "2023-07-15T20:29:36.416Z"
   },
   {
    "duration": 888,
    "start_time": "2023-07-15T20:31:32.654Z"
   },
   {
    "duration": 16,
    "start_time": "2023-07-15T20:31:33.547Z"
   },
   {
    "duration": 510,
    "start_time": "2023-07-15T20:31:41.372Z"
   },
   {
    "duration": 17,
    "start_time": "2023-07-15T20:31:41.898Z"
   },
   {
    "duration": 495,
    "start_time": "2023-07-15T20:34:49.306Z"
   },
   {
    "duration": 13,
    "start_time": "2023-07-15T20:34:49.803Z"
   },
   {
    "duration": 6,
    "start_time": "2023-07-15T20:35:31.969Z"
   },
   {
    "duration": 590,
    "start_time": "2023-07-15T20:35:32.152Z"
   },
   {
    "duration": 19,
    "start_time": "2023-07-15T20:35:32.864Z"
   },
   {
    "duration": 16,
    "start_time": "2023-07-15T20:36:52.052Z"
   },
   {
    "duration": 14,
    "start_time": "2023-07-15T20:37:13.954Z"
   },
   {
    "duration": 15,
    "start_time": "2023-07-15T20:37:18.160Z"
   },
   {
    "duration": 41,
    "start_time": "2023-07-15T20:37:34.647Z"
   },
   {
    "duration": 80,
    "start_time": "2023-07-15T20:37:48.101Z"
   },
   {
    "duration": 72,
    "start_time": "2023-07-15T20:38:03.790Z"
   },
   {
    "duration": 48,
    "start_time": "2023-07-15T20:38:18.109Z"
   },
   {
    "duration": 46,
    "start_time": "2023-07-15T20:38:21.103Z"
   },
   {
    "duration": 47,
    "start_time": "2023-07-15T20:38:21.239Z"
   },
   {
    "duration": 160,
    "start_time": "2023-07-15T20:41:56.724Z"
   },
   {
    "duration": 468,
    "start_time": "2023-07-15T20:42:00.460Z"
   },
   {
    "duration": 421,
    "start_time": "2023-07-15T20:42:39.347Z"
   },
   {
    "duration": 429,
    "start_time": "2023-07-15T20:42:46.978Z"
   },
   {
    "duration": 436,
    "start_time": "2023-07-15T20:42:51.178Z"
   },
   {
    "duration": 163,
    "start_time": "2023-07-15T20:43:05.889Z"
   },
   {
    "duration": 168,
    "start_time": "2023-07-15T20:43:18.878Z"
   },
   {
    "duration": 147,
    "start_time": "2023-07-15T20:43:22.188Z"
   },
   {
    "duration": 154,
    "start_time": "2023-07-15T20:43:26.229Z"
   },
   {
    "duration": 153,
    "start_time": "2023-07-15T20:43:36.129Z"
   },
   {
    "duration": 204,
    "start_time": "2023-07-15T20:43:40.613Z"
   },
   {
    "duration": 179,
    "start_time": "2023-07-15T20:44:04.502Z"
   },
   {
    "duration": 450,
    "start_time": "2023-07-15T20:44:24.052Z"
   },
   {
    "duration": 10,
    "start_time": "2023-07-15T20:44:24.504Z"
   },
   {
    "duration": 3,
    "start_time": "2023-07-15T21:33:21.932Z"
   },
   {
    "duration": 3,
    "start_time": "2023-07-15T21:33:22.382Z"
   },
   {
    "duration": 360,
    "start_time": "2023-07-15T21:33:22.736Z"
   },
   {
    "duration": 13,
    "start_time": "2023-07-15T21:33:24.636Z"
   },
   {
    "duration": 10,
    "start_time": "2023-07-15T21:33:25.034Z"
   },
   {
    "duration": 25,
    "start_time": "2023-07-15T21:33:29.970Z"
   },
   {
    "duration": 74,
    "start_time": "2023-07-15T21:33:32.452Z"
   },
   {
    "duration": 34,
    "start_time": "2023-07-15T21:33:41.911Z"
   },
   {
    "duration": 441,
    "start_time": "2023-07-18T15:52:58.909Z"
   },
   {
    "duration": 3,
    "start_time": "2023-07-18T15:52:59.805Z"
   },
   {
    "duration": 936,
    "start_time": "2023-07-18T15:53:00.344Z"
   },
   {
    "duration": 19,
    "start_time": "2023-07-18T15:53:06.495Z"
   },
   {
    "duration": 120,
    "start_time": "2023-07-18T15:56:35.143Z"
   },
   {
    "duration": 42,
    "start_time": "2023-07-18T16:03:01.384Z"
   },
   {
    "duration": 41,
    "start_time": "2023-07-18T16:03:05.547Z"
   },
   {
    "duration": 36,
    "start_time": "2023-07-18T16:03:07.384Z"
   },
   {
    "duration": 75,
    "start_time": "2023-07-18T16:39:24.455Z"
   },
   {
    "duration": 6,
    "start_time": "2023-07-18T16:39:30.173Z"
   },
   {
    "duration": 24,
    "start_time": "2023-07-18T16:39:44.778Z"
   },
   {
    "duration": 1153,
    "start_time": "2023-07-18T16:40:11.538Z"
   },
   {
    "duration": 1089,
    "start_time": "2023-07-18T16:44:24.183Z"
   },
   {
    "duration": 40,
    "start_time": "2023-07-18T16:44:37.836Z"
   },
   {
    "duration": 166,
    "start_time": "2023-07-18T16:44:46.321Z"
   },
   {
    "duration": 37,
    "start_time": "2023-07-18T16:44:48.285Z"
   },
   {
    "duration": 34,
    "start_time": "2023-07-18T16:46:22.927Z"
   },
   {
    "duration": 53,
    "start_time": "2023-07-18T16:47:06.293Z"
   },
   {
    "duration": 35,
    "start_time": "2023-07-18T16:47:11.606Z"
   },
   {
    "duration": 24,
    "start_time": "2023-07-18T16:47:15.594Z"
   },
   {
    "duration": 40,
    "start_time": "2023-07-18T16:47:37.846Z"
   },
   {
    "duration": 134,
    "start_time": "2023-07-18T16:47:41.094Z"
   },
   {
    "duration": 59,
    "start_time": "2023-07-18T16:47:47.207Z"
   },
   {
    "duration": 8,
    "start_time": "2023-07-19T12:07:46.831Z"
   },
   {
    "duration": 44,
    "start_time": "2023-07-19T12:07:47.078Z"
   },
   {
    "duration": 6,
    "start_time": "2023-07-19T12:07:47.326Z"
   },
   {
    "duration": 1521,
    "start_time": "2023-07-19T12:07:49.983Z"
   },
   {
    "duration": 2,
    "start_time": "2023-07-19T12:07:51.506Z"
   },
   {
    "duration": 1907,
    "start_time": "2023-07-19T12:07:51.510Z"
   },
   {
    "duration": 14,
    "start_time": "2023-07-19T12:07:53.418Z"
   },
   {
    "duration": 9,
    "start_time": "2023-07-19T12:07:53.434Z"
   },
   {
    "duration": 24,
    "start_time": "2023-07-19T12:07:57.289Z"
   },
   {
    "duration": 75,
    "start_time": "2023-07-19T12:07:57.610Z"
   },
   {
    "duration": 38,
    "start_time": "2023-07-19T12:07:59.966Z"
   },
   {
    "duration": 3,
    "start_time": "2023-07-19T12:09:54.271Z"
   },
   {
    "duration": 82,
    "start_time": "2023-07-19T12:10:08.712Z"
   },
   {
    "duration": 65,
    "start_time": "2023-07-19T12:12:05.526Z"
   },
   {
    "duration": 54,
    "start_time": "2023-07-19T12:12:11.557Z"
   },
   {
    "duration": 58,
    "start_time": "2023-07-19T12:12:37.681Z"
   },
   {
    "duration": 1420,
    "start_time": "2023-07-19T12:13:01.961Z"
   },
   {
    "duration": 3,
    "start_time": "2023-07-19T12:13:03.383Z"
   },
   {
    "duration": 439,
    "start_time": "2023-07-19T12:13:03.387Z"
   },
   {
    "duration": 13,
    "start_time": "2023-07-19T12:13:03.828Z"
   },
   {
    "duration": 16,
    "start_time": "2023-07-19T12:13:03.844Z"
   },
   {
    "duration": 31,
    "start_time": "2023-07-19T12:13:03.862Z"
   },
   {
    "duration": 80,
    "start_time": "2023-07-19T12:13:03.894Z"
   },
   {
    "duration": 37,
    "start_time": "2023-07-19T12:13:03.976Z"
   },
   {
    "duration": 3,
    "start_time": "2023-07-19T12:13:04.014Z"
   },
   {
    "duration": 56,
    "start_time": "2023-07-19T12:13:05.516Z"
   },
   {
    "duration": 3,
    "start_time": "2023-07-19T12:14:25.540Z"
   },
   {
    "duration": 3,
    "start_time": "2023-07-19T12:14:26.782Z"
   },
   {
    "duration": 2,
    "start_time": "2023-07-19T12:14:28.112Z"
   },
   {
    "duration": 80,
    "start_time": "2023-07-19T12:14:28.226Z"
   },
   {
    "duration": 58,
    "start_time": "2023-07-19T12:14:38.104Z"
   },
   {
    "duration": 62,
    "start_time": "2023-07-19T12:16:01.433Z"
   },
   {
    "duration": 62,
    "start_time": "2023-07-19T12:16:42.383Z"
   },
   {
    "duration": 23,
    "start_time": "2023-07-19T12:17:23.055Z"
   },
   {
    "duration": 2,
    "start_time": "2023-07-19T12:18:54.460Z"
   },
   {
    "duration": 123,
    "start_time": "2023-07-19T12:19:20.409Z"
   },
   {
    "duration": 31,
    "start_time": "2023-07-19T12:19:37.510Z"
   },
   {
    "duration": 80,
    "start_time": "2023-07-19T12:19:42.301Z"
   },
   {
    "duration": 406,
    "start_time": "2023-07-19T12:20:01.980Z"
   },
   {
    "duration": 3,
    "start_time": "2023-07-19T12:21:23.925Z"
   },
   {
    "duration": 395,
    "start_time": "2023-07-19T12:21:49.894Z"
   },
   {
    "duration": 111,
    "start_time": "2023-07-19T12:24:33.014Z"
   },
   {
    "duration": 120,
    "start_time": "2023-07-19T12:24:45.580Z"
   },
   {
    "duration": 387,
    "start_time": "2023-07-19T12:24:47.402Z"
   },
   {
    "duration": 415,
    "start_time": "2023-07-19T12:24:52.473Z"
   },
   {
    "duration": 406,
    "start_time": "2023-07-19T12:24:54.583Z"
   },
   {
    "duration": 452,
    "start_time": "2023-07-19T12:25:18.340Z"
   },
   {
    "duration": 448,
    "start_time": "2023-07-19T12:26:40.843Z"
   },
   {
    "duration": 459,
    "start_time": "2023-07-19T12:26:57.228Z"
   },
   {
    "duration": 110,
    "start_time": "2023-07-19T12:27:06.546Z"
   },
   {
    "duration": 406,
    "start_time": "2023-07-19T12:27:10.085Z"
   },
   {
    "duration": 378,
    "start_time": "2023-07-19T12:27:48.908Z"
   },
   {
    "duration": 370,
    "start_time": "2023-07-19T12:27:51.008Z"
   },
   {
    "duration": 417,
    "start_time": "2023-07-19T12:27:57.076Z"
   },
   {
    "duration": 465,
    "start_time": "2023-07-19T12:28:48.828Z"
   },
   {
    "duration": 9,
    "start_time": "2023-07-19T12:32:56.795Z"
   },
   {
    "duration": 4,
    "start_time": "2023-07-19T12:33:02.613Z"
   },
   {
    "duration": 9,
    "start_time": "2023-07-19T12:33:04.759Z"
   },
   {
    "duration": 10,
    "start_time": "2023-07-19T12:33:14.172Z"
   },
   {
    "duration": 19,
    "start_time": "2023-07-19T12:34:46.124Z"
   },
   {
    "duration": 13,
    "start_time": "2023-07-19T12:34:59.156Z"
   },
   {
    "duration": 12,
    "start_time": "2023-07-19T12:35:04.649Z"
   },
   {
    "duration": 12,
    "start_time": "2023-07-19T12:35:11.750Z"
   },
   {
    "duration": 11,
    "start_time": "2023-07-19T14:24:56.105Z"
   },
   {
    "duration": 61,
    "start_time": "2023-07-19T14:25:00.195Z"
   },
   {
    "duration": 70,
    "start_time": "2023-07-19T14:25:14.107Z"
   },
   {
    "duration": 52,
    "start_time": "2023-07-19T14:25:18.930Z"
   },
   {
    "duration": 2,
    "start_time": "2023-07-19T14:25:57.936Z"
   },
   {
    "duration": 3,
    "start_time": "2023-07-19T14:26:42.564Z"
   },
   {
    "duration": 3,
    "start_time": "2023-07-19T15:05:04.003Z"
   },
   {
    "duration": 3,
    "start_time": "2023-07-19T15:05:44.203Z"
   },
   {
    "duration": 4,
    "start_time": "2023-07-19T15:06:30.583Z"
   },
   {
    "duration": 4,
    "start_time": "2023-07-19T15:09:28.223Z"
   },
   {
    "duration": 4,
    "start_time": "2023-07-19T15:10:07.458Z"
   },
   {
    "duration": 9,
    "start_time": "2023-07-19T15:10:17.504Z"
   },
   {
    "duration": 4,
    "start_time": "2023-07-19T15:10:28.324Z"
   },
   {
    "duration": 3,
    "start_time": "2023-07-19T15:10:32.023Z"
   },
   {
    "duration": 3,
    "start_time": "2023-07-19T15:10:34.355Z"
   },
   {
    "duration": 465,
    "start_time": "2023-07-19T15:10:49.125Z"
   },
   {
    "duration": 396,
    "start_time": "2023-07-19T15:10:55.791Z"
   },
   {
    "duration": 433,
    "start_time": "2023-07-19T15:10:59.554Z"
   },
   {
    "duration": 453,
    "start_time": "2023-07-19T15:11:03.333Z"
   },
   {
    "duration": 3,
    "start_time": "2023-07-19T15:11:06.738Z"
   },
   {
    "duration": 3,
    "start_time": "2023-07-19T15:11:15.206Z"
   },
   {
    "duration": 4,
    "start_time": "2023-07-19T15:12:15.229Z"
   },
   {
    "duration": 4,
    "start_time": "2023-07-19T15:12:16.660Z"
   },
   {
    "duration": 3,
    "start_time": "2023-07-19T15:12:28.109Z"
   },
   {
    "duration": 4,
    "start_time": "2023-07-19T15:12:42.515Z"
   },
   {
    "duration": 140,
    "start_time": "2023-07-19T15:47:48.517Z"
   },
   {
    "duration": 3,
    "start_time": "2023-07-19T15:47:51.724Z"
   },
   {
    "duration": 3,
    "start_time": "2023-07-19T15:51:39.007Z"
   },
   {
    "duration": 91,
    "start_time": "2023-07-19T15:51:44.917Z"
   },
   {
    "duration": 85,
    "start_time": "2023-07-19T15:52:01.005Z"
   },
   {
    "duration": 87,
    "start_time": "2023-07-19T15:52:12.256Z"
   },
   {
    "duration": 98,
    "start_time": "2023-07-19T15:52:18.639Z"
   },
   {
    "duration": 84,
    "start_time": "2023-07-19T15:52:23.760Z"
   },
   {
    "duration": 68,
    "start_time": "2023-07-19T15:52:28.429Z"
   },
   {
    "duration": 69,
    "start_time": "2023-07-19T15:52:33.721Z"
   },
   {
    "duration": 80,
    "start_time": "2023-07-19T15:52:39.937Z"
   },
   {
    "duration": 75,
    "start_time": "2023-07-19T15:52:56.056Z"
   },
   {
    "duration": 74,
    "start_time": "2023-07-19T15:53:23.098Z"
   },
   {
    "duration": 99,
    "start_time": "2023-07-19T15:55:57.764Z"
   },
   {
    "duration": 102,
    "start_time": "2023-07-19T15:56:00.369Z"
   },
   {
    "duration": 79,
    "start_time": "2023-07-19T15:56:02.325Z"
   },
   {
    "duration": 112,
    "start_time": "2023-07-19T15:56:28.060Z"
   },
   {
    "duration": 3,
    "start_time": "2023-07-19T15:56:33.211Z"
   },
   {
    "duration": 3,
    "start_time": "2023-07-19T16:09:17.596Z"
   },
   {
    "duration": 7636,
    "start_time": "2023-07-19T16:11:40.976Z"
   },
   {
    "duration": 13,
    "start_time": "2023-07-19T16:12:00.585Z"
   },
   {
    "duration": 7,
    "start_time": "2023-07-19T16:12:05.497Z"
   },
   {
    "duration": 22589,
    "start_time": "2023-07-19T16:12:07.320Z"
   },
   {
    "duration": 27,
    "start_time": "2023-07-19T16:12:47.658Z"
   },
   {
    "duration": 29,
    "start_time": "2023-07-19T16:12:52.802Z"
   },
   {
    "duration": 49,
    "start_time": "2023-07-19T16:13:40.712Z"
   },
   {
    "duration": 29,
    "start_time": "2023-07-19T16:13:48.515Z"
   },
   {
    "duration": 47,
    "start_time": "2023-07-19T16:13:54.090Z"
   },
   {
    "duration": 2389,
    "start_time": "2023-07-19T16:14:08.353Z"
   },
   {
    "duration": 2314,
    "start_time": "2023-07-19T16:14:17.063Z"
   },
   {
    "duration": 2206,
    "start_time": "2023-07-19T16:14:42.399Z"
   },
   {
    "duration": 112,
    "start_time": "2023-07-19T16:15:42.240Z"
   },
   {
    "duration": 25,
    "start_time": "2023-07-19T16:15:44.864Z"
   },
   {
    "duration": 344,
    "start_time": "2023-07-19T16:16:14.155Z"
   },
   {
    "duration": 2426,
    "start_time": "2023-07-19T16:16:19.518Z"
   },
   {
    "duration": 2295,
    "start_time": "2023-07-19T16:16:24.108Z"
   },
   {
    "duration": 311,
    "start_time": "2023-07-19T16:17:54.080Z"
   },
   {
    "duration": 24,
    "start_time": "2023-07-19T16:18:05.352Z"
   },
   {
    "duration": 370,
    "start_time": "2023-07-19T16:18:14.654Z"
   },
   {
    "duration": 24,
    "start_time": "2023-07-19T16:18:33.769Z"
   },
   {
    "duration": 4,
    "start_time": "2023-07-19T16:18:54.386Z"
   },
   {
    "duration": 348,
    "start_time": "2023-07-19T16:18:58.222Z"
   },
   {
    "duration": 366,
    "start_time": "2023-07-19T16:19:02.021Z"
   },
   {
    "duration": 1882,
    "start_time": "2023-07-19T16:19:23.408Z"
   },
   {
    "duration": 377,
    "start_time": "2023-07-19T16:19:46.091Z"
   },
   {
    "duration": 326,
    "start_time": "2023-07-19T16:19:49.296Z"
   },
   {
    "duration": 330,
    "start_time": "2023-07-19T16:19:55.078Z"
   },
   {
    "duration": 173,
    "start_time": "2023-07-19T16:20:45.044Z"
   },
   {
    "duration": 121,
    "start_time": "2023-07-19T16:20:48.353Z"
   },
   {
    "duration": 4,
    "start_time": "2023-07-19T16:21:00.642Z"
   },
   {
    "duration": 26,
    "start_time": "2023-07-19T16:21:02.243Z"
   },
   {
    "duration": 22,
    "start_time": "2023-07-19T16:21:09.112Z"
   },
   {
    "duration": 145,
    "start_time": "2023-07-19T16:21:30.979Z"
   },
   {
    "duration": 325,
    "start_time": "2023-07-19T16:21:43.368Z"
   },
   {
    "duration": 330,
    "start_time": "2023-07-19T16:22:02.343Z"
   },
   {
    "duration": 368,
    "start_time": "2023-07-19T16:22:39.255Z"
   },
   {
    "duration": 384,
    "start_time": "2023-07-19T16:22:53.850Z"
   },
   {
    "duration": 374,
    "start_time": "2023-07-19T16:22:57.624Z"
   },
   {
    "duration": 384,
    "start_time": "2023-07-19T16:23:14.205Z"
   },
   {
    "duration": 4,
    "start_time": "2023-07-19T16:23:17.999Z"
   },
   {
    "duration": 346,
    "start_time": "2023-07-19T16:23:35.409Z"
   },
   {
    "duration": 16037,
    "start_time": "2023-07-19T16:23:43.167Z"
   },
   {
    "duration": 3,
    "start_time": "2023-07-19T16:28:46.669Z"
   },
   {
    "duration": 2179,
    "start_time": "2023-07-19T16:29:07.921Z"
   },
   {
    "duration": 336,
    "start_time": "2023-07-19T16:29:11.924Z"
   },
   {
    "duration": 338,
    "start_time": "2023-07-19T16:30:05.006Z"
   },
   {
    "duration": 328,
    "start_time": "2023-07-19T16:30:29.346Z"
   },
   {
    "duration": 821,
    "start_time": "2023-07-19T16:30:49.100Z"
   },
   {
    "duration": 864,
    "start_time": "2023-07-19T16:31:17.040Z"
   },
   {
    "duration": 843,
    "start_time": "2023-07-19T16:31:20.489Z"
   },
   {
    "duration": 5,
    "start_time": "2023-07-19T16:31:55.808Z"
   },
   {
    "duration": 805,
    "start_time": "2023-07-19T16:32:02.065Z"
   },
   {
    "duration": 334,
    "start_time": "2023-07-19T16:32:05.349Z"
   },
   {
    "duration": 330,
    "start_time": "2023-07-19T16:32:16.441Z"
   },
   {
    "duration": 1589,
    "start_time": "2023-07-19T16:32:21.812Z"
   },
   {
    "duration": 15626,
    "start_time": "2023-07-19T16:32:37.006Z"
   },
   {
    "duration": 14532,
    "start_time": "2023-07-19T16:53:50.430Z"
   },
   {
    "duration": 14890,
    "start_time": "2023-07-19T16:54:13.717Z"
   },
   {
    "duration": 386,
    "start_time": "2023-07-19T16:59:47.899Z"
   },
   {
    "duration": 399,
    "start_time": "2023-07-19T17:01:01.897Z"
   },
   {
    "duration": 15,
    "start_time": "2023-07-19T17:08:15.470Z"
   },
   {
    "duration": 4,
    "start_time": "2023-07-19T17:08:21.267Z"
   },
   {
    "duration": 4,
    "start_time": "2023-07-19T17:08:21.273Z"
   },
   {
    "duration": 341,
    "start_time": "2023-07-19T17:08:21.278Z"
   },
   {
    "duration": 9,
    "start_time": "2023-07-19T17:08:21.620Z"
   },
   {
    "duration": 10,
    "start_time": "2023-07-19T17:08:21.631Z"
   },
   {
    "duration": 33,
    "start_time": "2023-07-19T17:08:21.642Z"
   },
   {
    "duration": 18,
    "start_time": "2023-07-19T17:08:21.677Z"
   },
   {
    "duration": 95,
    "start_time": "2023-07-19T17:08:21.697Z"
   },
   {
    "duration": 33,
    "start_time": "2023-07-19T17:08:21.793Z"
   },
   {
    "duration": 2,
    "start_time": "2023-07-19T17:08:21.828Z"
   },
   {
    "duration": 461,
    "start_time": "2023-07-19T17:08:21.831Z"
   },
   {
    "duration": 97,
    "start_time": "2023-07-19T17:08:22.372Z"
   },
   {
    "duration": 14,
    "start_time": "2023-07-19T17:08:23.285Z"
   },
   {
    "duration": 5,
    "start_time": "2023-07-19T17:10:39.725Z"
   },
   {
    "duration": 9,
    "start_time": "2023-07-19T17:10:44.763Z"
   },
   {
    "duration": 3,
    "start_time": "2023-07-19T17:10:52.946Z"
   },
   {
    "duration": 3,
    "start_time": "2023-07-19T17:10:57.216Z"
   },
   {
    "duration": 3,
    "start_time": "2023-07-19T17:11:04.702Z"
   },
   {
    "duration": 4,
    "start_time": "2023-07-19T17:11:08.821Z"
   },
   {
    "duration": 17,
    "start_time": "2023-07-19T17:11:25.836Z"
   },
   {
    "duration": 16,
    "start_time": "2023-07-19T17:11:39.157Z"
   },
   {
    "duration": 5,
    "start_time": "2023-07-19T17:12:13.016Z"
   },
   {
    "duration": 129,
    "start_time": "2023-07-19T17:12:18.409Z"
   },
   {
    "duration": 45,
    "start_time": "2023-07-19T17:12:21.431Z"
   },
   {
    "duration": 101,
    "start_time": "2023-07-19T17:12:21.569Z"
   },
   {
    "duration": 133,
    "start_time": "2023-07-19T17:12:32.036Z"
   },
   {
    "duration": 501,
    "start_time": "2023-07-19T17:12:39.268Z"
   },
   {
    "duration": 3,
    "start_time": "2023-07-19T17:12:42.078Z"
   },
   {
    "duration": 4,
    "start_time": "2023-07-19T17:12:47.556Z"
   },
   {
    "duration": 25,
    "start_time": "2023-07-19T17:12:51.709Z"
   },
   {
    "duration": 417,
    "start_time": "2023-07-19T17:13:51.568Z"
   },
   {
    "duration": 4,
    "start_time": "2023-07-19T17:14:01.662Z"
   },
   {
    "duration": 3,
    "start_time": "2023-07-19T17:14:11.752Z"
   },
   {
    "duration": 9,
    "start_time": "2023-07-19T17:14:17.275Z"
   },
   {
    "duration": 8,
    "start_time": "2023-07-19T17:14:21.542Z"
   },
   {
    "duration": 4,
    "start_time": "2023-07-19T17:14:28.267Z"
   },
   {
    "duration": 23,
    "start_time": "2023-07-19T17:14:29.159Z"
   },
   {
    "duration": 6,
    "start_time": "2023-07-19T17:14:49.168Z"
   },
   {
    "duration": 109,
    "start_time": "2023-07-19T17:14:58.511Z"
   },
   {
    "duration": 3,
    "start_time": "2023-07-19T17:15:00.703Z"
   },
   {
    "duration": 4,
    "start_time": "2023-07-19T17:15:03.509Z"
   },
   {
    "duration": 7,
    "start_time": "2023-07-19T17:15:05.442Z"
   },
   {
    "duration": 7,
    "start_time": "2023-07-19T17:15:11.156Z"
   },
   {
    "duration": 468,
    "start_time": "2023-07-19T17:15:21.101Z"
   },
   {
    "duration": 8,
    "start_time": "2023-07-19T17:15:24.156Z"
   },
   {
    "duration": 6,
    "start_time": "2023-07-19T17:15:27.757Z"
   },
   {
    "duration": 460,
    "start_time": "2023-07-19T17:15:45.837Z"
   },
   {
    "duration": 11,
    "start_time": "2023-07-19T17:15:48.072Z"
   },
   {
    "duration": 4,
    "start_time": "2023-07-19T17:15:51.874Z"
   },
   {
    "duration": 18,
    "start_time": "2023-07-19T17:15:52.858Z"
   },
   {
    "duration": 11,
    "start_time": "2023-07-19T17:16:11.867Z"
   },
   {
    "duration": 5,
    "start_time": "2023-07-19T17:16:29.934Z"
   },
   {
    "duration": 9,
    "start_time": "2023-07-19T17:16:41.831Z"
   },
   {
    "duration": 472,
    "start_time": "2023-07-19T17:16:53.522Z"
   },
   {
    "duration": 75,
    "start_time": "2023-07-19T17:16:53.996Z"
   },
   {
    "duration": 3863,
    "start_time": "2023-07-19T17:16:57.393Z"
   },
   {
    "duration": 3919,
    "start_time": "2023-07-19T17:21:00.704Z"
   },
   {
    "duration": 3,
    "start_time": "2023-07-19T17:21:45.992Z"
   },
   {
    "duration": 3867,
    "start_time": "2023-07-19T17:21:51.842Z"
   },
   {
    "duration": 115,
    "start_time": "2023-07-19T17:22:23.660Z"
   },
   {
    "duration": 115,
    "start_time": "2023-07-19T17:22:26.096Z"
   },
   {
    "duration": 3823,
    "start_time": "2023-07-19T17:22:27.912Z"
   },
   {
    "duration": 3869,
    "start_time": "2023-07-19T17:22:47.603Z"
   },
   {
    "duration": 3956,
    "start_time": "2023-07-19T17:22:51.899Z"
   },
   {
    "duration": 3798,
    "start_time": "2023-07-19T17:23:05.892Z"
   },
   {
    "duration": 3804,
    "start_time": "2023-07-19T17:23:19.101Z"
   },
   {
    "duration": 414,
    "start_time": "2023-07-19T17:23:25.575Z"
   },
   {
    "duration": 413,
    "start_time": "2023-07-19T17:23:29.278Z"
   },
   {
    "duration": 3976,
    "start_time": "2023-07-19T17:23:35.112Z"
   },
   {
    "duration": 3907,
    "start_time": "2023-07-19T17:23:49.040Z"
   },
   {
    "duration": 3764,
    "start_time": "2023-07-19T17:28:18.751Z"
   },
   {
    "duration": 4475,
    "start_time": "2023-07-19T17:29:42.240Z"
   },
   {
    "duration": 4623,
    "start_time": "2023-07-19T17:30:01.604Z"
   },
   {
    "duration": 1540,
    "start_time": "2023-07-19T17:33:56.167Z"
   },
   {
    "duration": 1518,
    "start_time": "2023-07-19T17:34:05.058Z"
   },
   {
    "duration": 4691,
    "start_time": "2023-07-19T17:36:12.405Z"
   },
   {
    "duration": 4642,
    "start_time": "2023-07-19T17:36:20.886Z"
   },
   {
    "duration": 4615,
    "start_time": "2023-07-19T17:36:33.515Z"
   },
   {
    "duration": 4943,
    "start_time": "2023-07-19T17:36:43.222Z"
   },
   {
    "duration": 4568,
    "start_time": "2023-07-19T17:36:51.091Z"
   },
   {
    "duration": 4402,
    "start_time": "2023-07-19T17:36:57.786Z"
   },
   {
    "duration": 4318,
    "start_time": "2023-07-19T17:37:09.559Z"
   },
   {
    "duration": 4364,
    "start_time": "2023-07-19T17:37:14.712Z"
   },
   {
    "duration": 4751,
    "start_time": "2023-07-19T17:37:30.153Z"
   },
   {
    "duration": 5082,
    "start_time": "2023-07-19T17:39:08.186Z"
   },
   {
    "duration": 4639,
    "start_time": "2023-07-19T17:39:17.030Z"
   },
   {
    "duration": 1528,
    "start_time": "2023-07-19T17:43:05.989Z"
   },
   {
    "duration": 1522,
    "start_time": "2023-07-19T17:43:18.970Z"
   },
   {
    "duration": 4735,
    "start_time": "2023-07-19T17:43:26.856Z"
   },
   {
    "duration": 4695,
    "start_time": "2023-07-19T17:44:05.941Z"
   },
   {
    "duration": 5053,
    "start_time": "2023-07-19T17:44:18.429Z"
   },
   {
    "duration": 4972,
    "start_time": "2023-07-19T17:44:25.022Z"
   },
   {
    "duration": 4705,
    "start_time": "2023-07-19T17:45:03.607Z"
   },
   {
    "duration": 4838,
    "start_time": "2023-07-19T17:45:23.633Z"
   },
   {
    "duration": 4792,
    "start_time": "2023-07-19T17:45:43.599Z"
   },
   {
    "duration": 4,
    "start_time": "2023-07-19T17:45:52.738Z"
   },
   {
    "duration": 4565,
    "start_time": "2023-07-19T17:45:54.868Z"
   },
   {
    "duration": 4,
    "start_time": "2023-07-19T17:46:27.481Z"
   },
   {
    "duration": 4798,
    "start_time": "2023-07-19T17:46:29.384Z"
   },
   {
    "duration": 3,
    "start_time": "2023-07-19T17:46:49.368Z"
   },
   {
    "duration": 4650,
    "start_time": "2023-07-19T17:46:51.682Z"
   },
   {
    "duration": 4769,
    "start_time": "2023-07-19T17:47:34.379Z"
   },
   {
    "duration": 4895,
    "start_time": "2023-07-19T17:47:39.255Z"
   },
   {
    "duration": 4623,
    "start_time": "2023-07-19T17:47:52.483Z"
   },
   {
    "duration": 4490,
    "start_time": "2023-07-19T17:47:57.217Z"
   },
   {
    "duration": 4535,
    "start_time": "2023-07-19T17:48:03.094Z"
   },
   {
    "duration": 4358,
    "start_time": "2023-07-19T17:48:08.204Z"
   },
   {
    "duration": 1573,
    "start_time": "2023-07-19T17:48:16.675Z"
   },
   {
    "duration": 4437,
    "start_time": "2023-07-19T17:48:24.697Z"
   },
   {
    "duration": 4678,
    "start_time": "2023-07-19T17:48:35.550Z"
   },
   {
    "duration": 4619,
    "start_time": "2023-07-19T17:48:43.572Z"
   },
   {
    "duration": 1465,
    "start_time": "2023-07-19T17:50:53.431Z"
   },
   {
    "duration": 4653,
    "start_time": "2023-07-19T17:50:59.721Z"
   },
   {
    "duration": 4432,
    "start_time": "2023-07-19T17:51:06.446Z"
   },
   {
    "duration": 4408,
    "start_time": "2023-07-19T17:52:18.693Z"
   },
   {
    "duration": 4583,
    "start_time": "2023-07-19T17:52:33.292Z"
   },
   {
    "duration": 4712,
    "start_time": "2023-07-19T17:52:39.181Z"
   },
   {
    "duration": 4595,
    "start_time": "2023-07-19T17:52:49.469Z"
   },
   {
    "duration": 114,
    "start_time": "2023-07-19T17:53:05.080Z"
   },
   {
    "duration": 4617,
    "start_time": "2023-07-19T17:53:06.705Z"
   },
   {
    "duration": 4782,
    "start_time": "2023-07-19T17:53:15.446Z"
   },
   {
    "duration": 4616,
    "start_time": "2023-07-19T17:53:28.840Z"
   },
   {
    "duration": 4694,
    "start_time": "2023-07-19T17:53:40.175Z"
   },
   {
    "duration": 4640,
    "start_time": "2023-07-19T17:53:59.501Z"
   },
   {
    "duration": 4,
    "start_time": "2023-07-19T17:54:04.797Z"
   },
   {
    "duration": 1401,
    "start_time": "2023-07-19T18:07:46.473Z"
   },
   {
    "duration": 2,
    "start_time": "2023-07-19T18:07:47.876Z"
   },
   {
    "duration": 404,
    "start_time": "2023-07-19T18:07:47.880Z"
   },
   {
    "duration": 14,
    "start_time": "2023-07-19T18:07:48.287Z"
   },
   {
    "duration": 9,
    "start_time": "2023-07-19T18:07:48.304Z"
   },
   {
    "duration": 24,
    "start_time": "2023-07-19T18:07:48.314Z"
   },
   {
    "duration": 3,
    "start_time": "2023-07-19T18:07:48.340Z"
   },
   {
    "duration": 75,
    "start_time": "2023-07-19T18:07:48.368Z"
   },
   {
    "duration": 56,
    "start_time": "2023-07-19T18:07:48.445Z"
   },
   {
    "duration": 2,
    "start_time": "2023-07-19T18:07:48.502Z"
   },
   {
    "duration": 116,
    "start_time": "2023-07-19T18:07:48.505Z"
   },
   {
    "duration": 0,
    "start_time": "2023-07-19T18:07:48.623Z"
   },
   {
    "duration": 0,
    "start_time": "2023-07-19T18:07:48.624Z"
   },
   {
    "duration": 3,
    "start_time": "2023-07-19T18:08:21.619Z"
   },
   {
    "duration": 1281,
    "start_time": "2023-07-19T18:08:27.708Z"
   },
   {
    "duration": 2,
    "start_time": "2023-07-19T18:08:28.991Z"
   },
   {
    "duration": 788,
    "start_time": "2023-07-19T18:08:28.994Z"
   },
   {
    "duration": 14,
    "start_time": "2023-07-19T18:08:29.784Z"
   },
   {
    "duration": 9,
    "start_time": "2023-07-19T18:08:29.799Z"
   },
   {
    "duration": 78,
    "start_time": "2023-07-19T18:08:29.810Z"
   },
   {
    "duration": 3,
    "start_time": "2023-07-19T18:08:29.889Z"
   },
   {
    "duration": 182,
    "start_time": "2023-07-19T18:08:29.893Z"
   },
   {
    "duration": 97,
    "start_time": "2023-07-19T18:08:30.076Z"
   },
   {
    "duration": 2,
    "start_time": "2023-07-19T18:08:30.175Z"
   },
   {
    "duration": 204,
    "start_time": "2023-07-19T18:08:30.178Z"
   },
   {
    "duration": 0,
    "start_time": "2023-07-19T18:08:30.384Z"
   },
   {
    "duration": 0,
    "start_time": "2023-07-19T18:08:30.384Z"
   },
   {
    "duration": 3,
    "start_time": "2023-07-19T18:09:03.508Z"
   },
   {
    "duration": 45,
    "start_time": "2023-07-19T18:10:37.493Z"
   },
   {
    "duration": 1430,
    "start_time": "2023-07-19T18:10:43.348Z"
   },
   {
    "duration": 3,
    "start_time": "2023-07-19T18:10:44.780Z"
   },
   {
    "duration": 424,
    "start_time": "2023-07-19T18:10:44.785Z"
   },
   {
    "duration": 15,
    "start_time": "2023-07-19T18:10:45.210Z"
   },
   {
    "duration": 10,
    "start_time": "2023-07-19T18:10:46.536Z"
   },
   {
    "duration": 166,
    "start_time": "2023-07-19T18:12:54.304Z"
   },
   {
    "duration": 169,
    "start_time": "2023-07-19T18:12:59.872Z"
   },
   {
    "duration": 1299,
    "start_time": "2023-07-19T18:13:10.379Z"
   },
   {
    "duration": 4,
    "start_time": "2023-07-19T18:13:12.767Z"
   },
   {
    "duration": 398,
    "start_time": "2023-07-19T18:13:13.318Z"
   },
   {
    "duration": 15,
    "start_time": "2023-07-19T18:13:13.718Z"
   },
   {
    "duration": 10,
    "start_time": "2023-07-19T18:13:14.691Z"
   },
   {
    "duration": 25,
    "start_time": "2023-07-19T18:13:18.822Z"
   },
   {
    "duration": 180,
    "start_time": "2023-07-19T18:13:22.486Z"
   },
   {
    "duration": 75,
    "start_time": "2023-07-19T18:13:24.923Z"
   },
   {
    "duration": 39,
    "start_time": "2023-07-19T18:13:33.313Z"
   },
   {
    "duration": 1398,
    "start_time": "2023-07-19T18:20:14.037Z"
   },
   {
    "duration": 3,
    "start_time": "2023-07-19T18:20:15.437Z"
   },
   {
    "duration": 435,
    "start_time": "2023-07-19T18:20:15.441Z"
   },
   {
    "duration": 20,
    "start_time": "2023-07-19T18:20:15.879Z"
   },
   {
    "duration": 11,
    "start_time": "2023-07-19T18:20:15.902Z"
   },
   {
    "duration": 68,
    "start_time": "2023-07-19T18:20:15.914Z"
   },
   {
    "duration": 393,
    "start_time": "2023-07-19T18:20:15.984Z"
   },
   {
    "duration": 132,
    "start_time": "2023-07-19T18:20:16.379Z"
   },
   {
    "duration": 93,
    "start_time": "2023-07-19T18:20:16.513Z"
   },
   {
    "duration": 462,
    "start_time": "2023-07-19T18:20:16.608Z"
   },
   {
    "duration": 0,
    "start_time": "2023-07-19T18:20:17.071Z"
   },
   {
    "duration": 0,
    "start_time": "2023-07-19T18:20:17.073Z"
   },
   {
    "duration": 118,
    "start_time": "2023-07-19T18:20:34.953Z"
   },
   {
    "duration": 113,
    "start_time": "2023-07-19T18:20:51.503Z"
   },
   {
    "duration": 125,
    "start_time": "2023-07-19T18:23:00.146Z"
   },
   {
    "duration": 118,
    "start_time": "2023-07-19T18:23:08.951Z"
   },
   {
    "duration": 420,
    "start_time": "2023-07-19T18:23:17.274Z"
   },
   {
    "duration": 3,
    "start_time": "2023-07-19T18:28:19.530Z"
   },
   {
    "duration": 1330,
    "start_time": "2023-07-19T18:28:55.984Z"
   },
   {
    "duration": 3,
    "start_time": "2023-07-19T18:28:57.316Z"
   },
   {
    "duration": 774,
    "start_time": "2023-07-19T18:28:57.320Z"
   },
   {
    "duration": 72,
    "start_time": "2023-07-19T18:28:58.096Z"
   },
   {
    "duration": 9,
    "start_time": "2023-07-19T18:28:58.170Z"
   },
   {
    "duration": 35,
    "start_time": "2023-07-19T18:28:58.181Z"
   },
   {
    "duration": 383,
    "start_time": "2023-07-19T18:28:58.217Z"
   },
   {
    "duration": 179,
    "start_time": "2023-07-19T18:28:58.602Z"
   },
   {
    "duration": 92,
    "start_time": "2023-07-19T18:28:58.783Z"
   },
   {
    "duration": 414,
    "start_time": "2023-07-19T18:28:58.877Z"
   },
   {
    "duration": 6,
    "start_time": "2023-07-19T18:28:59.370Z"
   },
   {
    "duration": 4536,
    "start_time": "2023-07-19T18:28:59.378Z"
   },
   {
    "duration": 1315,
    "start_time": "2023-07-19T18:31:08.757Z"
   },
   {
    "duration": 2,
    "start_time": "2023-07-19T18:31:10.074Z"
   },
   {
    "duration": 421,
    "start_time": "2023-07-19T18:31:10.077Z"
   },
   {
    "duration": 15,
    "start_time": "2023-07-19T18:31:10.499Z"
   },
   {
    "duration": 27,
    "start_time": "2023-07-19T18:31:10.516Z"
   },
   {
    "duration": 57,
    "start_time": "2023-07-19T18:31:10.545Z"
   },
   {
    "duration": 209,
    "start_time": "2023-07-19T18:31:10.603Z"
   },
   {
    "duration": 81,
    "start_time": "2023-07-19T18:31:10.814Z"
   },
   {
    "duration": 37,
    "start_time": "2023-07-19T18:31:10.896Z"
   },
   {
    "duration": 455,
    "start_time": "2023-07-19T18:31:10.935Z"
   },
   {
    "duration": 82,
    "start_time": "2023-07-19T18:31:11.392Z"
   },
   {
    "duration": 4779,
    "start_time": "2023-07-19T18:31:11.476Z"
   },
   {
    "duration": 1483,
    "start_time": "2023-07-19T19:23:35.854Z"
   },
   {
    "duration": 3,
    "start_time": "2023-07-19T19:23:37.339Z"
   },
   {
    "duration": 408,
    "start_time": "2023-07-19T19:23:37.344Z"
   },
   {
    "duration": 21,
    "start_time": "2023-07-19T19:23:37.754Z"
   },
   {
    "duration": 9,
    "start_time": "2023-07-19T19:23:37.776Z"
   },
   {
    "duration": 23,
    "start_time": "2023-07-19T19:23:37.787Z"
   },
   {
    "duration": 198,
    "start_time": "2023-07-19T19:23:37.812Z"
   },
   {
    "duration": 91,
    "start_time": "2023-07-19T19:23:38.012Z"
   },
   {
    "duration": 38,
    "start_time": "2023-07-19T19:23:38.105Z"
   },
   {
    "duration": 442,
    "start_time": "2023-07-19T19:23:38.145Z"
   },
   {
    "duration": 83,
    "start_time": "2023-07-19T19:23:38.589Z"
   },
   {
    "duration": 4600,
    "start_time": "2023-07-19T19:23:38.674Z"
   },
   {
    "duration": 2914,
    "start_time": "2023-07-19T23:32:20.545Z"
   },
   {
    "duration": 3,
    "start_time": "2023-07-19T23:32:23.461Z"
   },
   {
    "duration": 904,
    "start_time": "2023-07-19T23:32:23.466Z"
   },
   {
    "duration": 16,
    "start_time": "2023-07-19T23:32:24.372Z"
   },
   {
    "duration": 150,
    "start_time": "2023-07-19T23:32:24.389Z"
   },
   {
    "duration": 48,
    "start_time": "2023-07-19T23:32:24.541Z"
   },
   {
    "duration": 278,
    "start_time": "2023-07-19T23:32:24.591Z"
   },
   {
    "duration": 113,
    "start_time": "2023-07-19T23:32:24.871Z"
   },
   {
    "duration": 54,
    "start_time": "2023-07-19T23:32:24.986Z"
   },
   {
    "duration": 487,
    "start_time": "2023-07-19T23:32:25.043Z"
   },
   {
    "duration": 9,
    "start_time": "2023-07-19T23:32:25.534Z"
   },
   {
    "duration": 4905,
    "start_time": "2023-07-19T23:32:25.545Z"
   },
   {
    "duration": 1606,
    "start_time": "2023-07-20T15:08:29.802Z"
   },
   {
    "duration": 54,
    "start_time": "2023-07-20T15:08:45.835Z"
   },
   {
    "duration": 57,
    "start_time": "2023-07-20T15:08:51.250Z"
   },
   {
    "duration": 4,
    "start_time": "2023-07-20T15:08:57.098Z"
   },
   {
    "duration": 78,
    "start_time": "2023-07-20T15:09:00.074Z"
   },
   {
    "duration": 97,
    "start_time": "2023-07-20T15:09:03.484Z"
   },
   {
    "duration": 113,
    "start_time": "2023-07-20T15:22:32.423Z"
   },
   {
    "duration": 1389,
    "start_time": "2023-07-20T15:22:36.491Z"
   },
   {
    "duration": 3,
    "start_time": "2023-07-20T15:22:37.882Z"
   },
   {
    "duration": 743,
    "start_time": "2023-07-20T15:22:37.886Z"
   },
   {
    "duration": 14,
    "start_time": "2023-07-20T15:22:38.631Z"
   },
   {
    "duration": 46,
    "start_time": "2023-07-20T15:22:38.647Z"
   },
   {
    "duration": 45,
    "start_time": "2023-07-20T15:22:38.695Z"
   },
   {
    "duration": 163,
    "start_time": "2023-07-20T15:22:38.742Z"
   },
   {
    "duration": 44,
    "start_time": "2023-07-20T15:22:38.906Z"
   },
   {
    "duration": 109,
    "start_time": "2023-07-20T15:22:38.951Z"
   },
   {
    "duration": 39,
    "start_time": "2023-07-20T15:22:39.061Z"
   },
   {
    "duration": 420,
    "start_time": "2023-07-20T15:22:39.102Z"
   },
   {
    "duration": 76,
    "start_time": "2023-07-20T15:22:39.524Z"
   },
   {
    "duration": 3973,
    "start_time": "2023-07-20T15:22:39.602Z"
   },
   {
    "duration": 48,
    "start_time": "2023-07-20T15:22:46.738Z"
   },
   {
    "duration": 53,
    "start_time": "2023-07-20T15:22:49.940Z"
   },
   {
    "duration": 48,
    "start_time": "2023-07-20T15:22:54.086Z"
   },
   {
    "duration": 1693,
    "start_time": "2023-07-20T21:36:57.221Z"
   },
   {
    "duration": 4,
    "start_time": "2023-07-20T21:36:58.967Z"
   },
   {
    "duration": 1693,
    "start_time": "2023-07-20T21:36:58.972Z"
   },
   {
    "duration": 12,
    "start_time": "2023-07-20T21:37:00.667Z"
   },
   {
    "duration": 37,
    "start_time": "2023-07-20T21:37:00.680Z"
   },
   {
    "duration": 91,
    "start_time": "2023-07-20T21:37:00.719Z"
   },
   {
    "duration": 203,
    "start_time": "2023-07-20T21:37:00.812Z"
   },
   {
    "duration": 66,
    "start_time": "2023-07-20T21:37:01.016Z"
   },
   {
    "duration": 72,
    "start_time": "2023-07-20T21:37:01.084Z"
   },
   {
    "duration": 71,
    "start_time": "2023-07-20T21:37:01.158Z"
   },
   {
    "duration": 108,
    "start_time": "2023-07-20T21:37:01.231Z"
   },
   {
    "duration": 43,
    "start_time": "2023-07-20T21:37:01.341Z"
   },
   {
    "duration": 482,
    "start_time": "2023-07-20T21:37:01.386Z"
   },
   {
    "duration": 4,
    "start_time": "2023-07-20T21:37:01.871Z"
   },
   {
    "duration": 4623,
    "start_time": "2023-07-20T21:37:01.877Z"
   },
   {
    "duration": 39,
    "start_time": "2023-07-20T21:37:24.321Z"
   },
   {
    "duration": 43,
    "start_time": "2023-07-20T21:37:24.543Z"
   },
   {
    "duration": 37,
    "start_time": "2023-07-20T21:37:24.895Z"
   },
   {
    "duration": 75,
    "start_time": "2023-07-20T21:37:49.323Z"
   },
   {
    "duration": 80,
    "start_time": "2023-07-20T21:37:50.643Z"
   },
   {
    "duration": 39,
    "start_time": "2023-07-20T21:37:50.797Z"
   },
   {
    "duration": 1933,
    "start_time": "2023-07-20T21:37:55.343Z"
   },
   {
    "duration": 2,
    "start_time": "2023-07-20T21:37:57.278Z"
   },
   {
    "duration": 518,
    "start_time": "2023-07-20T21:37:57.282Z"
   },
   {
    "duration": 12,
    "start_time": "2023-07-20T21:37:57.802Z"
   },
   {
    "duration": 10,
    "start_time": "2023-07-20T21:37:57.816Z"
   },
   {
    "duration": 38,
    "start_time": "2023-07-20T21:37:57.827Z"
   },
   {
    "duration": 180,
    "start_time": "2023-07-20T21:37:57.868Z"
   },
   {
    "duration": 55,
    "start_time": "2023-07-20T21:37:58.049Z"
   },
   {
    "duration": 79,
    "start_time": "2023-07-20T21:37:58.105Z"
   },
   {
    "duration": 35,
    "start_time": "2023-07-20T21:37:58.186Z"
   },
   {
    "duration": 86,
    "start_time": "2023-07-20T21:37:58.223Z"
   },
   {
    "duration": 39,
    "start_time": "2023-07-20T21:37:58.311Z"
   },
   {
    "duration": 516,
    "start_time": "2023-07-20T21:37:58.352Z"
   },
   {
    "duration": 95,
    "start_time": "2023-07-20T21:37:58.873Z"
   },
   {
    "duration": 4625,
    "start_time": "2023-07-20T21:37:58.970Z"
   },
   {
    "duration": 3,
    "start_time": "2023-07-20T21:38:15.395Z"
   },
   {
    "duration": 38,
    "start_time": "2023-07-20T21:38:29.794Z"
   },
   {
    "duration": 45,
    "start_time": "2023-07-20T21:38:35.182Z"
   },
   {
    "duration": 2030,
    "start_time": "2023-07-20T21:38:39.980Z"
   },
   {
    "duration": 3,
    "start_time": "2023-07-20T21:38:42.012Z"
   },
   {
    "duration": 561,
    "start_time": "2023-07-20T21:38:42.016Z"
   },
   {
    "duration": 12,
    "start_time": "2023-07-20T21:38:42.579Z"
   },
   {
    "duration": 9,
    "start_time": "2023-07-20T21:38:42.592Z"
   },
   {
    "duration": 27,
    "start_time": "2023-07-20T21:38:42.602Z"
   },
   {
    "duration": 188,
    "start_time": "2023-07-20T21:38:42.631Z"
   },
   {
    "duration": 57,
    "start_time": "2023-07-20T21:38:42.820Z"
   },
   {
    "duration": 49,
    "start_time": "2023-07-20T21:38:42.879Z"
   },
   {
    "duration": 101,
    "start_time": "2023-07-20T21:38:42.930Z"
   },
   {
    "duration": 39,
    "start_time": "2023-07-20T21:38:43.032Z"
   },
   {
    "duration": 88,
    "start_time": "2023-07-20T21:38:43.073Z"
   },
   {
    "duration": 41,
    "start_time": "2023-07-20T21:38:43.162Z"
   },
   {
    "duration": 385,
    "start_time": "2023-07-20T21:38:43.204Z"
   },
   {
    "duration": 83,
    "start_time": "2023-07-20T21:38:43.591Z"
   },
   {
    "duration": 4650,
    "start_time": "2023-07-20T21:38:43.676Z"
   },
   {
    "duration": 424,
    "start_time": "2023-07-20T21:41:46.862Z"
   },
   {
    "duration": 5,
    "start_time": "2023-07-20T21:43:34.173Z"
   },
   {
    "duration": 4657,
    "start_time": "2023-07-20T21:44:53.674Z"
   },
   {
    "duration": 4612,
    "start_time": "2023-07-20T21:45:22.252Z"
   },
   {
    "duration": 4324,
    "start_time": "2023-07-20T21:45:30.532Z"
   },
   {
    "duration": 4506,
    "start_time": "2023-07-20T21:45:39.743Z"
   },
   {
    "duration": 4551,
    "start_time": "2023-07-20T21:45:47.031Z"
   },
   {
    "duration": 4391,
    "start_time": "2023-07-20T21:48:01.383Z"
   },
   {
    "duration": 4432,
    "start_time": "2023-07-20T21:48:30.448Z"
   },
   {
    "duration": 4513,
    "start_time": "2023-07-20T21:49:15.148Z"
   },
   {
    "duration": 4348,
    "start_time": "2023-07-20T21:49:23.135Z"
   },
   {
    "duration": 4336,
    "start_time": "2023-07-20T21:49:28.845Z"
   },
   {
    "duration": 4199,
    "start_time": "2023-07-20T21:50:16.879Z"
   },
   {
    "duration": 4410,
    "start_time": "2023-07-20T21:51:21.997Z"
   },
   {
    "duration": 4487,
    "start_time": "2023-07-20T21:51:48.718Z"
   },
   {
    "duration": 4214,
    "start_time": "2023-07-20T21:52:04.679Z"
   },
   {
    "duration": 1343,
    "start_time": "2023-07-20T21:53:24.760Z"
   },
   {
    "duration": 3,
    "start_time": "2023-07-20T21:53:26.105Z"
   },
   {
    "duration": 501,
    "start_time": "2023-07-20T21:53:26.109Z"
   },
   {
    "duration": 62,
    "start_time": "2023-07-20T21:53:26.612Z"
   },
   {
    "duration": 15,
    "start_time": "2023-07-20T21:53:26.675Z"
   },
   {
    "duration": 77,
    "start_time": "2023-07-20T21:53:26.691Z"
   },
   {
    "duration": 399,
    "start_time": "2023-07-20T21:53:26.770Z"
   },
   {
    "duration": 123,
    "start_time": "2023-07-20T21:53:27.171Z"
   },
   {
    "duration": 196,
    "start_time": "2023-07-20T21:53:27.296Z"
   },
   {
    "duration": 95,
    "start_time": "2023-07-20T21:53:27.495Z"
   },
   {
    "duration": 193,
    "start_time": "2023-07-20T21:53:27.591Z"
   },
   {
    "duration": 91,
    "start_time": "2023-07-20T21:53:27.785Z"
   },
   {
    "duration": 409,
    "start_time": "2023-07-20T21:53:27.878Z"
   },
   {
    "duration": 81,
    "start_time": "2023-07-20T21:53:28.289Z"
   },
   {
    "duration": 214,
    "start_time": "2023-07-20T21:53:28.373Z"
   },
   {
    "duration": 4,
    "start_time": "2023-07-20T21:55:59.960Z"
   },
   {
    "duration": 4,
    "start_time": "2023-07-20T21:56:01.557Z"
   },
   {
    "duration": 4239,
    "start_time": "2023-07-20T21:56:07.347Z"
   },
   {
    "duration": 1956,
    "start_time": "2023-07-20T21:56:18.633Z"
   },
   {
    "duration": 2,
    "start_time": "2023-07-20T21:56:20.591Z"
   },
   {
    "duration": 776,
    "start_time": "2023-07-20T21:56:20.595Z"
   },
   {
    "duration": 12,
    "start_time": "2023-07-20T21:56:21.372Z"
   },
   {
    "duration": 32,
    "start_time": "2023-07-20T21:56:21.386Z"
   },
   {
    "duration": 70,
    "start_time": "2023-07-20T21:56:21.420Z"
   },
   {
    "duration": 390,
    "start_time": "2023-07-20T21:56:21.491Z"
   },
   {
    "duration": 103,
    "start_time": "2023-07-20T21:56:21.882Z"
   },
   {
    "duration": 181,
    "start_time": "2023-07-20T21:56:21.987Z"
   },
   {
    "duration": 100,
    "start_time": "2023-07-20T21:56:22.170Z"
   },
   {
    "duration": 132,
    "start_time": "2023-07-20T21:56:22.272Z"
   },
   {
    "duration": 86,
    "start_time": "2023-07-20T21:56:22.405Z"
   },
   {
    "duration": 491,
    "start_time": "2023-07-20T21:56:22.493Z"
   },
   {
    "duration": 86,
    "start_time": "2023-07-20T21:56:22.987Z"
   },
   {
    "duration": 4311,
    "start_time": "2023-07-20T21:56:23.077Z"
   },
   {
    "duration": 1438,
    "start_time": "2023-07-20T21:57:20.155Z"
   },
   {
    "duration": 3,
    "start_time": "2023-07-20T21:57:21.594Z"
   },
   {
    "duration": 688,
    "start_time": "2023-07-20T21:57:21.599Z"
   },
   {
    "duration": 12,
    "start_time": "2023-07-20T21:57:22.289Z"
   },
   {
    "duration": 66,
    "start_time": "2023-07-20T21:57:22.303Z"
   },
   {
    "duration": 24,
    "start_time": "2023-07-20T21:57:22.371Z"
   },
   {
    "duration": 405,
    "start_time": "2023-07-20T21:57:22.397Z"
   },
   {
    "duration": 167,
    "start_time": "2023-07-20T21:57:22.804Z"
   },
   {
    "duration": 143,
    "start_time": "2023-07-20T21:57:22.972Z"
   },
   {
    "duration": 41,
    "start_time": "2023-07-20T21:57:23.168Z"
   },
   {
    "duration": 184,
    "start_time": "2023-07-20T21:57:23.211Z"
   },
   {
    "duration": 38,
    "start_time": "2023-07-20T21:57:23.397Z"
   },
   {
    "duration": 454,
    "start_time": "2023-07-20T21:57:23.437Z"
   },
   {
    "duration": 6,
    "start_time": "2023-07-20T21:57:23.970Z"
   },
   {
    "duration": 4284,
    "start_time": "2023-07-20T21:57:24.068Z"
   }
  ],
  "kernelspec": {
   "display_name": "Python 3 (ipykernel)",
   "language": "python",
   "name": "python3"
  },
  "language_info": {
   "codemirror_mode": {
    "name": "ipython",
    "version": 3
   },
   "file_extension": ".py",
   "mimetype": "text/x-python",
   "name": "python",
   "nbconvert_exporter": "python",
   "pygments_lexer": "ipython3",
   "version": "3.12.1"
  },
  "toc": {
   "base_numbering": 1,
   "nav_menu": {},
   "number_sections": true,
   "sideBar": true,
   "skip_h1_title": true,
   "title_cell": "Table of Contents",
   "title_sidebar": "Contents",
   "toc_cell": false,
   "toc_position": {
    "height": "calc(100% - 180px)",
    "left": "10px",
    "top": "150px",
    "width": "371px"
   },
   "toc_section_display": true,
   "toc_window_display": false
  }
 },
 "nbformat": 4,
 "nbformat_minor": 4
}
