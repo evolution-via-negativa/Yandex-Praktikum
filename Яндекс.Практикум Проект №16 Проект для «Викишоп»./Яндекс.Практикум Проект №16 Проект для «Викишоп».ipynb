{
 "cells": [
  {
   "cell_type": "markdown",
   "metadata": {
    "toc": true
   },
   "source": [
    "<h1>Содержание<span class=\"tocSkip\"></span></h1>\n",
    "<div class=\"toc\"><ul class=\"toc-item\"><li><span><a href=\"#Подготовка\" data-toc-modified-id=\"Подготовка-1\"><span class=\"toc-item-num\">1&nbsp;&nbsp;</span>Подготовка</a></span><ul class=\"toc-item\"><li><span><a href=\"#Получим-данные-с-информацией-о-комментариях:\" data-toc-modified-id=\"Получим-данные-с-информацией-о-комментариях:-1.1\"><span class=\"toc-item-num\">1.1&nbsp;&nbsp;</span>Получим данные с информацией о комментариях:</a></span></li><li><span><a href=\"#Ознакомимся-с-набором-данных.-Выведем-несколько-строк-из-датафрейма:\" data-toc-modified-id=\"Ознакомимся-с-набором-данных.-Выведем-несколько-строк-из-датафрейма:-1.2\"><span class=\"toc-item-num\">1.2&nbsp;&nbsp;</span>Ознакомимся с набором данных. Выведем несколько строк из датафрейма:</a></span></li><li><span><a href=\"#Отобразим-информацию-для-краткого-обзора-данных:\" data-toc-modified-id=\"Отобразим-информацию-для-краткого-обзора-данных:-1.3\"><span class=\"toc-item-num\">1.3&nbsp;&nbsp;</span>Отобразим информацию для краткого обзора данных:</a></span></li><li><span><a href=\"#Отобразим-таблицу-с-описательной-статистикой-признаков:\" data-toc-modified-id=\"Отобразим-таблицу-с-описательной-статистикой-признаков:-1.4\"><span class=\"toc-item-num\">1.4&nbsp;&nbsp;</span>Отобразим таблицу с описательной статистикой признаков:</a></span></li><li><span><a href=\"#Проанализируем-баланс-целевого-признака\" data-toc-modified-id=\"Проанализируем-баланс-целевого-признака-1.5\"><span class=\"toc-item-num\">1.5&nbsp;&nbsp;</span>Проанализируем баланс целевого признака</a></span></li><li><span><a href=\"#Удалим-лишние-столбцы:\" data-toc-modified-id=\"Удалим-лишние-столбцы:-1.6\"><span class=\"toc-item-num\">1.6&nbsp;&nbsp;</span>Удалим лишние столбцы:</a></span></li><li><span><a href=\"#Посчитаем-количество-пропущенных-значений:\" data-toc-modified-id=\"Посчитаем-количество-пропущенных-значений:-1.7\"><span class=\"toc-item-num\">1.7&nbsp;&nbsp;</span>Посчитаем количество пропущенных значений:</a></span></li><li><span><a href=\"#Очистим-данные-от-дубликатов\" data-toc-modified-id=\"Очистим-данные-от-дубликатов-1.8\"><span class=\"toc-item-num\">1.8&nbsp;&nbsp;</span>Очистим данные от дубликатов</a></span></li><li><span><a href=\"#Создадим-базовый-пайплайн-для-предобработки-данных:\" data-toc-modified-id=\"Создадим-базовый-пайплайн-для-предобработки-данных:-1.9\"><span class=\"toc-item-num\">1.9&nbsp;&nbsp;</span>Создадим базовый пайплайн для предобработки данных:</a></span></li><li><span><a href=\"#Краткий-вывод:\" data-toc-modified-id=\"Краткий-вывод:-1.10\"><span class=\"toc-item-num\">1.10&nbsp;&nbsp;</span>Краткий вывод:</a></span></li></ul></li><li><span><a href=\"#Обучение\" data-toc-modified-id=\"Обучение-2\"><span class=\"toc-item-num\">2&nbsp;&nbsp;</span>Обучение</a></span><ul class=\"toc-item\"><li><span><a href=\"#Разделим-данные-на-обучающую,-валидационную-и-тестовую-выборки:\" data-toc-modified-id=\"Разделим-данные-на-обучающую,-валидационную-и-тестовую-выборки:-2.1\"><span class=\"toc-item-num\">2.1&nbsp;&nbsp;</span>Разделим данные на обучающую, валидационную и тестовую выборки:</a></span></li><li><span><a href=\"#Обучим-наивную-модель:\" data-toc-modified-id=\"Обучим-наивную-модель:-2.2\"><span class=\"toc-item-num\">2.2&nbsp;&nbsp;</span>Обучим наивную модель:</a></span></li><li><span><a href=\"#Попробуем-улучшить-результаты-наивной-модели:\" data-toc-modified-id=\"Попробуем-улучшить-результаты-наивной-модели:-2.3\"><span class=\"toc-item-num\">2.3&nbsp;&nbsp;</span>Попробуем улучшить результаты наивной модели:</a></span></li><li><span><a href=\"#Смоделируем-несколько-моделей-с-перебором-гиперпараметров:\" data-toc-modified-id=\"Смоделируем-несколько-моделей-с-перебором-гиперпараметров:-2.4\"><span class=\"toc-item-num\">2.4&nbsp;&nbsp;</span>Смоделируем несколько моделей с перебором гиперпараметров:</a></span></li><li><span><a href=\"#Проанализируем-результаты-моделирования:\" data-toc-modified-id=\"Проанализируем-результаты-моделирования:-2.5\"><span class=\"toc-item-num\">2.5&nbsp;&nbsp;</span>Проанализируем результаты моделирования:</a></span></li><li><span><a href=\"#Протестируем-наилучшую-модель-на-тестовой-выборке:\" data-toc-modified-id=\"Протестируем-наилучшую-модель-на-тестовой-выборке:-2.6\"><span class=\"toc-item-num\">2.6&nbsp;&nbsp;</span>Протестируем наилучшую модель на тестовой выборке:</a></span></li><li><span><a href=\"#Краткий-вывод:\" data-toc-modified-id=\"Краткий-вывод:-2.7\"><span class=\"toc-item-num\">2.7&nbsp;&nbsp;</span>Краткий вывод:</a></span></li></ul></li><li><span><a href=\"#Выводы\" data-toc-modified-id=\"Выводы-3\"><span class=\"toc-item-num\">3&nbsp;&nbsp;</span>Выводы</a></span></li><li><span><a href=\"#Чек-лист-проверки\" data-toc-modified-id=\"Чек-лист-проверки-4\"><span class=\"toc-item-num\">4&nbsp;&nbsp;</span>Чек-лист проверки</a></span></li></ul></div>"
   ]
  },
  {
   "cell_type": "markdown",
   "metadata": {},
   "source": [
    "# Проект для «Викишоп»"
   ]
  },
  {
   "cell_type": "markdown",
   "metadata": {},
   "source": [
    "Интернет-магазин «Викишоп» запускает новый сервис. Теперь пользователи могут редактировать и дополнять описания товаров, как в вики-сообществах. То есть клиенты предлагают свои правки и комментируют изменения других. Магазину нужен инструмент, который будет искать токсичные комментарии и отправлять их на модерацию. \n",
    "\n",
    "Обучите модель классифицировать комментарии на позитивные и негативные. В вашем распоряжении набор данных с разметкой о токсичности правок.\n",
    "\n",
    "Постройте модель со значением метрики качества *F1* не меньше 0.75. \n",
    "\n",
    "**Инструкция по выполнению проекта**\n",
    "\n",
    "1. Загрузите и подготовьте данные.\n",
    "2. Обучите разные модели. \n",
    "3. Сделайте выводы.\n",
    "\n",
    "Для выполнения проекта применять *BERT* необязательно, но вы можете попробовать.\n",
    "\n",
    "**Описание данных**\n",
    "\n",
    "Данные находятся в файле `toxic_comments.csv`. Столбец *text* в нём содержит текст комментария, а *toxic* — целевой признак."
   ]
  },
  {
   "cell_type": "code",
   "execution_count": 1,
   "metadata": {},
   "outputs": [],
   "source": [
    "# Импортируем полезные библиотеки, которые пригодятся нам в дальнейшем\n",
    "#!pip install optuna\n",
    "import numpy as np\n",
    "import pandas as pd\n",
    "import matplotlib.pyplot as plt\n",
    "import optuna\n",
    "import re\n",
    "import nltk\n",
    "import spacy\n",
    "from tqdm import tqdm\n",
    "from nltk.corpus import stopwords\n",
    "from IPython.core.display import display, HTML\n",
    "from sklearn.model_selection import train_test_split\n",
    "from sklearn import set_config\n",
    "from sklearn.pipeline import Pipeline\n",
    "from sklearn.preprocessing import FunctionTransformer\n",
    "from sklearn.dummy import DummyClassifier\n",
    "from sklearn.linear_model import LogisticRegression\n",
    "from sklearn.tree import DecisionTreeClassifier\n",
    "from sklearn.ensemble import RandomForestClassifier\n",
    "from sklearn.feature_extraction.text import CountVectorizer, TfidfVectorizer\n",
    "from sklearn.metrics import accuracy_score, f1_score"
   ]
  },
  {
   "cell_type": "code",
   "execution_count": 2,
   "metadata": {},
   "outputs": [
    {
     "data": {
      "text/html": [
       "<style>.container { width:75% !important; }</style>"
      ],
      "text/plain": [
       "<IPython.core.display.HTML object>"
      ]
     },
     "metadata": {},
     "output_type": "display_data"
    },
    {
     "name": "stderr",
     "output_type": "stream",
     "text": [
      "[nltk_data] Downloading package stopwords to /home/jovyan/nltk_data...\n",
      "[nltk_data]   Package stopwords is already up-to-date!\n"
     ]
    }
   ],
   "source": [
    "# Объявим константы и зададим параметры по умолчанию, которые понадобятся нам в дальнейшем\n",
    "RANDOM_STATE = 144210\n",
    "SMALL_SIZE = 12\n",
    "MEDIUM_SIZE = 18\n",
    "BIGGER_SIZE = 24\n",
    "\n",
    "display(HTML(\"<style>.container { width:75% !important; }</style>\"))\n",
    "pd.set_option('display.precision', 4)\n",
    "pd.set_option('display.float_format', '{:.4f}'.format)\n",
    "plt.rc('font', size=SMALL_SIZE)                                    # controls default text sizes\n",
    "plt.rc('axes', titlesize=MEDIUM_SIZE)                              # fontsize of the axes title\n",
    "plt.rc('axes', labelsize=MEDIUM_SIZE)                              # fontsize of the x and y labels\n",
    "plt.rc('xtick', labelsize=SMALL_SIZE)                              # fontsize of the tick labels\n",
    "plt.rc('ytick', labelsize=SMALL_SIZE)                              # fontsize of the tick labels\n",
    "plt.rc('legend', fontsize=SMALL_SIZE)                              # legend fontsize\n",
    "plt.rc('figure', titlesize=BIGGER_SIZE)                            # fontsize of the figure title\n",
    "plt.rc('figure', figsize=(18, 6))                                  # size of the figure\n",
    "nltk.download('stopwords')\n",
    "nlp = spacy.load('en_core_web_sm', disable=['parser', 'ner'])\n",
    "set_config(display='diagram')"
   ]
  },
  {
   "cell_type": "markdown",
   "metadata": {},
   "source": [
    "## Подготовка"
   ]
  },
  {
   "cell_type": "markdown",
   "metadata": {},
   "source": [
    "### Получим данные с информацией о комментариях:"
   ]
  },
  {
   "cell_type": "code",
   "execution_count": 3,
   "metadata": {},
   "outputs": [],
   "source": [
    "# Получим данные безопасным способом при помощи конструкции try-except\n",
    "try:\n",
    "    data = pd.read_csv('/datasets/toxic_comments.csv')\n",
    "except:\n",
    "    data = pd.read_csv('https://code.s3.yandex.net/datasets/toxic_comments.csv')"
   ]
  },
  {
   "cell_type": "markdown",
   "metadata": {},
   "source": [
    "### Ознакомимся с набором данных. Выведем несколько строк из датафрейма:"
   ]
  },
  {
   "cell_type": "code",
   "execution_count": 4,
   "metadata": {},
   "outputs": [
    {
     "data": {
      "text/html": [
       "<div>\n",
       "<style scoped>\n",
       "    .dataframe tbody tr th:only-of-type {\n",
       "        vertical-align: middle;\n",
       "    }\n",
       "\n",
       "    .dataframe tbody tr th {\n",
       "        vertical-align: top;\n",
       "    }\n",
       "\n",
       "    .dataframe thead th {\n",
       "        text-align: right;\n",
       "    }\n",
       "</style>\n",
       "<table border=\"1\" class=\"dataframe\">\n",
       "  <thead>\n",
       "    <tr style=\"text-align: right;\">\n",
       "      <th></th>\n",
       "      <th>Unnamed: 0</th>\n",
       "      <th>text</th>\n",
       "      <th>toxic</th>\n",
       "    </tr>\n",
       "  </thead>\n",
       "  <tbody>\n",
       "    <tr>\n",
       "      <th>0</th>\n",
       "      <td>0</td>\n",
       "      <td>Explanation\\nWhy the edits made under my usern...</td>\n",
       "      <td>0</td>\n",
       "    </tr>\n",
       "    <tr>\n",
       "      <th>1</th>\n",
       "      <td>1</td>\n",
       "      <td>D'aww! He matches this background colour I'm s...</td>\n",
       "      <td>0</td>\n",
       "    </tr>\n",
       "    <tr>\n",
       "      <th>2</th>\n",
       "      <td>2</td>\n",
       "      <td>Hey man, I'm really not trying to edit war. It...</td>\n",
       "      <td>0</td>\n",
       "    </tr>\n",
       "    <tr>\n",
       "      <th>3</th>\n",
       "      <td>3</td>\n",
       "      <td>\"\\nMore\\nI can't make any real suggestions on ...</td>\n",
       "      <td>0</td>\n",
       "    </tr>\n",
       "    <tr>\n",
       "      <th>4</th>\n",
       "      <td>4</td>\n",
       "      <td>You, sir, are my hero. Any chance you remember...</td>\n",
       "      <td>0</td>\n",
       "    </tr>\n",
       "    <tr>\n",
       "      <th>5</th>\n",
       "      <td>5</td>\n",
       "      <td>\"\\n\\nCongratulations from me as well, use the ...</td>\n",
       "      <td>0</td>\n",
       "    </tr>\n",
       "    <tr>\n",
       "      <th>6</th>\n",
       "      <td>6</td>\n",
       "      <td>COCKSUCKER BEFORE YOU PISS AROUND ON MY WORK</td>\n",
       "      <td>1</td>\n",
       "    </tr>\n",
       "    <tr>\n",
       "      <th>7</th>\n",
       "      <td>7</td>\n",
       "      <td>Your vandalism to the Matt Shirvington article...</td>\n",
       "      <td>0</td>\n",
       "    </tr>\n",
       "  </tbody>\n",
       "</table>\n",
       "</div>"
      ],
      "text/plain": [
       "   Unnamed: 0                                               text  toxic\n",
       "0           0  Explanation\\nWhy the edits made under my usern...      0\n",
       "1           1  D'aww! He matches this background colour I'm s...      0\n",
       "2           2  Hey man, I'm really not trying to edit war. It...      0\n",
       "3           3  \"\\nMore\\nI can't make any real suggestions on ...      0\n",
       "4           4  You, sir, are my hero. Any chance you remember...      0\n",
       "5           5  \"\\n\\nCongratulations from me as well, use the ...      0\n",
       "6           6       COCKSUCKER BEFORE YOU PISS AROUND ON MY WORK      1\n",
       "7           7  Your vandalism to the Matt Shirvington article...      0"
      ]
     },
     "execution_count": 4,
     "metadata": {},
     "output_type": "execute_result"
    }
   ],
   "source": [
    "data.head(8)"
   ]
  },
  {
   "cell_type": "markdown",
   "metadata": {},
   "source": [
    "### Отобразим информацию для краткого обзора данных:"
   ]
  },
  {
   "cell_type": "code",
   "execution_count": 5,
   "metadata": {},
   "outputs": [
    {
     "name": "stdout",
     "output_type": "stream",
     "text": [
      "<class 'pandas.core.frame.DataFrame'>\n",
      "RangeIndex: 159292 entries, 0 to 159291\n",
      "Data columns (total 3 columns):\n",
      " #   Column      Non-Null Count   Dtype \n",
      "---  ------      --------------   ----- \n",
      " 0   Unnamed: 0  159292 non-null  int64 \n",
      " 1   text        159292 non-null  object\n",
      " 2   toxic       159292 non-null  int64 \n",
      "dtypes: int64(2), object(1)\n",
      "memory usage: 3.6+ MB\n"
     ]
    }
   ],
   "source": [
    "data.info()"
   ]
  },
  {
   "cell_type": "markdown",
   "metadata": {},
   "source": [
    "### Отобразим таблицу с описательной статистикой признаков:"
   ]
  },
  {
   "cell_type": "code",
   "execution_count": 6,
   "metadata": {},
   "outputs": [
    {
     "data": {
      "text/html": [
       "<div>\n",
       "<style scoped>\n",
       "    .dataframe tbody tr th:only-of-type {\n",
       "        vertical-align: middle;\n",
       "    }\n",
       "\n",
       "    .dataframe tbody tr th {\n",
       "        vertical-align: top;\n",
       "    }\n",
       "\n",
       "    .dataframe thead th {\n",
       "        text-align: right;\n",
       "    }\n",
       "</style>\n",
       "<table border=\"1\" class=\"dataframe\">\n",
       "  <thead>\n",
       "    <tr style=\"text-align: right;\">\n",
       "      <th></th>\n",
       "      <th>Unnamed: 0</th>\n",
       "      <th>toxic</th>\n",
       "    </tr>\n",
       "  </thead>\n",
       "  <tbody>\n",
       "    <tr>\n",
       "      <th>count</th>\n",
       "      <td>159292.0000</td>\n",
       "      <td>159292.0000</td>\n",
       "    </tr>\n",
       "    <tr>\n",
       "      <th>mean</th>\n",
       "      <td>79725.6972</td>\n",
       "      <td>0.1016</td>\n",
       "    </tr>\n",
       "    <tr>\n",
       "      <th>std</th>\n",
       "      <td>46028.8375</td>\n",
       "      <td>0.3021</td>\n",
       "    </tr>\n",
       "    <tr>\n",
       "      <th>min</th>\n",
       "      <td>0.0000</td>\n",
       "      <td>0.0000</td>\n",
       "    </tr>\n",
       "    <tr>\n",
       "      <th>25%</th>\n",
       "      <td>39872.7500</td>\n",
       "      <td>0.0000</td>\n",
       "    </tr>\n",
       "    <tr>\n",
       "      <th>50%</th>\n",
       "      <td>79721.5000</td>\n",
       "      <td>0.0000</td>\n",
       "    </tr>\n",
       "    <tr>\n",
       "      <th>75%</th>\n",
       "      <td>119573.2500</td>\n",
       "      <td>0.0000</td>\n",
       "    </tr>\n",
       "    <tr>\n",
       "      <th>max</th>\n",
       "      <td>159450.0000</td>\n",
       "      <td>1.0000</td>\n",
       "    </tr>\n",
       "  </tbody>\n",
       "</table>\n",
       "</div>"
      ],
      "text/plain": [
       "       Unnamed: 0       toxic\n",
       "count 159292.0000 159292.0000\n",
       "mean   79725.6972      0.1016\n",
       "std    46028.8375      0.3021\n",
       "min        0.0000      0.0000\n",
       "25%    39872.7500      0.0000\n",
       "50%    79721.5000      0.0000\n",
       "75%   119573.2500      0.0000\n",
       "max   159450.0000      1.0000"
      ]
     },
     "execution_count": 6,
     "metadata": {},
     "output_type": "execute_result"
    }
   ],
   "source": [
    "data.describe()"
   ]
  },
  {
   "cell_type": "markdown",
   "metadata": {},
   "source": [
    "### Проанализируем баланс целевого признака"
   ]
  },
  {
   "cell_type": "code",
   "execution_count": 7,
   "metadata": {},
   "outputs": [
    {
     "data": {
      "text/plain": [
       "0   0.8984\n",
       "1   0.1016\n",
       "Name: toxic, dtype: float64"
      ]
     },
     "metadata": {},
     "output_type": "display_data"
    },
    {
     "data": {
      "image/png": "[encoded data removed]",
      "text/plain": [
       "<Figure size 864x288 with 1 Axes>"
      ]
     },
     "metadata": {
      "needs_background": "light"
     },
     "output_type": "display_data"
    }
   ],
   "source": [
    "toxic_balance = data.toxic.value_counts(normalize=True)\n",
    "toxic_balance.plot(kind='bar', figsize=(12, 4), title='toxic class balance', edgecolor='black', grid=True, legend=True)\n",
    "display(toxic_balance)\n",
    "\n",
    "plt.xlabel('toxic')\n",
    "plt.ylabel('frequency')\n",
    "plt.xticks(rotation=360);"
   ]
  },
  {
   "cell_type": "markdown",
   "metadata": {},
   "source": [
    "### Удалим лишние столбцы:"
   ]
  },
  {
   "cell_type": "code",
   "execution_count": 8,
   "metadata": {},
   "outputs": [],
   "source": [
    "data.drop(['Unnamed: 0'], axis=1, inplace=True)"
   ]
  },
  {
   "cell_type": "markdown",
   "metadata": {},
   "source": [
    "### Посчитаем количество пропущенных значений:"
   ]
  },
  {
   "cell_type": "code",
   "execution_count": 9,
   "metadata": {},
   "outputs": [
    {
     "data": {
      "text/plain": [
       "text     0\n",
       "toxic    0\n",
       "dtype: int64"
      ]
     },
     "execution_count": 9,
     "metadata": {},
     "output_type": "execute_result"
    }
   ],
   "source": [
    "# check\n",
    "data.isna().sum()"
   ]
  },
  {
   "cell_type": "markdown",
   "metadata": {},
   "source": [
    "### Очистим данные от дубликатов"
   ]
  },
  {
   "cell_type": "code",
   "execution_count": 10,
   "metadata": {},
   "outputs": [
    {
     "data": {
      "text/plain": [
       "0"
      ]
     },
     "execution_count": 10,
     "metadata": {},
     "output_type": "execute_result"
    }
   ],
   "source": [
    "# check\n",
    "data.duplicated().sum()"
   ]
  },
  {
   "cell_type": "markdown",
   "metadata": {},
   "source": [
    "### Создадим базовый пайплайн для предобработки данных:"
   ]
  },
  {
   "cell_type": "code",
   "execution_count": 11,
   "metadata": {},
   "outputs": [
    {
     "data": {
      "text/html": [
       "<style>div.sk-top-container {color: black;background-color: white;}div.sk-toggleable {background-color: white;}label.sk-toggleable__label {cursor: pointer;display: block;width: 100%;margin-bottom: 0;padding: 0.2em 0.3em;box-sizing: border-box;text-align: center;}div.sk-toggleable__content {max-height: 0;max-width: 0;overflow: hidden;text-align: left;background-color: #f0f8ff;}div.sk-toggleable__content pre {margin: 0.2em;color: black;border-radius: 0.25em;background-color: #f0f8ff;}input.sk-toggleable__control:checked~div.sk-toggleable__content {max-height: 200px;max-width: 100%;overflow: auto;}div.sk-estimator input.sk-toggleable__control:checked~label.sk-toggleable__label {background-color: #d4ebff;}div.sk-label input.sk-toggleable__control:checked~label.sk-toggleable__label {background-color: #d4ebff;}input.sk-hidden--visually {border: 0;clip: rect(1px 1px 1px 1px);clip: rect(1px, 1px, 1px, 1px);height: 1px;margin: -1px;overflow: hidden;padding: 0;position: absolute;width: 1px;}div.sk-estimator {font-family: monospace;background-color: #f0f8ff;margin: 0.25em 0.25em;border: 1px dotted black;border-radius: 0.25em;box-sizing: border-box;}div.sk-estimator:hover {background-color: #d4ebff;}div.sk-parallel-item::after {content: \"\";width: 100%;border-bottom: 1px solid gray;flex-grow: 1;}div.sk-label:hover label.sk-toggleable__label {background-color: #d4ebff;}div.sk-serial::before {content: \"\";position: absolute;border-left: 1px solid gray;box-sizing: border-box;top: 2em;bottom: 0;left: 50%;}div.sk-serial {display: flex;flex-direction: column;align-items: center;background-color: white;}div.sk-item {z-index: 1;}div.sk-parallel {display: flex;align-items: stretch;justify-content: center;background-color: white;}div.sk-parallel-item {display: flex;flex-direction: column;position: relative;background-color: white;}div.sk-parallel-item:first-child::after {align-self: flex-end;width: 50%;}div.sk-parallel-item:last-child::after {align-self: flex-start;width: 50%;}div.sk-parallel-item:only-child::after {width: 0;}div.sk-dashed-wrapped {border: 1px dashed gray;margin: 0.2em;box-sizing: border-box;padding-bottom: 0.1em;background-color: white;position: relative;}div.sk-label label {font-family: monospace;font-weight: bold;background-color: white;display: inline-block;line-height: 1.2em;}div.sk-label-container {position: relative;z-index: 2;text-align: center;}div.sk-container {display: inline-block;position: relative;}</style><div class=\"sk-top-container\"><div class=\"sk-container\"><div class=\"sk-item sk-dashed-wrapped\"><div class=\"sk-label-container\"><div class=\"sk-label sk-toggleable\"><input class=\"sk-toggleable__control sk-hidden--visually\" id=\"16b3ef2f-6962-427f-b240-1cec35cee921\" type=\"checkbox\" ><label class=\"sk-toggleable__label\" for=\"16b3ef2f-6962-427f-b240-1cec35cee921\">Pipeline</label><div class=\"sk-toggleable__content\"><pre>Pipeline(memory='tmp/cache',\n",
       "         steps=[('text_cleaner',\n",
       "                 FunctionTransformer(func=<function clear_texts at 0x7fbf3c4111f0>)),\n",
       "                ('text_lemmatizer',\n",
       "                 FunctionTransformer(func=<function lemmatize_texts at 0x7fbf3c411280>))])</pre></div></div></div><div class=\"sk-serial\"><div class=\"sk-item\"><div class=\"sk-estimator sk-toggleable\"><input class=\"sk-toggleable__control sk-hidden--visually\" id=\"8adbe080-b0d8-400e-9f7f-c704a906718d\" type=\"checkbox\" ><label class=\"sk-toggleable__label\" for=\"8adbe080-b0d8-400e-9f7f-c704a906718d\">FunctionTransformer</label><div class=\"sk-toggleable__content\"><pre>FunctionTransformer(func=<function clear_texts at 0x7fbf3c4111f0>)</pre></div></div></div><div class=\"sk-item\"><div class=\"sk-estimator sk-toggleable\"><input class=\"sk-toggleable__control sk-hidden--visually\" id=\"643f1b1a-2967-4df7-8fa5-62a7e4e411ea\" type=\"checkbox\" ><label class=\"sk-toggleable__label\" for=\"643f1b1a-2967-4df7-8fa5-62a7e4e411ea\">FunctionTransformer</label><div class=\"sk-toggleable__content\"><pre>FunctionTransformer(func=<function lemmatize_texts at 0x7fbf3c411280>)</pre></div></div></div></div></div></div></div>"
      ],
      "text/plain": [
       "Pipeline(memory='tmp/cache',\n",
       "         steps=[('text_cleaner',\n",
       "                 FunctionTransformer(func=<function clear_texts at 0x7fbf3c4111f0>)),\n",
       "                ('text_lemmatizer',\n",
       "                 FunctionTransformer(func=<function lemmatize_texts at 0x7fbf3c411280>))])"
      ]
     },
     "execution_count": 11,
     "metadata": {},
     "output_type": "execute_result"
    }
   ],
   "source": [
    "# Функция удаляет лишние символы из массива текстов\n",
    "def clear_texts(texts):\n",
    "    return texts.progress_apply(lambda text: ' '.join(re.sub(r'[^a-zA-Z ]', ' ', text).split()))\n",
    "\n",
    "# Функия лемматизирует массив текстов\n",
    "def lemmatize_texts(texts):\n",
    "    return texts.progress_apply(lambda text: ' '.join([token.lemma_ for token in nlp(text)]))\n",
    "\n",
    "text_preprocessor = Pipeline(steps=[('text_cleaner', FunctionTransformer(clear_texts)),\n",
    "                                    ('text_lemmatizer', FunctionTransformer(lemmatize_texts))],\n",
    "                             memory='tmp/cache')\n",
    "text_preprocessor"
   ]
  },
  {
   "cell_type": "markdown",
   "metadata": {},
   "source": [
    "### Краткий вывод:\n",
    "- в данных присутствует явно выраженный дисбаланс классов\n",
    "- в данных отсутствуют пропущенные значения\n",
    "- в данных отсутствуют дубликаты"
   ]
  },
  {
   "cell_type": "markdown",
   "metadata": {},
   "source": [
    "## Обучение"
   ]
  },
  {
   "cell_type": "markdown",
   "metadata": {},
   "source": [
    "Не смотря на явно выраженный дисбаланс классов, будем дополнительно использовать метрику `accuracy`"
   ]
  },
  {
   "cell_type": "code",
   "execution_count": 12,
   "metadata": {},
   "outputs": [
    {
     "data": {
      "text/html": [
       "<div>\n",
       "<style scoped>\n",
       "    .dataframe tbody tr th:only-of-type {\n",
       "        vertical-align: middle;\n",
       "    }\n",
       "\n",
       "    .dataframe tbody tr th {\n",
       "        vertical-align: top;\n",
       "    }\n",
       "\n",
       "    .dataframe thead th {\n",
       "        text-align: right;\n",
       "    }\n",
       "</style>\n",
       "<table border=\"1\" class=\"dataframe\">\n",
       "  <thead>\n",
       "    <tr style=\"text-align: right;\">\n",
       "      <th></th>\n",
       "      <th>accuracy</th>\n",
       "      <th>f1_score</th>\n",
       "    </tr>\n",
       "  </thead>\n",
       "  <tbody>\n",
       "  </tbody>\n",
       "</table>\n",
       "</div>"
      ],
      "text/plain": [
       "Empty DataFrame\n",
       "Columns: [accuracy, f1_score]\n",
       "Index: []"
      ]
     },
     "execution_count": 12,
     "metadata": {},
     "output_type": "execute_result"
    }
   ],
   "source": [
    "valid_results = pd.DataFrame(columns=['accuracy', 'f1_score'])\n",
    "valid_results"
   ]
  },
  {
   "cell_type": "markdown",
   "metadata": {},
   "source": [
    "### Разделим данные на обучающую, валидационную и тестовую выборки:"
   ]
  },
  {
   "cell_type": "code",
   "execution_count": 13,
   "metadata": {},
   "outputs": [
    {
     "data": {
      "text/html": [
       "<div>\n",
       "<style scoped>\n",
       "    .dataframe tbody tr th:only-of-type {\n",
       "        vertical-align: middle;\n",
       "    }\n",
       "\n",
       "    .dataframe tbody tr th {\n",
       "        vertical-align: top;\n",
       "    }\n",
       "\n",
       "    .dataframe thead th {\n",
       "        text-align: right;\n",
       "    }\n",
       "</style>\n",
       "<table border=\"1\" class=\"dataframe\">\n",
       "  <thead>\n",
       "    <tr style=\"text-align: right;\">\n",
       "      <th></th>\n",
       "      <th>dataset_proporton</th>\n",
       "    </tr>\n",
       "  </thead>\n",
       "  <tbody>\n",
       "    <tr>\n",
       "      <th>train</th>\n",
       "      <td>0.6000</td>\n",
       "    </tr>\n",
       "    <tr>\n",
       "      <th>valid</th>\n",
       "      <td>0.2000</td>\n",
       "    </tr>\n",
       "    <tr>\n",
       "      <th>test</th>\n",
       "      <td>0.2000</td>\n",
       "    </tr>\n",
       "  </tbody>\n",
       "</table>\n",
       "</div>"
      ],
      "text/plain": [
       "       dataset_proporton\n",
       "train             0.6000\n",
       "valid             0.2000\n",
       "test              0.2000"
      ]
     },
     "execution_count": 13,
     "metadata": {},
     "output_type": "execute_result"
    }
   ],
   "source": [
    "features = data['text']\n",
    "target = data['toxic']\n",
    "\n",
    "train_features, valid_features, train_target, valid_target = train_test_split(features, target, test_size=0.2, random_state=RANDOM_STATE)\n",
    "train_features, test_features, train_target, test_target = train_test_split(train_features, train_target, test_size=0.25, random_state=RANDOM_STATE)\n",
    "\n",
    "# check\n",
    "pd.DataFrame(data=[len(dataset) / len(data) for dataset in [train_features, valid_features, test_features]],\n",
    "             index=['train', 'valid', 'test'],\n",
    "             columns=['dataset_proporton'])"
   ]
  },
  {
   "cell_type": "markdown",
   "metadata": {},
   "source": [
    "### Обучим наивную модель:"
   ]
  },
  {
   "cell_type": "code",
   "execution_count": 14,
   "metadata": {},
   "outputs": [
    {
     "name": "stderr",
     "output_type": "stream",
     "text": [
      "100%|██████████| 95574/95574 [07:42<00:00, 206.72it/s]\n",
      "/opt/conda/lib/python3.9/site-packages/sklearn/pipeline.py:303: UserWarning: Persisting input arguments took 1.01s to run.\n",
      "If this happens often in your code, it can cause performance problems \n",
      "(results will be correct in all cases). \n",
      "The reason for this is probably some large input arguments for a wrapped\n",
      " function (e.g. large strings).\n",
      "THIS IS A JOBLIB ISSUE. If you can, kindly provide the joblib's team with an\n",
      " example so that they can fix the problem.\n",
      "  X, fitted_transformer = fit_transform_one_cached(\n",
      "100%|██████████| 31859/31859 [00:00<00:00, 71434.29it/s]\n",
      "100%|██████████| 31859/31859 [02:34<00:00, 206.06it/s]\n"
     ]
    },
    {
     "data": {
      "text/html": [
       "<div>\n",
       "<style scoped>\n",
       "    .dataframe tbody tr th:only-of-type {\n",
       "        vertical-align: middle;\n",
       "    }\n",
       "\n",
       "    .dataframe tbody tr th {\n",
       "        vertical-align: top;\n",
       "    }\n",
       "\n",
       "    .dataframe thead th {\n",
       "        text-align: right;\n",
       "    }\n",
       "</style>\n",
       "<table border=\"1\" class=\"dataframe\">\n",
       "  <thead>\n",
       "    <tr style=\"text-align: right;\">\n",
       "      <th></th>\n",
       "      <th>accuracy</th>\n",
       "      <th>f1_score</th>\n",
       "    </tr>\n",
       "  </thead>\n",
       "  <tbody>\n",
       "    <tr>\n",
       "      <th>DummyClassifier</th>\n",
       "      <td>0.9010</td>\n",
       "      <td>0.0000</td>\n",
       "    </tr>\n",
       "  </tbody>\n",
       "</table>\n",
       "</div>"
      ],
      "text/plain": [
       "                 accuracy  f1_score\n",
       "DummyClassifier    0.9010    0.0000"
      ]
     },
     "execution_count": 14,
     "metadata": {},
     "output_type": "execute_result"
    }
   ],
   "source": [
    "dummy_classifier = Pipeline(steps=[('text_preprocessor', text_preprocessor),\n",
    "                                   ('text_vectorizer', CountVectorizer()),\n",
    "                                   ('dummy_estimator', DummyClassifier(strategy='prior'))],\n",
    "                            memory='tmp/cache')\n",
    "dummy_classifier.fit(train_features, train_target)\n",
    "dummy_predictions = dummy_classifier.predict(valid_features)\n",
    "valid_results.loc['DummyClassifier'] = [accuracy_score(valid_target, dummy_predictions), f1_score(valid_target, dummy_predictions)]\n",
    "valid_results"
   ]
  },
  {
   "cell_type": "code",
   "execution_count": 15,
   "metadata": {},
   "outputs": [
    {
     "data": {
      "text/html": [
       "<style>div.sk-top-container {color: black;background-color: white;}div.sk-toggleable {background-color: white;}label.sk-toggleable__label {cursor: pointer;display: block;width: 100%;margin-bottom: 0;padding: 0.2em 0.3em;box-sizing: border-box;text-align: center;}div.sk-toggleable__content {max-height: 0;max-width: 0;overflow: hidden;text-align: left;background-color: #f0f8ff;}div.sk-toggleable__content pre {margin: 0.2em;color: black;border-radius: 0.25em;background-color: #f0f8ff;}input.sk-toggleable__control:checked~div.sk-toggleable__content {max-height: 200px;max-width: 100%;overflow: auto;}div.sk-estimator input.sk-toggleable__control:checked~label.sk-toggleable__label {background-color: #d4ebff;}div.sk-label input.sk-toggleable__control:checked~label.sk-toggleable__label {background-color: #d4ebff;}input.sk-hidden--visually {border: 0;clip: rect(1px 1px 1px 1px);clip: rect(1px, 1px, 1px, 1px);height: 1px;margin: -1px;overflow: hidden;padding: 0;position: absolute;width: 1px;}div.sk-estimator {font-family: monospace;background-color: #f0f8ff;margin: 0.25em 0.25em;border: 1px dotted black;border-radius: 0.25em;box-sizing: border-box;}div.sk-estimator:hover {background-color: #d4ebff;}div.sk-parallel-item::after {content: \"\";width: 100%;border-bottom: 1px solid gray;flex-grow: 1;}div.sk-label:hover label.sk-toggleable__label {background-color: #d4ebff;}div.sk-serial::before {content: \"\";position: absolute;border-left: 1px solid gray;box-sizing: border-box;top: 2em;bottom: 0;left: 50%;}div.sk-serial {display: flex;flex-direction: column;align-items: center;background-color: white;}div.sk-item {z-index: 1;}div.sk-parallel {display: flex;align-items: stretch;justify-content: center;background-color: white;}div.sk-parallel-item {display: flex;flex-direction: column;position: relative;background-color: white;}div.sk-parallel-item:first-child::after {align-self: flex-end;width: 50%;}div.sk-parallel-item:last-child::after {align-self: flex-start;width: 50%;}div.sk-parallel-item:only-child::after {width: 0;}div.sk-dashed-wrapped {border: 1px dashed gray;margin: 0.2em;box-sizing: border-box;padding-bottom: 0.1em;background-color: white;position: relative;}div.sk-label label {font-family: monospace;font-weight: bold;background-color: white;display: inline-block;line-height: 1.2em;}div.sk-label-container {position: relative;z-index: 2;text-align: center;}div.sk-container {display: inline-block;position: relative;}</style><div class=\"sk-top-container\"><div class=\"sk-container\"><div class=\"sk-item sk-dashed-wrapped\"><div class=\"sk-label-container\"><div class=\"sk-label sk-toggleable\"><input class=\"sk-toggleable__control sk-hidden--visually\" id=\"08958b0c-ca47-4116-a3c5-4ed6710d4e10\" type=\"checkbox\" ><label class=\"sk-toggleable__label\" for=\"08958b0c-ca47-4116-a3c5-4ed6710d4e10\">Pipeline</label><div class=\"sk-toggleable__content\"><pre>Pipeline(memory='tmp/cache',\n",
       "         steps=[('text_preprocessor',\n",
       "                 Pipeline(memory='tmp/cache',\n",
       "                          steps=[('text_cleaner',\n",
       "                                  FunctionTransformer(func=<function clear_texts at 0x7fbf3c4111f0>)),\n",
       "                                 ('text_lemmatizer',\n",
       "                                  FunctionTransformer(func=<function lemmatize_texts at 0x7fbf3c411280>))])),\n",
       "                ('text_vectorizer', CountVectorizer()),\n",
       "                ('dummy_estimator', DummyClassifier())])</pre></div></div></div><div class=\"sk-serial\"><div class=\"sk-item\"><div class=\"sk-label-container\"><div class=\"sk-label sk-toggleable\"><input class=\"sk-toggleable__control sk-hidden--visually\" id=\"27d9dc37-787a-471d-b1d7-876a1aca40a6\" type=\"checkbox\" ><label class=\"sk-toggleable__label\" for=\"27d9dc37-787a-471d-b1d7-876a1aca40a6\">text_preprocessor: Pipeline</label><div class=\"sk-toggleable__content\"><pre>Pipeline(memory='tmp/cache',\n",
       "         steps=[('text_cleaner',\n",
       "                 FunctionTransformer(func=<function clear_texts at 0x7fbf3c4111f0>)),\n",
       "                ('text_lemmatizer',\n",
       "                 FunctionTransformer(func=<function lemmatize_texts at 0x7fbf3c411280>))])</pre></div></div></div><div class=\"sk-serial\"><div class=\"sk-item\"><div class=\"sk-estimator sk-toggleable\"><input class=\"sk-toggleable__control sk-hidden--visually\" id=\"fb45e858-6d33-437d-a49b-eb65b1139f60\" type=\"checkbox\" ><label class=\"sk-toggleable__label\" for=\"fb45e858-6d33-437d-a49b-eb65b1139f60\">FunctionTransformer</label><div class=\"sk-toggleable__content\"><pre>FunctionTransformer(func=<function clear_texts at 0x7fbf3c4111f0>)</pre></div></div></div><div class=\"sk-item\"><div class=\"sk-estimator sk-toggleable\"><input class=\"sk-toggleable__control sk-hidden--visually\" id=\"b6bffd47-2fd2-46d3-a7aa-d9a27c7b2870\" type=\"checkbox\" ><label class=\"sk-toggleable__label\" for=\"b6bffd47-2fd2-46d3-a7aa-d9a27c7b2870\">FunctionTransformer</label><div class=\"sk-toggleable__content\"><pre>FunctionTransformer(func=<function lemmatize_texts at 0x7fbf3c411280>)</pre></div></div></div></div></div><div class=\"sk-item\"><div class=\"sk-estimator sk-toggleable\"><input class=\"sk-toggleable__control sk-hidden--visually\" id=\"5ca1784a-d462-426a-840a-7fe89f12f5b5\" type=\"checkbox\" ><label class=\"sk-toggleable__label\" for=\"5ca1784a-d462-426a-840a-7fe89f12f5b5\">CountVectorizer</label><div class=\"sk-toggleable__content\"><pre>CountVectorizer()</pre></div></div></div><div class=\"sk-item\"><div class=\"sk-estimator sk-toggleable\"><input class=\"sk-toggleable__control sk-hidden--visually\" id=\"d7043240-df0a-4270-b0ed-1cd3d67de997\" type=\"checkbox\" ><label class=\"sk-toggleable__label\" for=\"d7043240-df0a-4270-b0ed-1cd3d67de997\">DummyClassifier</label><div class=\"sk-toggleable__content\"><pre>DummyClassifier()</pre></div></div></div></div></div></div></div>"
      ],
      "text/plain": [
       "Pipeline(memory='tmp/cache',\n",
       "         steps=[('text_preprocessor',\n",
       "                 Pipeline(memory='tmp/cache',\n",
       "                          steps=[('text_cleaner',\n",
       "                                  FunctionTransformer(func=<function clear_texts at 0x7fbf3c4111f0>)),\n",
       "                                 ('text_lemmatizer',\n",
       "                                  FunctionTransformer(func=<function lemmatize_texts at 0x7fbf3c411280>))])),\n",
       "                ('text_vectorizer', CountVectorizer()),\n",
       "                ('dummy_estimator', DummyClassifier())])"
      ]
     },
     "execution_count": 15,
     "metadata": {},
     "output_type": "execute_result"
    }
   ],
   "source": [
    "dummy_classifier"
   ]
  },
  {
   "cell_type": "markdown",
   "metadata": {},
   "source": [
    "### Попробуем улучшить результаты наивной модели:"
   ]
  },
  {
   "cell_type": "markdown",
   "metadata": {},
   "source": [
    "Обучим модель логистической регрессии. Добавим стоп-слова при векторизации текста:"
   ]
  },
  {
   "cell_type": "code",
   "execution_count": 16,
   "metadata": {},
   "outputs": [
    {
     "name": "stderr",
     "output_type": "stream",
     "text": [
      "/opt/conda/lib/python3.9/site-packages/sklearn/pipeline.py:303: UserWarning: Persisting input arguments took 1.09s to run.\n",
      "If this happens often in your code, it can cause performance problems \n",
      "(results will be correct in all cases). \n",
      "The reason for this is probably some large input arguments for a wrapped\n",
      " function (e.g. large strings).\n",
      "THIS IS A JOBLIB ISSUE. If you can, kindly provide the joblib's team with an\n",
      " example so that they can fix the problem.\n",
      "  X, fitted_transformer = fit_transform_one_cached(\n",
      "/opt/conda/lib/python3.9/site-packages/sklearn/linear_model/_logistic.py:763: ConvergenceWarning: lbfgs failed to converge (status=1):\n",
      "STOP: TOTAL NO. of ITERATIONS REACHED LIMIT.\n",
      "\n",
      "Increase the number of iterations (max_iter) or scale the data as shown in:\n",
      "    https://scikit-learn.org/stable/modules/preprocessing.html\n",
      "Please also refer to the documentation for alternative solver options:\n",
      "    https://scikit-learn.org/stable/modules/linear_model.html#logistic-regression\n",
      "  n_iter_i = _check_optimize_result(\n",
      "100%|██████████| 31859/31859 [00:00<00:00, 60611.16it/s]\n",
      "100%|██████████| 31859/31859 [02:28<00:00, 214.67it/s]\n"
     ]
    },
    {
     "data": {
      "text/html": [
       "<div>\n",
       "<style scoped>\n",
       "    .dataframe tbody tr th:only-of-type {\n",
       "        vertical-align: middle;\n",
       "    }\n",
       "\n",
       "    .dataframe tbody tr th {\n",
       "        vertical-align: top;\n",
       "    }\n",
       "\n",
       "    .dataframe thead th {\n",
       "        text-align: right;\n",
       "    }\n",
       "</style>\n",
       "<table border=\"1\" class=\"dataframe\">\n",
       "  <thead>\n",
       "    <tr style=\"text-align: right;\">\n",
       "      <th></th>\n",
       "      <th>accuracy</th>\n",
       "      <th>f1_score</th>\n",
       "    </tr>\n",
       "  </thead>\n",
       "  <tbody>\n",
       "    <tr>\n",
       "      <th>DummyClassifier</th>\n",
       "      <td>0.9010</td>\n",
       "      <td>0.0000</td>\n",
       "    </tr>\n",
       "    <tr>\n",
       "      <th>LogisticRegression</th>\n",
       "      <td>0.9569</td>\n",
       "      <td>0.7596</td>\n",
       "    </tr>\n",
       "  </tbody>\n",
       "</table>\n",
       "</div>"
      ],
      "text/plain": [
       "                    accuracy  f1_score\n",
       "DummyClassifier       0.9010    0.0000\n",
       "LogisticRegression    0.9569    0.7596"
      ]
     },
     "execution_count": 16,
     "metadata": {},
     "output_type": "execute_result"
    }
   ],
   "source": [
    "logistic_classifier = Pipeline(steps=[('text_preprocessor', text_preprocessor),\n",
    "                                      ('text_vectorizer', CountVectorizer(stop_words=set(stopwords.words('english')))),\n",
    "                                      ('logistic_estimator', LogisticRegression(random_state=RANDOM_STATE))],\n",
    "                               memory='tmp/cache')\n",
    "logistic_classifier.fit(train_features, train_target)\n",
    "logistic_predictions = logistic_classifier.predict(valid_features)\n",
    "valid_results.loc['LogisticRegression'] = [accuracy_score(valid_target, logistic_predictions), f1_score(valid_target, logistic_predictions)]\n",
    "valid_results"
   ]
  },
  {
   "cell_type": "markdown",
   "metadata": {},
   "source": [
    "### Смоделируем несколько моделей с перебором гиперпараметров:"
   ]
  },
  {
   "cell_type": "markdown",
   "metadata": {},
   "source": [
    "Будем использовать следующие модели:\n",
    "- DecisionTreeClassifier\n",
    "- RandomForestClassifier\n",
    "\n",
    "Будем использовать следующие способы векторизации (только 1-граммы):\n",
    "- CountVectorizer\n",
    "- TfidfVectorizer"
   ]
  },
  {
   "cell_type": "code",
   "execution_count": 17,
   "metadata": {},
   "outputs": [
    {
     "name": "stderr",
     "output_type": "stream",
     "text": [
      "[I 2024-05-04 12:12:02,664] A new study created in memory with name: no-name-82e50d1b-2808-4b71-903b-3bb2473d3d08\n",
      "/opt/conda/lib/python3.9/site-packages/sklearn/pipeline.py:303: UserWarning: Persisting input arguments took 1.12s to run.\n",
      "If this happens often in your code, it can cause performance problems \n",
      "(results will be correct in all cases). \n",
      "The reason for this is probably some large input arguments for a wrapped\n",
      " function (e.g. large strings).\n",
      "THIS IS A JOBLIB ISSUE. If you can, kindly provide the joblib's team with an\n",
      " example so that they can fix the problem.\n",
      "  X, fitted_transformer = fit_transform_one_cached(\n",
      "100%|██████████| 31859/31859 [00:00<00:00, 78479.31it/s]\n",
      "100%|██████████| 31859/31859 [02:29<00:00, 212.42it/s]\n",
      "[I 2024-05-04 12:14:43,391] Trial 0 finished with value: 0.0 and parameters: {'text_vectorizer': 'CountVectorizer', 'classifier': 'RandomForestClassifier', 'random_forest_classifier__max_depth': 32, 'random_forest_classifier__min_samples_split': 32, 'random_forest_classifier__max_leaf_nodes': 2}. Best is trial 0 with value: 0.0.\n",
      "/opt/conda/lib/python3.9/site-packages/sklearn/pipeline.py:303: UserWarning: Persisting input arguments took 1.11s to run.\n",
      "If this happens often in your code, it can cause performance problems \n",
      "(results will be correct in all cases). \n",
      "The reason for this is probably some large input arguments for a wrapped\n",
      " function (e.g. large strings).\n",
      "THIS IS A JOBLIB ISSUE. If you can, kindly provide the joblib's team with an\n",
      " example so that they can fix the problem.\n",
      "  X, fitted_transformer = fit_transform_one_cached(\n",
      "100%|██████████| 31859/31859 [00:00<00:00, 73823.32it/s]\n",
      "100%|██████████| 31859/31859 [02:29<00:00, 213.82it/s]\n",
      "[I 2024-05-04 12:17:22,152] Trial 1 finished with value: 0.37528720959918305 and parameters: {'text_vectorizer': 'TfidfVectorizer', 'classifier': 'DecisionTreeClassifier', 'decision_tree_classifier__max_depth': 2, 'decision_tree_classifier__min_samples_split': 16}. Best is trial 1 with value: 0.37528720959918305.\n",
      "100%|██████████| 31859/31859 [00:00<00:00, 77746.00it/s]\n",
      "100%|██████████| 31859/31859 [02:29<00:00, 213.82it/s]\n",
      "[I 2024-05-04 12:19:56,266] Trial 2 finished with value: 0.0 and parameters: {'text_vectorizer': 'CountVectorizer', 'classifier': 'RandomForestClassifier', 'random_forest_classifier__max_depth': 8, 'random_forest_classifier__min_samples_split': 4, 'random_forest_classifier__max_leaf_nodes': 32}. Best is trial 1 with value: 0.37528720959918305.\n",
      "100%|██████████| 31859/31859 [00:00<00:00, 75341.14it/s]\n",
      "100%|██████████| 31859/31859 [02:29<00:00, 212.90it/s]\n",
      "[I 2024-05-04 12:22:31,446] Trial 3 finished with value: 0.0006341154090044388 and parameters: {'text_vectorizer': 'TfidfVectorizer', 'classifier': 'RandomForestClassifier', 'random_forest_classifier__max_depth': 16, 'random_forest_classifier__min_samples_split': 4, 'random_forest_classifier__max_leaf_nodes': 16}. Best is trial 1 with value: 0.37528720959918305.\n",
      "100%|██████████| 31859/31859 [00:00<00:00, 80419.65it/s]\n",
      "100%|██████████| 31859/31859 [02:29<00:00, 213.35it/s]\n",
      "[I 2024-05-04 12:25:06,805] Trial 4 finished with value: 0.0006341154090044388 and parameters: {'text_vectorizer': 'TfidfVectorizer', 'classifier': 'RandomForestClassifier', 'random_forest_classifier__max_depth': 32, 'random_forest_classifier__min_samples_split': 16, 'random_forest_classifier__max_leaf_nodes': 16}. Best is trial 1 with value: 0.37528720959918305.\n",
      "100%|██████████| 31859/31859 [00:00<00:00, 77535.42it/s]\n",
      "100%|██████████| 31859/31859 [02:28<00:00, 215.07it/s]\n",
      "[I 2024-05-04 12:27:39,072] Trial 5 finished with value: 0.37528720959918305 and parameters: {'text_vectorizer': 'TfidfVectorizer', 'classifier': 'DecisionTreeClassifier', 'decision_tree_classifier__max_depth': 2, 'decision_tree_classifier__min_samples_split': 16}. Best is trial 1 with value: 0.37528720959918305.\n",
      "100%|██████████| 31859/31859 [00:00<00:00, 79600.98it/s]\n",
      "100%|██████████| 31859/31859 [02:28<00:00, 214.98it/s]\n",
      "[I 2024-05-04 12:30:21,307] Trial 6 finished with value: 0.6950085405200227 and parameters: {'text_vectorizer': 'TfidfVectorizer', 'classifier': 'DecisionTreeClassifier', 'decision_tree_classifier__max_depth': 32, 'decision_tree_classifier__min_samples_split': 8}. Best is trial 6 with value: 0.6950085405200227.\n",
      "100%|██████████| 31859/31859 [00:00<00:00, 81251.47it/s]\n",
      "100%|██████████| 31859/31859 [02:42<00:00, 195.46it/s]\n",
      "[I 2024-05-04 12:33:09,030] Trial 7 finished with value: 0.0 and parameters: {'text_vectorizer': 'TfidfVectorizer', 'classifier': 'RandomForestClassifier', 'random_forest_classifier__max_depth': 2, 'random_forest_classifier__min_samples_split': 4, 'random_forest_classifier__max_leaf_nodes': 32}. Best is trial 6 with value: 0.6950085405200227.\n",
      "100%|██████████| 31859/31859 [00:00<00:00, 79167.35it/s]\n",
      "100%|██████████| 31859/31859 [02:29<00:00, 213.32it/s]\n",
      "[I 2024-05-04 12:35:46,977] Trial 8 finished with value: 0.6457996768982229 and parameters: {'text_vectorizer': 'TfidfVectorizer', 'classifier': 'DecisionTreeClassifier', 'decision_tree_classifier__max_depth': 16, 'decision_tree_classifier__min_samples_split': 8}. Best is trial 6 with value: 0.6950085405200227.\n",
      "100%|██████████| 31859/31859 [00:00<00:00, 79495.52it/s]\n",
      "100%|██████████| 31859/31859 [02:27<00:00, 215.98it/s]\n",
      "[I 2024-05-04 12:38:22,288] Trial 9 finished with value: 0.6841008148569263 and parameters: {'text_vectorizer': 'CountVectorizer', 'classifier': 'DecisionTreeClassifier', 'decision_tree_classifier__max_depth': 32, 'decision_tree_classifier__min_samples_split': 16}. Best is trial 6 with value: 0.6950085405200227.\n",
      "100%|██████████| 31859/31859 [00:00<00:00, 77887.71it/s]\n",
      "100%|██████████| 31859/31859 [02:26<00:00, 216.97it/s]\n",
      "[I 2024-05-04 12:40:56,651] Trial 10 finished with value: 0.6870888930652133 and parameters: {'text_vectorizer': 'CountVectorizer', 'classifier': 'DecisionTreeClassifier', 'decision_tree_classifier__max_depth': 32, 'decision_tree_classifier__min_samples_split': 4}. Best is trial 6 with value: 0.6950085405200227.\n",
      "100%|██████████| 31859/31859 [00:00<00:00, 79693.79it/s]\n",
      "100%|██████████| 31859/31859 [02:27<00:00, 215.88it/s]\n",
      "[I 2024-05-04 12:43:31,876] Trial 11 finished with value: 0.6870888930652133 and parameters: {'text_vectorizer': 'CountVectorizer', 'classifier': 'DecisionTreeClassifier', 'decision_tree_classifier__max_depth': 32, 'decision_tree_classifier__min_samples_split': 4}. Best is trial 6 with value: 0.6950085405200227.\n",
      "100%|██████████| 31859/31859 [00:00<00:00, 78299.28it/s]\n",
      "100%|██████████| 31859/31859 [02:27<00:00, 216.34it/s]\n",
      "[I 2024-05-04 12:46:07,290] Trial 12 finished with value: 0.6870171471641229 and parameters: {'text_vectorizer': 'CountVectorizer', 'classifier': 'DecisionTreeClassifier', 'decision_tree_classifier__max_depth': 32, 'decision_tree_classifier__min_samples_split': 8}. Best is trial 6 with value: 0.6950085405200227.\n",
      "100%|██████████| 31859/31859 [00:00<00:00, 78056.64it/s]\n",
      "100%|██████████| 31859/31859 [02:27<00:00, 215.70it/s]\n",
      "[I 2024-05-04 12:48:38,791] Trial 13 finished with value: 0.5845235557450438 and parameters: {'text_vectorizer': 'CountVectorizer', 'classifier': 'DecisionTreeClassifier', 'decision_tree_classifier__max_depth': 8, 'decision_tree_classifier__min_samples_split': 32}. Best is trial 6 with value: 0.6950085405200227.\n",
      "100%|██████████| 31859/31859 [00:00<00:00, 78491.99it/s]\n",
      "100%|██████████| 31859/31859 [02:27<00:00, 216.09it/s]\n",
      "[I 2024-05-04 12:51:10,924] Trial 14 finished with value: 0.4759193357058126 and parameters: {'text_vectorizer': 'TfidfVectorizer', 'classifier': 'DecisionTreeClassifier', 'decision_tree_classifier__max_depth': 4, 'decision_tree_classifier__min_samples_split': 2}. Best is trial 6 with value: 0.6950085405200227.\n",
      "100%|██████████| 31859/31859 [00:00<00:00, 77530.79it/s]\n",
      "100%|██████████| 31859/31859 [02:28<00:00, 214.89it/s]\n",
      "[I 2024-05-04 12:53:46,643] Trial 15 finished with value: 0.6870888930652133 and parameters: {'text_vectorizer': 'CountVectorizer', 'classifier': 'DecisionTreeClassifier', 'decision_tree_classifier__max_depth': 32, 'decision_tree_classifier__min_samples_split': 4}. Best is trial 6 with value: 0.6950085405200227.\n",
      "100%|██████████| 31859/31859 [00:00<00:00, 79610.04it/s]\n",
      "100%|██████████| 31859/31859 [02:27<00:00, 216.03it/s]\n",
      "[I 2024-05-04 12:56:21,731] Trial 16 finished with value: 0.6870888930652133 and parameters: {'text_vectorizer': 'CountVectorizer', 'classifier': 'DecisionTreeClassifier', 'decision_tree_classifier__max_depth': 32, 'decision_tree_classifier__min_samples_split': 4}. Best is trial 6 with value: 0.6950085405200227.\n",
      "100%|██████████| 31859/31859 [00:00<00:00, 81045.14it/s]\n",
      "100%|██████████| 31859/31859 [02:27<00:00, 216.73it/s]\n",
      "[I 2024-05-04 12:58:53,074] Trial 17 finished with value: 0.4755576649264357 and parameters: {'text_vectorizer': 'TfidfVectorizer', 'classifier': 'DecisionTreeClassifier', 'decision_tree_classifier__max_depth': 4, 'decision_tree_classifier__min_samples_split': 8}. Best is trial 6 with value: 0.6950085405200227.\n",
      "100%|██████████| 31859/31859 [00:00<00:00, 70827.08it/s]\n",
      "100%|██████████| 31859/31859 [02:26<00:00, 217.07it/s]\n",
      "[I 2024-05-04 13:01:28,563] Trial 18 finished with value: 0.6422912858013408 and parameters: {'text_vectorizer': 'TfidfVectorizer', 'classifier': 'DecisionTreeClassifier', 'decision_tree_classifier__max_depth': 16, 'decision_tree_classifier__min_samples_split': 32}. Best is trial 6 with value: 0.6950085405200227.\n",
      "100%|██████████| 31859/31859 [00:00<00:00, 74931.72it/s]\n",
      "100%|██████████| 31859/31859 [02:28<00:00, 214.96it/s]\n",
      "[I 2024-05-04 13:04:00,775] Trial 19 finished with value: 0.5853970964987191 and parameters: {'text_vectorizer': 'CountVectorizer', 'classifier': 'DecisionTreeClassifier', 'decision_tree_classifier__max_depth': 8, 'decision_tree_classifier__min_samples_split': 2}. Best is trial 6 with value: 0.6950085405200227.\n",
      "100%|██████████| 31859/31859 [00:00<00:00, 80305.11it/s]\n",
      "100%|██████████| 31859/31859 [02:27<00:00, 215.86it/s]\n",
      "[I 2024-05-04 13:06:36,540] Trial 20 finished with value: 0.6870171471641229 and parameters: {'text_vectorizer': 'CountVectorizer', 'classifier': 'DecisionTreeClassifier', 'decision_tree_classifier__max_depth': 32, 'decision_tree_classifier__min_samples_split': 8}. Best is trial 6 with value: 0.6950085405200227.\n",
      "100%|██████████| 31859/31859 [00:00<00:00, 77984.89it/s]\n",
      "100%|██████████| 31859/31859 [02:26<00:00, 217.34it/s]\n",
      "[I 2024-05-04 13:09:10,962] Trial 21 finished with value: 0.6870888930652133 and parameters: {'text_vectorizer': 'CountVectorizer', 'classifier': 'DecisionTreeClassifier', 'decision_tree_classifier__max_depth': 32, 'decision_tree_classifier__min_samples_split': 4}. Best is trial 6 with value: 0.6950085405200227.\n",
      "100%|██████████| 31859/31859 [00:00<00:00, 80867.59it/s]\n",
      "100%|██████████| 31859/31859 [02:27<00:00, 215.94it/s]\n",
      "[I 2024-05-04 13:11:46,061] Trial 22 finished with value: 0.6870888930652133 and parameters: {'text_vectorizer': 'CountVectorizer', 'classifier': 'DecisionTreeClassifier', 'decision_tree_classifier__max_depth': 32, 'decision_tree_classifier__min_samples_split': 4}. Best is trial 6 with value: 0.6950085405200227.\n",
      "100%|██████████| 31859/31859 [00:00<00:00, 81071.64it/s]\n",
      "100%|██████████| 31859/31859 [02:28<00:00, 214.71it/s]\n",
      "[I 2024-05-04 13:14:22,286] Trial 23 finished with value: 0.6870888930652133 and parameters: {'text_vectorizer': 'CountVectorizer', 'classifier': 'DecisionTreeClassifier', 'decision_tree_classifier__max_depth': 32, 'decision_tree_classifier__min_samples_split': 4}. Best is trial 6 with value: 0.6950085405200227.\n",
      "100%|██████████| 31859/31859 [00:00<00:00, 77815.36it/s]\n",
      "100%|██████████| 31859/31859 [02:27<00:00, 216.00it/s]\n",
      "[I 2024-05-04 13:16:57,197] Trial 24 finished with value: 0.6870888930652133 and parameters: {'text_vectorizer': 'CountVectorizer', 'classifier': 'DecisionTreeClassifier', 'decision_tree_classifier__max_depth': 32, 'decision_tree_classifier__min_samples_split': 4}. Best is trial 6 with value: 0.6950085405200227.\n",
      "100%|██████████| 31859/31859 [00:00<00:00, 76091.06it/s]\n",
      "100%|██████████| 31859/31859 [02:27<00:00, 215.52it/s]\n",
      "[I 2024-05-04 13:19:32,698] Trial 25 finished with value: 0.6870888930652133 and parameters: {'text_vectorizer': 'CountVectorizer', 'classifier': 'DecisionTreeClassifier', 'decision_tree_classifier__max_depth': 32, 'decision_tree_classifier__min_samples_split': 4}. Best is trial 6 with value: 0.6950085405200227.\n",
      "100%|██████████| 31859/31859 [00:00<00:00, 78643.00it/s]\n",
      "100%|██████████| 31859/31859 [02:27<00:00, 215.59it/s]\n",
      "[I 2024-05-04 13:22:05,391] Trial 26 finished with value: 0.0 and parameters: {'text_vectorizer': 'TfidfVectorizer', 'classifier': 'RandomForestClassifier', 'random_forest_classifier__max_depth': 4, 'random_forest_classifier__min_samples_split': 2, 'random_forest_classifier__max_leaf_nodes': 8}. Best is trial 6 with value: 0.6950085405200227.\n",
      "100%|██████████| 31859/31859 [00:00<00:00, 81913.81it/s]\n",
      "100%|██████████| 31859/31859 [02:29<00:00, 213.36it/s]\n",
      "[I 2024-05-04 13:24:38,858] Trial 27 finished with value: 0.5848452508004269 and parameters: {'text_vectorizer': 'CountVectorizer', 'classifier': 'DecisionTreeClassifier', 'decision_tree_classifier__max_depth': 8, 'decision_tree_classifier__min_samples_split': 8}. Best is trial 6 with value: 0.6950085405200227.\n",
      "100%|██████████| 31859/31859 [00:00<00:00, 79290.24it/s]\n",
      "100%|██████████| 31859/31859 [02:27<00:00, 216.35it/s]\n",
      "[I 2024-05-04 13:27:20,131] Trial 28 finished with value: 0.6959651449138092 and parameters: {'text_vectorizer': 'TfidfVectorizer', 'classifier': 'DecisionTreeClassifier', 'decision_tree_classifier__max_depth': 32, 'decision_tree_classifier__min_samples_split': 4}. Best is trial 28 with value: 0.6959651449138092.\n",
      "100%|██████████| 31859/31859 [00:00<00:00, 71839.02it/s]\n",
      "100%|██████████| 31859/31859 [02:26<00:00, 217.20it/s]\n",
      "[I 2024-05-04 13:29:51,529] Trial 29 finished with value: 0.0 and parameters: {'text_vectorizer': 'TfidfVectorizer', 'classifier': 'RandomForestClassifier', 'random_forest_classifier__max_depth': 16, 'random_forest_classifier__min_samples_split': 8, 'random_forest_classifier__max_leaf_nodes': 4}. Best is trial 28 with value: 0.6959651449138092.\n",
      "100%|██████████| 31859/31859 [00:00<00:00, 78506.93it/s]\n",
      "100%|██████████| 31859/31859 [02:26<00:00, 217.10it/s]\n",
      "[I 2024-05-04 13:32:22,149] Trial 30 finished with value: 0.37528720959918305 and parameters: {'text_vectorizer': 'TfidfVectorizer', 'classifier': 'DecisionTreeClassifier', 'decision_tree_classifier__max_depth': 2, 'decision_tree_classifier__min_samples_split': 2}. Best is trial 28 with value: 0.6959651449138092.\n",
      "100%|██████████| 31859/31859 [00:00<00:00, 74867.82it/s]\n",
      "100%|██████████| 31859/31859 [02:26<00:00, 216.85it/s]\n",
      "[I 2024-05-04 13:35:03,241] Trial 31 finished with value: 0.6959651449138092 and parameters: {'text_vectorizer': 'TfidfVectorizer', 'classifier': 'DecisionTreeClassifier', 'decision_tree_classifier__max_depth': 32, 'decision_tree_classifier__min_samples_split': 4}. Best is trial 28 with value: 0.6959651449138092.\n",
      "100%|██████████| 31859/31859 [00:00<00:00, 82834.98it/s]\n",
      "100%|██████████| 31859/31859 [02:26<00:00, 216.85it/s]\n",
      "[I 2024-05-04 13:37:44,363] Trial 32 finished with value: 0.6959651449138092 and parameters: {'text_vectorizer': 'TfidfVectorizer', 'classifier': 'DecisionTreeClassifier', 'decision_tree_classifier__max_depth': 32, 'decision_tree_classifier__min_samples_split': 4}. Best is trial 28 with value: 0.6959651449138092.\n",
      "100%|██████████| 31859/31859 [00:00<00:00, 80906.17it/s]\n",
      "100%|██████████| 31859/31859 [02:27<00:00, 216.04it/s]\n",
      "[I 2024-05-04 13:40:25,613] Trial 33 finished with value: 0.6959651449138092 and parameters: {'text_vectorizer': 'TfidfVectorizer', 'classifier': 'DecisionTreeClassifier', 'decision_tree_classifier__max_depth': 32, 'decision_tree_classifier__min_samples_split': 4}. Best is trial 28 with value: 0.6959651449138092.\n",
      "100%|██████████| 31859/31859 [00:00<00:00, 81121.45it/s]\n",
      "100%|██████████| 31859/31859 [02:26<00:00, 217.53it/s]\n",
      "[I 2024-05-04 13:43:00,739] Trial 34 finished with value: 0.6435803969218307 and parameters: {'text_vectorizer': 'TfidfVectorizer', 'classifier': 'DecisionTreeClassifier', 'decision_tree_classifier__max_depth': 16, 'decision_tree_classifier__min_samples_split': 4}. Best is trial 28 with value: 0.6959651449138092.\n",
      "100%|██████████| 31859/31859 [00:00<00:00, 77676.68it/s]\n",
      "100%|██████████| 31859/31859 [02:28<00:00, 214.22it/s]\n",
      "[I 2024-05-04 13:45:34,208] Trial 35 finished with value: 0.0 and parameters: {'text_vectorizer': 'TfidfVectorizer', 'classifier': 'RandomForestClassifier', 'random_forest_classifier__max_depth': 4, 'random_forest_classifier__min_samples_split': 2, 'random_forest_classifier__max_leaf_nodes': 8}. Best is trial 28 with value: 0.6959651449138092.\n",
      "100%|██████████| 31859/31859 [00:00<00:00, 82483.96it/s]\n",
      "100%|██████████| 31859/31859 [02:27<00:00, 216.55it/s]\n",
      "[I 2024-05-04 13:48:05,590] Trial 36 finished with value: 0.4759193357058126 and parameters: {'text_vectorizer': 'TfidfVectorizer', 'classifier': 'DecisionTreeClassifier', 'decision_tree_classifier__max_depth': 4, 'decision_tree_classifier__min_samples_split': 4}. Best is trial 28 with value: 0.6959651449138092.\n",
      "100%|██████████| 31859/31859 [00:00<00:00, 77450.40it/s]\n",
      "100%|██████████| 31859/31859 [02:28<00:00, 215.02it/s]\n",
      "[I 2024-05-04 13:50:38,217] Trial 37 finished with value: 0.0 and parameters: {'text_vectorizer': 'TfidfVectorizer', 'classifier': 'RandomForestClassifier', 'random_forest_classifier__max_depth': 2, 'random_forest_classifier__min_samples_split': 16, 'random_forest_classifier__max_leaf_nodes': 4}. Best is trial 28 with value: 0.6959651449138092.\n",
      "100%|██████████| 31859/31859 [00:00<00:00, 80604.76it/s]\n",
      "100%|██████████| 31859/31859 [02:28<00:00, 215.18it/s]\n",
      "[I 2024-05-04 13:53:20,617] Trial 38 finished with value: 0.6959651449138092 and parameters: {'text_vectorizer': 'TfidfVectorizer', 'classifier': 'DecisionTreeClassifier', 'decision_tree_classifier__max_depth': 32, 'decision_tree_classifier__min_samples_split': 4}. Best is trial 28 with value: 0.6959651449138092.\n",
      "100%|██████████| 31859/31859 [00:00<00:00, 81538.73it/s]\n",
      "100%|██████████| 31859/31859 [02:28<00:00, 214.81it/s]\n",
      "[I 2024-05-04 13:55:52,704] Trial 39 finished with value: 0.37528720959918305 and parameters: {'text_vectorizer': 'TfidfVectorizer', 'classifier': 'DecisionTreeClassifier', 'decision_tree_classifier__max_depth': 2, 'decision_tree_classifier__min_samples_split': 4}. Best is trial 28 with value: 0.6959651449138092.\n",
      "100%|██████████| 31859/31859 [00:00<00:00, 81134.11it/s]\n",
      "100%|██████████| 31859/31859 [02:27<00:00, 216.23it/s]\n",
      "[I 2024-05-04 13:58:24,465] Trial 40 finished with value: 0.0 and parameters: {'text_vectorizer': 'TfidfVectorizer', 'classifier': 'RandomForestClassifier', 'random_forest_classifier__max_depth': 8, 'random_forest_classifier__min_samples_split': 8, 'random_forest_classifier__max_leaf_nodes': 2}. Best is trial 28 with value: 0.6959651449138092.\n",
      "100%|██████████| 31859/31859 [00:00<00:00, 76425.46it/s]\n",
      "100%|██████████| 31859/31859 [02:27<00:00, 216.72it/s]\n",
      "[I 2024-05-04 14:01:05,564] Trial 41 finished with value: 0.6959651449138092 and parameters: {'text_vectorizer': 'TfidfVectorizer', 'classifier': 'DecisionTreeClassifier', 'decision_tree_classifier__max_depth': 32, 'decision_tree_classifier__min_samples_split': 4}. Best is trial 28 with value: 0.6959651449138092.\n",
      "100%|██████████| 31859/31859 [00:00<00:00, 81317.18it/s]\n",
      "100%|██████████| 31859/31859 [02:28<00:00, 214.96it/s]\n",
      "[I 2024-05-04 14:03:47,622] Trial 42 finished with value: 0.6959651449138092 and parameters: {'text_vectorizer': 'TfidfVectorizer', 'classifier': 'DecisionTreeClassifier', 'decision_tree_classifier__max_depth': 32, 'decision_tree_classifier__min_samples_split': 4}. Best is trial 28 with value: 0.6959651449138092.\n",
      "100%|██████████| 31859/31859 [00:00<00:00, 71355.67it/s]\n",
      "100%|██████████| 31859/31859 [02:28<00:00, 215.02it/s]\n",
      "[I 2024-05-04 14:06:29,745] Trial 43 finished with value: 0.6947729874093856 and parameters: {'text_vectorizer': 'TfidfVectorizer', 'classifier': 'DecisionTreeClassifier', 'decision_tree_classifier__max_depth': 32, 'decision_tree_classifier__min_samples_split': 16}. Best is trial 28 with value: 0.6959651449138092.\n",
      "100%|██████████| 31859/31859 [00:00<00:00, 81176.44it/s]\n",
      "100%|██████████| 31859/31859 [02:27<00:00, 215.37it/s]\n",
      "[I 2024-05-04 14:09:11,727] Trial 44 finished with value: 0.6959651449138092 and parameters: {'text_vectorizer': 'TfidfVectorizer', 'classifier': 'DecisionTreeClassifier', 'decision_tree_classifier__max_depth': 32, 'decision_tree_classifier__min_samples_split': 4}. Best is trial 28 with value: 0.6959651449138092.\n",
      "100%|██████████| 31859/31859 [00:00<00:00, 82294.23it/s]\n",
      "100%|██████████| 31859/31859 [02:26<00:00, 218.03it/s]\n",
      "[I 2024-05-04 14:11:51,684] Trial 45 finished with value: 0.6959651449138092 and parameters: {'text_vectorizer': 'TfidfVectorizer', 'classifier': 'DecisionTreeClassifier', 'decision_tree_classifier__max_depth': 32, 'decision_tree_classifier__min_samples_split': 4}. Best is trial 28 with value: 0.6959651449138092.\n",
      "100%|██████████| 31859/31859 [00:00<00:00, 79227.99it/s]\n",
      "100%|██████████| 31859/31859 [02:27<00:00, 216.40it/s]\n",
      "[I 2024-05-04 14:14:22,585] Trial 46 finished with value: 0.37528720959918305 and parameters: {'text_vectorizer': 'TfidfVectorizer', 'classifier': 'DecisionTreeClassifier', 'decision_tree_classifier__max_depth': 2, 'decision_tree_classifier__min_samples_split': 32}. Best is trial 28 with value: 0.6959651449138092.\n",
      "100%|██████████| 31859/31859 [00:00<00:00, 81442.08it/s]\n",
      "100%|██████████| 31859/31859 [02:27<00:00, 215.95it/s]\n",
      "[I 2024-05-04 14:17:04,139] Trial 47 finished with value: 0.6959651449138092 and parameters: {'text_vectorizer': 'TfidfVectorizer', 'classifier': 'DecisionTreeClassifier', 'decision_tree_classifier__max_depth': 32, 'decision_tree_classifier__min_samples_split': 4}. Best is trial 28 with value: 0.6959651449138092.\n",
      "100%|██████████| 31859/31859 [00:00<00:00, 81090.58it/s]\n",
      "100%|██████████| 31859/31859 [02:28<00:00, 215.01it/s]\n",
      "[I 2024-05-04 14:19:41,066] Trial 48 finished with value: 0.6432772257148651 and parameters: {'text_vectorizer': 'TfidfVectorizer', 'classifier': 'DecisionTreeClassifier', 'decision_tree_classifier__max_depth': 16, 'decision_tree_classifier__min_samples_split': 16}. Best is trial 28 with value: 0.6959651449138092.\n",
      "100%|██████████| 31859/31859 [00:00<00:00, 81670.00it/s]\n",
      "100%|██████████| 31859/31859 [02:26<00:00, 216.75it/s]\n",
      "[I 2024-05-04 14:22:22,244] Trial 49 finished with value: 0.6959651449138092 and parameters: {'text_vectorizer': 'TfidfVectorizer', 'classifier': 'DecisionTreeClassifier', 'decision_tree_classifier__max_depth': 32, 'decision_tree_classifier__min_samples_split': 4}. Best is trial 28 with value: 0.6959651449138092.\n",
      "100%|██████████| 31859/31859 [00:00<00:00, 79064.44it/s]\n",
      "100%|██████████| 31859/31859 [02:27<00:00, 215.78it/s]\n",
      "[I 2024-05-04 14:25:04,048] Trial 50 finished with value: 0.6959651449138092 and parameters: {'text_vectorizer': 'TfidfVectorizer', 'classifier': 'DecisionTreeClassifier', 'decision_tree_classifier__max_depth': 32, 'decision_tree_classifier__min_samples_split': 4}. Best is trial 28 with value: 0.6959651449138092.\n",
      "100%|██████████| 31859/31859 [00:00<00:00, 78835.45it/s]\n",
      "100%|██████████| 31859/31859 [02:31<00:00, 210.66it/s]\n",
      "[I 2024-05-04 14:27:49,660] Trial 51 finished with value: 0.6959651449138092 and parameters: {'text_vectorizer': 'TfidfVectorizer', 'classifier': 'DecisionTreeClassifier', 'decision_tree_classifier__max_depth': 32, 'decision_tree_classifier__min_samples_split': 4}. Best is trial 28 with value: 0.6959651449138092.\n",
      "100%|██████████| 31859/31859 [00:00<00:00, 77425.94it/s]\n",
      "100%|██████████| 31859/31859 [02:29<00:00, 213.37it/s]\n",
      "[I 2024-05-04 14:30:32,974] Trial 52 finished with value: 0.6959651449138092 and parameters: {'text_vectorizer': 'TfidfVectorizer', 'classifier': 'DecisionTreeClassifier', 'decision_tree_classifier__max_depth': 32, 'decision_tree_classifier__min_samples_split': 4}. Best is trial 28 with value: 0.6959651449138092.\n",
      "100%|██████████| 31859/31859 [00:00<00:00, 77871.96it/s]\n",
      "100%|██████████| 31859/31859 [02:29<00:00, 213.02it/s]\n",
      "[I 2024-05-04 14:33:16,751] Trial 53 finished with value: 0.6959651449138092 and parameters: {'text_vectorizer': 'TfidfVectorizer', 'classifier': 'DecisionTreeClassifier', 'decision_tree_classifier__max_depth': 32, 'decision_tree_classifier__min_samples_split': 4}. Best is trial 28 with value: 0.6959651449138092.\n",
      "100%|██████████| 31859/31859 [00:00<00:00, 77722.94it/s]\n",
      "100%|██████████| 31859/31859 [02:29<00:00, 213.03it/s]\n",
      "[I 2024-05-04 14:36:00,791] Trial 54 finished with value: 0.6959651449138092 and parameters: {'text_vectorizer': 'TfidfVectorizer', 'classifier': 'DecisionTreeClassifier', 'decision_tree_classifier__max_depth': 32, 'decision_tree_classifier__min_samples_split': 4}. Best is trial 28 with value: 0.6959651449138092.\n",
      "100%|██████████| 31859/31859 [00:00<00:00, 80672.84it/s]\n",
      "100%|██████████| 31859/31859 [02:25<00:00, 218.41it/s]\n",
      "[I 2024-05-04 14:38:40,577] Trial 55 finished with value: 0.6947729874093856 and parameters: {'text_vectorizer': 'TfidfVectorizer', 'classifier': 'DecisionTreeClassifier', 'decision_tree_classifier__max_depth': 32, 'decision_tree_classifier__min_samples_split': 16}. Best is trial 28 with value: 0.6959651449138092.\n",
      "100%|██████████| 31859/31859 [00:00<00:00, 82262.22it/s]\n",
      "100%|██████████| 31859/31859 [02:27<00:00, 216.66it/s]\n",
      "[I 2024-05-04 14:41:12,143] Trial 56 finished with value: 0.4755576649264357 and parameters: {'text_vectorizer': 'TfidfVectorizer', 'classifier': 'DecisionTreeClassifier', 'decision_tree_classifier__max_depth': 4, 'decision_tree_classifier__min_samples_split': 32}. Best is trial 28 with value: 0.6959651449138092.\n",
      "100%|██████████| 31859/31859 [00:00<00:00, 80721.52it/s]\n",
      "100%|██████████| 31859/31859 [02:27<00:00, 216.14it/s]\n",
      "[I 2024-05-04 14:43:45,243] Trial 57 finished with value: 0.5806872553284037 and parameters: {'text_vectorizer': 'TfidfVectorizer', 'classifier': 'DecisionTreeClassifier', 'decision_tree_classifier__max_depth': 8, 'decision_tree_classifier__min_samples_split': 4}. Best is trial 28 with value: 0.6959651449138092.\n",
      "100%|██████████| 31859/31859 [00:00<00:00, 81269.11it/s]\n",
      "100%|██████████| 31859/31859 [02:27<00:00, 216.40it/s]\n",
      "[I 2024-05-04 14:46:26,272] Trial 58 finished with value: 0.6956025128498 and parameters: {'text_vectorizer': 'TfidfVectorizer', 'classifier': 'DecisionTreeClassifier', 'decision_tree_classifier__max_depth': 32, 'decision_tree_classifier__min_samples_split': 2}. Best is trial 28 with value: 0.6959651449138092.\n",
      "100%|██████████| 31859/31859 [00:00<00:00, 72425.76it/s]\n",
      "100%|██████████| 31859/31859 [02:27<00:00, 215.84it/s]\n",
      "[I 2024-05-04 14:49:00,568] Trial 59 finished with value: 0.009469696969696968 and parameters: {'text_vectorizer': 'TfidfVectorizer', 'classifier': 'RandomForestClassifier', 'random_forest_classifier__max_depth': 32, 'random_forest_classifier__min_samples_split': 32, 'random_forest_classifier__max_leaf_nodes': 32}. Best is trial 28 with value: 0.6959651449138092.\n",
      "100%|██████████| 31859/31859 [00:00<00:00, 78188.63it/s]\n",
      "100%|██████████| 31859/31859 [02:27<00:00, 215.75it/s]\n",
      "[I 2024-05-04 14:51:42,143] Trial 60 finished with value: 0.6959651449138092 and parameters: {'text_vectorizer': 'TfidfVectorizer', 'classifier': 'DecisionTreeClassifier', 'decision_tree_classifier__max_depth': 32, 'decision_tree_classifier__min_samples_split': 4}. Best is trial 28 with value: 0.6959651449138092.\n",
      "100%|██████████| 31859/31859 [00:00<00:00, 72948.78it/s]\n",
      "100%|██████████| 31859/31859 [02:27<00:00, 216.46it/s]\n",
      "[I 2024-05-04 14:54:23,315] Trial 61 finished with value: 0.6959651449138092 and parameters: {'text_vectorizer': 'TfidfVectorizer', 'classifier': 'DecisionTreeClassifier', 'decision_tree_classifier__max_depth': 32, 'decision_tree_classifier__min_samples_split': 4}. Best is trial 28 with value: 0.6959651449138092.\n",
      "100%|██████████| 31859/31859 [00:00<00:00, 79696.50it/s]\n",
      "100%|██████████| 31859/31859 [02:26<00:00, 217.35it/s]\n",
      "[I 2024-05-04 14:57:03,958] Trial 62 finished with value: 0.6959651449138092 and parameters: {'text_vectorizer': 'TfidfVectorizer', 'classifier': 'DecisionTreeClassifier', 'decision_tree_classifier__max_depth': 32, 'decision_tree_classifier__min_samples_split': 4}. Best is trial 28 with value: 0.6959651449138092.\n",
      "100%|██████████| 31859/31859 [00:00<00:00, 80930.62it/s]\n",
      "100%|██████████| 31859/31859 [02:26<00:00, 217.19it/s]\n",
      "[I 2024-05-04 14:59:44,504] Trial 63 finished with value: 0.6959651449138092 and parameters: {'text_vectorizer': 'TfidfVectorizer', 'classifier': 'DecisionTreeClassifier', 'decision_tree_classifier__max_depth': 32, 'decision_tree_classifier__min_samples_split': 4}. Best is trial 28 with value: 0.6959651449138092.\n",
      "100%|██████████| 31859/31859 [00:00<00:00, 81066.38it/s]\n",
      "100%|██████████| 31859/31859 [02:25<00:00, 218.22it/s]\n",
      "[I 2024-05-04 15:02:24,711] Trial 64 finished with value: 0.6959651449138092 and parameters: {'text_vectorizer': 'TfidfVectorizer', 'classifier': 'DecisionTreeClassifier', 'decision_tree_classifier__max_depth': 32, 'decision_tree_classifier__min_samples_split': 4}. Best is trial 28 with value: 0.6959651449138092.\n",
      "100%|██████████| 31859/31859 [00:00<00:00, 80529.71it/s]\n",
      "100%|██████████| 31859/31859 [02:27<00:00, 216.54it/s]\n",
      "[I 2024-05-04 15:05:05,977] Trial 65 finished with value: 0.6959651449138092 and parameters: {'text_vectorizer': 'TfidfVectorizer', 'classifier': 'DecisionTreeClassifier', 'decision_tree_classifier__max_depth': 32, 'decision_tree_classifier__min_samples_split': 4}. Best is trial 28 with value: 0.6959651449138092.\n",
      "100%|██████████| 31859/31859 [00:00<00:00, 80235.82it/s]\n",
      "100%|██████████| 31859/31859 [02:26<00:00, 217.88it/s]\n",
      "[I 2024-05-04 15:07:40,892] Trial 66 finished with value: 0.6435803969218307 and parameters: {'text_vectorizer': 'TfidfVectorizer', 'classifier': 'DecisionTreeClassifier', 'decision_tree_classifier__max_depth': 16, 'decision_tree_classifier__min_samples_split': 4}. Best is trial 28 with value: 0.6959651449138092.\n",
      "100%|██████████| 31859/31859 [00:00<00:00, 80686.38it/s]\n",
      "100%|██████████| 31859/31859 [02:27<00:00, 215.53it/s]\n",
      "[I 2024-05-04 15:10:22,411] Trial 67 finished with value: 0.6950085405200227 and parameters: {'text_vectorizer': 'TfidfVectorizer', 'classifier': 'DecisionTreeClassifier', 'decision_tree_classifier__max_depth': 32, 'decision_tree_classifier__min_samples_split': 8}. Best is trial 28 with value: 0.6959651449138092.\n",
      "100%|██████████| 31859/31859 [00:00<00:00, 80101.34it/s]\n",
      "100%|██████████| 31859/31859 [02:27<00:00, 215.93it/s]\n",
      "[I 2024-05-04 15:12:57,492] Trial 68 finished with value: 0.5806872553284037 and parameters: {'text_vectorizer': 'TfidfVectorizer', 'classifier': 'DecisionTreeClassifier', 'decision_tree_classifier__max_depth': 8, 'decision_tree_classifier__min_samples_split': 4}. Best is trial 28 with value: 0.6959651449138092.\n",
      "100%|██████████| 31859/31859 [00:00<00:00, 76115.42it/s]\n",
      "100%|██████████| 31859/31859 [02:29<00:00, 213.55it/s]\n",
      "[I 2024-05-04 15:15:31,028] Trial 69 finished with value: 0.4759193357058126 and parameters: {'text_vectorizer': 'TfidfVectorizer', 'classifier': 'DecisionTreeClassifier', 'decision_tree_classifier__max_depth': 4, 'decision_tree_classifier__min_samples_split': 2}. Best is trial 28 with value: 0.6959651449138092.\n",
      "100%|██████████| 31859/31859 [00:00<00:00, 80370.02it/s]\n",
      "100%|██████████| 31859/31859 [02:26<00:00, 217.30it/s]\n",
      "[I 2024-05-04 15:18:02,796] Trial 70 finished with value: 0.0 and parameters: {'text_vectorizer': 'TfidfVectorizer', 'classifier': 'RandomForestClassifier', 'random_forest_classifier__max_depth': 8, 'random_forest_classifier__min_samples_split': 32, 'random_forest_classifier__max_leaf_nodes': 16}. Best is trial 28 with value: 0.6959651449138092.\n",
      "100%|██████████| 31859/31859 [00:00<00:00, 79572.59it/s]\n",
      "100%|██████████| 31859/31859 [02:28<00:00, 214.97it/s]\n",
      "[I 2024-05-04 15:20:45,032] Trial 71 finished with value: 0.6959651449138092 and parameters: {'text_vectorizer': 'TfidfVectorizer', 'classifier': 'DecisionTreeClassifier', 'decision_tree_classifier__max_depth': 32, 'decision_tree_classifier__min_samples_split': 4}. Best is trial 28 with value: 0.6959651449138092.\n",
      "100%|██████████| 31859/31859 [00:00<00:00, 80757.38it/s]\n",
      "100%|██████████| 31859/31859 [02:26<00:00, 217.33it/s]\n",
      "[I 2024-05-04 15:23:25,339] Trial 72 finished with value: 0.6959651449138092 and parameters: {'text_vectorizer': 'TfidfVectorizer', 'classifier': 'DecisionTreeClassifier', 'decision_tree_classifier__max_depth': 32, 'decision_tree_classifier__min_samples_split': 4}. Best is trial 28 with value: 0.6959651449138092.\n",
      "100%|██████████| 31859/31859 [00:00<00:00, 77694.83it/s]\n",
      "100%|██████████| 31859/31859 [02:27<00:00, 215.90it/s]\n",
      "[I 2024-05-04 15:26:06,956] Trial 73 finished with value: 0.6959651449138092 and parameters: {'text_vectorizer': 'TfidfVectorizer', 'classifier': 'DecisionTreeClassifier', 'decision_tree_classifier__max_depth': 32, 'decision_tree_classifier__min_samples_split': 4}. Best is trial 28 with value: 0.6959651449138092.\n",
      "100%|██████████| 31859/31859 [00:00<00:00, 81578.81it/s]\n",
      "100%|██████████| 31859/31859 [02:28<00:00, 214.80it/s]\n",
      "[I 2024-05-04 15:28:49,053] Trial 74 finished with value: 0.6959651449138092 and parameters: {'text_vectorizer': 'TfidfVectorizer', 'classifier': 'DecisionTreeClassifier', 'decision_tree_classifier__max_depth': 32, 'decision_tree_classifier__min_samples_split': 4}. Best is trial 28 with value: 0.6959651449138092.\n",
      "100%|██████████| 31859/31859 [00:00<00:00, 74377.09it/s]\n",
      "100%|██████████| 31859/31859 [02:26<00:00, 217.20it/s]\n",
      "[I 2024-05-04 15:31:19,370] Trial 75 finished with value: 0.37528720959918305 and parameters: {'text_vectorizer': 'TfidfVectorizer', 'classifier': 'DecisionTreeClassifier', 'decision_tree_classifier__max_depth': 2, 'decision_tree_classifier__min_samples_split': 4}. Best is trial 28 with value: 0.6959651449138092.\n",
      "100%|██████████| 31859/31859 [00:00<00:00, 76279.75it/s]\n",
      "100%|██████████| 31859/31859 [02:27<00:00, 215.78it/s]\n",
      "[I 2024-05-04 15:34:00,937] Trial 76 finished with value: 0.6911174785100287 and parameters: {'text_vectorizer': 'TfidfVectorizer', 'classifier': 'DecisionTreeClassifier', 'decision_tree_classifier__max_depth': 32, 'decision_tree_classifier__min_samples_split': 32}. Best is trial 28 with value: 0.6959651449138092.\n",
      "100%|██████████| 31859/31859 [00:00<00:00, 82499.65it/s]\n",
      "100%|██████████| 31859/31859 [02:28<00:00, 215.23it/s]\n",
      "[I 2024-05-04 15:36:42,953] Trial 77 finished with value: 0.6959651449138092 and parameters: {'text_vectorizer': 'TfidfVectorizer', 'classifier': 'DecisionTreeClassifier', 'decision_tree_classifier__max_depth': 32, 'decision_tree_classifier__min_samples_split': 4}. Best is trial 28 with value: 0.6959651449138092.\n",
      "100%|██████████| 31859/31859 [00:00<00:00, 76016.57it/s]\n",
      "100%|██████████| 31859/31859 [02:29<00:00, 213.42it/s]\n",
      "[I 2024-05-04 15:39:26,185] Trial 78 finished with value: 0.6950085405200227 and parameters: {'text_vectorizer': 'TfidfVectorizer', 'classifier': 'DecisionTreeClassifier', 'decision_tree_classifier__max_depth': 32, 'decision_tree_classifier__min_samples_split': 8}. Best is trial 28 with value: 0.6959651449138092.\n",
      "100%|██████████| 31859/31859 [00:00<00:00, 77958.37it/s]\n",
      "100%|██████████| 31859/31859 [02:28<00:00, 214.03it/s]\n",
      "[I 2024-05-04 15:42:09,130] Trial 79 finished with value: 0.6947729874093856 and parameters: {'text_vectorizer': 'TfidfVectorizer', 'classifier': 'DecisionTreeClassifier', 'decision_tree_classifier__max_depth': 32, 'decision_tree_classifier__min_samples_split': 16}. Best is trial 28 with value: 0.6959651449138092.\n",
      "100%|██████████| 31859/31859 [00:00<00:00, 82222.99it/s]\n",
      "100%|██████████| 31859/31859 [02:30<00:00, 211.82it/s]\n",
      "[I 2024-05-04 15:44:43,943] Trial 80 finished with value: 0.0 and parameters: {'text_vectorizer': 'TfidfVectorizer', 'classifier': 'RandomForestClassifier', 'random_forest_classifier__max_depth': 16, 'random_forest_classifier__min_samples_split': 8, 'random_forest_classifier__max_leaf_nodes': 2}. Best is trial 28 with value: 0.6959651449138092.\n",
      "100%|██████████| 31859/31859 [00:00<00:00, 79448.64it/s]\n",
      "100%|██████████| 31859/31859 [02:28<00:00, 214.30it/s]\n",
      "[I 2024-05-04 15:47:26,586] Trial 81 finished with value: 0.6959651449138092 and parameters: {'text_vectorizer': 'TfidfVectorizer', 'classifier': 'DecisionTreeClassifier', 'decision_tree_classifier__max_depth': 32, 'decision_tree_classifier__min_samples_split': 4}. Best is trial 28 with value: 0.6959651449138092.\n",
      "100%|██████████| 31859/31859 [00:00<00:00, 78786.60it/s]\n",
      "100%|██████████| 31859/31859 [02:28<00:00, 214.88it/s]\n",
      "[I 2024-05-04 15:50:08,815] Trial 82 finished with value: 0.6959651449138092 and parameters: {'text_vectorizer': 'TfidfVectorizer', 'classifier': 'DecisionTreeClassifier', 'decision_tree_classifier__max_depth': 32, 'decision_tree_classifier__min_samples_split': 4}. Best is trial 28 with value: 0.6959651449138092.\n",
      "100%|██████████| 31859/31859 [00:00<00:00, 78993.21it/s]\n",
      "100%|██████████| 31859/31859 [02:28<00:00, 215.02it/s]\n",
      "[I 2024-05-04 15:52:51,091] Trial 83 finished with value: 0.6959651449138092 and parameters: {'text_vectorizer': 'TfidfVectorizer', 'classifier': 'DecisionTreeClassifier', 'decision_tree_classifier__max_depth': 32, 'decision_tree_classifier__min_samples_split': 4}. Best is trial 28 with value: 0.6959651449138092.\n",
      "100%|██████████| 31859/31859 [00:00<00:00, 77782.75it/s]\n",
      "100%|██████████| 31859/31859 [02:28<00:00, 214.78it/s]\n",
      "[I 2024-05-04 15:55:33,415] Trial 84 finished with value: 0.6959651449138092 and parameters: {'text_vectorizer': 'TfidfVectorizer', 'classifier': 'DecisionTreeClassifier', 'decision_tree_classifier__max_depth': 32, 'decision_tree_classifier__min_samples_split': 4}. Best is trial 28 with value: 0.6959651449138092.\n",
      "100%|██████████| 31859/31859 [00:00<00:00, 77494.23it/s]\n",
      "100%|██████████| 31859/31859 [02:26<00:00, 218.01it/s]\n",
      "[I 2024-05-04 15:58:07,958] Trial 85 finished with value: 0.6435803969218307 and parameters: {'text_vectorizer': 'TfidfVectorizer', 'classifier': 'DecisionTreeClassifier', 'decision_tree_classifier__max_depth': 16, 'decision_tree_classifier__min_samples_split': 4}. Best is trial 28 with value: 0.6959651449138092.\n",
      "100%|██████████| 31859/31859 [00:00<00:00, 79087.55it/s]\n",
      "100%|██████████| 31859/31859 [02:26<00:00, 217.87it/s]\n",
      "[I 2024-05-04 16:00:42,061] Trial 86 finished with value: 0.6870888930652133 and parameters: {'text_vectorizer': 'CountVectorizer', 'classifier': 'DecisionTreeClassifier', 'decision_tree_classifier__max_depth': 32, 'decision_tree_classifier__min_samples_split': 4}. Best is trial 28 with value: 0.6959651449138092.\n",
      "100%|██████████| 31859/31859 [00:00<00:00, 74680.87it/s]\n",
      "100%|██████████| 31859/31859 [02:26<00:00, 217.15it/s]\n",
      "[I 2024-05-04 16:03:12,801] Trial 87 finished with value: 0.37528720959918305 and parameters: {'text_vectorizer': 'TfidfVectorizer', 'classifier': 'DecisionTreeClassifier', 'decision_tree_classifier__max_depth': 2, 'decision_tree_classifier__min_samples_split': 4}. Best is trial 28 with value: 0.6959651449138092.\n",
      "100%|██████████| 31859/31859 [00:00<00:00, 79591.36it/s]\n",
      "100%|██████████| 31859/31859 [02:26<00:00, 217.78it/s]\n",
      "[I 2024-05-04 16:05:53,032] Trial 88 finished with value: 0.6959651449138092 and parameters: {'text_vectorizer': 'TfidfVectorizer', 'classifier': 'DecisionTreeClassifier', 'decision_tree_classifier__max_depth': 32, 'decision_tree_classifier__min_samples_split': 4}. Best is trial 28 with value: 0.6959651449138092.\n",
      "100%|██████████| 31859/31859 [00:00<00:00, 82296.26it/s]\n",
      "100%|██████████| 31859/31859 [02:27<00:00, 216.22it/s]\n",
      "[I 2024-05-04 16:08:26,140] Trial 89 finished with value: 0.5802522836015659 and parameters: {'text_vectorizer': 'TfidfVectorizer', 'classifier': 'DecisionTreeClassifier', 'decision_tree_classifier__max_depth': 8, 'decision_tree_classifier__min_samples_split': 2}. Best is trial 28 with value: 0.6959651449138092.\n",
      "100%|██████████| 31859/31859 [00:00<00:00, 79389.35it/s]\n",
      "100%|██████████| 31859/31859 [02:27<00:00, 215.85it/s]\n",
      "[I 2024-05-04 16:10:58,123] Trial 90 finished with value: 0.4755576649264357 and parameters: {'text_vectorizer': 'TfidfVectorizer', 'classifier': 'DecisionTreeClassifier', 'decision_tree_classifier__max_depth': 4, 'decision_tree_classifier__min_samples_split': 32}. Best is trial 28 with value: 0.6959651449138092.\n",
      "100%|██████████| 31859/31859 [00:00<00:00, 80568.85it/s]\n",
      "100%|██████████| 31859/31859 [02:26<00:00, 217.91it/s]\n",
      "[I 2024-05-04 16:13:38,210] Trial 91 finished with value: 0.6959651449138092 and parameters: {'text_vectorizer': 'TfidfVectorizer', 'classifier': 'DecisionTreeClassifier', 'decision_tree_classifier__max_depth': 32, 'decision_tree_classifier__min_samples_split': 4}. Best is trial 28 with value: 0.6959651449138092.\n",
      "100%|██████████| 31859/31859 [00:00<00:00, 72609.08it/s]\n",
      "100%|██████████| 31859/31859 [02:26<00:00, 216.83it/s]\n",
      "[I 2024-05-04 16:16:19,493] Trial 92 finished with value: 0.6959651449138092 and parameters: {'text_vectorizer': 'TfidfVectorizer', 'classifier': 'DecisionTreeClassifier', 'decision_tree_classifier__max_depth': 32, 'decision_tree_classifier__min_samples_split': 4}. Best is trial 28 with value: 0.6959651449138092.\n",
      "100%|██████████| 31859/31859 [00:00<00:00, 78022.91it/s]\n",
      "100%|██████████| 31859/31859 [02:27<00:00, 215.37it/s]\n",
      "[I 2024-05-04 16:19:01,457] Trial 93 finished with value: 0.6959651449138092 and parameters: {'text_vectorizer': 'TfidfVectorizer', 'classifier': 'DecisionTreeClassifier', 'decision_tree_classifier__max_depth': 32, 'decision_tree_classifier__min_samples_split': 4}. Best is trial 28 with value: 0.6959651449138092.\n",
      "100%|██████████| 31859/31859 [00:00<00:00, 80398.94it/s]\n",
      "100%|██████████| 31859/31859 [02:26<00:00, 217.92it/s]\n",
      "[I 2024-05-04 16:21:41,410] Trial 94 finished with value: 0.6959651449138092 and parameters: {'text_vectorizer': 'TfidfVectorizer', 'classifier': 'DecisionTreeClassifier', 'decision_tree_classifier__max_depth': 32, 'decision_tree_classifier__min_samples_split': 4}. Best is trial 28 with value: 0.6959651449138092.\n",
      "100%|██████████| 31859/31859 [00:00<00:00, 80125.88it/s]\n",
      "100%|██████████| 31859/31859 [02:26<00:00, 218.11it/s]\n",
      "[I 2024-05-04 16:24:21,354] Trial 95 finished with value: 0.6959651449138092 and parameters: {'text_vectorizer': 'TfidfVectorizer', 'classifier': 'DecisionTreeClassifier', 'decision_tree_classifier__max_depth': 32, 'decision_tree_classifier__min_samples_split': 4}. Best is trial 28 with value: 0.6959651449138092.\n",
      "100%|██████████| 31859/31859 [00:00<00:00, 81095.75it/s]\n",
      "100%|██████████| 31859/31859 [02:27<00:00, 216.44it/s]\n",
      "[I 2024-05-04 16:27:02,417] Trial 96 finished with value: 0.6959651449138092 and parameters: {'text_vectorizer': 'TfidfVectorizer', 'classifier': 'DecisionTreeClassifier', 'decision_tree_classifier__max_depth': 32, 'decision_tree_classifier__min_samples_split': 4}. Best is trial 28 with value: 0.6959651449138092.\n",
      "100%|██████████| 31859/31859 [00:00<00:00, 82364.08it/s]\n",
      "100%|██████████| 31859/31859 [02:26<00:00, 217.03it/s]\n",
      "[I 2024-05-04 16:29:36,833] Trial 97 finished with value: 0.6870888930652133 and parameters: {'text_vectorizer': 'CountVectorizer', 'classifier': 'DecisionTreeClassifier', 'decision_tree_classifier__max_depth': 32, 'decision_tree_classifier__min_samples_split': 4}. Best is trial 28 with value: 0.6959651449138092.\n",
      "100%|██████████| 31859/31859 [00:00<00:00, 82584.49it/s]\n",
      "100%|██████████| 31859/31859 [02:27<00:00, 215.48it/s]\n",
      "[I 2024-05-04 16:32:09,110] Trial 98 finished with value: 0.0 and parameters: {'text_vectorizer': 'TfidfVectorizer', 'classifier': 'RandomForestClassifier', 'random_forest_classifier__max_depth': 2, 'random_forest_classifier__min_samples_split': 16, 'random_forest_classifier__max_leaf_nodes': 8}. Best is trial 28 with value: 0.6959651449138092.\n",
      "100%|██████████| 31859/31859 [00:00<00:00, 74064.36it/s]\n",
      "100%|██████████| 31859/31859 [02:27<00:00, 216.37it/s]\n",
      "[I 2024-05-04 16:34:50,588] Trial 99 finished with value: 0.6959651449138092 and parameters: {'text_vectorizer': 'TfidfVectorizer', 'classifier': 'DecisionTreeClassifier', 'decision_tree_classifier__max_depth': 32, 'decision_tree_classifier__min_samples_split': 4}. Best is trial 28 with value: 0.6959651449138092.\n"
     ]
    }
   ],
   "source": [
    "powers_of_two = [2**i for i in range(1, 6)]\n",
    "\n",
    "def objective(trial):\n",
    "    text_vectorizer_name = trial.suggest_categorical('text_vectorizer', ['CountVectorizer', 'TfidfVectorizer'])\n",
    "    classifier_name = trial.suggest_categorical('classifier', ['DecisionTreeClassifier', 'RandomForestClassifier'])\n",
    "    \n",
    "    if text_vectorizer_name == 'CountVectorizer':\n",
    "        text_vectorizer = CountVectorizer\n",
    "    elif text_vectorizer_name == 'TfidfVectorizer':\n",
    "        text_vectorizer = TfidfVectorizer\n",
    "        \n",
    "    if classifier_name == 'DecisionTreeClassifier':\n",
    "        classifier = DecisionTreeClassifier(max_depth=trial.suggest_categorical('decision_tree_classifier__max_depth',  powers_of_two),\n",
    "                                            min_samples_split=trial.suggest_categorical('decision_tree_classifier__min_samples_split', powers_of_two),\n",
    "                                            random_state=RANDOM_STATE)\n",
    "    elif classifier_name == 'RandomForestClassifier':\n",
    "        classifier = RandomForestClassifier(max_depth=trial.suggest_categorical('random_forest_classifier__max_depth', powers_of_two),\n",
    "                                            min_samples_split=trial.suggest_categorical('random_forest_classifier__min_samples_split', powers_of_two),\n",
    "                                            max_leaf_nodes=trial.suggest_categorical('random_forest_classifier__max_leaf_nodes', powers_of_two),\n",
    "                                            random_state=RANDOM_STATE)\n",
    "        \n",
    "    pipeline = Pipeline(steps=[('text_preprocessor', text_preprocessor),\n",
    "                               ('text_vectorizer', text_vectorizer(ngram_range=(1, 1), stop_words=set(stopwords.words('english')), dtype=np.float32)),\n",
    "                               ('classifier', classifier)],\n",
    "                        memory='tmp/cache')\n",
    "    pipeline.fit(train_features, train_target)\n",
    "    return f1_score(valid_target, pipeline.predict(valid_features))\n",
    "\n",
    "study = optuna.create_study(direction='maximize', sampler=optuna.samplers.TPESampler(seed=RANDOM_STATE))\n",
    "study.optimize(objective, n_trials=100)"
   ]
  },
  {
   "cell_type": "markdown",
   "metadata": {},
   "source": [
    "### Проанализируем результаты моделирования:"
   ]
  },
  {
   "cell_type": "code",
   "execution_count": 18,
   "metadata": {},
   "outputs": [
    {
     "data": {
      "text/html": [
       "<div>\n",
       "<style scoped>\n",
       "    .dataframe tbody tr th:only-of-type {\n",
       "        vertical-align: middle;\n",
       "    }\n",
       "\n",
       "    .dataframe tbody tr th {\n",
       "        vertical-align: top;\n",
       "    }\n",
       "\n",
       "    .dataframe thead th {\n",
       "        text-align: right;\n",
       "    }\n",
       "</style>\n",
       "<table border=\"1\" class=\"dataframe\">\n",
       "  <thead>\n",
       "    <tr style=\"text-align: right;\">\n",
       "      <th></th>\n",
       "      <th>number</th>\n",
       "      <th>value</th>\n",
       "      <th>datetime_start</th>\n",
       "      <th>datetime_complete</th>\n",
       "      <th>duration</th>\n",
       "      <th>params_classifier</th>\n",
       "      <th>params_decision_tree_classifier__max_depth</th>\n",
       "      <th>params_decision_tree_classifier__min_samples_split</th>\n",
       "      <th>params_random_forest_classifier__max_depth</th>\n",
       "      <th>params_random_forest_classifier__max_leaf_nodes</th>\n",
       "      <th>params_random_forest_classifier__min_samples_split</th>\n",
       "      <th>params_text_vectorizer</th>\n",
       "      <th>state</th>\n",
       "    </tr>\n",
       "  </thead>\n",
       "  <tbody>\n",
       "    <tr>\n",
       "      <th>53</th>\n",
       "      <td>53</td>\n",
       "      <td>0.6960</td>\n",
       "      <td>2024-05-04 14:30:32.975775</td>\n",
       "      <td>2024-05-04 14:33:16.751466</td>\n",
       "      <td>0 days 00:02:43.775691</td>\n",
       "      <td>DecisionTreeClassifier</td>\n",
       "      <td>32.0000</td>\n",
       "      <td>4.0000</td>\n",
       "      <td>NaN</td>\n",
       "      <td>NaN</td>\n",
       "      <td>NaN</td>\n",
       "      <td>TfidfVectorizer</td>\n",
       "      <td>COMPLETE</td>\n",
       "    </tr>\n",
       "    <tr>\n",
       "      <th>42</th>\n",
       "      <td>42</td>\n",
       "      <td>0.6960</td>\n",
       "      <td>2024-05-04 14:01:05.565105</td>\n",
       "      <td>2024-05-04 14:03:47.622206</td>\n",
       "      <td>0 days 00:02:42.057101</td>\n",
       "      <td>DecisionTreeClassifier</td>\n",
       "      <td>32.0000</td>\n",
       "      <td>4.0000</td>\n",
       "      <td>NaN</td>\n",
       "      <td>NaN</td>\n",
       "      <td>NaN</td>\n",
       "      <td>TfidfVectorizer</td>\n",
       "      <td>COMPLETE</td>\n",
       "    </tr>\n",
       "    <tr>\n",
       "      <th>45</th>\n",
       "      <td>45</td>\n",
       "      <td>0.6960</td>\n",
       "      <td>2024-05-04 14:09:11.727975</td>\n",
       "      <td>2024-05-04 14:11:51.684617</td>\n",
       "      <td>0 days 00:02:39.956642</td>\n",
       "      <td>DecisionTreeClassifier</td>\n",
       "      <td>32.0000</td>\n",
       "      <td>4.0000</td>\n",
       "      <td>NaN</td>\n",
       "      <td>NaN</td>\n",
       "      <td>NaN</td>\n",
       "      <td>TfidfVectorizer</td>\n",
       "      <td>COMPLETE</td>\n",
       "    </tr>\n",
       "    <tr>\n",
       "      <th>47</th>\n",
       "      <td>47</td>\n",
       "      <td>0.6960</td>\n",
       "      <td>2024-05-04 14:14:22.585882</td>\n",
       "      <td>2024-05-04 14:17:04.138825</td>\n",
       "      <td>0 days 00:02:41.552943</td>\n",
       "      <td>DecisionTreeClassifier</td>\n",
       "      <td>32.0000</td>\n",
       "      <td>4.0000</td>\n",
       "      <td>NaN</td>\n",
       "      <td>NaN</td>\n",
       "      <td>NaN</td>\n",
       "      <td>TfidfVectorizer</td>\n",
       "      <td>COMPLETE</td>\n",
       "    </tr>\n",
       "    <tr>\n",
       "      <th>49</th>\n",
       "      <td>49</td>\n",
       "      <td>0.6960</td>\n",
       "      <td>2024-05-04 14:19:41.066933</td>\n",
       "      <td>2024-05-04 14:22:22.244050</td>\n",
       "      <td>0 days 00:02:41.177117</td>\n",
       "      <td>DecisionTreeClassifier</td>\n",
       "      <td>32.0000</td>\n",
       "      <td>4.0000</td>\n",
       "      <td>NaN</td>\n",
       "      <td>NaN</td>\n",
       "      <td>NaN</td>\n",
       "      <td>TfidfVectorizer</td>\n",
       "      <td>COMPLETE</td>\n",
       "    </tr>\n",
       "  </tbody>\n",
       "</table>\n",
       "</div>"
      ],
      "text/plain": [
       "    number  value             datetime_start          datetime_complete  \\\n",
       "53      53 0.6960 2024-05-04 14:30:32.975775 2024-05-04 14:33:16.751466   \n",
       "42      42 0.6960 2024-05-04 14:01:05.565105 2024-05-04 14:03:47.622206   \n",
       "45      45 0.6960 2024-05-04 14:09:11.727975 2024-05-04 14:11:51.684617   \n",
       "47      47 0.6960 2024-05-04 14:14:22.585882 2024-05-04 14:17:04.138825   \n",
       "49      49 0.6960 2024-05-04 14:19:41.066933 2024-05-04 14:22:22.244050   \n",
       "\n",
       "                 duration       params_classifier  \\\n",
       "53 0 days 00:02:43.775691  DecisionTreeClassifier   \n",
       "42 0 days 00:02:42.057101  DecisionTreeClassifier   \n",
       "45 0 days 00:02:39.956642  DecisionTreeClassifier   \n",
       "47 0 days 00:02:41.552943  DecisionTreeClassifier   \n",
       "49 0 days 00:02:41.177117  DecisionTreeClassifier   \n",
       "\n",
       "    params_decision_tree_classifier__max_depth  \\\n",
       "53                                     32.0000   \n",
       "42                                     32.0000   \n",
       "45                                     32.0000   \n",
       "47                                     32.0000   \n",
       "49                                     32.0000   \n",
       "\n",
       "    params_decision_tree_classifier__min_samples_split  \\\n",
       "53                                             4.0000    \n",
       "42                                             4.0000    \n",
       "45                                             4.0000    \n",
       "47                                             4.0000    \n",
       "49                                             4.0000    \n",
       "\n",
       "    params_random_forest_classifier__max_depth  \\\n",
       "53                                         NaN   \n",
       "42                                         NaN   \n",
       "45                                         NaN   \n",
       "47                                         NaN   \n",
       "49                                         NaN   \n",
       "\n",
       "    params_random_forest_classifier__max_leaf_nodes  \\\n",
       "53                                              NaN   \n",
       "42                                              NaN   \n",
       "45                                              NaN   \n",
       "47                                              NaN   \n",
       "49                                              NaN   \n",
       "\n",
       "    params_random_forest_classifier__min_samples_split params_text_vectorizer  \\\n",
       "53                                                NaN         TfidfVectorizer   \n",
       "42                                                NaN         TfidfVectorizer   \n",
       "45                                                NaN         TfidfVectorizer   \n",
       "47                                                NaN         TfidfVectorizer   \n",
       "49                                                NaN         TfidfVectorizer   \n",
       "\n",
       "       state  \n",
       "53  COMPLETE  \n",
       "42  COMPLETE  \n",
       "45  COMPLETE  \n",
       "47  COMPLETE  \n",
       "49  COMPLETE  "
      ]
     },
     "metadata": {},
     "output_type": "display_data"
    },
    {
     "data": {
      "text/html": [
       "<div>\n",
       "<style scoped>\n",
       "    .dataframe tbody tr th:only-of-type {\n",
       "        vertical-align: middle;\n",
       "    }\n",
       "\n",
       "    .dataframe tbody tr th {\n",
       "        vertical-align: top;\n",
       "    }\n",
       "\n",
       "    .dataframe thead th {\n",
       "        text-align: right;\n",
       "    }\n",
       "</style>\n",
       "<table border=\"1\" class=\"dataframe\">\n",
       "  <thead>\n",
       "    <tr style=\"text-align: right;\">\n",
       "      <th></th>\n",
       "      <th>number</th>\n",
       "      <th>value</th>\n",
       "      <th>datetime_start</th>\n",
       "      <th>datetime_complete</th>\n",
       "      <th>duration</th>\n",
       "      <th>params_classifier</th>\n",
       "      <th>params_decision_tree_classifier__max_depth</th>\n",
       "      <th>params_decision_tree_classifier__min_samples_split</th>\n",
       "      <th>params_random_forest_classifier__max_depth</th>\n",
       "      <th>params_random_forest_classifier__max_leaf_nodes</th>\n",
       "      <th>params_random_forest_classifier__min_samples_split</th>\n",
       "      <th>params_text_vectorizer</th>\n",
       "      <th>state</th>\n",
       "    </tr>\n",
       "  </thead>\n",
       "  <tbody>\n",
       "    <tr>\n",
       "      <th>59</th>\n",
       "      <td>59</td>\n",
       "      <td>0.0095</td>\n",
       "      <td>2024-05-04 14:46:26.273309</td>\n",
       "      <td>2024-05-04 14:49:00.567811</td>\n",
       "      <td>0 days 00:02:34.294502</td>\n",
       "      <td>RandomForestClassifier</td>\n",
       "      <td>NaN</td>\n",
       "      <td>NaN</td>\n",
       "      <td>32.0000</td>\n",
       "      <td>32.0000</td>\n",
       "      <td>32.0000</td>\n",
       "      <td>TfidfVectorizer</td>\n",
       "      <td>COMPLETE</td>\n",
       "    </tr>\n",
       "    <tr>\n",
       "      <th>3</th>\n",
       "      <td>3</td>\n",
       "      <td>0.0006</td>\n",
       "      <td>2024-05-04 12:19:56.267393</td>\n",
       "      <td>2024-05-04 12:22:31.445625</td>\n",
       "      <td>0 days 00:02:35.178232</td>\n",
       "      <td>RandomForestClassifier</td>\n",
       "      <td>NaN</td>\n",
       "      <td>NaN</td>\n",
       "      <td>16.0000</td>\n",
       "      <td>16.0000</td>\n",
       "      <td>4.0000</td>\n",
       "      <td>TfidfVectorizer</td>\n",
       "      <td>COMPLETE</td>\n",
       "    </tr>\n",
       "    <tr>\n",
       "      <th>4</th>\n",
       "      <td>4</td>\n",
       "      <td>0.0006</td>\n",
       "      <td>2024-05-04 12:22:31.447061</td>\n",
       "      <td>2024-05-04 12:25:06.804734</td>\n",
       "      <td>0 days 00:02:35.357673</td>\n",
       "      <td>RandomForestClassifier</td>\n",
       "      <td>NaN</td>\n",
       "      <td>NaN</td>\n",
       "      <td>32.0000</td>\n",
       "      <td>16.0000</td>\n",
       "      <td>16.0000</td>\n",
       "      <td>TfidfVectorizer</td>\n",
       "      <td>COMPLETE</td>\n",
       "    </tr>\n",
       "    <tr>\n",
       "      <th>0</th>\n",
       "      <td>0</td>\n",
       "      <td>0.0000</td>\n",
       "      <td>2024-05-04 12:12:02.665029</td>\n",
       "      <td>2024-05-04 12:14:43.390875</td>\n",
       "      <td>0 days 00:02:40.725846</td>\n",
       "      <td>RandomForestClassifier</td>\n",
       "      <td>NaN</td>\n",
       "      <td>NaN</td>\n",
       "      <td>32.0000</td>\n",
       "      <td>2.0000</td>\n",
       "      <td>32.0000</td>\n",
       "      <td>CountVectorizer</td>\n",
       "      <td>COMPLETE</td>\n",
       "    </tr>\n",
       "    <tr>\n",
       "      <th>2</th>\n",
       "      <td>2</td>\n",
       "      <td>0.0000</td>\n",
       "      <td>2024-05-04 12:17:22.153797</td>\n",
       "      <td>2024-05-04 12:19:56.266143</td>\n",
       "      <td>0 days 00:02:34.112346</td>\n",
       "      <td>RandomForestClassifier</td>\n",
       "      <td>NaN</td>\n",
       "      <td>NaN</td>\n",
       "      <td>8.0000</td>\n",
       "      <td>32.0000</td>\n",
       "      <td>4.0000</td>\n",
       "      <td>CountVectorizer</td>\n",
       "      <td>COMPLETE</td>\n",
       "    </tr>\n",
       "  </tbody>\n",
       "</table>\n",
       "</div>"
      ],
      "text/plain": [
       "    number  value             datetime_start          datetime_complete  \\\n",
       "59      59 0.0095 2024-05-04 14:46:26.273309 2024-05-04 14:49:00.567811   \n",
       "3        3 0.0006 2024-05-04 12:19:56.267393 2024-05-04 12:22:31.445625   \n",
       "4        4 0.0006 2024-05-04 12:22:31.447061 2024-05-04 12:25:06.804734   \n",
       "0        0 0.0000 2024-05-04 12:12:02.665029 2024-05-04 12:14:43.390875   \n",
       "2        2 0.0000 2024-05-04 12:17:22.153797 2024-05-04 12:19:56.266143   \n",
       "\n",
       "                 duration       params_classifier  \\\n",
       "59 0 days 00:02:34.294502  RandomForestClassifier   \n",
       "3  0 days 00:02:35.178232  RandomForestClassifier   \n",
       "4  0 days 00:02:35.357673  RandomForestClassifier   \n",
       "0  0 days 00:02:40.725846  RandomForestClassifier   \n",
       "2  0 days 00:02:34.112346  RandomForestClassifier   \n",
       "\n",
       "    params_decision_tree_classifier__max_depth  \\\n",
       "59                                         NaN   \n",
       "3                                          NaN   \n",
       "4                                          NaN   \n",
       "0                                          NaN   \n",
       "2                                          NaN   \n",
       "\n",
       "    params_decision_tree_classifier__min_samples_split  \\\n",
       "59                                                NaN    \n",
       "3                                                 NaN    \n",
       "4                                                 NaN    \n",
       "0                                                 NaN    \n",
       "2                                                 NaN    \n",
       "\n",
       "    params_random_forest_classifier__max_depth  \\\n",
       "59                                     32.0000   \n",
       "3                                      16.0000   \n",
       "4                                      32.0000   \n",
       "0                                      32.0000   \n",
       "2                                       8.0000   \n",
       "\n",
       "    params_random_forest_classifier__max_leaf_nodes  \\\n",
       "59                                          32.0000   \n",
       "3                                           16.0000   \n",
       "4                                           16.0000   \n",
       "0                                            2.0000   \n",
       "2                                           32.0000   \n",
       "\n",
       "    params_random_forest_classifier__min_samples_split params_text_vectorizer  \\\n",
       "59                                            32.0000         TfidfVectorizer   \n",
       "3                                              4.0000         TfidfVectorizer   \n",
       "4                                             16.0000         TfidfVectorizer   \n",
       "0                                             32.0000         CountVectorizer   \n",
       "2                                              4.0000         CountVectorizer   \n",
       "\n",
       "       state  \n",
       "59  COMPLETE  \n",
       "3   COMPLETE  \n",
       "4   COMPLETE  \n",
       "0   COMPLETE  \n",
       "2   COMPLETE  "
      ]
     },
     "metadata": {},
     "output_type": "display_data"
    }
   ],
   "source": [
    "trials_dataframe = study.trials_dataframe()\n",
    "decision_tree_trials = trials_dataframe[trials_dataframe['params_classifier'] == 'DecisionTreeClassifier'].copy()\n",
    "random_forest_trials = trials_dataframe[trials_dataframe['params_classifier'] == 'RandomForestClassifier'].copy()\n",
    "decision_tree_trials.sort_values(by='value', ascending=False, inplace=True)\n",
    "random_forest_trials.sort_values(by='value', ascending=False, inplace=True)\n",
    "\n",
    "display(decision_tree_trials.head())\n",
    "display(random_forest_trials.head())"
   ]
  },
  {
   "cell_type": "code",
   "execution_count": 19,
   "metadata": {},
   "outputs": [
    {
     "name": "stderr",
     "output_type": "stream",
     "text": [
      "100%|██████████| 31859/31859 [00:00<00:00, 71303.96it/s]\n",
      "100%|██████████| 31859/31859 [02:26<00:00, 216.99it/s]\n",
      "100%|██████████| 31859/31859 [00:00<00:00, 79572.69it/s]\n",
      "100%|██████████| 31859/31859 [02:29<00:00, 213.71it/s]\n"
     ]
    },
    {
     "data": {
      "text/html": [
       "<div>\n",
       "<style scoped>\n",
       "    .dataframe tbody tr th:only-of-type {\n",
       "        vertical-align: middle;\n",
       "    }\n",
       "\n",
       "    .dataframe tbody tr th {\n",
       "        vertical-align: top;\n",
       "    }\n",
       "\n",
       "    .dataframe thead th {\n",
       "        text-align: right;\n",
       "    }\n",
       "</style>\n",
       "<table border=\"1\" class=\"dataframe\">\n",
       "  <thead>\n",
       "    <tr style=\"text-align: right;\">\n",
       "      <th></th>\n",
       "      <th>accuracy</th>\n",
       "      <th>f1_score</th>\n",
       "    </tr>\n",
       "  </thead>\n",
       "  <tbody>\n",
       "    <tr>\n",
       "      <th>DummyClassifier</th>\n",
       "      <td>0.9010</td>\n",
       "      <td>0.0000</td>\n",
       "    </tr>\n",
       "    <tr>\n",
       "      <th>LogisticRegression</th>\n",
       "      <td>0.9569</td>\n",
       "      <td>0.7596</td>\n",
       "    </tr>\n",
       "    <tr>\n",
       "      <th>DecisionTreeClassifier</th>\n",
       "      <td>0.9493</td>\n",
       "      <td>0.6927</td>\n",
       "    </tr>\n",
       "    <tr>\n",
       "      <th>RandomForestClassifier</th>\n",
       "      <td>0.9014</td>\n",
       "      <td>0.0076</td>\n",
       "    </tr>\n",
       "  </tbody>\n",
       "</table>\n",
       "</div>"
      ],
      "text/plain": [
       "                        accuracy  f1_score\n",
       "DummyClassifier           0.9010    0.0000\n",
       "LogisticRegression        0.9569    0.7596\n",
       "DecisionTreeClassifier    0.9493    0.6927\n",
       "RandomForestClassifier    0.9014    0.0076"
      ]
     },
     "execution_count": 19,
     "metadata": {},
     "output_type": "execute_result"
    }
   ],
   "source": [
    "best_decision_tree_params = {'max_depth': int(decision_tree_trials.iloc[0]['params_decision_tree_classifier__max_depth']),\n",
    "                             'min_samples_split': int(decision_tree_trials.iloc[0]['params_decision_tree_classifier__min_samples_split']),\n",
    "                             'text_vectorizer': CountVectorizer if decision_tree_trials.iloc[0]['params_text_vectorizer'] == 'CountVectorizer' else TfidfVectorizer}\n",
    "\n",
    "best_random_forest_params = {'max_depth': int(random_forest_trials.iloc[0]['params_random_forest_classifier__max_depth']),\n",
    "                             'max_leaf_nodes': int(random_forest_trials.iloc[0]['params_random_forest_classifier__min_samples_split']),\n",
    "                             'min_samples_split': int(random_forest_trials.iloc[0]['params_random_forest_classifier__min_samples_split']),\n",
    "                             'text_vectorizer': CountVectorizer if random_forest_trials.iloc[0]['params_text_vectorizer'] == 'CountVectorizer' else TfidfVectorizer}\n",
    "\n",
    "best_decision_tree = Pipeline(steps=[('text_preprocessor', text_preprocessor),\n",
    "                                     ('text_vectorizer', best_decision_tree_params['text_vectorizer'](stop_words=set(stopwords.words('english')), dtype=np.float32)),\n",
    "                                     ('decision_tree_classifier', DecisionTreeClassifier(max_depth=best_decision_tree_params['max_depth'],\n",
    "                                                                                         min_samples_split=best_decision_tree_params['min_samples_split']))],\n",
    "                              memory='tmp/cache')\n",
    "\n",
    "best_random_forest = Pipeline(steps=[('text_preprocessor', text_preprocessor),\n",
    "                                     ('text_vectorizer', best_random_forest_params['text_vectorizer'](stop_words=set(stopwords.words('english')), dtype=np.float32)),\n",
    "                                     ('random_forest_classifier', RandomForestClassifier(max_depth=best_random_forest_params['max_depth'],\n",
    "                                                                                         max_leaf_nodes=best_random_forest_params['max_leaf_nodes'],\n",
    "                                                                                         min_samples_split=best_random_forest_params['min_samples_split']))],\n",
    "                              memory='tmp/cache')\n",
    "\n",
    "best_decision_tree.fit(train_features, train_target)\n",
    "best_random_forest.fit(train_features, train_target)\n",
    "best_decision_tree_predictions = best_decision_tree.predict(valid_features)\n",
    "best_random_forest_predictions = best_random_forest.predict(valid_features)\n",
    "\n",
    "valid_results.loc['DecisionTreeClassifier'] = [accuracy_score(valid_target, best_decision_tree_predictions), f1_score(valid_target, best_decision_tree_predictions)]\n",
    "valid_results.loc['RandomForestClassifier'] = [accuracy_score(valid_target, best_random_forest_predictions), f1_score(valid_target, best_random_forest_predictions)]\n",
    "valid_results"
   ]
  },
  {
   "cell_type": "markdown",
   "metadata": {},
   "source": [
    "### Протестируем наилучшую модель на тестовой выборке:"
   ]
  },
  {
   "cell_type": "markdown",
   "metadata": {},
   "source": [
    "Обучим модель логистической регрессии на объединении обучающей и валидационной выборок:"
   ]
  },
  {
   "cell_type": "code",
   "execution_count": 20,
   "metadata": {},
   "outputs": [
    {
     "name": "stderr",
     "output_type": "stream",
     "text": [
      "100%|██████████| 127433/127433 [00:01<00:00, 76479.33it/s]\n",
      "/opt/conda/lib/python3.9/site-packages/sklearn/pipeline.py:303: UserWarning: Persisting input arguments took 0.79s to run.\n",
      "If this happens often in your code, it can cause performance problems \n",
      "(results will be correct in all cases). \n",
      "The reason for this is probably some large input arguments for a wrapped\n",
      " function (e.g. large strings).\n",
      "THIS IS A JOBLIB ISSUE. If you can, kindly provide the joblib's team with an\n",
      " example so that they can fix the problem.\n",
      "  X, fitted_transformer = fit_transform_one_cached(\n",
      "100%|██████████| 127433/127433 [09:43<00:00, 218.57it/s]\n",
      "/opt/conda/lib/python3.9/site-packages/sklearn/pipeline.py:303: UserWarning: Persisting input arguments took 0.63s to run.\n",
      "If this happens often in your code, it can cause performance problems \n",
      "(results will be correct in all cases). \n",
      "The reason for this is probably some large input arguments for a wrapped\n",
      " function (e.g. large strings).\n",
      "THIS IS A JOBLIB ISSUE. If you can, kindly provide the joblib's team with an\n",
      " example so that they can fix the problem.\n",
      "  X, fitted_transformer = fit_transform_one_cached(\n",
      "/opt/conda/lib/python3.9/site-packages/sklearn/pipeline.py:303: UserWarning: Persisting input arguments took 1.31s to run.\n",
      "If this happens often in your code, it can cause performance problems \n",
      "(results will be correct in all cases). \n",
      "The reason for this is probably some large input arguments for a wrapped\n",
      " function (e.g. large strings).\n",
      "THIS IS A JOBLIB ISSUE. If you can, kindly provide the joblib's team with an\n",
      " example so that they can fix the problem.\n",
      "  X, fitted_transformer = fit_transform_one_cached(\n",
      "/opt/conda/lib/python3.9/site-packages/sklearn/linear_model/_logistic.py:763: ConvergenceWarning: lbfgs failed to converge (status=1):\n",
      "STOP: TOTAL NO. of ITERATIONS REACHED LIMIT.\n",
      "\n",
      "Increase the number of iterations (max_iter) or scale the data as shown in:\n",
      "    https://scikit-learn.org/stable/modules/preprocessing.html\n",
      "Please also refer to the documentation for alternative solver options:\n",
      "    https://scikit-learn.org/stable/modules/linear_model.html#logistic-regression\n",
      "  n_iter_i = _check_optimize_result(\n",
      "100%|██████████| 31859/31859 [00:00<00:00, 58565.61it/s]\n",
      "100%|██████████| 31859/31859 [02:31<00:00, 210.04it/s]\n"
     ]
    },
    {
     "data": {
      "text/html": [
       "<div>\n",
       "<style scoped>\n",
       "    .dataframe tbody tr th:only-of-type {\n",
       "        vertical-align: middle;\n",
       "    }\n",
       "\n",
       "    .dataframe tbody tr th {\n",
       "        vertical-align: top;\n",
       "    }\n",
       "\n",
       "    .dataframe thead th {\n",
       "        text-align: right;\n",
       "    }\n",
       "</style>\n",
       "<table border=\"1\" class=\"dataframe\">\n",
       "  <thead>\n",
       "    <tr style=\"text-align: right;\">\n",
       "      <th></th>\n",
       "      <th>accuracy</th>\n",
       "      <th>f1_score</th>\n",
       "    </tr>\n",
       "  </thead>\n",
       "  <tbody>\n",
       "    <tr>\n",
       "      <th>LogisticRegression</th>\n",
       "      <td>0.9562</td>\n",
       "      <td>0.7602</td>\n",
       "    </tr>\n",
       "  </tbody>\n",
       "</table>\n",
       "</div>"
      ],
      "text/plain": [
       "                    accuracy  f1_score\n",
       "LogisticRegression    0.9562    0.7602"
      ]
     },
     "execution_count": 20,
     "metadata": {},
     "output_type": "execute_result"
    }
   ],
   "source": [
    "logistic_classifier = Pipeline(steps=[('text_preprocessor', text_preprocessor),\n",
    "                                      ('text_vectorizer', CountVectorizer(stop_words=set(stopwords.words('english')))),\n",
    "                                      ('logistic_estimator', LogisticRegression(random_state=RANDOM_STATE))],\n",
    "                               memory='tmp/cache')\n",
    "logistic_classifier.fit(pd.concat([train_features, valid_features]), pd.concat([train_target, valid_target]))\n",
    "logistic_predictions = logistic_classifier.predict(test_features)\n",
    "test_results = pd.DataFrame(columns=['accuracy', 'f1_score'])\n",
    "test_results.loc['LogisticRegression'] = [accuracy_score(test_target, logistic_predictions), f1_score(test_target, logistic_predictions)]\n",
    "test_results"
   ]
  },
  {
   "cell_type": "markdown",
   "metadata": {},
   "source": [
    "### Краткий вывод:\n",
    "- `LogisticRegression` ожидаемо справилась с прогнозированием токсичности лучше, чем `DummyClassifier`\n",
    "- `LogisticRegression` справилась с прогнозированием токсичности лучше, чем более сложные модели - `DecisionTreeClassifier`, `RandomForestClassifier`\n",
    "- Значение `F1 score` больше порогового значения $0.75$ на тестовой выборке"
   ]
  },
  {
   "cell_type": "markdown",
   "metadata": {},
   "source": [
    "## Выводы"
   ]
  },
  {
   "cell_type": "markdown",
   "metadata": {},
   "source": [
    "- в данных присутствует явно выраженный дисбаланс классов\n",
    "- в данных отсутствуют пропущенные значения\n",
    "- в данных отсутствуют дубликаты\n",
    "- `LogisticRegression` ожидаемо справилась с прогнозированием токсичности лучше, чем `DummyClassifier`\n",
    "- `LogisticRegression` справилась с прогнозированием токсичности лучше, чем более сложные модели - `DecisionTreeClassifier`, `RandomForestClassifier`\n",
    "- Значение `F1 score` больше порогового значения $0.75$ на тестовой выборке"
   ]
  },
  {
   "cell_type": "markdown",
   "metadata": {},
   "source": [
    "## Чек-лист проверки"
   ]
  },
  {
   "cell_type": "markdown",
   "metadata": {},
   "source": [
    "- [x]  Jupyter Notebook открыт\n",
    "- [x]  Весь код выполняется без ошибок\n",
    "- [x]  Ячейки с кодом расположены в порядке исполнения\n",
    "- [x]  Данные загружены и подготовлены\n",
    "- [x]  Модели обучены\n",
    "- [x]  Значение метрики *F1* не меньше 0.75\n",
    "- [x]  Выводы написаны"
   ]
  }
 ],
 "metadata": {
  "ExecuteTimeLog": [
   {
    "duration": 50,
    "start_time": "2024-04-30T12:40:10.205Z"
   },
   {
    "duration": 1408,
    "start_time": "2024-04-30T12:40:13.197Z"
   },
   {
    "duration": 0,
    "start_time": "2024-04-30T12:40:14.607Z"
   },
   {
    "duration": 2349,
    "start_time": "2024-04-30T12:40:14.997Z"
   },
   {
    "duration": 11,
    "start_time": "2024-04-30T12:40:19.684Z"
   },
   {
    "duration": 890,
    "start_time": "2024-04-30T12:42:02.893Z"
   },
   {
    "duration": 7,
    "start_time": "2024-04-30T12:42:04.512Z"
   },
   {
    "duration": 31,
    "start_time": "2024-04-30T12:47:03.037Z"
   },
   {
    "duration": 16,
    "start_time": "2024-04-30T12:47:06.390Z"
   },
   {
    "duration": 28,
    "start_time": "2024-04-30T12:59:31.376Z"
   },
   {
    "duration": 10,
    "start_time": "2024-04-30T13:04:15.227Z"
   },
   {
    "duration": 4378,
    "start_time": "2024-04-30T13:04:29.674Z"
   },
   {
    "duration": 50,
    "start_time": "2024-04-30T13:04:49.122Z"
   },
   {
    "duration": 36,
    "start_time": "2024-04-30T13:04:54.329Z"
   },
   {
    "duration": 888,
    "start_time": "2024-04-30T13:04:56.969Z"
   },
   {
    "duration": 7,
    "start_time": "2024-04-30T13:04:57.978Z"
   },
   {
    "duration": 31,
    "start_time": "2024-04-30T13:04:59.970Z"
   },
   {
    "duration": 26,
    "start_time": "2024-04-30T13:05:04.913Z"
   },
   {
    "duration": 14,
    "start_time": "2024-04-30T13:05:05.746Z"
   },
   {
    "duration": 3549,
    "start_time": "2024-04-30T13:05:42.412Z"
   },
   {
    "duration": 410,
    "start_time": "2024-04-30T13:05:48.083Z"
   },
   {
    "duration": 1360,
    "start_time": "2024-04-30T13:07:34.275Z"
   },
   {
    "duration": 27,
    "start_time": "2024-04-30T13:07:35.636Z"
   },
   {
    "duration": 910,
    "start_time": "2024-04-30T13:07:35.664Z"
   },
   {
    "duration": 9,
    "start_time": "2024-04-30T13:07:36.575Z"
   },
   {
    "duration": 40,
    "start_time": "2024-04-30T13:07:36.586Z"
   },
   {
    "duration": 25,
    "start_time": "2024-04-30T13:07:36.628Z"
   },
   {
    "duration": 15,
    "start_time": "2024-04-30T13:07:36.655Z"
   },
   {
    "duration": 135,
    "start_time": "2024-04-30T13:07:36.672Z"
   },
   {
    "duration": 130,
    "start_time": "2024-04-30T13:07:44.667Z"
   },
   {
    "duration": 119,
    "start_time": "2024-04-30T13:07:59.516Z"
   },
   {
    "duration": 139,
    "start_time": "2024-04-30T13:08:19.165Z"
   },
   {
    "duration": 221,
    "start_time": "2024-04-30T13:09:49.670Z"
   },
   {
    "duration": 199,
    "start_time": "2024-04-30T13:09:51.957Z"
   },
   {
    "duration": 181,
    "start_time": "2024-04-30T13:11:05.902Z"
   },
   {
    "duration": 1000,
    "start_time": "2024-04-30T13:29:41.717Z"
   },
   {
    "duration": 1869,
    "start_time": "2024-04-30T13:31:25.445Z"
   },
   {
    "duration": 4768,
    "start_time": "2024-04-30T13:35:05.780Z"
   },
   {
    "duration": 4,
    "start_time": "2024-04-30T13:35:22.533Z"
   },
   {
    "duration": 222,
    "start_time": "2024-04-30T13:47:05.692Z"
   },
   {
    "duration": 213840,
    "start_time": "2024-04-30T13:47:07.292Z"
   },
   {
    "duration": 0,
    "start_time": "2024-04-30T13:50:41.133Z"
   },
   {
    "duration": 169,
    "start_time": "2024-04-30T13:50:42.060Z"
   },
   {
    "duration": 208,
    "start_time": "2024-04-30T14:07:48.343Z"
   },
   {
    "duration": 4,
    "start_time": "2024-04-30T14:07:55.662Z"
   },
   {
    "duration": 183,
    "start_time": "2024-04-30T14:07:59.789Z"
   },
   {
    "duration": 230239,
    "start_time": "2024-04-30T14:08:02.335Z"
   },
   {
    "duration": 93791,
    "start_time": "2024-04-30T14:13:46.919Z"
   },
   {
    "duration": 19442,
    "start_time": "2024-04-30T14:15:22.375Z"
   },
   {
    "duration": 237424,
    "start_time": "2024-04-30T14:15:41.920Z"
   },
   {
    "duration": 9,
    "start_time": "2024-04-30T14:20:10.713Z"
   },
   {
    "duration": 14,
    "start_time": "2024-04-30T14:20:18.008Z"
   },
   {
    "duration": 7,
    "start_time": "2024-04-30T14:20:26.003Z"
   },
   {
    "duration": 45,
    "start_time": "2024-04-30T14:23:56.953Z"
   },
   {
    "duration": 35,
    "start_time": "2024-04-30T14:24:02.753Z"
   },
   {
    "duration": 68,
    "start_time": "2024-04-30T14:24:19.097Z"
   },
   {
    "duration": 30,
    "start_time": "2024-04-30T14:24:23.241Z"
   },
   {
    "duration": 32,
    "start_time": "2024-04-30T14:24:27.169Z"
   },
   {
    "duration": 2580,
    "start_time": "2024-04-30T14:42:39.984Z"
   },
   {
    "duration": 24,
    "start_time": "2024-04-30T14:42:42.565Z"
   },
   {
    "duration": 2281,
    "start_time": "2024-04-30T14:42:42.591Z"
   },
   {
    "duration": 9,
    "start_time": "2024-04-30T14:42:44.873Z"
   },
   {
    "duration": 32,
    "start_time": "2024-04-30T14:42:44.883Z"
   },
   {
    "duration": 25,
    "start_time": "2024-04-30T14:42:44.919Z"
   },
   {
    "duration": 15,
    "start_time": "2024-04-30T14:42:44.945Z"
   },
   {
    "duration": 161,
    "start_time": "2024-04-30T14:42:44.962Z"
   },
   {
    "duration": 221,
    "start_time": "2024-04-30T14:42:45.125Z"
   },
   {
    "duration": 48,
    "start_time": "2024-04-30T14:52:57.152Z"
   },
   {
    "duration": 7,
    "start_time": "2024-04-30T14:52:57.286Z"
   },
   {
    "duration": 2568,
    "start_time": "2024-04-30T14:53:02.720Z"
   },
   {
    "duration": 26,
    "start_time": "2024-04-30T14:53:05.290Z"
   },
   {
    "duration": 2323,
    "start_time": "2024-04-30T14:53:05.317Z"
   },
   {
    "duration": 9,
    "start_time": "2024-04-30T14:53:07.642Z"
   },
   {
    "duration": 33,
    "start_time": "2024-04-30T14:53:07.652Z"
   },
   {
    "duration": 27,
    "start_time": "2024-04-30T14:53:07.687Z"
   },
   {
    "duration": 19,
    "start_time": "2024-04-30T14:53:07.715Z"
   },
   {
    "duration": 162,
    "start_time": "2024-04-30T14:53:07.736Z"
   },
   {
    "duration": 225,
    "start_time": "2024-04-30T14:53:07.900Z"
   },
   {
    "duration": 158,
    "start_time": "2024-04-30T14:53:08.127Z"
   },
   {
    "duration": 0,
    "start_time": "2024-04-30T14:53:08.287Z"
   },
   {
    "duration": 2455,
    "start_time": "2024-04-30T14:54:38.920Z"
   },
   {
    "duration": 27,
    "start_time": "2024-04-30T14:54:41.377Z"
   },
   {
    "duration": 866,
    "start_time": "2024-04-30T14:54:41.406Z"
   },
   {
    "duration": 9,
    "start_time": "2024-04-30T14:54:42.273Z"
   },
   {
    "duration": 41,
    "start_time": "2024-04-30T14:54:42.283Z"
   },
   {
    "duration": 25,
    "start_time": "2024-04-30T14:54:42.326Z"
   },
   {
    "duration": 18,
    "start_time": "2024-04-30T14:54:42.353Z"
   },
   {
    "duration": 156,
    "start_time": "2024-04-30T14:54:42.373Z"
   },
   {
    "duration": 219,
    "start_time": "2024-04-30T14:54:42.531Z"
   },
   {
    "duration": 156,
    "start_time": "2024-04-30T14:54:42.753Z"
   },
   {
    "duration": 16,
    "start_time": "2024-04-30T14:54:53.999Z"
   },
   {
    "duration": 2901,
    "start_time": "2024-04-30T15:00:10.706Z"
   },
   {
    "duration": 25,
    "start_time": "2024-04-30T15:00:13.609Z"
   },
   {
    "duration": 2296,
    "start_time": "2024-04-30T15:00:13.635Z"
   },
   {
    "duration": 10,
    "start_time": "2024-04-30T15:00:15.933Z"
   },
   {
    "duration": 36,
    "start_time": "2024-04-30T15:00:15.944Z"
   },
   {
    "duration": 26,
    "start_time": "2024-04-30T15:00:15.982Z"
   },
   {
    "duration": 22,
    "start_time": "2024-04-30T15:00:16.010Z"
   },
   {
    "duration": 150,
    "start_time": "2024-04-30T15:00:16.034Z"
   },
   {
    "duration": 228,
    "start_time": "2024-04-30T15:00:16.186Z"
   },
   {
    "duration": 16,
    "start_time": "2024-04-30T15:00:16.420Z"
   },
   {
    "duration": 1499,
    "start_time": "2024-04-30T15:02:06.544Z"
   },
   {
    "duration": 6,
    "start_time": "2024-04-30T15:02:23.865Z"
   },
   {
    "duration": 106,
    "start_time": "2024-04-30T15:12:58.299Z"
   },
   {
    "duration": 1428,
    "start_time": "2024-04-30T15:13:03.284Z"
   },
   {
    "duration": 28,
    "start_time": "2024-04-30T15:13:04.714Z"
   },
   {
    "duration": 941,
    "start_time": "2024-04-30T15:13:04.743Z"
   },
   {
    "duration": 8,
    "start_time": "2024-04-30T15:13:05.686Z"
   },
   {
    "duration": 38,
    "start_time": "2024-04-30T15:13:05.696Z"
   },
   {
    "duration": 29,
    "start_time": "2024-04-30T15:13:05.736Z"
   },
   {
    "duration": 16,
    "start_time": "2024-04-30T15:13:05.766Z"
   },
   {
    "duration": 156,
    "start_time": "2024-04-30T15:13:05.783Z"
   },
   {
    "duration": 233,
    "start_time": "2024-04-30T15:13:05.940Z"
   },
   {
    "duration": 85354,
    "start_time": "2024-04-30T15:13:06.175Z"
   },
   {
    "duration": 85279,
    "start_time": "2024-04-30T15:19:54.692Z"
   },
   {
    "duration": 4,
    "start_time": "2024-04-30T15:35:19.857Z"
   },
   {
    "duration": 327,
    "start_time": "2024-04-30T15:35:19.991Z"
   },
   {
    "duration": 3,
    "start_time": "2024-04-30T15:35:29.945Z"
   },
   {
    "duration": 4,
    "start_time": "2024-04-30T15:35:32.024Z"
   },
   {
    "duration": 3,
    "start_time": "2024-04-30T15:35:35.328Z"
   },
   {
    "duration": 198373,
    "start_time": "2024-04-30T15:35:35.447Z"
   },
   {
    "duration": 772,
    "start_time": "2024-04-30T15:40:32.785Z"
   },
   {
    "duration": 15,
    "start_time": "2024-04-30T15:40:40.417Z"
   },
   {
    "duration": 7,
    "start_time": "2024-04-30T15:40:48.953Z"
   },
   {
    "duration": 4,
    "start_time": "2024-04-30T15:41:02.081Z"
   },
   {
    "duration": 6,
    "start_time": "2024-04-30T15:41:02.201Z"
   },
   {
    "duration": 12,
    "start_time": "2024-04-30T15:41:02.585Z"
   },
   {
    "duration": 5,
    "start_time": "2024-04-30T15:41:11.416Z"
   },
   {
    "duration": 10,
    "start_time": "2024-04-30T15:42:09.759Z"
   },
   {
    "duration": 5,
    "start_time": "2024-04-30T15:42:16.896Z"
   },
   {
    "duration": 2157,
    "start_time": "2024-04-30T15:42:24.049Z"
   },
   {
    "duration": 6,
    "start_time": "2024-04-30T15:42:26.207Z"
   },
   {
    "duration": 9,
    "start_time": "2024-04-30T15:46:19.547Z"
   },
   {
    "duration": 7,
    "start_time": "2024-04-30T15:53:53.132Z"
   },
   {
    "duration": 19,
    "start_time": "2024-04-30T15:54:04.246Z"
   },
   {
    "duration": 12735,
    "start_time": "2024-04-30T15:54:18.045Z"
   },
   {
    "duration": 486,
    "start_time": "2024-04-30T15:54:39.421Z"
   },
   {
    "duration": 12,
    "start_time": "2024-04-30T15:54:58.180Z"
   },
   {
    "duration": 11,
    "start_time": "2024-04-30T15:58:11.805Z"
   },
   {
    "duration": 10,
    "start_time": "2024-04-30T15:58:31.030Z"
   },
   {
    "duration": 25,
    "start_time": "2024-04-30T15:58:33.838Z"
   },
   {
    "duration": 20,
    "start_time": "2024-04-30T15:58:33.956Z"
   },
   {
    "duration": 21,
    "start_time": "2024-04-30T15:58:42.246Z"
   },
   {
    "duration": 1207,
    "start_time": "2024-04-30T15:58:59.917Z"
   },
   {
    "duration": 14,
    "start_time": "2024-04-30T15:59:09.846Z"
   },
   {
    "duration": 1171,
    "start_time": "2024-04-30T15:59:10.037Z"
   },
   {
    "duration": 1173,
    "start_time": "2024-04-30T15:59:55.518Z"
   },
   {
    "duration": 25,
    "start_time": "2024-04-30T16:00:09.541Z"
   },
   {
    "duration": 13,
    "start_time": "2024-04-30T16:00:09.805Z"
   },
   {
    "duration": 1174,
    "start_time": "2024-04-30T16:00:10.694Z"
   },
   {
    "duration": 5,
    "start_time": "2024-04-30T16:00:27.757Z"
   },
   {
    "duration": 1190,
    "start_time": "2024-04-30T16:00:35.006Z"
   },
   {
    "duration": 3035,
    "start_time": "2024-04-30T16:00:55.982Z"
   },
   {
    "duration": 1340,
    "start_time": "2024-04-30T16:00:59.019Z"
   },
   {
    "duration": 5,
    "start_time": "2024-04-30T16:01:00.361Z"
   },
   {
    "duration": 131,
    "start_time": "2024-04-30T16:01:11.694Z"
   },
   {
    "duration": 8,
    "start_time": "2024-04-30T16:01:16.054Z"
   },
   {
    "duration": 130,
    "start_time": "2024-04-30T16:01:20.599Z"
   },
   {
    "duration": 123,
    "start_time": "2024-04-30T16:01:27.335Z"
   },
   {
    "duration": 116,
    "start_time": "2024-04-30T16:02:00.143Z"
   },
   {
    "duration": 119,
    "start_time": "2024-04-30T16:02:05.103Z"
   },
   {
    "duration": 121,
    "start_time": "2024-04-30T16:02:08.447Z"
   },
   {
    "duration": 155,
    "start_time": "2024-04-30T16:03:21.488Z"
   },
   {
    "duration": 5,
    "start_time": "2024-04-30T16:05:44.968Z"
   },
   {
    "duration": 15,
    "start_time": "2024-04-30T16:07:56.384Z"
   },
   {
    "duration": 1378,
    "start_time": "2024-04-30T16:08:21.712Z"
   },
   {
    "duration": 99827,
    "start_time": "2024-04-30T16:08:31.816Z"
   },
   {
    "duration": 1544,
    "start_time": "2024-04-30T16:10:11.645Z"
   },
   {
    "duration": 5,
    "start_time": "2024-04-30T16:10:13.191Z"
   },
   {
    "duration": 24,
    "start_time": "2024-04-30T16:10:13.197Z"
   },
   {
    "duration": 12,
    "start_time": "2024-04-30T16:10:19.376Z"
   },
   {
    "duration": 30,
    "start_time": "2024-04-30T16:10:23.943Z"
   },
   {
    "duration": 1581,
    "start_time": "2024-04-30T16:11:47.474Z"
   },
   {
    "duration": 29,
    "start_time": "2024-04-30T16:11:49.057Z"
   },
   {
    "duration": 872,
    "start_time": "2024-04-30T16:11:49.087Z"
   },
   {
    "duration": 10,
    "start_time": "2024-04-30T16:11:49.962Z"
   },
   {
    "duration": 30,
    "start_time": "2024-04-30T16:11:49.975Z"
   },
   {
    "duration": 36,
    "start_time": "2024-04-30T16:11:50.007Z"
   },
   {
    "duration": 18,
    "start_time": "2024-04-30T16:11:50.044Z"
   },
   {
    "duration": 143,
    "start_time": "2024-04-30T16:11:50.064Z"
   },
   {
    "duration": 220,
    "start_time": "2024-04-30T16:11:50.209Z"
   },
   {
    "duration": 3,
    "start_time": "2024-04-30T16:11:50.431Z"
   },
   {
    "duration": 2097,
    "start_time": "2024-04-30T16:11:50.435Z"
   },
   {
    "duration": 12,
    "start_time": "2024-04-30T16:11:52.533Z"
   },
   {
    "duration": 28,
    "start_time": "2024-04-30T16:11:52.547Z"
   },
   {
    "duration": 168,
    "start_time": "2024-04-30T16:11:52.576Z"
   },
   {
    "duration": 1391,
    "start_time": "2024-04-30T16:12:45.743Z"
   },
   {
    "duration": 1404,
    "start_time": "2024-04-30T16:12:53.488Z"
   },
   {
    "duration": 5,
    "start_time": "2024-04-30T16:13:05.464Z"
   },
   {
    "duration": 32,
    "start_time": "2024-04-30T16:13:05.848Z"
   },
   {
    "duration": 141,
    "start_time": "2024-04-30T16:13:06.232Z"
   },
   {
    "duration": 1281,
    "start_time": "2024-04-30T16:13:07.536Z"
   },
   {
    "duration": 10,
    "start_time": "2024-04-30T16:13:12.632Z"
   },
   {
    "duration": 28,
    "start_time": "2024-04-30T16:13:12.783Z"
   },
   {
    "duration": 152,
    "start_time": "2024-04-30T16:13:13.168Z"
   },
   {
    "duration": 1433,
    "start_time": "2024-04-30T16:13:13.322Z"
   },
   {
    "duration": 10,
    "start_time": "2024-04-30T16:13:22.890Z"
   },
   {
    "duration": 27,
    "start_time": "2024-04-30T16:13:23.240Z"
   },
   {
    "duration": 3098,
    "start_time": "2024-04-30T16:13:23.696Z"
   },
   {
    "duration": 1471,
    "start_time": "2024-04-30T16:13:26.796Z"
   },
   {
    "duration": 5,
    "start_time": "2024-04-30T16:13:34.417Z"
   },
   {
    "duration": 28,
    "start_time": "2024-04-30T16:13:34.823Z"
   },
   {
    "duration": 2980,
    "start_time": "2024-04-30T16:13:35.146Z"
   },
   {
    "duration": 1449,
    "start_time": "2024-04-30T16:13:38.128Z"
   },
   {
    "duration": 10,
    "start_time": "2024-04-30T16:13:46.033Z"
   },
   {
    "duration": 28,
    "start_time": "2024-04-30T16:13:46.240Z"
   },
   {
    "duration": 3112,
    "start_time": "2024-04-30T16:13:46.808Z"
   },
   {
    "duration": 1488,
    "start_time": "2024-04-30T16:13:49.922Z"
   },
   {
    "duration": 13,
    "start_time": "2024-04-30T16:14:21.329Z"
   },
   {
    "duration": 28,
    "start_time": "2024-04-30T16:14:23.025Z"
   },
   {
    "duration": 3194,
    "start_time": "2024-04-30T16:14:23.154Z"
   },
   {
    "duration": 1281,
    "start_time": "2024-04-30T16:14:26.350Z"
   },
   {
    "duration": 5,
    "start_time": "2024-04-30T16:14:38.155Z"
   },
   {
    "duration": 34,
    "start_time": "2024-04-30T16:14:38.288Z"
   },
   {
    "duration": 3020,
    "start_time": "2024-04-30T16:14:38.568Z"
   },
   {
    "duration": 1340,
    "start_time": "2024-04-30T16:14:41.590Z"
   },
   {
    "duration": 183,
    "start_time": "2024-04-30T16:15:02.714Z"
   },
   {
    "duration": 11,
    "start_time": "2024-04-30T16:15:13.609Z"
   },
   {
    "duration": 28,
    "start_time": "2024-04-30T16:15:14.008Z"
   },
   {
    "duration": 3189,
    "start_time": "2024-04-30T16:15:14.600Z"
   },
   {
    "duration": 1305,
    "start_time": "2024-04-30T16:15:17.791Z"
   },
   {
    "duration": 112648,
    "start_time": "2024-04-30T16:15:23.640Z"
   },
   {
    "duration": 1364,
    "start_time": "2024-04-30T16:17:16.290Z"
   },
   {
    "duration": 246,
    "start_time": "2024-04-30T16:21:17.939Z"
   },
   {
    "duration": 125,
    "start_time": "2024-04-30T16:21:22.891Z"
   },
   {
    "duration": 115,
    "start_time": "2024-04-30T16:21:59.356Z"
   },
   {
    "duration": 120,
    "start_time": "2024-04-30T16:22:03.187Z"
   },
   {
    "duration": 124,
    "start_time": "2024-04-30T16:22:20.330Z"
   },
   {
    "duration": 128,
    "start_time": "2024-04-30T16:22:37.843Z"
   },
   {
    "duration": 125,
    "start_time": "2024-04-30T16:24:15.619Z"
   },
   {
    "duration": 5,
    "start_time": "2024-04-30T16:42:47.405Z"
   },
   {
    "duration": 11,
    "start_time": "2024-04-30T16:43:02.149Z"
   },
   {
    "duration": 31,
    "start_time": "2024-04-30T16:43:02.659Z"
   },
   {
    "duration": 113010,
    "start_time": "2024-04-30T16:43:03.021Z"
   },
   {
    "duration": 1365,
    "start_time": "2024-04-30T16:44:56.033Z"
   },
   {
    "duration": 3188,
    "start_time": "2024-04-30T16:45:23.477Z"
   },
   {
    "duration": 1263,
    "start_time": "2024-04-30T16:45:26.666Z"
   },
   {
    "duration": 11,
    "start_time": "2024-04-30T16:45:32.229Z"
   },
   {
    "duration": 29,
    "start_time": "2024-04-30T16:45:32.380Z"
   },
   {
    "duration": 7658,
    "start_time": "2024-04-30T16:45:32.821Z"
   },
   {
    "duration": 1327,
    "start_time": "2024-04-30T16:45:40.481Z"
   },
   {
    "duration": 14,
    "start_time": "2024-04-30T16:46:01.685Z"
   },
   {
    "duration": 29,
    "start_time": "2024-04-30T16:46:01.933Z"
   },
   {
    "duration": 3071,
    "start_time": "2024-04-30T16:46:02.125Z"
   },
   {
    "duration": 1330,
    "start_time": "2024-04-30T16:46:05.198Z"
   },
   {
    "duration": 1294,
    "start_time": "2024-04-30T16:46:20.541Z"
   },
   {
    "duration": 1318,
    "start_time": "2024-04-30T16:46:31.349Z"
   },
   {
    "duration": 1251,
    "start_time": "2024-04-30T16:46:34.716Z"
   },
   {
    "duration": 1663,
    "start_time": "2024-04-30T16:47:09.276Z"
   },
   {
    "duration": 232,
    "start_time": "2024-04-30T16:47:10.941Z"
   },
   {
    "duration": 877,
    "start_time": "2024-04-30T16:47:11.174Z"
   },
   {
    "duration": 10,
    "start_time": "2024-04-30T16:47:12.053Z"
   },
   {
    "duration": 31,
    "start_time": "2024-04-30T16:47:12.066Z"
   },
   {
    "duration": 44,
    "start_time": "2024-04-30T16:47:12.099Z"
   },
   {
    "duration": 15,
    "start_time": "2024-04-30T16:47:12.144Z"
   },
   {
    "duration": 144,
    "start_time": "2024-04-30T16:47:12.161Z"
   },
   {
    "duration": 220,
    "start_time": "2024-04-30T16:47:12.307Z"
   },
   {
    "duration": 3,
    "start_time": "2024-04-30T16:47:12.528Z"
   },
   {
    "duration": 2129,
    "start_time": "2024-04-30T16:47:12.532Z"
   },
   {
    "duration": 13,
    "start_time": "2024-04-30T16:47:14.662Z"
   },
   {
    "duration": 27,
    "start_time": "2024-04-30T16:47:14.676Z"
   },
   {
    "duration": 3194,
    "start_time": "2024-04-30T16:47:14.706Z"
   },
   {
    "duration": 1248,
    "start_time": "2024-04-30T16:47:17.902Z"
   },
   {
    "duration": 159,
    "start_time": "2024-04-30T16:47:19.152Z"
   },
   {
    "duration": 0,
    "start_time": "2024-04-30T16:47:19.312Z"
   },
   {
    "duration": 4,
    "start_time": "2024-04-30T16:47:20.886Z"
   },
   {
    "duration": 156181,
    "start_time": "2024-04-30T16:50:40.750Z"
   },
   {
    "duration": 1339,
    "start_time": "2024-04-30T16:53:16.932Z"
   },
   {
    "duration": 5766,
    "start_time": "2024-05-01T07:02:29.505Z"
   },
   {
    "duration": 1408,
    "start_time": "2024-05-01T07:02:46.359Z"
   },
   {
    "duration": 178,
    "start_time": "2024-05-01T07:02:47.769Z"
   },
   {
    "duration": 2974,
    "start_time": "2024-05-01T07:02:50.012Z"
   },
   {
    "duration": 10,
    "start_time": "2024-05-01T07:02:54.699Z"
   },
   {
    "duration": 22,
    "start_time": "2024-05-01T07:02:58.201Z"
   },
   {
    "duration": 17,
    "start_time": "2024-05-01T07:03:03.227Z"
   },
   {
    "duration": 12,
    "start_time": "2024-05-01T07:03:05.644Z"
   },
   {
    "duration": 114,
    "start_time": "2024-05-01T07:03:08.916Z"
   },
   {
    "duration": 196,
    "start_time": "2024-05-01T07:03:17.121Z"
   },
   {
    "duration": 8,
    "start_time": "2024-05-01T07:05:04.309Z"
   },
   {
    "duration": 80,
    "start_time": "2024-05-01T07:06:31.285Z"
   },
   {
    "duration": 741,
    "start_time": "2024-05-01T07:07:34.444Z"
   },
   {
    "duration": 8,
    "start_time": "2024-05-01T07:07:36.112Z"
   },
   {
    "duration": 731,
    "start_time": "2024-05-01T07:09:33.894Z"
   },
   {
    "duration": 6,
    "start_time": "2024-05-01T07:09:35.950Z"
   },
   {
    "duration": 728,
    "start_time": "2024-05-01T07:09:58.020Z"
   },
   {
    "duration": 6,
    "start_time": "2024-05-01T07:09:59.928Z"
   },
   {
    "duration": 28,
    "start_time": "2024-05-01T07:10:01.104Z"
   },
   {
    "duration": 115,
    "start_time": "2024-05-01T07:10:02.175Z"
   },
   {
    "duration": 79,
    "start_time": "2024-05-01T07:10:11.158Z"
   },
   {
    "duration": 19,
    "start_time": "2024-05-01T07:10:15.526Z"
   },
   {
    "duration": 1409,
    "start_time": "2024-05-01T07:10:56.690Z"
   },
   {
    "duration": 242,
    "start_time": "2024-05-01T07:10:58.100Z"
   },
   {
    "duration": 744,
    "start_time": "2024-05-01T07:11:01.007Z"
   },
   {
    "duration": 742,
    "start_time": "2024-05-01T07:11:19.144Z"
   },
   {
    "duration": 8,
    "start_time": "2024-05-01T07:11:19.887Z"
   },
   {
    "duration": 24,
    "start_time": "2024-05-01T07:11:25.992Z"
   },
   {
    "duration": 22,
    "start_time": "2024-05-01T07:11:27.560Z"
   },
   {
    "duration": 21,
    "start_time": "2024-05-01T07:11:39.008Z"
   },
   {
    "duration": 128,
    "start_time": "2024-05-01T07:11:41.241Z"
   },
   {
    "duration": 7,
    "start_time": "2024-05-01T07:12:34.029Z"
   },
   {
    "duration": 8,
    "start_time": "2024-05-01T07:12:39.152Z"
   },
   {
    "duration": 19,
    "start_time": "2024-05-01T07:12:46.217Z"
   },
   {
    "duration": 216,
    "start_time": "2024-05-01T07:12:52.017Z"
   },
   {
    "duration": 3,
    "start_time": "2024-05-01T07:15:19.761Z"
   },
   {
    "duration": 1773,
    "start_time": "2024-05-01T07:15:28.193Z"
   },
   {
    "duration": 1390,
    "start_time": "2024-05-01T07:30:49.529Z"
   },
   {
    "duration": 184,
    "start_time": "2024-05-01T07:30:50.920Z"
   },
   {
    "duration": 710,
    "start_time": "2024-05-01T07:30:51.105Z"
   },
   {
    "duration": 7,
    "start_time": "2024-05-01T07:30:51.816Z"
   },
   {
    "duration": 27,
    "start_time": "2024-05-01T07:30:51.825Z"
   },
   {
    "duration": 14,
    "start_time": "2024-05-01T07:30:51.854Z"
   },
   {
    "duration": 138,
    "start_time": "2024-05-01T07:30:51.869Z"
   },
   {
    "duration": 7,
    "start_time": "2024-05-01T07:30:52.008Z"
   },
   {
    "duration": 40,
    "start_time": "2024-05-01T07:30:52.016Z"
   },
   {
    "duration": 215,
    "start_time": "2024-05-01T07:30:52.057Z"
   },
   {
    "duration": 3,
    "start_time": "2024-05-01T07:30:56.051Z"
   },
   {
    "duration": 121,
    "start_time": "2024-05-01T07:31:36.827Z"
   },
   {
    "duration": 2,
    "start_time": "2024-05-01T07:31:42.594Z"
   },
   {
    "duration": 13,
    "start_time": "2024-05-01T07:32:01.453Z"
   },
   {
    "duration": 4860,
    "start_time": "2024-05-01T07:33:13.645Z"
   },
   {
    "duration": 73,
    "start_time": "2024-05-01T07:33:30.113Z"
   },
   {
    "duration": 633,
    "start_time": "2024-05-01T07:33:32.501Z"
   },
   {
    "duration": 6,
    "start_time": "2024-05-01T07:33:42.171Z"
   },
   {
    "duration": 19,
    "start_time": "2024-05-01T07:34:17.590Z"
   },
   {
    "duration": 4,
    "start_time": "2024-05-01T07:34:23.930Z"
   },
   {
    "duration": 6344,
    "start_time": "2024-05-01T07:34:24.397Z"
   },
   {
    "duration": 256,
    "start_time": "2024-05-01T07:34:33.533Z"
   },
   {
    "duration": 4,
    "start_time": "2024-05-01T07:34:59.659Z"
   },
   {
    "duration": 306,
    "start_time": "2024-05-01T07:35:00.346Z"
   },
   {
    "duration": 351,
    "start_time": "2024-05-01T07:35:04.574Z"
   },
   {
    "duration": 305,
    "start_time": "2024-05-01T07:35:26.604Z"
   },
   {
    "duration": 591,
    "start_time": "2024-05-01T07:35:47.476Z"
   },
   {
    "duration": 4,
    "start_time": "2024-05-01T07:36:01.956Z"
   },
   {
    "duration": 612,
    "start_time": "2024-05-01T07:36:02.099Z"
   },
   {
    "duration": 7,
    "start_time": "2024-05-01T07:45:17.579Z"
   },
   {
    "duration": 589,
    "start_time": "2024-05-01T07:46:18.004Z"
   },
   {
    "duration": 592,
    "start_time": "2024-05-01T07:46:23.602Z"
   },
   {
    "duration": 3,
    "start_time": "2024-05-01T07:48:44.565Z"
   },
   {
    "duration": 611,
    "start_time": "2024-05-01T07:49:33.488Z"
   },
   {
    "duration": 618,
    "start_time": "2024-05-01T07:49:44.822Z"
   },
   {
    "duration": 677,
    "start_time": "2024-05-01T07:49:49.459Z"
   },
   {
    "duration": 19,
    "start_time": "2024-05-01T07:50:01.810Z"
   },
   {
    "duration": 42,
    "start_time": "2024-05-01T07:50:06.067Z"
   },
   {
    "duration": 3028,
    "start_time": "2024-05-01T07:50:10.007Z"
   },
   {
    "duration": 11614,
    "start_time": "2024-05-01T07:50:17.959Z"
   },
   {
    "duration": 404,
    "start_time": "2024-05-01T07:50:35.402Z"
   },
   {
    "duration": 2650,
    "start_time": "2024-05-01T07:50:38.607Z"
   },
   {
    "duration": 412,
    "start_time": "2024-05-01T07:51:02.790Z"
   },
   {
    "duration": 405,
    "start_time": "2024-05-01T07:51:06.506Z"
   },
   {
    "duration": 420,
    "start_time": "2024-05-01T07:51:18.865Z"
   },
   {
    "duration": 424,
    "start_time": "2024-05-01T07:51:20.933Z"
   },
   {
    "duration": 404,
    "start_time": "2024-05-01T07:51:22.276Z"
   },
   {
    "duration": 2334,
    "start_time": "2024-05-01T07:51:24.727Z"
   },
   {
    "duration": 994,
    "start_time": "2024-05-01T07:51:36.757Z"
   },
   {
    "duration": 5137,
    "start_time": "2024-05-01T07:51:42.626Z"
   },
   {
    "duration": 4,
    "start_time": "2024-05-01T07:52:46.277Z"
   },
   {
    "duration": 53109,
    "start_time": "2024-05-01T07:52:46.404Z"
   },
   {
    "duration": 0,
    "start_time": "2024-05-01T07:53:39.515Z"
   },
   {
    "duration": 699,
    "start_time": "2024-05-01T07:53:40.815Z"
   },
   {
    "duration": 64,
    "start_time": "2024-05-01T07:53:49.271Z"
   },
   {
    "duration": 32,
    "start_time": "2024-05-01T07:53:51.484Z"
   },
   {
    "duration": 42,
    "start_time": "2024-05-01T07:53:58.239Z"
   },
   {
    "duration": 932,
    "start_time": "2024-05-01T07:54:02.137Z"
   },
   {
    "duration": 85,
    "start_time": "2024-05-01T07:54:07.677Z"
   },
   {
    "duration": 1167,
    "start_time": "2024-05-01T07:54:10.034Z"
   },
   {
    "duration": 1829,
    "start_time": "2024-05-01T07:54:20.235Z"
   },
   {
    "duration": 157,
    "start_time": "2024-05-01T07:54:23.363Z"
   },
   {
    "duration": 1969,
    "start_time": "2024-05-01T07:57:29.241Z"
   },
   {
    "duration": 3,
    "start_time": "2024-05-01T07:57:39.816Z"
   },
   {
    "duration": 1471,
    "start_time": "2024-05-01T07:57:40.005Z"
   },
   {
    "duration": 157,
    "start_time": "2024-05-01T07:57:43.272Z"
   },
   {
    "duration": 4,
    "start_time": "2024-05-01T07:57:46.077Z"
   },
   {
    "duration": 147,
    "start_time": "2024-05-01T07:57:46.215Z"
   },
   {
    "duration": 140,
    "start_time": "2024-05-01T07:57:48.528Z"
   },
   {
    "duration": 1462,
    "start_time": "2024-05-01T07:57:50.175Z"
   },
   {
    "duration": 4,
    "start_time": "2024-05-01T08:00:29.564Z"
   },
   {
    "duration": 3,
    "start_time": "2024-05-01T08:00:34.038Z"
   },
   {
    "duration": 67,
    "start_time": "2024-05-01T08:01:17.439Z"
   },
   {
    "duration": 16,
    "start_time": "2024-05-01T08:01:22.985Z"
   },
   {
    "duration": 10,
    "start_time": "2024-05-01T08:01:32.020Z"
   },
   {
    "duration": 316,
    "start_time": "2024-05-01T08:01:53.112Z"
   },
   {
    "duration": 1103,
    "start_time": "2024-05-01T08:02:05.248Z"
   },
   {
    "duration": 2045,
    "start_time": "2024-05-01T08:02:22.525Z"
   },
   {
    "duration": 147,
    "start_time": "2024-05-01T08:02:29.036Z"
   },
   {
    "duration": 2172,
    "start_time": "2024-05-01T08:02:30.901Z"
   },
   {
    "duration": 434,
    "start_time": "2024-05-01T08:02:36.054Z"
   },
   {
    "duration": 3243,
    "start_time": "2024-05-01T08:02:38.264Z"
   },
   {
    "duration": 3603,
    "start_time": "2024-05-01T08:02:49.003Z"
   },
   {
    "duration": 556,
    "start_time": "2024-05-01T08:02:56.740Z"
   },
   {
    "duration": 1376,
    "start_time": "2024-05-01T08:03:09.766Z"
   },
   {
    "duration": 34,
    "start_time": "2024-05-01T08:03:12.884Z"
   },
   {
    "duration": 30,
    "start_time": "2024-05-01T08:06:36.021Z"
   },
   {
    "duration": 13,
    "start_time": "2024-05-01T08:07:28.549Z"
   },
   {
    "duration": 8,
    "start_time": "2024-05-01T08:07:37.047Z"
   },
   {
    "duration": 9,
    "start_time": "2024-05-01T08:07:45.706Z"
   },
   {
    "duration": 7,
    "start_time": "2024-05-01T08:08:00.367Z"
   },
   {
    "duration": 630,
    "start_time": "2024-05-01T08:08:30.503Z"
   },
   {
    "duration": 635,
    "start_time": "2024-05-01T08:08:47.922Z"
   },
   {
    "duration": 17,
    "start_time": "2024-05-01T08:09:14.375Z"
   },
   {
    "duration": 650,
    "start_time": "2024-05-01T08:09:46.307Z"
   },
   {
    "duration": 1212,
    "start_time": "2024-05-01T08:10:20.733Z"
   },
   {
    "duration": 1702,
    "start_time": "2024-05-01T08:10:24.755Z"
   },
   {
    "duration": 68,
    "start_time": "2024-05-01T08:10:29.185Z"
   },
   {
    "duration": 3268,
    "start_time": "2024-05-01T08:10:32.788Z"
   },
   {
    "duration": 11689,
    "start_time": "2024-05-01T08:10:41.642Z"
   },
   {
    "duration": 6,
    "start_time": "2024-05-01T08:11:43.396Z"
   },
   {
    "duration": 40,
    "start_time": "2024-05-01T08:11:45.319Z"
   },
   {
    "duration": 724,
    "start_time": "2024-05-01T08:11:47.013Z"
   },
   {
    "duration": 4,
    "start_time": "2024-05-01T08:17:02.302Z"
   },
   {
    "duration": 11617,
    "start_time": "2024-05-01T08:17:05.647Z"
   },
   {
    "duration": 50012,
    "start_time": "2024-05-01T08:22:02.419Z"
   },
   {
    "duration": 0,
    "start_time": "2024-05-01T08:22:52.433Z"
   },
   {
    "duration": 36769,
    "start_time": "2024-05-01T08:22:54.430Z"
   },
   {
    "duration": 2443,
    "start_time": "2024-05-01T08:23:32.471Z"
   },
   {
    "duration": 4,
    "start_time": "2024-05-01T08:24:13.580Z"
   },
   {
    "duration": 596,
    "start_time": "2024-05-01T08:24:14.050Z"
   },
   {
    "duration": 192,
    "start_time": "2024-05-01T08:24:17.489Z"
   },
   {
    "duration": 45,
    "start_time": "2024-05-01T08:24:22.093Z"
   },
   {
    "duration": 1767,
    "start_time": "2024-05-01T08:24:26.010Z"
   },
   {
    "duration": 354,
    "start_time": "2024-05-01T08:24:29.323Z"
   },
   {
    "duration": 663,
    "start_time": "2024-05-01T08:24:35.011Z"
   },
   {
    "duration": 16,
    "start_time": "2024-05-01T08:24:45.039Z"
   },
   {
    "duration": 758,
    "start_time": "2024-05-01T08:24:56.864Z"
   },
   {
    "duration": 15,
    "start_time": "2024-05-01T08:25:16.493Z"
   },
   {
    "duration": 1401,
    "start_time": "2024-05-01T08:25:18.432Z"
   },
   {
    "duration": 1781,
    "start_time": "2024-05-01T08:25:33.635Z"
   },
   {
    "duration": 15,
    "start_time": "2024-05-01T08:25:38.811Z"
   },
   {
    "duration": 2413,
    "start_time": "2024-05-01T08:25:38.930Z"
   },
   {
    "duration": 15,
    "start_time": "2024-05-01T08:25:44.243Z"
   },
   {
    "duration": 2363,
    "start_time": "2024-05-01T08:25:44.371Z"
   },
   {
    "duration": 15,
    "start_time": "2024-05-01T08:25:48.883Z"
   },
   {
    "duration": 5485,
    "start_time": "2024-05-01T08:25:49.004Z"
   },
   {
    "duration": 16,
    "start_time": "2024-05-01T08:25:57.467Z"
   },
   {
    "duration": 5496,
    "start_time": "2024-05-01T08:25:57.596Z"
   },
   {
    "duration": 15,
    "start_time": "2024-05-01T08:26:10.411Z"
   },
   {
    "duration": 11454,
    "start_time": "2024-05-01T08:26:10.539Z"
   },
   {
    "duration": 15,
    "start_time": "2024-05-01T08:26:27.907Z"
   },
   {
    "duration": 11023,
    "start_time": "2024-05-01T08:26:28.043Z"
   },
   {
    "duration": 36,
    "start_time": "2024-05-01T08:27:52.164Z"
   },
   {
    "duration": 13,
    "start_time": "2024-05-01T08:35:39.102Z"
   },
   {
    "duration": 12,
    "start_time": "2024-05-01T08:35:42.574Z"
   },
   {
    "duration": 48,
    "start_time": "2024-05-01T08:46:26.917Z"
   },
   {
    "duration": 32,
    "start_time": "2024-05-01T08:47:30.843Z"
   },
   {
    "duration": 23,
    "start_time": "2024-05-01T08:47:55.665Z"
   },
   {
    "duration": 23,
    "start_time": "2024-05-01T08:49:07.896Z"
   },
   {
    "duration": 29,
    "start_time": "2024-05-01T09:04:49.412Z"
   },
   {
    "duration": 9,
    "start_time": "2024-05-01T09:14:35.458Z"
   },
   {
    "duration": 23,
    "start_time": "2024-05-01T09:14:37.959Z"
   },
   {
    "duration": 24,
    "start_time": "2024-05-01T09:14:54.801Z"
   },
   {
    "duration": 7,
    "start_time": "2024-05-01T09:15:00.745Z"
   },
   {
    "duration": 13,
    "start_time": "2024-05-01T09:17:45.872Z"
   },
   {
    "duration": 9,
    "start_time": "2024-05-01T09:17:52.444Z"
   },
   {
    "duration": 8,
    "start_time": "2024-05-01T09:17:56.817Z"
   },
   {
    "duration": 22,
    "start_time": "2024-05-01T09:17:58.569Z"
   },
   {
    "duration": 3,
    "start_time": "2024-05-01T09:18:00.105Z"
   },
   {
    "duration": 53133,
    "start_time": "2024-05-01T09:18:12.238Z"
   },
   {
    "duration": 12825,
    "start_time": "2024-05-01T09:20:00.043Z"
   },
   {
    "duration": 12581,
    "start_time": "2024-05-01T09:20:18.937Z"
   },
   {
    "duration": 12721,
    "start_time": "2024-05-01T09:20:44.464Z"
   },
   {
    "duration": 38,
    "start_time": "2024-05-01T09:24:01.529Z"
   },
   {
    "duration": 75,
    "start_time": "2024-05-01T09:24:43.626Z"
   },
   {
    "duration": 36,
    "start_time": "2024-05-01T09:24:54.449Z"
   },
   {
    "duration": 38305,
    "start_time": "2024-05-01T09:25:14.014Z"
   },
   {
    "duration": 4,
    "start_time": "2024-05-01T09:26:13.298Z"
   },
   {
    "duration": 7,
    "start_time": "2024-05-01T09:26:16.875Z"
   },
   {
    "duration": 40,
    "start_time": "2024-05-01T09:29:19.346Z"
   },
   {
    "duration": 4,
    "start_time": "2024-05-01T09:29:43.359Z"
   },
   {
    "duration": 12,
    "start_time": "2024-05-01T09:49:30.367Z"
   },
   {
    "duration": 11,
    "start_time": "2024-05-01T09:49:36.698Z"
   },
   {
    "duration": 9,
    "start_time": "2024-05-01T09:49:40.350Z"
   },
   {
    "duration": 10,
    "start_time": "2024-05-01T09:50:50.354Z"
   },
   {
    "duration": 6,
    "start_time": "2024-05-01T09:51:15.795Z"
   },
   {
    "duration": 8,
    "start_time": "2024-05-01T09:51:17.985Z"
   },
   {
    "duration": 0,
    "start_time": "2024-05-01T09:51:39.694Z"
   },
   {
    "duration": 3796,
    "start_time": "2024-05-01T09:52:12.376Z"
   },
   {
    "duration": 7,
    "start_time": "2024-05-01T09:52:26.487Z"
   },
   {
    "duration": 6,
    "start_time": "2024-05-01T09:52:27.913Z"
   },
   {
    "duration": 39,
    "start_time": "2024-05-01T09:52:28.679Z"
   },
   {
    "duration": 61421,
    "start_time": "2024-05-01T09:52:29.434Z"
   },
   {
    "duration": 92,
    "start_time": "2024-05-01T10:03:36.611Z"
   },
   {
    "duration": 35376,
    "start_time": "2024-05-01T10:03:43.702Z"
   },
   {
    "duration": 29166,
    "start_time": "2024-05-01T10:05:05.168Z"
   },
   {
    "duration": 30528,
    "start_time": "2024-05-01T10:07:48.130Z"
   },
   {
    "duration": 27789,
    "start_time": "2024-05-01T10:08:23.096Z"
   },
   {
    "duration": 27817,
    "start_time": "2024-05-01T10:09:14.478Z"
   },
   {
    "duration": 5,
    "start_time": "2024-05-01T10:13:21.706Z"
   },
   {
    "duration": 11,
    "start_time": "2024-05-01T10:13:41.882Z"
   },
   {
    "duration": 70744,
    "start_time": "2024-05-01T10:13:56.792Z"
   },
   {
    "duration": 22,
    "start_time": "2024-05-01T10:17:30.947Z"
   },
   {
    "duration": 154909,
    "start_time": "2024-05-01T10:50:03.088Z"
   },
   {
    "duration": 172751,
    "start_time": "2024-05-01T10:53:22.557Z"
   },
   {
    "duration": 193131,
    "start_time": "2024-05-01T10:56:59.645Z"
   },
   {
    "duration": 28,
    "start_time": "2024-05-01T11:11:19.103Z"
   },
   {
    "duration": 1931,
    "start_time": "2024-05-01T11:11:51.261Z"
   },
   {
    "duration": 9395,
    "start_time": "2024-05-01T11:14:18.453Z"
   },
   {
    "duration": 28,
    "start_time": "2024-05-01T11:15:29.574Z"
   },
   {
    "duration": 21,
    "start_time": "2024-05-01T11:15:48.275Z"
   },
   {
    "duration": 9054,
    "start_time": "2024-05-01T11:16:06.846Z"
   },
   {
    "duration": 8194,
    "start_time": "2024-05-01T11:17:21.181Z"
   },
   {
    "duration": 274431,
    "start_time": "2024-05-01T11:17:45.972Z"
   },
   {
    "duration": 7,
    "start_time": "2024-05-01T11:23:12.549Z"
   },
   {
    "duration": 6,
    "start_time": "2024-05-01T11:23:13.956Z"
   },
   {
    "duration": 36,
    "start_time": "2024-05-01T11:23:14.490Z"
   },
   {
    "duration": 28545,
    "start_time": "2024-05-01T11:23:15.340Z"
   },
   {
    "duration": 158598,
    "start_time": "2024-05-01T11:23:43.887Z"
   },
   {
    "duration": 220878,
    "start_time": "2024-05-01T11:26:22.487Z"
   },
   {
    "duration": 0,
    "start_time": "2024-05-01T11:30:03.367Z"
   },
   {
    "duration": 46,
    "start_time": "2024-05-01T11:59:30.760Z"
   },
   {
    "duration": 9,
    "start_time": "2024-05-01T11:59:31.591Z"
   },
   {
    "duration": 4451,
    "start_time": "2024-05-01T11:59:40.124Z"
   },
   {
    "duration": 184,
    "start_time": "2024-05-01T11:59:44.577Z"
   },
   {
    "duration": 747,
    "start_time": "2024-05-01T11:59:44.763Z"
   },
   {
    "duration": 8,
    "start_time": "2024-05-01T11:59:45.511Z"
   },
   {
    "duration": 47,
    "start_time": "2024-05-01T11:59:45.520Z"
   },
   {
    "duration": 23,
    "start_time": "2024-05-01T11:59:45.569Z"
   },
   {
    "duration": 130,
    "start_time": "2024-05-01T11:59:45.593Z"
   },
   {
    "duration": 8,
    "start_time": "2024-05-01T11:59:45.724Z"
   },
   {
    "duration": 26,
    "start_time": "2024-05-01T11:59:45.733Z"
   },
   {
    "duration": 210,
    "start_time": "2024-05-01T11:59:45.760Z"
   },
   {
    "duration": 15,
    "start_time": "2024-05-01T11:59:45.971Z"
   },
   {
    "duration": 33,
    "start_time": "2024-05-01T11:59:45.987Z"
   },
   {
    "duration": 74,
    "start_time": "2024-05-01T11:59:46.022Z"
   },
   {
    "duration": 28495,
    "start_time": "2024-05-01T11:59:46.099Z"
   },
   {
    "duration": 63614,
    "start_time": "2024-05-01T12:00:14.595Z"
   },
   {
    "duration": 2225646,
    "start_time": "2024-05-01T12:01:18.211Z"
   },
   {
    "duration": 9742,
    "start_time": "2024-05-01T12:38:27.555Z"
   },
   {
    "duration": 5,
    "start_time": "2024-05-01T12:44:21.063Z"
   },
   {
    "duration": 51,
    "start_time": "2024-05-01T12:44:21.069Z"
   },
   {
    "duration": 697,
    "start_time": "2024-05-01T12:44:21.122Z"
   },
   {
    "duration": 8,
    "start_time": "2024-05-01T12:44:21.820Z"
   },
   {
    "duration": 16,
    "start_time": "2024-05-01T12:44:21.829Z"
   },
   {
    "duration": 14,
    "start_time": "2024-05-01T12:44:21.847Z"
   },
   {
    "duration": 129,
    "start_time": "2024-05-01T12:44:21.862Z"
   },
   {
    "duration": 7,
    "start_time": "2024-05-01T12:44:21.993Z"
   },
   {
    "duration": 23,
    "start_time": "2024-05-01T12:44:22.002Z"
   },
   {
    "duration": 216,
    "start_time": "2024-05-01T12:44:22.026Z"
   },
   {
    "duration": 8,
    "start_time": "2024-05-01T12:44:22.243Z"
   },
   {
    "duration": 25,
    "start_time": "2024-05-01T12:44:22.253Z"
   },
   {
    "duration": 57,
    "start_time": "2024-05-01T12:44:22.279Z"
   },
   {
    "duration": 32074,
    "start_time": "2024-05-01T12:44:22.339Z"
   },
   {
    "duration": 66236,
    "start_time": "2024-05-01T12:44:54.415Z"
   },
   {
    "duration": 5804359,
    "start_time": "2024-05-01T12:46:00.652Z"
   },
   {
    "duration": 64670,
    "start_time": "2024-05-01T16:27:52.815Z"
   },
   {
    "duration": 58452,
    "start_time": "2024-05-01T16:29:08.792Z"
   },
   {
    "duration": 27,
    "start_time": "2024-05-01T16:30:07.943Z"
   },
   {
    "duration": 21,
    "start_time": "2024-05-01T16:36:26.594Z"
   },
   {
    "duration": 19,
    "start_time": "2024-05-01T16:37:02.891Z"
   },
   {
    "duration": 16,
    "start_time": "2024-05-01T16:37:48.621Z"
   },
   {
    "duration": 13,
    "start_time": "2024-05-01T16:37:51.024Z"
   },
   {
    "duration": 13,
    "start_time": "2024-05-01T16:37:54.799Z"
   },
   {
    "duration": 12,
    "start_time": "2024-05-01T16:38:07.124Z"
   },
   {
    "duration": 22,
    "start_time": "2024-05-01T16:38:09.199Z"
   },
   {
    "duration": 21,
    "start_time": "2024-05-01T16:38:17.647Z"
   },
   {
    "duration": 16,
    "start_time": "2024-05-01T16:41:21.766Z"
   },
   {
    "duration": 69,
    "start_time": "2024-05-01T16:43:30.755Z"
   },
   {
    "duration": 13,
    "start_time": "2024-05-01T16:43:36.879Z"
   },
   {
    "duration": 8,
    "start_time": "2024-05-01T16:43:41.122Z"
   },
   {
    "duration": 7,
    "start_time": "2024-05-01T16:44:16.581Z"
   },
   {
    "duration": 8,
    "start_time": "2024-05-01T16:44:18.353Z"
   },
   {
    "duration": 9,
    "start_time": "2024-05-01T16:44:41.834Z"
   },
   {
    "duration": 9,
    "start_time": "2024-05-01T16:44:59.590Z"
   },
   {
    "duration": 11,
    "start_time": "2024-05-01T16:45:03.530Z"
   },
   {
    "duration": 9,
    "start_time": "2024-05-01T16:45:10.599Z"
   },
   {
    "duration": 10,
    "start_time": "2024-05-01T16:45:16.963Z"
   },
   {
    "duration": 33,
    "start_time": "2024-05-01T16:45:26.735Z"
   },
   {
    "duration": 24,
    "start_time": "2024-05-01T16:45:41.486Z"
   },
   {
    "duration": 6948,
    "start_time": "2024-05-03T08:47:18.083Z"
   },
   {
    "duration": 1838,
    "start_time": "2024-05-03T08:47:30.675Z"
   },
   {
    "duration": 195,
    "start_time": "2024-05-03T08:47:32.515Z"
   },
   {
    "duration": 4,
    "start_time": "2024-05-03T08:48:26.335Z"
   },
   {
    "duration": 52,
    "start_time": "2024-05-03T08:48:32.244Z"
   },
   {
    "duration": 3485,
    "start_time": "2024-05-03T08:48:35.421Z"
   },
   {
    "duration": 10,
    "start_time": "2024-05-03T08:48:38.908Z"
   },
   {
    "duration": 51,
    "start_time": "2024-05-03T08:48:38.919Z"
   },
   {
    "duration": 25,
    "start_time": "2024-05-03T08:48:38.972Z"
   },
   {
    "duration": 157,
    "start_time": "2024-05-03T08:48:41.484Z"
   },
   {
    "duration": 11,
    "start_time": "2024-05-03T08:48:44.012Z"
   },
   {
    "duration": 30,
    "start_time": "2024-05-03T08:48:47.510Z"
   },
   {
    "duration": 253,
    "start_time": "2024-05-03T08:48:51.741Z"
   },
   {
    "duration": 13,
    "start_time": "2024-05-03T08:49:49.864Z"
   },
   {
    "duration": 8,
    "start_time": "2024-05-03T08:50:05.647Z"
   },
   {
    "duration": 57,
    "start_time": "2024-05-03T08:50:22.199Z"
   },
   {
    "duration": 21300,
    "start_time": "2024-05-03T08:51:36.616Z"
   },
   {
    "duration": 2527,
    "start_time": "2024-05-03T08:52:08.079Z"
   },
   {
    "duration": 19049,
    "start_time": "2024-05-03T08:52:16.056Z"
   },
   {
    "duration": 18749,
    "start_time": "2024-05-03T08:52:38.571Z"
   },
   {
    "duration": 18508,
    "start_time": "2024-05-03T08:53:16.608Z"
   },
   {
    "duration": 18629,
    "start_time": "2024-05-03T08:53:42.782Z"
   },
   {
    "duration": 2004,
    "start_time": "2024-05-03T08:56:52.391Z"
   },
   {
    "duration": 18414,
    "start_time": "2024-05-03T08:57:00.034Z"
   },
   {
    "duration": 2667,
    "start_time": "2024-05-03T09:00:50.603Z"
   },
   {
    "duration": 19033,
    "start_time": "2024-05-03T09:00:56.003Z"
   },
   {
    "duration": 18556,
    "start_time": "2024-05-03T09:02:39.020Z"
   },
   {
    "duration": 47285,
    "start_time": "2024-05-03T09:02:57.577Z"
   },
   {
    "duration": 0,
    "start_time": "2024-05-03T09:03:44.865Z"
   },
   {
    "duration": 19710,
    "start_time": "2024-05-03T09:07:36.909Z"
   },
   {
    "duration": 61452,
    "start_time": "2024-05-03T09:07:56.621Z"
   },
   {
    "duration": 19074,
    "start_time": "2024-05-03T09:08:58.075Z"
   },
   {
    "duration": 2608503,
    "start_time": "2024-05-03T09:15:58.809Z"
   },
   {
    "duration": 38,
    "start_time": "2024-05-03T11:02:15.906Z"
   },
   {
    "duration": 21,
    "start_time": "2024-05-03T11:05:10.415Z"
   },
   {
    "duration": 13,
    "start_time": "2024-05-03T11:05:19.702Z"
   },
   {
    "duration": 13,
    "start_time": "2024-05-03T11:06:47.407Z"
   },
   {
    "duration": 6,
    "start_time": "2024-05-03T11:07:47.107Z"
   },
   {
    "duration": 48,
    "start_time": "2024-05-03T11:07:52.408Z"
   },
   {
    "duration": 48,
    "start_time": "2024-05-03T11:13:27.130Z"
   },
   {
    "duration": 7,
    "start_time": "2024-05-03T11:13:35.913Z"
   },
   {
    "duration": 56,
    "start_time": "2024-05-03T11:13:37.466Z"
   },
   {
    "duration": 77,
    "start_time": "2024-05-03T11:15:07.043Z"
   },
   {
    "duration": 97,
    "start_time": "2024-05-03T11:15:16.602Z"
   },
   {
    "duration": 7,
    "start_time": "2024-05-03T11:15:24.033Z"
   },
   {
    "duration": 22,
    "start_time": "2024-05-03T11:15:26.115Z"
   },
   {
    "duration": 86,
    "start_time": "2024-05-03T12:22:20.630Z"
   },
   {
    "duration": 69,
    "start_time": "2024-05-03T12:22:27.533Z"
   },
   {
    "duration": 18,
    "start_time": "2024-05-03T12:22:52.086Z"
   },
   {
    "duration": 11,
    "start_time": "2024-05-03T12:23:01.078Z"
   },
   {
    "duration": 14482,
    "start_time": "2024-05-03T12:24:09.360Z"
   },
   {
    "duration": 2747,
    "start_time": "2024-05-03T12:25:13.458Z"
   },
   {
    "duration": 15612,
    "start_time": "2024-05-03T12:25:16.448Z"
   },
   {
    "duration": 2096,
    "start_time": "2024-05-03T12:25:52.491Z"
   },
   {
    "duration": 0,
    "start_time": "2024-05-03T12:25:54.589Z"
   },
   {
    "duration": 17850,
    "start_time": "2024-05-03T12:26:06.652Z"
   },
   {
    "duration": 0,
    "start_time": "2024-05-03T12:26:24.504Z"
   },
   {
    "duration": 18337,
    "start_time": "2024-05-03T12:27:04.173Z"
   },
   {
    "duration": 0,
    "start_time": "2024-05-03T12:27:22.512Z"
   },
   {
    "duration": 21767,
    "start_time": "2024-05-03T12:27:47.342Z"
   },
   {
    "duration": 34163,
    "start_time": "2024-05-03T12:28:09.111Z"
   },
   {
    "duration": 55381,
    "start_time": "2024-05-03T12:38:37.781Z"
   },
   {
    "duration": 26,
    "start_time": "2024-05-03T14:14:13.132Z"
   },
   {
    "duration": 140663,
    "start_time": "2024-05-03T14:14:36.742Z"
   },
   {
    "duration": 80816,
    "start_time": "2024-05-03T14:33:23.890Z"
   },
   {
    "duration": 89,
    "start_time": "2024-05-03T14:34:44.708Z"
   },
   {
    "duration": 68965,
    "start_time": "2024-05-03T14:35:04.410Z"
   },
   {
    "duration": 89,
    "start_time": "2024-05-03T14:44:43.699Z"
   },
   {
    "duration": 2206,
    "start_time": "2024-05-03T14:45:08.198Z"
   },
   {
    "duration": 277,
    "start_time": "2024-05-03T14:45:10.406Z"
   },
   {
    "duration": 957,
    "start_time": "2024-05-03T14:45:10.685Z"
   },
   {
    "duration": 10,
    "start_time": "2024-05-03T14:45:11.644Z"
   },
   {
    "duration": 31,
    "start_time": "2024-05-03T14:45:11.660Z"
   },
   {
    "duration": 23,
    "start_time": "2024-05-03T14:45:11.692Z"
   },
   {
    "duration": 167,
    "start_time": "2024-05-03T14:45:11.716Z"
   },
   {
    "duration": 11,
    "start_time": "2024-05-03T14:45:11.885Z"
   },
   {
    "duration": 28,
    "start_time": "2024-05-03T14:45:11.898Z"
   },
   {
    "duration": 273,
    "start_time": "2024-05-03T14:45:11.928Z"
   },
   {
    "duration": 10,
    "start_time": "2024-05-03T14:45:12.203Z"
   },
   {
    "duration": 19,
    "start_time": "2024-05-03T14:45:12.214Z"
   },
   {
    "duration": 71,
    "start_time": "2024-05-03T14:45:12.234Z"
   },
   {
    "duration": 19980,
    "start_time": "2024-05-03T14:45:12.308Z"
   },
   {
    "duration": 61990,
    "start_time": "2024-05-03T14:45:32.289Z"
   },
   {
    "duration": 2582724,
    "start_time": "2024-05-03T14:46:34.281Z"
   },
   {
    "duration": 36,
    "start_time": "2024-05-03T15:29:37.007Z"
   },
   {
    "duration": 52618,
    "start_time": "2024-05-03T15:29:37.045Z"
   },
   {
    "duration": 69368,
    "start_time": "2024-05-03T15:30:29.665Z"
   },
   {
    "duration": 787,
    "start_time": "2024-05-04T10:48:33.100Z"
   },
   {
    "duration": 4392,
    "start_time": "2024-05-04T10:48:38.196Z"
   },
   {
    "duration": 1378,
    "start_time": "2024-05-04T10:53:15.619Z"
   },
   {
    "duration": 223,
    "start_time": "2024-05-04T10:53:17.968Z"
   },
   {
    "duration": 2102,
    "start_time": "2024-05-04T10:53:22.422Z"
   },
   {
    "duration": 8,
    "start_time": "2024-05-04T10:53:24.525Z"
   },
   {
    "duration": 33,
    "start_time": "2024-05-04T10:53:24.534Z"
   },
   {
    "duration": 15,
    "start_time": "2024-05-04T10:53:26.590Z"
   },
   {
    "duration": 119,
    "start_time": "2024-05-04T10:53:27.837Z"
   },
   {
    "duration": 7,
    "start_time": "2024-05-04T10:53:28.805Z"
   },
   {
    "duration": 22,
    "start_time": "2024-05-04T10:53:29.285Z"
   },
   {
    "duration": 213,
    "start_time": "2024-05-04T10:53:29.957Z"
   },
   {
    "duration": 2125,
    "start_time": "2024-05-04T11:01:02.446Z"
   },
   {
    "duration": 6,
    "start_time": "2024-05-04T11:01:14.950Z"
   },
   {
    "duration": 334,
    "start_time": "2024-05-04T11:03:31.797Z"
   },
   {
    "duration": 7185,
    "start_time": "2024-05-04T11:03:55.270Z"
   },
   {
    "duration": 3585,
    "start_time": "2024-05-04T11:04:07.891Z"
   },
   {
    "duration": 238,
    "start_time": "2024-05-04T11:04:11.478Z"
   },
   {
    "duration": 741,
    "start_time": "2024-05-04T11:04:11.719Z"
   },
   {
    "duration": 8,
    "start_time": "2024-05-04T11:04:12.462Z"
   },
   {
    "duration": 32,
    "start_time": "2024-05-04T11:04:12.472Z"
   },
   {
    "duration": 17,
    "start_time": "2024-05-04T11:04:12.505Z"
   },
   {
    "duration": 128,
    "start_time": "2024-05-04T11:04:12.523Z"
   },
   {
    "duration": 7,
    "start_time": "2024-05-04T11:04:13.702Z"
   },
   {
    "duration": 26,
    "start_time": "2024-05-04T11:04:14.806Z"
   },
   {
    "duration": 214,
    "start_time": "2024-05-04T11:04:15.190Z"
   },
   {
    "duration": 330,
    "start_time": "2024-05-04T11:04:19.622Z"
   },
   {
    "duration": 425,
    "start_time": "2024-05-04T11:04:39.511Z"
   },
   {
    "duration": 509,
    "start_time": "2024-05-04T11:05:33.431Z"
   },
   {
    "duration": 364,
    "start_time": "2024-05-04T11:05:36.109Z"
   },
   {
    "duration": 4,
    "start_time": "2024-05-04T11:05:43.478Z"
   },
   {
    "duration": 1499,
    "start_time": "2024-05-04T11:13:43.672Z"
   },
   {
    "duration": 104,
    "start_time": "2024-05-04T11:16:13.339Z"
   },
   {
    "duration": 387,
    "start_time": "2024-05-04T11:16:19.273Z"
   },
   {
    "duration": 366,
    "start_time": "2024-05-04T11:16:41.217Z"
   },
   {
    "duration": 389,
    "start_time": "2024-05-04T11:16:49.889Z"
   },
   {
    "duration": 39,
    "start_time": "2024-05-04T11:30:22.626Z"
   },
   {
    "duration": 195,
    "start_time": "2024-05-04T11:39:11.405Z"
   },
   {
    "duration": 639,
    "start_time": "2024-05-04T11:39:34.028Z"
   },
   {
    "duration": 6,
    "start_time": "2024-05-04T11:39:36.630Z"
   },
   {
    "duration": 218,
    "start_time": "2024-05-04T11:39:45.396Z"
   },
   {
    "duration": 13,
    "start_time": "2024-05-04T11:40:13.300Z"
   },
   {
    "duration": 14,
    "start_time": "2024-05-04T11:40:21.604Z"
   },
   {
    "duration": 8,
    "start_time": "2024-05-04T11:40:26.935Z"
   },
   {
    "duration": 12,
    "start_time": "2024-05-04T11:40:28.836Z"
   },
   {
    "duration": 3479,
    "start_time": "2024-05-04T11:45:19.442Z"
   },
   {
    "duration": 657,
    "start_time": "2024-05-04T11:45:22.923Z"
   },
   {
    "duration": 720,
    "start_time": "2024-05-04T11:45:23.582Z"
   },
   {
    "duration": 21,
    "start_time": "2024-05-04T11:45:24.303Z"
   },
   {
    "duration": 34,
    "start_time": "2024-05-04T11:45:24.326Z"
   },
   {
    "duration": 16,
    "start_time": "2024-05-04T11:45:24.361Z"
   },
   {
    "duration": 116,
    "start_time": "2024-05-04T11:45:24.378Z"
   },
   {
    "duration": 11,
    "start_time": "2024-05-04T11:45:24.495Z"
   },
   {
    "duration": 31,
    "start_time": "2024-05-04T11:45:24.507Z"
   },
   {
    "duration": 204,
    "start_time": "2024-05-04T11:45:24.539Z"
   },
   {
    "duration": 11,
    "start_time": "2024-05-04T11:45:24.746Z"
   },
   {
    "duration": 7,
    "start_time": "2024-05-04T11:45:27.349Z"
   },
   {
    "duration": 35,
    "start_time": "2024-05-04T11:45:28.413Z"
   },
   {
    "duration": 6,
    "start_time": "2024-05-04T11:51:51.869Z"
   },
   {
    "duration": 601,
    "start_time": "2024-05-04T11:52:48.081Z"
   },
   {
    "duration": 13,
    "start_time": "2024-05-04T11:53:06.726Z"
   },
   {
    "duration": 9,
    "start_time": "2024-05-04T11:53:08.752Z"
   },
   {
    "duration": 294,
    "start_time": "2024-05-04T11:53:09.752Z"
   },
   {
    "duration": 3467,
    "start_time": "2024-05-04T11:53:15.897Z"
   },
   {
    "duration": 572,
    "start_time": "2024-05-04T11:53:19.366Z"
   },
   {
    "duration": 776,
    "start_time": "2024-05-04T11:53:19.939Z"
   },
   {
    "duration": 9,
    "start_time": "2024-05-04T11:53:20.716Z"
   },
   {
    "duration": 29,
    "start_time": "2024-05-04T11:53:20.727Z"
   },
   {
    "duration": 19,
    "start_time": "2024-05-04T11:53:20.758Z"
   },
   {
    "duration": 153,
    "start_time": "2024-05-04T11:53:20.779Z"
   },
   {
    "duration": 7,
    "start_time": "2024-05-04T11:53:20.934Z"
   },
   {
    "duration": 20,
    "start_time": "2024-05-04T11:53:20.943Z"
   },
   {
    "duration": 236,
    "start_time": "2024-05-04T11:53:20.965Z"
   },
   {
    "duration": 10,
    "start_time": "2024-05-04T11:53:21.203Z"
   },
   {
    "duration": 23,
    "start_time": "2024-05-04T11:53:21.214Z"
   },
   {
    "duration": 42,
    "start_time": "2024-05-04T11:53:21.240Z"
   },
   {
    "duration": 632310,
    "start_time": "2024-05-04T11:53:21.283Z"
   },
   {
    "duration": 19,
    "start_time": "2024-05-04T12:03:53.595Z"
   },
   {
    "duration": 191504,
    "start_time": "2024-05-04T12:06:24.101Z"
   },
   {
    "duration": 15767931,
    "start_time": "2024-05-04T12:12:02.659Z"
   },
   {
    "duration": 28,
    "start_time": "2024-05-04T16:34:50.591Z"
   },
   {
    "duration": 316668,
    "start_time": "2024-05-04T16:34:50.620Z"
   },
   {
    "duration": 795075,
    "start_time": "2024-05-04T16:40:07.290Z"
   }
  ],
  "kernelspec": {
   "display_name": "Python 3 (ipykernel)",
   "language": "python",
   "name": "python3"
  },
  "language_info": {
   "codemirror_mode": {
    "name": "ipython",
    "version": 3
   },
   "file_extension": ".py",
   "mimetype": "text/x-python",
   "name": "python",
   "nbconvert_exporter": "python",
   "pygments_lexer": "ipython3",
   "version": "3.9.5"
  },
  "toc": {
   "base_numbering": 1,
   "nav_menu": {},
   "number_sections": true,
   "sideBar": true,
   "skip_h1_title": true,
   "title_cell": "Содержание",
   "title_sidebar": "Contents",
   "toc_cell": true,
   "toc_position": {
    "height": "calc(100% - 180px)",
    "left": "10px",
    "top": "150px",
    "width": "165px"
   },
   "toc_section_display": true,
   "toc_window_display": true
  }
 },
 "nbformat": 4,
 "nbformat_minor": 2
}
